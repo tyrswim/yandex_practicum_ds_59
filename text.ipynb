{
 "cells": [
  {
   "cell_type": "markdown",
   "metadata": {},
   "source": [
    "<div style=\"border:solid green 2px; padding: 20px\">\n",
    "<b>Привет, Антон!</b>\n",
    "\n",
    "Меня зовут Александр, и я буду проверять твой проект. Предлагаю общаться на «ты» :) Но если это не удобно - дай знать, и мы перейдем на \"вы\". \n",
    "\n",
    "Моя основная цель — не указать на совершенные тобою ошибки, а поделиться своим опытом и помочь тебе стать data science. Ты уже проделал большую работу над проектом, но давай сделаем его еще лучше. Ниже ты найдешь мои комментарии - **пожалуйста, не перемещай, не изменяй и не удаляй их**. Увидев у тебя ошибку, в первый раз я лишь укажу на ее наличие и дам тебе возможность самой найти и исправить ее. На реальной работе твой начальник будет поступать так же, а я пытаюсь подготовить тебя именно к работе аналитиком. Но если ты пока не справишься с такой задачей - при следующей проверке я дам более точную подсказку. Я буду использовать цветовую разметку:\n",
    "\n",
    "<div class=\"alert alert-danger\">\n",
    "<b>Комментарий ревьюера ❌:</b> Так выделены самые важные замечания. Без их отработки проект не будет принят. </div>\n",
    "\n",
    "<div class=\"alert alert-warning\">\n",
    "<b>Комментарий ревьюера ⚠️:</b> Так выделены небольшие замечания. Я надеюсь, что их ты тоже учтешь - твой проект от этого станет только лучше. Но настаивать на их отработке не буду.\n",
    "\n",
    "</div>\n",
    "\n",
    "<div class=\"alert alert-success\">\n",
    "<b>Комментарий ревьюера ✔️:</b> Так я выделяю все остальные комментарии.</div>\n",
    "\n",
    "Давай работать над проектом в диалоге: **если ты что-то меняешь в проекте или отвечаешь на мои комменатри — пиши об этом.** Мне будет легче отследить изменения, если ты выделишь свои комментарии:\n",
    "<div class=\"alert alert-info\"> <b>Комментарий студента:</b> Например, вот так.</div>\n",
    "\n",
    "Всё это поможет выполнить повторную проверку твоего проекта оперативнее. "
   ]
  },
  {
   "cell_type": "markdown",
   "metadata": {
    "toc": true
   },
   "source": [
    "<h1>Содержание<span class=\"tocSkip\"></span></h1>\n",
    "<div class=\"toc\"><ul class=\"toc-item\"><li><span><a href=\"#Подготовка\" data-toc-modified-id=\"Подготовка-1\"><span class=\"toc-item-num\">1&nbsp;&nbsp;</span>Подготовка</a></span></li><li><span><a href=\"#Обучение\" data-toc-modified-id=\"Обучение-2\"><span class=\"toc-item-num\">2&nbsp;&nbsp;</span>Обучение</a></span></li></ul></div>"
   ]
  },
  {
   "cell_type": "markdown",
   "metadata": {},
   "source": [
    "# Проект для «Викишоп»"
   ]
  },
  {
   "cell_type": "markdown",
   "metadata": {},
   "source": [
    "Интернет-магазин «Викишоп» запускает новый сервис. Теперь пользователи могут редактировать и дополнять описания товаров, как в вики-сообществах. То есть клиенты предлагают свои правки и комментируют изменения других. Магазину нужен инструмент, который будет искать токсичные комментарии и отправлять их на модерацию. \n",
    "\n",
    "Обучите модель классифицировать комментарии на позитивные и негативные. В вашем распоряжении набор данных с разметкой о токсичности правок.\n",
    "\n",
    "Постройте модель со значением метрики качества *F1* не меньше 0.75. \n",
    "\n",
    "**Инструкция по выполнению проекта**\n",
    "\n",
    "1. Загрузите и подготовьте данные.\n",
    "2. Обучите разные модели. \n",
    "3. Сделайте выводы.\n",
    "\n",
    "Для выполнения проекта применять *BERT* необязательно, но вы можете попробовать.\n",
    "\n",
    "**Описание данных**\n",
    "\n",
    "Данные находятся в файле `toxic_comments.csv`. Столбец *text* в нём содержит текст комментария, а *toxic* — целевой признак."
   ]
  },
  {
   "cell_type": "markdown",
   "metadata": {},
   "source": [
    "## Подготовка"
   ]
  },
  {
   "cell_type": "code",
   "execution_count": 1,
   "metadata": {},
   "outputs": [],
   "source": [
    "import numpy as np\n",
    "import pandas as pd\n",
    "import re\n",
    "from nltk.stem import WordNetLemmatizer\n",
    "from nltk.corpus import stopwords as nltk_stopwords\n",
    "from sklearn.feature_extraction.text import TfidfVectorizer\n",
    "from sklearn.model_selection import train_test_split, cross_val_score, GridSearchCV\n",
    "from sklearn.linear_model import LogisticRegression, SGDClassifier\n",
    "from sklearn.tree import DecisionTreeClassifier\n",
    "from catboost import CatBoostClassifier\n",
    "from sklearn.metrics import f1_score, precision_score, recall_score, accuracy_score, roc_auc_score, roc_curve\n",
    "from sklearn.utils import shuffle\n",
    "import matplotlib.pyplot as plt\n",
    "import warnings\n",
    "warnings.filterwarnings('ignore')\n",
    "\n",
    "\n",
    "from tqdm.notebook import tqdm\n",
    "import nltk\n",
    "from nltk.stem import WordNetLemmatizer \n",
    "from nltk.corpus import stopwords as nltk_stopwords"
   ]
  },
  {
   "cell_type": "code",
   "execution_count": 2,
   "metadata": {},
   "outputs": [],
   "source": [
    " df = pd.read_csv('/datasets/toxic_comments.csv')"
   ]
  },
  {
   "cell_type": "markdown",
   "metadata": {},
   "source": [
    "<div class=\"alert alert-success\">\n",
    "<b>Комментарий ревьюера ✔️:</b> Огонь, данные на месте:)</div>"
   ]
  },
  {
   "cell_type": "markdown",
   "metadata": {},
   "source": [
    "Изучим данные"
   ]
  },
  {
   "cell_type": "code",
   "execution_count": 3,
   "metadata": {},
   "outputs": [
    {
     "name": "stdout",
     "output_type": "stream",
     "text": [
      "<class 'pandas.core.frame.DataFrame'>\n",
      "RangeIndex: 159292 entries, 0 to 159291\n",
      "Data columns (total 3 columns):\n",
      " #   Column      Non-Null Count   Dtype \n",
      "---  ------      --------------   ----- \n",
      " 0   Unnamed: 0  159292 non-null  int64 \n",
      " 1   text        159292 non-null  object\n",
      " 2   toxic       159292 non-null  int64 \n",
      "dtypes: int64(2), object(1)\n",
      "memory usage: 3.6+ MB\n",
      "   Unnamed: 0                                               text  toxic\n",
      "0           0  Explanation\\nWhy the edits made under my usern...      0\n",
      "1           1  D'aww! He matches this background colour I'm s...      0\n",
      "2           2  Hey man, I'm really not trying to edit war. It...      0\n",
      "3           3  \"\\nMore\\nI can't make any real suggestions on ...      0\n",
      "4           4  You, sir, are my hero. Any chance you remember...      0\n",
      "5           5  \"\\n\\nCongratulations from me as well, use the ...      0\n",
      "6           6       COCKSUCKER BEFORE YOU PISS AROUND ON MY WORK      1\n",
      "7           7  Your vandalism to the Matt Shirvington article...      0\n",
      "8           8  Sorry if the word 'nonsense' was offensive to ...      0\n",
      "9           9  alignment on this subject and which are contra...      0\n",
      "Количество явных дубликтов: 0\n"
     ]
    }
   ],
   "source": [
    "df.info()\n",
    "print(df.head(10))\n",
    "print('Количество явных дубликтов:', df.duplicated().sum())"
   ]
  },
  {
   "cell_type": "code",
   "execution_count": 4,
   "metadata": {},
   "outputs": [],
   "source": [
    "def clear_text(text):\n",
    "    text = text.lower()  \n",
    "    clear_text  = re.sub(r\"(?:\\n|\\r)\", \" \", text)\n",
    "    clear_text = re.sub(r\"[^a-zA-Z ]+\", \"\", text).strip()\n",
    "    return clear_text"
   ]
  },
  {
   "cell_type": "code",
   "execution_count": 5,
   "metadata": {},
   "outputs": [
    {
     "name": "stdout",
     "output_type": "stream",
     "text": [
      "   Unnamed: 0                                               text  toxic  \\\n",
      "0           0  Explanation\\nWhy the edits made under my usern...      0   \n",
      "1           1  D'aww! He matches this background colour I'm s...      0   \n",
      "2           2  Hey man, I'm really not trying to edit war. It...      0   \n",
      "3           3  \"\\nMore\\nI can't make any real suggestions on ...      0   \n",
      "4           4  You, sir, are my hero. Any chance you remember...      0   \n",
      "5           5  \"\\n\\nCongratulations from me as well, use the ...      0   \n",
      "6           6       COCKSUCKER BEFORE YOU PISS AROUND ON MY WORK      1   \n",
      "7           7  Your vandalism to the Matt Shirvington article...      0   \n",
      "8           8  Sorry if the word 'nonsense' was offensive to ...      0   \n",
      "9           9  alignment on this subject and which are contra...      0   \n",
      "\n",
      "                                          clear_text  \n",
      "0  explanationwhy the edits made under my usernam...  \n",
      "1  daww he matches this background colour im seem...  \n",
      "2  hey man im really not trying to edit war its j...  \n",
      "3  morei cant make any real suggestions on improv...  \n",
      "4  you sir are my hero any chance you remember wh...  \n",
      "5  congratulations from me as well use the tools ...  \n",
      "6       cocksucker before you piss around on my work  \n",
      "7  your vandalism to the matt shirvington article...  \n",
      "8  sorry if the word nonsense was offensive to yo...  \n",
      "9  alignment on this subject and which are contra...  \n"
     ]
    }
   ],
   "source": [
    "df['clear_text'] = df['text'].apply(clear_text)\n",
    "print(df.head(10))"
   ]
  },
  {
   "cell_type": "markdown",
   "metadata": {},
   "source": [
    "Посмотрим сколько у нас токсичных/нектоксичных текстов"
   ]
  },
  {
   "cell_type": "code",
   "execution_count": 6,
   "metadata": {},
   "outputs": [
    {
     "data": {
      "text/plain": [
       "0    143106\n",
       "1     16186\n",
       "Name: toxic, dtype: int64"
      ]
     },
     "metadata": {},
     "output_type": "display_data"
    },
    {
     "data": {
      "text/plain": [
       "8.841344371679229"
      ]
     },
     "execution_count": 6,
     "metadata": {},
     "output_type": "execute_result"
    }
   ],
   "source": [
    "display(df['toxic'].value_counts())\n",
    "#Выведем соотношение\n",
    "class_ratio = df['toxic'].value_counts()[0] / df['toxic'].value_counts()[1]\n",
    "class_ratio"
   ]
  },
  {
   "cell_type": "code",
   "execution_count": 7,
   "metadata": {},
   "outputs": [
    {
     "data": {
      "text/plain": [
       "<AxesSubplot:>"
      ]
     },
     "execution_count": 7,
     "metadata": {},
     "output_type": "execute_result"
    },
    {
     "data": {
      "image/png": "[encoded data removed]",
      "text/plain": [
       "<Figure size 864x504 with 1 Axes>"
      ]
     },
     "metadata": {
      "needs_background": "light"
     },
     "output_type": "display_data"
    }
   ],
   "source": [
    "df['toxic'].value_counts().plot(\n",
    "    kind='bar',\n",
    "    stacked=True,\n",
    "    grid=True,\n",
    "    color='indigo',\n",
    "    width=0.9,\n",
    "    figsize=(12,7)\n",
    "    )"
   ]
  },
  {
   "cell_type": "markdown",
   "metadata": {},
   "source": [
    "Видим дисбаланс классов 90%-10%. "
   ]
  },
  {
   "cell_type": "markdown",
   "metadata": {},
   "source": [
    "Лемматизация и стоп слова"
   ]
  },
  {
   "cell_type": "code",
   "execution_count": 8,
   "metadata": {},
   "outputs": [
    {
     "name": "stderr",
     "output_type": "stream",
     "text": [
      "[nltk_data] Downloading package stopwords to /home/jovyan/nltk_data...\n",
      "[nltk_data]   Package stopwords is already up-to-date!\n"
     ]
    }
   ],
   "source": [
    "w_tokenizer = nltk.tokenize.WhitespaceTokenizer()\n",
    "lemmatizer = nltk.stem.WordNetLemmatizer()\n",
    "\n",
    "def lemmatize_text(text):\n",
    "    x = [lemmatizer.lemmatize(w) for w in w_tokenizer.tokenize(text)]\n",
    "    return \" \".join(x)\n",
    "\n",
    "tqdm.pandas()\n",
    "df['text_lemma'] = df['clear_text'].apply(lemmatize_text)\n",
    "\n",
    "nltk.download('stopwords')\n",
    "stopwords = set(nltk_stopwords.words('english'))\n",
    "\n",
    "count_tf_idf = TfidfVectorizer(stop_words=stopwords)\n",
    "\n"
   ]
  },
  {
   "cell_type": "markdown",
   "metadata": {},
   "source": [
    "<div class=\"alert alert-danger\">\n",
    "<b>Комментарий ревьюера ❌:</b> В данном случае проводишь лемматизацию по предложениям, а нужно по словам. Чтобы разбить предложения на слова можно воспользоваться nltk.word_tokenize(text)\n",
    "\n",
    "\n",
    "+  https://webdevblog.ru/podhody-lemmatizacii-s-primerami-v-python/\n",
    "\n",
    "</div>"
   ]
  },
  {
   "cell_type": "markdown",
   "metadata": {},
   "source": [
    "<div class=\"alert alert-success\">\n",
    "<b>Комментарий ревьюера V2✔️:</b> Хорошо:)</div>"
   ]
  },
  {
   "cell_type": "markdown",
   "metadata": {},
   "source": [
    "## Обучение"
   ]
  },
  {
   "cell_type": "markdown",
   "metadata": {},
   "source": [
    "Определяем признаки и целевой признак, разделяем датасет на выборки:"
   ]
  },
  {
   "cell_type": "code",
   "execution_count": 9,
   "metadata": {},
   "outputs": [],
   "source": [
    "target = df['toxic']\n",
    "features = df.drop(['toxic'], axis=1)\n",
    "\n",
    "features_train, features_test, target_train, target_test = train_test_split(features, \n",
    "                                                                              target, \n",
    "                                                                              test_size=0.2, \n",
    "                                                                              random_state=12345)\n",
    "\n",
    "features_train = count_tf_idf.fit_transform(features_train['text_lemma'])\n",
    "features_test = count_tf_idf.transform(features_test['text_lemma'])\n",
    "cv_counts=2"
   ]
  },
  {
   "cell_type": "markdown",
   "metadata": {},
   "source": [
    "Тест на адекватность моделей"
   ]
  },
  {
   "cell_type": "code",
   "execution_count": 10,
   "metadata": {},
   "outputs": [
    {
     "name": "stdout",
     "output_type": "stream",
     "text": [
      "0.1841032802302716\n"
     ]
    }
   ],
   "source": [
    "const_model = [1 for i in range(len(target_test))]\n",
    "const_f1 = f1_score(target_test.reset_index(drop=True), const_model)\n",
    "print(const_f1)\n"
   ]
  },
  {
   "cell_type": "markdown",
   "metadata": {},
   "source": [
    "Логистическая регрессия"
   ]
  },
  {
   "cell_type": "code",
   "execution_count": 11,
   "metadata": {},
   "outputs": [
    {
     "name": "stdout",
     "output_type": "stream",
     "text": [
      "# Tuning hyper-parameters for f1_score\n",
      "\n",
      "Best parameters set found on development set:\n",
      "\n",
      "{'C': 10, 'class_weight': 'balanced', 'solver': 'lbfgs'}\n",
      "\n",
      "Grid scores on development set:\n",
      "\n",
      "0.685525 for {'C': 0.1, 'class_weight': 'balanced', 'solver': 'newton-cg'}\n",
      "0.685525 for {'C': 0.1, 'class_weight': 'balanced', 'solver': 'lbfgs'}\n",
      "0.685365 for {'C': 0.1, 'class_weight': 'balanced', 'solver': 'liblinear'}\n",
      "0.733152 for {'C': 1, 'class_weight': 'balanced', 'solver': 'newton-cg'}\n",
      "0.733177 for {'C': 1, 'class_weight': 'balanced', 'solver': 'lbfgs'}\n",
      "0.733171 for {'C': 1, 'class_weight': 'balanced', 'solver': 'liblinear'}\n",
      "0.753021 for {'C': 10, 'class_weight': 'balanced', 'solver': 'newton-cg'}\n",
      "0.753097 for {'C': 10, 'class_weight': 'balanced', 'solver': 'lbfgs'}\n",
      "0.753050 for {'C': 10, 'class_weight': 'balanced', 'solver': 'liblinear'}\n",
      "\n",
      "F1 на cv 0.753097437582278\n"
     ]
    }
   ],
   "source": [
    "classificator = LogisticRegression()\n",
    "hyperparams = [{'solver':['newton-cg', 'lbfgs', 'liblinear'],\n",
    "                'C':[0.1, 1, 10],\n",
    "                'class_weight':['balanced']}]\n",
    "\n",
    "\n",
    "print('# Tuning hyper-parameters for f1_score')\n",
    "print()\n",
    "clf = GridSearchCV(classificator, hyperparams, scoring='f1',cv=cv_counts)\n",
    "clf.fit(features_train, target_train)\n",
    "print(\"Best parameters set found on development set:\")\n",
    "print()\n",
    "LR_best_params = clf.best_params_\n",
    "print(LR_best_params)\n",
    "print()\n",
    "print(\"Grid scores on development set:\")\n",
    "print()\n",
    "means = clf.cv_results_['mean_test_score']\n",
    "stds = clf.cv_results_['std_test_score']\n",
    "for mean, std, params in zip(means, stds, clf.cv_results_['params']):\n",
    "    print(\"%0.6f for %r\"% (mean, params))\n",
    "print()\n",
    "\n",
    "cv_f1_LR = max(means)\n",
    "print('F1 на cv', cv_f1_LR)\n"
   ]
  },
  {
   "cell_type": "markdown",
   "metadata": {},
   "source": [
    "<div class=\"alert alert-success\">\n",
    "<b>Комментарий ревьюера V2✔️:</b> Молодец, что смог побить нужное значение метрики на кросс валидации:)</div>"
   ]
  },
  {
   "cell_type": "markdown",
   "metadata": {},
   "source": [
    "Деревья"
   ]
  },
  {
   "cell_type": "code",
   "execution_count": 12,
   "metadata": {},
   "outputs": [
    {
     "name": "stdout",
     "output_type": "stream",
     "text": [
      "# Tuning hyper-parameters for f1_score\n",
      "\n",
      "Best parameters set found on development set:\n",
      "\n",
      "{'class_weight': 'balanced', 'max_depth': 56, 'random_state': 1515}\n",
      "\n",
      "Grid scores on development set:\n",
      "\n",
      "0.581900 for {'class_weight': 'balanced', 'max_depth': 20, 'random_state': 1515}\n",
      "0.574353 for {'class_weight': 'balanced', 'max_depth': 22, 'random_state': 1515}\n",
      "0.573427 for {'class_weight': 'balanced', 'max_depth': 24, 'random_state': 1515}\n",
      "0.583418 for {'class_weight': 'balanced', 'max_depth': 26, 'random_state': 1515}\n",
      "0.586330 for {'class_weight': 'balanced', 'max_depth': 28, 'random_state': 1515}\n",
      "0.593532 for {'class_weight': 'balanced', 'max_depth': 30, 'random_state': 1515}\n",
      "0.589368 for {'class_weight': 'balanced', 'max_depth': 32, 'random_state': 1515}\n",
      "0.596162 for {'class_weight': 'balanced', 'max_depth': 34, 'random_state': 1515}\n",
      "0.594982 for {'class_weight': 'balanced', 'max_depth': 36, 'random_state': 1515}\n",
      "0.591485 for {'class_weight': 'balanced', 'max_depth': 38, 'random_state': 1515}\n",
      "0.594432 for {'class_weight': 'balanced', 'max_depth': 40, 'random_state': 1515}\n",
      "0.599713 for {'class_weight': 'balanced', 'max_depth': 42, 'random_state': 1515}\n",
      "0.603434 for {'class_weight': 'balanced', 'max_depth': 44, 'random_state': 1515}\n",
      "0.603163 for {'class_weight': 'balanced', 'max_depth': 46, 'random_state': 1515}\n",
      "0.601656 for {'class_weight': 'balanced', 'max_depth': 48, 'random_state': 1515}\n",
      "0.605631 for {'class_weight': 'balanced', 'max_depth': 50, 'random_state': 1515}\n",
      "0.608494 for {'class_weight': 'balanced', 'max_depth': 52, 'random_state': 1515}\n",
      "0.607682 for {'class_weight': 'balanced', 'max_depth': 54, 'random_state': 1515}\n",
      "0.610623 for {'class_weight': 'balanced', 'max_depth': 56, 'random_state': 1515}\n",
      "0.609067 for {'class_weight': 'balanced', 'max_depth': 58, 'random_state': 1515}\n",
      "\n",
      "F1 на cv 0.610623254108219\n"
     ]
    }
   ],
   "source": [
    "classificator = DecisionTreeClassifier()\n",
    "hyperparams = [{'max_depth':[x for x in range(20,60,2)],\n",
    "                'random_state':[1515],\n",
    "                'class_weight':['balanced']}]\n",
    "\n",
    "\n",
    "print('# Tuning hyper-parameters for f1_score')\n",
    "print()\n",
    "clf = GridSearchCV(classificator, hyperparams, scoring='f1',cv=cv_counts)\n",
    "clf.fit(features_train, target_train)\n",
    "print(\"Best parameters set found on development set:\")\n",
    "print()\n",
    "DTC_best_params = clf.best_params_\n",
    "print(DTC_best_params)\n",
    "print()\n",
    "print(\"Grid scores on development set:\")\n",
    "print()\n",
    "means = clf.cv_results_['mean_test_score']\n",
    "stds = clf.cv_results_['std_test_score']\n",
    "for mean, std, params in zip(means, stds, clf.cv_results_['params']):\n",
    "    print(\"%0.6f for %r\"% (mean, params))\n",
    "print()\n",
    "\n",
    "cv_f1_DTC = max(means)\n",
    "print('F1 на cv', cv_f1_DTC)\n",
    "              "
   ]
  },
  {
   "cell_type": "markdown",
   "metadata": {},
   "source": [
    "CatBoost"
   ]
  },
  {
   "cell_type": "code",
   "execution_count": 13,
   "metadata": {},
   "outputs": [
    {
     "name": "stdout",
     "output_type": "stream",
     "text": [
      "F1 на cv 0.7136012586231906\n"
     ]
    }
   ],
   "source": [
    "classificator = CatBoostClassifier(verbose=False, iterations=100)\n",
    "classificator.fit(features_train, target_train)\n",
    "target_predict = classificator.predict(features_test)\n",
    "cv_f1_CBC = cross_val_score(classificator,\n",
    "                                         features_train, \n",
    "                                         target_train, \n",
    "                                         cv=cv_counts, \n",
    "                                         scoring='f1').mean()\n",
    "\n",
    "print('F1 на cv', cv_f1_CBC)"
   ]
  },
  {
   "cell_type": "code",
   "execution_count": 14,
   "metadata": {},
   "outputs": [
    {
     "data": {
      "text/html": [
       "<div>\n",
       "<style scoped>\n",
       "    .dataframe tbody tr th:only-of-type {\n",
       "        vertical-align: middle;\n",
       "    }\n",
       "\n",
       "    .dataframe tbody tr th {\n",
       "        vertical-align: top;\n",
       "    }\n",
       "\n",
       "    .dataframe thead th {\n",
       "        text-align: right;\n",
       "    }\n",
       "</style>\n",
       "<table border=\"1\" class=\"dataframe\">\n",
       "  <thead>\n",
       "    <tr style=\"text-align: right;\">\n",
       "      <th></th>\n",
       "      <th>F1</th>\n",
       "    </tr>\n",
       "  </thead>\n",
       "  <tbody>\n",
       "    <tr>\n",
       "      <th>LogisticRegression</th>\n",
       "      <td>0.753097</td>\n",
       "    </tr>\n",
       "    <tr>\n",
       "      <th>DecisionTreeClassifier</th>\n",
       "      <td>0.610623</td>\n",
       "    </tr>\n",
       "    <tr>\n",
       "      <th>CatBoostClassifier</th>\n",
       "      <td>0.713601</td>\n",
       "    </tr>\n",
       "  </tbody>\n",
       "</table>\n",
       "</div>"
      ],
      "text/plain": [
       "                              F1\n",
       "LogisticRegression      0.753097\n",
       "DecisionTreeClassifier  0.610623\n",
       "CatBoostClassifier      0.713601"
      ]
     },
     "execution_count": 14,
     "metadata": {},
     "output_type": "execute_result"
    }
   ],
   "source": [
    "index = ['LogisticRegression',\n",
    "         'DecisionTreeClassifier',\n",
    "         'CatBoostClassifier']\n",
    "data = {'F1':[cv_f1_LR,\n",
    "                    cv_f1_DTC,\n",
    "                    cv_f1_CBC]}\n",
    "\n",
    "scores_data = pd.DataFrame(data=data, index=index)\n",
    "scores_data"
   ]
  },
  {
   "cell_type": "code",
   "execution_count": null,
   "metadata": {},
   "outputs": [],
   "source": [
    "\n",
    "model = LogisticRegression(C=10, class_weight='balanced', solver='lbfgs')\n",
    "model.fit(features_train, target_train)\n",
    "predict = model.predict(features_test)\n",
    "f1_score(target_test, predict)\n",
    "\n"
   ]
  },
  {
   "cell_type": "markdown",
   "metadata": {},
   "source": [
    "<div class=\"alert alert-danger\">\n",
    "<b>Комментарий ревьюера V2❌:</b> Необходимо на тесте побить нужное значение метрики. У тебя получилось небольшое значение , так как просто использовать дефолтную LogisticRegression, а не подобранную. \n",
    "    \n",
    "    \n",
    "Лучшая модель получилась именно с такими гиперпараметрами:`{'C': 10, 'class_weight': 'balanced', 'solver': 'lbfgs'}` Используя их необходимо обучить модель и проверить на тесте \n",
    "</div>"
   ]
  },
  {
   "cell_type": "markdown",
   "metadata": {},
   "source": [
    "<div class=\"alert alert-success\">\n",
    "<b>Комментарий ревьюера V3✔️:</b> Да, хорошо</div>"
   ]
  },
  {
   "cell_type": "markdown",
   "metadata": {},
   "source": [
    "<div class=\"alert alert-warning\">\n",
    "<b>Комментарий ревьюера ⚠️:</b> Перевод в unicode актуально для русского языка, который был в тренажере, в данной задаче это делать нет необходимости\n",
    "\n",
    "</div>\n",
    "\n",
    "<div class=\"alert alert-danger\">\n",
    "<b>Комментарий ревьюера ❌:</b> В дальнейшем используешь GridSearchCV, который основан на кросс валидации, поэтому использование валидации избыточно. Лучше соединить обучающую и валидационную выборку, так мы больше данных выучим, а значит лучше научимся обобщать их\n",
    "\n",
    "+  https://neptune.ai/blog/cross-validation-in-machine-learning-how-to-do-it-right\n",
    "+  https://academy.yandex.ru/handbook/ml/article/kross-validaciya\n",
    "\n",
    "P.S С помощью `model.best_score_` можно узнать лучшую метрику у GridSearchCV\n",
    "</div>\n",
    "\n",
    "<div class=\"alert alert-success\">\n",
    "<b>Комментарий ревьюера ✔️:</b> Отлично, молодец, верно используешь Tfidf.\n",
    "    \n",
    "    \n",
    "Совет: Внутри кросс-валидации происходит разбиение выборки на train и valid. Однако, в таком случае векторизатор обучен на всей выборке(train), а это не совсем корректно. Чтобы избежать это можно воспользоваться Pipeline:\n",
    "    \n",
    "```python\n",
    "pipeline = Pipeline([\n",
    "    ('tfidf', TfidfVectorizer(stop_words=stopwords)),\n",
    "    ('logreg', LogisticRegression(random_state=42)),\n",
    "])\n",
    "parameters = {\n",
    "    'tfidf__max_df': (0.25, 0.5, 0.75),\n",
    "    'tfidf__ngram_range': [(1, 1), (1, 2), (1, 3)],\n",
    "    'logreg__C': [1,2,6]\n",
    "}\n",
    "\n",
    "grid_search_tune = RandomizedSearchCV(pipeline, parameters, cv=3, n_jobs=-1, scoring='f1', verbose=3)\n",
    "grid_search_tune.fit(train_features, train_targets)\n",
    "  \n",
    "    \n",
    "```\n",
    "    \n",
    "Это просто каркас, можешь сам выбрать какие параметры использовать для подбора:) \n",
    "    \n",
    "+  https://runebook.dev/ru/docs/scikit_learn/modules/generated/sklearn.model_selection.halvinggridsearchcv - тут про HalvingGridSearchCV\n",
    "    \n",
    "+  https://www.rupython.com/python-sklearn-pipeline-pipeline-28301.html - про pipeline\n",
    "+  https://towardsdatascience.com/how-to-use-sklearn-pipelines-for-ridiculously-neat-code-a61ab66ca90d\n",
    "\n",
    "</div>"
   ]
  },
  {
   "cell_type": "code",
   "execution_count": null,
   "metadata": {},
   "outputs": [],
   "source": []
  },
  {
   "cell_type": "markdown",
   "metadata": {},
   "source": [
    "<div class=\"alert alert-danger\">\n",
    "<b>Комментарий ревьюера ❌:</b> \n",
    "    \n",
    "Верно сделал, но давай для начала не будем проводить балансировку классов, а обучим модель и посмотрим, что мы получим на кросс валидации, а не на тесте (ЭТО ВАЖНО), мы модели сравниваем опираясь на кросс валидацию, иначе просто нет смысла в GridSearchCV. \n",
    "    \n",
    "    \n",
    "Но если ты посмотришь на f1 используя GridSearchCV/cross_val_score, то у тебя скорее всего получится очень хороший результат потому что:\n",
    "    \n",
    "Сбалансирование выборки до подбора параметров модели может привести к переоценке производительности модели на несбалансированных данных, поскольку модель будет обучаться на данных, которые не соответствуют истинной распределению в выборке. Это может привести к выбору параметров модели, которые не оптимальны для несбалансированных данных, и к снижению производительности модели при работе на реальных данных.\n",
    "\n",
    "Предлагаю воспользоваться библиотекой imblearn \n",
    "\n",
    "+  https://medium.com/thecyphy/handling-imbalanced-datasets-with-imblearn-library-df5e58b968f4\n",
    "+  https://imbalanced-learn.org/stable/\n",
    "    \n",
    "Класс `Pipeline` в библиотеке `imblearn` является расширением класса `Pipeline` из библиотеки `sklearn`. Он добавляет возможность использовать пайплайны для обработки несбалансированных данных.\n",
    "\n",
    "Основное отличие `Pipeline` в `imblearn` от `Pipeline`в `sklearn` заключается в том, что `Pipeline` в `imblearn` имеет несколько дополнительных методов и классов, которые используются для работы с несбалансированными данными. Некоторые из них:\n",
    "\n",
    "+  `Pipeline(steps, sampler=None, ...)` - класс, который позволяет задавать стратегию сэмплирования (undersampling/oversampling) для несбалансированных данных.\n",
    "\n",
    "\n",
    "В целом, `Pipeline` в `imblearn` является расширением `Pipeline` в `sklearn`, которое добавляет дополнительную функциональность для работы с несбалансированными данными.    \n",
    " \n",
    "Тут пример: (в колабе более подробно)\n",
    "    \n",
    "```python\n",
    "pipeline_oversampling_tree = imbPipeline([\n",
    "    ('tfidf', TfidfVectorizer()),\n",
    "    ('oversampling', RandomOverSampler(random_state=0)),\n",
    "    ('tree', DecisionTreeClassifier(random_state=42))])\n",
    "\n",
    "\n",
    "parameters = {'tfidf__max_df': (0.25, 0.5, 0.75),\n",
    "              'tfidf__ngram_range': [(1, 1), (1, 2)],\n",
    "              'tree__max_depth':[1, 4, 7, 10, 13, 16, 19, 22], \n",
    "              'tree__min_samples_split':range(2, 5),\n",
    "              'tree__min_samples_leaf': range(1,3)}    \n",
    "```\n",
    "+  https://colab.research.google.com/drive/1dCu48GIZV33dffH5IBVTf-LYyIgfDCZW?usp=sharing   - там я оставил пример      \n",
    "    \n",
    " Но лучше попробовать улучшить качество не используя upsampling/downsamling мне кажется это не сильно поможет\n",
    "    \n",
    "+  Можно попробовать поиграться/поизучать параметры у Tfidf это должно дать небольшое улучшение\n",
    "+  Можно удалить очень редкие слова, допустим если в нашем корпусе слово встречается меньше 2-3 раз, то считаем что в нем ошибка, либо очень специфическое слово и удаляем его\n",
    "</div>"
   ]
  },
  {
   "cell_type": "markdown",
   "metadata": {},
   "source": [
    "<div class=\"alert alert-danger\">\n",
    "<b>Комментарий ревьюера ❌:</b> в конце проекта необходимо протестировать лучшую модель;)\n",
    "</div>"
   ]
  },
  {
   "cell_type": "markdown",
   "metadata": {},
   "source": [
    "Вывод:\n",
    "На первом этапе произведена загрузка данных и их подготовка для обучения моделей. \n",
    "Датасет состоит из 2 столбцов с данными и 159571 строк. \n",
    "Затем тексты комментариев были очищены и лемматизированы, произведена балансировка.  \n",
    "Проверка соотношения классов показала, что в датасете имеет место явный дисбаланс. Мажорный класс составляет лишь 10% от всего датасета. \n",
    "Датасет разбили на выборки. \n",
    "\n",
    "По результатам подбора гиперпараметров и обучения моделей наилучший результат показала Логистическая регрессия. "
   ]
  },
  {
   "cell_type": "markdown",
   "metadata": {},
   "source": [
    "<div class=\"alert alert-success\">\n",
    "<b>Комментарий ревьюера ✔️:</b> \n",
    "\n",
    "Для работы с текстами используют и другие подходы. Например, сейчас активно используются RNN (LSTM) и трансформеры (BERT и другие с улицы Сезам, например, ELMO). НО! Они не являются панацеей, не всегда они нужны, так как и TF-IDF или Word2Vec + модели из классического ML тоже могут справляться. \\\n",
    "BERT тяжелый, существует много его вариаций для разных задач, есть готовые модели, есть надстройки над библиотекой transformers. Если, обучать BERT на GPU (можно в Google Colab или Kaggle), то должно быть побыстрее.\\\n",
    "https://huggingface.co/transformers/model_doc/bert.html \\\n",
    "https://t.me/renat_alimbekov \\\n",
    "https://colah.github.io/posts/2015-08-Understanding-LSTMs/ - Про LSTM \\\n",
    "https://web.stanford.edu/~jurafsky/slp3/10.pdf - про энкодер-декодер модели, этеншены\\\n",
    "https://pytorch.org/tutorials/beginner/transformer_tutorial.html - официальный гайд\n",
    "по трансформеру от создателей pytorch\\\n",
    "https://transformer.huggingface.co/ - поболтать с трансформером \\\n",
    "Библиотеки: allennlp, fairseq, transformers, tensorflow-text — множество реализованных\n",
    "методов для трансформеров методов NLP \\\n",
    "Word2Vec https://radimrehurek.com/gensim/models/word2vec.html \n",
    "    \n",
    "</div>"
   ]
  },
  {
   "cell_type": "markdown",
   "metadata": {},
   "source": [
    "<font color='blue'><b>Итоговый комментарий ревьюера</b></font>\n",
    "<div class=\"alert alert-success\">\n",
    "<b>Комментарий ревьюера ✔️:</b>Антон , получился хороший проект! \n",
    "    \n",
    "Если есть  если есть какие либо вопросы я с удовольствием на них отвечу:) <br> Исправь, пожалуйста, замечания и жду проект на следующую проверку:) </div>\n"
   ]
  },
  {
   "cell_type": "markdown",
   "metadata": {},
   "source": [
    "<div class=\"alert alert-success\">\n",
    "<b>Комментарий ревьюера V3✔️:</b> Удачи в следующих проектах!!!</div>"
   ]
  }
 ],
 "metadata": {
  "ExecuteTimeLog": [
   {
    "duration": 2280,
    "start_time": "2023-05-17T09:33:43.924Z"
   },
   {
    "duration": 2877,
    "start_time": "2023-05-17T09:33:46.207Z"
   },
   {
    "duration": 313,
    "start_time": "2023-05-17T09:33:49.086Z"
   },
   {
    "duration": 242,
    "start_time": "2023-05-17T09:34:30.021Z"
   },
   {
    "duration": 71,
    "start_time": "2023-05-17T09:39:05.778Z"
   },
   {
    "duration": 161,
    "start_time": "2023-05-17T09:39:14.988Z"
   },
   {
    "duration": 7,
    "start_time": "2023-05-17T09:39:36.924Z"
   },
   {
    "duration": 258,
    "start_time": "2023-05-17T09:41:10.914Z"
   },
   {
    "duration": 1862,
    "start_time": "2023-05-17T09:43:18.918Z"
   },
   {
    "duration": 902,
    "start_time": "2023-05-17T09:43:20.782Z"
   },
   {
    "duration": 285,
    "start_time": "2023-05-17T09:43:21.685Z"
   },
   {
    "duration": 3,
    "start_time": "2023-05-17T09:43:21.972Z"
   },
   {
    "duration": 3022,
    "start_time": "2023-05-17T09:43:21.977Z"
   },
   {
    "duration": 9,
    "start_time": "2023-05-17T09:43:25.001Z"
   },
   {
    "duration": 164,
    "start_time": "2023-05-17T09:43:25.012Z"
   },
   {
    "duration": 3129,
    "start_time": "2023-05-17T09:43:46.546Z"
   },
   {
    "duration": 1767,
    "start_time": "2023-05-17T10:21:23.163Z"
   },
   {
    "duration": 928,
    "start_time": "2023-05-17T10:21:24.933Z"
   },
   {
    "duration": 284,
    "start_time": "2023-05-17T10:21:25.862Z"
   },
   {
    "duration": 4,
    "start_time": "2023-05-17T10:21:26.148Z"
   },
   {
    "duration": 2991,
    "start_time": "2023-05-17T10:21:26.153Z"
   },
   {
    "duration": 8,
    "start_time": "2023-05-17T10:21:29.146Z"
   },
   {
    "duration": 165,
    "start_time": "2023-05-17T10:21:29.156Z"
   },
   {
    "duration": 139,
    "start_time": "2023-05-17T10:21:29.324Z"
   },
   {
    "duration": 0,
    "start_time": "2023-05-17T10:21:29.465Z"
   },
   {
    "duration": 0,
    "start_time": "2023-05-17T10:21:29.466Z"
   },
   {
    "duration": 0,
    "start_time": "2023-05-17T10:21:29.467Z"
   },
   {
    "duration": 0,
    "start_time": "2023-05-17T10:21:29.468Z"
   },
   {
    "duration": 0,
    "start_time": "2023-05-17T10:21:29.470Z"
   },
   {
    "duration": 0,
    "start_time": "2023-05-17T10:21:29.470Z"
   },
   {
    "duration": 0,
    "start_time": "2023-05-17T10:21:29.471Z"
   },
   {
    "duration": 2129,
    "start_time": "2023-05-17T10:22:22.989Z"
   },
   {
    "duration": 867,
    "start_time": "2023-05-17T10:22:25.120Z"
   },
   {
    "duration": 278,
    "start_time": "2023-05-17T10:22:25.988Z"
   },
   {
    "duration": 3,
    "start_time": "2023-05-17T10:22:26.268Z"
   },
   {
    "duration": 2863,
    "start_time": "2023-05-17T10:22:26.273Z"
   },
   {
    "duration": 6,
    "start_time": "2023-05-17T10:22:29.138Z"
   },
   {
    "duration": 172,
    "start_time": "2023-05-17T10:22:29.146Z"
   },
   {
    "duration": 127,
    "start_time": "2023-05-17T10:22:29.320Z"
   },
   {
    "duration": 0,
    "start_time": "2023-05-17T10:22:29.449Z"
   },
   {
    "duration": 0,
    "start_time": "2023-05-17T10:22:29.451Z"
   },
   {
    "duration": 0,
    "start_time": "2023-05-17T10:22:29.452Z"
   },
   {
    "duration": 0,
    "start_time": "2023-05-17T10:22:29.453Z"
   },
   {
    "duration": 0,
    "start_time": "2023-05-17T10:22:29.455Z"
   },
   {
    "duration": 0,
    "start_time": "2023-05-17T10:22:29.455Z"
   },
   {
    "duration": 0,
    "start_time": "2023-05-17T10:22:29.457Z"
   },
   {
    "duration": 1741,
    "start_time": "2023-05-17T10:23:07.374Z"
   },
   {
    "duration": 858,
    "start_time": "2023-05-17T10:23:09.118Z"
   },
   {
    "duration": 279,
    "start_time": "2023-05-17T10:23:09.978Z"
   },
   {
    "duration": 4,
    "start_time": "2023-05-17T10:23:10.260Z"
   },
   {
    "duration": 2804,
    "start_time": "2023-05-17T10:23:10.267Z"
   },
   {
    "duration": 9,
    "start_time": "2023-05-17T10:23:13.074Z"
   },
   {
    "duration": 168,
    "start_time": "2023-05-17T10:23:13.095Z"
   },
   {
    "duration": 3693,
    "start_time": "2023-05-17T10:23:13.265Z"
   },
   {
    "duration": 153,
    "start_time": "2023-05-17T10:23:16.960Z"
   },
   {
    "duration": 0,
    "start_time": "2023-05-17T10:23:17.117Z"
   },
   {
    "duration": 0,
    "start_time": "2023-05-17T10:23:17.119Z"
   },
   {
    "duration": 0,
    "start_time": "2023-05-17T10:23:17.120Z"
   },
   {
    "duration": 0,
    "start_time": "2023-05-17T10:23:17.122Z"
   },
   {
    "duration": 0,
    "start_time": "2023-05-17T10:23:17.123Z"
   },
   {
    "duration": 0,
    "start_time": "2023-05-17T10:23:17.124Z"
   },
   {
    "duration": 1883,
    "start_time": "2023-05-17T10:23:50.613Z"
   },
   {
    "duration": 877,
    "start_time": "2023-05-17T10:23:52.500Z"
   },
   {
    "duration": 284,
    "start_time": "2023-05-17T10:23:53.378Z"
   },
   {
    "duration": 4,
    "start_time": "2023-05-17T10:23:53.664Z"
   },
   {
    "duration": 3039,
    "start_time": "2023-05-17T10:23:53.670Z"
   },
   {
    "duration": 8,
    "start_time": "2023-05-17T10:23:56.711Z"
   },
   {
    "duration": 148,
    "start_time": "2023-05-17T10:23:56.721Z"
   },
   {
    "duration": 3491,
    "start_time": "2023-05-17T10:23:56.871Z"
   },
   {
    "duration": 173,
    "start_time": "2023-05-17T10:24:00.364Z"
   },
   {
    "duration": 0,
    "start_time": "2023-05-17T10:24:00.539Z"
   },
   {
    "duration": 0,
    "start_time": "2023-05-17T10:24:00.540Z"
   },
   {
    "duration": 0,
    "start_time": "2023-05-17T10:24:00.541Z"
   },
   {
    "duration": 0,
    "start_time": "2023-05-17T10:24:00.543Z"
   },
   {
    "duration": 0,
    "start_time": "2023-05-17T10:24:00.545Z"
   },
   {
    "duration": 0,
    "start_time": "2023-05-17T10:24:00.546Z"
   },
   {
    "duration": 1653,
    "start_time": "2023-05-17T10:24:53.825Z"
   },
   {
    "duration": 852,
    "start_time": "2023-05-17T10:24:55.480Z"
   },
   {
    "duration": 292,
    "start_time": "2023-05-17T10:24:56.335Z"
   },
   {
    "duration": 4,
    "start_time": "2023-05-17T10:24:56.630Z"
   },
   {
    "duration": 2809,
    "start_time": "2023-05-17T10:24:56.636Z"
   },
   {
    "duration": 9,
    "start_time": "2023-05-17T10:24:59.448Z"
   },
   {
    "duration": 186,
    "start_time": "2023-05-17T10:24:59.459Z"
   },
   {
    "duration": 3721,
    "start_time": "2023-05-17T10:24:59.647Z"
   },
   {
    "duration": 6,
    "start_time": "2023-05-17T10:25:03.369Z"
   },
   {
    "duration": 83500,
    "start_time": "2023-05-17T10:25:03.378Z"
   },
   {
    "duration": 30,
    "start_time": "2023-05-17T10:26:26.879Z"
   },
   {
    "duration": 1029,
    "start_time": "2023-05-17T10:26:26.910Z"
   },
   {
    "duration": 0,
    "start_time": "2023-05-17T10:26:27.941Z"
   },
   {
    "duration": 0,
    "start_time": "2023-05-17T10:26:27.942Z"
   },
   {
    "duration": 0,
    "start_time": "2023-05-17T10:26:27.943Z"
   },
   {
    "duration": 1905,
    "start_time": "2023-05-17T10:27:33.385Z"
   },
   {
    "duration": 862,
    "start_time": "2023-05-17T10:27:35.292Z"
   },
   {
    "duration": 281,
    "start_time": "2023-05-17T10:27:36.156Z"
   },
   {
    "duration": 5,
    "start_time": "2023-05-17T10:27:36.440Z"
   },
   {
    "duration": 3367,
    "start_time": "2023-05-17T10:27:36.446Z"
   },
   {
    "duration": 8,
    "start_time": "2023-05-17T10:27:39.817Z"
   },
   {
    "duration": 163,
    "start_time": "2023-05-17T10:27:39.827Z"
   },
   {
    "duration": 4284,
    "start_time": "2023-05-17T10:27:39.998Z"
   },
   {
    "duration": 18,
    "start_time": "2023-05-17T10:27:44.284Z"
   },
   {
    "duration": 86717,
    "start_time": "2023-05-17T10:27:44.309Z"
   },
   {
    "duration": 235,
    "start_time": "2023-05-17T10:29:11.029Z"
   },
   {
    "duration": 159,
    "start_time": "2023-05-17T10:29:11.265Z"
   },
   {
    "duration": 17,
    "start_time": "2023-05-17T10:29:11.425Z"
   },
   {
    "duration": 177,
    "start_time": "2023-05-17T10:34:02.966Z"
   },
   {
    "duration": 5,
    "start_time": "2023-05-17T10:35:00.118Z"
   },
   {
    "duration": 85726,
    "start_time": "2023-05-17T10:35:00.538Z"
   },
   {
    "duration": 44,
    "start_time": "2023-05-17T10:36:26.268Z"
   },
   {
    "duration": 577,
    "start_time": "2023-05-17T10:36:26.315Z"
   },
   {
    "duration": 0,
    "start_time": "2023-05-17T10:36:26.896Z"
   },
   {
    "duration": 0,
    "start_time": "2023-05-17T10:36:26.901Z"
   },
   {
    "duration": 0,
    "start_time": "2023-05-17T10:36:26.901Z"
   },
   {
    "duration": 0,
    "start_time": "2023-05-17T10:36:26.905Z"
   },
   {
    "duration": 0,
    "start_time": "2023-05-17T10:36:26.909Z"
   },
   {
    "duration": 46,
    "start_time": "2023-05-17T11:01:25.911Z"
   },
   {
    "duration": 2977,
    "start_time": "2023-05-17T11:01:47.587Z"
   },
   {
    "duration": 0,
    "start_time": "2023-05-17T11:01:50.566Z"
   },
   {
    "duration": 1881,
    "start_time": "2023-05-17T11:05:35.040Z"
   },
   {
    "duration": 831,
    "start_time": "2023-05-17T11:05:36.923Z"
   },
   {
    "duration": 276,
    "start_time": "2023-05-17T11:05:37.756Z"
   },
   {
    "duration": 3,
    "start_time": "2023-05-17T11:05:38.034Z"
   },
   {
    "duration": 2768,
    "start_time": "2023-05-17T11:05:38.038Z"
   },
   {
    "duration": 8,
    "start_time": "2023-05-17T11:05:40.808Z"
   },
   {
    "duration": 151,
    "start_time": "2023-05-17T11:05:40.818Z"
   },
   {
    "duration": 142,
    "start_time": "2023-05-17T11:05:40.971Z"
   },
   {
    "duration": 0,
    "start_time": "2023-05-17T11:05:41.115Z"
   },
   {
    "duration": 0,
    "start_time": "2023-05-17T11:05:41.116Z"
   },
   {
    "duration": 0,
    "start_time": "2023-05-17T11:05:41.117Z"
   },
   {
    "duration": 0,
    "start_time": "2023-05-17T11:05:41.118Z"
   },
   {
    "duration": 0,
    "start_time": "2023-05-17T11:05:41.119Z"
   },
   {
    "duration": 0,
    "start_time": "2023-05-17T11:05:41.120Z"
   },
   {
    "duration": 0,
    "start_time": "2023-05-17T11:05:41.122Z"
   },
   {
    "duration": 0,
    "start_time": "2023-05-17T11:05:41.123Z"
   },
   {
    "duration": 0,
    "start_time": "2023-05-17T11:05:41.123Z"
   },
   {
    "duration": 0,
    "start_time": "2023-05-17T11:05:41.124Z"
   },
   {
    "duration": 0,
    "start_time": "2023-05-17T11:05:41.125Z"
   },
   {
    "duration": 1761,
    "start_time": "2023-05-17T11:05:58.441Z"
   },
   {
    "duration": 944,
    "start_time": "2023-05-17T11:06:00.204Z"
   },
   {
    "duration": 277,
    "start_time": "2023-05-17T11:06:01.153Z"
   },
   {
    "duration": 3,
    "start_time": "2023-05-17T11:06:01.433Z"
   },
   {
    "duration": 2800,
    "start_time": "2023-05-17T11:06:01.438Z"
   },
   {
    "duration": 9,
    "start_time": "2023-05-17T11:06:04.240Z"
   },
   {
    "duration": 166,
    "start_time": "2023-05-17T11:06:04.251Z"
   },
   {
    "duration": 140,
    "start_time": "2023-05-17T11:06:04.419Z"
   },
   {
    "duration": 0,
    "start_time": "2023-05-17T11:06:04.561Z"
   },
   {
    "duration": 0,
    "start_time": "2023-05-17T11:06:04.562Z"
   },
   {
    "duration": 0,
    "start_time": "2023-05-17T11:06:04.563Z"
   },
   {
    "duration": 0,
    "start_time": "2023-05-17T11:06:04.564Z"
   },
   {
    "duration": 0,
    "start_time": "2023-05-17T11:06:04.565Z"
   },
   {
    "duration": 0,
    "start_time": "2023-05-17T11:06:04.566Z"
   },
   {
    "duration": 0,
    "start_time": "2023-05-17T11:06:04.567Z"
   },
   {
    "duration": 0,
    "start_time": "2023-05-17T11:06:04.568Z"
   },
   {
    "duration": 0,
    "start_time": "2023-05-17T11:06:04.569Z"
   },
   {
    "duration": 0,
    "start_time": "2023-05-17T11:06:04.569Z"
   },
   {
    "duration": 0,
    "start_time": "2023-05-17T11:06:04.570Z"
   },
   {
    "duration": 6,
    "start_time": "2023-05-17T11:06:45.917Z"
   },
   {
    "duration": 3767,
    "start_time": "2023-05-17T11:06:47.184Z"
   },
   {
    "duration": 5,
    "start_time": "2023-05-17T11:06:50.955Z"
   },
   {
    "duration": 2222,
    "start_time": "2023-05-18T06:56:58.009Z"
   },
   {
    "duration": 4711,
    "start_time": "2023-05-18T06:57:00.233Z"
   },
   {
    "duration": 298,
    "start_time": "2023-05-18T06:57:04.945Z"
   },
   {
    "duration": 26,
    "start_time": "2023-05-18T06:57:05.254Z"
   },
   {
    "duration": 3345,
    "start_time": "2023-05-18T06:57:05.284Z"
   },
   {
    "duration": 9,
    "start_time": "2023-05-18T06:57:08.631Z"
   },
   {
    "duration": 196,
    "start_time": "2023-05-18T06:57:08.656Z"
   },
   {
    "duration": 5,
    "start_time": "2023-05-18T06:57:08.855Z"
   },
   {
    "duration": 4570,
    "start_time": "2023-05-18T06:57:08.862Z"
   },
   {
    "duration": 22,
    "start_time": "2023-05-18T06:57:13.436Z"
   },
   {
    "duration": 91587,
    "start_time": "2023-05-18T06:57:13.460Z"
   },
   {
    "duration": 31,
    "start_time": "2023-05-18T06:58:45.049Z"
   },
   {
    "duration": 592,
    "start_time": "2023-05-18T06:58:45.082Z"
   },
   {
    "duration": 0,
    "start_time": "2023-05-18T06:58:45.676Z"
   },
   {
    "duration": 0,
    "start_time": "2023-05-18T06:58:45.678Z"
   },
   {
    "duration": 0,
    "start_time": "2023-05-18T06:58:45.680Z"
   },
   {
    "duration": 0,
    "start_time": "2023-05-18T06:58:45.681Z"
   },
   {
    "duration": 0,
    "start_time": "2023-05-18T06:58:45.682Z"
   },
   {
    "duration": 0,
    "start_time": "2023-05-18T06:58:45.683Z"
   },
   {
    "duration": 0,
    "start_time": "2023-05-18T06:58:45.685Z"
   },
   {
    "duration": 2309,
    "start_time": "2023-05-18T07:12:32.473Z"
   },
   {
    "duration": 1013,
    "start_time": "2023-05-18T07:12:34.788Z"
   },
   {
    "duration": 331,
    "start_time": "2023-05-18T07:12:35.807Z"
   },
   {
    "duration": 4,
    "start_time": "2023-05-18T07:12:36.140Z"
   },
   {
    "duration": 3943,
    "start_time": "2023-05-18T07:12:36.150Z"
   },
   {
    "duration": 13,
    "start_time": "2023-05-18T07:12:40.095Z"
   },
   {
    "duration": 255,
    "start_time": "2023-05-18T07:12:40.114Z"
   },
   {
    "duration": 7,
    "start_time": "2023-05-18T07:12:40.376Z"
   },
   {
    "duration": 2052,
    "start_time": "2023-05-18T07:14:31.908Z"
   },
   {
    "duration": 1164,
    "start_time": "2023-05-18T07:14:33.963Z"
   },
   {
    "duration": 371,
    "start_time": "2023-05-18T07:14:35.129Z"
   },
   {
    "duration": 5,
    "start_time": "2023-05-18T07:14:35.502Z"
   },
   {
    "duration": 2982,
    "start_time": "2023-05-18T07:14:35.509Z"
   },
   {
    "duration": 9,
    "start_time": "2023-05-18T07:14:38.493Z"
   },
   {
    "duration": 195,
    "start_time": "2023-05-18T07:14:38.504Z"
   },
   {
    "duration": 6,
    "start_time": "2023-05-18T07:14:38.701Z"
   },
   {
    "duration": 9,
    "start_time": "2023-05-18T07:14:38.708Z"
   },
   {
    "duration": 164,
    "start_time": "2023-05-18T07:14:38.720Z"
   },
   {
    "duration": 0,
    "start_time": "2023-05-18T07:14:38.886Z"
   },
   {
    "duration": 2202,
    "start_time": "2023-05-18T07:15:22.305Z"
   },
   {
    "duration": 836,
    "start_time": "2023-05-18T07:15:24.510Z"
   },
   {
    "duration": 279,
    "start_time": "2023-05-18T07:15:25.350Z"
   },
   {
    "duration": 3,
    "start_time": "2023-05-18T07:15:25.631Z"
   },
   {
    "duration": 3602,
    "start_time": "2023-05-18T07:15:25.656Z"
   },
   {
    "duration": 13,
    "start_time": "2023-05-18T07:15:29.263Z"
   },
   {
    "duration": 225,
    "start_time": "2023-05-18T07:15:29.278Z"
   },
   {
    "duration": 5,
    "start_time": "2023-05-18T07:15:29.505Z"
   },
   {
    "duration": 2806,
    "start_time": "2023-05-18T07:15:29.512Z"
   },
   {
    "duration": 4,
    "start_time": "2023-05-18T07:15:32.322Z"
   },
   {
    "duration": 62276,
    "start_time": "2023-05-18T07:15:32.328Z"
   },
   {
    "duration": 883,
    "start_time": "2023-05-18T07:16:34.608Z"
   },
   {
    "duration": 2104,
    "start_time": "2023-05-18T07:19:59.224Z"
   },
   {
    "duration": 1111,
    "start_time": "2023-05-18T07:20:01.331Z"
   },
   {
    "duration": 380,
    "start_time": "2023-05-18T07:20:02.444Z"
   },
   {
    "duration": 4,
    "start_time": "2023-05-18T07:20:02.826Z"
   },
   {
    "duration": 3568,
    "start_time": "2023-05-18T07:20:02.832Z"
   },
   {
    "duration": 10,
    "start_time": "2023-05-18T07:20:06.403Z"
   },
   {
    "duration": 264,
    "start_time": "2023-05-18T07:20:06.415Z"
   },
   {
    "duration": 6,
    "start_time": "2023-05-18T07:20:06.682Z"
   },
   {
    "duration": 1992,
    "start_time": "2023-05-18T07:20:06.690Z"
   },
   {
    "duration": 8,
    "start_time": "2023-05-18T07:20:08.685Z"
   },
   {
    "duration": 57877,
    "start_time": "2023-05-18T07:20:08.695Z"
   },
   {
    "duration": 872,
    "start_time": "2023-05-18T07:21:06.573Z"
   },
   {
    "duration": 129,
    "start_time": "2023-05-18T07:21:07.447Z"
   },
   {
    "duration": 10394,
    "start_time": "2023-05-18T07:21:07.582Z"
   },
   {
    "duration": 6,
    "start_time": "2023-05-18T07:21:17.978Z"
   },
   {
    "duration": 2408,
    "start_time": "2023-05-18T07:22:48.183Z"
   },
   {
    "duration": 1099,
    "start_time": "2023-05-18T07:22:50.595Z"
   },
   {
    "duration": 401,
    "start_time": "2023-05-18T07:22:51.697Z"
   },
   {
    "duration": 6,
    "start_time": "2023-05-18T07:22:52.101Z"
   },
   {
    "duration": 4301,
    "start_time": "2023-05-18T07:22:52.111Z"
   },
   {
    "duration": 9,
    "start_time": "2023-05-18T07:22:56.414Z"
   },
   {
    "duration": 242,
    "start_time": "2023-05-18T07:22:56.426Z"
   },
   {
    "duration": 9,
    "start_time": "2023-05-18T07:22:56.675Z"
   },
   {
    "duration": 2064,
    "start_time": "2023-05-18T07:22:56.687Z"
   },
   {
    "duration": 8,
    "start_time": "2023-05-18T07:22:58.762Z"
   },
   {
    "duration": 72712,
    "start_time": "2023-05-18T07:22:58.772Z"
   },
   {
    "duration": 1028,
    "start_time": "2023-05-18T07:24:11.489Z"
   },
   {
    "duration": 104,
    "start_time": "2023-05-18T07:24:12.522Z"
   },
   {
    "duration": 12563,
    "start_time": "2023-05-18T07:24:12.633Z"
   },
   {
    "duration": 9,
    "start_time": "2023-05-18T07:24:25.202Z"
   },
   {
    "duration": 66,
    "start_time": "2023-05-18T07:24:25.216Z"
   },
   {
    "duration": 3180,
    "start_time": "2023-05-18T07:24:42.377Z"
   },
   {
    "duration": 1559,
    "start_time": "2023-05-18T07:24:45.560Z"
   },
   {
    "duration": 392,
    "start_time": "2023-05-18T07:24:47.125Z"
   },
   {
    "duration": 6,
    "start_time": "2023-05-18T07:24:47.522Z"
   },
   {
    "duration": 5055,
    "start_time": "2023-05-18T07:24:47.535Z"
   },
   {
    "duration": 20,
    "start_time": "2023-05-18T07:24:52.596Z"
   },
   {
    "duration": 241,
    "start_time": "2023-05-18T07:24:52.621Z"
   },
   {
    "duration": 14,
    "start_time": "2023-05-18T07:24:52.868Z"
   },
   {
    "duration": 3676,
    "start_time": "2023-05-18T07:24:52.896Z"
   },
   {
    "duration": 8,
    "start_time": "2023-05-18T07:24:56.578Z"
   },
   {
    "duration": 75983,
    "start_time": "2023-05-18T07:24:56.599Z"
   },
   {
    "duration": 1125,
    "start_time": "2023-05-18T07:26:12.591Z"
   },
   {
    "duration": 119,
    "start_time": "2023-05-18T07:26:13.722Z"
   },
   {
    "duration": 12754,
    "start_time": "2023-05-18T07:26:13.848Z"
   },
   {
    "duration": 15,
    "start_time": "2023-05-18T07:26:26.611Z"
   },
   {
    "duration": 70,
    "start_time": "2023-05-18T07:26:26.633Z"
   },
   {
    "duration": 213172,
    "start_time": "2023-05-18T07:26:26.714Z"
   },
   {
    "duration": 109,
    "start_time": "2023-05-18T07:29:59.905Z"
   },
   {
    "duration": 30410,
    "start_time": "2023-05-18T07:30:00.029Z"
   },
   {
    "duration": 54,
    "start_time": "2023-05-18T07:30:30.441Z"
   },
   {
    "duration": 2556,
    "start_time": "2023-05-18T07:36:04.069Z"
   },
   {
    "duration": 1206,
    "start_time": "2023-05-18T07:36:06.627Z"
   },
   {
    "duration": 403,
    "start_time": "2023-05-18T07:36:07.840Z"
   },
   {
    "duration": 5,
    "start_time": "2023-05-18T07:36:08.248Z"
   },
   {
    "duration": 5218,
    "start_time": "2023-05-18T07:36:08.260Z"
   },
   {
    "duration": 11,
    "start_time": "2023-05-18T07:36:13.479Z"
   },
   {
    "duration": 278,
    "start_time": "2023-05-18T07:36:13.492Z"
   },
   {
    "duration": 7,
    "start_time": "2023-05-18T07:36:13.771Z"
   },
   {
    "duration": 2271,
    "start_time": "2023-05-18T07:36:13.780Z"
   },
   {
    "duration": 6,
    "start_time": "2023-05-18T07:36:16.055Z"
   },
   {
    "duration": 75798,
    "start_time": "2023-05-18T07:36:16.065Z"
   },
   {
    "duration": 1241,
    "start_time": "2023-05-18T07:37:31.870Z"
   },
   {
    "duration": 123,
    "start_time": "2023-05-18T07:37:33.118Z"
   },
   {
    "duration": 11405,
    "start_time": "2023-05-18T07:37:33.253Z"
   },
   {
    "duration": 21,
    "start_time": "2023-05-18T07:37:44.675Z"
   },
   {
    "duration": 64,
    "start_time": "2023-05-18T07:37:44.711Z"
   },
   {
    "duration": 198525,
    "start_time": "2023-05-18T07:37:44.780Z"
   },
   {
    "duration": 64,
    "start_time": "2023-05-18T07:41:03.314Z"
   },
   {
    "duration": 30325,
    "start_time": "2023-05-18T07:41:03.385Z"
   },
   {
    "duration": 37,
    "start_time": "2023-05-18T07:41:33.721Z"
   },
   {
    "duration": 274791,
    "start_time": "2023-05-18T07:41:33.775Z"
   },
   {
    "duration": 707,
    "start_time": "2023-05-18T07:46:08.567Z"
   },
   {
    "duration": 1016,
    "start_time": "2023-05-18T07:46:09.276Z"
   },
   {
    "duration": 208,
    "start_time": "2023-05-18T07:46:10.301Z"
   },
   {
    "duration": 251,
    "start_time": "2023-05-18T07:46:10.511Z"
   },
   {
    "duration": 135,
    "start_time": "2023-05-18T07:46:10.768Z"
   },
   {
    "duration": 16,
    "start_time": "2023-05-18T07:46:10.905Z"
   },
   {
    "duration": 158,
    "start_time": "2023-05-18T07:50:40.775Z"
   },
   {
    "duration": 185,
    "start_time": "2023-05-18T07:51:02.347Z"
   },
   {
    "duration": 114,
    "start_time": "2023-05-18T07:52:41.864Z"
   },
   {
    "duration": 110,
    "start_time": "2023-05-18T07:54:47.927Z"
   },
   {
    "duration": 117,
    "start_time": "2023-05-18T07:55:09.693Z"
   },
   {
    "duration": 104,
    "start_time": "2023-05-18T07:59:08.604Z"
   },
   {
    "duration": 290,
    "start_time": "2023-05-18T08:00:37.444Z"
   },
   {
    "duration": 3689,
    "start_time": "2023-05-18T08:01:52.543Z"
   },
   {
    "duration": 8807,
    "start_time": "2023-05-18T08:01:56.235Z"
   },
   {
    "duration": 524,
    "start_time": "2023-05-18T08:02:05.055Z"
   },
   {
    "duration": 9,
    "start_time": "2023-05-18T08:02:05.589Z"
   },
   {
    "duration": 4695,
    "start_time": "2023-05-18T08:02:05.605Z"
   },
   {
    "duration": 23,
    "start_time": "2023-05-18T08:02:10.310Z"
   },
   {
    "duration": 334,
    "start_time": "2023-05-18T08:02:10.350Z"
   },
   {
    "duration": 10,
    "start_time": "2023-05-18T08:02:10.691Z"
   },
   {
    "duration": 3106,
    "start_time": "2023-05-18T08:02:10.708Z"
   },
   {
    "duration": 22,
    "start_time": "2023-05-18T08:02:13.829Z"
   },
   {
    "duration": 80080,
    "start_time": "2023-05-18T08:02:13.862Z"
   },
   {
    "duration": 2085,
    "start_time": "2023-05-18T08:03:33.948Z"
   },
   {
    "duration": 209,
    "start_time": "2023-05-18T08:03:36.043Z"
   },
   {
    "duration": 14025,
    "start_time": "2023-05-18T08:03:36.258Z"
   },
   {
    "duration": 8,
    "start_time": "2023-05-18T08:03:50.293Z"
   },
   {
    "duration": 76,
    "start_time": "2023-05-18T08:03:50.306Z"
   },
   {
    "duration": 235042,
    "start_time": "2023-05-18T08:03:50.388Z"
   },
   {
    "duration": 147,
    "start_time": "2023-05-18T08:07:45.443Z"
   },
   {
    "duration": 37617,
    "start_time": "2023-05-18T08:07:45.597Z"
   },
   {
    "duration": 39,
    "start_time": "2023-05-18T08:08:23.228Z"
   },
   {
    "duration": 262432,
    "start_time": "2023-05-18T08:08:23.278Z"
   },
   {
    "duration": 1074,
    "start_time": "2023-05-18T08:12:45.712Z"
   },
   {
    "duration": 1352,
    "start_time": "2023-05-18T08:12:46.791Z"
   },
   {
    "duration": 310,
    "start_time": "2023-05-18T08:12:48.145Z"
   },
   {
    "duration": 328,
    "start_time": "2023-05-18T08:12:48.457Z"
   },
   {
    "duration": 164,
    "start_time": "2023-05-18T08:12:48.793Z"
   },
   {
    "duration": 29,
    "start_time": "2023-05-18T08:12:48.960Z"
   },
   {
    "duration": 2254,
    "start_time": "2023-05-18T08:20:37.874Z"
   },
   {
    "duration": 5381,
    "start_time": "2023-05-18T08:20:40.131Z"
   },
   {
    "duration": 347,
    "start_time": "2023-05-18T08:20:45.520Z"
   },
   {
    "duration": 17,
    "start_time": "2023-05-18T08:20:45.869Z"
   },
   {
    "duration": 3972,
    "start_time": "2023-05-18T08:20:45.898Z"
   },
   {
    "duration": 10,
    "start_time": "2023-05-18T08:20:49.872Z"
   },
   {
    "duration": 229,
    "start_time": "2023-05-18T08:20:49.885Z"
   },
   {
    "duration": 6,
    "start_time": "2023-05-18T08:20:50.117Z"
   },
   {
    "duration": 8,
    "start_time": "2023-05-18T08:20:50.125Z"
   },
   {
    "duration": 172,
    "start_time": "2023-05-18T08:20:50.134Z"
   },
   {
    "duration": 0,
    "start_time": "2023-05-18T08:20:50.308Z"
   },
   {
    "duration": 0,
    "start_time": "2023-05-18T08:20:50.309Z"
   },
   {
    "duration": 0,
    "start_time": "2023-05-18T08:20:50.311Z"
   },
   {
    "duration": 1931,
    "start_time": "2023-05-18T08:21:10.584Z"
   },
   {
    "duration": 888,
    "start_time": "2023-05-18T08:21:12.523Z"
   },
   {
    "duration": 304,
    "start_time": "2023-05-18T08:21:13.413Z"
   },
   {
    "duration": 4,
    "start_time": "2023-05-18T08:21:13.719Z"
   },
   {
    "duration": 3556,
    "start_time": "2023-05-18T08:21:13.725Z"
   },
   {
    "duration": 12,
    "start_time": "2023-05-18T08:21:17.283Z"
   },
   {
    "duration": 195,
    "start_time": "2023-05-18T08:21:17.298Z"
   },
   {
    "duration": 11,
    "start_time": "2023-05-18T08:21:17.497Z"
   },
   {
    "duration": 13,
    "start_time": "2023-05-18T08:21:17.511Z"
   },
   {
    "duration": 194,
    "start_time": "2023-05-18T08:21:17.526Z"
   },
   {
    "duration": 0,
    "start_time": "2023-05-18T08:21:17.722Z"
   },
   {
    "duration": 0,
    "start_time": "2023-05-18T08:21:17.724Z"
   },
   {
    "duration": 2022,
    "start_time": "2023-05-18T08:22:10.591Z"
   },
   {
    "duration": 978,
    "start_time": "2023-05-18T08:22:12.616Z"
   },
   {
    "duration": 306,
    "start_time": "2023-05-18T08:22:13.603Z"
   },
   {
    "duration": 4,
    "start_time": "2023-05-18T08:22:13.912Z"
   },
   {
    "duration": 4113,
    "start_time": "2023-05-18T08:22:13.918Z"
   },
   {
    "duration": 25,
    "start_time": "2023-05-18T08:22:18.033Z"
   },
   {
    "duration": 273,
    "start_time": "2023-05-18T08:22:18.061Z"
   },
   {
    "duration": 6,
    "start_time": "2023-05-18T08:22:18.340Z"
   },
   {
    "duration": 16,
    "start_time": "2023-05-18T08:22:18.348Z"
   },
   {
    "duration": 601,
    "start_time": "2023-05-18T08:22:18.367Z"
   },
   {
    "duration": 0,
    "start_time": "2023-05-18T08:22:18.972Z"
   },
   {
    "duration": 0,
    "start_time": "2023-05-18T08:22:18.973Z"
   },
   {
    "duration": 1870,
    "start_time": "2023-05-18T08:23:13.076Z"
   },
   {
    "duration": 913,
    "start_time": "2023-05-18T08:23:14.948Z"
   },
   {
    "duration": 275,
    "start_time": "2023-05-18T08:23:15.863Z"
   },
   {
    "duration": 15,
    "start_time": "2023-05-18T08:23:16.140Z"
   },
   {
    "duration": 3184,
    "start_time": "2023-05-18T08:23:16.157Z"
   },
   {
    "duration": 20,
    "start_time": "2023-05-18T08:23:19.344Z"
   },
   {
    "duration": 185,
    "start_time": "2023-05-18T08:23:19.372Z"
   },
   {
    "duration": 5,
    "start_time": "2023-05-18T08:23:19.559Z"
   },
   {
    "duration": 10,
    "start_time": "2023-05-18T08:23:19.567Z"
   },
   {
    "duration": 2210,
    "start_time": "2023-05-18T08:23:19.582Z"
   },
   {
    "duration": 0,
    "start_time": "2023-05-18T08:23:21.794Z"
   },
   {
    "duration": 0,
    "start_time": "2023-05-18T08:23:21.795Z"
   },
   {
    "duration": 2465,
    "start_time": "2023-05-18T08:25:04.005Z"
   },
   {
    "duration": 1145,
    "start_time": "2023-05-18T08:25:06.472Z"
   },
   {
    "duration": 439,
    "start_time": "2023-05-18T08:25:07.620Z"
   },
   {
    "duration": 8,
    "start_time": "2023-05-18T08:25:08.074Z"
   },
   {
    "duration": 4515,
    "start_time": "2023-05-18T08:25:08.085Z"
   },
   {
    "duration": 18,
    "start_time": "2023-05-18T08:25:12.608Z"
   },
   {
    "duration": 203,
    "start_time": "2023-05-18T08:25:12.628Z"
   },
   {
    "duration": 8,
    "start_time": "2023-05-18T08:25:12.834Z"
   },
   {
    "duration": 123,
    "start_time": "2023-05-18T08:25:12.846Z"
   },
   {
    "duration": 0,
    "start_time": "2023-05-18T08:25:12.975Z"
   },
   {
    "duration": 0,
    "start_time": "2023-05-18T08:25:12.976Z"
   },
   {
    "duration": 0,
    "start_time": "2023-05-18T08:25:12.991Z"
   },
   {
    "duration": 84,
    "start_time": "2023-05-18T08:26:53.476Z"
   },
   {
    "duration": 117,
    "start_time": "2023-05-18T08:26:57.629Z"
   },
   {
    "duration": 1936,
    "start_time": "2023-05-18T08:27:29.290Z"
   },
   {
    "duration": 994,
    "start_time": "2023-05-18T08:27:31.228Z"
   },
   {
    "duration": 305,
    "start_time": "2023-05-18T08:27:32.224Z"
   },
   {
    "duration": 29,
    "start_time": "2023-05-18T08:27:32.531Z"
   },
   {
    "duration": 3506,
    "start_time": "2023-05-18T08:27:32.564Z"
   },
   {
    "duration": 12,
    "start_time": "2023-05-18T08:27:36.081Z"
   },
   {
    "duration": 245,
    "start_time": "2023-05-18T08:27:36.095Z"
   },
   {
    "duration": 94,
    "start_time": "2023-05-18T08:27:36.342Z"
   },
   {
    "duration": 0,
    "start_time": "2023-05-18T08:27:36.438Z"
   },
   {
    "duration": 0,
    "start_time": "2023-05-18T08:27:36.439Z"
   },
   {
    "duration": 0,
    "start_time": "2023-05-18T08:27:36.441Z"
   },
   {
    "duration": 2324,
    "start_time": "2023-05-18T08:30:02.386Z"
   },
   {
    "duration": 1270,
    "start_time": "2023-05-18T08:30:04.717Z"
   },
   {
    "duration": 465,
    "start_time": "2023-05-18T08:30:06.001Z"
   },
   {
    "duration": 23,
    "start_time": "2023-05-18T08:30:06.479Z"
   },
   {
    "duration": 4442,
    "start_time": "2023-05-18T08:30:06.520Z"
   },
   {
    "duration": 193,
    "start_time": "2023-05-18T08:30:10.968Z"
   },
   {
    "duration": 0,
    "start_time": "2023-05-18T08:30:11.170Z"
   },
   {
    "duration": 0,
    "start_time": "2023-05-18T08:30:11.171Z"
   },
   {
    "duration": 0,
    "start_time": "2023-05-18T08:30:11.179Z"
   },
   {
    "duration": 0,
    "start_time": "2023-05-18T08:30:11.185Z"
   },
   {
    "duration": 0,
    "start_time": "2023-05-18T08:30:11.186Z"
   },
   {
    "duration": 17,
    "start_time": "2023-05-18T08:30:19.581Z"
   },
   {
    "duration": 255,
    "start_time": "2023-05-18T08:30:20.427Z"
   },
   {
    "duration": 128,
    "start_time": "2023-05-18T08:30:26.229Z"
   },
   {
    "duration": 43,
    "start_time": "2023-05-18T08:30:33.287Z"
   },
   {
    "duration": 10684,
    "start_time": "2023-05-18T08:31:16.313Z"
   },
   {
    "duration": 2244,
    "start_time": "2023-05-18T08:31:46.096Z"
   },
   {
    "duration": 1168,
    "start_time": "2023-05-18T08:31:48.343Z"
   },
   {
    "duration": 410,
    "start_time": "2023-05-18T08:31:49.516Z"
   },
   {
    "duration": 20,
    "start_time": "2023-05-18T08:31:49.934Z"
   },
   {
    "duration": 4601,
    "start_time": "2023-05-18T08:31:49.957Z"
   },
   {
    "duration": 19,
    "start_time": "2023-05-18T08:31:54.563Z"
   },
   {
    "duration": 220,
    "start_time": "2023-05-18T08:31:54.583Z"
   },
   {
    "duration": 10972,
    "start_time": "2023-05-18T08:31:54.809Z"
   },
   {
    "duration": 5,
    "start_time": "2023-05-18T08:32:23.794Z"
   },
   {
    "duration": 82,
    "start_time": "2023-05-18T08:32:23.802Z"
   },
   {
    "duration": 2622,
    "start_time": "2023-05-18T08:32:28.217Z"
   },
   {
    "duration": 1145,
    "start_time": "2023-05-18T08:32:30.842Z"
   },
   {
    "duration": 353,
    "start_time": "2023-05-18T08:32:31.995Z"
   },
   {
    "duration": 3,
    "start_time": "2023-05-18T08:32:32.351Z"
   },
   {
    "duration": 4660,
    "start_time": "2023-05-18T08:32:32.356Z"
   },
   {
    "duration": 18,
    "start_time": "2023-05-18T08:32:37.026Z"
   },
   {
    "duration": 241,
    "start_time": "2023-05-18T08:32:37.047Z"
   },
   {
    "duration": 10907,
    "start_time": "2023-05-18T08:32:37.291Z"
   },
   {
    "duration": 18454,
    "start_time": "2023-05-18T08:32:48.200Z"
   },
   {
    "duration": 5,
    "start_time": "2023-05-18T08:33:06.657Z"
   },
   {
    "duration": 56,
    "start_time": "2023-05-18T08:33:06.664Z"
   },
   {
    "duration": 2414,
    "start_time": "2023-05-18T08:33:13.577Z"
   },
   {
    "duration": 1154,
    "start_time": "2023-05-18T08:33:15.997Z"
   },
   {
    "duration": 354,
    "start_time": "2023-05-18T08:33:17.153Z"
   },
   {
    "duration": 6,
    "start_time": "2023-05-18T08:33:17.513Z"
   },
   {
    "duration": 4595,
    "start_time": "2023-05-18T08:33:17.524Z"
   },
   {
    "duration": 22,
    "start_time": "2023-05-18T08:33:22.124Z"
   },
   {
    "duration": 293,
    "start_time": "2023-05-18T08:33:22.150Z"
   },
   {
    "duration": 11060,
    "start_time": "2023-05-18T08:33:22.444Z"
   },
   {
    "duration": 18196,
    "start_time": "2023-05-18T08:33:33.514Z"
   },
   {
    "duration": 7,
    "start_time": "2023-05-18T08:33:51.712Z"
   },
   {
    "duration": 98,
    "start_time": "2023-05-18T08:33:51.721Z"
   },
   {
    "duration": 7,
    "start_time": "2023-05-18T08:35:36.547Z"
   },
   {
    "duration": 3226,
    "start_time": "2023-05-18T08:38:08.576Z"
   },
   {
    "duration": 1476,
    "start_time": "2023-05-18T08:38:11.804Z"
   },
   {
    "duration": 463,
    "start_time": "2023-05-18T08:38:13.283Z"
   },
   {
    "duration": 15,
    "start_time": "2023-05-18T08:38:13.753Z"
   },
   {
    "duration": 5093,
    "start_time": "2023-05-18T08:38:13.788Z"
   },
   {
    "duration": 15,
    "start_time": "2023-05-18T08:38:18.888Z"
   },
   {
    "duration": 219,
    "start_time": "2023-05-18T08:38:18.917Z"
   },
   {
    "duration": 12343,
    "start_time": "2023-05-18T08:38:19.149Z"
   },
   {
    "duration": 17627,
    "start_time": "2023-05-18T08:38:31.499Z"
   },
   {
    "duration": 14,
    "start_time": "2023-05-18T08:38:49.139Z"
   },
   {
    "duration": 355,
    "start_time": "2023-05-18T08:38:49.155Z"
   },
   {
    "duration": 0,
    "start_time": "2023-05-18T08:38:49.531Z"
   },
   {
    "duration": 0,
    "start_time": "2023-05-18T08:38:49.532Z"
   },
   {
    "duration": 0,
    "start_time": "2023-05-18T08:38:49.532Z"
   },
   {
    "duration": 0,
    "start_time": "2023-05-18T08:38:49.533Z"
   },
   {
    "duration": 0,
    "start_time": "2023-05-18T08:38:49.534Z"
   },
   {
    "duration": 0,
    "start_time": "2023-05-18T08:38:49.534Z"
   },
   {
    "duration": 0,
    "start_time": "2023-05-18T08:38:49.535Z"
   },
   {
    "duration": 0,
    "start_time": "2023-05-18T08:38:49.536Z"
   },
   {
    "duration": 2846,
    "start_time": "2023-05-18T08:40:20.870Z"
   },
   {
    "duration": 1529,
    "start_time": "2023-05-18T08:40:23.719Z"
   },
   {
    "duration": 379,
    "start_time": "2023-05-18T08:40:25.255Z"
   },
   {
    "duration": 6,
    "start_time": "2023-05-18T08:40:25.649Z"
   },
   {
    "duration": 4728,
    "start_time": "2023-05-18T08:40:25.663Z"
   },
   {
    "duration": 13,
    "start_time": "2023-05-18T08:40:30.393Z"
   },
   {
    "duration": 358,
    "start_time": "2023-05-18T08:40:30.413Z"
   },
   {
    "duration": 11298,
    "start_time": "2023-05-18T08:40:30.780Z"
   },
   {
    "duration": 3538,
    "start_time": "2023-05-18T08:40:50.004Z"
   },
   {
    "duration": 1325,
    "start_time": "2023-05-18T08:40:53.545Z"
   },
   {
    "duration": 463,
    "start_time": "2023-05-18T08:40:54.872Z"
   },
   {
    "duration": 4,
    "start_time": "2023-05-18T08:40:55.343Z"
   },
   {
    "duration": 4576,
    "start_time": "2023-05-18T08:40:55.353Z"
   },
   {
    "duration": 14,
    "start_time": "2023-05-18T08:40:59.934Z"
   },
   {
    "duration": 288,
    "start_time": "2023-05-18T08:40:59.959Z"
   },
   {
    "duration": 10937,
    "start_time": "2023-05-18T08:41:00.249Z"
   },
   {
    "duration": 17254,
    "start_time": "2023-05-18T08:41:11.198Z"
   },
   {
    "duration": 12,
    "start_time": "2023-05-18T08:41:28.454Z"
   },
   {
    "duration": 192,
    "start_time": "2023-05-18T08:41:28.468Z"
   },
   {
    "duration": 0,
    "start_time": "2023-05-18T08:41:28.665Z"
   },
   {
    "duration": 0,
    "start_time": "2023-05-18T08:41:28.670Z"
   },
   {
    "duration": 0,
    "start_time": "2023-05-18T08:41:28.672Z"
   },
   {
    "duration": 0,
    "start_time": "2023-05-18T08:41:28.674Z"
   },
   {
    "duration": 0,
    "start_time": "2023-05-18T08:41:28.684Z"
   },
   {
    "duration": 0,
    "start_time": "2023-05-18T08:41:28.686Z"
   },
   {
    "duration": 0,
    "start_time": "2023-05-18T08:41:28.688Z"
   },
   {
    "duration": 0,
    "start_time": "2023-05-18T08:41:28.689Z"
   },
   {
    "duration": 2061,
    "start_time": "2023-05-18T08:43:23.914Z"
   },
   {
    "duration": 1223,
    "start_time": "2023-05-18T08:43:25.986Z"
   },
   {
    "duration": 383,
    "start_time": "2023-05-18T08:43:27.214Z"
   },
   {
    "duration": 7,
    "start_time": "2023-05-18T08:43:27.599Z"
   },
   {
    "duration": 3997,
    "start_time": "2023-05-18T08:43:27.610Z"
   },
   {
    "duration": 12,
    "start_time": "2023-05-18T08:43:31.613Z"
   },
   {
    "duration": 226,
    "start_time": "2023-05-18T08:43:31.628Z"
   },
   {
    "duration": 9808,
    "start_time": "2023-05-18T08:43:31.859Z"
   },
   {
    "duration": 15557,
    "start_time": "2023-05-18T08:43:41.668Z"
   },
   {
    "duration": 5,
    "start_time": "2023-05-18T08:43:57.226Z"
   },
   {
    "duration": 66262,
    "start_time": "2023-05-18T08:43:57.233Z"
   },
   {
    "duration": 1294,
    "start_time": "2023-05-18T08:45:03.565Z"
   },
   {
    "duration": 0,
    "start_time": "2023-05-18T08:45:04.862Z"
   },
   {
    "duration": 0,
    "start_time": "2023-05-18T08:45:04.864Z"
   },
   {
    "duration": 0,
    "start_time": "2023-05-18T08:45:04.866Z"
   },
   {
    "duration": 0,
    "start_time": "2023-05-18T08:45:04.870Z"
   },
   {
    "duration": 0,
    "start_time": "2023-05-18T08:45:04.873Z"
   },
   {
    "duration": 0,
    "start_time": "2023-05-18T08:45:04.876Z"
   },
   {
    "duration": 0,
    "start_time": "2023-05-18T08:45:04.878Z"
   },
   {
    "duration": 264,
    "start_time": "2023-05-18T08:45:14.067Z"
   },
   {
    "duration": 1943,
    "start_time": "2023-05-18T08:45:32.412Z"
   },
   {
    "duration": 1106,
    "start_time": "2023-05-18T08:45:34.358Z"
   },
   {
    "duration": 335,
    "start_time": "2023-05-18T08:45:35.469Z"
   },
   {
    "duration": 6,
    "start_time": "2023-05-18T08:45:35.806Z"
   },
   {
    "duration": 3438,
    "start_time": "2023-05-18T08:45:35.815Z"
   },
   {
    "duration": 12,
    "start_time": "2023-05-18T08:45:39.261Z"
   },
   {
    "duration": 176,
    "start_time": "2023-05-18T08:45:39.275Z"
   },
   {
    "duration": 9068,
    "start_time": "2023-05-18T08:45:39.452Z"
   },
   {
    "duration": 15332,
    "start_time": "2023-05-18T08:45:48.522Z"
   },
   {
    "duration": 6,
    "start_time": "2023-05-18T08:46:03.855Z"
   },
   {
    "duration": 69995,
    "start_time": "2023-05-18T08:46:03.875Z"
   },
   {
    "duration": 256,
    "start_time": "2023-05-18T08:47:13.874Z"
   },
   {
    "duration": 0,
    "start_time": "2023-05-18T08:47:14.132Z"
   },
   {
    "duration": 0,
    "start_time": "2023-05-18T08:47:14.134Z"
   },
   {
    "duration": 0,
    "start_time": "2023-05-18T08:47:14.135Z"
   },
   {
    "duration": 0,
    "start_time": "2023-05-18T08:47:14.137Z"
   },
   {
    "duration": 0,
    "start_time": "2023-05-18T08:47:14.138Z"
   },
   {
    "duration": 0,
    "start_time": "2023-05-18T08:47:14.158Z"
   },
   {
    "duration": 2390,
    "start_time": "2023-05-18T08:47:35.046Z"
   },
   {
    "duration": 1152,
    "start_time": "2023-05-18T08:47:37.439Z"
   },
   {
    "duration": 389,
    "start_time": "2023-05-18T08:47:38.593Z"
   },
   {
    "duration": 10,
    "start_time": "2023-05-18T08:47:38.985Z"
   },
   {
    "duration": 3601,
    "start_time": "2023-05-18T08:47:38.998Z"
   },
   {
    "duration": 23,
    "start_time": "2023-05-18T08:47:42.602Z"
   },
   {
    "duration": 225,
    "start_time": "2023-05-18T08:47:42.628Z"
   },
   {
    "duration": 9768,
    "start_time": "2023-05-18T08:47:42.861Z"
   },
   {
    "duration": 14741,
    "start_time": "2023-05-18T08:47:52.631Z"
   },
   {
    "duration": 8,
    "start_time": "2023-05-18T08:48:07.380Z"
   },
   {
    "duration": 67790,
    "start_time": "2023-05-18T08:48:07.395Z"
   },
   {
    "duration": 58665,
    "start_time": "2023-05-18T08:49:15.194Z"
   },
   {
    "duration": 44096,
    "start_time": "2023-05-18T08:50:13.866Z"
   },
   {
    "duration": 91,
    "start_time": "2023-05-18T08:50:57.971Z"
   },
   {
    "duration": 1249,
    "start_time": "2023-05-18T08:50:58.074Z"
   },
   {
    "duration": 40150,
    "start_time": "2023-05-18T08:50:59.325Z"
   },
   {
    "duration": 154,
    "start_time": "2023-05-18T08:51:39.482Z"
   },
   {
    "duration": 0,
    "start_time": "2023-05-18T08:51:39.638Z"
   },
   {
    "duration": 44,
    "start_time": "2023-05-18T08:52:10.829Z"
   },
   {
    "duration": 2003,
    "start_time": "2023-05-18T08:54:33.205Z"
   },
   {
    "duration": 993,
    "start_time": "2023-05-18T08:54:35.210Z"
   },
   {
    "duration": 375,
    "start_time": "2023-05-18T08:54:36.206Z"
   },
   {
    "duration": 8,
    "start_time": "2023-05-18T08:54:36.586Z"
   },
   {
    "duration": 3454,
    "start_time": "2023-05-18T08:54:36.597Z"
   },
   {
    "duration": 32,
    "start_time": "2023-05-18T08:54:40.061Z"
   },
   {
    "duration": 171,
    "start_time": "2023-05-18T08:54:40.098Z"
   },
   {
    "duration": 9204,
    "start_time": "2023-05-18T08:54:40.275Z"
   },
   {
    "duration": 14725,
    "start_time": "2023-05-18T08:54:49.481Z"
   },
   {
    "duration": 5,
    "start_time": "2023-05-18T08:55:04.209Z"
   },
   {
    "duration": 60382,
    "start_time": "2023-05-18T08:55:04.216Z"
   },
   {
    "duration": 44050,
    "start_time": "2023-05-18T08:56:04.651Z"
   },
   {
    "duration": 34351,
    "start_time": "2023-05-18T08:56:48.703Z"
   },
   {
    "duration": 54,
    "start_time": "2023-05-18T08:57:23.060Z"
   },
   {
    "duration": 1205,
    "start_time": "2023-05-18T08:57:23.116Z"
   },
   {
    "duration": 27048,
    "start_time": "2023-05-18T08:57:24.324Z"
   },
   {
    "duration": 78,
    "start_time": "2023-05-18T08:57:51.375Z"
   },
   {
    "duration": 309690,
    "start_time": "2023-05-18T08:57:51.456Z"
   },
   {
    "duration": 29410,
    "start_time": "2023-05-18T09:03:01.148Z"
   },
   {
    "duration": 1842,
    "start_time": "2023-05-18T09:07:41.301Z"
   },
   {
    "duration": 980,
    "start_time": "2023-05-18T09:07:43.145Z"
   },
   {
    "duration": 400,
    "start_time": "2023-05-18T09:07:44.128Z"
   },
   {
    "duration": 3,
    "start_time": "2023-05-18T09:07:44.531Z"
   },
   {
    "duration": 3612,
    "start_time": "2023-05-18T09:07:44.536Z"
   },
   {
    "duration": 50,
    "start_time": "2023-05-18T09:07:48.153Z"
   },
   {
    "duration": 209,
    "start_time": "2023-05-18T09:07:48.207Z"
   },
   {
    "duration": 9728,
    "start_time": "2023-05-18T09:07:48.417Z"
   },
   {
    "duration": 13979,
    "start_time": "2023-05-18T09:07:58.147Z"
   },
   {
    "duration": 5,
    "start_time": "2023-05-18T09:08:12.128Z"
   },
   {
    "duration": 69443,
    "start_time": "2023-05-18T09:08:12.134Z"
   },
   {
    "duration": 58180,
    "start_time": "2023-05-18T09:09:21.582Z"
   },
   {
    "duration": 43147,
    "start_time": "2023-05-18T09:10:19.764Z"
   },
   {
    "duration": 114,
    "start_time": "2023-05-18T09:11:02.917Z"
   },
   {
    "duration": 1540,
    "start_time": "2023-05-18T09:11:03.033Z"
   },
   {
    "duration": 32084,
    "start_time": "2023-05-18T09:11:04.575Z"
   },
   {
    "duration": 80,
    "start_time": "2023-05-18T09:11:36.661Z"
   },
   {
    "duration": 353069,
    "start_time": "2023-05-18T09:11:36.742Z"
   },
   {
    "duration": 29131,
    "start_time": "2023-05-18T09:17:29.816Z"
   },
   {
    "duration": 756207,
    "start_time": "2023-05-18T09:17:58.949Z"
   },
   {
    "duration": 560455,
    "start_time": "2023-05-18T09:30:35.158Z"
   },
   {
    "duration": 210,
    "start_time": "2023-05-18T09:39:55.615Z"
   },
   {
    "duration": 1889,
    "start_time": "2023-05-18T10:11:32.411Z"
   },
   {
    "duration": 1032,
    "start_time": "2023-05-18T10:11:34.308Z"
   },
   {
    "duration": 308,
    "start_time": "2023-05-18T10:11:35.342Z"
   },
   {
    "duration": 11,
    "start_time": "2023-05-18T10:11:35.658Z"
   },
   {
    "duration": 3089,
    "start_time": "2023-05-18T10:11:35.670Z"
   },
   {
    "duration": 20,
    "start_time": "2023-05-18T10:11:38.768Z"
   },
   {
    "duration": 184,
    "start_time": "2023-05-18T10:11:38.791Z"
   },
   {
    "duration": 8070,
    "start_time": "2023-05-18T10:11:38.977Z"
   },
   {
    "duration": 12601,
    "start_time": "2023-05-18T10:11:47.050Z"
   },
   {
    "duration": 5,
    "start_time": "2023-05-18T10:11:59.661Z"
   },
   {
    "duration": 62210,
    "start_time": "2023-05-18T10:11:59.669Z"
   },
   {
    "duration": 57993,
    "start_time": "2023-05-18T10:13:01.882Z"
   },
   {
    "duration": 55287,
    "start_time": "2023-05-18T10:13:59.877Z"
   },
   {
    "duration": 68,
    "start_time": "2023-05-18T10:14:55.167Z"
   },
   {
    "duration": 1183,
    "start_time": "2023-05-18T10:14:55.237Z"
   },
   {
    "duration": 26831,
    "start_time": "2023-05-18T10:14:56.422Z"
   },
   {
    "duration": 101,
    "start_time": "2023-05-18T10:15:23.256Z"
   },
   {
    "duration": 337747,
    "start_time": "2023-05-18T10:15:23.359Z"
   },
   {
    "duration": 29223,
    "start_time": "2023-05-18T10:21:01.108Z"
   },
   {
    "duration": 567101,
    "start_time": "2023-05-18T10:21:30.333Z"
   },
   {
    "duration": 30314,
    "start_time": "2023-05-18T10:30:57.436Z"
   },
   {
    "duration": 498817,
    "start_time": "2023-05-18T10:31:27.757Z"
   },
   {
    "duration": 26,
    "start_time": "2023-05-18T10:39:46.583Z"
   },
   {
    "duration": 1638,
    "start_time": "2023-05-19T09:26:48.081Z"
   },
   {
    "duration": 2222,
    "start_time": "2023-05-19T09:26:49.721Z"
   },
   {
    "duration": 270,
    "start_time": "2023-05-19T09:26:51.944Z"
   },
   {
    "duration": 3,
    "start_time": "2023-05-19T09:26:52.216Z"
   },
   {
    "duration": 2604,
    "start_time": "2023-05-19T09:26:52.220Z"
   },
   {
    "duration": 134,
    "start_time": "2023-05-19T09:26:54.826Z"
   },
   {
    "duration": 0,
    "start_time": "2023-05-19T09:26:54.962Z"
   },
   {
    "duration": 0,
    "start_time": "2023-05-19T09:26:54.964Z"
   },
   {
    "duration": 0,
    "start_time": "2023-05-19T09:26:54.965Z"
   },
   {
    "duration": 0,
    "start_time": "2023-05-19T09:26:54.966Z"
   },
   {
    "duration": 0,
    "start_time": "2023-05-19T09:26:54.968Z"
   },
   {
    "duration": 0,
    "start_time": "2023-05-19T09:26:54.969Z"
   },
   {
    "duration": 0,
    "start_time": "2023-05-19T09:26:54.985Z"
   },
   {
    "duration": 0,
    "start_time": "2023-05-19T09:26:54.986Z"
   },
   {
    "duration": 0,
    "start_time": "2023-05-19T09:26:54.987Z"
   },
   {
    "duration": 0,
    "start_time": "2023-05-19T09:26:54.988Z"
   },
   {
    "duration": 0,
    "start_time": "2023-05-19T09:26:54.989Z"
   },
   {
    "duration": 1457,
    "start_time": "2023-05-19T09:27:15.680Z"
   },
   {
    "duration": 809,
    "start_time": "2023-05-19T09:27:17.139Z"
   },
   {
    "duration": 243,
    "start_time": "2023-05-19T09:27:17.949Z"
   },
   {
    "duration": 2,
    "start_time": "2023-05-19T09:27:18.194Z"
   },
   {
    "duration": 2286,
    "start_time": "2023-05-19T09:27:18.198Z"
   },
   {
    "duration": 125,
    "start_time": "2023-05-19T09:27:20.486Z"
   },
   {
    "duration": 1,
    "start_time": "2023-05-19T09:27:20.612Z"
   },
   {
    "duration": 0,
    "start_time": "2023-05-19T09:27:20.614Z"
   },
   {
    "duration": 0,
    "start_time": "2023-05-19T09:27:20.615Z"
   },
   {
    "duration": 0,
    "start_time": "2023-05-19T09:27:20.616Z"
   },
   {
    "duration": 0,
    "start_time": "2023-05-19T09:27:20.616Z"
   },
   {
    "duration": 0,
    "start_time": "2023-05-19T09:27:20.617Z"
   },
   {
    "duration": 0,
    "start_time": "2023-05-19T09:27:20.619Z"
   },
   {
    "duration": 0,
    "start_time": "2023-05-19T09:27:20.619Z"
   },
   {
    "duration": 1,
    "start_time": "2023-05-19T09:27:20.620Z"
   },
   {
    "duration": 0,
    "start_time": "2023-05-19T09:27:20.621Z"
   },
   {
    "duration": 0,
    "start_time": "2023-05-19T09:27:20.622Z"
   },
   {
    "duration": 9,
    "start_time": "2023-05-19T09:28:00.091Z"
   },
   {
    "duration": 121,
    "start_time": "2023-05-19T09:28:06.400Z"
   },
   {
    "duration": 8,
    "start_time": "2023-05-19T09:28:31.314Z"
   },
   {
    "duration": 10,
    "start_time": "2023-05-19T09:30:43.225Z"
   },
   {
    "duration": 10,
    "start_time": "2023-05-19T09:32:57.885Z"
   },
   {
    "duration": 118,
    "start_time": "2023-05-19T09:33:01.548Z"
   },
   {
    "duration": 10,
    "start_time": "2023-05-19T09:33:03.774Z"
   },
   {
    "duration": 1480,
    "start_time": "2023-05-19T09:33:50.465Z"
   },
   {
    "duration": 826,
    "start_time": "2023-05-19T09:33:51.948Z"
   },
   {
    "duration": 253,
    "start_time": "2023-05-19T09:33:52.776Z"
   },
   {
    "duration": 3,
    "start_time": "2023-05-19T09:33:53.031Z"
   },
   {
    "duration": 2381,
    "start_time": "2023-05-19T09:33:53.035Z"
   },
   {
    "duration": 11,
    "start_time": "2023-05-19T09:33:55.418Z"
   },
   {
    "duration": 145,
    "start_time": "2023-05-19T09:33:55.430Z"
   },
   {
    "duration": 136,
    "start_time": "2023-05-19T09:33:55.576Z"
   },
   {
    "duration": 0,
    "start_time": "2023-05-19T09:33:55.714Z"
   },
   {
    "duration": 0,
    "start_time": "2023-05-19T09:33:55.715Z"
   },
   {
    "duration": 0,
    "start_time": "2023-05-19T09:33:55.716Z"
   },
   {
    "duration": 1,
    "start_time": "2023-05-19T09:33:55.717Z"
   },
   {
    "duration": 0,
    "start_time": "2023-05-19T09:33:55.718Z"
   },
   {
    "duration": 0,
    "start_time": "2023-05-19T09:33:55.719Z"
   },
   {
    "duration": 0,
    "start_time": "2023-05-19T09:33:55.720Z"
   },
   {
    "duration": 0,
    "start_time": "2023-05-19T09:33:55.721Z"
   },
   {
    "duration": 0,
    "start_time": "2023-05-19T09:33:55.721Z"
   },
   {
    "duration": 1566,
    "start_time": "2023-05-19T09:34:23.212Z"
   },
   {
    "duration": 801,
    "start_time": "2023-05-19T09:34:24.779Z"
   },
   {
    "duration": 258,
    "start_time": "2023-05-19T09:34:25.581Z"
   },
   {
    "duration": 3,
    "start_time": "2023-05-19T09:34:25.841Z"
   },
   {
    "duration": 2479,
    "start_time": "2023-05-19T09:34:25.846Z"
   },
   {
    "duration": 14,
    "start_time": "2023-05-19T09:34:28.327Z"
   },
   {
    "duration": 151,
    "start_time": "2023-05-19T09:34:28.342Z"
   },
   {
    "duration": 33408,
    "start_time": "2023-05-19T09:34:28.495Z"
   },
   {
    "duration": 150,
    "start_time": "2023-05-19T09:35:01.904Z"
   },
   {
    "duration": 0,
    "start_time": "2023-05-19T09:35:02.056Z"
   },
   {
    "duration": 0,
    "start_time": "2023-05-19T09:35:02.057Z"
   },
   {
    "duration": 0,
    "start_time": "2023-05-19T09:35:02.058Z"
   },
   {
    "duration": 0,
    "start_time": "2023-05-19T09:35:02.059Z"
   },
   {
    "duration": 0,
    "start_time": "2023-05-19T09:35:02.060Z"
   },
   {
    "duration": 0,
    "start_time": "2023-05-19T09:35:02.061Z"
   },
   {
    "duration": 0,
    "start_time": "2023-05-19T09:35:02.062Z"
   },
   {
    "duration": 0,
    "start_time": "2023-05-19T09:35:02.064Z"
   },
   {
    "duration": 22,
    "start_time": "2023-05-19T09:40:06.024Z"
   },
   {
    "duration": 1454,
    "start_time": "2023-05-19T09:44:34.285Z"
   },
   {
    "duration": 747,
    "start_time": "2023-05-19T09:44:35.741Z"
   },
   {
    "duration": 226,
    "start_time": "2023-05-19T09:44:36.489Z"
   },
   {
    "duration": 3,
    "start_time": "2023-05-19T09:44:36.717Z"
   },
   {
    "duration": 2257,
    "start_time": "2023-05-19T09:44:36.722Z"
   },
   {
    "duration": 12,
    "start_time": "2023-05-19T09:44:38.981Z"
   },
   {
    "duration": 132,
    "start_time": "2023-05-19T09:44:38.995Z"
   },
   {
    "duration": 30505,
    "start_time": "2023-05-19T09:44:39.129Z"
   },
   {
    "duration": 18,
    "start_time": "2023-05-19T09:45:09.636Z"
   },
   {
    "duration": 15,
    "start_time": "2023-05-19T09:45:09.656Z"
   },
   {
    "duration": 126,
    "start_time": "2023-05-19T09:45:09.672Z"
   },
   {
    "duration": 1,
    "start_time": "2023-05-19T09:45:09.799Z"
   },
   {
    "duration": 0,
    "start_time": "2023-05-19T09:45:09.800Z"
   },
   {
    "duration": 0,
    "start_time": "2023-05-19T09:45:09.801Z"
   },
   {
    "duration": 0,
    "start_time": "2023-05-19T09:45:09.802Z"
   },
   {
    "duration": 0,
    "start_time": "2023-05-19T09:45:09.803Z"
   },
   {
    "duration": 0,
    "start_time": "2023-05-19T09:45:09.804Z"
   },
   {
    "duration": 0,
    "start_time": "2023-05-19T09:45:09.805Z"
   },
   {
    "duration": 5,
    "start_time": "2023-05-19T09:48:07.067Z"
   },
   {
    "duration": 1560,
    "start_time": "2023-05-19T09:48:50.414Z"
   },
   {
    "duration": 821,
    "start_time": "2023-05-19T09:48:51.975Z"
   },
   {
    "duration": 268,
    "start_time": "2023-05-19T09:48:52.797Z"
   },
   {
    "duration": 3,
    "start_time": "2023-05-19T09:48:53.066Z"
   },
   {
    "duration": 2619,
    "start_time": "2023-05-19T09:48:53.084Z"
   },
   {
    "duration": 11,
    "start_time": "2023-05-19T09:48:55.705Z"
   },
   {
    "duration": 174,
    "start_time": "2023-05-19T09:48:55.718Z"
   },
   {
    "duration": 31681,
    "start_time": "2023-05-19T09:48:55.894Z"
   },
   {
    "duration": 24,
    "start_time": "2023-05-19T09:49:27.576Z"
   },
   {
    "duration": 4,
    "start_time": "2023-05-19T09:49:27.601Z"
   },
   {
    "duration": 1611,
    "start_time": "2023-05-19T09:52:40.131Z"
   },
   {
    "duration": 763,
    "start_time": "2023-05-19T09:52:41.744Z"
   },
   {
    "duration": 280,
    "start_time": "2023-05-19T09:52:42.508Z"
   },
   {
    "duration": 5,
    "start_time": "2023-05-19T09:52:42.790Z"
   },
   {
    "duration": 2460,
    "start_time": "2023-05-19T09:52:42.797Z"
   },
   {
    "duration": 13,
    "start_time": "2023-05-19T09:52:45.259Z"
   },
   {
    "duration": 139,
    "start_time": "2023-05-19T09:52:45.285Z"
   },
   {
    "duration": 32448,
    "start_time": "2023-05-19T09:52:45.427Z"
   },
   {
    "duration": 25,
    "start_time": "2023-05-19T09:53:17.877Z"
   },
   {
    "duration": 6,
    "start_time": "2023-05-19T09:53:17.904Z"
   },
   {
    "duration": 1549,
    "start_time": "2023-05-19T12:00:09.154Z"
   },
   {
    "duration": 753,
    "start_time": "2023-05-19T12:00:10.705Z"
   },
   {
    "duration": 250,
    "start_time": "2023-05-19T12:00:11.459Z"
   },
   {
    "duration": 2,
    "start_time": "2023-05-19T12:00:11.711Z"
   },
   {
    "duration": 2401,
    "start_time": "2023-05-19T12:00:11.715Z"
   },
   {
    "duration": 11,
    "start_time": "2023-05-19T12:00:14.117Z"
   },
   {
    "duration": 139,
    "start_time": "2023-05-19T12:00:14.129Z"
   },
   {
    "duration": 32406,
    "start_time": "2023-05-19T12:00:14.271Z"
   },
   {
    "duration": 27,
    "start_time": "2023-05-19T12:00:46.678Z"
   },
   {
    "duration": 5,
    "start_time": "2023-05-19T12:00:46.707Z"
   },
   {
    "duration": 1565,
    "start_time": "2023-05-19T12:09:55.558Z"
   },
   {
    "duration": 762,
    "start_time": "2023-05-19T12:09:57.125Z"
   },
   {
    "duration": 249,
    "start_time": "2023-05-19T12:09:57.888Z"
   },
   {
    "duration": 3,
    "start_time": "2023-05-19T12:09:58.138Z"
   },
   {
    "duration": 2310,
    "start_time": "2023-05-19T12:09:58.143Z"
   },
   {
    "duration": 11,
    "start_time": "2023-05-19T12:10:00.454Z"
   },
   {
    "duration": 143,
    "start_time": "2023-05-19T12:10:00.466Z"
   },
   {
    "duration": 32321,
    "start_time": "2023-05-19T12:10:00.610Z"
   },
   {
    "duration": 0,
    "start_time": "2023-05-19T12:10:32.932Z"
   },
   {
    "duration": 1528,
    "start_time": "2023-05-19T12:11:26.018Z"
   },
   {
    "duration": 731,
    "start_time": "2023-05-19T12:11:27.548Z"
   },
   {
    "duration": 239,
    "start_time": "2023-05-19T12:11:28.281Z"
   },
   {
    "duration": 3,
    "start_time": "2023-05-19T12:11:28.522Z"
   },
   {
    "duration": 2323,
    "start_time": "2023-05-19T12:11:28.527Z"
   },
   {
    "duration": 11,
    "start_time": "2023-05-19T12:11:30.851Z"
   },
   {
    "duration": 151,
    "start_time": "2023-05-19T12:11:30.863Z"
   },
   {
    "duration": 32484,
    "start_time": "2023-05-19T12:11:31.016Z"
   },
   {
    "duration": 1260,
    "start_time": "2023-05-19T12:12:03.502Z"
   },
   {
    "duration": 720,
    "start_time": "2023-05-19T12:12:53.687Z"
   },
   {
    "duration": 1575,
    "start_time": "2023-05-19T12:17:35.099Z"
   },
   {
    "duration": 737,
    "start_time": "2023-05-19T12:17:36.676Z"
   },
   {
    "duration": 238,
    "start_time": "2023-05-19T12:17:37.414Z"
   },
   {
    "duration": 3,
    "start_time": "2023-05-19T12:17:37.653Z"
   },
   {
    "duration": 2338,
    "start_time": "2023-05-19T12:17:37.657Z"
   },
   {
    "duration": 11,
    "start_time": "2023-05-19T12:17:39.996Z"
   },
   {
    "duration": 140,
    "start_time": "2023-05-19T12:17:40.009Z"
   },
   {
    "duration": 32792,
    "start_time": "2023-05-19T12:17:40.150Z"
   },
   {
    "duration": 122,
    "start_time": "2023-05-19T12:18:12.943Z"
   },
   {
    "duration": 960,
    "start_time": "2023-05-19T12:18:47.766Z"
   },
   {
    "duration": 5664,
    "start_time": "2023-05-19T12:19:34.796Z"
   },
   {
    "duration": 5990,
    "start_time": "2023-05-19T12:22:14.026Z"
   },
   {
    "duration": 48,
    "start_time": "2023-05-19T12:22:20.018Z"
   },
   {
    "duration": 11,
    "start_time": "2023-05-19T12:22:21.462Z"
   },
   {
    "duration": 1502,
    "start_time": "2023-05-19T12:24:27.971Z"
   },
   {
    "duration": 756,
    "start_time": "2023-05-19T12:24:29.474Z"
   },
   {
    "duration": 263,
    "start_time": "2023-05-19T12:24:30.232Z"
   },
   {
    "duration": 3,
    "start_time": "2023-05-19T12:24:30.496Z"
   },
   {
    "duration": 2425,
    "start_time": "2023-05-19T12:24:30.502Z"
   },
   {
    "duration": 13,
    "start_time": "2023-05-19T12:24:32.928Z"
   },
   {
    "duration": 135,
    "start_time": "2023-05-19T12:24:32.942Z"
   },
   {
    "duration": 32123,
    "start_time": "2023-05-19T12:24:33.078Z"
   },
   {
    "duration": 5705,
    "start_time": "2023-05-19T12:25:05.203Z"
   },
   {
    "duration": 46,
    "start_time": "2023-05-19T12:25:10.909Z"
   },
   {
    "duration": 142,
    "start_time": "2023-05-19T12:25:10.957Z"
   },
   {
    "duration": 0,
    "start_time": "2023-05-19T12:25:11.101Z"
   },
   {
    "duration": 1487,
    "start_time": "2023-05-19T12:29:59.141Z"
   },
   {
    "duration": 749,
    "start_time": "2023-05-19T12:30:00.630Z"
   },
   {
    "duration": 268,
    "start_time": "2023-05-19T12:30:01.380Z"
   },
   {
    "duration": 4,
    "start_time": "2023-05-19T12:30:01.650Z"
   },
   {
    "duration": 2415,
    "start_time": "2023-05-19T12:30:01.656Z"
   },
   {
    "duration": 16,
    "start_time": "2023-05-19T12:30:04.073Z"
   },
   {
    "duration": 131,
    "start_time": "2023-05-19T12:30:04.091Z"
   },
   {
    "duration": 31685,
    "start_time": "2023-05-19T12:30:04.223Z"
   },
   {
    "duration": 5739,
    "start_time": "2023-05-19T12:30:35.910Z"
   },
   {
    "duration": 53,
    "start_time": "2023-05-19T12:30:41.651Z"
   },
   {
    "duration": 215009,
    "start_time": "2023-05-19T12:30:41.706Z"
   },
   {
    "duration": 22813,
    "start_time": "2023-05-19T12:34:16.716Z"
   },
   {
    "duration": 20798,
    "start_time": "2023-05-19T12:35:17.109Z"
   },
   {
    "duration": 1584,
    "start_time": "2023-05-19T12:39:15.421Z"
   },
   {
    "duration": 802,
    "start_time": "2023-05-19T12:39:17.007Z"
   },
   {
    "duration": 262,
    "start_time": "2023-05-19T12:39:17.811Z"
   },
   {
    "duration": 10,
    "start_time": "2023-05-19T12:39:18.075Z"
   },
   {
    "duration": 2370,
    "start_time": "2023-05-19T12:39:18.086Z"
   },
   {
    "duration": 12,
    "start_time": "2023-05-19T12:39:20.458Z"
   },
   {
    "duration": 136,
    "start_time": "2023-05-19T12:39:20.472Z"
   },
   {
    "duration": 34309,
    "start_time": "2023-05-19T12:39:20.609Z"
   },
   {
    "duration": 6218,
    "start_time": "2023-05-19T12:39:54.919Z"
   },
   {
    "duration": 50,
    "start_time": "2023-05-19T12:40:01.140Z"
   },
   {
    "duration": 234127,
    "start_time": "2023-05-19T12:40:01.192Z"
   },
   {
    "duration": 89,
    "start_time": "2023-05-19T12:43:55.320Z"
   },
   {
    "duration": 0,
    "start_time": "2023-05-19T12:43:55.411Z"
   },
   {
    "duration": 46,
    "start_time": "2023-05-19T12:44:26.282Z"
   },
   {
    "duration": 69,
    "start_time": "2023-05-19T12:45:17.839Z"
   },
   {
    "duration": 65,
    "start_time": "2023-05-19T12:45:47.216Z"
   },
   {
    "duration": 137,
    "start_time": "2023-05-19T12:45:57.988Z"
   },
   {
    "duration": 1540,
    "start_time": "2023-05-19T12:47:11.556Z"
   },
   {
    "duration": 764,
    "start_time": "2023-05-19T12:47:13.098Z"
   },
   {
    "duration": 253,
    "start_time": "2023-05-19T12:47:13.863Z"
   },
   {
    "duration": 3,
    "start_time": "2023-05-19T12:47:14.118Z"
   },
   {
    "duration": 2520,
    "start_time": "2023-05-19T12:47:14.122Z"
   },
   {
    "duration": 11,
    "start_time": "2023-05-19T12:47:16.644Z"
   },
   {
    "duration": 142,
    "start_time": "2023-05-19T12:47:16.657Z"
   },
   {
    "duration": 33528,
    "start_time": "2023-05-19T12:47:16.800Z"
   },
   {
    "duration": 6269,
    "start_time": "2023-05-19T12:47:50.330Z"
   },
   {
    "duration": 46,
    "start_time": "2023-05-19T12:47:56.600Z"
   },
   {
    "duration": 218680,
    "start_time": "2023-05-19T12:47:56.647Z"
   },
   {
    "duration": 132,
    "start_time": "2023-05-19T12:51:35.329Z"
   },
   {
    "duration": 0,
    "start_time": "2023-05-19T12:51:35.463Z"
   },
   {
    "duration": 0,
    "start_time": "2023-05-19T12:51:35.464Z"
   },
   {
    "duration": 1428,
    "start_time": "2023-05-19T12:53:20.827Z"
   },
   {
    "duration": 746,
    "start_time": "2023-05-19T12:53:22.257Z"
   },
   {
    "duration": 248,
    "start_time": "2023-05-19T12:53:23.004Z"
   },
   {
    "duration": 2,
    "start_time": "2023-05-19T12:53:23.255Z"
   },
   {
    "duration": 2316,
    "start_time": "2023-05-19T12:53:23.258Z"
   },
   {
    "duration": 19,
    "start_time": "2023-05-19T12:53:25.575Z"
   },
   {
    "duration": 144,
    "start_time": "2023-05-19T12:53:25.596Z"
   },
   {
    "duration": 32850,
    "start_time": "2023-05-19T12:53:25.742Z"
   },
   {
    "duration": 6162,
    "start_time": "2023-05-19T12:53:58.593Z"
   },
   {
    "duration": 55,
    "start_time": "2023-05-19T12:54:04.757Z"
   },
   {
    "duration": 228411,
    "start_time": "2023-05-19T12:54:04.813Z"
   },
   {
    "duration": 452114,
    "start_time": "2023-05-19T12:57:53.226Z"
   },
   {
    "duration": 193289,
    "start_time": "2023-05-19T13:05:25.342Z"
   },
   {
    "duration": 1684,
    "start_time": "2023-05-19T13:09:55.624Z"
   },
   {
    "duration": 873,
    "start_time": "2023-05-19T13:09:57.311Z"
   },
   {
    "duration": 276,
    "start_time": "2023-05-19T13:09:58.186Z"
   },
   {
    "duration": 3,
    "start_time": "2023-05-19T13:09:58.464Z"
   },
   {
    "duration": 2580,
    "start_time": "2023-05-19T13:09:58.469Z"
   },
   {
    "duration": 14,
    "start_time": "2023-05-19T13:10:01.051Z"
   },
   {
    "duration": 179,
    "start_time": "2023-05-19T13:10:01.067Z"
   },
   {
    "duration": 33046,
    "start_time": "2023-05-19T13:10:01.248Z"
   },
   {
    "duration": 6455,
    "start_time": "2023-05-19T13:10:34.295Z"
   },
   {
    "duration": 33,
    "start_time": "2023-05-19T13:10:40.751Z"
   },
   {
    "duration": 320611,
    "start_time": "2023-05-19T13:10:40.786Z"
   },
   {
    "duration": 825427,
    "start_time": "2023-05-19T13:16:01.400Z"
   },
   {
    "duration": 580473,
    "start_time": "2023-05-19T13:29:46.829Z"
   },
   {
    "duration": 1584,
    "start_time": "2023-05-19T13:39:27.306Z"
   },
   {
    "duration": 1642,
    "start_time": "2023-05-19T13:41:36.989Z"
   },
   {
    "duration": 8,
    "start_time": "2023-05-19T13:42:16.599Z"
   },
   {
    "duration": 8,
    "start_time": "2023-05-19T13:42:29.486Z"
   },
   {
    "duration": 9,
    "start_time": "2023-05-19T13:42:36.569Z"
   },
   {
    "duration": 9,
    "start_time": "2023-05-19T13:46:13.983Z"
   },
   {
    "duration": 11,
    "start_time": "2023-05-19T13:50:46.220Z"
   },
   {
    "duration": 36516,
    "start_time": "2023-05-19T13:52:08.090Z"
   },
   {
    "duration": 66,
    "start_time": "2023-05-19T13:54:09.372Z"
   },
   {
    "duration": 30007,
    "start_time": "2023-05-19T13:54:16.998Z"
   },
   {
    "duration": 28584,
    "start_time": "2023-05-19T13:59:24.206Z"
   },
   {
    "duration": 43357,
    "start_time": "2023-05-19T14:02:33.341Z"
   },
   {
    "duration": 1445,
    "start_time": "2023-05-19T14:06:17.839Z"
   },
   {
    "duration": 736,
    "start_time": "2023-05-19T14:06:19.285Z"
   },
   {
    "duration": 245,
    "start_time": "2023-05-19T14:06:20.022Z"
   },
   {
    "duration": 2,
    "start_time": "2023-05-19T14:06:20.269Z"
   },
   {
    "duration": 2252,
    "start_time": "2023-05-19T14:06:20.272Z"
   },
   {
    "duration": 11,
    "start_time": "2023-05-19T14:06:22.525Z"
   },
   {
    "duration": 159,
    "start_time": "2023-05-19T14:06:22.537Z"
   },
   {
    "duration": 30928,
    "start_time": "2023-05-19T14:06:22.697Z"
   },
   {
    "duration": 5861,
    "start_time": "2023-05-19T14:06:53.627Z"
   },
   {
    "duration": 20,
    "start_time": "2023-05-19T14:06:59.490Z"
   },
   {
    "duration": 359088,
    "start_time": "2023-05-19T14:06:59.512Z"
   },
   {
    "duration": 927725,
    "start_time": "2023-05-19T14:12:58.602Z"
   },
   {
    "duration": 716596,
    "start_time": "2023-05-19T14:28:26.328Z"
   },
   {
    "duration": 177,
    "start_time": "2023-05-19T14:40:22.926Z"
   },
   {
    "duration": 0,
    "start_time": "2023-05-19T14:40:23.105Z"
   },
   {
    "duration": 45,
    "start_time": "2023-05-19T14:44:21.739Z"
   },
   {
    "duration": 8,
    "start_time": "2023-05-19T14:44:40.827Z"
   },
   {
    "duration": 43571,
    "start_time": "2023-05-19T14:44:44.316Z"
   },
   {
    "duration": 1783,
    "start_time": "2023-05-20T08:00:21.139Z"
   },
   {
    "duration": 3206,
    "start_time": "2023-05-20T08:00:22.924Z"
   },
   {
    "duration": 246,
    "start_time": "2023-05-20T08:00:26.131Z"
   },
   {
    "duration": 3,
    "start_time": "2023-05-20T08:00:26.379Z"
   },
   {
    "duration": 2416,
    "start_time": "2023-05-20T08:00:26.384Z"
   },
   {
    "duration": 11,
    "start_time": "2023-05-20T08:00:28.802Z"
   },
   {
    "duration": 167,
    "start_time": "2023-05-20T08:00:28.815Z"
   },
   {
    "duration": 32274,
    "start_time": "2023-05-20T08:00:28.984Z"
   },
   {
    "duration": 6757,
    "start_time": "2023-05-20T08:01:01.260Z"
   },
   {
    "duration": 31,
    "start_time": "2023-05-20T08:01:08.019Z"
   },
   {
    "duration": 388101,
    "start_time": "2023-05-20T08:01:08.051Z"
   },
   {
    "duration": 1017621,
    "start_time": "2023-05-20T08:07:36.154Z"
   },
   {
    "duration": 742255,
    "start_time": "2023-05-20T08:24:33.777Z"
   },
   {
    "duration": 17,
    "start_time": "2023-05-20T08:36:56.034Z"
   },
   {
    "duration": 71,
    "start_time": "2023-05-20T08:36:56.053Z"
   },
   {
    "duration": 94,
    "start_time": "2023-05-20T08:37:05.819Z"
   },
   {
    "duration": 149,
    "start_time": "2023-05-20T08:37:27.780Z"
   },
   {
    "duration": 91,
    "start_time": "2023-05-20T08:38:30.099Z"
   },
   {
    "duration": 75,
    "start_time": "2023-05-20T08:41:45.039Z"
   },
   {
    "duration": 29,
    "start_time": "2023-05-20T08:45:03.079Z"
   },
   {
    "duration": 46059,
    "start_time": "2023-05-20T08:45:47.600Z"
   },
   {
    "duration": 69,
    "start_time": "2023-05-20T08:47:06.940Z"
   },
   {
    "duration": 78,
    "start_time": "2023-05-20T08:47:27.338Z"
   },
   {
    "duration": 89,
    "start_time": "2023-05-20T08:48:01.274Z"
   },
   {
    "duration": 1598,
    "start_time": "2023-05-20T09:15:04.189Z"
   },
   {
    "duration": 767,
    "start_time": "2023-05-20T09:15:05.789Z"
   },
   {
    "duration": 265,
    "start_time": "2023-05-20T09:15:06.558Z"
   },
   {
    "duration": 4,
    "start_time": "2023-05-20T09:15:06.825Z"
   },
   {
    "duration": 2520,
    "start_time": "2023-05-20T09:15:06.830Z"
   },
   {
    "duration": 12,
    "start_time": "2023-05-20T09:15:09.352Z"
   },
   {
    "duration": 154,
    "start_time": "2023-05-20T09:15:09.365Z"
   },
   {
    "duration": 35100,
    "start_time": "2023-05-20T09:15:09.521Z"
   },
   {
    "duration": 6934,
    "start_time": "2023-05-20T09:15:44.623Z"
   },
   {
    "duration": 23,
    "start_time": "2023-05-20T09:15:51.559Z"
   },
   {
    "duration": 394168,
    "start_time": "2023-05-20T09:15:51.584Z"
   },
   {
    "duration": 1037695,
    "start_time": "2023-05-20T09:22:25.756Z"
   },
   {
    "duration": 751852,
    "start_time": "2023-05-20T09:39:43.453Z"
   },
   {
    "duration": 13,
    "start_time": "2023-05-20T09:52:15.308Z"
   },
   {
    "duration": 72,
    "start_time": "2023-05-20T09:52:15.323Z"
   },
   {
    "duration": 124,
    "start_time": "2023-05-20T09:53:36.744Z"
   },
   {
    "duration": 10,
    "start_time": "2023-05-20T09:53:57.086Z"
   }
  ],
  "kernelspec": {
   "display_name": "Python 3 (ipykernel)",
   "language": "python",
   "name": "python3"
  },
  "language_info": {
   "codemirror_mode": {
    "name": "ipython",
    "version": 3
   },
   "file_extension": ".py",
   "mimetype": "text/x-python",
   "name": "python",
   "nbconvert_exporter": "python",
   "pygments_lexer": "ipython3",
   "version": "3.9.5"
  },
  "toc": {
   "base_numbering": 1,
   "nav_menu": {},
   "number_sections": true,
   "sideBar": true,
   "skip_h1_title": true,
   "title_cell": "Содержание",
   "title_sidebar": "Contents",
   "toc_cell": true,
   "toc_position": {
    "height": "calc(100% - 180px)",
    "left": "10px",
    "top": "150px",
    "width": "302.391px"
   },
   "toc_section_display": true,
   "toc_window_display": false
  }
 },
 "nbformat": 4,
 "nbformat_minor": 2
}
