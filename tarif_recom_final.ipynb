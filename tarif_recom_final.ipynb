{
 "cells": [
  {
   "cell_type": "markdown",
   "metadata": {},
   "source": [
    "**Антон, привет!**\n",
    "\n",
    "Меня зовут Соколова Александра, я буду проверять твой проект. Приятно познакомиться:)\n",
    "    \n",
    "Предлагаю общаться на «ты», но если тебе не очень комфортно - дай, пожалуйста, знать. \n",
    "\n",
    "Ты уже проделал большую работу над проектом, давай сделаем его еще лучше. Ниже ты найдешь мои комментарии, пожалуйста, не перемещай, не изменяй и не удаляй их. Давай использовать цветовую разметку:\n",
    "\n",
    "<div class=\"alert alert-danger\">\n",
    "<b>❌ Комментарий ревьюера:</b> Так выделены самые важные замечания, их нужно обязательно проработать. </div>\n",
    "\n",
    "<div class=\"alert alert-warning\">\n",
    "<b>⚠️ Комментарий ревьюера:</b> Так выделены небольшие замечания, некритичные ошибки или развивающие рекомендации на будущее. \n",
    "\n",
    "</div>\n",
    "\n",
    "<div class=\"alert alert-success\">\n",
    "<b>✔️ Комментарий ревьюера:</b> Все отлично:) </div>\n",
    "\n",
    "Давай работать над проектом в диалоге: если ты что-то меняешь или отвечаешь на мои комменатри — пиши об этом. Мне будет легче отследить изменения, если ты выделишь свои комментарии:\n",
    "<div class=\"alert alert-info\"> <b>Комментарий студента:</b> Например, вот так.</div>\n",
    "\n",
    "Всё это поможет выполнить повторную проверку твоего проекта оперативнее. "
   ]
  },
  {
   "cell_type": "markdown",
   "metadata": {},
   "source": [
    "<div class=\"alert alert-success\">\n",
    "<b>✔️ Комментарий ревьюера №2:</b> \n",
    "    \n",
    "Антон, привет!\n",
    "    \n",
    "Новые комментарии будут обозначены, как: **Комментарий  ревьюера №2**\n",
    "\n",
    "</div>"
   ]
  },
  {
   "cell_type": "markdown",
   "metadata": {},
   "source": [
    "<div class=\"alert alert-success\">\n",
    "<b>✔️ Комментарий ревьюера №3:</b> \n",
    "    \n",
    "Антон, привет!\n",
    "    \n",
    "Новые комментарии будут обозначены, как: **Комментарий  ревьюера №3** =)\n",
    "\n",
    "</div>"
   ]
  },
  {
   "cell_type": "markdown",
   "metadata": {},
   "source": [
    "# Рекомендация тарифов"
   ]
  },
  {
   "cell_type": "markdown",
   "metadata": {},
   "source": [
    "В вашем распоряжении данные о поведении клиентов, которые уже перешли на эти тарифы (из проекта курса «Статистический анализ данных»). Нужно построить модель для задачи классификации, которая выберет подходящий тариф. Предобработка данных не понадобится — вы её уже сделали.\n",
    "\n",
    "Постройте модель с максимально большим значением *accuracy*. Чтобы сдать проект успешно, нужно довести долю правильных ответов по крайней мере до 0.75. Проверьте *accuracy* на тестовой выборке самостоятельно."
   ]
  },
  {
   "cell_type": "markdown",
   "metadata": {},
   "source": [
    "<div class=\"alert alert-warning\">\n",
    "<b>⚠️ Комментарий ревьюера:</b> \n",
    "    \n",
    "На этом этапе было бы здорово немного расширить оформление проекта - написать его своими словами. \n",
    " \n",
    "***\n",
    "    \n",
    "Оформление принято делать к каждому проекту, обычно прописывают название, цели и задачи исследования. Можно добавить этапы работы, а также итоги исследования (что было достигнуто в процессе, к каким выводам пришли, что нашли в данных).\n",
    "   \n",
    "</div>"
   ]
  },
  {
   "cell_type": "markdown",
   "metadata": {},
   "source": [
    "- Структура данных:\n",
    "сalls — количество звонков,\n",
    "minutes — суммарная длительность звонков в минутах,\n",
    "messages — количество sms-сообщений,\n",
    "mb_used — израсходованный интернет-трафик в Мб,\n",
    "is_ultra — каким тарифом пользовался в течение месяца («Ультра» — 1, «Смарт» — 0)."
   ]
  },
  {
   "cell_type": "markdown",
   "metadata": {},
   "source": [
    "- План работы:\n",
    "Изучить файл с данными.\n",
    "Разбить данные на три выборки: обучающая, валидационная и тестовая.\n",
    "Исследовать три модели классификации: Решающее дерево, Случайный лес и Логистическая регрессия.\n",
    "Найти оптимальные параметры для каждой модели и выбрать одну из них для обучения модели.\n",
    "Оценить точность обученной модели.\n",
    "Оценить адекватность модели."
   ]
  },
  {
   "cell_type": "markdown",
   "metadata": {},
   "source": [
    "<div class=\"alert alert-success\">\n",
    "<b>✔️ Комментарий ревьюера №2:</b> \n",
    "    \n",
    "Когда будешь готовить портфолио, обычно его размещают на Github, хорошее введение - это важная часть. \n",
    "    \n",
    "На плюсовых программах Практикума есть Карьерный трек, там hr-специалисты учат готовить портфолио и дают рекомендации в отношении оформления. Для каждого проекта советуют подготовить описание (обычно в README.md сохраняют). Т.е. это базовая составляющая хорошего портфолио \n",
    "\n",
    "</div>"
   ]
  },
  {
   "cell_type": "markdown",
   "metadata": {},
   "source": [
    "## Откройте и изучите файл"
   ]
  },
  {
   "cell_type": "code",
   "execution_count": 1,
   "metadata": {},
   "outputs": [],
   "source": [
    "import pandas as pd\n",
    "from sklearn.metrics import accuracy_score\n",
    "from sklearn.linear_model import LogisticRegression\n",
    "from sklearn.tree import DecisionTreeClassifier\n",
    "\n",
    "from sklearn.ensemble import RandomForestClassifier\n",
    "\n",
    "from sklearn.linear_model import LinearRegression\n",
    "from sklearn.model_selection import train_test_split\n",
    "\n",
    "import warnings\n",
    "warnings.filterwarnings('ignore') "
   ]
  },
  {
   "cell_type": "markdown",
   "metadata": {},
   "source": [
    "<div class=\"alert alert-warning\">\n",
    "<b>⚠️ Комментарий ревьюера:</b> \n",
    "    \n",
    "Ты загружаешь в проект библиотеки, которые не используешь, например:\n",
    "    \n",
    "- DecisionTreeRegressor\n",
    "- RandomForestRegressor\n",
    "\n",
    "Их лучше удалить. Они не требуются потому что в проекте стоит задача классификации. \n",
    "</div>"
   ]
  },
  {
   "cell_type": "markdown",
   "metadata": {},
   "source": [
    "<div class=\"alert alert-success\">\n",
    "<b>✔️ Комментарий ревьюера №2:</b> \n",
    "    \n",
    "👍\n",
    "\n",
    "</div>"
   ]
  },
  {
   "cell_type": "code",
   "execution_count": 2,
   "metadata": {},
   "outputs": [],
   "source": [
    "users_behavior = pd.read_csv('/datasets/users_behavior.csv')"
   ]
  },
  {
   "cell_type": "code",
   "execution_count": 3,
   "metadata": {},
   "outputs": [
    {
     "data": {
      "text/plain": [
       "(3214, 5)"
      ]
     },
     "execution_count": 3,
     "metadata": {},
     "output_type": "execute_result"
    }
   ],
   "source": [
    "users_behavior.shape"
   ]
  },
  {
   "cell_type": "code",
   "execution_count": 4,
   "metadata": {},
   "outputs": [
    {
     "data": {
      "text/html": [
       "<div>\n",
       "<style scoped>\n",
       "    .dataframe tbody tr th:only-of-type {\n",
       "        vertical-align: middle;\n",
       "    }\n",
       "\n",
       "    .dataframe tbody tr th {\n",
       "        vertical-align: top;\n",
       "    }\n",
       "\n",
       "    .dataframe thead th {\n",
       "        text-align: right;\n",
       "    }\n",
       "</style>\n",
       "<table border=\"1\" class=\"dataframe\">\n",
       "  <thead>\n",
       "    <tr style=\"text-align: right;\">\n",
       "      <th></th>\n",
       "      <th>calls</th>\n",
       "      <th>minutes</th>\n",
       "      <th>messages</th>\n",
       "      <th>mb_used</th>\n",
       "      <th>is_ultra</th>\n",
       "    </tr>\n",
       "  </thead>\n",
       "  <tbody>\n",
       "    <tr>\n",
       "      <th>0</th>\n",
       "      <td>40.0</td>\n",
       "      <td>311.90</td>\n",
       "      <td>83.0</td>\n",
       "      <td>19915.42</td>\n",
       "      <td>0</td>\n",
       "    </tr>\n",
       "    <tr>\n",
       "      <th>1</th>\n",
       "      <td>85.0</td>\n",
       "      <td>516.75</td>\n",
       "      <td>56.0</td>\n",
       "      <td>22696.96</td>\n",
       "      <td>0</td>\n",
       "    </tr>\n",
       "    <tr>\n",
       "      <th>2</th>\n",
       "      <td>77.0</td>\n",
       "      <td>467.66</td>\n",
       "      <td>86.0</td>\n",
       "      <td>21060.45</td>\n",
       "      <td>0</td>\n",
       "    </tr>\n",
       "    <tr>\n",
       "      <th>3</th>\n",
       "      <td>106.0</td>\n",
       "      <td>745.53</td>\n",
       "      <td>81.0</td>\n",
       "      <td>8437.39</td>\n",
       "      <td>1</td>\n",
       "    </tr>\n",
       "    <tr>\n",
       "      <th>4</th>\n",
       "      <td>66.0</td>\n",
       "      <td>418.74</td>\n",
       "      <td>1.0</td>\n",
       "      <td>14502.75</td>\n",
       "      <td>0</td>\n",
       "    </tr>\n",
       "    <tr>\n",
       "      <th>5</th>\n",
       "      <td>58.0</td>\n",
       "      <td>344.56</td>\n",
       "      <td>21.0</td>\n",
       "      <td>15823.37</td>\n",
       "      <td>0</td>\n",
       "    </tr>\n",
       "    <tr>\n",
       "      <th>6</th>\n",
       "      <td>57.0</td>\n",
       "      <td>431.64</td>\n",
       "      <td>20.0</td>\n",
       "      <td>3738.90</td>\n",
       "      <td>1</td>\n",
       "    </tr>\n",
       "    <tr>\n",
       "      <th>7</th>\n",
       "      <td>15.0</td>\n",
       "      <td>132.40</td>\n",
       "      <td>6.0</td>\n",
       "      <td>21911.60</td>\n",
       "      <td>0</td>\n",
       "    </tr>\n",
       "    <tr>\n",
       "      <th>8</th>\n",
       "      <td>7.0</td>\n",
       "      <td>43.39</td>\n",
       "      <td>3.0</td>\n",
       "      <td>2538.67</td>\n",
       "      <td>1</td>\n",
       "    </tr>\n",
       "    <tr>\n",
       "      <th>9</th>\n",
       "      <td>90.0</td>\n",
       "      <td>665.41</td>\n",
       "      <td>38.0</td>\n",
       "      <td>17358.61</td>\n",
       "      <td>0</td>\n",
       "    </tr>\n",
       "  </tbody>\n",
       "</table>\n",
       "</div>"
      ],
      "text/plain": [
       "   calls  minutes  messages   mb_used  is_ultra\n",
       "0   40.0   311.90      83.0  19915.42         0\n",
       "1   85.0   516.75      56.0  22696.96         0\n",
       "2   77.0   467.66      86.0  21060.45         0\n",
       "3  106.0   745.53      81.0   8437.39         1\n",
       "4   66.0   418.74       1.0  14502.75         0\n",
       "5   58.0   344.56      21.0  15823.37         0\n",
       "6   57.0   431.64      20.0   3738.90         1\n",
       "7   15.0   132.40       6.0  21911.60         0\n",
       "8    7.0    43.39       3.0   2538.67         1\n",
       "9   90.0   665.41      38.0  17358.61         0"
      ]
     },
     "execution_count": 4,
     "metadata": {},
     "output_type": "execute_result"
    }
   ],
   "source": [
    "users_behavior.head(10)"
   ]
  },
  {
   "cell_type": "code",
   "execution_count": 5,
   "metadata": {},
   "outputs": [
    {
     "data": {
      "text/plain": [
       "<bound method DataFrame.info of       calls  minutes  messages   mb_used  is_ultra\n",
       "0      40.0   311.90      83.0  19915.42         0\n",
       "1      85.0   516.75      56.0  22696.96         0\n",
       "2      77.0   467.66      86.0  21060.45         0\n",
       "3     106.0   745.53      81.0   8437.39         1\n",
       "4      66.0   418.74       1.0  14502.75         0\n",
       "...     ...      ...       ...       ...       ...\n",
       "3209  122.0   910.98      20.0  35124.90         1\n",
       "3210   25.0   190.36       0.0   3275.61         0\n",
       "3211   97.0   634.44      70.0  13974.06         0\n",
       "3212   64.0   462.32      90.0  31239.78         0\n",
       "3213   80.0   566.09       6.0  29480.52         1\n",
       "\n",
       "[3214 rows x 5 columns]>"
      ]
     },
     "execution_count": 5,
     "metadata": {},
     "output_type": "execute_result"
    }
   ],
   "source": [
    "users_behavior.info"
   ]
  },
  {
   "cell_type": "markdown",
   "metadata": {},
   "source": [
    "- Перед нами стоит задача классификации. Датасет состоит из 3 214 объектов и 5 признаков. За целевой признак берем столбец is_ultra, т.е. модель, которую мы попытаемся построить, будет предсказывать значение 1 если клиенту нужно предложить тариф \"Ультра\" или 0 если тариф \"Смарт\". "
   ]
  },
  {
   "cell_type": "markdown",
   "metadata": {},
   "source": [
    "<div class=\"alert alert-success\">\n",
    "<b>✔️ Комментарий ревьюера:</b>  \n",
    "\n",
    "Удачное начало проекта!👍\n",
    "    \n",
    "Изучать данные - очень хорошая практика, ниже в комментарии оставляю список того минимума, который стоит смотреть перед началом работы с данными (часть ты уже отразил в проекте выше 👍).\n",
    "    \n",
    "\n",
    "*** \n",
    "- Использовать `describe()` для выведения информации и поиска инсайтов в данных\n",
    "- Критично посмотреть на данные с точки зрения наличия пропусков в признаках\n",
    "- Явно обозначить какую задачу будем решать: с учителем / без учителя, классификации / регрессии и тд\n",
    "- Проверить соотношение классов. В моделях бинарной классификации имеет смысл смотреть на баланс классов. Два взгляда (с разных сторон) на эту проблему тут: https://alexanderdyakonov.wordpress.com/2021/05/27/imbalance/ и https://habr.com/ru/post/349078/\n",
    "- Построить и визуализировать матрицу корреляции признаков. При высокой их степени скоррелированности возникает проблема  мультиколлиниарности признаков. \n",
    "- Написать вывод\n",
    "    \n",
    "PS - Это несколько моментов \"на будущее\" :)\n",
    "    \n",
    "</div>"
   ]
  },
  {
   "cell_type": "markdown",
   "metadata": {},
   "source": [
    "## Разбейте данные на выборки"
   ]
  },
  {
   "cell_type": "markdown",
   "metadata": {},
   "source": [
    "Спрятанной тестовой выборки в задании нет, поэтому стоит разбить исходный набор данных на три части: обучающую, валидационную и тестовую (60/20/20)."
   ]
  },
  {
   "cell_type": "code",
   "execution_count": 6,
   "metadata": {},
   "outputs": [],
   "source": [
    "df_train, df_valid = train_test_split(users_behavior, test_size=0.4, random_state=12345)\n",
    "df_valid, df_test = train_test_split(df_valid, test_size=0.5, random_state=12345)"
   ]
  },
  {
   "cell_type": "code",
   "execution_count": 7,
   "metadata": {},
   "outputs": [],
   "source": [
    "features_train = df_train.drop(['is_ultra'], axis=1)\n",
    "target_train = df_train['is_ultra']\n",
    "\n",
    "features_valid = df_valid.drop(['is_ultra'], axis=1)\n",
    "target_valid = df_valid['is_ultra']\n",
    "\n",
    "features_test = df_test.drop(['is_ultra'], axis=1)\n",
    "target_test = df_test['is_ultra']"
   ]
  },
  {
   "cell_type": "markdown",
   "metadata": {},
   "source": [
    "<div class=\"alert alert-success\">\n",
    "<b>Комментарий ревьюера: </b>\n",
    "\n",
    "Хорошо, указан параметр `random_state`👍 Воспроизводимость результатов разбиения на обучающую (тренировочную) / тестовую / валидационную выборок обеспечена, значит при всех последующих запусках кода подвыборки будут идентичными\n",
    "    \n",
    "</div>"
   ]
  },
  {
   "cell_type": "markdown",
   "metadata": {},
   "source": [
    "<div class=\"alert alert-block alert-warning\">\n",
    "<b>Комментарий ревьюера:</b> \n",
    "\n",
    "После разбиения лучше вывести количество строк, получившиеся в выборках. Рекомендую использовать `.shape`\n",
    "    \n",
    "</div>"
   ]
  },
  {
   "cell_type": "code",
   "execution_count": 8,
   "metadata": {},
   "outputs": [
    {
     "name": "stdout",
     "output_type": "stream",
     "text": [
      "(1928, 4)\n",
      "(643, 4)\n",
      "(643, 4)\n"
     ]
    }
   ],
   "source": [
    "print (features_train.shape)\n",
    "print (features_valid.shape)\n",
    "print (features_test.shape)"
   ]
  },
  {
   "cell_type": "markdown",
   "metadata": {},
   "source": [
    "<div class=\"alert alert-success\">\n",
    "<b>✔️ Комментарий ревьюера №2:</b> \n",
    "    \n",
    "👍\n",
    "    \n",
    "Теперь можно проверить корректность деления на выборки.\n",
    "\n",
    "</div>"
   ]
  },
  {
   "cell_type": "markdown",
   "metadata": {},
   "source": [
    "<div class=\"alert alert-info\">\n",
    "<b>Комментарий ревьюера:</b>\n",
    "\n",
    "В функции `train_test_split()` можно использовать параметр `stratify = y` , где y – соответствующая целевая переменная. Данные разделятся на два кластера (наблюдения класса 0 и наблюдения класса 1), и в валидационную выборку попадут по 20% наблюдений из каждого кластера:\n",
    "    \n",
    "То есть, если соотношение классов в оригинальной выборке было 2:5, то в обучающей и валидационной выборках оно сохранится таким же. Такой подход в чем-то решает проблему несбалансированных классов.\n",
    "\n",
    "Функция train_test_split( ) строена так, что мы не сталкиваемся с подобной проблемой. Но я все же пишу про этот параметр, чтобы обратить внимание на проблему дисбаланса :)\n",
    "\n",
    "    \n",
    "</div>"
   ]
  },
  {
   "cell_type": "markdown",
   "metadata": {},
   "source": [
    "## Исследуйте модели"
   ]
  },
  {
   "cell_type": "markdown",
   "metadata": {},
   "source": [
    "Исследуем возможные модели. "
   ]
  },
  {
   "cell_type": "markdown",
   "metadata": {},
   "source": [
    "Начнем с Дерева. Изменим в цикле гиперпараметр max_depth."
   ]
  },
  {
   "cell_type": "code",
   "execution_count": 9,
   "metadata": {},
   "outputs": [
    {
     "name": "stdout",
     "output_type": "stream",
     "text": [
      "Глубина дерева= 1 Точность 0.7542768273716952\n",
      "Глубина дерева= 3 Точность 0.7853810264385692\n",
      "Глубина дерева= 5 Точность 0.7791601866251944\n",
      "Глубина дерева= 7 Точность 0.7822706065318819\n",
      "Глубина дерева= 9 Точность 0.7822706065318819\n",
      "Глубина дерева= 11 Точность 0.7620528771384136\n",
      "Глубина дерева= 13 Точность 0.7558320373250389\n",
      "Глубина дерева= 15 Точность 0.7465007776049767\n",
      "Глубина дерева= 17 Точность 0.7356143079315708\n",
      "Глубина дерева= 19 Точность 0.7278382581648523\n",
      "Лучшая глубина дерева = 3 Лучшая точность 0.7853810264385692\n"
     ]
    }
   ],
   "source": [
    "best_depth = 0\n",
    "best_accuracy = 0\n",
    "\n",
    "for depth in range(1, 21, 2):\n",
    "    model = DecisionTreeClassifier(random_state=12345, max_depth = depth)\n",
    "    model.fit(features_train,target_train) \n",
    "    predictions_valid = model.predict(features_valid) \n",
    "    accuracy = accuracy_score(target_valid, predictions_valid)\n",
    "    \n",
    "    print('Глубина дерева=', depth,'Точность',accuracy)\n",
    "    if accuracy > best_accuracy:\n",
    "        best_depth = depth\n",
    "        best_accuracy = accuracy\n",
    "\n",
    "print('Лучшая глубина дерева =', best_depth,'Лучшая точность', best_accuracy) "
   ]
  },
  {
   "cell_type": "markdown",
   "metadata": {},
   "source": [
    "- Лучшая глубина дерева = 3. Лучшая точность 0.7853810264385692."
   ]
  },
  {
   "cell_type": "markdown",
   "metadata": {},
   "source": [
    "<div class=\"alert alert-block alert-warning\">\n",
    "<b>Комментарий ревьюера:</b> \n",
    "\n",
    "В разные переменные записано одно:\n",
    "    \n",
    "    result = accuracy_score(target_valid, predictions_valid) \n",
    "    accuracy = accuracy_score(target_valid, predictions_valid)\n",
    "    \n",
    "    \n",
    "    \n",
    "</div>"
   ]
  },
  {
   "cell_type": "markdown",
   "metadata": {},
   "source": [
    "<div class=\"alert alert-danger\">\n",
    "<b>❌ Комментарий ревьюера №2:</b> \n",
    "    \n",
    "К сожалению, появляется ошибка:\n",
    "    \n",
    "    NameError: name 'result' is not defined\n",
    "\n",
    "Боюсь, ты удалил переменную, которую дальше используешь в print().\n",
    "    \n",
    "***    \n",
    "    \n",
    "Было так:\n",
    "    \n",
    "    result = accuracy_score(target_valid, predictions_valid) - эту строку ты удалил\n",
    "    accuracy = accuracy_score(target_valid, predictions_valid)\n",
    "    \n",
    "Но дальше используешь `result`, т.е. тут нужно поправить:\n",
    "    \n",
    "    print('Глубина дерева =', depth, 'Точность', result)\n",
    "\n",
    "</div>\n"
   ]
  },
  {
   "cell_type": "markdown",
   "metadata": {},
   "source": [
    "<div class=\"alert alert-success\">\n",
    "<b>✔️ Заключительный комментарий ревьюера №2:</b> \n",
    "    \n",
    "Антон, спасибо, что внес правки!\n",
    "    \n",
    "В т.к. выходит ошибка в коде, пока вынуждена вернуть проект на доработку =(\n",
    "    \n",
    "</div>"
   ]
  },
  {
   "cell_type": "markdown",
   "metadata": {},
   "source": [
    "<div class=\"alert alert-success\">\n",
    "<b>✔️ Комментарий ревьюера №3:</b> \n",
    "    \n",
    "Теперь код загружается успешно\n",
    "</div>"
   ]
  },
  {
   "cell_type": "markdown",
   "metadata": {},
   "source": [
    "Случайный лес. Изменим в цикле гиперпараметр n_estimators."
   ]
  },
  {
   "cell_type": "code",
   "execution_count": 10,
   "metadata": {},
   "outputs": [
    {
     "name": "stdout",
     "output_type": "stream",
     "text": [
      "Количество деревьев = 1 Точность 0.7278382581648523\n",
      "Количество деревьев = 3 Точность 0.7278382581648523\n",
      "Количество деревьев = 5 Точность 0.7278382581648523\n",
      "Количество деревьев = 7 Точность 0.7278382581648523\n",
      "Количество деревьев = 9 Точность 0.7278382581648523\n",
      "Количество деревьев = 11 Точность 0.7278382581648523\n",
      "Количество деревьев = 13 Точность 0.7278382581648523\n",
      "Количество деревьев = 15 Точность 0.7278382581648523\n",
      "Количество деревьев = 17 Точность 0.7278382581648523\n",
      "Количество деревьев = 19 Точность 0.7278382581648523\n",
      "Лучшее количество деревьев = 1 Лучшая точность 0.7278382581648523\n"
     ]
    }
   ],
   "source": [
    "best_estim = 0\n",
    "best_accuracy = 0\n",
    "\n",
    "for estim in range(1,21, 2):\n",
    "    model = RandomForestClassifier(random_state=12345, n_estimators=estim)\n",
    "    model.fit(features_train, target_train)\n",
    "    valid_predictions = model.predict(features_valid)\n",
    "    accuracy = accuracy_score(target_valid, predictions_valid)\n",
    "    print('Количество деревьев =', estim,'Точность',accuracy)\n",
    "    if accuracy > best_accuracy:\n",
    "        best_estim = estim\n",
    "        best_accuracy = accuracy\n",
    "\n",
    "print('Лучшее количество деревьев =', best_estim,'Лучшая точность', best_accuracy)"
   ]
  },
  {
   "cell_type": "markdown",
   "metadata": {},
   "source": [
    "- При различном количестве деревьев точность одинакова: 0.7278382581648523."
   ]
  },
  {
   "cell_type": "markdown",
   "metadata": {},
   "source": [
    "Логистическая регрессия. Изменим в цикле гиперпараметр max_iter."
   ]
  },
  {
   "cell_type": "code",
   "execution_count": 11,
   "metadata": {},
   "outputs": [
    {
     "name": "stdout",
     "output_type": "stream",
     "text": [
      "Количество итерраций = 1 Точность 0.7060653188180405\n",
      "Количество итерраций = 3 Точность 0.7060653188180405\n",
      "Количество итерраций = 5 Точность 0.7060653188180405\n",
      "Количество итерраций = 7 Точность 0.7060653188180405\n",
      "Количество итерраций = 9 Точность 0.7060653188180405\n",
      "Количество итерраций = 11 Точность 0.7060653188180405\n",
      "Количество итерраций = 13 Точность 0.7060653188180405\n",
      "Количество итерраций = 15 Точность 0.7060653188180405\n",
      "Количество итерраций = 17 Точность 0.7060653188180405\n",
      "Количество итерраций = 19 Точность 0.7076205287713841\n",
      "Лучшее количество итераций = 19 Лучшая точность 0.7076205287713841\n"
     ]
    }
   ],
   "source": [
    "best_max_iter = 0\n",
    "best_accuracy = 0\n",
    "\n",
    "for max_iter in range(1, 21, 2):\n",
    "    model = LogisticRegression(random_state=12345, max_iter=max_iter)\n",
    "    model.fit(features_train, target_train)\n",
    "    valid_predictions = model.predict(features_valid)\n",
    "    accuracy = accuracy_score(target_valid, valid_predictions)\n",
    "    print('Количество итерраций =', max_iter,'Точность',accuracy)\n",
    "    if accuracy > best_accuracy:\n",
    "        best_max_iter = max_iter\n",
    "        best_accuracy = accuracy\n",
    "print('Лучшее количество итераций =', best_max_iter,'Лучшая точность', best_accuracy)        "
   ]
  },
  {
   "cell_type": "markdown",
   "metadata": {},
   "source": [
    "- Лучшее количество итераций = 19. Лучшая точность 0.7076205287713841."
   ]
  },
  {
   "cell_type": "markdown",
   "metadata": {},
   "source": [
    "Попробуем улучшить результат изменив гиперпараметр solver – алгоритм задачи оптимизации."
   ]
  },
  {
   "cell_type": "code",
   "execution_count": 12,
   "metadata": {},
   "outputs": [
    {
     "name": "stdout",
     "output_type": "stream",
     "text": [
      "Solver- lbfgs . Точность- 0.7107309486780715\n",
      "Solver- saga . Точность- 0.7060653188180405\n",
      "Solver- newton-cg . Точность- 0.7558320373250389\n",
      "Solver- liblinear . Точность- 0.7091757387247278\n",
      "Solver- sag . Точность- 0.7060653188180405\n",
      "Лучший solver- newton-cg . Лучшая точность- 0.7558320373250389\n"
     ]
    }
   ],
   "source": [
    "best_solver = ''\n",
    "best_accuracy = 0\n",
    "\n",
    "for solve in {'newton-cg', 'lbfgs', 'liblinear', 'sag', 'saga'}:\n",
    "    model = LogisticRegression(random_state=12345, solver=solve)\n",
    "    model.fit(features_train, target_train)\n",
    "    valid_predictions = model.predict(features_valid)\n",
    "    accuracy = accuracy_score(target_valid, valid_predictions)\n",
    "    print('Solver-', solve,'. ''Точность-',accuracy)\n",
    "    if accuracy > best_accuracy:\n",
    "        best_solver= solve\n",
    "        best_accuracy = accuracy\n",
    "\n",
    "print('Лучший solver-', best_solver,'. ''Лучшая точность-', best_accuracy) "
   ]
  },
  {
   "cell_type": "markdown",
   "metadata": {},
   "source": [
    "- Лучшим solver оказался newton-cg а не lbfgs, который стоит по-умолчанию."
   ]
  },
  {
   "cell_type": "markdown",
   "metadata": {},
   "source": [
    "Вывод:\n",
    "Точность модели решающего дерева при глубине 3 равна 0.785. \n",
    "Модель случайного леса дает один результат- 0.728. \n",
    "Точность модели логистической регресии равна 0.708. \n",
    "\n",
    "Для решения задачи оптимизации, модель логистической регрессии гораздо менее точна, чем дерево решений и случайный лес.\n",
    "\n",
    "Так как выборка небольшая, то лучший результат показывает решающее древо с гиперпараметром max_depth=3."
   ]
  },
  {
   "cell_type": "markdown",
   "metadata": {},
   "source": [
    "<div class=\"alert alert-success\">\n",
    "<b>Комментарий ревьюера: </b>\n",
    "    \n",
    "Молодец, что рассматриваешь разные модели. 🔥\n",
    "    \n",
    "И добавил развернутый вывод к этапу.    \n",
    "    \n",
    "</div>"
   ]
  },
  {
   "cell_type": "markdown",
   "metadata": {},
   "source": [
    "<div class=\"alert alert-danger\">\n",
    "<b>❌ Комментарий ревьюера:</b> \n",
    "    \n",
    "На этом шаге **в рамках одной модели** можно перебрать хотя бы два гиперпараметра.\n",
    "    \n",
    "**Т.е. задача состоит в том, чтобы хотя бы в одной из моделей попробовать указать несколько гиперпараметров (два или больше).** Это делают, чтобы улучшить работу модели и, как результат, метрику.  \n",
    "    \n",
    "***\n",
    "    \n",
    "Чтобы узнать, какие гиперпараметры можно применить к модели, стоит заглянуть в документацию, например: \n",
    "    \n",
    "`RandomForestClassifier:`    \n",
    "https://scikit-learn.org/stable/modules/generated/sklearn.ensemble.RandomForestClassifier.html#sklearn-ensemble-randomforestclassifier     \n",
    "    \n",
    "`DecisionTreeClassifier:`\n",
    "https://scikit-learn.org/stable/modules/generated/sklearn.tree.DecisionTreeClassifier.html#sklearn-tree-decisiontreeclassifier\n",
    " \n",
    "В документации хорошо прописаны дефолтные значения гиперпараметров, их тоже можо настроить.     \n",
    "\n",
    "\n",
    "</div>"
   ]
  },
  {
   "cell_type": "markdown",
   "metadata": {},
   "source": [
    "<div class=\"alert alert-info\"> <b>Комментарий ревьюера:</b> \n",
    "    \n",
    "**Полезные материалы (на будущее):**\n",
    "    \n",
    "Для подбора оптимальных параметров можно использовать функции Gridsearchcv или Randomizedsearchcv. \n",
    "    \n",
    "1. Статья про разницу между ними: \n",
    "    https://towardsdatascience.com/gridsearchcv-or-randomsearchcv-5aa4acf5348c#:~:text=RandomSearchCV%20has%20the%20same%20purpose,parameters%20to%20improve%20your%20model.&text=The%20main%20difference%20between%20the,want%20to%20sample%20and%20test. \n",
    "    \n",
    "2. И просто очень большая статья по их применению: \n",
    "    https://machinelearningmastery.com/hyperparameter-optimization-with-random-search-and-grid-search/ \n",
    "    \n",
    "3. Совсем обьемная статья с огромным количеством библиотек для подбора гиперпараметров:\n",
    "    https://neptune.ai/blog/hyperparameter-tuning-in-python-complete-guide/. \n",
    "    \n",
    "4. Ускоренная версия GridsearchCV \n",
    "    https://towardsdatascience.com/20x-times-faster-grid-search-cross-validation-19ef01409b7c.    \n",
    "    "
   ]
  },
  {
   "cell_type": "markdown",
   "metadata": {},
   "source": [
    "## Проверьте модель на тестовой выборке"
   ]
  },
  {
   "cell_type": "code",
   "execution_count": 13,
   "metadata": {},
   "outputs": [
    {
     "name": "stdout",
     "output_type": "stream",
     "text": [
      "Accuracy DecisionTreeClassifier=  0.7791601866251944\n"
     ]
    }
   ],
   "source": [
    "features_test = df_test.drop(['is_ultra'], axis=1)\n",
    "target_test = df_test['is_ultra']\n",
    "\n",
    "model = DecisionTreeClassifier(random_state=12345, max_depth = 3)\n",
    "model.fit(features_train, target_train)\n",
    "\n",
    "predictions_test = model.predict(features_test)\n",
    "result = accuracy_score(target_test, predictions_test)\n",
    "\n",
    "print('Accuracy DecisionTreeClassifier= ', result)"
   ]
  },
  {
   "cell_type": "markdown",
   "metadata": {},
   "source": [
    "- На тестовой выборке наша модель решающего дерева показывает приближенное к тренировочной выборке значение accuracy. Таким образом, мы не видим здесь явной проблемы с переобучением, и можем считать, что нам удалось построить модель для задачи бинарной классификации, которая выберет подходящий тариф.\n",
    "\n"
   ]
  },
  {
   "cell_type": "markdown",
   "metadata": {},
   "source": [
    "<div class=\"alert alert-success\">\n",
    "<b>✔️ Комментарий ревьюера:</b>\n",
    "\n",
    "Хороший результат 👍\n",
    "\n",
    "</div>"
   ]
  },
  {
   "cell_type": "markdown",
   "metadata": {},
   "source": [
    "<div class=\"alert alert-block alert-warning\">\n",
    "<b>Комментарий ревьюера:</b> \n",
    "\n",
    "Когда добавишь второй гиперпараметр в этапе выше, тут тоже стоит его отразить. Метрика должна улучшиться.\n",
    "    \n",
    " \n",
    "</div>"
   ]
  },
  {
   "cell_type": "markdown",
   "metadata": {},
   "source": [
    "## (бонус) Проверьте модели на адекватность"
   ]
  },
  {
   "cell_type": "markdown",
   "metadata": {},
   "source": [
    "Для проверки используем модель DummyClassifier. DummyClassifier делает прогнозы, которые игнорируют входные функции.\n",
    "Этот классификатор служит простой основой для сравнения с другими, более сложными классификаторами."
   ]
  },
  {
   "cell_type": "code",
   "execution_count": 14,
   "metadata": {},
   "outputs": [
    {
     "name": "stdout",
     "output_type": "stream",
     "text": [
      "Accuracy DummyClassifier: 0.7060653188180405\n"
     ]
    }
   ],
   "source": [
    "from sklearn.dummy import DummyClassifier\n",
    "model_dc = DummyClassifier(strategy='most_frequent', random_state=12345)\n",
    "model_dc.fit(features_train, target_train)\n",
    "result_dc = model_dc.score(features_valid, target_valid)\n",
    "print('Accuracy DummyClassifier:', result_dc)"
   ]
  },
  {
   "cell_type": "markdown",
   "metadata": {},
   "source": [
    "- Accuracy модели DummyClassifier ниже, чем у модели DecisionTreeClassifier, из этого следует что наша модель адекватна и эффективна."
   ]
  },
  {
   "cell_type": "raw",
   "metadata": {},
   "source": [
    "Итоговый вывод\n",
    "В ходе проделанной работы было выполнено:\n",
    "\n",
    "Изучен файл с данными.\n",
    "Разбиты данные на три выборки: обучающая, валидационная и тестовая.\n",
    "Исследованы три модели классификации: Решающее дерево, Случайный лес и Логистическая регрессия.\n",
    "Найдены оптимальные параметры для каждой модели и выбрана одна из них для обучения модели: Решающее дерево.\n",
    "Оценена точность обученной модели.\n",
    "Оценена адекватность модели.\n",
    "Полученый \"кейс\"- не всегда стандартные настройки гиперпараметров дают лучшие результаты."
   ]
  },
  {
   "cell_type": "markdown",
   "metadata": {},
   "source": [
    "<div class=\"alert alert-success\">\n",
    "<b>Комментарий ревьюера:</b>\n",
    "\n",
    "Очень здорово, что ты уже владеешь инструментами `DummyClassifier`  🔥\n",
    " \n",
    "***    \n",
    "    \n",
    "p.s. (на перспективу!): можно было бы построить `Confusion Matrix`, чтобы детально посмотреть, где ошибается модель. Подробнее о Confusion Matrix: https://neptune.ai/blog/evaluation-metrics-binary-classification        \n",
    "    \n",
    "</div>"
   ]
  },
  {
   "cell_type": "markdown",
   "metadata": {},
   "source": [
    "***"
   ]
  },
  {
   "cell_type": "markdown",
   "metadata": {},
   "source": [
    "<div class=\"alert alert-block alert-danger\">\n",
    "<b>Комментарий ревьюера❌:</b> \n",
    "    \n",
    "Давай сформируем итоговый вывод про проекту 😊  \n",
    "    \n",
    "В выводе можно отметить следующие пункты:\n",
    "- какие у исследования цели и задачи     \n",
    "- какие модели рассматривались\n",
    "- какая модель показала лучшие результаты (гиперпараметры, метрика)\n",
    "- результаты проверки лучшей модели на тестовой выборке   \n",
    "- любые другие инсайты, которые ты заметил в ходе исследования\n",
    "    \n",
    "</div>"
   ]
  },
  {
   "cell_type": "markdown",
   "metadata": {},
   "source": [
    "<div class=\"alert alert-success\">\n",
    "<b>✔️ Комментарий ревьюера №2:</b> \n",
    "    \n",
    "Хорошее, что есть резюме проекта👍\n",
    "\n",
    "</div>"
   ]
  },
  {
   "cell_type": "markdown",
   "metadata": {},
   "source": [
    "***"
   ]
  },
  {
   "cell_type": "markdown",
   "metadata": {},
   "source": [
    "<div class=\"alert alert-success\">\n",
    "<b>✔️ Заключительный комментарий ревьюера:</b> \n",
    "    \n",
    "Антон, спасибо за проделанную работу! \n",
    "    \n",
    "Молодец, что начал делать проект и рассмотрел разные модели, движение в позитивную сторону положено👍 \n",
    "    \n",
    "Здорово, что изучил материалы сверх теории спринта и знаешь, как проверить модель на адекватность с помощью DummyClassifier.🔥  \n",
    "      \n",
    "***    \n",
    " \n",
    "В работе есть несколько моментов, которые лучше доработать:  \n",
    "    \n",
    "1. **Этап исследования моделей** - в соответствии с красным комментарием\n",
    "2. Сформировать итоговый вывод\n",
    "  \n",
    "***\n",
    "\n",
    "Возвращаю тебе работу, чтобы ты смог доделать проект и задать вопросы)\n",
    "    \n",
    "Успехов!\n",
    "\n",
    "</div>"
   ]
  },
  {
   "cell_type": "markdown",
   "metadata": {},
   "source": [
    "<div class=\"alert alert-success\">\n",
    "<b>✔️ Заключительный комментарий ревьюера №2:</b> \n",
    "    \n",
    "Антон, у тебя получилось хорошее исследование.\n",
    "  \n",
    "Принимаю твою работу и желаю удачи в учебе и новых проектах 😊\n",
    "\n",
    "</div>"
   ]
  },
  {
   "cell_type": "markdown",
   "metadata": {},
   "source": [
    "## Чек-лист готовности проекта"
   ]
  },
  {
   "cell_type": "markdown",
   "metadata": {},
   "source": [
    "Поставьте 'x' в выполненных пунктах. Далее нажмите Shift+Enter."
   ]
  },
  {
   "cell_type": "markdown",
   "metadata": {},
   "source": [
    "- [x] Jupyter Notebook открыт\n",
    "- [x] Весь код исполняется без ошибок\n",
    "- [x] Ячейки с кодом расположены в порядке исполнения\n",
    "- [x] Выполнено задание 1: данные загружены и изучены\n",
    "- [x] Выполнено задание 2: данные разбиты на три выборки\n",
    "- [x] Выполнено задание 3: проведено исследование моделей\n",
    "    - [x] Рассмотрено больше одной модели\n",
    "    - [x] Рассмотрено хотя бы 3 значения гипепараметров для какой-нибудь модели\n",
    "    - [x] Написаны выводы по результатам исследования\n",
    "- [x] Выполнено задание 3: Проведено тестирование\n",
    "- [x] Удалось достичь accuracy не меньше 0.75\n"
   ]
  },
  {
   "cell_type": "code",
   "execution_count": null,
   "metadata": {},
   "outputs": [],
   "source": []
  }
 ],
 "metadata": {
  "ExecuteTimeLog": [
   {
    "duration": 1123,
    "start_time": "2023-02-19T12:41:25.486Z"
   },
   {
    "duration": 151,
    "start_time": "2023-02-19T12:41:26.612Z"
   },
   {
    "duration": 0,
    "start_time": "2023-02-19T12:41:26.766Z"
   },
   {
    "duration": 44,
    "start_time": "2023-02-19T12:41:48.868Z"
   },
   {
    "duration": 3,
    "start_time": "2023-02-19T12:41:51.574Z"
   },
   {
    "duration": 1151,
    "start_time": "2023-02-19T12:41:57.473Z"
   },
   {
    "duration": 143,
    "start_time": "2023-02-19T12:41:58.626Z"
   },
   {
    "duration": 0,
    "start_time": "2023-02-19T12:41:58.773Z"
   },
   {
    "duration": 3,
    "start_time": "2023-02-19T12:45:12.978Z"
   },
   {
    "duration": 70,
    "start_time": "2023-02-19T12:45:14.844Z"
   },
   {
    "duration": 17,
    "start_time": "2023-02-19T12:45:42.148Z"
   },
   {
    "duration": 150,
    "start_time": "2023-02-19T12:45:43.124Z"
   },
   {
    "duration": 9,
    "start_time": "2023-02-19T12:45:44.915Z"
   },
   {
    "duration": 9,
    "start_time": "2023-02-19T12:45:58.695Z"
   },
   {
    "duration": 19,
    "start_time": "2023-02-19T12:46:18.202Z"
   },
   {
    "duration": 4,
    "start_time": "2023-02-19T12:46:28.076Z"
   },
   {
    "duration": 13,
    "start_time": "2023-02-19T12:46:39.203Z"
   },
   {
    "duration": 10,
    "start_time": "2023-02-19T12:47:23.723Z"
   },
   {
    "duration": 10,
    "start_time": "2023-02-19T12:53:34.809Z"
   },
   {
    "duration": 112,
    "start_time": "2023-02-19T13:00:57.258Z"
   },
   {
    "duration": 53,
    "start_time": "2023-02-20T09:47:25.706Z"
   },
   {
    "duration": 6,
    "start_time": "2023-02-20T09:48:46.064Z"
   },
   {
    "duration": 6,
    "start_time": "2023-02-20T09:49:06.095Z"
   },
   {
    "duration": 7,
    "start_time": "2023-02-20T09:49:10.286Z"
   },
   {
    "duration": 6,
    "start_time": "2023-02-20T09:51:34.285Z"
   },
   {
    "duration": 1191,
    "start_time": "2023-02-20T09:51:40.685Z"
   },
   {
    "duration": 60,
    "start_time": "2023-02-20T09:51:41.878Z"
   },
   {
    "duration": 9,
    "start_time": "2023-02-20T09:51:41.939Z"
   },
   {
    "duration": 13,
    "start_time": "2023-02-20T09:51:42.249Z"
   },
   {
    "duration": 9,
    "start_time": "2023-02-20T09:51:42.623Z"
   },
   {
    "duration": 8,
    "start_time": "2023-02-20T09:51:44.890Z"
   },
   {
    "duration": 6,
    "start_time": "2023-02-20T09:51:45.527Z"
   },
   {
    "duration": 75,
    "start_time": "2023-02-20T09:51:48.765Z"
   },
   {
    "duration": 13,
    "start_time": "2023-02-20T09:52:28.424Z"
   },
   {
    "duration": 17,
    "start_time": "2023-02-20T09:53:22.245Z"
   },
   {
    "duration": 16,
    "start_time": "2023-02-20T09:55:17.396Z"
   },
   {
    "duration": 68,
    "start_time": "2023-02-20T09:58:55.610Z"
   },
   {
    "duration": 78,
    "start_time": "2023-02-20T09:59:15.304Z"
   },
   {
    "duration": 1135,
    "start_time": "2023-02-20T09:59:52.570Z"
   },
   {
    "duration": 25,
    "start_time": "2023-02-20T09:59:53.707Z"
   },
   {
    "duration": 8,
    "start_time": "2023-02-20T09:59:53.733Z"
   },
   {
    "duration": 12,
    "start_time": "2023-02-20T09:59:53.742Z"
   },
   {
    "duration": 8,
    "start_time": "2023-02-20T09:59:53.756Z"
   },
   {
    "duration": 5,
    "start_time": "2023-02-20T09:59:53.766Z"
   },
   {
    "duration": 8,
    "start_time": "2023-02-20T09:59:53.772Z"
   },
   {
    "duration": 12,
    "start_time": "2023-02-20T09:59:53.782Z"
   },
   {
    "duration": 122,
    "start_time": "2023-02-20T09:59:53.796Z"
   },
   {
    "duration": 91,
    "start_time": "2023-02-20T10:02:03.800Z"
   },
   {
    "duration": 87,
    "start_time": "2023-02-20T10:02:04.472Z"
   },
   {
    "duration": 13,
    "start_time": "2023-02-20T10:09:57.259Z"
   },
   {
    "duration": 10,
    "start_time": "2023-02-20T10:14:20.916Z"
   },
   {
    "duration": 1160,
    "start_time": "2023-02-20T10:14:55.504Z"
   },
   {
    "duration": 26,
    "start_time": "2023-02-20T10:14:56.666Z"
   },
   {
    "duration": 8,
    "start_time": "2023-02-20T10:14:56.694Z"
   },
   {
    "duration": 41,
    "start_time": "2023-02-20T10:14:56.704Z"
   },
   {
    "duration": 20,
    "start_time": "2023-02-20T10:14:56.747Z"
   },
   {
    "duration": 15,
    "start_time": "2023-02-20T10:14:56.768Z"
   },
   {
    "duration": 10,
    "start_time": "2023-02-20T10:14:56.785Z"
   },
   {
    "duration": 145,
    "start_time": "2023-02-20T10:14:56.796Z"
   },
   {
    "duration": 1131,
    "start_time": "2023-02-20T10:15:03.460Z"
   },
   {
    "duration": 35,
    "start_time": "2023-02-20T10:15:04.592Z"
   },
   {
    "duration": 8,
    "start_time": "2023-02-20T10:15:04.629Z"
   },
   {
    "duration": 13,
    "start_time": "2023-02-20T10:15:04.639Z"
   },
   {
    "duration": 8,
    "start_time": "2023-02-20T10:15:04.653Z"
   },
   {
    "duration": 7,
    "start_time": "2023-02-20T10:15:04.662Z"
   },
   {
    "duration": 6,
    "start_time": "2023-02-20T10:15:04.670Z"
   },
   {
    "duration": 129,
    "start_time": "2023-02-20T10:15:04.677Z"
   },
   {
    "duration": 3,
    "start_time": "2023-02-20T10:33:05.344Z"
   },
   {
    "duration": 24,
    "start_time": "2023-02-20T10:33:05.857Z"
   },
   {
    "duration": 4,
    "start_time": "2023-02-20T10:33:06.204Z"
   },
   {
    "duration": 14,
    "start_time": "2023-02-20T10:33:06.405Z"
   },
   {
    "duration": 9,
    "start_time": "2023-02-20T10:33:06.610Z"
   },
   {
    "duration": 6,
    "start_time": "2023-02-20T10:33:07.835Z"
   },
   {
    "duration": 7,
    "start_time": "2023-02-20T10:33:08.454Z"
   },
   {
    "duration": 34,
    "start_time": "2023-02-20T10:33:10.399Z"
   },
   {
    "duration": 192,
    "start_time": "2023-02-20T10:34:09.763Z"
   },
   {
    "duration": 10,
    "start_time": "2023-02-20T10:47:45.189Z"
   },
   {
    "duration": 3,
    "start_time": "2023-02-20T10:47:53.349Z"
   },
   {
    "duration": 39,
    "start_time": "2023-02-20T10:47:53.584Z"
   },
   {
    "duration": 3,
    "start_time": "2023-02-20T10:47:53.857Z"
   },
   {
    "duration": 11,
    "start_time": "2023-02-20T10:47:54.087Z"
   },
   {
    "duration": 18,
    "start_time": "2023-02-20T10:47:54.402Z"
   },
   {
    "duration": 6,
    "start_time": "2023-02-20T10:47:56.082Z"
   },
   {
    "duration": 5,
    "start_time": "2023-02-20T10:47:56.312Z"
   },
   {
    "duration": 192,
    "start_time": "2023-02-20T10:47:59.641Z"
   },
   {
    "duration": 175,
    "start_time": "2023-02-20T10:48:05.044Z"
   },
   {
    "duration": 1167,
    "start_time": "2023-02-20T10:48:46.177Z"
   },
   {
    "duration": 26,
    "start_time": "2023-02-20T10:48:47.346Z"
   },
   {
    "duration": 10,
    "start_time": "2023-02-20T10:48:47.374Z"
   },
   {
    "duration": 20,
    "start_time": "2023-02-20T10:48:47.386Z"
   },
   {
    "duration": 9,
    "start_time": "2023-02-20T10:48:47.408Z"
   },
   {
    "duration": 10,
    "start_time": "2023-02-20T10:48:47.425Z"
   },
   {
    "duration": 6,
    "start_time": "2023-02-20T10:48:47.437Z"
   },
   {
    "duration": 82,
    "start_time": "2023-02-20T10:48:47.445Z"
   },
   {
    "duration": 76,
    "start_time": "2023-02-20T10:48:47.529Z"
   },
   {
    "duration": 1145,
    "start_time": "2023-02-20T10:49:09.394Z"
   },
   {
    "duration": 25,
    "start_time": "2023-02-20T10:49:10.541Z"
   },
   {
    "duration": 8,
    "start_time": "2023-02-20T10:49:10.568Z"
   },
   {
    "duration": 13,
    "start_time": "2023-02-20T10:49:10.578Z"
   },
   {
    "duration": 8,
    "start_time": "2023-02-20T10:49:10.593Z"
   },
   {
    "duration": 20,
    "start_time": "2023-02-20T10:49:10.602Z"
   },
   {
    "duration": 30,
    "start_time": "2023-02-20T10:49:10.623Z"
   },
   {
    "duration": 81,
    "start_time": "2023-02-20T10:49:10.655Z"
   },
   {
    "duration": 88,
    "start_time": "2023-02-20T10:49:10.738Z"
   },
   {
    "duration": 114,
    "start_time": "2023-02-20T10:49:53.668Z"
   },
   {
    "duration": 90,
    "start_time": "2023-02-20T10:50:22.546Z"
   },
   {
    "duration": 73,
    "start_time": "2023-02-20T10:50:45.481Z"
   },
   {
    "duration": 79,
    "start_time": "2023-02-20T10:52:34.386Z"
   },
   {
    "duration": 27,
    "start_time": "2023-02-20T10:53:15.502Z"
   },
   {
    "duration": 1453,
    "start_time": "2023-02-20T10:53:24.347Z"
   },
   {
    "duration": 632,
    "start_time": "2023-02-20T10:53:42.547Z"
   },
   {
    "duration": 172,
    "start_time": "2023-02-20T10:54:13.452Z"
   },
   {
    "duration": 1911,
    "start_time": "2023-02-20T10:57:07.033Z"
   },
   {
    "duration": 1775,
    "start_time": "2023-02-20T10:57:28.004Z"
   },
   {
    "duration": 244,
    "start_time": "2023-02-20T11:00:36.852Z"
   },
   {
    "duration": 340,
    "start_time": "2023-02-20T11:01:36.932Z"
   },
   {
    "duration": 308,
    "start_time": "2023-02-20T11:05:01.424Z"
   },
   {
    "duration": 356,
    "start_time": "2023-02-20T11:05:12.129Z"
   },
   {
    "duration": 112,
    "start_time": "2023-02-20T11:12:11.129Z"
   },
   {
    "duration": 10,
    "start_time": "2023-02-20T11:12:37.378Z"
   },
   {
    "duration": 45,
    "start_time": "2023-02-20T11:13:26.503Z"
   },
   {
    "duration": 9,
    "start_time": "2023-02-20T11:17:39.628Z"
   },
   {
    "duration": 1232,
    "start_time": "2023-02-20T11:19:08.379Z"
   },
   {
    "duration": 0,
    "start_time": "2023-02-20T11:19:09.614Z"
   },
   {
    "duration": 0,
    "start_time": "2023-02-20T11:19:09.615Z"
   },
   {
    "duration": 0,
    "start_time": "2023-02-20T11:19:09.617Z"
   },
   {
    "duration": 0,
    "start_time": "2023-02-20T11:19:09.617Z"
   },
   {
    "duration": 0,
    "start_time": "2023-02-20T11:19:09.618Z"
   },
   {
    "duration": 0,
    "start_time": "2023-02-20T11:19:09.619Z"
   },
   {
    "duration": 0,
    "start_time": "2023-02-20T11:19:09.620Z"
   },
   {
    "duration": 0,
    "start_time": "2023-02-20T11:19:09.620Z"
   },
   {
    "duration": 0,
    "start_time": "2023-02-20T11:19:09.621Z"
   },
   {
    "duration": 1165,
    "start_time": "2023-02-20T11:19:21.653Z"
   },
   {
    "duration": 0,
    "start_time": "2023-02-20T11:19:22.821Z"
   },
   {
    "duration": 0,
    "start_time": "2023-02-20T11:19:22.822Z"
   },
   {
    "duration": 0,
    "start_time": "2023-02-20T11:19:22.823Z"
   },
   {
    "duration": 0,
    "start_time": "2023-02-20T11:19:22.824Z"
   },
   {
    "duration": 0,
    "start_time": "2023-02-20T11:19:22.824Z"
   },
   {
    "duration": 0,
    "start_time": "2023-02-20T11:19:22.825Z"
   },
   {
    "duration": 0,
    "start_time": "2023-02-20T11:19:22.826Z"
   },
   {
    "duration": 0,
    "start_time": "2023-02-20T11:19:22.827Z"
   },
   {
    "duration": 0,
    "start_time": "2023-02-20T11:19:22.828Z"
   },
   {
    "duration": 1093,
    "start_time": "2023-02-20T11:20:14.626Z"
   },
   {
    "duration": 26,
    "start_time": "2023-02-20T11:20:15.721Z"
   },
   {
    "duration": 8,
    "start_time": "2023-02-20T11:20:15.749Z"
   },
   {
    "duration": 20,
    "start_time": "2023-02-20T11:20:15.759Z"
   },
   {
    "duration": 10,
    "start_time": "2023-02-20T11:20:15.781Z"
   },
   {
    "duration": 6,
    "start_time": "2023-02-20T11:20:15.793Z"
   },
   {
    "duration": 11,
    "start_time": "2023-02-20T11:20:15.801Z"
   },
   {
    "duration": 81,
    "start_time": "2023-02-20T11:20:15.814Z"
   },
   {
    "duration": 131,
    "start_time": "2023-02-20T11:20:15.897Z"
   },
   {
    "duration": 0,
    "start_time": "2023-02-20T11:20:16.030Z"
   },
   {
    "duration": 1965,
    "start_time": "2023-02-20T11:20:52.560Z"
   },
   {
    "duration": 1999,
    "start_time": "2023-02-20T11:22:13.350Z"
   },
   {
    "duration": 83,
    "start_time": "2023-02-20T11:23:30.251Z"
   },
   {
    "duration": 78,
    "start_time": "2023-02-20T11:23:44.859Z"
   },
   {
    "duration": 1957,
    "start_time": "2023-02-20T11:23:54.627Z"
   },
   {
    "duration": 304,
    "start_time": "2023-02-20T11:24:57.497Z"
   },
   {
    "duration": 139,
    "start_time": "2023-02-20T11:25:37.355Z"
   },
   {
    "duration": 139,
    "start_time": "2023-02-20T11:26:45.908Z"
   },
   {
    "duration": 75,
    "start_time": "2023-02-20T11:27:42.186Z"
   },
   {
    "duration": 81,
    "start_time": "2023-02-20T11:31:59.054Z"
   },
   {
    "duration": 1163,
    "start_time": "2023-02-20T11:37:21.807Z"
   },
   {
    "duration": 26,
    "start_time": "2023-02-20T11:37:22.972Z"
   },
   {
    "duration": 10,
    "start_time": "2023-02-20T11:37:23.075Z"
   },
   {
    "duration": 12,
    "start_time": "2023-02-20T11:37:28.526Z"
   },
   {
    "duration": 8,
    "start_time": "2023-02-20T11:37:31.465Z"
   },
   {
    "duration": 5,
    "start_time": "2023-02-20T11:37:36.184Z"
   },
   {
    "duration": 5,
    "start_time": "2023-02-20T11:37:37.434Z"
   },
   {
    "duration": 130,
    "start_time": "2023-02-20T11:37:43.392Z"
   },
   {
    "duration": 1182,
    "start_time": "2023-02-20T11:38:19.985Z"
   },
   {
    "duration": 25,
    "start_time": "2023-02-20T11:38:21.169Z"
   },
   {
    "duration": 10,
    "start_time": "2023-02-20T11:38:21.196Z"
   },
   {
    "duration": 46,
    "start_time": "2023-02-20T11:38:21.208Z"
   },
   {
    "duration": 9,
    "start_time": "2023-02-20T11:38:21.256Z"
   },
   {
    "duration": 22,
    "start_time": "2023-02-20T11:38:21.266Z"
   },
   {
    "duration": 12,
    "start_time": "2023-02-20T11:38:21.289Z"
   },
   {
    "duration": 120,
    "start_time": "2023-02-20T11:38:21.303Z"
   },
   {
    "duration": 0,
    "start_time": "2023-02-20T11:38:21.425Z"
   },
   {
    "duration": 0,
    "start_time": "2023-02-20T11:38:21.426Z"
   },
   {
    "duration": 0,
    "start_time": "2023-02-20T11:38:21.428Z"
   },
   {
    "duration": 15,
    "start_time": "2023-02-20T11:41:25.394Z"
   },
   {
    "duration": 87,
    "start_time": "2023-02-20T11:41:55.081Z"
   },
   {
    "duration": 2002,
    "start_time": "2023-02-20T11:42:27.399Z"
   },
   {
    "duration": 132,
    "start_time": "2023-02-20T11:42:39.763Z"
   },
   {
    "duration": 108,
    "start_time": "2023-02-21T06:08:49.848Z"
   },
   {
    "duration": 1154,
    "start_time": "2023-02-21T06:09:03.729Z"
   },
   {
    "duration": 134,
    "start_time": "2023-02-21T06:09:04.886Z"
   },
   {
    "duration": 9,
    "start_time": "2023-02-21T06:09:05.022Z"
   },
   {
    "duration": 17,
    "start_time": "2023-02-21T06:09:05.033Z"
   },
   {
    "duration": 13,
    "start_time": "2023-02-21T06:09:05.052Z"
   },
   {
    "duration": 14,
    "start_time": "2023-02-21T06:09:05.067Z"
   },
   {
    "duration": 11,
    "start_time": "2023-02-21T06:09:05.082Z"
   },
   {
    "duration": 95,
    "start_time": "2023-02-21T06:09:05.095Z"
   },
   {
    "duration": 2049,
    "start_time": "2023-02-21T06:09:05.192Z"
   },
   {
    "duration": 229,
    "start_time": "2023-02-21T06:09:07.244Z"
   },
   {
    "duration": 56,
    "start_time": "2023-02-21T06:09:07.475Z"
   },
   {
    "duration": 1214,
    "start_time": "2023-02-21T06:09:41.684Z"
   },
   {
    "duration": 29,
    "start_time": "2023-02-21T06:09:42.901Z"
   },
   {
    "duration": 9,
    "start_time": "2023-02-21T06:09:42.932Z"
   },
   {
    "duration": 18,
    "start_time": "2023-02-21T06:09:42.942Z"
   },
   {
    "duration": 10,
    "start_time": "2023-02-21T06:09:42.962Z"
   },
   {
    "duration": 12,
    "start_time": "2023-02-21T06:09:42.974Z"
   },
   {
    "duration": 19,
    "start_time": "2023-02-21T06:09:42.988Z"
   },
   {
    "duration": 85,
    "start_time": "2023-02-21T06:09:43.009Z"
   },
   {
    "duration": 1913,
    "start_time": "2023-02-21T06:09:43.096Z"
   },
   {
    "duration": 192,
    "start_time": "2023-02-21T06:09:45.011Z"
   },
   {
    "duration": 81,
    "start_time": "2023-02-21T06:09:45.205Z"
   },
   {
    "duration": 112,
    "start_time": "2023-02-21T06:24:12.467Z"
   },
   {
    "duration": 123,
    "start_time": "2023-02-21T06:25:25.056Z"
   },
   {
    "duration": 126,
    "start_time": "2023-02-21T06:25:30.610Z"
   },
   {
    "duration": 68,
    "start_time": "2023-02-21T06:25:57.330Z"
   },
   {
    "duration": 112,
    "start_time": "2023-02-21T06:30:51.551Z"
   },
   {
    "duration": 1228,
    "start_time": "2023-02-21T06:36:20.876Z"
   },
   {
    "duration": 30,
    "start_time": "2023-02-21T06:36:22.106Z"
   },
   {
    "duration": 9,
    "start_time": "2023-02-21T06:36:22.138Z"
   },
   {
    "duration": 18,
    "start_time": "2023-02-21T06:36:22.149Z"
   },
   {
    "duration": 24,
    "start_time": "2023-02-21T06:36:22.169Z"
   },
   {
    "duration": 13,
    "start_time": "2023-02-21T06:36:22.195Z"
   },
   {
    "duration": 13,
    "start_time": "2023-02-21T06:36:22.210Z"
   },
   {
    "duration": 85,
    "start_time": "2023-02-21T06:36:22.225Z"
   },
   {
    "duration": 2038,
    "start_time": "2023-02-21T06:36:22.312Z"
   },
   {
    "duration": 94,
    "start_time": "2023-02-21T06:36:24.353Z"
   },
   {
    "duration": 115,
    "start_time": "2023-02-21T06:36:24.449Z"
   },
   {
    "duration": 93,
    "start_time": "2023-02-21T06:42:47.793Z"
   },
   {
    "duration": 1124,
    "start_time": "2023-02-21T06:43:26.759Z"
   },
   {
    "duration": 31,
    "start_time": "2023-02-21T06:43:27.885Z"
   },
   {
    "duration": 9,
    "start_time": "2023-02-21T06:43:27.917Z"
   },
   {
    "duration": 27,
    "start_time": "2023-02-21T06:43:27.929Z"
   },
   {
    "duration": 16,
    "start_time": "2023-02-21T06:43:27.958Z"
   },
   {
    "duration": 40,
    "start_time": "2023-02-21T06:43:27.975Z"
   },
   {
    "duration": 22,
    "start_time": "2023-02-21T06:43:28.017Z"
   },
   {
    "duration": 123,
    "start_time": "2023-02-21T06:43:28.041Z"
   },
   {
    "duration": 497,
    "start_time": "2023-02-21T06:43:28.166Z"
   },
   {
    "duration": 116,
    "start_time": "2023-02-21T06:43:28.665Z"
   },
   {
    "duration": 119,
    "start_time": "2023-02-21T06:43:28.782Z"
   },
   {
    "duration": 10,
    "start_time": "2023-02-21T07:07:36.429Z"
   },
   {
    "duration": 11,
    "start_time": "2023-02-21T07:09:01.655Z"
   },
   {
    "duration": 14,
    "start_time": "2023-02-21T07:13:57.168Z"
   },
   {
    "duration": 13,
    "start_time": "2023-02-21T07:16:56.059Z"
   },
   {
    "duration": 12,
    "start_time": "2023-02-21T07:17:07.162Z"
   },
   {
    "duration": 12,
    "start_time": "2023-02-21T07:17:14.626Z"
   },
   {
    "duration": 14,
    "start_time": "2023-02-21T07:25:20.015Z"
   },
   {
    "duration": 11,
    "start_time": "2023-02-21T07:26:03.006Z"
   },
   {
    "duration": 1262,
    "start_time": "2023-02-21T07:27:59.424Z"
   },
   {
    "duration": 31,
    "start_time": "2023-02-21T07:28:00.688Z"
   },
   {
    "duration": 34,
    "start_time": "2023-02-21T07:28:00.721Z"
   },
   {
    "duration": 77,
    "start_time": "2023-02-21T07:28:00.758Z"
   },
   {
    "duration": 52,
    "start_time": "2023-02-21T07:28:00.837Z"
   },
   {
    "duration": 41,
    "start_time": "2023-02-21T07:28:00.891Z"
   },
   {
    "duration": 41,
    "start_time": "2023-02-21T07:28:00.934Z"
   },
   {
    "duration": 126,
    "start_time": "2023-02-21T07:28:00.977Z"
   },
   {
    "duration": 522,
    "start_time": "2023-02-21T07:28:01.105Z"
   },
   {
    "duration": 125,
    "start_time": "2023-02-21T07:28:01.629Z"
   },
   {
    "duration": 12,
    "start_time": "2023-02-21T07:28:01.756Z"
   },
   {
    "duration": 11,
    "start_time": "2023-02-21T07:28:45.744Z"
   },
   {
    "duration": 117,
    "start_time": "2023-02-21T07:31:01.924Z"
   },
   {
    "duration": 6,
    "start_time": "2023-02-21T07:31:34.035Z"
   },
   {
    "duration": 1134,
    "start_time": "2023-02-21T07:35:08.034Z"
   },
   {
    "duration": 29,
    "start_time": "2023-02-21T07:35:09.171Z"
   },
   {
    "duration": 10,
    "start_time": "2023-02-21T07:35:09.202Z"
   },
   {
    "duration": 36,
    "start_time": "2023-02-21T07:35:09.214Z"
   },
   {
    "duration": 37,
    "start_time": "2023-02-21T07:35:09.252Z"
   },
   {
    "duration": 43,
    "start_time": "2023-02-21T07:35:09.291Z"
   },
   {
    "duration": 34,
    "start_time": "2023-02-21T07:35:09.336Z"
   },
   {
    "duration": 138,
    "start_time": "2023-02-21T07:35:09.372Z"
   },
   {
    "duration": 483,
    "start_time": "2023-02-21T07:35:09.511Z"
   },
   {
    "duration": 117,
    "start_time": "2023-02-21T07:35:09.996Z"
   },
   {
    "duration": 22,
    "start_time": "2023-02-21T07:35:10.115Z"
   },
   {
    "duration": 6,
    "start_time": "2023-02-21T07:35:10.139Z"
   },
   {
    "duration": 1178,
    "start_time": "2023-02-21T07:37:39.023Z"
   },
   {
    "duration": 32,
    "start_time": "2023-02-21T07:37:40.203Z"
   },
   {
    "duration": 9,
    "start_time": "2023-02-21T07:37:40.237Z"
   },
   {
    "duration": 20,
    "start_time": "2023-02-21T07:37:40.247Z"
   },
   {
    "duration": 9,
    "start_time": "2023-02-21T07:37:40.270Z"
   },
   {
    "duration": 9,
    "start_time": "2023-02-21T07:37:40.281Z"
   },
   {
    "duration": 7,
    "start_time": "2023-02-21T07:37:40.292Z"
   },
   {
    "duration": 124,
    "start_time": "2023-02-21T07:37:40.300Z"
   },
   {
    "duration": 489,
    "start_time": "2023-02-21T07:37:40.426Z"
   },
   {
    "duration": 122,
    "start_time": "2023-02-21T07:37:40.917Z"
   },
   {
    "duration": 11,
    "start_time": "2023-02-21T07:37:41.041Z"
   },
   {
    "duration": 7,
    "start_time": "2023-02-21T07:37:41.054Z"
   },
   {
    "duration": 76,
    "start_time": "2023-02-21T16:58:54.993Z"
   },
   {
    "duration": 41,
    "start_time": "2023-02-21T17:00:55.862Z"
   },
   {
    "duration": 7,
    "start_time": "2023-02-21T17:01:09.032Z"
   },
   {
    "duration": 1089,
    "start_time": "2023-02-21T17:01:19.154Z"
   },
   {
    "duration": 33,
    "start_time": "2023-02-21T17:01:20.246Z"
   },
   {
    "duration": 9,
    "start_time": "2023-02-21T17:01:20.281Z"
   },
   {
    "duration": 18,
    "start_time": "2023-02-21T17:01:20.291Z"
   },
   {
    "duration": 9,
    "start_time": "2023-02-21T17:01:20.312Z"
   },
   {
    "duration": 15,
    "start_time": "2023-02-21T17:01:20.323Z"
   },
   {
    "duration": 12,
    "start_time": "2023-02-21T17:01:20.340Z"
   },
   {
    "duration": 5,
    "start_time": "2023-02-21T17:01:20.354Z"
   },
   {
    "duration": 103,
    "start_time": "2023-02-21T17:01:20.361Z"
   },
   {
    "duration": 434,
    "start_time": "2023-02-21T17:01:20.465Z"
   },
   {
    "duration": 99,
    "start_time": "2023-02-21T17:01:20.900Z"
   },
   {
    "duration": 12,
    "start_time": "2023-02-21T17:01:21.001Z"
   },
   {
    "duration": 12,
    "start_time": "2023-02-21T17:01:21.014Z"
   },
   {
    "duration": 85,
    "start_time": "2023-02-21T17:20:07.874Z"
   },
   {
    "duration": 93,
    "start_time": "2023-02-21T17:25:10.488Z"
   },
   {
    "duration": 11,
    "start_time": "2023-02-21T17:26:16.552Z"
   },
   {
    "duration": 272,
    "start_time": "2023-02-21T17:27:34.750Z"
   },
   {
    "duration": 234,
    "start_time": "2023-02-21T17:28:07.228Z"
   },
   {
    "duration": 220,
    "start_time": "2023-02-21T17:28:33.263Z"
   },
   {
    "duration": 224,
    "start_time": "2023-02-21T17:28:58.533Z"
   },
   {
    "duration": 1158,
    "start_time": "2023-02-21T20:39:58.187Z"
   },
   {
    "duration": 26,
    "start_time": "2023-02-21T20:39:59.347Z"
   },
   {
    "duration": 8,
    "start_time": "2023-02-21T20:39:59.374Z"
   },
   {
    "duration": 14,
    "start_time": "2023-02-21T20:39:59.383Z"
   },
   {
    "duration": 7,
    "start_time": "2023-02-21T20:39:59.399Z"
   },
   {
    "duration": 5,
    "start_time": "2023-02-21T20:39:59.408Z"
   },
   {
    "duration": 7,
    "start_time": "2023-02-21T20:39:59.415Z"
   },
   {
    "duration": 6,
    "start_time": "2023-02-21T20:39:59.424Z"
   },
   {
    "duration": 118,
    "start_time": "2023-02-21T20:39:59.432Z"
   },
   {
    "duration": 0,
    "start_time": "2023-02-21T20:39:59.552Z"
   },
   {
    "duration": 0,
    "start_time": "2023-02-21T20:39:59.553Z"
   },
   {
    "duration": 0,
    "start_time": "2023-02-21T20:39:59.554Z"
   },
   {
    "duration": 0,
    "start_time": "2023-02-21T20:39:59.556Z"
   },
   {
    "duration": 0,
    "start_time": "2023-02-21T20:39:59.557Z"
   },
   {
    "duration": 44,
    "start_time": "2023-02-22T06:37:07.764Z"
   },
   {
    "duration": 1020,
    "start_time": "2023-02-22T06:37:34.095Z"
   },
   {
    "duration": 63,
    "start_time": "2023-02-22T06:37:35.118Z"
   },
   {
    "duration": 7,
    "start_time": "2023-02-22T06:37:35.183Z"
   },
   {
    "duration": 17,
    "start_time": "2023-02-22T06:37:35.191Z"
   },
   {
    "duration": 8,
    "start_time": "2023-02-22T06:37:35.210Z"
   },
   {
    "duration": 8,
    "start_time": "2023-02-22T06:37:35.219Z"
   },
   {
    "duration": 8,
    "start_time": "2023-02-22T06:37:35.228Z"
   },
   {
    "duration": 8,
    "start_time": "2023-02-22T06:37:35.237Z"
   },
   {
    "duration": 95,
    "start_time": "2023-02-22T06:37:35.246Z"
   },
   {
    "duration": 416,
    "start_time": "2023-02-22T06:37:35.342Z"
   },
   {
    "duration": 95,
    "start_time": "2023-02-22T06:37:35.759Z"
   },
   {
    "duration": 252,
    "start_time": "2023-02-22T06:37:35.855Z"
   },
   {
    "duration": 12,
    "start_time": "2023-02-22T06:37:36.109Z"
   },
   {
    "duration": 4,
    "start_time": "2023-02-22T06:37:36.137Z"
   },
   {
    "duration": 83,
    "start_time": "2023-02-22T06:45:20.933Z"
   },
   {
    "duration": 81,
    "start_time": "2023-02-22T06:46:01.499Z"
   },
   {
    "duration": 85,
    "start_time": "2023-02-22T06:49:50.076Z"
   },
   {
    "duration": 105,
    "start_time": "2023-02-22T06:50:12.623Z"
   },
   {
    "duration": 123,
    "start_time": "2023-02-22T06:50:32.014Z"
   },
   {
    "duration": 85,
    "start_time": "2023-02-22T06:50:46.075Z"
   },
   {
    "duration": 1010,
    "start_time": "2023-02-22T06:51:37.586Z"
   },
   {
    "duration": 26,
    "start_time": "2023-02-22T06:51:38.598Z"
   },
   {
    "duration": 7,
    "start_time": "2023-02-22T06:51:38.625Z"
   },
   {
    "duration": 17,
    "start_time": "2023-02-22T06:51:38.634Z"
   },
   {
    "duration": 8,
    "start_time": "2023-02-22T06:51:38.653Z"
   },
   {
    "duration": 31,
    "start_time": "2023-02-22T06:51:38.663Z"
   },
   {
    "duration": 6,
    "start_time": "2023-02-22T06:51:38.696Z"
   },
   {
    "duration": 9,
    "start_time": "2023-02-22T06:51:38.704Z"
   },
   {
    "duration": 93,
    "start_time": "2023-02-22T06:51:38.715Z"
   },
   {
    "duration": 427,
    "start_time": "2023-02-22T06:51:38.810Z"
   },
   {
    "duration": 98,
    "start_time": "2023-02-22T06:51:39.239Z"
   },
   {
    "duration": 224,
    "start_time": "2023-02-22T06:51:39.339Z"
   },
   {
    "duration": 9,
    "start_time": "2023-02-22T06:51:39.565Z"
   },
   {
    "duration": 5,
    "start_time": "2023-02-22T06:51:39.576Z"
   },
   {
    "duration": 82,
    "start_time": "2023-02-22T06:53:06.673Z"
   },
   {
    "duration": 1111,
    "start_time": "2023-02-22T18:01:24.192Z"
   },
   {
    "duration": 30,
    "start_time": "2023-02-22T18:01:25.305Z"
   },
   {
    "duration": 9,
    "start_time": "2023-02-22T18:01:25.336Z"
   },
   {
    "duration": 23,
    "start_time": "2023-02-22T18:01:25.347Z"
   },
   {
    "duration": 7,
    "start_time": "2023-02-22T18:01:25.374Z"
   },
   {
    "duration": 7,
    "start_time": "2023-02-22T18:01:25.383Z"
   },
   {
    "duration": 11,
    "start_time": "2023-02-22T18:01:25.392Z"
   },
   {
    "duration": 8,
    "start_time": "2023-02-22T18:01:25.405Z"
   },
   {
    "duration": 98,
    "start_time": "2023-02-22T18:01:25.415Z"
   },
   {
    "duration": 467,
    "start_time": "2023-02-22T18:01:25.515Z"
   },
   {
    "duration": 95,
    "start_time": "2023-02-22T18:01:25.983Z"
   },
   {
    "duration": 278,
    "start_time": "2023-02-22T18:01:26.079Z"
   },
   {
    "duration": 11,
    "start_time": "2023-02-22T18:01:26.359Z"
   },
   {
    "duration": 22,
    "start_time": "2023-02-22T18:01:26.372Z"
   }
  ],
  "kernelspec": {
   "display_name": "Python 3 (ipykernel)",
   "language": "python",
   "name": "python3"
  },
  "language_info": {
   "codemirror_mode": {
    "name": "ipython",
    "version": 3
   },
   "file_extension": ".py",
   "mimetype": "text/x-python",
   "name": "python",
   "nbconvert_exporter": "python",
   "pygments_lexer": "ipython3",
   "version": "3.9.13"
  },
  "toc": {
   "base_numbering": 1,
   "nav_menu": {},
   "number_sections": true,
   "sideBar": true,
   "skip_h1_title": true,
   "title_cell": "Table of Contents",
   "title_sidebar": "Contents",
   "toc_cell": false,
   "toc_position": {},
   "toc_section_display": true,
   "toc_window_display": false
  }
 },
 "nbformat": 4,
 "nbformat_minor": 2
}
