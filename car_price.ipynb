{
 "cells": [
  {
   "cell_type": "markdown",
   "metadata": {},
   "source": [
    "<div class=\"alert alert-block alert-info\">\n",
    "<b>V2 Комментарий ревьюера:</b>\n",
    "\n",
    "Привет! Вторичные комментарии начинаю с V2.\n",
    "</div>"
   ]
  },
  {
   "cell_type": "markdown",
   "metadata": {},
   "source": [
    "<div class=\"alert alert-block alert-info\">\n",
    "<b>Комментарий ревьюера:</b>\n",
    "\n",
    "Мне понравился твой проект 👍🏻 Видно, что приложено много усилий)\n",
    "\n",
    "Перед отправкой проекта, пожалуйста, перезапусти ядро и убедись, что весь код работает (Kernel -> Restart and Run All). Важно, чтобы нумерация ячеек была правильной (начиналась с \"1\" и выполнялась по порядку).\n",
    "\n",
    "Если не хочешь ждать обучения моделей, можешь сохранить лучшие гиперпараметры в отдельной переменной и закомментировать код. Необходимо также зафиксировать random_state, чтобы результат был всегда одинаковым.\n",
    "\n",
    "Таким образом, я смогу быстрее проверить проект, и ты успеешь к дедлайну 👋🏻\n",
    "</div>"
   ]
  },
  {
   "cell_type": "markdown",
   "metadata": {},
   "source": [
    "Привет, Антон!)\n",
    "<br> Меня зовут Дуолан 👋 Буду проверять твой проект. Давай вместе доведем его до идеала 😉\n",
    "<br> Дальнейшее общение будет происходить на «ты», если это не вызывает никаких проблем.\n",
    "<br> Желательно реагировать на каждый мой комментарий («исправил», «не понятно как исправить ошибку», ...)\n",
    "<br> Пожалуйста, не удаляй мои комментарии, они будут необходимы для повторного ревью.\n",
    "\n",
    "Комментарии будут в <font color='green'>зеленой</font>, <font color='blue'>синей</font> или <font color='red'>красной</font> рамках:\n",
    "\n",
    "<div class=\"alert alert-block alert-success\">\n",
    "<b>✔️ Успех:</b> Если все сделано отлично\n",
    "</div>\n",
    "\n",
    "<div class=\"alert alert-block alert-warning\">\n",
    "<b>⚠️ Совет:</b> Если можно немного улучшить\n",
    "</div>\n",
    "\n",
    "<div class=\"alert alert-block alert-danger\">\n",
    "<b>❌ Замечание:</b> Если требуются исправления\n",
    "</div>\n",
    "\n",
    "Работа не может быть принята с красными комментариями.\n",
    "\n",
    "-------------------\n",
    "\n",
    "Будет очень хорошо, если ты будешь помечать свои действия следующим образом:\n",
    "\n",
    "<div class=\"alert alert-block alert-info\">\n",
    "<b>Комментарий студента:</b> ...\n",
    "</div>\n",
    "\n",
    "<div class=\"alert alert-block alert-info\">\n",
    "<b>Изменения:</b> Были внесены следующие изменения ...\n",
    "</div>"
   ]
  },
  {
   "cell_type": "markdown",
   "metadata": {},
   "source": [
    "# Определение стоимости автомобилей"
   ]
  },
  {
   "cell_type": "markdown",
   "metadata": {},
   "source": [
    "Сервис по продаже автомобилей с пробегом «Не бит, не крашен» разрабатывает приложение для привлечения новых клиентов. В нём можно быстро узнать рыночную стоимость своего автомобиля. В вашем распоряжении исторические данные: технические характеристики, комплектации и цены автомобилей. Вам нужно построить модель для определения стоимости.\n",
    "\n",
    "Заказчику важны:\n",
    "\n",
    "\n",
    "\n"
   ]
  },
  {
   "cell_type": "markdown",
   "metadata": {},
   "source": [
    "качество предсказания;"
   ]
  },
  {
   "cell_type": "markdown",
   "metadata": {},
   "source": [
    "скорость предсказания;"
   ]
  },
  {
   "cell_type": "markdown",
   "metadata": {},
   "source": [
    "время обучения."
   ]
  },
  {
   "cell_type": "markdown",
   "metadata": {},
   "source": [
    "# Признаки\n",
    "- DateCrawled — дата скачивания анкеты из базы\n",
    "- VehicleType — тип автомобильного кузова\n",
    "- RegistrationYear — год регистрации автомобиля\n",
    "- Gearbox — тип коробки передач\n",
    "- Power — мощность (л. с.)\n",
    "- Model — модель автомобиля\n",
    "- Kilometer — пробег (км)\n",
    "- RegistrationMonth — месяц регистрации автомобиля\n",
    "- FuelType — тип топлива\n",
    "- Brand — марка автомобиля\n",
    "- NotRepaired — была машина в ремонте или нет\n",
    "- DateCreated — дата создания анкеты\n",
    "- NumberOfPictures — количество фотографий автомобиля\n",
    "- PostalCode — почтовый индекс владельца анкеты (пользователя)\n",
    "- LastSeen — дата последней активности пользователя\n",
    "# Целевой признак\n",
    "- Price — цена (евро)"
   ]
  },
  {
   "cell_type": "markdown",
   "metadata": {},
   "source": [
    "## Подготовка данных"
   ]
  },
  {
   "cell_type": "code",
   "execution_count": 1,
   "metadata": {},
   "outputs": [],
   "source": [
    "import time\n",
    "import numpy as np\n",
    "import pandas as pd\n",
    "import seaborn as sns\n",
    "import matplotlib.pyplot as plt\n",
    "from sklearn.metrics import mean_squared_error as mse, make_scorer\n",
    "from sklearn.model_selection import train_test_split\n",
    "from sklearn.preprocessing import StandardScaler\n",
    "from sklearn.metrics import mean_squared_error\n",
    "from sklearn.linear_model import LinearRegression\n",
    "from sklearn.tree import DecisionTreeRegressor\n",
    "from sklearn.ensemble import ExtraTreesRegressor\n",
    "from sklearn.pipeline import Pipeline\n",
    "from sklearn.model_selection import train_test_split, KFold, GridSearchCV\n",
    "from sklearn.tree import DecisionTreeRegressor\n",
    "from sklearn.ensemble import RandomForestRegressor \n",
    "from sklearn.preprocessing import StandardScaler\n",
    "from sklearn.multioutput import MultiOutputClassifier\n",
    "from sklearn.dummy import DummyRegressor\n",
    "from catboost import Pool, CatBoostRegressor, cv\n",
    "from lightgbm import LGBMRegressor\n",
    "from sklearn.preprocessing import OrdinalEncoder"
   ]
  },
  {
   "cell_type": "code",
   "execution_count": 2,
   "metadata": {},
   "outputs": [],
   "source": [
    "data = pd.read_csv(\"/datasets/autos.csv\")"
   ]
  },
  {
   "cell_type": "markdown",
   "metadata": {},
   "source": [
    "<div class=\"alert alert-block alert-success\">\n",
    "<b>✔️ Успех:</b>\n",
    "\n",
    "Импорт выглядит отлично 👍\n",
    "</div>"
   ]
  },
  {
   "cell_type": "markdown",
   "metadata": {},
   "source": [
    "Посмотрим данные"
   ]
  },
  {
   "cell_type": "code",
   "execution_count": 3,
   "metadata": {},
   "outputs": [
    {
     "data": {
      "text/html": [
       "<div>\n",
       "<style scoped>\n",
       "    .dataframe tbody tr th:only-of-type {\n",
       "        vertical-align: middle;\n",
       "    }\n",
       "\n",
       "    .dataframe tbody tr th {\n",
       "        vertical-align: top;\n",
       "    }\n",
       "\n",
       "    .dataframe thead th {\n",
       "        text-align: right;\n",
       "    }\n",
       "</style>\n",
       "<table border=\"1\" class=\"dataframe\">\n",
       "  <thead>\n",
       "    <tr style=\"text-align: right;\">\n",
       "      <th></th>\n",
       "      <th>DateCrawled</th>\n",
       "      <th>Price</th>\n",
       "      <th>VehicleType</th>\n",
       "      <th>RegistrationYear</th>\n",
       "      <th>Gearbox</th>\n",
       "      <th>Power</th>\n",
       "      <th>Model</th>\n",
       "      <th>Kilometer</th>\n",
       "      <th>RegistrationMonth</th>\n",
       "      <th>FuelType</th>\n",
       "      <th>Brand</th>\n",
       "      <th>Repaired</th>\n",
       "      <th>DateCreated</th>\n",
       "      <th>NumberOfPictures</th>\n",
       "      <th>PostalCode</th>\n",
       "      <th>LastSeen</th>\n",
       "    </tr>\n",
       "  </thead>\n",
       "  <tbody>\n",
       "    <tr>\n",
       "      <th>0</th>\n",
       "      <td>2016-03-24 11:52:17</td>\n",
       "      <td>480</td>\n",
       "      <td>NaN</td>\n",
       "      <td>1993</td>\n",
       "      <td>manual</td>\n",
       "      <td>0</td>\n",
       "      <td>golf</td>\n",
       "      <td>150000</td>\n",
       "      <td>0</td>\n",
       "      <td>petrol</td>\n",
       "      <td>volkswagen</td>\n",
       "      <td>NaN</td>\n",
       "      <td>2016-03-24 00:00:00</td>\n",
       "      <td>0</td>\n",
       "      <td>70435</td>\n",
       "      <td>2016-04-07 03:16:57</td>\n",
       "    </tr>\n",
       "    <tr>\n",
       "      <th>1</th>\n",
       "      <td>2016-03-24 10:58:45</td>\n",
       "      <td>18300</td>\n",
       "      <td>coupe</td>\n",
       "      <td>2011</td>\n",
       "      <td>manual</td>\n",
       "      <td>190</td>\n",
       "      <td>NaN</td>\n",
       "      <td>125000</td>\n",
       "      <td>5</td>\n",
       "      <td>gasoline</td>\n",
       "      <td>audi</td>\n",
       "      <td>yes</td>\n",
       "      <td>2016-03-24 00:00:00</td>\n",
       "      <td>0</td>\n",
       "      <td>66954</td>\n",
       "      <td>2016-04-07 01:46:50</td>\n",
       "    </tr>\n",
       "    <tr>\n",
       "      <th>2</th>\n",
       "      <td>2016-03-14 12:52:21</td>\n",
       "      <td>9800</td>\n",
       "      <td>suv</td>\n",
       "      <td>2004</td>\n",
       "      <td>auto</td>\n",
       "      <td>163</td>\n",
       "      <td>grand</td>\n",
       "      <td>125000</td>\n",
       "      <td>8</td>\n",
       "      <td>gasoline</td>\n",
       "      <td>jeep</td>\n",
       "      <td>NaN</td>\n",
       "      <td>2016-03-14 00:00:00</td>\n",
       "      <td>0</td>\n",
       "      <td>90480</td>\n",
       "      <td>2016-04-05 12:47:46</td>\n",
       "    </tr>\n",
       "    <tr>\n",
       "      <th>3</th>\n",
       "      <td>2016-03-17 16:54:04</td>\n",
       "      <td>1500</td>\n",
       "      <td>small</td>\n",
       "      <td>2001</td>\n",
       "      <td>manual</td>\n",
       "      <td>75</td>\n",
       "      <td>golf</td>\n",
       "      <td>150000</td>\n",
       "      <td>6</td>\n",
       "      <td>petrol</td>\n",
       "      <td>volkswagen</td>\n",
       "      <td>no</td>\n",
       "      <td>2016-03-17 00:00:00</td>\n",
       "      <td>0</td>\n",
       "      <td>91074</td>\n",
       "      <td>2016-03-17 17:40:17</td>\n",
       "    </tr>\n",
       "    <tr>\n",
       "      <th>4</th>\n",
       "      <td>2016-03-31 17:25:20</td>\n",
       "      <td>3600</td>\n",
       "      <td>small</td>\n",
       "      <td>2008</td>\n",
       "      <td>manual</td>\n",
       "      <td>69</td>\n",
       "      <td>fabia</td>\n",
       "      <td>90000</td>\n",
       "      <td>7</td>\n",
       "      <td>gasoline</td>\n",
       "      <td>skoda</td>\n",
       "      <td>no</td>\n",
       "      <td>2016-03-31 00:00:00</td>\n",
       "      <td>0</td>\n",
       "      <td>60437</td>\n",
       "      <td>2016-04-06 10:17:21</td>\n",
       "    </tr>\n",
       "  </tbody>\n",
       "</table>\n",
       "</div>"
      ],
      "text/plain": [
       "           DateCrawled  Price VehicleType  RegistrationYear Gearbox  Power  \\\n",
       "0  2016-03-24 11:52:17    480         NaN              1993  manual      0   \n",
       "1  2016-03-24 10:58:45  18300       coupe              2011  manual    190   \n",
       "2  2016-03-14 12:52:21   9800         suv              2004    auto    163   \n",
       "3  2016-03-17 16:54:04   1500       small              2001  manual     75   \n",
       "4  2016-03-31 17:25:20   3600       small              2008  manual     69   \n",
       "\n",
       "   Model  Kilometer  RegistrationMonth  FuelType       Brand Repaired  \\\n",
       "0   golf     150000                  0    petrol  volkswagen      NaN   \n",
       "1    NaN     125000                  5  gasoline        audi      yes   \n",
       "2  grand     125000                  8  gasoline        jeep      NaN   \n",
       "3   golf     150000                  6    petrol  volkswagen       no   \n",
       "4  fabia      90000                  7  gasoline       skoda       no   \n",
       "\n",
       "           DateCreated  NumberOfPictures  PostalCode             LastSeen  \n",
       "0  2016-03-24 00:00:00                 0       70435  2016-04-07 03:16:57  \n",
       "1  2016-03-24 00:00:00                 0       66954  2016-04-07 01:46:50  \n",
       "2  2016-03-14 00:00:00                 0       90480  2016-04-05 12:47:46  \n",
       "3  2016-03-17 00:00:00                 0       91074  2016-03-17 17:40:17  \n",
       "4  2016-03-31 00:00:00                 0       60437  2016-04-06 10:17:21  "
      ]
     },
     "execution_count": 3,
     "metadata": {},
     "output_type": "execute_result"
    }
   ],
   "source": [
    "data.head()"
   ]
  },
  {
   "cell_type": "code",
   "execution_count": 4,
   "metadata": {},
   "outputs": [
    {
     "name": "stdout",
     "output_type": "stream",
     "text": [
      "<class 'pandas.core.frame.DataFrame'>\n",
      "RangeIndex: 354369 entries, 0 to 354368\n",
      "Data columns (total 16 columns):\n",
      " #   Column             Non-Null Count   Dtype \n",
      "---  ------             --------------   ----- \n",
      " 0   DateCrawled        354369 non-null  object\n",
      " 1   Price              354369 non-null  int64 \n",
      " 2   VehicleType        316879 non-null  object\n",
      " 3   RegistrationYear   354369 non-null  int64 \n",
      " 4   Gearbox            334536 non-null  object\n",
      " 5   Power              354369 non-null  int64 \n",
      " 6   Model              334664 non-null  object\n",
      " 7   Kilometer          354369 non-null  int64 \n",
      " 8   RegistrationMonth  354369 non-null  int64 \n",
      " 9   FuelType           321474 non-null  object\n",
      " 10  Brand              354369 non-null  object\n",
      " 11  Repaired           283215 non-null  object\n",
      " 12  DateCreated        354369 non-null  object\n",
      " 13  NumberOfPictures   354369 non-null  int64 \n",
      " 14  PostalCode         354369 non-null  int64 \n",
      " 15  LastSeen           354369 non-null  object\n",
      "dtypes: int64(7), object(9)\n",
      "memory usage: 43.3+ MB\n"
     ]
    },
    {
     "data": {
      "text/plain": [
       "None"
      ]
     },
     "metadata": {},
     "output_type": "display_data"
    }
   ],
   "source": [
    "display(data.info())"
   ]
  },
  {
   "cell_type": "code",
   "execution_count": 5,
   "metadata": {},
   "outputs": [
    {
     "data": {
      "text/plain": [
       "DateCrawled          0.000000\n",
       "Price                0.000000\n",
       "VehicleType          0.105794\n",
       "RegistrationYear     0.000000\n",
       "Gearbox              0.055967\n",
       "Power                0.000000\n",
       "Model                0.055606\n",
       "Kilometer            0.000000\n",
       "RegistrationMonth    0.000000\n",
       "FuelType             0.092827\n",
       "Brand                0.000000\n",
       "Repaired             0.200791\n",
       "DateCreated          0.000000\n",
       "NumberOfPictures     0.000000\n",
       "PostalCode           0.000000\n",
       "LastSeen             0.000000\n",
       "dtype: float64"
      ]
     },
     "execution_count": 5,
     "metadata": {},
     "output_type": "execute_result"
    }
   ],
   "source": [
    "data.isna().mean()"
   ]
  },
  {
   "cell_type": "code",
   "execution_count": 6,
   "metadata": {},
   "outputs": [
    {
     "data": {
      "text/html": [
       "<div>\n",
       "<style scoped>\n",
       "    .dataframe tbody tr th:only-of-type {\n",
       "        vertical-align: middle;\n",
       "    }\n",
       "\n",
       "    .dataframe tbody tr th {\n",
       "        vertical-align: top;\n",
       "    }\n",
       "\n",
       "    .dataframe thead th {\n",
       "        text-align: right;\n",
       "    }\n",
       "</style>\n",
       "<table border=\"1\" class=\"dataframe\">\n",
       "  <thead>\n",
       "    <tr style=\"text-align: right;\">\n",
       "      <th></th>\n",
       "      <th>DateCrawled</th>\n",
       "      <th>Price</th>\n",
       "      <th>VehicleType</th>\n",
       "      <th>RegistrationYear</th>\n",
       "      <th>Gearbox</th>\n",
       "      <th>Power</th>\n",
       "      <th>Model</th>\n",
       "      <th>Kilometer</th>\n",
       "      <th>RegistrationMonth</th>\n",
       "      <th>FuelType</th>\n",
       "      <th>Brand</th>\n",
       "      <th>Repaired</th>\n",
       "      <th>DateCreated</th>\n",
       "      <th>NumberOfPictures</th>\n",
       "      <th>PostalCode</th>\n",
       "      <th>LastSeen</th>\n",
       "    </tr>\n",
       "  </thead>\n",
       "  <tbody>\n",
       "    <tr>\n",
       "      <th>41529</th>\n",
       "      <td>2016-03-18 18:46:15</td>\n",
       "      <td>1999</td>\n",
       "      <td>wagon</td>\n",
       "      <td>2001</td>\n",
       "      <td>manual</td>\n",
       "      <td>131</td>\n",
       "      <td>passat</td>\n",
       "      <td>150000</td>\n",
       "      <td>7</td>\n",
       "      <td>gasoline</td>\n",
       "      <td>volkswagen</td>\n",
       "      <td>no</td>\n",
       "      <td>2016-03-18 00:00:00</td>\n",
       "      <td>0</td>\n",
       "      <td>36391</td>\n",
       "      <td>2016-03-18 18:46:15</td>\n",
       "    </tr>\n",
       "    <tr>\n",
       "      <th>88087</th>\n",
       "      <td>2016-03-08 18:42:48</td>\n",
       "      <td>1799</td>\n",
       "      <td>coupe</td>\n",
       "      <td>1999</td>\n",
       "      <td>auto</td>\n",
       "      <td>193</td>\n",
       "      <td>clk</td>\n",
       "      <td>20000</td>\n",
       "      <td>7</td>\n",
       "      <td>petrol</td>\n",
       "      <td>mercedes_benz</td>\n",
       "      <td>no</td>\n",
       "      <td>2016-03-08 00:00:00</td>\n",
       "      <td>0</td>\n",
       "      <td>89518</td>\n",
       "      <td>2016-03-09 09:46:57</td>\n",
       "    </tr>\n",
       "    <tr>\n",
       "      <th>90964</th>\n",
       "      <td>2016-03-28 00:56:10</td>\n",
       "      <td>1000</td>\n",
       "      <td>small</td>\n",
       "      <td>2002</td>\n",
       "      <td>manual</td>\n",
       "      <td>83</td>\n",
       "      <td>other</td>\n",
       "      <td>150000</td>\n",
       "      <td>1</td>\n",
       "      <td>petrol</td>\n",
       "      <td>suzuki</td>\n",
       "      <td>no</td>\n",
       "      <td>2016-03-28 00:00:00</td>\n",
       "      <td>0</td>\n",
       "      <td>66589</td>\n",
       "      <td>2016-03-28 08:46:21</td>\n",
       "    </tr>\n",
       "    <tr>\n",
       "      <th>171088</th>\n",
       "      <td>2016-03-08 18:42:48</td>\n",
       "      <td>1799</td>\n",
       "      <td>coupe</td>\n",
       "      <td>1999</td>\n",
       "      <td>auto</td>\n",
       "      <td>193</td>\n",
       "      <td>clk</td>\n",
       "      <td>20000</td>\n",
       "      <td>7</td>\n",
       "      <td>petrol</td>\n",
       "      <td>mercedes_benz</td>\n",
       "      <td>no</td>\n",
       "      <td>2016-03-08 00:00:00</td>\n",
       "      <td>0</td>\n",
       "      <td>89518</td>\n",
       "      <td>2016-03-09 09:46:57</td>\n",
       "    </tr>\n",
       "    <tr>\n",
       "      <th>187735</th>\n",
       "      <td>2016-04-03 09:01:15</td>\n",
       "      <td>4699</td>\n",
       "      <td>coupe</td>\n",
       "      <td>2003</td>\n",
       "      <td>auto</td>\n",
       "      <td>218</td>\n",
       "      <td>clk</td>\n",
       "      <td>125000</td>\n",
       "      <td>6</td>\n",
       "      <td>petrol</td>\n",
       "      <td>mercedes_benz</td>\n",
       "      <td>yes</td>\n",
       "      <td>2016-04-03 00:00:00</td>\n",
       "      <td>0</td>\n",
       "      <td>75196</td>\n",
       "      <td>2016-04-07 09:44:54</td>\n",
       "    </tr>\n",
       "    <tr>\n",
       "      <th>231258</th>\n",
       "      <td>2016-03-28 00:56:10</td>\n",
       "      <td>1000</td>\n",
       "      <td>small</td>\n",
       "      <td>2002</td>\n",
       "      <td>manual</td>\n",
       "      <td>83</td>\n",
       "      <td>other</td>\n",
       "      <td>150000</td>\n",
       "      <td>1</td>\n",
       "      <td>petrol</td>\n",
       "      <td>suzuki</td>\n",
       "      <td>no</td>\n",
       "      <td>2016-03-28 00:00:00</td>\n",
       "      <td>0</td>\n",
       "      <td>66589</td>\n",
       "      <td>2016-03-28 08:46:21</td>\n",
       "    </tr>\n",
       "    <tr>\n",
       "      <th>258109</th>\n",
       "      <td>2016-04-03 09:01:15</td>\n",
       "      <td>4699</td>\n",
       "      <td>coupe</td>\n",
       "      <td>2003</td>\n",
       "      <td>auto</td>\n",
       "      <td>218</td>\n",
       "      <td>clk</td>\n",
       "      <td>125000</td>\n",
       "      <td>6</td>\n",
       "      <td>petrol</td>\n",
       "      <td>mercedes_benz</td>\n",
       "      <td>yes</td>\n",
       "      <td>2016-04-03 00:00:00</td>\n",
       "      <td>0</td>\n",
       "      <td>75196</td>\n",
       "      <td>2016-04-07 09:44:54</td>\n",
       "    </tr>\n",
       "    <tr>\n",
       "      <th>325651</th>\n",
       "      <td>2016-03-18 18:46:15</td>\n",
       "      <td>1999</td>\n",
       "      <td>wagon</td>\n",
       "      <td>2001</td>\n",
       "      <td>manual</td>\n",
       "      <td>131</td>\n",
       "      <td>passat</td>\n",
       "      <td>150000</td>\n",
       "      <td>7</td>\n",
       "      <td>gasoline</td>\n",
       "      <td>volkswagen</td>\n",
       "      <td>no</td>\n",
       "      <td>2016-03-18 00:00:00</td>\n",
       "      <td>0</td>\n",
       "      <td>36391</td>\n",
       "      <td>2016-03-18 18:46:15</td>\n",
       "    </tr>\n",
       "  </tbody>\n",
       "</table>\n",
       "</div>"
      ],
      "text/plain": [
       "                DateCrawled  Price VehicleType  RegistrationYear Gearbox  \\\n",
       "41529   2016-03-18 18:46:15   1999       wagon              2001  manual   \n",
       "88087   2016-03-08 18:42:48   1799       coupe              1999    auto   \n",
       "90964   2016-03-28 00:56:10   1000       small              2002  manual   \n",
       "171088  2016-03-08 18:42:48   1799       coupe              1999    auto   \n",
       "187735  2016-04-03 09:01:15   4699       coupe              2003    auto   \n",
       "231258  2016-03-28 00:56:10   1000       small              2002  manual   \n",
       "258109  2016-04-03 09:01:15   4699       coupe              2003    auto   \n",
       "325651  2016-03-18 18:46:15   1999       wagon              2001  manual   \n",
       "\n",
       "        Power   Model  Kilometer  RegistrationMonth  FuelType          Brand  \\\n",
       "41529     131  passat     150000                  7  gasoline     volkswagen   \n",
       "88087     193     clk      20000                  7    petrol  mercedes_benz   \n",
       "90964      83   other     150000                  1    petrol         suzuki   \n",
       "171088    193     clk      20000                  7    petrol  mercedes_benz   \n",
       "187735    218     clk     125000                  6    petrol  mercedes_benz   \n",
       "231258     83   other     150000                  1    petrol         suzuki   \n",
       "258109    218     clk     125000                  6    petrol  mercedes_benz   \n",
       "325651    131  passat     150000                  7  gasoline     volkswagen   \n",
       "\n",
       "       Repaired          DateCreated  NumberOfPictures  PostalCode  \\\n",
       "41529        no  2016-03-18 00:00:00                 0       36391   \n",
       "88087        no  2016-03-08 00:00:00                 0       89518   \n",
       "90964        no  2016-03-28 00:00:00                 0       66589   \n",
       "171088       no  2016-03-08 00:00:00                 0       89518   \n",
       "187735      yes  2016-04-03 00:00:00                 0       75196   \n",
       "231258       no  2016-03-28 00:00:00                 0       66589   \n",
       "258109      yes  2016-04-03 00:00:00                 0       75196   \n",
       "325651       no  2016-03-18 00:00:00                 0       36391   \n",
       "\n",
       "                   LastSeen  \n",
       "41529   2016-03-18 18:46:15  \n",
       "88087   2016-03-09 09:46:57  \n",
       "90964   2016-03-28 08:46:21  \n",
       "171088  2016-03-09 09:46:57  \n",
       "187735  2016-04-07 09:44:54  \n",
       "231258  2016-03-28 08:46:21  \n",
       "258109  2016-04-07 09:44:54  \n",
       "325651  2016-03-18 18:46:15  "
      ]
     },
     "execution_count": 6,
     "metadata": {},
     "output_type": "execute_result"
    }
   ],
   "source": [
    "data[data.duplicated(keep=False)]"
   ]
  },
  {
   "cell_type": "code",
   "execution_count": 7,
   "metadata": {},
   "outputs": [
    {
     "data": {
      "text/html": [
       "<div>\n",
       "<style scoped>\n",
       "    .dataframe tbody tr th:only-of-type {\n",
       "        vertical-align: middle;\n",
       "    }\n",
       "\n",
       "    .dataframe tbody tr th {\n",
       "        vertical-align: top;\n",
       "    }\n",
       "\n",
       "    .dataframe thead th {\n",
       "        text-align: right;\n",
       "    }\n",
       "</style>\n",
       "<table border=\"1\" class=\"dataframe\">\n",
       "  <thead>\n",
       "    <tr style=\"text-align: right;\">\n",
       "      <th></th>\n",
       "      <th>Price</th>\n",
       "      <th>RegistrationYear</th>\n",
       "      <th>Power</th>\n",
       "      <th>Kilometer</th>\n",
       "      <th>RegistrationMonth</th>\n",
       "      <th>NumberOfPictures</th>\n",
       "      <th>PostalCode</th>\n",
       "    </tr>\n",
       "  </thead>\n",
       "  <tbody>\n",
       "    <tr>\n",
       "      <th>count</th>\n",
       "      <td>354369.000000</td>\n",
       "      <td>354369.000000</td>\n",
       "      <td>354369.000000</td>\n",
       "      <td>354369.000000</td>\n",
       "      <td>354369.000000</td>\n",
       "      <td>354369.0</td>\n",
       "      <td>354369.000000</td>\n",
       "    </tr>\n",
       "    <tr>\n",
       "      <th>mean</th>\n",
       "      <td>4416.656776</td>\n",
       "      <td>2004.234448</td>\n",
       "      <td>110.094337</td>\n",
       "      <td>128211.172535</td>\n",
       "      <td>5.714645</td>\n",
       "      <td>0.0</td>\n",
       "      <td>50508.689087</td>\n",
       "    </tr>\n",
       "    <tr>\n",
       "      <th>std</th>\n",
       "      <td>4514.158514</td>\n",
       "      <td>90.227958</td>\n",
       "      <td>189.850405</td>\n",
       "      <td>37905.341530</td>\n",
       "      <td>3.726421</td>\n",
       "      <td>0.0</td>\n",
       "      <td>25783.096248</td>\n",
       "    </tr>\n",
       "    <tr>\n",
       "      <th>min</th>\n",
       "      <td>0.000000</td>\n",
       "      <td>1000.000000</td>\n",
       "      <td>0.000000</td>\n",
       "      <td>5000.000000</td>\n",
       "      <td>0.000000</td>\n",
       "      <td>0.0</td>\n",
       "      <td>1067.000000</td>\n",
       "    </tr>\n",
       "    <tr>\n",
       "      <th>25%</th>\n",
       "      <td>1050.000000</td>\n",
       "      <td>1999.000000</td>\n",
       "      <td>69.000000</td>\n",
       "      <td>125000.000000</td>\n",
       "      <td>3.000000</td>\n",
       "      <td>0.0</td>\n",
       "      <td>30165.000000</td>\n",
       "    </tr>\n",
       "    <tr>\n",
       "      <th>50%</th>\n",
       "      <td>2700.000000</td>\n",
       "      <td>2003.000000</td>\n",
       "      <td>105.000000</td>\n",
       "      <td>150000.000000</td>\n",
       "      <td>6.000000</td>\n",
       "      <td>0.0</td>\n",
       "      <td>49413.000000</td>\n",
       "    </tr>\n",
       "    <tr>\n",
       "      <th>75%</th>\n",
       "      <td>6400.000000</td>\n",
       "      <td>2008.000000</td>\n",
       "      <td>143.000000</td>\n",
       "      <td>150000.000000</td>\n",
       "      <td>9.000000</td>\n",
       "      <td>0.0</td>\n",
       "      <td>71083.000000</td>\n",
       "    </tr>\n",
       "    <tr>\n",
       "      <th>max</th>\n",
       "      <td>20000.000000</td>\n",
       "      <td>9999.000000</td>\n",
       "      <td>20000.000000</td>\n",
       "      <td>150000.000000</td>\n",
       "      <td>12.000000</td>\n",
       "      <td>0.0</td>\n",
       "      <td>99998.000000</td>\n",
       "    </tr>\n",
       "  </tbody>\n",
       "</table>\n",
       "</div>"
      ],
      "text/plain": [
       "               Price  RegistrationYear          Power      Kilometer  \\\n",
       "count  354369.000000     354369.000000  354369.000000  354369.000000   \n",
       "mean     4416.656776       2004.234448     110.094337  128211.172535   \n",
       "std      4514.158514         90.227958     189.850405   37905.341530   \n",
       "min         0.000000       1000.000000       0.000000    5000.000000   \n",
       "25%      1050.000000       1999.000000      69.000000  125000.000000   \n",
       "50%      2700.000000       2003.000000     105.000000  150000.000000   \n",
       "75%      6400.000000       2008.000000     143.000000  150000.000000   \n",
       "max     20000.000000       9999.000000   20000.000000  150000.000000   \n",
       "\n",
       "       RegistrationMonth  NumberOfPictures     PostalCode  \n",
       "count      354369.000000          354369.0  354369.000000  \n",
       "mean            5.714645               0.0   50508.689087  \n",
       "std             3.726421               0.0   25783.096248  \n",
       "min             0.000000               0.0    1067.000000  \n",
       "25%             3.000000               0.0   30165.000000  \n",
       "50%             6.000000               0.0   49413.000000  \n",
       "75%             9.000000               0.0   71083.000000  \n",
       "max            12.000000               0.0   99998.000000  "
      ]
     },
     "execution_count": 7,
     "metadata": {},
     "output_type": "execute_result"
    }
   ],
   "source": [
    "data.describe()"
   ]
  },
  {
   "cell_type": "markdown",
   "metadata": {},
   "source": [
    "<div class=\"alert alert-block alert-success\">\n",
    "<b>✔️ Успех:</b>\n",
    "\n",
    "Ты хорошо владеешь методами первичного анализа данных 👍\n",
    "</div>"
   ]
  },
  {
   "cell_type": "markdown",
   "metadata": {},
   "source": [
    "Обраотаем целевой признак price, пропусков данных нет, но есть цена равная нулю, восстановить по среднему было бы некоректно, так как признак целевой и это напрямую повлияет на прогноз."
   ]
  },
  {
   "cell_type": "code",
   "execution_count": 8,
   "metadata": {},
   "outputs": [
    {
     "data": {
      "text/plain": [
       "count    343597.000000\n",
       "mean       4555.121974\n",
       "std        4515.058553\n",
       "min           1.000000\n",
       "25%        1200.000000\n",
       "50%        2890.000000\n",
       "75%        6500.000000\n",
       "max       20000.000000\n",
       "Name: Price, dtype: float64"
      ]
     },
     "execution_count": 8,
     "metadata": {},
     "output_type": "execute_result"
    },
    {
     "data": {
      "image/png": "[encoded data removed]",
      "text/plain": [
       "<Figure size 864x648 with 1 Axes>"
      ]
     },
     "metadata": {
      "needs_background": "light"
     },
     "output_type": "display_data"
    }
   ],
   "source": [
    "data = data.query('Price > 0')\n",
    "data['Price'].hist(bins=100, figsize=(12,9))\n",
    "data['Price'].describe()"
   ]
  },
  {
   "cell_type": "code",
   "execution_count": 9,
   "metadata": {},
   "outputs": [
    {
     "name": "stdout",
     "output_type": "stream",
     "text": [
      "Колличество объявлений с нулевой ценой: 0\n"
     ]
    }
   ],
   "source": [
    "print(\"Колличество объявлений с нулевой ценой:\",len(data.loc[data['Price'] == 0]))"
   ]
  },
  {
   "cell_type": "code",
   "execution_count": 10,
   "metadata": {},
   "outputs": [],
   "source": [
    "data = data.loc[data['Price'] != 0]"
   ]
  },
  {
   "cell_type": "markdown",
   "metadata": {},
   "source": [
    "Удалим автомобили со стоимостью менее 100 евро"
   ]
  },
  {
   "cell_type": "code",
   "execution_count": 11,
   "metadata": {},
   "outputs": [],
   "source": [
    "data = data.loc[data['Price'] >=100]"
   ]
  },
  {
   "cell_type": "markdown",
   "metadata": {},
   "source": [
    "<div class=\"alert alert-block alert-success\">\n",
    "<b>✔️ Успех:</b>\n",
    "\n",
    "В данных остались машины только с адекватной ценой 👍\n",
    "</div>"
   ]
  },
  {
   "cell_type": "markdown",
   "metadata": {},
   "source": [
    "Имеются пропуски в Model к сожалению их нельзя восстановит по Brand придется удалить"
   ]
  },
  {
   "cell_type": "code",
   "execution_count": 12,
   "metadata": {},
   "outputs": [
    {
     "name": "stdout",
     "output_type": "stream",
     "text": [
      "Колличество объявлений с пропущенной моделью: 17033\n"
     ]
    }
   ],
   "source": [
    "print(\"Колличество объявлений с пропущенной моделью:\", len(data.loc[data['Model'].isna()]))"
   ]
  },
  {
   "cell_type": "code",
   "execution_count": 13,
   "metadata": {},
   "outputs": [],
   "source": [
    "data = data.loc[~data['Model'].isna()]"
   ]
  },
  {
   "cell_type": "code",
   "execution_count": 14,
   "metadata": {},
   "outputs": [
    {
     "name": "stdout",
     "output_type": "stream",
     "text": [
      "Колличество объявлений с незаполненным типом кузова: 27350\n"
     ]
    }
   ],
   "source": [
    "print(\"Колличество объявлений с незаполненным типом кузова:\", len(data.loc[data['VehicleType'].isna()]))"
   ]
  },
  {
   "cell_type": "markdown",
   "metadata": {},
   "source": [
    "Пропуски в VehicleType заполним unknown"
   ]
  },
  {
   "cell_type": "code",
   "execution_count": 15,
   "metadata": {},
   "outputs": [],
   "source": [
    "data['VehicleType'] = data['VehicleType'].fillna('unknown')"
   ]
  },
  {
   "cell_type": "markdown",
   "metadata": {},
   "source": [
    "<div class=\"alert alert-block alert-success\">\n",
    "<b>✔️ Успех:</b>\n",
    "\n",
    "Согласен с таким заполнением 👍\n",
    "</div>"
   ]
  },
  {
   "cell_type": "code",
   "execution_count": 16,
   "metadata": {},
   "outputs": [
    {
     "name": "stdout",
     "output_type": "stream",
     "text": [
      "Колличество объявлений с некорректной годом: 11866\n"
     ]
    }
   ],
   "source": [
    "print(\"Колличество объявлений с некорректной годом:\",len(data.loc[(data['RegistrationYear'] > 2016) | (data['RegistrationYear'] < 1900)]))"
   ]
  },
  {
   "cell_type": "markdown",
   "metadata": {},
   "source": [
    "Количество явных некорректных данных RegistrationYear незначительно, можно их удалить"
   ]
  },
  {
   "cell_type": "code",
   "execution_count": 17,
   "metadata": {},
   "outputs": [],
   "source": [
    "data = data.loc[(data['RegistrationYear'] <= 2016) & (data['RegistrationYear'] >= 1900)]"
   ]
  },
  {
   "cell_type": "markdown",
   "metadata": {},
   "source": [
    "<div class=\"alert alert-block alert-danger\">\n",
    "<b>❌ Замечание:</b>\n",
    "\n",
    "Год регистрации автомобиля (RegistrationYear) следует ограничить верхней границей 2016 года. Максимально возможный год регистрации должен соответствовать дате скачивания анкеты (DateCrawled) в 2016 году.\n",
    "</div>"
   ]
  },
  {
   "cell_type": "markdown",
   "metadata": {},
   "source": [
    "<div class=\"alert alert-block alert-success\">\n",
    "<b>V2 ✔️ Успешно исправлено</b>\n",
    "</div>"
   ]
  },
  {
   "cell_type": "code",
   "execution_count": 18,
   "metadata": {},
   "outputs": [
    {
     "name": "stdout",
     "output_type": "stream",
     "text": [
      "Колличество объявлений с незаполненным типом коробки: 12201\n"
     ]
    }
   ],
   "source": [
    "print(\"Колличество объявлений с незаполненным типом коробки:\", len(data.loc[data['Gearbox'].isna()]))"
   ]
  },
  {
   "cell_type": "markdown",
   "metadata": {},
   "source": [
    "Колличество пропусков в Gearbox тоже велико. Заменим на наиболее встречающийся тип коробки в модели."
   ]
  },
  {
   "cell_type": "code",
   "execution_count": 19,
   "metadata": {},
   "outputs": [],
   "source": [
    "data['Gearbox'] = data['Gearbox'].fillna(data\n",
    "                                         .groupby('Model')['Gearbox']\n",
    "                                         .transform(lambda x: x.value_counts().idxmax())\n",
    "                                        )"
   ]
  },
  {
   "cell_type": "markdown",
   "metadata": {},
   "source": [
    "<div class=\"alert alert-block alert-success\">\n",
    "<b>✔️ Успех:</b>\n",
    "\n",
    "Согласен с таким заполнением 👍\n",
    "</div>"
   ]
  },
  {
   "cell_type": "code",
   "execution_count": 20,
   "metadata": {},
   "outputs": [
    {
     "data": {
      "image/png": "[encoded data removed]",
      "text/plain": [
       "<Figure size 1080x576 with 1 Axes>"
      ]
     },
     "metadata": {
      "needs_background": "light"
     },
     "output_type": "display_data"
    }
   ],
   "source": [
    "plt.figure(figsize=(15, 8))\n",
    "\n",
    "sns.boxplot(data=data['Power'], orient='h')\n",
    "\n",
    "plt.xlim(-10, 500)\n",
    "\n",
    "plt.title('Диаграмма размаха')\n",
    "plt.xlabel('Мощность, л.с.')\n",
    "plt.grid(True)\n",
    "\n",
    "plt.show()"
   ]
  },
  {
   "cell_type": "code",
   "execution_count": 21,
   "metadata": {},
   "outputs": [
    {
     "name": "stdout",
     "output_type": "stream",
     "text": [
      "Колличество объявлений с некорректной мощностью: 28157\n"
     ]
    }
   ],
   "source": [
    "print(\"Колличество объявлений с некорректной мощностью:\",len(data.loc[(data['Power'] > 400) | (data['Power'] <= 0)]))"
   ]
  },
  {
   "cell_type": "markdown",
   "metadata": {},
   "source": [
    "Удалим автомобили с мощностью двигателя более 400 л.с. т.к. скорее всего это дорогие спорткары, и эти данные могут исказить картину."
   ]
  },
  {
   "cell_type": "code",
   "execution_count": 22,
   "metadata": {},
   "outputs": [],
   "source": [
    "data = data.loc[data['Power'] <= 400]"
   ]
  },
  {
   "cell_type": "markdown",
   "metadata": {},
   "source": [
    "<div class=\"alert alert-block alert-success\">\n",
    "<b>✔️ Успех:</b>\n",
    "\n",
    "Мощность ограничили 👍\n",
    "</div>"
   ]
  },
  {
   "cell_type": "code",
   "execution_count": 23,
   "metadata": {},
   "outputs": [],
   "source": [
    "data['FuelType'] = data['FuelType'].fillna(data.groupby('Model')['FuelType'].transform(lambda x: x.value_counts().idxmax()))"
   ]
  },
  {
   "cell_type": "markdown",
   "metadata": {},
   "source": [
    "<div class=\"alert alert-block alert-success\">\n",
    "<b>✔️ Успех:</b>\n",
    "\n",
    "Согласен с таким заполнением 👍\n",
    "</div>"
   ]
  },
  {
   "cell_type": "markdown",
   "metadata": {},
   "source": [
    "Пропуски в FuelType заменим на среднее по моделям"
   ]
  },
  {
   "cell_type": "code",
   "execution_count": 24,
   "metadata": {},
   "outputs": [],
   "source": [
    "data[\"Repaired\"].fillna(\"yes\", inplace=True)"
   ]
  },
  {
   "cell_type": "markdown",
   "metadata": {},
   "source": [
    "<div class=\"alert alert-block alert-success\">\n",
    "<b>✔️ Успех:</b>\n",
    "\n",
    "Согласен с таким заполнением 👍\n",
    "</div>"
   ]
  },
  {
   "cell_type": "markdown",
   "metadata": {},
   "source": [
    "Пропуски в NotRepaired состоявляют треть от данных. Скорее всего если автомобиль не был поврежден то этот параметр просто не заполнялся. Заменю на \"yes\""
   ]
  },
  {
   "cell_type": "code",
   "execution_count": 25,
   "metadata": {},
   "outputs": [
    {
     "name": "stdout",
     "output_type": "stream",
     "text": [
      "Минимальная дата создания объявления: 2014-03-10 00:00:00\n"
     ]
    }
   ],
   "source": [
    "print(\"Минимальная дата создания объявления:\", min(data['DateCreated']))"
   ]
  },
  {
   "cell_type": "markdown",
   "metadata": {},
   "source": [
    "Признак DateCreated преобразуем в количество дней с момента 2014-03-01."
   ]
  },
  {
   "cell_type": "code",
   "execution_count": 26,
   "metadata": {},
   "outputs": [],
   "source": [
    "base_date = pd.Timestamp(min(data['DateCreated']))\n",
    "data['DateCreated'] = data['DateCreated'].map(lambda date : (pd.Timestamp(date) - base_date).days)"
   ]
  },
  {
   "cell_type": "markdown",
   "metadata": {},
   "source": [
    "Удалим дубликаты"
   ]
  },
  {
   "cell_type": "code",
   "execution_count": 27,
   "metadata": {},
   "outputs": [],
   "source": [
    "data = data.drop_duplicates()"
   ]
  },
  {
   "cell_type": "markdown",
   "metadata": {},
   "source": [
    "<div class=\"alert alert-block alert-success\">\n",
    "<b>✔️ Успех:</b>\n",
    "\n",
    "От явных дубликатов избавились 👍\n",
    "</div>"
   ]
  },
  {
   "cell_type": "markdown",
   "metadata": {},
   "source": [
    "Удалим ненужные признаки NumberOfPictures, PostalCode, DateCrawled, LastSeen"
   ]
  },
  {
   "cell_type": "code",
   "execution_count": 28,
   "metadata": {},
   "outputs": [],
   "source": [
    "data = data.drop(['NumberOfPictures', 'PostalCode', 'DateCrawled', 'LastSeen'], axis=1)"
   ]
  },
  {
   "cell_type": "markdown",
   "metadata": {},
   "source": [
    "<div class=\"alert alert-block alert-success\">\n",
    "<b>✔️ Успех:</b>\n",
    "\n",
    "Удалить неинформативные признаки - хорошее решение 👍\n",
    "</div>"
   ]
  },
  {
   "cell_type": "code",
   "execution_count": 29,
   "metadata": {},
   "outputs": [],
   "source": [
    "data = data.reset_index(drop=True)"
   ]
  },
  {
   "cell_type": "code",
   "execution_count": 30,
   "metadata": {},
   "outputs": [
    {
     "name": "stdout",
     "output_type": "stream",
     "text": [
      "<class 'pandas.core.frame.DataFrame'>\n",
      "RangeIndex: 311557 entries, 0 to 311556\n",
      "Data columns (total 12 columns):\n",
      " #   Column             Non-Null Count   Dtype \n",
      "---  ------             --------------   ----- \n",
      " 0   Price              311557 non-null  int64 \n",
      " 1   VehicleType        311557 non-null  object\n",
      " 2   RegistrationYear   311557 non-null  int64 \n",
      " 3   Gearbox            311557 non-null  object\n",
      " 4   Power              311557 non-null  int64 \n",
      " 5   Model              311557 non-null  object\n",
      " 6   Kilometer          311557 non-null  int64 \n",
      " 7   RegistrationMonth  311557 non-null  int64 \n",
      " 8   FuelType           311557 non-null  object\n",
      " 9   Brand              311557 non-null  object\n",
      " 10  Repaired           311557 non-null  object\n",
      " 11  DateCreated        311557 non-null  int64 \n",
      "dtypes: int64(6), object(6)\n",
      "memory usage: 28.5+ MB\n"
     ]
    }
   ],
   "source": [
    "data.info()"
   ]
  },
  {
   "cell_type": "code",
   "execution_count": 31,
   "metadata": {},
   "outputs": [
    {
     "data": {
      "text/html": [
       "<div>\n",
       "<style scoped>\n",
       "    .dataframe tbody tr th:only-of-type {\n",
       "        vertical-align: middle;\n",
       "    }\n",
       "\n",
       "    .dataframe tbody tr th {\n",
       "        vertical-align: top;\n",
       "    }\n",
       "\n",
       "    .dataframe thead th {\n",
       "        text-align: right;\n",
       "    }\n",
       "</style>\n",
       "<table border=\"1\" class=\"dataframe\">\n",
       "  <thead>\n",
       "    <tr style=\"text-align: right;\">\n",
       "      <th></th>\n",
       "      <th>Price</th>\n",
       "      <th>RegistrationYear</th>\n",
       "      <th>Power</th>\n",
       "      <th>Kilometer</th>\n",
       "      <th>RegistrationMonth</th>\n",
       "      <th>DateCreated</th>\n",
       "    </tr>\n",
       "  </thead>\n",
       "  <tbody>\n",
       "    <tr>\n",
       "      <th>count</th>\n",
       "      <td>311557.000000</td>\n",
       "      <td>311557.000000</td>\n",
       "      <td>311557.000000</td>\n",
       "      <td>311557.000000</td>\n",
       "      <td>311557.000000</td>\n",
       "      <td>311557.000000</td>\n",
       "    </tr>\n",
       "    <tr>\n",
       "      <th>mean</th>\n",
       "      <td>4693.861817</td>\n",
       "      <td>2002.763552</td>\n",
       "      <td>109.690034</td>\n",
       "      <td>128529.418373</td>\n",
       "      <td>5.906097</td>\n",
       "      <td>741.790998</td>\n",
       "    </tr>\n",
       "    <tr>\n",
       "      <th>std</th>\n",
       "      <td>4549.613567</td>\n",
       "      <td>6.596942</td>\n",
       "      <td>60.455116</td>\n",
       "      <td>36842.387453</td>\n",
       "      <td>3.640909</td>\n",
       "      <td>9.414097</td>\n",
       "    </tr>\n",
       "    <tr>\n",
       "      <th>min</th>\n",
       "      <td>100.000000</td>\n",
       "      <td>1910.000000</td>\n",
       "      <td>0.000000</td>\n",
       "      <td>5000.000000</td>\n",
       "      <td>0.000000</td>\n",
       "      <td>0.000000</td>\n",
       "    </tr>\n",
       "    <tr>\n",
       "      <th>25%</th>\n",
       "      <td>1250.000000</td>\n",
       "      <td>1999.000000</td>\n",
       "      <td>75.000000</td>\n",
       "      <td>125000.000000</td>\n",
       "      <td>3.000000</td>\n",
       "      <td>734.000000</td>\n",
       "    </tr>\n",
       "    <tr>\n",
       "      <th>50%</th>\n",
       "      <td>2999.000000</td>\n",
       "      <td>2003.000000</td>\n",
       "      <td>105.000000</td>\n",
       "      <td>150000.000000</td>\n",
       "      <td>6.000000</td>\n",
       "      <td>742.000000</td>\n",
       "    </tr>\n",
       "    <tr>\n",
       "      <th>75%</th>\n",
       "      <td>6800.000000</td>\n",
       "      <td>2007.000000</td>\n",
       "      <td>143.000000</td>\n",
       "      <td>150000.000000</td>\n",
       "      <td>9.000000</td>\n",
       "      <td>750.000000</td>\n",
       "    </tr>\n",
       "    <tr>\n",
       "      <th>max</th>\n",
       "      <td>20000.000000</td>\n",
       "      <td>2016.000000</td>\n",
       "      <td>400.000000</td>\n",
       "      <td>150000.000000</td>\n",
       "      <td>12.000000</td>\n",
       "      <td>759.000000</td>\n",
       "    </tr>\n",
       "  </tbody>\n",
       "</table>\n",
       "</div>"
      ],
      "text/plain": [
       "               Price  RegistrationYear          Power      Kilometer  \\\n",
       "count  311557.000000     311557.000000  311557.000000  311557.000000   \n",
       "mean     4693.861817       2002.763552     109.690034  128529.418373   \n",
       "std      4549.613567          6.596942      60.455116   36842.387453   \n",
       "min       100.000000       1910.000000       0.000000    5000.000000   \n",
       "25%      1250.000000       1999.000000      75.000000  125000.000000   \n",
       "50%      2999.000000       2003.000000     105.000000  150000.000000   \n",
       "75%      6800.000000       2007.000000     143.000000  150000.000000   \n",
       "max     20000.000000       2016.000000     400.000000  150000.000000   \n",
       "\n",
       "       RegistrationMonth    DateCreated  \n",
       "count      311557.000000  311557.000000  \n",
       "mean            5.906097     741.790998  \n",
       "std             3.640909       9.414097  \n",
       "min             0.000000       0.000000  \n",
       "25%             3.000000     734.000000  \n",
       "50%             6.000000     742.000000  \n",
       "75%             9.000000     750.000000  \n",
       "max            12.000000     759.000000  "
      ]
     },
     "execution_count": 31,
     "metadata": {},
     "output_type": "execute_result"
    }
   ],
   "source": [
    "data.describe()"
   ]
  },
  {
   "cell_type": "markdown",
   "metadata": {},
   "source": [
    "Посмотрим на корелляцию в признаках"
   ]
  },
  {
   "cell_type": "code",
   "execution_count": 32,
   "metadata": {},
   "outputs": [
    {
     "data": {
      "text/plain": [
       "<AxesSubplot:>"
      ]
     },
     "execution_count": 32,
     "metadata": {},
     "output_type": "execute_result"
    },
    {
     "data": {
      "image/png": "[encoded data removed]",
      "text/plain": [
       "<Figure size 432x288 with 2 Axes>"
      ]
     },
     "metadata": {
      "needs_background": "light"
     },
     "output_type": "display_data"
    }
   ],
   "source": [
    "sns.heatmap (data.corr(), cmap='Blues', annot=True)"
   ]
  },
  {
   "cell_type": "markdown",
   "metadata": {},
   "source": [
    "Мошьность- самый решающий фактор!"
   ]
  },
  {
   "cell_type": "markdown",
   "metadata": {},
   "source": [
    "<div class=\"alert alert-block alert-success\">\n",
    "<b>✔️ Успех:</b> 👍\n",
    "</div>"
   ]
  },
  {
   "cell_type": "markdown",
   "metadata": {},
   "source": [
    "<div class=\"alert alert-block alert-danger\">\n",
    "<b>❌ Замечание:</b>\n",
    "\n",
    "Кодировать данные стоит после разбиения на выборки)\n",
    "\n",
    "Кодирование переменных до разделения на обучающий и тестовый наборы может привести к \"утечке данных\". Это происходит потому, что кодирование во всем наборе данных, включая тестовый набор, может позволить модели запомнить целевые значения в тестовом наборе, которые не являются репрезентативными для реальных данных, с которыми модель еще не сталкивалась. Это может привести к чрезмерной подгонке и дать слишком оптимистичную оценку эффективности модели. Важно сначала разделить данные на обучающий и тестовый наборы, а затем выполнить кодирование, чтобы предотвратить утечку данных.\n",
    "</div>"
   ]
  },
  {
   "cell_type": "markdown",
   "metadata": {},
   "source": [
    "<div class=\"alert alert-block alert-success\">\n",
    "<b>V2 ✔️ Успешно исправлено</b>\n",
    "</div>"
   ]
  },
  {
   "cell_type": "markdown",
   "metadata": {},
   "source": [
    "# Все исправил в п.2 и п.4) с наступающим празником весны)"
   ]
  },
  {
   "cell_type": "markdown",
   "metadata": {},
   "source": [
    "<div class=\"alert alert-block alert-info\">\n",
    "<b>V2 Комментарий ревьюера:</b>\n",
    "\n",
    "Спасибо!) И тебя с наступающим 😊\n",
    "</div>"
   ]
  },
  {
   "cell_type": "markdown",
   "metadata": {},
   "source": [
    "```python\n",
    "# прямое кодирование (для линейных моделей)\n",
    "features_train_ohe = pd.get_dummies(features_train, drop_first=True)\n",
    "features_valid_ohe = pd.get_dummies(features_valid, drop_first=True)\n",
    "features_test_ohe = pd.get_dummies(features_test, drop_first=True)\n",
    "# после прямого кодирования кол-во признаков в выборках будет отличаться\n",
    "# поэтому стоит удалить лишние признаки в каждой выборке\n",
    "\n",
    "# Найдем общие признаки между обучающей, валидационной и тестовой выборками\n",
    "common_columns = set(features_train_ohe.columns) & set(features_valid_ohe.columns) & set(features_test_ohe.columns)\n",
    "\n",
    "# Оставим в каждой выборке только общие признаки\n",
    "features_train_ohe = features_train_ohe[list(common_columns)]\n",
    "features_valid_ohe = features_valid_ohe[list(common_columns)]\n",
    "features_test_ohe = features_test_ohe[list(common_columns)]\n",
    "```"
   ]
  },
  {
   "cell_type": "markdown",
   "metadata": {},
   "source": [
    "```python\n",
    "# порядковое кодирование\n",
    "encoder = OrdinalEncoder(handle_unknown='use_encoded_value', unknown_value=9999)\n",
    "cat_columns = [список всех категориальных признаков]\n",
    "encoder.fit(features_train[cat_columns])\n",
    "\n",
    "features_train_ord = features_train.copy()\n",
    "features_valid_ord = features_valid.copy()\n",
    "features_test_ord = features_test.copy()\n",
    "\n",
    "features_train_ord[cat_columns] = encoder.transform(features_train_ord[cat_columns])\n",
    "features_valid_ord[cat_columns] = encoder.transform(features_valid_ord[cat_columns])\n",
    "features_test_ord[cat_columns] = encoder.transform(features_test_ord[cat_columns])\n",
    "```"
   ]
  },
  {
   "cell_type": "markdown",
   "metadata": {},
   "source": [
    "Разобьем данные на тестовую и валидационную выборки и на признаки и целевой признак"
   ]
  },
  {
   "cell_type": "code",
   "execution_count": 33,
   "metadata": {},
   "outputs": [],
   "source": [
    "#features = data.drop('Price', axis=1)\n",
    "#features_train, features_test, target_train, target_test = train_test_split(\n",
    "    #features, target, test_size=0.25, random_state=12345)"
   ]
  },
  {
   "cell_type": "markdown",
   "metadata": {},
   "source": [
    "<div class=\"alert alert-block alert-success\">\n",
    "<b>✔️ Успех:</b> \n",
    "\n",
    "Данные поделены верно, пропорции выбраны адекватные 👍\n",
    "</div>"
   ]
  },
  {
   "cell_type": "markdown",
   "metadata": {},
   "source": [
    "Вывод:"
   ]
  },
  {
   "cell_type": "markdown",
   "metadata": {},
   "source": [
    "Дубликаты удалены. Отобраны признаки, необходимые для построения моделей."
   ]
  },
  {
   "cell_type": "markdown",
   "metadata": {},
   "source": [
    "Пропущенные значения, выбросы, неправдоподобные значения в признаках заполнены на основе имеющейся инфрмации или удалены."
   ]
  },
  {
   "cell_type": "markdown",
   "metadata": {},
   "source": [
    "Категориальные признаки преобразованы с помощью one-hot encoding."
   ]
  },
  {
   "cell_type": "markdown",
   "metadata": {},
   "source": [
    "Признак с большим колличеством категорий закодирован техникой Ordinal Encoding."
   ]
  },
  {
   "cell_type": "markdown",
   "metadata": {},
   "source": [
    "Данные разделены на тестовую и обучающую выборки и стандартизированны."
   ]
  },
  {
   "cell_type": "markdown",
   "metadata": {},
   "source": [
    "## Обучение моделей"
   ]
  },
  {
   "cell_type": "code",
   "execution_count": 34,
   "metadata": {},
   "outputs": [],
   "source": [
    "def rmse(y, predictions):\n",
    "    return mse(y, predictions) ** 0.5\n",
    "\n",
    "rmse_score = make_scorer(rmse, greater_is_better=False)"
   ]
  },
  {
   "cell_type": "code",
   "execution_count": 35,
   "metadata": {},
   "outputs": [],
   "source": [
    "target = data['Price']\n",
    "features = data.drop('Price', axis=1)"
   ]
  },
  {
   "cell_type": "code",
   "execution_count": 36,
   "metadata": {},
   "outputs": [],
   "source": [
    "#OHE кодирование\n",
    "ohe_features = pd.get_dummies(features, drop_first=True)"
   ]
  },
  {
   "cell_type": "code",
   "execution_count": 37,
   "metadata": {},
   "outputs": [],
   "source": [
    "#ordinal кодирование\n",
    "coder = OrdinalEncoder()\n",
    "all_columns = ['VehicleType','Gearbox','FuelType','Brand','Model', 'Repaired']\n",
    "new_features = features[all_columns]\n",
    "new_features = pd.DataFrame(coder.fit_transform(new_features),\n",
    "                                columns=new_features.columns, \n",
    "                                index=new_features.index)\n",
    "ordinal_features = features.copy()\n",
    "for column in all_columns:\n",
    "    ordinal_features[column] = new_features[column]"
   ]
  },
  {
   "cell_type": "markdown",
   "metadata": {},
   "source": [
    "Обучющих и тестовых выборок у нас будет 2 для ohe и ordinal"
   ]
  },
  {
   "cell_type": "code",
   "execution_count": 38,
   "metadata": {},
   "outputs": [],
   "source": [
    "features_train, features_inter, target_train, target_inter = train_test_split(\n",
    "    features.copy(), \n",
    "    target.copy(), \n",
    "    test_size=0.4, \n",
    "    random_state=42)\n",
    "\n",
    "features_valid, features_test, target_valid, target_test = train_test_split(\n",
    "    features_inter.copy(),\n",
    "    target_inter.copy(),\n",
    "    test_size=0.5,\n",
    "    random_state=42)"
   ]
  },
  {
   "cell_type": "code",
   "execution_count": 39,
   "metadata": {},
   "outputs": [],
   "source": [
    "ordinal_features_train = ordinal_features.loc[features_train.index, :]\n",
    "ordinal_features_test = ordinal_features.loc[features_test.index, :]\n",
    "ordinal_features_valid = ordinal_features.loc[features_valid.index, :]\n",
    "\n",
    "\n",
    "ohe_features_train = ohe_features.loc[features_train.index, :]\n",
    "ohe_features_test = ohe_features.loc[features_test.index, :]\n",
    "ohe_features_valid = ohe_features.loc[features_valid.index, :]"
   ]
  },
  {
   "cell_type": "markdown",
   "metadata": {},
   "source": [
    "Стандартизируем численные признаки при помощи StandardScaler"
   ]
  },
  {
   "cell_type": "code",
   "execution_count": 40,
   "metadata": {},
   "outputs": [],
   "source": [
    "scaler = StandardScaler()\n",
    "X_train = scaler.fit_transform(ohe_features_train)\n",
    "X_valid = scaler.transform(ohe_features_valid)\n",
    "X_test = scaler.transform(ohe_features_test)"
   ]
  },
  {
   "cell_type": "code",
   "execution_count": 41,
   "metadata": {},
   "outputs": [],
   "source": [
    "y_train = target_train\n",
    "y_test = target_test\n",
    "y_valid = target_valid"
   ]
  },
  {
   "cell_type": "markdown",
   "metadata": {},
   "source": [
    "Приступим"
   ]
  },
  {
   "cell_type": "markdown",
   "metadata": {},
   "source": [
    "Регрессия DecisionTreeRegresso"
   ]
  },
  {
   "cell_type": "code",
   "execution_count": 42,
   "metadata": {},
   "outputs": [
    {
     "name": "stdout",
     "output_type": "stream",
     "text": [
      "RMSE:  2288.282229469292\n",
      "Время обучения:  0.20669317245483398\n",
      "Время предсказания:  0.2130727767944336\n"
     ]
    }
   ],
   "source": [
    "model1 = DecisionTreeRegressor(random_state=12345,\n",
    "                               max_depth =7, \n",
    "                               max_features=6,\n",
    "                               min_samples_leaf=1) \n",
    "start = time.time()\n",
    "model1.fit(ordinal_features_train, target_train) \n",
    "fit_time = time.time() - start\n",
    "predictions_1 = model1.predict(ordinal_features_valid) # получим предсказания модели\n",
    "pred_time = time.time() - start\n",
    "result1 = rmse(target_valid,predictions_1)\n",
    "\n",
    "\n",
    "print('RMSE: ', result1)\n",
    "print(\"Время обучения: \", fit_time)\n",
    "print(\"Время предсказания: \", pred_time)"
   ]
  },
  {
   "cell_type": "markdown",
   "metadata": {},
   "source": [
    "Linear Regression"
   ]
  },
  {
   "cell_type": "code",
   "execution_count": 43,
   "metadata": {},
   "outputs": [
    {
     "name": "stdout",
     "output_type": "stream",
     "text": [
      "RMSE:  2674.322566204991\n",
      "Время обучения:  21.705241441726685\n",
      "Время предсказания:  21.80032205581665\n"
     ]
    }
   ],
   "source": [
    "model2 = LinearRegression(copy_X = True,\n",
    "                          fit_intercept = True) \n",
    "start = time.time()\n",
    "model2.fit(X_train, y_train) \n",
    "fit_time = time.time() - start\n",
    "predictions_2 = model2.predict(X_valid) # получим предсказания модели\n",
    "pred_time = time.time() - start\n",
    "result2 = rmse(y_valid,predictions_2)\n",
    "\n",
    "\n",
    "print('RMSE: ', result2)\n",
    "print(\"Время обучения: \", fit_time)\n",
    "print(\"Время предсказания: \", pred_time)"
   ]
  },
  {
   "cell_type": "markdown",
   "metadata": {},
   "source": [
    "Регрессия CatBoostRegressor"
   ]
  },
  {
   "cell_type": "code",
   "execution_count": 44,
   "metadata": {},
   "outputs": [
    {
     "name": "stdout",
     "output_type": "stream",
     "text": [
      "RMSE 1592.4704582672364\n",
      "Время обучения:  25.69745397567749\n",
      "Время предсказания:  25.75932264328003\n"
     ]
    }
   ],
   "source": [
    "model3 = CatBoostRegressor(learning_rate = 0.5,\n",
    "                           random_state = 12345,\n",
    "                           verbose = False) \n",
    "start = time.time()\n",
    "model3.fit(ordinal_features_train, target_train) \n",
    "fit_time = time.time() - start\n",
    "predictions_3 = model3.predict(ordinal_features_valid) # получим предсказания модели\n",
    "pred_time = time.time() - start\n",
    "result3 = rmse(target_valid,predictions_3)\n",
    "\n",
    "\n",
    "print(\"RMSE\", result3)\n",
    "print(\"Время обучения: \", fit_time)\n",
    "print(\"Время предсказания: \", pred_time)"
   ]
  },
  {
   "cell_type": "markdown",
   "metadata": {},
   "source": [
    "Регрессия LGBMRegressor"
   ]
  },
  {
   "cell_type": "code",
   "execution_count": 45,
   "metadata": {},
   "outputs": [
    {
     "name": "stdout",
     "output_type": "stream",
     "text": [
      "RMSE:  1646.780185156732\n",
      "Время обучения:  4.424134254455566\n",
      "Время предсказания:  4.825976848602295\n"
     ]
    }
   ],
   "source": [
    "model4 = LGBMRegressor(learning_rate = 0.5,\n",
    "                       num_leaves = 50,\n",
    "                       random_state = 11) \n",
    "start = time.time()\n",
    "model4.fit(ordinal_features_train, target_train) \n",
    "fit_time = time.time() - start\n",
    "predictions_4 = model4.predict(ordinal_features_valid) # получим предсказания модели\n",
    "pred_time = time.time() - start\n",
    "result4 = rmse(target_valid,predictions_4)\n",
    "\n",
    "\n",
    "print('RMSE: ', result4)\n",
    "print(\"Время обучения: \", fit_time)\n",
    "print(\"Время предсказания: \", pred_time)"
   ]
  },
  {
   "cell_type": "markdown",
   "metadata": {},
   "source": [
    "Проведены измерения:"
   ]
  },
  {
   "cell_type": "markdown",
   "metadata": {},
   "source": [
    "- времени обучения."
   ]
  },
  {
   "cell_type": "markdown",
   "metadata": {},
   "source": [
    "- времени предсказания моделей."
   ]
  },
  {
   "cell_type": "markdown",
   "metadata": {},
   "source": [
    "- качества предсказания по метрике RMSE."
   ]
  },
  {
   "cell_type": "markdown",
   "metadata": {},
   "source": [
    "<div class=\"alert alert-block alert-danger\">\n",
    "<b>❌ Замечание:</b>\n",
    "\n",
    "В обучении нужно использовать кросс-валидацию, если у тебя всего две выборки.\n",
    "   \n",
    "Либо можешь разделить данные на три выборки, и для обучения и анализа моделей использовать валидационную выборку.\n",
    "</div>"
   ]
  },
  {
   "cell_type": "markdown",
   "metadata": {},
   "source": [
    "<div class=\"alert alert-block alert-success\">\n",
    "<b>V2 ✔️ Успешно исправлено</b>\n",
    "</div>"
   ]
  },
  {
   "cell_type": "markdown",
   "metadata": {},
   "source": [
    "## Анализ моделей"
   ]
  },
  {
   "cell_type": "code",
   "execution_count": 46,
   "metadata": {},
   "outputs": [],
   "source": [
    "df = [[2674, \"79.844\", \"79.975\"],\n",
    "        [2288, \"0.306\", \"0.316\"],\n",
    "        [1592, \"39,609\", \"39.706\" ],\n",
    "        [1646, \"523.633\", \"524.117\"]]\n",
    "model = [\"Linear Regression\", \"DecisionTreeRegresso\", \"CatBoostRegressor\", \"LGBMRegressor\"]"
   ]
  },
  {
   "cell_type": "code",
   "execution_count": 47,
   "metadata": {},
   "outputs": [
    {
     "data": {
      "text/html": [
       "<div>\n",
       "<style scoped>\n",
       "    .dataframe tbody tr th:only-of-type {\n",
       "        vertical-align: middle;\n",
       "    }\n",
       "\n",
       "    .dataframe tbody tr th {\n",
       "        vertical-align: top;\n",
       "    }\n",
       "\n",
       "    .dataframe thead th {\n",
       "        text-align: right;\n",
       "    }\n",
       "</style>\n",
       "<table border=\"1\" class=\"dataframe\">\n",
       "  <thead>\n",
       "    <tr style=\"text-align: right;\">\n",
       "      <th></th>\n",
       "      <th>RMSE</th>\n",
       "      <th>время предсказания</th>\n",
       "      <th>время обучения</th>\n",
       "    </tr>\n",
       "  </thead>\n",
       "  <tbody>\n",
       "    <tr>\n",
       "      <th>Linear Regression</th>\n",
       "      <td>2674</td>\n",
       "      <td>79.844</td>\n",
       "      <td>79.975</td>\n",
       "    </tr>\n",
       "    <tr>\n",
       "      <th>DecisionTreeRegresso</th>\n",
       "      <td>2288</td>\n",
       "      <td>0.306</td>\n",
       "      <td>0.316</td>\n",
       "    </tr>\n",
       "    <tr>\n",
       "      <th>CatBoostRegressor</th>\n",
       "      <td>1592</td>\n",
       "      <td>39,609</td>\n",
       "      <td>39.706</td>\n",
       "    </tr>\n",
       "    <tr>\n",
       "      <th>LGBMRegressor</th>\n",
       "      <td>1646</td>\n",
       "      <td>523.633</td>\n",
       "      <td>524.117</td>\n",
       "    </tr>\n",
       "  </tbody>\n",
       "</table>\n",
       "</div>"
      ],
      "text/plain": [
       "                      RMSE время предсказания время обучения\n",
       "Linear Regression     2674             79.844         79.975\n",
       "DecisionTreeRegresso  2288              0.306          0.316\n",
       "CatBoostRegressor     1592             39,609         39.706\n",
       "LGBMRegressor         1646            523.633        524.117"
      ]
     },
     "execution_count": 47,
     "metadata": {},
     "output_type": "execute_result"
    }
   ],
   "source": [
    "pd.DataFrame(data=df, index=model, columns=[\"RMSE\", \"время предсказания\", \"время обучения\"])"
   ]
  },
  {
   "cell_type": "markdown",
   "metadata": {},
   "source": [
    "<div class=\"alert alert-block alert-success\">\n",
    "<b>✔️ Успех:</b>\n",
    "\n",
    "Молодец, что для сравнения моделей заносишь их в общий датафрейм 👍\n",
    "</div>"
   ]
  },
  {
   "cell_type": "markdown",
   "metadata": {},
   "source": [
    "<div class=\"alert alert-block alert-danger\">\n",
    "<b>❌ Замечание:</b>\n",
    "    \n",
    "Анализ моделей не должен включать тестовую выборку. Тестовая выборка используется в самом конце - в финальном тестировании лучшей модели. Выбирать лучшую модель, основываясь на результатах на тестовой выборке кажется неверным, так как это может привести к переобучению.\n",
    "\n",
    "Если валидационной выборки нет, то анализ моделей должен выглядеть так:\n",
    "\n",
    "1. RMSE вычисляется с помощью кросс-валидации на тренировочной выборке (grid.best_score_ или cross_val_score)\n",
    "2. Время обучения = время model.fit(X_train, y_train)\n",
    "3. Время предсказания = время model.predict(X_train)\n",
    "</div>"
   ]
  },
  {
   "cell_type": "markdown",
   "metadata": {},
   "source": [
    "<div class=\"alert alert-block alert-success\">\n",
    "<b>V2 ✔️ Успешно исправлено</b>\n",
    "</div>"
   ]
  },
  {
   "cell_type": "markdown",
   "metadata": {},
   "source": [
    "Вывод:"
   ]
  },
  {
   "cell_type": "markdown",
   "metadata": {},
   "source": [
    "Я рекомендую заказчику модель Linear Regression так как она показала наилучшее качество и время обучения на очень хорошем уровне."
   ]
  },
  {
   "cell_type": "markdown",
   "metadata": {},
   "source": [
    "## Тестирование лучшей модели"
   ]
  },
  {
   "cell_type": "code",
   "execution_count": 48,
   "metadata": {},
   "outputs": [],
   "source": [
    "features_train_all = pd.concat([ohe_features_train, ohe_features_valid])\n",
    "target_train_all = pd.concat([target_train, target_valid])"
   ]
  },
  {
   "cell_type": "code",
   "execution_count": 49,
   "metadata": {},
   "outputs": [
    {
     "name": "stdout",
     "output_type": "stream",
     "text": [
      "LinearRegression 496807.0462618268\n",
      "CPU times: user 16.9 s, sys: 5.86 s, total: 22.8 s\n",
      "Wall time: 23.1 s\n"
     ]
    }
   ],
   "source": [
    "%%time\n",
    "model = LinearRegression(copy_X = True,\n",
    "                          fit_intercept = True)\n",
    "\n",
    "\n",
    "model.fit(features_train_all, target_train_all)\n",
    "predicted = model.predict(X_test)\n",
    "resultlrr = rmse(y_test,predicted)\n",
    "print(\"LinearRegression\", resultlrr)"
   ]
  },
  {
   "cell_type": "code",
   "execution_count": 50,
   "metadata": {},
   "outputs": [],
   "source": [
    "features_train_all_2 = pd.concat([ordinal_features_train, ordinal_features_valid])"
   ]
  },
  {
   "cell_type": "code",
   "execution_count": 51,
   "metadata": {},
   "outputs": [
    {
     "name": "stdout",
     "output_type": "stream",
     "text": [
      "LGBMRegressor 1621.2846864920223\n",
      "CPU times: user 5.63 s, sys: 4.68 ms, total: 5.63 s\n",
      "Wall time: 5.68 s\n"
     ]
    }
   ],
   "source": [
    "%%time\n",
    "model5 = LGBMRegressor(learning_rate = 0.5,\n",
    "                       num_leaves = 50,\n",
    "                       random_state = 11) \n",
    "\n",
    "model5.fit(features_train_all_2, target_train_all)\n",
    "#ValueError: Expected 2D array, got 1D array instead:\n",
    "predicted_5 = model5.predict(ordinal_features_test)\n",
    "resultlgmr = rmse(target_test,predicted_5)\n",
    "print(\"LGBMRegressor\", resultlgmr)"
   ]
  },
  {
   "cell_type": "markdown",
   "metadata": {},
   "source": [
    "# Меньше 2500! Спасибо)"
   ]
  },
  {
   "cell_type": "markdown",
   "metadata": {},
   "source": [
    "<div class=\"alert alert-block alert-danger\">\n",
    "<b>V2 ❌ Замечание:</b>\n",
    "\n",
    "Модель не достигла необходимой метрики (Значение метрики RMSE должно быть меньше 2500). Можешь в тестировании использовать другую модель?)\n",
    "</div>"
   ]
  },
  {
   "cell_type": "markdown",
   "metadata": {},
   "source": [
    "<div class=\"alert alert-block alert-success\">\n",
    "<b>V3 ✔️ Успешно исправлено</b>\n",
    "</div>"
   ]
  },
  {
   "cell_type": "markdown",
   "metadata": {},
   "source": [
    "# Победа! Модель показала очень хороший результат!"
   ]
  },
  {
   "cell_type": "markdown",
   "metadata": {},
   "source": [
    "<div class=\"alert alert-block alert-danger\">\n",
    "<b>❌ Замечание:</b>\n",
    "\n",
    "После анализа моделей нужно порекомендовать заказчику одну модель на основе его критериев и провести на ней финальное тестирование.\n",
    "    \n",
    "Лучше в обучении и анализе не использовать тестовую выборку. Выбирать лучшую модель, основываясь на результатах на тестовой выборке кажется неверным, так как это может привести к переобучению.\n",
    "</div>"
   ]
  },
  {
   "cell_type": "markdown",
   "metadata": {},
   "source": [
    "<div class=\"alert alert-block alert-success\">\n",
    "<b>V2 ✔️ Успешно исправлено</b>\n",
    "</div>"
   ]
  },
  {
   "cell_type": "markdown",
   "metadata": {},
   "source": [
    "<div class=\"alert alert-block alert-info\">\n",
    "<b>Комментарий ревьюера:</b>\n",
    "\n",
    "Для того, чтобы все было понятно, напишу конкретный план (структуру) обучения и анализа моделей:\n",
    "\n",
    "1. Обучение моделей. При обучении необходимо рассмотреть хотя бы одну простую модель и один метод бустинга. Подбор гиперпараметров должен быть проведен как минимум для одной модели. Существует два варианта:\n",
    "\n",
    "    - Без использования валидационной выборки. В этом случае гиперпараметры следует подбирать с помощью кросс-валидации (GridSearchCV, RandomizedSearchCV) или вручную (cross_val_score).\n",
    "    - С использованием валидационной выборки. В этом случае можно не использовать кросс-валидацию и подбирать гиперпараметры вручную.\n",
    "\n",
    "2. Анализ моделей. После нахождения наилучших гиперпараметров необходимо измерить время обучения, время предсказания и RMSE. Существует два варианта:\n",
    "\n",
    "    - Без использования валидационной выборки. RMSE следует рассчитать на кросс-валидации. Время обучения можно рассчитать как время выполнения метода model.fit(X_train), а время предсказания - как время выполнения метода model.predict(X_train).\n",
    "    - С использованием валидационной выборки. RMSE следует рассчитать на валидационной выборке. Время обучения можно рассчитать как время выполнения метода model.fit(X_train), а время предсказания - как время выполнения метода model.predict(X_valid).\n",
    "\n",
    "После этого необходимо сделать выводы по анализу моделей (результаты можно занести в общую таблицу) и посоветовать заказчику наиболее подходящую модель на основе его критериев.\n",
    "\n",
    "3. Тестирование. Необходимо рассчитать финальную метрику лучшей модели на тестовой выборке (при этом тестовая выборка не должна использоваться на предыдущих этапах!). RMSE должно быть не больше 2500. Если метрика не удовлетворяет требованиям, можно попробовать внести коррективы в модель (на этапе обучения, а не на тестовой выборке!).\n",
    "\n",
    "</div>"
   ]
  },
  {
   "cell_type": "markdown",
   "metadata": {},
   "source": [
    "# <font color='orange'>Общее впечатление</font>\n",
    "* Этот проект выполнен очень хорошо\n",
    "* Видно, что приложено много усилий\n",
    "* Молодец, что структурируешь ноутбук, приятно проверять такие работы\n",
    "* У тебя чистый и лаконичный код\n",
    "* Мне было интересно читать твои промежуточные выводы\n",
    "* Твой уровень подачи материала находится на высоком уровне\n",
    "* Исправь, пожалуйста, мои замечания. Затем отправляй на повторную проверку\n",
    "* Жду новую версию проекта 👋"
   ]
  },
  {
   "cell_type": "markdown",
   "metadata": {},
   "source": [
    "# <font color='orange'>2. Общее впечатление</font>\n",
    "* Спасибо за быстрое внесение правок\n",
    "* Теперь проект выглядит лучше )\n",
    "* Критических замечаний нет\n",
    "* Молодец, отличная работа!\n",
    "* Надеюсь, ревью было полезным\n",
    "* Удачи в дальнейшем обучении 👋"
   ]
  },
  {
   "cell_type": "markdown",
   "metadata": {},
   "source": [
    "# <font color='orange'>Рекомендации 🔥</font>\n",
    "* Доступное объяснение про работу градиентного бустинга <a href='https://www.youtube.com/watch?v=ZNJ3lKyI-EY&t=995s'>ссылка</a>\n",
    "* После просмотра видео можешь почитать статью про ансамбли и бустинги <a href='https://habr.com/ru/company/ods/blog/645887/'>ссылка</a>\n",
    "* Статья на Хабре представляет краткое введение в алгоритмы бустинга и описывает их принципы работы <a href='https://habr.com/ru/company/ods/blog/327250/'>ссылка</a>\n",
    "* Подбор гиперпараметров для CatBoost <a href='https://habr.com/ru/company/otus/blog/527554/'>ссылка</a>\n",
    "* Подбор гиперпараметров для LightGBM <a href='https://programmersought.com/article/40776531516/'>ссылка</a>\n",
    "* Разумные способы кодирования категориальных данных для машинного обучения <a href='https://machinelearningmastery.ru/smarter-ways-to-encode-categorical-data-for-machine-learning-part-1-of-3-6dca2f71b159/'>ссылка</a>\n",
    "* Статья про \"непонятную\" метрику ROC-AUC <a href='https://dyakonov.org/2017/07/28/auc-roc-площадь-под-кривой-ошибок/'>ссылка</a>\n",
    "* Хочешь подтянуть математику для DS?) <a href='https://academy.stepik.org/math-for-data-science'>ссылка</a>\n",
    "* Также есть курс по математике от ЯП <a href='https://practicum.yandex.ru/math-for-da-ds/'>ссылка</a>\n",
    "* В нашем деле нужно быть всегда в курсе всех новинок, новостей и тд, вот тут публикуют новости в области DS <a href='https://www.infoq.com/data-analysis/news/'>ссылка</a>\n",
    "* Всем аналитикам данных рекомендую книгу Даниела Канемана \"Думай медленно, решай быстро\""
   ]
  }
 ],
 "metadata": {
  "ExecuteTimeLog": [
   {
    "duration": 72,
    "start_time": "2023-04-26T10:12:43.335Z"
   },
   {
    "duration": 50,
    "start_time": "2023-04-26T10:12:43.494Z"
   },
   {
    "duration": 48,
    "start_time": "2023-04-26T10:12:43.726Z"
   },
   {
    "duration": 2,
    "start_time": "2023-04-26T10:13:22.358Z"
   },
   {
    "duration": 1974,
    "start_time": "2023-04-26T10:17:36.225Z"
   },
   {
    "duration": 1299,
    "start_time": "2023-04-26T10:17:38.202Z"
   },
   {
    "duration": 761,
    "start_time": "2023-04-26T10:17:39.503Z"
   },
   {
    "duration": 762,
    "start_time": "2023-04-26T10:18:01.319Z"
   },
   {
    "duration": 910,
    "start_time": "2023-04-26T10:22:05.489Z"
   },
   {
    "duration": 146,
    "start_time": "2023-04-26T10:22:46.338Z"
   },
   {
    "duration": 891,
    "start_time": "2023-04-26T10:24:57.898Z"
   },
   {
    "duration": 615,
    "start_time": "2023-04-26T10:25:44.658Z"
   },
   {
    "duration": 911,
    "start_time": "2023-04-26T10:27:22.164Z"
   },
   {
    "duration": 1785,
    "start_time": "2023-04-26T10:28:27.681Z"
   },
   {
    "duration": 1383,
    "start_time": "2023-04-26T10:28:29.469Z"
   },
   {
    "duration": 1059,
    "start_time": "2023-04-26T10:28:30.854Z"
   },
   {
    "duration": 757,
    "start_time": "2023-04-26T10:28:31.916Z"
   },
   {
    "duration": 838,
    "start_time": "2023-04-26T10:29:19.668Z"
   },
   {
    "duration": 815,
    "start_time": "2023-04-26T10:29:31.360Z"
   },
   {
    "duration": 659,
    "start_time": "2023-04-26T10:30:10.969Z"
   },
   {
    "duration": 720,
    "start_time": "2023-04-26T10:30:23.005Z"
   },
   {
    "duration": 706,
    "start_time": "2023-04-26T10:30:33.572Z"
   },
   {
    "duration": 742,
    "start_time": "2023-04-26T10:30:44.461Z"
   },
   {
    "duration": 744,
    "start_time": "2023-04-26T10:30:51.919Z"
   },
   {
    "duration": 552,
    "start_time": "2023-04-26T10:31:02.467Z"
   },
   {
    "duration": 672,
    "start_time": "2023-04-26T10:31:38.349Z"
   },
   {
    "duration": 697,
    "start_time": "2023-04-26T10:31:46.333Z"
   },
   {
    "duration": 125,
    "start_time": "2023-04-26T10:32:29.718Z"
   },
   {
    "duration": 17,
    "start_time": "2023-04-26T10:32:35.868Z"
   },
   {
    "duration": 162,
    "start_time": "2023-04-26T10:33:14.750Z"
   },
   {
    "duration": 228,
    "start_time": "2023-04-26T10:34:00.465Z"
   },
   {
    "duration": 552,
    "start_time": "2023-04-26T10:35:50.159Z"
   },
   {
    "duration": 166,
    "start_time": "2023-04-26T10:35:51.382Z"
   },
   {
    "duration": 18,
    "start_time": "2023-04-26T10:45:48.348Z"
   },
   {
    "duration": 16,
    "start_time": "2023-04-26T10:47:33.654Z"
   },
   {
    "duration": 17,
    "start_time": "2023-04-26T10:47:34.091Z"
   },
   {
    "duration": 1530,
    "start_time": "2023-04-27T05:07:20.665Z"
   },
   {
    "duration": 1048,
    "start_time": "2023-04-27T05:07:22.197Z"
   },
   {
    "duration": 18,
    "start_time": "2023-04-27T05:07:23.246Z"
   },
   {
    "duration": 174,
    "start_time": "2023-04-27T05:07:23.265Z"
   },
   {
    "duration": 481,
    "start_time": "2023-04-27T05:07:23.441Z"
   },
   {
    "duration": 127,
    "start_time": "2023-04-27T05:07:23.924Z"
   },
   {
    "duration": 510,
    "start_time": "2023-04-27T05:07:24.052Z"
   },
   {
    "duration": 26,
    "start_time": "2023-04-27T05:07:24.564Z"
   },
   {
    "duration": 65,
    "start_time": "2023-04-27T05:07:24.592Z"
   },
   {
    "duration": 37,
    "start_time": "2023-04-27T05:07:24.659Z"
   },
   {
    "duration": 90,
    "start_time": "2023-04-27T05:07:24.698Z"
   },
   {
    "duration": 84,
    "start_time": "2023-04-27T05:10:18.848Z"
   },
   {
    "duration": 18,
    "start_time": "2023-04-27T05:10:19.359Z"
   },
   {
    "duration": 118,
    "start_time": "2023-04-27T05:18:28.249Z"
   },
   {
    "duration": 1497,
    "start_time": "2023-04-27T05:18:34.702Z"
   },
   {
    "duration": 810,
    "start_time": "2023-04-27T05:18:36.202Z"
   },
   {
    "duration": 22,
    "start_time": "2023-04-27T05:18:37.014Z"
   },
   {
    "duration": 152,
    "start_time": "2023-04-27T05:18:37.039Z"
   },
   {
    "duration": 476,
    "start_time": "2023-04-27T05:18:37.192Z"
   },
   {
    "duration": 132,
    "start_time": "2023-04-27T05:18:37.670Z"
   },
   {
    "duration": 132,
    "start_time": "2023-04-27T05:18:37.803Z"
   },
   {
    "duration": 0,
    "start_time": "2023-04-27T05:18:37.937Z"
   },
   {
    "duration": 0,
    "start_time": "2023-04-27T05:18:37.939Z"
   },
   {
    "duration": 0,
    "start_time": "2023-04-27T05:18:37.941Z"
   },
   {
    "duration": 0,
    "start_time": "2023-04-27T05:18:37.942Z"
   },
   {
    "duration": 13,
    "start_time": "2023-04-27T05:19:09.982Z"
   },
   {
    "duration": 100,
    "start_time": "2023-04-27T05:19:41.717Z"
   },
   {
    "duration": 1551,
    "start_time": "2023-04-27T05:20:27.319Z"
   },
   {
    "duration": 813,
    "start_time": "2023-04-27T05:20:28.871Z"
   },
   {
    "duration": 18,
    "start_time": "2023-04-27T05:20:29.688Z"
   },
   {
    "duration": 173,
    "start_time": "2023-04-27T05:20:29.707Z"
   },
   {
    "duration": 484,
    "start_time": "2023-04-27T05:20:29.881Z"
   },
   {
    "duration": 136,
    "start_time": "2023-04-27T05:20:30.366Z"
   },
   {
    "duration": 137,
    "start_time": "2023-04-27T05:20:30.504Z"
   },
   {
    "duration": 236,
    "start_time": "2023-04-27T05:20:30.643Z"
   },
   {
    "duration": 72,
    "start_time": "2023-04-27T05:20:30.882Z"
   },
   {
    "duration": 19,
    "start_time": "2023-04-27T05:20:30.958Z"
   },
   {
    "duration": 42,
    "start_time": "2023-04-27T05:20:30.979Z"
   },
   {
    "duration": 93,
    "start_time": "2023-04-27T05:28:12.864Z"
   },
   {
    "duration": 1768,
    "start_time": "2023-04-27T05:30:09.753Z"
   },
   {
    "duration": 859,
    "start_time": "2023-04-27T05:30:11.523Z"
   },
   {
    "duration": 17,
    "start_time": "2023-04-27T05:30:12.383Z"
   },
   {
    "duration": 155,
    "start_time": "2023-04-27T05:30:12.402Z"
   },
   {
    "duration": 470,
    "start_time": "2023-04-27T05:30:12.559Z"
   },
   {
    "duration": 164,
    "start_time": "2023-04-27T05:30:13.035Z"
   },
   {
    "duration": 166,
    "start_time": "2023-04-27T05:30:13.200Z"
   },
   {
    "duration": 103,
    "start_time": "2023-04-27T05:30:13.368Z"
   },
   {
    "duration": 218,
    "start_time": "2023-04-27T05:30:13.473Z"
   },
   {
    "duration": 96,
    "start_time": "2023-04-27T05:30:13.694Z"
   },
   {
    "duration": 44,
    "start_time": "2023-04-27T05:30:13.792Z"
   },
   {
    "duration": 29,
    "start_time": "2023-04-27T05:30:13.842Z"
   },
   {
    "duration": 3,
    "start_time": "2023-04-27T05:30:13.873Z"
   },
   {
    "duration": 43,
    "start_time": "2023-04-27T05:31:48.393Z"
   },
   {
    "duration": 60,
    "start_time": "2023-04-27T05:31:59.280Z"
   },
   {
    "duration": 47,
    "start_time": "2023-04-27T05:32:21.653Z"
   },
   {
    "duration": 1405,
    "start_time": "2023-04-27T05:32:45.895Z"
   },
   {
    "duration": 860,
    "start_time": "2023-04-27T05:32:47.302Z"
   },
   {
    "duration": 20,
    "start_time": "2023-04-27T05:32:48.164Z"
   },
   {
    "duration": 187,
    "start_time": "2023-04-27T05:32:48.187Z"
   },
   {
    "duration": 478,
    "start_time": "2023-04-27T05:32:48.376Z"
   },
   {
    "duration": 156,
    "start_time": "2023-04-27T05:32:48.856Z"
   },
   {
    "duration": 100,
    "start_time": "2023-04-27T05:32:49.014Z"
   },
   {
    "duration": 88,
    "start_time": "2023-04-27T05:32:49.115Z"
   },
   {
    "duration": 242,
    "start_time": "2023-04-27T05:32:49.204Z"
   },
   {
    "duration": 75,
    "start_time": "2023-04-27T05:32:49.449Z"
   },
   {
    "duration": 31,
    "start_time": "2023-04-27T05:32:49.526Z"
   },
   {
    "duration": 24,
    "start_time": "2023-04-27T05:32:49.560Z"
   },
   {
    "duration": 74,
    "start_time": "2023-04-27T05:32:49.585Z"
   },
   {
    "duration": 1786,
    "start_time": "2023-04-27T05:50:11.018Z"
   },
   {
    "duration": 871,
    "start_time": "2023-04-27T05:50:12.805Z"
   },
   {
    "duration": 19,
    "start_time": "2023-04-27T05:50:13.677Z"
   },
   {
    "duration": 177,
    "start_time": "2023-04-27T05:50:13.697Z"
   },
   {
    "duration": 516,
    "start_time": "2023-04-27T05:50:13.876Z"
   },
   {
    "duration": 131,
    "start_time": "2023-04-27T05:50:14.394Z"
   },
   {
    "duration": 125,
    "start_time": "2023-04-27T05:50:14.527Z"
   },
   {
    "duration": 104,
    "start_time": "2023-04-27T05:50:14.661Z"
   },
   {
    "duration": 234,
    "start_time": "2023-04-27T05:50:14.767Z"
   },
   {
    "duration": 119,
    "start_time": "2023-04-27T05:50:15.003Z"
   },
   {
    "duration": 43,
    "start_time": "2023-04-27T05:50:15.124Z"
   },
   {
    "duration": 37,
    "start_time": "2023-04-27T05:50:15.169Z"
   },
   {
    "duration": 75,
    "start_time": "2023-04-27T05:50:15.208Z"
   },
   {
    "duration": 295,
    "start_time": "2023-04-27T05:50:15.287Z"
   },
   {
    "duration": 231,
    "start_time": "2023-04-27T05:50:15.584Z"
   },
   {
    "duration": 250,
    "start_time": "2023-04-27T05:50:15.817Z"
   },
   {
    "duration": 85,
    "start_time": "2023-04-27T05:50:16.069Z"
   },
   {
    "duration": 0,
    "start_time": "2023-04-27T05:50:16.155Z"
   },
   {
    "duration": 453,
    "start_time": "2023-04-27T05:50:23.892Z"
   },
   {
    "duration": 1567,
    "start_time": "2023-04-27T05:59:26.459Z"
   },
   {
    "duration": 844,
    "start_time": "2023-04-27T05:59:28.028Z"
   },
   {
    "duration": 15,
    "start_time": "2023-04-27T05:59:28.874Z"
   },
   {
    "duration": 151,
    "start_time": "2023-04-27T05:59:28.891Z"
   },
   {
    "duration": 482,
    "start_time": "2023-04-27T05:59:29.049Z"
   },
   {
    "duration": 135,
    "start_time": "2023-04-27T05:59:29.532Z"
   },
   {
    "duration": 127,
    "start_time": "2023-04-27T05:59:29.669Z"
   },
   {
    "duration": 0,
    "start_time": "2023-04-27T05:59:29.798Z"
   },
   {
    "duration": 0,
    "start_time": "2023-04-27T05:59:29.799Z"
   },
   {
    "duration": 0,
    "start_time": "2023-04-27T05:59:29.800Z"
   },
   {
    "duration": 0,
    "start_time": "2023-04-27T05:59:29.802Z"
   },
   {
    "duration": 0,
    "start_time": "2023-04-27T05:59:29.803Z"
   },
   {
    "duration": 0,
    "start_time": "2023-04-27T05:59:29.804Z"
   },
   {
    "duration": 0,
    "start_time": "2023-04-27T05:59:29.806Z"
   },
   {
    "duration": 0,
    "start_time": "2023-04-27T05:59:29.808Z"
   },
   {
    "duration": 0,
    "start_time": "2023-04-27T05:59:29.809Z"
   },
   {
    "duration": 0,
    "start_time": "2023-04-27T05:59:29.839Z"
   },
   {
    "duration": 1475,
    "start_time": "2023-04-27T06:01:17.423Z"
   },
   {
    "duration": 804,
    "start_time": "2023-04-27T06:01:18.899Z"
   },
   {
    "duration": 15,
    "start_time": "2023-04-27T06:01:19.704Z"
   },
   {
    "duration": 169,
    "start_time": "2023-04-27T06:01:19.721Z"
   },
   {
    "duration": 462,
    "start_time": "2023-04-27T06:01:19.892Z"
   },
   {
    "duration": 133,
    "start_time": "2023-04-27T06:01:20.356Z"
   },
   {
    "duration": 127,
    "start_time": "2023-04-27T06:01:20.491Z"
   },
   {
    "duration": 92,
    "start_time": "2023-04-27T06:01:20.620Z"
   },
   {
    "duration": 322,
    "start_time": "2023-04-27T06:01:20.714Z"
   },
   {
    "duration": 95,
    "start_time": "2023-04-27T06:01:21.040Z"
   },
   {
    "duration": 30,
    "start_time": "2023-04-27T06:01:21.137Z"
   },
   {
    "duration": 38,
    "start_time": "2023-04-27T06:01:21.169Z"
   },
   {
    "duration": 67,
    "start_time": "2023-04-27T06:01:21.208Z"
   },
   {
    "duration": 272,
    "start_time": "2023-04-27T06:01:21.277Z"
   },
   {
    "duration": 213,
    "start_time": "2023-04-27T06:01:21.550Z"
   },
   {
    "duration": 228,
    "start_time": "2023-04-27T06:01:21.765Z"
   },
   {
    "duration": 272,
    "start_time": "2023-04-27T06:01:21.995Z"
   },
   {
    "duration": 392,
    "start_time": "2023-04-27T06:01:22.269Z"
   },
   {
    "duration": 186,
    "start_time": "2023-04-27T06:01:36.552Z"
   },
   {
    "duration": 353,
    "start_time": "2023-04-27T06:01:59.112Z"
   },
   {
    "duration": 913,
    "start_time": "2023-04-27T06:07:08.314Z"
   },
   {
    "duration": 857,
    "start_time": "2023-04-27T06:07:28.801Z"
   },
   {
    "duration": 871,
    "start_time": "2023-04-27T06:07:42.810Z"
   },
   {
    "duration": 890,
    "start_time": "2023-04-27T06:07:59.857Z"
   },
   {
    "duration": 858,
    "start_time": "2023-04-27T06:08:07.148Z"
   },
   {
    "duration": 805,
    "start_time": "2023-04-27T06:08:21.101Z"
   },
   {
    "duration": 892,
    "start_time": "2023-04-27T06:08:34.507Z"
   },
   {
    "duration": 351,
    "start_time": "2023-04-27T06:30:56.900Z"
   },
   {
    "duration": 155,
    "start_time": "2023-04-27T06:33:36.229Z"
   },
   {
    "duration": 60,
    "start_time": "2023-04-27T06:35:30.635Z"
   },
   {
    "duration": 116,
    "start_time": "2023-04-27T06:35:45.844Z"
   },
   {
    "duration": 61,
    "start_time": "2023-04-27T06:35:55.328Z"
   },
   {
    "duration": 21,
    "start_time": "2023-04-27T06:36:42.491Z"
   },
   {
    "duration": 1692,
    "start_time": "2023-04-27T06:37:30.099Z"
   },
   {
    "duration": 776,
    "start_time": "2023-04-27T06:37:31.793Z"
   },
   {
    "duration": 15,
    "start_time": "2023-04-27T06:37:32.571Z"
   },
   {
    "duration": 135,
    "start_time": "2023-04-27T06:37:32.588Z"
   },
   {
    "duration": 447,
    "start_time": "2023-04-27T06:37:32.725Z"
   },
   {
    "duration": 123,
    "start_time": "2023-04-27T06:37:33.174Z"
   },
   {
    "duration": 107,
    "start_time": "2023-04-27T06:37:33.299Z"
   },
   {
    "duration": 79,
    "start_time": "2023-04-27T06:37:33.408Z"
   },
   {
    "duration": 234,
    "start_time": "2023-04-27T06:37:33.489Z"
   },
   {
    "duration": 78,
    "start_time": "2023-04-27T06:37:33.725Z"
   },
   {
    "duration": 32,
    "start_time": "2023-04-27T06:37:33.805Z"
   },
   {
    "duration": 20,
    "start_time": "2023-04-27T06:37:33.839Z"
   },
   {
    "duration": 31,
    "start_time": "2023-04-27T06:37:33.861Z"
   },
   {
    "duration": 65,
    "start_time": "2023-04-27T06:37:33.895Z"
   },
   {
    "duration": 246,
    "start_time": "2023-04-27T06:37:33.962Z"
   },
   {
    "duration": 206,
    "start_time": "2023-04-27T06:37:34.210Z"
   },
   {
    "duration": 271,
    "start_time": "2023-04-27T06:37:34.418Z"
   },
   {
    "duration": 257,
    "start_time": "2023-04-27T06:37:34.692Z"
   },
   {
    "duration": 319,
    "start_time": "2023-04-27T06:37:34.950Z"
   },
   {
    "duration": 765,
    "start_time": "2023-04-27T06:37:35.271Z"
   },
   {
    "duration": 163,
    "start_time": "2023-04-27T06:37:36.037Z"
   },
   {
    "duration": 4,
    "start_time": "2023-04-27T07:07:05.070Z"
   },
   {
    "duration": 1593,
    "start_time": "2023-04-27T07:21:11.967Z"
   },
   {
    "duration": 828,
    "start_time": "2023-04-27T07:21:13.562Z"
   },
   {
    "duration": 16,
    "start_time": "2023-04-27T07:21:14.391Z"
   },
   {
    "duration": 161,
    "start_time": "2023-04-27T07:21:14.409Z"
   },
   {
    "duration": 521,
    "start_time": "2023-04-27T07:21:14.572Z"
   },
   {
    "duration": 121,
    "start_time": "2023-04-27T07:21:15.095Z"
   },
   {
    "duration": 128,
    "start_time": "2023-04-27T07:21:15.217Z"
   },
   {
    "duration": 96,
    "start_time": "2023-04-27T07:21:15.347Z"
   },
   {
    "duration": 226,
    "start_time": "2023-04-27T07:21:15.445Z"
   },
   {
    "duration": 84,
    "start_time": "2023-04-27T07:21:15.674Z"
   },
   {
    "duration": 22,
    "start_time": "2023-04-27T07:21:15.760Z"
   },
   {
    "duration": 28,
    "start_time": "2023-04-27T07:21:15.783Z"
   },
   {
    "duration": 30,
    "start_time": "2023-04-27T07:21:15.812Z"
   },
   {
    "duration": 64,
    "start_time": "2023-04-27T07:21:15.843Z"
   },
   {
    "duration": 243,
    "start_time": "2023-04-27T07:21:15.909Z"
   },
   {
    "duration": 216,
    "start_time": "2023-04-27T07:21:16.153Z"
   },
   {
    "duration": 220,
    "start_time": "2023-04-27T07:21:16.370Z"
   },
   {
    "duration": 261,
    "start_time": "2023-04-27T07:21:16.592Z"
   },
   {
    "duration": 354,
    "start_time": "2023-04-27T07:21:16.854Z"
   },
   {
    "duration": 3,
    "start_time": "2023-04-27T07:21:17.210Z"
   },
   {
    "duration": 48,
    "start_time": "2023-04-27T07:21:17.214Z"
   },
   {
    "duration": 1118,
    "start_time": "2023-04-27T07:21:17.264Z"
   },
   {
    "duration": 154,
    "start_time": "2023-04-27T07:21:18.384Z"
   },
   {
    "duration": 0,
    "start_time": "2023-04-27T07:21:18.540Z"
   },
   {
    "duration": 0,
    "start_time": "2023-04-27T07:21:18.542Z"
   },
   {
    "duration": 0,
    "start_time": "2023-04-27T07:21:18.544Z"
   },
   {
    "duration": 0,
    "start_time": "2023-04-27T07:21:18.545Z"
   },
   {
    "duration": 0,
    "start_time": "2023-04-27T07:21:18.546Z"
   },
   {
    "duration": 0,
    "start_time": "2023-04-27T07:21:18.547Z"
   },
   {
    "duration": 0,
    "start_time": "2023-04-27T07:21:18.549Z"
   },
   {
    "duration": 0,
    "start_time": "2023-04-27T07:21:18.550Z"
   },
   {
    "duration": 0,
    "start_time": "2023-04-27T07:21:18.552Z"
   },
   {
    "duration": 0,
    "start_time": "2023-04-27T07:21:18.553Z"
   },
   {
    "duration": 0,
    "start_time": "2023-04-27T07:21:18.554Z"
   },
   {
    "duration": 0,
    "start_time": "2023-04-27T07:21:18.556Z"
   },
   {
    "duration": 0,
    "start_time": "2023-04-27T07:21:18.557Z"
   },
   {
    "duration": 0,
    "start_time": "2023-04-27T07:21:18.558Z"
   },
   {
    "duration": 0,
    "start_time": "2023-04-27T07:21:18.559Z"
   },
   {
    "duration": 0,
    "start_time": "2023-04-27T07:21:18.561Z"
   },
   {
    "duration": 0,
    "start_time": "2023-04-27T07:21:18.562Z"
   },
   {
    "duration": 0,
    "start_time": "2023-04-27T07:21:18.564Z"
   },
   {
    "duration": 0,
    "start_time": "2023-04-27T07:21:18.565Z"
   },
   {
    "duration": 0,
    "start_time": "2023-04-27T07:21:18.567Z"
   },
   {
    "duration": 0,
    "start_time": "2023-04-27T07:21:18.568Z"
   },
   {
    "duration": 0,
    "start_time": "2023-04-27T07:21:18.569Z"
   },
   {
    "duration": 0,
    "start_time": "2023-04-27T07:21:18.570Z"
   },
   {
    "duration": 0,
    "start_time": "2023-04-27T07:21:18.573Z"
   },
   {
    "duration": 0,
    "start_time": "2023-04-27T07:21:18.574Z"
   },
   {
    "duration": 1478,
    "start_time": "2023-04-27T07:32:05.788Z"
   },
   {
    "duration": 773,
    "start_time": "2023-04-27T07:32:07.269Z"
   },
   {
    "duration": 15,
    "start_time": "2023-04-27T07:32:08.044Z"
   },
   {
    "duration": 148,
    "start_time": "2023-04-27T07:32:08.062Z"
   },
   {
    "duration": 511,
    "start_time": "2023-04-27T07:32:08.212Z"
   },
   {
    "duration": 143,
    "start_time": "2023-04-27T07:32:08.725Z"
   },
   {
    "duration": 128,
    "start_time": "2023-04-27T07:32:08.869Z"
   },
   {
    "duration": 89,
    "start_time": "2023-04-27T07:32:08.999Z"
   },
   {
    "duration": 231,
    "start_time": "2023-04-27T07:32:09.089Z"
   },
   {
    "duration": 81,
    "start_time": "2023-04-27T07:32:09.323Z"
   },
   {
    "duration": 31,
    "start_time": "2023-04-27T07:32:09.405Z"
   },
   {
    "duration": 20,
    "start_time": "2023-04-27T07:32:09.437Z"
   },
   {
    "duration": 25,
    "start_time": "2023-04-27T07:32:09.459Z"
   },
   {
    "duration": 2796,
    "start_time": "2023-04-27T07:32:09.485Z"
   },
   {
    "duration": 0,
    "start_time": "2023-04-27T07:32:12.284Z"
   },
   {
    "duration": 0,
    "start_time": "2023-04-27T07:32:12.285Z"
   },
   {
    "duration": 0,
    "start_time": "2023-04-27T07:32:12.286Z"
   },
   {
    "duration": 0,
    "start_time": "2023-04-27T07:32:12.287Z"
   },
   {
    "duration": 0,
    "start_time": "2023-04-27T07:32:12.288Z"
   },
   {
    "duration": 0,
    "start_time": "2023-04-27T07:32:12.289Z"
   },
   {
    "duration": 0,
    "start_time": "2023-04-27T07:32:12.290Z"
   },
   {
    "duration": 0,
    "start_time": "2023-04-27T07:32:12.291Z"
   },
   {
    "duration": 0,
    "start_time": "2023-04-27T07:32:12.292Z"
   },
   {
    "duration": 0,
    "start_time": "2023-04-27T07:32:12.292Z"
   },
   {
    "duration": 0,
    "start_time": "2023-04-27T07:32:12.294Z"
   },
   {
    "duration": 0,
    "start_time": "2023-04-27T07:32:12.295Z"
   },
   {
    "duration": 0,
    "start_time": "2023-04-27T07:32:12.296Z"
   },
   {
    "duration": 0,
    "start_time": "2023-04-27T07:32:12.297Z"
   },
   {
    "duration": 0,
    "start_time": "2023-04-27T07:32:12.298Z"
   },
   {
    "duration": 0,
    "start_time": "2023-04-27T07:32:12.299Z"
   },
   {
    "duration": 0,
    "start_time": "2023-04-27T07:32:12.300Z"
   },
   {
    "duration": 0,
    "start_time": "2023-04-27T07:32:12.301Z"
   },
   {
    "duration": 0,
    "start_time": "2023-04-27T07:32:12.303Z"
   },
   {
    "duration": 1,
    "start_time": "2023-04-27T07:32:12.303Z"
   },
   {
    "duration": 0,
    "start_time": "2023-04-27T07:32:12.305Z"
   },
   {
    "duration": 0,
    "start_time": "2023-04-27T07:32:12.306Z"
   },
   {
    "duration": 0,
    "start_time": "2023-04-27T07:32:12.306Z"
   },
   {
    "duration": 0,
    "start_time": "2023-04-27T07:32:12.307Z"
   },
   {
    "duration": 0,
    "start_time": "2023-04-27T07:32:12.308Z"
   },
   {
    "duration": 0,
    "start_time": "2023-04-27T07:32:12.309Z"
   },
   {
    "duration": 0,
    "start_time": "2023-04-27T07:32:12.310Z"
   },
   {
    "duration": 0,
    "start_time": "2023-04-27T07:32:12.311Z"
   },
   {
    "duration": 0,
    "start_time": "2023-04-27T07:32:12.312Z"
   },
   {
    "duration": 0,
    "start_time": "2023-04-27T07:32:12.313Z"
   },
   {
    "duration": 0,
    "start_time": "2023-04-27T07:32:12.314Z"
   },
   {
    "duration": 0,
    "start_time": "2023-04-27T07:32:12.315Z"
   },
   {
    "duration": 0,
    "start_time": "2023-04-27T07:32:12.316Z"
   },
   {
    "duration": 0,
    "start_time": "2023-04-27T07:32:12.317Z"
   },
   {
    "duration": 0,
    "start_time": "2023-04-27T07:32:12.318Z"
   },
   {
    "duration": 1431,
    "start_time": "2023-04-27T07:32:29.007Z"
   },
   {
    "duration": 826,
    "start_time": "2023-04-27T07:32:30.440Z"
   },
   {
    "duration": 18,
    "start_time": "2023-04-27T07:32:31.268Z"
   },
   {
    "duration": 176,
    "start_time": "2023-04-27T07:32:31.288Z"
   },
   {
    "duration": 469,
    "start_time": "2023-04-27T07:32:31.466Z"
   },
   {
    "duration": 120,
    "start_time": "2023-04-27T07:32:31.936Z"
   },
   {
    "duration": 105,
    "start_time": "2023-04-27T07:32:32.058Z"
   },
   {
    "duration": 86,
    "start_time": "2023-04-27T07:32:32.165Z"
   },
   {
    "duration": 233,
    "start_time": "2023-04-27T07:32:32.252Z"
   },
   {
    "duration": 76,
    "start_time": "2023-04-27T07:32:32.487Z"
   },
   {
    "duration": 18,
    "start_time": "2023-04-27T07:32:32.565Z"
   },
   {
    "duration": 31,
    "start_time": "2023-04-27T07:32:32.585Z"
   },
   {
    "duration": 21,
    "start_time": "2023-04-27T07:32:32.617Z"
   },
   {
    "duration": 48,
    "start_time": "2023-04-27T07:32:32.641Z"
   },
   {
    "duration": 64,
    "start_time": "2023-04-27T07:32:32.690Z"
   },
   {
    "duration": 286,
    "start_time": "2023-04-27T07:32:32.755Z"
   },
   {
    "duration": 215,
    "start_time": "2023-04-27T07:32:33.044Z"
   },
   {
    "duration": 225,
    "start_time": "2023-04-27T07:32:33.260Z"
   },
   {
    "duration": 266,
    "start_time": "2023-04-27T07:32:33.487Z"
   },
   {
    "duration": 318,
    "start_time": "2023-04-27T07:32:33.755Z"
   },
   {
    "duration": 3,
    "start_time": "2023-04-27T07:32:34.075Z"
   },
   {
    "duration": 38,
    "start_time": "2023-04-27T07:32:34.080Z"
   },
   {
    "duration": 1004,
    "start_time": "2023-04-27T07:32:34.120Z"
   },
   {
    "duration": 141,
    "start_time": "2023-04-27T07:32:35.125Z"
   },
   {
    "duration": 0,
    "start_time": "2023-04-27T07:32:35.268Z"
   },
   {
    "duration": 0,
    "start_time": "2023-04-27T07:32:35.269Z"
   },
   {
    "duration": 0,
    "start_time": "2023-04-27T07:32:35.271Z"
   },
   {
    "duration": 0,
    "start_time": "2023-04-27T07:32:35.271Z"
   },
   {
    "duration": 0,
    "start_time": "2023-04-27T07:32:35.272Z"
   },
   {
    "duration": 0,
    "start_time": "2023-04-27T07:32:35.273Z"
   },
   {
    "duration": 0,
    "start_time": "2023-04-27T07:32:35.274Z"
   },
   {
    "duration": 0,
    "start_time": "2023-04-27T07:32:35.275Z"
   },
   {
    "duration": 0,
    "start_time": "2023-04-27T07:32:35.276Z"
   },
   {
    "duration": 0,
    "start_time": "2023-04-27T07:32:35.277Z"
   },
   {
    "duration": 0,
    "start_time": "2023-04-27T07:32:35.278Z"
   },
   {
    "duration": 0,
    "start_time": "2023-04-27T07:32:35.279Z"
   },
   {
    "duration": 0,
    "start_time": "2023-04-27T07:32:35.280Z"
   },
   {
    "duration": 0,
    "start_time": "2023-04-27T07:32:35.281Z"
   },
   {
    "duration": 0,
    "start_time": "2023-04-27T07:32:35.282Z"
   },
   {
    "duration": 0,
    "start_time": "2023-04-27T07:32:35.283Z"
   },
   {
    "duration": 0,
    "start_time": "2023-04-27T07:32:35.284Z"
   },
   {
    "duration": 0,
    "start_time": "2023-04-27T07:32:35.285Z"
   },
   {
    "duration": 0,
    "start_time": "2023-04-27T07:32:35.286Z"
   },
   {
    "duration": 0,
    "start_time": "2023-04-27T07:32:35.287Z"
   },
   {
    "duration": 0,
    "start_time": "2023-04-27T07:32:35.288Z"
   },
   {
    "duration": 0,
    "start_time": "2023-04-27T07:32:35.289Z"
   },
   {
    "duration": 0,
    "start_time": "2023-04-27T07:32:35.290Z"
   },
   {
    "duration": 0,
    "start_time": "2023-04-27T07:32:35.291Z"
   },
   {
    "duration": 0,
    "start_time": "2023-04-27T07:32:35.292Z"
   },
   {
    "duration": 1363,
    "start_time": "2023-04-27T07:36:40.061Z"
   },
   {
    "duration": 846,
    "start_time": "2023-04-27T07:36:41.426Z"
   },
   {
    "duration": 17,
    "start_time": "2023-04-27T07:36:42.274Z"
   },
   {
    "duration": 158,
    "start_time": "2023-04-27T07:36:42.293Z"
   },
   {
    "duration": 467,
    "start_time": "2023-04-27T07:36:42.453Z"
   },
   {
    "duration": 130,
    "start_time": "2023-04-27T07:36:42.922Z"
   },
   {
    "duration": 119,
    "start_time": "2023-04-27T07:36:43.054Z"
   },
   {
    "duration": 89,
    "start_time": "2023-04-27T07:36:43.175Z"
   },
   {
    "duration": 248,
    "start_time": "2023-04-27T07:36:43.265Z"
   },
   {
    "duration": 4,
    "start_time": "2023-04-27T07:36:43.517Z"
   },
   {
    "duration": 0,
    "start_time": "2023-04-27T07:36:43.534Z"
   },
   {
    "duration": 0,
    "start_time": "2023-04-27T07:36:43.536Z"
   },
   {
    "duration": 0,
    "start_time": "2023-04-27T07:36:43.537Z"
   },
   {
    "duration": 0,
    "start_time": "2023-04-27T07:36:43.539Z"
   },
   {
    "duration": 0,
    "start_time": "2023-04-27T07:36:43.541Z"
   },
   {
    "duration": 0,
    "start_time": "2023-04-27T07:36:43.543Z"
   },
   {
    "duration": 0,
    "start_time": "2023-04-27T07:36:43.544Z"
   },
   {
    "duration": 0,
    "start_time": "2023-04-27T07:36:43.546Z"
   },
   {
    "duration": 0,
    "start_time": "2023-04-27T07:36:43.547Z"
   },
   {
    "duration": 0,
    "start_time": "2023-04-27T07:36:43.549Z"
   },
   {
    "duration": 0,
    "start_time": "2023-04-27T07:36:43.550Z"
   },
   {
    "duration": 0,
    "start_time": "2023-04-27T07:36:43.552Z"
   },
   {
    "duration": 0,
    "start_time": "2023-04-27T07:36:43.553Z"
   },
   {
    "duration": 0,
    "start_time": "2023-04-27T07:36:43.555Z"
   },
   {
    "duration": 0,
    "start_time": "2023-04-27T07:36:43.557Z"
   },
   {
    "duration": 0,
    "start_time": "2023-04-27T07:36:43.559Z"
   },
   {
    "duration": 0,
    "start_time": "2023-04-27T07:36:43.560Z"
   },
   {
    "duration": 0,
    "start_time": "2023-04-27T07:36:43.562Z"
   },
   {
    "duration": 0,
    "start_time": "2023-04-27T07:36:43.564Z"
   },
   {
    "duration": 0,
    "start_time": "2023-04-27T07:36:43.565Z"
   },
   {
    "duration": 0,
    "start_time": "2023-04-27T07:36:43.566Z"
   },
   {
    "duration": 0,
    "start_time": "2023-04-27T07:36:43.568Z"
   },
   {
    "duration": 0,
    "start_time": "2023-04-27T07:36:43.570Z"
   },
   {
    "duration": 0,
    "start_time": "2023-04-27T07:36:43.571Z"
   },
   {
    "duration": 0,
    "start_time": "2023-04-27T07:36:43.573Z"
   },
   {
    "duration": 0,
    "start_time": "2023-04-27T07:36:43.634Z"
   },
   {
    "duration": 0,
    "start_time": "2023-04-27T07:36:43.636Z"
   },
   {
    "duration": 0,
    "start_time": "2023-04-27T07:36:43.637Z"
   },
   {
    "duration": 0,
    "start_time": "2023-04-27T07:36:43.639Z"
   },
   {
    "duration": 0,
    "start_time": "2023-04-27T07:36:43.640Z"
   },
   {
    "duration": 0,
    "start_time": "2023-04-27T07:36:43.643Z"
   },
   {
    "duration": 0,
    "start_time": "2023-04-27T07:36:43.644Z"
   },
   {
    "duration": 0,
    "start_time": "2023-04-27T07:36:43.645Z"
   },
   {
    "duration": 0,
    "start_time": "2023-04-27T07:36:43.647Z"
   },
   {
    "duration": 0,
    "start_time": "2023-04-27T07:36:43.648Z"
   },
   {
    "duration": 0,
    "start_time": "2023-04-27T07:36:43.651Z"
   },
   {
    "duration": 0,
    "start_time": "2023-04-27T07:36:43.652Z"
   },
   {
    "duration": 0,
    "start_time": "2023-04-27T07:36:43.653Z"
   },
   {
    "duration": 0,
    "start_time": "2023-04-27T07:36:43.655Z"
   },
   {
    "duration": 64,
    "start_time": "2023-04-27T07:36:57.999Z"
   },
   {
    "duration": 21,
    "start_time": "2023-04-27T07:36:58.857Z"
   },
   {
    "duration": 16,
    "start_time": "2023-04-27T07:36:59.336Z"
   },
   {
    "duration": 17,
    "start_time": "2023-04-27T07:36:59.832Z"
   },
   {
    "duration": 19,
    "start_time": "2023-04-27T07:37:01.179Z"
   },
   {
    "duration": 66,
    "start_time": "2023-04-27T07:37:01.856Z"
   },
   {
    "duration": 1507,
    "start_time": "2023-04-27T07:37:12.001Z"
   },
   {
    "duration": 800,
    "start_time": "2023-04-27T07:37:13.511Z"
   },
   {
    "duration": 25,
    "start_time": "2023-04-27T07:37:14.313Z"
   },
   {
    "duration": 144,
    "start_time": "2023-04-27T07:37:14.340Z"
   },
   {
    "duration": 493,
    "start_time": "2023-04-27T07:37:14.486Z"
   },
   {
    "duration": 127,
    "start_time": "2023-04-27T07:37:14.980Z"
   },
   {
    "duration": 105,
    "start_time": "2023-04-27T07:37:15.108Z"
   },
   {
    "duration": 88,
    "start_time": "2023-04-27T07:37:15.215Z"
   },
   {
    "duration": 235,
    "start_time": "2023-04-27T07:37:15.305Z"
   },
   {
    "duration": 58,
    "start_time": "2023-04-27T07:37:15.543Z"
   },
   {
    "duration": 33,
    "start_time": "2023-04-27T07:37:15.603Z"
   },
   {
    "duration": 15,
    "start_time": "2023-04-27T07:37:15.638Z"
   },
   {
    "duration": 34,
    "start_time": "2023-04-27T07:37:15.655Z"
   },
   {
    "duration": 27,
    "start_time": "2023-04-27T07:37:15.690Z"
   },
   {
    "duration": 76,
    "start_time": "2023-04-27T07:37:15.719Z"
   },
   {
    "duration": 232,
    "start_time": "2023-04-27T07:37:15.797Z"
   },
   {
    "duration": 188,
    "start_time": "2023-04-27T07:37:16.030Z"
   },
   {
    "duration": 225,
    "start_time": "2023-04-27T07:37:16.220Z"
   },
   {
    "duration": 255,
    "start_time": "2023-04-27T07:37:16.447Z"
   },
   {
    "duration": 364,
    "start_time": "2023-04-27T07:37:16.703Z"
   },
   {
    "duration": 3,
    "start_time": "2023-04-27T07:37:17.068Z"
   },
   {
    "duration": 22,
    "start_time": "2023-04-27T07:37:17.072Z"
   },
   {
    "duration": 859,
    "start_time": "2023-04-27T07:37:17.096Z"
   },
   {
    "duration": 407,
    "start_time": "2023-04-27T07:37:17.956Z"
   },
   {
    "duration": 54,
    "start_time": "2023-04-27T07:37:18.365Z"
   },
   {
    "duration": 0,
    "start_time": "2023-04-27T07:37:18.421Z"
   },
   {
    "duration": 0,
    "start_time": "2023-04-27T07:37:18.422Z"
   },
   {
    "duration": 0,
    "start_time": "2023-04-27T07:37:18.423Z"
   },
   {
    "duration": 0,
    "start_time": "2023-04-27T07:37:18.424Z"
   },
   {
    "duration": 0,
    "start_time": "2023-04-27T07:37:18.425Z"
   },
   {
    "duration": 0,
    "start_time": "2023-04-27T07:37:18.426Z"
   },
   {
    "duration": 0,
    "start_time": "2023-04-27T07:37:18.427Z"
   },
   {
    "duration": 0,
    "start_time": "2023-04-27T07:37:18.428Z"
   },
   {
    "duration": 0,
    "start_time": "2023-04-27T07:37:18.428Z"
   },
   {
    "duration": 0,
    "start_time": "2023-04-27T07:37:18.430Z"
   },
   {
    "duration": 1,
    "start_time": "2023-04-27T07:37:18.430Z"
   },
   {
    "duration": 0,
    "start_time": "2023-04-27T07:37:18.432Z"
   },
   {
    "duration": 0,
    "start_time": "2023-04-27T07:37:18.433Z"
   },
   {
    "duration": 0,
    "start_time": "2023-04-27T07:37:18.434Z"
   },
   {
    "duration": 0,
    "start_time": "2023-04-27T07:37:18.435Z"
   },
   {
    "duration": 0,
    "start_time": "2023-04-27T07:37:18.436Z"
   },
   {
    "duration": 0,
    "start_time": "2023-04-27T07:37:18.437Z"
   },
   {
    "duration": 0,
    "start_time": "2023-04-27T07:37:18.438Z"
   },
   {
    "duration": 0,
    "start_time": "2023-04-27T07:37:18.439Z"
   },
   {
    "duration": 0,
    "start_time": "2023-04-27T07:37:18.440Z"
   },
   {
    "duration": 0,
    "start_time": "2023-04-27T07:37:18.441Z"
   },
   {
    "duration": 0,
    "start_time": "2023-04-27T07:37:18.442Z"
   },
   {
    "duration": 0,
    "start_time": "2023-04-27T07:37:18.443Z"
   },
   {
    "duration": 0,
    "start_time": "2023-04-27T07:37:18.444Z"
   },
   {
    "duration": 1433,
    "start_time": "2023-04-27T07:37:33.850Z"
   },
   {
    "duration": 773,
    "start_time": "2023-04-27T07:37:35.285Z"
   },
   {
    "duration": 16,
    "start_time": "2023-04-27T07:37:36.059Z"
   },
   {
    "duration": 129,
    "start_time": "2023-04-27T07:37:36.077Z"
   },
   {
    "duration": 445,
    "start_time": "2023-04-27T07:37:36.208Z"
   },
   {
    "duration": 117,
    "start_time": "2023-04-27T07:37:36.655Z"
   },
   {
    "duration": 109,
    "start_time": "2023-04-27T07:37:36.773Z"
   },
   {
    "duration": 80,
    "start_time": "2023-04-27T07:37:36.884Z"
   },
   {
    "duration": 224,
    "start_time": "2023-04-27T07:37:36.965Z"
   },
   {
    "duration": 79,
    "start_time": "2023-04-27T07:37:37.192Z"
   },
   {
    "duration": 23,
    "start_time": "2023-04-27T07:37:37.273Z"
   },
   {
    "duration": 24,
    "start_time": "2023-04-27T07:37:37.297Z"
   },
   {
    "duration": 19,
    "start_time": "2023-04-27T07:37:37.334Z"
   },
   {
    "duration": 22,
    "start_time": "2023-04-27T07:37:37.354Z"
   },
   {
    "duration": 64,
    "start_time": "2023-04-27T07:37:37.378Z"
   },
   {
    "duration": 235,
    "start_time": "2023-04-27T07:37:37.443Z"
   },
   {
    "duration": 197,
    "start_time": "2023-04-27T07:37:37.680Z"
   },
   {
    "duration": 208,
    "start_time": "2023-04-27T07:37:37.879Z"
   },
   {
    "duration": 254,
    "start_time": "2023-04-27T07:37:38.088Z"
   },
   {
    "duration": 312,
    "start_time": "2023-04-27T07:37:38.344Z"
   },
   {
    "duration": 3,
    "start_time": "2023-04-27T07:37:38.657Z"
   },
   {
    "duration": 22,
    "start_time": "2023-04-27T07:37:38.662Z"
   },
   {
    "duration": 708,
    "start_time": "2023-04-27T07:37:38.686Z"
   },
   {
    "duration": 397,
    "start_time": "2023-04-27T07:37:39.396Z"
   },
   {
    "duration": 104,
    "start_time": "2023-04-27T07:37:39.794Z"
   },
   {
    "duration": 654,
    "start_time": "2023-04-27T07:37:39.900Z"
   },
   {
    "duration": 3,
    "start_time": "2023-04-27T07:37:40.555Z"
   },
   {
    "duration": 13,
    "start_time": "2023-04-27T07:37:40.561Z"
   },
   {
    "duration": 7,
    "start_time": "2023-04-27T07:37:40.575Z"
   },
   {
    "duration": 8,
    "start_time": "2023-04-27T07:37:40.583Z"
   },
   {
    "duration": 4882,
    "start_time": "2023-04-27T07:37:40.592Z"
   },
   {
    "duration": 3,
    "start_time": "2023-04-27T07:37:45.476Z"
   },
   {
    "duration": 85835,
    "start_time": "2023-04-27T07:37:45.481Z"
   },
   {
    "duration": 10,
    "start_time": "2023-04-27T07:39:11.318Z"
   },
   {
    "duration": 0,
    "start_time": "2023-04-27T07:39:11.329Z"
   },
   {
    "duration": 0,
    "start_time": "2023-04-27T07:39:11.330Z"
   },
   {
    "duration": 0,
    "start_time": "2023-04-27T07:39:11.332Z"
   },
   {
    "duration": 0,
    "start_time": "2023-04-27T07:39:11.333Z"
   },
   {
    "duration": 0,
    "start_time": "2023-04-27T07:39:11.334Z"
   },
   {
    "duration": 0,
    "start_time": "2023-04-27T07:39:11.335Z"
   },
   {
    "duration": 0,
    "start_time": "2023-04-27T07:39:11.336Z"
   },
   {
    "duration": 0,
    "start_time": "2023-04-27T07:39:11.337Z"
   },
   {
    "duration": 0,
    "start_time": "2023-04-27T07:39:11.338Z"
   },
   {
    "duration": 0,
    "start_time": "2023-04-27T07:39:11.339Z"
   },
   {
    "duration": 0,
    "start_time": "2023-04-27T07:39:11.341Z"
   },
   {
    "duration": 0,
    "start_time": "2023-04-27T07:39:11.342Z"
   },
   {
    "duration": 0,
    "start_time": "2023-04-27T07:39:11.342Z"
   },
   {
    "duration": 0,
    "start_time": "2023-04-27T07:39:11.344Z"
   },
   {
    "duration": 87830,
    "start_time": "2023-04-27T07:40:03.915Z"
   },
   {
    "duration": 15,
    "start_time": "2023-04-27T07:49:27.074Z"
   },
   {
    "duration": 903,
    "start_time": "2023-04-27T07:49:28.060Z"
   },
   {
    "duration": 410,
    "start_time": "2023-04-27T07:49:28.965Z"
   },
   {
    "duration": 89,
    "start_time": "2023-04-27T07:49:29.471Z"
   },
   {
    "duration": 543,
    "start_time": "2023-04-27T07:49:30.082Z"
   },
   {
    "duration": 4,
    "start_time": "2023-04-27T07:49:33.608Z"
   },
   {
    "duration": 4,
    "start_time": "2023-04-27T07:49:34.317Z"
   },
   {
    "duration": 4,
    "start_time": "2023-04-27T07:49:35.560Z"
   },
   {
    "duration": 3,
    "start_time": "2023-04-27T07:49:36.190Z"
   },
   {
    "duration": 4861,
    "start_time": "2023-04-27T07:50:01.995Z"
   },
   {
    "duration": 2,
    "start_time": "2023-04-27T07:50:06.858Z"
   },
   {
    "duration": 69,
    "start_time": "2023-04-27T07:51:52.371Z"
   },
   {
    "duration": 1737,
    "start_time": "2023-04-27T07:56:24.712Z"
   },
   {
    "duration": 743,
    "start_time": "2023-04-27T07:56:26.451Z"
   },
   {
    "duration": 14,
    "start_time": "2023-04-27T07:56:27.195Z"
   },
   {
    "duration": 134,
    "start_time": "2023-04-27T07:56:27.211Z"
   },
   {
    "duration": 418,
    "start_time": "2023-04-27T07:56:27.347Z"
   },
   {
    "duration": 130,
    "start_time": "2023-04-27T07:56:27.767Z"
   },
   {
    "duration": 106,
    "start_time": "2023-04-27T07:56:27.899Z"
   },
   {
    "duration": 83,
    "start_time": "2023-04-27T07:56:28.006Z"
   },
   {
    "duration": 230,
    "start_time": "2023-04-27T07:56:28.091Z"
   },
   {
    "duration": 76,
    "start_time": "2023-04-27T07:56:28.324Z"
   },
   {
    "duration": 18,
    "start_time": "2023-04-27T07:56:28.402Z"
   },
   {
    "duration": 58,
    "start_time": "2023-04-27T07:56:28.422Z"
   },
   {
    "duration": 34,
    "start_time": "2023-04-27T07:56:28.482Z"
   },
   {
    "duration": 60,
    "start_time": "2023-04-27T07:56:28.518Z"
   },
   {
    "duration": 94,
    "start_time": "2023-04-27T07:56:28.579Z"
   },
   {
    "duration": 230,
    "start_time": "2023-04-27T07:56:28.675Z"
   },
   {
    "duration": 200,
    "start_time": "2023-04-27T07:56:28.907Z"
   },
   {
    "duration": 212,
    "start_time": "2023-04-27T07:56:29.108Z"
   },
   {
    "duration": 256,
    "start_time": "2023-04-27T07:56:29.321Z"
   },
   {
    "duration": 349,
    "start_time": "2023-04-27T07:56:29.578Z"
   },
   {
    "duration": 7,
    "start_time": "2023-04-27T07:56:29.928Z"
   },
   {
    "duration": 29,
    "start_time": "2023-04-27T07:56:29.937Z"
   },
   {
    "duration": 747,
    "start_time": "2023-04-27T07:56:29.968Z"
   },
   {
    "duration": 417,
    "start_time": "2023-04-27T07:56:30.717Z"
   },
   {
    "duration": 122,
    "start_time": "2023-04-27T07:56:31.136Z"
   },
   {
    "duration": 483,
    "start_time": "2023-04-27T07:56:31.260Z"
   },
   {
    "duration": 4,
    "start_time": "2023-04-27T07:56:31.745Z"
   },
   {
    "duration": 23,
    "start_time": "2023-04-27T07:56:31.752Z"
   },
   {
    "duration": 18,
    "start_time": "2023-04-27T07:56:31.776Z"
   },
   {
    "duration": 33,
    "start_time": "2023-04-27T07:56:31.795Z"
   },
   {
    "duration": 2844,
    "start_time": "2023-04-27T07:56:31.830Z"
   },
   {
    "duration": 3,
    "start_time": "2023-04-27T07:56:34.675Z"
   },
   {
    "duration": 88155,
    "start_time": "2023-04-27T07:56:34.679Z"
   },
   {
    "duration": 11,
    "start_time": "2023-04-27T07:58:02.836Z"
   },
   {
    "duration": 0,
    "start_time": "2023-04-27T07:58:02.849Z"
   },
   {
    "duration": 0,
    "start_time": "2023-04-27T07:58:02.850Z"
   },
   {
    "duration": 0,
    "start_time": "2023-04-27T07:58:02.851Z"
   },
   {
    "duration": 0,
    "start_time": "2023-04-27T07:58:02.852Z"
   },
   {
    "duration": 0,
    "start_time": "2023-04-27T07:58:02.853Z"
   },
   {
    "duration": 0,
    "start_time": "2023-04-27T07:58:02.854Z"
   },
   {
    "duration": 0,
    "start_time": "2023-04-27T07:58:02.855Z"
   },
   {
    "duration": 0,
    "start_time": "2023-04-27T07:58:02.856Z"
   },
   {
    "duration": 0,
    "start_time": "2023-04-27T07:58:02.857Z"
   },
   {
    "duration": 0,
    "start_time": "2023-04-27T07:58:02.858Z"
   },
   {
    "duration": 0,
    "start_time": "2023-04-27T07:58:02.859Z"
   },
   {
    "duration": 0,
    "start_time": "2023-04-27T07:58:02.860Z"
   },
   {
    "duration": 0,
    "start_time": "2023-04-27T07:58:02.861Z"
   },
   {
    "duration": 0,
    "start_time": "2023-04-27T07:58:02.862Z"
   },
   {
    "duration": 1479,
    "start_time": "2023-04-27T08:13:20.979Z"
   },
   {
    "duration": 760,
    "start_time": "2023-04-27T08:13:22.460Z"
   },
   {
    "duration": 19,
    "start_time": "2023-04-27T08:13:23.222Z"
   },
   {
    "duration": 161,
    "start_time": "2023-04-27T08:13:23.243Z"
   },
   {
    "duration": 444,
    "start_time": "2023-04-27T08:13:23.405Z"
   },
   {
    "duration": 124,
    "start_time": "2023-04-27T08:13:23.851Z"
   },
   {
    "duration": 110,
    "start_time": "2023-04-27T08:13:23.976Z"
   },
   {
    "duration": 84,
    "start_time": "2023-04-27T08:13:24.088Z"
   },
   {
    "duration": 223,
    "start_time": "2023-04-27T08:13:24.174Z"
   },
   {
    "duration": 79,
    "start_time": "2023-04-27T08:13:24.400Z"
   },
   {
    "duration": 20,
    "start_time": "2023-04-27T08:13:24.480Z"
   },
   {
    "duration": 33,
    "start_time": "2023-04-27T08:13:24.501Z"
   },
   {
    "duration": 19,
    "start_time": "2023-04-27T08:13:24.536Z"
   },
   {
    "duration": 28,
    "start_time": "2023-04-27T08:13:24.556Z"
   },
   {
    "duration": 55,
    "start_time": "2023-04-27T08:13:24.586Z"
   },
   {
    "duration": 304,
    "start_time": "2023-04-27T08:13:24.643Z"
   },
   {
    "duration": 208,
    "start_time": "2023-04-27T08:13:24.949Z"
   },
   {
    "duration": 221,
    "start_time": "2023-04-27T08:13:25.159Z"
   },
   {
    "duration": 275,
    "start_time": "2023-04-27T08:13:25.384Z"
   },
   {
    "duration": 335,
    "start_time": "2023-04-27T08:13:25.660Z"
   },
   {
    "duration": 3,
    "start_time": "2023-04-27T08:13:25.997Z"
   },
   {
    "duration": 22,
    "start_time": "2023-04-27T08:13:26.002Z"
   },
   {
    "duration": 680,
    "start_time": "2023-04-27T08:13:26.025Z"
   },
   {
    "duration": 412,
    "start_time": "2023-04-27T08:13:26.707Z"
   },
   {
    "duration": 115,
    "start_time": "2023-04-27T08:13:27.121Z"
   },
   {
    "duration": 470,
    "start_time": "2023-04-27T08:13:27.239Z"
   },
   {
    "duration": 4,
    "start_time": "2023-04-27T08:13:27.711Z"
   },
   {
    "duration": 15,
    "start_time": "2023-04-27T08:13:27.719Z"
   },
   {
    "duration": 3,
    "start_time": "2023-04-27T08:13:27.736Z"
   },
   {
    "duration": 18,
    "start_time": "2023-04-27T08:13:27.740Z"
   },
   {
    "duration": 2312,
    "start_time": "2023-04-27T08:13:27.759Z"
   },
   {
    "duration": 3,
    "start_time": "2023-04-27T08:13:30.073Z"
   },
   {
    "duration": 252,
    "start_time": "2023-04-27T08:13:30.078Z"
   },
   {
    "duration": 12,
    "start_time": "2023-04-27T08:13:30.331Z"
   },
   {
    "duration": 0,
    "start_time": "2023-04-27T08:13:30.345Z"
   },
   {
    "duration": 0,
    "start_time": "2023-04-27T08:13:30.345Z"
   },
   {
    "duration": 0,
    "start_time": "2023-04-27T08:13:30.346Z"
   },
   {
    "duration": 0,
    "start_time": "2023-04-27T08:13:30.348Z"
   },
   {
    "duration": 0,
    "start_time": "2023-04-27T08:13:30.349Z"
   },
   {
    "duration": 0,
    "start_time": "2023-04-27T08:13:30.350Z"
   },
   {
    "duration": 0,
    "start_time": "2023-04-27T08:13:30.354Z"
   },
   {
    "duration": 0,
    "start_time": "2023-04-27T08:13:30.355Z"
   },
   {
    "duration": 0,
    "start_time": "2023-04-27T08:13:30.356Z"
   },
   {
    "duration": 0,
    "start_time": "2023-04-27T08:13:30.357Z"
   },
   {
    "duration": 0,
    "start_time": "2023-04-27T08:13:30.358Z"
   },
   {
    "duration": 0,
    "start_time": "2023-04-27T08:13:30.359Z"
   },
   {
    "duration": 0,
    "start_time": "2023-04-27T08:13:30.361Z"
   },
   {
    "duration": 0,
    "start_time": "2023-04-27T08:13:30.361Z"
   },
   {
    "duration": 89427,
    "start_time": "2023-04-27T08:14:24.224Z"
   },
   {
    "duration": 1547,
    "start_time": "2023-04-27T08:20:18.726Z"
   },
   {
    "duration": 805,
    "start_time": "2023-04-27T08:20:20.275Z"
   },
   {
    "duration": 16,
    "start_time": "2023-04-27T08:20:21.081Z"
   },
   {
    "duration": 156,
    "start_time": "2023-04-27T08:20:21.098Z"
   },
   {
    "duration": 463,
    "start_time": "2023-04-27T08:20:21.256Z"
   },
   {
    "duration": 124,
    "start_time": "2023-04-27T08:20:21.721Z"
   },
   {
    "duration": 107,
    "start_time": "2023-04-27T08:20:21.846Z"
   },
   {
    "duration": 84,
    "start_time": "2023-04-27T08:20:21.955Z"
   },
   {
    "duration": 225,
    "start_time": "2023-04-27T08:20:22.040Z"
   },
   {
    "duration": 72,
    "start_time": "2023-04-27T08:20:22.267Z"
   },
   {
    "duration": 20,
    "start_time": "2023-04-27T08:20:22.341Z"
   },
   {
    "duration": 40,
    "start_time": "2023-04-27T08:20:22.363Z"
   },
   {
    "duration": 35,
    "start_time": "2023-04-27T08:20:22.405Z"
   },
   {
    "duration": 19,
    "start_time": "2023-04-27T08:20:22.444Z"
   },
   {
    "duration": 54,
    "start_time": "2023-04-27T08:20:22.464Z"
   },
   {
    "duration": 250,
    "start_time": "2023-04-27T08:20:22.519Z"
   },
   {
    "duration": 197,
    "start_time": "2023-04-27T08:20:22.771Z"
   },
   {
    "duration": 215,
    "start_time": "2023-04-27T08:20:22.969Z"
   },
   {
    "duration": 258,
    "start_time": "2023-04-27T08:20:23.185Z"
   },
   {
    "duration": 331,
    "start_time": "2023-04-27T08:20:23.444Z"
   },
   {
    "duration": 3,
    "start_time": "2023-04-27T08:20:23.776Z"
   },
   {
    "duration": 92,
    "start_time": "2023-04-27T08:20:23.781Z"
   },
   {
    "duration": 726,
    "start_time": "2023-04-27T08:20:23.874Z"
   },
   {
    "duration": 439,
    "start_time": "2023-04-27T08:20:24.602Z"
   },
   {
    "duration": 132,
    "start_time": "2023-04-27T08:20:25.043Z"
   },
   {
    "duration": 489,
    "start_time": "2023-04-27T08:20:25.176Z"
   },
   {
    "duration": 4,
    "start_time": "2023-04-27T08:20:25.667Z"
   },
   {
    "duration": 24,
    "start_time": "2023-04-27T08:20:25.673Z"
   },
   {
    "duration": 13,
    "start_time": "2023-04-27T08:20:25.698Z"
   },
   {
    "duration": 18,
    "start_time": "2023-04-27T08:20:25.713Z"
   },
   {
    "duration": 2448,
    "start_time": "2023-04-27T08:20:25.732Z"
   },
   {
    "duration": 3,
    "start_time": "2023-04-27T08:20:28.182Z"
   },
   {
    "duration": 1494,
    "start_time": "2023-04-27T08:24:58.156Z"
   },
   {
    "duration": 831,
    "start_time": "2023-04-27T08:24:59.652Z"
   },
   {
    "duration": 19,
    "start_time": "2023-04-27T08:25:00.485Z"
   },
   {
    "duration": 267,
    "start_time": "2023-04-27T08:25:00.506Z"
   },
   {
    "duration": 496,
    "start_time": "2023-04-27T08:25:01.204Z"
   },
   {
    "duration": 132,
    "start_time": "2023-04-27T08:25:01.960Z"
   },
   {
    "duration": 108,
    "start_time": "2023-04-27T08:25:04.250Z"
   },
   {
    "duration": 90,
    "start_time": "2023-04-27T08:25:05.145Z"
   },
   {
    "duration": 244,
    "start_time": "2023-04-27T08:25:05.861Z"
   },
   {
    "duration": 65,
    "start_time": "2023-04-27T08:25:10.568Z"
   },
   {
    "duration": 17,
    "start_time": "2023-04-27T08:25:11.419Z"
   },
   {
    "duration": 22,
    "start_time": "2023-04-27T08:25:12.138Z"
   },
   {
    "duration": 20,
    "start_time": "2023-04-27T08:25:13.262Z"
   },
   {
    "duration": 19,
    "start_time": "2023-04-27T08:25:15.322Z"
   },
   {
    "duration": 61,
    "start_time": "2023-04-27T08:25:16.410Z"
   },
   {
    "duration": 239,
    "start_time": "2023-04-27T08:25:18.071Z"
   },
   {
    "duration": 198,
    "start_time": "2023-04-27T08:25:19.286Z"
   },
   {
    "duration": 203,
    "start_time": "2023-04-27T08:25:22.953Z"
   },
   {
    "duration": 251,
    "start_time": "2023-04-27T08:25:24.080Z"
   },
   {
    "duration": 307,
    "start_time": "2023-04-27T08:25:25.654Z"
   },
   {
    "duration": 4,
    "start_time": "2023-04-27T08:25:28.402Z"
   },
   {
    "duration": 17,
    "start_time": "2023-04-27T08:25:28.918Z"
   },
   {
    "duration": 767,
    "start_time": "2023-04-27T08:25:30.048Z"
   },
   {
    "duration": 431,
    "start_time": "2023-04-27T08:25:30.817Z"
   },
   {
    "duration": 122,
    "start_time": "2023-04-27T08:25:31.992Z"
   },
   {
    "duration": 476,
    "start_time": "2023-04-27T08:25:32.836Z"
   },
   {
    "duration": 5,
    "start_time": "2023-04-27T08:25:34.049Z"
   },
   {
    "duration": 4,
    "start_time": "2023-04-27T08:25:34.722Z"
   },
   {
    "duration": 4,
    "start_time": "2023-04-27T08:25:36.495Z"
   },
   {
    "duration": 4,
    "start_time": "2023-04-27T08:25:37.152Z"
   },
   {
    "duration": 2337,
    "start_time": "2023-04-27T08:25:39.515Z"
   },
   {
    "duration": 3,
    "start_time": "2023-04-27T08:25:41.853Z"
   },
   {
    "duration": 1462,
    "start_time": "2023-04-27T08:30:15.544Z"
   },
   {
    "duration": 798,
    "start_time": "2023-04-27T08:30:17.007Z"
   },
   {
    "duration": 26,
    "start_time": "2023-04-27T08:30:17.809Z"
   },
   {
    "duration": 128,
    "start_time": "2023-04-27T08:30:17.838Z"
   },
   {
    "duration": 443,
    "start_time": "2023-04-27T08:30:17.968Z"
   },
   {
    "duration": 122,
    "start_time": "2023-04-27T08:30:18.413Z"
   },
   {
    "duration": 109,
    "start_time": "2023-04-27T08:30:18.537Z"
   },
   {
    "duration": 74,
    "start_time": "2023-04-27T08:30:18.648Z"
   },
   {
    "duration": 216,
    "start_time": "2023-04-27T08:30:18.734Z"
   },
   {
    "duration": 67,
    "start_time": "2023-04-27T08:30:18.951Z"
   },
   {
    "duration": 29,
    "start_time": "2023-04-27T08:30:19.020Z"
   },
   {
    "duration": 19,
    "start_time": "2023-04-27T08:30:19.051Z"
   },
   {
    "duration": 26,
    "start_time": "2023-04-27T08:30:19.072Z"
   },
   {
    "duration": 25,
    "start_time": "2023-04-27T08:30:19.099Z"
   },
   {
    "duration": 57,
    "start_time": "2023-04-27T08:30:19.126Z"
   },
   {
    "duration": 260,
    "start_time": "2023-04-27T08:30:19.185Z"
   },
   {
    "duration": 189,
    "start_time": "2023-04-27T08:30:19.447Z"
   },
   {
    "duration": 238,
    "start_time": "2023-04-27T08:30:19.637Z"
   },
   {
    "duration": 278,
    "start_time": "2023-04-27T08:30:19.876Z"
   },
   {
    "duration": 317,
    "start_time": "2023-04-27T08:30:20.156Z"
   },
   {
    "duration": 1008,
    "start_time": "2023-04-27T08:30:20.475Z"
   },
   {
    "duration": 497,
    "start_time": "2023-04-27T08:30:21.485Z"
   },
   {
    "duration": 1057,
    "start_time": "2023-04-27T08:31:34.779Z"
   },
   {
    "duration": 477,
    "start_time": "2023-04-27T08:31:35.838Z"
   },
   {
    "duration": 151,
    "start_time": "2023-04-27T08:31:36.557Z"
   },
   {
    "duration": 1540,
    "start_time": "2023-04-27T08:31:53.015Z"
   },
   {
    "duration": 844,
    "start_time": "2023-04-27T08:31:54.558Z"
   },
   {
    "duration": 16,
    "start_time": "2023-04-27T08:31:55.404Z"
   },
   {
    "duration": 156,
    "start_time": "2023-04-27T08:31:55.422Z"
   },
   {
    "duration": 456,
    "start_time": "2023-04-27T08:31:55.579Z"
   },
   {
    "duration": 125,
    "start_time": "2023-04-27T08:31:56.036Z"
   },
   {
    "duration": 108,
    "start_time": "2023-04-27T08:31:56.163Z"
   },
   {
    "duration": 83,
    "start_time": "2023-04-27T08:31:56.273Z"
   },
   {
    "duration": 239,
    "start_time": "2023-04-27T08:31:56.358Z"
   },
   {
    "duration": 71,
    "start_time": "2023-04-27T08:31:56.599Z"
   },
   {
    "duration": 18,
    "start_time": "2023-04-27T08:31:56.671Z"
   },
   {
    "duration": 19,
    "start_time": "2023-04-27T08:31:56.691Z"
   },
   {
    "duration": 31,
    "start_time": "2023-04-27T08:31:56.711Z"
   },
   {
    "duration": 23,
    "start_time": "2023-04-27T08:31:56.743Z"
   },
   {
    "duration": 59,
    "start_time": "2023-04-27T08:31:56.767Z"
   },
   {
    "duration": 238,
    "start_time": "2023-04-27T08:31:56.834Z"
   },
   {
    "duration": 201,
    "start_time": "2023-04-27T08:31:57.073Z"
   },
   {
    "duration": 217,
    "start_time": "2023-04-27T08:31:57.276Z"
   },
   {
    "duration": 265,
    "start_time": "2023-04-27T08:31:57.494Z"
   },
   {
    "duration": 321,
    "start_time": "2023-04-27T08:31:57.761Z"
   },
   {
    "duration": 1062,
    "start_time": "2023-04-27T08:31:58.084Z"
   },
   {
    "duration": 486,
    "start_time": "2023-04-27T08:31:59.148Z"
   },
   {
    "duration": 259,
    "start_time": "2023-04-27T08:31:59.636Z"
   },
   {
    "duration": 1715,
    "start_time": "2023-04-27T08:36:57.929Z"
   },
   {
    "duration": 838,
    "start_time": "2023-04-27T08:36:59.646Z"
   },
   {
    "duration": 17,
    "start_time": "2023-04-27T08:37:00.486Z"
   },
   {
    "duration": 181,
    "start_time": "2023-04-27T08:37:00.505Z"
   },
   {
    "duration": 538,
    "start_time": "2023-04-27T08:37:00.688Z"
   },
   {
    "duration": 150,
    "start_time": "2023-04-27T08:37:01.227Z"
   },
   {
    "duration": 121,
    "start_time": "2023-04-27T08:37:01.379Z"
   },
   {
    "duration": 115,
    "start_time": "2023-04-27T08:37:01.501Z"
   },
   {
    "duration": 264,
    "start_time": "2023-04-27T08:37:01.617Z"
   },
   {
    "duration": 84,
    "start_time": "2023-04-27T08:37:01.883Z"
   },
   {
    "duration": 21,
    "start_time": "2023-04-27T08:37:01.968Z"
   },
   {
    "duration": 56,
    "start_time": "2023-04-27T08:37:01.991Z"
   },
   {
    "duration": 51,
    "start_time": "2023-04-27T08:37:02.048Z"
   },
   {
    "duration": 76,
    "start_time": "2023-04-27T08:37:02.100Z"
   },
   {
    "duration": 86,
    "start_time": "2023-04-27T08:37:02.178Z"
   },
   {
    "duration": 253,
    "start_time": "2023-04-27T08:37:02.265Z"
   },
   {
    "duration": 205,
    "start_time": "2023-04-27T08:37:02.520Z"
   },
   {
    "duration": 239,
    "start_time": "2023-04-27T08:37:02.734Z"
   },
   {
    "duration": 266,
    "start_time": "2023-04-27T08:37:02.974Z"
   },
   {
    "duration": 311,
    "start_time": "2023-04-27T08:37:03.242Z"
   },
   {
    "duration": 1122,
    "start_time": "2023-04-27T08:37:03.555Z"
   },
   {
    "duration": 527,
    "start_time": "2023-04-27T08:37:04.679Z"
   },
   {
    "duration": 200,
    "start_time": "2023-04-27T08:37:05.208Z"
   },
   {
    "duration": 189,
    "start_time": "2023-04-27T08:37:27.714Z"
   },
   {
    "duration": 209,
    "start_time": "2023-04-27T08:45:16.850Z"
   },
   {
    "duration": 1576,
    "start_time": "2023-04-27T08:47:30.105Z"
   },
   {
    "duration": 784,
    "start_time": "2023-04-27T08:47:31.683Z"
   },
   {
    "duration": 16,
    "start_time": "2023-04-27T08:47:32.468Z"
   },
   {
    "duration": 137,
    "start_time": "2023-04-27T08:47:32.485Z"
   },
   {
    "duration": 455,
    "start_time": "2023-04-27T08:47:32.624Z"
   },
   {
    "duration": 128,
    "start_time": "2023-04-27T08:47:33.080Z"
   },
   {
    "duration": 110,
    "start_time": "2023-04-27T08:47:33.210Z"
   },
   {
    "duration": 82,
    "start_time": "2023-04-27T08:47:33.322Z"
   },
   {
    "duration": 231,
    "start_time": "2023-04-27T08:47:33.405Z"
   },
   {
    "duration": 64,
    "start_time": "2023-04-27T08:47:33.639Z"
   },
   {
    "duration": 30,
    "start_time": "2023-04-27T08:47:33.704Z"
   },
   {
    "duration": 17,
    "start_time": "2023-04-27T08:47:33.736Z"
   },
   {
    "duration": 22,
    "start_time": "2023-04-27T08:47:33.755Z"
   },
   {
    "duration": 19,
    "start_time": "2023-04-27T08:47:33.779Z"
   },
   {
    "duration": 68,
    "start_time": "2023-04-27T08:47:33.799Z"
   },
   {
    "duration": 247,
    "start_time": "2023-04-27T08:47:33.869Z"
   },
   {
    "duration": 202,
    "start_time": "2023-04-27T08:47:34.118Z"
   },
   {
    "duration": 213,
    "start_time": "2023-04-27T08:47:34.321Z"
   },
   {
    "duration": 308,
    "start_time": "2023-04-27T08:47:34.536Z"
   },
   {
    "duration": 309,
    "start_time": "2023-04-27T08:47:34.845Z"
   },
   {
    "duration": 109,
    "start_time": "2023-04-27T08:47:35.156Z"
   },
   {
    "duration": 24,
    "start_time": "2023-04-27T08:47:52.367Z"
   },
   {
    "duration": 300,
    "start_time": "2023-04-27T08:49:08.967Z"
   },
   {
    "duration": 1676,
    "start_time": "2023-04-27T08:53:14.332Z"
   },
   {
    "duration": 810,
    "start_time": "2023-04-27T08:53:16.009Z"
   },
   {
    "duration": 20,
    "start_time": "2023-04-27T08:53:16.821Z"
   },
   {
    "duration": 147,
    "start_time": "2023-04-27T08:53:16.843Z"
   },
   {
    "duration": 469,
    "start_time": "2023-04-27T08:53:16.992Z"
   },
   {
    "duration": 129,
    "start_time": "2023-04-27T08:53:17.463Z"
   },
   {
    "duration": 123,
    "start_time": "2023-04-27T08:53:17.594Z"
   },
   {
    "duration": 101,
    "start_time": "2023-04-27T08:53:17.719Z"
   },
   {
    "duration": 237,
    "start_time": "2023-04-27T08:53:17.822Z"
   },
   {
    "duration": 85,
    "start_time": "2023-04-27T08:53:18.061Z"
   },
   {
    "duration": 17,
    "start_time": "2023-04-27T08:53:18.148Z"
   },
   {
    "duration": 19,
    "start_time": "2023-04-27T08:53:18.167Z"
   },
   {
    "duration": 19,
    "start_time": "2023-04-27T08:53:18.187Z"
   },
   {
    "duration": 34,
    "start_time": "2023-04-27T08:53:18.208Z"
   },
   {
    "duration": 72,
    "start_time": "2023-04-27T08:53:18.244Z"
   },
   {
    "duration": 238,
    "start_time": "2023-04-27T08:53:18.318Z"
   },
   {
    "duration": 226,
    "start_time": "2023-04-27T08:53:18.558Z"
   },
   {
    "duration": 217,
    "start_time": "2023-04-27T08:53:18.785Z"
   },
   {
    "duration": 255,
    "start_time": "2023-04-27T08:53:19.004Z"
   },
   {
    "duration": 377,
    "start_time": "2023-04-27T08:53:19.260Z"
   },
   {
    "duration": 16,
    "start_time": "2023-04-27T08:53:19.639Z"
   },
   {
    "duration": 672,
    "start_time": "2023-04-27T08:53:19.656Z"
   },
   {
    "duration": 400,
    "start_time": "2023-04-27T08:53:20.329Z"
   },
   {
    "duration": 148,
    "start_time": "2023-04-27T08:53:20.731Z"
   },
   {
    "duration": 472,
    "start_time": "2023-04-27T08:53:20.880Z"
   },
   {
    "duration": 2338,
    "start_time": "2023-04-27T08:53:21.354Z"
   },
   {
    "duration": 2,
    "start_time": "2023-04-27T08:53:23.694Z"
   },
   {
    "duration": 248,
    "start_time": "2023-04-27T08:54:59.315Z"
   },
   {
    "duration": 1429,
    "start_time": "2023-04-27T08:58:01.506Z"
   },
   {
    "duration": 776,
    "start_time": "2023-04-27T08:58:02.936Z"
   },
   {
    "duration": 21,
    "start_time": "2023-04-27T08:58:03.714Z"
   },
   {
    "duration": 125,
    "start_time": "2023-04-27T08:58:03.737Z"
   },
   {
    "duration": 466,
    "start_time": "2023-04-27T08:58:03.864Z"
   },
   {
    "duration": 136,
    "start_time": "2023-04-27T08:58:04.335Z"
   },
   {
    "duration": 141,
    "start_time": "2023-04-27T08:58:04.473Z"
   },
   {
    "duration": 103,
    "start_time": "2023-04-27T08:58:04.616Z"
   },
   {
    "duration": 306,
    "start_time": "2023-04-27T08:58:04.725Z"
   },
   {
    "duration": 67,
    "start_time": "2023-04-27T08:58:05.035Z"
   },
   {
    "duration": 34,
    "start_time": "2023-04-27T08:58:05.104Z"
   },
   {
    "duration": 19,
    "start_time": "2023-04-27T08:58:05.139Z"
   },
   {
    "duration": 20,
    "start_time": "2023-04-27T08:58:05.160Z"
   },
   {
    "duration": 31,
    "start_time": "2023-04-27T08:58:05.181Z"
   },
   {
    "duration": 66,
    "start_time": "2023-04-27T08:58:05.213Z"
   },
   {
    "duration": 287,
    "start_time": "2023-04-27T08:58:05.281Z"
   },
   {
    "duration": 241,
    "start_time": "2023-04-27T08:58:05.570Z"
   },
   {
    "duration": 233,
    "start_time": "2023-04-27T08:58:05.813Z"
   },
   {
    "duration": 277,
    "start_time": "2023-04-27T08:58:06.048Z"
   },
   {
    "duration": 353,
    "start_time": "2023-04-27T08:58:06.327Z"
   },
   {
    "duration": 3,
    "start_time": "2023-04-27T08:58:06.682Z"
   },
   {
    "duration": 41,
    "start_time": "2023-04-27T08:58:06.686Z"
   },
   {
    "duration": 627,
    "start_time": "2023-04-27T08:58:06.728Z"
   },
   {
    "duration": 406,
    "start_time": "2023-04-27T08:58:07.356Z"
   },
   {
    "duration": 144,
    "start_time": "2023-04-27T08:58:07.764Z"
   },
   {
    "duration": 491,
    "start_time": "2023-04-27T08:58:07.909Z"
   },
   {
    "duration": 63,
    "start_time": "2023-04-27T08:58:08.401Z"
   },
   {
    "duration": 2367,
    "start_time": "2023-04-27T08:58:08.468Z"
   },
   {
    "duration": 3,
    "start_time": "2023-04-27T08:58:10.837Z"
   },
   {
    "duration": 96567,
    "start_time": "2023-04-27T08:58:52.258Z"
   },
   {
    "duration": 75,
    "start_time": "2023-04-27T09:00:36.856Z"
   },
   {
    "duration": 1413,
    "start_time": "2023-04-27T09:02:36.569Z"
   },
   {
    "duration": 789,
    "start_time": "2023-04-27T09:02:37.985Z"
   },
   {
    "duration": 17,
    "start_time": "2023-04-27T09:02:38.776Z"
   },
   {
    "duration": 146,
    "start_time": "2023-04-27T09:02:38.796Z"
   },
   {
    "duration": 482,
    "start_time": "2023-04-27T09:02:38.944Z"
   },
   {
    "duration": 117,
    "start_time": "2023-04-27T09:02:39.434Z"
   },
   {
    "duration": 123,
    "start_time": "2023-04-27T09:02:39.553Z"
   },
   {
    "duration": 83,
    "start_time": "2023-04-27T09:02:39.678Z"
   },
   {
    "duration": 236,
    "start_time": "2023-04-27T09:02:39.762Z"
   },
   {
    "duration": 76,
    "start_time": "2023-04-27T09:02:40.000Z"
   },
   {
    "duration": 18,
    "start_time": "2023-04-27T09:02:40.077Z"
   },
   {
    "duration": 21,
    "start_time": "2023-04-27T09:02:40.097Z"
   },
   {
    "duration": 36,
    "start_time": "2023-04-27T09:02:40.119Z"
   },
   {
    "duration": 21,
    "start_time": "2023-04-27T09:02:40.157Z"
   },
   {
    "duration": 64,
    "start_time": "2023-04-27T09:02:40.180Z"
   },
   {
    "duration": 243,
    "start_time": "2023-04-27T09:02:40.246Z"
   },
   {
    "duration": 200,
    "start_time": "2023-04-27T09:02:40.490Z"
   },
   {
    "duration": 220,
    "start_time": "2023-04-27T09:02:40.692Z"
   },
   {
    "duration": 278,
    "start_time": "2023-04-27T09:02:40.914Z"
   },
   {
    "duration": 381,
    "start_time": "2023-04-27T09:02:41.194Z"
   },
   {
    "duration": 4,
    "start_time": "2023-04-27T09:02:41.577Z"
   },
   {
    "duration": 45,
    "start_time": "2023-04-27T09:02:41.582Z"
   },
   {
    "duration": 735,
    "start_time": "2023-04-27T09:02:41.629Z"
   },
   {
    "duration": 116,
    "start_time": "2023-04-27T09:02:42.366Z"
   },
   {
    "duration": 117,
    "start_time": "2023-04-27T09:02:42.484Z"
   },
   {
    "duration": 533,
    "start_time": "2023-04-27T09:02:42.603Z"
   },
   {
    "duration": 56,
    "start_time": "2023-04-27T09:02:43.145Z"
   },
   {
    "duration": 2499,
    "start_time": "2023-04-27T09:02:43.204Z"
   },
   {
    "duration": 4,
    "start_time": "2023-04-27T09:02:45.705Z"
   },
   {
    "duration": 41356,
    "start_time": "2023-04-27T09:02:45.711Z"
   },
   {
    "duration": 2367,
    "start_time": "2023-04-27T09:04:16.479Z"
   },
   {
    "duration": 3,
    "start_time": "2023-04-27T09:04:18.849Z"
   },
   {
    "duration": 1397,
    "start_time": "2023-04-27T09:04:27.178Z"
   },
   {
    "duration": 828,
    "start_time": "2023-04-27T09:04:28.577Z"
   },
   {
    "duration": 29,
    "start_time": "2023-04-27T09:04:29.407Z"
   },
   {
    "duration": 130,
    "start_time": "2023-04-27T09:04:29.439Z"
   },
   {
    "duration": 438,
    "start_time": "2023-04-27T09:04:29.571Z"
   },
   {
    "duration": 133,
    "start_time": "2023-04-27T09:04:30.011Z"
   },
   {
    "duration": 116,
    "start_time": "2023-04-27T09:04:30.145Z"
   },
   {
    "duration": 82,
    "start_time": "2023-04-27T09:04:30.262Z"
   },
   {
    "duration": 252,
    "start_time": "2023-04-27T09:04:30.346Z"
   },
   {
    "duration": 90,
    "start_time": "2023-04-27T09:04:30.601Z"
   },
   {
    "duration": 20,
    "start_time": "2023-04-27T09:04:30.693Z"
   },
   {
    "duration": 54,
    "start_time": "2023-04-27T09:04:30.714Z"
   },
   {
    "duration": 36,
    "start_time": "2023-04-27T09:04:30.770Z"
   },
   {
    "duration": 55,
    "start_time": "2023-04-27T09:04:30.808Z"
   },
   {
    "duration": 134,
    "start_time": "2023-04-27T09:04:30.865Z"
   },
   {
    "duration": 264,
    "start_time": "2023-04-27T09:04:31.001Z"
   },
   {
    "duration": 223,
    "start_time": "2023-04-27T09:04:31.267Z"
   },
   {
    "duration": 258,
    "start_time": "2023-04-27T09:04:31.492Z"
   },
   {
    "duration": 266,
    "start_time": "2023-04-27T09:04:31.752Z"
   },
   {
    "duration": 334,
    "start_time": "2023-04-27T09:04:32.019Z"
   },
   {
    "duration": 3,
    "start_time": "2023-04-27T09:04:32.355Z"
   },
   {
    "duration": 28,
    "start_time": "2023-04-27T09:04:32.360Z"
   },
   {
    "duration": 761,
    "start_time": "2023-04-27T09:04:32.391Z"
   },
   {
    "duration": 136,
    "start_time": "2023-04-27T09:04:33.154Z"
   },
   {
    "duration": 114,
    "start_time": "2023-04-27T09:04:33.292Z"
   },
   {
    "duration": 499,
    "start_time": "2023-04-27T09:04:33.409Z"
   },
   {
    "duration": 58,
    "start_time": "2023-04-27T09:04:33.909Z"
   },
   {
    "duration": 2400,
    "start_time": "2023-04-27T09:04:33.970Z"
   },
   {
    "duration": 3,
    "start_time": "2023-04-27T09:04:36.372Z"
   },
   {
    "duration": 1463,
    "start_time": "2023-04-27T09:04:58.305Z"
   },
   {
    "duration": 914,
    "start_time": "2023-04-27T09:04:59.770Z"
   },
   {
    "duration": 18,
    "start_time": "2023-04-27T09:05:00.686Z"
   },
   {
    "duration": 216,
    "start_time": "2023-04-27T09:05:00.706Z"
   },
   {
    "duration": 540,
    "start_time": "2023-04-27T09:05:00.925Z"
   },
   {
    "duration": 145,
    "start_time": "2023-04-27T09:05:01.466Z"
   },
   {
    "duration": 367,
    "start_time": "2023-04-27T09:05:01.612Z"
   },
   {
    "duration": 133,
    "start_time": "2023-04-27T09:05:01.981Z"
   },
   {
    "duration": 546,
    "start_time": "2023-04-27T09:05:02.115Z"
   },
   {
    "duration": 80,
    "start_time": "2023-04-27T09:05:02.663Z"
   },
   {
    "duration": 18,
    "start_time": "2023-04-27T09:05:02.748Z"
   },
   {
    "duration": 97,
    "start_time": "2023-04-27T09:05:02.768Z"
   },
   {
    "duration": 22,
    "start_time": "2023-04-27T09:05:02.867Z"
   },
   {
    "duration": 39,
    "start_time": "2023-04-27T09:05:02.892Z"
   },
   {
    "duration": 86,
    "start_time": "2023-04-27T09:05:02.932Z"
   },
   {
    "duration": 259,
    "start_time": "2023-04-27T09:05:03.020Z"
   },
   {
    "duration": 224,
    "start_time": "2023-04-27T09:05:03.281Z"
   },
   {
    "duration": 224,
    "start_time": "2023-04-27T09:05:03.506Z"
   },
   {
    "duration": 270,
    "start_time": "2023-04-27T09:05:03.733Z"
   },
   {
    "duration": 359,
    "start_time": "2023-04-27T09:05:04.005Z"
   },
   {
    "duration": 3,
    "start_time": "2023-04-27T09:05:04.366Z"
   },
   {
    "duration": 36,
    "start_time": "2023-04-27T09:05:04.370Z"
   },
   {
    "duration": 751,
    "start_time": "2023-04-27T09:05:04.407Z"
   },
   {
    "duration": 164,
    "start_time": "2023-04-27T09:05:05.159Z"
   },
   {
    "duration": 141,
    "start_time": "2023-04-27T09:05:05.326Z"
   },
   {
    "duration": 518,
    "start_time": "2023-04-27T09:05:05.469Z"
   },
   {
    "duration": 58,
    "start_time": "2023-04-27T09:05:05.988Z"
   },
   {
    "duration": 2492,
    "start_time": "2023-04-27T09:05:06.047Z"
   },
   {
    "duration": 6,
    "start_time": "2023-04-27T09:05:08.547Z"
   },
   {
    "duration": 1473,
    "start_time": "2023-04-27T09:05:18.786Z"
   },
   {
    "duration": 928,
    "start_time": "2023-04-27T09:05:20.261Z"
   },
   {
    "duration": 21,
    "start_time": "2023-04-27T09:05:21.190Z"
   },
   {
    "duration": 188,
    "start_time": "2023-04-27T09:05:21.213Z"
   },
   {
    "duration": 511,
    "start_time": "2023-04-27T09:05:21.404Z"
   },
   {
    "duration": 193,
    "start_time": "2023-04-27T09:05:21.917Z"
   },
   {
    "duration": 178,
    "start_time": "2023-04-27T09:05:22.111Z"
   },
   {
    "duration": 132,
    "start_time": "2023-04-27T09:05:22.290Z"
   },
   {
    "duration": 307,
    "start_time": "2023-04-27T09:05:22.424Z"
   },
   {
    "duration": 73,
    "start_time": "2023-04-27T09:05:22.735Z"
   },
   {
    "duration": 27,
    "start_time": "2023-04-27T09:05:22.810Z"
   },
   {
    "duration": 44,
    "start_time": "2023-04-27T09:05:22.838Z"
   },
   {
    "duration": 72,
    "start_time": "2023-04-27T09:05:22.883Z"
   },
   {
    "duration": 29,
    "start_time": "2023-04-27T09:05:22.959Z"
   },
   {
    "duration": 80,
    "start_time": "2023-04-27T09:05:22.990Z"
   },
   {
    "duration": 305,
    "start_time": "2023-04-27T09:05:23.071Z"
   },
   {
    "duration": 298,
    "start_time": "2023-04-27T09:05:23.378Z"
   },
   {
    "duration": 239,
    "start_time": "2023-04-27T09:05:23.677Z"
   },
   {
    "duration": 305,
    "start_time": "2023-04-27T09:05:23.918Z"
   },
   {
    "duration": 361,
    "start_time": "2023-04-27T09:05:24.225Z"
   },
   {
    "duration": 3,
    "start_time": "2023-04-27T09:05:24.588Z"
   },
   {
    "duration": 27,
    "start_time": "2023-04-27T09:05:24.593Z"
   },
   {
    "duration": 746,
    "start_time": "2023-04-27T09:05:24.622Z"
   },
   {
    "duration": 130,
    "start_time": "2023-04-27T09:05:25.371Z"
   },
   {
    "duration": 119,
    "start_time": "2023-04-27T09:05:25.503Z"
   },
   {
    "duration": 501,
    "start_time": "2023-04-27T09:05:25.624Z"
   },
   {
    "duration": 62,
    "start_time": "2023-04-27T09:05:26.126Z"
   },
   {
    "duration": 2400,
    "start_time": "2023-04-27T09:05:26.191Z"
   },
   {
    "duration": 3,
    "start_time": "2023-04-27T09:05:28.593Z"
   },
   {
    "duration": 675343,
    "start_time": "2023-04-27T09:05:28.597Z"
   },
   {
    "duration": 6,
    "start_time": "2023-04-27T09:16:43.942Z"
   },
   {
    "duration": 1536,
    "start_time": "2023-04-27T09:17:11.006Z"
   },
   {
    "duration": 874,
    "start_time": "2023-04-27T09:17:12.546Z"
   },
   {
    "duration": 31,
    "start_time": "2023-04-27T09:17:13.422Z"
   },
   {
    "duration": 188,
    "start_time": "2023-04-27T09:17:13.456Z"
   },
   {
    "duration": 506,
    "start_time": "2023-04-27T09:17:13.646Z"
   },
   {
    "duration": 158,
    "start_time": "2023-04-27T09:17:14.154Z"
   },
   {
    "duration": 158,
    "start_time": "2023-04-27T09:17:14.314Z"
   },
   {
    "duration": 123,
    "start_time": "2023-04-27T09:17:14.474Z"
   },
   {
    "duration": 300,
    "start_time": "2023-04-27T09:17:14.599Z"
   },
   {
    "duration": 86,
    "start_time": "2023-04-27T09:17:14.902Z"
   },
   {
    "duration": 23,
    "start_time": "2023-04-27T09:17:14.990Z"
   },
   {
    "duration": 73,
    "start_time": "2023-04-27T09:17:15.015Z"
   },
   {
    "duration": 70,
    "start_time": "2023-04-27T09:17:15.090Z"
   },
   {
    "duration": 26,
    "start_time": "2023-04-27T09:17:15.162Z"
   },
   {
    "duration": 67,
    "start_time": "2023-04-27T09:17:15.190Z"
   },
   {
    "duration": 290,
    "start_time": "2023-04-27T09:17:15.259Z"
   },
   {
    "duration": 219,
    "start_time": "2023-04-27T09:17:15.551Z"
   },
   {
    "duration": 235,
    "start_time": "2023-04-27T09:17:15.771Z"
   },
   {
    "duration": 291,
    "start_time": "2023-04-27T09:17:16.007Z"
   },
   {
    "duration": 356,
    "start_time": "2023-04-27T09:17:16.299Z"
   },
   {
    "duration": 18,
    "start_time": "2023-04-27T09:17:16.656Z"
   },
   {
    "duration": 153,
    "start_time": "2023-04-27T09:17:16.676Z"
   },
   {
    "duration": 183,
    "start_time": "2023-04-27T09:17:16.841Z"
   },
   {
    "duration": 2779,
    "start_time": "2023-04-27T09:19:45.503Z"
   },
   {
    "duration": 87,
    "start_time": "2023-04-27T09:20:12.598Z"
   },
   {
    "duration": 1406,
    "start_time": "2023-04-27T09:22:21.261Z"
   },
   {
    "duration": 858,
    "start_time": "2023-04-27T09:22:22.669Z"
   },
   {
    "duration": 23,
    "start_time": "2023-04-27T09:22:23.528Z"
   },
   {
    "duration": 178,
    "start_time": "2023-04-27T09:22:23.552Z"
   },
   {
    "duration": 475,
    "start_time": "2023-04-27T09:22:23.735Z"
   },
   {
    "duration": 137,
    "start_time": "2023-04-27T09:22:24.211Z"
   },
   {
    "duration": 134,
    "start_time": "2023-04-27T09:22:24.351Z"
   },
   {
    "duration": 97,
    "start_time": "2023-04-27T09:22:24.487Z"
   },
   {
    "duration": 350,
    "start_time": "2023-04-27T09:22:24.587Z"
   },
   {
    "duration": 75,
    "start_time": "2023-04-27T09:22:24.938Z"
   },
   {
    "duration": 36,
    "start_time": "2023-04-27T09:22:25.016Z"
   },
   {
    "duration": 30,
    "start_time": "2023-04-27T09:22:25.053Z"
   },
   {
    "duration": 36,
    "start_time": "2023-04-27T09:22:25.084Z"
   },
   {
    "duration": 22,
    "start_time": "2023-04-27T09:22:25.122Z"
   },
   {
    "duration": 79,
    "start_time": "2023-04-27T09:22:25.145Z"
   },
   {
    "duration": 269,
    "start_time": "2023-04-27T09:22:25.225Z"
   },
   {
    "duration": 223,
    "start_time": "2023-04-27T09:22:25.496Z"
   },
   {
    "duration": 222,
    "start_time": "2023-04-27T09:22:25.721Z"
   },
   {
    "duration": 262,
    "start_time": "2023-04-27T09:22:25.948Z"
   },
   {
    "duration": 347,
    "start_time": "2023-04-27T09:22:26.211Z"
   },
   {
    "duration": 4,
    "start_time": "2023-04-27T09:22:26.559Z"
   },
   {
    "duration": 128,
    "start_time": "2023-04-27T09:22:26.564Z"
   },
   {
    "duration": 0,
    "start_time": "2023-04-27T09:22:26.693Z"
   },
   {
    "duration": 0,
    "start_time": "2023-04-27T09:22:26.695Z"
   },
   {
    "duration": 0,
    "start_time": "2023-04-27T09:22:26.696Z"
   },
   {
    "duration": 1415,
    "start_time": "2023-04-27T09:23:03.164Z"
   },
   {
    "duration": 1003,
    "start_time": "2023-04-27T09:23:04.581Z"
   },
   {
    "duration": 17,
    "start_time": "2023-04-27T09:23:05.586Z"
   },
   {
    "duration": 187,
    "start_time": "2023-04-27T09:23:05.605Z"
   },
   {
    "duration": 506,
    "start_time": "2023-04-27T09:23:05.794Z"
   },
   {
    "duration": 142,
    "start_time": "2023-04-27T09:23:06.301Z"
   },
   {
    "duration": 135,
    "start_time": "2023-04-27T09:23:06.444Z"
   },
   {
    "duration": 104,
    "start_time": "2023-04-27T09:23:06.581Z"
   },
   {
    "duration": 242,
    "start_time": "2023-04-27T09:23:06.687Z"
   },
   {
    "duration": 76,
    "start_time": "2023-04-27T09:23:06.931Z"
   },
   {
    "duration": 30,
    "start_time": "2023-04-27T09:23:07.009Z"
   },
   {
    "duration": 20,
    "start_time": "2023-04-27T09:23:07.045Z"
   },
   {
    "duration": 22,
    "start_time": "2023-04-27T09:23:07.067Z"
   },
   {
    "duration": 24,
    "start_time": "2023-04-27T09:23:07.090Z"
   },
   {
    "duration": 78,
    "start_time": "2023-04-27T09:23:07.116Z"
   },
   {
    "duration": 307,
    "start_time": "2023-04-27T09:23:07.195Z"
   },
   {
    "duration": 210,
    "start_time": "2023-04-27T09:23:07.503Z"
   },
   {
    "duration": 240,
    "start_time": "2023-04-27T09:23:07.715Z"
   },
   {
    "duration": 269,
    "start_time": "2023-04-27T09:23:07.957Z"
   },
   {
    "duration": 342,
    "start_time": "2023-04-27T09:23:08.227Z"
   },
   {
    "duration": 3,
    "start_time": "2023-04-27T09:23:08.571Z"
   },
   {
    "duration": 1398,
    "start_time": "2023-04-27T09:23:08.576Z"
   },
   {
    "duration": 0,
    "start_time": "2023-04-27T09:23:09.976Z"
   },
   {
    "duration": 0,
    "start_time": "2023-04-27T09:23:09.977Z"
   },
   {
    "duration": 1,
    "start_time": "2023-04-27T09:23:09.977Z"
   },
   {
    "duration": 1433,
    "start_time": "2023-04-27T09:27:31.964Z"
   },
   {
    "duration": 854,
    "start_time": "2023-04-27T09:27:33.399Z"
   },
   {
    "duration": 16,
    "start_time": "2023-04-27T09:27:34.255Z"
   },
   {
    "duration": 153,
    "start_time": "2023-04-27T09:27:34.273Z"
   },
   {
    "duration": 518,
    "start_time": "2023-04-27T09:27:34.428Z"
   },
   {
    "duration": 136,
    "start_time": "2023-04-27T09:27:34.954Z"
   },
   {
    "duration": 122,
    "start_time": "2023-04-27T09:27:35.091Z"
   },
   {
    "duration": 106,
    "start_time": "2023-04-27T09:27:35.215Z"
   },
   {
    "duration": 271,
    "start_time": "2023-04-27T09:27:35.322Z"
   },
   {
    "duration": 88,
    "start_time": "2023-04-27T09:27:35.597Z"
   },
   {
    "duration": 28,
    "start_time": "2023-04-27T09:27:35.687Z"
   },
   {
    "duration": 28,
    "start_time": "2023-04-27T09:27:35.717Z"
   },
   {
    "duration": 32,
    "start_time": "2023-04-27T09:27:35.747Z"
   },
   {
    "duration": 22,
    "start_time": "2023-04-27T09:27:35.781Z"
   },
   {
    "duration": 60,
    "start_time": "2023-04-27T09:27:35.804Z"
   },
   {
    "duration": 255,
    "start_time": "2023-04-27T09:27:35.866Z"
   },
   {
    "duration": 204,
    "start_time": "2023-04-27T09:27:36.123Z"
   },
   {
    "duration": 227,
    "start_time": "2023-04-27T09:27:36.334Z"
   },
   {
    "duration": 256,
    "start_time": "2023-04-27T09:27:36.563Z"
   },
   {
    "duration": 344,
    "start_time": "2023-04-27T09:27:36.821Z"
   },
   {
    "duration": 3,
    "start_time": "2023-04-27T09:27:37.166Z"
   },
   {
    "duration": 25,
    "start_time": "2023-04-27T09:27:37.171Z"
   },
   {
    "duration": 153,
    "start_time": "2023-04-27T09:27:37.198Z"
   },
   {
    "duration": 3439,
    "start_time": "2023-04-27T09:27:37.353Z"
   },
   {
    "duration": 1343,
    "start_time": "2023-04-27T09:32:01.895Z"
   },
   {
    "duration": 812,
    "start_time": "2023-04-27T09:32:03.247Z"
   },
   {
    "duration": 16,
    "start_time": "2023-04-27T09:32:04.061Z"
   },
   {
    "duration": 138,
    "start_time": "2023-04-27T09:32:04.079Z"
   },
   {
    "duration": 481,
    "start_time": "2023-04-27T09:32:04.219Z"
   },
   {
    "duration": 142,
    "start_time": "2023-04-27T09:32:04.702Z"
   },
   {
    "duration": 105,
    "start_time": "2023-04-27T09:32:04.845Z"
   },
   {
    "duration": 87,
    "start_time": "2023-04-27T09:32:04.951Z"
   },
   {
    "duration": 228,
    "start_time": "2023-04-27T09:32:05.039Z"
   },
   {
    "duration": 82,
    "start_time": "2023-04-27T09:32:05.270Z"
   },
   {
    "duration": 22,
    "start_time": "2023-04-27T09:32:05.354Z"
   },
   {
    "duration": 22,
    "start_time": "2023-04-27T09:32:05.378Z"
   },
   {
    "duration": 38,
    "start_time": "2023-04-27T09:32:05.402Z"
   },
   {
    "duration": 26,
    "start_time": "2023-04-27T09:32:05.442Z"
   },
   {
    "duration": 65,
    "start_time": "2023-04-27T09:32:05.470Z"
   },
   {
    "duration": 227,
    "start_time": "2023-04-27T09:32:05.536Z"
   },
   {
    "duration": 203,
    "start_time": "2023-04-27T09:32:05.765Z"
   },
   {
    "duration": 221,
    "start_time": "2023-04-27T09:32:05.970Z"
   },
   {
    "duration": 265,
    "start_time": "2023-04-27T09:32:06.193Z"
   },
   {
    "duration": 358,
    "start_time": "2023-04-27T09:32:06.460Z"
   },
   {
    "duration": 3,
    "start_time": "2023-04-27T09:32:06.820Z"
   },
   {
    "duration": 1037,
    "start_time": "2023-04-27T09:32:06.824Z"
   },
   {
    "duration": 0,
    "start_time": "2023-04-27T09:32:07.863Z"
   },
   {
    "duration": 0,
    "start_time": "2023-04-27T09:32:07.864Z"
   },
   {
    "duration": 0,
    "start_time": "2023-04-27T09:32:07.865Z"
   },
   {
    "duration": 27,
    "start_time": "2023-04-27T09:32:55.268Z"
   },
   {
    "duration": 101,
    "start_time": "2023-04-27T09:32:56.327Z"
   },
   {
    "duration": 3152,
    "start_time": "2023-04-27T09:32:59.745Z"
   },
   {
    "duration": 1701,
    "start_time": "2023-04-27T09:41:15.137Z"
   },
   {
    "duration": 762,
    "start_time": "2023-04-27T09:41:16.840Z"
   },
   {
    "duration": 145,
    "start_time": "2023-04-27T09:41:17.603Z"
   },
   {
    "duration": 10,
    "start_time": "2023-04-27T09:41:37.972Z"
   },
   {
    "duration": 1467,
    "start_time": "2023-04-27T09:48:21.472Z"
   },
   {
    "duration": 768,
    "start_time": "2023-04-27T09:48:22.941Z"
   },
   {
    "duration": 158,
    "start_time": "2023-04-27T09:48:23.710Z"
   },
   {
    "duration": 6,
    "start_time": "2023-04-27T09:48:23.870Z"
   },
   {
    "duration": 127,
    "start_time": "2023-04-27T09:48:23.878Z"
   },
   {
    "duration": 11,
    "start_time": "2023-04-27T09:48:24.006Z"
   },
   {
    "duration": 45,
    "start_time": "2023-04-27T09:48:24.018Z"
   },
   {
    "duration": 29,
    "start_time": "2023-04-27T09:48:24.065Z"
   },
   {
    "duration": 101,
    "start_time": "2023-04-27T09:48:24.095Z"
   },
   {
    "duration": 164,
    "start_time": "2023-04-27T09:48:24.199Z"
   },
   {
    "duration": 24,
    "start_time": "2023-04-27T09:48:24.365Z"
   },
   {
    "duration": 78,
    "start_time": "2023-04-27T09:48:24.390Z"
   },
   {
    "duration": 165,
    "start_time": "2023-04-27T09:48:24.469Z"
   },
   {
    "duration": 45,
    "start_time": "2023-04-27T09:48:24.636Z"
   },
   {
    "duration": 95,
    "start_time": "2023-04-27T09:48:24.683Z"
   },
   {
    "duration": 94,
    "start_time": "2023-04-27T09:48:24.780Z"
   },
   {
    "duration": 3,
    "start_time": "2023-04-27T09:48:24.876Z"
   },
   {
    "duration": 737,
    "start_time": "2023-04-27T09:48:24.881Z"
   },
   {
    "duration": 21,
    "start_time": "2023-04-27T09:48:25.620Z"
   },
   {
    "duration": 53,
    "start_time": "2023-04-27T09:48:25.642Z"
   },
   {
    "duration": 58183,
    "start_time": "2023-04-27T09:48:25.697Z"
   },
   {
    "duration": 1425,
    "start_time": "2023-04-27T10:19:40.401Z"
   },
   {
    "duration": 768,
    "start_time": "2023-04-27T10:19:41.828Z"
   },
   {
    "duration": 151,
    "start_time": "2023-04-27T10:19:42.597Z"
   },
   {
    "duration": 5,
    "start_time": "2023-04-27T10:19:42.750Z"
   },
   {
    "duration": 136,
    "start_time": "2023-04-27T10:19:42.757Z"
   },
   {
    "duration": 12,
    "start_time": "2023-04-27T10:19:42.895Z"
   },
   {
    "duration": 50,
    "start_time": "2023-04-27T10:19:42.908Z"
   },
   {
    "duration": 30,
    "start_time": "2023-04-27T10:19:42.960Z"
   },
   {
    "duration": 117,
    "start_time": "2023-04-27T10:19:42.991Z"
   },
   {
    "duration": 196,
    "start_time": "2023-04-27T10:19:43.109Z"
   },
   {
    "duration": 34,
    "start_time": "2023-04-27T10:19:43.307Z"
   },
   {
    "duration": 76,
    "start_time": "2023-04-27T10:19:43.343Z"
   },
   {
    "duration": 175,
    "start_time": "2023-04-27T10:19:43.434Z"
   },
   {
    "duration": 49,
    "start_time": "2023-04-27T10:19:43.612Z"
   },
   {
    "duration": 86,
    "start_time": "2023-04-27T10:19:43.663Z"
   },
   {
    "duration": 85,
    "start_time": "2023-04-27T10:19:43.751Z"
   },
   {
    "duration": 3,
    "start_time": "2023-04-27T10:19:43.838Z"
   },
   {
    "duration": 786,
    "start_time": "2023-04-27T10:19:43.843Z"
   },
   {
    "duration": 13,
    "start_time": "2023-04-27T10:19:44.634Z"
   },
   {
    "duration": 57,
    "start_time": "2023-04-27T10:19:44.649Z"
   },
   {
    "duration": 1625,
    "start_time": "2023-04-27T10:21:13.061Z"
   },
   {
    "duration": 930,
    "start_time": "2023-04-27T10:21:14.688Z"
   },
   {
    "duration": 156,
    "start_time": "2023-04-27T10:21:15.620Z"
   },
   {
    "duration": 5,
    "start_time": "2023-04-27T10:21:15.779Z"
   },
   {
    "duration": 146,
    "start_time": "2023-04-27T10:21:15.786Z"
   },
   {
    "duration": 12,
    "start_time": "2023-04-27T10:21:16.090Z"
   },
   {
    "duration": 32,
    "start_time": "2023-04-27T10:21:17.602Z"
   },
   {
    "duration": 28,
    "start_time": "2023-04-27T10:21:18.700Z"
   },
   {
    "duration": 86,
    "start_time": "2023-04-27T10:21:19.704Z"
   },
   {
    "duration": 151,
    "start_time": "2023-04-27T10:21:20.586Z"
   },
   {
    "duration": 24,
    "start_time": "2023-04-27T10:21:21.871Z"
   },
   {
    "duration": 76,
    "start_time": "2023-04-27T10:21:22.186Z"
   },
   {
    "duration": 150,
    "start_time": "2023-04-27T10:21:22.636Z"
   },
   {
    "duration": 41,
    "start_time": "2023-04-27T10:21:23.823Z"
   },
   {
    "duration": 87,
    "start_time": "2023-04-27T10:21:24.800Z"
   },
   {
    "duration": 71,
    "start_time": "2023-04-27T10:21:25.766Z"
   },
   {
    "duration": 3,
    "start_time": "2023-04-27T10:21:26.248Z"
   },
   {
    "duration": 707,
    "start_time": "2023-04-27T10:21:27.320Z"
   },
   {
    "duration": 14,
    "start_time": "2023-04-27T10:21:31.383Z"
   },
   {
    "duration": 52,
    "start_time": "2023-04-27T10:21:32.573Z"
   },
   {
    "duration": 55036,
    "start_time": "2023-04-27T10:21:39.362Z"
   },
   {
    "duration": 3503,
    "start_time": "2023-04-27T10:23:04.819Z"
   },
   {
    "duration": 6,
    "start_time": "2023-04-27T10:23:14.787Z"
   },
   {
    "duration": 4,
    "start_time": "2023-04-27T10:23:33.904Z"
   },
   {
    "duration": 1360,
    "start_time": "2023-04-27T10:24:40.383Z"
   },
   {
    "duration": 877,
    "start_time": "2023-04-27T10:24:41.745Z"
   },
   {
    "duration": 177,
    "start_time": "2023-04-27T10:24:42.624Z"
   },
   {
    "duration": 6,
    "start_time": "2023-04-27T10:24:42.804Z"
   },
   {
    "duration": 154,
    "start_time": "2023-04-27T10:24:42.811Z"
   },
   {
    "duration": 12,
    "start_time": "2023-04-27T10:24:42.967Z"
   },
   {
    "duration": 35,
    "start_time": "2023-04-27T10:24:42.980Z"
   },
   {
    "duration": 45,
    "start_time": "2023-04-27T10:24:43.017Z"
   },
   {
    "duration": 113,
    "start_time": "2023-04-27T10:24:43.064Z"
   },
   {
    "duration": 186,
    "start_time": "2023-04-27T10:24:43.180Z"
   },
   {
    "duration": 26,
    "start_time": "2023-04-27T10:24:43.368Z"
   },
   {
    "duration": 90,
    "start_time": "2023-04-27T10:24:43.396Z"
   },
   {
    "duration": 184,
    "start_time": "2023-04-27T10:24:43.488Z"
   },
   {
    "duration": 45,
    "start_time": "2023-04-27T10:24:43.678Z"
   },
   {
    "duration": 82,
    "start_time": "2023-04-27T10:24:43.725Z"
   },
   {
    "duration": 94,
    "start_time": "2023-04-27T10:24:43.808Z"
   },
   {
    "duration": 3,
    "start_time": "2023-04-27T10:24:43.903Z"
   },
   {
    "duration": 922,
    "start_time": "2023-04-27T10:24:43.908Z"
   },
   {
    "duration": 15,
    "start_time": "2023-04-27T10:24:44.834Z"
   },
   {
    "duration": 88,
    "start_time": "2023-04-27T10:24:44.851Z"
   },
   {
    "duration": 56730,
    "start_time": "2023-04-27T10:24:44.941Z"
   },
   {
    "duration": 3548,
    "start_time": "2023-04-27T10:25:41.673Z"
   },
   {
    "duration": 11,
    "start_time": "2023-04-27T10:25:45.223Z"
   },
   {
    "duration": 1980,
    "start_time": "2023-04-27T10:28:14.013Z"
   },
   {
    "duration": 812,
    "start_time": "2023-04-27T10:28:15.995Z"
   },
   {
    "duration": 153,
    "start_time": "2023-04-27T10:28:16.809Z"
   },
   {
    "duration": 6,
    "start_time": "2023-04-27T10:28:16.964Z"
   },
   {
    "duration": 128,
    "start_time": "2023-04-27T10:28:17.714Z"
   },
   {
    "duration": 12,
    "start_time": "2023-04-27T10:28:19.078Z"
   },
   {
    "duration": 35,
    "start_time": "2023-04-27T10:28:20.033Z"
   },
   {
    "duration": 28,
    "start_time": "2023-04-27T10:28:21.079Z"
   },
   {
    "duration": 82,
    "start_time": "2023-04-27T10:28:22.113Z"
   },
   {
    "duration": 150,
    "start_time": "2023-04-27T10:28:22.604Z"
   },
   {
    "duration": 24,
    "start_time": "2023-04-27T10:28:23.677Z"
   },
   {
    "duration": 80,
    "start_time": "2023-04-27T10:28:24.136Z"
   },
   {
    "duration": 169,
    "start_time": "2023-04-27T10:28:24.583Z"
   },
   {
    "duration": 41,
    "start_time": "2023-04-27T10:28:25.605Z"
   },
   {
    "duration": 64,
    "start_time": "2023-04-27T10:28:26.541Z"
   },
   {
    "duration": 72,
    "start_time": "2023-04-27T10:28:27.540Z"
   },
   {
    "duration": 3,
    "start_time": "2023-04-27T10:28:28.056Z"
   },
   {
    "duration": 696,
    "start_time": "2023-04-27T10:28:29.079Z"
   },
   {
    "duration": 13,
    "start_time": "2023-04-27T10:28:32.848Z"
   },
   {
    "duration": 53,
    "start_time": "2023-04-27T10:28:34.348Z"
   },
   {
    "duration": 55769,
    "start_time": "2023-04-27T10:28:35.939Z"
   },
   {
    "duration": 3206,
    "start_time": "2023-04-27T10:31:30.896Z"
   },
   {
    "duration": 4,
    "start_time": "2023-04-27T10:31:37.752Z"
   },
   {
    "duration": 1488,
    "start_time": "2023-04-27T10:33:22.923Z"
   },
   {
    "duration": 869,
    "start_time": "2023-04-27T10:33:24.413Z"
   },
   {
    "duration": 162,
    "start_time": "2023-04-27T10:33:25.286Z"
   },
   {
    "duration": 6,
    "start_time": "2023-04-27T10:33:25.451Z"
   },
   {
    "duration": 128,
    "start_time": "2023-04-27T10:33:25.459Z"
   },
   {
    "duration": 11,
    "start_time": "2023-04-27T10:33:25.588Z"
   },
   {
    "duration": 45,
    "start_time": "2023-04-27T10:33:25.601Z"
   },
   {
    "duration": 28,
    "start_time": "2023-04-27T10:33:25.648Z"
   },
   {
    "duration": 99,
    "start_time": "2023-04-27T10:33:25.678Z"
   },
   {
    "duration": 162,
    "start_time": "2023-04-27T10:33:25.779Z"
   },
   {
    "duration": 26,
    "start_time": "2023-04-27T10:33:25.942Z"
   },
   {
    "duration": 82,
    "start_time": "2023-04-27T10:33:25.970Z"
   },
   {
    "duration": 211,
    "start_time": "2023-04-27T10:33:26.054Z"
   },
   {
    "duration": 41,
    "start_time": "2023-04-27T10:33:26.268Z"
   },
   {
    "duration": 77,
    "start_time": "2023-04-27T10:33:26.310Z"
   },
   {
    "duration": 82,
    "start_time": "2023-04-27T10:33:26.388Z"
   },
   {
    "duration": 5,
    "start_time": "2023-04-27T10:33:26.472Z"
   },
   {
    "duration": 749,
    "start_time": "2023-04-27T10:33:26.479Z"
   },
   {
    "duration": 21,
    "start_time": "2023-04-27T10:33:27.229Z"
   },
   {
    "duration": 67,
    "start_time": "2023-04-27T10:33:27.253Z"
   },
   {
    "duration": 55962,
    "start_time": "2023-04-27T10:33:27.322Z"
   },
   {
    "duration": 3347,
    "start_time": "2023-04-27T10:34:23.286Z"
   },
   {
    "duration": 4,
    "start_time": "2023-04-27T10:34:26.635Z"
   },
   {
    "duration": 1402,
    "start_time": "2023-04-27T11:04:53.787Z"
   },
   {
    "duration": 783,
    "start_time": "2023-04-27T11:04:55.190Z"
   },
   {
    "duration": 152,
    "start_time": "2023-04-27T11:04:55.975Z"
   },
   {
    "duration": 6,
    "start_time": "2023-04-27T11:04:56.134Z"
   },
   {
    "duration": 129,
    "start_time": "2023-04-27T11:04:56.141Z"
   },
   {
    "duration": 12,
    "start_time": "2023-04-27T11:04:56.272Z"
   },
   {
    "duration": 49,
    "start_time": "2023-04-27T11:04:56.285Z"
   },
   {
    "duration": 29,
    "start_time": "2023-04-27T11:04:56.336Z"
   },
   {
    "duration": 106,
    "start_time": "2023-04-27T11:04:56.366Z"
   },
   {
    "duration": 169,
    "start_time": "2023-04-27T11:04:56.474Z"
   },
   {
    "duration": 25,
    "start_time": "2023-04-27T11:04:56.644Z"
   },
   {
    "duration": 79,
    "start_time": "2023-04-27T11:04:56.671Z"
   },
   {
    "duration": 165,
    "start_time": "2023-04-27T11:04:56.752Z"
   },
   {
    "duration": 56,
    "start_time": "2023-04-27T11:04:56.919Z"
   },
   {
    "duration": 80,
    "start_time": "2023-04-27T11:04:56.977Z"
   },
   {
    "duration": 89,
    "start_time": "2023-04-27T11:04:57.058Z"
   },
   {
    "duration": 3,
    "start_time": "2023-04-27T11:04:57.149Z"
   },
   {
    "duration": 712,
    "start_time": "2023-04-27T11:04:57.153Z"
   },
   {
    "duration": 14,
    "start_time": "2023-04-27T11:04:57.866Z"
   },
   {
    "duration": 70,
    "start_time": "2023-04-27T11:04:57.881Z"
   },
   {
    "duration": 58761,
    "start_time": "2023-04-27T11:04:57.953Z"
   },
   {
    "duration": 3130,
    "start_time": "2023-04-27T11:05:56.716Z"
   },
   {
    "duration": 4,
    "start_time": "2023-04-27T11:05:59.847Z"
   },
   {
    "duration": 1445,
    "start_time": "2023-04-27T11:06:09.060Z"
   },
   {
    "duration": 824,
    "start_time": "2023-04-27T11:06:10.507Z"
   },
   {
    "duration": 176,
    "start_time": "2023-04-27T11:06:11.335Z"
   },
   {
    "duration": 6,
    "start_time": "2023-04-27T11:06:11.513Z"
   },
   {
    "duration": 155,
    "start_time": "2023-04-27T11:06:11.521Z"
   },
   {
    "duration": 13,
    "start_time": "2023-04-27T11:06:11.677Z"
   },
   {
    "duration": 48,
    "start_time": "2023-04-27T11:06:11.691Z"
   },
   {
    "duration": 30,
    "start_time": "2023-04-27T11:06:11.741Z"
   },
   {
    "duration": 105,
    "start_time": "2023-04-27T11:06:11.773Z"
   },
   {
    "duration": 162,
    "start_time": "2023-04-27T11:06:11.881Z"
   },
   {
    "duration": 24,
    "start_time": "2023-04-27T11:06:12.045Z"
   },
   {
    "duration": 83,
    "start_time": "2023-04-27T11:06:12.071Z"
   },
   {
    "duration": 173,
    "start_time": "2023-04-27T11:06:12.156Z"
   },
   {
    "duration": 42,
    "start_time": "2023-04-27T11:06:12.334Z"
   },
   {
    "duration": 84,
    "start_time": "2023-04-27T11:06:12.378Z"
   },
   {
    "duration": 94,
    "start_time": "2023-04-27T11:06:12.464Z"
   },
   {
    "duration": 2,
    "start_time": "2023-04-27T11:06:12.560Z"
   },
   {
    "duration": 757,
    "start_time": "2023-04-27T11:06:12.564Z"
   },
   {
    "duration": 22,
    "start_time": "2023-04-27T11:06:13.323Z"
   },
   {
    "duration": 59,
    "start_time": "2023-04-27T11:06:13.347Z"
   },
   {
    "duration": 13916,
    "start_time": "2023-04-27T11:06:13.408Z"
   },
   {
    "duration": 3397,
    "start_time": "2023-04-27T11:07:04.611Z"
   },
   {
    "duration": 5,
    "start_time": "2023-04-27T11:07:48.836Z"
   },
   {
    "duration": 1445,
    "start_time": "2023-04-27T11:29:42.446Z"
   },
   {
    "duration": 915,
    "start_time": "2023-04-27T11:29:43.892Z"
   },
   {
    "duration": 180,
    "start_time": "2023-04-27T11:29:44.811Z"
   },
   {
    "duration": 6,
    "start_time": "2023-04-27T11:29:44.994Z"
   },
   {
    "duration": 166,
    "start_time": "2023-04-27T11:29:45.002Z"
   },
   {
    "duration": 17,
    "start_time": "2023-04-27T11:29:45.170Z"
   },
   {
    "duration": 56,
    "start_time": "2023-04-27T11:29:45.189Z"
   },
   {
    "duration": 40,
    "start_time": "2023-04-27T11:29:45.263Z"
   },
   {
    "duration": 116,
    "start_time": "2023-04-27T11:29:45.305Z"
   },
   {
    "duration": 228,
    "start_time": "2023-04-27T11:29:45.435Z"
   },
   {
    "duration": 29,
    "start_time": "2023-04-27T11:29:45.666Z"
   },
   {
    "duration": 95,
    "start_time": "2023-04-27T11:29:45.697Z"
   },
   {
    "duration": 203,
    "start_time": "2023-04-27T11:29:45.794Z"
   },
   {
    "duration": 47,
    "start_time": "2023-04-27T11:29:45.998Z"
   },
   {
    "duration": 90,
    "start_time": "2023-04-27T11:29:46.047Z"
   },
   {
    "duration": 74,
    "start_time": "2023-04-27T11:29:46.139Z"
   },
   {
    "duration": 3,
    "start_time": "2023-04-27T11:29:46.215Z"
   },
   {
    "duration": 795,
    "start_time": "2023-04-27T11:29:46.219Z"
   },
   {
    "duration": 22,
    "start_time": "2023-04-27T11:29:47.016Z"
   },
   {
    "duration": 56,
    "start_time": "2023-04-27T11:29:47.040Z"
   },
   {
    "duration": 14370,
    "start_time": "2023-04-27T11:29:47.098Z"
   },
   {
    "duration": 3412,
    "start_time": "2023-04-27T11:30:01.469Z"
   },
   {
    "duration": 5,
    "start_time": "2023-04-27T11:30:04.883Z"
   },
   {
    "duration": 1377,
    "start_time": "2023-04-27T11:35:51.708Z"
   },
   {
    "duration": 788,
    "start_time": "2023-04-27T11:35:53.087Z"
   },
   {
    "duration": 153,
    "start_time": "2023-04-27T11:35:53.877Z"
   },
   {
    "duration": 7,
    "start_time": "2023-04-27T11:35:54.035Z"
   },
   {
    "duration": 129,
    "start_time": "2023-04-27T11:35:54.043Z"
   },
   {
    "duration": 13,
    "start_time": "2023-04-27T11:35:54.174Z"
   },
   {
    "duration": 50,
    "start_time": "2023-04-27T11:35:54.188Z"
   },
   {
    "duration": 29,
    "start_time": "2023-04-27T11:35:54.239Z"
   },
   {
    "duration": 116,
    "start_time": "2023-04-27T11:35:54.270Z"
   },
   {
    "duration": 163,
    "start_time": "2023-04-27T11:35:54.388Z"
   },
   {
    "duration": 29,
    "start_time": "2023-04-27T11:35:54.553Z"
   },
   {
    "duration": 148,
    "start_time": "2023-04-27T11:35:54.583Z"
   },
   {
    "duration": 220,
    "start_time": "2023-04-27T11:35:54.735Z"
   },
   {
    "duration": 49,
    "start_time": "2023-04-27T11:35:54.958Z"
   },
   {
    "duration": 101,
    "start_time": "2023-04-27T11:35:55.009Z"
   },
   {
    "duration": 86,
    "start_time": "2023-04-27T11:35:55.111Z"
   },
   {
    "duration": 3,
    "start_time": "2023-04-27T11:35:55.199Z"
   },
   {
    "duration": 737,
    "start_time": "2023-04-27T11:35:55.204Z"
   },
   {
    "duration": 13,
    "start_time": "2023-04-27T11:35:55.943Z"
   },
   {
    "duration": 72,
    "start_time": "2023-04-27T11:35:55.958Z"
   },
   {
    "duration": 15786,
    "start_time": "2023-04-27T11:35:56.035Z"
   },
   {
    "duration": 3736,
    "start_time": "2023-04-27T11:36:11.822Z"
   },
   {
    "duration": 608,
    "start_time": "2023-04-27T11:36:15.560Z"
   },
   {
    "duration": 4979,
    "start_time": "2023-04-27T11:36:16.170Z"
   },
   {
    "duration": 801,
    "start_time": "2023-04-27T11:36:21.151Z"
   },
   {
    "duration": 1393,
    "start_time": "2023-04-27T11:45:47.115Z"
   },
   {
    "duration": 783,
    "start_time": "2023-04-27T11:45:48.510Z"
   },
   {
    "duration": 152,
    "start_time": "2023-04-27T11:45:49.294Z"
   },
   {
    "duration": 6,
    "start_time": "2023-04-27T11:45:49.447Z"
   },
   {
    "duration": 185,
    "start_time": "2023-04-27T11:45:49.456Z"
   },
   {
    "duration": 12,
    "start_time": "2023-04-27T11:45:49.643Z"
   },
   {
    "duration": 47,
    "start_time": "2023-04-27T11:45:49.657Z"
   },
   {
    "duration": 39,
    "start_time": "2023-04-27T11:45:49.706Z"
   },
   {
    "duration": 125,
    "start_time": "2023-04-27T11:45:49.747Z"
   },
   {
    "duration": 165,
    "start_time": "2023-04-27T11:45:49.874Z"
   },
   {
    "duration": 25,
    "start_time": "2023-04-27T11:45:50.041Z"
   },
   {
    "duration": 83,
    "start_time": "2023-04-27T11:45:50.068Z"
   },
   {
    "duration": 217,
    "start_time": "2023-04-27T11:45:50.152Z"
   },
   {
    "duration": 43,
    "start_time": "2023-04-27T11:45:50.372Z"
   },
   {
    "duration": 80,
    "start_time": "2023-04-27T11:45:50.417Z"
   },
   {
    "duration": 101,
    "start_time": "2023-04-27T11:45:50.498Z"
   },
   {
    "duration": 4,
    "start_time": "2023-04-27T11:45:50.601Z"
   },
   {
    "duration": 824,
    "start_time": "2023-04-27T11:45:50.606Z"
   },
   {
    "duration": 14,
    "start_time": "2023-04-27T11:45:51.431Z"
   },
   {
    "duration": 83,
    "start_time": "2023-04-27T11:45:51.447Z"
   },
   {
    "duration": 13526,
    "start_time": "2023-04-27T11:45:51.531Z"
   },
   {
    "duration": 3347,
    "start_time": "2023-04-27T11:46:05.059Z"
   },
   {
    "duration": 3,
    "start_time": "2023-04-27T11:46:08.408Z"
   },
   {
    "duration": 1418,
    "start_time": "2023-04-27T11:47:07.648Z"
   },
   {
    "duration": 843,
    "start_time": "2023-04-27T11:47:09.068Z"
   },
   {
    "duration": 167,
    "start_time": "2023-04-27T11:47:09.912Z"
   },
   {
    "duration": 6,
    "start_time": "2023-04-27T11:47:10.081Z"
   },
   {
    "duration": 154,
    "start_time": "2023-04-27T11:47:10.089Z"
   },
   {
    "duration": 11,
    "start_time": "2023-04-27T11:47:10.245Z"
   },
   {
    "duration": 54,
    "start_time": "2023-04-27T11:47:10.257Z"
   },
   {
    "duration": 37,
    "start_time": "2023-04-27T11:47:10.313Z"
   },
   {
    "duration": 114,
    "start_time": "2023-04-27T11:47:10.351Z"
   },
   {
    "duration": 159,
    "start_time": "2023-04-27T11:47:10.467Z"
   },
   {
    "duration": 30,
    "start_time": "2023-04-27T11:47:10.628Z"
   },
   {
    "duration": 83,
    "start_time": "2023-04-27T11:47:10.660Z"
   },
   {
    "duration": 168,
    "start_time": "2023-04-27T11:47:10.745Z"
   },
   {
    "duration": 51,
    "start_time": "2023-04-27T11:47:10.915Z"
   },
   {
    "duration": 74,
    "start_time": "2023-04-27T11:47:10.968Z"
   },
   {
    "duration": 73,
    "start_time": "2023-04-27T11:47:11.044Z"
   },
   {
    "duration": 13,
    "start_time": "2023-04-27T11:47:11.122Z"
   },
   {
    "duration": 790,
    "start_time": "2023-04-27T11:47:11.137Z"
   },
   {
    "duration": 13,
    "start_time": "2023-04-27T11:47:11.933Z"
   },
   {
    "duration": 56,
    "start_time": "2023-04-27T11:47:11.948Z"
   },
   {
    "duration": 14637,
    "start_time": "2023-04-27T11:47:12.006Z"
   },
   {
    "duration": 3229,
    "start_time": "2023-04-27T11:47:26.645Z"
   },
   {
    "duration": 4,
    "start_time": "2023-04-27T11:47:29.876Z"
   },
   {
    "duration": 1352,
    "start_time": "2023-04-27T11:47:58.134Z"
   },
   {
    "duration": 786,
    "start_time": "2023-04-27T11:47:59.487Z"
   },
   {
    "duration": 160,
    "start_time": "2023-04-27T11:48:00.274Z"
   },
   {
    "duration": 8,
    "start_time": "2023-04-27T11:48:00.437Z"
   },
   {
    "duration": 148,
    "start_time": "2023-04-27T11:48:00.447Z"
   },
   {
    "duration": 12,
    "start_time": "2023-04-27T11:48:00.596Z"
   },
   {
    "duration": 80,
    "start_time": "2023-04-27T11:48:00.609Z"
   },
   {
    "duration": 36,
    "start_time": "2023-04-27T11:48:00.691Z"
   },
   {
    "duration": 120,
    "start_time": "2023-04-27T11:48:00.728Z"
   },
   {
    "duration": 186,
    "start_time": "2023-04-27T11:48:00.851Z"
   },
   {
    "duration": 28,
    "start_time": "2023-04-27T11:48:01.039Z"
   },
   {
    "duration": 90,
    "start_time": "2023-04-27T11:48:01.068Z"
   },
   {
    "duration": 207,
    "start_time": "2023-04-27T11:48:01.159Z"
   },
   {
    "duration": 43,
    "start_time": "2023-04-27T11:48:01.368Z"
   },
   {
    "duration": 123,
    "start_time": "2023-04-27T11:48:01.412Z"
   },
   {
    "duration": 146,
    "start_time": "2023-04-27T11:48:01.537Z"
   },
   {
    "duration": 15,
    "start_time": "2023-04-27T11:48:01.685Z"
   },
   {
    "duration": 768,
    "start_time": "2023-04-27T11:48:01.701Z"
   },
   {
    "duration": 13,
    "start_time": "2023-04-27T11:48:02.470Z"
   },
   {
    "duration": 143,
    "start_time": "2023-04-27T11:48:02.484Z"
   },
   {
    "duration": 15656,
    "start_time": "2023-04-27T11:48:02.629Z"
   },
   {
    "duration": 3312,
    "start_time": "2023-04-27T11:48:18.288Z"
   },
   {
    "duration": 3,
    "start_time": "2023-04-27T11:48:21.602Z"
   },
   {
    "duration": 1465,
    "start_time": "2023-04-27T11:48:55.929Z"
   },
   {
    "duration": 762,
    "start_time": "2023-04-27T11:48:57.396Z"
   },
   {
    "duration": 149,
    "start_time": "2023-04-27T11:48:58.160Z"
   },
   {
    "duration": 5,
    "start_time": "2023-04-27T11:48:58.311Z"
   },
   {
    "duration": 125,
    "start_time": "2023-04-27T11:48:58.318Z"
   },
   {
    "duration": 10,
    "start_time": "2023-04-27T11:48:58.445Z"
   },
   {
    "duration": 31,
    "start_time": "2023-04-27T11:48:58.456Z"
   },
   {
    "duration": 48,
    "start_time": "2023-04-27T11:48:58.489Z"
   },
   {
    "duration": 82,
    "start_time": "2023-04-27T11:48:58.539Z"
   },
   {
    "duration": 158,
    "start_time": "2023-04-27T11:48:58.634Z"
   },
   {
    "duration": 24,
    "start_time": "2023-04-27T11:48:58.794Z"
   },
   {
    "duration": 75,
    "start_time": "2023-04-27T11:48:58.819Z"
   },
   {
    "duration": 167,
    "start_time": "2023-04-27T11:48:58.896Z"
   },
   {
    "duration": 42,
    "start_time": "2023-04-27T11:48:59.065Z"
   },
   {
    "duration": 86,
    "start_time": "2023-04-27T11:48:59.109Z"
   },
   {
    "duration": 86,
    "start_time": "2023-04-27T11:48:59.197Z"
   },
   {
    "duration": 13,
    "start_time": "2023-04-27T11:48:59.285Z"
   },
   {
    "duration": 712,
    "start_time": "2023-04-27T11:48:59.300Z"
   },
   {
    "duration": 21,
    "start_time": "2023-04-27T11:49:00.014Z"
   },
   {
    "duration": 63,
    "start_time": "2023-04-27T11:49:00.036Z"
   },
   {
    "duration": 14540,
    "start_time": "2023-04-27T11:49:00.101Z"
   },
   {
    "duration": 3569,
    "start_time": "2023-04-27T11:49:14.644Z"
   },
   {
    "duration": 1570,
    "start_time": "2023-04-27T11:50:45.004Z"
   },
   {
    "duration": 852,
    "start_time": "2023-04-27T11:50:46.576Z"
   },
   {
    "duration": 174,
    "start_time": "2023-04-27T11:50:47.429Z"
   },
   {
    "duration": 6,
    "start_time": "2023-04-27T11:50:47.605Z"
   },
   {
    "duration": 188,
    "start_time": "2023-04-27T11:50:47.612Z"
   },
   {
    "duration": 11,
    "start_time": "2023-04-27T11:50:47.802Z"
   },
   {
    "duration": 47,
    "start_time": "2023-04-27T11:50:47.814Z"
   },
   {
    "duration": 33,
    "start_time": "2023-04-27T11:50:47.863Z"
   },
   {
    "duration": 106,
    "start_time": "2023-04-27T11:50:47.898Z"
   },
   {
    "duration": 184,
    "start_time": "2023-04-27T11:50:48.006Z"
   },
   {
    "duration": 28,
    "start_time": "2023-04-27T11:50:48.193Z"
   },
   {
    "duration": 89,
    "start_time": "2023-04-27T11:50:48.235Z"
   },
   {
    "duration": 172,
    "start_time": "2023-04-27T11:50:48.334Z"
   },
   {
    "duration": 54,
    "start_time": "2023-04-27T11:50:48.507Z"
   },
   {
    "duration": 78,
    "start_time": "2023-04-27T11:50:48.564Z"
   },
   {
    "duration": 99,
    "start_time": "2023-04-27T11:50:48.644Z"
   },
   {
    "duration": 3,
    "start_time": "2023-04-27T11:50:48.745Z"
   },
   {
    "duration": 790,
    "start_time": "2023-04-27T11:50:48.749Z"
   },
   {
    "duration": 15,
    "start_time": "2023-04-27T11:50:49.541Z"
   },
   {
    "duration": 59,
    "start_time": "2023-04-27T11:50:49.557Z"
   },
   {
    "duration": 13920,
    "start_time": "2023-04-27T11:50:49.618Z"
   },
   {
    "duration": 3365,
    "start_time": "2023-04-27T11:51:03.541Z"
   },
   {
    "duration": 1437,
    "start_time": "2023-04-27T12:28:53.912Z"
   },
   {
    "duration": 810,
    "start_time": "2023-04-27T12:28:55.351Z"
   },
   {
    "duration": 151,
    "start_time": "2023-04-27T12:28:56.163Z"
   },
   {
    "duration": 5,
    "start_time": "2023-04-27T12:28:56.316Z"
   },
   {
    "duration": 275,
    "start_time": "2023-04-27T12:28:56.323Z"
   },
   {
    "duration": 14,
    "start_time": "2023-04-27T12:28:56.600Z"
   },
   {
    "duration": 47,
    "start_time": "2023-04-27T12:28:56.616Z"
   },
   {
    "duration": 32,
    "start_time": "2023-04-27T12:28:56.665Z"
   },
   {
    "duration": 98,
    "start_time": "2023-04-27T12:28:56.699Z"
   },
   {
    "duration": 348,
    "start_time": "2023-04-27T12:28:56.800Z"
   },
   {
    "duration": 25,
    "start_time": "2023-04-27T12:28:57.150Z"
   },
   {
    "duration": 84,
    "start_time": "2023-04-27T12:28:57.176Z"
   },
   {
    "duration": 174,
    "start_time": "2023-04-27T12:28:57.262Z"
   },
   {
    "duration": 43,
    "start_time": "2023-04-27T12:28:57.438Z"
   },
   {
    "duration": 84,
    "start_time": "2023-04-27T12:28:57.483Z"
   },
   {
    "duration": 90,
    "start_time": "2023-04-27T12:28:57.569Z"
   },
   {
    "duration": 3,
    "start_time": "2023-04-27T12:28:57.660Z"
   },
   {
    "duration": 741,
    "start_time": "2023-04-27T12:28:57.665Z"
   },
   {
    "duration": 14,
    "start_time": "2023-04-27T12:28:58.408Z"
   },
   {
    "duration": 63,
    "start_time": "2023-04-27T12:28:58.424Z"
   },
   {
    "duration": 15602,
    "start_time": "2023-04-27T12:28:58.488Z"
   },
   {
    "duration": 3533,
    "start_time": "2023-04-27T12:29:14.091Z"
   },
   {
    "duration": 230,
    "start_time": "2023-04-27T12:29:17.626Z"
   },
   {
    "duration": 596,
    "start_time": "2023-04-27T12:29:17.858Z"
   },
   {
    "duration": 4830,
    "start_time": "2023-04-27T12:29:18.456Z"
   },
   {
    "duration": 778,
    "start_time": "2023-04-27T12:29:23.288Z"
   },
   {
    "duration": 1387,
    "start_time": "2023-04-27T12:29:52.758Z"
   },
   {
    "duration": 824,
    "start_time": "2023-04-27T12:29:54.147Z"
   },
   {
    "duration": 192,
    "start_time": "2023-04-27T12:29:54.973Z"
   },
   {
    "duration": 5,
    "start_time": "2023-04-27T12:29:55.168Z"
   },
   {
    "duration": 149,
    "start_time": "2023-04-27T12:29:55.175Z"
   },
   {
    "duration": 18,
    "start_time": "2023-04-27T12:29:55.326Z"
   },
   {
    "duration": 42,
    "start_time": "2023-04-27T12:29:55.345Z"
   },
   {
    "duration": 30,
    "start_time": "2023-04-27T12:29:55.389Z"
   },
   {
    "duration": 114,
    "start_time": "2023-04-27T12:29:55.421Z"
   },
   {
    "duration": 159,
    "start_time": "2023-04-27T12:29:55.538Z"
   },
   {
    "duration": 36,
    "start_time": "2023-04-27T12:29:55.698Z"
   },
   {
    "duration": 67,
    "start_time": "2023-04-27T12:29:55.736Z"
   },
   {
    "duration": 169,
    "start_time": "2023-04-27T12:29:55.805Z"
   },
   {
    "duration": 45,
    "start_time": "2023-04-27T12:29:55.976Z"
   },
   {
    "duration": 79,
    "start_time": "2023-04-27T12:29:56.023Z"
   },
   {
    "duration": 83,
    "start_time": "2023-04-27T12:29:56.104Z"
   },
   {
    "duration": 3,
    "start_time": "2023-04-27T12:29:56.188Z"
   },
   {
    "duration": 797,
    "start_time": "2023-04-27T12:29:56.192Z"
   },
   {
    "duration": 14,
    "start_time": "2023-04-27T12:29:56.990Z"
   },
   {
    "duration": 92,
    "start_time": "2023-04-27T12:29:57.006Z"
   },
   {
    "duration": 18565,
    "start_time": "2023-04-27T12:29:57.100Z"
   },
   {
    "duration": 3398,
    "start_time": "2023-04-27T12:30:15.667Z"
   },
   {
    "duration": 577,
    "start_time": "2023-04-27T12:30:19.067Z"
   },
   {
    "duration": 5301,
    "start_time": "2023-04-27T12:30:19.647Z"
   },
   {
    "duration": 819,
    "start_time": "2023-04-27T12:30:24.949Z"
   },
   {
    "duration": 112,
    "start_time": "2023-04-27T12:39:52.897Z"
   },
   {
    "duration": 1360,
    "start_time": "2023-04-27T12:40:35.321Z"
   },
   {
    "duration": 766,
    "start_time": "2023-04-27T12:40:36.683Z"
   },
   {
    "duration": 147,
    "start_time": "2023-04-27T12:40:37.450Z"
   },
   {
    "duration": 5,
    "start_time": "2023-04-27T12:40:37.598Z"
   },
   {
    "duration": 149,
    "start_time": "2023-04-27T12:40:37.605Z"
   },
   {
    "duration": 11,
    "start_time": "2023-04-27T12:40:37.756Z"
   },
   {
    "duration": 38,
    "start_time": "2023-04-27T12:40:37.768Z"
   },
   {
    "duration": 41,
    "start_time": "2023-04-27T12:40:37.807Z"
   },
   {
    "duration": 92,
    "start_time": "2023-04-27T12:40:37.850Z"
   },
   {
    "duration": 159,
    "start_time": "2023-04-27T12:40:37.944Z"
   },
   {
    "duration": 24,
    "start_time": "2023-04-27T12:40:38.104Z"
   },
   {
    "duration": 65,
    "start_time": "2023-04-27T12:40:38.135Z"
   },
   {
    "duration": 186,
    "start_time": "2023-04-27T12:40:38.201Z"
   },
   {
    "duration": 52,
    "start_time": "2023-04-27T12:40:38.389Z"
   },
   {
    "duration": 73,
    "start_time": "2023-04-27T12:40:38.443Z"
   },
   {
    "duration": 147,
    "start_time": "2023-04-27T12:40:38.518Z"
   },
   {
    "duration": 335,
    "start_time": "2023-04-27T12:42:55.910Z"
   },
   {
    "duration": 1343,
    "start_time": "2023-04-27T12:43:41.753Z"
   },
   {
    "duration": 852,
    "start_time": "2023-04-27T12:43:43.098Z"
   },
   {
    "duration": 161,
    "start_time": "2023-04-27T12:43:43.952Z"
   },
   {
    "duration": 7,
    "start_time": "2023-04-27T12:43:44.116Z"
   },
   {
    "duration": 131,
    "start_time": "2023-04-27T12:43:44.135Z"
   },
   {
    "duration": 15,
    "start_time": "2023-04-27T12:43:44.268Z"
   },
   {
    "duration": 371,
    "start_time": "2023-04-27T12:43:44.285Z"
   },
   {
    "duration": 41,
    "start_time": "2023-04-27T12:43:44.658Z"
   },
   {
    "duration": 48,
    "start_time": "2023-04-27T12:43:44.701Z"
   },
   {
    "duration": 119,
    "start_time": "2023-04-27T12:43:44.752Z"
   },
   {
    "duration": 175,
    "start_time": "2023-04-27T12:43:44.873Z"
   },
   {
    "duration": 26,
    "start_time": "2023-04-27T12:43:45.051Z"
   },
   {
    "duration": 91,
    "start_time": "2023-04-27T12:43:45.079Z"
   },
   {
    "duration": 289,
    "start_time": "2023-04-27T12:43:45.172Z"
   },
   {
    "duration": 47,
    "start_time": "2023-04-27T12:43:45.463Z"
   },
   {
    "duration": 92,
    "start_time": "2023-04-27T12:43:45.512Z"
   },
   {
    "duration": 146,
    "start_time": "2023-04-27T12:43:45.605Z"
   },
   {
    "duration": 1381,
    "start_time": "2023-04-27T12:48:22.954Z"
   },
   {
    "duration": 823,
    "start_time": "2023-04-27T12:48:24.336Z"
   },
   {
    "duration": 149,
    "start_time": "2023-04-27T12:48:25.161Z"
   },
   {
    "duration": 5,
    "start_time": "2023-04-27T12:48:25.312Z"
   },
   {
    "duration": 146,
    "start_time": "2023-04-27T12:48:25.319Z"
   },
   {
    "duration": 10,
    "start_time": "2023-04-27T12:48:25.467Z"
   },
   {
    "duration": 280,
    "start_time": "2023-04-27T12:48:25.478Z"
   },
   {
    "duration": 34,
    "start_time": "2023-04-27T12:48:25.759Z"
   },
   {
    "duration": 39,
    "start_time": "2023-04-27T12:48:25.795Z"
   },
   {
    "duration": 84,
    "start_time": "2023-04-27T12:48:25.836Z"
   },
   {
    "duration": 156,
    "start_time": "2023-04-27T12:48:25.922Z"
   },
   {
    "duration": 24,
    "start_time": "2023-04-27T12:48:26.080Z"
   },
   {
    "duration": 79,
    "start_time": "2023-04-27T12:48:26.105Z"
   },
   {
    "duration": 218,
    "start_time": "2023-04-27T12:48:26.185Z"
   },
   {
    "duration": 44,
    "start_time": "2023-04-27T12:48:26.404Z"
   },
   {
    "duration": 64,
    "start_time": "2023-04-27T12:48:26.449Z"
   },
   {
    "duration": 3,
    "start_time": "2023-04-27T12:48:26.515Z"
   },
   {
    "duration": 112,
    "start_time": "2023-04-27T12:48:26.535Z"
   },
   {
    "duration": 0,
    "start_time": "2023-04-27T12:48:26.649Z"
   },
   {
    "duration": 1333,
    "start_time": "2023-04-27T12:49:22.877Z"
   },
   {
    "duration": 798,
    "start_time": "2023-04-27T12:49:24.212Z"
   },
   {
    "duration": 148,
    "start_time": "2023-04-27T12:49:25.012Z"
   },
   {
    "duration": 7,
    "start_time": "2023-04-27T12:49:25.162Z"
   },
   {
    "duration": 143,
    "start_time": "2023-04-27T12:49:25.171Z"
   },
   {
    "duration": 22,
    "start_time": "2023-04-27T12:49:25.315Z"
   },
   {
    "duration": 300,
    "start_time": "2023-04-27T12:49:25.339Z"
   },
   {
    "duration": 36,
    "start_time": "2023-04-27T12:49:25.641Z"
   },
   {
    "duration": 29,
    "start_time": "2023-04-27T12:49:25.679Z"
   },
   {
    "duration": 110,
    "start_time": "2023-04-27T12:49:25.710Z"
   },
   {
    "duration": 167,
    "start_time": "2023-04-27T12:49:25.821Z"
   },
   {
    "duration": 28,
    "start_time": "2023-04-27T12:49:25.990Z"
   },
   {
    "duration": 84,
    "start_time": "2023-04-27T12:49:26.020Z"
   },
   {
    "duration": 238,
    "start_time": "2023-04-27T12:49:26.107Z"
   },
   {
    "duration": 47,
    "start_time": "2023-04-27T12:49:26.347Z"
   },
   {
    "duration": 82,
    "start_time": "2023-04-27T12:49:26.396Z"
   },
   {
    "duration": 3,
    "start_time": "2023-04-27T12:49:26.480Z"
   },
   {
    "duration": 136,
    "start_time": "2023-04-27T12:49:26.484Z"
   },
   {
    "duration": 0,
    "start_time": "2023-04-27T12:49:26.622Z"
   },
   {
    "duration": 1517,
    "start_time": "2023-04-27T12:50:42.351Z"
   },
   {
    "duration": 873,
    "start_time": "2023-04-27T12:50:43.870Z"
   },
   {
    "duration": 196,
    "start_time": "2023-04-27T12:50:44.745Z"
   },
   {
    "duration": 6,
    "start_time": "2023-04-27T12:50:44.943Z"
   },
   {
    "duration": 158,
    "start_time": "2023-04-27T12:50:44.951Z"
   },
   {
    "duration": 12,
    "start_time": "2023-04-27T12:50:45.111Z"
   },
   {
    "duration": 352,
    "start_time": "2023-04-27T12:50:45.135Z"
   },
   {
    "duration": 51,
    "start_time": "2023-04-27T12:50:45.488Z"
   },
   {
    "duration": 38,
    "start_time": "2023-04-27T12:50:45.541Z"
   },
   {
    "duration": 113,
    "start_time": "2023-04-27T12:50:45.581Z"
   },
   {
    "duration": 172,
    "start_time": "2023-04-27T12:50:45.696Z"
   },
   {
    "duration": 29,
    "start_time": "2023-04-27T12:50:45.870Z"
   },
   {
    "duration": 104,
    "start_time": "2023-04-27T12:50:45.900Z"
   },
   {
    "duration": 249,
    "start_time": "2023-04-27T12:50:46.005Z"
   },
   {
    "duration": 43,
    "start_time": "2023-04-27T12:50:46.255Z"
   },
   {
    "duration": 113,
    "start_time": "2023-04-27T12:50:46.299Z"
   },
   {
    "duration": 3,
    "start_time": "2023-04-27T12:50:46.413Z"
   },
   {
    "duration": 179,
    "start_time": "2023-04-27T12:50:46.417Z"
   },
   {
    "duration": 0,
    "start_time": "2023-04-27T12:50:46.598Z"
   },
   {
    "duration": 3,
    "start_time": "2023-04-27T12:51:33.500Z"
   },
   {
    "duration": 24,
    "start_time": "2023-04-27T12:51:34.472Z"
   },
   {
    "duration": 1316,
    "start_time": "2023-04-27T12:51:58.383Z"
   },
   {
    "duration": 791,
    "start_time": "2023-04-27T12:51:59.701Z"
   },
   {
    "duration": 155,
    "start_time": "2023-04-27T12:52:00.493Z"
   },
   {
    "duration": 6,
    "start_time": "2023-04-27T12:52:00.650Z"
   },
   {
    "duration": 229,
    "start_time": "2023-04-27T12:52:00.657Z"
   },
   {
    "duration": 14,
    "start_time": "2023-04-27T12:52:00.888Z"
   },
   {
    "duration": 351,
    "start_time": "2023-04-27T12:52:00.904Z"
   },
   {
    "duration": 36,
    "start_time": "2023-04-27T12:52:01.257Z"
   },
   {
    "duration": 40,
    "start_time": "2023-04-27T12:52:01.295Z"
   },
   {
    "duration": 110,
    "start_time": "2023-04-27T12:52:01.338Z"
   },
   {
    "duration": 155,
    "start_time": "2023-04-27T12:52:01.450Z"
   },
   {
    "duration": 33,
    "start_time": "2023-04-27T12:52:01.607Z"
   },
   {
    "duration": 120,
    "start_time": "2023-04-27T12:52:01.642Z"
   },
   {
    "duration": 263,
    "start_time": "2023-04-27T12:52:01.763Z"
   },
   {
    "duration": 41,
    "start_time": "2023-04-27T12:52:02.028Z"
   },
   {
    "duration": 104,
    "start_time": "2023-04-27T12:52:02.071Z"
   },
   {
    "duration": 51,
    "start_time": "2023-04-27T12:52:02.177Z"
   },
   {
    "duration": 163,
    "start_time": "2023-04-27T12:52:02.230Z"
   },
   {
    "duration": 0,
    "start_time": "2023-04-27T12:52:02.395Z"
   },
   {
    "duration": 1606,
    "start_time": "2023-04-27T12:55:04.546Z"
   },
   {
    "duration": 824,
    "start_time": "2023-04-27T12:55:06.153Z"
   },
   {
    "duration": 156,
    "start_time": "2023-04-27T12:55:06.979Z"
   },
   {
    "duration": 114,
    "start_time": "2023-04-27T12:55:07.137Z"
   },
   {
    "duration": 126,
    "start_time": "2023-04-27T12:55:20.299Z"
   },
   {
    "duration": 123,
    "start_time": "2023-04-27T12:57:59.811Z"
   },
   {
    "duration": 12,
    "start_time": "2023-04-27T12:58:48.479Z"
   },
   {
    "duration": 9,
    "start_time": "2023-04-27T12:59:21.744Z"
   },
   {
    "duration": 9,
    "start_time": "2023-04-27T12:59:25.556Z"
   },
   {
    "duration": 10,
    "start_time": "2023-04-27T12:59:26.610Z"
   },
   {
    "duration": 11,
    "start_time": "2023-04-27T12:59:50.809Z"
   },
   {
    "duration": 301,
    "start_time": "2023-04-27T12:59:56.684Z"
   },
   {
    "duration": 35,
    "start_time": "2023-04-27T13:02:52.233Z"
   },
   {
    "duration": 14,
    "start_time": "2023-04-27T13:02:52.750Z"
   },
   {
    "duration": 1405,
    "start_time": "2023-04-27T13:03:29.906Z"
   },
   {
    "duration": 776,
    "start_time": "2023-04-27T13:03:31.313Z"
   },
   {
    "duration": 144,
    "start_time": "2023-04-27T13:03:32.090Z"
   },
   {
    "duration": 122,
    "start_time": "2023-04-27T13:03:32.236Z"
   },
   {
    "duration": 129,
    "start_time": "2023-04-27T13:03:32.360Z"
   },
   {
    "duration": 13,
    "start_time": "2023-04-27T13:03:32.491Z"
   },
   {
    "duration": 322,
    "start_time": "2023-04-27T13:03:32.505Z"
   },
   {
    "duration": 25,
    "start_time": "2023-04-27T13:03:32.834Z"
   },
   {
    "duration": 112,
    "start_time": "2023-04-27T13:03:32.861Z"
   },
   {
    "duration": 0,
    "start_time": "2023-04-27T13:03:32.975Z"
   },
   {
    "duration": 0,
    "start_time": "2023-04-27T13:03:32.976Z"
   },
   {
    "duration": 1332,
    "start_time": "2023-04-27T13:04:01.682Z"
   },
   {
    "duration": 775,
    "start_time": "2023-04-27T13:04:03.016Z"
   },
   {
    "duration": 160,
    "start_time": "2023-04-27T13:04:03.793Z"
   },
   {
    "duration": 130,
    "start_time": "2023-04-27T13:04:03.955Z"
   },
   {
    "duration": 128,
    "start_time": "2023-04-27T13:04:04.088Z"
   },
   {
    "duration": 21,
    "start_time": "2023-04-27T13:04:04.218Z"
   },
   {
    "duration": 330,
    "start_time": "2023-04-27T13:04:04.241Z"
   },
   {
    "duration": 32,
    "start_time": "2023-04-27T13:04:04.572Z"
   },
   {
    "duration": 159,
    "start_time": "2023-04-27T13:04:04.605Z"
   },
   {
    "duration": 51,
    "start_time": "2023-04-27T13:04:04.765Z"
   },
   {
    "duration": 0,
    "start_time": "2023-04-27T13:04:04.818Z"
   },
   {
    "duration": 92,
    "start_time": "2023-04-27T13:06:45.562Z"
   },
   {
    "duration": 88,
    "start_time": "2023-04-27T13:18:30.810Z"
   },
   {
    "duration": 11,
    "start_time": "2023-04-27T13:18:31.253Z"
   },
   {
    "duration": 9,
    "start_time": "2023-04-27T13:18:37.903Z"
   },
   {
    "duration": 10,
    "start_time": "2023-04-27T13:19:50.577Z"
   },
   {
    "duration": 8,
    "start_time": "2023-04-27T13:19:58.355Z"
   },
   {
    "duration": 6,
    "start_time": "2023-04-27T13:20:06.871Z"
   },
   {
    "duration": 9,
    "start_time": "2023-04-27T13:21:29.942Z"
   },
   {
    "duration": 6,
    "start_time": "2023-04-27T13:21:30.596Z"
   },
   {
    "duration": 26,
    "start_time": "2023-04-27T13:21:32.050Z"
   },
   {
    "duration": 9,
    "start_time": "2023-04-27T13:21:33.055Z"
   },
   {
    "duration": 1472,
    "start_time": "2023-04-27T13:27:29.857Z"
   },
   {
    "duration": 782,
    "start_time": "2023-04-27T13:27:31.331Z"
   },
   {
    "duration": 150,
    "start_time": "2023-04-27T13:27:32.115Z"
   },
   {
    "duration": 133,
    "start_time": "2023-04-27T13:27:32.267Z"
   },
   {
    "duration": 109,
    "start_time": "2023-04-27T13:27:32.401Z"
   },
   {
    "duration": 24,
    "start_time": "2023-04-27T13:27:32.512Z"
   },
   {
    "duration": 16,
    "start_time": "2023-04-27T13:27:32.538Z"
   },
   {
    "duration": 344,
    "start_time": "2023-04-27T13:27:32.556Z"
   },
   {
    "duration": 39,
    "start_time": "2023-04-27T13:27:32.902Z"
   },
   {
    "duration": 151,
    "start_time": "2023-04-27T13:27:32.944Z"
   },
   {
    "duration": 27,
    "start_time": "2023-04-27T13:27:33.096Z"
   },
   {
    "duration": 91,
    "start_time": "2023-04-27T13:27:33.124Z"
   },
   {
    "duration": 45,
    "start_time": "2023-04-27T13:27:33.216Z"
   },
   {
    "duration": 59,
    "start_time": "2023-04-27T13:43:00.537Z"
   },
   {
    "duration": 61,
    "start_time": "2023-04-27T13:43:40.673Z"
   },
   {
    "duration": 53,
    "start_time": "2023-04-27T13:43:50.552Z"
   },
   {
    "duration": 84,
    "start_time": "2023-04-27T13:47:16.052Z"
   },
   {
    "duration": 127,
    "start_time": "2023-04-27T13:47:25.325Z"
   },
   {
    "duration": 56,
    "start_time": "2023-04-27T13:47:34.018Z"
   },
   {
    "duration": 139,
    "start_time": "2023-04-27T13:47:40.175Z"
   },
   {
    "duration": 1336,
    "start_time": "2023-04-27T13:55:45.381Z"
   },
   {
    "duration": 830,
    "start_time": "2023-04-27T13:55:46.720Z"
   },
   {
    "duration": 150,
    "start_time": "2023-04-27T13:55:47.551Z"
   },
   {
    "duration": 140,
    "start_time": "2023-04-27T13:55:47.704Z"
   },
   {
    "duration": 89,
    "start_time": "2023-04-27T13:55:47.846Z"
   },
   {
    "duration": 2,
    "start_time": "2023-04-27T13:55:47.937Z"
   },
   {
    "duration": 15,
    "start_time": "2023-04-27T13:55:47.941Z"
   },
   {
    "duration": 7,
    "start_time": "2023-04-27T13:55:47.957Z"
   },
   {
    "duration": 55,
    "start_time": "2023-04-27T13:55:47.966Z"
   },
   {
    "duration": 2,
    "start_time": "2023-04-27T13:55:48.023Z"
   },
   {
    "duration": 123,
    "start_time": "2023-04-27T13:55:48.034Z"
   },
   {
    "duration": 8,
    "start_time": "2023-04-27T13:55:48.158Z"
   },
   {
    "duration": 18,
    "start_time": "2023-04-27T13:55:48.167Z"
   },
   {
    "duration": 321,
    "start_time": "2023-04-27T13:55:48.187Z"
   },
   {
    "duration": 28,
    "start_time": "2023-04-27T13:55:48.509Z"
   },
   {
    "duration": 149,
    "start_time": "2023-04-27T13:55:48.539Z"
   },
   {
    "duration": 21,
    "start_time": "2023-04-27T13:55:48.690Z"
   },
   {
    "duration": 77,
    "start_time": "2023-04-27T13:55:48.712Z"
   },
   {
    "duration": 1355,
    "start_time": "2023-04-27T13:57:43.474Z"
   },
   {
    "duration": 859,
    "start_time": "2023-04-27T13:57:44.831Z"
   },
   {
    "duration": 159,
    "start_time": "2023-04-27T13:57:45.691Z"
   },
   {
    "duration": 141,
    "start_time": "2023-04-27T13:57:45.853Z"
   },
   {
    "duration": 94,
    "start_time": "2023-04-27T13:57:45.996Z"
   },
   {
    "duration": 3,
    "start_time": "2023-04-27T13:57:46.091Z"
   },
   {
    "duration": 15,
    "start_time": "2023-04-27T13:57:46.095Z"
   },
   {
    "duration": 12,
    "start_time": "2023-04-27T13:57:46.111Z"
   },
   {
    "duration": 61,
    "start_time": "2023-04-27T13:57:46.125Z"
   },
   {
    "duration": 3,
    "start_time": "2023-04-27T13:57:46.188Z"
   },
   {
    "duration": 144,
    "start_time": "2023-04-27T13:57:46.192Z"
   },
   {
    "duration": 8,
    "start_time": "2023-04-27T13:57:46.338Z"
   },
   {
    "duration": 19,
    "start_time": "2023-04-27T13:57:46.347Z"
   },
   {
    "duration": 336,
    "start_time": "2023-04-27T13:57:46.367Z"
   },
   {
    "duration": 31,
    "start_time": "2023-04-27T13:57:46.705Z"
   },
   {
    "duration": 153,
    "start_time": "2023-04-27T13:57:46.738Z"
   },
   {
    "duration": 21,
    "start_time": "2023-04-27T13:57:46.893Z"
   },
   {
    "duration": 1034,
    "start_time": "2023-04-27T13:57:46.916Z"
   },
   {
    "duration": 490,
    "start_time": "2023-04-27T13:57:47.951Z"
   },
   {
    "duration": 1444,
    "start_time": "2023-04-27T13:58:39.857Z"
   },
   {
    "duration": 859,
    "start_time": "2023-04-27T13:58:41.303Z"
   },
   {
    "duration": 157,
    "start_time": "2023-04-27T13:58:42.164Z"
   },
   {
    "duration": 147,
    "start_time": "2023-04-27T13:58:42.323Z"
   },
   {
    "duration": 96,
    "start_time": "2023-04-27T13:58:42.473Z"
   },
   {
    "duration": 3,
    "start_time": "2023-04-27T13:58:42.572Z"
   },
   {
    "duration": 12,
    "start_time": "2023-04-27T13:58:42.576Z"
   },
   {
    "duration": 5,
    "start_time": "2023-04-27T13:58:42.589Z"
   },
   {
    "duration": 76,
    "start_time": "2023-04-27T13:58:42.596Z"
   },
   {
    "duration": 2,
    "start_time": "2023-04-27T13:58:42.674Z"
   },
   {
    "duration": 150,
    "start_time": "2023-04-27T13:58:42.678Z"
   },
   {
    "duration": 9,
    "start_time": "2023-04-27T13:58:42.834Z"
   },
   {
    "duration": 11,
    "start_time": "2023-04-27T13:58:42.845Z"
   },
   {
    "duration": 378,
    "start_time": "2023-04-27T13:58:42.859Z"
   },
   {
    "duration": 23,
    "start_time": "2023-04-27T13:58:43.238Z"
   },
   {
    "duration": 196,
    "start_time": "2023-04-27T13:58:43.263Z"
   },
   {
    "duration": 23,
    "start_time": "2023-04-27T13:58:43.461Z"
   },
   {
    "duration": 1111,
    "start_time": "2023-04-27T13:58:43.486Z"
   },
   {
    "duration": 505,
    "start_time": "2023-04-27T13:58:44.599Z"
   },
   {
    "duration": 106730,
    "start_time": "2023-04-27T13:58:45.107Z"
   },
   {
    "duration": 1373,
    "start_time": "2023-04-27T14:03:21.546Z"
   },
   {
    "duration": 789,
    "start_time": "2023-04-27T14:03:22.921Z"
   },
   {
    "duration": 149,
    "start_time": "2023-04-27T14:03:23.714Z"
   },
   {
    "duration": 129,
    "start_time": "2023-04-27T14:03:23.864Z"
   },
   {
    "duration": 78,
    "start_time": "2023-04-27T14:03:23.994Z"
   },
   {
    "duration": 5,
    "start_time": "2023-04-27T14:03:24.074Z"
   },
   {
    "duration": 10,
    "start_time": "2023-04-27T14:03:24.080Z"
   },
   {
    "duration": 5,
    "start_time": "2023-04-27T14:03:24.091Z"
   },
   {
    "duration": 55,
    "start_time": "2023-04-27T14:03:24.098Z"
   },
   {
    "duration": 3,
    "start_time": "2023-04-27T14:03:24.155Z"
   },
   {
    "duration": 140,
    "start_time": "2023-04-27T14:03:24.159Z"
   },
   {
    "duration": 9,
    "start_time": "2023-04-27T14:03:24.301Z"
   },
   {
    "duration": 5,
    "start_time": "2023-04-27T14:03:24.311Z"
   },
   {
    "duration": 367,
    "start_time": "2023-04-27T14:03:24.317Z"
   },
   {
    "duration": 22,
    "start_time": "2023-04-27T14:03:24.686Z"
   },
   {
    "duration": 169,
    "start_time": "2023-04-27T14:03:24.711Z"
   },
   {
    "duration": 23,
    "start_time": "2023-04-27T14:03:24.881Z"
   },
   {
    "duration": 1038,
    "start_time": "2023-04-27T14:03:24.905Z"
   },
   {
    "duration": 471,
    "start_time": "2023-04-27T14:03:25.945Z"
   },
   {
    "duration": 1370,
    "start_time": "2023-04-27T14:03:55.418Z"
   },
   {
    "duration": 767,
    "start_time": "2023-04-27T14:03:56.790Z"
   },
   {
    "duration": 143,
    "start_time": "2023-04-27T14:03:57.559Z"
   },
   {
    "duration": 127,
    "start_time": "2023-04-27T14:03:57.704Z"
   },
   {
    "duration": 79,
    "start_time": "2023-04-27T14:03:57.835Z"
   },
   {
    "duration": 20,
    "start_time": "2023-04-27T14:03:57.915Z"
   },
   {
    "duration": 13,
    "start_time": "2023-04-27T14:03:57.937Z"
   },
   {
    "duration": 6,
    "start_time": "2023-04-27T14:03:57.952Z"
   },
   {
    "duration": 63,
    "start_time": "2023-04-27T14:03:57.960Z"
   },
   {
    "duration": 2,
    "start_time": "2023-04-27T14:03:58.025Z"
   },
   {
    "duration": 124,
    "start_time": "2023-04-27T14:03:58.029Z"
   },
   {
    "duration": 9,
    "start_time": "2023-04-27T14:03:58.154Z"
   },
   {
    "duration": 6,
    "start_time": "2023-04-27T14:03:58.165Z"
   },
   {
    "duration": 331,
    "start_time": "2023-04-27T14:03:58.173Z"
   },
   {
    "duration": 30,
    "start_time": "2023-04-27T14:03:58.505Z"
   },
   {
    "duration": 148,
    "start_time": "2023-04-27T14:03:58.536Z"
   },
   {
    "duration": 24,
    "start_time": "2023-04-27T14:03:58.686Z"
   },
   {
    "duration": 1027,
    "start_time": "2023-04-27T14:03:58.712Z"
   },
   {
    "duration": 474,
    "start_time": "2023-04-27T14:03:59.741Z"
   },
   {
    "duration": 1923,
    "start_time": "2023-04-27T14:09:21.875Z"
   },
   {
    "duration": 1128,
    "start_time": "2023-04-27T14:09:23.800Z"
   },
   {
    "duration": 148,
    "start_time": "2023-04-27T14:09:24.930Z"
   },
   {
    "duration": 136,
    "start_time": "2023-04-27T14:09:25.080Z"
   },
   {
    "duration": 90,
    "start_time": "2023-04-27T14:09:25.218Z"
   },
   {
    "duration": 2,
    "start_time": "2023-04-27T14:09:25.310Z"
   },
   {
    "duration": 20,
    "start_time": "2023-04-27T14:09:25.314Z"
   },
   {
    "duration": 2,
    "start_time": "2023-04-27T14:09:25.336Z"
   },
   {
    "duration": 67,
    "start_time": "2023-04-27T14:09:25.339Z"
   },
   {
    "duration": 3,
    "start_time": "2023-04-27T14:09:25.407Z"
   },
   {
    "duration": 143,
    "start_time": "2023-04-27T14:09:25.411Z"
   },
   {
    "duration": 8,
    "start_time": "2023-04-27T14:09:25.556Z"
   },
   {
    "duration": 15,
    "start_time": "2023-04-27T14:09:25.565Z"
   },
   {
    "duration": 327,
    "start_time": "2023-04-27T14:09:25.583Z"
   },
   {
    "duration": 32,
    "start_time": "2023-04-27T14:09:25.911Z"
   },
   {
    "duration": 148,
    "start_time": "2023-04-27T14:09:25.944Z"
   },
   {
    "duration": 21,
    "start_time": "2023-04-27T14:09:26.093Z"
   },
   {
    "duration": 3,
    "start_time": "2023-04-27T14:09:26.116Z"
   },
   {
    "duration": 124,
    "start_time": "2023-04-27T14:09:26.134Z"
   },
   {
    "duration": 0,
    "start_time": "2023-04-27T14:09:26.259Z"
   },
   {
    "duration": 0,
    "start_time": "2023-04-27T14:09:26.261Z"
   },
   {
    "duration": 0,
    "start_time": "2023-04-27T14:09:26.262Z"
   },
   {
    "duration": 2,
    "start_time": "2023-04-27T14:09:42.275Z"
   },
   {
    "duration": 1014,
    "start_time": "2023-04-27T14:09:43.937Z"
   },
   {
    "duration": 1443,
    "start_time": "2023-04-27T14:16:09.618Z"
   },
   {
    "duration": 784,
    "start_time": "2023-04-27T14:16:11.063Z"
   },
   {
    "duration": 149,
    "start_time": "2023-04-27T14:16:11.849Z"
   },
   {
    "duration": 135,
    "start_time": "2023-04-27T14:16:12.000Z"
   },
   {
    "duration": 75,
    "start_time": "2023-04-27T14:16:12.136Z"
   },
   {
    "duration": 22,
    "start_time": "2023-04-27T14:16:12.212Z"
   },
   {
    "duration": 2,
    "start_time": "2023-04-27T14:16:12.235Z"
   },
   {
    "duration": 7,
    "start_time": "2023-04-27T14:16:12.239Z"
   },
   {
    "duration": 54,
    "start_time": "2023-04-27T14:16:12.248Z"
   },
   {
    "duration": 2,
    "start_time": "2023-04-27T14:16:12.304Z"
   },
   {
    "duration": 135,
    "start_time": "2023-04-27T14:16:12.307Z"
   },
   {
    "duration": 8,
    "start_time": "2023-04-27T14:16:12.443Z"
   },
   {
    "duration": 9,
    "start_time": "2023-04-27T14:16:12.452Z"
   },
   {
    "duration": 309,
    "start_time": "2023-04-27T14:16:12.464Z"
   },
   {
    "duration": 20,
    "start_time": "2023-04-27T14:16:12.775Z"
   },
   {
    "duration": 156,
    "start_time": "2023-04-27T14:16:12.796Z"
   },
   {
    "duration": 22,
    "start_time": "2023-04-27T14:16:12.954Z"
   },
   {
    "duration": 13,
    "start_time": "2023-04-27T14:16:12.978Z"
   },
   {
    "duration": 632,
    "start_time": "2023-04-27T14:16:12.993Z"
   },
   {
    "duration": 446,
    "start_time": "2023-04-27T14:16:13.627Z"
   },
   {
    "duration": 109,
    "start_time": "2023-04-27T14:16:14.075Z"
   },
   {
    "duration": 422,
    "start_time": "2023-04-27T14:16:14.186Z"
   },
   {
    "duration": 4,
    "start_time": "2023-04-27T14:16:14.610Z"
   },
   {
    "duration": 25,
    "start_time": "2023-04-27T14:16:14.615Z"
   },
   {
    "duration": 15,
    "start_time": "2023-04-27T14:16:14.641Z"
   },
   {
    "duration": 22,
    "start_time": "2023-04-27T14:16:14.657Z"
   },
   {
    "duration": 137,
    "start_time": "2023-04-27T14:16:14.680Z"
   },
   {
    "duration": 2267,
    "start_time": "2023-04-27T14:16:14.819Z"
   },
   {
    "duration": 2,
    "start_time": "2023-04-27T14:16:17.088Z"
   },
   {
    "duration": 187,
    "start_time": "2023-04-27T14:16:17.092Z"
   },
   {
    "duration": 66,
    "start_time": "2023-04-27T14:16:35.039Z"
   },
   {
    "duration": 1542,
    "start_time": "2023-04-27T14:17:13.579Z"
   },
   {
    "duration": 884,
    "start_time": "2023-04-27T14:17:15.123Z"
   },
   {
    "duration": 158,
    "start_time": "2023-04-27T14:17:16.008Z"
   },
   {
    "duration": 139,
    "start_time": "2023-04-27T14:17:16.168Z"
   },
   {
    "duration": 90,
    "start_time": "2023-04-27T14:17:16.309Z"
   },
   {
    "duration": 3,
    "start_time": "2023-04-27T14:17:16.401Z"
   },
   {
    "duration": 5,
    "start_time": "2023-04-27T14:17:16.405Z"
   },
   {
    "duration": 16,
    "start_time": "2023-04-27T14:17:16.411Z"
   },
   {
    "duration": 52,
    "start_time": "2023-04-27T14:17:16.434Z"
   },
   {
    "duration": 3,
    "start_time": "2023-04-27T14:17:16.487Z"
   },
   {
    "duration": 139,
    "start_time": "2023-04-27T14:17:16.492Z"
   },
   {
    "duration": 8,
    "start_time": "2023-04-27T14:17:16.634Z"
   },
   {
    "duration": 4,
    "start_time": "2023-04-27T14:17:16.644Z"
   },
   {
    "duration": 353,
    "start_time": "2023-04-27T14:17:16.650Z"
   },
   {
    "duration": 35,
    "start_time": "2023-04-27T14:17:17.006Z"
   },
   {
    "duration": 173,
    "start_time": "2023-04-27T14:17:17.043Z"
   },
   {
    "duration": 25,
    "start_time": "2023-04-27T14:17:17.218Z"
   },
   {
    "duration": 14,
    "start_time": "2023-04-27T14:17:17.244Z"
   },
   {
    "duration": 636,
    "start_time": "2023-04-27T14:17:17.260Z"
   },
   {
    "duration": 451,
    "start_time": "2023-04-27T14:17:17.898Z"
   },
   {
    "duration": 116,
    "start_time": "2023-04-27T14:17:18.351Z"
   },
   {
    "duration": 441,
    "start_time": "2023-04-27T14:17:18.469Z"
   },
   {
    "duration": 4,
    "start_time": "2023-04-27T14:17:18.912Z"
   },
   {
    "duration": 7,
    "start_time": "2023-04-27T14:17:18.917Z"
   },
   {
    "duration": 3,
    "start_time": "2023-04-27T14:17:18.935Z"
   },
   {
    "duration": 6,
    "start_time": "2023-04-27T14:17:18.940Z"
   },
   {
    "duration": 51,
    "start_time": "2023-04-27T14:17:18.947Z"
   },
   {
    "duration": 2234,
    "start_time": "2023-04-27T14:17:19.000Z"
   },
   {
    "duration": 3,
    "start_time": "2023-04-27T14:17:21.236Z"
   },
   {
    "duration": 266,
    "start_time": "2023-04-27T14:17:21.240Z"
   },
   {
    "duration": 126,
    "start_time": "2023-04-27T14:33:45.629Z"
   },
   {
    "duration": 3,
    "start_time": "2023-04-27T14:40:53.020Z"
   },
   {
    "duration": 1354,
    "start_time": "2023-04-27T14:41:02.177Z"
   },
   {
    "duration": 806,
    "start_time": "2023-04-27T14:41:03.535Z"
   },
   {
    "duration": 153,
    "start_time": "2023-04-27T14:41:04.342Z"
   },
   {
    "duration": 156,
    "start_time": "2023-04-27T14:41:04.498Z"
   },
   {
    "duration": 154,
    "start_time": "2023-04-27T14:41:04.656Z"
   },
   {
    "duration": 16,
    "start_time": "2023-04-27T14:41:04.812Z"
   },
   {
    "duration": 9,
    "start_time": "2023-04-27T14:41:04.829Z"
   },
   {
    "duration": 7,
    "start_time": "2023-04-27T14:41:04.839Z"
   },
   {
    "duration": 68,
    "start_time": "2023-04-27T14:41:04.847Z"
   },
   {
    "duration": 3,
    "start_time": "2023-04-27T14:41:04.917Z"
   },
   {
    "duration": 132,
    "start_time": "2023-04-27T14:41:04.921Z"
   },
   {
    "duration": 8,
    "start_time": "2023-04-27T14:41:05.055Z"
   },
   {
    "duration": 9,
    "start_time": "2023-04-27T14:41:05.064Z"
   },
   {
    "duration": 350,
    "start_time": "2023-04-27T14:41:05.075Z"
   },
   {
    "duration": 28,
    "start_time": "2023-04-27T14:41:05.427Z"
   },
   {
    "duration": 168,
    "start_time": "2023-04-27T14:41:05.457Z"
   },
   {
    "duration": 27,
    "start_time": "2023-04-27T14:41:05.626Z"
   },
   {
    "duration": 21,
    "start_time": "2023-04-27T14:41:05.654Z"
   },
   {
    "duration": 624,
    "start_time": "2023-04-27T14:41:05.677Z"
   },
   {
    "duration": 505,
    "start_time": "2023-04-27T14:41:06.303Z"
   },
   {
    "duration": 127,
    "start_time": "2023-04-27T14:41:06.809Z"
   },
   {
    "duration": 497,
    "start_time": "2023-04-27T14:41:06.938Z"
   },
   {
    "duration": 6,
    "start_time": "2023-04-27T14:41:07.437Z"
   },
   {
    "duration": 16,
    "start_time": "2023-04-27T14:41:07.445Z"
   },
   {
    "duration": 24,
    "start_time": "2023-04-27T14:41:07.463Z"
   },
   {
    "duration": 19,
    "start_time": "2023-04-27T14:41:07.489Z"
   },
   {
    "duration": 107,
    "start_time": "2023-04-27T14:41:07.510Z"
   },
   {
    "duration": 2344,
    "start_time": "2023-04-27T14:41:07.621Z"
   },
   {
    "duration": 3,
    "start_time": "2023-04-27T14:41:09.967Z"
   },
   {
    "duration": 19164,
    "start_time": "2023-04-27T14:41:09.972Z"
   },
   {
    "duration": 52,
    "start_time": "2023-04-28T06:29:13.369Z"
   },
   {
    "duration": 8,
    "start_time": "2023-04-28T06:29:37.028Z"
   },
   {
    "duration": 9,
    "start_time": "2023-04-28T06:30:21.806Z"
   },
   {
    "duration": 1753,
    "start_time": "2023-04-28T06:34:02.741Z"
   },
   {
    "duration": 2867,
    "start_time": "2023-04-28T06:34:04.497Z"
   },
   {
    "duration": 162,
    "start_time": "2023-04-28T06:34:07.365Z"
   },
   {
    "duration": 151,
    "start_time": "2023-04-28T06:34:07.529Z"
   },
   {
    "duration": 102,
    "start_time": "2023-04-28T06:34:07.683Z"
   },
   {
    "duration": 22,
    "start_time": "2023-04-28T06:34:07.787Z"
   },
   {
    "duration": 19,
    "start_time": "2023-04-28T06:34:07.812Z"
   },
   {
    "duration": 19,
    "start_time": "2023-04-28T06:34:07.833Z"
   },
   {
    "duration": 87,
    "start_time": "2023-04-28T06:34:07.855Z"
   },
   {
    "duration": 3,
    "start_time": "2023-04-28T06:34:07.944Z"
   },
   {
    "duration": 150,
    "start_time": "2023-04-28T06:34:07.949Z"
   },
   {
    "duration": 13,
    "start_time": "2023-04-28T06:34:08.102Z"
   },
   {
    "duration": 5,
    "start_time": "2023-04-28T06:34:08.117Z"
   },
   {
    "duration": 374,
    "start_time": "2023-04-28T06:34:08.124Z"
   },
   {
    "duration": 29,
    "start_time": "2023-04-28T06:34:08.500Z"
   },
   {
    "duration": 186,
    "start_time": "2023-04-28T06:34:08.531Z"
   },
   {
    "duration": 23,
    "start_time": "2023-04-28T06:34:08.720Z"
   },
   {
    "duration": 493,
    "start_time": "2023-04-28T06:34:08.745Z"
   },
   {
    "duration": 1550,
    "start_time": "2023-04-28T06:40:20.416Z"
   },
   {
    "duration": 853,
    "start_time": "2023-04-28T06:40:21.968Z"
   },
   {
    "duration": 188,
    "start_time": "2023-04-28T06:40:22.823Z"
   },
   {
    "duration": 143,
    "start_time": "2023-04-28T06:40:23.014Z"
   },
   {
    "duration": 92,
    "start_time": "2023-04-28T06:40:23.159Z"
   },
   {
    "duration": 10,
    "start_time": "2023-04-28T06:40:23.252Z"
   },
   {
    "duration": 13,
    "start_time": "2023-04-28T06:40:23.264Z"
   },
   {
    "duration": 8,
    "start_time": "2023-04-28T06:40:23.279Z"
   },
   {
    "duration": 65,
    "start_time": "2023-04-28T06:40:23.288Z"
   },
   {
    "duration": 3,
    "start_time": "2023-04-28T06:40:23.356Z"
   },
   {
    "duration": 154,
    "start_time": "2023-04-28T06:40:23.360Z"
   },
   {
    "duration": 8,
    "start_time": "2023-04-28T06:40:23.516Z"
   },
   {
    "duration": 13,
    "start_time": "2023-04-28T06:40:23.526Z"
   },
   {
    "duration": 383,
    "start_time": "2023-04-28T06:40:23.541Z"
   },
   {
    "duration": 20,
    "start_time": "2023-04-28T06:40:23.926Z"
   },
   {
    "duration": 177,
    "start_time": "2023-04-28T06:40:23.948Z"
   },
   {
    "duration": 23,
    "start_time": "2023-04-28T06:40:24.126Z"
   },
   {
    "duration": 4,
    "start_time": "2023-04-28T06:40:24.151Z"
   },
   {
    "duration": 138,
    "start_time": "2023-04-28T06:40:24.157Z"
   },
   {
    "duration": 1578,
    "start_time": "2023-04-28T06:41:49.977Z"
   },
   {
    "duration": 904,
    "start_time": "2023-04-28T06:41:51.556Z"
   },
   {
    "duration": 175,
    "start_time": "2023-04-28T06:41:52.462Z"
   },
   {
    "duration": 167,
    "start_time": "2023-04-28T06:41:52.639Z"
   },
   {
    "duration": 116,
    "start_time": "2023-04-28T06:41:52.812Z"
   },
   {
    "duration": 4,
    "start_time": "2023-04-28T06:41:52.929Z"
   },
   {
    "duration": 5,
    "start_time": "2023-04-28T06:41:52.935Z"
   },
   {
    "duration": 6,
    "start_time": "2023-04-28T06:41:52.941Z"
   },
   {
    "duration": 73,
    "start_time": "2023-04-28T06:41:52.948Z"
   },
   {
    "duration": 3,
    "start_time": "2023-04-28T06:41:53.022Z"
   },
   {
    "duration": 141,
    "start_time": "2023-04-28T06:41:53.026Z"
   },
   {
    "duration": 9,
    "start_time": "2023-04-28T06:41:53.168Z"
   },
   {
    "duration": 4,
    "start_time": "2023-04-28T06:41:53.179Z"
   },
   {
    "duration": 374,
    "start_time": "2023-04-28T06:41:53.185Z"
   },
   {
    "duration": 21,
    "start_time": "2023-04-28T06:41:53.561Z"
   },
   {
    "duration": 178,
    "start_time": "2023-04-28T06:41:53.584Z"
   },
   {
    "duration": 23,
    "start_time": "2023-04-28T06:41:53.765Z"
   },
   {
    "duration": 15,
    "start_time": "2023-04-28T06:41:53.790Z"
   },
   {
    "duration": 21,
    "start_time": "2023-04-28T06:41:53.806Z"
   },
   {
    "duration": 587,
    "start_time": "2023-04-28T06:41:53.830Z"
   },
   {
    "duration": 1508,
    "start_time": "2023-04-28T06:44:06.999Z"
   },
   {
    "duration": 927,
    "start_time": "2023-04-28T06:44:08.511Z"
   },
   {
    "duration": 168,
    "start_time": "2023-04-28T06:44:09.439Z"
   },
   {
    "duration": 145,
    "start_time": "2023-04-28T06:44:09.613Z"
   },
   {
    "duration": 87,
    "start_time": "2023-04-28T06:44:09.759Z"
   },
   {
    "duration": 5,
    "start_time": "2023-04-28T06:44:09.848Z"
   },
   {
    "duration": 8,
    "start_time": "2023-04-28T06:44:09.855Z"
   },
   {
    "duration": 4,
    "start_time": "2023-04-28T06:44:09.865Z"
   },
   {
    "duration": 75,
    "start_time": "2023-04-28T06:44:09.871Z"
   },
   {
    "duration": 2,
    "start_time": "2023-04-28T06:44:09.950Z"
   },
   {
    "duration": 142,
    "start_time": "2023-04-28T06:44:09.954Z"
   },
   {
    "duration": 18,
    "start_time": "2023-04-28T06:44:10.098Z"
   },
   {
    "duration": 5,
    "start_time": "2023-04-28T06:44:10.118Z"
   },
   {
    "duration": 402,
    "start_time": "2023-04-28T06:44:10.124Z"
   },
   {
    "duration": 25,
    "start_time": "2023-04-28T06:44:10.528Z"
   },
   {
    "duration": 182,
    "start_time": "2023-04-28T06:44:10.554Z"
   },
   {
    "duration": 22,
    "start_time": "2023-04-28T06:44:10.738Z"
   },
   {
    "duration": 2,
    "start_time": "2023-04-28T06:44:10.762Z"
   },
   {
    "duration": 14,
    "start_time": "2023-04-28T06:44:10.766Z"
   },
   {
    "duration": 601,
    "start_time": "2023-04-28T06:44:10.782Z"
   },
   {
    "duration": 54,
    "start_time": "2023-04-28T06:44:11.385Z"
   },
   {
    "duration": 4,
    "start_time": "2023-04-28T06:44:11.441Z"
   },
   {
    "duration": 438,
    "start_time": "2023-04-28T06:45:50.835Z"
   },
   {
    "duration": 5,
    "start_time": "2023-04-28T06:49:14.654Z"
   },
   {
    "duration": 223,
    "start_time": "2023-04-28T07:25:39.218Z"
   },
   {
    "duration": 1583,
    "start_time": "2023-04-28T07:33:54.566Z"
   },
   {
    "duration": 839,
    "start_time": "2023-04-28T07:33:56.151Z"
   },
   {
    "duration": 177,
    "start_time": "2023-04-28T07:33:56.992Z"
   },
   {
    "duration": 142,
    "start_time": "2023-04-28T07:33:57.172Z"
   },
   {
    "duration": 126,
    "start_time": "2023-04-28T07:33:57.316Z"
   },
   {
    "duration": 0,
    "start_time": "2023-04-28T07:33:57.444Z"
   },
   {
    "duration": 0,
    "start_time": "2023-04-28T07:33:57.445Z"
   },
   {
    "duration": 0,
    "start_time": "2023-04-28T07:33:57.447Z"
   },
   {
    "duration": 0,
    "start_time": "2023-04-28T07:33:57.448Z"
   },
   {
    "duration": 0,
    "start_time": "2023-04-28T07:33:57.450Z"
   },
   {
    "duration": 0,
    "start_time": "2023-04-28T07:33:57.451Z"
   },
   {
    "duration": 0,
    "start_time": "2023-04-28T07:33:57.452Z"
   },
   {
    "duration": 0,
    "start_time": "2023-04-28T07:33:57.453Z"
   },
   {
    "duration": 0,
    "start_time": "2023-04-28T07:33:57.454Z"
   },
   {
    "duration": 0,
    "start_time": "2023-04-28T07:33:57.455Z"
   },
   {
    "duration": 0,
    "start_time": "2023-04-28T07:33:57.456Z"
   },
   {
    "duration": 0,
    "start_time": "2023-04-28T07:33:57.458Z"
   },
   {
    "duration": 1563,
    "start_time": "2023-04-28T07:34:11.693Z"
   },
   {
    "duration": 862,
    "start_time": "2023-04-28T07:34:13.258Z"
   },
   {
    "duration": 157,
    "start_time": "2023-04-28T07:34:14.122Z"
   },
   {
    "duration": 138,
    "start_time": "2023-04-28T07:34:14.281Z"
   },
   {
    "duration": 97,
    "start_time": "2023-04-28T07:34:14.421Z"
   },
   {
    "duration": 170,
    "start_time": "2023-04-28T07:34:14.520Z"
   },
   {
    "duration": 20,
    "start_time": "2023-04-28T07:34:14.692Z"
   },
   {
    "duration": 6,
    "start_time": "2023-04-28T07:34:14.714Z"
   },
   {
    "duration": 419,
    "start_time": "2023-04-28T07:34:14.722Z"
   },
   {
    "duration": 125,
    "start_time": "2023-04-28T07:34:15.145Z"
   },
   {
    "duration": 0,
    "start_time": "2023-04-28T07:34:15.271Z"
   },
   {
    "duration": 0,
    "start_time": "2023-04-28T07:34:15.273Z"
   },
   {
    "duration": 0,
    "start_time": "2023-04-28T07:34:15.274Z"
   },
   {
    "duration": 0,
    "start_time": "2023-04-28T07:34:15.275Z"
   },
   {
    "duration": 0,
    "start_time": "2023-04-28T07:34:15.277Z"
   },
   {
    "duration": 0,
    "start_time": "2023-04-28T07:34:15.278Z"
   },
   {
    "duration": 0,
    "start_time": "2023-04-28T07:34:15.279Z"
   },
   {
    "duration": 1736,
    "start_time": "2023-04-28T07:34:27.685Z"
   },
   {
    "duration": 877,
    "start_time": "2023-04-28T07:34:29.424Z"
   },
   {
    "duration": 235,
    "start_time": "2023-04-28T07:34:30.304Z"
   },
   {
    "duration": 234,
    "start_time": "2023-04-28T07:34:30.541Z"
   },
   {
    "duration": 108,
    "start_time": "2023-04-28T07:34:30.778Z"
   },
   {
    "duration": 230,
    "start_time": "2023-04-28T07:34:30.888Z"
   },
   {
    "duration": 14,
    "start_time": "2023-04-28T07:34:31.120Z"
   },
   {
    "duration": 36,
    "start_time": "2023-04-28T07:34:31.137Z"
   },
   {
    "duration": 467,
    "start_time": "2023-04-28T07:34:31.175Z"
   },
   {
    "duration": 37,
    "start_time": "2023-04-28T07:34:31.646Z"
   },
   {
    "duration": 168,
    "start_time": "2023-04-28T07:34:31.685Z"
   },
   {
    "duration": 0,
    "start_time": "2023-04-28T07:34:31.855Z"
   },
   {
    "duration": 0,
    "start_time": "2023-04-28T07:34:31.856Z"
   },
   {
    "duration": 0,
    "start_time": "2023-04-28T07:34:31.857Z"
   },
   {
    "duration": 0,
    "start_time": "2023-04-28T07:34:31.859Z"
   },
   {
    "duration": 0,
    "start_time": "2023-04-28T07:34:31.861Z"
   },
   {
    "duration": 0,
    "start_time": "2023-04-28T07:34:31.863Z"
   },
   {
    "duration": 1552,
    "start_time": "2023-04-28T07:34:50.076Z"
   },
   {
    "duration": 852,
    "start_time": "2023-04-28T07:34:51.630Z"
   },
   {
    "duration": 165,
    "start_time": "2023-04-28T07:34:52.484Z"
   },
   {
    "duration": 167,
    "start_time": "2023-04-28T07:34:52.651Z"
   },
   {
    "duration": 119,
    "start_time": "2023-04-28T07:34:52.821Z"
   },
   {
    "duration": 165,
    "start_time": "2023-04-28T07:34:52.941Z"
   },
   {
    "duration": 11,
    "start_time": "2023-04-28T07:34:53.108Z"
   },
   {
    "duration": 24,
    "start_time": "2023-04-28T07:34:53.120Z"
   },
   {
    "duration": 433,
    "start_time": "2023-04-28T07:34:53.146Z"
   },
   {
    "duration": 42,
    "start_time": "2023-04-28T07:34:53.581Z"
   },
   {
    "duration": 176,
    "start_time": "2023-04-28T07:34:53.625Z"
   },
   {
    "duration": 35,
    "start_time": "2023-04-28T07:34:53.803Z"
   },
   {
    "duration": 3,
    "start_time": "2023-04-28T07:34:53.840Z"
   },
   {
    "duration": 71,
    "start_time": "2023-04-28T07:34:53.847Z"
   },
   {
    "duration": 131,
    "start_time": "2023-04-28T07:34:53.920Z"
   },
   {
    "duration": 0,
    "start_time": "2023-04-28T07:34:54.053Z"
   },
   {
    "duration": 0,
    "start_time": "2023-04-28T07:34:54.054Z"
   },
   {
    "duration": 3,
    "start_time": "2023-04-28T07:37:43.633Z"
   },
   {
    "duration": 1572,
    "start_time": "2023-04-28T07:39:07.470Z"
   },
   {
    "duration": 892,
    "start_time": "2023-04-28T07:39:09.045Z"
   },
   {
    "duration": 172,
    "start_time": "2023-04-28T07:39:09.939Z"
   },
   {
    "duration": 148,
    "start_time": "2023-04-28T07:39:10.114Z"
   },
   {
    "duration": 92,
    "start_time": "2023-04-28T07:39:10.264Z"
   },
   {
    "duration": 163,
    "start_time": "2023-04-28T07:39:10.358Z"
   },
   {
    "duration": 11,
    "start_time": "2023-04-28T07:39:10.523Z"
   },
   {
    "duration": 5,
    "start_time": "2023-04-28T07:39:10.536Z"
   },
   {
    "duration": 387,
    "start_time": "2023-04-28T07:39:10.543Z"
   },
   {
    "duration": 32,
    "start_time": "2023-04-28T07:39:10.933Z"
   },
   {
    "duration": 178,
    "start_time": "2023-04-28T07:39:10.967Z"
   },
   {
    "duration": 27,
    "start_time": "2023-04-28T07:39:11.147Z"
   },
   {
    "duration": 3,
    "start_time": "2023-04-28T07:39:11.176Z"
   },
   {
    "duration": 37,
    "start_time": "2023-04-28T07:39:11.181Z"
   },
   {
    "duration": 4,
    "start_time": "2023-04-28T07:39:11.220Z"
   },
   {
    "duration": 1735,
    "start_time": "2023-04-28T07:39:11.226Z"
   },
   {
    "duration": 520,
    "start_time": "2023-04-28T07:39:12.963Z"
   },
   {
    "duration": 36934,
    "start_time": "2023-04-28T07:39:13.484Z"
   },
   {
    "duration": 35,
    "start_time": "2023-04-28T07:39:50.422Z"
   },
   {
    "duration": 126,
    "start_time": "2023-04-28T07:41:57.912Z"
   },
   {
    "duration": 71,
    "start_time": "2023-04-28T07:46:07.143Z"
   },
   {
    "duration": 200,
    "start_time": "2023-04-28T07:46:16.784Z"
   },
   {
    "duration": 1527,
    "start_time": "2023-04-28T07:48:08.303Z"
   },
   {
    "duration": 813,
    "start_time": "2023-04-28T07:48:09.833Z"
   },
   {
    "duration": 176,
    "start_time": "2023-04-28T07:48:10.648Z"
   },
   {
    "duration": 133,
    "start_time": "2023-04-28T07:48:10.826Z"
   },
   {
    "duration": 91,
    "start_time": "2023-04-28T07:48:10.961Z"
   },
   {
    "duration": 158,
    "start_time": "2023-04-28T07:48:11.054Z"
   },
   {
    "duration": 11,
    "start_time": "2023-04-28T07:48:11.214Z"
   },
   {
    "duration": 6,
    "start_time": "2023-04-28T07:48:11.227Z"
   },
   {
    "duration": 386,
    "start_time": "2023-04-28T07:48:11.235Z"
   },
   {
    "duration": 32,
    "start_time": "2023-04-28T07:48:11.623Z"
   },
   {
    "duration": 177,
    "start_time": "2023-04-28T07:48:11.657Z"
   },
   {
    "duration": 26,
    "start_time": "2023-04-28T07:48:11.835Z"
   },
   {
    "duration": 103,
    "start_time": "2023-04-28T07:48:11.864Z"
   },
   {
    "duration": 254,
    "start_time": "2023-04-28T07:48:11.969Z"
   },
   {
    "duration": 1494,
    "start_time": "2023-04-28T07:53:39.351Z"
   },
   {
    "duration": 827,
    "start_time": "2023-04-28T07:53:40.848Z"
   },
   {
    "duration": 162,
    "start_time": "2023-04-28T07:53:41.677Z"
   },
   {
    "duration": 153,
    "start_time": "2023-04-28T07:53:41.841Z"
   },
   {
    "duration": 95,
    "start_time": "2023-04-28T07:53:41.996Z"
   },
   {
    "duration": 156,
    "start_time": "2023-04-28T07:53:42.093Z"
   },
   {
    "duration": 10,
    "start_time": "2023-04-28T07:53:42.251Z"
   },
   {
    "duration": 6,
    "start_time": "2023-04-28T07:53:42.262Z"
   },
   {
    "duration": 393,
    "start_time": "2023-04-28T07:53:42.269Z"
   },
   {
    "duration": 35,
    "start_time": "2023-04-28T07:53:42.665Z"
   },
   {
    "duration": 183,
    "start_time": "2023-04-28T07:53:42.713Z"
   },
   {
    "duration": 37,
    "start_time": "2023-04-28T07:53:42.899Z"
   },
   {
    "duration": 4,
    "start_time": "2023-04-28T07:53:42.937Z"
   },
   {
    "duration": 173,
    "start_time": "2023-04-28T07:53:42.942Z"
   },
   {
    "duration": 0,
    "start_time": "2023-04-28T07:53:43.117Z"
   },
   {
    "duration": 0,
    "start_time": "2023-04-28T07:53:43.118Z"
   },
   {
    "duration": 0,
    "start_time": "2023-04-28T07:53:43.119Z"
   },
   {
    "duration": 0,
    "start_time": "2023-04-28T07:53:43.120Z"
   },
   {
    "duration": 25,
    "start_time": "2023-04-28T07:56:10.774Z"
   },
   {
    "duration": 3,
    "start_time": "2023-04-28T07:56:11.946Z"
   },
   {
    "duration": 1345,
    "start_time": "2023-04-28T07:56:12.716Z"
   },
   {
    "duration": 520,
    "start_time": "2023-04-28T07:56:20.099Z"
   },
   {
    "duration": 31330,
    "start_time": "2023-04-28T07:56:28.486Z"
   },
   {
    "duration": 1702,
    "start_time": "2023-04-28T07:57:58.099Z"
   },
   {
    "duration": 912,
    "start_time": "2023-04-28T07:57:59.803Z"
   },
   {
    "duration": 223,
    "start_time": "2023-04-28T07:58:00.717Z"
   },
   {
    "duration": 153,
    "start_time": "2023-04-28T07:58:00.942Z"
   },
   {
    "duration": 116,
    "start_time": "2023-04-28T07:58:01.096Z"
   },
   {
    "duration": 184,
    "start_time": "2023-04-28T07:58:01.214Z"
   },
   {
    "duration": 20,
    "start_time": "2023-04-28T07:58:01.400Z"
   },
   {
    "duration": 24,
    "start_time": "2023-04-28T07:58:01.422Z"
   },
   {
    "duration": 473,
    "start_time": "2023-04-28T07:58:01.449Z"
   },
   {
    "duration": 31,
    "start_time": "2023-04-28T07:58:01.925Z"
   },
   {
    "duration": 187,
    "start_time": "2023-04-28T07:58:01.958Z"
   },
   {
    "duration": 34,
    "start_time": "2023-04-28T07:58:02.147Z"
   },
   {
    "duration": 12,
    "start_time": "2023-04-28T07:58:02.183Z"
   },
   {
    "duration": 1402,
    "start_time": "2023-04-28T07:58:02.197Z"
   },
   {
    "duration": 577,
    "start_time": "2023-04-28T07:58:03.602Z"
   },
   {
    "duration": 30759,
    "start_time": "2023-04-28T07:58:04.181Z"
   },
   {
    "duration": 1660,
    "start_time": "2023-04-28T07:59:01.374Z"
   },
   {
    "duration": 889,
    "start_time": "2023-04-28T07:59:03.036Z"
   },
   {
    "duration": 202,
    "start_time": "2023-04-28T07:59:03.927Z"
   },
   {
    "duration": 146,
    "start_time": "2023-04-28T07:59:04.132Z"
   },
   {
    "duration": 95,
    "start_time": "2023-04-28T07:59:04.280Z"
   },
   {
    "duration": 163,
    "start_time": "2023-04-28T07:59:04.377Z"
   },
   {
    "duration": 11,
    "start_time": "2023-04-28T07:59:04.541Z"
   },
   {
    "duration": 6,
    "start_time": "2023-04-28T07:59:04.554Z"
   },
   {
    "duration": 419,
    "start_time": "2023-04-28T07:59:04.562Z"
   },
   {
    "duration": 46,
    "start_time": "2023-04-28T07:59:04.985Z"
   },
   {
    "duration": 171,
    "start_time": "2023-04-28T07:59:05.033Z"
   },
   {
    "duration": 27,
    "start_time": "2023-04-28T07:59:05.207Z"
   },
   {
    "duration": 9,
    "start_time": "2023-04-28T07:59:05.237Z"
   },
   {
    "duration": 1294,
    "start_time": "2023-04-28T07:59:05.248Z"
   },
   {
    "duration": 557,
    "start_time": "2023-04-28T07:59:06.544Z"
   },
   {
    "duration": 42439,
    "start_time": "2023-04-28T07:59:07.104Z"
   },
   {
    "duration": 365,
    "start_time": "2023-04-28T07:59:49.546Z"
   },
   {
    "duration": 8,
    "start_time": "2023-04-28T07:59:49.914Z"
   },
   {
    "duration": 29841,
    "start_time": "2023-04-28T08:00:47.980Z"
   },
   {
    "duration": 1511,
    "start_time": "2023-04-28T08:03:16.427Z"
   },
   {
    "duration": 848,
    "start_time": "2023-04-28T08:03:17.940Z"
   },
   {
    "duration": 183,
    "start_time": "2023-04-28T08:03:18.790Z"
   },
   {
    "duration": 192,
    "start_time": "2023-04-28T08:03:18.978Z"
   },
   {
    "duration": 167,
    "start_time": "2023-04-28T08:03:19.172Z"
   },
   {
    "duration": 187,
    "start_time": "2023-04-28T08:03:19.342Z"
   },
   {
    "duration": 11,
    "start_time": "2023-04-28T08:03:19.531Z"
   },
   {
    "duration": 7,
    "start_time": "2023-04-28T08:03:19.544Z"
   },
   {
    "duration": 391,
    "start_time": "2023-04-28T08:03:19.553Z"
   },
   {
    "duration": 32,
    "start_time": "2023-04-28T08:03:19.947Z"
   },
   {
    "duration": 185,
    "start_time": "2023-04-28T08:03:19.981Z"
   },
   {
    "duration": 31,
    "start_time": "2023-04-28T08:03:20.168Z"
   },
   {
    "duration": 13,
    "start_time": "2023-04-28T08:03:20.201Z"
   },
   {
    "duration": 1254,
    "start_time": "2023-04-28T08:03:20.216Z"
   },
   {
    "duration": 556,
    "start_time": "2023-04-28T08:03:21.472Z"
   },
   {
    "duration": 29144,
    "start_time": "2023-04-28T08:03:22.031Z"
   },
   {
    "duration": 213,
    "start_time": "2023-04-28T08:03:51.213Z"
   },
   {
    "duration": 90,
    "start_time": "2023-04-28T08:03:51.428Z"
   },
   {
    "duration": 93,
    "start_time": "2023-04-28T08:03:51.520Z"
   },
   {
    "duration": 1537,
    "start_time": "2023-04-28T08:10:01.954Z"
   },
   {
    "duration": 2913,
    "start_time": "2023-04-28T08:10:03.493Z"
   },
   {
    "duration": 177,
    "start_time": "2023-04-28T08:10:06.408Z"
   },
   {
    "duration": 155,
    "start_time": "2023-04-28T08:10:06.587Z"
   },
   {
    "duration": 152,
    "start_time": "2023-04-28T08:10:06.744Z"
   },
   {
    "duration": 209,
    "start_time": "2023-04-28T08:10:06.898Z"
   },
   {
    "duration": 10,
    "start_time": "2023-04-28T08:10:07.112Z"
   },
   {
    "duration": 4,
    "start_time": "2023-04-28T08:10:07.124Z"
   },
   {
    "duration": 425,
    "start_time": "2023-04-28T08:10:07.129Z"
   },
   {
    "duration": 70,
    "start_time": "2023-04-28T08:10:07.557Z"
   },
   {
    "duration": 180,
    "start_time": "2023-04-28T08:10:07.629Z"
   },
   {
    "duration": 53,
    "start_time": "2023-04-28T08:10:07.811Z"
   },
   {
    "duration": 3,
    "start_time": "2023-04-28T08:10:07.865Z"
   },
   {
    "duration": 166,
    "start_time": "2023-04-28T08:10:07.871Z"
   },
   {
    "duration": 0,
    "start_time": "2023-04-28T08:10:08.039Z"
   },
   {
    "duration": 0,
    "start_time": "2023-04-28T08:10:08.041Z"
   },
   {
    "duration": 0,
    "start_time": "2023-04-28T08:10:08.043Z"
   },
   {
    "duration": 0,
    "start_time": "2023-04-28T08:10:08.045Z"
   },
   {
    "duration": 0,
    "start_time": "2023-04-28T08:10:08.047Z"
   },
   {
    "duration": 0,
    "start_time": "2023-04-28T08:10:08.048Z"
   },
   {
    "duration": 0,
    "start_time": "2023-04-28T08:10:08.050Z"
   },
   {
    "duration": 0,
    "start_time": "2023-04-28T08:10:08.051Z"
   },
   {
    "duration": 0,
    "start_time": "2023-04-28T08:10:08.053Z"
   },
   {
    "duration": 0,
    "start_time": "2023-04-28T08:10:08.054Z"
   },
   {
    "duration": 0,
    "start_time": "2023-04-28T08:10:08.170Z"
   },
   {
    "duration": 0,
    "start_time": "2023-04-28T08:10:08.172Z"
   },
   {
    "duration": 0,
    "start_time": "2023-04-28T08:10:08.173Z"
   },
   {
    "duration": 0,
    "start_time": "2023-04-28T08:10:08.174Z"
   },
   {
    "duration": 0,
    "start_time": "2023-04-28T08:10:08.175Z"
   },
   {
    "duration": 0,
    "start_time": "2023-04-28T08:10:08.176Z"
   },
   {
    "duration": 1582,
    "start_time": "2023-04-28T08:11:12.175Z"
   },
   {
    "duration": 875,
    "start_time": "2023-04-28T08:11:13.759Z"
   },
   {
    "duration": 178,
    "start_time": "2023-04-28T08:11:14.635Z"
   },
   {
    "duration": 149,
    "start_time": "2023-04-28T08:11:14.815Z"
   },
   {
    "duration": 139,
    "start_time": "2023-04-28T08:11:14.966Z"
   },
   {
    "duration": 229,
    "start_time": "2023-04-28T08:11:15.112Z"
   },
   {
    "duration": 9,
    "start_time": "2023-04-28T08:11:15.343Z"
   },
   {
    "duration": 13,
    "start_time": "2023-04-28T08:11:15.353Z"
   },
   {
    "duration": 404,
    "start_time": "2023-04-28T08:11:15.368Z"
   },
   {
    "duration": 65,
    "start_time": "2023-04-28T08:11:15.775Z"
   },
   {
    "duration": 179,
    "start_time": "2023-04-28T08:11:15.842Z"
   },
   {
    "duration": 51,
    "start_time": "2023-04-28T08:11:16.023Z"
   },
   {
    "duration": 3,
    "start_time": "2023-04-28T08:11:16.076Z"
   },
   {
    "duration": 1745,
    "start_time": "2023-04-28T08:11:16.081Z"
   },
   {
    "duration": 0,
    "start_time": "2023-04-28T08:11:17.828Z"
   },
   {
    "duration": 0,
    "start_time": "2023-04-28T08:11:17.829Z"
   },
   {
    "duration": 0,
    "start_time": "2023-04-28T08:11:17.831Z"
   },
   {
    "duration": 0,
    "start_time": "2023-04-28T08:11:17.832Z"
   },
   {
    "duration": 0,
    "start_time": "2023-04-28T08:11:17.833Z"
   },
   {
    "duration": 0,
    "start_time": "2023-04-28T08:11:17.834Z"
   },
   {
    "duration": 0,
    "start_time": "2023-04-28T08:11:17.835Z"
   },
   {
    "duration": 0,
    "start_time": "2023-04-28T08:11:17.926Z"
   },
   {
    "duration": 0,
    "start_time": "2023-04-28T08:11:17.927Z"
   },
   {
    "duration": 0,
    "start_time": "2023-04-28T08:11:17.928Z"
   },
   {
    "duration": 0,
    "start_time": "2023-04-28T08:11:17.929Z"
   },
   {
    "duration": 0,
    "start_time": "2023-04-28T08:11:17.931Z"
   },
   {
    "duration": 0,
    "start_time": "2023-04-28T08:11:17.932Z"
   },
   {
    "duration": 0,
    "start_time": "2023-04-28T08:11:17.933Z"
   },
   {
    "duration": 1516,
    "start_time": "2023-04-28T08:11:43.664Z"
   },
   {
    "duration": 846,
    "start_time": "2023-04-28T08:11:45.182Z"
   },
   {
    "duration": 171,
    "start_time": "2023-04-28T08:11:46.030Z"
   },
   {
    "duration": 170,
    "start_time": "2023-04-28T08:11:46.204Z"
   },
   {
    "duration": 141,
    "start_time": "2023-04-28T08:11:46.376Z"
   },
   {
    "duration": 216,
    "start_time": "2023-04-28T08:11:46.519Z"
   },
   {
    "duration": 9,
    "start_time": "2023-04-28T08:11:46.737Z"
   },
   {
    "duration": 5,
    "start_time": "2023-04-28T08:11:46.747Z"
   },
   {
    "duration": 413,
    "start_time": "2023-04-28T08:11:46.754Z"
   },
   {
    "duration": 68,
    "start_time": "2023-04-28T08:11:47.169Z"
   },
   {
    "duration": 175,
    "start_time": "2023-04-28T08:11:47.239Z"
   },
   {
    "duration": 51,
    "start_time": "2023-04-28T08:11:47.416Z"
   },
   {
    "duration": 3,
    "start_time": "2023-04-28T08:11:47.469Z"
   },
   {
    "duration": 560,
    "start_time": "2023-04-28T08:11:47.474Z"
   },
   {
    "duration": 210,
    "start_time": "2023-04-28T08:11:48.036Z"
   },
   {
    "duration": 243,
    "start_time": "2023-04-28T08:11:48.248Z"
   },
   {
    "duration": 3,
    "start_time": "2023-04-28T08:11:48.493Z"
   },
   {
    "duration": 224,
    "start_time": "2023-04-28T08:11:48.498Z"
   },
   {
    "duration": 0,
    "start_time": "2023-04-28T08:11:48.724Z"
   },
   {
    "duration": 0,
    "start_time": "2023-04-28T08:11:48.726Z"
   },
   {
    "duration": 0,
    "start_time": "2023-04-28T08:11:48.727Z"
   },
   {
    "duration": 0,
    "start_time": "2023-04-28T08:11:48.729Z"
   },
   {
    "duration": 0,
    "start_time": "2023-04-28T08:11:48.730Z"
   },
   {
    "duration": 0,
    "start_time": "2023-04-28T08:11:48.732Z"
   },
   {
    "duration": 0,
    "start_time": "2023-04-28T08:11:48.733Z"
   },
   {
    "duration": 0,
    "start_time": "2023-04-28T08:11:48.735Z"
   },
   {
    "duration": 0,
    "start_time": "2023-04-28T08:11:48.736Z"
   },
   {
    "duration": 0,
    "start_time": "2023-04-28T08:11:48.737Z"
   },
   {
    "duration": 1538,
    "start_time": "2023-04-28T08:14:41.626Z"
   },
   {
    "duration": 849,
    "start_time": "2023-04-28T08:14:43.166Z"
   },
   {
    "duration": 172,
    "start_time": "2023-04-28T08:14:44.017Z"
   },
   {
    "duration": 147,
    "start_time": "2023-04-28T08:14:44.191Z"
   },
   {
    "duration": 139,
    "start_time": "2023-04-28T08:14:44.340Z"
   },
   {
    "duration": 218,
    "start_time": "2023-04-28T08:14:44.481Z"
   },
   {
    "duration": 14,
    "start_time": "2023-04-28T08:14:44.701Z"
   },
   {
    "duration": 5,
    "start_time": "2023-04-28T08:14:44.717Z"
   },
   {
    "duration": 416,
    "start_time": "2023-04-28T08:14:44.723Z"
   },
   {
    "duration": 57,
    "start_time": "2023-04-28T08:14:45.141Z"
   },
   {
    "duration": 181,
    "start_time": "2023-04-28T08:14:45.200Z"
   },
   {
    "duration": 61,
    "start_time": "2023-04-28T08:14:45.383Z"
   },
   {
    "duration": 27,
    "start_time": "2023-04-28T08:14:45.446Z"
   },
   {
    "duration": 318,
    "start_time": "2023-04-28T08:14:45.476Z"
   },
   {
    "duration": 300,
    "start_time": "2023-04-28T08:14:45.796Z"
   },
   {
    "duration": 1521,
    "start_time": "2023-04-28T08:16:00.513Z"
   },
   {
    "duration": 843,
    "start_time": "2023-04-28T08:16:02.037Z"
   },
   {
    "duration": 157,
    "start_time": "2023-04-28T08:16:02.882Z"
   },
   {
    "duration": 137,
    "start_time": "2023-04-28T08:16:03.041Z"
   },
   {
    "duration": 138,
    "start_time": "2023-04-28T08:16:03.179Z"
   },
   {
    "duration": 199,
    "start_time": "2023-04-28T08:16:03.319Z"
   },
   {
    "duration": 8,
    "start_time": "2023-04-28T08:16:03.520Z"
   },
   {
    "duration": 9,
    "start_time": "2023-04-28T08:16:03.530Z"
   },
   {
    "duration": 426,
    "start_time": "2023-04-28T08:16:03.540Z"
   },
   {
    "duration": 63,
    "start_time": "2023-04-28T08:16:03.968Z"
   },
   {
    "duration": 173,
    "start_time": "2023-04-28T08:16:04.032Z"
   },
   {
    "duration": 52,
    "start_time": "2023-04-28T08:16:04.212Z"
   },
   {
    "duration": 3,
    "start_time": "2023-04-28T08:16:04.266Z"
   },
   {
    "duration": 59,
    "start_time": "2023-04-28T08:16:04.270Z"
   },
   {
    "duration": 299,
    "start_time": "2023-04-28T08:16:04.331Z"
   },
   {
    "duration": 3160,
    "start_time": "2023-04-28T08:16:04.631Z"
   },
   {
    "duration": 222,
    "start_time": "2023-04-28T08:17:22.002Z"
   },
   {
    "duration": 1479,
    "start_time": "2023-04-28T08:25:43.354Z"
   },
   {
    "duration": 857,
    "start_time": "2023-04-28T08:25:44.835Z"
   },
   {
    "duration": 158,
    "start_time": "2023-04-28T08:25:45.694Z"
   },
   {
    "duration": 527,
    "start_time": "2023-04-28T08:25:45.855Z"
   },
   {
    "duration": 109,
    "start_time": "2023-04-28T08:25:46.384Z"
   },
   {
    "duration": 22,
    "start_time": "2023-04-28T08:25:46.495Z"
   },
   {
    "duration": 47,
    "start_time": "2023-04-28T08:25:46.519Z"
   },
   {
    "duration": 44,
    "start_time": "2023-04-28T08:25:46.568Z"
   },
   {
    "duration": 66,
    "start_time": "2023-04-28T08:25:46.614Z"
   },
   {
    "duration": 40,
    "start_time": "2023-04-28T08:25:46.682Z"
   },
   {
    "duration": 21,
    "start_time": "2023-04-28T08:25:46.724Z"
   },
   {
    "duration": 8,
    "start_time": "2023-04-28T08:25:46.747Z"
   },
   {
    "duration": 82,
    "start_time": "2023-04-28T08:25:46.757Z"
   },
   {
    "duration": 26,
    "start_time": "2023-04-28T08:25:46.841Z"
   },
   {
    "duration": 277,
    "start_time": "2023-04-28T08:25:46.869Z"
   },
   {
    "duration": 17,
    "start_time": "2023-04-28T08:25:47.148Z"
   },
   {
    "duration": 109,
    "start_time": "2023-04-28T08:25:47.167Z"
   },
   {
    "duration": 265,
    "start_time": "2023-04-28T08:25:47.278Z"
   },
   {
    "duration": 1328,
    "start_time": "2023-04-28T08:25:47.544Z"
   },
   {
    "duration": 0,
    "start_time": "2023-04-28T08:25:48.874Z"
   },
   {
    "duration": 0,
    "start_time": "2023-04-28T08:25:48.876Z"
   },
   {
    "duration": 0,
    "start_time": "2023-04-28T08:25:48.877Z"
   },
   {
    "duration": 0,
    "start_time": "2023-04-28T08:25:48.878Z"
   },
   {
    "duration": 0,
    "start_time": "2023-04-28T08:25:48.880Z"
   },
   {
    "duration": 0,
    "start_time": "2023-04-28T08:25:48.881Z"
   },
   {
    "duration": 0,
    "start_time": "2023-04-28T08:25:48.882Z"
   },
   {
    "duration": 0,
    "start_time": "2023-04-28T08:25:48.884Z"
   },
   {
    "duration": 0,
    "start_time": "2023-04-28T08:25:48.885Z"
   },
   {
    "duration": 0,
    "start_time": "2023-04-28T08:25:48.887Z"
   },
   {
    "duration": 0,
    "start_time": "2023-04-28T08:25:48.888Z"
   },
   {
    "duration": 0,
    "start_time": "2023-04-28T08:25:48.889Z"
   },
   {
    "duration": 0,
    "start_time": "2023-04-28T08:25:48.891Z"
   },
   {
    "duration": 0,
    "start_time": "2023-04-28T08:25:48.892Z"
   },
   {
    "duration": 0,
    "start_time": "2023-04-28T08:25:48.894Z"
   },
   {
    "duration": 0,
    "start_time": "2023-04-28T08:25:48.895Z"
   },
   {
    "duration": 0,
    "start_time": "2023-04-28T08:25:48.897Z"
   },
   {
    "duration": 0,
    "start_time": "2023-04-28T08:25:48.898Z"
   },
   {
    "duration": 0,
    "start_time": "2023-04-28T08:25:48.900Z"
   },
   {
    "duration": 0,
    "start_time": "2023-04-28T08:25:48.902Z"
   },
   {
    "duration": 0,
    "start_time": "2023-04-28T08:25:48.904Z"
   },
   {
    "duration": 0,
    "start_time": "2023-04-28T08:25:48.905Z"
   },
   {
    "duration": 1479,
    "start_time": "2023-04-28T08:26:20.452Z"
   },
   {
    "duration": 933,
    "start_time": "2023-04-28T08:26:21.933Z"
   },
   {
    "duration": 159,
    "start_time": "2023-04-28T08:26:22.868Z"
   },
   {
    "duration": 533,
    "start_time": "2023-04-28T08:26:23.029Z"
   },
   {
    "duration": 112,
    "start_time": "2023-04-28T08:26:23.564Z"
   },
   {
    "duration": 14,
    "start_time": "2023-04-28T08:26:23.678Z"
   },
   {
    "duration": 86,
    "start_time": "2023-04-28T08:26:23.693Z"
   },
   {
    "duration": 31,
    "start_time": "2023-04-28T08:26:23.781Z"
   },
   {
    "duration": 78,
    "start_time": "2023-04-28T08:26:23.815Z"
   },
   {
    "duration": 37,
    "start_time": "2023-04-28T08:26:23.896Z"
   },
   {
    "duration": 32,
    "start_time": "2023-04-28T08:26:23.934Z"
   },
   {
    "duration": 17,
    "start_time": "2023-04-28T08:26:23.968Z"
   },
   {
    "duration": 71,
    "start_time": "2023-04-28T08:26:23.987Z"
   },
   {
    "duration": 26,
    "start_time": "2023-04-28T08:26:24.059Z"
   },
   {
    "duration": 292,
    "start_time": "2023-04-28T08:26:24.087Z"
   },
   {
    "duration": 16,
    "start_time": "2023-04-28T08:26:24.381Z"
   },
   {
    "duration": 118,
    "start_time": "2023-04-28T08:26:24.399Z"
   },
   {
    "duration": 281,
    "start_time": "2023-04-28T08:26:24.519Z"
   },
   {
    "duration": 21,
    "start_time": "2023-04-28T08:26:24.802Z"
   },
   {
    "duration": 27,
    "start_time": "2023-04-28T08:26:24.825Z"
   },
   {
    "duration": 3108,
    "start_time": "2023-04-28T08:26:24.854Z"
   },
   {
    "duration": 454,
    "start_time": "2023-04-28T08:26:27.964Z"
   },
   {
    "duration": 24,
    "start_time": "2023-04-28T08:26:28.419Z"
   },
   {
    "duration": 14,
    "start_time": "2023-04-28T08:26:28.445Z"
   },
   {
    "duration": 93,
    "start_time": "2023-04-28T08:26:28.461Z"
   },
   {
    "duration": 92,
    "start_time": "2023-04-28T08:26:28.556Z"
   },
   {
    "duration": 3,
    "start_time": "2023-04-28T08:26:28.650Z"
   },
   {
    "duration": 855,
    "start_time": "2023-04-28T08:26:28.656Z"
   },
   {
    "duration": 3,
    "start_time": "2023-04-28T08:26:29.514Z"
   },
   {
    "duration": 242,
    "start_time": "2023-04-28T08:26:29.518Z"
   },
   {
    "duration": 67,
    "start_time": "2023-04-28T08:26:29.762Z"
   },
   {
    "duration": 42,
    "start_time": "2023-04-28T08:26:29.831Z"
   },
   {
    "duration": 2,
    "start_time": "2023-04-28T08:26:29.875Z"
   },
   {
    "duration": 380,
    "start_time": "2023-04-28T08:26:29.879Z"
   },
   {
    "duration": 456,
    "start_time": "2023-04-28T08:26:30.261Z"
   },
   {
    "duration": 95,
    "start_time": "2023-04-28T08:26:30.719Z"
   },
   {
    "duration": 97,
    "start_time": "2023-04-28T08:26:30.816Z"
   },
   {
    "duration": 43,
    "start_time": "2023-04-28T08:26:30.914Z"
   },
   {
    "duration": 14111,
    "start_time": "2023-04-28T08:26:30.959Z"
   },
   {
    "duration": 110,
    "start_time": "2023-04-28T08:26:45.113Z"
   },
   {
    "duration": 7,
    "start_time": "2023-04-28T08:26:45.313Z"
   },
   {
    "duration": 1465,
    "start_time": "2023-04-28T08:32:55.756Z"
   },
   {
    "duration": 823,
    "start_time": "2023-04-28T08:32:57.223Z"
   },
   {
    "duration": 140,
    "start_time": "2023-04-28T08:32:58.048Z"
   },
   {
    "duration": 493,
    "start_time": "2023-04-28T08:32:58.190Z"
   },
   {
    "duration": 98,
    "start_time": "2023-04-28T08:32:58.685Z"
   },
   {
    "duration": 28,
    "start_time": "2023-04-28T08:32:58.785Z"
   },
   {
    "duration": 54,
    "start_time": "2023-04-28T08:32:58.814Z"
   },
   {
    "duration": 48,
    "start_time": "2023-04-28T08:32:58.870Z"
   },
   {
    "duration": 73,
    "start_time": "2023-04-28T08:32:58.920Z"
   },
   {
    "duration": 45,
    "start_time": "2023-04-28T08:32:58.996Z"
   },
   {
    "duration": 36,
    "start_time": "2023-04-28T08:32:59.043Z"
   },
   {
    "duration": 7,
    "start_time": "2023-04-28T08:32:59.082Z"
   },
   {
    "duration": 70,
    "start_time": "2023-04-28T08:32:59.090Z"
   },
   {
    "duration": 26,
    "start_time": "2023-04-28T08:32:59.161Z"
   },
   {
    "duration": 280,
    "start_time": "2023-04-28T08:32:59.188Z"
   },
   {
    "duration": 16,
    "start_time": "2023-04-28T08:32:59.470Z"
   },
   {
    "duration": 106,
    "start_time": "2023-04-28T08:32:59.488Z"
   },
   {
    "duration": 265,
    "start_time": "2023-04-28T08:32:59.596Z"
   },
   {
    "duration": 22,
    "start_time": "2023-04-28T08:32:59.863Z"
   },
   {
    "duration": 35,
    "start_time": "2023-04-28T08:32:59.887Z"
   },
   {
    "duration": 3039,
    "start_time": "2023-04-28T08:32:59.923Z"
   },
   {
    "duration": 391,
    "start_time": "2023-04-28T08:33:02.963Z"
   },
   {
    "duration": 23,
    "start_time": "2023-04-28T08:33:03.356Z"
   },
   {
    "duration": 17,
    "start_time": "2023-04-28T08:33:03.381Z"
   },
   {
    "duration": 98,
    "start_time": "2023-04-28T08:33:03.400Z"
   },
   {
    "duration": 84,
    "start_time": "2023-04-28T08:33:03.512Z"
   },
   {
    "duration": 3,
    "start_time": "2023-04-28T08:33:03.597Z"
   },
   {
    "duration": 771,
    "start_time": "2023-04-28T08:33:03.613Z"
   },
   {
    "duration": 2,
    "start_time": "2023-04-28T08:33:04.386Z"
   },
   {
    "duration": 265,
    "start_time": "2023-04-28T08:33:04.390Z"
   },
   {
    "duration": 69,
    "start_time": "2023-04-28T08:33:04.657Z"
   },
   {
    "duration": 39,
    "start_time": "2023-04-28T08:33:04.728Z"
   },
   {
    "duration": 4,
    "start_time": "2023-04-28T08:33:04.769Z"
   },
   {
    "duration": 372,
    "start_time": "2023-04-28T08:33:04.774Z"
   },
   {
    "duration": 465,
    "start_time": "2023-04-28T08:33:05.148Z"
   },
   {
    "duration": 101,
    "start_time": "2023-04-28T08:33:05.614Z"
   },
   {
    "duration": 96,
    "start_time": "2023-04-28T08:33:05.718Z"
   },
   {
    "duration": 3,
    "start_time": "2023-04-28T08:33:05.816Z"
   },
   {
    "duration": 13846,
    "start_time": "2023-04-28T08:33:05.820Z"
   },
   {
    "duration": 100,
    "start_time": "2023-04-28T08:33:19.713Z"
   },
   {
    "duration": 96,
    "start_time": "2023-04-28T08:33:19.815Z"
   },
   {
    "duration": 767,
    "start_time": "2023-04-28T08:33:19.913Z"
   },
   {
    "duration": 16,
    "start_time": "2023-04-28T08:33:20.682Z"
   },
   {
    "duration": 5,
    "start_time": "2023-04-28T08:33:20.712Z"
   },
   {
    "duration": 10,
    "start_time": "2023-04-28T08:33:20.719Z"
   },
   {
    "duration": 17,
    "start_time": "2023-04-28T08:33:20.730Z"
   },
   {
    "duration": 134,
    "start_time": "2023-04-28T08:33:20.749Z"
   },
   {
    "duration": 0,
    "start_time": "2023-04-28T08:33:20.885Z"
   },
   {
    "duration": 0,
    "start_time": "2023-04-28T08:33:20.886Z"
   },
   {
    "duration": 0,
    "start_time": "2023-04-28T08:33:20.887Z"
   },
   {
    "duration": 0,
    "start_time": "2023-04-28T08:33:20.888Z"
   },
   {
    "duration": 0,
    "start_time": "2023-04-28T08:33:20.889Z"
   },
   {
    "duration": 0,
    "start_time": "2023-04-28T08:33:20.891Z"
   },
   {
    "duration": 0,
    "start_time": "2023-04-28T08:33:20.892Z"
   },
   {
    "duration": 0,
    "start_time": "2023-04-28T08:33:20.893Z"
   },
   {
    "duration": 0,
    "start_time": "2023-04-28T08:33:20.894Z"
   },
   {
    "duration": 1440,
    "start_time": "2023-04-28T08:34:12.033Z"
   },
   {
    "duration": 850,
    "start_time": "2023-04-28T08:34:13.475Z"
   },
   {
    "duration": 136,
    "start_time": "2023-04-28T08:34:14.327Z"
   },
   {
    "duration": 510,
    "start_time": "2023-04-28T08:34:14.466Z"
   },
   {
    "duration": 102,
    "start_time": "2023-04-28T08:34:14.978Z"
   },
   {
    "duration": 13,
    "start_time": "2023-04-28T08:34:15.082Z"
   },
   {
    "duration": 67,
    "start_time": "2023-04-28T08:34:15.097Z"
   },
   {
    "duration": 25,
    "start_time": "2023-04-28T08:34:15.166Z"
   },
   {
    "duration": 70,
    "start_time": "2023-04-28T08:34:15.193Z"
   },
   {
    "duration": 26,
    "start_time": "2023-04-28T08:34:15.266Z"
   },
   {
    "duration": 32,
    "start_time": "2023-04-28T08:34:15.293Z"
   },
   {
    "duration": 11,
    "start_time": "2023-04-28T08:34:15.327Z"
   },
   {
    "duration": 62,
    "start_time": "2023-04-28T08:34:15.339Z"
   },
   {
    "duration": 24,
    "start_time": "2023-04-28T08:34:15.403Z"
   },
   {
    "duration": 265,
    "start_time": "2023-04-28T08:34:15.428Z"
   },
   {
    "duration": 19,
    "start_time": "2023-04-28T08:34:15.695Z"
   },
   {
    "duration": 98,
    "start_time": "2023-04-28T08:34:15.716Z"
   },
   {
    "duration": 258,
    "start_time": "2023-04-28T08:34:15.816Z"
   },
   {
    "duration": 17,
    "start_time": "2023-04-28T08:34:16.076Z"
   },
   {
    "duration": 37,
    "start_time": "2023-04-28T08:34:16.094Z"
   },
   {
    "duration": 3190,
    "start_time": "2023-04-28T08:34:16.132Z"
   },
   {
    "duration": 401,
    "start_time": "2023-04-28T08:34:19.324Z"
   },
   {
    "duration": 23,
    "start_time": "2023-04-28T08:34:19.727Z"
   },
   {
    "duration": 14,
    "start_time": "2023-04-28T08:34:19.752Z"
   },
   {
    "duration": 98,
    "start_time": "2023-04-28T08:34:19.767Z"
   },
   {
    "duration": 93,
    "start_time": "2023-04-28T08:34:19.867Z"
   },
   {
    "duration": 4,
    "start_time": "2023-04-28T08:34:19.962Z"
   },
   {
    "duration": 742,
    "start_time": "2023-04-28T08:34:19.970Z"
   },
   {
    "duration": 3,
    "start_time": "2023-04-28T08:34:20.714Z"
   },
   {
    "duration": 242,
    "start_time": "2023-04-28T08:34:20.719Z"
   },
   {
    "duration": 68,
    "start_time": "2023-04-28T08:34:20.963Z"
   },
   {
    "duration": 33,
    "start_time": "2023-04-28T08:34:21.033Z"
   },
   {
    "duration": 3,
    "start_time": "2023-04-28T08:34:21.068Z"
   },
   {
    "duration": 365,
    "start_time": "2023-04-28T08:34:21.073Z"
   },
   {
    "duration": 475,
    "start_time": "2023-04-28T08:34:21.440Z"
   },
   {
    "duration": 96,
    "start_time": "2023-04-28T08:34:21.917Z"
   },
   {
    "duration": 96,
    "start_time": "2023-04-28T08:34:22.016Z"
   },
   {
    "duration": 5,
    "start_time": "2023-04-28T08:34:22.114Z"
   },
   {
    "duration": 13990,
    "start_time": "2023-04-28T08:34:22.121Z"
   },
   {
    "duration": 98,
    "start_time": "2023-04-28T08:34:36.115Z"
   },
   {
    "duration": 100,
    "start_time": "2023-04-28T08:34:36.215Z"
   },
   {
    "duration": 733,
    "start_time": "2023-04-28T08:34:36.316Z"
   },
   {
    "duration": 16,
    "start_time": "2023-04-28T08:34:37.050Z"
   },
   {
    "duration": 4,
    "start_time": "2023-04-28T08:34:37.068Z"
   },
   {
    "duration": 10,
    "start_time": "2023-04-28T08:34:37.074Z"
   },
   {
    "duration": 5,
    "start_time": "2023-04-28T08:34:37.085Z"
   },
   {
    "duration": 103,
    "start_time": "2023-04-28T08:34:37.111Z"
   },
   {
    "duration": 210,
    "start_time": "2023-04-28T08:34:37.216Z"
   },
   {
    "duration": 153616,
    "start_time": "2023-04-28T08:34:37.427Z"
   },
   {
    "duration": 1020,
    "start_time": "2023-04-28T08:37:11.045Z"
   },
   {
    "duration": 5,
    "start_time": "2023-04-28T08:37:12.066Z"
   },
   {
    "duration": 8647,
    "start_time": "2023-04-28T08:37:12.072Z"
   },
   {
    "duration": 904,
    "start_time": "2023-04-28T08:37:20.721Z"
   },
   {
    "duration": 5,
    "start_time": "2023-04-28T08:37:21.627Z"
   },
   {
    "duration": 4,
    "start_time": "2023-04-28T08:37:21.633Z"
   },
   {
    "duration": 18,
    "start_time": "2023-04-28T08:37:21.639Z"
   },
   {
    "duration": 13,
    "start_time": "2023-04-28T08:50:34.724Z"
   },
   {
    "duration": 768,
    "start_time": "2023-04-28T08:50:39.928Z"
   },
   {
    "duration": 9,
    "start_time": "2023-04-28T08:54:28.911Z"
   },
   {
    "duration": 41,
    "start_time": "2023-04-28T08:54:41.985Z"
   },
   {
    "duration": 12,
    "start_time": "2023-04-28T09:02:35.446Z"
   },
   {
    "duration": 45,
    "start_time": "2023-04-28T09:02:35.753Z"
   },
   {
    "duration": 26,
    "start_time": "2023-04-28T09:02:38.761Z"
   },
   {
    "duration": 52,
    "start_time": "2023-04-28T09:02:39.341Z"
   },
   {
    "duration": 80,
    "start_time": "2023-04-28T09:03:40.900Z"
   },
   {
    "duration": 112,
    "start_time": "2023-04-28T09:05:35.931Z"
   },
   {
    "duration": 95,
    "start_time": "2023-04-28T09:06:43.080Z"
   },
   {
    "duration": 16,
    "start_time": "2023-04-28T09:08:43.645Z"
   },
   {
    "duration": 357,
    "start_time": "2023-04-28T09:15:57.557Z"
   },
   {
    "duration": 397,
    "start_time": "2023-04-28T09:15:59.324Z"
   },
   {
    "duration": 93,
    "start_time": "2023-04-28T09:15:59.723Z"
   },
   {
    "duration": 1542,
    "start_time": "2023-04-28T09:21:51.720Z"
   },
   {
    "duration": 880,
    "start_time": "2023-04-28T09:21:53.264Z"
   },
   {
    "duration": 18,
    "start_time": "2023-04-28T09:21:54.146Z"
   },
   {
    "duration": 164,
    "start_time": "2023-04-28T09:21:54.167Z"
   },
   {
    "duration": 141,
    "start_time": "2023-04-28T09:21:54.333Z"
   },
   {
    "duration": 536,
    "start_time": "2023-04-28T09:21:54.476Z"
   },
   {
    "duration": 111,
    "start_time": "2023-04-28T09:21:55.015Z"
   },
   {
    "duration": 15,
    "start_time": "2023-04-28T09:21:55.128Z"
   },
   {
    "duration": 68,
    "start_time": "2023-04-28T09:21:55.144Z"
   },
   {
    "duration": 27,
    "start_time": "2023-04-28T09:21:55.215Z"
   },
   {
    "duration": 84,
    "start_time": "2023-04-28T09:21:55.244Z"
   },
   {
    "duration": 27,
    "start_time": "2023-04-28T09:21:55.330Z"
   },
   {
    "duration": 32,
    "start_time": "2023-04-28T09:21:55.360Z"
   },
   {
    "duration": 6,
    "start_time": "2023-04-28T09:21:55.394Z"
   },
   {
    "duration": 69,
    "start_time": "2023-04-28T09:21:55.402Z"
   },
   {
    "duration": 24,
    "start_time": "2023-04-28T09:21:55.473Z"
   },
   {
    "duration": 285,
    "start_time": "2023-04-28T09:21:55.498Z"
   },
   {
    "duration": 18,
    "start_time": "2023-04-28T09:21:55.785Z"
   },
   {
    "duration": 109,
    "start_time": "2023-04-28T09:21:55.811Z"
   },
   {
    "duration": 292,
    "start_time": "2023-04-28T09:21:55.922Z"
   },
   {
    "duration": 22,
    "start_time": "2023-04-28T09:21:56.216Z"
   },
   {
    "duration": 29,
    "start_time": "2023-04-28T09:21:56.240Z"
   },
   {
    "duration": 3143,
    "start_time": "2023-04-28T09:21:56.271Z"
   },
   {
    "duration": 382,
    "start_time": "2023-04-28T09:21:59.416Z"
   },
   {
    "duration": 73,
    "start_time": "2023-04-28T09:21:59.800Z"
   },
   {
    "duration": 0,
    "start_time": "2023-04-28T09:21:59.876Z"
   },
   {
    "duration": 0,
    "start_time": "2023-04-28T09:21:59.877Z"
   },
   {
    "duration": 0,
    "start_time": "2023-04-28T09:21:59.878Z"
   },
   {
    "duration": 1,
    "start_time": "2023-04-28T09:21:59.879Z"
   },
   {
    "duration": 0,
    "start_time": "2023-04-28T09:21:59.881Z"
   },
   {
    "duration": 0,
    "start_time": "2023-04-28T09:21:59.882Z"
   },
   {
    "duration": 0,
    "start_time": "2023-04-28T09:21:59.888Z"
   },
   {
    "duration": 0,
    "start_time": "2023-04-28T09:21:59.890Z"
   },
   {
    "duration": 0,
    "start_time": "2023-04-28T09:21:59.895Z"
   },
   {
    "duration": 0,
    "start_time": "2023-04-28T09:21:59.899Z"
   },
   {
    "duration": 0,
    "start_time": "2023-04-28T09:21:59.900Z"
   },
   {
    "duration": 0,
    "start_time": "2023-04-28T09:21:59.901Z"
   },
   {
    "duration": 0,
    "start_time": "2023-04-28T09:21:59.902Z"
   },
   {
    "duration": 0,
    "start_time": "2023-04-28T09:21:59.904Z"
   },
   {
    "duration": 0,
    "start_time": "2023-04-28T09:21:59.905Z"
   },
   {
    "duration": 0,
    "start_time": "2023-04-28T09:21:59.906Z"
   },
   {
    "duration": 0,
    "start_time": "2023-04-28T09:21:59.908Z"
   },
   {
    "duration": 0,
    "start_time": "2023-04-28T09:21:59.909Z"
   },
   {
    "duration": 0,
    "start_time": "2023-04-28T09:21:59.910Z"
   },
   {
    "duration": 0,
    "start_time": "2023-04-28T09:21:59.912Z"
   },
   {
    "duration": 0,
    "start_time": "2023-04-28T09:21:59.913Z"
   },
   {
    "duration": 0,
    "start_time": "2023-04-28T09:21:59.914Z"
   },
   {
    "duration": 0,
    "start_time": "2023-04-28T09:21:59.916Z"
   },
   {
    "duration": 0,
    "start_time": "2023-04-28T09:21:59.917Z"
   },
   {
    "duration": 0,
    "start_time": "2023-04-28T09:21:59.918Z"
   },
   {
    "duration": 0,
    "start_time": "2023-04-28T09:21:59.920Z"
   },
   {
    "duration": 0,
    "start_time": "2023-04-28T09:21:59.921Z"
   },
   {
    "duration": 1,
    "start_time": "2023-04-28T09:21:59.922Z"
   },
   {
    "duration": 0,
    "start_time": "2023-04-28T09:21:59.924Z"
   },
   {
    "duration": 0,
    "start_time": "2023-04-28T09:21:59.925Z"
   },
   {
    "duration": 1,
    "start_time": "2023-04-28T09:21:59.926Z"
   },
   {
    "duration": 0,
    "start_time": "2023-04-28T09:21:59.928Z"
   },
   {
    "duration": 0,
    "start_time": "2023-04-28T09:21:59.929Z"
   },
   {
    "duration": 0,
    "start_time": "2023-04-28T09:21:59.930Z"
   },
   {
    "duration": 0,
    "start_time": "2023-04-28T09:21:59.932Z"
   },
   {
    "duration": 0,
    "start_time": "2023-04-28T09:21:59.933Z"
   },
   {
    "duration": 0,
    "start_time": "2023-04-28T09:21:59.935Z"
   },
   {
    "duration": 25,
    "start_time": "2023-04-28T09:22:26.440Z"
   },
   {
    "duration": 15,
    "start_time": "2023-04-28T09:22:26.842Z"
   },
   {
    "duration": 84,
    "start_time": "2023-04-28T09:22:27.078Z"
   },
   {
    "duration": 78,
    "start_time": "2023-04-28T09:22:27.306Z"
   },
   {
    "duration": 1485,
    "start_time": "2023-04-28T09:22:33.839Z"
   },
   {
    "duration": 862,
    "start_time": "2023-04-28T09:22:35.326Z"
   },
   {
    "duration": 24,
    "start_time": "2023-04-28T09:22:36.190Z"
   },
   {
    "duration": 209,
    "start_time": "2023-04-28T09:22:36.216Z"
   },
   {
    "duration": 147,
    "start_time": "2023-04-28T09:22:36.427Z"
   },
   {
    "duration": 519,
    "start_time": "2023-04-28T09:22:36.576Z"
   },
   {
    "duration": 107,
    "start_time": "2023-04-28T09:22:37.096Z"
   },
   {
    "duration": 13,
    "start_time": "2023-04-28T09:22:37.212Z"
   },
   {
    "duration": 55,
    "start_time": "2023-04-28T09:22:37.227Z"
   },
   {
    "duration": 35,
    "start_time": "2023-04-28T09:22:37.285Z"
   },
   {
    "duration": 66,
    "start_time": "2023-04-28T09:22:37.322Z"
   },
   {
    "duration": 46,
    "start_time": "2023-04-28T09:22:37.390Z"
   },
   {
    "duration": 25,
    "start_time": "2023-04-28T09:22:37.438Z"
   },
   {
    "duration": 27,
    "start_time": "2023-04-28T09:22:37.465Z"
   },
   {
    "duration": 75,
    "start_time": "2023-04-28T09:22:37.494Z"
   },
   {
    "duration": 25,
    "start_time": "2023-04-28T09:22:37.571Z"
   },
   {
    "duration": 303,
    "start_time": "2023-04-28T09:22:37.598Z"
   },
   {
    "duration": 22,
    "start_time": "2023-04-28T09:22:37.903Z"
   },
   {
    "duration": 107,
    "start_time": "2023-04-28T09:22:37.927Z"
   },
   {
    "duration": 286,
    "start_time": "2023-04-28T09:22:38.036Z"
   },
   {
    "duration": 20,
    "start_time": "2023-04-28T09:22:38.324Z"
   },
   {
    "duration": 31,
    "start_time": "2023-04-28T09:22:38.345Z"
   },
   {
    "duration": 3293,
    "start_time": "2023-04-28T09:22:38.378Z"
   },
   {
    "duration": 394,
    "start_time": "2023-04-28T09:22:41.673Z"
   },
   {
    "duration": 25,
    "start_time": "2023-04-28T09:22:42.068Z"
   },
   {
    "duration": 26,
    "start_time": "2023-04-28T09:22:42.095Z"
   },
   {
    "duration": 95,
    "start_time": "2023-04-28T09:22:42.123Z"
   },
   {
    "duration": 90,
    "start_time": "2023-04-28T09:22:42.223Z"
   },
   {
    "duration": 3,
    "start_time": "2023-04-28T09:22:42.314Z"
   },
   {
    "duration": 759,
    "start_time": "2023-04-28T09:22:42.318Z"
   },
   {
    "duration": 3,
    "start_time": "2023-04-28T09:22:43.079Z"
   },
   {
    "duration": 238,
    "start_time": "2023-04-28T09:22:43.083Z"
   },
   {
    "duration": 76,
    "start_time": "2023-04-28T09:22:43.323Z"
   },
   {
    "duration": 0,
    "start_time": "2023-04-28T09:22:43.400Z"
   },
   {
    "duration": 0,
    "start_time": "2023-04-28T09:22:43.401Z"
   },
   {
    "duration": 0,
    "start_time": "2023-04-28T09:22:43.402Z"
   },
   {
    "duration": 0,
    "start_time": "2023-04-28T09:22:43.403Z"
   },
   {
    "duration": 0,
    "start_time": "2023-04-28T09:22:43.404Z"
   },
   {
    "duration": 0,
    "start_time": "2023-04-28T09:22:43.405Z"
   },
   {
    "duration": 0,
    "start_time": "2023-04-28T09:22:43.406Z"
   },
   {
    "duration": 0,
    "start_time": "2023-04-28T09:22:43.407Z"
   },
   {
    "duration": 0,
    "start_time": "2023-04-28T09:22:43.408Z"
   },
   {
    "duration": 0,
    "start_time": "2023-04-28T09:22:43.409Z"
   },
   {
    "duration": 0,
    "start_time": "2023-04-28T09:22:43.410Z"
   },
   {
    "duration": 0,
    "start_time": "2023-04-28T09:22:43.411Z"
   },
   {
    "duration": 0,
    "start_time": "2023-04-28T09:22:43.412Z"
   },
   {
    "duration": 0,
    "start_time": "2023-04-28T09:22:43.413Z"
   },
   {
    "duration": 0,
    "start_time": "2023-04-28T09:22:43.414Z"
   },
   {
    "duration": 0,
    "start_time": "2023-04-28T09:22:43.415Z"
   },
   {
    "duration": 0,
    "start_time": "2023-04-28T09:22:43.416Z"
   },
   {
    "duration": 0,
    "start_time": "2023-04-28T09:22:43.417Z"
   },
   {
    "duration": 0,
    "start_time": "2023-04-28T09:22:43.418Z"
   },
   {
    "duration": 0,
    "start_time": "2023-04-28T09:22:43.419Z"
   },
   {
    "duration": 0,
    "start_time": "2023-04-28T09:22:43.420Z"
   },
   {
    "duration": 0,
    "start_time": "2023-04-28T09:22:43.421Z"
   },
   {
    "duration": 0,
    "start_time": "2023-04-28T09:22:43.422Z"
   },
   {
    "duration": 0,
    "start_time": "2023-04-28T09:22:43.423Z"
   },
   {
    "duration": 0,
    "start_time": "2023-04-28T09:22:43.424Z"
   },
   {
    "duration": 0,
    "start_time": "2023-04-28T09:22:43.425Z"
   },
   {
    "duration": 0,
    "start_time": "2023-04-28T09:22:43.426Z"
   },
   {
    "duration": 0,
    "start_time": "2023-04-28T09:22:43.427Z"
   },
   {
    "duration": 1551,
    "start_time": "2023-04-28T09:22:58.091Z"
   },
   {
    "duration": 828,
    "start_time": "2023-04-28T09:22:59.644Z"
   },
   {
    "duration": 19,
    "start_time": "2023-04-28T09:23:00.473Z"
   },
   {
    "duration": 180,
    "start_time": "2023-04-28T09:23:00.494Z"
   },
   {
    "duration": 150,
    "start_time": "2023-04-28T09:23:00.676Z"
   },
   {
    "duration": 538,
    "start_time": "2023-04-28T09:23:00.828Z"
   },
   {
    "duration": 105,
    "start_time": "2023-04-28T09:23:01.367Z"
   },
   {
    "duration": 13,
    "start_time": "2023-04-28T09:23:01.473Z"
   },
   {
    "duration": 69,
    "start_time": "2023-04-28T09:23:01.488Z"
   },
   {
    "duration": 27,
    "start_time": "2023-04-28T09:23:01.559Z"
   },
   {
    "duration": 107,
    "start_time": "2023-04-28T09:23:01.588Z"
   },
   {
    "duration": 26,
    "start_time": "2023-04-28T09:23:01.697Z"
   },
   {
    "duration": 40,
    "start_time": "2023-04-28T09:23:01.725Z"
   },
   {
    "duration": 13,
    "start_time": "2023-04-28T09:23:01.767Z"
   },
   {
    "duration": 73,
    "start_time": "2023-04-28T09:23:01.781Z"
   },
   {
    "duration": 26,
    "start_time": "2023-04-28T09:23:01.856Z"
   },
   {
    "duration": 287,
    "start_time": "2023-04-28T09:23:01.884Z"
   },
   {
    "duration": 16,
    "start_time": "2023-04-28T09:23:02.173Z"
   },
   {
    "duration": 99,
    "start_time": "2023-04-28T09:23:02.190Z"
   },
   {
    "duration": 261,
    "start_time": "2023-04-28T09:23:02.291Z"
   },
   {
    "duration": 18,
    "start_time": "2023-04-28T09:23:02.553Z"
   },
   {
    "duration": 30,
    "start_time": "2023-04-28T09:23:02.573Z"
   },
   {
    "duration": 3102,
    "start_time": "2023-04-28T09:23:02.611Z"
   },
   {
    "duration": 397,
    "start_time": "2023-04-28T09:23:05.715Z"
   },
   {
    "duration": 26,
    "start_time": "2023-04-28T09:23:06.113Z"
   },
   {
    "duration": 31,
    "start_time": "2023-04-28T09:23:06.140Z"
   },
   {
    "duration": 109,
    "start_time": "2023-04-28T09:23:06.173Z"
   },
   {
    "duration": 87,
    "start_time": "2023-04-28T09:23:06.286Z"
   },
   {
    "duration": 3,
    "start_time": "2023-04-28T09:23:06.374Z"
   },
   {
    "duration": 810,
    "start_time": "2023-04-28T09:23:06.379Z"
   },
   {
    "duration": 8,
    "start_time": "2023-04-28T09:23:07.191Z"
   },
   {
    "duration": 334,
    "start_time": "2023-04-28T09:23:07.201Z"
   },
   {
    "duration": 62,
    "start_time": "2023-04-28T09:23:07.537Z"
   },
   {
    "duration": 47,
    "start_time": "2023-04-28T09:23:07.600Z"
   },
   {
    "duration": 73,
    "start_time": "2023-04-28T09:23:07.648Z"
   },
   {
    "duration": 0,
    "start_time": "2023-04-28T09:23:07.722Z"
   },
   {
    "duration": 0,
    "start_time": "2023-04-28T09:23:07.724Z"
   },
   {
    "duration": 0,
    "start_time": "2023-04-28T09:23:07.725Z"
   },
   {
    "duration": 0,
    "start_time": "2023-04-28T09:23:07.725Z"
   },
   {
    "duration": 0,
    "start_time": "2023-04-28T09:23:07.726Z"
   },
   {
    "duration": 0,
    "start_time": "2023-04-28T09:23:07.727Z"
   },
   {
    "duration": 0,
    "start_time": "2023-04-28T09:23:07.728Z"
   },
   {
    "duration": 0,
    "start_time": "2023-04-28T09:23:07.730Z"
   },
   {
    "duration": 0,
    "start_time": "2023-04-28T09:23:07.731Z"
   },
   {
    "duration": 0,
    "start_time": "2023-04-28T09:23:07.732Z"
   },
   {
    "duration": 0,
    "start_time": "2023-04-28T09:23:07.734Z"
   },
   {
    "duration": 0,
    "start_time": "2023-04-28T09:23:07.736Z"
   },
   {
    "duration": 0,
    "start_time": "2023-04-28T09:23:07.737Z"
   },
   {
    "duration": 0,
    "start_time": "2023-04-28T09:23:07.739Z"
   },
   {
    "duration": 0,
    "start_time": "2023-04-28T09:23:07.740Z"
   },
   {
    "duration": 0,
    "start_time": "2023-04-28T09:23:07.741Z"
   },
   {
    "duration": 0,
    "start_time": "2023-04-28T09:23:07.743Z"
   },
   {
    "duration": 0,
    "start_time": "2023-04-28T09:23:07.744Z"
   },
   {
    "duration": 0,
    "start_time": "2023-04-28T09:23:07.746Z"
   },
   {
    "duration": 0,
    "start_time": "2023-04-28T09:23:07.747Z"
   },
   {
    "duration": 0,
    "start_time": "2023-04-28T09:23:07.748Z"
   },
   {
    "duration": 0,
    "start_time": "2023-04-28T09:23:07.750Z"
   },
   {
    "duration": 1,
    "start_time": "2023-04-28T09:23:07.751Z"
   },
   {
    "duration": 0,
    "start_time": "2023-04-28T09:23:07.753Z"
   },
   {
    "duration": 0,
    "start_time": "2023-04-28T09:23:07.754Z"
   },
   {
    "duration": 1396,
    "start_time": "2023-04-28T09:23:21.460Z"
   },
   {
    "duration": 878,
    "start_time": "2023-04-28T09:23:22.858Z"
   },
   {
    "duration": 16,
    "start_time": "2023-04-28T09:23:23.738Z"
   },
   {
    "duration": 169,
    "start_time": "2023-04-28T09:23:23.756Z"
   },
   {
    "duration": 141,
    "start_time": "2023-04-28T09:23:23.927Z"
   },
   {
    "duration": 484,
    "start_time": "2023-04-28T09:23:24.070Z"
   },
   {
    "duration": 117,
    "start_time": "2023-04-28T09:23:24.556Z"
   },
   {
    "duration": 16,
    "start_time": "2023-04-28T09:23:24.675Z"
   },
   {
    "duration": 56,
    "start_time": "2023-04-28T09:23:24.693Z"
   },
   {
    "duration": 27,
    "start_time": "2023-04-28T09:23:24.752Z"
   },
   {
    "duration": 78,
    "start_time": "2023-04-28T09:23:24.781Z"
   },
   {
    "duration": 26,
    "start_time": "2023-04-28T09:23:24.861Z"
   },
   {
    "duration": 31,
    "start_time": "2023-04-28T09:23:24.889Z"
   },
   {
    "duration": 9,
    "start_time": "2023-04-28T09:23:24.922Z"
   },
   {
    "duration": 58,
    "start_time": "2023-04-28T09:23:24.933Z"
   },
   {
    "duration": 37,
    "start_time": "2023-04-28T09:23:24.992Z"
   },
   {
    "duration": 276,
    "start_time": "2023-04-28T09:23:25.031Z"
   },
   {
    "duration": 16,
    "start_time": "2023-04-28T09:23:25.309Z"
   },
   {
    "duration": 103,
    "start_time": "2023-04-28T09:23:25.326Z"
   },
   {
    "duration": 257,
    "start_time": "2023-04-28T09:23:25.431Z"
   },
   {
    "duration": 22,
    "start_time": "2023-04-28T09:23:25.690Z"
   },
   {
    "duration": 43,
    "start_time": "2023-04-28T09:23:25.714Z"
   },
   {
    "duration": 3326,
    "start_time": "2023-04-28T09:23:25.759Z"
   },
   {
    "duration": 420,
    "start_time": "2023-04-28T09:23:29.088Z"
   },
   {
    "duration": 23,
    "start_time": "2023-04-28T09:23:29.512Z"
   },
   {
    "duration": 15,
    "start_time": "2023-04-28T09:23:29.537Z"
   },
   {
    "duration": 98,
    "start_time": "2023-04-28T09:23:29.554Z"
   },
   {
    "duration": 82,
    "start_time": "2023-04-28T09:23:29.656Z"
   },
   {
    "duration": 3,
    "start_time": "2023-04-28T09:23:29.740Z"
   },
   {
    "duration": 772,
    "start_time": "2023-04-28T09:23:29.744Z"
   },
   {
    "duration": 11,
    "start_time": "2023-04-28T09:23:30.518Z"
   },
   {
    "duration": 274,
    "start_time": "2023-04-28T09:23:30.531Z"
   },
   {
    "duration": 62,
    "start_time": "2023-04-28T09:23:30.807Z"
   },
   {
    "duration": 54,
    "start_time": "2023-04-28T09:23:30.871Z"
   },
   {
    "duration": 2,
    "start_time": "2023-04-28T09:23:30.927Z"
   },
   {
    "duration": 385,
    "start_time": "2023-04-28T09:23:30.931Z"
   },
   {
    "duration": 410,
    "start_time": "2023-04-28T09:23:31.317Z"
   },
   {
    "duration": 85,
    "start_time": "2023-04-28T09:23:31.729Z"
   },
   {
    "duration": 97,
    "start_time": "2023-04-28T09:23:31.817Z"
   },
   {
    "duration": 31,
    "start_time": "2023-04-28T09:23:31.916Z"
   },
   {
    "duration": 12462,
    "start_time": "2023-04-28T09:23:31.949Z"
   },
   {
    "duration": 102,
    "start_time": "2023-04-28T09:23:44.415Z"
   },
   {
    "duration": 94,
    "start_time": "2023-04-28T09:23:44.522Z"
   },
   {
    "duration": 766,
    "start_time": "2023-04-28T09:23:44.618Z"
   },
   {
    "duration": 14,
    "start_time": "2023-04-28T09:23:45.386Z"
   },
   {
    "duration": 5,
    "start_time": "2023-04-28T09:23:45.412Z"
   },
   {
    "duration": 5,
    "start_time": "2023-04-28T09:23:45.419Z"
   },
   {
    "duration": 8,
    "start_time": "2023-04-28T09:23:45.426Z"
   },
   {
    "duration": 112,
    "start_time": "2023-04-28T09:23:45.436Z"
   },
   {
    "duration": 208,
    "start_time": "2023-04-28T09:23:45.550Z"
   },
   {
    "duration": 153058,
    "start_time": "2023-04-28T09:23:45.760Z"
   },
   {
    "duration": 1112,
    "start_time": "2023-04-28T09:26:18.819Z"
   },
   {
    "duration": 5,
    "start_time": "2023-04-28T09:26:19.933Z"
   },
   {
    "duration": 109,
    "start_time": "2023-04-28T09:26:19.939Z"
   },
   {
    "duration": 0,
    "start_time": "2023-04-28T09:26:20.050Z"
   },
   {
    "duration": 0,
    "start_time": "2023-04-28T09:26:20.051Z"
   },
   {
    "duration": 0,
    "start_time": "2023-04-28T09:26:20.053Z"
   },
   {
    "duration": 0,
    "start_time": "2023-04-28T09:26:20.054Z"
   },
   {
    "duration": 0,
    "start_time": "2023-04-28T09:26:20.055Z"
   },
   {
    "duration": 9002,
    "start_time": "2023-04-28T09:27:57.619Z"
   },
   {
    "duration": 1518,
    "start_time": "2023-04-28T09:29:00.819Z"
   },
   {
    "duration": 880,
    "start_time": "2023-04-28T09:29:02.339Z"
   },
   {
    "duration": 16,
    "start_time": "2023-04-28T09:29:03.221Z"
   },
   {
    "duration": 173,
    "start_time": "2023-04-28T09:29:03.240Z"
   },
   {
    "duration": 151,
    "start_time": "2023-04-28T09:29:03.415Z"
   },
   {
    "duration": 546,
    "start_time": "2023-04-28T09:29:03.568Z"
   },
   {
    "duration": 105,
    "start_time": "2023-04-28T09:29:04.116Z"
   },
   {
    "duration": 14,
    "start_time": "2023-04-28T09:29:04.223Z"
   },
   {
    "duration": 48,
    "start_time": "2023-04-28T09:29:04.238Z"
   },
   {
    "duration": 49,
    "start_time": "2023-04-28T09:29:04.289Z"
   },
   {
    "duration": 84,
    "start_time": "2023-04-28T09:29:04.339Z"
   },
   {
    "duration": 29,
    "start_time": "2023-04-28T09:29:04.424Z"
   },
   {
    "duration": 20,
    "start_time": "2023-04-28T09:29:04.455Z"
   },
   {
    "duration": 9,
    "start_time": "2023-04-28T09:29:04.477Z"
   },
   {
    "duration": 78,
    "start_time": "2023-04-28T09:29:04.488Z"
   },
   {
    "duration": 27,
    "start_time": "2023-04-28T09:29:04.568Z"
   },
   {
    "duration": 286,
    "start_time": "2023-04-28T09:29:04.612Z"
   },
   {
    "duration": 22,
    "start_time": "2023-04-28T09:29:04.900Z"
   },
   {
    "duration": 109,
    "start_time": "2023-04-28T09:29:04.924Z"
   },
   {
    "duration": 283,
    "start_time": "2023-04-28T09:29:05.034Z"
   },
   {
    "duration": 18,
    "start_time": "2023-04-28T09:29:05.320Z"
   },
   {
    "duration": 35,
    "start_time": "2023-04-28T09:29:05.340Z"
   },
   {
    "duration": 3229,
    "start_time": "2023-04-28T09:29:05.377Z"
   },
   {
    "duration": 459,
    "start_time": "2023-04-28T09:29:08.608Z"
   },
   {
    "duration": 30,
    "start_time": "2023-04-28T09:29:09.069Z"
   },
   {
    "duration": 21,
    "start_time": "2023-04-28T09:29:09.101Z"
   },
   {
    "duration": 106,
    "start_time": "2023-04-28T09:29:09.125Z"
   },
   {
    "duration": 93,
    "start_time": "2023-04-28T09:29:09.236Z"
   },
   {
    "duration": 3,
    "start_time": "2023-04-28T09:29:09.331Z"
   },
   {
    "duration": 835,
    "start_time": "2023-04-28T09:29:09.336Z"
   },
   {
    "duration": 3,
    "start_time": "2023-04-28T09:29:10.173Z"
   },
   {
    "duration": 244,
    "start_time": "2023-04-28T09:29:10.178Z"
   },
   {
    "duration": 62,
    "start_time": "2023-04-28T09:29:10.424Z"
   },
   {
    "duration": 51,
    "start_time": "2023-04-28T09:29:10.488Z"
   },
   {
    "duration": 3,
    "start_time": "2023-04-28T09:29:10.541Z"
   },
   {
    "duration": 375,
    "start_time": "2023-04-28T09:29:10.545Z"
   },
   {
    "duration": 405,
    "start_time": "2023-04-28T09:29:10.922Z"
   },
   {
    "duration": 98,
    "start_time": "2023-04-28T09:29:11.330Z"
   },
   {
    "duration": 88,
    "start_time": "2023-04-28T09:29:11.431Z"
   },
   {
    "duration": 90,
    "start_time": "2023-04-28T09:29:11.521Z"
   },
   {
    "duration": 14455,
    "start_time": "2023-04-28T09:29:11.613Z"
   },
   {
    "duration": 104,
    "start_time": "2023-04-28T09:29:26.112Z"
   },
   {
    "duration": 93,
    "start_time": "2023-04-28T09:29:26.221Z"
   },
   {
    "duration": 781,
    "start_time": "2023-04-28T09:29:26.316Z"
   },
   {
    "duration": 27,
    "start_time": "2023-04-28T09:29:27.100Z"
   },
   {
    "duration": 5,
    "start_time": "2023-04-28T09:29:27.129Z"
   },
   {
    "duration": 9,
    "start_time": "2023-04-28T09:29:27.136Z"
   },
   {
    "duration": 25,
    "start_time": "2023-04-28T09:29:27.147Z"
   },
   {
    "duration": 111,
    "start_time": "2023-04-28T09:29:27.173Z"
   },
   {
    "duration": 235,
    "start_time": "2023-04-28T09:29:27.286Z"
   },
   {
    "duration": 160071,
    "start_time": "2023-04-28T09:29:27.523Z"
   },
   {
    "duration": 1044,
    "start_time": "2023-04-28T09:32:07.595Z"
   },
   {
    "duration": 4,
    "start_time": "2023-04-28T09:32:08.642Z"
   },
   {
    "duration": 9674,
    "start_time": "2023-04-28T09:32:08.648Z"
   },
   {
    "duration": 915,
    "start_time": "2023-04-28T09:32:18.324Z"
   },
   {
    "duration": 73,
    "start_time": "2023-04-28T09:32:19.241Z"
   },
   {
    "duration": 50,
    "start_time": "2023-04-28T09:32:19.315Z"
   },
   {
    "duration": 62,
    "start_time": "2023-04-28T09:32:19.367Z"
   },
   {
    "duration": 428,
    "start_time": "2023-04-28T09:32:19.831Z"
   },
   {
    "duration": 343,
    "start_time": "2023-04-28T09:33:31.826Z"
   },
   {
    "duration": 132,
    "start_time": "2023-04-28T09:34:49.357Z"
   },
   {
    "duration": 1570,
    "start_time": "2023-04-28T09:35:44.096Z"
   },
   {
    "duration": 888,
    "start_time": "2023-04-28T09:35:45.668Z"
   },
   {
    "duration": 18,
    "start_time": "2023-04-28T09:35:46.558Z"
   },
   {
    "duration": 163,
    "start_time": "2023-04-28T09:35:46.577Z"
   },
   {
    "duration": 133,
    "start_time": "2023-04-28T09:35:46.742Z"
   },
   {
    "duration": 525,
    "start_time": "2023-04-28T09:35:46.876Z"
   },
   {
    "duration": 97,
    "start_time": "2023-04-28T09:35:47.402Z"
   },
   {
    "duration": 383,
    "start_time": "2023-04-28T09:35:47.500Z"
   },
   {
    "duration": 5,
    "start_time": "2023-04-28T09:35:47.885Z"
   },
   {
    "duration": 77,
    "start_time": "2023-04-28T09:35:47.892Z"
   },
   {
    "duration": 27,
    "start_time": "2023-04-28T09:35:47.971Z"
   },
   {
    "duration": 66,
    "start_time": "2023-04-28T09:35:48.011Z"
   },
   {
    "duration": 45,
    "start_time": "2023-04-28T09:35:48.079Z"
   },
   {
    "duration": 21,
    "start_time": "2023-04-28T09:35:48.128Z"
   },
   {
    "duration": 20,
    "start_time": "2023-04-28T09:35:48.151Z"
   },
   {
    "duration": 64,
    "start_time": "2023-04-28T09:35:48.173Z"
   },
   {
    "duration": 26,
    "start_time": "2023-04-28T09:35:48.238Z"
   },
   {
    "duration": 272,
    "start_time": "2023-04-28T09:35:48.265Z"
   },
   {
    "duration": 174,
    "start_time": "2023-04-28T09:35:48.539Z"
   },
   {
    "duration": 18,
    "start_time": "2023-04-28T09:35:48.716Z"
   },
   {
    "duration": 114,
    "start_time": "2023-04-28T09:35:48.736Z"
   },
   {
    "duration": 420,
    "start_time": "2023-04-28T09:35:48.852Z"
   },
   {
    "duration": 19,
    "start_time": "2023-04-28T09:35:49.274Z"
   },
   {
    "duration": 34,
    "start_time": "2023-04-28T09:35:49.295Z"
   },
   {
    "duration": 3081,
    "start_time": "2023-04-28T09:35:49.331Z"
   },
   {
    "duration": 491,
    "start_time": "2023-04-28T09:35:52.413Z"
   },
   {
    "duration": 27,
    "start_time": "2023-04-28T09:35:52.906Z"
   },
   {
    "duration": 17,
    "start_time": "2023-04-28T09:35:52.935Z"
   },
   {
    "duration": 105,
    "start_time": "2023-04-28T09:35:52.953Z"
   },
   {
    "duration": 87,
    "start_time": "2023-04-28T09:35:53.060Z"
   },
   {
    "duration": 3,
    "start_time": "2023-04-28T09:35:53.149Z"
   },
   {
    "duration": 838,
    "start_time": "2023-04-28T09:35:53.154Z"
   },
   {
    "duration": 3,
    "start_time": "2023-04-28T09:35:53.994Z"
   },
   {
    "duration": 269,
    "start_time": "2023-04-28T09:35:53.999Z"
   },
   {
    "duration": 69,
    "start_time": "2023-04-28T09:35:54.270Z"
   },
   {
    "duration": 40,
    "start_time": "2023-04-28T09:35:54.341Z"
   },
   {
    "duration": 2,
    "start_time": "2023-04-28T09:35:54.383Z"
   },
   {
    "duration": 406,
    "start_time": "2023-04-28T09:35:54.387Z"
   },
   {
    "duration": 430,
    "start_time": "2023-04-28T09:35:54.795Z"
   },
   {
    "duration": 87,
    "start_time": "2023-04-28T09:35:55.227Z"
   },
   {
    "duration": 94,
    "start_time": "2023-04-28T09:35:55.321Z"
   },
   {
    "duration": 13,
    "start_time": "2023-04-28T09:35:55.416Z"
   },
   {
    "duration": 13752,
    "start_time": "2023-04-28T09:35:55.431Z"
   },
   {
    "duration": 105,
    "start_time": "2023-04-28T09:36:09.213Z"
   },
   {
    "duration": 97,
    "start_time": "2023-04-28T09:36:09.323Z"
   },
   {
    "duration": 775,
    "start_time": "2023-04-28T09:36:09.512Z"
   },
   {
    "duration": 29,
    "start_time": "2023-04-28T09:36:10.289Z"
   },
   {
    "duration": 6,
    "start_time": "2023-04-28T09:36:10.320Z"
   },
   {
    "duration": 10,
    "start_time": "2023-04-28T09:36:10.327Z"
   },
   {
    "duration": 6,
    "start_time": "2023-04-28T09:36:10.339Z"
   },
   {
    "duration": 110,
    "start_time": "2023-04-28T09:36:10.346Z"
   },
   {
    "duration": 245,
    "start_time": "2023-04-28T09:36:10.458Z"
   },
   {
    "duration": 1545,
    "start_time": "2023-04-28T09:37:01.180Z"
   },
   {
    "duration": 889,
    "start_time": "2023-04-28T09:37:02.727Z"
   },
   {
    "duration": 17,
    "start_time": "2023-04-28T09:37:03.617Z"
   },
   {
    "duration": 156,
    "start_time": "2023-04-28T09:37:03.636Z"
   },
   {
    "duration": 151,
    "start_time": "2023-04-28T09:37:03.794Z"
   },
   {
    "duration": 521,
    "start_time": "2023-04-28T09:37:03.946Z"
   },
   {
    "duration": 104,
    "start_time": "2023-04-28T09:37:04.469Z"
   },
   {
    "duration": 393,
    "start_time": "2023-04-28T09:37:04.575Z"
   },
   {
    "duration": 4,
    "start_time": "2023-04-28T09:37:04.970Z"
   },
   {
    "duration": 72,
    "start_time": "2023-04-28T09:37:04.977Z"
   },
   {
    "duration": 28,
    "start_time": "2023-04-28T09:37:05.051Z"
   },
   {
    "duration": 79,
    "start_time": "2023-04-28T09:37:05.081Z"
   },
   {
    "duration": 34,
    "start_time": "2023-04-28T09:37:05.161Z"
   },
   {
    "duration": 31,
    "start_time": "2023-04-28T09:37:05.197Z"
   },
   {
    "duration": 11,
    "start_time": "2023-04-28T09:37:05.229Z"
   },
   {
    "duration": 54,
    "start_time": "2023-04-28T09:37:05.241Z"
   },
   {
    "duration": 39,
    "start_time": "2023-04-28T09:37:05.297Z"
   },
   {
    "duration": 286,
    "start_time": "2023-04-28T09:37:05.338Z"
   },
   {
    "duration": 170,
    "start_time": "2023-04-28T09:37:05.626Z"
   },
   {
    "duration": 27,
    "start_time": "2023-04-28T09:37:05.798Z"
   },
   {
    "duration": 109,
    "start_time": "2023-04-28T09:37:05.827Z"
   },
   {
    "duration": 348,
    "start_time": "2023-04-28T09:37:05.938Z"
   },
   {
    "duration": 25,
    "start_time": "2023-04-28T09:37:06.287Z"
   },
   {
    "duration": 28,
    "start_time": "2023-04-28T09:37:06.314Z"
   },
   {
    "duration": 3399,
    "start_time": "2023-04-28T09:37:06.343Z"
   },
   {
    "duration": 477,
    "start_time": "2023-04-28T09:37:09.744Z"
   },
   {
    "duration": 25,
    "start_time": "2023-04-28T09:37:10.223Z"
   },
   {
    "duration": 20,
    "start_time": "2023-04-28T09:37:10.251Z"
   },
   {
    "duration": 98,
    "start_time": "2023-04-28T09:37:10.273Z"
   },
   {
    "duration": 89,
    "start_time": "2023-04-28T09:37:10.373Z"
   },
   {
    "duration": 3,
    "start_time": "2023-04-28T09:37:10.464Z"
   },
   {
    "duration": 783,
    "start_time": "2023-04-28T09:37:10.469Z"
   },
   {
    "duration": 4,
    "start_time": "2023-04-28T09:37:11.253Z"
   },
   {
    "duration": 239,
    "start_time": "2023-04-28T09:37:11.258Z"
   },
   {
    "duration": 65,
    "start_time": "2023-04-28T09:37:11.498Z"
   },
   {
    "duration": 54,
    "start_time": "2023-04-28T09:37:11.564Z"
   },
   {
    "duration": 3,
    "start_time": "2023-04-28T09:37:11.619Z"
   },
   {
    "duration": 377,
    "start_time": "2023-04-28T09:37:11.624Z"
   },
   {
    "duration": 425,
    "start_time": "2023-04-28T09:37:12.003Z"
   },
   {
    "duration": 86,
    "start_time": "2023-04-28T09:37:12.430Z"
   },
   {
    "duration": 96,
    "start_time": "2023-04-28T09:37:12.518Z"
   },
   {
    "duration": 8,
    "start_time": "2023-04-28T09:37:12.617Z"
   },
   {
    "duration": 12740,
    "start_time": "2023-04-28T09:37:12.627Z"
   },
   {
    "duration": 110,
    "start_time": "2023-04-28T09:37:25.413Z"
   },
   {
    "duration": 5,
    "start_time": "2023-04-28T09:37:25.611Z"
   },
   {
    "duration": 788,
    "start_time": "2023-04-28T09:37:25.618Z"
   },
   {
    "duration": 16,
    "start_time": "2023-04-28T09:37:26.412Z"
   },
   {
    "duration": 6,
    "start_time": "2023-04-28T09:37:26.429Z"
   },
   {
    "duration": 9,
    "start_time": "2023-04-28T09:37:26.436Z"
   },
   {
    "duration": 17,
    "start_time": "2023-04-28T09:37:26.446Z"
   },
   {
    "duration": 137,
    "start_time": "2023-04-28T09:37:26.465Z"
   },
   {
    "duration": 242,
    "start_time": "2023-04-28T09:37:26.604Z"
   },
   {
    "duration": 159002,
    "start_time": "2023-04-28T09:37:26.848Z"
   },
   {
    "duration": 1030,
    "start_time": "2023-04-28T09:40:05.852Z"
   },
   {
    "duration": 5,
    "start_time": "2023-04-28T09:40:06.884Z"
   },
   {
    "duration": 9129,
    "start_time": "2023-04-28T09:40:06.890Z"
   },
   {
    "duration": 898,
    "start_time": "2023-04-28T09:40:16.021Z"
   },
   {
    "duration": 4,
    "start_time": "2023-04-28T09:40:16.921Z"
   },
   {
    "duration": 19,
    "start_time": "2023-04-28T09:40:16.927Z"
   },
   {
    "duration": 38,
    "start_time": "2023-04-28T09:40:16.948Z"
   },
   {
    "duration": 1500,
    "start_time": "2023-04-28T09:41:12.553Z"
   },
   {
    "duration": 869,
    "start_time": "2023-04-28T09:41:14.055Z"
   },
   {
    "duration": 17,
    "start_time": "2023-04-28T09:41:14.926Z"
   },
   {
    "duration": 163,
    "start_time": "2023-04-28T09:41:14.944Z"
   },
   {
    "duration": 143,
    "start_time": "2023-04-28T09:41:15.112Z"
   },
   {
    "duration": 520,
    "start_time": "2023-04-28T09:41:15.257Z"
   },
   {
    "duration": 105,
    "start_time": "2023-04-28T09:41:15.779Z"
   },
   {
    "duration": 367,
    "start_time": "2023-04-28T09:41:15.886Z"
   },
   {
    "duration": 4,
    "start_time": "2023-04-28T09:41:16.255Z"
   },
   {
    "duration": 78,
    "start_time": "2023-04-28T09:41:16.261Z"
   },
   {
    "duration": 51,
    "start_time": "2023-04-28T09:41:16.341Z"
   },
   {
    "duration": 40,
    "start_time": "2023-04-28T09:41:16.394Z"
   },
   {
    "duration": 90,
    "start_time": "2023-04-28T09:41:16.436Z"
   },
   {
    "duration": 32,
    "start_time": "2023-04-28T09:41:16.529Z"
   },
   {
    "duration": 20,
    "start_time": "2023-04-28T09:41:16.563Z"
   },
   {
    "duration": 33,
    "start_time": "2023-04-28T09:41:16.585Z"
   },
   {
    "duration": 44,
    "start_time": "2023-04-28T09:41:16.620Z"
   },
   {
    "duration": 49,
    "start_time": "2023-04-28T09:41:16.666Z"
   },
   {
    "duration": 310,
    "start_time": "2023-04-28T09:41:16.717Z"
   },
   {
    "duration": 193,
    "start_time": "2023-04-28T09:41:17.029Z"
   },
   {
    "duration": 18,
    "start_time": "2023-04-28T09:41:17.223Z"
   },
   {
    "duration": 43,
    "start_time": "2023-04-28T09:41:17.243Z"
   },
   {
    "duration": 387,
    "start_time": "2023-04-28T09:41:17.288Z"
   },
   {
    "duration": 18,
    "start_time": "2023-04-28T09:41:17.677Z"
   },
   {
    "duration": 36,
    "start_time": "2023-04-28T09:41:17.697Z"
   },
   {
    "duration": 3152,
    "start_time": "2023-04-28T09:41:17.735Z"
   },
   {
    "duration": 428,
    "start_time": "2023-04-28T09:41:20.889Z"
   },
   {
    "duration": 31,
    "start_time": "2023-04-28T09:41:21.321Z"
   },
   {
    "duration": 36,
    "start_time": "2023-04-28T09:41:21.353Z"
   },
   {
    "duration": 95,
    "start_time": "2023-04-28T09:41:21.391Z"
   },
   {
    "duration": 87,
    "start_time": "2023-04-28T09:41:21.487Z"
   },
   {
    "duration": 3,
    "start_time": "2023-04-28T09:41:21.575Z"
   },
   {
    "duration": 819,
    "start_time": "2023-04-28T09:41:21.579Z"
   },
   {
    "duration": 3,
    "start_time": "2023-04-28T09:41:22.400Z"
   },
   {
    "duration": 249,
    "start_time": "2023-04-28T09:41:22.405Z"
   },
   {
    "duration": 75,
    "start_time": "2023-04-28T09:41:22.656Z"
   },
   {
    "duration": 38,
    "start_time": "2023-04-28T09:41:22.733Z"
   },
   {
    "duration": 18,
    "start_time": "2023-04-28T09:41:22.773Z"
   },
   {
    "duration": 458,
    "start_time": "2023-04-28T09:41:22.794Z"
   },
   {
    "duration": 478,
    "start_time": "2023-04-28T09:41:23.254Z"
   },
   {
    "duration": 95,
    "start_time": "2023-04-28T09:41:23.735Z"
   },
   {
    "duration": 181,
    "start_time": "2023-04-28T09:41:23.832Z"
   },
   {
    "duration": 3,
    "start_time": "2023-04-28T09:41:24.016Z"
   },
   {
    "duration": 16248,
    "start_time": "2023-04-28T09:41:24.021Z"
   },
   {
    "duration": 49,
    "start_time": "2023-04-28T09:41:40.271Z"
   },
   {
    "duration": 99,
    "start_time": "2023-04-28T09:41:40.322Z"
   },
   {
    "duration": 856,
    "start_time": "2023-04-28T09:41:40.424Z"
   },
   {
    "duration": 15,
    "start_time": "2023-04-28T09:41:41.281Z"
   },
   {
    "duration": 9,
    "start_time": "2023-04-28T09:41:41.311Z"
   },
   {
    "duration": 16,
    "start_time": "2023-04-28T09:41:41.321Z"
   },
   {
    "duration": 12,
    "start_time": "2023-04-28T09:41:41.339Z"
   },
   {
    "duration": 127,
    "start_time": "2023-04-28T09:41:41.353Z"
   },
   {
    "duration": 216,
    "start_time": "2023-04-28T09:41:41.481Z"
   },
   {
    "duration": 158602,
    "start_time": "2023-04-28T09:41:41.699Z"
   },
   {
    "duration": 1171,
    "start_time": "2023-04-28T09:44:20.303Z"
   },
   {
    "duration": 4,
    "start_time": "2023-04-28T09:44:21.476Z"
   },
   {
    "duration": 1588,
    "start_time": "2023-04-28T09:45:28.323Z"
   },
   {
    "duration": 951,
    "start_time": "2023-04-28T09:45:29.913Z"
   },
   {
    "duration": 17,
    "start_time": "2023-04-28T09:45:30.865Z"
   },
   {
    "duration": 197,
    "start_time": "2023-04-28T09:45:30.884Z"
   },
   {
    "duration": 158,
    "start_time": "2023-04-28T09:45:31.082Z"
   },
   {
    "duration": 578,
    "start_time": "2023-04-28T09:45:31.242Z"
   },
   {
    "duration": 114,
    "start_time": "2023-04-28T09:45:31.823Z"
   },
   {
    "duration": 398,
    "start_time": "2023-04-28T09:45:31.939Z"
   },
   {
    "duration": 5,
    "start_time": "2023-04-28T09:45:32.339Z"
   },
   {
    "duration": 79,
    "start_time": "2023-04-28T09:45:32.347Z"
   },
   {
    "duration": 52,
    "start_time": "2023-04-28T09:45:32.428Z"
   },
   {
    "duration": 44,
    "start_time": "2023-04-28T09:45:32.481Z"
   },
   {
    "duration": 70,
    "start_time": "2023-04-28T09:45:32.526Z"
   },
   {
    "duration": 45,
    "start_time": "2023-04-28T09:45:32.597Z"
   },
   {
    "duration": 33,
    "start_time": "2023-04-28T09:45:32.643Z"
   },
   {
    "duration": 14,
    "start_time": "2023-04-28T09:45:32.678Z"
   },
   {
    "duration": 65,
    "start_time": "2023-04-28T09:45:32.694Z"
   },
   {
    "duration": 26,
    "start_time": "2023-04-28T09:45:32.761Z"
   },
   {
    "duration": 332,
    "start_time": "2023-04-28T09:45:32.789Z"
   },
   {
    "duration": 178,
    "start_time": "2023-04-28T09:45:33.123Z"
   },
   {
    "duration": 25,
    "start_time": "2023-04-28T09:45:33.303Z"
   },
   {
    "duration": 46,
    "start_time": "2023-04-28T09:45:33.330Z"
   },
   {
    "duration": 375,
    "start_time": "2023-04-28T09:45:33.378Z"
   },
   {
    "duration": 20,
    "start_time": "2023-04-28T09:45:33.755Z"
   },
   {
    "duration": 41,
    "start_time": "2023-04-28T09:45:33.776Z"
   },
   {
    "duration": 3274,
    "start_time": "2023-04-28T09:45:33.819Z"
   },
   {
    "duration": 438,
    "start_time": "2023-04-28T09:45:37.095Z"
   },
   {
    "duration": 28,
    "start_time": "2023-04-28T09:45:37.538Z"
   },
   {
    "duration": 55,
    "start_time": "2023-04-28T09:45:37.568Z"
   },
   {
    "duration": 89,
    "start_time": "2023-04-28T09:45:37.625Z"
   },
   {
    "duration": 98,
    "start_time": "2023-04-28T09:45:37.716Z"
   },
   {
    "duration": 130,
    "start_time": "2023-04-28T09:45:37.816Z"
   },
   {
    "duration": 0,
    "start_time": "2023-04-28T09:45:37.948Z"
   },
   {
    "duration": 0,
    "start_time": "2023-04-28T09:45:37.949Z"
   },
   {
    "duration": 0,
    "start_time": "2023-04-28T09:45:37.951Z"
   },
   {
    "duration": 0,
    "start_time": "2023-04-28T09:45:37.952Z"
   },
   {
    "duration": 0,
    "start_time": "2023-04-28T09:45:37.954Z"
   },
   {
    "duration": 0,
    "start_time": "2023-04-28T09:45:37.955Z"
   },
   {
    "duration": 0,
    "start_time": "2023-04-28T09:45:37.956Z"
   },
   {
    "duration": 0,
    "start_time": "2023-04-28T09:45:37.957Z"
   },
   {
    "duration": 0,
    "start_time": "2023-04-28T09:45:37.958Z"
   },
   {
    "duration": 0,
    "start_time": "2023-04-28T09:45:37.959Z"
   },
   {
    "duration": 0,
    "start_time": "2023-04-28T09:45:37.960Z"
   },
   {
    "duration": 0,
    "start_time": "2023-04-28T09:45:37.961Z"
   },
   {
    "duration": 0,
    "start_time": "2023-04-28T09:45:37.962Z"
   },
   {
    "duration": 0,
    "start_time": "2023-04-28T09:45:37.963Z"
   },
   {
    "duration": 0,
    "start_time": "2023-04-28T09:45:37.964Z"
   },
   {
    "duration": 0,
    "start_time": "2023-04-28T09:45:37.965Z"
   },
   {
    "duration": 0,
    "start_time": "2023-04-28T09:45:37.966Z"
   },
   {
    "duration": 0,
    "start_time": "2023-04-28T09:45:37.967Z"
   },
   {
    "duration": 0,
    "start_time": "2023-04-28T09:45:37.968Z"
   },
   {
    "duration": 0,
    "start_time": "2023-04-28T09:45:37.969Z"
   },
   {
    "duration": 0,
    "start_time": "2023-04-28T09:45:37.970Z"
   },
   {
    "duration": 0,
    "start_time": "2023-04-28T09:45:37.971Z"
   },
   {
    "duration": 0,
    "start_time": "2023-04-28T09:45:38.012Z"
   },
   {
    "duration": 0,
    "start_time": "2023-04-28T09:45:38.013Z"
   },
   {
    "duration": 0,
    "start_time": "2023-04-28T09:45:38.014Z"
   },
   {
    "duration": 0,
    "start_time": "2023-04-28T09:45:38.015Z"
   },
   {
    "duration": 0,
    "start_time": "2023-04-28T09:45:38.016Z"
   },
   {
    "duration": 0,
    "start_time": "2023-04-28T09:45:38.017Z"
   },
   {
    "duration": 0,
    "start_time": "2023-04-28T09:45:38.018Z"
   },
   {
    "duration": 0,
    "start_time": "2023-04-28T09:45:38.019Z"
   },
   {
    "duration": 1542,
    "start_time": "2023-04-28T09:46:00.439Z"
   },
   {
    "duration": 952,
    "start_time": "2023-04-28T09:46:01.983Z"
   },
   {
    "duration": 20,
    "start_time": "2023-04-28T09:46:02.936Z"
   },
   {
    "duration": 167,
    "start_time": "2023-04-28T09:46:02.958Z"
   },
   {
    "duration": 148,
    "start_time": "2023-04-28T09:46:03.128Z"
   },
   {
    "duration": 536,
    "start_time": "2023-04-28T09:46:03.277Z"
   },
   {
    "duration": 119,
    "start_time": "2023-04-28T09:46:03.815Z"
   },
   {
    "duration": 428,
    "start_time": "2023-04-28T09:46:03.936Z"
   },
   {
    "duration": 6,
    "start_time": "2023-04-28T09:46:04.366Z"
   },
   {
    "duration": 82,
    "start_time": "2023-04-28T09:46:04.375Z"
   },
   {
    "duration": 58,
    "start_time": "2023-04-28T09:46:04.459Z"
   },
   {
    "duration": 39,
    "start_time": "2023-04-28T09:46:04.519Z"
   },
   {
    "duration": 90,
    "start_time": "2023-04-28T09:46:04.560Z"
   },
   {
    "duration": 31,
    "start_time": "2023-04-28T09:46:04.652Z"
   },
   {
    "duration": 37,
    "start_time": "2023-04-28T09:46:04.684Z"
   },
   {
    "duration": 7,
    "start_time": "2023-04-28T09:46:04.725Z"
   },
   {
    "duration": 45,
    "start_time": "2023-04-28T09:46:04.736Z"
   },
   {
    "duration": 42,
    "start_time": "2023-04-28T09:46:04.783Z"
   },
   {
    "duration": 306,
    "start_time": "2023-04-28T09:46:04.827Z"
   },
   {
    "duration": 192,
    "start_time": "2023-04-28T09:46:05.136Z"
   },
   {
    "duration": 18,
    "start_time": "2023-04-28T09:46:05.330Z"
   },
   {
    "duration": 42,
    "start_time": "2023-04-28T09:46:05.350Z"
   },
   {
    "duration": 366,
    "start_time": "2023-04-28T09:46:05.394Z"
   },
   {
    "duration": 17,
    "start_time": "2023-04-28T09:46:05.762Z"
   },
   {
    "duration": 42,
    "start_time": "2023-04-28T09:46:05.781Z"
   },
   {
    "duration": 3287,
    "start_time": "2023-04-28T09:46:05.825Z"
   },
   {
    "duration": 450,
    "start_time": "2023-04-28T09:46:09.114Z"
   },
   {
    "duration": 27,
    "start_time": "2023-04-28T09:46:09.568Z"
   },
   {
    "duration": 39,
    "start_time": "2023-04-28T09:46:09.597Z"
   },
   {
    "duration": 96,
    "start_time": "2023-04-28T09:46:09.638Z"
   },
   {
    "duration": 97,
    "start_time": "2023-04-28T09:46:09.736Z"
   },
   {
    "duration": 601,
    "start_time": "2023-04-28T09:46:09.835Z"
   },
   {
    "duration": 4,
    "start_time": "2023-04-28T09:46:10.437Z"
   },
   {
    "duration": 823,
    "start_time": "2023-04-28T09:46:10.443Z"
   },
   {
    "duration": 4,
    "start_time": "2023-04-28T09:46:11.267Z"
   },
   {
    "duration": 245,
    "start_time": "2023-04-28T09:46:11.272Z"
   },
   {
    "duration": 66,
    "start_time": "2023-04-28T09:46:11.519Z"
   },
   {
    "duration": 54,
    "start_time": "2023-04-28T09:46:11.587Z"
   },
   {
    "duration": 2,
    "start_time": "2023-04-28T09:46:11.643Z"
   },
   {
    "duration": 378,
    "start_time": "2023-04-28T09:46:11.647Z"
   },
   {
    "duration": 491,
    "start_time": "2023-04-28T09:46:12.026Z"
   },
   {
    "duration": 95,
    "start_time": "2023-04-28T09:46:12.520Z"
   },
   {
    "duration": 95,
    "start_time": "2023-04-28T09:46:12.617Z"
   },
   {
    "duration": 11,
    "start_time": "2023-04-28T09:46:12.714Z"
   },
   {
    "duration": 18342,
    "start_time": "2023-04-28T09:46:12.727Z"
   },
   {
    "duration": 145,
    "start_time": "2023-04-28T09:46:31.071Z"
   },
   {
    "duration": 92,
    "start_time": "2023-04-28T09:46:31.223Z"
   },
   {
    "duration": 844,
    "start_time": "2023-04-28T09:46:31.317Z"
   },
   {
    "duration": 17,
    "start_time": "2023-04-28T09:46:32.163Z"
   },
   {
    "duration": 17,
    "start_time": "2023-04-28T09:46:32.181Z"
   },
   {
    "duration": 22,
    "start_time": "2023-04-28T09:46:32.200Z"
   },
   {
    "duration": 31,
    "start_time": "2023-04-28T09:46:32.225Z"
   },
   {
    "duration": 128,
    "start_time": "2023-04-28T09:46:32.258Z"
   },
   {
    "duration": 248,
    "start_time": "2023-04-28T09:46:32.388Z"
   },
   {
    "duration": 158992,
    "start_time": "2023-04-28T09:46:32.638Z"
   },
   {
    "duration": 1116,
    "start_time": "2023-04-28T09:49:11.632Z"
   },
   {
    "duration": 5,
    "start_time": "2023-04-28T09:49:12.749Z"
   },
   {
    "duration": 8763,
    "start_time": "2023-04-28T09:49:12.756Z"
   },
   {
    "duration": 820,
    "start_time": "2023-04-28T09:49:21.521Z"
   },
   {
    "duration": 5,
    "start_time": "2023-04-28T09:49:22.412Z"
   },
   {
    "duration": 7,
    "start_time": "2023-04-28T09:49:22.419Z"
   },
   {
    "duration": 14,
    "start_time": "2023-04-28T09:49:22.428Z"
   },
   {
    "duration": 56,
    "start_time": "2023-04-29T09:41:04.264Z"
   },
   {
    "duration": 2277,
    "start_time": "2023-04-29T09:41:20.108Z"
   },
   {
    "duration": 1443,
    "start_time": "2023-04-29T09:41:22.388Z"
   },
   {
    "duration": 18,
    "start_time": "2023-04-29T09:41:23.834Z"
   },
   {
    "duration": 168,
    "start_time": "2023-04-29T09:41:23.855Z"
   },
   {
    "duration": 140,
    "start_time": "2023-04-29T09:41:24.024Z"
   },
   {
    "duration": 642,
    "start_time": "2023-04-29T09:41:24.166Z"
   },
   {
    "duration": 132,
    "start_time": "2023-04-29T09:41:24.809Z"
   },
   {
    "duration": 428,
    "start_time": "2023-04-29T09:41:24.943Z"
   },
   {
    "duration": 5,
    "start_time": "2023-04-29T09:41:25.373Z"
   },
   {
    "duration": 89,
    "start_time": "2023-04-29T09:41:25.381Z"
   },
   {
    "duration": 70,
    "start_time": "2023-04-29T09:41:25.472Z"
   },
   {
    "duration": 29,
    "start_time": "2023-04-29T09:41:25.544Z"
   },
   {
    "duration": 97,
    "start_time": "2023-04-29T09:41:25.575Z"
   },
   {
    "duration": 32,
    "start_time": "2023-04-29T09:41:25.674Z"
   },
   {
    "duration": 37,
    "start_time": "2023-04-29T09:41:25.708Z"
   },
   {
    "duration": 20,
    "start_time": "2023-04-29T09:41:25.747Z"
   },
   {
    "duration": 77,
    "start_time": "2023-04-29T09:41:25.769Z"
   },
   {
    "duration": 28,
    "start_time": "2023-04-29T09:41:25.849Z"
   },
   {
    "duration": 369,
    "start_time": "2023-04-29T09:41:25.879Z"
   },
   {
    "duration": 194,
    "start_time": "2023-04-29T09:41:26.250Z"
   },
   {
    "duration": 22,
    "start_time": "2023-04-29T09:41:26.446Z"
   },
   {
    "duration": 71,
    "start_time": "2023-04-29T09:41:26.471Z"
   },
   {
    "duration": 438,
    "start_time": "2023-04-29T09:41:26.544Z"
   },
   {
    "duration": 17,
    "start_time": "2023-04-29T09:41:26.984Z"
   },
   {
    "duration": 39,
    "start_time": "2023-04-29T09:41:27.003Z"
   },
   {
    "duration": 3303,
    "start_time": "2023-04-29T09:41:27.044Z"
   },
   {
    "duration": 533,
    "start_time": "2023-04-29T09:41:30.349Z"
   },
   {
    "duration": 37,
    "start_time": "2023-04-29T09:41:30.887Z"
   },
   {
    "duration": 45,
    "start_time": "2023-04-29T09:41:30.926Z"
   },
   {
    "duration": 107,
    "start_time": "2023-04-29T09:41:30.973Z"
   },
   {
    "duration": 107,
    "start_time": "2023-04-29T09:41:31.082Z"
   },
   {
    "duration": 620,
    "start_time": "2023-04-29T09:41:31.191Z"
   },
   {
    "duration": 3,
    "start_time": "2023-04-29T09:41:31.813Z"
   },
   {
    "duration": 829,
    "start_time": "2023-04-29T09:41:31.818Z"
   },
   {
    "duration": 3,
    "start_time": "2023-04-29T09:41:32.650Z"
   },
   {
    "duration": 311,
    "start_time": "2023-04-29T09:41:32.655Z"
   },
   {
    "duration": 90,
    "start_time": "2023-04-29T09:41:32.968Z"
   },
   {
    "duration": 43,
    "start_time": "2023-04-29T09:41:33.060Z"
   },
   {
    "duration": 3,
    "start_time": "2023-04-29T09:41:33.105Z"
   },
   {
    "duration": 422,
    "start_time": "2023-04-29T09:41:33.110Z"
   },
   {
    "duration": 516,
    "start_time": "2023-04-29T09:41:33.534Z"
   },
   {
    "duration": 93,
    "start_time": "2023-04-29T09:41:34.051Z"
   },
   {
    "duration": 124,
    "start_time": "2023-04-29T09:41:34.146Z"
   },
   {
    "duration": 7,
    "start_time": "2023-04-29T09:41:34.272Z"
   },
   {
    "duration": 14916,
    "start_time": "2023-04-29T09:41:34.281Z"
   },
   {
    "duration": 100,
    "start_time": "2023-04-29T09:41:49.242Z"
   },
   {
    "duration": 107,
    "start_time": "2023-04-29T09:41:49.345Z"
   },
   {
    "duration": 906,
    "start_time": "2023-04-29T09:41:49.455Z"
   },
   {
    "duration": 18,
    "start_time": "2023-04-29T09:41:50.363Z"
   },
   {
    "duration": 5,
    "start_time": "2023-04-29T09:41:50.383Z"
   },
   {
    "duration": 22,
    "start_time": "2023-04-29T09:41:50.390Z"
   },
   {
    "duration": 12,
    "start_time": "2023-04-29T09:41:50.414Z"
   },
   {
    "duration": 147,
    "start_time": "2023-04-29T09:41:50.428Z"
   },
   {
    "duration": 264,
    "start_time": "2023-04-29T09:41:50.577Z"
   },
   {
    "duration": 180220,
    "start_time": "2023-04-29T09:41:50.843Z"
   },
   {
    "duration": 1404,
    "start_time": "2023-04-29T09:44:51.065Z"
   },
   {
    "duration": 6,
    "start_time": "2023-04-29T09:44:52.471Z"
   },
   {
    "duration": 1207282,
    "start_time": "2023-04-29T09:44:52.479Z"
   },
   {
    "duration": 927,
    "start_time": "2023-04-29T10:04:59.842Z"
   },
   {
    "duration": 69,
    "start_time": "2023-04-29T10:05:00.772Z"
   },
   {
    "duration": 56,
    "start_time": "2023-04-29T10:05:00.844Z"
   },
   {
    "duration": 72,
    "start_time": "2023-04-29T10:05:00.903Z"
   },
   {
    "duration": 4,
    "start_time": "2023-04-29T10:14:27.377Z"
   },
   {
    "duration": 870,
    "start_time": "2023-04-29T10:14:28.339Z"
   },
   {
    "duration": 110,
    "start_time": "2023-04-29T10:14:29.212Z"
   },
   {
    "duration": 4,
    "start_time": "2023-04-29T10:14:34.483Z"
   },
   {
    "duration": 2779,
    "start_time": "2023-04-29T10:14:35.087Z"
   },
   {
    "duration": 50,
    "start_time": "2023-04-29T10:14:38.727Z"
   },
   {
    "duration": 5,
    "start_time": "2023-04-29T10:14:42.234Z"
   },
   {
    "duration": 434,
    "start_time": "2023-04-29T10:14:42.934Z"
   },
   {
    "duration": 1771,
    "start_time": "2023-04-29T10:16:54.107Z"
   },
   {
    "duration": 1374,
    "start_time": "2023-04-29T10:16:55.881Z"
   },
   {
    "duration": 25,
    "start_time": "2023-04-29T10:16:57.263Z"
   },
   {
    "duration": 174,
    "start_time": "2023-04-29T10:16:57.292Z"
   },
   {
    "duration": 150,
    "start_time": "2023-04-29T10:16:57.468Z"
   },
   {
    "duration": 733,
    "start_time": "2023-04-29T10:16:57.620Z"
   },
   {
    "duration": 136,
    "start_time": "2023-04-29T10:16:58.356Z"
   },
   {
    "duration": 463,
    "start_time": "2023-04-29T10:16:58.494Z"
   },
   {
    "duration": 7,
    "start_time": "2023-04-29T10:16:58.964Z"
   },
   {
    "duration": 109,
    "start_time": "2023-04-29T10:16:58.976Z"
   },
   {
    "duration": 78,
    "start_time": "2023-04-29T10:16:59.087Z"
   },
   {
    "duration": 32,
    "start_time": "2023-04-29T10:16:59.167Z"
   },
   {
    "duration": 108,
    "start_time": "2023-04-29T10:16:59.201Z"
   },
   {
    "duration": 46,
    "start_time": "2023-04-29T10:16:59.311Z"
   },
   {
    "duration": 21,
    "start_time": "2023-04-29T10:16:59.359Z"
   },
   {
    "duration": 27,
    "start_time": "2023-04-29T10:16:59.382Z"
   },
   {
    "duration": 81,
    "start_time": "2023-04-29T10:16:59.412Z"
   },
   {
    "duration": 27,
    "start_time": "2023-04-29T10:16:59.495Z"
   },
   {
    "duration": 338,
    "start_time": "2023-04-29T10:16:59.524Z"
   },
   {
    "duration": 204,
    "start_time": "2023-04-29T10:16:59.864Z"
   },
   {
    "duration": 23,
    "start_time": "2023-04-29T10:17:00.071Z"
   },
   {
    "duration": 84,
    "start_time": "2023-04-29T10:17:00.097Z"
   },
   {
    "duration": 497,
    "start_time": "2023-04-29T10:17:00.184Z"
   },
   {
    "duration": 21,
    "start_time": "2023-04-29T10:17:00.683Z"
   },
   {
    "duration": 81,
    "start_time": "2023-04-29T10:17:00.706Z"
   },
   {
    "duration": 3680,
    "start_time": "2023-04-29T10:17:00.790Z"
   },
   {
    "duration": 566,
    "start_time": "2023-04-29T10:17:04.472Z"
   },
   {
    "duration": 42,
    "start_time": "2023-04-29T10:17:05.044Z"
   },
   {
    "duration": 40,
    "start_time": "2023-04-29T10:17:05.088Z"
   },
   {
    "duration": 97,
    "start_time": "2023-04-29T10:17:05.133Z"
   },
   {
    "duration": 121,
    "start_time": "2023-04-29T10:17:05.233Z"
   },
   {
    "duration": 731,
    "start_time": "2023-04-29T10:17:05.357Z"
   },
   {
    "duration": 3,
    "start_time": "2023-04-29T10:17:06.092Z"
   },
   {
    "duration": 885,
    "start_time": "2023-04-29T10:17:06.098Z"
   },
   {
    "duration": 4,
    "start_time": "2023-04-29T10:17:06.985Z"
   },
   {
    "duration": 346,
    "start_time": "2023-04-29T10:17:06.991Z"
   },
   {
    "duration": 89,
    "start_time": "2023-04-29T10:17:07.339Z"
   },
   {
    "duration": 52,
    "start_time": "2023-04-29T10:17:07.441Z"
   },
   {
    "duration": 3,
    "start_time": "2023-04-29T10:17:07.495Z"
   },
   {
    "duration": 508,
    "start_time": "2023-04-29T10:17:07.500Z"
   },
   {
    "duration": 635,
    "start_time": "2023-04-29T10:17:08.010Z"
   },
   {
    "duration": 93,
    "start_time": "2023-04-29T10:17:08.652Z"
   },
   {
    "duration": 97,
    "start_time": "2023-04-29T10:17:08.752Z"
   },
   {
    "duration": 39,
    "start_time": "2023-04-29T10:17:08.857Z"
   },
   {
    "duration": 18451,
    "start_time": "2023-04-29T10:17:08.898Z"
   },
   {
    "duration": 97,
    "start_time": "2023-04-29T10:17:27.351Z"
   },
   {
    "duration": 111,
    "start_time": "2023-04-29T10:17:27.451Z"
   },
   {
    "duration": 1072,
    "start_time": "2023-04-29T10:17:27.564Z"
   },
   {
    "duration": 20,
    "start_time": "2023-04-29T10:17:28.643Z"
   },
   {
    "duration": 8,
    "start_time": "2023-04-29T10:17:28.665Z"
   },
   {
    "duration": 15,
    "start_time": "2023-04-29T10:17:28.675Z"
   },
   {
    "duration": 15,
    "start_time": "2023-04-29T10:17:28.693Z"
   },
   {
    "duration": 155,
    "start_time": "2023-04-29T10:17:28.711Z"
   },
   {
    "duration": 272,
    "start_time": "2023-04-29T10:17:28.869Z"
   },
   {
    "duration": 198678,
    "start_time": "2023-04-29T10:17:29.149Z"
   },
   {
    "duration": 1596,
    "start_time": "2023-04-29T10:20:47.829Z"
   },
   {
    "duration": 19,
    "start_time": "2023-04-29T10:20:49.428Z"
   },
   {
    "duration": 1758,
    "start_time": "2023-04-29T10:28:28.205Z"
   },
   {
    "duration": 1507,
    "start_time": "2023-04-29T10:28:29.972Z"
   },
   {
    "duration": 28,
    "start_time": "2023-04-29T10:28:31.481Z"
   },
   {
    "duration": 179,
    "start_time": "2023-04-29T10:28:31.512Z"
   },
   {
    "duration": 141,
    "start_time": "2023-04-29T10:28:31.693Z"
   },
   {
    "duration": 719,
    "start_time": "2023-04-29T10:28:31.836Z"
   },
   {
    "duration": 131,
    "start_time": "2023-04-29T10:28:32.561Z"
   },
   {
    "duration": 477,
    "start_time": "2023-04-29T10:28:32.694Z"
   },
   {
    "duration": 6,
    "start_time": "2023-04-29T10:28:33.174Z"
   },
   {
    "duration": 109,
    "start_time": "2023-04-29T10:28:33.183Z"
   },
   {
    "duration": 85,
    "start_time": "2023-04-29T10:28:33.294Z"
   },
   {
    "duration": 37,
    "start_time": "2023-04-29T10:28:33.383Z"
   },
   {
    "duration": 134,
    "start_time": "2023-04-29T10:28:33.423Z"
   },
   {
    "duration": 36,
    "start_time": "2023-04-29T10:28:33.559Z"
   },
   {
    "duration": 32,
    "start_time": "2023-04-29T10:28:33.598Z"
   },
   {
    "duration": 27,
    "start_time": "2023-04-29T10:28:33.644Z"
   },
   {
    "duration": 87,
    "start_time": "2023-04-29T10:28:33.676Z"
   },
   {
    "duration": 27,
    "start_time": "2023-04-29T10:28:33.771Z"
   },
   {
    "duration": 330,
    "start_time": "2023-04-29T10:28:33.800Z"
   },
   {
    "duration": 209,
    "start_time": "2023-04-29T10:28:34.132Z"
   },
   {
    "duration": 27,
    "start_time": "2023-04-29T10:28:34.343Z"
   },
   {
    "duration": 79,
    "start_time": "2023-04-29T10:28:34.372Z"
   },
   {
    "duration": 439,
    "start_time": "2023-04-29T10:28:34.453Z"
   },
   {
    "duration": 17,
    "start_time": "2023-04-29T10:28:34.895Z"
   },
   {
    "duration": 67,
    "start_time": "2023-04-29T10:28:34.914Z"
   },
   {
    "duration": 3670,
    "start_time": "2023-04-29T10:28:34.983Z"
   },
   {
    "duration": 536,
    "start_time": "2023-04-29T10:28:38.655Z"
   },
   {
    "duration": 61,
    "start_time": "2023-04-29T10:28:39.195Z"
   },
   {
    "duration": 35,
    "start_time": "2023-04-29T10:28:39.268Z"
   },
   {
    "duration": 86,
    "start_time": "2023-04-29T10:28:39.305Z"
   },
   {
    "duration": 115,
    "start_time": "2023-04-29T10:28:39.393Z"
   },
   {
    "duration": 622,
    "start_time": "2023-04-29T10:28:39.509Z"
   },
   {
    "duration": 19,
    "start_time": "2023-04-29T10:28:40.134Z"
   },
   {
    "duration": 16,
    "start_time": "2023-04-29T10:28:40.164Z"
   },
   {
    "duration": 10,
    "start_time": "2023-04-29T10:28:40.182Z"
   },
   {
    "duration": 9,
    "start_time": "2023-04-29T10:28:40.194Z"
   },
   {
    "duration": 14,
    "start_time": "2023-04-29T10:28:40.205Z"
   },
   {
    "duration": 189,
    "start_time": "2023-04-29T10:28:40.221Z"
   },
   {
    "duration": 0,
    "start_time": "2023-04-29T10:28:40.412Z"
   },
   {
    "duration": 0,
    "start_time": "2023-04-29T10:28:40.413Z"
   },
   {
    "duration": 0,
    "start_time": "2023-04-29T10:28:40.415Z"
   },
   {
    "duration": 0,
    "start_time": "2023-04-29T10:28:40.416Z"
   },
   {
    "duration": 0,
    "start_time": "2023-04-29T10:28:40.419Z"
   },
   {
    "duration": 0,
    "start_time": "2023-04-29T10:28:40.421Z"
   },
   {
    "duration": 0,
    "start_time": "2023-04-29T10:28:40.423Z"
   },
   {
    "duration": 0,
    "start_time": "2023-04-29T10:28:40.448Z"
   },
   {
    "duration": 1868,
    "start_time": "2023-04-29T10:29:00.237Z"
   },
   {
    "duration": 1243,
    "start_time": "2023-04-29T10:29:02.108Z"
   },
   {
    "duration": 24,
    "start_time": "2023-04-29T10:29:03.361Z"
   },
   {
    "duration": 142,
    "start_time": "2023-04-29T10:29:03.388Z"
   },
   {
    "duration": 145,
    "start_time": "2023-04-29T10:29:03.532Z"
   },
   {
    "duration": 701,
    "start_time": "2023-04-29T10:29:03.679Z"
   },
   {
    "duration": 138,
    "start_time": "2023-04-29T10:29:04.382Z"
   },
   {
    "duration": 484,
    "start_time": "2023-04-29T10:29:04.522Z"
   },
   {
    "duration": 6,
    "start_time": "2023-04-29T10:29:05.008Z"
   },
   {
    "duration": 151,
    "start_time": "2023-04-29T10:29:05.017Z"
   },
   {
    "duration": 74,
    "start_time": "2023-04-29T10:29:05.170Z"
   },
   {
    "duration": 40,
    "start_time": "2023-04-29T10:29:05.247Z"
   },
   {
    "duration": 86,
    "start_time": "2023-04-29T10:29:05.289Z"
   },
   {
    "duration": 30,
    "start_time": "2023-04-29T10:29:05.378Z"
   },
   {
    "duration": 48,
    "start_time": "2023-04-29T10:29:05.411Z"
   },
   {
    "duration": 45,
    "start_time": "2023-04-29T10:29:05.463Z"
   },
   {
    "duration": 57,
    "start_time": "2023-04-29T10:29:05.510Z"
   },
   {
    "duration": 37,
    "start_time": "2023-04-29T10:29:05.569Z"
   },
   {
    "duration": 333,
    "start_time": "2023-04-29T10:29:05.608Z"
   },
   {
    "duration": 249,
    "start_time": "2023-04-29T10:29:05.943Z"
   },
   {
    "duration": 23,
    "start_time": "2023-04-29T10:29:06.195Z"
   },
   {
    "duration": 85,
    "start_time": "2023-04-29T10:29:06.220Z"
   },
   {
    "duration": 483,
    "start_time": "2023-04-29T10:29:06.308Z"
   },
   {
    "duration": 30,
    "start_time": "2023-04-29T10:29:06.794Z"
   },
   {
    "duration": 102,
    "start_time": "2023-04-29T10:29:06.827Z"
   },
   {
    "duration": 3640,
    "start_time": "2023-04-29T10:29:06.932Z"
   },
   {
    "duration": 539,
    "start_time": "2023-04-29T10:29:10.576Z"
   },
   {
    "duration": 49,
    "start_time": "2023-04-29T10:29:11.119Z"
   },
   {
    "duration": 25,
    "start_time": "2023-04-29T10:29:11.169Z"
   },
   {
    "duration": 107,
    "start_time": "2023-04-29T10:29:11.196Z"
   },
   {
    "duration": 123,
    "start_time": "2023-04-29T10:29:11.306Z"
   },
   {
    "duration": 617,
    "start_time": "2023-04-29T10:29:11.431Z"
   },
   {
    "duration": 21,
    "start_time": "2023-04-29T10:29:12.050Z"
   },
   {
    "duration": 17,
    "start_time": "2023-04-29T10:29:12.075Z"
   },
   {
    "duration": 8,
    "start_time": "2023-04-29T10:29:12.094Z"
   },
   {
    "duration": 15,
    "start_time": "2023-04-29T10:29:12.104Z"
   },
   {
    "duration": 10,
    "start_time": "2023-04-29T10:29:12.122Z"
   },
   {
    "duration": 31,
    "start_time": "2023-04-29T10:29:12.134Z"
   },
   {
    "duration": 24,
    "start_time": "2023-04-29T10:29:12.168Z"
   },
   {
    "duration": 164,
    "start_time": "2023-04-29T10:29:12.194Z"
   },
   {
    "duration": 0,
    "start_time": "2023-04-29T10:29:12.360Z"
   },
   {
    "duration": 0,
    "start_time": "2023-04-29T10:29:12.363Z"
   },
   {
    "duration": 0,
    "start_time": "2023-04-29T10:29:12.364Z"
   },
   {
    "duration": 0,
    "start_time": "2023-04-29T10:29:12.366Z"
   },
   {
    "duration": 0,
    "start_time": "2023-04-29T10:29:12.372Z"
   },
   {
    "duration": 0,
    "start_time": "2023-04-29T10:29:12.377Z"
   },
   {
    "duration": 1886,
    "start_time": "2023-04-29T10:30:06.936Z"
   },
   {
    "duration": 1343,
    "start_time": "2023-04-29T10:30:08.825Z"
   },
   {
    "duration": 21,
    "start_time": "2023-04-29T10:30:10.172Z"
   },
   {
    "duration": 156,
    "start_time": "2023-04-29T10:30:10.196Z"
   },
   {
    "duration": 148,
    "start_time": "2023-04-29T10:30:10.358Z"
   },
   {
    "duration": 759,
    "start_time": "2023-04-29T10:30:10.508Z"
   },
   {
    "duration": 147,
    "start_time": "2023-04-29T10:30:11.269Z"
   },
   {
    "duration": 557,
    "start_time": "2023-04-29T10:30:11.418Z"
   },
   {
    "duration": 6,
    "start_time": "2023-04-29T10:30:11.978Z"
   },
   {
    "duration": 124,
    "start_time": "2023-04-29T10:30:11.989Z"
   },
   {
    "duration": 79,
    "start_time": "2023-04-29T10:30:12.116Z"
   },
   {
    "duration": 30,
    "start_time": "2023-04-29T10:30:12.197Z"
   },
   {
    "duration": 85,
    "start_time": "2023-04-29T10:30:12.244Z"
   },
   {
    "duration": 50,
    "start_time": "2023-04-29T10:30:12.332Z"
   },
   {
    "duration": 32,
    "start_time": "2023-04-29T10:30:12.385Z"
   },
   {
    "duration": 64,
    "start_time": "2023-04-29T10:30:12.420Z"
   },
   {
    "duration": 79,
    "start_time": "2023-04-29T10:30:12.487Z"
   },
   {
    "duration": 30,
    "start_time": "2023-04-29T10:30:12.568Z"
   },
   {
    "duration": 359,
    "start_time": "2023-04-29T10:30:12.600Z"
   },
   {
    "duration": 205,
    "start_time": "2023-04-29T10:30:12.967Z"
   },
   {
    "duration": 23,
    "start_time": "2023-04-29T10:30:13.177Z"
   },
   {
    "duration": 83,
    "start_time": "2023-04-29T10:30:13.203Z"
   },
   {
    "duration": 431,
    "start_time": "2023-04-29T10:30:13.290Z"
   },
   {
    "duration": 28,
    "start_time": "2023-04-29T10:30:13.723Z"
   },
   {
    "duration": 57,
    "start_time": "2023-04-29T10:30:13.755Z"
   },
   {
    "duration": 3757,
    "start_time": "2023-04-29T10:30:13.815Z"
   },
   {
    "duration": 544,
    "start_time": "2023-04-29T10:30:17.574Z"
   },
   {
    "duration": 53,
    "start_time": "2023-04-29T10:30:18.122Z"
   },
   {
    "duration": 17,
    "start_time": "2023-04-29T10:30:18.178Z"
   },
   {
    "duration": 99,
    "start_time": "2023-04-29T10:30:18.197Z"
   },
   {
    "duration": 112,
    "start_time": "2023-04-29T10:30:18.298Z"
   },
   {
    "duration": 617,
    "start_time": "2023-04-29T10:30:18.413Z"
   },
   {
    "duration": 4,
    "start_time": "2023-04-29T10:30:19.032Z"
   },
   {
    "duration": 36,
    "start_time": "2023-04-29T10:30:19.038Z"
   },
   {
    "duration": 14,
    "start_time": "2023-04-29T10:30:19.076Z"
   },
   {
    "duration": 11,
    "start_time": "2023-04-29T10:30:19.092Z"
   },
   {
    "duration": 9,
    "start_time": "2023-04-29T10:30:19.105Z"
   },
   {
    "duration": 9,
    "start_time": "2023-04-29T10:30:19.117Z"
   },
   {
    "duration": 8,
    "start_time": "2023-04-29T10:30:19.128Z"
   },
   {
    "duration": 36,
    "start_time": "2023-04-29T10:30:19.138Z"
   },
   {
    "duration": 141,
    "start_time": "2023-04-29T10:30:19.177Z"
   },
   {
    "duration": 0,
    "start_time": "2023-04-29T10:30:19.320Z"
   },
   {
    "duration": 0,
    "start_time": "2023-04-29T10:30:19.321Z"
   },
   {
    "duration": 0,
    "start_time": "2023-04-29T10:30:19.323Z"
   },
   {
    "duration": 0,
    "start_time": "2023-04-29T10:30:19.324Z"
   },
   {
    "duration": 1,
    "start_time": "2023-04-29T10:30:19.325Z"
   },
   {
    "duration": 1938,
    "start_time": "2023-04-29T10:32:05.079Z"
   },
   {
    "duration": 1249,
    "start_time": "2023-04-29T10:32:07.020Z"
   },
   {
    "duration": 25,
    "start_time": "2023-04-29T10:32:08.272Z"
   },
   {
    "duration": 159,
    "start_time": "2023-04-29T10:32:08.299Z"
   },
   {
    "duration": 144,
    "start_time": "2023-04-29T10:32:08.465Z"
   },
   {
    "duration": 715,
    "start_time": "2023-04-29T10:32:08.611Z"
   },
   {
    "duration": 145,
    "start_time": "2023-04-29T10:32:09.328Z"
   },
   {
    "duration": 482,
    "start_time": "2023-04-29T10:32:09.475Z"
   },
   {
    "duration": 11,
    "start_time": "2023-04-29T10:32:09.965Z"
   },
   {
    "duration": 112,
    "start_time": "2023-04-29T10:32:09.981Z"
   },
   {
    "duration": 87,
    "start_time": "2023-04-29T10:32:10.095Z"
   },
   {
    "duration": 31,
    "start_time": "2023-04-29T10:32:10.184Z"
   },
   {
    "duration": 90,
    "start_time": "2023-04-29T10:32:10.217Z"
   },
   {
    "duration": 56,
    "start_time": "2023-04-29T10:32:10.311Z"
   },
   {
    "duration": 21,
    "start_time": "2023-04-29T10:32:10.378Z"
   },
   {
    "duration": 33,
    "start_time": "2023-04-29T10:32:10.401Z"
   },
   {
    "duration": 99,
    "start_time": "2023-04-29T10:32:10.435Z"
   },
   {
    "duration": 45,
    "start_time": "2023-04-29T10:32:10.536Z"
   },
   {
    "duration": 342,
    "start_time": "2023-04-29T10:32:10.586Z"
   },
   {
    "duration": 204,
    "start_time": "2023-04-29T10:32:10.931Z"
   },
   {
    "duration": 35,
    "start_time": "2023-04-29T10:32:11.137Z"
   },
   {
    "duration": 80,
    "start_time": "2023-04-29T10:32:11.176Z"
   },
   {
    "duration": 430,
    "start_time": "2023-04-29T10:32:11.262Z"
   },
   {
    "duration": 21,
    "start_time": "2023-04-29T10:32:11.695Z"
   },
   {
    "duration": 63,
    "start_time": "2023-04-29T10:32:11.718Z"
   },
   {
    "duration": 3673,
    "start_time": "2023-04-29T10:32:11.783Z"
   },
   {
    "duration": 563,
    "start_time": "2023-04-29T10:32:15.458Z"
   },
   {
    "duration": 42,
    "start_time": "2023-04-29T10:32:16.024Z"
   },
   {
    "duration": 38,
    "start_time": "2023-04-29T10:32:16.068Z"
   },
   {
    "duration": 102,
    "start_time": "2023-04-29T10:32:16.109Z"
   },
   {
    "duration": 113,
    "start_time": "2023-04-29T10:32:16.214Z"
   },
   {
    "duration": 723,
    "start_time": "2023-04-29T10:32:16.330Z"
   },
   {
    "duration": 4,
    "start_time": "2023-04-29T10:32:17.060Z"
   },
   {
    "duration": 28,
    "start_time": "2023-04-29T10:32:17.070Z"
   },
   {
    "duration": 7,
    "start_time": "2023-04-29T10:32:17.100Z"
   },
   {
    "duration": 9,
    "start_time": "2023-04-29T10:32:17.109Z"
   },
   {
    "duration": 9,
    "start_time": "2023-04-29T10:32:17.121Z"
   },
   {
    "duration": 7,
    "start_time": "2023-04-29T10:32:17.132Z"
   },
   {
    "duration": 38,
    "start_time": "2023-04-29T10:32:17.140Z"
   },
   {
    "duration": 11,
    "start_time": "2023-04-29T10:32:17.180Z"
   },
   {
    "duration": 8,
    "start_time": "2023-04-29T10:32:17.195Z"
   },
   {
    "duration": 31,
    "start_time": "2023-04-29T10:32:17.204Z"
   },
   {
    "duration": 1238,
    "start_time": "2023-04-29T10:32:17.237Z"
   },
   {
    "duration": 627,
    "start_time": "2023-04-29T10:32:18.477Z"
   },
   {
    "duration": 3,
    "start_time": "2023-04-29T10:32:19.107Z"
   },
   {
    "duration": 17,
    "start_time": "2023-04-29T10:32:19.112Z"
   },
   {
    "duration": 1608,
    "start_time": "2023-04-29T10:34:47.583Z"
   },
   {
    "duration": 1084,
    "start_time": "2023-04-29T10:34:49.193Z"
   },
   {
    "duration": 21,
    "start_time": "2023-04-29T10:34:50.281Z"
   },
   {
    "duration": 152,
    "start_time": "2023-04-29T10:34:50.305Z"
   },
   {
    "duration": 124,
    "start_time": "2023-04-29T10:34:50.459Z"
   },
   {
    "duration": 674,
    "start_time": "2023-04-29T10:34:50.585Z"
   },
   {
    "duration": 129,
    "start_time": "2023-04-29T10:34:51.261Z"
   },
   {
    "duration": 442,
    "start_time": "2023-04-29T10:34:51.392Z"
   },
   {
    "duration": 14,
    "start_time": "2023-04-29T10:34:51.842Z"
   },
   {
    "duration": 86,
    "start_time": "2023-04-29T10:34:51.858Z"
   },
   {
    "duration": 74,
    "start_time": "2023-04-29T10:34:51.946Z"
   },
   {
    "duration": 40,
    "start_time": "2023-04-29T10:34:52.022Z"
   },
   {
    "duration": 117,
    "start_time": "2023-04-29T10:34:52.068Z"
   },
   {
    "duration": 32,
    "start_time": "2023-04-29T10:34:52.187Z"
   },
   {
    "duration": 40,
    "start_time": "2023-04-29T10:34:52.222Z"
   },
   {
    "duration": 32,
    "start_time": "2023-04-29T10:34:52.264Z"
   },
   {
    "duration": 65,
    "start_time": "2023-04-29T10:34:52.298Z"
   },
   {
    "duration": 27,
    "start_time": "2023-04-29T10:34:52.365Z"
   },
   {
    "duration": 312,
    "start_time": "2023-04-29T10:34:52.394Z"
   },
   {
    "duration": 201,
    "start_time": "2023-04-29T10:34:52.708Z"
   },
   {
    "duration": 34,
    "start_time": "2023-04-29T10:34:52.911Z"
   },
   {
    "duration": 55,
    "start_time": "2023-04-29T10:34:52.947Z"
   },
   {
    "duration": 474,
    "start_time": "2023-04-29T10:34:53.004Z"
   },
   {
    "duration": 24,
    "start_time": "2023-04-29T10:34:53.481Z"
   },
   {
    "duration": 60,
    "start_time": "2023-04-29T10:34:53.507Z"
   },
   {
    "duration": 3542,
    "start_time": "2023-04-29T10:34:53.569Z"
   },
   {
    "duration": 560,
    "start_time": "2023-04-29T10:34:57.114Z"
   },
   {
    "duration": 32,
    "start_time": "2023-04-29T10:34:57.676Z"
   },
   {
    "duration": 49,
    "start_time": "2023-04-29T10:34:57.710Z"
   },
   {
    "duration": 92,
    "start_time": "2023-04-29T10:34:57.762Z"
   },
   {
    "duration": 105,
    "start_time": "2023-04-29T10:34:57.856Z"
   },
   {
    "duration": 648,
    "start_time": "2023-04-29T10:34:57.963Z"
   },
   {
    "duration": 3,
    "start_time": "2023-04-29T10:34:58.613Z"
   },
   {
    "duration": 12,
    "start_time": "2023-04-29T10:34:58.618Z"
   },
   {
    "duration": 21,
    "start_time": "2023-04-29T10:34:58.632Z"
   },
   {
    "duration": 17,
    "start_time": "2023-04-29T10:34:58.656Z"
   },
   {
    "duration": 19,
    "start_time": "2023-04-29T10:34:58.675Z"
   },
   {
    "duration": 8,
    "start_time": "2023-04-29T10:34:58.697Z"
   },
   {
    "duration": 8,
    "start_time": "2023-04-29T10:34:58.707Z"
   },
   {
    "duration": 16,
    "start_time": "2023-04-29T10:34:58.719Z"
   },
   {
    "duration": 23,
    "start_time": "2023-04-29T10:34:58.737Z"
   },
   {
    "duration": 23,
    "start_time": "2023-04-29T10:34:58.762Z"
   },
   {
    "duration": 1232,
    "start_time": "2023-04-29T10:34:58.787Z"
   },
   {
    "duration": 550,
    "start_time": "2023-04-29T10:35:00.021Z"
   },
   {
    "duration": 190,
    "start_time": "2023-04-29T10:35:00.573Z"
   },
   {
    "duration": 596,
    "start_time": "2023-04-29T10:35:00.766Z"
   },
   {
    "duration": 2770,
    "start_time": "2023-04-29T10:35:01.365Z"
   },
   {
    "duration": 11,
    "start_time": "2023-04-29T10:35:04.138Z"
   },
   {
    "duration": 22,
    "start_time": "2023-04-29T10:35:04.155Z"
   },
   {
    "duration": 38,
    "start_time": "2023-04-29T10:35:04.179Z"
   },
   {
    "duration": 1665,
    "start_time": "2023-04-29T10:42:39.594Z"
   },
   {
    "duration": 1180,
    "start_time": "2023-04-29T10:42:41.262Z"
   },
   {
    "duration": 22,
    "start_time": "2023-04-29T10:42:42.450Z"
   },
   {
    "duration": 161,
    "start_time": "2023-04-29T10:42:42.475Z"
   },
   {
    "duration": 135,
    "start_time": "2023-04-29T10:42:42.641Z"
   },
   {
    "duration": 658,
    "start_time": "2023-04-29T10:42:42.778Z"
   },
   {
    "duration": 147,
    "start_time": "2023-04-29T10:42:43.438Z"
   },
   {
    "duration": 432,
    "start_time": "2023-04-29T10:42:43.587Z"
   },
   {
    "duration": 6,
    "start_time": "2023-04-29T10:42:44.022Z"
   },
   {
    "duration": 75,
    "start_time": "2023-04-29T10:42:44.047Z"
   },
   {
    "duration": 79,
    "start_time": "2023-04-29T10:42:44.124Z"
   },
   {
    "duration": 51,
    "start_time": "2023-04-29T10:42:44.205Z"
   },
   {
    "duration": 73,
    "start_time": "2023-04-29T10:42:44.260Z"
   },
   {
    "duration": 41,
    "start_time": "2023-04-29T10:42:44.335Z"
   },
   {
    "duration": 19,
    "start_time": "2023-04-29T10:42:44.378Z"
   },
   {
    "duration": 47,
    "start_time": "2023-04-29T10:42:44.399Z"
   },
   {
    "duration": 66,
    "start_time": "2023-04-29T10:42:44.450Z"
   },
   {
    "duration": 37,
    "start_time": "2023-04-29T10:42:44.519Z"
   },
   {
    "duration": 314,
    "start_time": "2023-04-29T10:42:44.559Z"
   },
   {
    "duration": 198,
    "start_time": "2023-04-29T10:42:44.874Z"
   },
   {
    "duration": 21,
    "start_time": "2023-04-29T10:42:45.075Z"
   },
   {
    "duration": 122,
    "start_time": "2023-04-29T10:42:45.099Z"
   },
   {
    "duration": 402,
    "start_time": "2023-04-29T10:42:45.224Z"
   },
   {
    "duration": 26,
    "start_time": "2023-04-29T10:42:45.628Z"
   },
   {
    "duration": 30,
    "start_time": "2023-04-29T10:42:45.657Z"
   },
   {
    "duration": 3475,
    "start_time": "2023-04-29T10:42:45.689Z"
   },
   {
    "duration": 532,
    "start_time": "2023-04-29T10:42:49.166Z"
   },
   {
    "duration": 56,
    "start_time": "2023-04-29T10:42:49.702Z"
   },
   {
    "duration": 18,
    "start_time": "2023-04-29T10:42:49.760Z"
   },
   {
    "duration": 95,
    "start_time": "2023-04-29T10:42:49.780Z"
   },
   {
    "duration": 105,
    "start_time": "2023-04-29T10:42:49.877Z"
   },
   {
    "duration": 610,
    "start_time": "2023-04-29T10:42:49.984Z"
   },
   {
    "duration": 3,
    "start_time": "2023-04-29T10:42:50.596Z"
   },
   {
    "duration": 10,
    "start_time": "2023-04-29T10:42:50.601Z"
   },
   {
    "duration": 9,
    "start_time": "2023-04-29T10:42:50.613Z"
   },
   {
    "duration": 19,
    "start_time": "2023-04-29T10:42:50.624Z"
   },
   {
    "duration": 17,
    "start_time": "2023-04-29T10:42:50.649Z"
   },
   {
    "duration": 26,
    "start_time": "2023-04-29T10:42:50.669Z"
   },
   {
    "duration": 11,
    "start_time": "2023-04-29T10:42:50.698Z"
   },
   {
    "duration": 13,
    "start_time": "2023-04-29T10:42:50.711Z"
   },
   {
    "duration": 35,
    "start_time": "2023-04-29T10:42:50.726Z"
   },
   {
    "duration": 38,
    "start_time": "2023-04-29T10:42:50.764Z"
   },
   {
    "duration": 1228,
    "start_time": "2023-04-29T10:42:50.804Z"
   },
   {
    "duration": 582,
    "start_time": "2023-04-29T10:42:52.034Z"
   },
   {
    "duration": 237,
    "start_time": "2023-04-29T10:42:52.619Z"
   },
   {
    "duration": 587,
    "start_time": "2023-04-29T10:42:52.863Z"
   },
   {
    "duration": 2778,
    "start_time": "2023-04-29T10:42:53.456Z"
   },
   {
    "duration": 5,
    "start_time": "2023-04-29T10:42:56.240Z"
   },
   {
    "duration": 101929,
    "start_time": "2023-04-29T10:42:56.247Z"
   },
   {
    "duration": 6,
    "start_time": "2023-04-29T10:44:38.178Z"
   },
   {
    "duration": 1753,
    "start_time": "2023-04-29T10:45:36.222Z"
   },
   {
    "duration": 1160,
    "start_time": "2023-04-29T10:45:37.977Z"
   },
   {
    "duration": 30,
    "start_time": "2023-04-29T10:45:39.142Z"
   },
   {
    "duration": 176,
    "start_time": "2023-04-29T10:45:39.175Z"
   },
   {
    "duration": 125,
    "start_time": "2023-04-29T10:45:39.356Z"
   },
   {
    "duration": 642,
    "start_time": "2023-04-29T10:45:39.483Z"
   },
   {
    "duration": 132,
    "start_time": "2023-04-29T10:45:40.127Z"
   },
   {
    "duration": 473,
    "start_time": "2023-04-29T10:45:40.261Z"
   },
   {
    "duration": 12,
    "start_time": "2023-04-29T10:45:40.736Z"
   },
   {
    "duration": 90,
    "start_time": "2023-04-29T10:45:40.755Z"
   },
   {
    "duration": 74,
    "start_time": "2023-04-29T10:45:40.847Z"
   },
   {
    "duration": 45,
    "start_time": "2023-04-29T10:45:40.923Z"
   },
   {
    "duration": 85,
    "start_time": "2023-04-29T10:45:40.970Z"
   },
   {
    "duration": 31,
    "start_time": "2023-04-29T10:45:41.061Z"
   },
   {
    "duration": 20,
    "start_time": "2023-04-29T10:45:41.094Z"
   },
   {
    "duration": 41,
    "start_time": "2023-04-29T10:45:41.116Z"
   },
   {
    "duration": 83,
    "start_time": "2023-04-29T10:45:41.161Z"
   },
   {
    "duration": 31,
    "start_time": "2023-04-29T10:45:41.252Z"
   },
   {
    "duration": 306,
    "start_time": "2023-04-29T10:45:41.286Z"
   },
   {
    "duration": 199,
    "start_time": "2023-04-29T10:45:41.594Z"
   },
   {
    "duration": 21,
    "start_time": "2023-04-29T10:45:41.795Z"
   },
   {
    "duration": 71,
    "start_time": "2023-04-29T10:45:41.819Z"
   },
   {
    "duration": 405,
    "start_time": "2023-04-29T10:45:41.892Z"
   },
   {
    "duration": 17,
    "start_time": "2023-04-29T10:45:42.299Z"
   },
   {
    "duration": 97,
    "start_time": "2023-04-29T10:45:42.319Z"
   },
   {
    "duration": 3411,
    "start_time": "2023-04-29T10:45:42.419Z"
   },
   {
    "duration": 596,
    "start_time": "2023-04-29T10:45:45.832Z"
   },
   {
    "duration": 40,
    "start_time": "2023-04-29T10:45:46.443Z"
   },
   {
    "duration": 31,
    "start_time": "2023-04-29T10:45:46.486Z"
   },
   {
    "duration": 108,
    "start_time": "2023-04-29T10:45:46.519Z"
   },
   {
    "duration": 150,
    "start_time": "2023-04-29T10:45:46.629Z"
   },
   {
    "duration": 631,
    "start_time": "2023-04-29T10:45:46.781Z"
   },
   {
    "duration": 3,
    "start_time": "2023-04-29T10:45:47.414Z"
   },
   {
    "duration": 10,
    "start_time": "2023-04-29T10:45:47.419Z"
   },
   {
    "duration": 11,
    "start_time": "2023-04-29T10:45:47.446Z"
   },
   {
    "duration": 12,
    "start_time": "2023-04-29T10:45:47.459Z"
   },
   {
    "duration": 44,
    "start_time": "2023-04-29T10:45:47.474Z"
   },
   {
    "duration": 0,
    "start_time": "2023-04-29T10:45:47.520Z"
   },
   {
    "duration": 0,
    "start_time": "2023-04-29T10:45:47.522Z"
   },
   {
    "duration": 0,
    "start_time": "2023-04-29T10:45:47.523Z"
   },
   {
    "duration": 0,
    "start_time": "2023-04-29T10:45:47.524Z"
   },
   {
    "duration": 0,
    "start_time": "2023-04-29T10:45:47.525Z"
   },
   {
    "duration": 0,
    "start_time": "2023-04-29T10:45:47.526Z"
   },
   {
    "duration": 0,
    "start_time": "2023-04-29T10:45:47.528Z"
   },
   {
    "duration": 0,
    "start_time": "2023-04-29T10:45:47.529Z"
   },
   {
    "duration": 0,
    "start_time": "2023-04-29T10:45:47.530Z"
   },
   {
    "duration": 0,
    "start_time": "2023-04-29T10:45:47.531Z"
   },
   {
    "duration": 0,
    "start_time": "2023-04-29T10:45:47.532Z"
   },
   {
    "duration": 0,
    "start_time": "2023-04-29T10:45:47.533Z"
   },
   {
    "duration": 0,
    "start_time": "2023-04-29T10:45:47.535Z"
   },
   {
    "duration": 0,
    "start_time": "2023-04-29T10:45:47.536Z"
   },
   {
    "duration": 0,
    "start_time": "2023-04-29T10:45:47.537Z"
   },
   {
    "duration": 0,
    "start_time": "2023-04-29T10:45:47.538Z"
   },
   {
    "duration": 0,
    "start_time": "2023-04-29T10:45:47.540Z"
   },
   {
    "duration": 0,
    "start_time": "2023-04-29T10:45:47.544Z"
   },
   {
    "duration": 1,
    "start_time": "2023-04-29T10:45:47.544Z"
   },
   {
    "duration": 0,
    "start_time": "2023-04-29T10:45:47.545Z"
   },
   {
    "duration": 0,
    "start_time": "2023-04-29T10:45:47.546Z"
   },
   {
    "duration": 0,
    "start_time": "2023-04-29T10:45:47.547Z"
   },
   {
    "duration": 58,
    "start_time": "2023-04-29T10:47:02.814Z"
   },
   {
    "duration": 77,
    "start_time": "2023-04-29T10:47:15.200Z"
   },
   {
    "duration": 1709,
    "start_time": "2023-04-29T10:48:17.470Z"
   },
   {
    "duration": 1144,
    "start_time": "2023-04-29T10:48:19.181Z"
   },
   {
    "duration": 30,
    "start_time": "2023-04-29T10:48:20.327Z"
   },
   {
    "duration": 146,
    "start_time": "2023-04-29T10:48:20.360Z"
   },
   {
    "duration": 148,
    "start_time": "2023-04-29T10:48:20.508Z"
   },
   {
    "duration": 729,
    "start_time": "2023-04-29T10:48:20.659Z"
   },
   {
    "duration": 137,
    "start_time": "2023-04-29T10:48:21.391Z"
   },
   {
    "duration": 456,
    "start_time": "2023-04-29T10:48:21.530Z"
   },
   {
    "duration": 7,
    "start_time": "2023-04-29T10:48:21.989Z"
   },
   {
    "duration": 99,
    "start_time": "2023-04-29T10:48:21.999Z"
   },
   {
    "duration": 75,
    "start_time": "2023-04-29T10:48:22.100Z"
   },
   {
    "duration": 31,
    "start_time": "2023-04-29T10:48:22.176Z"
   },
   {
    "duration": 91,
    "start_time": "2023-04-29T10:48:22.209Z"
   },
   {
    "duration": 56,
    "start_time": "2023-04-29T10:48:22.302Z"
   },
   {
    "duration": 20,
    "start_time": "2023-04-29T10:48:22.362Z"
   },
   {
    "duration": 32,
    "start_time": "2023-04-29T10:48:22.385Z"
   },
   {
    "duration": 74,
    "start_time": "2023-04-29T10:48:22.419Z"
   },
   {
    "duration": 30,
    "start_time": "2023-04-29T10:48:22.495Z"
   },
   {
    "duration": 337,
    "start_time": "2023-04-29T10:48:22.527Z"
   },
   {
    "duration": 196,
    "start_time": "2023-04-29T10:48:22.866Z"
   },
   {
    "duration": 24,
    "start_time": "2023-04-29T10:48:23.064Z"
   },
   {
    "duration": 94,
    "start_time": "2023-04-29T10:48:23.090Z"
   },
   {
    "duration": 416,
    "start_time": "2023-04-29T10:48:23.186Z"
   },
   {
    "duration": 17,
    "start_time": "2023-04-29T10:48:23.605Z"
   },
   {
    "duration": 61,
    "start_time": "2023-04-29T10:48:23.625Z"
   },
   {
    "duration": 3516,
    "start_time": "2023-04-29T10:48:23.688Z"
   },
   {
    "duration": 559,
    "start_time": "2023-04-29T10:48:27.207Z"
   },
   {
    "duration": 31,
    "start_time": "2023-04-29T10:48:27.771Z"
   },
   {
    "duration": 49,
    "start_time": "2023-04-29T10:48:27.805Z"
   },
   {
    "duration": 99,
    "start_time": "2023-04-29T10:48:27.860Z"
   },
   {
    "duration": 122,
    "start_time": "2023-04-29T10:48:27.962Z"
   },
   {
    "duration": 617,
    "start_time": "2023-04-29T10:48:28.086Z"
   },
   {
    "duration": 3,
    "start_time": "2023-04-29T10:48:28.706Z"
   },
   {
    "duration": 7,
    "start_time": "2023-04-29T10:48:28.711Z"
   },
   {
    "duration": 25,
    "start_time": "2023-04-29T10:48:28.720Z"
   },
   {
    "duration": 11,
    "start_time": "2023-04-29T10:48:28.747Z"
   },
   {
    "duration": 11,
    "start_time": "2023-04-29T10:48:28.760Z"
   },
   {
    "duration": 23,
    "start_time": "2023-04-29T10:48:28.773Z"
   },
   {
    "duration": 1259,
    "start_time": "2023-04-29T10:48:28.798Z"
   },
   {
    "duration": 628,
    "start_time": "2023-04-29T10:48:30.060Z"
   },
   {
    "duration": 362,
    "start_time": "2023-04-29T10:48:30.690Z"
   },
   {
    "duration": 655,
    "start_time": "2023-04-29T10:48:31.060Z"
   },
   {
    "duration": 2775,
    "start_time": "2023-04-29T10:48:31.717Z"
   },
   {
    "duration": 3,
    "start_time": "2023-04-29T10:48:34.494Z"
   },
   {
    "duration": 100032,
    "start_time": "2023-04-29T10:48:34.499Z"
   },
   {
    "duration": 19,
    "start_time": "2023-04-29T10:50:14.534Z"
   },
   {
    "duration": 2073,
    "start_time": "2023-04-29T10:56:46.199Z"
   },
   {
    "duration": 1148,
    "start_time": "2023-04-29T10:56:48.275Z"
   },
   {
    "duration": 35,
    "start_time": "2023-04-29T10:56:49.425Z"
   },
   {
    "duration": 139,
    "start_time": "2023-04-29T10:56:49.462Z"
   },
   {
    "duration": 160,
    "start_time": "2023-04-29T10:56:49.604Z"
   },
   {
    "duration": 643,
    "start_time": "2023-04-29T10:56:49.772Z"
   },
   {
    "duration": 143,
    "start_time": "2023-04-29T10:56:50.417Z"
   },
   {
    "duration": 448,
    "start_time": "2023-04-29T10:56:50.562Z"
   },
   {
    "duration": 6,
    "start_time": "2023-04-29T10:56:51.013Z"
   },
   {
    "duration": 112,
    "start_time": "2023-04-29T10:56:51.021Z"
   },
   {
    "duration": 72,
    "start_time": "2023-04-29T10:56:51.135Z"
   },
   {
    "duration": 48,
    "start_time": "2023-04-29T10:56:51.210Z"
   },
   {
    "duration": 110,
    "start_time": "2023-04-29T10:56:51.261Z"
   },
   {
    "duration": 31,
    "start_time": "2023-04-29T10:56:51.375Z"
   },
   {
    "duration": 45,
    "start_time": "2023-04-29T10:56:51.408Z"
   },
   {
    "duration": 29,
    "start_time": "2023-04-29T10:56:51.458Z"
   },
   {
    "duration": 73,
    "start_time": "2023-04-29T10:56:51.489Z"
   },
   {
    "duration": 29,
    "start_time": "2023-04-29T10:56:51.566Z"
   },
   {
    "duration": 324,
    "start_time": "2023-04-29T10:56:51.598Z"
   },
   {
    "duration": 202,
    "start_time": "2023-04-29T10:56:51.925Z"
   },
   {
    "duration": 40,
    "start_time": "2023-04-29T10:56:52.129Z"
   },
   {
    "duration": 88,
    "start_time": "2023-04-29T10:56:52.172Z"
   },
   {
    "duration": 439,
    "start_time": "2023-04-29T10:56:52.262Z"
   },
   {
    "duration": 18,
    "start_time": "2023-04-29T10:56:52.703Z"
   },
   {
    "duration": 65,
    "start_time": "2023-04-29T10:56:52.724Z"
   },
   {
    "duration": 3618,
    "start_time": "2023-04-29T10:56:52.792Z"
   },
   {
    "duration": 618,
    "start_time": "2023-04-29T10:56:56.412Z"
   },
   {
    "duration": 38,
    "start_time": "2023-04-29T10:56:57.032Z"
   },
   {
    "duration": 23,
    "start_time": "2023-04-29T10:56:57.072Z"
   },
   {
    "duration": 112,
    "start_time": "2023-04-29T10:56:57.097Z"
   },
   {
    "duration": 120,
    "start_time": "2023-04-29T10:56:57.211Z"
   },
   {
    "duration": 629,
    "start_time": "2023-04-29T10:56:57.333Z"
   },
   {
    "duration": 3,
    "start_time": "2023-04-29T10:56:57.964Z"
   },
   {
    "duration": 8,
    "start_time": "2023-04-29T10:56:57.969Z"
   },
   {
    "duration": 10,
    "start_time": "2023-04-29T10:56:57.979Z"
   },
   {
    "duration": 9,
    "start_time": "2023-04-29T10:56:57.991Z"
   },
   {
    "duration": 14,
    "start_time": "2023-04-29T10:56:58.002Z"
   },
   {
    "duration": 40,
    "start_time": "2023-04-29T10:56:58.018Z"
   },
   {
    "duration": 1315,
    "start_time": "2023-04-29T10:56:58.060Z"
   },
   {
    "duration": 594,
    "start_time": "2023-04-29T10:56:59.378Z"
   },
   {
    "duration": 187,
    "start_time": "2023-04-29T10:56:59.977Z"
   },
   {
    "duration": 662,
    "start_time": "2023-04-29T10:57:00.167Z"
   },
   {
    "duration": 2890,
    "start_time": "2023-04-29T10:57:00.831Z"
   },
   {
    "duration": 3,
    "start_time": "2023-04-29T10:57:03.723Z"
   },
   {
    "duration": 1772,
    "start_time": "2023-04-29T10:57:43.814Z"
   },
   {
    "duration": 1308,
    "start_time": "2023-04-29T10:57:45.588Z"
   },
   {
    "duration": 20,
    "start_time": "2023-04-29T10:57:46.898Z"
   },
   {
    "duration": 140,
    "start_time": "2023-04-29T10:57:46.920Z"
   },
   {
    "duration": 136,
    "start_time": "2023-04-29T10:57:47.062Z"
   },
   {
    "duration": 667,
    "start_time": "2023-04-29T10:57:47.200Z"
   },
   {
    "duration": 130,
    "start_time": "2023-04-29T10:57:47.868Z"
   },
   {
    "duration": 461,
    "start_time": "2023-04-29T10:57:48.001Z"
   },
   {
    "duration": 7,
    "start_time": "2023-04-29T10:57:48.467Z"
   },
   {
    "duration": 107,
    "start_time": "2023-04-29T10:57:48.479Z"
   },
   {
    "duration": 74,
    "start_time": "2023-04-29T10:57:48.588Z"
   },
   {
    "duration": 29,
    "start_time": "2023-04-29T10:57:48.664Z"
   },
   {
    "duration": 93,
    "start_time": "2023-04-29T10:57:48.695Z"
   },
   {
    "duration": 31,
    "start_time": "2023-04-29T10:57:48.790Z"
   },
   {
    "duration": 40,
    "start_time": "2023-04-29T10:57:48.823Z"
   },
   {
    "duration": 21,
    "start_time": "2023-04-29T10:57:48.866Z"
   },
   {
    "duration": 76,
    "start_time": "2023-04-29T10:57:48.889Z"
   },
   {
    "duration": 27,
    "start_time": "2023-04-29T10:57:48.968Z"
   },
   {
    "duration": 333,
    "start_time": "2023-04-29T10:57:48.997Z"
   },
   {
    "duration": 197,
    "start_time": "2023-04-29T10:57:49.332Z"
   },
   {
    "duration": 31,
    "start_time": "2023-04-29T10:57:49.531Z"
   },
   {
    "duration": 54,
    "start_time": "2023-04-29T10:57:49.564Z"
   },
   {
    "duration": 444,
    "start_time": "2023-04-29T10:57:49.621Z"
   },
   {
    "duration": 19,
    "start_time": "2023-04-29T10:57:50.067Z"
   },
   {
    "duration": 71,
    "start_time": "2023-04-29T10:57:50.088Z"
   },
   {
    "duration": 3521,
    "start_time": "2023-04-29T10:57:50.160Z"
   },
   {
    "duration": 528,
    "start_time": "2023-04-29T10:57:53.683Z"
   },
   {
    "duration": 42,
    "start_time": "2023-04-29T10:57:54.216Z"
   },
   {
    "duration": 20,
    "start_time": "2023-04-29T10:57:54.261Z"
   },
   {
    "duration": 99,
    "start_time": "2023-04-29T10:57:54.284Z"
   },
   {
    "duration": 116,
    "start_time": "2023-04-29T10:57:54.385Z"
   },
   {
    "duration": 627,
    "start_time": "2023-04-29T10:57:54.503Z"
   },
   {
    "duration": 3,
    "start_time": "2023-04-29T10:57:55.132Z"
   },
   {
    "duration": 71,
    "start_time": "2023-04-29T10:57:55.137Z"
   },
   {
    "duration": 15,
    "start_time": "2023-04-29T10:57:55.210Z"
   },
   {
    "duration": 20,
    "start_time": "2023-04-29T10:57:55.227Z"
   },
   {
    "duration": 31,
    "start_time": "2023-04-29T10:57:55.249Z"
   },
   {
    "duration": 34,
    "start_time": "2023-04-29T10:57:55.282Z"
   },
   {
    "duration": 1296,
    "start_time": "2023-04-29T10:57:55.318Z"
   },
   {
    "duration": 586,
    "start_time": "2023-04-29T10:57:56.616Z"
   },
   {
    "duration": 185,
    "start_time": "2023-04-29T10:57:57.204Z"
   },
   {
    "duration": 590,
    "start_time": "2023-04-29T10:57:57.391Z"
   },
   {
    "duration": 2843,
    "start_time": "2023-04-29T10:57:57.983Z"
   },
   {
    "duration": 24,
    "start_time": "2023-04-29T10:58:00.829Z"
   },
   {
    "duration": 97139,
    "start_time": "2023-04-29T10:58:00.856Z"
   },
   {
    "duration": 7,
    "start_time": "2023-04-29T10:59:37.998Z"
   },
   {
    "duration": 1820,
    "start_time": "2023-04-29T11:05:06.567Z"
   },
   {
    "duration": 1213,
    "start_time": "2023-04-29T11:05:08.389Z"
   },
   {
    "duration": 20,
    "start_time": "2023-04-29T11:05:09.605Z"
   },
   {
    "duration": 165,
    "start_time": "2023-04-29T11:05:09.627Z"
   },
   {
    "duration": 139,
    "start_time": "2023-04-29T11:05:09.794Z"
   },
   {
    "duration": 687,
    "start_time": "2023-04-29T11:05:09.942Z"
   },
   {
    "duration": 147,
    "start_time": "2023-04-29T11:05:10.632Z"
   },
   {
    "duration": 445,
    "start_time": "2023-04-29T11:05:10.781Z"
   },
   {
    "duration": 19,
    "start_time": "2023-04-29T11:05:11.228Z"
   },
   {
    "duration": 104,
    "start_time": "2023-04-29T11:05:11.250Z"
   },
   {
    "duration": 68,
    "start_time": "2023-04-29T11:05:11.357Z"
   },
   {
    "duration": 44,
    "start_time": "2023-04-29T11:05:11.427Z"
   },
   {
    "duration": 112,
    "start_time": "2023-04-29T11:05:11.473Z"
   },
   {
    "duration": 31,
    "start_time": "2023-04-29T11:05:11.590Z"
   },
   {
    "duration": 39,
    "start_time": "2023-04-29T11:05:11.623Z"
   },
   {
    "duration": 41,
    "start_time": "2023-04-29T11:05:11.665Z"
   },
   {
    "duration": 68,
    "start_time": "2023-04-29T11:05:11.708Z"
   },
   {
    "duration": 27,
    "start_time": "2023-04-29T11:05:11.778Z"
   },
   {
    "duration": 318,
    "start_time": "2023-04-29T11:05:11.807Z"
   },
   {
    "duration": 195,
    "start_time": "2023-04-29T11:05:12.127Z"
   },
   {
    "duration": 39,
    "start_time": "2023-04-29T11:05:12.325Z"
   },
   {
    "duration": 73,
    "start_time": "2023-04-29T11:05:12.366Z"
   },
   {
    "duration": 447,
    "start_time": "2023-04-29T11:05:12.441Z"
   },
   {
    "duration": 18,
    "start_time": "2023-04-29T11:05:12.890Z"
   },
   {
    "duration": 50,
    "start_time": "2023-04-29T11:05:12.910Z"
   },
   {
    "duration": 3709,
    "start_time": "2023-04-29T11:05:12.964Z"
   },
   {
    "duration": 589,
    "start_time": "2023-04-29T11:05:16.676Z"
   },
   {
    "duration": 39,
    "start_time": "2023-04-29T11:05:17.267Z"
   },
   {
    "duration": 46,
    "start_time": "2023-04-29T11:05:17.308Z"
   },
   {
    "duration": 72,
    "start_time": "2023-04-29T11:05:17.365Z"
   },
   {
    "duration": 114,
    "start_time": "2023-04-29T11:05:17.439Z"
   },
   {
    "duration": 647,
    "start_time": "2023-04-29T11:05:17.557Z"
   },
   {
    "duration": 3,
    "start_time": "2023-04-29T11:05:18.207Z"
   },
   {
    "duration": 20,
    "start_time": "2023-04-29T11:05:18.212Z"
   },
   {
    "duration": 70,
    "start_time": "2023-04-29T11:05:18.234Z"
   },
   {
    "duration": 20,
    "start_time": "2023-04-29T11:05:18.306Z"
   },
   {
    "duration": 11,
    "start_time": "2023-04-29T11:05:18.328Z"
   },
   {
    "duration": 42,
    "start_time": "2023-04-29T11:05:18.341Z"
   },
   {
    "duration": 1250,
    "start_time": "2023-04-29T11:05:18.385Z"
   },
   {
    "duration": 646,
    "start_time": "2023-04-29T11:05:19.637Z"
   },
   {
    "duration": 214,
    "start_time": "2023-04-29T11:05:20.288Z"
   },
   {
    "duration": 607,
    "start_time": "2023-04-29T11:05:20.504Z"
   },
   {
    "duration": 2848,
    "start_time": "2023-04-29T11:05:21.114Z"
   },
   {
    "duration": 4,
    "start_time": "2023-04-29T11:05:23.964Z"
   },
   {
    "duration": 318,
    "start_time": "2023-04-29T11:05:23.970Z"
   },
   {
    "duration": 35157,
    "start_time": "2023-04-29T11:05:24.290Z"
   },
   {
    "duration": 37951,
    "start_time": "2023-04-29T11:05:59.450Z"
   },
   {
    "duration": 0,
    "start_time": "2023-04-29T11:06:37.403Z"
   },
   {
    "duration": 0,
    "start_time": "2023-04-29T11:06:37.404Z"
   },
   {
    "duration": 0,
    "start_time": "2023-04-29T11:06:37.406Z"
   },
   {
    "duration": 1874,
    "start_time": "2023-04-29T11:07:43.933Z"
   },
   {
    "duration": 1339,
    "start_time": "2023-04-29T11:07:45.810Z"
   },
   {
    "duration": 26,
    "start_time": "2023-04-29T11:07:47.151Z"
   },
   {
    "duration": 172,
    "start_time": "2023-04-29T11:07:47.179Z"
   },
   {
    "duration": 136,
    "start_time": "2023-04-29T11:07:47.357Z"
   },
   {
    "duration": 715,
    "start_time": "2023-04-29T11:07:47.495Z"
   },
   {
    "duration": 150,
    "start_time": "2023-04-29T11:07:48.212Z"
   },
   {
    "duration": 469,
    "start_time": "2023-04-29T11:07:48.365Z"
   },
   {
    "duration": 11,
    "start_time": "2023-04-29T11:07:48.843Z"
   },
   {
    "duration": 115,
    "start_time": "2023-04-29T11:07:48.856Z"
   },
   {
    "duration": 69,
    "start_time": "2023-04-29T11:07:48.974Z"
   },
   {
    "duration": 41,
    "start_time": "2023-04-29T11:07:49.045Z"
   },
   {
    "duration": 100,
    "start_time": "2023-04-29T11:07:49.088Z"
   },
   {
    "duration": 38,
    "start_time": "2023-04-29T11:07:49.192Z"
   },
   {
    "duration": 36,
    "start_time": "2023-04-29T11:07:49.233Z"
   },
   {
    "duration": 47,
    "start_time": "2023-04-29T11:07:49.272Z"
   },
   {
    "duration": 72,
    "start_time": "2023-04-29T11:07:49.321Z"
   },
   {
    "duration": 29,
    "start_time": "2023-04-29T11:07:49.395Z"
   },
   {
    "duration": 356,
    "start_time": "2023-04-29T11:07:49.426Z"
   },
   {
    "duration": 211,
    "start_time": "2023-04-29T11:07:49.784Z"
   },
   {
    "duration": 22,
    "start_time": "2023-04-29T11:07:49.998Z"
   },
   {
    "duration": 75,
    "start_time": "2023-04-29T11:07:50.022Z"
   },
   {
    "duration": 444,
    "start_time": "2023-04-29T11:07:50.099Z"
   },
   {
    "duration": 23,
    "start_time": "2023-04-29T11:07:50.553Z"
   },
   {
    "duration": 33,
    "start_time": "2023-04-29T11:07:50.578Z"
   },
   {
    "duration": 3560,
    "start_time": "2023-04-29T11:07:50.613Z"
   },
   {
    "duration": 581,
    "start_time": "2023-04-29T11:07:54.175Z"
   },
   {
    "duration": 35,
    "start_time": "2023-04-29T11:07:54.758Z"
   },
   {
    "duration": 18,
    "start_time": "2023-04-29T11:07:54.795Z"
   },
   {
    "duration": 97,
    "start_time": "2023-04-29T11:07:54.816Z"
   },
   {
    "duration": 129,
    "start_time": "2023-04-29T11:07:54.915Z"
   },
   {
    "duration": 666,
    "start_time": "2023-04-29T11:07:55.048Z"
   },
   {
    "duration": 3,
    "start_time": "2023-04-29T11:07:55.716Z"
   },
   {
    "duration": 59,
    "start_time": "2023-04-29T11:07:55.720Z"
   },
   {
    "duration": 24,
    "start_time": "2023-04-29T11:07:55.781Z"
   },
   {
    "duration": 13,
    "start_time": "2023-04-29T11:07:55.807Z"
   },
   {
    "duration": 64,
    "start_time": "2023-04-29T11:07:55.822Z"
   },
   {
    "duration": 35,
    "start_time": "2023-04-29T11:07:55.888Z"
   },
   {
    "duration": 1270,
    "start_time": "2023-04-29T11:07:55.925Z"
   },
   {
    "duration": 615,
    "start_time": "2023-04-29T11:07:57.197Z"
   },
   {
    "duration": 193,
    "start_time": "2023-04-29T11:07:57.817Z"
   },
   {
    "duration": 615,
    "start_time": "2023-04-29T11:07:58.012Z"
   },
   {
    "duration": 2917,
    "start_time": "2023-04-29T11:07:58.629Z"
   },
   {
    "duration": 9,
    "start_time": "2023-04-29T11:08:01.548Z"
   },
   {
    "duration": 428,
    "start_time": "2023-04-29T11:08:01.564Z"
   },
   {
    "duration": 33863,
    "start_time": "2023-04-29T11:08:01.994Z"
   },
   {
    "duration": 36476,
    "start_time": "2023-04-29T11:08:35.860Z"
   },
   {
    "duration": 1730,
    "start_time": "2023-04-29T11:12:41.363Z"
   },
   {
    "duration": 1154,
    "start_time": "2023-04-29T11:12:43.096Z"
   },
   {
    "duration": 21,
    "start_time": "2023-04-29T11:12:44.253Z"
   },
   {
    "duration": 139,
    "start_time": "2023-04-29T11:12:44.277Z"
   },
   {
    "duration": 143,
    "start_time": "2023-04-29T11:12:44.418Z"
   },
   {
    "duration": 644,
    "start_time": "2023-04-29T11:12:44.563Z"
   },
   {
    "duration": 140,
    "start_time": "2023-04-29T11:12:45.209Z"
   },
   {
    "duration": 471,
    "start_time": "2023-04-29T11:12:45.351Z"
   },
   {
    "duration": 6,
    "start_time": "2023-04-29T11:12:45.824Z"
   },
   {
    "duration": 93,
    "start_time": "2023-04-29T11:12:45.833Z"
   },
   {
    "duration": 112,
    "start_time": "2023-04-29T11:12:45.929Z"
   },
   {
    "duration": 43,
    "start_time": "2023-04-29T11:12:46.046Z"
   },
   {
    "duration": 116,
    "start_time": "2023-04-29T11:12:46.092Z"
   },
   {
    "duration": 56,
    "start_time": "2023-04-29T11:12:46.210Z"
   },
   {
    "duration": 21,
    "start_time": "2023-04-29T11:12:46.271Z"
   },
   {
    "duration": 58,
    "start_time": "2023-04-29T11:12:46.294Z"
   },
   {
    "duration": 56,
    "start_time": "2023-04-29T11:12:46.354Z"
   },
   {
    "duration": 42,
    "start_time": "2023-04-29T11:12:46.412Z"
   },
   {
    "duration": 340,
    "start_time": "2023-04-29T11:12:46.457Z"
   },
   {
    "duration": 199,
    "start_time": "2023-04-29T11:12:46.799Z"
   },
   {
    "duration": 23,
    "start_time": "2023-04-29T11:12:47.001Z"
   },
   {
    "duration": 70,
    "start_time": "2023-04-29T11:12:47.026Z"
   },
   {
    "duration": 456,
    "start_time": "2023-04-29T11:12:47.098Z"
   },
   {
    "duration": 17,
    "start_time": "2023-04-29T11:12:47.556Z"
   },
   {
    "duration": 31,
    "start_time": "2023-04-29T11:12:47.575Z"
   },
   {
    "duration": 3330,
    "start_time": "2023-04-29T11:12:47.608Z"
   },
   {
    "duration": 557,
    "start_time": "2023-04-29T11:12:50.940Z"
   },
   {
    "duration": 46,
    "start_time": "2023-04-29T11:12:51.502Z"
   },
   {
    "duration": 27,
    "start_time": "2023-04-29T11:12:51.550Z"
   },
   {
    "duration": 87,
    "start_time": "2023-04-29T11:12:51.579Z"
   },
   {
    "duration": 111,
    "start_time": "2023-04-29T11:12:51.668Z"
   },
   {
    "duration": 614,
    "start_time": "2023-04-29T11:12:51.781Z"
   },
   {
    "duration": 3,
    "start_time": "2023-04-29T11:12:52.397Z"
   },
   {
    "duration": 67,
    "start_time": "2023-04-29T11:12:52.403Z"
   },
   {
    "duration": 27,
    "start_time": "2023-04-29T11:12:52.472Z"
   },
   {
    "duration": 97,
    "start_time": "2023-04-29T11:12:52.501Z"
   },
   {
    "duration": 15,
    "start_time": "2023-04-29T11:12:52.601Z"
   },
   {
    "duration": 81,
    "start_time": "2023-04-29T11:12:52.618Z"
   },
   {
    "duration": 1280,
    "start_time": "2023-04-29T11:12:52.701Z"
   },
   {
    "duration": 560,
    "start_time": "2023-04-29T11:12:53.983Z"
   },
   {
    "duration": 197,
    "start_time": "2023-04-29T11:12:54.556Z"
   },
   {
    "duration": 568,
    "start_time": "2023-04-29T11:12:54.759Z"
   },
   {
    "duration": 2870,
    "start_time": "2023-04-29T11:12:55.329Z"
   },
   {
    "duration": 4,
    "start_time": "2023-04-29T11:12:58.201Z"
   },
   {
    "duration": 302,
    "start_time": "2023-04-29T11:12:58.207Z"
   },
   {
    "duration": 40540,
    "start_time": "2023-04-29T11:12:58.512Z"
   },
   {
    "duration": 36233,
    "start_time": "2023-04-29T11:13:39.057Z"
   },
   {
    "duration": 1943,
    "start_time": "2023-04-29T11:18:09.902Z"
   },
   {
    "duration": 1259,
    "start_time": "2023-04-29T11:18:11.848Z"
   },
   {
    "duration": 48,
    "start_time": "2023-04-29T11:18:13.109Z"
   },
   {
    "duration": 190,
    "start_time": "2023-04-29T11:18:13.160Z"
   },
   {
    "duration": 133,
    "start_time": "2023-04-29T11:18:13.360Z"
   },
   {
    "duration": 761,
    "start_time": "2023-04-29T11:18:13.496Z"
   },
   {
    "duration": 141,
    "start_time": "2023-04-29T11:18:14.259Z"
   },
   {
    "duration": 472,
    "start_time": "2023-04-29T11:18:14.402Z"
   },
   {
    "duration": 6,
    "start_time": "2023-04-29T11:18:14.877Z"
   },
   {
    "duration": 98,
    "start_time": "2023-04-29T11:18:14.887Z"
   },
   {
    "duration": 84,
    "start_time": "2023-04-29T11:18:14.988Z"
   },
   {
    "duration": 32,
    "start_time": "2023-04-29T11:18:15.075Z"
   },
   {
    "duration": 96,
    "start_time": "2023-04-29T11:18:15.109Z"
   },
   {
    "duration": 56,
    "start_time": "2023-04-29T11:18:15.207Z"
   },
   {
    "duration": 20,
    "start_time": "2023-04-29T11:18:15.265Z"
   },
   {
    "duration": 32,
    "start_time": "2023-04-29T11:18:15.287Z"
   },
   {
    "duration": 73,
    "start_time": "2023-04-29T11:18:15.321Z"
   },
   {
    "duration": 29,
    "start_time": "2023-04-29T11:18:15.396Z"
   },
   {
    "duration": 341,
    "start_time": "2023-04-29T11:18:15.426Z"
   },
   {
    "duration": 257,
    "start_time": "2023-04-29T11:18:15.769Z"
   },
   {
    "duration": 37,
    "start_time": "2023-04-29T11:18:16.029Z"
   },
   {
    "duration": 106,
    "start_time": "2023-04-29T11:18:16.069Z"
   },
   {
    "duration": 508,
    "start_time": "2023-04-29T11:18:16.179Z"
   },
   {
    "duration": 23,
    "start_time": "2023-04-29T11:18:16.690Z"
   },
   {
    "duration": 50,
    "start_time": "2023-04-29T11:18:16.716Z"
   },
   {
    "duration": 3566,
    "start_time": "2023-04-29T11:18:16.769Z"
   },
   {
    "duration": 591,
    "start_time": "2023-04-29T11:18:20.337Z"
   },
   {
    "duration": 38,
    "start_time": "2023-04-29T11:18:20.932Z"
   },
   {
    "duration": 91,
    "start_time": "2023-04-29T11:18:20.972Z"
   },
   {
    "duration": 121,
    "start_time": "2023-04-29T11:18:21.066Z"
   },
   {
    "duration": 127,
    "start_time": "2023-04-29T11:18:21.190Z"
   },
   {
    "duration": 870,
    "start_time": "2023-04-29T11:18:21.320Z"
   },
   {
    "duration": 3,
    "start_time": "2023-04-29T11:18:22.193Z"
   },
   {
    "duration": 21,
    "start_time": "2023-04-29T11:18:22.198Z"
   },
   {
    "duration": 12,
    "start_time": "2023-04-29T11:18:22.222Z"
   },
   {
    "duration": 33,
    "start_time": "2023-04-29T11:18:22.237Z"
   },
   {
    "duration": 16,
    "start_time": "2023-04-29T11:18:22.272Z"
   },
   {
    "duration": 39,
    "start_time": "2023-04-29T11:18:22.291Z"
   },
   {
    "duration": 1381,
    "start_time": "2023-04-29T11:18:22.333Z"
   },
   {
    "duration": 644,
    "start_time": "2023-04-29T11:18:23.717Z"
   },
   {
    "duration": 199,
    "start_time": "2023-04-29T11:18:24.364Z"
   },
   {
    "duration": 627,
    "start_time": "2023-04-29T11:18:24.565Z"
   },
   {
    "duration": 2978,
    "start_time": "2023-04-29T11:18:25.195Z"
   },
   {
    "duration": 3,
    "start_time": "2023-04-29T11:18:28.175Z"
   },
   {
    "duration": 349,
    "start_time": "2023-04-29T11:18:28.180Z"
   },
   {
    "duration": 41839,
    "start_time": "2023-04-29T11:18:28.533Z"
   },
   {
    "duration": 37048,
    "start_time": "2023-04-29T11:19:10.387Z"
   },
   {
    "duration": 1053447,
    "start_time": "2023-04-29T11:19:47.437Z"
   },
   {
    "duration": 4,
    "start_time": "2023-04-29T11:37:20.886Z"
   },
   {
    "duration": 19,
    "start_time": "2023-04-29T11:37:20.892Z"
   },
   {
    "duration": 73,
    "start_time": "2023-04-29T11:37:20.913Z"
   },
   {
    "duration": 101875,
    "start_time": "2023-04-29T11:37:20.990Z"
   },
   {
    "duration": 101,
    "start_time": "2023-04-29T11:39:02.868Z"
   },
   {
    "duration": 1865,
    "start_time": "2023-04-29T11:42:40.689Z"
   },
   {
    "duration": 1402,
    "start_time": "2023-04-29T11:42:42.560Z"
   },
   {
    "duration": 40,
    "start_time": "2023-04-29T11:42:43.965Z"
   },
   {
    "duration": 238,
    "start_time": "2023-04-29T11:42:44.016Z"
   },
   {
    "duration": 165,
    "start_time": "2023-04-29T11:42:44.260Z"
   },
   {
    "duration": 761,
    "start_time": "2023-04-29T11:42:44.427Z"
   },
   {
    "duration": 159,
    "start_time": "2023-04-29T11:42:45.190Z"
   },
   {
    "duration": 531,
    "start_time": "2023-04-29T11:42:45.352Z"
   },
   {
    "duration": 7,
    "start_time": "2023-04-29T11:42:45.887Z"
   },
   {
    "duration": 104,
    "start_time": "2023-04-29T11:42:45.896Z"
   },
   {
    "duration": 83,
    "start_time": "2023-04-29T11:42:46.002Z"
   },
   {
    "duration": 37,
    "start_time": "2023-04-29T11:42:46.088Z"
   },
   {
    "duration": 93,
    "start_time": "2023-04-29T11:42:46.127Z"
   },
   {
    "duration": 53,
    "start_time": "2023-04-29T11:42:46.224Z"
   },
   {
    "duration": 32,
    "start_time": "2023-04-29T11:42:46.292Z"
   },
   {
    "duration": 32,
    "start_time": "2023-04-29T11:42:46.326Z"
   },
   {
    "duration": 133,
    "start_time": "2023-04-29T11:42:46.360Z"
   },
   {
    "duration": 35,
    "start_time": "2023-04-29T11:42:46.495Z"
   },
   {
    "duration": 442,
    "start_time": "2023-04-29T11:42:46.532Z"
   },
   {
    "duration": 247,
    "start_time": "2023-04-29T11:42:46.976Z"
   },
   {
    "duration": 29,
    "start_time": "2023-04-29T11:42:47.226Z"
   },
   {
    "duration": 116,
    "start_time": "2023-04-29T11:42:47.258Z"
   },
   {
    "duration": 532,
    "start_time": "2023-04-29T11:42:47.379Z"
   },
   {
    "duration": 17,
    "start_time": "2023-04-29T11:42:47.913Z"
   },
   {
    "duration": 69,
    "start_time": "2023-04-29T11:42:47.932Z"
   },
   {
    "duration": 4153,
    "start_time": "2023-04-29T11:42:48.007Z"
   },
   {
    "duration": 621,
    "start_time": "2023-04-29T11:42:52.163Z"
   },
   {
    "duration": 33,
    "start_time": "2023-04-29T11:42:52.792Z"
   },
   {
    "duration": 126,
    "start_time": "2023-04-29T11:42:52.827Z"
   },
   {
    "duration": 179,
    "start_time": "2023-04-29T11:42:52.955Z"
   },
   {
    "duration": 131,
    "start_time": "2023-04-29T11:42:53.136Z"
   },
   {
    "duration": 750,
    "start_time": "2023-04-29T11:42:53.269Z"
   },
   {
    "duration": 3,
    "start_time": "2023-04-29T11:42:54.021Z"
   },
   {
    "duration": 83,
    "start_time": "2023-04-29T11:42:54.025Z"
   },
   {
    "duration": 15,
    "start_time": "2023-04-29T11:42:54.110Z"
   },
   {
    "duration": 84,
    "start_time": "2023-04-29T11:42:54.127Z"
   },
   {
    "duration": 91,
    "start_time": "2023-04-29T11:42:54.213Z"
   },
   {
    "duration": 30,
    "start_time": "2023-04-29T11:42:54.307Z"
   },
   {
    "duration": 1400,
    "start_time": "2023-04-29T11:42:54.339Z"
   },
   {
    "duration": 863,
    "start_time": "2023-04-29T11:42:55.747Z"
   },
   {
    "duration": 250,
    "start_time": "2023-04-29T11:42:56.615Z"
   },
   {
    "duration": 739,
    "start_time": "2023-04-29T11:42:56.869Z"
   },
   {
    "duration": 3143,
    "start_time": "2023-04-29T11:42:57.611Z"
   },
   {
    "duration": 3,
    "start_time": "2023-04-29T11:43:00.758Z"
   },
   {
    "duration": 652,
    "start_time": "2023-04-29T11:43:00.763Z"
   },
   {
    "duration": 84837,
    "start_time": "2023-04-29T11:43:01.423Z"
   },
   {
    "duration": 39193,
    "start_time": "2023-04-29T11:44:26.264Z"
   },
   {
    "duration": 1910,
    "start_time": "2023-04-29T11:49:55.865Z"
   },
   {
    "duration": 1212,
    "start_time": "2023-04-29T11:49:57.778Z"
   },
   {
    "duration": 20,
    "start_time": "2023-04-29T11:49:58.992Z"
   },
   {
    "duration": 178,
    "start_time": "2023-04-29T11:49:59.013Z"
   },
   {
    "duration": 140,
    "start_time": "2023-04-29T11:49:59.194Z"
   },
   {
    "duration": 696,
    "start_time": "2023-04-29T11:49:59.336Z"
   },
   {
    "duration": 150,
    "start_time": "2023-04-29T11:50:00.034Z"
   },
   {
    "duration": 516,
    "start_time": "2023-04-29T11:50:00.186Z"
   },
   {
    "duration": 7,
    "start_time": "2023-04-29T11:50:00.705Z"
   },
   {
    "duration": 184,
    "start_time": "2023-04-29T11:50:00.715Z"
   },
   {
    "duration": 187,
    "start_time": "2023-04-29T11:50:00.902Z"
   },
   {
    "duration": 76,
    "start_time": "2023-04-29T11:50:01.091Z"
   },
   {
    "duration": 157,
    "start_time": "2023-04-29T11:50:01.170Z"
   },
   {
    "duration": 41,
    "start_time": "2023-04-29T11:50:01.331Z"
   },
   {
    "duration": 57,
    "start_time": "2023-04-29T11:50:01.375Z"
   },
   {
    "duration": 73,
    "start_time": "2023-04-29T11:50:01.435Z"
   },
   {
    "duration": 89,
    "start_time": "2023-04-29T11:50:01.511Z"
   },
   {
    "duration": 69,
    "start_time": "2023-04-29T11:50:01.602Z"
   },
   {
    "duration": 472,
    "start_time": "2023-04-29T11:50:01.676Z"
   },
   {
    "duration": 226,
    "start_time": "2023-04-29T11:50:02.151Z"
   },
   {
    "duration": 24,
    "start_time": "2023-04-29T11:50:02.380Z"
   },
   {
    "duration": 84,
    "start_time": "2023-04-29T11:50:02.407Z"
   },
   {
    "duration": 471,
    "start_time": "2023-04-29T11:50:02.494Z"
   },
   {
    "duration": 21,
    "start_time": "2023-04-29T11:50:02.968Z"
   },
   {
    "duration": 33,
    "start_time": "2023-04-29T11:50:02.991Z"
   },
   {
    "duration": 3888,
    "start_time": "2023-04-29T11:50:03.045Z"
   },
   {
    "duration": 623,
    "start_time": "2023-04-29T11:50:06.935Z"
   },
   {
    "duration": 32,
    "start_time": "2023-04-29T11:50:07.569Z"
   },
   {
    "duration": 86,
    "start_time": "2023-04-29T11:50:07.603Z"
   },
   {
    "duration": 193,
    "start_time": "2023-04-29T11:50:07.692Z"
   },
   {
    "duration": 108,
    "start_time": "2023-04-29T11:50:07.887Z"
   },
   {
    "duration": 621,
    "start_time": "2023-04-29T11:50:07.998Z"
   },
   {
    "duration": 3,
    "start_time": "2023-04-29T11:50:08.621Z"
   },
   {
    "duration": 100,
    "start_time": "2023-04-29T11:50:08.625Z"
   },
   {
    "duration": 81,
    "start_time": "2023-04-29T11:50:08.727Z"
   },
   {
    "duration": 92,
    "start_time": "2023-04-29T11:50:08.810Z"
   },
   {
    "duration": 64,
    "start_time": "2023-04-29T11:50:08.905Z"
   },
   {
    "duration": 47,
    "start_time": "2023-04-29T11:50:08.971Z"
   },
   {
    "duration": 1316,
    "start_time": "2023-04-29T11:50:09.022Z"
   },
   {
    "duration": 610,
    "start_time": "2023-04-29T11:50:10.340Z"
   },
   {
    "duration": 195,
    "start_time": "2023-04-29T11:50:10.955Z"
   },
   {
    "duration": 610,
    "start_time": "2023-04-29T11:50:11.153Z"
   },
   {
    "duration": 2934,
    "start_time": "2023-04-29T11:50:11.765Z"
   },
   {
    "duration": 3,
    "start_time": "2023-04-29T11:50:14.702Z"
   },
   {
    "duration": 349,
    "start_time": "2023-04-29T11:50:14.708Z"
   },
   {
    "duration": 1715,
    "start_time": "2023-04-29T11:51:18.095Z"
   },
   {
    "duration": 1184,
    "start_time": "2023-04-29T11:51:19.813Z"
   },
   {
    "duration": 21,
    "start_time": "2023-04-29T11:51:20.999Z"
   },
   {
    "duration": 183,
    "start_time": "2023-04-29T11:51:21.022Z"
   },
   {
    "duration": 148,
    "start_time": "2023-04-29T11:51:21.207Z"
   },
   {
    "duration": 704,
    "start_time": "2023-04-29T11:51:21.357Z"
   },
   {
    "duration": 124,
    "start_time": "2023-04-29T11:51:22.066Z"
   },
   {
    "duration": 484,
    "start_time": "2023-04-29T11:51:22.192Z"
   },
   {
    "duration": 6,
    "start_time": "2023-04-29T11:51:22.678Z"
   },
   {
    "duration": 93,
    "start_time": "2023-04-29T11:51:22.687Z"
   },
   {
    "duration": 86,
    "start_time": "2023-04-29T11:51:22.783Z"
   },
   {
    "duration": 33,
    "start_time": "2023-04-29T11:51:22.874Z"
   },
   {
    "duration": 92,
    "start_time": "2023-04-29T11:51:22.909Z"
   },
   {
    "duration": 42,
    "start_time": "2023-04-29T11:51:23.003Z"
   },
   {
    "duration": 22,
    "start_time": "2023-04-29T11:51:23.050Z"
   },
   {
    "duration": 20,
    "start_time": "2023-04-29T11:51:23.075Z"
   },
   {
    "duration": 78,
    "start_time": "2023-04-29T11:51:23.097Z"
   },
   {
    "duration": 28,
    "start_time": "2023-04-29T11:51:23.178Z"
   },
   {
    "duration": 325,
    "start_time": "2023-04-29T11:51:23.208Z"
   },
   {
    "duration": 201,
    "start_time": "2023-04-29T11:51:23.535Z"
   },
   {
    "duration": 33,
    "start_time": "2023-04-29T11:51:23.738Z"
   },
   {
    "duration": 80,
    "start_time": "2023-04-29T11:51:23.773Z"
   },
   {
    "duration": 414,
    "start_time": "2023-04-29T11:51:23.858Z"
   },
   {
    "duration": 17,
    "start_time": "2023-04-29T11:51:24.275Z"
   },
   {
    "duration": 29,
    "start_time": "2023-04-29T11:51:24.294Z"
   },
   {
    "duration": 3698,
    "start_time": "2023-04-29T11:51:24.325Z"
   },
   {
    "duration": 557,
    "start_time": "2023-04-29T11:51:28.025Z"
   },
   {
    "duration": 30,
    "start_time": "2023-04-29T11:51:28.587Z"
   },
   {
    "duration": 44,
    "start_time": "2023-04-29T11:51:28.619Z"
   },
   {
    "duration": 90,
    "start_time": "2023-04-29T11:51:28.669Z"
   },
   {
    "duration": 115,
    "start_time": "2023-04-29T11:51:28.761Z"
   },
   {
    "duration": 675,
    "start_time": "2023-04-29T11:51:28.879Z"
   },
   {
    "duration": 13,
    "start_time": "2023-04-29T11:51:29.556Z"
   },
   {
    "duration": 9,
    "start_time": "2023-04-29T11:51:29.571Z"
   },
   {
    "duration": 7,
    "start_time": "2023-04-29T11:51:29.582Z"
   },
   {
    "duration": 13,
    "start_time": "2023-04-29T11:51:29.590Z"
   },
   {
    "duration": 11,
    "start_time": "2023-04-29T11:51:29.605Z"
   },
   {
    "duration": 29,
    "start_time": "2023-04-29T11:51:29.618Z"
   },
   {
    "duration": 1319,
    "start_time": "2023-04-29T11:51:29.649Z"
   },
   {
    "duration": 629,
    "start_time": "2023-04-29T11:51:30.972Z"
   },
   {
    "duration": 219,
    "start_time": "2023-04-29T11:51:31.603Z"
   },
   {
    "duration": 611,
    "start_time": "2023-04-29T11:51:31.824Z"
   },
   {
    "duration": 2816,
    "start_time": "2023-04-29T11:51:32.437Z"
   },
   {
    "duration": 6,
    "start_time": "2023-04-29T11:51:35.255Z"
   },
   {
    "duration": 327,
    "start_time": "2023-04-29T11:51:35.265Z"
   },
   {
    "duration": 1779,
    "start_time": "2023-04-29T11:52:04.190Z"
   },
   {
    "duration": 1237,
    "start_time": "2023-04-29T11:52:05.974Z"
   },
   {
    "duration": 32,
    "start_time": "2023-04-29T11:52:07.213Z"
   },
   {
    "duration": 161,
    "start_time": "2023-04-29T11:52:07.247Z"
   },
   {
    "duration": 158,
    "start_time": "2023-04-29T11:52:07.411Z"
   },
   {
    "duration": 714,
    "start_time": "2023-04-29T11:52:07.573Z"
   },
   {
    "duration": 136,
    "start_time": "2023-04-29T11:52:08.289Z"
   },
   {
    "duration": 479,
    "start_time": "2023-04-29T11:52:08.427Z"
   },
   {
    "duration": 6,
    "start_time": "2023-04-29T11:52:08.908Z"
   },
   {
    "duration": 148,
    "start_time": "2023-04-29T11:52:08.915Z"
   },
   {
    "duration": 68,
    "start_time": "2023-04-29T11:52:09.068Z"
   },
   {
    "duration": 40,
    "start_time": "2023-04-29T11:52:09.142Z"
   },
   {
    "duration": 100,
    "start_time": "2023-04-29T11:52:09.184Z"
   },
   {
    "duration": 33,
    "start_time": "2023-04-29T11:52:09.288Z"
   },
   {
    "duration": 35,
    "start_time": "2023-04-29T11:52:09.324Z"
   },
   {
    "duration": 36,
    "start_time": "2023-04-29T11:52:09.362Z"
   },
   {
    "duration": 73,
    "start_time": "2023-04-29T11:52:09.401Z"
   },
   {
    "duration": 27,
    "start_time": "2023-04-29T11:52:09.476Z"
   },
   {
    "duration": 364,
    "start_time": "2023-04-29T11:52:09.505Z"
   },
   {
    "duration": 228,
    "start_time": "2023-04-29T11:52:09.872Z"
   },
   {
    "duration": 23,
    "start_time": "2023-04-29T11:52:10.102Z"
   },
   {
    "duration": 65,
    "start_time": "2023-04-29T11:52:10.140Z"
   },
   {
    "duration": 440,
    "start_time": "2023-04-29T11:52:10.207Z"
   },
   {
    "duration": 25,
    "start_time": "2023-04-29T11:52:10.649Z"
   },
   {
    "duration": 32,
    "start_time": "2023-04-29T11:52:10.677Z"
   },
   {
    "duration": 3576,
    "start_time": "2023-04-29T11:52:10.711Z"
   },
   {
    "duration": 516,
    "start_time": "2023-04-29T11:52:14.289Z"
   },
   {
    "duration": 58,
    "start_time": "2023-04-29T11:52:14.807Z"
   },
   {
    "duration": 18,
    "start_time": "2023-04-29T11:52:14.870Z"
   },
   {
    "duration": 92,
    "start_time": "2023-04-29T11:52:14.890Z"
   },
   {
    "duration": 121,
    "start_time": "2023-04-29T11:52:14.985Z"
   },
   {
    "duration": 665,
    "start_time": "2023-04-29T11:52:15.108Z"
   },
   {
    "duration": 3,
    "start_time": "2023-04-29T11:52:15.775Z"
   },
   {
    "duration": 13,
    "start_time": "2023-04-29T11:52:15.780Z"
   },
   {
    "duration": 7,
    "start_time": "2023-04-29T11:52:15.795Z"
   },
   {
    "duration": 10,
    "start_time": "2023-04-29T11:52:15.804Z"
   },
   {
    "duration": 10,
    "start_time": "2023-04-29T11:52:15.816Z"
   },
   {
    "duration": 40,
    "start_time": "2023-04-29T11:52:15.828Z"
   },
   {
    "duration": 1290,
    "start_time": "2023-04-29T11:52:15.871Z"
   },
   {
    "duration": 565,
    "start_time": "2023-04-29T11:52:17.164Z"
   },
   {
    "duration": 176,
    "start_time": "2023-04-29T11:52:17.733Z"
   },
   {
    "duration": 601,
    "start_time": "2023-04-29T11:52:17.911Z"
   },
   {
    "duration": 2809,
    "start_time": "2023-04-29T11:52:18.514Z"
   },
   {
    "duration": 3,
    "start_time": "2023-04-29T11:52:21.325Z"
   },
   {
    "duration": 354,
    "start_time": "2023-04-29T11:52:21.331Z"
   },
   {
    "duration": 1861,
    "start_time": "2023-04-29T11:52:57.031Z"
   },
   {
    "duration": 1256,
    "start_time": "2023-04-29T11:52:58.894Z"
   },
   {
    "duration": 30,
    "start_time": "2023-04-29T11:53:00.153Z"
   },
   {
    "duration": 219,
    "start_time": "2023-04-29T11:53:00.185Z"
   },
   {
    "duration": 159,
    "start_time": "2023-04-29T11:53:00.407Z"
   },
   {
    "duration": 802,
    "start_time": "2023-04-29T11:53:00.573Z"
   },
   {
    "duration": 138,
    "start_time": "2023-04-29T11:53:01.377Z"
   },
   {
    "duration": 496,
    "start_time": "2023-04-29T11:53:01.517Z"
   },
   {
    "duration": 6,
    "start_time": "2023-04-29T11:53:02.015Z"
   },
   {
    "duration": 146,
    "start_time": "2023-04-29T11:53:02.023Z"
   },
   {
    "duration": 79,
    "start_time": "2023-04-29T11:53:02.172Z"
   },
   {
    "duration": 39,
    "start_time": "2023-04-29T11:53:02.253Z"
   },
   {
    "duration": 101,
    "start_time": "2023-04-29T11:53:02.294Z"
   },
   {
    "duration": 34,
    "start_time": "2023-04-29T11:53:02.399Z"
   },
   {
    "duration": 35,
    "start_time": "2023-04-29T11:53:02.435Z"
   },
   {
    "duration": 44,
    "start_time": "2023-04-29T11:53:02.473Z"
   },
   {
    "duration": 64,
    "start_time": "2023-04-29T11:53:02.519Z"
   },
   {
    "duration": 28,
    "start_time": "2023-04-29T11:53:02.585Z"
   },
   {
    "duration": 360,
    "start_time": "2023-04-29T11:53:02.615Z"
   },
   {
    "duration": 209,
    "start_time": "2023-04-29T11:53:02.977Z"
   },
   {
    "duration": 27,
    "start_time": "2023-04-29T11:53:03.189Z"
   },
   {
    "duration": 85,
    "start_time": "2023-04-29T11:53:03.219Z"
   },
   {
    "duration": 430,
    "start_time": "2023-04-29T11:53:03.306Z"
   },
   {
    "duration": 26,
    "start_time": "2023-04-29T11:53:03.740Z"
   },
   {
    "duration": 40,
    "start_time": "2023-04-29T11:53:03.768Z"
   },
   {
    "duration": 3922,
    "start_time": "2023-04-29T11:53:03.810Z"
   },
   {
    "duration": 562,
    "start_time": "2023-04-29T11:53:07.735Z"
   },
   {
    "duration": 58,
    "start_time": "2023-04-29T11:53:08.299Z"
   },
   {
    "duration": 40,
    "start_time": "2023-04-29T11:53:08.364Z"
   },
   {
    "duration": 332,
    "start_time": "2023-04-29T11:53:08.407Z"
   },
   {
    "duration": 128,
    "start_time": "2023-04-29T11:53:08.743Z"
   },
   {
    "duration": 656,
    "start_time": "2023-04-29T11:53:08.874Z"
   },
   {
    "duration": 2,
    "start_time": "2023-04-29T11:53:09.533Z"
   },
   {
    "duration": 19,
    "start_time": "2023-04-29T11:53:09.541Z"
   },
   {
    "duration": 37,
    "start_time": "2023-04-29T11:53:09.565Z"
   },
   {
    "duration": 1325,
    "start_time": "2023-04-29T11:53:09.604Z"
   },
   {
    "duration": 624,
    "start_time": "2023-04-29T11:53:10.931Z"
   },
   {
    "duration": 202,
    "start_time": "2023-04-29T11:53:11.557Z"
   },
   {
    "duration": 613,
    "start_time": "2023-04-29T11:53:11.762Z"
   },
   {
    "duration": 2882,
    "start_time": "2023-04-29T11:53:12.378Z"
   },
   {
    "duration": 3,
    "start_time": "2023-04-29T11:53:15.272Z"
   },
   {
    "duration": 357,
    "start_time": "2023-04-29T11:53:15.278Z"
   },
   {
    "duration": 76524,
    "start_time": "2023-04-29T11:53:15.637Z"
   },
   {
    "duration": 36360,
    "start_time": "2023-04-29T11:54:32.164Z"
   },
   {
    "duration": 524131,
    "start_time": "2023-04-29T11:55:08.526Z"
   },
   {
    "duration": 6,
    "start_time": "2023-04-29T12:03:52.660Z"
   },
   {
    "duration": 28,
    "start_time": "2023-04-29T12:03:52.669Z"
   },
   {
    "duration": 72,
    "start_time": "2023-04-29T12:03:52.700Z"
   },
   {
    "duration": 85984,
    "start_time": "2023-04-29T12:03:52.775Z"
   },
   {
    "duration": 95,
    "start_time": "2023-04-29T12:05:18.761Z"
   },
   {
    "duration": 1990,
    "start_time": "2023-04-29T12:11:08.634Z"
   },
   {
    "duration": 1257,
    "start_time": "2023-04-29T12:11:10.627Z"
   },
   {
    "duration": 21,
    "start_time": "2023-04-29T12:11:11.886Z"
   },
   {
    "duration": 158,
    "start_time": "2023-04-29T12:11:11.909Z"
   },
   {
    "duration": 135,
    "start_time": "2023-04-29T12:11:12.070Z"
   },
   {
    "duration": 723,
    "start_time": "2023-04-29T12:11:12.207Z"
   },
   {
    "duration": 142,
    "start_time": "2023-04-29T12:11:12.932Z"
   },
   {
    "duration": 508,
    "start_time": "2023-04-29T12:11:13.077Z"
   },
   {
    "duration": 6,
    "start_time": "2023-04-29T12:11:13.587Z"
   },
   {
    "duration": 100,
    "start_time": "2023-04-29T12:11:13.596Z"
   },
   {
    "duration": 88,
    "start_time": "2023-04-29T12:11:13.698Z"
   },
   {
    "duration": 30,
    "start_time": "2023-04-29T12:11:13.789Z"
   },
   {
    "duration": 94,
    "start_time": "2023-04-29T12:11:13.821Z"
   },
   {
    "duration": 50,
    "start_time": "2023-04-29T12:11:13.918Z"
   },
   {
    "duration": 25,
    "start_time": "2023-04-29T12:11:13.972Z"
   },
   {
    "duration": 20,
    "start_time": "2023-04-29T12:11:14.000Z"
   },
   {
    "duration": 79,
    "start_time": "2023-04-29T12:11:14.023Z"
   },
   {
    "duration": 46,
    "start_time": "2023-04-29T12:11:14.106Z"
   },
   {
    "duration": 363,
    "start_time": "2023-04-29T12:11:14.154Z"
   },
   {
    "duration": 206,
    "start_time": "2023-04-29T12:11:14.519Z"
   },
   {
    "duration": 39,
    "start_time": "2023-04-29T12:11:14.727Z"
   },
   {
    "duration": 58,
    "start_time": "2023-04-29T12:11:14.771Z"
   },
   {
    "duration": 449,
    "start_time": "2023-04-29T12:11:14.832Z"
   },
   {
    "duration": 17,
    "start_time": "2023-04-29T12:11:15.283Z"
   },
   {
    "duration": 50,
    "start_time": "2023-04-29T12:11:15.302Z"
   },
   {
    "duration": 3837,
    "start_time": "2023-04-29T12:11:15.358Z"
   },
   {
    "duration": 569,
    "start_time": "2023-04-29T12:11:19.197Z"
   },
   {
    "duration": 36,
    "start_time": "2023-04-29T12:11:19.775Z"
   },
   {
    "duration": 52,
    "start_time": "2023-04-29T12:11:19.812Z"
   },
   {
    "duration": 98,
    "start_time": "2023-04-29T12:11:19.867Z"
   },
   {
    "duration": 136,
    "start_time": "2023-04-29T12:11:19.970Z"
   },
   {
    "duration": 643,
    "start_time": "2023-04-29T12:11:20.108Z"
   },
   {
    "duration": 4,
    "start_time": "2023-04-29T12:11:20.753Z"
   },
   {
    "duration": 33,
    "start_time": "2023-04-29T12:11:20.762Z"
   },
   {
    "duration": 35,
    "start_time": "2023-04-29T12:11:20.797Z"
   },
   {
    "duration": 1331,
    "start_time": "2023-04-29T12:11:20.835Z"
   },
   {
    "duration": 636,
    "start_time": "2023-04-29T12:11:22.179Z"
   },
   {
    "duration": 241,
    "start_time": "2023-04-29T12:11:22.818Z"
   },
   {
    "duration": 609,
    "start_time": "2023-04-29T12:11:23.064Z"
   },
   {
    "duration": 2969,
    "start_time": "2023-04-29T12:11:23.676Z"
   },
   {
    "duration": 3,
    "start_time": "2023-04-29T12:11:26.647Z"
   },
   {
    "duration": 362,
    "start_time": "2023-04-29T12:11:26.658Z"
   },
   {
    "duration": 80024,
    "start_time": "2023-04-29T12:11:27.023Z"
   },
   {
    "duration": 39728,
    "start_time": "2023-04-29T12:12:47.050Z"
   },
   {
    "duration": 412619,
    "start_time": "2023-04-29T12:13:26.785Z"
   },
   {
    "duration": 5,
    "start_time": "2023-04-29T12:20:19.406Z"
   },
   {
    "duration": 223,
    "start_time": "2023-04-29T12:20:19.414Z"
   },
   {
    "duration": 0,
    "start_time": "2023-04-29T12:20:19.640Z"
   },
   {
    "duration": 0,
    "start_time": "2023-04-29T12:20:19.646Z"
   },
   {
    "duration": 0,
    "start_time": "2023-04-29T12:20:19.649Z"
   },
   {
    "duration": 0,
    "start_time": "2023-04-29T12:20:19.651Z"
   },
   {
    "duration": 3,
    "start_time": "2023-04-29T12:25:21.118Z"
   },
   {
    "duration": 6,
    "start_time": "2023-04-29T12:25:25.360Z"
   },
   {
    "duration": 2276,
    "start_time": "2023-04-29T12:25:49.196Z"
   },
   {
    "duration": 1430,
    "start_time": "2023-04-29T12:25:51.482Z"
   },
   {
    "duration": 20,
    "start_time": "2023-04-29T12:25:52.914Z"
   },
   {
    "duration": 188,
    "start_time": "2023-04-29T12:25:52.936Z"
   },
   {
    "duration": 179,
    "start_time": "2023-04-29T12:25:53.126Z"
   },
   {
    "duration": 765,
    "start_time": "2023-04-29T12:25:53.308Z"
   },
   {
    "duration": 150,
    "start_time": "2023-04-29T12:25:54.089Z"
   },
   {
    "duration": 540,
    "start_time": "2023-04-29T12:25:54.241Z"
   },
   {
    "duration": 11,
    "start_time": "2023-04-29T12:25:54.787Z"
   },
   {
    "duration": 99,
    "start_time": "2023-04-29T12:25:54.802Z"
   },
   {
    "duration": 96,
    "start_time": "2023-04-29T12:25:54.905Z"
   },
   {
    "duration": 44,
    "start_time": "2023-04-29T12:25:55.003Z"
   },
   {
    "duration": 86,
    "start_time": "2023-04-29T12:25:55.049Z"
   },
   {
    "duration": 44,
    "start_time": "2023-04-29T12:25:55.142Z"
   },
   {
    "duration": 44,
    "start_time": "2023-04-29T12:25:55.188Z"
   },
   {
    "duration": 32,
    "start_time": "2023-04-29T12:25:55.235Z"
   },
   {
    "duration": 98,
    "start_time": "2023-04-29T12:25:55.270Z"
   },
   {
    "duration": 37,
    "start_time": "2023-04-29T12:25:55.371Z"
   },
   {
    "duration": 365,
    "start_time": "2023-04-29T12:25:55.411Z"
   },
   {
    "duration": 266,
    "start_time": "2023-04-29T12:25:55.778Z"
   },
   {
    "duration": 37,
    "start_time": "2023-04-29T12:25:56.046Z"
   },
   {
    "duration": 120,
    "start_time": "2023-04-29T12:25:56.086Z"
   },
   {
    "duration": 606,
    "start_time": "2023-04-29T12:25:56.214Z"
   },
   {
    "duration": 26,
    "start_time": "2023-04-29T12:25:56.823Z"
   },
   {
    "duration": 132,
    "start_time": "2023-04-29T12:25:56.852Z"
   },
   {
    "duration": 4234,
    "start_time": "2023-04-29T12:25:56.994Z"
   },
   {
    "duration": 629,
    "start_time": "2023-04-29T12:26:01.231Z"
   },
   {
    "duration": 39,
    "start_time": "2023-04-29T12:26:01.865Z"
   },
   {
    "duration": 47,
    "start_time": "2023-04-29T12:26:01.906Z"
   },
   {
    "duration": 168,
    "start_time": "2023-04-29T12:26:01.955Z"
   },
   {
    "duration": 186,
    "start_time": "2023-04-29T12:26:02.125Z"
   },
   {
    "duration": 650,
    "start_time": "2023-04-29T12:26:02.313Z"
   },
   {
    "duration": 10,
    "start_time": "2023-04-29T12:26:02.967Z"
   },
   {
    "duration": 43,
    "start_time": "2023-04-29T12:26:02.980Z"
   },
   {
    "duration": 27,
    "start_time": "2023-04-29T12:26:03.024Z"
   },
   {
    "duration": 1371,
    "start_time": "2023-04-29T12:26:03.054Z"
   },
   {
    "duration": 781,
    "start_time": "2023-04-29T12:26:04.427Z"
   },
   {
    "duration": 218,
    "start_time": "2023-04-29T12:26:05.211Z"
   },
   {
    "duration": 681,
    "start_time": "2023-04-29T12:26:05.431Z"
   },
   {
    "duration": 2982,
    "start_time": "2023-04-29T12:26:06.116Z"
   },
   {
    "duration": 3,
    "start_time": "2023-04-29T12:26:09.111Z"
   },
   {
    "duration": 401,
    "start_time": "2023-04-29T12:26:09.116Z"
   },
   {
    "duration": 68842,
    "start_time": "2023-04-29T12:26:09.519Z"
   },
   {
    "duration": 40949,
    "start_time": "2023-04-29T12:27:18.364Z"
   },
   {
    "duration": 505784,
    "start_time": "2023-04-29T12:27:59.315Z"
   },
   {
    "duration": 80,
    "start_time": "2023-04-29T12:36:25.158Z"
   },
   {
    "duration": 58735,
    "start_time": "2023-04-29T12:36:25.240Z"
   },
   {
    "duration": 92,
    "start_time": "2023-04-29T12:37:23.978Z"
   },
   {
    "duration": 226171,
    "start_time": "2023-04-29T12:37:24.072Z"
   },
   {
    "duration": 8,
    "start_time": "2023-04-29T12:41:10.301Z"
   },
   {
    "duration": 13,
    "start_time": "2023-04-29T12:41:10.311Z"
   },
   {
    "duration": 1804,
    "start_time": "2023-04-30T05:16:56.022Z"
   },
   {
    "duration": 2792,
    "start_time": "2023-04-30T05:16:57.828Z"
   },
   {
    "duration": 25,
    "start_time": "2023-04-30T05:17:00.622Z"
   },
   {
    "duration": 161,
    "start_time": "2023-04-30T05:17:00.651Z"
   },
   {
    "duration": 137,
    "start_time": "2023-04-30T05:17:00.813Z"
   },
   {
    "duration": 468,
    "start_time": "2023-04-30T05:17:00.951Z"
   },
   {
    "duration": 102,
    "start_time": "2023-04-30T05:17:01.421Z"
   },
   {
    "duration": 353,
    "start_time": "2023-04-30T05:17:01.525Z"
   },
   {
    "duration": 7,
    "start_time": "2023-04-30T05:17:01.880Z"
   },
   {
    "duration": 72,
    "start_time": "2023-04-30T05:17:01.890Z"
   },
   {
    "duration": 52,
    "start_time": "2023-04-30T05:17:01.964Z"
   },
   {
    "duration": 27,
    "start_time": "2023-04-30T05:17:02.018Z"
   },
   {
    "duration": 81,
    "start_time": "2023-04-30T05:17:02.047Z"
   },
   {
    "duration": 25,
    "start_time": "2023-04-30T05:17:02.130Z"
   },
   {
    "duration": 43,
    "start_time": "2023-04-30T05:17:02.157Z"
   },
   {
    "duration": 34,
    "start_time": "2023-04-30T05:17:02.202Z"
   },
   {
    "duration": 45,
    "start_time": "2023-04-30T05:17:02.238Z"
   },
   {
    "duration": 44,
    "start_time": "2023-04-30T05:17:02.285Z"
   },
   {
    "duration": 273,
    "start_time": "2023-04-30T05:17:02.330Z"
   },
   {
    "duration": 160,
    "start_time": "2023-04-30T05:17:02.604Z"
   },
   {
    "duration": 24,
    "start_time": "2023-04-30T05:17:02.766Z"
   },
   {
    "duration": 38,
    "start_time": "2023-04-30T05:17:02.792Z"
   },
   {
    "duration": 321,
    "start_time": "2023-04-30T05:17:02.831Z"
   },
   {
    "duration": 16,
    "start_time": "2023-04-30T05:17:03.154Z"
   },
   {
    "duration": 34,
    "start_time": "2023-04-30T05:17:03.172Z"
   },
   {
    "duration": 2799,
    "start_time": "2023-04-30T05:17:03.207Z"
   },
   {
    "duration": 384,
    "start_time": "2023-04-30T05:17:06.008Z"
   },
   {
    "duration": 25,
    "start_time": "2023-04-30T05:17:06.396Z"
   },
   {
    "duration": 30,
    "start_time": "2023-04-30T05:17:06.423Z"
   },
   {
    "duration": 91,
    "start_time": "2023-04-30T05:17:06.455Z"
   },
   {
    "duration": 85,
    "start_time": "2023-04-30T05:17:06.548Z"
   },
   {
    "duration": 590,
    "start_time": "2023-04-30T05:17:06.635Z"
   },
   {
    "duration": 2,
    "start_time": "2023-04-30T05:17:07.228Z"
   },
   {
    "duration": 4,
    "start_time": "2023-04-30T05:17:07.232Z"
   },
   {
    "duration": 21,
    "start_time": "2023-04-30T05:17:07.237Z"
   },
   {
    "duration": 715,
    "start_time": "2023-04-30T05:17:07.260Z"
   },
   {
    "duration": 488,
    "start_time": "2023-04-30T05:17:07.977Z"
   },
   {
    "duration": 118,
    "start_time": "2023-04-30T05:17:08.467Z"
   },
   {
    "duration": 450,
    "start_time": "2023-04-30T05:17:08.587Z"
   },
   {
    "duration": 2302,
    "start_time": "2023-04-30T05:17:09.039Z"
   },
   {
    "duration": 2,
    "start_time": "2023-04-30T05:17:11.343Z"
   },
   {
    "duration": 213,
    "start_time": "2023-04-30T05:17:11.347Z"
   },
   {
    "duration": 16825,
    "start_time": "2023-04-30T05:17:11.562Z"
   },
   {
    "duration": 25171,
    "start_time": "2023-04-30T05:17:28.389Z"
   },
   {
    "duration": 24047,
    "start_time": "2023-04-30T05:17:53.562Z"
   },
   {
    "duration": 3,
    "start_time": "2023-04-30T05:18:17.687Z"
   },
   {
    "duration": 13,
    "start_time": "2023-04-30T05:18:17.692Z"
   },
   {
    "duration": 22,
    "start_time": "2023-04-30T05:18:17.706Z"
   },
   {
    "duration": 179,
    "start_time": "2023-04-30T05:18:17.730Z"
   },
   {
    "duration": 1386,
    "start_time": "2023-04-30T05:18:47.723Z"
   },
   {
    "duration": 818,
    "start_time": "2023-04-30T05:18:49.110Z"
   },
   {
    "duration": 16,
    "start_time": "2023-04-30T05:18:49.930Z"
   },
   {
    "duration": 144,
    "start_time": "2023-04-30T05:18:49.947Z"
   },
   {
    "duration": 140,
    "start_time": "2023-04-30T05:18:50.093Z"
   },
   {
    "duration": 489,
    "start_time": "2023-04-30T05:18:50.236Z"
   },
   {
    "duration": 90,
    "start_time": "2023-04-30T05:18:50.727Z"
   },
   {
    "duration": 352,
    "start_time": "2023-04-30T05:18:50.819Z"
   },
   {
    "duration": 5,
    "start_time": "2023-04-30T05:18:51.172Z"
   },
   {
    "duration": 80,
    "start_time": "2023-04-30T05:18:51.186Z"
   },
   {
    "duration": 47,
    "start_time": "2023-04-30T05:18:51.267Z"
   },
   {
    "duration": 26,
    "start_time": "2023-04-30T05:18:51.315Z"
   },
   {
    "duration": 78,
    "start_time": "2023-04-30T05:18:51.342Z"
   },
   {
    "duration": 25,
    "start_time": "2023-04-30T05:18:51.422Z"
   },
   {
    "duration": 25,
    "start_time": "2023-04-30T05:18:51.448Z"
   },
   {
    "duration": 16,
    "start_time": "2023-04-30T05:18:51.475Z"
   },
   {
    "duration": 44,
    "start_time": "2023-04-30T05:18:51.493Z"
   },
   {
    "duration": 24,
    "start_time": "2023-04-30T05:18:51.539Z"
   },
   {
    "duration": 266,
    "start_time": "2023-04-30T05:18:51.565Z"
   },
   {
    "duration": 160,
    "start_time": "2023-04-30T05:18:51.832Z"
   },
   {
    "duration": 17,
    "start_time": "2023-04-30T05:18:51.993Z"
   },
   {
    "duration": 45,
    "start_time": "2023-04-30T05:18:52.012Z"
   },
   {
    "duration": 345,
    "start_time": "2023-04-30T05:18:52.058Z"
   },
   {
    "duration": 16,
    "start_time": "2023-04-30T05:18:52.405Z"
   },
   {
    "duration": 30,
    "start_time": "2023-04-30T05:18:52.423Z"
   },
   {
    "duration": 3051,
    "start_time": "2023-04-30T05:18:52.455Z"
   },
   {
    "duration": 406,
    "start_time": "2023-04-30T05:18:55.508Z"
   },
   {
    "duration": 26,
    "start_time": "2023-04-30T05:18:55.918Z"
   },
   {
    "duration": 31,
    "start_time": "2023-04-30T05:18:55.946Z"
   },
   {
    "duration": 94,
    "start_time": "2023-04-30T05:18:55.979Z"
   },
   {
    "duration": 80,
    "start_time": "2023-04-30T05:18:56.074Z"
   },
   {
    "duration": 564,
    "start_time": "2023-04-30T05:18:56.156Z"
   },
   {
    "duration": 3,
    "start_time": "2023-04-30T05:18:56.721Z"
   },
   {
    "duration": 5,
    "start_time": "2023-04-30T05:18:56.726Z"
   },
   {
    "duration": 21,
    "start_time": "2023-04-30T05:18:56.733Z"
   },
   {
    "duration": 913,
    "start_time": "2023-04-30T05:18:56.756Z"
   },
   {
    "duration": 533,
    "start_time": "2023-04-30T05:18:57.670Z"
   },
   {
    "duration": 140,
    "start_time": "2023-04-30T05:18:58.205Z"
   },
   {
    "duration": 481,
    "start_time": "2023-04-30T05:18:58.347Z"
   },
   {
    "duration": 2414,
    "start_time": "2023-04-30T05:18:58.830Z"
   },
   {
    "duration": 3,
    "start_time": "2023-04-30T05:19:01.246Z"
   },
   {
    "duration": 284,
    "start_time": "2023-04-30T05:19:01.251Z"
   },
   {
    "duration": 24451,
    "start_time": "2023-04-30T05:19:01.536Z"
   },
   {
    "duration": 26118,
    "start_time": "2023-04-30T05:19:25.990Z"
   },
   {
    "duration": 4390,
    "start_time": "2023-04-30T05:19:52.110Z"
   },
   {
    "duration": 3,
    "start_time": "2023-04-30T05:19:56.502Z"
   },
   {
    "duration": 86,
    "start_time": "2023-04-30T05:19:56.507Z"
   },
   {
    "duration": 24,
    "start_time": "2023-04-30T05:19:56.594Z"
   },
   {
    "duration": 195,
    "start_time": "2023-04-30T05:19:56.620Z"
   },
   {
    "duration": 1472,
    "start_time": "2023-04-30T05:23:55.906Z"
   },
   {
    "duration": 829,
    "start_time": "2023-04-30T05:23:57.381Z"
   },
   {
    "duration": 18,
    "start_time": "2023-04-30T05:23:58.212Z"
   },
   {
    "duration": 164,
    "start_time": "2023-04-30T05:23:58.232Z"
   },
   {
    "duration": 144,
    "start_time": "2023-04-30T05:23:58.398Z"
   },
   {
    "duration": 481,
    "start_time": "2023-04-30T05:23:58.544Z"
   },
   {
    "duration": 96,
    "start_time": "2023-04-30T05:23:59.027Z"
   },
   {
    "duration": 368,
    "start_time": "2023-04-30T05:23:59.125Z"
   },
   {
    "duration": 5,
    "start_time": "2023-04-30T05:23:59.495Z"
   },
   {
    "duration": 55,
    "start_time": "2023-04-30T05:23:59.504Z"
   },
   {
    "duration": 77,
    "start_time": "2023-04-30T05:23:59.561Z"
   },
   {
    "duration": 27,
    "start_time": "2023-04-30T05:23:59.640Z"
   },
   {
    "duration": 74,
    "start_time": "2023-04-30T05:23:59.669Z"
   },
   {
    "duration": 41,
    "start_time": "2023-04-30T05:23:59.745Z"
   },
   {
    "duration": 22,
    "start_time": "2023-04-30T05:23:59.788Z"
   },
   {
    "duration": 14,
    "start_time": "2023-04-30T05:23:59.812Z"
   },
   {
    "duration": 62,
    "start_time": "2023-04-30T05:23:59.828Z"
   },
   {
    "duration": 27,
    "start_time": "2023-04-30T05:23:59.892Z"
   },
   {
    "duration": 274,
    "start_time": "2023-04-30T05:23:59.921Z"
   },
   {
    "duration": 162,
    "start_time": "2023-04-30T05:24:00.196Z"
   },
   {
    "duration": 26,
    "start_time": "2023-04-30T05:24:00.360Z"
   },
   {
    "duration": 41,
    "start_time": "2023-04-30T05:24:00.388Z"
   },
   {
    "duration": 359,
    "start_time": "2023-04-30T05:24:00.431Z"
   },
   {
    "duration": 19,
    "start_time": "2023-04-30T05:24:00.792Z"
   },
   {
    "duration": 49,
    "start_time": "2023-04-30T05:24:00.813Z"
   },
   {
    "duration": 2954,
    "start_time": "2023-04-30T05:24:00.865Z"
   },
   {
    "duration": 427,
    "start_time": "2023-04-30T05:24:03.821Z"
   },
   {
    "duration": 21,
    "start_time": "2023-04-30T05:24:04.252Z"
   },
   {
    "duration": 19,
    "start_time": "2023-04-30T05:24:04.275Z"
   },
   {
    "duration": 91,
    "start_time": "2023-04-30T05:24:04.295Z"
   },
   {
    "duration": 74,
    "start_time": "2023-04-30T05:24:04.387Z"
   },
   {
    "duration": 528,
    "start_time": "2023-04-30T05:24:04.463Z"
   },
   {
    "duration": 2,
    "start_time": "2023-04-30T05:24:04.993Z"
   },
   {
    "duration": 7,
    "start_time": "2023-04-30T05:24:04.996Z"
   },
   {
    "duration": 23,
    "start_time": "2023-04-30T05:24:05.004Z"
   },
   {
    "duration": 667,
    "start_time": "2023-04-30T05:24:05.029Z"
   },
   {
    "duration": 480,
    "start_time": "2023-04-30T05:24:05.697Z"
   },
   {
    "duration": 116,
    "start_time": "2023-04-30T05:24:06.179Z"
   },
   {
    "duration": 453,
    "start_time": "2023-04-30T05:24:06.296Z"
   },
   {
    "duration": 2316,
    "start_time": "2023-04-30T05:24:06.751Z"
   },
   {
    "duration": 3,
    "start_time": "2023-04-30T05:24:09.069Z"
   },
   {
    "duration": 219,
    "start_time": "2023-04-30T05:24:09.074Z"
   },
   {
    "duration": 41992,
    "start_time": "2023-04-30T05:24:09.295Z"
   },
   {
    "duration": 1527,
    "start_time": "2023-04-30T05:24:59.711Z"
   },
   {
    "duration": 868,
    "start_time": "2023-04-30T05:25:01.240Z"
   },
   {
    "duration": 20,
    "start_time": "2023-04-30T05:25:02.110Z"
   },
   {
    "duration": 184,
    "start_time": "2023-04-30T05:25:02.133Z"
   },
   {
    "duration": 183,
    "start_time": "2023-04-30T05:25:02.319Z"
   },
   {
    "duration": 490,
    "start_time": "2023-04-30T05:25:02.504Z"
   },
   {
    "duration": 99,
    "start_time": "2023-04-30T05:25:02.995Z"
   },
   {
    "duration": 379,
    "start_time": "2023-04-30T05:25:03.096Z"
   },
   {
    "duration": 10,
    "start_time": "2023-04-30T05:25:03.476Z"
   },
   {
    "duration": 69,
    "start_time": "2023-04-30T05:25:03.490Z"
   },
   {
    "duration": 68,
    "start_time": "2023-04-30T05:25:03.561Z"
   },
   {
    "duration": 26,
    "start_time": "2023-04-30T05:25:03.631Z"
   },
   {
    "duration": 76,
    "start_time": "2023-04-30T05:25:03.659Z"
   },
   {
    "duration": 27,
    "start_time": "2023-04-30T05:25:03.736Z"
   },
   {
    "duration": 35,
    "start_time": "2023-04-30T05:25:03.765Z"
   },
   {
    "duration": 13,
    "start_time": "2023-04-30T05:25:03.802Z"
   },
   {
    "duration": 39,
    "start_time": "2023-04-30T05:25:03.817Z"
   },
   {
    "duration": 44,
    "start_time": "2023-04-30T05:25:03.858Z"
   },
   {
    "duration": 345,
    "start_time": "2023-04-30T05:25:03.904Z"
   },
   {
    "duration": 166,
    "start_time": "2023-04-30T05:25:04.251Z"
   },
   {
    "duration": 16,
    "start_time": "2023-04-30T05:25:04.420Z"
   },
   {
    "duration": 66,
    "start_time": "2023-04-30T05:25:04.439Z"
   },
   {
    "duration": 348,
    "start_time": "2023-04-30T05:25:04.507Z"
   },
   {
    "duration": 28,
    "start_time": "2023-04-30T05:25:04.857Z"
   },
   {
    "duration": 26,
    "start_time": "2023-04-30T05:25:04.887Z"
   },
   {
    "duration": 3030,
    "start_time": "2023-04-30T05:25:04.915Z"
   },
   {
    "duration": 417,
    "start_time": "2023-04-30T05:25:07.947Z"
   },
   {
    "duration": 42,
    "start_time": "2023-04-30T05:25:08.369Z"
   },
   {
    "duration": 16,
    "start_time": "2023-04-30T05:25:08.413Z"
   },
   {
    "duration": 126,
    "start_time": "2023-04-30T05:25:08.431Z"
   },
   {
    "duration": 99,
    "start_time": "2023-04-30T05:25:08.560Z"
   },
   {
    "duration": 582,
    "start_time": "2023-04-30T05:25:08.661Z"
   },
   {
    "duration": 3,
    "start_time": "2023-04-30T05:25:09.245Z"
   },
   {
    "duration": 5,
    "start_time": "2023-04-30T05:25:09.250Z"
   },
   {
    "duration": 31,
    "start_time": "2023-04-30T05:25:09.256Z"
   },
   {
    "duration": 661,
    "start_time": "2023-04-30T05:25:09.289Z"
   },
   {
    "duration": 466,
    "start_time": "2023-04-30T05:25:09.952Z"
   },
   {
    "duration": 143,
    "start_time": "2023-04-30T05:25:10.419Z"
   },
   {
    "duration": 483,
    "start_time": "2023-04-30T05:25:10.564Z"
   },
   {
    "duration": 2306,
    "start_time": "2023-04-30T05:25:11.049Z"
   },
   {
    "duration": 3,
    "start_time": "2023-04-30T05:25:13.357Z"
   },
   {
    "duration": 219,
    "start_time": "2023-04-30T05:25:13.362Z"
   },
   {
    "duration": 21808,
    "start_time": "2023-04-30T05:25:13.583Z"
   },
   {
    "duration": 25766,
    "start_time": "2023-04-30T05:25:35.394Z"
   },
   {
    "duration": 4833,
    "start_time": "2023-04-30T05:26:01.162Z"
   },
   {
    "duration": 3,
    "start_time": "2023-04-30T05:26:05.997Z"
   },
   {
    "duration": 13,
    "start_time": "2023-04-30T05:26:06.002Z"
   },
   {
    "duration": 82,
    "start_time": "2023-04-30T05:26:06.017Z"
   },
   {
    "duration": 23188,
    "start_time": "2023-04-30T05:26:06.101Z"
   },
   {
    "duration": 100,
    "start_time": "2023-04-30T05:26:29.295Z"
   },
   {
    "duration": 5694,
    "start_time": "2023-04-30T05:26:29.397Z"
   },
   {
    "duration": 3,
    "start_time": "2023-04-30T05:27:10.573Z"
   }
  ],
  "kernelspec": {
   "display_name": "Python 3 (ipykernel)",
   "language": "python",
   "name": "python3"
  },
  "language_info": {
   "codemirror_mode": {
    "name": "ipython",
    "version": 3
   },
   "file_extension": ".py",
   "mimetype": "text/x-python",
   "name": "python",
   "nbconvert_exporter": "python",
   "pygments_lexer": "ipython3",
   "version": "3.9.5"
  },
  "toc": {
   "base_numbering": 1,
   "nav_menu": {},
   "number_sections": true,
   "sideBar": true,
   "skip_h1_title": true,
   "title_cell": "Table of Contents",
   "title_sidebar": "Contents",
   "toc_cell": false,
   "toc_position": {},
   "toc_section_display": true,
   "toc_window_display": false
  }
 },
 "nbformat": 4,
 "nbformat_minor": 2
}
