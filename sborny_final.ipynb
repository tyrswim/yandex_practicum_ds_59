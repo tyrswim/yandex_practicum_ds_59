{
 "cells": [
  {
   "cell_type": "markdown",
   "metadata": {},
   "source": [
    "**Антон, привет!**\n",
    "\n",
    "Меня зовут Василий Митров и я буду проверять твой проект. Предлагаю общаться на «ты». Если это неприемлемо, то дай мне знать и мы перейдем на «вы». Моя основная цель — не указать на совершенные тобою ошибки, а поделиться своим опытом и помочь тебе стать аналитиком данных.\n",
    "\n",
    "Для удобства я оставлю комментарии в отдельных ячейках Markdown с заголовком «Комментарий ревьюера». Пожалуйста, не перемещай, не изменяй и не удаляй их - так наше общение будет более продуктивным. Я буду использовать цветовую разметку:\n",
    "\n",
    "<div class=\"alert alert-danger\">\n",
    "<b>Комментарий ревьюера</b> \n",
    "    \n",
    "✍ Так выделены самые важные замечания. Без их отработки проект не будет принят. При проверке я обращаю внимание не только на код, но и на интерпретацию и анализ результатов, а также соответствие данных техническому заданию.\n",
    "</div>\n",
    "\n",
    "<div class=\"alert alert-warning\">\n",
    "<b>Комментарий ревьюера</b> \n",
    "    \n",
    "📝 Так выделены небольшие замечания или рекомендации. Постарайся, пожалуйста, учесть эти комментарии в этом проекте или в будущих проектах.\n",
    "</div>\n",
    "\n",
    "<div class=\"alert alert-success\">\n",
    "<b>Комментарий ревьюера</b> \n",
    "    \n",
    "👍 Так выделены все остальные комментарии, включая рекомендации, позитивные моменты или какие-то рассуждения и пояснения.\n",
    "</div>\n",
    "\n",
    "Давай работать над проектом в диалоге: если ты что-то меняешь в проекте или отвечаешь на мои комментарии — пиши об этом. Мне будет легче отследить изменения, если ты выделишь свои комментарии:\n",
    "\n",
    "<div class=\"alert alert-info\"> \n",
    "<b>Комментарий студента</b> \n",
    "    \n",
    "Например, вот так. Также, если есть какие-то вопросы, или что-то осталось непонятным по ревью - спрашивай в таких блоках и я постараюсь дать ответ.\n",
    "</div>\n",
    "\n",
    "---"
   ]
  },
  {
   "cell_type": "markdown",
   "metadata": {},
   "source": [
    "<div class=\"alert alert-danger\">\n",
    "<b>Комментарий ревьюера v.1</b> \n",
    "    \n",
    "✍ \n",
    "К сожалению отсутствует описание задачи. Это поможет быстро вспомнить, о чем проект, если ты к нему вернешься спустя какое-то время.\n",
    "\n",
    "Хорошо было бы добавить ход и цель исследования. Пример можно посмотреть в самом первом проекте (Музыка городов)\n",
    "</div>"
   ]
  },
  {
   "cell_type": "markdown",
   "metadata": {},
   "source": [
    "Описание проекта:\n",
    "Вы работаете в интернет-магазине «Стримчик», который продаёт по всему миру компьютерные игры. Из открытых источников доступны исторические данные о продажах игр, оценки пользователей и экспертов, жанры и платформы (например, Xbox или PlayStation). Вам нужно выявить определяющие успешность игры закономерности. Это позволит сделать ставку на потенциально популярный продукт и спланировать рекламные кампании.\n",
    "Перед вами данные до 2016 года. Представим, что сейчас декабрь 2016 г., и вы планируете кампанию на 2017-й. Нужно отработать принцип работы с данными. Неважно, прогнозируете ли вы продажи на 2017 год по данным 2016-го или же 2027-й — по данным 2026 года.\n",
    "В наборе данных попадается аббревиатура ESRB (Entertainment Software Rating Board) — это ассоциация, определяющая возрастной рейтинг компьютерных игр. ESRB оценивает игровой контент и присваивает ему подходящую возрастную категорию, например, «Для взрослых», «Для детей младшего возраста» или «Для подростков».\n",
    "\n",
    "Описание данных:\n",
    "Name — название игры\n",
    "Platform — платформа\n",
    "Year_of_Release — год выпуска\n",
    "Genre — жанр игры\n",
    "NA_sales — продажи в Северной Америке (миллионы проданных копий)\n",
    "EU_sales — продажи в Европе (миллионы проданных копий)\n",
    "JP_sales — продажи в Японии (миллионы проданных копий)\n",
    "Other_sales — продажи в других странах (миллионы проданных копий)\n",
    "Critic_Score — оценка критиков (максимум 100)\n",
    "User_Score — оценка пользователей (максимум 10)\n",
    "Rating — рейтинг от организации ESRB (англ. Entertainment Software Rating Board). Эта ассоциация определяет рейтинг компьютерных игр и присваивает им подходящую возрастную категорию.\n",
    "\n",
    "Цель: Выявить параметры, определяющие успешность игр, для дальнейшего управления продуктами (определение перспективных / стагнирующих сфер, распределение рекламных бюджетов, текущая / перспективная популярность).\n",
    "\n",
    "Выборка: Исторические данные о выпущенных играх с продажами по регионам. Данные за 2016 год могут быть не полными."
   ]
  },
  {
   "cell_type": "markdown",
   "metadata": {},
   "source": [
    "<div class=\"alert alert-success\">\n",
    "<b>Комментарий ревьюера v.2</b> \n",
    "    \n",
    "👍 \n",
    "\n",
    "</div>"
   ]
  },
  {
   "cell_type": "code",
   "execution_count": 1,
   "metadata": {},
   "outputs": [],
   "source": [
    "import pandas as pd\n",
    "import numpy as np\n",
    "import matplotlib.pyplot as plt\n",
    "games = pd.read_csv('/datasets/games.csv')"
   ]
  },
  {
   "cell_type": "markdown",
   "metadata": {},
   "source": [
    "<div class=\"alert alert-warning\">\n",
    "<b>Комментарий ревьюера v.1</b> \n",
    "    \n",
    "📝 \n",
    "Совет: выносить загрузку в отдельную ячейку в соответствии с PEP8.\n",
    "</div>"
   ]
  },
  {
   "cell_type": "code",
   "execution_count": 2,
   "metadata": {},
   "outputs": [
    {
     "data": {
      "text/html": [
       "<div>\n",
       "<style scoped>\n",
       "    .dataframe tbody tr th:only-of-type {\n",
       "        vertical-align: middle;\n",
       "    }\n",
       "\n",
       "    .dataframe tbody tr th {\n",
       "        vertical-align: top;\n",
       "    }\n",
       "\n",
       "    .dataframe thead th {\n",
       "        text-align: right;\n",
       "    }\n",
       "</style>\n",
       "<table border=\"1\" class=\"dataframe\">\n",
       "  <thead>\n",
       "    <tr style=\"text-align: right;\">\n",
       "      <th></th>\n",
       "      <th>Name</th>\n",
       "      <th>Platform</th>\n",
       "      <th>Year_of_Release</th>\n",
       "      <th>Genre</th>\n",
       "      <th>NA_sales</th>\n",
       "      <th>EU_sales</th>\n",
       "      <th>JP_sales</th>\n",
       "      <th>Other_sales</th>\n",
       "      <th>Critic_Score</th>\n",
       "      <th>User_Score</th>\n",
       "      <th>Rating</th>\n",
       "    </tr>\n",
       "  </thead>\n",
       "  <tbody>\n",
       "    <tr>\n",
       "      <th>0</th>\n",
       "      <td>Wii Sports</td>\n",
       "      <td>Wii</td>\n",
       "      <td>2006.0</td>\n",
       "      <td>Sports</td>\n",
       "      <td>41.36</td>\n",
       "      <td>28.96</td>\n",
       "      <td>3.77</td>\n",
       "      <td>8.45</td>\n",
       "      <td>76.0</td>\n",
       "      <td>8</td>\n",
       "      <td>E</td>\n",
       "    </tr>\n",
       "    <tr>\n",
       "      <th>1</th>\n",
       "      <td>Super Mario Bros.</td>\n",
       "      <td>NES</td>\n",
       "      <td>1985.0</td>\n",
       "      <td>Platform</td>\n",
       "      <td>29.08</td>\n",
       "      <td>3.58</td>\n",
       "      <td>6.81</td>\n",
       "      <td>0.77</td>\n",
       "      <td>NaN</td>\n",
       "      <td>NaN</td>\n",
       "      <td>NaN</td>\n",
       "    </tr>\n",
       "    <tr>\n",
       "      <th>2</th>\n",
       "      <td>Mario Kart Wii</td>\n",
       "      <td>Wii</td>\n",
       "      <td>2008.0</td>\n",
       "      <td>Racing</td>\n",
       "      <td>15.68</td>\n",
       "      <td>12.76</td>\n",
       "      <td>3.79</td>\n",
       "      <td>3.29</td>\n",
       "      <td>82.0</td>\n",
       "      <td>8.3</td>\n",
       "      <td>E</td>\n",
       "    </tr>\n",
       "    <tr>\n",
       "      <th>3</th>\n",
       "      <td>Wii Sports Resort</td>\n",
       "      <td>Wii</td>\n",
       "      <td>2009.0</td>\n",
       "      <td>Sports</td>\n",
       "      <td>15.61</td>\n",
       "      <td>10.93</td>\n",
       "      <td>3.28</td>\n",
       "      <td>2.95</td>\n",
       "      <td>80.0</td>\n",
       "      <td>8</td>\n",
       "      <td>E</td>\n",
       "    </tr>\n",
       "    <tr>\n",
       "      <th>4</th>\n",
       "      <td>Pokemon Red/Pokemon Blue</td>\n",
       "      <td>GB</td>\n",
       "      <td>1996.0</td>\n",
       "      <td>Role-Playing</td>\n",
       "      <td>11.27</td>\n",
       "      <td>8.89</td>\n",
       "      <td>10.22</td>\n",
       "      <td>1.00</td>\n",
       "      <td>NaN</td>\n",
       "      <td>NaN</td>\n",
       "      <td>NaN</td>\n",
       "    </tr>\n",
       "    <tr>\n",
       "      <th>5</th>\n",
       "      <td>Tetris</td>\n",
       "      <td>GB</td>\n",
       "      <td>1989.0</td>\n",
       "      <td>Puzzle</td>\n",
       "      <td>23.20</td>\n",
       "      <td>2.26</td>\n",
       "      <td>4.22</td>\n",
       "      <td>0.58</td>\n",
       "      <td>NaN</td>\n",
       "      <td>NaN</td>\n",
       "      <td>NaN</td>\n",
       "    </tr>\n",
       "    <tr>\n",
       "      <th>6</th>\n",
       "      <td>New Super Mario Bros.</td>\n",
       "      <td>DS</td>\n",
       "      <td>2006.0</td>\n",
       "      <td>Platform</td>\n",
       "      <td>11.28</td>\n",
       "      <td>9.14</td>\n",
       "      <td>6.50</td>\n",
       "      <td>2.88</td>\n",
       "      <td>89.0</td>\n",
       "      <td>8.5</td>\n",
       "      <td>E</td>\n",
       "    </tr>\n",
       "    <tr>\n",
       "      <th>7</th>\n",
       "      <td>Wii Play</td>\n",
       "      <td>Wii</td>\n",
       "      <td>2006.0</td>\n",
       "      <td>Misc</td>\n",
       "      <td>13.96</td>\n",
       "      <td>9.18</td>\n",
       "      <td>2.93</td>\n",
       "      <td>2.84</td>\n",
       "      <td>58.0</td>\n",
       "      <td>6.6</td>\n",
       "      <td>E</td>\n",
       "    </tr>\n",
       "    <tr>\n",
       "      <th>8</th>\n",
       "      <td>New Super Mario Bros. Wii</td>\n",
       "      <td>Wii</td>\n",
       "      <td>2009.0</td>\n",
       "      <td>Platform</td>\n",
       "      <td>14.44</td>\n",
       "      <td>6.94</td>\n",
       "      <td>4.70</td>\n",
       "      <td>2.24</td>\n",
       "      <td>87.0</td>\n",
       "      <td>8.4</td>\n",
       "      <td>E</td>\n",
       "    </tr>\n",
       "    <tr>\n",
       "      <th>9</th>\n",
       "      <td>Duck Hunt</td>\n",
       "      <td>NES</td>\n",
       "      <td>1984.0</td>\n",
       "      <td>Shooter</td>\n",
       "      <td>26.93</td>\n",
       "      <td>0.63</td>\n",
       "      <td>0.28</td>\n",
       "      <td>0.47</td>\n",
       "      <td>NaN</td>\n",
       "      <td>NaN</td>\n",
       "      <td>NaN</td>\n",
       "    </tr>\n",
       "    <tr>\n",
       "      <th>10</th>\n",
       "      <td>Nintendogs</td>\n",
       "      <td>DS</td>\n",
       "      <td>2005.0</td>\n",
       "      <td>Simulation</td>\n",
       "      <td>9.05</td>\n",
       "      <td>10.95</td>\n",
       "      <td>1.93</td>\n",
       "      <td>2.74</td>\n",
       "      <td>NaN</td>\n",
       "      <td>NaN</td>\n",
       "      <td>NaN</td>\n",
       "    </tr>\n",
       "    <tr>\n",
       "      <th>11</th>\n",
       "      <td>Mario Kart DS</td>\n",
       "      <td>DS</td>\n",
       "      <td>2005.0</td>\n",
       "      <td>Racing</td>\n",
       "      <td>9.71</td>\n",
       "      <td>7.47</td>\n",
       "      <td>4.13</td>\n",
       "      <td>1.90</td>\n",
       "      <td>91.0</td>\n",
       "      <td>8.6</td>\n",
       "      <td>E</td>\n",
       "    </tr>\n",
       "    <tr>\n",
       "      <th>12</th>\n",
       "      <td>Pokemon Gold/Pokemon Silver</td>\n",
       "      <td>GB</td>\n",
       "      <td>1999.0</td>\n",
       "      <td>Role-Playing</td>\n",
       "      <td>9.00</td>\n",
       "      <td>6.18</td>\n",
       "      <td>7.20</td>\n",
       "      <td>0.71</td>\n",
       "      <td>NaN</td>\n",
       "      <td>NaN</td>\n",
       "      <td>NaN</td>\n",
       "    </tr>\n",
       "    <tr>\n",
       "      <th>13</th>\n",
       "      <td>Wii Fit</td>\n",
       "      <td>Wii</td>\n",
       "      <td>2007.0</td>\n",
       "      <td>Sports</td>\n",
       "      <td>8.92</td>\n",
       "      <td>8.03</td>\n",
       "      <td>3.60</td>\n",
       "      <td>2.15</td>\n",
       "      <td>80.0</td>\n",
       "      <td>7.7</td>\n",
       "      <td>E</td>\n",
       "    </tr>\n",
       "    <tr>\n",
       "      <th>14</th>\n",
       "      <td>Kinect Adventures!</td>\n",
       "      <td>X360</td>\n",
       "      <td>2010.0</td>\n",
       "      <td>Misc</td>\n",
       "      <td>15.00</td>\n",
       "      <td>4.89</td>\n",
       "      <td>0.24</td>\n",
       "      <td>1.69</td>\n",
       "      <td>61.0</td>\n",
       "      <td>6.3</td>\n",
       "      <td>E</td>\n",
       "    </tr>\n",
       "    <tr>\n",
       "      <th>15</th>\n",
       "      <td>Wii Fit Plus</td>\n",
       "      <td>Wii</td>\n",
       "      <td>2009.0</td>\n",
       "      <td>Sports</td>\n",
       "      <td>9.01</td>\n",
       "      <td>8.49</td>\n",
       "      <td>2.53</td>\n",
       "      <td>1.77</td>\n",
       "      <td>80.0</td>\n",
       "      <td>7.4</td>\n",
       "      <td>E</td>\n",
       "    </tr>\n",
       "    <tr>\n",
       "      <th>16</th>\n",
       "      <td>Grand Theft Auto V</td>\n",
       "      <td>PS3</td>\n",
       "      <td>2013.0</td>\n",
       "      <td>Action</td>\n",
       "      <td>7.02</td>\n",
       "      <td>9.09</td>\n",
       "      <td>0.98</td>\n",
       "      <td>3.96</td>\n",
       "      <td>97.0</td>\n",
       "      <td>8.2</td>\n",
       "      <td>M</td>\n",
       "    </tr>\n",
       "    <tr>\n",
       "      <th>17</th>\n",
       "      <td>Grand Theft Auto: San Andreas</td>\n",
       "      <td>PS2</td>\n",
       "      <td>2004.0</td>\n",
       "      <td>Action</td>\n",
       "      <td>9.43</td>\n",
       "      <td>0.40</td>\n",
       "      <td>0.41</td>\n",
       "      <td>10.57</td>\n",
       "      <td>95.0</td>\n",
       "      <td>9</td>\n",
       "      <td>M</td>\n",
       "    </tr>\n",
       "    <tr>\n",
       "      <th>18</th>\n",
       "      <td>Super Mario World</td>\n",
       "      <td>SNES</td>\n",
       "      <td>1990.0</td>\n",
       "      <td>Platform</td>\n",
       "      <td>12.78</td>\n",
       "      <td>3.75</td>\n",
       "      <td>3.54</td>\n",
       "      <td>0.55</td>\n",
       "      <td>NaN</td>\n",
       "      <td>NaN</td>\n",
       "      <td>NaN</td>\n",
       "    </tr>\n",
       "    <tr>\n",
       "      <th>19</th>\n",
       "      <td>Brain Age: Train Your Brain in Minutes a Day</td>\n",
       "      <td>DS</td>\n",
       "      <td>2005.0</td>\n",
       "      <td>Misc</td>\n",
       "      <td>4.74</td>\n",
       "      <td>9.20</td>\n",
       "      <td>4.16</td>\n",
       "      <td>2.04</td>\n",
       "      <td>77.0</td>\n",
       "      <td>7.9</td>\n",
       "      <td>E</td>\n",
       "    </tr>\n",
       "  </tbody>\n",
       "</table>\n",
       "</div>"
      ],
      "text/plain": [
       "                                            Name Platform  Year_of_Release  \\\n",
       "0                                     Wii Sports      Wii           2006.0   \n",
       "1                              Super Mario Bros.      NES           1985.0   \n",
       "2                                 Mario Kart Wii      Wii           2008.0   \n",
       "3                              Wii Sports Resort      Wii           2009.0   \n",
       "4                       Pokemon Red/Pokemon Blue       GB           1996.0   \n",
       "5                                         Tetris       GB           1989.0   \n",
       "6                          New Super Mario Bros.       DS           2006.0   \n",
       "7                                       Wii Play      Wii           2006.0   \n",
       "8                      New Super Mario Bros. Wii      Wii           2009.0   \n",
       "9                                      Duck Hunt      NES           1984.0   \n",
       "10                                    Nintendogs       DS           2005.0   \n",
       "11                                 Mario Kart DS       DS           2005.0   \n",
       "12                   Pokemon Gold/Pokemon Silver       GB           1999.0   \n",
       "13                                       Wii Fit      Wii           2007.0   \n",
       "14                            Kinect Adventures!     X360           2010.0   \n",
       "15                                  Wii Fit Plus      Wii           2009.0   \n",
       "16                            Grand Theft Auto V      PS3           2013.0   \n",
       "17                 Grand Theft Auto: San Andreas      PS2           2004.0   \n",
       "18                             Super Mario World     SNES           1990.0   \n",
       "19  Brain Age: Train Your Brain in Minutes a Day       DS           2005.0   \n",
       "\n",
       "           Genre  NA_sales  EU_sales  JP_sales  Other_sales  Critic_Score  \\\n",
       "0         Sports     41.36     28.96      3.77         8.45          76.0   \n",
       "1       Platform     29.08      3.58      6.81         0.77           NaN   \n",
       "2         Racing     15.68     12.76      3.79         3.29          82.0   \n",
       "3         Sports     15.61     10.93      3.28         2.95          80.0   \n",
       "4   Role-Playing     11.27      8.89     10.22         1.00           NaN   \n",
       "5         Puzzle     23.20      2.26      4.22         0.58           NaN   \n",
       "6       Platform     11.28      9.14      6.50         2.88          89.0   \n",
       "7           Misc     13.96      9.18      2.93         2.84          58.0   \n",
       "8       Platform     14.44      6.94      4.70         2.24          87.0   \n",
       "9        Shooter     26.93      0.63      0.28         0.47           NaN   \n",
       "10    Simulation      9.05     10.95      1.93         2.74           NaN   \n",
       "11        Racing      9.71      7.47      4.13         1.90          91.0   \n",
       "12  Role-Playing      9.00      6.18      7.20         0.71           NaN   \n",
       "13        Sports      8.92      8.03      3.60         2.15          80.0   \n",
       "14          Misc     15.00      4.89      0.24         1.69          61.0   \n",
       "15        Sports      9.01      8.49      2.53         1.77          80.0   \n",
       "16        Action      7.02      9.09      0.98         3.96          97.0   \n",
       "17        Action      9.43      0.40      0.41        10.57          95.0   \n",
       "18      Platform     12.78      3.75      3.54         0.55           NaN   \n",
       "19          Misc      4.74      9.20      4.16         2.04          77.0   \n",
       "\n",
       "   User_Score Rating  \n",
       "0           8      E  \n",
       "1         NaN    NaN  \n",
       "2         8.3      E  \n",
       "3           8      E  \n",
       "4         NaN    NaN  \n",
       "5         NaN    NaN  \n",
       "6         8.5      E  \n",
       "7         6.6      E  \n",
       "8         8.4      E  \n",
       "9         NaN    NaN  \n",
       "10        NaN    NaN  \n",
       "11        8.6      E  \n",
       "12        NaN    NaN  \n",
       "13        7.7      E  \n",
       "14        6.3      E  \n",
       "15        7.4      E  \n",
       "16        8.2      M  \n",
       "17          9      M  \n",
       "18        NaN    NaN  \n",
       "19        7.9      E  "
      ]
     },
     "execution_count": 2,
     "metadata": {},
     "output_type": "execute_result"
    }
   ],
   "source": [
    "games.head(20)"
   ]
  },
  {
   "cell_type": "code",
   "execution_count": 3,
   "metadata": {},
   "outputs": [
    {
     "data": {
      "text/html": [
       "<div>\n",
       "<style scoped>\n",
       "    .dataframe tbody tr th:only-of-type {\n",
       "        vertical-align: middle;\n",
       "    }\n",
       "\n",
       "    .dataframe tbody tr th {\n",
       "        vertical-align: top;\n",
       "    }\n",
       "\n",
       "    .dataframe thead th {\n",
       "        text-align: right;\n",
       "    }\n",
       "</style>\n",
       "<table border=\"1\" class=\"dataframe\">\n",
       "  <thead>\n",
       "    <tr style=\"text-align: right;\">\n",
       "      <th></th>\n",
       "      <th>Year_of_Release</th>\n",
       "      <th>NA_sales</th>\n",
       "      <th>EU_sales</th>\n",
       "      <th>JP_sales</th>\n",
       "      <th>Other_sales</th>\n",
       "      <th>Critic_Score</th>\n",
       "    </tr>\n",
       "  </thead>\n",
       "  <tbody>\n",
       "    <tr>\n",
       "      <th>count</th>\n",
       "      <td>16446.000000</td>\n",
       "      <td>16715.000000</td>\n",
       "      <td>16715.000000</td>\n",
       "      <td>16715.000000</td>\n",
       "      <td>16715.000000</td>\n",
       "      <td>8137.000000</td>\n",
       "    </tr>\n",
       "    <tr>\n",
       "      <th>mean</th>\n",
       "      <td>2006.484616</td>\n",
       "      <td>0.263377</td>\n",
       "      <td>0.145060</td>\n",
       "      <td>0.077617</td>\n",
       "      <td>0.047342</td>\n",
       "      <td>68.967679</td>\n",
       "    </tr>\n",
       "    <tr>\n",
       "      <th>std</th>\n",
       "      <td>5.877050</td>\n",
       "      <td>0.813604</td>\n",
       "      <td>0.503339</td>\n",
       "      <td>0.308853</td>\n",
       "      <td>0.186731</td>\n",
       "      <td>13.938165</td>\n",
       "    </tr>\n",
       "    <tr>\n",
       "      <th>min</th>\n",
       "      <td>1980.000000</td>\n",
       "      <td>0.000000</td>\n",
       "      <td>0.000000</td>\n",
       "      <td>0.000000</td>\n",
       "      <td>0.000000</td>\n",
       "      <td>13.000000</td>\n",
       "    </tr>\n",
       "    <tr>\n",
       "      <th>25%</th>\n",
       "      <td>2003.000000</td>\n",
       "      <td>0.000000</td>\n",
       "      <td>0.000000</td>\n",
       "      <td>0.000000</td>\n",
       "      <td>0.000000</td>\n",
       "      <td>60.000000</td>\n",
       "    </tr>\n",
       "    <tr>\n",
       "      <th>50%</th>\n",
       "      <td>2007.000000</td>\n",
       "      <td>0.080000</td>\n",
       "      <td>0.020000</td>\n",
       "      <td>0.000000</td>\n",
       "      <td>0.010000</td>\n",
       "      <td>71.000000</td>\n",
       "    </tr>\n",
       "    <tr>\n",
       "      <th>75%</th>\n",
       "      <td>2010.000000</td>\n",
       "      <td>0.240000</td>\n",
       "      <td>0.110000</td>\n",
       "      <td>0.040000</td>\n",
       "      <td>0.030000</td>\n",
       "      <td>79.000000</td>\n",
       "    </tr>\n",
       "    <tr>\n",
       "      <th>max</th>\n",
       "      <td>2016.000000</td>\n",
       "      <td>41.360000</td>\n",
       "      <td>28.960000</td>\n",
       "      <td>10.220000</td>\n",
       "      <td>10.570000</td>\n",
       "      <td>98.000000</td>\n",
       "    </tr>\n",
       "  </tbody>\n",
       "</table>\n",
       "</div>"
      ],
      "text/plain": [
       "       Year_of_Release      NA_sales      EU_sales      JP_sales  \\\n",
       "count     16446.000000  16715.000000  16715.000000  16715.000000   \n",
       "mean       2006.484616      0.263377      0.145060      0.077617   \n",
       "std           5.877050      0.813604      0.503339      0.308853   \n",
       "min        1980.000000      0.000000      0.000000      0.000000   \n",
       "25%        2003.000000      0.000000      0.000000      0.000000   \n",
       "50%        2007.000000      0.080000      0.020000      0.000000   \n",
       "75%        2010.000000      0.240000      0.110000      0.040000   \n",
       "max        2016.000000     41.360000     28.960000     10.220000   \n",
       "\n",
       "        Other_sales  Critic_Score  \n",
       "count  16715.000000   8137.000000  \n",
       "mean       0.047342     68.967679  \n",
       "std        0.186731     13.938165  \n",
       "min        0.000000     13.000000  \n",
       "25%        0.000000     60.000000  \n",
       "50%        0.010000     71.000000  \n",
       "75%        0.030000     79.000000  \n",
       "max       10.570000     98.000000  "
      ]
     },
     "execution_count": 3,
     "metadata": {},
     "output_type": "execute_result"
    }
   ],
   "source": [
    "games.describe()"
   ]
  },
  {
   "cell_type": "code",
   "execution_count": 4,
   "metadata": {},
   "outputs": [
    {
     "name": "stdout",
     "output_type": "stream",
     "text": [
      "<class 'pandas.core.frame.DataFrame'>\n",
      "RangeIndex: 16715 entries, 0 to 16714\n",
      "Data columns (total 11 columns):\n",
      " #   Column           Non-Null Count  Dtype  \n",
      "---  ------           --------------  -----  \n",
      " 0   Name             16713 non-null  object \n",
      " 1   Platform         16715 non-null  object \n",
      " 2   Year_of_Release  16446 non-null  float64\n",
      " 3   Genre            16713 non-null  object \n",
      " 4   NA_sales         16715 non-null  float64\n",
      " 5   EU_sales         16715 non-null  float64\n",
      " 6   JP_sales         16715 non-null  float64\n",
      " 7   Other_sales      16715 non-null  float64\n",
      " 8   Critic_Score     8137 non-null   float64\n",
      " 9   User_Score       10014 non-null  object \n",
      " 10  Rating           9949 non-null   object \n",
      "dtypes: float64(6), object(5)\n",
      "memory usage: 1.4+ MB\n"
     ]
    }
   ],
   "source": [
    "games.info()"
   ]
  },
  {
   "cell_type": "code",
   "execution_count": 5,
   "metadata": {},
   "outputs": [
    {
     "data": {
      "text/plain": [
       "0"
      ]
     },
     "execution_count": 5,
     "metadata": {},
     "output_type": "execute_result"
    }
   ],
   "source": [
    "games.duplicated().sum()"
   ]
  },
  {
   "cell_type": "markdown",
   "metadata": {},
   "source": [
    "<div class=\"alert alert-success\">\n",
    "<b>Комментарий ревьюера v.1</b> \n",
    "    \n",
    "👍 \n",
    "Молодец, что не забываешь про явные дубликаты.\n",
    "</div>"
   ]
  },
  {
   "cell_type": "code",
   "execution_count": 6,
   "metadata": {},
   "outputs": [
    {
     "data": {
      "text/plain": [
       "Name                  2\n",
       "Platform              0\n",
       "Year_of_Release     269\n",
       "Genre                 2\n",
       "NA_sales              0\n",
       "EU_sales              0\n",
       "JP_sales              0\n",
       "Other_sales           0\n",
       "Critic_Score       8578\n",
       "User_Score         6701\n",
       "Rating             6766\n",
       "dtype: int64"
      ]
     },
     "execution_count": 6,
     "metadata": {},
     "output_type": "execute_result"
    }
   ],
   "source": [
    "games.isna().sum()"
   ]
  },
  {
   "cell_type": "markdown",
   "metadata": {},
   "source": [
    "<div class=\"alert alert-warning\">\n",
    "<b>Комментарий ревьюера v.1</b> \n",
    "    \n",
    "📝 \n",
    "Также мы можем посмотреть долю пропусков, и на основании этого принять решение о удалении, замене либо игнорировании пропусков, например: `pd.DataFrame(round(df.isna().mean()*100,1)).style.background_gradient('coolwarm')`\n",
    "</div>"
   ]
  },
  {
   "cell_type": "markdown",
   "metadata": {},
   "source": [
    "Приведем названия столбцов к нижнему регистру"
   ]
  },
  {
   "cell_type": "code",
   "execution_count": 7,
   "metadata": {},
   "outputs": [],
   "source": [
    "games.columns = games.columns.str.lower()\n",
    "#games.head() "
   ]
  },
  {
   "cell_type": "markdown",
   "metadata": {},
   "source": [
    "Удалим строки с NaN которых мало"
   ]
  },
  {
   "cell_type": "code",
   "execution_count": 8,
   "metadata": {},
   "outputs": [],
   "source": [
    "games = games.dropna(subset = ['name'])\n",
    "games = games.dropna(subset = ['genre'])"
   ]
  },
  {
   "cell_type": "markdown",
   "metadata": {},
   "source": [
    "<div class=\"alert alert-success\">\n",
    "<b>Комментарий ревьюера v.1</b> \n",
    "    \n",
    "👍 \n",
    "Верно, доля пропусков здесь менее 5% и для экономии времени их можно удалить.\n",
    "</div>"
   ]
  },
  {
   "cell_type": "markdown",
   "metadata": {},
   "source": [
    "Посмотрим на пропуски в столбце год выпуска"
   ]
  },
  {
   "cell_type": "code",
   "execution_count": 9,
   "metadata": {},
   "outputs": [
    {
     "data": {
      "text/html": [
       "<div>\n",
       "<style scoped>\n",
       "    .dataframe tbody tr th:only-of-type {\n",
       "        vertical-align: middle;\n",
       "    }\n",
       "\n",
       "    .dataframe tbody tr th {\n",
       "        vertical-align: top;\n",
       "    }\n",
       "\n",
       "    .dataframe thead th {\n",
       "        text-align: right;\n",
       "    }\n",
       "</style>\n",
       "<table border=\"1\" class=\"dataframe\">\n",
       "  <thead>\n",
       "    <tr style=\"text-align: right;\">\n",
       "      <th></th>\n",
       "      <th>name</th>\n",
       "      <th>platform</th>\n",
       "      <th>year_of_release</th>\n",
       "      <th>genre</th>\n",
       "      <th>na_sales</th>\n",
       "      <th>eu_sales</th>\n",
       "      <th>jp_sales</th>\n",
       "      <th>other_sales</th>\n",
       "      <th>critic_score</th>\n",
       "      <th>user_score</th>\n",
       "      <th>rating</th>\n",
       "    </tr>\n",
       "  </thead>\n",
       "  <tbody>\n",
       "    <tr>\n",
       "      <th>183</th>\n",
       "      <td>Madden NFL 2004</td>\n",
       "      <td>PS2</td>\n",
       "      <td>NaN</td>\n",
       "      <td>Sports</td>\n",
       "      <td>4.26</td>\n",
       "      <td>0.26</td>\n",
       "      <td>0.01</td>\n",
       "      <td>0.71</td>\n",
       "      <td>94.0</td>\n",
       "      <td>8.5</td>\n",
       "      <td>E</td>\n",
       "    </tr>\n",
       "    <tr>\n",
       "      <th>377</th>\n",
       "      <td>FIFA Soccer 2004</td>\n",
       "      <td>PS2</td>\n",
       "      <td>NaN</td>\n",
       "      <td>Sports</td>\n",
       "      <td>0.59</td>\n",
       "      <td>2.36</td>\n",
       "      <td>0.04</td>\n",
       "      <td>0.51</td>\n",
       "      <td>84.0</td>\n",
       "      <td>6.4</td>\n",
       "      <td>E</td>\n",
       "    </tr>\n",
       "    <tr>\n",
       "      <th>456</th>\n",
       "      <td>LEGO Batman: The Videogame</td>\n",
       "      <td>Wii</td>\n",
       "      <td>NaN</td>\n",
       "      <td>Action</td>\n",
       "      <td>1.80</td>\n",
       "      <td>0.97</td>\n",
       "      <td>0.00</td>\n",
       "      <td>0.29</td>\n",
       "      <td>74.0</td>\n",
       "      <td>7.9</td>\n",
       "      <td>E10+</td>\n",
       "    </tr>\n",
       "    <tr>\n",
       "      <th>475</th>\n",
       "      <td>wwe Smackdown vs. Raw 2006</td>\n",
       "      <td>PS2</td>\n",
       "      <td>NaN</td>\n",
       "      <td>Fighting</td>\n",
       "      <td>1.57</td>\n",
       "      <td>1.02</td>\n",
       "      <td>0.00</td>\n",
       "      <td>0.41</td>\n",
       "      <td>NaN</td>\n",
       "      <td>NaN</td>\n",
       "      <td>NaN</td>\n",
       "    </tr>\n",
       "    <tr>\n",
       "      <th>609</th>\n",
       "      <td>Space Invaders</td>\n",
       "      <td>2600</td>\n",
       "      <td>NaN</td>\n",
       "      <td>Shooter</td>\n",
       "      <td>2.36</td>\n",
       "      <td>0.14</td>\n",
       "      <td>0.00</td>\n",
       "      <td>0.03</td>\n",
       "      <td>NaN</td>\n",
       "      <td>NaN</td>\n",
       "      <td>NaN</td>\n",
       "    </tr>\n",
       "  </tbody>\n",
       "</table>\n",
       "</div>"
      ],
      "text/plain": [
       "                           name platform  year_of_release     genre  na_sales  \\\n",
       "183             Madden NFL 2004      PS2              NaN    Sports      4.26   \n",
       "377            FIFA Soccer 2004      PS2              NaN    Sports      0.59   \n",
       "456  LEGO Batman: The Videogame      Wii              NaN    Action      1.80   \n",
       "475  wwe Smackdown vs. Raw 2006      PS2              NaN  Fighting      1.57   \n",
       "609              Space Invaders     2600              NaN   Shooter      2.36   \n",
       "\n",
       "     eu_sales  jp_sales  other_sales  critic_score user_score rating  \n",
       "183      0.26      0.01         0.71          94.0        8.5      E  \n",
       "377      2.36      0.04         0.51          84.0        6.4      E  \n",
       "456      0.97      0.00         0.29          74.0        7.9   E10+  \n",
       "475      1.02      0.00         0.41           NaN        NaN    NaN  \n",
       "609      0.14      0.00         0.03           NaN        NaN    NaN  "
      ]
     },
     "execution_count": 9,
     "metadata": {},
     "output_type": "execute_result"
    }
   ],
   "source": [
    "games[games['year_of_release'].isnull()].head()"
   ]
  },
  {
   "cell_type": "markdown",
   "metadata": {},
   "source": [
    "Всего пропусков - 269 из 16175 строк, что составляет менее 2%: удалим"
   ]
  },
  {
   "cell_type": "code",
   "execution_count": 10,
   "metadata": {},
   "outputs": [],
   "source": [
    "games = games.dropna(subset = ['year_of_release'])\n",
    "#games[games['year_of_release'].isnull()] "
   ]
  },
  {
   "cell_type": "markdown",
   "metadata": {},
   "source": [
    "Посмотрим на пропуски в столбце rating."
   ]
  },
  {
   "cell_type": "code",
   "execution_count": 11,
   "metadata": {},
   "outputs": [
    {
     "data": {
      "text/html": [
       "<div>\n",
       "<style scoped>\n",
       "    .dataframe tbody tr th:only-of-type {\n",
       "        vertical-align: middle;\n",
       "    }\n",
       "\n",
       "    .dataframe tbody tr th {\n",
       "        vertical-align: top;\n",
       "    }\n",
       "\n",
       "    .dataframe thead th {\n",
       "        text-align: right;\n",
       "    }\n",
       "</style>\n",
       "<table border=\"1\" class=\"dataframe\">\n",
       "  <thead>\n",
       "    <tr style=\"text-align: right;\">\n",
       "      <th></th>\n",
       "      <th>name</th>\n",
       "      <th>platform</th>\n",
       "      <th>year_of_release</th>\n",
       "      <th>genre</th>\n",
       "      <th>na_sales</th>\n",
       "      <th>eu_sales</th>\n",
       "      <th>jp_sales</th>\n",
       "      <th>other_sales</th>\n",
       "      <th>critic_score</th>\n",
       "      <th>user_score</th>\n",
       "      <th>rating</th>\n",
       "    </tr>\n",
       "  </thead>\n",
       "  <tbody>\n",
       "    <tr>\n",
       "      <th>1</th>\n",
       "      <td>Super Mario Bros.</td>\n",
       "      <td>NES</td>\n",
       "      <td>1985.0</td>\n",
       "      <td>Platform</td>\n",
       "      <td>29.08</td>\n",
       "      <td>3.58</td>\n",
       "      <td>6.81</td>\n",
       "      <td>0.77</td>\n",
       "      <td>NaN</td>\n",
       "      <td>NaN</td>\n",
       "      <td>NaN</td>\n",
       "    </tr>\n",
       "    <tr>\n",
       "      <th>4</th>\n",
       "      <td>Pokemon Red/Pokemon Blue</td>\n",
       "      <td>GB</td>\n",
       "      <td>1996.0</td>\n",
       "      <td>Role-Playing</td>\n",
       "      <td>11.27</td>\n",
       "      <td>8.89</td>\n",
       "      <td>10.22</td>\n",
       "      <td>1.00</td>\n",
       "      <td>NaN</td>\n",
       "      <td>NaN</td>\n",
       "      <td>NaN</td>\n",
       "    </tr>\n",
       "    <tr>\n",
       "      <th>5</th>\n",
       "      <td>Tetris</td>\n",
       "      <td>GB</td>\n",
       "      <td>1989.0</td>\n",
       "      <td>Puzzle</td>\n",
       "      <td>23.20</td>\n",
       "      <td>2.26</td>\n",
       "      <td>4.22</td>\n",
       "      <td>0.58</td>\n",
       "      <td>NaN</td>\n",
       "      <td>NaN</td>\n",
       "      <td>NaN</td>\n",
       "    </tr>\n",
       "    <tr>\n",
       "      <th>9</th>\n",
       "      <td>Duck Hunt</td>\n",
       "      <td>NES</td>\n",
       "      <td>1984.0</td>\n",
       "      <td>Shooter</td>\n",
       "      <td>26.93</td>\n",
       "      <td>0.63</td>\n",
       "      <td>0.28</td>\n",
       "      <td>0.47</td>\n",
       "      <td>NaN</td>\n",
       "      <td>NaN</td>\n",
       "      <td>NaN</td>\n",
       "    </tr>\n",
       "    <tr>\n",
       "      <th>10</th>\n",
       "      <td>Nintendogs</td>\n",
       "      <td>DS</td>\n",
       "      <td>2005.0</td>\n",
       "      <td>Simulation</td>\n",
       "      <td>9.05</td>\n",
       "      <td>10.95</td>\n",
       "      <td>1.93</td>\n",
       "      <td>2.74</td>\n",
       "      <td>NaN</td>\n",
       "      <td>NaN</td>\n",
       "      <td>NaN</td>\n",
       "    </tr>\n",
       "    <tr>\n",
       "      <th>12</th>\n",
       "      <td>Pokemon Gold/Pokemon Silver</td>\n",
       "      <td>GB</td>\n",
       "      <td>1999.0</td>\n",
       "      <td>Role-Playing</td>\n",
       "      <td>9.00</td>\n",
       "      <td>6.18</td>\n",
       "      <td>7.20</td>\n",
       "      <td>0.71</td>\n",
       "      <td>NaN</td>\n",
       "      <td>NaN</td>\n",
       "      <td>NaN</td>\n",
       "    </tr>\n",
       "    <tr>\n",
       "      <th>18</th>\n",
       "      <td>Super Mario World</td>\n",
       "      <td>SNES</td>\n",
       "      <td>1990.0</td>\n",
       "      <td>Platform</td>\n",
       "      <td>12.78</td>\n",
       "      <td>3.75</td>\n",
       "      <td>3.54</td>\n",
       "      <td>0.55</td>\n",
       "      <td>NaN</td>\n",
       "      <td>NaN</td>\n",
       "      <td>NaN</td>\n",
       "    </tr>\n",
       "    <tr>\n",
       "      <th>20</th>\n",
       "      <td>Pokemon Diamond/Pokemon Pearl</td>\n",
       "      <td>DS</td>\n",
       "      <td>2006.0</td>\n",
       "      <td>Role-Playing</td>\n",
       "      <td>6.38</td>\n",
       "      <td>4.46</td>\n",
       "      <td>6.04</td>\n",
       "      <td>1.36</td>\n",
       "      <td>NaN</td>\n",
       "      <td>NaN</td>\n",
       "      <td>NaN</td>\n",
       "    </tr>\n",
       "    <tr>\n",
       "      <th>21</th>\n",
       "      <td>Super Mario Land</td>\n",
       "      <td>GB</td>\n",
       "      <td>1989.0</td>\n",
       "      <td>Platform</td>\n",
       "      <td>10.83</td>\n",
       "      <td>2.71</td>\n",
       "      <td>4.18</td>\n",
       "      <td>0.42</td>\n",
       "      <td>NaN</td>\n",
       "      <td>NaN</td>\n",
       "      <td>NaN</td>\n",
       "    </tr>\n",
       "    <tr>\n",
       "      <th>22</th>\n",
       "      <td>Super Mario Bros. 3</td>\n",
       "      <td>NES</td>\n",
       "      <td>1988.0</td>\n",
       "      <td>Platform</td>\n",
       "      <td>9.54</td>\n",
       "      <td>3.44</td>\n",
       "      <td>3.84</td>\n",
       "      <td>0.46</td>\n",
       "      <td>NaN</td>\n",
       "      <td>NaN</td>\n",
       "      <td>NaN</td>\n",
       "    </tr>\n",
       "  </tbody>\n",
       "</table>\n",
       "</div>"
      ],
      "text/plain": [
       "                             name platform  year_of_release         genre  \\\n",
       "1               Super Mario Bros.      NES           1985.0      Platform   \n",
       "4        Pokemon Red/Pokemon Blue       GB           1996.0  Role-Playing   \n",
       "5                          Tetris       GB           1989.0        Puzzle   \n",
       "9                       Duck Hunt      NES           1984.0       Shooter   \n",
       "10                     Nintendogs       DS           2005.0    Simulation   \n",
       "12    Pokemon Gold/Pokemon Silver       GB           1999.0  Role-Playing   \n",
       "18              Super Mario World     SNES           1990.0      Platform   \n",
       "20  Pokemon Diamond/Pokemon Pearl       DS           2006.0  Role-Playing   \n",
       "21               Super Mario Land       GB           1989.0      Platform   \n",
       "22            Super Mario Bros. 3      NES           1988.0      Platform   \n",
       "\n",
       "    na_sales  eu_sales  jp_sales  other_sales  critic_score user_score rating  \n",
       "1      29.08      3.58      6.81         0.77           NaN        NaN    NaN  \n",
       "4      11.27      8.89     10.22         1.00           NaN        NaN    NaN  \n",
       "5      23.20      2.26      4.22         0.58           NaN        NaN    NaN  \n",
       "9      26.93      0.63      0.28         0.47           NaN        NaN    NaN  \n",
       "10      9.05     10.95      1.93         2.74           NaN        NaN    NaN  \n",
       "12      9.00      6.18      7.20         0.71           NaN        NaN    NaN  \n",
       "18     12.78      3.75      3.54         0.55           NaN        NaN    NaN  \n",
       "20      6.38      4.46      6.04         1.36           NaN        NaN    NaN  \n",
       "21     10.83      2.71      4.18         0.42           NaN        NaN    NaN  \n",
       "22      9.54      3.44      3.84         0.46           NaN        NaN    NaN  "
      ]
     },
     "execution_count": 11,
     "metadata": {},
     "output_type": "execute_result"
    }
   ],
   "source": [
    "games[games['rating'].isnull()].head(10)"
   ]
  },
  {
   "cell_type": "markdown",
   "metadata": {},
   "source": [
    "В большинстве случаев, пропущены одновременно и рейтинг, оценка критиков и оценка пользователей. Вероятннее всего эти данные потерялись при выгрузке данных."
   ]
  },
  {
   "cell_type": "markdown",
   "metadata": {},
   "source": [
    "Процент строк с аббревиатурой 'tbd'."
   ]
  },
  {
   "cell_type": "code",
   "execution_count": 12,
   "metadata": {},
   "outputs": [
    {
     "data": {
      "text/plain": [
       "0.14449039163220628"
      ]
     },
     "execution_count": 12,
     "metadata": {},
     "output_type": "execute_result"
    }
   ],
   "source": [
    "len(games[games['user_score'] == 'tbd'])/len(games)"
   ]
  },
  {
   "cell_type": "markdown",
   "metadata": {},
   "source": [
    "Аббревиатура 'tbd' практически ничем не отличается от пропуска, при этом таких значений - 14,5%. Это что -то не очевидное, поэтому предлагаю считать как NaN."
   ]
  },
  {
   "cell_type": "code",
   "execution_count": 13,
   "metadata": {},
   "outputs": [
    {
     "data": {
      "text/plain": [
       "0      8\n",
       "1    NaN\n",
       "2    8.3\n",
       "3      8\n",
       "4    NaN\n",
       "Name: user_score, dtype: object"
      ]
     },
     "execution_count": 13,
     "metadata": {},
     "output_type": "execute_result"
    }
   ],
   "source": [
    "games.loc[games['user_score'] == 'tbd','user_score'] = np.nan\n",
    "games['user_score'].head()"
   ]
  },
  {
   "cell_type": "markdown",
   "metadata": {},
   "source": [
    "<div class=\"alert alert-success\">\n",
    "<b>Комментарий ревьюера v.1</b> \n",
    "    \n",
    "👍 Верно, `tbd` означает `To Be Determined`, т.к. игра ещё не выпущена. Тут можно заменить заглушкой, а можно привести в nan\n",
    "</div>"
   ]
  },
  {
   "cell_type": "markdown",
   "metadata": {},
   "source": [
    "- Зменим пропуски в рейтинге на Unknown"
   ]
  },
  {
   "cell_type": "code",
   "execution_count": 14,
   "metadata": {},
   "outputs": [],
   "source": [
    "games['rating'] = games['rating'].fillna('Unknown')"
   ]
  },
  {
   "cell_type": "markdown",
   "metadata": {},
   "source": [
    "Посмотрим на рейтинги"
   ]
  },
  {
   "cell_type": "code",
   "execution_count": 15,
   "metadata": {},
   "outputs": [
    {
     "data": {
      "text/plain": [
       "Unknown    6676\n",
       "E          3921\n",
       "T          2905\n",
       "M          1536\n",
       "E10+       1393\n",
       "EC            8\n",
       "K-A           3\n",
       "RP            1\n",
       "AO            1\n",
       "Name: rating, dtype: int64"
      ]
     },
     "execution_count": 15,
     "metadata": {},
     "output_type": "execute_result"
    }
   ],
   "source": [
    "games['rating'].value_counts().head(10)"
   ]
  },
  {
   "cell_type": "markdown",
   "metadata": {},
   "source": [
    "Заменим в столбцах оценок NaN на 0."
   ]
  },
  {
   "cell_type": "code",
   "execution_count": 16,
   "metadata": {},
   "outputs": [
    {
     "data": {
      "text/html": [
       "<div>\n",
       "<style scoped>\n",
       "    .dataframe tbody tr th:only-of-type {\n",
       "        vertical-align: middle;\n",
       "    }\n",
       "\n",
       "    .dataframe tbody tr th {\n",
       "        vertical-align: top;\n",
       "    }\n",
       "\n",
       "    .dataframe thead th {\n",
       "        text-align: right;\n",
       "    }\n",
       "</style>\n",
       "<table border=\"1\" class=\"dataframe\">\n",
       "  <thead>\n",
       "    <tr style=\"text-align: right;\">\n",
       "      <th></th>\n",
       "      <th>critic_score</th>\n",
       "      <th>user_score</th>\n",
       "    </tr>\n",
       "  </thead>\n",
       "  <tbody>\n",
       "    <tr>\n",
       "      <th>0</th>\n",
       "      <td>76.0</td>\n",
       "      <td>8</td>\n",
       "    </tr>\n",
       "    <tr>\n",
       "      <th>1</th>\n",
       "      <td>0.0</td>\n",
       "      <td>0</td>\n",
       "    </tr>\n",
       "    <tr>\n",
       "      <th>2</th>\n",
       "      <td>82.0</td>\n",
       "      <td>8.3</td>\n",
       "    </tr>\n",
       "    <tr>\n",
       "      <th>3</th>\n",
       "      <td>80.0</td>\n",
       "      <td>8</td>\n",
       "    </tr>\n",
       "    <tr>\n",
       "      <th>4</th>\n",
       "      <td>0.0</td>\n",
       "      <td>0</td>\n",
       "    </tr>\n",
       "    <tr>\n",
       "      <th>...</th>\n",
       "      <td>...</td>\n",
       "      <td>...</td>\n",
       "    </tr>\n",
       "    <tr>\n",
       "      <th>16710</th>\n",
       "      <td>0.0</td>\n",
       "      <td>0</td>\n",
       "    </tr>\n",
       "    <tr>\n",
       "      <th>16711</th>\n",
       "      <td>0.0</td>\n",
       "      <td>0</td>\n",
       "    </tr>\n",
       "    <tr>\n",
       "      <th>16712</th>\n",
       "      <td>0.0</td>\n",
       "      <td>0</td>\n",
       "    </tr>\n",
       "    <tr>\n",
       "      <th>16713</th>\n",
       "      <td>0.0</td>\n",
       "      <td>0</td>\n",
       "    </tr>\n",
       "    <tr>\n",
       "      <th>16714</th>\n",
       "      <td>0.0</td>\n",
       "      <td>0</td>\n",
       "    </tr>\n",
       "  </tbody>\n",
       "</table>\n",
       "<p>16444 rows × 2 columns</p>\n",
       "</div>"
      ],
      "text/plain": [
       "       critic_score user_score\n",
       "0              76.0          8\n",
       "1               0.0          0\n",
       "2              82.0        8.3\n",
       "3              80.0          8\n",
       "4               0.0          0\n",
       "...             ...        ...\n",
       "16710           0.0          0\n",
       "16711           0.0          0\n",
       "16712           0.0          0\n",
       "16713           0.0          0\n",
       "16714           0.0          0\n",
       "\n",
       "[16444 rows x 2 columns]"
      ]
     },
     "execution_count": 16,
     "metadata": {},
     "output_type": "execute_result"
    }
   ],
   "source": [
    "games[['critic_score','user_score']].fillna(0)"
   ]
  },
  {
   "cell_type": "code",
   "execution_count": 17,
   "metadata": {},
   "outputs": [],
   "source": [
    "games['year_of_release'] = games['year_of_release'].astype('Int64')\n",
    "games['user_score'] = games['user_score'].astype('float64')"
   ]
  },
  {
   "cell_type": "markdown",
   "metadata": {},
   "source": [
    "Проверим типы данных."
   ]
  },
  {
   "cell_type": "code",
   "execution_count": 18,
   "metadata": {},
   "outputs": [
    {
     "name": "stdout",
     "output_type": "stream",
     "text": [
      "<class 'pandas.core.frame.DataFrame'>\n",
      "Int64Index: 16444 entries, 0 to 16714\n",
      "Data columns (total 11 columns):\n",
      " #   Column           Non-Null Count  Dtype  \n",
      "---  ------           --------------  -----  \n",
      " 0   name             16444 non-null  object \n",
      " 1   platform         16444 non-null  object \n",
      " 2   year_of_release  16444 non-null  Int64  \n",
      " 3   genre            16444 non-null  object \n",
      " 4   na_sales         16444 non-null  float64\n",
      " 5   eu_sales         16444 non-null  float64\n",
      " 6   jp_sales         16444 non-null  float64\n",
      " 7   other_sales      16444 non-null  float64\n",
      " 8   critic_score     7983 non-null   float64\n",
      " 9   user_score       7463 non-null   float64\n",
      " 10  rating           16444 non-null  object \n",
      "dtypes: Int64(1), float64(6), object(4)\n",
      "memory usage: 1.5+ MB\n"
     ]
    }
   ],
   "source": [
    "games.info()"
   ]
  },
  {
   "cell_type": "markdown",
   "metadata": {},
   "source": [
    "Суммарные продажи во всех регионах"
   ]
  },
  {
   "cell_type": "code",
   "execution_count": 19,
   "metadata": {},
   "outputs": [
    {
     "data": {
      "text/plain": [
       "0    82.54\n",
       "1    40.24\n",
       "2    35.52\n",
       "3    32.77\n",
       "4    31.38\n",
       "Name: total_sales, dtype: float64"
      ]
     },
     "execution_count": 19,
     "metadata": {},
     "output_type": "execute_result"
    }
   ],
   "source": [
    "games['total_sales'] = games.loc[:,['na_sales', 'eu_sales', 'jp_sales', 'other_sales']].sum(axis=1)\n",
    "games['total_sales'].head()"
   ]
  },
  {
   "cell_type": "markdown",
   "metadata": {},
   "source": [
    "<div class=\"alert alert-danger\">\n",
    "<b>Комментарий ревьюера v.1</b> \n",
    "    \n",
    "✍ \n",
    "<s>Замечания:\n",
    "    \n",
    "* Отсутствуют возможные причины возникновения пропусков\n",
    "    \n",
    "* Нет промежуточного вывода.\n",
    "</div>"
   ]
  },
  {
   "cell_type": "markdown",
   "metadata": {},
   "source": [
    "- Возможные причины возникновения пропусков в годах и жанре- это ошибки при формровании датафрэйма.\n",
    "Пропуски в столбцах рейтингов критиков и пользователей присутствуют вероятно, по тому что не каждая игра удостаивалась внимания критиков или доходила до широких международных рынков."
   ]
  },
  {
   "cell_type": "markdown",
   "metadata": {},
   "source": [
    "- Самое большое количество продаж- в Северной Америке. 2 место у Европы. 3 у остальных рынков продаж."
   ]
  },
  {
   "cell_type": "markdown",
   "metadata": {},
   "source": [
    "Количество игр, которое выпускалось в разные годы."
   ]
  },
  {
   "cell_type": "markdown",
   "metadata": {},
   "source": [
    "Построим график зависимости количества игр от года выпуска."
   ]
  },
  {
   "cell_type": "code",
   "execution_count": 20,
   "metadata": {},
   "outputs": [
    {
     "data": {
      "image/png": "[encoded data removed]",
      "text/plain": [
       "<Figure size 936x576 with 1 Axes>"
      ]
     },
     "metadata": {
      "needs_background": "light"
     },
     "output_type": "display_data"
    }
   ],
   "source": [
    "platform_sales = games.pivot_table(index='year_of_release', values='total_sales', aggfunc='count').plot(grid=True, figsize=(13, 8))"
   ]
  },
  {
   "cell_type": "markdown",
   "metadata": {},
   "source": [
    "На графике можно наблюдать, что начиная с 1990 года начался рост выпусков игр, резкий скачок произошел в 2000-2008гг, где наблюдался пик количества игр, затем наступил такой же резкий спад вплоть до 2016г. Таким образом, актуальными данными можно считать данные за период 2000 - 2016, т.к. он отражает как взлет, так и спад выпусков игр."
   ]
  },
  {
   "cell_type": "markdown",
   "metadata": {},
   "source": [
    "<div class=\"alert alert-success\">\n",
    "<b>Комментарий ревьюера v.1</b> \n",
    "    \n",
    "👍 \n",
    "Согласен.\n",
    "</div>"
   ]
  },
  {
   "cell_type": "markdown",
   "metadata": {},
   "source": [
    "Как менялись продажи по платформам?"
   ]
  },
  {
   "cell_type": "markdown",
   "metadata": {},
   "source": [
    "- График зависимости продаж по платформам."
   ]
  },
  {
   "cell_type": "code",
   "execution_count": 21,
   "metadata": {},
   "outputs": [
    {
     "data": {
      "image/png": "[encoded data removed]",
      "text/plain": [
       "<Figure size 432x288 with 1 Axes>"
      ]
     },
     "metadata": {
      "needs_background": "light"
     },
     "output_type": "display_data"
    }
   ],
   "source": [
    "platform_sales = games.pivot_table(index='platform', values='total_sales', aggfunc='sum').sort_values('total_sales', ascending=False).plot(kind='bar')"
   ]
  },
  {
   "cell_type": "markdown",
   "metadata": {},
   "source": [
    "- Продажи по платформe PS2, распределение по годам."
   ]
  },
  {
   "cell_type": "code",
   "execution_count": 22,
   "metadata": {},
   "outputs": [
    {
     "data": {
      "text/plain": [
       "<AxesSubplot:xlabel='year_of_release'>"
      ]
     },
     "execution_count": 22,
     "metadata": {},
     "output_type": "execute_result"
    },
    {
     "data": {
      "image/png": "[encoded data removed]",
      "text/plain": [
       "<Figure size 432x288 with 1 Axes>"
      ]
     },
     "metadata": {
      "needs_background": "light"
     },
     "output_type": "display_data"
    }
   ],
   "source": [
    "games.query('platform == \"PS2\"').pivot_table(index='year_of_release', values='total_sales', aggfunc='sum').plot(kind='bar')"
   ]
  },
  {
   "cell_type": "markdown",
   "metadata": {},
   "source": [
    "Пик продаж наблюдается в период 2001-2005гг., затем следует спад в предверии выхода новой консоли. В 2006 году была предтавлена PS3."
   ]
  },
  {
   "cell_type": "markdown",
   "metadata": {},
   "source": [
    "- Продажи по платформe X360, распределение по годам."
   ]
  },
  {
   "cell_type": "code",
   "execution_count": 23,
   "metadata": {},
   "outputs": [
    {
     "data": {
      "text/plain": [
       "<AxesSubplot:xlabel='year_of_release'>"
      ]
     },
     "execution_count": 23,
     "metadata": {},
     "output_type": "execute_result"
    },
    {
     "data": {
      "image/png": "[encoded data removed]",
      "text/plain": [
       "<Figure size 432x288 with 1 Axes>"
      ]
     },
     "metadata": {
      "needs_background": "light"
     },
     "output_type": "display_data"
    }
   ],
   "source": [
    "games.query('platform == \"X360\"').pivot_table(index='year_of_release', values='total_sales', aggfunc='sum').plot(kind='bar')"
   ]
  },
  {
   "cell_type": "markdown",
   "metadata": {},
   "source": [
    "Продажи игр для X360 стартовали с 2005г, пик продаж наблюдается на 2010, затем следует спад. Второе поколение X360 быо представлено в 2013 году."
   ]
  },
  {
   "cell_type": "markdown",
   "metadata": {},
   "source": [
    "- Продажи по платформe PS3, распределение по годам."
   ]
  },
  {
   "cell_type": "code",
   "execution_count": 24,
   "metadata": {},
   "outputs": [
    {
     "data": {
      "text/plain": [
       "<AxesSubplot:xlabel='year_of_release'>"
      ]
     },
     "execution_count": 24,
     "metadata": {},
     "output_type": "execute_result"
    },
    {
     "data": {
      "image/png": "[encoded data removed]",
      "text/plain": [
       "<Figure size 432x288 with 1 Axes>"
      ]
     },
     "metadata": {
      "needs_background": "light"
     },
     "output_type": "display_data"
    }
   ],
   "source": [
    "games.query('platform == \"PS3\"').pivot_table(index='year_of_release', values='total_sales', aggfunc='sum').plot(kind='bar')"
   ]
  },
  {
   "cell_type": "markdown",
   "metadata": {},
   "source": [
    "Продажи PS3  стартовали с 2006г, пик продаж наблюдался в период 2008-2011гг., затем следует спад. В 2015-2016гг. продажи данной платформы имеют минимальные значения."
   ]
  },
  {
   "cell_type": "markdown",
   "metadata": {},
   "source": [
    "- Продажи по платформe Wii, распределение по годам."
   ]
  },
  {
   "cell_type": "code",
   "execution_count": 25,
   "metadata": {},
   "outputs": [
    {
     "data": {
      "text/plain": [
       "<AxesSubplot:xlabel='year_of_release'>"
      ]
     },
     "execution_count": 25,
     "metadata": {},
     "output_type": "execute_result"
    },
    {
     "data": {
      "image/png": "[encoded data removed]",
      "text/plain": [
       "<Figure size 432x288 with 1 Axes>"
      ]
     },
     "metadata": {
      "needs_background": "light"
     },
     "output_type": "display_data"
    }
   ],
   "source": [
    "games.query('platform == \"Wii\"').pivot_table(index='year_of_release', values='total_sales', aggfunc='sum').plot(kind='bar')"
   ]
  },
  {
   "cell_type": "markdown",
   "metadata": {},
   "source": [
    "Продажи игр для Wii стремительно начались в 2006г., очень быстро достигли своего максимума в 2009г., затем следует спад, в 2014-2015г. продажи практически прекратились, в настоящее время платформа не актуальна."
   ]
  },
  {
   "cell_type": "markdown",
   "metadata": {},
   "source": [
    "- Продажи по платформe DS, распределение по годам."
   ]
  },
  {
   "cell_type": "code",
   "execution_count": 26,
   "metadata": {},
   "outputs": [
    {
     "data": {
      "text/plain": [
       "<AxesSubplot:xlabel='year_of_release'>"
      ]
     },
     "execution_count": 26,
     "metadata": {},
     "output_type": "execute_result"
    },
    {
     "data": {
      "image/png": "[encoded data removed]",
      "text/plain": [
       "<Figure size 432x288 with 1 Axes>"
      ]
     },
     "metadata": {
      "needs_background": "light"
     },
     "output_type": "display_data"
    }
   ],
   "source": [
    "games.query('platform == \"DS\"').pivot_table(index='year_of_release', values='total_sales', aggfunc='sum').plot(kind='bar')"
   ]
  },
  {
   "cell_type": "markdown",
   "metadata": {},
   "source": [
    "Продажи игр для DS начались еще в 1985г. но по настоящему пользоваться популярностью платформа стала в 2005-2010гг, затем следует спад, в 2013 продажи практически прекратились, в настоящее время платформа не актуальна."
   ]
  },
  {
   "cell_type": "markdown",
   "metadata": {},
   "source": [
    "- Продажи по платформe PS, распределение по годам."
   ]
  },
  {
   "cell_type": "code",
   "execution_count": 27,
   "metadata": {
    "scrolled": true
   },
   "outputs": [
    {
     "data": {
      "text/plain": [
       "<AxesSubplot:xlabel='year_of_release'>"
      ]
     },
     "execution_count": 27,
     "metadata": {},
     "output_type": "execute_result"
    },
    {
     "data": {
      "image/png": "[encoded data removed]",
      "text/plain": [
       "<Figure size 432x288 with 1 Axes>"
      ]
     },
     "metadata": {
      "needs_background": "light"
     },
     "output_type": "display_data"
    }
   ],
   "source": [
    "games.query('platform == \"PS\"').pivot_table(index='year_of_release', values='total_sales', aggfunc='sum').plot(kind='bar')"
   ]
  },
  {
   "cell_type": "markdown",
   "metadata": {},
   "source": [
    "Продажи начались в 1994г., пик продаж прихдится на 1998г., в 2003 продажи практически прекратились, в настоящее время платформа не актуальна."
   ]
  },
  {
   "cell_type": "markdown",
   "metadata": {},
   "source": [
    "Возьмите данные за соответствующий актуальный период.\n"
   ]
  },
  {
   "cell_type": "markdown",
   "metadata": {},
   "source": [
    "- В целях формирования прогноза на 2017 года имеет смысл проводить анализ по последние 2-3 года и сохранением данных за 2016г, использование более \"старых\" данных не имеет практического смысла."
   ]
  },
  {
   "cell_type": "markdown",
   "metadata": {},
   "source": [
    "-Отрезаем данные до 2014г. и сохраним данные за 2014, 2015, 2016гг. в таблице games_fresh"
   ]
  },
  {
   "cell_type": "code",
   "execution_count": 28,
   "metadata": {},
   "outputs": [],
   "source": [
    "games_fresh = games.query('year_of_release >= 2014').copy()"
   ]
  },
  {
   "cell_type": "markdown",
   "metadata": {},
   "source": [
    "<div class=\"alert alert-success\">\n",
    "<b>Комментарий ревьюера v.1</b> \n",
    "    \n",
    "👍 \n",
    "Верно. Для целей прогнозирования продаж на следующий год даже в традиционных бизнесах редко берут данные более чем за 2-3 года. А в такой динамично меняющейся индустрии, как компьютерные игры и вовсе не стоит брать слишком большой временной интервал - иначе обязательно захватим уже отжившие тренды. Но и очень короткий период не подходит для прогнозирования, так что надо выбирать золотую середину (но не менее 2-х полных лет и не более 5 лет).\n",
    "</div>"
   ]
  },
  {
   "cell_type": "markdown",
   "metadata": {},
   "source": [
    "Какие платформы лидируют по продажам, растут или падают?"
   ]
  },
  {
   "cell_type": "markdown",
   "metadata": {},
   "source": [
    "- построим график зависимости продаж от типа платформ за актуальный период 2014-2016"
   ]
  },
  {
   "cell_type": "code",
   "execution_count": 29,
   "metadata": {},
   "outputs": [
    {
     "data": {
      "image/png": "[encoded data removed]",
      "text/plain": [
       "<Figure size 432x288 with 1 Axes>"
      ]
     },
     "metadata": {
      "needs_background": "light"
     },
     "output_type": "display_data"
    }
   ],
   "source": [
    "platform_sales_fresh = games_fresh.pivot_table(index='platform', values='total_sales', aggfunc='sum').sort_values('total_sales', ascending=False).plot(kind='bar')"
   ]
  },
  {
   "cell_type": "markdown",
   "metadata": {},
   "source": [
    "Из данного графика можно сделать вывод, что за актуальный период лидируют по продажам платформы PS4, XOne, 3DS. Далее построим распределение платформ по годам."
   ]
  },
  {
   "cell_type": "markdown",
   "metadata": {},
   "source": [
    "- Продажи по платформe PS4, распределение по годам."
   ]
  },
  {
   "cell_type": "code",
   "execution_count": 30,
   "metadata": {},
   "outputs": [
    {
     "data": {
      "text/plain": [
       "<AxesSubplot:xlabel='year_of_release'>"
      ]
     },
     "execution_count": 30,
     "metadata": {},
     "output_type": "execute_result"
    },
    {
     "data": {
      "image/png": "[encoded data removed]",
      "text/plain": [
       "<Figure size 432x288 with 1 Axes>"
      ]
     },
     "metadata": {
      "needs_background": "light"
     },
     "output_type": "display_data"
    }
   ],
   "source": [
    "games_fresh.query('platform == \"PS4\"').pivot_table(index='year_of_release', values='total_sales', aggfunc='sum').plot(kind='bar')"
   ]
  },
  {
   "cell_type": "markdown",
   "metadata": {},
   "source": [
    "Учитывая что данные за 2016г. неполные, можно сделать вывод, что по данной платформе продажи находятся на одном уровне, ее стабильно много покупают последние три года."
   ]
  },
  {
   "cell_type": "markdown",
   "metadata": {},
   "source": [
    "- Продажи по платформe XOne, распределение по годам."
   ]
  },
  {
   "cell_type": "code",
   "execution_count": 31,
   "metadata": {},
   "outputs": [
    {
     "data": {
      "text/plain": [
       "<AxesSubplot:xlabel='year_of_release'>"
      ]
     },
     "execution_count": 31,
     "metadata": {},
     "output_type": "execute_result"
    },
    {
     "data": {
      "image/png": "[encoded data removed]",
      "text/plain": [
       "<Figure size 432x288 with 1 Axes>"
      ]
     },
     "metadata": {
      "needs_background": "light"
     },
     "output_type": "display_data"
    }
   ],
   "source": [
    "games_fresh.query('platform == \"XOne\"').pivot_table(index='year_of_release', values='total_sales', aggfunc='sum').plot(kind='bar')"
   ]
  },
  {
   "cell_type": "markdown",
   "metadata": {},
   "source": [
    "Также учитывая неполноту данных за 2016г., продажи находятся на одном уровне, ее стабильно покупают последние три года, но количество продаж в 2 раза меньше платформы PS4."
   ]
  },
  {
   "cell_type": "markdown",
   "metadata": {},
   "source": [
    "- Продажи по платформe 3DS, распределение по годам."
   ]
  },
  {
   "cell_type": "code",
   "execution_count": 32,
   "metadata": {},
   "outputs": [
    {
     "data": {
      "text/plain": [
       "<AxesSubplot:xlabel='year_of_release'>"
      ]
     },
     "execution_count": 32,
     "metadata": {},
     "output_type": "execute_result"
    },
    {
     "data": {
      "image/png": "[encoded data removed]",
      "text/plain": [
       "<Figure size 432x288 with 1 Axes>"
      ]
     },
     "metadata": {
      "needs_background": "light"
     },
     "output_type": "display_data"
    }
   ],
   "source": [
    "games_fresh.query('platform == \"3DS\"').pivot_table(index='year_of_release', values='total_sales', aggfunc='sum').plot(kind='bar')"
   ]
  },
  {
   "cell_type": "markdown",
   "metadata": {},
   "source": [
    "По данной платформе наблюдается незначительный спад продаж, около 30 процентов ежегодно."
   ]
  },
  {
   "cell_type": "markdown",
   "metadata": {},
   "source": [
    "- Продажи по платформe PS3, распределение по годам."
   ]
  },
  {
   "cell_type": "code",
   "execution_count": 33,
   "metadata": {},
   "outputs": [
    {
     "data": {
      "text/plain": [
       "<AxesSubplot:xlabel='year_of_release'>"
      ]
     },
     "execution_count": 33,
     "metadata": {},
     "output_type": "execute_result"
    },
    {
     "data": {
      "image/png": "[encoded data removed]",
      "text/plain": [
       "<Figure size 432x288 with 1 Axes>"
      ]
     },
     "metadata": {
      "needs_background": "light"
     },
     "output_type": "display_data"
    }
   ],
   "source": [
    "games_fresh.query('platform == \"PS3\"').pivot_table(index='year_of_release', values='total_sales', aggfunc='sum').plot(kind='bar')"
   ]
  },
  {
   "cell_type": "markdown",
   "metadata": {},
   "source": [
    "Из графика видно, что в 2015г. продажи резко упали относительно 2014г., а в 2016г. продажи практически прекратились. На смену данной платформе PS3 пришла более современная PS4."
   ]
  },
  {
   "cell_type": "markdown",
   "metadata": {},
   "source": [
    "- Продажи по платформe X360, распределение по годам."
   ]
  },
  {
   "cell_type": "code",
   "execution_count": 34,
   "metadata": {},
   "outputs": [
    {
     "data": {
      "text/plain": [
       "<AxesSubplot:xlabel='year_of_release'>"
      ]
     },
     "execution_count": 34,
     "metadata": {},
     "output_type": "execute_result"
    },
    {
     "data": {
      "image/png": "[encoded data removed]",
      "text/plain": [
       "<Figure size 432x288 with 1 Axes>"
      ]
     },
     "metadata": {
      "needs_background": "light"
     },
     "output_type": "display_data"
    }
   ],
   "source": [
    "games_fresh.query('platform == \"X360\"').pivot_table(index='year_of_release', values='total_sales', aggfunc='sum').plot(kind='bar')"
   ]
  },
  {
   "cell_type": "markdown",
   "metadata": {},
   "source": [
    "Аналогичная ситуация наблюдается у данной платфоры, в 2016 ее уже никто не покупает."
   ]
  },
  {
   "cell_type": "markdown",
   "metadata": {},
   "source": [
    "- Продажи по платформe WiiU, распределение по годам."
   ]
  },
  {
   "cell_type": "code",
   "execution_count": 35,
   "metadata": {},
   "outputs": [
    {
     "data": {
      "text/plain": [
       "<AxesSubplot:xlabel='year_of_release'>"
      ]
     },
     "execution_count": 35,
     "metadata": {},
     "output_type": "execute_result"
    },
    {
     "data": {
      "image/png": "[encoded data removed]",
      "text/plain": [
       "<Figure size 432x288 with 1 Axes>"
      ]
     },
     "metadata": {
      "needs_background": "light"
     },
     "output_type": "display_data"
    }
   ],
   "source": [
    "games_fresh.query('platform == \"WiiU\"').pivot_table(index='year_of_release', values='total_sales', aggfunc='sum').plot(kind='bar')"
   ]
  },
  {
   "cell_type": "markdown",
   "metadata": {},
   "source": [
    "- Продажи по платформe PC, распределение по годам."
   ]
  },
  {
   "cell_type": "code",
   "execution_count": 36,
   "metadata": {},
   "outputs": [
    {
     "data": {
      "text/plain": [
       "<AxesSubplot:xlabel='year_of_release'>"
      ]
     },
     "execution_count": 36,
     "metadata": {},
     "output_type": "execute_result"
    },
    {
     "data": {
      "image/png": "[encoded data removed]",
      "text/plain": [
       "<Figure size 432x288 with 1 Axes>"
      ]
     },
     "metadata": {
      "needs_background": "light"
     },
     "output_type": "display_data"
    }
   ],
   "source": [
    "games_fresh.query('platform == \"PC\"').pivot_table(index='year_of_release', values='total_sales', aggfunc='sum').plot(kind='bar')"
   ]
  },
  {
   "cell_type": "markdown",
   "metadata": {},
   "source": [
    "- Продажи по платформe PSV, распределение по годам."
   ]
  },
  {
   "cell_type": "code",
   "execution_count": 37,
   "metadata": {},
   "outputs": [
    {
     "data": {
      "text/plain": [
       "<AxesSubplot:xlabel='year_of_release'>"
      ]
     },
     "execution_count": 37,
     "metadata": {},
     "output_type": "execute_result"
    },
    {
     "data": {
      "image/png": "[encoded data removed]",
      "text/plain": [
       "<Figure size 432x288 with 1 Axes>"
      ]
     },
     "metadata": {
      "needs_background": "light"
     },
     "output_type": "display_data"
    }
   ],
   "source": [
    "games_fresh.query('platform == \"PSV\"').pivot_table(index='year_of_release', values='total_sales', aggfunc='sum').plot(kind='bar')"
   ]
  },
  {
   "cell_type": "markdown",
   "metadata": {},
   "source": [
    "- Продажи по платформe Wii, распределение по годам."
   ]
  },
  {
   "cell_type": "code",
   "execution_count": 38,
   "metadata": {},
   "outputs": [
    {
     "data": {
      "text/plain": [
       "<AxesSubplot:xlabel='year_of_release'>"
      ]
     },
     "execution_count": 38,
     "metadata": {},
     "output_type": "execute_result"
    },
    {
     "data": {
      "image/png": "[encoded data removed]",
      "text/plain": [
       "<Figure size 432x288 with 1 Axes>"
      ]
     },
     "metadata": {
      "needs_background": "light"
     },
     "output_type": "display_data"
    }
   ],
   "source": [
    "games_fresh.query('platform == \"Wii\"').pivot_table(index='year_of_release', values='total_sales', aggfunc='sum').plot(kind='bar')"
   ]
  },
  {
   "cell_type": "markdown",
   "metadata": {},
   "source": [
    "У платформ WiiU, PC, PSV, Wii изначально в 2014г. были относительно небольшие продажи, которые постепенно снижаются в 2015 и продолжают снижаться 2016г."
   ]
  },
  {
   "cell_type": "markdown",
   "metadata": {},
   "source": [
    "- Продажи по платформe PSP, распределение по годам."
   ]
  },
  {
   "cell_type": "code",
   "execution_count": 39,
   "metadata": {},
   "outputs": [
    {
     "data": {
      "text/plain": [
       "<AxesSubplot:xlabel='year_of_release'>"
      ]
     },
     "execution_count": 39,
     "metadata": {},
     "output_type": "execute_result"
    },
    {
     "data": {
      "image/png": "[encoded data removed]",
      "text/plain": [
       "<Figure size 432x288 with 1 Axes>"
      ]
     },
     "metadata": {
      "needs_background": "light"
     },
     "output_type": "display_data"
    }
   ],
   "source": [
    "games_fresh.query('platform == \"PSP\"').pivot_table(index='year_of_release', values='total_sales', aggfunc='sum').plot(kind='bar')"
   ]
  },
  {
   "cell_type": "markdown",
   "metadata": {},
   "source": [
    "По данной платформе продажи в 2016г. прекратились, в настоящее время платформа не актуальна."
   ]
  },
  {
   "cell_type": "markdown",
   "metadata": {},
   "source": [
    "Какие платформы лидируют по продажам?"
   ]
  },
  {
   "cell_type": "markdown",
   "metadata": {},
   "source": [
    "- По результатам анализа количества продаж платформ за актуальный период лидируют по продажам платформы PS4, XOne, 3DS. Но и их продажи падают, вероятно это связано с ростом мобильной разработки. "
   ]
  },
  {
   "cell_type": "markdown",
   "metadata": {},
   "source": [
    "График «ящик с усами» по глобальным продажам игр в разбивке по платформам."
   ]
  },
  {
   "cell_type": "markdown",
   "metadata": {},
   "source": [
    "- Построим график по глобальным продажам игр в разбивке по платформам"
   ]
  },
  {
   "cell_type": "code",
   "execution_count": 62,
   "metadata": {},
   "outputs": [
    {
     "data": {
      "image/png": "[encoded data removed]",
      "text/plain": [
       "<Figure size 720x576 with 1 Axes>"
      ]
     },
     "metadata": {
      "needs_background": "light"
     },
     "output_type": "display_data"
    }
   ],
   "source": [
    "games_fresh.boxplot(by='platform', column='total_sales', figsize=(10,8))\n",
    "plt.show()"
   ]
  },
  {
   "cell_type": "code",
   "execution_count": 63,
   "metadata": {},
   "outputs": [
    {
     "data": {
      "text/plain": [
       "count    1689.000000\n",
       "mean        0.431883\n",
       "std         1.056109\n",
       "min         0.010000\n",
       "25%         0.030000\n",
       "50%         0.100000\n",
       "75%         0.350000\n",
       "max        14.630000\n",
       "Name: total_sales, dtype: float64"
      ]
     },
     "execution_count": 63,
     "metadata": {},
     "output_type": "execute_result"
    },
    {
     "data": {
      "image/png": "[encoded data removed]",
      "text/plain": [
       "<Figure size 720x576 with 1 Axes>"
      ]
     },
     "metadata": {
      "needs_background": "light"
     },
     "output_type": "display_data"
    }
   ],
   "source": [
    "games_fresh.boxplot(by='platform', column='total_sales', figsize=(10,8))\n",
    "plt.ylim(0,2)\n",
    "games_fresh['total_sales'].describe()"
   ]
  },
  {
   "cell_type": "markdown",
   "metadata": {},
   "source": [
    "- Разница в основном незначительна. С 1 по 2 квартиль разные платформы демонстрируют похожие продажи, однако минимальные значения осаются за PSP. Медианные и средние продажи будут сильно различаться. На боксплотах наверху можно наблюдать серьезный выброс у PS4."
   ]
  },
  {
   "cell_type": "markdown",
   "metadata": {},
   "source": [
    "<div class=\"alert alert-danger\">\n",
    "<b>Комментарий ревьюера v.1</b> \n",
    "    \n",
    "✍ \n",
    "К сожалению, на этом графике видны только выбросы, и совсем не видны медиана и 75% квантиль. Для более обоснованных выводов нужно сделать дополнительный график, где будет отображена только нижняя часть boxplot-ов. Этого можно добиться, например, задав параметр ylim.\n",
    "</div>"
   ]
  },
  {
   "cell_type": "markdown",
   "metadata": {},
   "source": [
    "<div class=\"alert alert-danger\">\n",
    "<b>Комментарий ревьюера v.2</b> \n",
    "    \n",
    "✍ \n",
    "К сожалению здесь ничего не изменилось.\n",
    "</div>"
   ]
  },
  {
   "cell_type": "markdown",
   "metadata": {},
   "source": [
    "<div class=\"alert alert-success\">\n",
    "<b>Комментарий ревьюера v.3</b> \n",
    "    \n",
    "👍 \n",
    "\n",
    "</div>"
   ]
  },
  {
   "cell_type": "markdown",
   "metadata": {},
   "source": [
    "Построим диаграмму рассеяния для платформы PS4."
   ]
  },
  {
   "cell_type": "code",
   "execution_count": 42,
   "metadata": {},
   "outputs": [
    {
     "data": {
      "text/plain": [
       "<AxesSubplot:xlabel='user_score', ylabel='total_sales'>"
      ]
     },
     "execution_count": 42,
     "metadata": {},
     "output_type": "execute_result"
    },
    {
     "data": {
      "image/png": "[encoded data removed]",
      "text/plain": [
       "<Figure size 432x288 with 1 Axes>"
      ]
     },
     "metadata": {
      "needs_background": "light"
     },
     "output_type": "display_data"
    },
    {
     "data": {
      "image/png": "[encoded data removed]",
      "text/plain": [
       "<Figure size 432x288 with 1 Axes>"
      ]
     },
     "metadata": {
      "needs_background": "light"
     },
     "output_type": "display_data"
    }
   ],
   "source": [
    "games_platform = games_fresh.query('platform == \"PS4\"')\n",
    "games_platform.plot(kind='scatter', x='critic_score', y='total_sales')\n",
    "games_platform.plot(kind='scatter', x='user_score', y='total_sales')"
   ]
  },
  {
   "cell_type": "markdown",
   "metadata": {},
   "source": [
    "- Расчет коэффициента корреляции"
   ]
  },
  {
   "cell_type": "code",
   "execution_count": 43,
   "metadata": {},
   "outputs": [
    {
     "name": "stdout",
     "output_type": "stream",
     "text": [
      "critic_score    0.402661\n",
      "user_score     -0.040132\n",
      "total_sales     1.000000\n",
      "Name: total_sales, dtype: float64\n"
     ]
    }
   ],
   "source": [
    "print(games_platform[['critic_score', 'user_score', 'total_sales']].corr()['total_sales'])"
   ]
  },
  {
   "cell_type": "markdown",
   "metadata": {},
   "source": [
    "- Оценка критиков для платформы PS4 имеет слабое влияние на продажи (коэфф. 0,4), оценка пользователей на продажи не влияет"
   ]
  },
  {
   "cell_type": "markdown",
   "metadata": {},
   "source": [
    "Построим диаграмму рассеяния для платформы 3DS"
   ]
  },
  {
   "cell_type": "code",
   "execution_count": 44,
   "metadata": {},
   "outputs": [
    {
     "data": {
      "text/plain": [
       "<AxesSubplot:xlabel='user_score', ylabel='total_sales'>"
      ]
     },
     "execution_count": 44,
     "metadata": {},
     "output_type": "execute_result"
    },
    {
     "data": {
      "image/png": "[encoded data removed]",
      "text/plain": [
       "<Figure size 432x288 with 1 Axes>"
      ]
     },
     "metadata": {
      "needs_background": "light"
     },
     "output_type": "display_data"
    },
    {
     "data": {
      "image/png": "[encoded data removed]",
      "text/plain": [
       "<Figure size 432x288 with 1 Axes>"
      ]
     },
     "metadata": {
      "needs_background": "light"
     },
     "output_type": "display_data"
    }
   ],
   "source": [
    "games_platform = games_fresh.query('platform == \"3DS\"')\n",
    "games_platform.plot(kind='scatter', x='critic_score', y='total_sales')\n",
    "games_platform.plot(kind='scatter', x='user_score', y='total_sales')"
   ]
  },
  {
   "cell_type": "markdown",
   "metadata": {},
   "source": [
    "- Расчет коэффициента корреляции"
   ]
  },
  {
   "cell_type": "code",
   "execution_count": 45,
   "metadata": {},
   "outputs": [
    {
     "name": "stdout",
     "output_type": "stream",
     "text": [
      "critic_score    0.314117\n",
      "user_score      0.215193\n",
      "total_sales     1.000000\n",
      "Name: total_sales, dtype: float64\n"
     ]
    }
   ],
   "source": [
    "print(games_platform[['critic_score', 'user_score', 'total_sales']].corr()['total_sales'])\n"
   ]
  },
  {
   "cell_type": "markdown",
   "metadata": {},
   "source": [
    "- Коэффициент корреляции составляет 31%. Оценка критиков для платформы 3DS имеет очень слабое влияние на продажи, оценка пользователей также имеет очень слабое влияние."
   ]
  },
  {
   "cell_type": "markdown",
   "metadata": {},
   "source": [
    "Построим диаграмму рассеяния для платформы XOne"
   ]
  },
  {
   "cell_type": "code",
   "execution_count": 46,
   "metadata": {},
   "outputs": [
    {
     "data": {
      "text/plain": [
       "<AxesSubplot:xlabel='user_score', ylabel='total_sales'>"
      ]
     },
     "execution_count": 46,
     "metadata": {},
     "output_type": "execute_result"
    },
    {
     "data": {
      "image/png": "[encoded data removed]",
      "text/plain": [
       "<Figure size 432x288 with 1 Axes>"
      ]
     },
     "metadata": {
      "needs_background": "light"
     },
     "output_type": "display_data"
    },
    {
     "data": {
      "image/png": "[encoded data removed]",
      "text/plain": [
       "<Figure size 432x288 with 1 Axes>"
      ]
     },
     "metadata": {
      "needs_background": "light"
     },
     "output_type": "display_data"
    }
   ],
   "source": [
    "games_platform = games_fresh.query('platform == \"XOne\"')\n",
    "games_platform.plot(kind='scatter', x='critic_score', y='total_sales')\n",
    "games_platform.plot(kind='scatter', x='user_score', y='total_sales')"
   ]
  },
  {
   "cell_type": "markdown",
   "metadata": {},
   "source": [
    "- Расчет коэффициента корреляции"
   ]
  },
  {
   "cell_type": "code",
   "execution_count": 47,
   "metadata": {},
   "outputs": [
    {
     "name": "stdout",
     "output_type": "stream",
     "text": [
      "critic_score    0.428677\n",
      "user_score     -0.070384\n",
      "total_sales     1.000000\n",
      "Name: total_sales, dtype: float64\n"
     ]
    }
   ],
   "source": [
    "print(games_platform[['critic_score', 'user_score', 'total_sales']].corr()['total_sales'])\n"
   ]
  },
  {
   "cell_type": "markdown",
   "metadata": {},
   "source": [
    "- Оценка критиков для платформы XOne имеет слабое влияние на продажи, оценка пользователей на продажи не влияет. Коэффициент корреляции -40%."
   ]
  },
  {
   "cell_type": "markdown",
   "metadata": {},
   "source": [
    "Построим диаграмму рассеяния для платформы WiiU"
   ]
  },
  {
   "cell_type": "code",
   "execution_count": 48,
   "metadata": {},
   "outputs": [
    {
     "data": {
      "text/plain": [
       "<AxesSubplot:xlabel='user_score', ylabel='total_sales'>"
      ]
     },
     "execution_count": 48,
     "metadata": {},
     "output_type": "execute_result"
    },
    {
     "data": {
      "image/png": "[encoded data removed]",
      "text/plain": [
       "<Figure size 432x288 with 1 Axes>"
      ]
     },
     "metadata": {
      "needs_background": "light"
     },
     "output_type": "display_data"
    },
    {
     "data": {
      "image/png": "[encoded data removed]",
      "text/plain": [
       "<Figure size 432x288 with 1 Axes>"
      ]
     },
     "metadata": {
      "needs_background": "light"
     },
     "output_type": "display_data"
    }
   ],
   "source": [
    "games_platform = games_fresh.query('platform == \"WiiU\"')\n",
    "games_platform.plot(kind='scatter', x='critic_score', y='total_sales')\n",
    "games_platform.plot(kind='scatter', x='user_score', y='total_sales')"
   ]
  },
  {
   "cell_type": "markdown",
   "metadata": {},
   "source": [
    "- Расчет коэффициента корреляции"
   ]
  },
  {
   "cell_type": "code",
   "execution_count": 49,
   "metadata": {},
   "outputs": [
    {
     "name": "stdout",
     "output_type": "stream",
     "text": [
      "critic_score    0.370201\n",
      "user_score      0.407926\n",
      "total_sales     1.000000\n",
      "Name: total_sales, dtype: float64\n"
     ]
    }
   ],
   "source": [
    "print(games_platform[['critic_score', 'user_score', 'total_sales']].corr()['total_sales'])\n"
   ]
  },
  {
   "cell_type": "markdown",
   "metadata": {},
   "source": [
    "- Оценка критиков для платформы WiiU имеет слабое влияние на продажи, оценка пользователей также имеет слабое влияние."
   ]
  },
  {
   "cell_type": "markdown",
   "metadata": {},
   "source": [
    "- Вывод: Из построенных выше диаграмм рассеяния и расчета коэффициента корреляции по каждой платформе между отзывами и продажами видно, что оценки критиков для всех платформ практически не влияют или имеют очень слабое влияние на продажи. Оценки пользователей имеют очень слабое влияние на продажи или не влияют совсем."
   ]
  },
  {
   "cell_type": "markdown",
   "metadata": {},
   "source": [
    "<div class=\"alert alert-success\">\n",
    "<b>Комментарий ревьюера v.1</b> \n",
    "    \n",
    "👍 \n",
    "Верно.\n",
    "</div>"
   ]
  },
  {
   "cell_type": "markdown",
   "metadata": {},
   "source": [
    "Построим график распределения продаж по жанрам игр."
   ]
  },
  {
   "cell_type": "code",
   "execution_count": 50,
   "metadata": {},
   "outputs": [
    {
     "data": {
      "image/png": "[encoded data removed]",
      "text/plain": [
       "<Figure size 720x504 with 1 Axes>"
      ]
     },
     "metadata": {
      "needs_background": "light"
     },
     "output_type": "display_data"
    }
   ],
   "source": [
    "games_fresh.boxplot(by='genre', column='total_sales', figsize=(10,7))\n",
    "plt.show()"
   ]
  },
  {
   "cell_type": "markdown",
   "metadata": {},
   "source": [
    "- Самые прибыльные жанры: Шутер и Экшн. Самые низкие продажи у жанра- Пазл."
   ]
  },
  {
   "cell_type": "markdown",
   "metadata": {},
   "source": [
    "<div class=\"alert alert-success\">\n",
    "<b>Комментарий ревьюера v.1</b> \n",
    "    \n",
    "👍 \n",
    "Верно. Общие продажи - плохая метрика для поиска наиболее прибыльного жанра. За высокими показателями общих продаж может скрываться множество мелких игр с низкими продажами. Или 2-3 звезды и куча провалов. Лучше найти жанр, где игры стабильно приносят высокий доход - для этого стоит рассмотреть средние или медианные продажи.\n",
    "</div>"
   ]
  },
  {
   "cell_type": "markdown",
   "metadata": {},
   "source": [
    "Самые популярные платформы (топ-5). "
   ]
  },
  {
   "cell_type": "code",
   "execution_count": 51,
   "metadata": {},
   "outputs": [
    {
     "data": {
      "text/plain": [
       "<AxesSubplot:xlabel='platform'>"
      ]
     },
     "execution_count": 51,
     "metadata": {},
     "output_type": "execute_result"
    },
    {
     "data": {
      "image/png": "[encoded data removed]",
      "text/plain": [
       "<Figure size 432x288 with 1 Axes>"
      ]
     },
     "metadata": {
      "needs_background": "light"
     },
     "output_type": "display_data"
    },
    {
     "data": {
      "image/png": "[encoded data removed]",
      "text/plain": [
       "<Figure size 432x288 with 1 Axes>"
      ]
     },
     "metadata": {
      "needs_background": "light"
     },
     "output_type": "display_data"
    },
    {
     "data": {
      "image/png": "[encoded data removed]",
      "text/plain": [
       "<Figure size 432x288 with 1 Axes>"
      ]
     },
     "metadata": {
      "needs_background": "light"
     },
     "output_type": "display_data"
    }
   ],
   "source": [
    "games_fresh.groupby(by='platform').agg({'na_sales':'sum'}).sort_values(by='na_sales', ascending=False).head(5).plot(kind='bar')\n",
    "games_fresh.groupby(by='platform').agg({'eu_sales':'sum'}).sort_values(by='eu_sales', ascending=False).head(5).plot(kind='bar')\n",
    "games_fresh.groupby(by='platform').agg({'jp_sales':'sum'}).sort_values(by='jp_sales', ascending=False).head(5).plot(kind='bar')"
   ]
  },
  {
   "cell_type": "markdown",
   "metadata": {},
   "source": [
    "- В Северной Америке и Европе лидирует PS4, а в Японии- 3DS."
   ]
  },
  {
   "cell_type": "markdown",
   "metadata": {},
   "source": [
    "<div class=\"alert alert-danger\">\n",
    "<b>Комментарий ревьюера v.1</b> \n",
    "    \n",
    "✍ \n",
    "Прпогноз мы строим по актуальному периоду, портреты тоже.\n",
    "</div>"
   ]
  },
  {
   "cell_type": "markdown",
   "metadata": {},
   "source": [
    "<div class=\"alert alert-success\">\n",
    "<b>Комментарий ревьюера v.2</b> \n",
    "    \n",
    "👍 \n",
    "\n",
    "</div>"
   ]
  },
  {
   "cell_type": "markdown",
   "metadata": {},
   "source": [
    "Самые популярные жанры (топ-5). "
   ]
  },
  {
   "cell_type": "code",
   "execution_count": 52,
   "metadata": {},
   "outputs": [
    {
     "data": {
      "text/plain": [
       "<AxesSubplot:xlabel='genre'>"
      ]
     },
     "execution_count": 52,
     "metadata": {},
     "output_type": "execute_result"
    },
    {
     "data": {
      "image/png": "[encoded data removed]",
      "text/plain": [
       "<Figure size 432x288 with 1 Axes>"
      ]
     },
     "metadata": {
      "needs_background": "light"
     },
     "output_type": "display_data"
    },
    {
     "data": {
      "image/png": "[encoded data removed]",
      "text/plain": [
       "<Figure size 432x288 with 1 Axes>"
      ]
     },
     "metadata": {
      "needs_background": "light"
     },
     "output_type": "display_data"
    },
    {
     "data": {
      "image/png": "[encoded data removed]",
      "text/plain": [
       "<Figure size 432x288 with 1 Axes>"
      ]
     },
     "metadata": {
      "needs_background": "light"
     },
     "output_type": "display_data"
    }
   ],
   "source": [
    "games_fresh.groupby(by='genre').agg({'na_sales':'sum'}).sort_values(by='na_sales', ascending=False).head(5).plot(kind='bar')\n",
    "games_fresh.groupby(by='genre').agg({'eu_sales':'sum'}).sort_values(by='eu_sales', ascending=False).head(5).plot(kind='bar')\n",
    "games_fresh.groupby(by='genre').agg({'jp_sales':'sum'}).sort_values(by='jp_sales', ascending=False).head(5).plot(kind='bar')"
   ]
  },
  {
   "cell_type": "markdown",
   "metadata": {},
   "source": [
    "- В Северной Америке самым поппулярным жанром является- шутер, в Европе- экшн, в Японии- ролевая игра. "
   ]
  },
  {
   "cell_type": "markdown",
   "metadata": {},
   "source": [
    "<div class=\"alert alert-danger\">\n",
    "<b>Комментарий ревьюера v.1</b> \n",
    "    \n",
    "✍ \n",
    "Аналогично.\n",
    "</div>"
   ]
  },
  {
   "cell_type": "markdown",
   "metadata": {},
   "source": [
    "<div class=\"alert alert-success\">\n",
    "<b>Комментарий ревьюера v.2</b> \n",
    "    \n",
    "👍 \n",
    "\n",
    "</div>"
   ]
  },
  {
   "cell_type": "markdown",
   "metadata": {},
   "source": [
    "Влияние рейтинга ESRB на продажи в отдельном регионе."
   ]
  },
  {
   "cell_type": "code",
   "execution_count": 53,
   "metadata": {},
   "outputs": [
    {
     "name": "stdout",
     "output_type": "stream",
     "text": [
      "rating\n",
      "AO            1.26\n",
      "E          1274.24\n",
      "E10+        345.50\n",
      "EC            1.53\n",
      "K-A           2.56\n",
      "M           742.89\n",
      "RP            0.00\n",
      "T           747.60\n",
      "Unknown    1225.84\n",
      "Name: na_sales, dtype: float64\n"
     ]
    }
   ],
   "source": [
    "na_popular_ratings = games.groupby('rating').sum().na_sales\n",
    "print(na_popular_ratings)"
   ]
  },
  {
   "cell_type": "markdown",
   "metadata": {},
   "source": [
    "- Рейтинг в Северной Америке"
   ]
  },
  {
   "cell_type": "code",
   "execution_count": 54,
   "metadata": {},
   "outputs": [
    {
     "name": "stdout",
     "output_type": "stream",
     "text": [
      "rating\n",
      "AO           0.61\n",
      "E          703.87\n",
      "E10+       183.35\n",
      "EC           0.11\n",
      "K-A          0.27\n",
      "M          480.00\n",
      "RP           0.03\n",
      "T          421.79\n",
      "Unknown    609.65\n",
      "Name: eu_sales, dtype: float64\n"
     ]
    }
   ],
   "source": [
    "eu_popular_ratings = games.groupby('rating').sum().eu_sales\n",
    "print(eu_popular_ratings)"
   ]
  },
  {
   "cell_type": "markdown",
   "metadata": {},
   "source": [
    "- Рейтинг в Европе"
   ]
  },
  {
   "cell_type": "code",
   "execution_count": 55,
   "metadata": {},
   "outputs": [
    {
     "name": "stdout",
     "output_type": "stream",
     "text": [
      "rating\n",
      "AO           0.00\n",
      "E          197.96\n",
      "E10+        40.20\n",
      "EC           0.00\n",
      "K-A          1.46\n",
      "M           63.58\n",
      "RP           0.00\n",
      "T          150.70\n",
      "Unknown    836.74\n",
      "Name: jp_sales, dtype: float64\n"
     ]
    }
   ],
   "source": [
    "jp_popular_ratings = games.groupby('rating').sum().jp_sales\n",
    "print(jp_popular_ratings)"
   ]
  },
  {
   "cell_type": "markdown",
   "metadata": {},
   "source": [
    "- Рейтинг в Японии"
   ]
  },
  {
   "cell_type": "code",
   "execution_count": 56,
   "metadata": {},
   "outputs": [
    {
     "data": {
      "text/plain": [
       "<AxesSubplot:>"
      ]
     },
     "execution_count": 56,
     "metadata": {},
     "output_type": "execute_result"
    },
    {
     "data": {
      "image/png": "[encoded data removed]",
      "text/plain": [
       "<Figure size 720x576 with 1 Axes>"
      ]
     },
     "metadata": {
      "needs_background": "light"
     },
     "output_type": "display_data"
    }
   ],
   "source": [
    "data_to_plot = pd.DataFrame([na_popular_ratings, eu_popular_ratings, jp_popular_ratings])\n",
    "data_to_plot.plot(kind='bar', figsize=(10,8))"
   ]
  },
  {
   "cell_type": "markdown",
   "metadata": {},
   "source": [
    "- Вывод: рейтинг ESRB влияет на количество продаж в каждом регионе в большую сторону. Везде доминирует рейтинг- Е."
   ]
  },
  {
   "cell_type": "markdown",
   "metadata": {},
   "source": [
    "<div class=\"alert alert-danger\">\n",
    "<b>Комментарий ревьюера v.1</b> \n",
    "    \n",
    "✍ \n",
    "Мы при предобработке данных не поставили заглушку на пропуски в рейтинге ESRB. И игры без рейтинга оказываются полностью исключенными из анализа. Но продажи именно этих игр могут указать на ключевое различие в регионах.\n",
    "\n",
    "А проблема у нас в том, что если посмотреть в инете, что из себя представляет рейтинг ESRB, то окажется, что он предназначен для маркировки игр для США и Канады. И логично, что для других регионов он не заполняется. Наша задача смотреть шире на исходный датасет, так как за цифрами находятся реальные бизнес-процессы. И мы должны это учитывать при предобработке данных. Для этого лучше поставить заглушку и вывести ее при анализе, например `Unknow`.\n",
    "</div>"
   ]
  },
  {
   "cell_type": "markdown",
   "metadata": {},
   "source": [
    "<div class=\"alert alert-info\"> \n",
    "<b>Комментарий студента</b> \n",
    "    \n",
    "Согласен с Вами. Рейтинг ESRB может присваиваеться любой игре, не зависимо от сраны разработки т.к. в регламенте организации указан поцесс присвоения рейтинга: \"Для определения рейтинга издатель присылает в ESRB видеоролик, который содержит наиболее впечатляющие и резкие сцены игры. Также издатель заполняет специальную анкету сведениями о содержании игры.\" Так же стоит отметить что большиенство игр выпущены на территории Америки и тиражируются по всему миру.\n",
    "</div>\n"
   ]
  },
  {
   "cell_type": "markdown",
   "metadata": {},
   "source": [
    "<div class=\"alert alert-success\">\n",
    "<b>Комментарий ревьюера v.2</b> \n",
    "    \n",
    "👍 \n",
    "\n",
    "</div>"
   ]
  },
  {
   "cell_type": "markdown",
   "metadata": {},
   "source": [
    "Гипотеза: Средние пользовательские рейтинги платформ Xbox One и PC одинаковые."
   ]
  },
  {
   "cell_type": "markdown",
   "metadata": {},
   "source": [
    "- Нулевая гипотеза: Средние пользовательские рейтинги платформ Xbox One и PC одинаковые.\n",
    "  Альтернативная гипотеза: Средние пользовательские рейтинги платформ Xbox One и PC различаются."
   ]
  },
  {
   "cell_type": "markdown",
   "metadata": {},
   "source": [
    "<div class=\"alert alert-success\">\n",
    "<b>Комментарий ревьюера v.1</b> \n",
    "    \n",
    "👍 \n",
    "Гипотезы сформулированы верно.\n",
    "</div>"
   ]
  },
  {
   "cell_type": "code",
   "execution_count": 57,
   "metadata": {},
   "outputs": [],
   "source": [
    "from scipy import stats as st"
   ]
  },
  {
   "cell_type": "code",
   "execution_count": 58,
   "metadata": {},
   "outputs": [
    {
     "name": "stdout",
     "output_type": "stream",
     "text": [
      "p-значение: 0.10450507919348415\n",
      "Не получилось отвергнуть нулевую гипотезу\n"
     ]
    }
   ],
   "source": [
    "alpha = 0.05\n",
    "a = games_fresh.loc[games_fresh['platform']=='XOne'].user_score.dropna().values\n",
    "b = games_fresh.loc[games_fresh['platform']=='PC'].user_score.dropna().values\n",
    "results = st.ttest_ind(a, b)\n",
    "print('p-значение:', results.pvalue)\n",
    "\n",
    "if (results.pvalue < alpha):\n",
    "    print(\"Отвергаем нулевую гипотезу\")\n",
    "else:\n",
    "    print(\"Не получилось отвергнуть нулевую гипотезу\")"
   ]
  },
  {
   "cell_type": "markdown",
   "metadata": {},
   "source": [
    "- нет оснований утверждать, что средние пользовательские рейтинги платформ Xbox One и PC значимо различаются. Принимаем нулевую гипотезу, p-значение больше значения alpha, что дает основание принять предположение об отсутствии различий между средними пользовательскими рейтингами платформ Xbox One и PC"
   ]
  },
  {
   "cell_type": "markdown",
   "metadata": {},
   "source": [
    "Средние пользовательские рейтинги жанров Action и Sports разные."
   ]
  },
  {
   "cell_type": "markdown",
   "metadata": {},
   "source": [
    "- Нулевая гипотеза: средний пользовательский рейтинг жанра Action == средний пользовательский рейтинг жанра Sports.\n",
    "  Альтернативная гипотеза: средний пользовательский рейтинг жанра Action != средний пользовательский рейтинг жанра Sports"
   ]
  },
  {
   "cell_type": "code",
   "execution_count": 59,
   "metadata": {},
   "outputs": [
    {
     "name": "stdout",
     "output_type": "stream",
     "text": [
      "p-значение: 2.8711147985105864e-19\n",
      "Отвергаем нулевую гипотезу\n"
     ]
    }
   ],
   "source": [
    "alpha = 0.05\n",
    "a = games_fresh.loc[games_fresh['genre']=='Action'].user_score.dropna().values\n",
    "b = games_fresh.loc[games_fresh['genre']=='Sports'].user_score.dropna().values\n",
    "results = st.ttest_ind(a, b)\n",
    "print('p-значение:', results.pvalue)\n",
    "\n",
    "if (results.pvalue < alpha):\n",
    "    print(\"Отвергаем нулевую гипотезу\")\n",
    "else:\n",
    "    print(\"Не получилось отвергнуть нулевую гипотезу\")"
   ]
  },
  {
   "cell_type": "markdown",
   "metadata": {},
   "source": [
    "- Принимаем альтернативную гипотезу, p-значение достаточно мало, что дает основание отвергнуть предположение об отсутствии различий между cредними пользовательскими рейтингами жанров Action и Sports."
   ]
  },
  {
   "cell_type": "markdown",
   "metadata": {},
   "source": [
    "<div class=\"alert alert-danger\">\n",
    "<b>Комментарий ревьюера v.1</b> \n",
    "    \n",
    "✍ \n",
    "Не хватает выводов.\n",
    "</div>"
   ]
  },
  {
   "cell_type": "markdown",
   "metadata": {},
   "source": [
    "<div class=\"alert alert-success\">\n",
    "<b>Комментарий ревьюера v.2</b> \n",
    "    \n",
    "👍 \n",
    "\n",
    "</div>"
   ]
  },
  {
   "cell_type": "markdown",
   "metadata": {},
   "source": [
    "Проведена работа:"
   ]
  },
  {
   "cell_type": "markdown",
   "metadata": {},
   "source": [
    "Проведен обзор данных и выполнена предобработка данных, выявлены недостатки в данных (тип данных, выбросы в рейтингах), были обработаны пропуски, в некоторых случаях строки были удалены за ненадобностью, также были расчитаны суммарные продажи по регионам и записаны в отдельный столбец 'total_sales'."
   ]
  },
  {
   "cell_type": "markdown",
   "metadata": {},
   "source": [
    "Построены графики:"
   ]
  },
  {
   "cell_type": "markdown",
   "metadata": {},
   "source": [
    "- зависимости количества игр от года выпуска;"
   ]
  },
  {
   "cell_type": "markdown",
   "metadata": {},
   "source": [
    "- по продажам распределенных по годам для отдельных платформ;"
   ]
  },
  {
   "cell_type": "markdown",
   "metadata": {},
   "source": [
    "- самые популярные платформы (топ-5);"
   ]
  },
  {
   "cell_type": "markdown",
   "metadata": {},
   "source": [
    "- самые популярные жанры (топ-5);"
   ]
  },
  {
   "cell_type": "markdown",
   "metadata": {},
   "source": [
    "- график рейтинга ESRB."
   ]
  },
  {
   "cell_type": "markdown",
   "metadata": {},
   "source": [
    "- Построен график «ящик с усами» по глобальным продажам игр в разбивке по платформам."
   ]
  },
  {
   "cell_type": "markdown",
   "metadata": {},
   "source": [
    "Проведена проверка двух гипотез:"
   ]
  },
  {
   "cell_type": "markdown",
   "metadata": {},
   "source": [
    "- Средние пользовательские рейтинги платформ Xbox One и PC одинаковые;"
   ]
  },
  {
   "cell_type": "markdown",
   "metadata": {},
   "source": [
    "- Средние пользовательские рейтинги жанров Action и Sports разные."
   ]
  },
  {
   "cell_type": "markdown",
   "metadata": {},
   "source": [
    "Вывод:"
   ]
  },
  {
   "cell_type": "markdown",
   "metadata": {},
   "source": [
    "В Северной Америке и Европпе самымой популярной платформой является- PS4, любимый жанр игры - Shooter и Action с рейтингом Е. \n",
    "Предпочтения пользователей из Японии существенно отличаются, самой популярной платформой являются 3DS, любимые жанры - Role-Playing с рейтингом Е. Так же нужно отметить что по результатам анализа количества продаж платформ, их продажи падают, вероятно это связано с ростом мобильной разработки."
   ]
  },
  {
   "cell_type": "markdown",
   "metadata": {},
   "source": [
    "Рекомендуемое распределение бюджета:\n",
    "    В Северной америке- игры жанра шутер и экшн, с рейтингом Е, для платформ PS4 и XOne.\n",
    "    Для Европпы- игры жанра шутер и экшн, с рейтингом Е, для платформ PS4.\n",
    "    На Японский рынок стоит заложить бюджет- на игры жанра ролевые и шутер, с рейтингом Е, для платформ 3DS."
   ]
  },
  {
   "cell_type": "markdown",
   "metadata": {},
   "source": [
    "<div class=\"alert alert-warning\">\n",
    "<b>Комментарий ревьюера v.1</b> \n",
    "    \n",
    "📝 \n",
    "Цель нашего исследования понять, на что потратить рекламный бюджет. В исследовании мы проанализировали игры с разных сторон. Логично, что рекламный отдел от нас ждет на какие платформы (1-2 штуки, на большее у нас не хватит рекламного бюджета), с каким жанром, с каким рейтингом ESRB и в каком регионе рекламировать. Стоит ли обращать внимание на отзывы или нет.\n",
    "У нас вся информация в проекте уже есть, надо просто акцентировать на какие игры тратить рекламный бюджет. Сделаем?\n",
    "\n",
    "</div>"
   ]
  },
  {
   "cell_type": "markdown",
   "metadata": {},
   "source": [
    "<div style=\"border:solid blue 3px; padding: 20px\">\n",
    "<div class=\"alert alert-success\">\n",
    "<b>Обратная связь v.1</b> \n",
    "    \n",
    "👋  \n",
    "Антон, замечательная работа, ты мыслишь нестандартно, это отличный навык, который у тебя уже есть, ты последователен и вдумчив. Твою работу очень интересно читать и проверять.  Я оставил несколько обязательных поправок для тебя и после этого буду готов сразу принять проект. \n",
    "\n",
    "Удачи в доработках, жду!  "
   ]
  },
  {
   "cell_type": "markdown",
   "metadata": {},
   "source": [
    "<div style=\"border:solid blue 3px; padding: 20px\">\n",
    "<div class=\"alert alert-success\">\n",
    "<b>Обратная связь v.2</b> \n",
    "    \n",
    "👋 \n",
    "Антон, спасибо, что прислал работу на повторное ревью. Большинство замечаний устранено, кроме ящика с усами по глобальным продажам. Прошу тебя доделать и прислать работу на финальное ревью.\n",
    "    \n",
    "Удачи в доработках, жду!"
   ]
  },
  {
   "cell_type": "markdown",
   "metadata": {},
   "source": [
    "<div style=\"border:solid blue 3px; padding: 20px\">\n",
    "<div class=\"alert alert-success\">\n",
    "<b>Обратная связь v.3</b> \n",
    "    \n",
    "👋 \n",
    "      \n",
    "Антон, спасибо за исправления критических моментов, а также спасибо за хорошую работу.\n",
    "    \n",
    "Поздравляю с успешным завершением проекта 😊👍\n",
    "    \n",
    "И желаю успехов в новых работах 😊"
   ]
  }
 ],
 "metadata": {
  "ExecuteTimeLog": [
   {
    "duration": 42,
    "start_time": "2023-01-30T09:51:23.736Z"
   },
   {
    "duration": 813,
    "start_time": "2023-01-30T09:51:45.661Z"
   },
   {
    "duration": 623,
    "start_time": "2023-01-30T09:52:44.745Z"
   },
   {
    "duration": 616,
    "start_time": "2023-01-30T09:53:05.269Z"
   },
   {
    "duration": 26,
    "start_time": "2023-01-30T09:53:05.886Z"
   },
   {
    "duration": 25,
    "start_time": "2023-01-30T09:53:16.700Z"
   },
   {
    "duration": 13,
    "start_time": "2023-01-30T09:53:30.474Z"
   },
   {
    "duration": 14,
    "start_time": "2023-01-30T09:59:04.263Z"
   },
   {
    "duration": 60,
    "start_time": "2023-01-30T09:59:39.278Z"
   },
   {
    "duration": 8,
    "start_time": "2023-01-30T09:59:46.209Z"
   },
   {
    "duration": 7,
    "start_time": "2023-01-30T09:59:59.219Z"
   },
   {
    "duration": 3,
    "start_time": "2023-01-30T10:00:11.709Z"
   },
   {
    "duration": 61,
    "start_time": "2023-01-30T10:00:50.848Z"
   },
   {
    "duration": 14,
    "start_time": "2023-01-30T10:05:17.624Z"
   },
   {
    "duration": 8,
    "start_time": "2023-01-30T10:05:47.768Z"
   },
   {
    "duration": 3,
    "start_time": "2023-01-30T10:05:50.308Z"
   },
   {
    "duration": 29,
    "start_time": "2023-01-30T10:06:23.584Z"
   },
   {
    "duration": 25,
    "start_time": "2023-01-30T10:07:55.276Z"
   },
   {
    "duration": 16,
    "start_time": "2023-01-30T10:16:00.250Z"
   },
   {
    "duration": 14,
    "start_time": "2023-01-30T10:17:34.802Z"
   },
   {
    "duration": 8,
    "start_time": "2023-01-30T10:18:46.050Z"
   },
   {
    "duration": 631,
    "start_time": "2023-01-30T10:38:38.956Z"
   },
   {
    "duration": 27,
    "start_time": "2023-01-30T10:38:39.589Z"
   },
   {
    "duration": 43,
    "start_time": "2023-01-30T10:38:39.617Z"
   },
   {
    "duration": 44,
    "start_time": "2023-01-30T10:38:39.661Z"
   },
   {
    "duration": 22,
    "start_time": "2023-01-30T10:38:39.707Z"
   },
   {
    "duration": 24,
    "start_time": "2023-01-30T10:38:39.730Z"
   },
   {
    "duration": 39,
    "start_time": "2023-01-30T10:38:39.755Z"
   },
   {
    "duration": 87,
    "start_time": "2023-01-30T10:38:39.796Z"
   },
   {
    "duration": 586,
    "start_time": "2023-01-30T10:39:12.691Z"
   },
   {
    "duration": 28,
    "start_time": "2023-01-30T10:39:13.424Z"
   },
   {
    "duration": 12,
    "start_time": "2023-01-30T10:39:14.825Z"
   },
   {
    "duration": 14,
    "start_time": "2023-01-30T10:39:19.280Z"
   },
   {
    "duration": 8,
    "start_time": "2023-01-30T10:39:20.483Z"
   },
   {
    "duration": 64,
    "start_time": "2023-01-30T11:02:33.720Z"
   },
   {
    "duration": 12,
    "start_time": "2023-01-30T11:03:07.320Z"
   },
   {
    "duration": 15,
    "start_time": "2023-01-30T11:03:28.174Z"
   },
   {
    "duration": 12,
    "start_time": "2023-01-30T11:03:41.589Z"
   },
   {
    "duration": 3,
    "start_time": "2023-01-30T11:07:21.872Z"
   },
   {
    "duration": 13,
    "start_time": "2023-01-30T11:13:55.473Z"
   },
   {
    "duration": 7,
    "start_time": "2023-01-30T11:15:18.694Z"
   },
   {
    "duration": 9,
    "start_time": "2023-01-30T11:15:53.702Z"
   },
   {
    "duration": 10,
    "start_time": "2023-01-30T11:16:03.866Z"
   },
   {
    "duration": 3,
    "start_time": "2023-01-30T11:16:42.823Z"
   },
   {
    "duration": 681,
    "start_time": "2023-01-30T11:30:44.033Z"
   },
   {
    "duration": 28,
    "start_time": "2023-01-30T11:30:44.716Z"
   },
   {
    "duration": 13,
    "start_time": "2023-01-30T11:30:44.746Z"
   },
   {
    "duration": 15,
    "start_time": "2023-01-30T11:30:44.761Z"
   },
   {
    "duration": 9,
    "start_time": "2023-01-30T11:30:44.778Z"
   },
   {
    "duration": 4,
    "start_time": "2023-01-30T11:30:44.788Z"
   },
   {
    "duration": 14,
    "start_time": "2023-01-30T11:30:44.793Z"
   },
   {
    "duration": 33,
    "start_time": "2023-01-30T11:30:44.809Z"
   },
   {
    "duration": 6,
    "start_time": "2023-01-30T11:30:44.843Z"
   },
   {
    "duration": 10,
    "start_time": "2023-01-30T11:32:03.023Z"
   },
   {
    "duration": 692,
    "start_time": "2023-01-30T11:32:13.522Z"
   },
   {
    "duration": 28,
    "start_time": "2023-01-30T11:32:14.216Z"
   },
   {
    "duration": 14,
    "start_time": "2023-01-30T11:32:14.245Z"
   },
   {
    "duration": 26,
    "start_time": "2023-01-30T11:32:14.261Z"
   },
   {
    "duration": 8,
    "start_time": "2023-01-30T11:32:14.288Z"
   },
   {
    "duration": 6,
    "start_time": "2023-01-30T11:32:14.297Z"
   },
   {
    "duration": 21,
    "start_time": "2023-01-30T11:32:14.304Z"
   },
   {
    "duration": 21,
    "start_time": "2023-01-30T11:32:14.326Z"
   },
   {
    "duration": 14,
    "start_time": "2023-01-30T11:32:14.348Z"
   },
   {
    "duration": 6,
    "start_time": "2023-01-30T11:32:14.364Z"
   },
   {
    "duration": 8,
    "start_time": "2023-01-30T11:34:06.559Z"
   },
   {
    "duration": 12,
    "start_time": "2023-01-30T11:34:51.334Z"
   },
   {
    "duration": 596,
    "start_time": "2023-01-30T11:34:56.885Z"
   },
   {
    "duration": 26,
    "start_time": "2023-01-30T11:34:57.482Z"
   },
   {
    "duration": 11,
    "start_time": "2023-01-30T11:34:57.510Z"
   },
   {
    "duration": 28,
    "start_time": "2023-01-30T11:34:57.523Z"
   },
   {
    "duration": 21,
    "start_time": "2023-01-30T11:34:57.553Z"
   },
   {
    "duration": 14,
    "start_time": "2023-01-30T11:34:57.575Z"
   },
   {
    "duration": 13,
    "start_time": "2023-01-30T11:34:57.591Z"
   },
   {
    "duration": 15,
    "start_time": "2023-01-30T11:34:57.605Z"
   },
   {
    "duration": 32,
    "start_time": "2023-01-30T11:34:57.621Z"
   },
   {
    "duration": 15,
    "start_time": "2023-01-30T11:34:57.656Z"
   },
   {
    "duration": 16,
    "start_time": "2023-01-30T11:34:57.673Z"
   },
   {
    "duration": 650,
    "start_time": "2023-01-30T11:35:19.889Z"
   },
   {
    "duration": 26,
    "start_time": "2023-01-30T11:35:20.541Z"
   },
   {
    "duration": 12,
    "start_time": "2023-01-30T11:35:20.568Z"
   },
   {
    "duration": 44,
    "start_time": "2023-01-30T11:35:20.581Z"
   },
   {
    "duration": 24,
    "start_time": "2023-01-30T11:35:20.626Z"
   },
   {
    "duration": 28,
    "start_time": "2023-01-30T11:35:20.652Z"
   },
   {
    "duration": 31,
    "start_time": "2023-01-30T11:35:20.682Z"
   },
   {
    "duration": 33,
    "start_time": "2023-01-30T11:35:20.715Z"
   },
   {
    "duration": 16,
    "start_time": "2023-01-30T11:35:20.749Z"
   },
   {
    "duration": 32,
    "start_time": "2023-01-30T11:35:20.767Z"
   },
   {
    "duration": 19,
    "start_time": "2023-01-30T11:35:20.801Z"
   },
   {
    "duration": 17,
    "start_time": "2023-01-30T11:36:40.350Z"
   },
   {
    "duration": 9,
    "start_time": "2023-01-30T11:37:55.617Z"
   },
   {
    "duration": 9,
    "start_time": "2023-01-30T11:41:11.426Z"
   },
   {
    "duration": 732,
    "start_time": "2023-01-30T11:41:17.725Z"
   },
   {
    "duration": 31,
    "start_time": "2023-01-30T11:41:18.458Z"
   },
   {
    "duration": 14,
    "start_time": "2023-01-30T11:41:18.491Z"
   },
   {
    "duration": 34,
    "start_time": "2023-01-30T11:41:18.507Z"
   },
   {
    "duration": 9,
    "start_time": "2023-01-30T11:41:18.543Z"
   },
   {
    "duration": 6,
    "start_time": "2023-01-30T11:41:18.554Z"
   },
   {
    "duration": 20,
    "start_time": "2023-01-30T11:41:18.561Z"
   },
   {
    "duration": 25,
    "start_time": "2023-01-30T11:41:18.583Z"
   },
   {
    "duration": 12,
    "start_time": "2023-01-30T11:41:18.609Z"
   },
   {
    "duration": 26,
    "start_time": "2023-01-30T11:41:18.623Z"
   },
   {
    "duration": 8,
    "start_time": "2023-01-30T11:41:18.650Z"
   },
   {
    "duration": 12,
    "start_time": "2023-01-30T11:41:18.660Z"
   },
   {
    "duration": 6,
    "start_time": "2023-01-30T11:41:18.673Z"
   },
   {
    "duration": 16,
    "start_time": "2023-01-30T11:41:18.680Z"
   },
   {
    "duration": 10,
    "start_time": "2023-01-30T11:47:55.640Z"
   },
   {
    "duration": 675,
    "start_time": "2023-01-30T11:48:01.858Z"
   },
   {
    "duration": 36,
    "start_time": "2023-01-30T11:48:02.535Z"
   },
   {
    "duration": 24,
    "start_time": "2023-01-30T11:48:02.572Z"
   },
   {
    "duration": 36,
    "start_time": "2023-01-30T11:48:02.599Z"
   },
   {
    "duration": 14,
    "start_time": "2023-01-30T11:48:02.636Z"
   },
   {
    "duration": 34,
    "start_time": "2023-01-30T11:48:02.652Z"
   },
   {
    "duration": 26,
    "start_time": "2023-01-30T11:48:02.688Z"
   },
   {
    "duration": 19,
    "start_time": "2023-01-30T11:48:02.715Z"
   },
   {
    "duration": 10,
    "start_time": "2023-01-30T11:48:02.735Z"
   },
   {
    "duration": 29,
    "start_time": "2023-01-30T11:48:02.747Z"
   },
   {
    "duration": 30,
    "start_time": "2023-01-30T11:48:02.777Z"
   },
   {
    "duration": 27,
    "start_time": "2023-01-30T11:48:02.809Z"
   },
   {
    "duration": 18,
    "start_time": "2023-01-30T11:48:02.837Z"
   },
   {
    "duration": 34,
    "start_time": "2023-01-30T11:48:02.856Z"
   },
   {
    "duration": 11,
    "start_time": "2023-01-30T11:48:15.021Z"
   },
   {
    "duration": 687,
    "start_time": "2023-01-30T11:48:27.450Z"
   },
   {
    "duration": 31,
    "start_time": "2023-01-30T11:48:28.139Z"
   },
   {
    "duration": 15,
    "start_time": "2023-01-30T11:48:28.172Z"
   },
   {
    "duration": 30,
    "start_time": "2023-01-30T11:48:28.189Z"
   },
   {
    "duration": 20,
    "start_time": "2023-01-30T11:48:28.221Z"
   },
   {
    "duration": 12,
    "start_time": "2023-01-30T11:48:28.243Z"
   },
   {
    "duration": 20,
    "start_time": "2023-01-30T11:48:28.257Z"
   },
   {
    "duration": 15,
    "start_time": "2023-01-30T11:48:28.278Z"
   },
   {
    "duration": 15,
    "start_time": "2023-01-30T11:48:28.295Z"
   },
   {
    "duration": 24,
    "start_time": "2023-01-30T11:48:28.312Z"
   },
   {
    "duration": 17,
    "start_time": "2023-01-30T11:48:28.338Z"
   },
   {
    "duration": 16,
    "start_time": "2023-01-30T11:48:28.357Z"
   },
   {
    "duration": 6,
    "start_time": "2023-01-30T11:48:28.375Z"
   },
   {
    "duration": 41,
    "start_time": "2023-01-30T11:48:28.383Z"
   },
   {
    "duration": 4,
    "start_time": "2023-01-30T11:48:41.890Z"
   },
   {
    "duration": 10,
    "start_time": "2023-01-30T11:48:46.791Z"
   },
   {
    "duration": 4,
    "start_time": "2023-01-30T11:49:57.994Z"
   },
   {
    "duration": 1110,
    "start_time": "2023-01-31T10:32:49.460Z"
   },
   {
    "duration": 32,
    "start_time": "2023-01-31T10:32:50.574Z"
   },
   {
    "duration": 14,
    "start_time": "2023-01-31T10:32:50.607Z"
   },
   {
    "duration": 66,
    "start_time": "2023-01-31T10:32:50.623Z"
   },
   {
    "duration": 13,
    "start_time": "2023-01-31T10:32:50.691Z"
   },
   {
    "duration": 4,
    "start_time": "2023-01-31T10:32:50.705Z"
   },
   {
    "duration": 13,
    "start_time": "2023-01-31T10:32:50.711Z"
   },
   {
    "duration": 24,
    "start_time": "2023-01-31T10:32:50.725Z"
   },
   {
    "duration": 10,
    "start_time": "2023-01-31T10:32:50.751Z"
   },
   {
    "duration": 18,
    "start_time": "2023-01-31T10:32:50.766Z"
   },
   {
    "duration": 22,
    "start_time": "2023-01-31T10:32:50.786Z"
   },
   {
    "duration": 6,
    "start_time": "2023-01-31T10:32:50.810Z"
   },
   {
    "duration": 3,
    "start_time": "2023-01-31T10:32:50.818Z"
   },
   {
    "duration": 6,
    "start_time": "2023-01-31T10:32:50.824Z"
   },
   {
    "duration": 16,
    "start_time": "2023-01-31T10:39:46.571Z"
   },
   {
    "duration": 15,
    "start_time": "2023-01-31T10:46:34.819Z"
   },
   {
    "duration": 6,
    "start_time": "2023-01-31T10:47:10.807Z"
   },
   {
    "duration": 12,
    "start_time": "2023-01-31T10:49:08.359Z"
   },
   {
    "duration": 11,
    "start_time": "2023-01-31T10:50:27.602Z"
   },
   {
    "duration": 634,
    "start_time": "2023-01-31T10:50:32.660Z"
   },
   {
    "duration": 25,
    "start_time": "2023-01-31T10:50:33.296Z"
   },
   {
    "duration": 30,
    "start_time": "2023-01-31T10:50:33.323Z"
   },
   {
    "duration": 17,
    "start_time": "2023-01-31T10:50:33.356Z"
   },
   {
    "duration": 10,
    "start_time": "2023-01-31T10:50:33.374Z"
   },
   {
    "duration": 4,
    "start_time": "2023-01-31T10:50:33.385Z"
   },
   {
    "duration": 14,
    "start_time": "2023-01-31T10:50:33.391Z"
   },
   {
    "duration": 13,
    "start_time": "2023-01-31T10:50:33.406Z"
   },
   {
    "duration": 34,
    "start_time": "2023-01-31T10:50:33.420Z"
   },
   {
    "duration": 11,
    "start_time": "2023-01-31T10:50:33.457Z"
   },
   {
    "duration": 16,
    "start_time": "2023-01-31T10:50:33.470Z"
   },
   {
    "duration": 7,
    "start_time": "2023-01-31T10:50:33.488Z"
   },
   {
    "duration": 18,
    "start_time": "2023-01-31T10:50:33.496Z"
   },
   {
    "duration": 9,
    "start_time": "2023-01-31T10:50:33.515Z"
   },
   {
    "duration": 35,
    "start_time": "2023-01-31T10:50:33.525Z"
   },
   {
    "duration": 2,
    "start_time": "2023-01-31T10:50:33.561Z"
   },
   {
    "duration": 7,
    "start_time": "2023-01-31T10:50:33.565Z"
   },
   {
    "duration": 712,
    "start_time": "2023-01-31T10:50:43.361Z"
   },
   {
    "duration": 30,
    "start_time": "2023-01-31T10:50:44.076Z"
   },
   {
    "duration": 13,
    "start_time": "2023-01-31T10:50:44.108Z"
   },
   {
    "duration": 29,
    "start_time": "2023-01-31T10:50:44.124Z"
   },
   {
    "duration": 12,
    "start_time": "2023-01-31T10:50:44.155Z"
   },
   {
    "duration": 11,
    "start_time": "2023-01-31T10:50:44.169Z"
   },
   {
    "duration": 17,
    "start_time": "2023-01-31T10:50:44.182Z"
   },
   {
    "duration": 17,
    "start_time": "2023-01-31T10:50:44.201Z"
   },
   {
    "duration": 33,
    "start_time": "2023-01-31T10:50:44.220Z"
   },
   {
    "duration": 7,
    "start_time": "2023-01-31T10:50:44.256Z"
   },
   {
    "duration": 16,
    "start_time": "2023-01-31T10:50:44.264Z"
   },
   {
    "duration": 5,
    "start_time": "2023-01-31T10:50:44.282Z"
   },
   {
    "duration": 19,
    "start_time": "2023-01-31T10:50:44.288Z"
   },
   {
    "duration": 45,
    "start_time": "2023-01-31T10:50:44.308Z"
   },
   {
    "duration": 14,
    "start_time": "2023-01-31T10:50:44.354Z"
   },
   {
    "duration": 6,
    "start_time": "2023-01-31T10:50:44.370Z"
   },
   {
    "duration": 21,
    "start_time": "2023-01-31T10:50:44.378Z"
   },
   {
    "duration": 15,
    "start_time": "2023-01-31T10:51:21.178Z"
   },
   {
    "duration": 235,
    "start_time": "2023-01-31T10:54:33.674Z"
   },
   {
    "duration": 16,
    "start_time": "2023-01-31T10:56:13.070Z"
   },
   {
    "duration": 15,
    "start_time": "2023-01-31T10:57:34.698Z"
   },
   {
    "duration": 49,
    "start_time": "2023-01-31T11:06:02.639Z"
   },
   {
    "duration": 691,
    "start_time": "2023-01-31T11:06:19.523Z"
   },
   {
    "duration": 29,
    "start_time": "2023-01-31T11:06:20.217Z"
   },
   {
    "duration": 15,
    "start_time": "2023-01-31T11:06:20.248Z"
   },
   {
    "duration": 15,
    "start_time": "2023-01-31T11:06:20.265Z"
   },
   {
    "duration": 9,
    "start_time": "2023-01-31T11:06:20.283Z"
   },
   {
    "duration": 11,
    "start_time": "2023-01-31T11:06:20.294Z"
   },
   {
    "duration": 42,
    "start_time": "2023-01-31T11:06:20.307Z"
   },
   {
    "duration": 12,
    "start_time": "2023-01-31T11:06:20.351Z"
   },
   {
    "duration": 9,
    "start_time": "2023-01-31T11:06:20.365Z"
   },
   {
    "duration": 10,
    "start_time": "2023-01-31T11:06:20.375Z"
   },
   {
    "duration": 19,
    "start_time": "2023-01-31T11:06:20.386Z"
   },
   {
    "duration": 6,
    "start_time": "2023-01-31T11:06:20.406Z"
   },
   {
    "duration": 47,
    "start_time": "2023-01-31T11:06:20.413Z"
   },
   {
    "duration": 22,
    "start_time": "2023-01-31T11:06:20.463Z"
   },
   {
    "duration": 6,
    "start_time": "2023-01-31T11:06:20.486Z"
   },
   {
    "duration": 6,
    "start_time": "2023-01-31T11:06:20.494Z"
   },
   {
    "duration": 88,
    "start_time": "2023-01-31T11:06:20.501Z"
   },
   {
    "duration": 0,
    "start_time": "2023-01-31T11:06:20.590Z"
   },
   {
    "duration": 0,
    "start_time": "2023-01-31T11:06:20.591Z"
   },
   {
    "duration": 687,
    "start_time": "2023-01-31T11:06:42.213Z"
   },
   {
    "duration": 27,
    "start_time": "2023-01-31T11:06:42.902Z"
   },
   {
    "duration": 23,
    "start_time": "2023-01-31T11:06:42.931Z"
   },
   {
    "duration": 16,
    "start_time": "2023-01-31T11:06:42.956Z"
   },
   {
    "duration": 9,
    "start_time": "2023-01-31T11:06:42.974Z"
   },
   {
    "duration": 3,
    "start_time": "2023-01-31T11:06:42.985Z"
   },
   {
    "duration": 13,
    "start_time": "2023-01-31T11:06:42.990Z"
   },
   {
    "duration": 53,
    "start_time": "2023-01-31T11:06:43.004Z"
   },
   {
    "duration": 10,
    "start_time": "2023-01-31T11:06:43.058Z"
   },
   {
    "duration": 9,
    "start_time": "2023-01-31T11:06:43.071Z"
   },
   {
    "duration": 16,
    "start_time": "2023-01-31T11:06:43.082Z"
   },
   {
    "duration": 6,
    "start_time": "2023-01-31T11:06:43.100Z"
   },
   {
    "duration": 47,
    "start_time": "2023-01-31T11:06:43.108Z"
   },
   {
    "duration": 19,
    "start_time": "2023-01-31T11:06:43.156Z"
   },
   {
    "duration": 6,
    "start_time": "2023-01-31T11:06:43.177Z"
   },
   {
    "duration": 5,
    "start_time": "2023-01-31T11:06:43.184Z"
   },
   {
    "duration": 4,
    "start_time": "2023-01-31T11:06:43.190Z"
   },
   {
    "duration": 5,
    "start_time": "2023-01-31T11:06:43.196Z"
   },
   {
    "duration": 7,
    "start_time": "2023-01-31T11:06:43.202Z"
   },
   {
    "duration": 8,
    "start_time": "2023-01-31T11:16:12.482Z"
   },
   {
    "duration": 13,
    "start_time": "2023-01-31T11:25:25.065Z"
   },
   {
    "duration": 13,
    "start_time": "2023-01-31T11:27:30.625Z"
   },
   {
    "duration": 50,
    "start_time": "2023-01-31T11:31:28.148Z"
   },
   {
    "duration": 52,
    "start_time": "2023-01-31T11:31:57.249Z"
   },
   {
    "duration": 14,
    "start_time": "2023-01-31T11:32:19.036Z"
   },
   {
    "duration": 11,
    "start_time": "2023-01-31T11:33:06.367Z"
   },
   {
    "duration": 23,
    "start_time": "2023-01-31T11:35:06.656Z"
   },
   {
    "duration": 16,
    "start_time": "2023-01-31T11:35:48.064Z"
   },
   {
    "duration": 13,
    "start_time": "2023-01-31T11:40:12.624Z"
   },
   {
    "duration": 15,
    "start_time": "2023-01-31T11:43:38.965Z"
   },
   {
    "duration": 45,
    "start_time": "2023-01-31T11:45:53.584Z"
   },
   {
    "duration": 5,
    "start_time": "2023-01-31T11:46:22.280Z"
   },
   {
    "duration": 626,
    "start_time": "2023-01-31T11:53:58.993Z"
   },
   {
    "duration": 26,
    "start_time": "2023-01-31T11:53:59.621Z"
   },
   {
    "duration": 12,
    "start_time": "2023-01-31T11:53:59.649Z"
   },
   {
    "duration": 19,
    "start_time": "2023-01-31T11:53:59.663Z"
   },
   {
    "duration": 8,
    "start_time": "2023-01-31T11:53:59.683Z"
   },
   {
    "duration": 6,
    "start_time": "2023-01-31T11:53:59.693Z"
   },
   {
    "duration": 14,
    "start_time": "2023-01-31T11:53:59.701Z"
   },
   {
    "duration": 40,
    "start_time": "2023-01-31T11:53:59.716Z"
   },
   {
    "duration": 8,
    "start_time": "2023-01-31T11:53:59.757Z"
   },
   {
    "duration": 8,
    "start_time": "2023-01-31T11:53:59.767Z"
   },
   {
    "duration": 18,
    "start_time": "2023-01-31T11:53:59.776Z"
   },
   {
    "duration": 13,
    "start_time": "2023-01-31T11:53:59.795Z"
   },
   {
    "duration": 9,
    "start_time": "2023-01-31T11:53:59.809Z"
   },
   {
    "duration": 43,
    "start_time": "2023-01-31T11:53:59.819Z"
   },
   {
    "duration": 6,
    "start_time": "2023-01-31T11:53:59.863Z"
   },
   {
    "duration": 15,
    "start_time": "2023-01-31T11:53:59.871Z"
   },
   {
    "duration": 96,
    "start_time": "2023-01-31T11:53:59.888Z"
   },
   {
    "duration": 0,
    "start_time": "2023-01-31T11:53:59.986Z"
   },
   {
    "duration": 0,
    "start_time": "2023-01-31T11:53:59.987Z"
   },
   {
    "duration": 0,
    "start_time": "2023-01-31T11:53:59.988Z"
   },
   {
    "duration": 8,
    "start_time": "2023-01-31T11:57:21.990Z"
   },
   {
    "duration": 13,
    "start_time": "2023-01-31T12:00:29.008Z"
   },
   {
    "duration": 8,
    "start_time": "2023-01-31T12:00:44.360Z"
   },
   {
    "duration": 7,
    "start_time": "2023-01-31T12:01:48.260Z"
   },
   {
    "duration": 8,
    "start_time": "2023-01-31T12:02:21.642Z"
   },
   {
    "duration": 7,
    "start_time": "2023-01-31T12:02:30.208Z"
   },
   {
    "duration": 51,
    "start_time": "2023-01-31T12:03:21.284Z"
   },
   {
    "duration": 45,
    "start_time": "2023-01-31T12:03:39.862Z"
   },
   {
    "duration": 50,
    "start_time": "2023-01-31T12:03:46.961Z"
   },
   {
    "duration": 6,
    "start_time": "2023-01-31T12:03:55.940Z"
   },
   {
    "duration": 9,
    "start_time": "2023-01-31T12:04:20.599Z"
   },
   {
    "duration": 685,
    "start_time": "2023-01-31T12:04:30.169Z"
   },
   {
    "duration": 29,
    "start_time": "2023-01-31T12:04:30.856Z"
   },
   {
    "duration": 59,
    "start_time": "2023-01-31T12:04:30.886Z"
   },
   {
    "duration": 59,
    "start_time": "2023-01-31T12:04:30.948Z"
   },
   {
    "duration": 25,
    "start_time": "2023-01-31T12:04:31.008Z"
   },
   {
    "duration": 27,
    "start_time": "2023-01-31T12:04:31.035Z"
   },
   {
    "duration": 35,
    "start_time": "2023-01-31T12:04:31.064Z"
   },
   {
    "duration": 39,
    "start_time": "2023-01-31T12:04:31.100Z"
   },
   {
    "duration": 9,
    "start_time": "2023-01-31T12:04:31.141Z"
   },
   {
    "duration": 25,
    "start_time": "2023-01-31T12:04:31.152Z"
   },
   {
    "duration": 32,
    "start_time": "2023-01-31T12:04:31.179Z"
   },
   {
    "duration": 7,
    "start_time": "2023-01-31T12:04:31.213Z"
   },
   {
    "duration": 39,
    "start_time": "2023-01-31T12:04:31.221Z"
   },
   {
    "duration": 47,
    "start_time": "2023-01-31T12:04:31.261Z"
   },
   {
    "duration": 22,
    "start_time": "2023-01-31T12:04:31.310Z"
   },
   {
    "duration": 35,
    "start_time": "2023-01-31T12:04:31.335Z"
   },
   {
    "duration": 23,
    "start_time": "2023-01-31T12:04:31.372Z"
   },
   {
    "duration": 73,
    "start_time": "2023-01-31T12:04:31.396Z"
   },
   {
    "duration": 0,
    "start_time": "2023-01-31T12:04:31.471Z"
   },
   {
    "duration": 0,
    "start_time": "2023-01-31T12:04:31.472Z"
   },
   {
    "duration": 0,
    "start_time": "2023-01-31T12:04:31.474Z"
   },
   {
    "duration": 44,
    "start_time": "2023-01-31T12:05:39.183Z"
   },
   {
    "duration": 682,
    "start_time": "2023-01-31T12:06:34.325Z"
   },
   {
    "duration": 28,
    "start_time": "2023-01-31T12:06:35.091Z"
   },
   {
    "duration": 14,
    "start_time": "2023-01-31T12:06:36.139Z"
   },
   {
    "duration": 17,
    "start_time": "2023-01-31T12:06:36.734Z"
   },
   {
    "duration": 9,
    "start_time": "2023-01-31T12:06:37.440Z"
   },
   {
    "duration": 3,
    "start_time": "2023-01-31T12:06:39.087Z"
   },
   {
    "duration": 10,
    "start_time": "2023-01-31T12:06:40.209Z"
   },
   {
    "duration": 14,
    "start_time": "2023-01-31T12:06:41.399Z"
   },
   {
    "duration": 9,
    "start_time": "2023-01-31T12:06:42.519Z"
   },
   {
    "duration": 7,
    "start_time": "2023-01-31T12:06:47.987Z"
   },
   {
    "duration": 16,
    "start_time": "2023-01-31T12:06:49.658Z"
   },
   {
    "duration": 6,
    "start_time": "2023-01-31T12:06:59.070Z"
   },
   {
    "duration": 6,
    "start_time": "2023-01-31T12:07:27.769Z"
   },
   {
    "duration": 2,
    "start_time": "2023-01-31T12:07:46.927Z"
   },
   {
    "duration": 9,
    "start_time": "2023-01-31T12:07:48.924Z"
   },
   {
    "duration": 6,
    "start_time": "2023-01-31T12:07:57.840Z"
   },
   {
    "duration": 13,
    "start_time": "2023-01-31T12:08:02.300Z"
   },
   {
    "duration": 8,
    "start_time": "2023-01-31T12:08:09.766Z"
   },
   {
    "duration": 32,
    "start_time": "2023-01-31T12:08:10.666Z"
   },
   {
    "duration": 7,
    "start_time": "2023-01-31T12:09:44.445Z"
   },
   {
    "duration": 8,
    "start_time": "2023-01-31T12:14:27.505Z"
   },
   {
    "duration": 45,
    "start_time": "2023-01-31T12:14:38.024Z"
   },
   {
    "duration": 623,
    "start_time": "2023-01-31T12:15:09.198Z"
   },
   {
    "duration": 27,
    "start_time": "2023-01-31T12:15:10.006Z"
   },
   {
    "duration": 15,
    "start_time": "2023-01-31T12:15:11.029Z"
   },
   {
    "duration": 17,
    "start_time": "2023-01-31T12:15:13.865Z"
   },
   {
    "duration": 10,
    "start_time": "2023-01-31T12:15:16.698Z"
   },
   {
    "duration": 3,
    "start_time": "2023-01-31T12:15:22.010Z"
   },
   {
    "duration": 74,
    "start_time": "2023-01-31T12:15:38.066Z"
   },
   {
    "duration": 11,
    "start_time": "2023-01-31T12:22:14.444Z"
   },
   {
    "duration": 13,
    "start_time": "2023-01-31T12:22:17.718Z"
   },
   {
    "duration": 6,
    "start_time": "2023-01-31T12:22:29.112Z"
   },
   {
    "duration": 18,
    "start_time": "2023-01-31T12:22:30.824Z"
   },
   {
    "duration": 8,
    "start_time": "2023-01-31T12:22:45.868Z"
   },
   {
    "duration": 8,
    "start_time": "2023-01-31T12:25:04.245Z"
   },
   {
    "duration": 9,
    "start_time": "2023-01-31T12:25:24.420Z"
   },
   {
    "duration": 7,
    "start_time": "2023-01-31T12:25:27.885Z"
   },
   {
    "duration": 12,
    "start_time": "2023-01-31T12:25:43.687Z"
   },
   {
    "duration": 9,
    "start_time": "2023-01-31T12:26:02.027Z"
   },
   {
    "duration": 55,
    "start_time": "2023-01-31T12:26:02.646Z"
   },
   {
    "duration": 8,
    "start_time": "2023-01-31T12:26:20.972Z"
   },
   {
    "duration": 6,
    "start_time": "2023-01-31T12:26:38.482Z"
   },
   {
    "duration": 9,
    "start_time": "2023-01-31T12:28:55.352Z"
   },
   {
    "duration": 7,
    "start_time": "2023-01-31T12:30:54.328Z"
   },
   {
    "duration": 7,
    "start_time": "2023-01-31T12:31:18.675Z"
   },
   {
    "duration": 7,
    "start_time": "2023-01-31T12:33:37.201Z"
   },
   {
    "duration": 8,
    "start_time": "2023-01-31T12:42:43.991Z"
   },
   {
    "duration": 663,
    "start_time": "2023-01-31T12:42:58.978Z"
   },
   {
    "duration": 29,
    "start_time": "2023-01-31T12:42:59.643Z"
   },
   {
    "duration": 15,
    "start_time": "2023-01-31T12:43:02.215Z"
   },
   {
    "duration": 19,
    "start_time": "2023-01-31T12:43:02.871Z"
   },
   {
    "duration": 10,
    "start_time": "2023-01-31T12:43:03.544Z"
   },
   {
    "duration": 3,
    "start_time": "2023-01-31T12:43:10.182Z"
   },
   {
    "duration": 12,
    "start_time": "2023-01-31T12:43:41.763Z"
   },
   {
    "duration": 16,
    "start_time": "2023-01-31T12:43:43.473Z"
   },
   {
    "duration": 7,
    "start_time": "2023-01-31T12:44:12.188Z"
   },
   {
    "duration": 16,
    "start_time": "2023-01-31T12:44:17.240Z"
   },
   {
    "duration": 8,
    "start_time": "2023-01-31T12:44:32.414Z"
   },
   {
    "duration": 7,
    "start_time": "2023-01-31T12:44:41.788Z"
   },
   {
    "duration": 9,
    "start_time": "2023-01-31T12:45:03.590Z"
   },
   {
    "duration": 7,
    "start_time": "2023-01-31T12:45:18.211Z"
   },
   {
    "duration": 7,
    "start_time": "2023-01-31T12:45:48.858Z"
   },
   {
    "duration": 12,
    "start_time": "2023-01-31T12:45:57.395Z"
   },
   {
    "duration": 1000,
    "start_time": "2023-01-31T12:46:04.780Z"
   },
   {
    "duration": 1047,
    "start_time": "2023-01-31T12:46:26.282Z"
   },
   {
    "duration": 1075,
    "start_time": "2023-01-31T12:47:50.871Z"
   },
   {
    "duration": 27,
    "start_time": "2023-01-31T12:48:11.960Z"
   },
   {
    "duration": 4,
    "start_time": "2023-01-31T12:49:25.197Z"
   },
   {
    "duration": 18,
    "start_time": "2023-01-31T12:49:36.030Z"
   },
   {
    "duration": 6,
    "start_time": "2023-01-31T12:50:08.610Z"
   },
   {
    "duration": 12,
    "start_time": "2023-01-31T12:50:15.798Z"
   },
   {
    "duration": 4,
    "start_time": "2023-01-31T12:51:11.655Z"
   },
   {
    "duration": 13,
    "start_time": "2023-01-31T12:52:02.440Z"
   },
   {
    "duration": 9,
    "start_time": "2023-01-31T12:52:17.266Z"
   },
   {
    "duration": 17,
    "start_time": "2023-01-31T12:55:36.311Z"
   },
   {
    "duration": 6,
    "start_time": "2023-01-31T12:56:30.932Z"
   },
   {
    "duration": 9,
    "start_time": "2023-01-31T12:57:13.432Z"
   },
   {
    "duration": 7,
    "start_time": "2023-01-31T13:06:29.710Z"
   },
   {
    "duration": 186,
    "start_time": "2023-01-31T13:07:10.694Z"
   },
   {
    "duration": 172,
    "start_time": "2023-01-31T13:09:33.932Z"
   },
   {
    "duration": 264,
    "start_time": "2023-01-31T13:26:31.408Z"
   },
   {
    "duration": 9,
    "start_time": "2023-01-31T13:48:04.736Z"
   },
   {
    "duration": 8,
    "start_time": "2023-01-31T13:48:08.521Z"
   },
   {
    "duration": 69,
    "start_time": "2023-01-31T13:48:12.690Z"
   },
   {
    "duration": 639,
    "start_time": "2023-01-31T13:49:45.966Z"
   },
   {
    "duration": 26,
    "start_time": "2023-01-31T13:49:46.607Z"
   },
   {
    "duration": 15,
    "start_time": "2023-01-31T13:49:46.634Z"
   },
   {
    "duration": 14,
    "start_time": "2023-01-31T13:49:46.650Z"
   },
   {
    "duration": 9,
    "start_time": "2023-01-31T13:49:46.665Z"
   },
   {
    "duration": 5,
    "start_time": "2023-01-31T13:49:46.675Z"
   },
   {
    "duration": 14,
    "start_time": "2023-01-31T13:49:46.681Z"
   },
   {
    "duration": 13,
    "start_time": "2023-01-31T13:49:46.696Z"
   },
   {
    "duration": 6,
    "start_time": "2023-01-31T13:49:46.748Z"
   },
   {
    "duration": 19,
    "start_time": "2023-01-31T13:49:46.755Z"
   },
   {
    "duration": 5,
    "start_time": "2023-01-31T13:49:46.775Z"
   },
   {
    "duration": 11,
    "start_time": "2023-01-31T13:49:46.782Z"
   },
   {
    "duration": 6,
    "start_time": "2023-01-31T13:49:46.794Z"
   },
   {
    "duration": 14,
    "start_time": "2023-01-31T13:49:46.847Z"
   },
   {
    "duration": 31,
    "start_time": "2023-01-31T13:49:46.862Z"
   },
   {
    "duration": 6,
    "start_time": "2023-01-31T13:49:46.895Z"
   },
   {
    "duration": 15,
    "start_time": "2023-01-31T13:49:46.903Z"
   },
   {
    "duration": 35,
    "start_time": "2023-01-31T13:49:46.919Z"
   },
   {
    "duration": 43,
    "start_time": "2023-01-31T13:49:46.955Z"
   },
   {
    "duration": 0,
    "start_time": "2023-01-31T13:49:46.999Z"
   },
   {
    "duration": 0,
    "start_time": "2023-01-31T13:49:47.000Z"
   },
   {
    "duration": 0,
    "start_time": "2023-01-31T13:49:47.002Z"
   },
   {
    "duration": 0,
    "start_time": "2023-01-31T13:49:47.003Z"
   },
   {
    "duration": 47,
    "start_time": "2023-01-31T13:50:00.962Z"
   },
   {
    "duration": 175,
    "start_time": "2023-01-31T13:50:10.600Z"
   },
   {
    "duration": 238,
    "start_time": "2023-01-31T13:50:17.485Z"
   },
   {
    "duration": 165,
    "start_time": "2023-01-31T13:50:26.194Z"
   },
   {
    "duration": 218,
    "start_time": "2023-01-31T13:55:24.256Z"
   },
   {
    "duration": 152,
    "start_time": "2023-01-31T14:01:14.592Z"
   },
   {
    "duration": 163,
    "start_time": "2023-01-31T14:03:21.926Z"
   },
   {
    "duration": 189,
    "start_time": "2023-01-31T14:13:57.043Z"
   },
   {
    "duration": 160,
    "start_time": "2023-01-31T14:13:58.366Z"
   },
   {
    "duration": 190,
    "start_time": "2023-01-31T14:13:59.791Z"
   },
   {
    "duration": 6,
    "start_time": "2023-01-31T14:28:49.802Z"
   },
   {
    "duration": 646,
    "start_time": "2023-01-31T14:30:18.552Z"
   },
   {
    "duration": 26,
    "start_time": "2023-01-31T14:30:19.200Z"
   },
   {
    "duration": 23,
    "start_time": "2023-01-31T14:30:19.227Z"
   },
   {
    "duration": 15,
    "start_time": "2023-01-31T14:30:19.252Z"
   },
   {
    "duration": 9,
    "start_time": "2023-01-31T14:30:19.268Z"
   },
   {
    "duration": 11,
    "start_time": "2023-01-31T14:30:19.278Z"
   },
   {
    "duration": 17,
    "start_time": "2023-01-31T14:30:19.290Z"
   },
   {
    "duration": 40,
    "start_time": "2023-01-31T14:30:19.309Z"
   },
   {
    "duration": 11,
    "start_time": "2023-01-31T14:30:19.350Z"
   },
   {
    "duration": 15,
    "start_time": "2023-01-31T14:30:19.364Z"
   },
   {
    "duration": 20,
    "start_time": "2023-01-31T14:30:19.381Z"
   },
   {
    "duration": 14,
    "start_time": "2023-01-31T14:30:19.402Z"
   },
   {
    "duration": 32,
    "start_time": "2023-01-31T14:30:19.417Z"
   },
   {
    "duration": 58,
    "start_time": "2023-01-31T14:30:19.451Z"
   },
   {
    "duration": 51,
    "start_time": "2023-01-31T14:30:19.511Z"
   },
   {
    "duration": 32,
    "start_time": "2023-01-31T14:30:19.565Z"
   },
   {
    "duration": 55,
    "start_time": "2023-01-31T14:30:19.598Z"
   },
   {
    "duration": 38,
    "start_time": "2023-01-31T14:30:19.655Z"
   },
   {
    "duration": 197,
    "start_time": "2023-01-31T14:30:19.695Z"
   },
   {
    "duration": 265,
    "start_time": "2023-01-31T14:30:19.894Z"
   },
   {
    "duration": 187,
    "start_time": "2023-01-31T14:30:20.161Z"
   },
   {
    "duration": 213,
    "start_time": "2023-01-31T14:30:20.349Z"
   },
   {
    "duration": 172,
    "start_time": "2023-01-31T14:30:20.564Z"
   },
   {
    "duration": 170,
    "start_time": "2023-01-31T14:30:20.738Z"
   },
   {
    "duration": 171,
    "start_time": "2023-01-31T14:30:20.910Z"
   },
   {
    "duration": 169,
    "start_time": "2023-01-31T14:30:21.082Z"
   },
   {
    "duration": 5,
    "start_time": "2023-01-31T14:30:21.253Z"
   },
   {
    "duration": 43,
    "start_time": "2023-01-31T14:31:07.138Z"
   },
   {
    "duration": 157,
    "start_time": "2023-01-31T14:32:21.560Z"
   },
   {
    "duration": 113,
    "start_time": "2023-01-31T14:34:32.910Z"
   },
   {
    "duration": 132,
    "start_time": "2023-01-31T14:35:19.742Z"
   },
   {
    "duration": 133,
    "start_time": "2023-01-31T14:35:52.746Z"
   },
   {
    "duration": 108,
    "start_time": "2023-01-31T14:36:37.365Z"
   },
   {
    "duration": 127,
    "start_time": "2023-01-31T14:37:50.639Z"
   },
   {
    "duration": 186,
    "start_time": "2023-01-31T14:38:24.896Z"
   },
   {
    "duration": 119,
    "start_time": "2023-01-31T14:38:49.321Z"
   },
   {
    "duration": 130,
    "start_time": "2023-01-31T14:39:14.214Z"
   },
   {
    "duration": 118,
    "start_time": "2023-01-31T14:39:49.475Z"
   },
   {
    "duration": 689,
    "start_time": "2023-01-31T14:47:53.542Z"
   },
   {
    "duration": 28,
    "start_time": "2023-01-31T14:47:54.233Z"
   },
   {
    "duration": 14,
    "start_time": "2023-01-31T14:47:54.262Z"
   },
   {
    "duration": 16,
    "start_time": "2023-01-31T14:47:54.278Z"
   },
   {
    "duration": 8,
    "start_time": "2023-01-31T14:47:54.295Z"
   },
   {
    "duration": 10,
    "start_time": "2023-01-31T14:47:54.305Z"
   },
   {
    "duration": 43,
    "start_time": "2023-01-31T14:47:54.317Z"
   },
   {
    "duration": 14,
    "start_time": "2023-01-31T14:47:54.362Z"
   },
   {
    "duration": 13,
    "start_time": "2023-01-31T14:47:54.378Z"
   },
   {
    "duration": 29,
    "start_time": "2023-01-31T14:47:54.394Z"
   },
   {
    "duration": 27,
    "start_time": "2023-01-31T14:47:54.424Z"
   },
   {
    "duration": 18,
    "start_time": "2023-01-31T14:47:54.453Z"
   },
   {
    "duration": 9,
    "start_time": "2023-01-31T14:47:54.472Z"
   },
   {
    "duration": 19,
    "start_time": "2023-01-31T14:47:54.482Z"
   },
   {
    "duration": 50,
    "start_time": "2023-01-31T14:47:54.503Z"
   },
   {
    "duration": 9,
    "start_time": "2023-01-31T14:47:54.555Z"
   },
   {
    "duration": 18,
    "start_time": "2023-01-31T14:47:54.567Z"
   },
   {
    "duration": 8,
    "start_time": "2023-01-31T14:47:54.587Z"
   },
   {
    "duration": 217,
    "start_time": "2023-01-31T14:47:54.597Z"
   },
   {
    "duration": 255,
    "start_time": "2023-01-31T14:47:54.816Z"
   },
   {
    "duration": 183,
    "start_time": "2023-01-31T14:47:55.073Z"
   },
   {
    "duration": 306,
    "start_time": "2023-01-31T14:47:55.258Z"
   },
   {
    "duration": 176,
    "start_time": "2023-01-31T14:47:55.566Z"
   },
   {
    "duration": 200,
    "start_time": "2023-01-31T14:47:55.747Z"
   },
   {
    "duration": 171,
    "start_time": "2023-01-31T14:47:55.948Z"
   },
   {
    "duration": 173,
    "start_time": "2023-01-31T14:47:56.121Z"
   },
   {
    "duration": 6,
    "start_time": "2023-01-31T14:47:56.296Z"
   },
   {
    "duration": 163,
    "start_time": "2023-01-31T14:47:56.304Z"
   },
   {
    "duration": 147,
    "start_time": "2023-01-31T14:47:56.469Z"
   },
   {
    "duration": 131,
    "start_time": "2023-01-31T14:47:56.618Z"
   },
   {
    "duration": 132,
    "start_time": "2023-01-31T14:47:56.751Z"
   },
   {
    "duration": 52,
    "start_time": "2023-01-31T14:47:56.885Z"
   },
   {
    "duration": 0,
    "start_time": "2023-01-31T14:47:56.938Z"
   },
   {
    "duration": 0,
    "start_time": "2023-01-31T14:47:56.940Z"
   },
   {
    "duration": 0,
    "start_time": "2023-01-31T14:47:56.941Z"
   },
   {
    "duration": 0,
    "start_time": "2023-01-31T14:47:56.942Z"
   },
   {
    "duration": 0,
    "start_time": "2023-01-31T14:47:56.944Z"
   },
   {
    "duration": 0,
    "start_time": "2023-01-31T14:47:56.945Z"
   },
   {
    "duration": 0,
    "start_time": "2023-01-31T14:47:56.946Z"
   },
   {
    "duration": 680,
    "start_time": "2023-01-31T14:48:11.617Z"
   },
   {
    "duration": 27,
    "start_time": "2023-01-31T14:48:12.299Z"
   },
   {
    "duration": 25,
    "start_time": "2023-01-31T14:48:12.328Z"
   },
   {
    "duration": 15,
    "start_time": "2023-01-31T14:48:12.355Z"
   },
   {
    "duration": 10,
    "start_time": "2023-01-31T14:48:12.371Z"
   },
   {
    "duration": 7,
    "start_time": "2023-01-31T14:48:12.382Z"
   },
   {
    "duration": 13,
    "start_time": "2023-01-31T14:48:12.390Z"
   },
   {
    "duration": 14,
    "start_time": "2023-01-31T14:48:12.404Z"
   },
   {
    "duration": 7,
    "start_time": "2023-01-31T14:48:12.449Z"
   },
   {
    "duration": 22,
    "start_time": "2023-01-31T14:48:12.458Z"
   },
   {
    "duration": 6,
    "start_time": "2023-01-31T14:48:12.482Z"
   },
   {
    "duration": 12,
    "start_time": "2023-01-31T14:48:12.489Z"
   },
   {
    "duration": 7,
    "start_time": "2023-01-31T14:48:12.503Z"
   },
   {
    "duration": 46,
    "start_time": "2023-01-31T14:48:12.511Z"
   },
   {
    "duration": 22,
    "start_time": "2023-01-31T14:48:12.559Z"
   },
   {
    "duration": 6,
    "start_time": "2023-01-31T14:48:12.583Z"
   },
   {
    "duration": 14,
    "start_time": "2023-01-31T14:48:12.590Z"
   },
   {
    "duration": 7,
    "start_time": "2023-01-31T14:48:12.605Z"
   },
   {
    "duration": 221,
    "start_time": "2023-01-31T14:48:12.613Z"
   },
   {
    "duration": 264,
    "start_time": "2023-01-31T14:48:12.836Z"
   },
   {
    "duration": 180,
    "start_time": "2023-01-31T14:48:13.102Z"
   },
   {
    "duration": 231,
    "start_time": "2023-01-31T14:48:13.284Z"
   },
   {
    "duration": 184,
    "start_time": "2023-01-31T14:48:13.517Z"
   },
   {
    "duration": 173,
    "start_time": "2023-01-31T14:48:13.702Z"
   },
   {
    "duration": 180,
    "start_time": "2023-01-31T14:48:13.876Z"
   },
   {
    "duration": 182,
    "start_time": "2023-01-31T14:48:14.058Z"
   },
   {
    "duration": 6,
    "start_time": "2023-01-31T14:48:14.247Z"
   },
   {
    "duration": 153,
    "start_time": "2023-01-31T14:48:14.256Z"
   },
   {
    "duration": 125,
    "start_time": "2023-01-31T14:48:14.412Z"
   },
   {
    "duration": 133,
    "start_time": "2023-01-31T14:48:14.538Z"
   },
   {
    "duration": 123,
    "start_time": "2023-01-31T14:48:14.673Z"
   },
   {
    "duration": 126,
    "start_time": "2023-01-31T14:48:14.798Z"
   },
   {
    "duration": 142,
    "start_time": "2023-01-31T14:48:14.926Z"
   },
   {
    "duration": 170,
    "start_time": "2023-01-31T14:48:15.070Z"
   },
   {
    "duration": 151,
    "start_time": "2023-01-31T14:48:15.247Z"
   },
   {
    "duration": 168,
    "start_time": "2023-01-31T14:48:15.400Z"
   },
   {
    "duration": 143,
    "start_time": "2023-01-31T14:48:15.570Z"
   },
   {
    "duration": 133,
    "start_time": "2023-01-31T14:48:15.715Z"
   },
   {
    "duration": 745,
    "start_time": "2023-01-31T14:50:34.959Z"
   },
   {
    "duration": 27,
    "start_time": "2023-01-31T14:50:35.706Z"
   },
   {
    "duration": 14,
    "start_time": "2023-01-31T14:50:35.735Z"
   },
   {
    "duration": 15,
    "start_time": "2023-01-31T14:50:35.751Z"
   },
   {
    "duration": 9,
    "start_time": "2023-01-31T14:50:35.768Z"
   },
   {
    "duration": 16,
    "start_time": "2023-01-31T14:50:35.779Z"
   },
   {
    "duration": 22,
    "start_time": "2023-01-31T14:50:35.796Z"
   },
   {
    "duration": 34,
    "start_time": "2023-01-31T14:50:35.819Z"
   },
   {
    "duration": 9,
    "start_time": "2023-01-31T14:50:35.855Z"
   },
   {
    "duration": 30,
    "start_time": "2023-01-31T14:50:35.867Z"
   },
   {
    "duration": 7,
    "start_time": "2023-01-31T14:50:35.899Z"
   },
   {
    "duration": 35,
    "start_time": "2023-01-31T14:50:35.907Z"
   },
   {
    "duration": 19,
    "start_time": "2023-01-31T14:50:35.943Z"
   },
   {
    "duration": 28,
    "start_time": "2023-01-31T14:50:35.963Z"
   },
   {
    "duration": 25,
    "start_time": "2023-01-31T14:50:35.993Z"
   },
   {
    "duration": 8,
    "start_time": "2023-01-31T14:50:36.020Z"
   },
   {
    "duration": 26,
    "start_time": "2023-01-31T14:50:36.030Z"
   },
   {
    "duration": 8,
    "start_time": "2023-01-31T14:50:36.058Z"
   },
   {
    "duration": 211,
    "start_time": "2023-01-31T14:50:36.069Z"
   },
   {
    "duration": 258,
    "start_time": "2023-01-31T14:50:36.281Z"
   },
   {
    "duration": 192,
    "start_time": "2023-01-31T14:50:36.541Z"
   },
   {
    "duration": 233,
    "start_time": "2023-01-31T14:50:36.735Z"
   },
   {
    "duration": 181,
    "start_time": "2023-01-31T14:50:36.970Z"
   },
   {
    "duration": 182,
    "start_time": "2023-01-31T14:50:37.153Z"
   },
   {
    "duration": 174,
    "start_time": "2023-01-31T14:50:37.337Z"
   },
   {
    "duration": 174,
    "start_time": "2023-01-31T14:50:37.513Z"
   },
   {
    "duration": 6,
    "start_time": "2023-01-31T14:50:37.689Z"
   },
   {
    "duration": 153,
    "start_time": "2023-01-31T14:50:37.698Z"
   },
   {
    "duration": 137,
    "start_time": "2023-01-31T14:50:37.853Z"
   },
   {
    "duration": 131,
    "start_time": "2023-01-31T14:50:37.992Z"
   },
   {
    "duration": 139,
    "start_time": "2023-01-31T14:50:38.124Z"
   },
   {
    "duration": 128,
    "start_time": "2023-01-31T14:50:38.264Z"
   },
   {
    "duration": 138,
    "start_time": "2023-01-31T14:50:38.393Z"
   },
   {
    "duration": 188,
    "start_time": "2023-01-31T14:50:38.532Z"
   },
   {
    "duration": 133,
    "start_time": "2023-01-31T14:50:38.722Z"
   },
   {
    "duration": 137,
    "start_time": "2023-01-31T14:50:38.857Z"
   },
   {
    "duration": 133,
    "start_time": "2023-01-31T14:50:38.995Z"
   },
   {
    "duration": 150,
    "start_time": "2023-01-31T14:50:39.129Z"
   },
   {
    "duration": 708,
    "start_time": "2023-01-31T14:57:02.147Z"
   },
   {
    "duration": 40,
    "start_time": "2023-01-31T14:57:02.858Z"
   },
   {
    "duration": 18,
    "start_time": "2023-01-31T14:57:02.900Z"
   },
   {
    "duration": 49,
    "start_time": "2023-01-31T14:57:02.921Z"
   },
   {
    "duration": 11,
    "start_time": "2023-01-31T14:57:02.972Z"
   },
   {
    "duration": 9,
    "start_time": "2023-01-31T14:57:02.984Z"
   },
   {
    "duration": 29,
    "start_time": "2023-01-31T14:57:02.995Z"
   },
   {
    "duration": 23,
    "start_time": "2023-01-31T14:57:03.026Z"
   },
   {
    "duration": 12,
    "start_time": "2023-01-31T14:57:03.051Z"
   },
   {
    "duration": 17,
    "start_time": "2023-01-31T14:57:03.066Z"
   },
   {
    "duration": 7,
    "start_time": "2023-01-31T14:57:03.084Z"
   },
   {
    "duration": 23,
    "start_time": "2023-01-31T14:57:03.093Z"
   },
   {
    "duration": 32,
    "start_time": "2023-01-31T14:57:03.118Z"
   },
   {
    "duration": 21,
    "start_time": "2023-01-31T14:57:03.152Z"
   },
   {
    "duration": 24,
    "start_time": "2023-01-31T14:57:03.175Z"
   },
   {
    "duration": 8,
    "start_time": "2023-01-31T14:57:03.201Z"
   },
   {
    "duration": 42,
    "start_time": "2023-01-31T14:57:03.210Z"
   },
   {
    "duration": 10,
    "start_time": "2023-01-31T14:57:03.254Z"
   },
   {
    "duration": 210,
    "start_time": "2023-01-31T14:57:03.266Z"
   },
   {
    "duration": 262,
    "start_time": "2023-01-31T14:57:03.478Z"
   },
   {
    "duration": 201,
    "start_time": "2023-01-31T14:57:03.742Z"
   },
   {
    "duration": 231,
    "start_time": "2023-01-31T14:57:03.947Z"
   },
   {
    "duration": 177,
    "start_time": "2023-01-31T14:57:04.180Z"
   },
   {
    "duration": 173,
    "start_time": "2023-01-31T14:57:04.359Z"
   },
   {
    "duration": 170,
    "start_time": "2023-01-31T14:57:04.534Z"
   },
   {
    "duration": 179,
    "start_time": "2023-01-31T14:57:04.706Z"
   },
   {
    "duration": 6,
    "start_time": "2023-01-31T14:57:04.886Z"
   },
   {
    "duration": 159,
    "start_time": "2023-01-31T14:57:04.896Z"
   },
   {
    "duration": 135,
    "start_time": "2023-01-31T14:57:05.057Z"
   },
   {
    "duration": 171,
    "start_time": "2023-01-31T14:57:05.194Z"
   },
   {
    "duration": 174,
    "start_time": "2023-01-31T14:57:05.367Z"
   },
   {
    "duration": 138,
    "start_time": "2023-01-31T14:57:05.548Z"
   },
   {
    "duration": 143,
    "start_time": "2023-01-31T14:57:05.688Z"
   },
   {
    "duration": 198,
    "start_time": "2023-01-31T14:57:05.833Z"
   },
   {
    "duration": 136,
    "start_time": "2023-01-31T14:57:06.033Z"
   },
   {
    "duration": 133,
    "start_time": "2023-01-31T14:57:06.170Z"
   },
   {
    "duration": 129,
    "start_time": "2023-01-31T14:57:06.305Z"
   },
   {
    "duration": 131,
    "start_time": "2023-01-31T14:57:06.435Z"
   },
   {
    "duration": 74,
    "start_time": "2023-01-31T15:00:58.193Z"
   },
   {
    "duration": 11,
    "start_time": "2023-01-31T15:03:19.620Z"
   },
   {
    "duration": 677,
    "start_time": "2023-01-31T15:36:48.310Z"
   },
   {
    "duration": 39,
    "start_time": "2023-01-31T15:36:48.989Z"
   },
   {
    "duration": 23,
    "start_time": "2023-01-31T15:36:49.030Z"
   },
   {
    "duration": 15,
    "start_time": "2023-01-31T15:36:49.055Z"
   },
   {
    "duration": 12,
    "start_time": "2023-01-31T15:36:49.073Z"
   },
   {
    "duration": 11,
    "start_time": "2023-01-31T15:36:49.088Z"
   },
   {
    "duration": 40,
    "start_time": "2023-01-31T15:36:49.100Z"
   },
   {
    "duration": 38,
    "start_time": "2023-01-31T15:36:49.142Z"
   },
   {
    "duration": 27,
    "start_time": "2023-01-31T15:36:49.182Z"
   },
   {
    "duration": 22,
    "start_time": "2023-01-31T15:36:49.212Z"
   },
   {
    "duration": 36,
    "start_time": "2023-01-31T15:36:49.236Z"
   },
   {
    "duration": 35,
    "start_time": "2023-01-31T15:36:49.273Z"
   },
   {
    "duration": 25,
    "start_time": "2023-01-31T15:36:49.310Z"
   },
   {
    "duration": 35,
    "start_time": "2023-01-31T15:36:49.337Z"
   },
   {
    "duration": 61,
    "start_time": "2023-01-31T15:36:49.374Z"
   },
   {
    "duration": 6,
    "start_time": "2023-01-31T15:36:49.437Z"
   },
   {
    "duration": 34,
    "start_time": "2023-01-31T15:36:49.444Z"
   },
   {
    "duration": 28,
    "start_time": "2023-01-31T15:36:49.480Z"
   },
   {
    "duration": 236,
    "start_time": "2023-01-31T15:36:49.510Z"
   },
   {
    "duration": 292,
    "start_time": "2023-01-31T15:36:49.748Z"
   },
   {
    "duration": 262,
    "start_time": "2023-01-31T15:36:50.042Z"
   },
   {
    "duration": 260,
    "start_time": "2023-01-31T15:36:50.307Z"
   },
   {
    "duration": 194,
    "start_time": "2023-01-31T15:36:50.568Z"
   },
   {
    "duration": 184,
    "start_time": "2023-01-31T15:36:50.764Z"
   },
   {
    "duration": 200,
    "start_time": "2023-01-31T15:36:50.950Z"
   },
   {
    "duration": 212,
    "start_time": "2023-01-31T15:36:51.151Z"
   },
   {
    "duration": 7,
    "start_time": "2023-01-31T15:36:51.365Z"
   },
   {
    "duration": 192,
    "start_time": "2023-01-31T15:36:51.375Z"
   },
   {
    "duration": 201,
    "start_time": "2023-01-31T15:36:51.570Z"
   },
   {
    "duration": 159,
    "start_time": "2023-01-31T15:36:51.773Z"
   },
   {
    "duration": 161,
    "start_time": "2023-01-31T15:36:51.935Z"
   },
   {
    "duration": 144,
    "start_time": "2023-01-31T15:36:52.098Z"
   },
   {
    "duration": 142,
    "start_time": "2023-01-31T15:36:52.248Z"
   },
   {
    "duration": 194,
    "start_time": "2023-01-31T15:36:52.392Z"
   },
   {
    "duration": 213,
    "start_time": "2023-01-31T15:36:52.589Z"
   },
   {
    "duration": 197,
    "start_time": "2023-01-31T15:36:52.805Z"
   },
   {
    "duration": 151,
    "start_time": "2023-01-31T15:36:53.005Z"
   },
   {
    "duration": 146,
    "start_time": "2023-01-31T15:36:53.159Z"
   },
   {
    "duration": 99,
    "start_time": "2023-01-31T15:36:53.307Z"
   },
   {
    "duration": 50,
    "start_time": "2023-02-01T07:06:04.119Z"
   },
   {
    "duration": 6,
    "start_time": "2023-02-01T07:10:08.338Z"
   },
   {
    "duration": 6,
    "start_time": "2023-02-01T07:15:37.478Z"
   },
   {
    "duration": 1401,
    "start_time": "2023-02-01T07:16:05.993Z"
   },
   {
    "duration": 30,
    "start_time": "2023-02-01T07:16:07.396Z"
   },
   {
    "duration": 14,
    "start_time": "2023-02-01T07:16:07.428Z"
   },
   {
    "duration": 15,
    "start_time": "2023-02-01T07:16:07.444Z"
   },
   {
    "duration": 36,
    "start_time": "2023-02-01T07:16:07.460Z"
   },
   {
    "duration": 10,
    "start_time": "2023-02-01T07:16:07.498Z"
   },
   {
    "duration": 21,
    "start_time": "2023-02-01T07:16:07.510Z"
   },
   {
    "duration": 15,
    "start_time": "2023-02-01T07:16:07.533Z"
   },
   {
    "duration": 8,
    "start_time": "2023-02-01T07:16:07.550Z"
   },
   {
    "duration": 38,
    "start_time": "2023-02-01T07:16:07.562Z"
   },
   {
    "duration": 7,
    "start_time": "2023-02-01T07:16:07.602Z"
   },
   {
    "duration": 12,
    "start_time": "2023-02-01T07:16:07.611Z"
   },
   {
    "duration": 12,
    "start_time": "2023-02-01T07:16:07.625Z"
   },
   {
    "duration": 16,
    "start_time": "2023-02-01T07:16:07.638Z"
   },
   {
    "duration": 45,
    "start_time": "2023-02-01T07:16:07.656Z"
   },
   {
    "duration": 7,
    "start_time": "2023-02-01T07:16:07.702Z"
   },
   {
    "duration": 15,
    "start_time": "2023-02-01T07:16:07.711Z"
   },
   {
    "duration": 11,
    "start_time": "2023-02-01T07:16:07.727Z"
   },
   {
    "duration": 238,
    "start_time": "2023-02-01T07:16:07.740Z"
   },
   {
    "duration": 284,
    "start_time": "2023-02-01T07:16:07.980Z"
   },
   {
    "duration": 203,
    "start_time": "2023-02-01T07:16:08.266Z"
   },
   {
    "duration": 250,
    "start_time": "2023-02-01T07:16:08.471Z"
   },
   {
    "duration": 192,
    "start_time": "2023-02-01T07:16:08.722Z"
   },
   {
    "duration": 197,
    "start_time": "2023-02-01T07:16:08.915Z"
   },
   {
    "duration": 197,
    "start_time": "2023-02-01T07:16:09.114Z"
   },
   {
    "duration": 187,
    "start_time": "2023-02-01T07:16:09.313Z"
   },
   {
    "duration": 6,
    "start_time": "2023-02-01T07:16:09.502Z"
   },
   {
    "duration": 177,
    "start_time": "2023-02-01T07:16:09.511Z"
   },
   {
    "duration": 150,
    "start_time": "2023-02-01T07:16:09.689Z"
   },
   {
    "duration": 136,
    "start_time": "2023-02-01T07:16:09.841Z"
   },
   {
    "duration": 157,
    "start_time": "2023-02-01T07:16:09.979Z"
   },
   {
    "duration": 131,
    "start_time": "2023-02-01T07:16:10.138Z"
   },
   {
    "duration": 149,
    "start_time": "2023-02-01T07:16:10.271Z"
   },
   {
    "duration": 199,
    "start_time": "2023-02-01T07:16:10.422Z"
   },
   {
    "duration": 144,
    "start_time": "2023-02-01T07:16:10.622Z"
   },
   {
    "duration": 143,
    "start_time": "2023-02-01T07:16:10.768Z"
   },
   {
    "duration": 147,
    "start_time": "2023-02-01T07:16:10.912Z"
   },
   {
    "duration": 150,
    "start_time": "2023-02-01T07:16:11.061Z"
   },
   {
    "duration": 218,
    "start_time": "2023-02-01T07:16:11.213Z"
   },
   {
    "duration": 275,
    "start_time": "2023-02-01T07:16:31.687Z"
   },
   {
    "duration": 285,
    "start_time": "2023-02-01T07:24:12.154Z"
   },
   {
    "duration": 11,
    "start_time": "2023-02-01T07:24:35.347Z"
   },
   {
    "duration": 164,
    "start_time": "2023-02-01T07:25:21.445Z"
   },
   {
    "duration": 279,
    "start_time": "2023-02-01T07:27:20.119Z"
   },
   {
    "duration": 283,
    "start_time": "2023-02-01T07:27:29.015Z"
   },
   {
    "duration": 8,
    "start_time": "2023-02-01T07:27:36.714Z"
   },
   {
    "duration": 921,
    "start_time": "2023-02-01T07:29:07.925Z"
   },
   {
    "duration": 8,
    "start_time": "2023-02-01T07:29:33.777Z"
   },
   {
    "duration": 7,
    "start_time": "2023-02-01T07:31:08.520Z"
   },
   {
    "duration": 5,
    "start_time": "2023-02-01T07:32:07.406Z"
   },
   {
    "duration": 6,
    "start_time": "2023-02-01T07:32:46.795Z"
   },
   {
    "duration": 387,
    "start_time": "2023-02-01T07:35:15.394Z"
   },
   {
    "duration": 6,
    "start_time": "2023-02-01T07:36:01.183Z"
   },
   {
    "duration": 271,
    "start_time": "2023-02-01T07:38:42.002Z"
   },
   {
    "duration": 275,
    "start_time": "2023-02-01T07:39:13.808Z"
   },
   {
    "duration": 305,
    "start_time": "2023-02-01T07:39:37.252Z"
   },
   {
    "duration": 6,
    "start_time": "2023-02-01T07:40:26.461Z"
   },
   {
    "duration": 711,
    "start_time": "2023-02-01T07:44:47.683Z"
   },
   {
    "duration": 29,
    "start_time": "2023-02-01T07:44:48.397Z"
   },
   {
    "duration": 14,
    "start_time": "2023-02-01T07:44:48.427Z"
   },
   {
    "duration": 15,
    "start_time": "2023-02-01T07:44:48.442Z"
   },
   {
    "duration": 39,
    "start_time": "2023-02-01T07:44:48.458Z"
   },
   {
    "duration": 4,
    "start_time": "2023-02-01T07:44:48.498Z"
   },
   {
    "duration": 14,
    "start_time": "2023-02-01T07:44:48.504Z"
   },
   {
    "duration": 14,
    "start_time": "2023-02-01T07:44:48.519Z"
   },
   {
    "duration": 8,
    "start_time": "2023-02-01T07:44:48.535Z"
   },
   {
    "duration": 16,
    "start_time": "2023-02-01T07:44:48.545Z"
   },
   {
    "duration": 8,
    "start_time": "2023-02-01T07:44:48.591Z"
   },
   {
    "duration": 9,
    "start_time": "2023-02-01T07:44:48.601Z"
   },
   {
    "duration": 47,
    "start_time": "2023-02-01T07:44:48.612Z"
   },
   {
    "duration": 16,
    "start_time": "2023-02-01T07:44:48.660Z"
   },
   {
    "duration": 23,
    "start_time": "2023-02-01T07:44:48.678Z"
   },
   {
    "duration": 8,
    "start_time": "2023-02-01T07:44:48.702Z"
   },
   {
    "duration": 12,
    "start_time": "2023-02-01T07:44:48.711Z"
   },
   {
    "duration": 9,
    "start_time": "2023-02-01T07:44:48.725Z"
   },
   {
    "duration": 226,
    "start_time": "2023-02-01T07:44:48.736Z"
   },
   {
    "duration": 292,
    "start_time": "2023-02-01T07:44:48.964Z"
   },
   {
    "duration": 197,
    "start_time": "2023-02-01T07:44:49.257Z"
   },
   {
    "duration": 255,
    "start_time": "2023-02-01T07:44:49.456Z"
   },
   {
    "duration": 198,
    "start_time": "2023-02-01T07:44:49.713Z"
   },
   {
    "duration": 195,
    "start_time": "2023-02-01T07:44:49.912Z"
   },
   {
    "duration": 194,
    "start_time": "2023-02-01T07:44:50.109Z"
   },
   {
    "duration": 197,
    "start_time": "2023-02-01T07:44:50.305Z"
   },
   {
    "duration": 7,
    "start_time": "2023-02-01T07:44:50.503Z"
   },
   {
    "duration": 184,
    "start_time": "2023-02-01T07:44:50.513Z"
   },
   {
    "duration": 147,
    "start_time": "2023-02-01T07:44:50.699Z"
   },
   {
    "duration": 166,
    "start_time": "2023-02-01T07:44:50.848Z"
   },
   {
    "duration": 134,
    "start_time": "2023-02-01T07:44:51.016Z"
   },
   {
    "duration": 150,
    "start_time": "2023-02-01T07:44:51.152Z"
   },
   {
    "duration": 141,
    "start_time": "2023-02-01T07:44:51.304Z"
   },
   {
    "duration": 209,
    "start_time": "2023-02-01T07:44:51.447Z"
   },
   {
    "duration": 146,
    "start_time": "2023-02-01T07:44:51.657Z"
   },
   {
    "duration": 150,
    "start_time": "2023-02-01T07:44:51.805Z"
   },
   {
    "duration": 160,
    "start_time": "2023-02-01T07:44:51.957Z"
   },
   {
    "duration": 141,
    "start_time": "2023-02-01T07:44:52.118Z"
   },
   {
    "duration": 266,
    "start_time": "2023-02-01T07:44:52.260Z"
   },
   {
    "duration": 301,
    "start_time": "2023-02-01T07:44:52.528Z"
   },
   {
    "duration": 7,
    "start_time": "2023-02-01T07:44:52.831Z"
   },
   {
    "duration": 321,
    "start_time": "2023-02-01T07:44:52.840Z"
   },
   {
    "duration": 7,
    "start_time": "2023-02-01T07:44:53.162Z"
   },
   {
    "duration": 314,
    "start_time": "2023-02-01T07:44:53.171Z"
   },
   {
    "duration": 7,
    "start_time": "2023-02-01T07:44:53.492Z"
   },
   {
    "duration": 54,
    "start_time": "2023-02-01T07:44:53.501Z"
   },
   {
    "duration": 0,
    "start_time": "2023-02-01T07:44:53.557Z"
   },
   {
    "duration": 0,
    "start_time": "2023-02-01T07:44:53.558Z"
   },
   {
    "duration": 285,
    "start_time": "2023-02-01T07:45:54.785Z"
   },
   {
    "duration": 7,
    "start_time": "2023-02-01T07:45:59.886Z"
   },
   {
    "duration": 88,
    "start_time": "2023-02-01T07:51:13.477Z"
   },
   {
    "duration": 9,
    "start_time": "2023-02-01T07:52:31.590Z"
   },
   {
    "duration": 125,
    "start_time": "2023-02-01T07:53:24.428Z"
   },
   {
    "duration": 355,
    "start_time": "2023-02-01T07:53:49.547Z"
   },
   {
    "duration": 278,
    "start_time": "2023-02-01T07:54:15.639Z"
   },
   {
    "duration": 262,
    "start_time": "2023-02-01T07:54:32.084Z"
   },
   {
    "duration": 18,
    "start_time": "2023-02-01T08:03:15.079Z"
   },
   {
    "duration": 134,
    "start_time": "2023-02-01T08:04:49.442Z"
   },
   {
    "duration": 434,
    "start_time": "2023-02-01T08:05:30.832Z"
   },
   {
    "duration": 408,
    "start_time": "2023-02-01T08:10:05.222Z"
   },
   {
    "duration": 8,
    "start_time": "2023-02-01T08:18:04.303Z"
   },
   {
    "duration": 8,
    "start_time": "2023-02-01T08:18:21.496Z"
   },
   {
    "duration": 9,
    "start_time": "2023-02-01T08:18:56.125Z"
   },
   {
    "duration": 7,
    "start_time": "2023-02-01T08:21:28.936Z"
   },
   {
    "duration": 8,
    "start_time": "2023-02-01T08:21:41.193Z"
   },
   {
    "duration": 10,
    "start_time": "2023-02-01T08:22:29.367Z"
   },
   {
    "duration": 10,
    "start_time": "2023-02-01T08:26:24.444Z"
   },
   {
    "duration": 11,
    "start_time": "2023-02-01T08:27:56.304Z"
   },
   {
    "duration": 9,
    "start_time": "2023-02-01T08:27:57.423Z"
   },
   {
    "duration": 9,
    "start_time": "2023-02-01T08:27:58.605Z"
   },
   {
    "duration": 299,
    "start_time": "2023-02-01T08:31:54.830Z"
   },
   {
    "duration": 10,
    "start_time": "2023-02-01T08:45:48.068Z"
   },
   {
    "duration": 9,
    "start_time": "2023-02-01T08:46:07.617Z"
   },
   {
    "duration": 9,
    "start_time": "2023-02-01T08:47:21.179Z"
   },
   {
    "duration": 8,
    "start_time": "2023-02-01T08:49:44.158Z"
   },
   {
    "duration": 12,
    "start_time": "2023-02-01T08:50:06.637Z"
   },
   {
    "duration": 17,
    "start_time": "2023-02-01T08:56:50.248Z"
   },
   {
    "duration": 13,
    "start_time": "2023-02-01T08:58:37.692Z"
   },
   {
    "duration": 14,
    "start_time": "2023-02-01T09:00:33.440Z"
   },
   {
    "duration": 389,
    "start_time": "2023-02-01T09:02:29.314Z"
   },
   {
    "duration": 10,
    "start_time": "2023-02-01T09:02:33.687Z"
   },
   {
    "duration": 11,
    "start_time": "2023-02-01T09:02:39.664Z"
   },
   {
    "duration": 3,
    "start_time": "2023-02-01T09:04:53.551Z"
   },
   {
    "duration": 11,
    "start_time": "2023-02-01T09:04:55.187Z"
   },
   {
    "duration": 48,
    "start_time": "2023-02-01T09:08:53.890Z"
   },
   {
    "duration": 37,
    "start_time": "2023-02-01T09:10:03.654Z"
   },
   {
    "duration": 10,
    "start_time": "2023-02-01T09:11:23.700Z"
   },
   {
    "duration": 8,
    "start_time": "2023-02-01T09:11:47.041Z"
   },
   {
    "duration": 14,
    "start_time": "2023-02-01T09:16:02.915Z"
   },
   {
    "duration": 9,
    "start_time": "2023-02-01T09:18:50.363Z"
   },
   {
    "duration": 9,
    "start_time": "2023-02-01T09:19:18.886Z"
   },
   {
    "duration": 57,
    "start_time": "2023-02-01T09:30:04.274Z"
   },
   {
    "duration": 59,
    "start_time": "2023-02-01T09:30:04.667Z"
   },
   {
    "duration": 53,
    "start_time": "2023-02-01T09:30:05.270Z"
   },
   {
    "duration": 79,
    "start_time": "2023-02-01T09:30:05.847Z"
   },
   {
    "duration": 121,
    "start_time": "2023-02-01T09:34:40.168Z"
   },
   {
    "duration": 693,
    "start_time": "2023-02-01T10:29:09.425Z"
   },
   {
    "duration": 30,
    "start_time": "2023-02-01T10:29:10.121Z"
   },
   {
    "duration": 13,
    "start_time": "2023-02-01T10:29:10.153Z"
   },
   {
    "duration": 34,
    "start_time": "2023-02-01T10:29:10.168Z"
   },
   {
    "duration": 11,
    "start_time": "2023-02-01T10:29:10.204Z"
   },
   {
    "duration": 7,
    "start_time": "2023-02-01T10:29:10.216Z"
   },
   {
    "duration": 14,
    "start_time": "2023-02-01T10:29:10.224Z"
   },
   {
    "duration": 21,
    "start_time": "2023-02-01T10:29:10.240Z"
   },
   {
    "duration": 29,
    "start_time": "2023-02-01T10:29:10.263Z"
   },
   {
    "duration": 17,
    "start_time": "2023-02-01T10:29:10.295Z"
   },
   {
    "duration": 6,
    "start_time": "2023-02-01T10:29:10.314Z"
   },
   {
    "duration": 13,
    "start_time": "2023-02-01T10:29:10.321Z"
   },
   {
    "duration": 10,
    "start_time": "2023-02-01T10:29:10.336Z"
   },
   {
    "duration": 15,
    "start_time": "2023-02-01T10:29:10.348Z"
   },
   {
    "duration": 50,
    "start_time": "2023-02-01T10:29:10.364Z"
   },
   {
    "duration": 6,
    "start_time": "2023-02-01T10:29:10.416Z"
   },
   {
    "duration": 21,
    "start_time": "2023-02-01T10:29:10.424Z"
   },
   {
    "duration": 9,
    "start_time": "2023-02-01T10:29:10.448Z"
   },
   {
    "duration": 220,
    "start_time": "2023-02-01T10:29:10.458Z"
   },
   {
    "duration": 282,
    "start_time": "2023-02-01T10:29:10.680Z"
   },
   {
    "duration": 204,
    "start_time": "2023-02-01T10:29:10.964Z"
   },
   {
    "duration": 253,
    "start_time": "2023-02-01T10:29:11.170Z"
   },
   {
    "duration": 204,
    "start_time": "2023-02-01T10:29:11.425Z"
   },
   {
    "duration": 212,
    "start_time": "2023-02-01T10:29:11.631Z"
   },
   {
    "duration": 190,
    "start_time": "2023-02-01T10:29:11.845Z"
   },
   {
    "duration": 198,
    "start_time": "2023-02-01T10:29:12.037Z"
   },
   {
    "duration": 8,
    "start_time": "2023-02-01T10:29:12.237Z"
   },
   {
    "duration": 179,
    "start_time": "2023-02-01T10:29:12.249Z"
   },
   {
    "duration": 143,
    "start_time": "2023-02-01T10:29:12.430Z"
   },
   {
    "duration": 149,
    "start_time": "2023-02-01T10:29:12.575Z"
   },
   {
    "duration": 133,
    "start_time": "2023-02-01T10:29:12.726Z"
   },
   {
    "duration": 132,
    "start_time": "2023-02-01T10:29:12.861Z"
   },
   {
    "duration": 141,
    "start_time": "2023-02-01T10:29:12.995Z"
   },
   {
    "duration": 218,
    "start_time": "2023-02-01T10:29:13.138Z"
   },
   {
    "duration": 146,
    "start_time": "2023-02-01T10:29:13.358Z"
   },
   {
    "duration": 155,
    "start_time": "2023-02-01T10:29:13.506Z"
   },
   {
    "duration": 141,
    "start_time": "2023-02-01T10:29:13.663Z"
   },
   {
    "duration": 141,
    "start_time": "2023-02-01T10:29:13.806Z"
   },
   {
    "duration": 254,
    "start_time": "2023-02-01T10:29:13.949Z"
   },
   {
    "duration": 294,
    "start_time": "2023-02-01T10:29:14.204Z"
   },
   {
    "duration": 6,
    "start_time": "2023-02-01T10:29:14.500Z"
   },
   {
    "duration": 292,
    "start_time": "2023-02-01T10:29:14.507Z"
   },
   {
    "duration": 5,
    "start_time": "2023-02-01T10:29:14.801Z"
   },
   {
    "duration": 305,
    "start_time": "2023-02-01T10:29:14.808Z"
   },
   {
    "duration": 6,
    "start_time": "2023-02-01T10:29:15.115Z"
   },
   {
    "duration": 295,
    "start_time": "2023-02-01T10:29:15.123Z"
   },
   {
    "duration": 6,
    "start_time": "2023-02-01T10:29:15.420Z"
   },
   {
    "duration": 367,
    "start_time": "2023-02-01T10:29:15.427Z"
   },
   {
    "duration": 465,
    "start_time": "2023-02-01T10:29:15.796Z"
   },
   {
    "duration": 393,
    "start_time": "2023-02-01T10:29:16.263Z"
   },
   {
    "duration": 10,
    "start_time": "2023-02-01T10:29:16.657Z"
   },
   {
    "duration": 25,
    "start_time": "2023-02-01T10:29:16.669Z"
   },
   {
    "duration": 9,
    "start_time": "2023-02-01T10:29:16.695Z"
   },
   {
    "duration": 197,
    "start_time": "2023-02-01T10:29:16.706Z"
   },
   {
    "duration": 411,
    "start_time": "2023-02-01T10:29:16.905Z"
   },
   {
    "duration": 8,
    "start_time": "2023-02-01T10:29:17.318Z"
   },
   {
    "duration": 8,
    "start_time": "2023-02-01T10:29:17.328Z"
   },
   {
    "duration": 806,
    "start_time": "2023-02-01T10:52:25.093Z"
   },
   {
    "duration": 36,
    "start_time": "2023-02-01T10:52:25.902Z"
   },
   {
    "duration": 15,
    "start_time": "2023-02-01T10:52:25.939Z"
   },
   {
    "duration": 23,
    "start_time": "2023-02-01T10:52:25.956Z"
   },
   {
    "duration": 10,
    "start_time": "2023-02-01T10:52:25.981Z"
   },
   {
    "duration": 34,
    "start_time": "2023-02-01T10:52:25.993Z"
   },
   {
    "duration": 14,
    "start_time": "2023-02-01T10:52:26.035Z"
   },
   {
    "duration": 16,
    "start_time": "2023-02-01T10:52:26.051Z"
   },
   {
    "duration": 23,
    "start_time": "2023-02-01T10:52:26.069Z"
   },
   {
    "duration": 23,
    "start_time": "2023-02-01T10:52:26.094Z"
   },
   {
    "duration": 9,
    "start_time": "2023-02-01T10:52:26.118Z"
   },
   {
    "duration": 18,
    "start_time": "2023-02-01T10:52:26.134Z"
   },
   {
    "duration": 10,
    "start_time": "2023-02-01T10:52:26.153Z"
   },
   {
    "duration": 34,
    "start_time": "2023-02-01T10:52:26.168Z"
   },
   {
    "duration": 37,
    "start_time": "2023-02-01T10:52:26.204Z"
   },
   {
    "duration": 10,
    "start_time": "2023-02-01T10:52:26.242Z"
   },
   {
    "duration": 16,
    "start_time": "2023-02-01T10:52:26.254Z"
   },
   {
    "duration": 28,
    "start_time": "2023-02-01T10:52:26.272Z"
   },
   {
    "duration": 251,
    "start_time": "2023-02-01T10:52:26.302Z"
   },
   {
    "duration": 312,
    "start_time": "2023-02-01T10:52:26.555Z"
   },
   {
    "duration": 221,
    "start_time": "2023-02-01T10:52:26.869Z"
   },
   {
    "duration": 273,
    "start_time": "2023-02-01T10:52:27.092Z"
   },
   {
    "duration": 209,
    "start_time": "2023-02-01T10:52:27.367Z"
   },
   {
    "duration": 213,
    "start_time": "2023-02-01T10:52:27.578Z"
   },
   {
    "duration": 209,
    "start_time": "2023-02-01T10:52:27.793Z"
   },
   {
    "duration": 208,
    "start_time": "2023-02-01T10:52:28.004Z"
   },
   {
    "duration": 19,
    "start_time": "2023-02-01T10:52:28.214Z"
   },
   {
    "duration": 180,
    "start_time": "2023-02-01T10:52:28.239Z"
   },
   {
    "duration": 161,
    "start_time": "2023-02-01T10:52:28.426Z"
   },
   {
    "duration": 163,
    "start_time": "2023-02-01T10:52:28.589Z"
   },
   {
    "duration": 142,
    "start_time": "2023-02-01T10:52:28.753Z"
   },
   {
    "duration": 182,
    "start_time": "2023-02-01T10:52:28.897Z"
   },
   {
    "duration": 176,
    "start_time": "2023-02-01T10:52:29.080Z"
   },
   {
    "duration": 212,
    "start_time": "2023-02-01T10:52:29.257Z"
   },
   {
    "duration": 169,
    "start_time": "2023-02-01T10:52:29.470Z"
   },
   {
    "duration": 155,
    "start_time": "2023-02-01T10:52:29.641Z"
   },
   {
    "duration": 164,
    "start_time": "2023-02-01T10:52:29.798Z"
   },
   {
    "duration": 149,
    "start_time": "2023-02-01T10:52:29.964Z"
   },
   {
    "duration": 288,
    "start_time": "2023-02-01T10:52:30.120Z"
   },
   {
    "duration": 335,
    "start_time": "2023-02-01T10:52:30.410Z"
   },
   {
    "duration": 6,
    "start_time": "2023-02-01T10:52:30.749Z"
   },
   {
    "duration": 355,
    "start_time": "2023-02-01T10:52:30.757Z"
   },
   {
    "duration": 17,
    "start_time": "2023-02-01T10:52:31.114Z"
   },
   {
    "duration": 340,
    "start_time": "2023-02-01T10:52:31.133Z"
   },
   {
    "duration": 6,
    "start_time": "2023-02-01T10:52:31.475Z"
   },
   {
    "duration": 321,
    "start_time": "2023-02-01T10:52:31.482Z"
   },
   {
    "duration": 7,
    "start_time": "2023-02-01T10:52:31.805Z"
   },
   {
    "duration": 416,
    "start_time": "2023-02-01T10:52:31.824Z"
   },
   {
    "duration": 464,
    "start_time": "2023-02-01T10:52:32.241Z"
   },
   {
    "duration": 456,
    "start_time": "2023-02-01T10:52:32.707Z"
   },
   {
    "duration": 11,
    "start_time": "2023-02-01T10:52:33.165Z"
   },
   {
    "duration": 11,
    "start_time": "2023-02-01T10:52:33.178Z"
   },
   {
    "duration": 40,
    "start_time": "2023-02-01T10:52:33.191Z"
   },
   {
    "duration": 262,
    "start_time": "2023-02-01T10:52:33.233Z"
   },
   {
    "duration": 457,
    "start_time": "2023-02-01T10:52:33.497Z"
   },
   {
    "duration": 9,
    "start_time": "2023-02-01T10:52:33.956Z"
   },
   {
    "duration": 10,
    "start_time": "2023-02-01T10:52:33.967Z"
   },
   {
    "duration": 6,
    "start_time": "2023-02-01T11:37:55.512Z"
   },
   {
    "duration": 660,
    "start_time": "2023-02-01T11:38:12.835Z"
   },
   {
    "duration": 31,
    "start_time": "2023-02-01T11:38:13.497Z"
   },
   {
    "duration": 35,
    "start_time": "2023-02-01T11:38:13.530Z"
   },
   {
    "duration": 36,
    "start_time": "2023-02-01T11:38:13.567Z"
   },
   {
    "duration": 17,
    "start_time": "2023-02-01T11:38:13.604Z"
   },
   {
    "duration": 10,
    "start_time": "2023-02-01T11:38:13.623Z"
   },
   {
    "duration": 4,
    "start_time": "2023-02-01T11:38:13.634Z"
   },
   {
    "duration": 16,
    "start_time": "2023-02-01T11:38:13.640Z"
   },
   {
    "duration": 47,
    "start_time": "2023-02-01T11:38:13.657Z"
   },
   {
    "duration": 8,
    "start_time": "2023-02-01T11:38:13.706Z"
   },
   {
    "duration": 21,
    "start_time": "2023-02-01T11:38:13.715Z"
   },
   {
    "duration": 7,
    "start_time": "2023-02-01T11:38:13.737Z"
   },
   {
    "duration": 23,
    "start_time": "2023-02-01T11:38:13.746Z"
   },
   {
    "duration": 23,
    "start_time": "2023-02-01T11:38:13.770Z"
   },
   {
    "duration": 13,
    "start_time": "2023-02-01T11:38:13.795Z"
   },
   {
    "duration": 23,
    "start_time": "2023-02-01T11:38:13.809Z"
   },
   {
    "duration": 6,
    "start_time": "2023-02-01T11:38:13.834Z"
   },
   {
    "duration": 11,
    "start_time": "2023-02-01T11:38:13.842Z"
   },
   {
    "duration": 38,
    "start_time": "2023-02-01T11:38:13.855Z"
   },
   {
    "duration": 200,
    "start_time": "2023-02-01T11:38:13.894Z"
   },
   {
    "duration": 287,
    "start_time": "2023-02-01T11:38:14.096Z"
   },
   {
    "duration": 183,
    "start_time": "2023-02-01T11:38:14.385Z"
   },
   {
    "duration": 239,
    "start_time": "2023-02-01T11:38:14.569Z"
   },
   {
    "duration": 189,
    "start_time": "2023-02-01T11:38:14.810Z"
   },
   {
    "duration": 185,
    "start_time": "2023-02-01T11:38:15.001Z"
   },
   {
    "duration": 185,
    "start_time": "2023-02-01T11:38:15.192Z"
   },
   {
    "duration": 185,
    "start_time": "2023-02-01T11:38:15.379Z"
   },
   {
    "duration": 6,
    "start_time": "2023-02-01T11:38:15.567Z"
   },
   {
    "duration": 171,
    "start_time": "2023-02-01T11:38:15.575Z"
   },
   {
    "duration": 133,
    "start_time": "2023-02-01T11:38:15.749Z"
   },
   {
    "duration": 151,
    "start_time": "2023-02-01T11:38:15.884Z"
   },
   {
    "duration": 133,
    "start_time": "2023-02-01T11:38:16.037Z"
   },
   {
    "duration": 189,
    "start_time": "2023-02-01T11:38:16.172Z"
   },
   {
    "duration": 170,
    "start_time": "2023-02-01T11:38:16.362Z"
   },
   {
    "duration": 200,
    "start_time": "2023-02-01T11:38:16.534Z"
   },
   {
    "duration": 138,
    "start_time": "2023-02-01T11:38:16.736Z"
   },
   {
    "duration": 144,
    "start_time": "2023-02-01T11:38:16.876Z"
   },
   {
    "duration": 139,
    "start_time": "2023-02-01T11:38:17.021Z"
   },
   {
    "duration": 144,
    "start_time": "2023-02-01T11:38:17.162Z"
   },
   {
    "duration": 256,
    "start_time": "2023-02-01T11:38:17.308Z"
   },
   {
    "duration": 307,
    "start_time": "2023-02-01T11:38:17.566Z"
   },
   {
    "duration": 6,
    "start_time": "2023-02-01T11:38:17.875Z"
   },
   {
    "duration": 339,
    "start_time": "2023-02-01T11:38:17.883Z"
   },
   {
    "duration": 7,
    "start_time": "2023-02-01T11:38:18.224Z"
   },
   {
    "duration": 300,
    "start_time": "2023-02-01T11:38:18.233Z"
   },
   {
    "duration": 6,
    "start_time": "2023-02-01T11:38:18.535Z"
   },
   {
    "duration": 316,
    "start_time": "2023-02-01T11:38:18.543Z"
   },
   {
    "duration": 7,
    "start_time": "2023-02-01T11:38:18.862Z"
   },
   {
    "duration": 363,
    "start_time": "2023-02-01T11:38:18.871Z"
   },
   {
    "duration": 406,
    "start_time": "2023-02-01T11:38:19.236Z"
   },
   {
    "duration": 405,
    "start_time": "2023-02-01T11:38:19.645Z"
   },
   {
    "duration": 9,
    "start_time": "2023-02-01T11:38:20.052Z"
   },
   {
    "duration": 21,
    "start_time": "2023-02-01T11:38:20.062Z"
   },
   {
    "duration": 12,
    "start_time": "2023-02-01T11:38:20.091Z"
   },
   {
    "duration": 211,
    "start_time": "2023-02-01T11:38:20.104Z"
   },
   {
    "duration": 656,
    "start_time": "2023-02-01T11:38:20.317Z"
   },
   {
    "duration": 8,
    "start_time": "2023-02-01T11:38:20.975Z"
   },
   {
    "duration": 16,
    "start_time": "2023-02-01T11:38:20.985Z"
   },
   {
    "duration": 57,
    "start_time": "2023-02-01T11:50:40.141Z"
   },
   {
    "duration": 59,
    "start_time": "2023-02-02T06:52:39.052Z"
   },
   {
    "duration": 44,
    "start_time": "2023-02-02T06:53:21.979Z"
   },
   {
    "duration": 6,
    "start_time": "2023-02-02T07:02:06.929Z"
   },
   {
    "duration": 1187,
    "start_time": "2023-02-02T07:02:26.967Z"
   },
   {
    "duration": 30,
    "start_time": "2023-02-02T07:02:28.160Z"
   },
   {
    "duration": 47,
    "start_time": "2023-02-02T07:02:28.192Z"
   },
   {
    "duration": 22,
    "start_time": "2023-02-02T07:02:28.240Z"
   },
   {
    "duration": 34,
    "start_time": "2023-02-02T07:02:28.264Z"
   },
   {
    "duration": 14,
    "start_time": "2023-02-02T07:02:28.299Z"
   },
   {
    "duration": 19,
    "start_time": "2023-02-02T07:02:28.316Z"
   },
   {
    "duration": 33,
    "start_time": "2023-02-02T07:02:28.337Z"
   },
   {
    "duration": 23,
    "start_time": "2023-02-02T07:02:28.372Z"
   },
   {
    "duration": 11,
    "start_time": "2023-02-02T07:02:28.398Z"
   },
   {
    "duration": 57,
    "start_time": "2023-02-02T07:02:28.411Z"
   },
   {
    "duration": 10,
    "start_time": "2023-02-02T07:02:28.470Z"
   },
   {
    "duration": 37,
    "start_time": "2023-02-02T07:02:28.481Z"
   },
   {
    "duration": 47,
    "start_time": "2023-02-02T07:02:28.520Z"
   },
   {
    "duration": 27,
    "start_time": "2023-02-02T07:02:28.569Z"
   },
   {
    "duration": 24,
    "start_time": "2023-02-02T07:02:28.598Z"
   },
   {
    "duration": 6,
    "start_time": "2023-02-02T07:02:28.624Z"
   },
   {
    "duration": 60,
    "start_time": "2023-02-02T07:02:28.632Z"
   },
   {
    "duration": 25,
    "start_time": "2023-02-02T07:02:28.694Z"
   },
   {
    "duration": 217,
    "start_time": "2023-02-02T07:02:28.721Z"
   },
   {
    "duration": 289,
    "start_time": "2023-02-02T07:02:28.943Z"
   },
   {
    "duration": 226,
    "start_time": "2023-02-02T07:02:29.234Z"
   },
   {
    "duration": 248,
    "start_time": "2023-02-02T07:02:29.462Z"
   },
   {
    "duration": 208,
    "start_time": "2023-02-02T07:02:29.712Z"
   },
   {
    "duration": 185,
    "start_time": "2023-02-02T07:02:29.921Z"
   },
   {
    "duration": 179,
    "start_time": "2023-02-02T07:02:30.108Z"
   },
   {
    "duration": 199,
    "start_time": "2023-02-02T07:02:30.289Z"
   },
   {
    "duration": 7,
    "start_time": "2023-02-02T07:02:30.493Z"
   },
   {
    "duration": 266,
    "start_time": "2023-02-02T07:02:30.502Z"
   },
   {
    "duration": 152,
    "start_time": "2023-02-02T07:02:30.769Z"
   },
   {
    "duration": 207,
    "start_time": "2023-02-02T07:02:30.923Z"
   },
   {
    "duration": 151,
    "start_time": "2023-02-02T07:02:31.132Z"
   },
   {
    "duration": 149,
    "start_time": "2023-02-02T07:02:31.285Z"
   },
   {
    "duration": 161,
    "start_time": "2023-02-02T07:02:31.443Z"
   },
   {
    "duration": 205,
    "start_time": "2023-02-02T07:02:31.606Z"
   },
   {
    "duration": 157,
    "start_time": "2023-02-02T07:02:31.813Z"
   },
   {
    "duration": 135,
    "start_time": "2023-02-02T07:02:31.971Z"
   },
   {
    "duration": 142,
    "start_time": "2023-02-02T07:02:32.108Z"
   },
   {
    "duration": 127,
    "start_time": "2023-02-02T07:02:32.252Z"
   },
   {
    "duration": 251,
    "start_time": "2023-02-02T07:02:32.380Z"
   },
   {
    "duration": 329,
    "start_time": "2023-02-02T07:02:32.632Z"
   },
   {
    "duration": 7,
    "start_time": "2023-02-02T07:02:32.963Z"
   },
   {
    "duration": 316,
    "start_time": "2023-02-02T07:02:32.972Z"
   },
   {
    "duration": 5,
    "start_time": "2023-02-02T07:02:33.291Z"
   },
   {
    "duration": 288,
    "start_time": "2023-02-02T07:02:33.298Z"
   },
   {
    "duration": 6,
    "start_time": "2023-02-02T07:02:33.589Z"
   },
   {
    "duration": 294,
    "start_time": "2023-02-02T07:02:33.597Z"
   },
   {
    "duration": 6,
    "start_time": "2023-02-02T07:02:33.892Z"
   },
   {
    "duration": 367,
    "start_time": "2023-02-02T07:02:33.899Z"
   },
   {
    "duration": 487,
    "start_time": "2023-02-02T07:02:34.267Z"
   },
   {
    "duration": 490,
    "start_time": "2023-02-02T07:02:34.759Z"
   },
   {
    "duration": 11,
    "start_time": "2023-02-02T07:02:35.255Z"
   },
   {
    "duration": 42,
    "start_time": "2023-02-02T07:02:35.267Z"
   },
   {
    "duration": 43,
    "start_time": "2023-02-02T07:02:35.311Z"
   },
   {
    "duration": 238,
    "start_time": "2023-02-02T07:02:35.361Z"
   },
   {
    "duration": 436,
    "start_time": "2023-02-02T07:02:35.600Z"
   },
   {
    "duration": 15,
    "start_time": "2023-02-02T07:02:36.039Z"
   },
   {
    "duration": 34,
    "start_time": "2023-02-02T07:02:36.064Z"
   },
   {
    "duration": 385,
    "start_time": "2023-02-02T07:02:51.171Z"
   },
   {
    "duration": 233,
    "start_time": "2023-02-02T07:07:08.731Z"
   },
   {
    "duration": 257,
    "start_time": "2023-02-02T07:07:16.521Z"
   },
   {
    "duration": 251,
    "start_time": "2023-02-02T07:07:37.770Z"
   },
   {
    "duration": 243,
    "start_time": "2023-02-02T07:07:51.120Z"
   },
   {
    "duration": 233,
    "start_time": "2023-02-02T07:08:38.606Z"
   },
   {
    "duration": 498,
    "start_time": "2023-02-02T07:10:07.130Z"
   },
   {
    "duration": 362,
    "start_time": "2023-02-02T07:11:56.267Z"
   },
   {
    "duration": 223,
    "start_time": "2023-02-02T07:13:06.014Z"
   },
   {
    "duration": 418,
    "start_time": "2023-02-02T07:13:20.202Z"
   },
   {
    "duration": 15,
    "start_time": "2023-02-02T07:30:38.155Z"
   },
   {
    "duration": 9,
    "start_time": "2023-02-02T07:32:56.872Z"
   },
   {
    "duration": 9,
    "start_time": "2023-02-02T07:33:08.276Z"
   },
   {
    "duration": 1009,
    "start_time": "2023-02-02T07:33:55.427Z"
   },
   {
    "duration": 3,
    "start_time": "2023-02-02T07:34:42.470Z"
   },
   {
    "duration": 4,
    "start_time": "2023-02-02T07:36:24.036Z"
   },
   {
    "duration": 4,
    "start_time": "2023-02-02T07:39:14.095Z"
   },
   {
    "duration": 10,
    "start_time": "2023-02-02T07:39:36.148Z"
   },
   {
    "duration": 4,
    "start_time": "2023-02-02T07:39:45.001Z"
   },
   {
    "duration": 13,
    "start_time": "2023-02-02T07:39:51.308Z"
   },
   {
    "duration": 82,
    "start_time": "2023-02-02T07:46:48.688Z"
   },
   {
    "duration": 6,
    "start_time": "2023-02-02T07:46:57.181Z"
   },
   {
    "duration": 8,
    "start_time": "2023-02-02T07:47:00.360Z"
   },
   {
    "duration": 752,
    "start_time": "2023-02-02T07:48:03.288Z"
   },
   {
    "duration": 41,
    "start_time": "2023-02-02T07:48:04.042Z"
   },
   {
    "duration": 40,
    "start_time": "2023-02-02T07:48:04.089Z"
   },
   {
    "duration": 32,
    "start_time": "2023-02-02T07:48:04.131Z"
   },
   {
    "duration": 34,
    "start_time": "2023-02-02T07:48:04.166Z"
   },
   {
    "duration": 9,
    "start_time": "2023-02-02T07:48:04.202Z"
   },
   {
    "duration": 5,
    "start_time": "2023-02-02T07:48:04.212Z"
   },
   {
    "duration": 13,
    "start_time": "2023-02-02T07:48:04.218Z"
   },
   {
    "duration": 20,
    "start_time": "2023-02-02T07:48:04.233Z"
   },
   {
    "duration": 31,
    "start_time": "2023-02-02T07:48:04.255Z"
   },
   {
    "duration": 20,
    "start_time": "2023-02-02T07:48:04.288Z"
   },
   {
    "duration": 6,
    "start_time": "2023-02-02T07:48:04.309Z"
   },
   {
    "duration": 37,
    "start_time": "2023-02-02T07:48:04.316Z"
   },
   {
    "duration": 20,
    "start_time": "2023-02-02T07:48:04.356Z"
   },
   {
    "duration": 16,
    "start_time": "2023-02-02T07:48:04.378Z"
   },
   {
    "duration": 26,
    "start_time": "2023-02-02T07:48:04.396Z"
   },
   {
    "duration": 7,
    "start_time": "2023-02-02T07:48:04.424Z"
   },
   {
    "duration": 35,
    "start_time": "2023-02-02T07:48:04.432Z"
   },
   {
    "duration": 25,
    "start_time": "2023-02-02T07:48:04.468Z"
   },
   {
    "duration": 258,
    "start_time": "2023-02-02T07:48:04.495Z"
   },
   {
    "duration": 366,
    "start_time": "2023-02-02T07:48:04.755Z"
   },
   {
    "duration": 308,
    "start_time": "2023-02-02T07:48:05.123Z"
   },
   {
    "duration": 279,
    "start_time": "2023-02-02T07:48:05.433Z"
   },
   {
    "duration": 218,
    "start_time": "2023-02-02T07:48:05.714Z"
   },
   {
    "duration": 219,
    "start_time": "2023-02-02T07:48:05.934Z"
   },
   {
    "duration": 226,
    "start_time": "2023-02-02T07:48:06.156Z"
   },
   {
    "duration": 232,
    "start_time": "2023-02-02T07:48:06.387Z"
   },
   {
    "duration": 7,
    "start_time": "2023-02-02T07:48:06.621Z"
   },
   {
    "duration": 239,
    "start_time": "2023-02-02T07:48:06.629Z"
   },
   {
    "duration": 158,
    "start_time": "2023-02-02T07:48:06.870Z"
   },
   {
    "duration": 145,
    "start_time": "2023-02-02T07:48:07.030Z"
   },
   {
    "duration": 165,
    "start_time": "2023-02-02T07:48:07.180Z"
   },
   {
    "duration": 178,
    "start_time": "2023-02-02T07:48:07.347Z"
   },
   {
    "duration": 189,
    "start_time": "2023-02-02T07:48:07.528Z"
   },
   {
    "duration": 240,
    "start_time": "2023-02-02T07:48:07.718Z"
   },
   {
    "duration": 169,
    "start_time": "2023-02-02T07:48:07.960Z"
   },
   {
    "duration": 193,
    "start_time": "2023-02-02T07:48:08.131Z"
   },
   {
    "duration": 169,
    "start_time": "2023-02-02T07:48:08.326Z"
   },
   {
    "duration": 145,
    "start_time": "2023-02-02T07:48:08.497Z"
   },
   {
    "duration": 307,
    "start_time": "2023-02-02T07:48:08.645Z"
   },
   {
    "duration": 345,
    "start_time": "2023-02-02T07:48:08.954Z"
   },
   {
    "duration": 6,
    "start_time": "2023-02-02T07:48:09.300Z"
   },
   {
    "duration": 395,
    "start_time": "2023-02-02T07:48:09.308Z"
   },
   {
    "duration": 6,
    "start_time": "2023-02-02T07:48:09.705Z"
   },
   {
    "duration": 337,
    "start_time": "2023-02-02T07:48:09.712Z"
   },
   {
    "duration": 6,
    "start_time": "2023-02-02T07:48:10.052Z"
   },
   {
    "duration": 314,
    "start_time": "2023-02-02T07:48:10.060Z"
   },
   {
    "duration": 9,
    "start_time": "2023-02-02T07:48:10.380Z"
   },
   {
    "duration": 414,
    "start_time": "2023-02-02T07:48:10.392Z"
   },
   {
    "duration": 415,
    "start_time": "2023-02-02T07:48:10.808Z"
   },
   {
    "duration": 485,
    "start_time": "2023-02-02T07:48:11.224Z"
   },
   {
    "duration": 13,
    "start_time": "2023-02-02T07:48:11.711Z"
   },
   {
    "duration": 39,
    "start_time": "2023-02-02T07:48:11.726Z"
   },
   {
    "duration": 37,
    "start_time": "2023-02-02T07:48:11.767Z"
   },
   {
    "duration": 295,
    "start_time": "2023-02-02T07:48:11.806Z"
   },
   {
    "duration": 554,
    "start_time": "2023-02-02T07:48:12.103Z"
   },
   {
    "duration": 17,
    "start_time": "2023-02-02T07:48:12.660Z"
   },
   {
    "duration": 11,
    "start_time": "2023-02-02T07:48:12.682Z"
   },
   {
    "duration": 41,
    "start_time": "2023-02-02T08:11:32.887Z"
   },
   {
    "duration": 675,
    "start_time": "2023-02-02T08:11:55.213Z"
   },
   {
    "duration": 23,
    "start_time": "2023-02-02T08:11:55.890Z"
   },
   {
    "duration": 28,
    "start_time": "2023-02-02T08:11:55.915Z"
   },
   {
    "duration": 22,
    "start_time": "2023-02-02T08:11:55.944Z"
   },
   {
    "duration": 16,
    "start_time": "2023-02-02T08:11:55.969Z"
   },
   {
    "duration": 11,
    "start_time": "2023-02-02T08:11:55.987Z"
   },
   {
    "duration": 8,
    "start_time": "2023-02-02T08:11:56.000Z"
   },
   {
    "duration": 22,
    "start_time": "2023-02-02T08:11:56.010Z"
   },
   {
    "duration": 26,
    "start_time": "2023-02-02T08:11:56.034Z"
   },
   {
    "duration": 8,
    "start_time": "2023-02-02T08:11:56.062Z"
   },
   {
    "duration": 17,
    "start_time": "2023-02-02T08:11:56.071Z"
   },
   {
    "duration": 12,
    "start_time": "2023-02-02T08:11:56.090Z"
   },
   {
    "duration": 22,
    "start_time": "2023-02-02T08:11:56.105Z"
   },
   {
    "duration": 10,
    "start_time": "2023-02-02T08:11:56.130Z"
   },
   {
    "duration": 25,
    "start_time": "2023-02-02T08:11:56.145Z"
   },
   {
    "duration": 17,
    "start_time": "2023-02-02T08:11:56.172Z"
   },
   {
    "duration": 10,
    "start_time": "2023-02-02T08:11:56.191Z"
   },
   {
    "duration": 14,
    "start_time": "2023-02-02T08:11:56.202Z"
   },
   {
    "duration": 7,
    "start_time": "2023-02-02T08:11:56.217Z"
   },
   {
    "duration": 199,
    "start_time": "2023-02-02T08:11:56.226Z"
   },
   {
    "duration": 284,
    "start_time": "2023-02-02T08:11:56.426Z"
   },
   {
    "duration": 179,
    "start_time": "2023-02-02T08:11:56.712Z"
   },
   {
    "duration": 233,
    "start_time": "2023-02-02T08:11:56.893Z"
   },
   {
    "duration": 199,
    "start_time": "2023-02-02T08:11:57.128Z"
   },
   {
    "duration": 189,
    "start_time": "2023-02-02T08:11:57.329Z"
   },
   {
    "duration": 199,
    "start_time": "2023-02-02T08:11:57.520Z"
   },
   {
    "duration": 179,
    "start_time": "2023-02-02T08:11:57.720Z"
   },
   {
    "duration": 6,
    "start_time": "2023-02-02T08:11:57.900Z"
   },
   {
    "duration": 323,
    "start_time": "2023-02-02T08:11:57.907Z"
   },
   {
    "duration": 132,
    "start_time": "2023-02-02T08:11:58.231Z"
   },
   {
    "duration": 126,
    "start_time": "2023-02-02T08:11:58.364Z"
   },
   {
    "duration": 123,
    "start_time": "2023-02-02T08:11:58.492Z"
   },
   {
    "duration": 144,
    "start_time": "2023-02-02T08:11:58.617Z"
   },
   {
    "duration": 137,
    "start_time": "2023-02-02T08:11:58.763Z"
   },
   {
    "duration": 180,
    "start_time": "2023-02-02T08:11:58.901Z"
   },
   {
    "duration": 131,
    "start_time": "2023-02-02T08:11:59.083Z"
   },
   {
    "duration": 146,
    "start_time": "2023-02-02T08:11:59.216Z"
   },
   {
    "duration": 132,
    "start_time": "2023-02-02T08:11:59.363Z"
   },
   {
    "duration": 132,
    "start_time": "2023-02-02T08:11:59.497Z"
   },
   {
    "duration": 235,
    "start_time": "2023-02-02T08:11:59.631Z"
   },
   {
    "duration": 270,
    "start_time": "2023-02-02T08:11:59.869Z"
   },
   {
    "duration": 14,
    "start_time": "2023-02-02T08:12:00.144Z"
   },
   {
    "duration": 315,
    "start_time": "2023-02-02T08:12:00.160Z"
   },
   {
    "duration": 5,
    "start_time": "2023-02-02T08:12:00.477Z"
   },
   {
    "duration": 297,
    "start_time": "2023-02-02T08:12:00.483Z"
   },
   {
    "duration": 6,
    "start_time": "2023-02-02T08:12:00.781Z"
   },
   {
    "duration": 335,
    "start_time": "2023-02-02T08:12:00.788Z"
   },
   {
    "duration": 6,
    "start_time": "2023-02-02T08:12:01.124Z"
   },
   {
    "duration": 386,
    "start_time": "2023-02-02T08:12:01.132Z"
   },
   {
    "duration": 396,
    "start_time": "2023-02-02T08:12:01.519Z"
   },
   {
    "duration": 411,
    "start_time": "2023-02-02T08:12:01.917Z"
   },
   {
    "duration": 29,
    "start_time": "2023-02-02T08:12:02.330Z"
   },
   {
    "duration": 10,
    "start_time": "2023-02-02T08:12:02.361Z"
   },
   {
    "duration": 21,
    "start_time": "2023-02-02T08:12:02.372Z"
   },
   {
    "duration": 224,
    "start_time": "2023-02-02T08:12:02.394Z"
   },
   {
    "duration": 504,
    "start_time": "2023-02-02T08:12:02.621Z"
   },
   {
    "duration": 7,
    "start_time": "2023-02-02T08:12:03.127Z"
   },
   {
    "duration": 38,
    "start_time": "2023-02-02T08:12:03.136Z"
   },
   {
    "duration": 59,
    "start_time": "2023-02-02T09:13:58.815Z"
   },
   {
    "duration": 771,
    "start_time": "2023-02-02T09:14:14.468Z"
   },
   {
    "duration": 32,
    "start_time": "2023-02-02T09:14:15.241Z"
   },
   {
    "duration": 31,
    "start_time": "2023-02-02T09:14:15.275Z"
   },
   {
    "duration": 12,
    "start_time": "2023-02-02T09:14:15.307Z"
   },
   {
    "duration": 34,
    "start_time": "2023-02-02T09:14:15.344Z"
   },
   {
    "duration": 9,
    "start_time": "2023-02-02T09:14:15.380Z"
   },
   {
    "duration": 7,
    "start_time": "2023-02-02T09:14:15.390Z"
   },
   {
    "duration": 26,
    "start_time": "2023-02-02T09:14:15.399Z"
   },
   {
    "duration": 15,
    "start_time": "2023-02-02T09:14:15.426Z"
   },
   {
    "duration": 38,
    "start_time": "2023-02-02T09:14:15.443Z"
   },
   {
    "duration": 18,
    "start_time": "2023-02-02T09:14:15.483Z"
   },
   {
    "duration": 5,
    "start_time": "2023-02-02T09:14:15.502Z"
   },
   {
    "duration": 8,
    "start_time": "2023-02-02T09:14:15.509Z"
   },
   {
    "duration": 20,
    "start_time": "2023-02-02T09:14:15.519Z"
   },
   {
    "duration": 34,
    "start_time": "2023-02-02T09:14:15.540Z"
   },
   {
    "duration": 51,
    "start_time": "2023-02-02T09:14:15.576Z"
   },
   {
    "duration": 6,
    "start_time": "2023-02-02T09:14:15.629Z"
   },
   {
    "duration": 20,
    "start_time": "2023-02-02T09:14:15.636Z"
   },
   {
    "duration": 33,
    "start_time": "2023-02-02T09:14:15.658Z"
   },
   {
    "duration": 206,
    "start_time": "2023-02-02T09:14:15.692Z"
   },
   {
    "duration": 297,
    "start_time": "2023-02-02T09:14:15.901Z"
   },
   {
    "duration": 203,
    "start_time": "2023-02-02T09:14:16.200Z"
   },
   {
    "duration": 253,
    "start_time": "2023-02-02T09:14:16.404Z"
   },
   {
    "duration": 195,
    "start_time": "2023-02-02T09:14:16.663Z"
   },
   {
    "duration": 187,
    "start_time": "2023-02-02T09:14:16.860Z"
   },
   {
    "duration": 239,
    "start_time": "2023-02-02T09:14:17.049Z"
   },
   {
    "duration": 208,
    "start_time": "2023-02-02T09:14:17.290Z"
   },
   {
    "duration": 8,
    "start_time": "2023-02-02T09:14:17.499Z"
   },
   {
    "duration": 203,
    "start_time": "2023-02-02T09:14:17.509Z"
   },
   {
    "duration": 167,
    "start_time": "2023-02-02T09:14:17.714Z"
   },
   {
    "duration": 149,
    "start_time": "2023-02-02T09:14:17.883Z"
   },
   {
    "duration": 139,
    "start_time": "2023-02-02T09:14:18.033Z"
   },
   {
    "duration": 173,
    "start_time": "2023-02-02T09:14:18.174Z"
   },
   {
    "duration": 133,
    "start_time": "2023-02-02T09:14:18.349Z"
   },
   {
    "duration": 201,
    "start_time": "2023-02-02T09:14:18.485Z"
   },
   {
    "duration": 140,
    "start_time": "2023-02-02T09:14:18.687Z"
   },
   {
    "duration": 175,
    "start_time": "2023-02-02T09:14:18.828Z"
   },
   {
    "duration": 143,
    "start_time": "2023-02-02T09:14:19.005Z"
   },
   {
    "duration": 162,
    "start_time": "2023-02-02T09:14:19.150Z"
   },
   {
    "duration": 302,
    "start_time": "2023-02-02T09:14:19.314Z"
   },
   {
    "duration": 303,
    "start_time": "2023-02-02T09:14:19.622Z"
   },
   {
    "duration": 309,
    "start_time": "2023-02-02T09:14:19.926Z"
   },
   {
    "duration": 17,
    "start_time": "2023-02-02T09:14:20.237Z"
   },
   {
    "duration": 343,
    "start_time": "2023-02-02T09:14:20.256Z"
   },
   {
    "duration": 7,
    "start_time": "2023-02-02T09:14:20.601Z"
   },
   {
    "duration": 455,
    "start_time": "2023-02-02T09:14:20.610Z"
   },
   {
    "duration": 8,
    "start_time": "2023-02-02T09:14:21.067Z"
   },
   {
    "duration": 339,
    "start_time": "2023-02-02T09:14:21.078Z"
   },
   {
    "duration": 5,
    "start_time": "2023-02-02T09:14:21.419Z"
   },
   {
    "duration": 318,
    "start_time": "2023-02-02T09:14:21.426Z"
   },
   {
    "duration": 473,
    "start_time": "2023-02-02T09:14:21.746Z"
   },
   {
    "duration": 535,
    "start_time": "2023-02-02T09:14:22.221Z"
   },
   {
    "duration": 17,
    "start_time": "2023-02-02T09:14:22.758Z"
   },
   {
    "duration": 28,
    "start_time": "2023-02-02T09:14:22.777Z"
   },
   {
    "duration": 19,
    "start_time": "2023-02-02T09:14:22.807Z"
   },
   {
    "duration": 336,
    "start_time": "2023-02-02T09:14:22.827Z"
   },
   {
    "duration": 485,
    "start_time": "2023-02-02T09:14:23.172Z"
   },
   {
    "duration": 16,
    "start_time": "2023-02-02T09:14:23.661Z"
   },
   {
    "duration": 12,
    "start_time": "2023-02-02T09:14:23.681Z"
   },
   {
    "duration": 326,
    "start_time": "2023-02-02T09:16:12.990Z"
   },
   {
    "duration": 394,
    "start_time": "2023-02-02T09:16:14.813Z"
   },
   {
    "duration": 302,
    "start_time": "2023-02-02T09:16:48.894Z"
   },
   {
    "duration": 282,
    "start_time": "2023-02-02T09:16:51.842Z"
   }
  ],
  "kernelspec": {
   "display_name": "Python 3 (ipykernel)",
   "language": "python",
   "name": "python3"
  },
  "language_info": {
   "codemirror_mode": {
    "name": "ipython",
    "version": 3
   },
   "file_extension": ".py",
   "mimetype": "text/x-python",
   "name": "python",
   "nbconvert_exporter": "python",
   "pygments_lexer": "ipython3",
   "version": "3.9.5"
  },
  "toc": {
   "base_numbering": 1,
   "nav_menu": {},
   "number_sections": true,
   "sideBar": true,
   "skip_h1_title": true,
   "title_cell": "Table of Contents",
   "title_sidebar": "Contents",
   "toc_cell": false,
   "toc_position": {},
   "toc_section_display": true,
   "toc_window_display": false
  }
 },
 "nbformat": 4,
 "nbformat_minor": 2
}
