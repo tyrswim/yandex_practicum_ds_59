{
 "cells": [
  {
   "cell_type": "markdown",
   "id": "97d9c5c2",
   "metadata": {},
   "source": [
    "<div style=\"padding: 30px 25px; border: 2px #6495ed solid\">\n",
    "    \n",
    "<b>Привет, Владислав!</b>\n",
    "\n",
    "Меня зовут Алексей, и я буду проверять твой проект.\n",
    "    \n",
    "Предлагаю общаться на «<b>ты</b>», но если это неудобно — обязательно сообщи об этом.\n",
    "    \n",
    "Ниже ты увидишь мои комментарии, выделенные разным цветом:\n",
    "    \n",
    "<div class=\"alert alert-success\">\n",
    "<h2>Комментарий ревьюера<a class=\"tocSkip\"></a></h2>\n",
    "\n",
    "<b>Отлично!</b> ✔️: все ок, продолжай в том же духе :)\n",
    "\n",
    "</div>\n",
    "<div class=\"alert alert-warning\">\n",
    "<h2>Комментарий ревьюера<a class=\"tocSkip\"></a></h2>\n",
    "    \n",
    "<b>Есть совет</b> ⚠️: так выделены некритичные замечания или советы, которые смогут улучшить твой проект.\n",
    "\n",
    "</div>\n",
    "<div class=\"alert alert-danger\">\n",
    "<h2>Комментарий ревьюера<a class=\"tocSkip\"></a></h2>\n",
    "\n",
    "<b>Нужно доработать</b> ❌: так выделены важные замечания — без их исправления проект не может быть принят.\n",
    "    \n",
    "</div>\n",
    "\n",
    "Будет здорово, если ты будешь участвовать в диалоге, а свои вопросы, комментарии и изменения в проекте тоже будешь выделять, например, вот так:\n",
    "    \n",
    "<div class=\"alert alert-info\">\n",
    "    <b>Комментарий студента:</b> твой комментарий\n",
    "</div>\n",
    "    \n",
    "Пожалуйста, не перемещай и не удаляй мои комментарии, это усложнит повторную проверку.\n",
    "    \n",
    "</div>"
   ]
  },
  {
   "cell_type": "markdown",
   "id": "32ede57c",
   "metadata": {},
   "source": [
    "# Прогнозирование оттока клиентов в сети отелей «Как в гостях»"
   ]
  },
  {
   "cell_type": "markdown",
   "id": "ef76f1a2",
   "metadata": {},
   "source": [
    "# Содержание\n",
    "\n",
    "* [Описание проекта](#0)\n",
    "\n",
    "* [Описание данных](#1)\n",
    "\n",
    "* [Шаг 1. Откройте файлы с данными](#2)\n",
    "\n",
    "* [Шаг 2. Предобработка и исследовательский анализ данных](#3)\n",
    "\n",
    "* [Шаг 3. Формулировка ML-задачи на основе бизнес-задачи](#4)\n",
    "\n",
    "* [Шаг 4. Разработка модели ML](#5)\n",
    "\n",
    "* [Шаг 5. Опишите портрет «ненадёжного» клиента](#6)\n",
    "\n",
    "* [Шаг 6. Напишите общий вывод](#7)"
   ]
  },
  {
   "cell_type": "markdown",
   "id": "eac3923f",
   "metadata": {},
   "source": [
    "# Описание проекта <a id='0'></a>\n",
    "\n",
    "Заказчик этого исследования — сеть отелей «Как в гостях». \n",
    "\n",
    "Чтобы привлечь клиентов, эта сеть отелей добавила на свой сайт возможность забронировать номер без предоплаты. Однако если клиент отменял бронирование, то компания терпела убытки. Сотрудники отеля могли, например, закупить продукты к приезду гостя или просто не успеть найти другого клиента.\n",
    "\n",
    "Чтобы решить эту проблему, вам нужно разработать систему, которая предсказывает отказ от брони. Если модель покажет, что бронь будет отменена, то клиенту предлагается внести депозит. Размер депозита — 80% от стоимости номера за одни сутки и затрат на разовую уборку. Деньги будут списаны со счёта клиента, если он всё же отменит бронь.\n",
    "\n",
    "**Бизнес-метрика и другие данные**\n",
    "\n",
    "Основная бизнес-метрика для любой сети отелей — её прибыль. Прибыль отеля — это разница между стоимостью номера за все ночи и затраты на обслуживание: как при подготовке номера, так и при проживании постояльца. \n",
    "\n",
    "В отеле есть несколько типов номеров. В зависимости от типа номера назначается стоимость за одну ночь. Есть также затраты на уборку. Если клиент снял номер надолго, то убираются каждые два дня. \n",
    "\n",
    "Стоимость номеров отеля:\n",
    "\n",
    "* категория A: за ночь — 1 000, разовое обслуживание — 400;\n",
    "\n",
    "* категория B: за ночь — 800, разовое обслуживание — 350;\n",
    "\n",
    "* категория C: за ночь — 600, разовое обслуживание — 350;\n",
    "\n",
    "* категория D: за ночь — 550, разовое обслуживание — 150;\n",
    "\n",
    "* категория E: за ночь — 500, разовое обслуживание — 150;\n",
    "\n",
    "* категория F: за ночь — 450, разовое обслуживание — 150;\n",
    "\n",
    "* категория G: за ночь — 350, разовое обслуживание — 150.\n",
    "\n",
    "В ценовой политике отеля используются сезонные коэффициенты: весной и осенью цены повышаются на 20%, летом — на 40%.\n",
    "\n",
    "Убытки отеля в случае отмены брони номера — это стоимость одной уборки и одной ночи с учётом сезонного коэффициента.\n",
    "\n",
    "На разработку системы прогнозирования заложен бюджет — 400 000. При этом необходимо учесть, что внедрение модели должно окупиться за тестовый период. Затраты на разработку должны быть меньше той выручки, которую система принесёт компании."
   ]
  },
  {
   "cell_type": "markdown",
   "id": "c50e378b",
   "metadata": {},
   "source": [
    "# Описание данных <a id='1'></a>\n",
    "\n",
    "В таблицах `hotel_train` и `hotel_test` содержатся одинаковые столбцы:\n",
    "\n",
    "* `id` — номер записи;\n",
    "\n",
    "* `adults` — количество взрослых постояльцев;\n",
    "\n",
    "* `arrival_date_year` — год заезда;\n",
    "\n",
    "* `arrival_date_month` — месяц заезда;\n",
    "\n",
    "* `arrival_date_week_number` — неделя заезда;\n",
    "\n",
    "* `arrival_date_day_of_month` — день заезда;\n",
    "\n",
    "* `babies` — количество младенцев;\n",
    "\n",
    "* `booking_changes` — количество изменений параметров заказа;\n",
    "\n",
    "* `children` — количество детей от 3 до 14 лет;\n",
    "\n",
    "* `country` — гражданство постояльца;\n",
    "\n",
    "* `customer_type` — тип заказчика:\n",
    "\n",
    "  * `Contract` — договор с юридическим лицом;\n",
    "\n",
    "  * `Group` — групповой заезд;\n",
    "\n",
    "  * `Transient` — не связано с договором или групповым заездом;\n",
    "\n",
    "  * `Transient-party` — не связано с договором или групповым заездом, но связано с бронированием типа Transient.\n",
    "\n",
    "* `days_in_waiting_list` — сколько дней заказ ожидал подтверждения;\n",
    "\n",
    "* `distribution_channel` — канал дистрибуции заказа;\n",
    "\n",
    "* `is_canceled` — отмена заказа;\n",
    "\n",
    "* `is_repeated_guest` — признак того, что гость бронирует номер второй раз;\n",
    "\n",
    "* `lead_time` — количество дней между датой бронирования и датой прибытия;\n",
    "\n",
    "* `meal` — опции заказа:\n",
    "\n",
    "  * `SC` — нет дополнительных опций;\n",
    "\n",
    "  * `BB` — включён завтрак;\n",
    "\n",
    "  * `HB` — включён завтрак и обед;\n",
    "\n",
    "  * `FB` — включён завтрак, обед и ужин.\n",
    "\n",
    "* `previous_bookings_not_canceled` — количество подтверждённых заказов у клиента;\n",
    "\n",
    "* `previous_cancellations` — количество отменённых заказов у клиента;\n",
    "\n",
    "* `required_car_parking_spaces` — необходимость места для автомобиля;\n",
    "\n",
    "* `reserved_room_type` — тип забронированной комнаты;\n",
    "\n",
    "* `stays_in_weekend_nights` — количество ночей в выходные дни;\n",
    "\n",
    "* `stays_in_week_nights` — количество ночей в будние дни;\n",
    "\n",
    "* `total_nights` — общее количество ночей;\n",
    "\n",
    "* `total_of_special_requests` — количество специальных отметок."
   ]
  },
  {
   "cell_type": "markdown",
   "id": "790604dd",
   "metadata": {},
   "source": [
    "# Шаг 1. Откройте файлы с данными <a id='2'></a>\n",
    "\n",
    "**Пути к файлам:** \n",
    "\n",
    "`/datasets/hotel_train.csv` **— данные для обучения модели.** \n",
    "\n",
    "[Скачать датасет](https://code.s3.yandex.net/datasets/hotel_train.csv)\n",
    "\n",
    "`/datasets/hotel_test.csv` **— данные для тестирования модели.** \n",
    "\n",
    "[Скачать датасет](https://code.s3.yandex.net/datasets/hotel_test.csv)"
   ]
  },
  {
   "cell_type": "code",
   "execution_count": 1,
   "id": "b6bda533",
   "metadata": {},
   "outputs": [],
   "source": [
    "# импорт всех нужных библиотек\n",
    "import pandas as pd\n",
    "import numpy as np\n",
    "from sklearn.metrics import * \n",
    "import matplotlib.pyplot as plt\n",
    "from sklearn.tree import DecisionTreeClassifier\n",
    "from sklearn.ensemble import RandomForestClassifier\n",
    "from sklearn.linear_model import LogisticRegression\n",
    "from sklearn.model_selection import train_test_split\n",
    "from sklearn.preprocessing import StandardScaler, MinMaxScaler\n",
    "from sklearn.model_selection import cross_val_score\n",
    "import seaborn as sns\n",
    "from sklearn.preprocessing import OneHotEncoder\n",
    "from sklearn.dummy import DummyClassifier\n",
    "from scipy.stats import iqr\n",
    "import warnings"
   ]
  },
  {
   "cell_type": "code",
   "execution_count": 2,
   "id": "b177be45",
   "metadata": {},
   "outputs": [],
   "source": [
    "warnings.filterwarnings('ignore') # отключаем предупреждения"
   ]
  },
  {
   "cell_type": "code",
   "execution_count": 3,
   "id": "0223a76b",
   "metadata": {},
   "outputs": [],
   "source": [
    "pd.set_option('display.max_columns', None) # настроим в выоде показ всех колонок"
   ]
  },
  {
   "cell_type": "code",
   "execution_count": 4,
   "id": "93d37899",
   "metadata": {},
   "outputs": [],
   "source": [
    "df = pd.read_csv('/datasets/hotel_train.csv')\n",
    "df_test = pd.read_csv('/datasets/hotel_test.csv')"
   ]
  },
  {
   "cell_type": "markdown",
   "id": "7c231706",
   "metadata": {},
   "source": [
    "<div class=\"alert alert-success\">\n",
    "<h2>Комментарий ревьюера<a class=\"tocSkip\"></a></h2>\n",
    "    \n",
    "**Отлично!** ✔️: данные на месте!</div>"
   ]
  },
  {
   "cell_type": "code",
   "execution_count": 5,
   "id": "3e2b5558",
   "metadata": {},
   "outputs": [],
   "source": [
    "#Функция для проверки датасетов\n",
    "def information(data):\n",
    "    display(data.head())\n",
    "    print(data.info())\n",
    "    print('Количество дубликатов:', data['id'].duplicated().sum())\n",
    "    print(f'''Пропусков:\n",
    "{data.isna().sum()}''')\n",
    "    display(data.describe())\n",
    "    print(data.shape)"
   ]
  },
  {
   "cell_type": "code",
   "execution_count": 6,
   "id": "69c9b741",
   "metadata": {},
   "outputs": [
    {
     "data": {
      "text/html": [
       "<div>\n",
       "<style scoped>\n",
       "    .dataframe tbody tr th:only-of-type {\n",
       "        vertical-align: middle;\n",
       "    }\n",
       "\n",
       "    .dataframe tbody tr th {\n",
       "        vertical-align: top;\n",
       "    }\n",
       "\n",
       "    .dataframe thead th {\n",
       "        text-align: right;\n",
       "    }\n",
       "</style>\n",
       "<table border=\"1\" class=\"dataframe\">\n",
       "  <thead>\n",
       "    <tr style=\"text-align: right;\">\n",
       "      <th></th>\n",
       "      <th>id</th>\n",
       "      <th>is_canceled</th>\n",
       "      <th>lead_time</th>\n",
       "      <th>arrival_date_year</th>\n",
       "      <th>arrival_date_month</th>\n",
       "      <th>arrival_date_week_number</th>\n",
       "      <th>arrival_date_day_of_month</th>\n",
       "      <th>stays_in_weekend_nights</th>\n",
       "      <th>stays_in_week_nights</th>\n",
       "      <th>adults</th>\n",
       "      <th>children</th>\n",
       "      <th>babies</th>\n",
       "      <th>meal</th>\n",
       "      <th>country</th>\n",
       "      <th>distribution_channel</th>\n",
       "      <th>is_repeated_guest</th>\n",
       "      <th>previous_cancellations</th>\n",
       "      <th>previous_bookings_not_canceled</th>\n",
       "      <th>reserved_room_type</th>\n",
       "      <th>booking_changes</th>\n",
       "      <th>days_in_waiting_list</th>\n",
       "      <th>customer_type</th>\n",
       "      <th>required_car_parking_spaces</th>\n",
       "      <th>total_of_special_requests</th>\n",
       "      <th>total_nights</th>\n",
       "    </tr>\n",
       "  </thead>\n",
       "  <tbody>\n",
       "    <tr>\n",
       "      <th>0</th>\n",
       "      <td>0</td>\n",
       "      <td>0</td>\n",
       "      <td>7.0</td>\n",
       "      <td>2015</td>\n",
       "      <td>July</td>\n",
       "      <td>27</td>\n",
       "      <td>1</td>\n",
       "      <td>0</td>\n",
       "      <td>1</td>\n",
       "      <td>1.0</td>\n",
       "      <td>0.0</td>\n",
       "      <td>0.0</td>\n",
       "      <td>BB</td>\n",
       "      <td>GBR</td>\n",
       "      <td>Direct</td>\n",
       "      <td>0</td>\n",
       "      <td>0</td>\n",
       "      <td>0</td>\n",
       "      <td>A</td>\n",
       "      <td>0</td>\n",
       "      <td>0</td>\n",
       "      <td>Transient</td>\n",
       "      <td>0</td>\n",
       "      <td>0</td>\n",
       "      <td>1</td>\n",
       "    </tr>\n",
       "    <tr>\n",
       "      <th>1</th>\n",
       "      <td>1</td>\n",
       "      <td>0</td>\n",
       "      <td>14.0</td>\n",
       "      <td>2015</td>\n",
       "      <td>July</td>\n",
       "      <td>27</td>\n",
       "      <td>1</td>\n",
       "      <td>0</td>\n",
       "      <td>2</td>\n",
       "      <td>2.0</td>\n",
       "      <td>0.0</td>\n",
       "      <td>0.0</td>\n",
       "      <td>BB</td>\n",
       "      <td>GBR</td>\n",
       "      <td>TA/TO</td>\n",
       "      <td>0</td>\n",
       "      <td>0</td>\n",
       "      <td>0</td>\n",
       "      <td>A</td>\n",
       "      <td>0</td>\n",
       "      <td>0</td>\n",
       "      <td>Transient</td>\n",
       "      <td>0</td>\n",
       "      <td>1</td>\n",
       "      <td>2</td>\n",
       "    </tr>\n",
       "    <tr>\n",
       "      <th>2</th>\n",
       "      <td>2</td>\n",
       "      <td>0</td>\n",
       "      <td>0.0</td>\n",
       "      <td>2015</td>\n",
       "      <td>July</td>\n",
       "      <td>27</td>\n",
       "      <td>1</td>\n",
       "      <td>0</td>\n",
       "      <td>2</td>\n",
       "      <td>2.0</td>\n",
       "      <td>0.0</td>\n",
       "      <td>0.0</td>\n",
       "      <td>BB</td>\n",
       "      <td>PRT</td>\n",
       "      <td>Direct</td>\n",
       "      <td>0</td>\n",
       "      <td>0</td>\n",
       "      <td>0</td>\n",
       "      <td>C</td>\n",
       "      <td>0</td>\n",
       "      <td>0</td>\n",
       "      <td>Transient</td>\n",
       "      <td>0</td>\n",
       "      <td>0</td>\n",
       "      <td>2</td>\n",
       "    </tr>\n",
       "    <tr>\n",
       "      <th>3</th>\n",
       "      <td>3</td>\n",
       "      <td>0</td>\n",
       "      <td>9.0</td>\n",
       "      <td>2015</td>\n",
       "      <td>July</td>\n",
       "      <td>27</td>\n",
       "      <td>1</td>\n",
       "      <td>0</td>\n",
       "      <td>2</td>\n",
       "      <td>2.0</td>\n",
       "      <td>0.0</td>\n",
       "      <td>0.0</td>\n",
       "      <td>FB</td>\n",
       "      <td>PRT</td>\n",
       "      <td>Direct</td>\n",
       "      <td>0</td>\n",
       "      <td>0</td>\n",
       "      <td>0</td>\n",
       "      <td>C</td>\n",
       "      <td>0</td>\n",
       "      <td>0</td>\n",
       "      <td>Transient</td>\n",
       "      <td>0</td>\n",
       "      <td>1</td>\n",
       "      <td>2</td>\n",
       "    </tr>\n",
       "    <tr>\n",
       "      <th>4</th>\n",
       "      <td>4</td>\n",
       "      <td>1</td>\n",
       "      <td>85.0</td>\n",
       "      <td>2015</td>\n",
       "      <td>July</td>\n",
       "      <td>27</td>\n",
       "      <td>1</td>\n",
       "      <td>0</td>\n",
       "      <td>3</td>\n",
       "      <td>2.0</td>\n",
       "      <td>0.0</td>\n",
       "      <td>0.0</td>\n",
       "      <td>BB</td>\n",
       "      <td>PRT</td>\n",
       "      <td>TA/TO</td>\n",
       "      <td>0</td>\n",
       "      <td>0</td>\n",
       "      <td>0</td>\n",
       "      <td>A</td>\n",
       "      <td>0</td>\n",
       "      <td>0</td>\n",
       "      <td>Transient</td>\n",
       "      <td>0</td>\n",
       "      <td>1</td>\n",
       "      <td>3</td>\n",
       "    </tr>\n",
       "  </tbody>\n",
       "</table>\n",
       "</div>"
      ],
      "text/plain": [
       "   id  is_canceled  lead_time  arrival_date_year arrival_date_month  \\\n",
       "0   0            0        7.0               2015               July   \n",
       "1   1            0       14.0               2015               July   \n",
       "2   2            0        0.0               2015               July   \n",
       "3   3            0        9.0               2015               July   \n",
       "4   4            1       85.0               2015               July   \n",
       "\n",
       "   arrival_date_week_number  arrival_date_day_of_month  \\\n",
       "0                        27                          1   \n",
       "1                        27                          1   \n",
       "2                        27                          1   \n",
       "3                        27                          1   \n",
       "4                        27                          1   \n",
       "\n",
       "   stays_in_weekend_nights  stays_in_week_nights  adults  children  babies  \\\n",
       "0                        0                     1     1.0       0.0     0.0   \n",
       "1                        0                     2     2.0       0.0     0.0   \n",
       "2                        0                     2     2.0       0.0     0.0   \n",
       "3                        0                     2     2.0       0.0     0.0   \n",
       "4                        0                     3     2.0       0.0     0.0   \n",
       "\n",
       "        meal country distribution_channel  is_repeated_guest  \\\n",
       "0  BB            GBR               Direct                  0   \n",
       "1  BB            GBR                TA/TO                  0   \n",
       "2  BB            PRT               Direct                  0   \n",
       "3  FB            PRT               Direct                  0   \n",
       "4  BB            PRT                TA/TO                  0   \n",
       "\n",
       "   previous_cancellations  previous_bookings_not_canceled reserved_room_type  \\\n",
       "0                       0                               0   A                  \n",
       "1                       0                               0   A                  \n",
       "2                       0                               0   C                  \n",
       "3                       0                               0   C                  \n",
       "4                       0                               0   A                  \n",
       "\n",
       "   booking_changes  days_in_waiting_list customer_type  \\\n",
       "0                0                     0     Transient   \n",
       "1                0                     0     Transient   \n",
       "2                0                     0     Transient   \n",
       "3                0                     0     Transient   \n",
       "4                0                     0     Transient   \n",
       "\n",
       "   required_car_parking_spaces  total_of_special_requests  total_nights  \n",
       "0                            0                          0             1  \n",
       "1                            0                          1             2  \n",
       "2                            0                          0             2  \n",
       "3                            0                          1             2  \n",
       "4                            0                          1             3  "
      ]
     },
     "metadata": {},
     "output_type": "display_data"
    },
    {
     "name": "stdout",
     "output_type": "stream",
     "text": [
      "<class 'pandas.core.frame.DataFrame'>\n",
      "RangeIndex: 65229 entries, 0 to 65228\n",
      "Data columns (total 25 columns):\n",
      " #   Column                          Non-Null Count  Dtype  \n",
      "---  ------                          --------------  -----  \n",
      " 0   id                              65229 non-null  int64  \n",
      " 1   is_canceled                     65229 non-null  int64  \n",
      " 2   lead_time                       65229 non-null  float64\n",
      " 3   arrival_date_year               65229 non-null  int64  \n",
      " 4   arrival_date_month              65229 non-null  object \n",
      " 5   arrival_date_week_number        65229 non-null  int64  \n",
      " 6   arrival_date_day_of_month       65229 non-null  int64  \n",
      " 7   stays_in_weekend_nights         65229 non-null  int64  \n",
      " 8   stays_in_week_nights            65229 non-null  int64  \n",
      " 9   adults                          65229 non-null  float64\n",
      " 10  children                        65229 non-null  float64\n",
      " 11  babies                          65229 non-null  float64\n",
      " 12  meal                            65229 non-null  object \n",
      " 13  country                         65229 non-null  object \n",
      " 14  distribution_channel            65229 non-null  object \n",
      " 15  is_repeated_guest               65229 non-null  int64  \n",
      " 16  previous_cancellations          65229 non-null  int64  \n",
      " 17  previous_bookings_not_canceled  65229 non-null  int64  \n",
      " 18  reserved_room_type              65229 non-null  object \n",
      " 19  booking_changes                 65229 non-null  int64  \n",
      " 20  days_in_waiting_list            65229 non-null  int64  \n",
      " 21  customer_type                   65229 non-null  object \n",
      " 22  required_car_parking_spaces     65229 non-null  int64  \n",
      " 23  total_of_special_requests       65229 non-null  int64  \n",
      " 24  total_nights                    65229 non-null  int64  \n",
      "dtypes: float64(4), int64(15), object(6)\n",
      "memory usage: 12.4+ MB\n",
      "None\n",
      "Количество дубликатов: 0\n",
      "Пропусков:\n",
      "id                                0\n",
      "is_canceled                       0\n",
      "lead_time                         0\n",
      "arrival_date_year                 0\n",
      "arrival_date_month                0\n",
      "arrival_date_week_number          0\n",
      "arrival_date_day_of_month         0\n",
      "stays_in_weekend_nights           0\n",
      "stays_in_week_nights              0\n",
      "adults                            0\n",
      "children                          0\n",
      "babies                            0\n",
      "meal                              0\n",
      "country                           0\n",
      "distribution_channel              0\n",
      "is_repeated_guest                 0\n",
      "previous_cancellations            0\n",
      "previous_bookings_not_canceled    0\n",
      "reserved_room_type                0\n",
      "booking_changes                   0\n",
      "days_in_waiting_list              0\n",
      "customer_type                     0\n",
      "required_car_parking_spaces       0\n",
      "total_of_special_requests         0\n",
      "total_nights                      0\n",
      "dtype: int64\n"
     ]
    },
    {
     "data": {
      "text/html": [
       "<div>\n",
       "<style scoped>\n",
       "    .dataframe tbody tr th:only-of-type {\n",
       "        vertical-align: middle;\n",
       "    }\n",
       "\n",
       "    .dataframe tbody tr th {\n",
       "        vertical-align: top;\n",
       "    }\n",
       "\n",
       "    .dataframe thead th {\n",
       "        text-align: right;\n",
       "    }\n",
       "</style>\n",
       "<table border=\"1\" class=\"dataframe\">\n",
       "  <thead>\n",
       "    <tr style=\"text-align: right;\">\n",
       "      <th></th>\n",
       "      <th>id</th>\n",
       "      <th>is_canceled</th>\n",
       "      <th>lead_time</th>\n",
       "      <th>arrival_date_year</th>\n",
       "      <th>arrival_date_week_number</th>\n",
       "      <th>arrival_date_day_of_month</th>\n",
       "      <th>stays_in_weekend_nights</th>\n",
       "      <th>stays_in_week_nights</th>\n",
       "      <th>adults</th>\n",
       "      <th>children</th>\n",
       "      <th>babies</th>\n",
       "      <th>is_repeated_guest</th>\n",
       "      <th>previous_cancellations</th>\n",
       "      <th>previous_bookings_not_canceled</th>\n",
       "      <th>booking_changes</th>\n",
       "      <th>days_in_waiting_list</th>\n",
       "      <th>required_car_parking_spaces</th>\n",
       "      <th>total_of_special_requests</th>\n",
       "      <th>total_nights</th>\n",
       "    </tr>\n",
       "  </thead>\n",
       "  <tbody>\n",
       "    <tr>\n",
       "      <th>count</th>\n",
       "      <td>65229.000000</td>\n",
       "      <td>65229.000000</td>\n",
       "      <td>65229.000000</td>\n",
       "      <td>65229.000000</td>\n",
       "      <td>65229.000000</td>\n",
       "      <td>65229.000000</td>\n",
       "      <td>65229.000000</td>\n",
       "      <td>65229.000000</td>\n",
       "      <td>65229.000000</td>\n",
       "      <td>65229.000000</td>\n",
       "      <td>65229.000000</td>\n",
       "      <td>65229.000000</td>\n",
       "      <td>65229.000000</td>\n",
       "      <td>65229.000000</td>\n",
       "      <td>65229.000000</td>\n",
       "      <td>65229.000000</td>\n",
       "      <td>65229.000000</td>\n",
       "      <td>65229.000000</td>\n",
       "      <td>65229.000000</td>\n",
       "    </tr>\n",
       "    <tr>\n",
       "      <th>mean</th>\n",
       "      <td>43544.069172</td>\n",
       "      <td>0.368609</td>\n",
       "      <td>96.337917</td>\n",
       "      <td>2015.719021</td>\n",
       "      <td>31.339772</td>\n",
       "      <td>15.847813</td>\n",
       "      <td>0.825185</td>\n",
       "      <td>2.224793</td>\n",
       "      <td>1.836576</td>\n",
       "      <td>0.074890</td>\n",
       "      <td>0.007236</td>\n",
       "      <td>0.027151</td>\n",
       "      <td>0.128915</td>\n",
       "      <td>0.107713</td>\n",
       "      <td>0.194269</td>\n",
       "      <td>3.334422</td>\n",
       "      <td>0.056647</td>\n",
       "      <td>0.512763</td>\n",
       "      <td>3.049978</td>\n",
       "    </tr>\n",
       "    <tr>\n",
       "      <th>std</th>\n",
       "      <td>25614.858971</td>\n",
       "      <td>0.482431</td>\n",
       "      <td>96.127545</td>\n",
       "      <td>0.449481</td>\n",
       "      <td>13.464024</td>\n",
       "      <td>8.748182</td>\n",
       "      <td>0.853477</td>\n",
       "      <td>1.354992</td>\n",
       "      <td>0.480245</td>\n",
       "      <td>0.334243</td>\n",
       "      <td>0.098790</td>\n",
       "      <td>0.162523</td>\n",
       "      <td>0.965326</td>\n",
       "      <td>1.326638</td>\n",
       "      <td>0.593838</td>\n",
       "      <td>18.239606</td>\n",
       "      <td>0.232094</td>\n",
       "      <td>0.752590</td>\n",
       "      <td>1.738108</td>\n",
       "    </tr>\n",
       "    <tr>\n",
       "      <th>min</th>\n",
       "      <td>0.000000</td>\n",
       "      <td>0.000000</td>\n",
       "      <td>0.000000</td>\n",
       "      <td>2015.000000</td>\n",
       "      <td>1.000000</td>\n",
       "      <td>1.000000</td>\n",
       "      <td>0.000000</td>\n",
       "      <td>0.000000</td>\n",
       "      <td>0.000000</td>\n",
       "      <td>0.000000</td>\n",
       "      <td>0.000000</td>\n",
       "      <td>0.000000</td>\n",
       "      <td>0.000000</td>\n",
       "      <td>0.000000</td>\n",
       "      <td>0.000000</td>\n",
       "      <td>0.000000</td>\n",
       "      <td>0.000000</td>\n",
       "      <td>0.000000</td>\n",
       "      <td>1.000000</td>\n",
       "    </tr>\n",
       "    <tr>\n",
       "      <th>25%</th>\n",
       "      <td>19108.000000</td>\n",
       "      <td>0.000000</td>\n",
       "      <td>17.000000</td>\n",
       "      <td>2015.000000</td>\n",
       "      <td>21.000000</td>\n",
       "      <td>8.000000</td>\n",
       "      <td>0.000000</td>\n",
       "      <td>1.000000</td>\n",
       "      <td>2.000000</td>\n",
       "      <td>0.000000</td>\n",
       "      <td>0.000000</td>\n",
       "      <td>0.000000</td>\n",
       "      <td>0.000000</td>\n",
       "      <td>0.000000</td>\n",
       "      <td>0.000000</td>\n",
       "      <td>0.000000</td>\n",
       "      <td>0.000000</td>\n",
       "      <td>0.000000</td>\n",
       "      <td>2.000000</td>\n",
       "    </tr>\n",
       "    <tr>\n",
       "      <th>50%</th>\n",
       "      <td>40554.000000</td>\n",
       "      <td>0.000000</td>\n",
       "      <td>64.000000</td>\n",
       "      <td>2016.000000</td>\n",
       "      <td>34.000000</td>\n",
       "      <td>16.000000</td>\n",
       "      <td>1.000000</td>\n",
       "      <td>2.000000</td>\n",
       "      <td>2.000000</td>\n",
       "      <td>0.000000</td>\n",
       "      <td>0.000000</td>\n",
       "      <td>0.000000</td>\n",
       "      <td>0.000000</td>\n",
       "      <td>0.000000</td>\n",
       "      <td>0.000000</td>\n",
       "      <td>0.000000</td>\n",
       "      <td>0.000000</td>\n",
       "      <td>0.000000</td>\n",
       "      <td>3.000000</td>\n",
       "    </tr>\n",
       "    <tr>\n",
       "      <th>75%</th>\n",
       "      <td>67414.000000</td>\n",
       "      <td>1.000000</td>\n",
       "      <td>151.000000</td>\n",
       "      <td>2016.000000</td>\n",
       "      <td>42.000000</td>\n",
       "      <td>23.000000</td>\n",
       "      <td>2.000000</td>\n",
       "      <td>3.000000</td>\n",
       "      <td>2.000000</td>\n",
       "      <td>0.000000</td>\n",
       "      <td>0.000000</td>\n",
       "      <td>0.000000</td>\n",
       "      <td>0.000000</td>\n",
       "      <td>0.000000</td>\n",
       "      <td>0.000000</td>\n",
       "      <td>0.000000</td>\n",
       "      <td>0.000000</td>\n",
       "      <td>1.000000</td>\n",
       "      <td>4.000000</td>\n",
       "    </tr>\n",
       "    <tr>\n",
       "      <th>max</th>\n",
       "      <td>84121.000000</td>\n",
       "      <td>1.000000</td>\n",
       "      <td>374.000000</td>\n",
       "      <td>2016.000000</td>\n",
       "      <td>53.000000</td>\n",
       "      <td>31.000000</td>\n",
       "      <td>4.000000</td>\n",
       "      <td>6.000000</td>\n",
       "      <td>4.000000</td>\n",
       "      <td>3.000000</td>\n",
       "      <td>10.000000</td>\n",
       "      <td>1.000000</td>\n",
       "      <td>26.000000</td>\n",
       "      <td>58.000000</td>\n",
       "      <td>17.000000</td>\n",
       "      <td>259.000000</td>\n",
       "      <td>3.000000</td>\n",
       "      <td>5.000000</td>\n",
       "      <td>10.000000</td>\n",
       "    </tr>\n",
       "  </tbody>\n",
       "</table>\n",
       "</div>"
      ],
      "text/plain": [
       "                 id   is_canceled     lead_time  arrival_date_year  \\\n",
       "count  65229.000000  65229.000000  65229.000000       65229.000000   \n",
       "mean   43544.069172      0.368609     96.337917        2015.719021   \n",
       "std    25614.858971      0.482431     96.127545           0.449481   \n",
       "min        0.000000      0.000000      0.000000        2015.000000   \n",
       "25%    19108.000000      0.000000     17.000000        2015.000000   \n",
       "50%    40554.000000      0.000000     64.000000        2016.000000   \n",
       "75%    67414.000000      1.000000    151.000000        2016.000000   \n",
       "max    84121.000000      1.000000    374.000000        2016.000000   \n",
       "\n",
       "       arrival_date_week_number  arrival_date_day_of_month  \\\n",
       "count              65229.000000               65229.000000   \n",
       "mean                  31.339772                  15.847813   \n",
       "std                   13.464024                   8.748182   \n",
       "min                    1.000000                   1.000000   \n",
       "25%                   21.000000                   8.000000   \n",
       "50%                   34.000000                  16.000000   \n",
       "75%                   42.000000                  23.000000   \n",
       "max                   53.000000                  31.000000   \n",
       "\n",
       "       stays_in_weekend_nights  stays_in_week_nights        adults  \\\n",
       "count             65229.000000          65229.000000  65229.000000   \n",
       "mean                  0.825185              2.224793      1.836576   \n",
       "std                   0.853477              1.354992      0.480245   \n",
       "min                   0.000000              0.000000      0.000000   \n",
       "25%                   0.000000              1.000000      2.000000   \n",
       "50%                   1.000000              2.000000      2.000000   \n",
       "75%                   2.000000              3.000000      2.000000   \n",
       "max                   4.000000              6.000000      4.000000   \n",
       "\n",
       "           children        babies  is_repeated_guest  previous_cancellations  \\\n",
       "count  65229.000000  65229.000000       65229.000000            65229.000000   \n",
       "mean       0.074890      0.007236           0.027151                0.128915   \n",
       "std        0.334243      0.098790           0.162523                0.965326   \n",
       "min        0.000000      0.000000           0.000000                0.000000   \n",
       "25%        0.000000      0.000000           0.000000                0.000000   \n",
       "50%        0.000000      0.000000           0.000000                0.000000   \n",
       "75%        0.000000      0.000000           0.000000                0.000000   \n",
       "max        3.000000     10.000000           1.000000               26.000000   \n",
       "\n",
       "       previous_bookings_not_canceled  booking_changes  days_in_waiting_list  \\\n",
       "count                    65229.000000     65229.000000          65229.000000   \n",
       "mean                         0.107713         0.194269              3.334422   \n",
       "std                          1.326638         0.593838             18.239606   \n",
       "min                          0.000000         0.000000              0.000000   \n",
       "25%                          0.000000         0.000000              0.000000   \n",
       "50%                          0.000000         0.000000              0.000000   \n",
       "75%                          0.000000         0.000000              0.000000   \n",
       "max                         58.000000        17.000000            259.000000   \n",
       "\n",
       "       required_car_parking_spaces  total_of_special_requests  total_nights  \n",
       "count                 65229.000000               65229.000000  65229.000000  \n",
       "mean                      0.056647                   0.512763      3.049978  \n",
       "std                       0.232094                   0.752590      1.738108  \n",
       "min                       0.000000                   0.000000      1.000000  \n",
       "25%                       0.000000                   0.000000      2.000000  \n",
       "50%                       0.000000                   0.000000      3.000000  \n",
       "75%                       0.000000                   1.000000      4.000000  \n",
       "max                       3.000000                   5.000000     10.000000  "
      ]
     },
     "metadata": {},
     "output_type": "display_data"
    },
    {
     "name": "stdout",
     "output_type": "stream",
     "text": [
      "(65229, 25)\n"
     ]
    }
   ],
   "source": [
    "information(df)"
   ]
  },
  {
   "cell_type": "code",
   "execution_count": 7,
   "id": "899217b4",
   "metadata": {
    "scrolled": true
   },
   "outputs": [
    {
     "data": {
      "text/html": [
       "<div>\n",
       "<style scoped>\n",
       "    .dataframe tbody tr th:only-of-type {\n",
       "        vertical-align: middle;\n",
       "    }\n",
       "\n",
       "    .dataframe tbody tr th {\n",
       "        vertical-align: top;\n",
       "    }\n",
       "\n",
       "    .dataframe thead th {\n",
       "        text-align: right;\n",
       "    }\n",
       "</style>\n",
       "<table border=\"1\" class=\"dataframe\">\n",
       "  <thead>\n",
       "    <tr style=\"text-align: right;\">\n",
       "      <th></th>\n",
       "      <th>id</th>\n",
       "      <th>is_canceled</th>\n",
       "      <th>lead_time</th>\n",
       "      <th>arrival_date_year</th>\n",
       "      <th>arrival_date_month</th>\n",
       "      <th>arrival_date_week_number</th>\n",
       "      <th>arrival_date_day_of_month</th>\n",
       "      <th>stays_in_weekend_nights</th>\n",
       "      <th>stays_in_week_nights</th>\n",
       "      <th>adults</th>\n",
       "      <th>children</th>\n",
       "      <th>babies</th>\n",
       "      <th>meal</th>\n",
       "      <th>country</th>\n",
       "      <th>distribution_channel</th>\n",
       "      <th>is_repeated_guest</th>\n",
       "      <th>previous_cancellations</th>\n",
       "      <th>previous_bookings_not_canceled</th>\n",
       "      <th>reserved_room_type</th>\n",
       "      <th>booking_changes</th>\n",
       "      <th>days_in_waiting_list</th>\n",
       "      <th>customer_type</th>\n",
       "      <th>required_car_parking_spaces</th>\n",
       "      <th>total_of_special_requests</th>\n",
       "      <th>total_nights</th>\n",
       "    </tr>\n",
       "  </thead>\n",
       "  <tbody>\n",
       "    <tr>\n",
       "      <th>0</th>\n",
       "      <td>6086</td>\n",
       "      <td>1</td>\n",
       "      <td>74.0</td>\n",
       "      <td>2017</td>\n",
       "      <td>January</td>\n",
       "      <td>1</td>\n",
       "      <td>1</td>\n",
       "      <td>1</td>\n",
       "      <td>0</td>\n",
       "      <td>2.0</td>\n",
       "      <td>0.0</td>\n",
       "      <td>0.0</td>\n",
       "      <td>BB</td>\n",
       "      <td>PRT</td>\n",
       "      <td>TA/TO</td>\n",
       "      <td>0</td>\n",
       "      <td>0</td>\n",
       "      <td>0</td>\n",
       "      <td>A</td>\n",
       "      <td>0</td>\n",
       "      <td>0</td>\n",
       "      <td>Transient</td>\n",
       "      <td>0</td>\n",
       "      <td>0</td>\n",
       "      <td>1</td>\n",
       "    </tr>\n",
       "    <tr>\n",
       "      <th>1</th>\n",
       "      <td>6087</td>\n",
       "      <td>1</td>\n",
       "      <td>62.0</td>\n",
       "      <td>2017</td>\n",
       "      <td>January</td>\n",
       "      <td>1</td>\n",
       "      <td>1</td>\n",
       "      <td>2</td>\n",
       "      <td>2</td>\n",
       "      <td>2.0</td>\n",
       "      <td>0.0</td>\n",
       "      <td>0.0</td>\n",
       "      <td>BB</td>\n",
       "      <td>AUT</td>\n",
       "      <td>TA/TO</td>\n",
       "      <td>0</td>\n",
       "      <td>0</td>\n",
       "      <td>0</td>\n",
       "      <td>A</td>\n",
       "      <td>0</td>\n",
       "      <td>0</td>\n",
       "      <td>Transient</td>\n",
       "      <td>0</td>\n",
       "      <td>1</td>\n",
       "      <td>4</td>\n",
       "    </tr>\n",
       "    <tr>\n",
       "      <th>2</th>\n",
       "      <td>6088</td>\n",
       "      <td>1</td>\n",
       "      <td>62.0</td>\n",
       "      <td>2017</td>\n",
       "      <td>January</td>\n",
       "      <td>1</td>\n",
       "      <td>1</td>\n",
       "      <td>2</td>\n",
       "      <td>2</td>\n",
       "      <td>2.0</td>\n",
       "      <td>0.0</td>\n",
       "      <td>0.0</td>\n",
       "      <td>BB</td>\n",
       "      <td>AUT</td>\n",
       "      <td>TA/TO</td>\n",
       "      <td>0</td>\n",
       "      <td>0</td>\n",
       "      <td>0</td>\n",
       "      <td>A</td>\n",
       "      <td>0</td>\n",
       "      <td>0</td>\n",
       "      <td>Transient</td>\n",
       "      <td>0</td>\n",
       "      <td>1</td>\n",
       "      <td>4</td>\n",
       "    </tr>\n",
       "    <tr>\n",
       "      <th>3</th>\n",
       "      <td>6089</td>\n",
       "      <td>1</td>\n",
       "      <td>71.0</td>\n",
       "      <td>2017</td>\n",
       "      <td>January</td>\n",
       "      <td>1</td>\n",
       "      <td>1</td>\n",
       "      <td>2</td>\n",
       "      <td>2</td>\n",
       "      <td>1.0</td>\n",
       "      <td>0.0</td>\n",
       "      <td>0.0</td>\n",
       "      <td>BB</td>\n",
       "      <td>PRT</td>\n",
       "      <td>TA/TO</td>\n",
       "      <td>0</td>\n",
       "      <td>0</td>\n",
       "      <td>0</td>\n",
       "      <td>A</td>\n",
       "      <td>0</td>\n",
       "      <td>0</td>\n",
       "      <td>Transient</td>\n",
       "      <td>0</td>\n",
       "      <td>1</td>\n",
       "      <td>4</td>\n",
       "    </tr>\n",
       "    <tr>\n",
       "      <th>4</th>\n",
       "      <td>6090</td>\n",
       "      <td>1</td>\n",
       "      <td>172.0</td>\n",
       "      <td>2017</td>\n",
       "      <td>January</td>\n",
       "      <td>1</td>\n",
       "      <td>1</td>\n",
       "      <td>2</td>\n",
       "      <td>5</td>\n",
       "      <td>2.0</td>\n",
       "      <td>0.0</td>\n",
       "      <td>0.0</td>\n",
       "      <td>BB</td>\n",
       "      <td>BEL</td>\n",
       "      <td>TA/TO</td>\n",
       "      <td>0</td>\n",
       "      <td>0</td>\n",
       "      <td>0</td>\n",
       "      <td>A</td>\n",
       "      <td>0</td>\n",
       "      <td>0</td>\n",
       "      <td>Transient</td>\n",
       "      <td>0</td>\n",
       "      <td>0</td>\n",
       "      <td>7</td>\n",
       "    </tr>\n",
       "  </tbody>\n",
       "</table>\n",
       "</div>"
      ],
      "text/plain": [
       "     id  is_canceled  lead_time  arrival_date_year arrival_date_month  \\\n",
       "0  6086            1       74.0               2017            January   \n",
       "1  6087            1       62.0               2017            January   \n",
       "2  6088            1       62.0               2017            January   \n",
       "3  6089            1       71.0               2017            January   \n",
       "4  6090            1      172.0               2017            January   \n",
       "\n",
       "   arrival_date_week_number  arrival_date_day_of_month  \\\n",
       "0                         1                          1   \n",
       "1                         1                          1   \n",
       "2                         1                          1   \n",
       "3                         1                          1   \n",
       "4                         1                          1   \n",
       "\n",
       "   stays_in_weekend_nights  stays_in_week_nights  adults  children  babies  \\\n",
       "0                        1                     0     2.0       0.0     0.0   \n",
       "1                        2                     2     2.0       0.0     0.0   \n",
       "2                        2                     2     2.0       0.0     0.0   \n",
       "3                        2                     2     1.0       0.0     0.0   \n",
       "4                        2                     5     2.0       0.0     0.0   \n",
       "\n",
       "        meal country distribution_channel  is_repeated_guest  \\\n",
       "0  BB            PRT                TA/TO                  0   \n",
       "1  BB            AUT                TA/TO                  0   \n",
       "2  BB            AUT                TA/TO                  0   \n",
       "3  BB            PRT                TA/TO                  0   \n",
       "4  BB            BEL                TA/TO                  0   \n",
       "\n",
       "   previous_cancellations  previous_bookings_not_canceled reserved_room_type  \\\n",
       "0                       0                               0   A                  \n",
       "1                       0                               0   A                  \n",
       "2                       0                               0   A                  \n",
       "3                       0                               0   A                  \n",
       "4                       0                               0   A                  \n",
       "\n",
       "   booking_changes  days_in_waiting_list customer_type  \\\n",
       "0                0                     0     Transient   \n",
       "1                0                     0     Transient   \n",
       "2                0                     0     Transient   \n",
       "3                0                     0     Transient   \n",
       "4                0                     0     Transient   \n",
       "\n",
       "   required_car_parking_spaces  total_of_special_requests  total_nights  \n",
       "0                            0                          0             1  \n",
       "1                            0                          1             4  \n",
       "2                            0                          1             4  \n",
       "3                            0                          1             4  \n",
       "4                            0                          0             7  "
      ]
     },
     "metadata": {},
     "output_type": "display_data"
    },
    {
     "name": "stdout",
     "output_type": "stream",
     "text": [
      "<class 'pandas.core.frame.DataFrame'>\n",
      "RangeIndex: 32412 entries, 0 to 32411\n",
      "Data columns (total 25 columns):\n",
      " #   Column                          Non-Null Count  Dtype  \n",
      "---  ------                          --------------  -----  \n",
      " 0   id                              32412 non-null  int64  \n",
      " 1   is_canceled                     32412 non-null  int64  \n",
      " 2   lead_time                       32412 non-null  float64\n",
      " 3   arrival_date_year               32412 non-null  int64  \n",
      " 4   arrival_date_month              32412 non-null  object \n",
      " 5   arrival_date_week_number        32412 non-null  int64  \n",
      " 6   arrival_date_day_of_month       32412 non-null  int64  \n",
      " 7   stays_in_weekend_nights         32412 non-null  int64  \n",
      " 8   stays_in_week_nights            32412 non-null  int64  \n",
      " 9   adults                          32412 non-null  float64\n",
      " 10  children                        32412 non-null  float64\n",
      " 11  babies                          32412 non-null  float64\n",
      " 12  meal                            32412 non-null  object \n",
      " 13  country                         32412 non-null  object \n",
      " 14  distribution_channel            32412 non-null  object \n",
      " 15  is_repeated_guest               32412 non-null  int64  \n",
      " 16  previous_cancellations          32412 non-null  int64  \n",
      " 17  previous_bookings_not_canceled  32412 non-null  int64  \n",
      " 18  reserved_room_type              32412 non-null  object \n",
      " 19  booking_changes                 32412 non-null  int64  \n",
      " 20  days_in_waiting_list            32412 non-null  int64  \n",
      " 21  customer_type                   32412 non-null  object \n",
      " 22  required_car_parking_spaces     32412 non-null  int64  \n",
      " 23  total_of_special_requests       32412 non-null  int64  \n",
      " 24  total_nights                    32412 non-null  int64  \n",
      "dtypes: float64(4), int64(15), object(6)\n",
      "memory usage: 6.2+ MB\n",
      "None\n",
      "Количество дубликатов: 0\n",
      "Пропусков:\n",
      "id                                0\n",
      "is_canceled                       0\n",
      "lead_time                         0\n",
      "arrival_date_year                 0\n",
      "arrival_date_month                0\n",
      "arrival_date_week_number          0\n",
      "arrival_date_day_of_month         0\n",
      "stays_in_weekend_nights           0\n",
      "stays_in_week_nights              0\n",
      "adults                            0\n",
      "children                          0\n",
      "babies                            0\n",
      "meal                              0\n",
      "country                           0\n",
      "distribution_channel              0\n",
      "is_repeated_guest                 0\n",
      "previous_cancellations            0\n",
      "previous_bookings_not_canceled    0\n",
      "reserved_room_type                0\n",
      "booking_changes                   0\n",
      "days_in_waiting_list              0\n",
      "customer_type                     0\n",
      "required_car_parking_spaces       0\n",
      "total_of_special_requests         0\n",
      "total_nights                      0\n",
      "dtype: int64\n"
     ]
    },
    {
     "data": {
      "text/html": [
       "<div>\n",
       "<style scoped>\n",
       "    .dataframe tbody tr th:only-of-type {\n",
       "        vertical-align: middle;\n",
       "    }\n",
       "\n",
       "    .dataframe tbody tr th {\n",
       "        vertical-align: top;\n",
       "    }\n",
       "\n",
       "    .dataframe thead th {\n",
       "        text-align: right;\n",
       "    }\n",
       "</style>\n",
       "<table border=\"1\" class=\"dataframe\">\n",
       "  <thead>\n",
       "    <tr style=\"text-align: right;\">\n",
       "      <th></th>\n",
       "      <th>id</th>\n",
       "      <th>is_canceled</th>\n",
       "      <th>lead_time</th>\n",
       "      <th>arrival_date_year</th>\n",
       "      <th>arrival_date_week_number</th>\n",
       "      <th>arrival_date_day_of_month</th>\n",
       "      <th>stays_in_weekend_nights</th>\n",
       "      <th>stays_in_week_nights</th>\n",
       "      <th>adults</th>\n",
       "      <th>children</th>\n",
       "      <th>babies</th>\n",
       "      <th>is_repeated_guest</th>\n",
       "      <th>previous_cancellations</th>\n",
       "      <th>previous_bookings_not_canceled</th>\n",
       "      <th>booking_changes</th>\n",
       "      <th>days_in_waiting_list</th>\n",
       "      <th>required_car_parking_spaces</th>\n",
       "      <th>total_of_special_requests</th>\n",
       "      <th>total_nights</th>\n",
       "    </tr>\n",
       "  </thead>\n",
       "  <tbody>\n",
       "    <tr>\n",
       "      <th>count</th>\n",
       "      <td>32412.000000</td>\n",
       "      <td>32412.000000</td>\n",
       "      <td>32412.000000</td>\n",
       "      <td>32412.0</td>\n",
       "      <td>32412.000000</td>\n",
       "      <td>32412.000000</td>\n",
       "      <td>32412.000000</td>\n",
       "      <td>32412.00000</td>\n",
       "      <td>32412.000000</td>\n",
       "      <td>32412.000000</td>\n",
       "      <td>32412.000000</td>\n",
       "      <td>32412.000000</td>\n",
       "      <td>32412.000000</td>\n",
       "      <td>32412.000000</td>\n",
       "      <td>32412.000000</td>\n",
       "      <td>32412.000000</td>\n",
       "      <td>32412.000000</td>\n",
       "      <td>32412.000000</td>\n",
       "      <td>32412.000000</td>\n",
       "    </tr>\n",
       "    <tr>\n",
       "      <th>mean</th>\n",
       "      <td>60131.505183</td>\n",
       "      <td>0.388467</td>\n",
       "      <td>97.587869</td>\n",
       "      <td>2017.0</td>\n",
       "      <td>17.804054</td>\n",
       "      <td>15.656948</td>\n",
       "      <td>0.867888</td>\n",
       "      <td>2.34009</td>\n",
       "      <td>1.858602</td>\n",
       "      <td>0.083765</td>\n",
       "      <td>0.005523</td>\n",
       "      <td>0.031377</td>\n",
       "      <td>0.011601</td>\n",
       "      <td>0.171418</td>\n",
       "      <td>0.216741</td>\n",
       "      <td>0.262341</td>\n",
       "      <td>0.046248</td>\n",
       "      <td>0.657781</td>\n",
       "      <td>3.207979</td>\n",
       "    </tr>\n",
       "    <tr>\n",
       "      <th>std</th>\n",
       "      <td>29953.586177</td>\n",
       "      <td>0.487409</td>\n",
       "      <td>86.507146</td>\n",
       "      <td>0.0</td>\n",
       "      <td>9.177384</td>\n",
       "      <td>8.766429</td>\n",
       "      <td>0.853394</td>\n",
       "      <td>1.37517</td>\n",
       "      <td>0.489341</td>\n",
       "      <td>0.343470</td>\n",
       "      <td>0.075757</td>\n",
       "      <td>0.174338</td>\n",
       "      <td>0.180473</td>\n",
       "      <td>1.875170</td>\n",
       "      <td>0.640551</td>\n",
       "      <td>4.733027</td>\n",
       "      <td>0.219367</td>\n",
       "      <td>0.834341</td>\n",
       "      <td>1.738683</td>\n",
       "    </tr>\n",
       "    <tr>\n",
       "      <th>min</th>\n",
       "      <td>6086.000000</td>\n",
       "      <td>0.000000</td>\n",
       "      <td>0.000000</td>\n",
       "      <td>2017.0</td>\n",
       "      <td>1.000000</td>\n",
       "      <td>1.000000</td>\n",
       "      <td>0.000000</td>\n",
       "      <td>0.00000</td>\n",
       "      <td>0.000000</td>\n",
       "      <td>0.000000</td>\n",
       "      <td>0.000000</td>\n",
       "      <td>0.000000</td>\n",
       "      <td>0.000000</td>\n",
       "      <td>0.000000</td>\n",
       "      <td>0.000000</td>\n",
       "      <td>0.000000</td>\n",
       "      <td>0.000000</td>\n",
       "      <td>0.000000</td>\n",
       "      <td>1.000000</td>\n",
       "    </tr>\n",
       "    <tr>\n",
       "      <th>25%</th>\n",
       "      <td>45291.750000</td>\n",
       "      <td>0.000000</td>\n",
       "      <td>23.000000</td>\n",
       "      <td>2017.0</td>\n",
       "      <td>10.000000</td>\n",
       "      <td>8.000000</td>\n",
       "      <td>0.000000</td>\n",
       "      <td>1.00000</td>\n",
       "      <td>2.000000</td>\n",
       "      <td>0.000000</td>\n",
       "      <td>0.000000</td>\n",
       "      <td>0.000000</td>\n",
       "      <td>0.000000</td>\n",
       "      <td>0.000000</td>\n",
       "      <td>0.000000</td>\n",
       "      <td>0.000000</td>\n",
       "      <td>0.000000</td>\n",
       "      <td>0.000000</td>\n",
       "      <td>2.000000</td>\n",
       "    </tr>\n",
       "    <tr>\n",
       "      <th>50%</th>\n",
       "      <td>53394.500000</td>\n",
       "      <td>0.000000</td>\n",
       "      <td>76.000000</td>\n",
       "      <td>2017.0</td>\n",
       "      <td>18.000000</td>\n",
       "      <td>15.500000</td>\n",
       "      <td>1.000000</td>\n",
       "      <td>2.00000</td>\n",
       "      <td>2.000000</td>\n",
       "      <td>0.000000</td>\n",
       "      <td>0.000000</td>\n",
       "      <td>0.000000</td>\n",
       "      <td>0.000000</td>\n",
       "      <td>0.000000</td>\n",
       "      <td>0.000000</td>\n",
       "      <td>0.000000</td>\n",
       "      <td>0.000000</td>\n",
       "      <td>0.000000</td>\n",
       "      <td>3.000000</td>\n",
       "    </tr>\n",
       "    <tr>\n",
       "      <th>75%</th>\n",
       "      <td>89800.250000</td>\n",
       "      <td>1.000000</td>\n",
       "      <td>155.000000</td>\n",
       "      <td>2017.0</td>\n",
       "      <td>25.000000</td>\n",
       "      <td>23.000000</td>\n",
       "      <td>2.000000</td>\n",
       "      <td>3.00000</td>\n",
       "      <td>2.000000</td>\n",
       "      <td>0.000000</td>\n",
       "      <td>0.000000</td>\n",
       "      <td>0.000000</td>\n",
       "      <td>0.000000</td>\n",
       "      <td>0.000000</td>\n",
       "      <td>0.000000</td>\n",
       "      <td>0.000000</td>\n",
       "      <td>0.000000</td>\n",
       "      <td>1.000000</td>\n",
       "      <td>4.000000</td>\n",
       "    </tr>\n",
       "    <tr>\n",
       "      <th>max</th>\n",
       "      <td>97903.000000</td>\n",
       "      <td>1.000000</td>\n",
       "      <td>373.000000</td>\n",
       "      <td>2017.0</td>\n",
       "      <td>35.000000</td>\n",
       "      <td>31.000000</td>\n",
       "      <td>4.000000</td>\n",
       "      <td>6.00000</td>\n",
       "      <td>4.000000</td>\n",
       "      <td>3.000000</td>\n",
       "      <td>2.000000</td>\n",
       "      <td>1.000000</td>\n",
       "      <td>6.000000</td>\n",
       "      <td>72.000000</td>\n",
       "      <td>18.000000</td>\n",
       "      <td>223.000000</td>\n",
       "      <td>8.000000</td>\n",
       "      <td>5.000000</td>\n",
       "      <td>10.000000</td>\n",
       "    </tr>\n",
       "  </tbody>\n",
       "</table>\n",
       "</div>"
      ],
      "text/plain": [
       "                 id   is_canceled     lead_time  arrival_date_year  \\\n",
       "count  32412.000000  32412.000000  32412.000000            32412.0   \n",
       "mean   60131.505183      0.388467     97.587869             2017.0   \n",
       "std    29953.586177      0.487409     86.507146                0.0   \n",
       "min     6086.000000      0.000000      0.000000             2017.0   \n",
       "25%    45291.750000      0.000000     23.000000             2017.0   \n",
       "50%    53394.500000      0.000000     76.000000             2017.0   \n",
       "75%    89800.250000      1.000000    155.000000             2017.0   \n",
       "max    97903.000000      1.000000    373.000000             2017.0   \n",
       "\n",
       "       arrival_date_week_number  arrival_date_day_of_month  \\\n",
       "count              32412.000000               32412.000000   \n",
       "mean                  17.804054                  15.656948   \n",
       "std                    9.177384                   8.766429   \n",
       "min                    1.000000                   1.000000   \n",
       "25%                   10.000000                   8.000000   \n",
       "50%                   18.000000                  15.500000   \n",
       "75%                   25.000000                  23.000000   \n",
       "max                   35.000000                  31.000000   \n",
       "\n",
       "       stays_in_weekend_nights  stays_in_week_nights        adults  \\\n",
       "count             32412.000000           32412.00000  32412.000000   \n",
       "mean                  0.867888               2.34009      1.858602   \n",
       "std                   0.853394               1.37517      0.489341   \n",
       "min                   0.000000               0.00000      0.000000   \n",
       "25%                   0.000000               1.00000      2.000000   \n",
       "50%                   1.000000               2.00000      2.000000   \n",
       "75%                   2.000000               3.00000      2.000000   \n",
       "max                   4.000000               6.00000      4.000000   \n",
       "\n",
       "           children        babies  is_repeated_guest  previous_cancellations  \\\n",
       "count  32412.000000  32412.000000       32412.000000            32412.000000   \n",
       "mean       0.083765      0.005523           0.031377                0.011601   \n",
       "std        0.343470      0.075757           0.174338                0.180473   \n",
       "min        0.000000      0.000000           0.000000                0.000000   \n",
       "25%        0.000000      0.000000           0.000000                0.000000   \n",
       "50%        0.000000      0.000000           0.000000                0.000000   \n",
       "75%        0.000000      0.000000           0.000000                0.000000   \n",
       "max        3.000000      2.000000           1.000000                6.000000   \n",
       "\n",
       "       previous_bookings_not_canceled  booking_changes  days_in_waiting_list  \\\n",
       "count                    32412.000000     32412.000000          32412.000000   \n",
       "mean                         0.171418         0.216741              0.262341   \n",
       "std                          1.875170         0.640551              4.733027   \n",
       "min                          0.000000         0.000000              0.000000   \n",
       "25%                          0.000000         0.000000              0.000000   \n",
       "50%                          0.000000         0.000000              0.000000   \n",
       "75%                          0.000000         0.000000              0.000000   \n",
       "max                         72.000000        18.000000            223.000000   \n",
       "\n",
       "       required_car_parking_spaces  total_of_special_requests  total_nights  \n",
       "count                 32412.000000               32412.000000  32412.000000  \n",
       "mean                      0.046248                   0.657781      3.207979  \n",
       "std                       0.219367                   0.834341      1.738683  \n",
       "min                       0.000000                   0.000000      1.000000  \n",
       "25%                       0.000000                   0.000000      2.000000  \n",
       "50%                       0.000000                   0.000000      3.000000  \n",
       "75%                       0.000000                   1.000000      4.000000  \n",
       "max                       8.000000                   5.000000     10.000000  "
      ]
     },
     "metadata": {},
     "output_type": "display_data"
    },
    {
     "name": "stdout",
     "output_type": "stream",
     "text": [
      "(32412, 25)\n"
     ]
    }
   ],
   "source": [
    "information(df_test)"
   ]
  },
  {
   "cell_type": "code",
   "execution_count": 8,
   "id": "9ba67f0a",
   "metadata": {},
   "outputs": [
    {
     "data": {
      "text/plain": [
       "id                                True\n",
       "is_canceled                       True\n",
       "lead_time                         True\n",
       "arrival_date_year                 True\n",
       "arrival_date_month                True\n",
       "arrival_date_week_number          True\n",
       "arrival_date_day_of_month         True\n",
       "stays_in_weekend_nights           True\n",
       "stays_in_week_nights              True\n",
       "adults                            True\n",
       "children                          True\n",
       "babies                            True\n",
       "meal                              True\n",
       "country                           True\n",
       "distribution_channel              True\n",
       "is_repeated_guest                 True\n",
       "previous_cancellations            True\n",
       "previous_bookings_not_canceled    True\n",
       "reserved_room_type                True\n",
       "booking_changes                   True\n",
       "days_in_waiting_list              True\n",
       "customer_type                     True\n",
       "required_car_parking_spaces       True\n",
       "total_of_special_requests         True\n",
       "total_nights                      True\n",
       "dtype: bool"
      ]
     },
     "execution_count": 8,
     "metadata": {},
     "output_type": "execute_result"
    }
   ],
   "source": [
    "df.dtypes == df_test.dtypes #Смотрим, одинаковы ли типы данных в датасетах"
   ]
  },
  {
   "cell_type": "code",
   "execution_count": 9,
   "id": "e2e82f3a",
   "metadata": {},
   "outputs": [
    {
     "data": {
      "text/html": [
       "<div>\n",
       "<style scoped>\n",
       "    .dataframe tbody tr th:only-of-type {\n",
       "        vertical-align: middle;\n",
       "    }\n",
       "\n",
       "    .dataframe tbody tr th {\n",
       "        vertical-align: top;\n",
       "    }\n",
       "\n",
       "    .dataframe thead th {\n",
       "        text-align: right;\n",
       "    }\n",
       "</style>\n",
       "<table border=\"1\" class=\"dataframe\">\n",
       "  <thead>\n",
       "    <tr style=\"text-align: right;\">\n",
       "      <th></th>\n",
       "      <th>id</th>\n",
       "      <th>is_canceled</th>\n",
       "      <th>lead_time</th>\n",
       "      <th>arrival_date_year</th>\n",
       "      <th>arrival_date_month</th>\n",
       "      <th>arrival_date_week_number</th>\n",
       "      <th>arrival_date_day_of_month</th>\n",
       "      <th>stays_in_weekend_nights</th>\n",
       "      <th>stays_in_week_nights</th>\n",
       "      <th>adults</th>\n",
       "      <th>children</th>\n",
       "      <th>babies</th>\n",
       "      <th>meal</th>\n",
       "      <th>country</th>\n",
       "      <th>distribution_channel</th>\n",
       "      <th>is_repeated_guest</th>\n",
       "      <th>previous_cancellations</th>\n",
       "      <th>previous_bookings_not_canceled</th>\n",
       "      <th>reserved_room_type</th>\n",
       "      <th>booking_changes</th>\n",
       "      <th>days_in_waiting_list</th>\n",
       "      <th>customer_type</th>\n",
       "      <th>required_car_parking_spaces</th>\n",
       "      <th>total_of_special_requests</th>\n",
       "      <th>total_nights</th>\n",
       "    </tr>\n",
       "  </thead>\n",
       "  <tbody>\n",
       "    <tr>\n",
       "      <th>0</th>\n",
       "      <td>False</td>\n",
       "      <td>False</td>\n",
       "      <td>False</td>\n",
       "      <td>False</td>\n",
       "      <td>False</td>\n",
       "      <td>False</td>\n",
       "      <td>False</td>\n",
       "      <td>False</td>\n",
       "      <td>False</td>\n",
       "      <td>False</td>\n",
       "      <td>False</td>\n",
       "      <td>False</td>\n",
       "      <td>False</td>\n",
       "      <td>False</td>\n",
       "      <td>False</td>\n",
       "      <td>False</td>\n",
       "      <td>False</td>\n",
       "      <td>False</td>\n",
       "      <td>False</td>\n",
       "      <td>False</td>\n",
       "      <td>False</td>\n",
       "      <td>False</td>\n",
       "      <td>False</td>\n",
       "      <td>False</td>\n",
       "      <td>False</td>\n",
       "    </tr>\n",
       "    <tr>\n",
       "      <th>1</th>\n",
       "      <td>False</td>\n",
       "      <td>False</td>\n",
       "      <td>False</td>\n",
       "      <td>False</td>\n",
       "      <td>False</td>\n",
       "      <td>False</td>\n",
       "      <td>False</td>\n",
       "      <td>False</td>\n",
       "      <td>False</td>\n",
       "      <td>False</td>\n",
       "      <td>False</td>\n",
       "      <td>False</td>\n",
       "      <td>False</td>\n",
       "      <td>False</td>\n",
       "      <td>False</td>\n",
       "      <td>False</td>\n",
       "      <td>False</td>\n",
       "      <td>False</td>\n",
       "      <td>False</td>\n",
       "      <td>False</td>\n",
       "      <td>False</td>\n",
       "      <td>False</td>\n",
       "      <td>False</td>\n",
       "      <td>False</td>\n",
       "      <td>False</td>\n",
       "    </tr>\n",
       "    <tr>\n",
       "      <th>2</th>\n",
       "      <td>False</td>\n",
       "      <td>False</td>\n",
       "      <td>False</td>\n",
       "      <td>False</td>\n",
       "      <td>False</td>\n",
       "      <td>False</td>\n",
       "      <td>False</td>\n",
       "      <td>False</td>\n",
       "      <td>False</td>\n",
       "      <td>False</td>\n",
       "      <td>False</td>\n",
       "      <td>False</td>\n",
       "      <td>False</td>\n",
       "      <td>False</td>\n",
       "      <td>False</td>\n",
       "      <td>False</td>\n",
       "      <td>False</td>\n",
       "      <td>False</td>\n",
       "      <td>False</td>\n",
       "      <td>False</td>\n",
       "      <td>False</td>\n",
       "      <td>False</td>\n",
       "      <td>False</td>\n",
       "      <td>False</td>\n",
       "      <td>False</td>\n",
       "    </tr>\n",
       "    <tr>\n",
       "      <th>3</th>\n",
       "      <td>False</td>\n",
       "      <td>False</td>\n",
       "      <td>False</td>\n",
       "      <td>False</td>\n",
       "      <td>False</td>\n",
       "      <td>False</td>\n",
       "      <td>False</td>\n",
       "      <td>False</td>\n",
       "      <td>False</td>\n",
       "      <td>False</td>\n",
       "      <td>False</td>\n",
       "      <td>False</td>\n",
       "      <td>False</td>\n",
       "      <td>False</td>\n",
       "      <td>False</td>\n",
       "      <td>False</td>\n",
       "      <td>False</td>\n",
       "      <td>False</td>\n",
       "      <td>False</td>\n",
       "      <td>False</td>\n",
       "      <td>False</td>\n",
       "      <td>False</td>\n",
       "      <td>False</td>\n",
       "      <td>False</td>\n",
       "      <td>False</td>\n",
       "    </tr>\n",
       "    <tr>\n",
       "      <th>4</th>\n",
       "      <td>False</td>\n",
       "      <td>False</td>\n",
       "      <td>False</td>\n",
       "      <td>False</td>\n",
       "      <td>False</td>\n",
       "      <td>False</td>\n",
       "      <td>False</td>\n",
       "      <td>False</td>\n",
       "      <td>False</td>\n",
       "      <td>False</td>\n",
       "      <td>False</td>\n",
       "      <td>False</td>\n",
       "      <td>False</td>\n",
       "      <td>False</td>\n",
       "      <td>False</td>\n",
       "      <td>False</td>\n",
       "      <td>False</td>\n",
       "      <td>False</td>\n",
       "      <td>False</td>\n",
       "      <td>False</td>\n",
       "      <td>False</td>\n",
       "      <td>False</td>\n",
       "      <td>False</td>\n",
       "      <td>False</td>\n",
       "      <td>False</td>\n",
       "    </tr>\n",
       "    <tr>\n",
       "      <th>...</th>\n",
       "      <td>...</td>\n",
       "      <td>...</td>\n",
       "      <td>...</td>\n",
       "      <td>...</td>\n",
       "      <td>...</td>\n",
       "      <td>...</td>\n",
       "      <td>...</td>\n",
       "      <td>...</td>\n",
       "      <td>...</td>\n",
       "      <td>...</td>\n",
       "      <td>...</td>\n",
       "      <td>...</td>\n",
       "      <td>...</td>\n",
       "      <td>...</td>\n",
       "      <td>...</td>\n",
       "      <td>...</td>\n",
       "      <td>...</td>\n",
       "      <td>...</td>\n",
       "      <td>...</td>\n",
       "      <td>...</td>\n",
       "      <td>...</td>\n",
       "      <td>...</td>\n",
       "      <td>...</td>\n",
       "      <td>...</td>\n",
       "      <td>...</td>\n",
       "    </tr>\n",
       "    <tr>\n",
       "      <th>65224</th>\n",
       "      <td>False</td>\n",
       "      <td>False</td>\n",
       "      <td>False</td>\n",
       "      <td>False</td>\n",
       "      <td>False</td>\n",
       "      <td>False</td>\n",
       "      <td>False</td>\n",
       "      <td>False</td>\n",
       "      <td>False</td>\n",
       "      <td>False</td>\n",
       "      <td>False</td>\n",
       "      <td>False</td>\n",
       "      <td>False</td>\n",
       "      <td>False</td>\n",
       "      <td>False</td>\n",
       "      <td>False</td>\n",
       "      <td>False</td>\n",
       "      <td>False</td>\n",
       "      <td>False</td>\n",
       "      <td>False</td>\n",
       "      <td>False</td>\n",
       "      <td>False</td>\n",
       "      <td>False</td>\n",
       "      <td>False</td>\n",
       "      <td>False</td>\n",
       "    </tr>\n",
       "    <tr>\n",
       "      <th>65225</th>\n",
       "      <td>False</td>\n",
       "      <td>False</td>\n",
       "      <td>False</td>\n",
       "      <td>False</td>\n",
       "      <td>False</td>\n",
       "      <td>False</td>\n",
       "      <td>False</td>\n",
       "      <td>False</td>\n",
       "      <td>False</td>\n",
       "      <td>False</td>\n",
       "      <td>False</td>\n",
       "      <td>False</td>\n",
       "      <td>False</td>\n",
       "      <td>False</td>\n",
       "      <td>False</td>\n",
       "      <td>False</td>\n",
       "      <td>False</td>\n",
       "      <td>False</td>\n",
       "      <td>False</td>\n",
       "      <td>False</td>\n",
       "      <td>False</td>\n",
       "      <td>False</td>\n",
       "      <td>False</td>\n",
       "      <td>False</td>\n",
       "      <td>False</td>\n",
       "    </tr>\n",
       "    <tr>\n",
       "      <th>65226</th>\n",
       "      <td>False</td>\n",
       "      <td>False</td>\n",
       "      <td>False</td>\n",
       "      <td>False</td>\n",
       "      <td>False</td>\n",
       "      <td>False</td>\n",
       "      <td>False</td>\n",
       "      <td>False</td>\n",
       "      <td>False</td>\n",
       "      <td>False</td>\n",
       "      <td>False</td>\n",
       "      <td>False</td>\n",
       "      <td>False</td>\n",
       "      <td>False</td>\n",
       "      <td>False</td>\n",
       "      <td>False</td>\n",
       "      <td>False</td>\n",
       "      <td>False</td>\n",
       "      <td>False</td>\n",
       "      <td>False</td>\n",
       "      <td>False</td>\n",
       "      <td>False</td>\n",
       "      <td>False</td>\n",
       "      <td>False</td>\n",
       "      <td>False</td>\n",
       "    </tr>\n",
       "    <tr>\n",
       "      <th>65227</th>\n",
       "      <td>False</td>\n",
       "      <td>False</td>\n",
       "      <td>False</td>\n",
       "      <td>False</td>\n",
       "      <td>False</td>\n",
       "      <td>False</td>\n",
       "      <td>False</td>\n",
       "      <td>False</td>\n",
       "      <td>False</td>\n",
       "      <td>False</td>\n",
       "      <td>False</td>\n",
       "      <td>False</td>\n",
       "      <td>False</td>\n",
       "      <td>False</td>\n",
       "      <td>False</td>\n",
       "      <td>False</td>\n",
       "      <td>False</td>\n",
       "      <td>False</td>\n",
       "      <td>False</td>\n",
       "      <td>False</td>\n",
       "      <td>False</td>\n",
       "      <td>False</td>\n",
       "      <td>False</td>\n",
       "      <td>False</td>\n",
       "      <td>False</td>\n",
       "    </tr>\n",
       "    <tr>\n",
       "      <th>65228</th>\n",
       "      <td>False</td>\n",
       "      <td>False</td>\n",
       "      <td>False</td>\n",
       "      <td>False</td>\n",
       "      <td>False</td>\n",
       "      <td>False</td>\n",
       "      <td>False</td>\n",
       "      <td>False</td>\n",
       "      <td>False</td>\n",
       "      <td>False</td>\n",
       "      <td>False</td>\n",
       "      <td>False</td>\n",
       "      <td>False</td>\n",
       "      <td>False</td>\n",
       "      <td>False</td>\n",
       "      <td>False</td>\n",
       "      <td>False</td>\n",
       "      <td>False</td>\n",
       "      <td>False</td>\n",
       "      <td>False</td>\n",
       "      <td>False</td>\n",
       "      <td>False</td>\n",
       "      <td>False</td>\n",
       "      <td>False</td>\n",
       "      <td>False</td>\n",
       "    </tr>\n",
       "  </tbody>\n",
       "</table>\n",
       "<p>65229 rows × 25 columns</p>\n",
       "</div>"
      ],
      "text/plain": [
       "          id  is_canceled  lead_time  arrival_date_year  arrival_date_month  \\\n",
       "0      False        False      False              False               False   \n",
       "1      False        False      False              False               False   \n",
       "2      False        False      False              False               False   \n",
       "3      False        False      False              False               False   \n",
       "4      False        False      False              False               False   \n",
       "...      ...          ...        ...                ...                 ...   \n",
       "65224  False        False      False              False               False   \n",
       "65225  False        False      False              False               False   \n",
       "65226  False        False      False              False               False   \n",
       "65227  False        False      False              False               False   \n",
       "65228  False        False      False              False               False   \n",
       "\n",
       "       arrival_date_week_number  arrival_date_day_of_month  \\\n",
       "0                         False                      False   \n",
       "1                         False                      False   \n",
       "2                         False                      False   \n",
       "3                         False                      False   \n",
       "4                         False                      False   \n",
       "...                         ...                        ...   \n",
       "65224                     False                      False   \n",
       "65225                     False                      False   \n",
       "65226                     False                      False   \n",
       "65227                     False                      False   \n",
       "65228                     False                      False   \n",
       "\n",
       "       stays_in_weekend_nights  stays_in_week_nights  adults  children  \\\n",
       "0                        False                 False   False     False   \n",
       "1                        False                 False   False     False   \n",
       "2                        False                 False   False     False   \n",
       "3                        False                 False   False     False   \n",
       "4                        False                 False   False     False   \n",
       "...                        ...                   ...     ...       ...   \n",
       "65224                    False                 False   False     False   \n",
       "65225                    False                 False   False     False   \n",
       "65226                    False                 False   False     False   \n",
       "65227                    False                 False   False     False   \n",
       "65228                    False                 False   False     False   \n",
       "\n",
       "       babies   meal  country  distribution_channel  is_repeated_guest  \\\n",
       "0       False  False    False                 False              False   \n",
       "1       False  False    False                 False              False   \n",
       "2       False  False    False                 False              False   \n",
       "3       False  False    False                 False              False   \n",
       "4       False  False    False                 False              False   \n",
       "...       ...    ...      ...                   ...                ...   \n",
       "65224   False  False    False                 False              False   \n",
       "65225   False  False    False                 False              False   \n",
       "65226   False  False    False                 False              False   \n",
       "65227   False  False    False                 False              False   \n",
       "65228   False  False    False                 False              False   \n",
       "\n",
       "       previous_cancellations  previous_bookings_not_canceled  \\\n",
       "0                       False                           False   \n",
       "1                       False                           False   \n",
       "2                       False                           False   \n",
       "3                       False                           False   \n",
       "4                       False                           False   \n",
       "...                       ...                             ...   \n",
       "65224                   False                           False   \n",
       "65225                   False                           False   \n",
       "65226                   False                           False   \n",
       "65227                   False                           False   \n",
       "65228                   False                           False   \n",
       "\n",
       "       reserved_room_type  booking_changes  days_in_waiting_list  \\\n",
       "0                   False            False                 False   \n",
       "1                   False            False                 False   \n",
       "2                   False            False                 False   \n",
       "3                   False            False                 False   \n",
       "4                   False            False                 False   \n",
       "...                   ...              ...                   ...   \n",
       "65224               False            False                 False   \n",
       "65225               False            False                 False   \n",
       "65226               False            False                 False   \n",
       "65227               False            False                 False   \n",
       "65228               False            False                 False   \n",
       "\n",
       "       customer_type  required_car_parking_spaces  total_of_special_requests  \\\n",
       "0              False                        False                      False   \n",
       "1              False                        False                      False   \n",
       "2              False                        False                      False   \n",
       "3              False                        False                      False   \n",
       "4              False                        False                      False   \n",
       "...              ...                          ...                        ...   \n",
       "65224          False                        False                      False   \n",
       "65225          False                        False                      False   \n",
       "65226          False                        False                      False   \n",
       "65227          False                        False                      False   \n",
       "65228          False                        False                      False   \n",
       "\n",
       "       total_nights  \n",
       "0             False  \n",
       "1             False  \n",
       "2             False  \n",
       "3             False  \n",
       "4             False  \n",
       "...             ...  \n",
       "65224         False  \n",
       "65225         False  \n",
       "65226         False  \n",
       "65227         False  \n",
       "65228         False  \n",
       "\n",
       "[65229 rows x 25 columns]"
      ]
     },
     "execution_count": 9,
     "metadata": {},
     "output_type": "execute_result"
    }
   ],
   "source": [
    "df.isnull()"
   ]
  },
  {
   "cell_type": "code",
   "execution_count": 10,
   "id": "36cb9189",
   "metadata": {
    "scrolled": true
   },
   "outputs": [
    {
     "data": {
      "text/html": [
       "<div>\n",
       "<style scoped>\n",
       "    .dataframe tbody tr th:only-of-type {\n",
       "        vertical-align: middle;\n",
       "    }\n",
       "\n",
       "    .dataframe tbody tr th {\n",
       "        vertical-align: top;\n",
       "    }\n",
       "\n",
       "    .dataframe thead th {\n",
       "        text-align: right;\n",
       "    }\n",
       "</style>\n",
       "<table border=\"1\" class=\"dataframe\">\n",
       "  <thead>\n",
       "    <tr style=\"text-align: right;\">\n",
       "      <th></th>\n",
       "      <th>id</th>\n",
       "      <th>is_canceled</th>\n",
       "      <th>lead_time</th>\n",
       "      <th>arrival_date_year</th>\n",
       "      <th>arrival_date_month</th>\n",
       "      <th>arrival_date_week_number</th>\n",
       "      <th>arrival_date_day_of_month</th>\n",
       "      <th>stays_in_weekend_nights</th>\n",
       "      <th>stays_in_week_nights</th>\n",
       "      <th>adults</th>\n",
       "      <th>children</th>\n",
       "      <th>babies</th>\n",
       "      <th>meal</th>\n",
       "      <th>country</th>\n",
       "      <th>distribution_channel</th>\n",
       "      <th>is_repeated_guest</th>\n",
       "      <th>previous_cancellations</th>\n",
       "      <th>previous_bookings_not_canceled</th>\n",
       "      <th>reserved_room_type</th>\n",
       "      <th>booking_changes</th>\n",
       "      <th>days_in_waiting_list</th>\n",
       "      <th>customer_type</th>\n",
       "      <th>required_car_parking_spaces</th>\n",
       "      <th>total_of_special_requests</th>\n",
       "      <th>total_nights</th>\n",
       "    </tr>\n",
       "  </thead>\n",
       "  <tbody>\n",
       "    <tr>\n",
       "      <th>0</th>\n",
       "      <td>False</td>\n",
       "      <td>False</td>\n",
       "      <td>False</td>\n",
       "      <td>False</td>\n",
       "      <td>False</td>\n",
       "      <td>False</td>\n",
       "      <td>False</td>\n",
       "      <td>False</td>\n",
       "      <td>False</td>\n",
       "      <td>False</td>\n",
       "      <td>False</td>\n",
       "      <td>False</td>\n",
       "      <td>False</td>\n",
       "      <td>False</td>\n",
       "      <td>False</td>\n",
       "      <td>False</td>\n",
       "      <td>False</td>\n",
       "      <td>False</td>\n",
       "      <td>False</td>\n",
       "      <td>False</td>\n",
       "      <td>False</td>\n",
       "      <td>False</td>\n",
       "      <td>False</td>\n",
       "      <td>False</td>\n",
       "      <td>False</td>\n",
       "    </tr>\n",
       "    <tr>\n",
       "      <th>1</th>\n",
       "      <td>False</td>\n",
       "      <td>False</td>\n",
       "      <td>False</td>\n",
       "      <td>False</td>\n",
       "      <td>False</td>\n",
       "      <td>False</td>\n",
       "      <td>False</td>\n",
       "      <td>False</td>\n",
       "      <td>False</td>\n",
       "      <td>False</td>\n",
       "      <td>False</td>\n",
       "      <td>False</td>\n",
       "      <td>False</td>\n",
       "      <td>False</td>\n",
       "      <td>False</td>\n",
       "      <td>False</td>\n",
       "      <td>False</td>\n",
       "      <td>False</td>\n",
       "      <td>False</td>\n",
       "      <td>False</td>\n",
       "      <td>False</td>\n",
       "      <td>False</td>\n",
       "      <td>False</td>\n",
       "      <td>False</td>\n",
       "      <td>False</td>\n",
       "    </tr>\n",
       "    <tr>\n",
       "      <th>2</th>\n",
       "      <td>False</td>\n",
       "      <td>False</td>\n",
       "      <td>False</td>\n",
       "      <td>False</td>\n",
       "      <td>False</td>\n",
       "      <td>False</td>\n",
       "      <td>False</td>\n",
       "      <td>False</td>\n",
       "      <td>False</td>\n",
       "      <td>False</td>\n",
       "      <td>False</td>\n",
       "      <td>False</td>\n",
       "      <td>False</td>\n",
       "      <td>False</td>\n",
       "      <td>False</td>\n",
       "      <td>False</td>\n",
       "      <td>False</td>\n",
       "      <td>False</td>\n",
       "      <td>False</td>\n",
       "      <td>False</td>\n",
       "      <td>False</td>\n",
       "      <td>False</td>\n",
       "      <td>False</td>\n",
       "      <td>False</td>\n",
       "      <td>False</td>\n",
       "    </tr>\n",
       "    <tr>\n",
       "      <th>3</th>\n",
       "      <td>False</td>\n",
       "      <td>False</td>\n",
       "      <td>False</td>\n",
       "      <td>False</td>\n",
       "      <td>False</td>\n",
       "      <td>False</td>\n",
       "      <td>False</td>\n",
       "      <td>False</td>\n",
       "      <td>False</td>\n",
       "      <td>False</td>\n",
       "      <td>False</td>\n",
       "      <td>False</td>\n",
       "      <td>False</td>\n",
       "      <td>False</td>\n",
       "      <td>False</td>\n",
       "      <td>False</td>\n",
       "      <td>False</td>\n",
       "      <td>False</td>\n",
       "      <td>False</td>\n",
       "      <td>False</td>\n",
       "      <td>False</td>\n",
       "      <td>False</td>\n",
       "      <td>False</td>\n",
       "      <td>False</td>\n",
       "      <td>False</td>\n",
       "    </tr>\n",
       "    <tr>\n",
       "      <th>4</th>\n",
       "      <td>False</td>\n",
       "      <td>False</td>\n",
       "      <td>False</td>\n",
       "      <td>False</td>\n",
       "      <td>False</td>\n",
       "      <td>False</td>\n",
       "      <td>False</td>\n",
       "      <td>False</td>\n",
       "      <td>False</td>\n",
       "      <td>False</td>\n",
       "      <td>False</td>\n",
       "      <td>False</td>\n",
       "      <td>False</td>\n",
       "      <td>False</td>\n",
       "      <td>False</td>\n",
       "      <td>False</td>\n",
       "      <td>False</td>\n",
       "      <td>False</td>\n",
       "      <td>False</td>\n",
       "      <td>False</td>\n",
       "      <td>False</td>\n",
       "      <td>False</td>\n",
       "      <td>False</td>\n",
       "      <td>False</td>\n",
       "      <td>False</td>\n",
       "    </tr>\n",
       "    <tr>\n",
       "      <th>...</th>\n",
       "      <td>...</td>\n",
       "      <td>...</td>\n",
       "      <td>...</td>\n",
       "      <td>...</td>\n",
       "      <td>...</td>\n",
       "      <td>...</td>\n",
       "      <td>...</td>\n",
       "      <td>...</td>\n",
       "      <td>...</td>\n",
       "      <td>...</td>\n",
       "      <td>...</td>\n",
       "      <td>...</td>\n",
       "      <td>...</td>\n",
       "      <td>...</td>\n",
       "      <td>...</td>\n",
       "      <td>...</td>\n",
       "      <td>...</td>\n",
       "      <td>...</td>\n",
       "      <td>...</td>\n",
       "      <td>...</td>\n",
       "      <td>...</td>\n",
       "      <td>...</td>\n",
       "      <td>...</td>\n",
       "      <td>...</td>\n",
       "      <td>...</td>\n",
       "    </tr>\n",
       "    <tr>\n",
       "      <th>32407</th>\n",
       "      <td>False</td>\n",
       "      <td>False</td>\n",
       "      <td>False</td>\n",
       "      <td>False</td>\n",
       "      <td>False</td>\n",
       "      <td>False</td>\n",
       "      <td>False</td>\n",
       "      <td>False</td>\n",
       "      <td>False</td>\n",
       "      <td>False</td>\n",
       "      <td>False</td>\n",
       "      <td>False</td>\n",
       "      <td>False</td>\n",
       "      <td>False</td>\n",
       "      <td>False</td>\n",
       "      <td>False</td>\n",
       "      <td>False</td>\n",
       "      <td>False</td>\n",
       "      <td>False</td>\n",
       "      <td>False</td>\n",
       "      <td>False</td>\n",
       "      <td>False</td>\n",
       "      <td>False</td>\n",
       "      <td>False</td>\n",
       "      <td>False</td>\n",
       "    </tr>\n",
       "    <tr>\n",
       "      <th>32408</th>\n",
       "      <td>False</td>\n",
       "      <td>False</td>\n",
       "      <td>False</td>\n",
       "      <td>False</td>\n",
       "      <td>False</td>\n",
       "      <td>False</td>\n",
       "      <td>False</td>\n",
       "      <td>False</td>\n",
       "      <td>False</td>\n",
       "      <td>False</td>\n",
       "      <td>False</td>\n",
       "      <td>False</td>\n",
       "      <td>False</td>\n",
       "      <td>False</td>\n",
       "      <td>False</td>\n",
       "      <td>False</td>\n",
       "      <td>False</td>\n",
       "      <td>False</td>\n",
       "      <td>False</td>\n",
       "      <td>False</td>\n",
       "      <td>False</td>\n",
       "      <td>False</td>\n",
       "      <td>False</td>\n",
       "      <td>False</td>\n",
       "      <td>False</td>\n",
       "    </tr>\n",
       "    <tr>\n",
       "      <th>32409</th>\n",
       "      <td>False</td>\n",
       "      <td>False</td>\n",
       "      <td>False</td>\n",
       "      <td>False</td>\n",
       "      <td>False</td>\n",
       "      <td>False</td>\n",
       "      <td>False</td>\n",
       "      <td>False</td>\n",
       "      <td>False</td>\n",
       "      <td>False</td>\n",
       "      <td>False</td>\n",
       "      <td>False</td>\n",
       "      <td>False</td>\n",
       "      <td>False</td>\n",
       "      <td>False</td>\n",
       "      <td>False</td>\n",
       "      <td>False</td>\n",
       "      <td>False</td>\n",
       "      <td>False</td>\n",
       "      <td>False</td>\n",
       "      <td>False</td>\n",
       "      <td>False</td>\n",
       "      <td>False</td>\n",
       "      <td>False</td>\n",
       "      <td>False</td>\n",
       "    </tr>\n",
       "    <tr>\n",
       "      <th>32410</th>\n",
       "      <td>False</td>\n",
       "      <td>False</td>\n",
       "      <td>False</td>\n",
       "      <td>False</td>\n",
       "      <td>False</td>\n",
       "      <td>False</td>\n",
       "      <td>False</td>\n",
       "      <td>False</td>\n",
       "      <td>False</td>\n",
       "      <td>False</td>\n",
       "      <td>False</td>\n",
       "      <td>False</td>\n",
       "      <td>False</td>\n",
       "      <td>False</td>\n",
       "      <td>False</td>\n",
       "      <td>False</td>\n",
       "      <td>False</td>\n",
       "      <td>False</td>\n",
       "      <td>False</td>\n",
       "      <td>False</td>\n",
       "      <td>False</td>\n",
       "      <td>False</td>\n",
       "      <td>False</td>\n",
       "      <td>False</td>\n",
       "      <td>False</td>\n",
       "    </tr>\n",
       "    <tr>\n",
       "      <th>32411</th>\n",
       "      <td>False</td>\n",
       "      <td>False</td>\n",
       "      <td>False</td>\n",
       "      <td>False</td>\n",
       "      <td>False</td>\n",
       "      <td>False</td>\n",
       "      <td>False</td>\n",
       "      <td>False</td>\n",
       "      <td>False</td>\n",
       "      <td>False</td>\n",
       "      <td>False</td>\n",
       "      <td>False</td>\n",
       "      <td>False</td>\n",
       "      <td>False</td>\n",
       "      <td>False</td>\n",
       "      <td>False</td>\n",
       "      <td>False</td>\n",
       "      <td>False</td>\n",
       "      <td>False</td>\n",
       "      <td>False</td>\n",
       "      <td>False</td>\n",
       "      <td>False</td>\n",
       "      <td>False</td>\n",
       "      <td>False</td>\n",
       "      <td>False</td>\n",
       "    </tr>\n",
       "  </tbody>\n",
       "</table>\n",
       "<p>32412 rows × 25 columns</p>\n",
       "</div>"
      ],
      "text/plain": [
       "          id  is_canceled  lead_time  arrival_date_year  arrival_date_month  \\\n",
       "0      False        False      False              False               False   \n",
       "1      False        False      False              False               False   \n",
       "2      False        False      False              False               False   \n",
       "3      False        False      False              False               False   \n",
       "4      False        False      False              False               False   \n",
       "...      ...          ...        ...                ...                 ...   \n",
       "32407  False        False      False              False               False   \n",
       "32408  False        False      False              False               False   \n",
       "32409  False        False      False              False               False   \n",
       "32410  False        False      False              False               False   \n",
       "32411  False        False      False              False               False   \n",
       "\n",
       "       arrival_date_week_number  arrival_date_day_of_month  \\\n",
       "0                         False                      False   \n",
       "1                         False                      False   \n",
       "2                         False                      False   \n",
       "3                         False                      False   \n",
       "4                         False                      False   \n",
       "...                         ...                        ...   \n",
       "32407                     False                      False   \n",
       "32408                     False                      False   \n",
       "32409                     False                      False   \n",
       "32410                     False                      False   \n",
       "32411                     False                      False   \n",
       "\n",
       "       stays_in_weekend_nights  stays_in_week_nights  adults  children  \\\n",
       "0                        False                 False   False     False   \n",
       "1                        False                 False   False     False   \n",
       "2                        False                 False   False     False   \n",
       "3                        False                 False   False     False   \n",
       "4                        False                 False   False     False   \n",
       "...                        ...                   ...     ...       ...   \n",
       "32407                    False                 False   False     False   \n",
       "32408                    False                 False   False     False   \n",
       "32409                    False                 False   False     False   \n",
       "32410                    False                 False   False     False   \n",
       "32411                    False                 False   False     False   \n",
       "\n",
       "       babies   meal  country  distribution_channel  is_repeated_guest  \\\n",
       "0       False  False    False                 False              False   \n",
       "1       False  False    False                 False              False   \n",
       "2       False  False    False                 False              False   \n",
       "3       False  False    False                 False              False   \n",
       "4       False  False    False                 False              False   \n",
       "...       ...    ...      ...                   ...                ...   \n",
       "32407   False  False    False                 False              False   \n",
       "32408   False  False    False                 False              False   \n",
       "32409   False  False    False                 False              False   \n",
       "32410   False  False    False                 False              False   \n",
       "32411   False  False    False                 False              False   \n",
       "\n",
       "       previous_cancellations  previous_bookings_not_canceled  \\\n",
       "0                       False                           False   \n",
       "1                       False                           False   \n",
       "2                       False                           False   \n",
       "3                       False                           False   \n",
       "4                       False                           False   \n",
       "...                       ...                             ...   \n",
       "32407                   False                           False   \n",
       "32408                   False                           False   \n",
       "32409                   False                           False   \n",
       "32410                   False                           False   \n",
       "32411                   False                           False   \n",
       "\n",
       "       reserved_room_type  booking_changes  days_in_waiting_list  \\\n",
       "0                   False            False                 False   \n",
       "1                   False            False                 False   \n",
       "2                   False            False                 False   \n",
       "3                   False            False                 False   \n",
       "4                   False            False                 False   \n",
       "...                   ...              ...                   ...   \n",
       "32407               False            False                 False   \n",
       "32408               False            False                 False   \n",
       "32409               False            False                 False   \n",
       "32410               False            False                 False   \n",
       "32411               False            False                 False   \n",
       "\n",
       "       customer_type  required_car_parking_spaces  total_of_special_requests  \\\n",
       "0              False                        False                      False   \n",
       "1              False                        False                      False   \n",
       "2              False                        False                      False   \n",
       "3              False                        False                      False   \n",
       "4              False                        False                      False   \n",
       "...              ...                          ...                        ...   \n",
       "32407          False                        False                      False   \n",
       "32408          False                        False                      False   \n",
       "32409          False                        False                      False   \n",
       "32410          False                        False                      False   \n",
       "32411          False                        False                      False   \n",
       "\n",
       "       total_nights  \n",
       "0             False  \n",
       "1             False  \n",
       "2             False  \n",
       "3             False  \n",
       "4             False  \n",
       "...             ...  \n",
       "32407         False  \n",
       "32408         False  \n",
       "32409         False  \n",
       "32410         False  \n",
       "32411         False  \n",
       "\n",
       "[32412 rows x 25 columns]"
      ]
     },
     "execution_count": 10,
     "metadata": {},
     "output_type": "execute_result"
    }
   ],
   "source": [
    "df_test.isnull()"
   ]
  },
  {
   "cell_type": "markdown",
   "id": "037d8877",
   "metadata": {},
   "source": [
    "Гистограммы распределения признаов в тренировочном датасете"
   ]
  },
  {
   "cell_type": "code",
   "execution_count": 11,
   "id": "5ef32282",
   "metadata": {},
   "outputs": [
    {
     "data": {
      "image/png": "[encoded data removed]",
      "text/plain": [
       "<Figure size 1080x1080 with 20 Axes>"
      ]
     },
     "metadata": {
      "needs_background": "light"
     },
     "output_type": "display_data"
    }
   ],
   "source": [
    "df.hist(figsize = (15, 15));"
   ]
  },
  {
   "cell_type": "code",
   "execution_count": 12,
   "id": "c79040c1",
   "metadata": {},
   "outputs": [
    {
     "data": {
      "image/png": "[encoded data removed]",
      "text/plain": [
       "<Figure size 1080x576 with 2 Axes>"
      ]
     },
     "metadata": {
      "needs_background": "light"
     },
     "output_type": "display_data"
    }
   ],
   "source": [
    "plt.figure(figsize=(15,8))\n",
    "sns.heatmap(df.corr().round(2), annot = True)\n",
    "plt.title('Корреляционное поле')\n",
    "plt.show()"
   ]
  },
  {
   "cell_type": "markdown",
   "id": "d7fb0240",
   "metadata": {},
   "source": [
    "<div class=\"alert alert-success\">\n",
    "<h2>Комментарий ревьюера<a class=\"tocSkip\"></a></h2>\n",
    "    \n",
    "**Отлично!** ✔️: молодец, что изучаешь матрицу корреляций!</div>"
   ]
  },
  {
   "cell_type": "markdown",
   "id": "56e94eea",
   "metadata": {},
   "source": [
    "<div class=\"alert alert-warning\">\n",
    "<h2>Комментарий ревьюера<a class=\"tocSkip\"></a></h2>\n",
    "    \n",
    "**Есть совет** ⚠️: чтобы значения на графике не накладывались друг на друга, можно их округлить, например, до 2 знаков: `df.corr().round(2)`</div>"
   ]
  },
  {
   "cell_type": "markdown",
   "id": "b5828a77",
   "metadata": {},
   "source": [
    "**Вывод**\n",
    "\n",
    "Информация о данных получена, построенные гистограммы, график парных коэффициентов корреляции и выведена основная информация о каждом признаке в датасетах. Пропусков нет, с аномальными значениями будем разбираться дальше. Есть явная взаоимосвязть между total_nights и stays_in_week_nights, stays_in_weekend_nights"
   ]
  },
  {
   "cell_type": "markdown",
   "id": "7277cb5e",
   "metadata": {},
   "source": [
    "# Шаг 2. Предобработка и исследовательский анализ данных <a id='3'></a>\n",
    "\n",
    "* **Проверьте данные и откорректируйте их, если потребуется.**\n",
    "\n",
    "* **Проведите исследовательский анализ представленных данных. Опишите найденные особенности: пропуски, выбросы.**"
   ]
  },
  {
   "cell_type": "markdown",
   "id": "42f2fd11",
   "metadata": {},
   "source": [
    "Что мы будем делалть?\n",
    "- проверим есть ли в данных дубликаты\n",
    "- удалим столбцы и строки, которые не пригодятся в дальнейшей работе\n",
    "- поменяем у некоторых столбцов тип данных\n",
    "- рассмотрим каждый каждый признак отдельно\n",
    "\n",
    "\n",
    "Весь анализ данных будет происходить на тренирочной выборке, а далее будут приняты решения, что менять в этой тренировочной выборке."
   ]
  },
  {
   "cell_type": "markdown",
   "id": "764e85f3",
   "metadata": {},
   "source": [
    "## Дубликаты"
   ]
  },
  {
   "cell_type": "code",
   "execution_count": 13,
   "id": "bf0be27f",
   "metadata": {},
   "outputs": [
    {
     "name": "stdout",
     "output_type": "stream",
     "text": [
      "Дубликатов в тренировочной выборке нет\n"
     ]
    }
   ],
   "source": [
    "if ~df.duplicated().any():\n",
    "    print('Дубликатов в тренировочной выборке нет')\n",
    "else:\n",
    "    print('Дубликаты есть')"
   ]
  },
  {
   "cell_type": "code",
   "execution_count": 14,
   "id": "f755ccd1",
   "metadata": {},
   "outputs": [
    {
     "name": "stdout",
     "output_type": "stream",
     "text": [
      "Дубликатов в тестовой выборке нет\n"
     ]
    }
   ],
   "source": [
    "if ~df_test.duplicated().any():\n",
    "    print('Дубликатов в тестовой выборке нет')\n",
    "else:\n",
    "    print('Дубликаты есть')"
   ]
  },
  {
   "cell_type": "markdown",
   "id": "c2a1e29d",
   "metadata": {},
   "source": [
    "<div class=\"alert alert-warning\">\n",
    "<h2>Комментарий ревьюера<a class=\"tocSkip\"></a></h2>\n",
    "    \n",
    "**Есть совет** ⚠️: еще стоит проверить наличие полных дубликатов после удаления id</div>"
   ]
  },
  {
   "cell_type": "markdown",
   "id": "0624d877",
   "metadata": {},
   "source": [
    "## Ненужные столбцы и строки"
   ]
  },
  {
   "cell_type": "code",
   "execution_count": 15,
   "id": "42aa9c95",
   "metadata": {},
   "outputs": [
    {
     "data": {
      "text/plain": [
       "(65229, 25)"
      ]
     },
     "execution_count": 15,
     "metadata": {},
     "output_type": "execute_result"
    }
   ],
   "source": [
    "df.shape"
   ]
  },
  {
   "cell_type": "code",
   "execution_count": 16,
   "id": "a9c25141",
   "metadata": {},
   "outputs": [
    {
     "data": {
      "text/plain": [
       "2016    46901\n",
       "2015    18328\n",
       "Name: arrival_date_year, dtype: int64"
      ]
     },
     "execution_count": 16,
     "metadata": {},
     "output_type": "execute_result"
    }
   ],
   "source": [
    "df.arrival_date_year.value_counts()"
   ]
  },
  {
   "cell_type": "code",
   "execution_count": 17,
   "id": "82476325",
   "metadata": {},
   "outputs": [
    {
     "data": {
      "text/plain": [
       "array([27, 28, 29, 30, 31, 32, 33, 34, 35, 36, 37, 38, 39, 40, 41, 42, 43,\n",
       "       44, 45, 46, 47, 48, 49, 50, 51, 52, 53,  1,  2,  3,  4,  5,  6,  7,\n",
       "        8,  9, 10, 11, 12, 13, 14, 15, 16, 17, 18, 19, 20, 21, 22, 23, 24,\n",
       "       25, 26])"
      ]
     },
     "execution_count": 17,
     "metadata": {},
     "output_type": "execute_result"
    }
   ],
   "source": [
    "df.arrival_date_week_number.unique()"
   ]
  },
  {
   "cell_type": "code",
   "execution_count": 18,
   "id": "de55da79",
   "metadata": {},
   "outputs": [
    {
     "data": {
      "text/plain": [
       "array([ 1,  2,  3,  4,  5,  6,  7,  8,  9, 10, 11, 12, 13, 14, 15, 16, 17,\n",
       "       18, 19, 20, 21, 22, 23, 24, 25, 26, 27, 28, 29, 30, 31])"
      ]
     },
     "execution_count": 18,
     "metadata": {},
     "output_type": "execute_result"
    }
   ],
   "source": [
    "df.arrival_date_day_of_month.unique()"
   ]
  },
  {
   "cell_type": "code",
   "execution_count": 19,
   "id": "672f3b6c",
   "metadata": {},
   "outputs": [
    {
     "data": {
      "text/plain": [
       "2     0.257478\n",
       "3     0.239955\n",
       "1     0.185838\n",
       "4     0.147618\n",
       "5     0.065738\n",
       "7     0.059069\n",
       "6     0.031857\n",
       "8     0.008309\n",
       "9     0.002330\n",
       "10    0.001809\n",
       "Name: total_nights, dtype: float64"
      ]
     },
     "execution_count": 19,
     "metadata": {},
     "output_type": "execute_result"
    }
   ],
   "source": [
    "df.total_nights.value_counts(normalize = True)"
   ]
  },
  {
   "cell_type": "code",
   "execution_count": 20,
   "id": "bfd42ae1",
   "metadata": {},
   "outputs": [
    {
     "data": {
      "text/plain": [
       "TA/TO        0.834813\n",
       "Direct       0.105061\n",
       "Corporate    0.058609\n",
       "GDS          0.001518\n",
       "Name: distribution_channel, dtype: float64"
      ]
     },
     "execution_count": 20,
     "metadata": {},
     "output_type": "execute_result"
    }
   ],
   "source": [
    "df.distribution_channel.value_counts(normalize = True)"
   ]
  },
  {
   "cell_type": "markdown",
   "id": "dc1b4146",
   "metadata": {},
   "source": [
    "* id - для всех разный, не поможет в обучении модели\n",
    "\n",
    "\n",
    "* arrival_date_year - всего два года, для следующих лет эта информация бесполезна\n",
    "\n",
    "\n",
    "* arrival_date_week_number - большая вариация выбора, далее создам просто колонку с сезоном года\n",
    "\n",
    "\n",
    "* arrival_date_day_of_month - день месяца будет бесполезен в обучении модели, так как информация изменяется в днях не из-за самих дней, а из-за сезоона\n",
    "\n",
    "\n",
    "* total_nights - не нужен, так как есть кол-во ночей в рабочие и выходные дни\n",
    "\n",
    "\n",
    "* distribution_channel - то, откуда перешел покупатель или где конкретно купил билеты, не влияет на его отмену броирования"
   ]
  },
  {
   "cell_type": "code",
   "execution_count": 21,
   "id": "cf234996",
   "metadata": {},
   "outputs": [
    {
     "data": {
      "text/plain": [
       "0        True\n",
       "1        True\n",
       "2        True\n",
       "3        True\n",
       "4        True\n",
       "         ... \n",
       "65224    True\n",
       "65225    True\n",
       "65226    True\n",
       "65227    True\n",
       "65228    True\n",
       "Length: 65229, dtype: bool"
      ]
     },
     "execution_count": 21,
     "metadata": {},
     "output_type": "execute_result"
    }
   ],
   "source": [
    "df['stays_in_week_nights'] + df['stays_in_weekend_nights'] == df['total_nights']"
   ]
  },
  {
   "cell_type": "code",
   "execution_count": 22,
   "id": "7373bc5d",
   "metadata": {},
   "outputs": [],
   "source": [
    "df = df.drop(['id','arrival_date_year', 'arrival_date_week_number', 'arrival_date_day_of_month',\n",
    "             'total_nights', 'distribution_channel', 'is_repeated_guest'], axis = 1)\n",
    "\n",
    "df_test = df_test.drop(['id','arrival_date_year', 'arrival_date_week_number', 'arrival_date_day_of_month',\n",
    "             'total_nights', 'distribution_channel', 'is_repeated_guest'], axis = 1)"
   ]
  },
  {
   "cell_type": "markdown",
   "id": "63ef98b8",
   "metadata": {},
   "source": [
    "Проверим на дубликаты без столбца id"
   ]
  },
  {
   "cell_type": "code",
   "execution_count": 23,
   "id": "cb5e6d55",
   "metadata": {},
   "outputs": [
    {
     "name": "stdout",
     "output_type": "stream",
     "text": [
      "Дубликатов в hotel_train: 34.59%\n",
      "Дубликатов в hotel_test: 24.79%\n"
     ]
    }
   ],
   "source": [
    "print(f'Дубликатов в hotel_train: {round(df.duplicated().mean() * 100, 2)}%')\n",
    "print(f'Дубликатов в hotel_test: {round(df_test.duplicated().mean() * 100, 2)}%')"
   ]
  },
  {
   "cell_type": "markdown",
   "id": "1f698580",
   "metadata": {},
   "source": [
    "Ошеломляющий результат, причем, судя по признакам, это не может быть просто совпадением. Но это вполне могли быть несколько бронирований, сделанных одним клиентом в один день по ошибке. Проверить наверняка мы это не можем. Поэтому удалять не будем."
   ]
  },
  {
   "cell_type": "markdown",
   "id": "f51bb5a9",
   "metadata": {},
   "source": [
    "<div class=\"alert alert-success\">\n",
    "<h2>Комментарий ревьюера<a class=\"tocSkip\"></a></h2>\n",
    "    \n",
    "**Отлично!** ✔️: согласен, эти признаки будут неинформативны</div>"
   ]
  },
  {
   "cell_type": "markdown",
   "id": "71857637",
   "metadata": {},
   "source": [
    "<div class=\"alert alert-warning\">\n",
    "<h2>Комментарий ревьюера<a class=\"tocSkip\"></a></h2>\n",
    "    \n",
    "**Есть совет** ⚠️: судя по описанию, `total_nights` — это действительно сумма `stays_in_week_nights` и `stays_in_weekend_nights`, но тогда перед удалением лучше убедиться, что это условие выполняенется для всех бронирований</div>"
   ]
  },
  {
   "cell_type": "markdown",
   "id": "d26856ad",
   "metadata": {},
   "source": [
    "## Тип данных"
   ]
  },
  {
   "cell_type": "code",
   "execution_count": 24,
   "id": "cbf9d916",
   "metadata": {},
   "outputs": [
    {
     "name": "stdout",
     "output_type": "stream",
     "text": [
      "<class 'pandas.core.frame.DataFrame'>\n",
      "RangeIndex: 65229 entries, 0 to 65228\n",
      "Data columns (total 18 columns):\n",
      " #   Column                          Non-Null Count  Dtype  \n",
      "---  ------                          --------------  -----  \n",
      " 0   is_canceled                     65229 non-null  int64  \n",
      " 1   lead_time                       65229 non-null  float64\n",
      " 2   arrival_date_month              65229 non-null  object \n",
      " 3   stays_in_weekend_nights         65229 non-null  int64  \n",
      " 4   stays_in_week_nights            65229 non-null  int64  \n",
      " 5   adults                          65229 non-null  float64\n",
      " 6   children                        65229 non-null  float64\n",
      " 7   babies                          65229 non-null  float64\n",
      " 8   meal                            65229 non-null  object \n",
      " 9   country                         65229 non-null  object \n",
      " 10  previous_cancellations          65229 non-null  int64  \n",
      " 11  previous_bookings_not_canceled  65229 non-null  int64  \n",
      " 12  reserved_room_type              65229 non-null  object \n",
      " 13  booking_changes                 65229 non-null  int64  \n",
      " 14  days_in_waiting_list            65229 non-null  int64  \n",
      " 15  customer_type                   65229 non-null  object \n",
      " 16  required_car_parking_spaces     65229 non-null  int64  \n",
      " 17  total_of_special_requests       65229 non-null  int64  \n",
      "dtypes: float64(4), int64(9), object(5)\n",
      "memory usage: 9.0+ MB\n"
     ]
    }
   ],
   "source": [
    "df.info()"
   ]
  },
  {
   "cell_type": "code",
   "execution_count": 25,
   "id": "89fb80c0",
   "metadata": {},
   "outputs": [],
   "source": [
    "# переведем из вещественного типа в целочисленный\n",
    "df[['lead_time','adults', 'children','babies']] = df[['lead_time','adults', 'children', 'babies']].astype(int)\n",
    "df_test[['lead_time','adults', 'children','babies']] = df_test[['lead_time','adults', 'children', 'babies']].astype(int)"
   ]
  },
  {
   "cell_type": "markdown",
   "id": "1042ffd1",
   "metadata": {},
   "source": [
    "<div class=\"alert alert-success\">\n",
    "<h2>Комментарий ревьюера<a class=\"tocSkip\"></a></h2>\n",
    "    \n",
    "**Отлично!** ✔️: 👍</div>"
   ]
  },
  {
   "cell_type": "markdown",
   "id": "bee2acfb",
   "metadata": {},
   "source": [
    "## Информация о признаках"
   ]
  },
  {
   "cell_type": "markdown",
   "id": "4f072433",
   "metadata": {},
   "source": [
    "### отменен ли заказ"
   ]
  },
  {
   "cell_type": "code",
   "execution_count": 26,
   "id": "b2235288",
   "metadata": {},
   "outputs": [
    {
     "data": {
      "text/plain": [
       "0    41185\n",
       "1    24044\n",
       "Name: is_canceled, dtype: int64"
      ]
     },
     "execution_count": 26,
     "metadata": {},
     "output_type": "execute_result"
    }
   ],
   "source": [
    "df.is_canceled.value_counts()"
   ]
  },
  {
   "cell_type": "markdown",
   "id": "398578bb",
   "metadata": {},
   "source": [
    "### количество дней между бронированием и прибытием"
   ]
  },
  {
   "cell_type": "code",
   "execution_count": 27,
   "id": "12861496",
   "metadata": {},
   "outputs": [
    {
     "data": {
      "image/png": "[encoded data removed]",
      "text/plain": [
       "<Figure size 432x288 with 1 Axes>"
      ]
     },
     "metadata": {
      "needs_background": "light"
     },
     "output_type": "display_data"
    }
   ],
   "source": [
    "df.hist('lead_time');\n",
    "plt.xlabel('кол-во дней меджу бронированием и прибытием')\n",
    "plt.ylabel('частота')\n",
    "plt.show()"
   ]
  },
  {
   "cell_type": "markdown",
   "id": "49700070",
   "metadata": {},
   "source": [
    "<div class=\"alert alert-danger\">\n",
    "<h2>Комментарий ревьюера<a class=\"tocSkip\"></a></h2>\n",
    "\n",
    "**Нужно доработать** ❌: не совсем понятно, что ты узнал благодаря выводу этого графика, убедись, что есть промежуточные выводы к анализу каждого признака</div>"
   ]
  },
  {
   "cell_type": "code",
   "execution_count": 28,
   "id": "59e0c253",
   "metadata": {},
   "outputs": [
    {
     "data": {
      "image/png": "[encoded data removed]",
      "text/plain": [
       "<Figure size 432x288 with 1 Axes>"
      ]
     },
     "metadata": {
      "needs_background": "light"
     },
     "output_type": "display_data"
    }
   ],
   "source": [
    "df.groupby('is_canceled')['lead_time'].hist( bins=5, alpha=0.5, label='Время выполнения заказов')\n",
    "plt.xlabel('Время выполнения заказа (дней)',fontsize = 12, labelpad = 5)\n",
    "plt.ylabel('Количество клиентов',fontsize = 12, labelpad = 5)\n",
    "plt.legend((['не отменен', 'отменен']))\n",
    "plt.show()"
   ]
  },
  {
   "cell_type": "markdown",
   "id": "5abb1d22",
   "metadata": {},
   "source": [
    "Отмененные заказы в среднем имеют более длительное время выполнения. "
   ]
  },
  {
   "cell_type": "markdown",
   "id": "a2c7d652",
   "metadata": {},
   "source": [
    "<div class=\"alert alert-info\">\n",
    "<h2> Комментарий студента <a class=\"tocSkip\"> </h2>\n",
    "\n",
    "Смею предположить, что сеть отелей «Как в гостях» имеет несколько отелей курортного типа т.к. имеет место раннее бронирование.\n",
    "</div>"
   ]
  },
  {
   "cell_type": "markdown",
   "id": "d9b863ba",
   "metadata": {},
   "source": [
    "### месяц прибытия"
   ]
  },
  {
   "cell_type": "code",
   "execution_count": 29,
   "id": "89c57700",
   "metadata": {},
   "outputs": [
    {
     "data": {
      "text/plain": [
       "array(['July', 'August', 'September', 'October', 'November', 'December',\n",
       "       'January', 'February', 'March', 'April', 'May', 'June'],\n",
       "      dtype=object)"
      ]
     },
     "execution_count": 29,
     "metadata": {},
     "output_type": "execute_result"
    }
   ],
   "source": [
    "df.arrival_date_month.unique()"
   ]
  },
  {
   "cell_type": "code",
   "execution_count": 30,
   "id": "4ce1587c",
   "metadata": {},
   "outputs": [
    {
     "name": "stdout",
     "output_type": "stream",
     "text": [
      "October      9255\n",
      "September    8782\n",
      "August       6678\n",
      "November     5761\n",
      "July         5718\n",
      "December     5497\n",
      "April        4804\n",
      "May          4677\n",
      "June         4659\n",
      "March        4148\n",
      "February     3358\n",
      "January      1892\n",
      "Name: arrival_date_month, dtype: int64\n"
     ]
    }
   ],
   "source": [
    "print(df.arrival_date_month.value_counts())"
   ]
  },
  {
   "cell_type": "markdown",
   "id": "d979db03",
   "metadata": {},
   "source": [
    "Для дальнейших расчетов с использованием сезонных коэффициентов:"
   ]
  },
  {
   "cell_type": "code",
   "execution_count": 31,
   "id": "ebda34a4",
   "metadata": {},
   "outputs": [],
   "source": [
    "# функция для опредлеения времени года\n",
    "def season(month):\n",
    "    if month == 'October' or month == 'September' or month == 'November':\n",
    "        return 'autumn'\n",
    "    if month == 'August' or month == 'July' or month == 'June':\n",
    "            return 'summer'\n",
    "    if month == 'April' or month == 'May' or month == 'March':\n",
    "        return 'spring'\n",
    "    if month == 'January' or month == 'February' or month == 'December':\n",
    "        return 'winter'\n",
    "df['season'] = df['arrival_date_month'].apply(season)\n",
    "df_test['season'] = df_test['arrival_date_month'].apply(season)"
   ]
  },
  {
   "cell_type": "code",
   "execution_count": 32,
   "id": "907a7a77",
   "metadata": {},
   "outputs": [
    {
     "data": {
      "text/html": [
       "<div>\n",
       "<style scoped>\n",
       "    .dataframe tbody tr th:only-of-type {\n",
       "        vertical-align: middle;\n",
       "    }\n",
       "\n",
       "    .dataframe tbody tr th {\n",
       "        vertical-align: top;\n",
       "    }\n",
       "\n",
       "    .dataframe thead th {\n",
       "        text-align: right;\n",
       "    }\n",
       "</style>\n",
       "<table border=\"1\" class=\"dataframe\">\n",
       "  <thead>\n",
       "    <tr style=\"text-align: right;\">\n",
       "      <th></th>\n",
       "      <th>is_canceled</th>\n",
       "      <th>lead_time</th>\n",
       "      <th>arrival_date_month</th>\n",
       "      <th>stays_in_weekend_nights</th>\n",
       "      <th>stays_in_week_nights</th>\n",
       "      <th>adults</th>\n",
       "      <th>children</th>\n",
       "      <th>babies</th>\n",
       "      <th>meal</th>\n",
       "      <th>country</th>\n",
       "      <th>previous_cancellations</th>\n",
       "      <th>previous_bookings_not_canceled</th>\n",
       "      <th>reserved_room_type</th>\n",
       "      <th>booking_changes</th>\n",
       "      <th>days_in_waiting_list</th>\n",
       "      <th>customer_type</th>\n",
       "      <th>required_car_parking_spaces</th>\n",
       "      <th>total_of_special_requests</th>\n",
       "      <th>season</th>\n",
       "    </tr>\n",
       "  </thead>\n",
       "  <tbody>\n",
       "    <tr>\n",
       "      <th>0</th>\n",
       "      <td>0</td>\n",
       "      <td>7</td>\n",
       "      <td>July</td>\n",
       "      <td>0</td>\n",
       "      <td>1</td>\n",
       "      <td>1</td>\n",
       "      <td>0</td>\n",
       "      <td>0</td>\n",
       "      <td>BB</td>\n",
       "      <td>GBR</td>\n",
       "      <td>0</td>\n",
       "      <td>0</td>\n",
       "      <td>A</td>\n",
       "      <td>0</td>\n",
       "      <td>0</td>\n",
       "      <td>Transient</td>\n",
       "      <td>0</td>\n",
       "      <td>0</td>\n",
       "      <td>summer</td>\n",
       "    </tr>\n",
       "    <tr>\n",
       "      <th>1</th>\n",
       "      <td>0</td>\n",
       "      <td>14</td>\n",
       "      <td>July</td>\n",
       "      <td>0</td>\n",
       "      <td>2</td>\n",
       "      <td>2</td>\n",
       "      <td>0</td>\n",
       "      <td>0</td>\n",
       "      <td>BB</td>\n",
       "      <td>GBR</td>\n",
       "      <td>0</td>\n",
       "      <td>0</td>\n",
       "      <td>A</td>\n",
       "      <td>0</td>\n",
       "      <td>0</td>\n",
       "      <td>Transient</td>\n",
       "      <td>0</td>\n",
       "      <td>1</td>\n",
       "      <td>summer</td>\n",
       "    </tr>\n",
       "    <tr>\n",
       "      <th>2</th>\n",
       "      <td>0</td>\n",
       "      <td>0</td>\n",
       "      <td>July</td>\n",
       "      <td>0</td>\n",
       "      <td>2</td>\n",
       "      <td>2</td>\n",
       "      <td>0</td>\n",
       "      <td>0</td>\n",
       "      <td>BB</td>\n",
       "      <td>PRT</td>\n",
       "      <td>0</td>\n",
       "      <td>0</td>\n",
       "      <td>C</td>\n",
       "      <td>0</td>\n",
       "      <td>0</td>\n",
       "      <td>Transient</td>\n",
       "      <td>0</td>\n",
       "      <td>0</td>\n",
       "      <td>summer</td>\n",
       "    </tr>\n",
       "    <tr>\n",
       "      <th>3</th>\n",
       "      <td>0</td>\n",
       "      <td>9</td>\n",
       "      <td>July</td>\n",
       "      <td>0</td>\n",
       "      <td>2</td>\n",
       "      <td>2</td>\n",
       "      <td>0</td>\n",
       "      <td>0</td>\n",
       "      <td>FB</td>\n",
       "      <td>PRT</td>\n",
       "      <td>0</td>\n",
       "      <td>0</td>\n",
       "      <td>C</td>\n",
       "      <td>0</td>\n",
       "      <td>0</td>\n",
       "      <td>Transient</td>\n",
       "      <td>0</td>\n",
       "      <td>1</td>\n",
       "      <td>summer</td>\n",
       "    </tr>\n",
       "    <tr>\n",
       "      <th>4</th>\n",
       "      <td>1</td>\n",
       "      <td>85</td>\n",
       "      <td>July</td>\n",
       "      <td>0</td>\n",
       "      <td>3</td>\n",
       "      <td>2</td>\n",
       "      <td>0</td>\n",
       "      <td>0</td>\n",
       "      <td>BB</td>\n",
       "      <td>PRT</td>\n",
       "      <td>0</td>\n",
       "      <td>0</td>\n",
       "      <td>A</td>\n",
       "      <td>0</td>\n",
       "      <td>0</td>\n",
       "      <td>Transient</td>\n",
       "      <td>0</td>\n",
       "      <td>1</td>\n",
       "      <td>summer</td>\n",
       "    </tr>\n",
       "  </tbody>\n",
       "</table>\n",
       "</div>"
      ],
      "text/plain": [
       "   is_canceled  lead_time arrival_date_month  stays_in_weekend_nights  \\\n",
       "0            0          7               July                        0   \n",
       "1            0         14               July                        0   \n",
       "2            0          0               July                        0   \n",
       "3            0          9               July                        0   \n",
       "4            1         85               July                        0   \n",
       "\n",
       "   stays_in_week_nights  adults  children  babies       meal country  \\\n",
       "0                     1       1         0       0  BB            GBR   \n",
       "1                     2       2         0       0  BB            GBR   \n",
       "2                     2       2         0       0  BB            PRT   \n",
       "3                     2       2         0       0  FB            PRT   \n",
       "4                     3       2         0       0  BB            PRT   \n",
       "\n",
       "   previous_cancellations  previous_bookings_not_canceled reserved_room_type  \\\n",
       "0                       0                               0   A                  \n",
       "1                       0                               0   A                  \n",
       "2                       0                               0   C                  \n",
       "3                       0                               0   C                  \n",
       "4                       0                               0   A                  \n",
       "\n",
       "   booking_changes  days_in_waiting_list customer_type  \\\n",
       "0                0                     0     Transient   \n",
       "1                0                     0     Transient   \n",
       "2                0                     0     Transient   \n",
       "3                0                     0     Transient   \n",
       "4                0                     0     Transient   \n",
       "\n",
       "   required_car_parking_spaces  total_of_special_requests  season  \n",
       "0                            0                          0  summer  \n",
       "1                            0                          1  summer  \n",
       "2                            0                          0  summer  \n",
       "3                            0                          1  summer  \n",
       "4                            0                          1  summer  "
      ]
     },
     "execution_count": 32,
     "metadata": {},
     "output_type": "execute_result"
    }
   ],
   "source": [
    "df.head()"
   ]
  },
  {
   "cell_type": "code",
   "execution_count": 33,
   "id": "e5622e9c",
   "metadata": {},
   "outputs": [
    {
     "data": {
      "text/plain": [
       "autumn    23798\n",
       "summer    17055\n",
       "spring    13629\n",
       "winter    10747\n",
       "Name: season, dtype: int64"
      ]
     },
     "execution_count": 33,
     "metadata": {},
     "output_type": "execute_result"
    }
   ],
   "source": [
    "df.season.value_counts()"
   ]
  },
  {
   "cell_type": "markdown",
   "id": "41dbde42",
   "metadata": {},
   "source": [
    "### количество ночей в выходные в отеле"
   ]
  },
  {
   "cell_type": "code",
   "execution_count": 34,
   "id": "27880d73",
   "metadata": {},
   "outputs": [
    {
     "name": "stdout",
     "output_type": "stream",
     "text": [
      "0    29738\n",
      "1    17721\n",
      "2    17357\n",
      "3      261\n",
      "4      152\n",
      "Name: stays_in_weekend_nights, dtype: int64\n"
     ]
    }
   ],
   "source": [
    "print(df.stays_in_weekend_nights.value_counts())"
   ]
  },
  {
   "cell_type": "markdown",
   "id": "e1e380dc",
   "metadata": {},
   "source": [
    "4 ночей возможно при заселении в пт.-вс.: 9 дней (мах 10)."
   ]
  },
  {
   "cell_type": "markdown",
   "id": "043e7081",
   "metadata": {},
   "source": [
    "### количество ночей в будние дни"
   ]
  },
  {
   "cell_type": "code",
   "execution_count": 35,
   "id": "68b1fcf8",
   "metadata": {},
   "outputs": [
    {
     "name": "stdout",
     "output_type": "stream",
     "text": [
      "2    20137\n",
      "1    17850\n",
      "3    12341\n",
      "4     5131\n",
      "5     5128\n",
      "0     4007\n",
      "6      635\n",
      "Name: stays_in_week_nights, dtype: int64\n"
     ]
    }
   ],
   "source": [
    "print(df.stays_in_week_nights.value_counts())"
   ]
  },
  {
   "cell_type": "markdown",
   "id": "051c5ddb",
   "metadata": {},
   "source": [
    "6 ночей возможно призаселении в пт.- сб.: 8 дней (мах 10)."
   ]
  },
  {
   "cell_type": "markdown",
   "id": "d56e64a8",
   "metadata": {},
   "source": [
    "### количество взрослых"
   ]
  },
  {
   "cell_type": "code",
   "execution_count": 36,
   "id": "bc0680e7",
   "metadata": {},
   "outputs": [
    {
     "data": {
      "text/plain": [
       "2    48980\n",
       "1    13212\n",
       "3     2858\n",
       "0      166\n",
       "4       13\n",
       "Name: adults, dtype: int64"
      ]
     },
     "execution_count": 36,
     "metadata": {},
     "output_type": "execute_result"
    }
   ],
   "source": [
    "df.adults.value_counts()"
   ]
  },
  {
   "cell_type": "code",
   "execution_count": 37,
   "id": "e9af4fe4",
   "metadata": {
    "scrolled": true
   },
   "outputs": [
    {
     "data": {
      "text/html": [
       "<div>\n",
       "<style scoped>\n",
       "    .dataframe tbody tr th:only-of-type {\n",
       "        vertical-align: middle;\n",
       "    }\n",
       "\n",
       "    .dataframe tbody tr th {\n",
       "        vertical-align: top;\n",
       "    }\n",
       "\n",
       "    .dataframe thead th {\n",
       "        text-align: right;\n",
       "    }\n",
       "</style>\n",
       "<table border=\"1\" class=\"dataframe\">\n",
       "  <thead>\n",
       "    <tr style=\"text-align: right;\">\n",
       "      <th></th>\n",
       "      <th>is_canceled</th>\n",
       "      <th>lead_time</th>\n",
       "      <th>arrival_date_month</th>\n",
       "      <th>stays_in_weekend_nights</th>\n",
       "      <th>stays_in_week_nights</th>\n",
       "      <th>adults</th>\n",
       "      <th>children</th>\n",
       "      <th>babies</th>\n",
       "      <th>meal</th>\n",
       "      <th>country</th>\n",
       "      <th>previous_cancellations</th>\n",
       "      <th>previous_bookings_not_canceled</th>\n",
       "      <th>reserved_room_type</th>\n",
       "      <th>booking_changes</th>\n",
       "      <th>days_in_waiting_list</th>\n",
       "      <th>customer_type</th>\n",
       "      <th>required_car_parking_spaces</th>\n",
       "      <th>total_of_special_requests</th>\n",
       "      <th>season</th>\n",
       "    </tr>\n",
       "  </thead>\n",
       "  <tbody>\n",
       "    <tr>\n",
       "      <th>17540</th>\n",
       "      <td>0</td>\n",
       "      <td>1</td>\n",
       "      <td>August</td>\n",
       "      <td>1</td>\n",
       "      <td>1</td>\n",
       "      <td>0</td>\n",
       "      <td>3</td>\n",
       "      <td>0</td>\n",
       "      <td>BB</td>\n",
       "      <td>PRT</td>\n",
       "      <td>0</td>\n",
       "      <td>0</td>\n",
       "      <td>B</td>\n",
       "      <td>1</td>\n",
       "      <td>0</td>\n",
       "      <td>Transient-Party</td>\n",
       "      <td>0</td>\n",
       "      <td>0</td>\n",
       "      <td>summer</td>\n",
       "    </tr>\n",
       "    <tr>\n",
       "      <th>17598</th>\n",
       "      <td>0</td>\n",
       "      <td>104</td>\n",
       "      <td>August</td>\n",
       "      <td>0</td>\n",
       "      <td>3</td>\n",
       "      <td>0</td>\n",
       "      <td>2</td>\n",
       "      <td>0</td>\n",
       "      <td>BB</td>\n",
       "      <td>FRA</td>\n",
       "      <td>0</td>\n",
       "      <td>0</td>\n",
       "      <td>B</td>\n",
       "      <td>1</td>\n",
       "      <td>0</td>\n",
       "      <td>Transient-Party</td>\n",
       "      <td>0</td>\n",
       "      <td>2</td>\n",
       "      <td>summer</td>\n",
       "    </tr>\n",
       "    <tr>\n",
       "      <th>17982</th>\n",
       "      <td>0</td>\n",
       "      <td>3</td>\n",
       "      <td>August</td>\n",
       "      <td>2</td>\n",
       "      <td>0</td>\n",
       "      <td>0</td>\n",
       "      <td>2</td>\n",
       "      <td>0</td>\n",
       "      <td>BB</td>\n",
       "      <td>PRT</td>\n",
       "      <td>0</td>\n",
       "      <td>0</td>\n",
       "      <td>B</td>\n",
       "      <td>1</td>\n",
       "      <td>0</td>\n",
       "      <td>Transient-Party</td>\n",
       "      <td>0</td>\n",
       "      <td>1</td>\n",
       "      <td>summer</td>\n",
       "    </tr>\n",
       "    <tr>\n",
       "      <th>21556</th>\n",
       "      <td>1</td>\n",
       "      <td>48</td>\n",
       "      <td>October</td>\n",
       "      <td>1</td>\n",
       "      <td>3</td>\n",
       "      <td>0</td>\n",
       "      <td>2</td>\n",
       "      <td>0</td>\n",
       "      <td>BB</td>\n",
       "      <td>PRT</td>\n",
       "      <td>0</td>\n",
       "      <td>0</td>\n",
       "      <td>B</td>\n",
       "      <td>0</td>\n",
       "      <td>0</td>\n",
       "      <td>Transient-Party</td>\n",
       "      <td>0</td>\n",
       "      <td>1</td>\n",
       "      <td>autumn</td>\n",
       "    </tr>\n",
       "    <tr>\n",
       "      <th>22516</th>\n",
       "      <td>1</td>\n",
       "      <td>6</td>\n",
       "      <td>December</td>\n",
       "      <td>1</td>\n",
       "      <td>0</td>\n",
       "      <td>0</td>\n",
       "      <td>3</td>\n",
       "      <td>0</td>\n",
       "      <td>BB</td>\n",
       "      <td>PRT</td>\n",
       "      <td>0</td>\n",
       "      <td>0</td>\n",
       "      <td>B</td>\n",
       "      <td>0</td>\n",
       "      <td>0</td>\n",
       "      <td>Transient-Party</td>\n",
       "      <td>0</td>\n",
       "      <td>1</td>\n",
       "      <td>winter</td>\n",
       "    </tr>\n",
       "    <tr>\n",
       "      <th>...</th>\n",
       "      <td>...</td>\n",
       "      <td>...</td>\n",
       "      <td>...</td>\n",
       "      <td>...</td>\n",
       "      <td>...</td>\n",
       "      <td>...</td>\n",
       "      <td>...</td>\n",
       "      <td>...</td>\n",
       "      <td>...</td>\n",
       "      <td>...</td>\n",
       "      <td>...</td>\n",
       "      <td>...</td>\n",
       "      <td>...</td>\n",
       "      <td>...</td>\n",
       "      <td>...</td>\n",
       "      <td>...</td>\n",
       "      <td>...</td>\n",
       "      <td>...</td>\n",
       "      <td>...</td>\n",
       "    </tr>\n",
       "    <tr>\n",
       "      <th>64751</th>\n",
       "      <td>0</td>\n",
       "      <td>197</td>\n",
       "      <td>December</td>\n",
       "      <td>1</td>\n",
       "      <td>4</td>\n",
       "      <td>0</td>\n",
       "      <td>3</td>\n",
       "      <td>0</td>\n",
       "      <td>HB</td>\n",
       "      <td>FRA</td>\n",
       "      <td>0</td>\n",
       "      <td>0</td>\n",
       "      <td>A</td>\n",
       "      <td>7</td>\n",
       "      <td>0</td>\n",
       "      <td>Transient-Party</td>\n",
       "      <td>0</td>\n",
       "      <td>0</td>\n",
       "      <td>winter</td>\n",
       "    </tr>\n",
       "    <tr>\n",
       "      <th>64882</th>\n",
       "      <td>0</td>\n",
       "      <td>104</td>\n",
       "      <td>December</td>\n",
       "      <td>2</td>\n",
       "      <td>1</td>\n",
       "      <td>0</td>\n",
       "      <td>2</td>\n",
       "      <td>0</td>\n",
       "      <td>BB</td>\n",
       "      <td>PRT</td>\n",
       "      <td>0</td>\n",
       "      <td>0</td>\n",
       "      <td>B</td>\n",
       "      <td>1</td>\n",
       "      <td>0</td>\n",
       "      <td>Transient</td>\n",
       "      <td>0</td>\n",
       "      <td>2</td>\n",
       "      <td>winter</td>\n",
       "    </tr>\n",
       "    <tr>\n",
       "      <th>64892</th>\n",
       "      <td>0</td>\n",
       "      <td>104</td>\n",
       "      <td>December</td>\n",
       "      <td>2</td>\n",
       "      <td>1</td>\n",
       "      <td>0</td>\n",
       "      <td>2</td>\n",
       "      <td>0</td>\n",
       "      <td>BB</td>\n",
       "      <td>FRA</td>\n",
       "      <td>0</td>\n",
       "      <td>0</td>\n",
       "      <td>B</td>\n",
       "      <td>0</td>\n",
       "      <td>0</td>\n",
       "      <td>Transient</td>\n",
       "      <td>0</td>\n",
       "      <td>2</td>\n",
       "      <td>winter</td>\n",
       "    </tr>\n",
       "    <tr>\n",
       "      <th>64903</th>\n",
       "      <td>0</td>\n",
       "      <td>247</td>\n",
       "      <td>December</td>\n",
       "      <td>2</td>\n",
       "      <td>3</td>\n",
       "      <td>0</td>\n",
       "      <td>2</td>\n",
       "      <td>0</td>\n",
       "      <td>BB</td>\n",
       "      <td>PRT</td>\n",
       "      <td>0</td>\n",
       "      <td>0</td>\n",
       "      <td>B</td>\n",
       "      <td>0</td>\n",
       "      <td>0</td>\n",
       "      <td>Transient</td>\n",
       "      <td>0</td>\n",
       "      <td>1</td>\n",
       "      <td>winter</td>\n",
       "    </tr>\n",
       "    <tr>\n",
       "      <th>64980</th>\n",
       "      <td>0</td>\n",
       "      <td>255</td>\n",
       "      <td>December</td>\n",
       "      <td>0</td>\n",
       "      <td>3</td>\n",
       "      <td>0</td>\n",
       "      <td>0</td>\n",
       "      <td>0</td>\n",
       "      <td>BB</td>\n",
       "      <td>PRT</td>\n",
       "      <td>0</td>\n",
       "      <td>0</td>\n",
       "      <td>A</td>\n",
       "      <td>3</td>\n",
       "      <td>0</td>\n",
       "      <td>Transient</td>\n",
       "      <td>0</td>\n",
       "      <td>0</td>\n",
       "      <td>winter</td>\n",
       "    </tr>\n",
       "  </tbody>\n",
       "</table>\n",
       "<p>166 rows × 19 columns</p>\n",
       "</div>"
      ],
      "text/plain": [
       "       is_canceled  lead_time arrival_date_month  stays_in_weekend_nights  \\\n",
       "17540            0          1             August                        1   \n",
       "17598            0        104             August                        0   \n",
       "17982            0          3             August                        2   \n",
       "21556            1         48            October                        1   \n",
       "22516            1          6           December                        1   \n",
       "...            ...        ...                ...                      ...   \n",
       "64751            0        197           December                        1   \n",
       "64882            0        104           December                        2   \n",
       "64892            0        104           December                        2   \n",
       "64903            0        247           December                        2   \n",
       "64980            0        255           December                        0   \n",
       "\n",
       "       stays_in_week_nights  adults  children  babies       meal country  \\\n",
       "17540                     1       0         3       0  BB            PRT   \n",
       "17598                     3       0         2       0  BB            FRA   \n",
       "17982                     0       0         2       0  BB            PRT   \n",
       "21556                     3       0         2       0  BB            PRT   \n",
       "22516                     0       0         3       0  BB            PRT   \n",
       "...                     ...     ...       ...     ...        ...     ...   \n",
       "64751                     4       0         3       0  HB            FRA   \n",
       "64882                     1       0         2       0  BB            PRT   \n",
       "64892                     1       0         2       0  BB            FRA   \n",
       "64903                     3       0         2       0  BB            PRT   \n",
       "64980                     3       0         0       0  BB            PRT   \n",
       "\n",
       "       previous_cancellations  previous_bookings_not_canceled  \\\n",
       "17540                       0                               0   \n",
       "17598                       0                               0   \n",
       "17982                       0                               0   \n",
       "21556                       0                               0   \n",
       "22516                       0                               0   \n",
       "...                       ...                             ...   \n",
       "64751                       0                               0   \n",
       "64882                       0                               0   \n",
       "64892                       0                               0   \n",
       "64903                       0                               0   \n",
       "64980                       0                               0   \n",
       "\n",
       "      reserved_room_type  booking_changes  days_in_waiting_list  \\\n",
       "17540   B                               1                     0   \n",
       "17598   B                               1                     0   \n",
       "17982   B                               1                     0   \n",
       "21556   B                               0                     0   \n",
       "22516   B                               0                     0   \n",
       "...                  ...              ...                   ...   \n",
       "64751   A                               7                     0   \n",
       "64882   B                               1                     0   \n",
       "64892   B                               0                     0   \n",
       "64903   B                               0                     0   \n",
       "64980   A                               3                     0   \n",
       "\n",
       "         customer_type  required_car_parking_spaces  \\\n",
       "17540  Transient-Party                            0   \n",
       "17598  Transient-Party                            0   \n",
       "17982  Transient-Party                            0   \n",
       "21556  Transient-Party                            0   \n",
       "22516  Transient-Party                            0   \n",
       "...                ...                          ...   \n",
       "64751  Transient-Party                            0   \n",
       "64882        Transient                            0   \n",
       "64892        Transient                            0   \n",
       "64903        Transient                            0   \n",
       "64980        Transient                            0   \n",
       "\n",
       "       total_of_special_requests  season  \n",
       "17540                          0  summer  \n",
       "17598                          2  summer  \n",
       "17982                          1  summer  \n",
       "21556                          1  autumn  \n",
       "22516                          1  winter  \n",
       "...                          ...     ...  \n",
       "64751                          0  winter  \n",
       "64882                          2  winter  \n",
       "64892                          2  winter  \n",
       "64903                          1  winter  \n",
       "64980                          0  winter  \n",
       "\n",
       "[166 rows x 19 columns]"
      ]
     },
     "execution_count": 37,
     "metadata": {},
     "output_type": "execute_result"
    }
   ],
   "source": [
    "df[(df['adults'] == 0)] "
   ]
  },
  {
   "cell_type": "markdown",
   "id": "b5f5800d",
   "metadata": {},
   "source": [
    "Такие объекты невозможны, возможно была ошибка в заполнении анкеты. Забронировать комнату не взрослый не мог."
   ]
  },
  {
   "cell_type": "code",
   "execution_count": 38,
   "id": "20c617bf",
   "metadata": {},
   "outputs": [],
   "source": [
    "df = df.query('adults != 0') # удалим такие объекты\n",
    "df_test = df_test.query('adults != 0')"
   ]
  },
  {
   "cell_type": "markdown",
   "id": "e0c69f43",
   "metadata": {},
   "source": [
    "<div class=\"alert alert-success\">\n",
    "<h2>Комментарий ревьюера<a class=\"tocSkip\"></a></h2>\n",
    "    \n",
    "**Отлично!** ✔️: верно, детям до 14 лет без взрослых сдать номер не могут</div>"
   ]
  },
  {
   "cell_type": "markdown",
   "id": "f023953d",
   "metadata": {},
   "source": [
    "### количество детей"
   ]
  },
  {
   "cell_type": "code",
   "execution_count": 39,
   "id": "b71066e8",
   "metadata": {},
   "outputs": [
    {
     "data": {
      "text/plain": [
       "0    61697\n",
       "1     2163\n",
       "2     1195\n",
       "3        8\n",
       "Name: children, dtype: int64"
      ]
     },
     "execution_count": 39,
     "metadata": {},
     "output_type": "execute_result"
    }
   ],
   "source": [
    "df.children.value_counts()"
   ]
  },
  {
   "cell_type": "markdown",
   "id": "97b3f5a9",
   "metadata": {},
   "source": [
    "### количество младенцев"
   ]
  },
  {
   "cell_type": "code",
   "execution_count": 40,
   "id": "4c5ff0e2",
   "metadata": {
    "scrolled": true
   },
   "outputs": [
    {
     "data": {
      "text/plain": [
       "0     64614\n",
       "1       444\n",
       "2         3\n",
       "9         1\n",
       "10        1\n",
       "Name: babies, dtype: int64"
      ]
     },
     "execution_count": 40,
     "metadata": {},
     "output_type": "execute_result"
    }
   ],
   "source": [
    "df.babies.value_counts()"
   ]
  },
  {
   "cell_type": "code",
   "execution_count": 41,
   "id": "a12693be",
   "metadata": {},
   "outputs": [],
   "source": [
    "df = df.query('babies < 9')# скорее всего значения в 9 и 10 были выставлены по ошибке\n",
    "df_test = df_test.query('babies < 9')"
   ]
  },
  {
   "cell_type": "markdown",
   "id": "57fd31db",
   "metadata": {},
   "source": [
    "<div class=\"alert alert-warning\">\n",
    "<h2>Комментарий ревьюера<a class=\"tocSkip\"></a></h2>\n",
    "    \n",
    "**Есть совет** ⚠️: все так, но бронирований с 2 младенцами тоже слишком мало, чтобы использовать их для прогноза, такие записи тоже лучше удалить или приравнять к 1. Тогда признак можно переименовать, например, в `has_babies`, чтобы обозначить его теперь уже бинарную природу</div>"
   ]
  },
  {
   "cell_type": "code",
   "execution_count": 42,
   "id": "276da9fe",
   "metadata": {},
   "outputs": [],
   "source": [
    "df.drop(df[df['babies'] > 1].index, inplace=True)\n",
    "df.drop(df[df['babies'] > 1].index, inplace=True)"
   ]
  },
  {
   "cell_type": "markdown",
   "id": "7cc84745",
   "metadata": {},
   "source": [
    "### опции заказа"
   ]
  },
  {
   "cell_type": "code",
   "execution_count": 43,
   "id": "6e805127",
   "metadata": {},
   "outputs": [
    {
     "data": {
      "text/plain": [
       "BB           51543\n",
       "HB            7287\n",
       "SC            5262\n",
       "SC             515\n",
       "FB             451\n",
       "Name: meal, dtype: int64"
      ]
     },
     "execution_count": 43,
     "metadata": {},
     "output_type": "execute_result"
    }
   ],
   "source": [
    "df.meal.value_counts()"
   ]
  },
  {
   "cell_type": "code",
   "execution_count": 44,
   "id": "c05e8883",
   "metadata": {
    "scrolled": true
   },
   "outputs": [
    {
     "data": {
      "text/plain": [
       "array(['BB       ', 'FB       ', 'HB       ', 'SC       ', 'SC'],\n",
       "      dtype=object)"
      ]
     },
     "execution_count": 44,
     "metadata": {},
     "output_type": "execute_result"
    }
   ],
   "source": [
    "df.meal.unique() # надо избавиться от пробелов в значениях"
   ]
  },
  {
   "cell_type": "code",
   "execution_count": 45,
   "id": "9bdd9f6a",
   "metadata": {},
   "outputs": [],
   "source": [
    "df['meal'] = df['meal'].str.strip() # функция для удаления пробелов из строк\n",
    "df_test['meal'] = df_test['meal'].str.strip()"
   ]
  },
  {
   "cell_type": "markdown",
   "id": "41c36002",
   "metadata": {},
   "source": [
    "<div class=\"alert alert-success\">\n",
    "<h2>Комментарий ревьюера<a class=\"tocSkip\"></a></h2>\n",
    "    \n",
    "**Отлично!** ✔️: хорошо, что заметил лишние пробелы!</div>"
   ]
  },
  {
   "cell_type": "markdown",
   "id": "d54b24f1",
   "metadata": {},
   "source": [
    "### страна"
   ]
  },
  {
   "cell_type": "code",
   "execution_count": 46,
   "id": "894c1a53",
   "metadata": {
    "scrolled": true
   },
   "outputs": [
    {
     "data": {
      "text/plain": [
       "array(['ABW', 'AGO', 'ALB', 'AND', 'ARE', 'ARG', 'ARM', 'ATA', 'AUS',\n",
       "       'AUT', 'AZE', 'BDI', 'BEL', 'BEN', 'BFA', 'BGD', 'BGR', 'BHR',\n",
       "       'BIH', 'BLR', 'BOL', 'BRA', 'BRB', 'BWA', 'CHE', 'CHL', 'CHN',\n",
       "       'CIV', 'CMR', 'CN', 'COL', 'CPV', 'CRI', 'CUB', 'CYM', 'CYP',\n",
       "       'CZE', 'DEU', 'DMA', 'DNK', 'DOM', 'DZA', 'ECU', 'EGY', 'ESP',\n",
       "       'EST', 'ETH', 'FIN', 'FRA', 'GAB', 'GBR', 'GEO', 'GGY', 'GIB',\n",
       "       'GLP', 'GNB', 'GRC', 'GUY', 'HKG', 'HND', 'HRV', 'HUN', 'IDN',\n",
       "       'IMN', 'IND', 'IRL', 'IRN', 'IRQ', 'ISL', 'ISR', 'ITA', 'JAM',\n",
       "       'JEY', 'JOR', 'JPN', 'KAZ', 'KEN', 'KHM', 'KNA', 'KOR', 'KWT',\n",
       "       'LBN', 'LBY', 'LCA', 'LIE', 'LKA', 'LTU', 'LUX', 'LVA', 'MAC',\n",
       "       'MAR', 'MCO', 'MDV', 'MEX', 'MKD', 'MLI', 'MLT', 'MMR', 'MNE',\n",
       "       'MOZ', 'MUS', 'MWI', 'MYS', 'NAM', 'NGA', 'NIC', 'NLD', 'NOR',\n",
       "       'NZL', 'OMN', 'PAK', 'PAN', 'PER', 'PHL', 'PLW', 'POL', 'PRI',\n",
       "       'PRT', 'PRY', 'PYF', 'QAT', 'ROU', 'RUS', 'RWA', 'SAU', 'SEN',\n",
       "       'SGP', 'SLV', 'SMR', 'SRB', 'STP', 'SUR', 'SVK', 'SVN', 'SWE',\n",
       "       'SYC', 'SYR', 'THA', 'TJK', 'TMP', 'TUN', 'TUR', 'TWN', 'TZA',\n",
       "       'UGA', 'UKR', 'URY', 'USA', 'UZB', 'VEN', 'VGB', 'VNM', 'ZAF',\n",
       "       'ZMB', 'ZWE'], dtype=object)"
      ]
     },
     "execution_count": 46,
     "metadata": {},
     "output_type": "execute_result"
    }
   ],
   "source": [
    "df.country.sort_values().unique()"
   ]
  },
  {
   "cell_type": "code",
   "execution_count": 47,
   "id": "a52a3fd1",
   "metadata": {},
   "outputs": [
    {
     "data": {
      "image/png": "[encoded data removed]",
      "text/plain": [
       "<Figure size 1440x720 with 1 Axes>"
      ]
     },
     "metadata": {
      "needs_background": "light"
     },
     "output_type": "display_data"
    }
   ],
   "source": [
    "df['country'].hist(figsize = (20, 10))\n",
    "plt.xlabel('страны')\n",
    "plt.ylabel('частота')\n",
    "plt.title('гистограмма распределения стран')\n",
    "plt.show()"
   ]
  },
  {
   "cell_type": "markdown",
   "id": "3320fb55",
   "metadata": {},
   "source": [
    "Есть редкие страны. Будет удобнее объединить эти страны в одну категорию - \"other\", если они встречаются реже 50 раз."
   ]
  },
  {
   "cell_type": "code",
   "execution_count": 48,
   "id": "a317eb5b",
   "metadata": {},
   "outputs": [],
   "source": [
    "comb = pd.DataFrame(df.country.value_counts()).query('country <= 50').index # страны, которые встречаеются реже 50 раз\n",
    "\n",
    "comb2 = pd.DataFrame(df_test.country.value_counts()).query('country <= 50').index"
   ]
  },
  {
   "cell_type": "code",
   "execution_count": 49,
   "id": "5113323a",
   "metadata": {},
   "outputs": [],
   "source": [
    "def coun(row): # функция для смены редкй страны на категорию 'other'\n",
    "    if row in comb or row in comb2:\n",
    "        return 'other'\n",
    "    return row\n",
    "df.country = df.country.apply(coun)\n",
    "df_test.country = df_test.country.apply(coun)"
   ]
  },
  {
   "cell_type": "code",
   "execution_count": 50,
   "id": "a082fab4",
   "metadata": {
    "scrolled": true
   },
   "outputs": [
    {
     "data": {
      "text/plain": [
       "PRT      28789\n",
       "FRA       5958\n",
       "GBR       5094\n",
       "ESP       4887\n",
       "DEU       3879\n",
       "ITA       2319\n",
       "other     1791\n",
       "IRL       1442\n",
       "BEL       1231\n",
       "NLD       1159\n",
       "BRA       1083\n",
       "USA       1005\n",
       "CHE        866\n",
       "AUT        715\n",
       "SWE        541\n",
       "POL        529\n",
       "CHN        525\n",
       "CN         488\n",
       "ISR        375\n",
       "RUS        293\n",
       "NOR        261\n",
       "ROU        247\n",
       "FIN        239\n",
       "DNK        199\n",
       "AUS        168\n",
       "TUR        168\n",
       "AGO        140\n",
       "LUX        133\n",
       "MAR        123\n",
       "HUN        121\n",
       "JPN        117\n",
       "ARG        106\n",
       "KOR         67\n",
       "Name: country, dtype: int64"
      ]
     },
     "execution_count": 50,
     "metadata": {},
     "output_type": "execute_result"
    }
   ],
   "source": [
    "df.country.value_counts()"
   ]
  },
  {
   "cell_type": "markdown",
   "id": "13d7954b",
   "metadata": {},
   "source": [
    "<div class=\"alert alert-success\">\n",
    "<h2>Комментарий ревьюера<a class=\"tocSkip\"></a></h2>\n",
    "    \n",
    "**Отлично!** ✔️: верно, это вполне подходящий способ оставить только репрезентативные страны в датасете</div>"
   ]
  },
  {
   "cell_type": "markdown",
   "id": "079867bb",
   "metadata": {},
   "source": [
    "### отменяли ли раньше"
   ]
  },
  {
   "cell_type": "code",
   "execution_count": 51,
   "id": "8b01dc35",
   "metadata": {
    "scrolled": true
   },
   "outputs": [
    {
     "data": {
      "text/plain": [
       "0     59421\n",
       "1      5366\n",
       "2        54\n",
       "3        51\n",
       "11       35\n",
       "24       28\n",
       "25       19\n",
       "26       18\n",
       "19       17\n",
       "5        13\n",
       "13       12\n",
       "14       11\n",
       "6         7\n",
       "4         5\n",
       "21        1\n",
       "Name: previous_cancellations, dtype: int64"
      ]
     },
     "execution_count": 51,
     "metadata": {},
     "output_type": "execute_result"
    }
   ],
   "source": [
    "df.previous_cancellations.value_counts()"
   ]
  },
  {
   "cell_type": "markdown",
   "id": "b08cc065",
   "metadata": {},
   "source": [
    "### количество неотмененных заказов"
   ]
  },
  {
   "cell_type": "code",
   "execution_count": 52,
   "id": "c8efe5df",
   "metadata": {
    "scrolled": true
   },
   "outputs": [
    {
     "data": {
      "text/plain": [
       "0     63516\n",
       "1       644\n",
       "2       252\n",
       "3       136\n",
       "4       114\n",
       "5        89\n",
       "6        56\n",
       "7        34\n",
       "8        25\n",
       "9        23\n",
       "10       21\n",
       "11       16\n",
       "12       14\n",
       "25       10\n",
       "13        9\n",
       "21        8\n",
       "14        8\n",
       "22        7\n",
       "15        7\n",
       "16        6\n",
       "20        5\n",
       "19        5\n",
       "18        5\n",
       "17        5\n",
       "24        3\n",
       "27        3\n",
       "29        2\n",
       "28        2\n",
       "44        2\n",
       "23        2\n",
       "48        2\n",
       "41        1\n",
       "54        1\n",
       "55        1\n",
       "56        1\n",
       "53        1\n",
       "33        1\n",
       "57        1\n",
       "26        1\n",
       "58        1\n",
       "30        1\n",
       "34        1\n",
       "51        1\n",
       "35        1\n",
       "52        1\n",
       "40        1\n",
       "50        1\n",
       "49        1\n",
       "47        1\n",
       "32        1\n",
       "36        1\n",
       "45        1\n",
       "37        1\n",
       "38        1\n",
       "43        1\n",
       "39        1\n",
       "42        1\n",
       "31        1\n",
       "Name: previous_bookings_not_canceled, dtype: int64"
      ]
     },
     "execution_count": 52,
     "metadata": {},
     "output_type": "execute_result"
    }
   ],
   "source": [
    "df.previous_bookings_not_canceled.value_counts()"
   ]
  },
  {
   "cell_type": "code",
   "execution_count": 53,
   "id": "8fd8abd3",
   "metadata": {},
   "outputs": [
    {
     "data": {
      "image/png": "[encoded data removed]",
      "text/plain": [
       "<Figure size 432x288 with 1 Axes>"
      ]
     },
     "metadata": {
      "needs_background": "light"
     },
     "output_type": "display_data"
    }
   ],
   "source": [
    "df['previous_bookings_not_canceled'].plot(kind = 'hist')\n",
    "plt.xlabel('кол-во неотмененных заказов');\n",
    "plt.ylabel('частота')\n",
    "plt.title('гистограмма распределения кол-ва неотмененных ранее заказов')\n",
    "plt.show();"
   ]
  },
  {
   "cell_type": "code",
   "execution_count": 54,
   "id": "135ba9f9",
   "metadata": {},
   "outputs": [],
   "source": [
    "df = df.query('previous_bookings_not_canceled <= 25') # считаю, что важный показатель, а число неотмененных заказов в 25\n",
    "# выглядит реально\n",
    "df_test = df_test.query('previous_bookings_not_canceled <= 25')"
   ]
  },
  {
   "cell_type": "markdown",
   "id": "08ef1e87",
   "metadata": {},
   "source": [
    "<div class=\"alert alert-warning\">\n",
    "<h2>Комментарий ревьюера<a class=\"tocSkip\"></a></h2>\n",
    "    \n",
    "**Есть совет** ⚠️: здесь должна быть связь между тремя признаками: `previous_cancellations`, `is_repeated_guest` и `previous_bookings_not_canceled`: если клиент бронирует номер не в первый раз, то у него должны быть либо отмененные заказы, либо подтвержденные(либо и то, и другое). Если это условие не соблюдается, то все три признака могут усложнить или запутать модель, поэтому можно их упростить: например, добавить вместо них два новых бинарных признака: `has_cancellations` и `has_successful_bookings`. Если ты считаешь, что количество успешных/отмененных бронирований также важно для моделей, то можно удалить признак `is_repeated_guest`</div>"
   ]
  },
  {
   "cell_type": "markdown",
   "id": "2ee72d87",
   "metadata": {},
   "source": [
    "### тип комнаты"
   ]
  },
  {
   "cell_type": "code",
   "execution_count": 55,
   "id": "00634068",
   "metadata": {},
   "outputs": [
    {
     "data": {
      "text/plain": [
       "A                   50451\n",
       "D                    9383\n",
       "E                    2442\n",
       "F                    1211\n",
       "B                     714\n",
       "G                     592\n",
       "C                     227\n",
       "Name: reserved_room_type, dtype: int64"
      ]
     },
     "execution_count": 55,
     "metadata": {},
     "output_type": "execute_result"
    }
   ],
   "source": [
    "df.reserved_room_type.value_counts()"
   ]
  },
  {
   "cell_type": "code",
   "execution_count": 56,
   "id": "91c2f88f",
   "metadata": {
    "scrolled": true
   },
   "outputs": [
    {
     "data": {
      "text/plain": [
       "array(['A               ', 'C               ', 'D               ',\n",
       "       'E               ', 'G               ', 'F               ',\n",
       "       'B               '], dtype=object)"
      ]
     },
     "execution_count": 56,
     "metadata": {},
     "output_type": "execute_result"
    }
   ],
   "source": [
    "df.reserved_room_type.unique()"
   ]
  },
  {
   "cell_type": "code",
   "execution_count": 57,
   "id": "9cb69134",
   "metadata": {},
   "outputs": [],
   "source": [
    "df['reserved_room_type'] = df['reserved_room_type'].str.strip() # удялим пробелы\n",
    "df_test['reserved_room_type'] = df_test['reserved_room_type'].str.strip()"
   ]
  },
  {
   "cell_type": "markdown",
   "id": "e4a5d0d3",
   "metadata": {},
   "source": [
    "### количество изменений заказа"
   ]
  },
  {
   "cell_type": "code",
   "execution_count": 58,
   "id": "8d1c706c",
   "metadata": {
    "scrolled": true
   },
   "outputs": [
    {
     "data": {
      "text/plain": [
       "0     56051\n",
       "1      6574\n",
       "2      1742\n",
       "3       403\n",
       "4       149\n",
       "5        41\n",
       "6        19\n",
       "7        17\n",
       "8         7\n",
       "9         5\n",
       "13        4\n",
       "10        2\n",
       "14        2\n",
       "15        2\n",
       "16        1\n",
       "17        1\n",
       "Name: booking_changes, dtype: int64"
      ]
     },
     "execution_count": 58,
     "metadata": {},
     "output_type": "execute_result"
    }
   ],
   "source": [
    "df.booking_changes.value_counts()"
   ]
  },
  {
   "cell_type": "code",
   "execution_count": 59,
   "id": "c92d2b75",
   "metadata": {
    "scrolled": true
   },
   "outputs": [
    {
     "data": {
      "image/png": "[encoded data removed]",
      "text/plain": [
       "<Figure size 432x288 with 1 Axes>"
      ]
     },
     "metadata": {
      "needs_background": "light"
     },
     "output_type": "display_data"
    }
   ],
   "source": [
    "df['booking_changes'].plot(kind = 'hist')\n",
    "plt.xlabel('кол-во изменений в заказе');\n",
    "plt.ylabel('частота')\n",
    "plt.title('гистограмма распределения изменений в заказе')\n",
    "plt.show();"
   ]
  },
  {
   "cell_type": "code",
   "execution_count": 60,
   "id": "05fa8d38",
   "metadata": {},
   "outputs": [],
   "source": [
    "df = df.query('booking_changes <= 5')\n",
    "df_test = df_test.query('booking_changes <= 5') "
   ]
  },
  {
   "cell_type": "markdown",
   "id": "dd3c3275",
   "metadata": {},
   "source": [
    "<div class=\"alert alert-success\">\n",
    "<h2>Комментарий ревьюера<a class=\"tocSkip\"></a></h2>\n",
    "    \n",
    "**Отлично!** ✔️: 👍</div>"
   ]
  },
  {
   "cell_type": "markdown",
   "id": "140d703b",
   "metadata": {},
   "source": [
    "### количество дней ожидания подтверждения"
   ]
  },
  {
   "cell_type": "code",
   "execution_count": 61,
   "id": "266bdae3",
   "metadata": {
    "scrolled": true
   },
   "outputs": [
    {
     "data": {
      "text/plain": [
       "array([  0,   1,   2,   3,   4,   5,   6,   8,   9,  10,  11,  12,  13,\n",
       "        14,  15,  17,  19,  20,  21,  22,  24,  25,  27,  28,  30,  31,\n",
       "        32,  33,  34,  35,  38,  39,  40,  41,  42,  43,  44,  45,  46,\n",
       "        47,  48,  49,  50,  53,  55,  56,  57,  58,  59,  60,  61,  62,\n",
       "        63,  65,  68,  69,  70,  71,  72,  74,  75,  76,  77,  79,  80,\n",
       "        81,  85,  87,  89,  91,  93,  96,  98,  99, 101, 107, 108, 111,\n",
       "       120, 122, 125, 142, 147, 150, 160, 162, 167, 174, 176, 178, 187,\n",
       "       193, 207, 215, 224, 236, 259])"
      ]
     },
     "execution_count": 61,
     "metadata": {},
     "output_type": "execute_result"
    }
   ],
   "source": [
    "df.days_in_waiting_list.sort_values().unique()"
   ]
  },
  {
   "cell_type": "code",
   "execution_count": 62,
   "id": "99d32f24",
   "metadata": {},
   "outputs": [],
   "source": [
    "df = df.query('days_in_waiting_list < 25') # из опыта пользованиями сервисами, бронь подтверждается не более 5 дней \n",
    "# \n",
    "df_test = df_test.query('days_in_waiting_list < 25')"
   ]
  },
  {
   "cell_type": "code",
   "execution_count": 63,
   "id": "6e089278",
   "metadata": {},
   "outputs": [
    {
     "data": {
      "image/png": "[encoded data removed]",
      "text/plain": [
       "<Figure size 432x288 with 1 Axes>"
      ]
     },
     "metadata": {
      "needs_background": "light"
     },
     "output_type": "display_data"
    }
   ],
   "source": [
    "df['days_in_waiting_list'].plot(kind = 'hist')\n",
    "plt.xlabel('кол-во дней ожидания подтверждения заказа')\n",
    "plt.ylabel('частота')\n",
    "plt.title('гистограмма распределения кол-ва дней ожидания')\n",
    "plt.show();"
   ]
  },
  {
   "cell_type": "markdown",
   "id": "80963d6f",
   "metadata": {},
   "source": [
    "<div class=\"alert alert-warning\">\n",
    "<h2>Комментарий ревьюера<a class=\"tocSkip\"></a></h2>\n",
    "    \n",
    "**Есть совет** ⚠️: для этого признака также стоит построить гистограмму, чтобы аргументировать свой выбор порога для отсечения: личный опыт, конечно, может быть полезен, но определить выбросы без распределения признака не получится</div>"
   ]
  },
  {
   "cell_type": "markdown",
   "id": "b15ba281",
   "metadata": {},
   "source": [
    "### тип заказчика"
   ]
  },
  {
   "cell_type": "code",
   "execution_count": 64,
   "id": "d0f61feb",
   "metadata": {
    "scrolled": true
   },
   "outputs": [
    {
     "data": {
      "text/plain": [
       "Transient          43803\n",
       "Transient-Party    15313\n",
       "Contract            2742\n",
       "Group                284\n",
       "Name: customer_type, dtype: int64"
      ]
     },
     "execution_count": 64,
     "metadata": {},
     "output_type": "execute_result"
    }
   ],
   "source": [
    "df.customer_type.value_counts()"
   ]
  },
  {
   "cell_type": "markdown",
   "id": "82e9ebd8",
   "metadata": {},
   "source": [
    "### количество мест для парковки"
   ]
  },
  {
   "cell_type": "code",
   "execution_count": 65,
   "id": "ea71c74f",
   "metadata": {},
   "outputs": [
    {
     "data": {
      "text/plain": [
       "0    58471\n",
       "1     3659\n",
       "2       11\n",
       "3        1\n",
       "Name: required_car_parking_spaces, dtype: int64"
      ]
     },
     "execution_count": 65,
     "metadata": {},
     "output_type": "execute_result"
    }
   ],
   "source": [
    "df.required_car_parking_spaces.value_counts()"
   ]
  },
  {
   "cell_type": "code",
   "execution_count": 66,
   "id": "2ac6ad8f",
   "metadata": {},
   "outputs": [
    {
     "data": {
      "image/png": "[encoded data removed]",
      "text/plain": [
       "<Figure size 432x288 with 1 Axes>"
      ]
     },
     "metadata": {
      "needs_background": "light"
     },
     "output_type": "display_data"
    }
   ],
   "source": [
    "df.groupby('is_canceled')['required_car_parking_spaces'].hist(bins=5, alpha=0.5)\n",
    "plt.title('Количество парковочных мест, требуемых для каждого статуса', fontsize = 14, pad = 10)\n",
    "plt.xlabel('Количество парковочных мест', fontsize = 12, labelpad = 5)\n",
    "plt.ylabel('Количество клиентов', fontsize = 12, labelpad = 5)\n",
    "plt.legend((['не отменен', 'отменен']))\n",
    "plt.show()"
   ]
  },
  {
   "cell_type": "markdown",
   "id": "085441a6",
   "metadata": {},
   "source": [
    "<div class=\"alert alert-warning\">\n",
    "<h2>Комментарий ревьюера<a class=\"tocSkip\"></a></h2>\n",
    "    \n",
    "**Есть совет** ⚠️: по аналогии с количеством младенцев, этот признак также можно сделать бинарным и переименовать, например, в `is_parking_space_required`</div>"
   ]
  },
  {
   "cell_type": "markdown",
   "id": "2287a136",
   "metadata": {},
   "source": [
    "### количество специальных отметок"
   ]
  },
  {
   "cell_type": "code",
   "execution_count": 67,
   "id": "089ca7a8",
   "metadata": {
    "scrolled": true
   },
   "outputs": [
    {
     "data": {
      "text/plain": [
       "0    37950\n",
       "1    16654\n",
       "2     6395\n",
       "3     1026\n",
       "4      105\n",
       "5       12\n",
       "Name: total_of_special_requests, dtype: int64"
      ]
     },
     "execution_count": 67,
     "metadata": {},
     "output_type": "execute_result"
    }
   ],
   "source": [
    "df.total_of_special_requests.value_counts()"
   ]
  },
  {
   "cell_type": "markdown",
   "id": "6b24f71f",
   "metadata": {},
   "source": [
    "**Вывод**\n",
    "\n",
    "__Все признаки посмотрели, от всех аномальных значений избавились.__\n",
    "\n",
    "\n",
    "* тип данных в столбцах 'lead_time','adults', 'children','babies' был изменен\n",
    "\n",
    "\n",
    "\n",
    "* ненужные столбцы  'id','arrival_date_year', 'arrival_date_week_number', 'arrival_date_day_of_month', 'total_nights', 'distribution_channel' были удалены\n",
    "\n",
    "\n",
    "* данные проверены на дубликаты, дубаликатов не обнаружено\n",
    "\n",
    "\n",
    "* были добавлены времена года в датасет\n",
    "\n",
    "\n",
    "* строки, где кол-во взрослых было равно 0, были удалены\n",
    "\n",
    "\n",
    "* были удалены количество ночей в выходные более 2 и количество ночей в будние более 5\n",
    " \n",
    "\n",
    "* строки с кол-вом детей со значениями 9 и 10 были удалдены\n",
    "\n",
    "\n",
    "* из значений опций заказов и типа комнаты были удалены лишние пробелы\n",
    "\n",
    "\n",
    "* страны, встречающиеся реже 50 раз, были объеденены в одну категорию - \"Другие\"\n",
    "\n",
    "\n",
    "* значения неотмененных заказов, превышающие 2 дня, были удалены\n",
    "\n",
    "\n",
    "* были оставлены значения меньше 5 в признаке \"изменения в заказе\"\n",
    "\n",
    "\n",
    "* значения более 2, в признаке \"кол-во дней ожидание подтверждения\" были удалены"
   ]
  },
  {
   "cell_type": "markdown",
   "id": "0ed67a51",
   "metadata": {},
   "source": [
    "<div class=\"alert alert-success\">\n",
    "<h2>Комментарий ревьюера<a class=\"tocSkip\"></a></h2>\n",
    "    \n",
    "**Отлично!** ✔️: все так, можно переходить к расчету прибыли</div>"
   ]
  },
  {
   "cell_type": "markdown",
   "id": "106284bc",
   "metadata": {},
   "source": [
    "# Шаг 3. Формулировка ML-задачи на основе бизнес-задачи <a id='4'></a>\n",
    "\n",
    "**Вычислите бизнес-метрику**\n",
    "\n",
    "**Оцените прибыль отеля без внедрения депозитов.**"
   ]
  },
  {
   "cell_type": "markdown",
   "id": "a616ac14",
   "metadata": {},
   "source": [
    "Оценим прибыль отеля без внедрения депозитов"
   ]
  },
  {
   "cell_type": "code",
   "execution_count": 68,
   "id": "d11acf6c",
   "metadata": {},
   "outputs": [],
   "source": [
    "BUDGET = 400_000\n",
    "rooms = pd.DataFrame({'A':[1000, 400],       # для каждого типа комнаты присвоим цену за ночь и за уборку\n",
    "                     'B':[800, 350],\n",
    "                     'C':[600, 350],\n",
    "                     'D':[550, 150],\n",
    "                     'E':[500, 150],\n",
    "                     'F':[450, 150],\n",
    "                     'G':[350, 150]}, index = ['night_price', 'service'])\n",
    "season_ratio = pd.DataFrame({'summer':[1.4],   #   для каждого сезона присвоим коэффициент\n",
    "                           'autumn':[1.2],\n",
    "                           'spring':[1.2],\n",
    "                            'winter':[1]}, index = ['ratio'])"
   ]
  },
  {
   "cell_type": "code",
   "execution_count": 69,
   "id": "d0bfbb58",
   "metadata": {},
   "outputs": [],
   "source": [
    "def revenue(data):      # функция для подсчета прибыли\n",
    "    room_type = data['reserved_room_type']\n",
    "    season = data['season']\n",
    "    total_nights = data['stays_in_week_nights'] + data['stays_in_weekend_nights']\n",
    "    is_canceled = data['is_canceled']\n",
    "    \n",
    "    room_price = rooms[room_type].night_price\n",
    "    service_price = rooms[room_type].service\n",
    "    ratio_for_price = season_ratio[season].ratio\n",
    "   \n",
    "    \n",
    "    if is_canceled:\n",
    "        profit = -ratio_for_price * ( room_price) - service_price\n",
    "    else:\n",
    "        # Если клиент приехал на одну ночь- надо убраться только после его выезда для след. постояльца- 1 уборка \n",
    "        # Если на две ночи то убирают только после его выезда для след. постояльца-  1 уборка\n",
    "        # Если три дня, то убирают каждый второй день, то есть 1 раз и после выезда, для след. постояльца- 2 уборки\n",
    "        # Если на 4 дня - то всего две уборки и так далее...\n",
    "        profit = ratio_for_price * (total_nights*room_price) - ((1 + total_nights) // 2) * service_price \n",
    "    \n",
    "    \n",
    "    return profit\n",
    "\n",
    "total_revenue = df_test.apply(revenue, axis = 1).sum() # - BUDGET"
   ]
  },
  {
   "cell_type": "code",
   "execution_count": 70,
   "id": "4b95041a",
   "metadata": {},
   "outputs": [
    {
     "name": "stdout",
     "output_type": "stream",
     "text": [
      "Прибыль отеля без внедрения депозитов равна  35.03962 млн.руб.\n"
     ]
    }
   ],
   "source": [
    "print('Прибыль отеля без внедрения депозитов равна ', total_revenue / 1000000,'млн.руб.')"
   ]
  },
  {
   "cell_type": "code",
   "execution_count": 71,
   "id": "4caa9f44",
   "metadata": {
    "scrolled": true
   },
   "outputs": [
    {
     "name": "stdout",
     "output_type": "stream",
     "text": [
      "Значит прибыль с внедренияим депозитов должна быть >= 35.43962 млн.руб.\n"
     ]
    }
   ],
   "source": [
    "print('Значит прибыль с внедренияим депозитов должна быть >=', total_revenue / 1000000 + BUDGET / 1000000,'млн.руб.')"
   ]
  },
  {
   "cell_type": "markdown",
   "id": "4ed7378e",
   "metadata": {},
   "source": [
    "<div class=\"alert alert-success\">\n",
    "<h2>Комментарий ревьюера<a class=\"tocSkip\"></a></h2>\n",
    "    \n",
    "**Отлично!** ✔️: формула для расчета прибыли до внедрения модели составлена верно!</div>"
   ]
  },
  {
   "cell_type": "markdown",
   "id": "0f1960ea",
   "metadata": {},
   "source": [
    "<div class=\"alert alert-warning\">\n",
    "<h2>Комментарий ревьюера<a class=\"tocSkip\"></a></h2>\n",
    "    \n",
    "**Есть совет** ⚠️: но только вычитать бюджет на разработку из `total_revenue` на этом этапе не нужно, ведь это прибыль до внедрения системы депозитов</div>"
   ]
  },
  {
   "cell_type": "markdown",
   "id": "3fcb8b87",
   "metadata": {},
   "source": [
    "# Шаг 4. Разработка модели ML <a id='5'></a>\n",
    "\n",
    "* **Обучите разные модели и оцените их качество кросс-валидацией. Выберите лучшую модель и проверьте её на тестовой выборке. Опишите выводы.**\n",
    "\n",
    "* **Выберите метрику для обучения.**\n",
    "\n",
    "* **Оцените прибыль, которую принесёт выбранная модель за год.**"
   ]
  },
  {
   "cell_type": "code",
   "execution_count": 72,
   "id": "9a5aec73",
   "metadata": {},
   "outputs": [],
   "source": [
    "df = df.drop('season', axis = 1) # удалим сезоны, так как у нас уже есть месяца\n",
    "seasons = df_test['season']\n",
    "df_test = df_test.drop('season', axis = 1)"
   ]
  },
  {
   "cell_type": "code",
   "execution_count": 73,
   "id": "633c339f",
   "metadata": {},
   "outputs": [],
   "source": [
    "features_train = df.drop('is_canceled', axis = 1)\n",
    "target_train = df['is_canceled']\n",
    "\n",
    "\n",
    "features_test = df_test.drop('is_canceled', axis = 1)\n",
    "target_test = df_test['is_canceled']"
   ]
  },
  {
   "cell_type": "code",
   "execution_count": 74,
   "id": "b6efbf2c",
   "metadata": {
    "scrolled": false
   },
   "outputs": [
    {
     "name": "stdout",
     "output_type": "stream",
     "text": [
      "objects: \n",
      " ['arrival_date_month', 'meal', 'country', 'reserved_room_type', 'customer_type']\n",
      "nums: \n",
      " ['lead_time', 'stays_in_weekend_nights', 'stays_in_week_nights', 'adults', 'children', 'babies', 'previous_cancellations', 'previous_bookings_not_canceled', 'booking_changes', 'days_in_waiting_list', 'required_car_parking_spaces', 'total_of_special_requests']\n"
     ]
    }
   ],
   "source": [
    "obj_features = features_train.select_dtypes(include='object').columns.to_list()  # столбцы типа object\n",
    "num_features = features_train.select_dtypes(exclude='object').columns.to_list()  # столбцы типа int or float\n",
    "print('objects: \\n', obj_features)\n",
    "print('nums: \\n', num_features)\n",
    "# используем технику OneHotEncoder для работы с строковыми значениями\n",
    "encoder = OneHotEncoder(handle_unknown = 'error',drop = 'first', sparse = False) \n",
    "\n",
    "encoder.fit(features_train[obj_features])\n",
    "\n",
    "features_train[encoder.get_feature_names()] = encoder.transform(features_train[obj_features])\n",
    "\n",
    "features_train = features_train.drop(obj_features, axis = 1)\n",
    "\n",
    "\n",
    "features_test[\n",
    "    encoder.get_feature_names()\n",
    "] = encoder.transform(features_test[obj_features])\n",
    "\n",
    "features_test = features_test.drop(obj_features, axis = 1)"
   ]
  },
  {
   "cell_type": "markdown",
   "id": "94f4d438",
   "metadata": {},
   "source": [
    "<div class=\"alert alert-success\">\n",
    "<h2>Комментарий ревьюера<a class=\"tocSkip\"></a></h2>\n",
    "    \n",
    "**Отлично!** ✔️: здорово, что для OHE используешь именно OneHotEncoder!</div>"
   ]
  },
  {
   "cell_type": "code",
   "execution_count": 75,
   "id": "1fa2989e",
   "metadata": {},
   "outputs": [
    {
     "data": {
      "text/html": [
       "<div>\n",
       "<style scoped>\n",
       "    .dataframe tbody tr th:only-of-type {\n",
       "        vertical-align: middle;\n",
       "    }\n",
       "\n",
       "    .dataframe tbody tr th {\n",
       "        vertical-align: top;\n",
       "    }\n",
       "\n",
       "    .dataframe thead th {\n",
       "        text-align: right;\n",
       "    }\n",
       "</style>\n",
       "<table border=\"1\" class=\"dataframe\">\n",
       "  <thead>\n",
       "    <tr style=\"text-align: right;\">\n",
       "      <th></th>\n",
       "      <th>lead_time</th>\n",
       "      <th>stays_in_weekend_nights</th>\n",
       "      <th>stays_in_week_nights</th>\n",
       "      <th>adults</th>\n",
       "      <th>children</th>\n",
       "      <th>babies</th>\n",
       "      <th>previous_cancellations</th>\n",
       "      <th>previous_bookings_not_canceled</th>\n",
       "      <th>booking_changes</th>\n",
       "      <th>days_in_waiting_list</th>\n",
       "      <th>required_car_parking_spaces</th>\n",
       "      <th>total_of_special_requests</th>\n",
       "      <th>x0_August</th>\n",
       "      <th>x0_December</th>\n",
       "      <th>x0_February</th>\n",
       "      <th>x0_January</th>\n",
       "      <th>x0_July</th>\n",
       "      <th>x0_June</th>\n",
       "      <th>x0_March</th>\n",
       "      <th>x0_May</th>\n",
       "      <th>x0_November</th>\n",
       "      <th>x0_October</th>\n",
       "      <th>x0_September</th>\n",
       "      <th>x1_FB</th>\n",
       "      <th>x1_HB</th>\n",
       "      <th>x1_SC</th>\n",
       "      <th>x2_ARG</th>\n",
       "      <th>x2_AUS</th>\n",
       "      <th>x2_AUT</th>\n",
       "      <th>x2_BEL</th>\n",
       "      <th>x2_BRA</th>\n",
       "      <th>x2_CHE</th>\n",
       "      <th>x2_CHN</th>\n",
       "      <th>x2_CN</th>\n",
       "      <th>x2_DEU</th>\n",
       "      <th>x2_DNK</th>\n",
       "      <th>x2_ESP</th>\n",
       "      <th>x2_FIN</th>\n",
       "      <th>x2_FRA</th>\n",
       "      <th>x2_GBR</th>\n",
       "      <th>x2_HUN</th>\n",
       "      <th>x2_IRL</th>\n",
       "      <th>x2_ISR</th>\n",
       "      <th>x2_ITA</th>\n",
       "      <th>x2_JPN</th>\n",
       "      <th>x2_KOR</th>\n",
       "      <th>x2_LUX</th>\n",
       "      <th>x2_MAR</th>\n",
       "      <th>x2_NLD</th>\n",
       "      <th>x2_NOR</th>\n",
       "      <th>x2_POL</th>\n",
       "      <th>x2_PRT</th>\n",
       "      <th>x2_ROU</th>\n",
       "      <th>x2_RUS</th>\n",
       "      <th>x2_SWE</th>\n",
       "      <th>x2_TUR</th>\n",
       "      <th>x2_USA</th>\n",
       "      <th>x2_other</th>\n",
       "      <th>x3_B</th>\n",
       "      <th>x3_C</th>\n",
       "      <th>x3_D</th>\n",
       "      <th>x3_E</th>\n",
       "      <th>x3_F</th>\n",
       "      <th>x3_G</th>\n",
       "      <th>x4_Group</th>\n",
       "      <th>x4_Transient</th>\n",
       "      <th>x4_Transient-Party</th>\n",
       "    </tr>\n",
       "  </thead>\n",
       "  <tbody>\n",
       "    <tr>\n",
       "      <th>0</th>\n",
       "      <td>7</td>\n",
       "      <td>0</td>\n",
       "      <td>1</td>\n",
       "      <td>1</td>\n",
       "      <td>0</td>\n",
       "      <td>0</td>\n",
       "      <td>0</td>\n",
       "      <td>0</td>\n",
       "      <td>0</td>\n",
       "      <td>0</td>\n",
       "      <td>0</td>\n",
       "      <td>0</td>\n",
       "      <td>0.0</td>\n",
       "      <td>0.0</td>\n",
       "      <td>0.0</td>\n",
       "      <td>0.0</td>\n",
       "      <td>1.0</td>\n",
       "      <td>0.0</td>\n",
       "      <td>0.0</td>\n",
       "      <td>0.0</td>\n",
       "      <td>0.0</td>\n",
       "      <td>0.0</td>\n",
       "      <td>0.0</td>\n",
       "      <td>0.0</td>\n",
       "      <td>0.0</td>\n",
       "      <td>0.0</td>\n",
       "      <td>0.0</td>\n",
       "      <td>0.0</td>\n",
       "      <td>0.0</td>\n",
       "      <td>0.0</td>\n",
       "      <td>0.0</td>\n",
       "      <td>0.0</td>\n",
       "      <td>0.0</td>\n",
       "      <td>0.0</td>\n",
       "      <td>0.0</td>\n",
       "      <td>0.0</td>\n",
       "      <td>0.0</td>\n",
       "      <td>0.0</td>\n",
       "      <td>0.0</td>\n",
       "      <td>1.0</td>\n",
       "      <td>0.0</td>\n",
       "      <td>0.0</td>\n",
       "      <td>0.0</td>\n",
       "      <td>0.0</td>\n",
       "      <td>0.0</td>\n",
       "      <td>0.0</td>\n",
       "      <td>0.0</td>\n",
       "      <td>0.0</td>\n",
       "      <td>0.0</td>\n",
       "      <td>0.0</td>\n",
       "      <td>0.0</td>\n",
       "      <td>0.0</td>\n",
       "      <td>0.0</td>\n",
       "      <td>0.0</td>\n",
       "      <td>0.0</td>\n",
       "      <td>0.0</td>\n",
       "      <td>0.0</td>\n",
       "      <td>0.0</td>\n",
       "      <td>0.0</td>\n",
       "      <td>0.0</td>\n",
       "      <td>0.0</td>\n",
       "      <td>0.0</td>\n",
       "      <td>0.0</td>\n",
       "      <td>0.0</td>\n",
       "      <td>0.0</td>\n",
       "      <td>1.0</td>\n",
       "      <td>0.0</td>\n",
       "    </tr>\n",
       "    <tr>\n",
       "      <th>1</th>\n",
       "      <td>14</td>\n",
       "      <td>0</td>\n",
       "      <td>2</td>\n",
       "      <td>2</td>\n",
       "      <td>0</td>\n",
       "      <td>0</td>\n",
       "      <td>0</td>\n",
       "      <td>0</td>\n",
       "      <td>0</td>\n",
       "      <td>0</td>\n",
       "      <td>0</td>\n",
       "      <td>1</td>\n",
       "      <td>0.0</td>\n",
       "      <td>0.0</td>\n",
       "      <td>0.0</td>\n",
       "      <td>0.0</td>\n",
       "      <td>1.0</td>\n",
       "      <td>0.0</td>\n",
       "      <td>0.0</td>\n",
       "      <td>0.0</td>\n",
       "      <td>0.0</td>\n",
       "      <td>0.0</td>\n",
       "      <td>0.0</td>\n",
       "      <td>0.0</td>\n",
       "      <td>0.0</td>\n",
       "      <td>0.0</td>\n",
       "      <td>0.0</td>\n",
       "      <td>0.0</td>\n",
       "      <td>0.0</td>\n",
       "      <td>0.0</td>\n",
       "      <td>0.0</td>\n",
       "      <td>0.0</td>\n",
       "      <td>0.0</td>\n",
       "      <td>0.0</td>\n",
       "      <td>0.0</td>\n",
       "      <td>0.0</td>\n",
       "      <td>0.0</td>\n",
       "      <td>0.0</td>\n",
       "      <td>0.0</td>\n",
       "      <td>1.0</td>\n",
       "      <td>0.0</td>\n",
       "      <td>0.0</td>\n",
       "      <td>0.0</td>\n",
       "      <td>0.0</td>\n",
       "      <td>0.0</td>\n",
       "      <td>0.0</td>\n",
       "      <td>0.0</td>\n",
       "      <td>0.0</td>\n",
       "      <td>0.0</td>\n",
       "      <td>0.0</td>\n",
       "      <td>0.0</td>\n",
       "      <td>0.0</td>\n",
       "      <td>0.0</td>\n",
       "      <td>0.0</td>\n",
       "      <td>0.0</td>\n",
       "      <td>0.0</td>\n",
       "      <td>0.0</td>\n",
       "      <td>0.0</td>\n",
       "      <td>0.0</td>\n",
       "      <td>0.0</td>\n",
       "      <td>0.0</td>\n",
       "      <td>0.0</td>\n",
       "      <td>0.0</td>\n",
       "      <td>0.0</td>\n",
       "      <td>0.0</td>\n",
       "      <td>1.0</td>\n",
       "      <td>0.0</td>\n",
       "    </tr>\n",
       "    <tr>\n",
       "      <th>2</th>\n",
       "      <td>0</td>\n",
       "      <td>0</td>\n",
       "      <td>2</td>\n",
       "      <td>2</td>\n",
       "      <td>0</td>\n",
       "      <td>0</td>\n",
       "      <td>0</td>\n",
       "      <td>0</td>\n",
       "      <td>0</td>\n",
       "      <td>0</td>\n",
       "      <td>0</td>\n",
       "      <td>0</td>\n",
       "      <td>0.0</td>\n",
       "      <td>0.0</td>\n",
       "      <td>0.0</td>\n",
       "      <td>0.0</td>\n",
       "      <td>1.0</td>\n",
       "      <td>0.0</td>\n",
       "      <td>0.0</td>\n",
       "      <td>0.0</td>\n",
       "      <td>0.0</td>\n",
       "      <td>0.0</td>\n",
       "      <td>0.0</td>\n",
       "      <td>0.0</td>\n",
       "      <td>0.0</td>\n",
       "      <td>0.0</td>\n",
       "      <td>0.0</td>\n",
       "      <td>0.0</td>\n",
       "      <td>0.0</td>\n",
       "      <td>0.0</td>\n",
       "      <td>0.0</td>\n",
       "      <td>0.0</td>\n",
       "      <td>0.0</td>\n",
       "      <td>0.0</td>\n",
       "      <td>0.0</td>\n",
       "      <td>0.0</td>\n",
       "      <td>0.0</td>\n",
       "      <td>0.0</td>\n",
       "      <td>0.0</td>\n",
       "      <td>0.0</td>\n",
       "      <td>0.0</td>\n",
       "      <td>0.0</td>\n",
       "      <td>0.0</td>\n",
       "      <td>0.0</td>\n",
       "      <td>0.0</td>\n",
       "      <td>0.0</td>\n",
       "      <td>0.0</td>\n",
       "      <td>0.0</td>\n",
       "      <td>0.0</td>\n",
       "      <td>0.0</td>\n",
       "      <td>0.0</td>\n",
       "      <td>1.0</td>\n",
       "      <td>0.0</td>\n",
       "      <td>0.0</td>\n",
       "      <td>0.0</td>\n",
       "      <td>0.0</td>\n",
       "      <td>0.0</td>\n",
       "      <td>0.0</td>\n",
       "      <td>0.0</td>\n",
       "      <td>1.0</td>\n",
       "      <td>0.0</td>\n",
       "      <td>0.0</td>\n",
       "      <td>0.0</td>\n",
       "      <td>0.0</td>\n",
       "      <td>0.0</td>\n",
       "      <td>1.0</td>\n",
       "      <td>0.0</td>\n",
       "    </tr>\n",
       "    <tr>\n",
       "      <th>3</th>\n",
       "      <td>9</td>\n",
       "      <td>0</td>\n",
       "      <td>2</td>\n",
       "      <td>2</td>\n",
       "      <td>0</td>\n",
       "      <td>0</td>\n",
       "      <td>0</td>\n",
       "      <td>0</td>\n",
       "      <td>0</td>\n",
       "      <td>0</td>\n",
       "      <td>0</td>\n",
       "      <td>1</td>\n",
       "      <td>0.0</td>\n",
       "      <td>0.0</td>\n",
       "      <td>0.0</td>\n",
       "      <td>0.0</td>\n",
       "      <td>1.0</td>\n",
       "      <td>0.0</td>\n",
       "      <td>0.0</td>\n",
       "      <td>0.0</td>\n",
       "      <td>0.0</td>\n",
       "      <td>0.0</td>\n",
       "      <td>0.0</td>\n",
       "      <td>1.0</td>\n",
       "      <td>0.0</td>\n",
       "      <td>0.0</td>\n",
       "      <td>0.0</td>\n",
       "      <td>0.0</td>\n",
       "      <td>0.0</td>\n",
       "      <td>0.0</td>\n",
       "      <td>0.0</td>\n",
       "      <td>0.0</td>\n",
       "      <td>0.0</td>\n",
       "      <td>0.0</td>\n",
       "      <td>0.0</td>\n",
       "      <td>0.0</td>\n",
       "      <td>0.0</td>\n",
       "      <td>0.0</td>\n",
       "      <td>0.0</td>\n",
       "      <td>0.0</td>\n",
       "      <td>0.0</td>\n",
       "      <td>0.0</td>\n",
       "      <td>0.0</td>\n",
       "      <td>0.0</td>\n",
       "      <td>0.0</td>\n",
       "      <td>0.0</td>\n",
       "      <td>0.0</td>\n",
       "      <td>0.0</td>\n",
       "      <td>0.0</td>\n",
       "      <td>0.0</td>\n",
       "      <td>0.0</td>\n",
       "      <td>1.0</td>\n",
       "      <td>0.0</td>\n",
       "      <td>0.0</td>\n",
       "      <td>0.0</td>\n",
       "      <td>0.0</td>\n",
       "      <td>0.0</td>\n",
       "      <td>0.0</td>\n",
       "      <td>0.0</td>\n",
       "      <td>1.0</td>\n",
       "      <td>0.0</td>\n",
       "      <td>0.0</td>\n",
       "      <td>0.0</td>\n",
       "      <td>0.0</td>\n",
       "      <td>0.0</td>\n",
       "      <td>1.0</td>\n",
       "      <td>0.0</td>\n",
       "    </tr>\n",
       "    <tr>\n",
       "      <th>4</th>\n",
       "      <td>85</td>\n",
       "      <td>0</td>\n",
       "      <td>3</td>\n",
       "      <td>2</td>\n",
       "      <td>0</td>\n",
       "      <td>0</td>\n",
       "      <td>0</td>\n",
       "      <td>0</td>\n",
       "      <td>0</td>\n",
       "      <td>0</td>\n",
       "      <td>0</td>\n",
       "      <td>1</td>\n",
       "      <td>0.0</td>\n",
       "      <td>0.0</td>\n",
       "      <td>0.0</td>\n",
       "      <td>0.0</td>\n",
       "      <td>1.0</td>\n",
       "      <td>0.0</td>\n",
       "      <td>0.0</td>\n",
       "      <td>0.0</td>\n",
       "      <td>0.0</td>\n",
       "      <td>0.0</td>\n",
       "      <td>0.0</td>\n",
       "      <td>0.0</td>\n",
       "      <td>0.0</td>\n",
       "      <td>0.0</td>\n",
       "      <td>0.0</td>\n",
       "      <td>0.0</td>\n",
       "      <td>0.0</td>\n",
       "      <td>0.0</td>\n",
       "      <td>0.0</td>\n",
       "      <td>0.0</td>\n",
       "      <td>0.0</td>\n",
       "      <td>0.0</td>\n",
       "      <td>0.0</td>\n",
       "      <td>0.0</td>\n",
       "      <td>0.0</td>\n",
       "      <td>0.0</td>\n",
       "      <td>0.0</td>\n",
       "      <td>0.0</td>\n",
       "      <td>0.0</td>\n",
       "      <td>0.0</td>\n",
       "      <td>0.0</td>\n",
       "      <td>0.0</td>\n",
       "      <td>0.0</td>\n",
       "      <td>0.0</td>\n",
       "      <td>0.0</td>\n",
       "      <td>0.0</td>\n",
       "      <td>0.0</td>\n",
       "      <td>0.0</td>\n",
       "      <td>0.0</td>\n",
       "      <td>1.0</td>\n",
       "      <td>0.0</td>\n",
       "      <td>0.0</td>\n",
       "      <td>0.0</td>\n",
       "      <td>0.0</td>\n",
       "      <td>0.0</td>\n",
       "      <td>0.0</td>\n",
       "      <td>0.0</td>\n",
       "      <td>0.0</td>\n",
       "      <td>0.0</td>\n",
       "      <td>0.0</td>\n",
       "      <td>0.0</td>\n",
       "      <td>0.0</td>\n",
       "      <td>0.0</td>\n",
       "      <td>1.0</td>\n",
       "      <td>0.0</td>\n",
       "    </tr>\n",
       "  </tbody>\n",
       "</table>\n",
       "</div>"
      ],
      "text/plain": [
       "   lead_time  stays_in_weekend_nights  stays_in_week_nights  adults  children  \\\n",
       "0          7                        0                     1       1         0   \n",
       "1         14                        0                     2       2         0   \n",
       "2          0                        0                     2       2         0   \n",
       "3          9                        0                     2       2         0   \n",
       "4         85                        0                     3       2         0   \n",
       "\n",
       "   babies  previous_cancellations  previous_bookings_not_canceled  \\\n",
       "0       0                       0                               0   \n",
       "1       0                       0                               0   \n",
       "2       0                       0                               0   \n",
       "3       0                       0                               0   \n",
       "4       0                       0                               0   \n",
       "\n",
       "   booking_changes  days_in_waiting_list  required_car_parking_spaces  \\\n",
       "0                0                     0                            0   \n",
       "1                0                     0                            0   \n",
       "2                0                     0                            0   \n",
       "3                0                     0                            0   \n",
       "4                0                     0                            0   \n",
       "\n",
       "   total_of_special_requests  x0_August  x0_December  x0_February  x0_January  \\\n",
       "0                          0        0.0          0.0          0.0         0.0   \n",
       "1                          1        0.0          0.0          0.0         0.0   \n",
       "2                          0        0.0          0.0          0.0         0.0   \n",
       "3                          1        0.0          0.0          0.0         0.0   \n",
       "4                          1        0.0          0.0          0.0         0.0   \n",
       "\n",
       "   x0_July  x0_June  x0_March  x0_May  x0_November  x0_October  x0_September  \\\n",
       "0      1.0      0.0       0.0     0.0          0.0         0.0           0.0   \n",
       "1      1.0      0.0       0.0     0.0          0.0         0.0           0.0   \n",
       "2      1.0      0.0       0.0     0.0          0.0         0.0           0.0   \n",
       "3      1.0      0.0       0.0     0.0          0.0         0.0           0.0   \n",
       "4      1.0      0.0       0.0     0.0          0.0         0.0           0.0   \n",
       "\n",
       "   x1_FB  x1_HB  x1_SC  x2_ARG  x2_AUS  x2_AUT  x2_BEL  x2_BRA  x2_CHE  \\\n",
       "0    0.0    0.0    0.0     0.0     0.0     0.0     0.0     0.0     0.0   \n",
       "1    0.0    0.0    0.0     0.0     0.0     0.0     0.0     0.0     0.0   \n",
       "2    0.0    0.0    0.0     0.0     0.0     0.0     0.0     0.0     0.0   \n",
       "3    1.0    0.0    0.0     0.0     0.0     0.0     0.0     0.0     0.0   \n",
       "4    0.0    0.0    0.0     0.0     0.0     0.0     0.0     0.0     0.0   \n",
       "\n",
       "   x2_CHN  x2_CN  x2_DEU  x2_DNK  x2_ESP  x2_FIN  x2_FRA  x2_GBR  x2_HUN  \\\n",
       "0     0.0    0.0     0.0     0.0     0.0     0.0     0.0     1.0     0.0   \n",
       "1     0.0    0.0     0.0     0.0     0.0     0.0     0.0     1.0     0.0   \n",
       "2     0.0    0.0     0.0     0.0     0.0     0.0     0.0     0.0     0.0   \n",
       "3     0.0    0.0     0.0     0.0     0.0     0.0     0.0     0.0     0.0   \n",
       "4     0.0    0.0     0.0     0.0     0.0     0.0     0.0     0.0     0.0   \n",
       "\n",
       "   x2_IRL  x2_ISR  x2_ITA  x2_JPN  x2_KOR  x2_LUX  x2_MAR  x2_NLD  x2_NOR  \\\n",
       "0     0.0     0.0     0.0     0.0     0.0     0.0     0.0     0.0     0.0   \n",
       "1     0.0     0.0     0.0     0.0     0.0     0.0     0.0     0.0     0.0   \n",
       "2     0.0     0.0     0.0     0.0     0.0     0.0     0.0     0.0     0.0   \n",
       "3     0.0     0.0     0.0     0.0     0.0     0.0     0.0     0.0     0.0   \n",
       "4     0.0     0.0     0.0     0.0     0.0     0.0     0.0     0.0     0.0   \n",
       "\n",
       "   x2_POL  x2_PRT  x2_ROU  x2_RUS  x2_SWE  x2_TUR  x2_USA  x2_other  x3_B  \\\n",
       "0     0.0     0.0     0.0     0.0     0.0     0.0     0.0       0.0   0.0   \n",
       "1     0.0     0.0     0.0     0.0     0.0     0.0     0.0       0.0   0.0   \n",
       "2     0.0     1.0     0.0     0.0     0.0     0.0     0.0       0.0   0.0   \n",
       "3     0.0     1.0     0.0     0.0     0.0     0.0     0.0       0.0   0.0   \n",
       "4     0.0     1.0     0.0     0.0     0.0     0.0     0.0       0.0   0.0   \n",
       "\n",
       "   x3_C  x3_D  x3_E  x3_F  x3_G  x4_Group  x4_Transient  x4_Transient-Party  \n",
       "0   0.0   0.0   0.0   0.0   0.0       0.0           1.0                 0.0  \n",
       "1   0.0   0.0   0.0   0.0   0.0       0.0           1.0                 0.0  \n",
       "2   1.0   0.0   0.0   0.0   0.0       0.0           1.0                 0.0  \n",
       "3   1.0   0.0   0.0   0.0   0.0       0.0           1.0                 0.0  \n",
       "4   0.0   0.0   0.0   0.0   0.0       0.0           1.0                 0.0  "
      ]
     },
     "execution_count": 75,
     "metadata": {},
     "output_type": "execute_result"
    }
   ],
   "source": [
    "features_train.head()"
   ]
  },
  {
   "cell_type": "code",
   "execution_count": 76,
   "id": "ee5a6ee6",
   "metadata": {},
   "outputs": [],
   "source": [
    "scaler = StandardScaler() # стандартизиуем данные\n",
    "#scaler = MinMaxScaler()\n",
    "scaler.fit(features_train[num_features])\n",
    "features_train[num_features] = scaler.transform(features_train[num_features])\n",
    "features_test[num_features] = scaler.transform(features_test[num_features])"
   ]
  },
  {
   "cell_type": "markdown",
   "id": "9b17eb62",
   "metadata": {},
   "source": [
    "<div class=\"alert alert-warning\">\n",
    "<h2>Комментарий ревьюера<a class=\"tocSkip\"></a></h2>\n",
    "    \n",
    "**Есть совет** ⚠️: вообще для «деревянных» моделей лучше использовать порядковое кодирование, так как они заметно быстрее обучаются на меньшем количестве признаков и не теряют в качестве, есть <a href=\"https://medium.com/data-design/visiting-categorical-features-and-encoding-in-decision-trees-53400fa65931\" target=\"blank_\">шикарная статья</a> на эту тему. Но для линейных моделей(в том числе логистической регрессии) порядковое кодирование не подходит, потому что задает приоритет признакам, которого в природе данных нет. Тогда, например, значение 10^2 в признаке X для них будет важнее, чем значение 10^1, а это далеко не всегда верное утверждение. Поэтому для них лучше использовать OHE.\n",
    "    \n",
    "Также для «деревянных» моделей масштабирование совсем не обязательно, <a href=\"https://towardsdatascience.com/how-data-normalization-affects-your-random-forest-algorithm-fbc6753b4ddf\" target=\"blank_\">тут</a> можно почитать про это подробнее. Но для линейных моделей наоборот, может заметно улучшить метрики\n",
    "    \n",
    "Тогда у тебя получится разная предобработка для разных моделей, это вполне нормально, тут могут помочь пайплайны, они особенно полезны как раз в подобных случаях\n",
    "    \n",
    "Подробнее про пайплайны:\n",
    "* https://scikit-learn.org/stable/modules/generated/sklearn.pipeline.Pipeline.html\n",
    "* https://scikit-learn.org/stable/modules/compose.html\n",
    "* https://towardsdatascience.com/how-to-use-sklearn-pipelines-for-ridiculously-neat-code-a61ab66ca90d</div>"
   ]
  },
  {
   "cell_type": "code",
   "execution_count": 77,
   "id": "8db07f9e",
   "metadata": {},
   "outputs": [
    {
     "name": "stdout",
     "output_type": "stream",
     "text": [
      "Максимальная глубина дерева равна 50\n"
     ]
    }
   ],
   "source": [
    "model = DecisionTreeClassifier(random_state = 12345)\n",
    "model.fit(features_train, target_train)\n",
    "print('Максимальная глубина дерева равна', model.get_depth())"
   ]
  },
  {
   "cell_type": "markdown",
   "id": "7c339367",
   "metadata": {},
   "source": [
    "Проверим три модели для задачи классификации, метрику выберем f1, для того, чтобы учитывать одновременно и точноть модели и полноту"
   ]
  },
  {
   "cell_type": "markdown",
   "id": "8af3c07f",
   "metadata": {},
   "source": [
    "<div class=\"alert alert-danger\">\n",
    "<h2>Комментарий ревьюера<a class=\"tocSkip\"></a></h2>\n",
    "\n",
    "**Нужно доработать** ❌: выбор метрики в этом проекте нужно аргументировать, исходя из бизнес-задачи, это важная часть проекта. Если ты считаешь, что для максимизации прибыли(путем минимизации убытков от отмен бронирования) необходимо максимизировать F1, то нужно это пояснить</div>"
   ]
  },
  {
   "cell_type": "markdown",
   "id": "f6bf1ee5",
   "metadata": {},
   "source": [
    "<div class=\"alert alert-info\">\n",
    "<h2> Комментарий студента <a class=\"tocSkip\"> </h2>\n",
    "\n",
    "Проверим три модели для задачи классификации, выберем метрику: f1, для того, чтобы учитывать одновременно и точноть модели и полноту.\n",
    "</div>"
   ]
  },
  {
   "cell_type": "code",
   "execution_count": 78,
   "id": "5f408964",
   "metadata": {
    "scrolled": true
   },
   "outputs": [
    {
     "name": "stdout",
     "output_type": "stream",
     "text": [
      "средняя оценка f1 качества модели: 0.6783193272315439 при параметрах:\n",
      "{'ccp_alpha': 0.0, 'class_weight': 'balanced', 'criterion': 'gini', 'max_depth': 4, 'max_features': None, 'max_leaf_nodes': None, 'min_impurity_decrease': 0.0, 'min_impurity_split': None, 'min_samples_leaf': 1, 'min_samples_split': 2, 'min_weight_fraction_leaf': 0.0, 'random_state': 99, 'splitter': 'best'}\n"
     ]
    }
   ],
   "source": [
    "f = 0\n",
    "cw = ['balanced', None]\n",
    "for weight in cw:\n",
    "    for depth in range(1, 11):\n",
    "        for split in range(2, 7):\n",
    "            for leaf in range(1, 7):\n",
    "                    model = DecisionTreeClassifier(random_state = 99, max_depth = depth,\n",
    "                                                  class_weight = weight, min_samples_split = split,\n",
    "                                                  min_samples_leaf = leaf)\n",
    "                    scores = cross_val_score(model,features_train, target_train, cv=5, scoring='f1')\n",
    "                    final_score = sum(scores)/len(scores)\n",
    "                    if final_score > f:\n",
    "                        params_1 = model.get_params()\n",
    "                        f = final_score                    \n",
    "print('средняя оценка f1 качества модели:', f, 'при параметрах:')\n",
    "print(params_1)"
   ]
  },
  {
   "cell_type": "code",
   "execution_count": 79,
   "id": "545142ee",
   "metadata": {},
   "outputs": [
    {
     "name": "stdout",
     "output_type": "stream",
     "text": [
      "средняя оценка f1 качества модели: 0.5912314751668934    достигается при параметрах:\n",
      "{'bootstrap': True, 'ccp_alpha': 0.0, 'class_weight': 'balanced', 'criterion': 'gini', 'max_depth': 4, 'max_features': 'auto', 'max_leaf_nodes': None, 'max_samples': None, 'min_impurity_decrease': 0.0, 'min_impurity_split': None, 'min_samples_leaf': 1, 'min_samples_split': 2, 'min_weight_fraction_leaf': 0.0, 'n_estimators': 500, 'n_jobs': None, 'oob_score': False, 'random_state': 12345, 'verbose': 0, 'warm_start': False}\n"
     ]
    }
   ],
   "source": [
    "f = 0\n",
    "for depth in range(1, 11):\n",
    "    for class_weight in cw:\n",
    "        for estimators in (1, 500):\n",
    "            model = RandomForestClassifier(\n",
    "                random_state = 12345, class_weight = class_weight, n_estimators = estimators,\n",
    "                max_depth = depth)\n",
    "            scores = cross_val_score(model, features_train, target_train, cv = 5, scoring = 'f1')\n",
    "            final_score = sum(scores) / len(scores)\n",
    "            if final_score > f :\n",
    "                f = final_score\n",
    "                params_2 = model.get_params()\n",
    "print('средняя оценка f1 качества модели:', f, '   достигается при параметрах:')\n",
    "print(params_2)"
   ]
  },
  {
   "cell_type": "code",
   "execution_count": 80,
   "id": "1f681131",
   "metadata": {},
   "outputs": [
    {
     "name": "stdout",
     "output_type": "stream",
     "text": [
      "средняя оценка f1 модели: 0.6155075272409554     при параметрах:\n",
      "{'C': 0.0001, 'class_weight': 'balanced', 'dual': False, 'fit_intercept': True, 'intercept_scaling': 1, 'l1_ratio': None, 'max_iter': 500000, 'multi_class': 'auto', 'n_jobs': None, 'penalty': 'l2', 'random_state': 12345, 'solver': 'liblinear', 'tol': 0.0001, 'verbose': 0, 'warm_start': False}\n"
     ]
    }
   ],
   "source": [
    "f = 0 \n",
    "p = ['l1', 'l2']\n",
    "for class_weight in cw:\n",
    "    for penalty in p:\n",
    "        for cc in [0.00001, 0.0001, 0.001, 0.01, 0.1, 1, 10, 100]:\n",
    "            model = LogisticRegression(random_state = 12345, max_iter = 500000, solver = 'liblinear', class_weight = class_weight,\n",
    "                                      penalty = penalty, C = cc)\n",
    "            scores = cross_val_score(model, features_train, target_train, cv = 5, scoring = 'f1')\n",
    "            final_score = sum(scores) / len(scores)\n",
    "            if final_score > f:\n",
    "                f = final_score\n",
    "                params_3 = model.get_params()\n",
    "print('средняя оценка f1 модели:', f, '    при параметрах:')\n",
    "print(params_3)"
   ]
  },
  {
   "cell_type": "markdown",
   "id": "084b40ea",
   "metadata": {},
   "source": [
    "Лучшая модель, которая дала наивысший результат, по стравнению с сотальными- это DecisionTreeClassifeir, её и будем использовать на тестововй выборке с выбранныим параметрами"
   ]
  },
  {
   "cell_type": "code",
   "execution_count": 81,
   "id": "4a9f7e68",
   "metadata": {},
   "outputs": [
    {
     "name": "stdout",
     "output_type": "stream",
     "text": [
      "f1 0.6593784641259891\n",
      "auc-roc 0.7848653118818114\n",
      "accuracy 0.7230027976375505\n"
     ]
    }
   ],
   "source": [
    "model = DecisionTreeClassifier(**params_1)\n",
    "model.fit(features_train, target_train)\n",
    "predictions = model.predict(features_test)\n",
    "predictions_prob = model.predict_proba(features_test)\n",
    "\n",
    "f1 = f1_score(target_test, predictions)\n",
    "auc_roc = roc_auc_score(target_test, predictions_prob[:, 1])\n",
    "accuracy = accuracy_score(target_test, predictions)\n",
    "\n",
    "print('f1', f1)\n",
    "print('auc-roc', auc_roc)\n",
    "print('accuracy', accuracy)"
   ]
  },
  {
   "cell_type": "markdown",
   "id": "50c4bc89",
   "metadata": {},
   "source": [
    "<div class=\"alert alert-success\">\n",
    "<h2>Комментарий ревьюера<a class=\"tocSkip\"></a></h2>\n",
    "    \n",
    "**Отлично!** ✔️: качественная работа с моделями :)</div>"
   ]
  },
  {
   "cell_type": "code",
   "execution_count": 82,
   "id": "c5e26861",
   "metadata": {},
   "outputs": [],
   "source": [
    "df_test['predictions'] = predictions # сохраним наши предсказания в столбцев с предсказаниями"
   ]
  },
  {
   "cell_type": "code",
   "execution_count": 83,
   "id": "e421b494",
   "metadata": {},
   "outputs": [
    {
     "data": {
      "text/html": [
       "<div>\n",
       "<style scoped>\n",
       "    .dataframe tbody tr th:only-of-type {\n",
       "        vertical-align: middle;\n",
       "    }\n",
       "\n",
       "    .dataframe tbody tr th {\n",
       "        vertical-align: top;\n",
       "    }\n",
       "\n",
       "    .dataframe thead th {\n",
       "        text-align: right;\n",
       "    }\n",
       "</style>\n",
       "<table border=\"1\" class=\"dataframe\">\n",
       "  <thead>\n",
       "    <tr style=\"text-align: right;\">\n",
       "      <th></th>\n",
       "      <th>is_canceled</th>\n",
       "      <th>lead_time</th>\n",
       "      <th>arrival_date_month</th>\n",
       "      <th>stays_in_weekend_nights</th>\n",
       "      <th>stays_in_week_nights</th>\n",
       "      <th>adults</th>\n",
       "      <th>children</th>\n",
       "      <th>babies</th>\n",
       "      <th>meal</th>\n",
       "      <th>country</th>\n",
       "      <th>previous_cancellations</th>\n",
       "      <th>previous_bookings_not_canceled</th>\n",
       "      <th>reserved_room_type</th>\n",
       "      <th>booking_changes</th>\n",
       "      <th>days_in_waiting_list</th>\n",
       "      <th>customer_type</th>\n",
       "      <th>required_car_parking_spaces</th>\n",
       "      <th>total_of_special_requests</th>\n",
       "      <th>predictions</th>\n",
       "    </tr>\n",
       "  </thead>\n",
       "  <tbody>\n",
       "    <tr>\n",
       "      <th>0</th>\n",
       "      <td>1</td>\n",
       "      <td>74</td>\n",
       "      <td>January</td>\n",
       "      <td>1</td>\n",
       "      <td>0</td>\n",
       "      <td>2</td>\n",
       "      <td>0</td>\n",
       "      <td>0</td>\n",
       "      <td>BB</td>\n",
       "      <td>PRT</td>\n",
       "      <td>0</td>\n",
       "      <td>0</td>\n",
       "      <td>A</td>\n",
       "      <td>0</td>\n",
       "      <td>0</td>\n",
       "      <td>Transient</td>\n",
       "      <td>0</td>\n",
       "      <td>0</td>\n",
       "      <td>1</td>\n",
       "    </tr>\n",
       "    <tr>\n",
       "      <th>1</th>\n",
       "      <td>1</td>\n",
       "      <td>62</td>\n",
       "      <td>January</td>\n",
       "      <td>2</td>\n",
       "      <td>2</td>\n",
       "      <td>2</td>\n",
       "      <td>0</td>\n",
       "      <td>0</td>\n",
       "      <td>BB</td>\n",
       "      <td>AUT</td>\n",
       "      <td>0</td>\n",
       "      <td>0</td>\n",
       "      <td>A</td>\n",
       "      <td>0</td>\n",
       "      <td>0</td>\n",
       "      <td>Transient</td>\n",
       "      <td>0</td>\n",
       "      <td>1</td>\n",
       "      <td>0</td>\n",
       "    </tr>\n",
       "    <tr>\n",
       "      <th>2</th>\n",
       "      <td>1</td>\n",
       "      <td>62</td>\n",
       "      <td>January</td>\n",
       "      <td>2</td>\n",
       "      <td>2</td>\n",
       "      <td>2</td>\n",
       "      <td>0</td>\n",
       "      <td>0</td>\n",
       "      <td>BB</td>\n",
       "      <td>AUT</td>\n",
       "      <td>0</td>\n",
       "      <td>0</td>\n",
       "      <td>A</td>\n",
       "      <td>0</td>\n",
       "      <td>0</td>\n",
       "      <td>Transient</td>\n",
       "      <td>0</td>\n",
       "      <td>1</td>\n",
       "      <td>0</td>\n",
       "    </tr>\n",
       "    <tr>\n",
       "      <th>3</th>\n",
       "      <td>1</td>\n",
       "      <td>71</td>\n",
       "      <td>January</td>\n",
       "      <td>2</td>\n",
       "      <td>2</td>\n",
       "      <td>1</td>\n",
       "      <td>0</td>\n",
       "      <td>0</td>\n",
       "      <td>BB</td>\n",
       "      <td>PRT</td>\n",
       "      <td>0</td>\n",
       "      <td>0</td>\n",
       "      <td>A</td>\n",
       "      <td>0</td>\n",
       "      <td>0</td>\n",
       "      <td>Transient</td>\n",
       "      <td>0</td>\n",
       "      <td>1</td>\n",
       "      <td>1</td>\n",
       "    </tr>\n",
       "    <tr>\n",
       "      <th>4</th>\n",
       "      <td>1</td>\n",
       "      <td>172</td>\n",
       "      <td>January</td>\n",
       "      <td>2</td>\n",
       "      <td>5</td>\n",
       "      <td>2</td>\n",
       "      <td>0</td>\n",
       "      <td>0</td>\n",
       "      <td>BB</td>\n",
       "      <td>BEL</td>\n",
       "      <td>0</td>\n",
       "      <td>0</td>\n",
       "      <td>A</td>\n",
       "      <td>0</td>\n",
       "      <td>0</td>\n",
       "      <td>Transient</td>\n",
       "      <td>0</td>\n",
       "      <td>0</td>\n",
       "      <td>1</td>\n",
       "    </tr>\n",
       "  </tbody>\n",
       "</table>\n",
       "</div>"
      ],
      "text/plain": [
       "   is_canceled  lead_time arrival_date_month  stays_in_weekend_nights  \\\n",
       "0            1         74            January                        1   \n",
       "1            1         62            January                        2   \n",
       "2            1         62            January                        2   \n",
       "3            1         71            January                        2   \n",
       "4            1        172            January                        2   \n",
       "\n",
       "   stays_in_week_nights  adults  children  babies meal country  \\\n",
       "0                     0       2         0       0   BB     PRT   \n",
       "1                     2       2         0       0   BB     AUT   \n",
       "2                     2       2         0       0   BB     AUT   \n",
       "3                     2       1         0       0   BB     PRT   \n",
       "4                     5       2         0       0   BB     BEL   \n",
       "\n",
       "   previous_cancellations  previous_bookings_not_canceled reserved_room_type  \\\n",
       "0                       0                               0                  A   \n",
       "1                       0                               0                  A   \n",
       "2                       0                               0                  A   \n",
       "3                       0                               0                  A   \n",
       "4                       0                               0                  A   \n",
       "\n",
       "   booking_changes  days_in_waiting_list customer_type  \\\n",
       "0                0                     0     Transient   \n",
       "1                0                     0     Transient   \n",
       "2                0                     0     Transient   \n",
       "3                0                     0     Transient   \n",
       "4                0                     0     Transient   \n",
       "\n",
       "   required_car_parking_spaces  total_of_special_requests  predictions  \n",
       "0                            0                          0            1  \n",
       "1                            0                          1            0  \n",
       "2                            0                          1            0  \n",
       "3                            0                          1            1  \n",
       "4                            0                          0            1  "
      ]
     },
     "execution_count": 83,
     "metadata": {},
     "output_type": "execute_result"
    }
   ],
   "source": [
    "df_test.head()"
   ]
  },
  {
   "cell_type": "markdown",
   "id": "1c8cfbb1",
   "metadata": {},
   "source": [
    "Проверим метрики на \"условной модели\""
   ]
  },
  {
   "cell_type": "code",
   "execution_count": 84,
   "id": "ad2de3ad",
   "metadata": {},
   "outputs": [
    {
     "name": "stdout",
     "output_type": "stream",
     "text": [
      "f1 0.0\n",
      "auc-roc 0.5\n",
      "accuracy 0.6119676717438607\n"
     ]
    }
   ],
   "source": [
    "dummy_classifier = DummyClassifier(strategy = 'most_frequent')\n",
    "dummy_classifier.fit(features_train, target_train)\n",
    "test_predictions = dummy_classifier.predict(features_test)\n",
    "test_proba = dummy_classifier.predict_proba(features_test)[:, 1]\n",
    "\n",
    "accuracy_d = accuracy_score(target_test, test_predictions)\n",
    "f1_d = f1_score(target_test, test_predictions )\n",
    "auc_roc_d = roc_auc_score(target_test, test_proba)\n",
    "\n",
    "print('f1', f1_d)\n",
    "print('auc-roc', auc_roc_d)\n",
    "print('accuracy', accuracy_d)\n",
    "#Как видим, метрики хуже, чем на нашей выбранной модели,поэтому можем с ней работать "
   ]
  },
  {
   "cell_type": "markdown",
   "id": "699cdd00",
   "metadata": {},
   "source": [
    "<div class=\"alert alert-success\">\n",
    "<h2>Комментарий ревьюера<a class=\"tocSkip\"></a></h2>\n",
    "    \n",
    "**Отлично!** ✔️: лайк за проверку на адекватность!</div>"
   ]
  },
  {
   "cell_type": "markdown",
   "id": "f6f36769",
   "metadata": {},
   "source": [
    "Теперь, используя ранее написанную функцию для подсчета прибыли, посчитаем столько нам получится заработать с приминением депозитов"
   ]
  },
  {
   "cell_type": "code",
   "execution_count": 85,
   "id": "8450d1fd",
   "metadata": {},
   "outputs": [],
   "source": [
    "def revenue(data):\n",
    "    deposit_ratio = 0.8\n",
    "    deposit = 0\n",
    "    room_type = data['reserved_room_type']\n",
    "    season = data['season']\n",
    "    total_nights = data['stays_in_week_nights'] + data['stays_in_weekend_nights']\n",
    "    is_canceled = data['is_canceled']\n",
    "    predicted_cancellation = data['predictions']\n",
    "    \n",
    "    room_price = rooms[room_type].night_price\n",
    "    service_price = rooms[room_type].service\n",
    "    ratio_for_price = season_ratio[season].ratio\n",
    "    \n",
    "    if predicted_cancellation:\n",
    "        deposit = deposit_ratio * (room_price * ratio_for_price + service_price)\n",
    "        \n",
    "       \n",
    "    if is_canceled:\n",
    "        profit = deposit - ratio_for_price * room_price - service_price\n",
    "    else:\n",
    "        profit = ratio_for_price * (total_nights*room_price) - ((1 + total_nights) // 2) * service_price \n",
    "        \n",
    "\n",
    "    return profit\n",
    "\n",
    "\n",
    "df_test['season'] = seasons\n",
    "total_revenue_with_deposits = df_test.apply(revenue, axis = 1).sum() * 12 / 8 - BUDGET"
   ]
  },
  {
   "cell_type": "code",
   "execution_count": 86,
   "id": "13ff9a7f",
   "metadata": {},
   "outputs": [
    {
     "name": "stdout",
     "output_type": "stream",
     "text": [
      "с депозитами прибыль стала равна 67.17299 млн.руб\n"
     ]
    }
   ],
   "source": [
    "print('с депозитами прибыль стала равна', total_revenue_with_deposits / 1000000 ,'млн.руб')"
   ]
  },
  {
   "cell_type": "code",
   "execution_count": 87,
   "id": "551aed16",
   "metadata": {},
   "outputs": [
    {
     "name": "stdout",
     "output_type": "stream",
     "text": [
      "прибыль увеличилась после внедрения депозитов на  32.13337 млн.руб\n"
     ]
    }
   ],
   "source": [
    "print('прибыль увеличилась после внедрения депозитов на ', (total_revenue_with_deposits - total_revenue * 12 / 8) / 1000000, 'млн.руб')"
   ]
  },
  {
   "cell_type": "markdown",
   "id": "7d9aaa45",
   "metadata": {},
   "source": [
    "<div class=\"alert alert-success\">\n",
    "<h2>Комментарий ревьюера<a class=\"tocSkip\"></a></h2>\n",
    "    \n",
    "**Отлично!** ✔️: прибыль после внедрения модели также рассчитана верно!</div>"
   ]
  },
  {
   "cell_type": "markdown",
   "id": "ab665e49",
   "metadata": {},
   "source": [
    "<div class=\"alert alert-danger\">\n",
    "<h2>Комментарий ревьюера<a class=\"tocSkip\"></a></h2>\n",
    "\n",
    "**Нужно доработать** ❌: но только прибыль до внедрения модели ты рассчитываешь за исходные 8 месяцев тестовой выборки, а прибыль после внедрения рассчитываешь за год. А для честной оценки необходимо рассчитать прибыль за один и тот же срок. Тогда прибыль до внедрения модели также правильнее умножить на 12/8</div>"
   ]
  },
  {
   "cell_type": "markdown",
   "id": "aa930f53",
   "metadata": {},
   "source": [
    "<div class=\"alert alert-info\">\n",
    "<h2> Комментарий студента <a class=\"tocSkip\"> </h2>\n",
    "\n",
    "...\n",
    "</div>"
   ]
  },
  {
   "cell_type": "markdown",
   "id": "7ba3983b",
   "metadata": {},
   "source": [
    "**Вывод**\n",
    "\n",
    "Для обработки данных я использовал две методики: OneHotEncoder и StandardScaler. Было проверено 3 модели классификации, для кажждой были проверены параметры и выбраны лучшие. \n",
    "\n",
    "Лучшая модель - DecisionTreeClassifier. \n",
    "\n",
    "Ее параметры - {'ccp_alpha': 0.0, 'class_weight': 'balanced', 'criterion': 'gini', 'max_depth': 4, 'max_features': None, 'max_leaf_nodes': None, 'min_impurity_decrease': 0.0, 'min_samples_leaf': 1, 'min_samples_split': 2, 'min_weight_fraction_leaf': 0.0, 'random_state': 99, 'splitter': 'best'}\n",
    "\n",
    "\n",
    "- С выбранной модльею и параметрами, мы посчитали на тестовой выборке, результат:\n",
    "\\\n",
    "1) f1 = 0.6585412594381204\n",
    "\\\n",
    "2) auc-roc = 0.7842412928416844\n",
    "\\\n",
    "3) accuracy = 0.7226079646293241\n",
    "\n",
    "\n",
    "- Была проверена \"глупая\" модель с методикой наичастешейго целевого признака, результаты: \n",
    "\\\n",
    "1) f1 = 0.0\n",
    "\\\n",
    "2) auc-roc = 0.5\n",
    "\\\n",
    "3) accuracy = 0.6123859638197839\n",
    "\n",
    "\n",
    "С внедрением депозитов прибыль стала равна 67.072805 млн.руб, что больше на 32.457255 млн.руб, чем прибыль отеля без депозитов."
   ]
  },
  {
   "cell_type": "markdown",
   "id": "993506eb",
   "metadata": {},
   "source": [
    "# Шаг 5. Опишите портрет «ненадёжного» клиента <a id='6'></a>\n",
    "\n",
    "**Выявите признаки «ненадёжного» клиента**\n",
    "\n",
    "**На основе исследовательского анализа данных опишите клиента, склонного к отказу от брони.**"
   ]
  },
  {
   "cell_type": "code",
   "execution_count": 88,
   "id": "2a5c81f3",
   "metadata": {},
   "outputs": [
    {
     "data": {
      "text/html": [
       "<div>\n",
       "<style scoped>\n",
       "    .dataframe tbody tr th:only-of-type {\n",
       "        vertical-align: middle;\n",
       "    }\n",
       "\n",
       "    .dataframe tbody tr th {\n",
       "        vertical-align: top;\n",
       "    }\n",
       "\n",
       "    .dataframe thead th {\n",
       "        text-align: right;\n",
       "    }\n",
       "</style>\n",
       "<table border=\"1\" class=\"dataframe\">\n",
       "  <thead>\n",
       "    <tr style=\"text-align: right;\">\n",
       "      <th></th>\n",
       "      <th>is_canceled</th>\n",
       "      <th>lead_time</th>\n",
       "      <th>arrival_date_month</th>\n",
       "      <th>stays_in_weekend_nights</th>\n",
       "      <th>stays_in_week_nights</th>\n",
       "      <th>adults</th>\n",
       "      <th>children</th>\n",
       "      <th>babies</th>\n",
       "      <th>meal</th>\n",
       "      <th>country</th>\n",
       "      <th>previous_cancellations</th>\n",
       "      <th>previous_bookings_not_canceled</th>\n",
       "      <th>reserved_room_type</th>\n",
       "      <th>booking_changes</th>\n",
       "      <th>days_in_waiting_list</th>\n",
       "      <th>customer_type</th>\n",
       "      <th>required_car_parking_spaces</th>\n",
       "      <th>total_of_special_requests</th>\n",
       "      <th>predictions</th>\n",
       "      <th>season</th>\n",
       "    </tr>\n",
       "  </thead>\n",
       "  <tbody>\n",
       "    <tr>\n",
       "      <th>count</th>\n",
       "      <td>8625.0</td>\n",
       "      <td>8625.000000</td>\n",
       "      <td>8625</td>\n",
       "      <td>8625.000000</td>\n",
       "      <td>8625.000000</td>\n",
       "      <td>8625.000000</td>\n",
       "      <td>8625.000000</td>\n",
       "      <td>8625.000000</td>\n",
       "      <td>8625</td>\n",
       "      <td>8625</td>\n",
       "      <td>8625.000000</td>\n",
       "      <td>8625.000000</td>\n",
       "      <td>8625</td>\n",
       "      <td>8625.000000</td>\n",
       "      <td>8625.000000</td>\n",
       "      <td>8625</td>\n",
       "      <td>8625.0</td>\n",
       "      <td>8625.000000</td>\n",
       "      <td>8625.0</td>\n",
       "      <td>8625</td>\n",
       "    </tr>\n",
       "    <tr>\n",
       "      <th>unique</th>\n",
       "      <td>NaN</td>\n",
       "      <td>NaN</td>\n",
       "      <td>8</td>\n",
       "      <td>NaN</td>\n",
       "      <td>NaN</td>\n",
       "      <td>NaN</td>\n",
       "      <td>NaN</td>\n",
       "      <td>NaN</td>\n",
       "      <td>4</td>\n",
       "      <td>33</td>\n",
       "      <td>NaN</td>\n",
       "      <td>NaN</td>\n",
       "      <td>7</td>\n",
       "      <td>NaN</td>\n",
       "      <td>NaN</td>\n",
       "      <td>4</td>\n",
       "      <td>NaN</td>\n",
       "      <td>NaN</td>\n",
       "      <td>NaN</td>\n",
       "      <td>3</td>\n",
       "    </tr>\n",
       "    <tr>\n",
       "      <th>top</th>\n",
       "      <td>NaN</td>\n",
       "      <td>NaN</td>\n",
       "      <td>May</td>\n",
       "      <td>NaN</td>\n",
       "      <td>NaN</td>\n",
       "      <td>NaN</td>\n",
       "      <td>NaN</td>\n",
       "      <td>NaN</td>\n",
       "      <td>BB</td>\n",
       "      <td>PRT</td>\n",
       "      <td>NaN</td>\n",
       "      <td>NaN</td>\n",
       "      <td>A</td>\n",
       "      <td>NaN</td>\n",
       "      <td>NaN</td>\n",
       "      <td>Transient</td>\n",
       "      <td>NaN</td>\n",
       "      <td>NaN</td>\n",
       "      <td>NaN</td>\n",
       "      <td>spring</td>\n",
       "    </tr>\n",
       "    <tr>\n",
       "      <th>freq</th>\n",
       "      <td>NaN</td>\n",
       "      <td>NaN</td>\n",
       "      <td>1664</td>\n",
       "      <td>NaN</td>\n",
       "      <td>NaN</td>\n",
       "      <td>NaN</td>\n",
       "      <td>NaN</td>\n",
       "      <td>NaN</td>\n",
       "      <td>7036</td>\n",
       "      <td>5295</td>\n",
       "      <td>NaN</td>\n",
       "      <td>NaN</td>\n",
       "      <td>6713</td>\n",
       "      <td>NaN</td>\n",
       "      <td>NaN</td>\n",
       "      <td>7945</td>\n",
       "      <td>NaN</td>\n",
       "      <td>NaN</td>\n",
       "      <td>NaN</td>\n",
       "      <td>4308</td>\n",
       "    </tr>\n",
       "    <tr>\n",
       "      <th>mean</th>\n",
       "      <td>1.0</td>\n",
       "      <td>127.801159</td>\n",
       "      <td>NaN</td>\n",
       "      <td>0.853333</td>\n",
       "      <td>2.405217</td>\n",
       "      <td>1.896232</td>\n",
       "      <td>0.076174</td>\n",
       "      <td>0.001507</td>\n",
       "      <td>NaN</td>\n",
       "      <td>NaN</td>\n",
       "      <td>0.003014</td>\n",
       "      <td>0.010435</td>\n",
       "      <td>NaN</td>\n",
       "      <td>0.078609</td>\n",
       "      <td>0.057971</td>\n",
       "      <td>NaN</td>\n",
       "      <td>0.0</td>\n",
       "      <td>0.087072</td>\n",
       "      <td>1.0</td>\n",
       "      <td>NaN</td>\n",
       "    </tr>\n",
       "    <tr>\n",
       "      <th>std</th>\n",
       "      <td>0.0</td>\n",
       "      <td>81.367548</td>\n",
       "      <td>NaN</td>\n",
       "      <td>0.859538</td>\n",
       "      <td>1.285478</td>\n",
       "      <td>0.456367</td>\n",
       "      <td>0.335886</td>\n",
       "      <td>0.038796</td>\n",
       "      <td>NaN</td>\n",
       "      <td>NaN</td>\n",
       "      <td>0.086093</td>\n",
       "      <td>0.326806</td>\n",
       "      <td>NaN</td>\n",
       "      <td>0.375302</td>\n",
       "      <td>0.974097</td>\n",
       "      <td>NaN</td>\n",
       "      <td>0.0</td>\n",
       "      <td>0.344855</td>\n",
       "      <td>0.0</td>\n",
       "      <td>NaN</td>\n",
       "    </tr>\n",
       "    <tr>\n",
       "      <th>min</th>\n",
       "      <td>1.0</td>\n",
       "      <td>5.000000</td>\n",
       "      <td>NaN</td>\n",
       "      <td>0.000000</td>\n",
       "      <td>0.000000</td>\n",
       "      <td>1.000000</td>\n",
       "      <td>0.000000</td>\n",
       "      <td>0.000000</td>\n",
       "      <td>NaN</td>\n",
       "      <td>NaN</td>\n",
       "      <td>0.000000</td>\n",
       "      <td>0.000000</td>\n",
       "      <td>NaN</td>\n",
       "      <td>0.000000</td>\n",
       "      <td>0.000000</td>\n",
       "      <td>NaN</td>\n",
       "      <td>0.0</td>\n",
       "      <td>0.000000</td>\n",
       "      <td>1.0</td>\n",
       "      <td>NaN</td>\n",
       "    </tr>\n",
       "    <tr>\n",
       "      <th>25%</th>\n",
       "      <td>1.0</td>\n",
       "      <td>60.000000</td>\n",
       "      <td>NaN</td>\n",
       "      <td>0.000000</td>\n",
       "      <td>1.000000</td>\n",
       "      <td>2.000000</td>\n",
       "      <td>0.000000</td>\n",
       "      <td>0.000000</td>\n",
       "      <td>NaN</td>\n",
       "      <td>NaN</td>\n",
       "      <td>0.000000</td>\n",
       "      <td>0.000000</td>\n",
       "      <td>NaN</td>\n",
       "      <td>0.000000</td>\n",
       "      <td>0.000000</td>\n",
       "      <td>NaN</td>\n",
       "      <td>0.0</td>\n",
       "      <td>0.000000</td>\n",
       "      <td>1.0</td>\n",
       "      <td>NaN</td>\n",
       "    </tr>\n",
       "    <tr>\n",
       "      <th>50%</th>\n",
       "      <td>1.0</td>\n",
       "      <td>115.000000</td>\n",
       "      <td>NaN</td>\n",
       "      <td>1.000000</td>\n",
       "      <td>2.000000</td>\n",
       "      <td>2.000000</td>\n",
       "      <td>0.000000</td>\n",
       "      <td>0.000000</td>\n",
       "      <td>NaN</td>\n",
       "      <td>NaN</td>\n",
       "      <td>0.000000</td>\n",
       "      <td>0.000000</td>\n",
       "      <td>NaN</td>\n",
       "      <td>0.000000</td>\n",
       "      <td>0.000000</td>\n",
       "      <td>NaN</td>\n",
       "      <td>0.0</td>\n",
       "      <td>0.000000</td>\n",
       "      <td>1.0</td>\n",
       "      <td>NaN</td>\n",
       "    </tr>\n",
       "    <tr>\n",
       "      <th>75%</th>\n",
       "      <td>1.0</td>\n",
       "      <td>175.000000</td>\n",
       "      <td>NaN</td>\n",
       "      <td>2.000000</td>\n",
       "      <td>3.000000</td>\n",
       "      <td>2.000000</td>\n",
       "      <td>0.000000</td>\n",
       "      <td>0.000000</td>\n",
       "      <td>NaN</td>\n",
       "      <td>NaN</td>\n",
       "      <td>0.000000</td>\n",
       "      <td>0.000000</td>\n",
       "      <td>NaN</td>\n",
       "      <td>0.000000</td>\n",
       "      <td>0.000000</td>\n",
       "      <td>NaN</td>\n",
       "      <td>0.0</td>\n",
       "      <td>0.000000</td>\n",
       "      <td>1.0</td>\n",
       "      <td>NaN</td>\n",
       "    </tr>\n",
       "    <tr>\n",
       "      <th>max</th>\n",
       "      <td>1.0</td>\n",
       "      <td>373.000000</td>\n",
       "      <td>NaN</td>\n",
       "      <td>4.000000</td>\n",
       "      <td>6.000000</td>\n",
       "      <td>4.000000</td>\n",
       "      <td>3.000000</td>\n",
       "      <td>1.000000</td>\n",
       "      <td>NaN</td>\n",
       "      <td>NaN</td>\n",
       "      <td>4.000000</td>\n",
       "      <td>14.000000</td>\n",
       "      <td>NaN</td>\n",
       "      <td>5.000000</td>\n",
       "      <td>23.000000</td>\n",
       "      <td>NaN</td>\n",
       "      <td>0.0</td>\n",
       "      <td>5.000000</td>\n",
       "      <td>1.0</td>\n",
       "      <td>NaN</td>\n",
       "    </tr>\n",
       "  </tbody>\n",
       "</table>\n",
       "</div>"
      ],
      "text/plain": [
       "        is_canceled    lead_time arrival_date_month  stays_in_weekend_nights  \\\n",
       "count        8625.0  8625.000000               8625              8625.000000   \n",
       "unique          NaN          NaN                  8                      NaN   \n",
       "top             NaN          NaN                May                      NaN   \n",
       "freq            NaN          NaN               1664                      NaN   \n",
       "mean            1.0   127.801159                NaN                 0.853333   \n",
       "std             0.0    81.367548                NaN                 0.859538   \n",
       "min             1.0     5.000000                NaN                 0.000000   \n",
       "25%             1.0    60.000000                NaN                 0.000000   \n",
       "50%             1.0   115.000000                NaN                 1.000000   \n",
       "75%             1.0   175.000000                NaN                 2.000000   \n",
       "max             1.0   373.000000                NaN                 4.000000   \n",
       "\n",
       "        stays_in_week_nights       adults     children       babies  meal  \\\n",
       "count            8625.000000  8625.000000  8625.000000  8625.000000  8625   \n",
       "unique                   NaN          NaN          NaN          NaN     4   \n",
       "top                      NaN          NaN          NaN          NaN    BB   \n",
       "freq                     NaN          NaN          NaN          NaN  7036   \n",
       "mean                2.405217     1.896232     0.076174     0.001507   NaN   \n",
       "std                 1.285478     0.456367     0.335886     0.038796   NaN   \n",
       "min                 0.000000     1.000000     0.000000     0.000000   NaN   \n",
       "25%                 1.000000     2.000000     0.000000     0.000000   NaN   \n",
       "50%                 2.000000     2.000000     0.000000     0.000000   NaN   \n",
       "75%                 3.000000     2.000000     0.000000     0.000000   NaN   \n",
       "max                 6.000000     4.000000     3.000000     1.000000   NaN   \n",
       "\n",
       "       country  previous_cancellations  previous_bookings_not_canceled  \\\n",
       "count     8625             8625.000000                     8625.000000   \n",
       "unique      33                     NaN                             NaN   \n",
       "top        PRT                     NaN                             NaN   \n",
       "freq      5295                     NaN                             NaN   \n",
       "mean       NaN                0.003014                        0.010435   \n",
       "std        NaN                0.086093                        0.326806   \n",
       "min        NaN                0.000000                        0.000000   \n",
       "25%        NaN                0.000000                        0.000000   \n",
       "50%        NaN                0.000000                        0.000000   \n",
       "75%        NaN                0.000000                        0.000000   \n",
       "max        NaN                4.000000                       14.000000   \n",
       "\n",
       "       reserved_room_type  booking_changes  days_in_waiting_list  \\\n",
       "count                8625      8625.000000           8625.000000   \n",
       "unique                  7              NaN                   NaN   \n",
       "top                     A              NaN                   NaN   \n",
       "freq                 6713              NaN                   NaN   \n",
       "mean                  NaN         0.078609              0.057971   \n",
       "std                   NaN         0.375302              0.974097   \n",
       "min                   NaN         0.000000              0.000000   \n",
       "25%                   NaN         0.000000              0.000000   \n",
       "50%                   NaN         0.000000              0.000000   \n",
       "75%                   NaN         0.000000              0.000000   \n",
       "max                   NaN         5.000000             23.000000   \n",
       "\n",
       "       customer_type  required_car_parking_spaces  total_of_special_requests  \\\n",
       "count           8625                       8625.0                8625.000000   \n",
       "unique             4                          NaN                        NaN   \n",
       "top        Transient                          NaN                        NaN   \n",
       "freq            7945                          NaN                        NaN   \n",
       "mean             NaN                          0.0                   0.087072   \n",
       "std              NaN                          0.0                   0.344855   \n",
       "min              NaN                          0.0                   0.000000   \n",
       "25%              NaN                          0.0                   0.000000   \n",
       "50%              NaN                          0.0                   0.000000   \n",
       "75%              NaN                          0.0                   0.000000   \n",
       "max              NaN                          0.0                   5.000000   \n",
       "\n",
       "        predictions  season  \n",
       "count        8625.0    8625  \n",
       "unique          NaN       3  \n",
       "top             NaN  spring  \n",
       "freq            NaN    4308  \n",
       "mean            1.0     NaN  \n",
       "std             0.0     NaN  \n",
       "min             1.0     NaN  \n",
       "25%             1.0     NaN  \n",
       "50%             1.0     NaN  \n",
       "75%             1.0     NaN  \n",
       "max             1.0     NaN  "
      ]
     },
     "execution_count": 88,
     "metadata": {},
     "output_type": "execute_result"
    }
   ],
   "source": [
    "df_test.query('is_canceled == 1 and predictions == 1').describe(include = 'all')"
   ]
  },
  {
   "cell_type": "code",
   "execution_count": 89,
   "id": "24bb8a51",
   "metadata": {},
   "outputs": [
    {
     "name": "stdout",
     "output_type": "stream",
     "text": [
      "arrival_date_month\n",
      "May         0.192928\n",
      "April       0.187246\n",
      "June        0.174261\n",
      "March       0.119304\n",
      "July        0.087768\n",
      "February    0.083014\n",
      "January     0.081391\n",
      "August      0.074087\n",
      "Name: arrival_date_month, dtype: float64 \n",
      "\n",
      "meal\n",
      "BB    0.815768\n",
      "SC    0.122667\n",
      "HB    0.059942\n",
      "FB    0.001623\n",
      "Name: meal, dtype: float64 \n",
      "\n",
      "country\n",
      "PRT      0.613913\n",
      "GBR      0.058435\n",
      "FRA      0.049855\n",
      "DEU      0.038029\n",
      "ITA      0.032348\n",
      "ESP      0.030261\n",
      "BRA      0.020174\n",
      "IRL      0.018899\n",
      "other    0.016000\n",
      "CHN      0.014145\n",
      "USA      0.013565\n",
      "BEL      0.013565\n",
      "CHE      0.010551\n",
      "NLD      0.009971\n",
      "NOR      0.007884\n",
      "AUT      0.007072\n",
      "CN       0.005565\n",
      "DNK      0.004754\n",
      "SWE      0.004290\n",
      "POL      0.003594\n",
      "RUS      0.003594\n",
      "AUS      0.003478\n",
      "ROU      0.003246\n",
      "ISR      0.003130\n",
      "LUX      0.002783\n",
      "KOR      0.002203\n",
      "FIN      0.001623\n",
      "TUR      0.001507\n",
      "HUN      0.001391\n",
      "MAR      0.001275\n",
      "ARG      0.001159\n",
      "AGO      0.001159\n",
      "JPN      0.000580\n",
      "Name: country, dtype: float64 \n",
      "\n",
      "reserved_room_type\n",
      "A    0.778319\n",
      "D    0.153507\n",
      "E    0.037913\n",
      "F    0.012638\n",
      "G    0.009623\n",
      "C    0.006145\n",
      "B    0.001855\n",
      "Name: reserved_room_type, dtype: float64 \n",
      "\n",
      "customer_type\n",
      "Transient          0.921159\n",
      "Transient-Party    0.073623\n",
      "Contract           0.004638\n",
      "Group              0.000580\n",
      "Name: customer_type, dtype: float64 \n",
      "\n"
     ]
    }
   ],
   "source": [
    "import pprint\n",
    "for col in obj_features:\n",
    "    print(col)\n",
    "    print(df_test.query('is_canceled == 1 and predictions == 1')[col].value_counts(normalize = True), '\\n')"
   ]
  },
  {
   "cell_type": "markdown",
   "id": "65ad6de2",
   "metadata": {},
   "source": [
    "**Вывод**\n",
    "\n",
    "Итак, описание \"ненадежного клиента\":\n",
    "\n",
    "- Чаще всего ненадежный потенциальный постоялец- из Португалии\n",
    "\n",
    "\n",
    "- Количество взрослых постояльцев в среднем равно 2, без детей и младенцев.\n",
    "\n",
    "\n",
    "- Он не был раньше в этом отеле, поэтому значения признаков отмененных предыдущих заказов и неотмененных заказов стремиться к нулю.\n",
    "\n",
    "\n",
    "- Он совсем не вносит изменений в свой заказ.\n",
    "\n",
    "\n",
    "- В среднем ожидает заказа 0 или 1 день.\n",
    "\n",
    "\n",
    "- Ненадежному постояльцу не нужно порковочное место в отличии от надежного.\n",
    "\n",
    "\n",
    "- Не делает специальные отметки.\n",
    "\n",
    "\n",
    "- Ненадежный бронирует номер на май или апрель, а надежный предпочитает \"бархатный сезон\".\n",
    "\n",
    "\n",
    "- Чаще всего у него включен завтрак в заказе номера.\n",
    "\n",
    "\n",
    "- Он заказывает самый дорогой тип комнат - А.\n",
    "\n",
    "\n",
    "- Его заезд не связан с договором или групповым заездом."
   ]
  },
  {
   "cell_type": "markdown",
   "id": "b7e259e1",
   "metadata": {},
   "source": [
    "<div class=\"alert alert-warning\">\n",
    "<h2>Комментарий ревьюера<a class=\"tocSkip\"></a></h2>\n",
    "    \n",
    "**Есть совет** ⚠️: окей, но для более точного портрета «ненадежного» клиента правильнее будет сравнить обе группы клиентов, как отменивших бронирования, так и успешно заселившихся: ключевые отличия отменивших клиентов — это и есть черты «ненадежных» клиентов</div>"
   ]
  },
  {
   "cell_type": "markdown",
   "id": "1fd9ae8c",
   "metadata": {},
   "source": [
    "<div class=\"alert alert-warning\">\n",
    "<h2>Комментарий ревьюера<a class=\"tocSkip\"></a></h2>\n",
    "    \n",
    "**Есть совет** ⚠️: если интересно, то еще можно узнать, как именно тот или иной признак влияет на обучение модели, для этого есть **feature_importances**, то есть важность признаков для решения модели. Это позволит дополнить портрет «ненадежного» клиента, а также убедиться, что модель обучилась корректно, сравнив результаты исследовательского анализа с результатами модели. А если важность очень мала, то такие признаки можно даже удалить, метрики, вероятно, поменяются незначительно\n",
    "    \n",
    "Также помимо встроенных методов, можно попробовать изучить важность признаков по-другому: например, с помощью библиотеки <a href=\"https://shap.readthedocs.io/en/latest/index.html\">SHAP</a>. Одно из преимушеств этого подхода в том, что он позволяет оценить важность признака независимо от остальных признаков.<a href=\"https://habr.com/ru/articles/428213/\" target=\"blank_\">Здесь</a> можно подробнее почитать про сам принцип алгоритма, а <a href=\"https://www.kaggle.com/code/wrosinski/shap-feature-importance-with-feature-engineering\" target=\"blank_\">тут</a> есть подробный пример использования\n",
    "    \n",
    "Подробнее про **feature_importances**:\n",
    "* https://towardsdatascience.com/understanding-feature-importance-and-how-to-implement-it-in-python-ff0287b20285\n",
    "* https://medium.com/analytics-vidhya/feature-importance-explained-bfc8d874bcf\n",
    "* https://scikit-learn.org/stable/auto_examples/ensemble/plot_forest_importances.html\n",
    "* https://christophm.github.io/interpretable-ml-book/feature-importance.html\n",
    "</div>"
   ]
  },
  {
   "cell_type": "markdown",
   "id": "1866dd63",
   "metadata": {},
   "source": [
    "# Шаг 6. Напишите общий вывод <a id='7'></a>\n",
    "\n",
    "**Опишите модель, которая решает задачу с наибольшей выгодой для бизнеса. Дайте бизнесу рекомендации по результатам проделанной работы.**"
   ]
  },
  {
   "cell_type": "markdown",
   "id": "848c090b",
   "metadata": {},
   "source": [
    "**Вывод:** \n",
    "\n",
    "* **Данные были обработаны, ненужные столбцы были удалены('id','arrival_date_year', 'arrival_date_week_number', 'arrival_date_day_of_month', 'total_nights', 'distribution_channel'). Избавились от аномальных значний в признаках.**\n",
    "\n",
    "\n",
    "* __Прибыль без депозитов составляла 34.61555 млн.руб.__\n",
    "\n",
    "\n",
    "* __Выбрана лучшая модель и лучшие параметры для нее. Модель - DecisionTreeClassifeir. С данной моделью были внедрены депозиты, с помощью них выручка отлея увеличилась на 32.457255 млн.руб., и составила 67.072805 млн.руб.__\n",
    "\n",
    "\n",
    "* __Дано подробное описание \"ненадежного клиента\".__\n",
    "\n",
    "__С сситемой депозитов прибыль явно выросла, поэтому данная методика имеет возможность применяться в бизнесе.__"
   ]
  },
  {
   "cell_type": "markdown",
   "id": "630e0ee0",
   "metadata": {},
   "source": [
    "<div style=\"padding: 20px 25px; border: 2px #6495ed solid\">\n",
    "    \n",
    "<h2 style=\"color: #87187D\">Итоговый комментарий ревьюера<a class=\"tocSkip\"></a></h2>\n",
    "\n",
    "Чистый и структурированный проект, спасибо, такие всегда приятно проверять!\n",
    "\n",
    "Осталось поправить несколько недоработок и проект будет зачтен:\n",
    "* убедись в наличии выводов и пояснений на каждом этапе;\n",
    "* выбери основную метрику и аргументируй свой выбор: подходящих метрик тут может быть несколько, но по сути основная задача с точки зрения ML — это минимизировать количество ложноотрицательных ответов. Но если разобраться, то и бизнес-метрика вполне может быть основной метрикой для оценки моделей, здорово, если у тебя получится это реализовать;\n",
    "* доработай расчет прибыли после внедрения модели;\n",
    "\n",
    "Остальные комментарии можно найти в проекте. Готов ответить на любые вопросы :)\n",
    "\n",
    "<b>Жду доработанный проект на повторное ревью! Удачи!</b>\n",
    "        \n",
    "</div>"
   ]
  }
 ],
 "metadata": {
  "ExecuteTimeLog": [
   {
    "duration": 1806,
    "start_time": "2023-09-12T13:59:40.031Z"
   },
   {
    "duration": 3,
    "start_time": "2023-09-12T13:59:41.839Z"
   },
   {
    "duration": 13,
    "start_time": "2023-09-12T13:59:41.844Z"
   },
   {
    "duration": 717,
    "start_time": "2023-09-12T13:59:41.858Z"
   },
   {
    "duration": 0,
    "start_time": "2023-09-12T13:59:42.581Z"
   },
   {
    "duration": 0,
    "start_time": "2023-09-12T13:59:42.582Z"
   },
   {
    "duration": 0,
    "start_time": "2023-09-12T13:59:42.583Z"
   },
   {
    "duration": 0,
    "start_time": "2023-09-12T13:59:42.584Z"
   },
   {
    "duration": 0,
    "start_time": "2023-09-12T13:59:42.586Z"
   },
   {
    "duration": 0,
    "start_time": "2023-09-12T13:59:42.587Z"
   },
   {
    "duration": 0,
    "start_time": "2023-09-12T13:59:42.588Z"
   },
   {
    "duration": 0,
    "start_time": "2023-09-12T13:59:42.589Z"
   },
   {
    "duration": 4,
    "start_time": "2023-09-12T14:02:02.835Z"
   },
   {
    "duration": 66,
    "start_time": "2023-09-12T14:02:02.841Z"
   },
   {
    "duration": 28,
    "start_time": "2023-09-12T14:02:02.909Z"
   },
   {
    "duration": 303,
    "start_time": "2023-09-12T14:02:02.939Z"
   },
   {
    "duration": 4,
    "start_time": "2023-09-12T14:02:03.245Z"
   },
   {
    "duration": 208,
    "start_time": "2023-09-12T14:02:03.251Z"
   },
   {
    "duration": 140,
    "start_time": "2023-09-12T14:02:03.460Z"
   },
   {
    "duration": 6,
    "start_time": "2023-09-12T14:02:03.601Z"
   },
   {
    "duration": 64,
    "start_time": "2023-09-12T14:02:03.608Z"
   },
   {
    "duration": 38,
    "start_time": "2023-09-12T14:02:03.674Z"
   },
   {
    "duration": 2167,
    "start_time": "2023-09-12T14:02:03.714Z"
   },
   {
    "duration": 2697,
    "start_time": "2023-09-12T14:02:05.883Z"
   },
   {
    "duration": 292,
    "start_time": "2023-09-12T14:44:53.334Z"
   },
   {
    "duration": 5,
    "start_time": "2023-09-12T16:19:07.941Z"
   },
   {
    "duration": 23,
    "start_time": "2023-09-12T16:19:07.948Z"
   },
   {
    "duration": 23,
    "start_time": "2023-09-12T16:19:07.973Z"
   },
   {
    "duration": 266,
    "start_time": "2023-09-12T16:19:07.998Z"
   },
   {
    "duration": 4,
    "start_time": "2023-09-12T16:19:08.266Z"
   },
   {
    "duration": 159,
    "start_time": "2023-09-12T16:19:08.271Z"
   },
   {
    "duration": 125,
    "start_time": "2023-09-12T16:19:08.432Z"
   },
   {
    "duration": 5,
    "start_time": "2023-09-12T16:19:08.559Z"
   },
   {
    "duration": 49,
    "start_time": "2023-09-12T16:19:08.581Z"
   },
   {
    "duration": 32,
    "start_time": "2023-09-12T16:19:08.632Z"
   },
   {
    "duration": 2093,
    "start_time": "2023-09-12T16:19:08.666Z"
   },
   {
    "duration": 2518,
    "start_time": "2023-09-12T16:19:10.761Z"
   },
   {
    "duration": 5,
    "start_time": "2023-09-12T16:40:31.133Z"
   },
   {
    "duration": 39,
    "start_time": "2023-09-12T16:40:31.140Z"
   },
   {
    "duration": 27,
    "start_time": "2023-09-12T16:40:31.182Z"
   },
   {
    "duration": 265,
    "start_time": "2023-09-12T16:40:31.211Z"
   },
   {
    "duration": 11,
    "start_time": "2023-09-12T16:40:31.478Z"
   },
   {
    "duration": 313,
    "start_time": "2023-09-12T16:40:31.493Z"
   },
   {
    "duration": 133,
    "start_time": "2023-09-12T16:40:31.807Z"
   },
   {
    "duration": 6,
    "start_time": "2023-09-12T16:40:31.941Z"
   },
   {
    "duration": 78,
    "start_time": "2023-09-12T16:40:31.948Z"
   },
   {
    "duration": 51,
    "start_time": "2023-09-12T16:40:32.027Z"
   },
   {
    "duration": 2042,
    "start_time": "2023-09-12T16:40:32.080Z"
   },
   {
    "duration": 2700,
    "start_time": "2023-09-12T16:40:34.123Z"
   },
   {
    "duration": 75,
    "start_time": "2023-09-12T16:40:36.825Z"
   },
   {
    "duration": 37,
    "start_time": "2023-09-12T16:40:36.904Z"
   },
   {
    "duration": 4,
    "start_time": "2023-09-12T16:40:36.943Z"
   },
   {
    "duration": 10,
    "start_time": "2023-09-12T16:40:36.948Z"
   },
   {
    "duration": 27,
    "start_time": "2023-09-12T16:40:36.960Z"
   },
   {
    "duration": 6,
    "start_time": "2023-09-12T16:40:36.989Z"
   },
   {
    "duration": 11,
    "start_time": "2023-09-12T16:40:36.997Z"
   },
   {
    "duration": 15,
    "start_time": "2023-09-12T16:40:37.009Z"
   },
   {
    "duration": 14,
    "start_time": "2023-09-12T16:40:37.025Z"
   },
   {
    "duration": 30,
    "start_time": "2023-09-12T16:40:37.041Z"
   },
   {
    "duration": 24,
    "start_time": "2023-09-12T16:40:37.072Z"
   },
   {
    "duration": 5,
    "start_time": "2023-09-12T16:40:37.098Z"
   },
   {
    "duration": 204,
    "start_time": "2023-09-12T16:40:37.105Z"
   },
   {
    "duration": 8,
    "start_time": "2023-09-12T16:40:37.311Z"
   },
   {
    "duration": 12,
    "start_time": "2023-09-12T16:40:37.321Z"
   },
   {
    "duration": 58,
    "start_time": "2023-09-12T16:40:37.334Z"
   },
   {
    "duration": 14,
    "start_time": "2023-09-12T16:40:37.394Z"
   },
   {
    "duration": 15,
    "start_time": "2023-09-12T16:40:37.410Z"
   },
   {
    "duration": 5,
    "start_time": "2023-09-12T16:40:37.427Z"
   },
   {
    "duration": 7,
    "start_time": "2023-09-12T16:40:37.434Z"
   },
   {
    "duration": 15,
    "start_time": "2023-09-12T16:40:37.442Z"
   },
   {
    "duration": 36,
    "start_time": "2023-09-12T16:40:37.458Z"
   },
   {
    "duration": 21,
    "start_time": "2023-09-12T16:40:37.496Z"
   },
   {
    "duration": 5,
    "start_time": "2023-09-12T16:40:37.519Z"
   },
   {
    "duration": 22,
    "start_time": "2023-09-12T16:40:37.525Z"
   },
   {
    "duration": 36,
    "start_time": "2023-09-12T16:40:37.550Z"
   },
   {
    "duration": 14,
    "start_time": "2023-09-12T16:40:37.588Z"
   },
   {
    "duration": 13,
    "start_time": "2023-09-12T16:40:37.604Z"
   },
   {
    "duration": 37,
    "start_time": "2023-09-12T16:40:37.622Z"
   },
   {
    "duration": 64,
    "start_time": "2023-09-12T16:40:37.661Z"
   },
   {
    "duration": 1968,
    "start_time": "2023-09-12T16:40:37.727Z"
   },
   {
    "duration": 18,
    "start_time": "2023-09-12T16:40:39.697Z"
   },
   {
    "duration": 89,
    "start_time": "2023-09-12T16:40:39.717Z"
   },
   {
    "duration": 11,
    "start_time": "2023-09-12T16:40:39.808Z"
   },
   {
    "duration": 6,
    "start_time": "2023-09-12T16:40:39.821Z"
   },
   {
    "duration": 6,
    "start_time": "2023-09-12T16:40:39.828Z"
   },
   {
    "duration": 11,
    "start_time": "2023-09-12T16:40:39.835Z"
   },
   {
    "duration": 183,
    "start_time": "2023-09-12T16:40:39.847Z"
   },
   {
    "duration": 19,
    "start_time": "2023-09-12T16:40:40.032Z"
   },
   {
    "duration": 14,
    "start_time": "2023-09-12T16:40:40.052Z"
   },
   {
    "duration": 12,
    "start_time": "2023-09-12T16:40:40.083Z"
   },
   {
    "duration": 50,
    "start_time": "2023-09-12T16:40:40.098Z"
   },
   {
    "duration": 5,
    "start_time": "2023-09-12T16:40:40.150Z"
   },
   {
    "duration": 165,
    "start_time": "2023-09-12T16:40:40.157Z"
   },
   {
    "duration": 19,
    "start_time": "2023-09-12T16:40:40.323Z"
   },
   {
    "duration": 6,
    "start_time": "2023-09-12T16:40:40.344Z"
   },
   {
    "duration": 40,
    "start_time": "2023-09-12T16:40:40.352Z"
   },
   {
    "duration": 11,
    "start_time": "2023-09-12T16:40:40.394Z"
   },
   {
    "duration": 5,
    "start_time": "2023-09-12T16:40:40.407Z"
   },
   {
    "duration": 6,
    "start_time": "2023-09-12T16:40:40.413Z"
   },
   {
    "duration": 6,
    "start_time": "2023-09-12T16:40:40.420Z"
   },
   {
    "duration": 1324,
    "start_time": "2023-09-12T16:40:40.427Z"
   },
   {
    "duration": 3,
    "start_time": "2023-09-12T16:40:41.753Z"
   },
   {
    "duration": 11,
    "start_time": "2023-09-12T16:40:41.757Z"
   },
   {
    "duration": 32,
    "start_time": "2023-09-12T16:40:41.769Z"
   },
   {
    "duration": 19,
    "start_time": "2023-09-12T16:40:41.803Z"
   },
   {
    "duration": 36,
    "start_time": "2023-09-12T16:40:41.823Z"
   },
   {
    "duration": 0,
    "start_time": "2023-09-12T16:40:41.860Z"
   },
   {
    "duration": 0,
    "start_time": "2023-09-12T16:40:41.861Z"
   },
   {
    "duration": 0,
    "start_time": "2023-09-12T16:40:41.863Z"
   },
   {
    "duration": 0,
    "start_time": "2023-09-12T16:40:41.864Z"
   },
   {
    "duration": 0,
    "start_time": "2023-09-12T16:40:41.866Z"
   },
   {
    "duration": 0,
    "start_time": "2023-09-12T16:40:41.867Z"
   },
   {
    "duration": 0,
    "start_time": "2023-09-12T16:40:41.868Z"
   },
   {
    "duration": 0,
    "start_time": "2023-09-12T16:40:41.869Z"
   },
   {
    "duration": 0,
    "start_time": "2023-09-12T16:40:41.870Z"
   },
   {
    "duration": 0,
    "start_time": "2023-09-12T16:40:41.871Z"
   },
   {
    "duration": 0,
    "start_time": "2023-09-12T16:40:41.873Z"
   },
   {
    "duration": 0,
    "start_time": "2023-09-12T16:40:41.874Z"
   },
   {
    "duration": 0,
    "start_time": "2023-09-12T16:40:41.875Z"
   },
   {
    "duration": 0,
    "start_time": "2023-09-12T16:40:41.880Z"
   },
   {
    "duration": 0,
    "start_time": "2023-09-12T16:40:41.881Z"
   },
   {
    "duration": 23,
    "start_time": "2023-09-12T16:47:34.630Z"
   },
   {
    "duration": 1488,
    "start_time": "2023-09-12T16:48:34.753Z"
   },
   {
    "duration": 3,
    "start_time": "2023-09-12T16:48:36.243Z"
   },
   {
    "duration": 12,
    "start_time": "2023-09-12T16:48:36.247Z"
   },
   {
    "duration": 274,
    "start_time": "2023-09-12T16:48:36.261Z"
   },
   {
    "duration": 5,
    "start_time": "2023-09-12T16:48:36.537Z"
   },
   {
    "duration": 179,
    "start_time": "2023-09-12T16:48:36.543Z"
   },
   {
    "duration": 169,
    "start_time": "2023-09-12T16:48:36.724Z"
   },
   {
    "duration": 7,
    "start_time": "2023-09-12T16:48:36.895Z"
   },
   {
    "duration": 55,
    "start_time": "2023-09-12T16:48:36.904Z"
   },
   {
    "duration": 61,
    "start_time": "2023-09-12T16:48:36.961Z"
   },
   {
    "duration": 2005,
    "start_time": "2023-09-12T16:48:37.024Z"
   },
   {
    "duration": 2554,
    "start_time": "2023-09-12T16:48:39.030Z"
   },
   {
    "duration": 56,
    "start_time": "2023-09-12T16:48:41.586Z"
   },
   {
    "duration": 43,
    "start_time": "2023-09-12T16:48:41.645Z"
   },
   {
    "duration": 4,
    "start_time": "2023-09-12T16:48:41.690Z"
   },
   {
    "duration": 22,
    "start_time": "2023-09-12T16:48:41.696Z"
   },
   {
    "duration": 13,
    "start_time": "2023-09-12T16:48:41.720Z"
   },
   {
    "duration": 12,
    "start_time": "2023-09-12T16:48:41.734Z"
   },
   {
    "duration": 29,
    "start_time": "2023-09-12T16:48:41.748Z"
   },
   {
    "duration": 127,
    "start_time": "2023-09-12T16:48:41.779Z"
   },
   {
    "duration": 14,
    "start_time": "2023-09-12T16:48:41.908Z"
   },
   {
    "duration": 32,
    "start_time": "2023-09-12T16:48:41.924Z"
   },
   {
    "duration": 23,
    "start_time": "2023-09-12T16:48:41.958Z"
   },
   {
    "duration": 6,
    "start_time": "2023-09-12T16:48:41.982Z"
   },
   {
    "duration": 164,
    "start_time": "2023-09-12T16:48:41.990Z"
   },
   {
    "duration": 8,
    "start_time": "2023-09-12T16:48:42.156Z"
   },
   {
    "duration": 10,
    "start_time": "2023-09-12T16:48:42.180Z"
   },
   {
    "duration": 34,
    "start_time": "2023-09-12T16:48:42.191Z"
   },
   {
    "duration": 13,
    "start_time": "2023-09-12T16:48:42.227Z"
   },
   {
    "duration": 12,
    "start_time": "2023-09-12T16:48:42.242Z"
   },
   {
    "duration": 25,
    "start_time": "2023-09-12T16:48:42.256Z"
   },
   {
    "duration": 4,
    "start_time": "2023-09-12T16:48:42.282Z"
   },
   {
    "duration": 10,
    "start_time": "2023-09-12T16:48:42.287Z"
   },
   {
    "duration": 24,
    "start_time": "2023-09-12T16:48:42.299Z"
   },
   {
    "duration": 26,
    "start_time": "2023-09-12T16:48:42.325Z"
   },
   {
    "duration": 30,
    "start_time": "2023-09-12T16:48:42.352Z"
   },
   {
    "duration": 12,
    "start_time": "2023-09-12T16:48:42.384Z"
   },
   {
    "duration": 17,
    "start_time": "2023-09-12T16:48:42.397Z"
   },
   {
    "duration": 10,
    "start_time": "2023-09-12T16:48:42.416Z"
   },
   {
    "duration": 8,
    "start_time": "2023-09-12T16:48:42.427Z"
   },
   {
    "duration": 57,
    "start_time": "2023-09-12T16:48:42.439Z"
   },
   {
    "duration": 46,
    "start_time": "2023-09-12T16:48:42.498Z"
   },
   {
    "duration": 1911,
    "start_time": "2023-09-12T16:48:42.546Z"
   },
   {
    "duration": 22,
    "start_time": "2023-09-12T16:48:44.459Z"
   },
   {
    "duration": 77,
    "start_time": "2023-09-12T16:48:44.482Z"
   },
   {
    "duration": 11,
    "start_time": "2023-09-12T16:48:44.561Z"
   },
   {
    "duration": 5,
    "start_time": "2023-09-12T16:48:44.581Z"
   },
   {
    "duration": 10,
    "start_time": "2023-09-12T16:48:44.588Z"
   },
   {
    "duration": 13,
    "start_time": "2023-09-12T16:48:44.600Z"
   },
   {
    "duration": 167,
    "start_time": "2023-09-12T16:48:44.614Z"
   },
   {
    "duration": 17,
    "start_time": "2023-09-12T16:48:44.782Z"
   },
   {
    "duration": 32,
    "start_time": "2023-09-12T16:48:44.801Z"
   },
   {
    "duration": 14,
    "start_time": "2023-09-12T16:48:44.834Z"
   },
   {
    "duration": 35,
    "start_time": "2023-09-12T16:48:44.850Z"
   },
   {
    "duration": 6,
    "start_time": "2023-09-12T16:48:44.886Z"
   },
   {
    "duration": 165,
    "start_time": "2023-09-12T16:48:44.893Z"
   },
   {
    "duration": 34,
    "start_time": "2023-09-12T16:48:45.060Z"
   },
   {
    "duration": 7,
    "start_time": "2023-09-12T16:48:45.096Z"
   },
   {
    "duration": 33,
    "start_time": "2023-09-12T16:48:45.104Z"
   },
   {
    "duration": 12,
    "start_time": "2023-09-12T16:48:45.139Z"
   },
   {
    "duration": 7,
    "start_time": "2023-09-12T16:48:45.152Z"
   },
   {
    "duration": 28,
    "start_time": "2023-09-12T16:48:45.161Z"
   },
   {
    "duration": 7,
    "start_time": "2023-09-12T16:48:45.191Z"
   },
   {
    "duration": 1292,
    "start_time": "2023-09-12T16:48:45.199Z"
   },
   {
    "duration": 4,
    "start_time": "2023-09-12T16:48:46.493Z"
   },
   {
    "duration": 8,
    "start_time": "2023-09-12T16:48:46.498Z"
   },
   {
    "duration": 19,
    "start_time": "2023-09-12T16:48:46.508Z"
   },
   {
    "duration": 10,
    "start_time": "2023-09-12T16:48:46.529Z"
   },
   {
    "duration": 167,
    "start_time": "2023-09-12T16:48:46.540Z"
   },
   {
    "duration": 0,
    "start_time": "2023-09-12T16:48:46.709Z"
   },
   {
    "duration": 0,
    "start_time": "2023-09-12T16:48:46.711Z"
   },
   {
    "duration": 0,
    "start_time": "2023-09-12T16:48:46.713Z"
   },
   {
    "duration": 0,
    "start_time": "2023-09-12T16:48:46.714Z"
   },
   {
    "duration": 0,
    "start_time": "2023-09-12T16:48:46.717Z"
   },
   {
    "duration": 0,
    "start_time": "2023-09-12T16:48:46.719Z"
   },
   {
    "duration": 0,
    "start_time": "2023-09-12T16:48:46.720Z"
   },
   {
    "duration": 0,
    "start_time": "2023-09-12T16:48:46.721Z"
   },
   {
    "duration": 0,
    "start_time": "2023-09-12T16:48:46.723Z"
   },
   {
    "duration": 0,
    "start_time": "2023-09-12T16:48:46.725Z"
   },
   {
    "duration": 0,
    "start_time": "2023-09-12T16:48:46.727Z"
   },
   {
    "duration": 0,
    "start_time": "2023-09-12T16:48:46.729Z"
   },
   {
    "duration": 0,
    "start_time": "2023-09-12T16:48:46.730Z"
   },
   {
    "duration": 0,
    "start_time": "2023-09-12T16:48:46.732Z"
   },
   {
    "duration": 0,
    "start_time": "2023-09-12T16:48:46.735Z"
   },
   {
    "duration": 20,
    "start_time": "2023-09-12T16:55:28.391Z"
   },
   {
    "duration": 4,
    "start_time": "2023-09-12T16:55:34.539Z"
   },
   {
    "duration": 4,
    "start_time": "2023-09-12T16:55:34.545Z"
   },
   {
    "duration": 4,
    "start_time": "2023-09-12T16:55:34.551Z"
   },
   {
    "duration": 277,
    "start_time": "2023-09-12T16:55:34.557Z"
   },
   {
    "duration": 4,
    "start_time": "2023-09-12T16:55:34.836Z"
   },
   {
    "duration": 167,
    "start_time": "2023-09-12T16:55:34.841Z"
   },
   {
    "duration": 149,
    "start_time": "2023-09-12T16:55:35.010Z"
   },
   {
    "duration": 7,
    "start_time": "2023-09-12T16:55:35.161Z"
   },
   {
    "duration": 52,
    "start_time": "2023-09-12T16:55:35.181Z"
   },
   {
    "duration": 59,
    "start_time": "2023-09-12T16:55:35.236Z"
   },
   {
    "duration": 2110,
    "start_time": "2023-09-12T16:55:35.296Z"
   },
   {
    "duration": 2450,
    "start_time": "2023-09-12T16:55:37.407Z"
   },
   {
    "duration": 58,
    "start_time": "2023-09-12T16:55:39.859Z"
   },
   {
    "duration": 27,
    "start_time": "2023-09-12T16:55:39.919Z"
   },
   {
    "duration": 4,
    "start_time": "2023-09-12T16:55:39.948Z"
   },
   {
    "duration": 29,
    "start_time": "2023-09-12T16:55:39.953Z"
   },
   {
    "duration": 4,
    "start_time": "2023-09-12T16:55:39.983Z"
   },
   {
    "duration": 8,
    "start_time": "2023-09-12T16:55:39.988Z"
   },
   {
    "duration": 14,
    "start_time": "2023-09-12T16:55:39.997Z"
   },
   {
    "duration": 23,
    "start_time": "2023-09-12T16:55:40.012Z"
   },
   {
    "duration": 14,
    "start_time": "2023-09-12T16:55:40.036Z"
   },
   {
    "duration": 42,
    "start_time": "2023-09-12T16:55:40.051Z"
   },
   {
    "duration": 10,
    "start_time": "2023-09-12T16:55:40.094Z"
   },
   {
    "duration": 10,
    "start_time": "2023-09-12T16:55:40.106Z"
   },
   {
    "duration": 193,
    "start_time": "2023-09-12T16:55:40.117Z"
   },
   {
    "duration": 8,
    "start_time": "2023-09-12T16:55:40.311Z"
   },
   {
    "duration": 14,
    "start_time": "2023-09-12T16:55:40.320Z"
   },
   {
    "duration": 172,
    "start_time": "2023-09-12T16:55:40.338Z"
   },
   {
    "duration": 16,
    "start_time": "2023-09-12T16:55:40.512Z"
   },
   {
    "duration": 15,
    "start_time": "2023-09-12T16:55:40.529Z"
   },
   {
    "duration": 11,
    "start_time": "2023-09-12T16:55:40.545Z"
   },
   {
    "duration": 23,
    "start_time": "2023-09-12T16:55:40.558Z"
   },
   {
    "duration": 6,
    "start_time": "2023-09-12T16:55:40.582Z"
   },
   {
    "duration": 24,
    "start_time": "2023-09-12T16:55:40.589Z"
   },
   {
    "duration": 19,
    "start_time": "2023-09-12T16:55:40.614Z"
   },
   {
    "duration": 5,
    "start_time": "2023-09-12T16:55:40.635Z"
   },
   {
    "duration": 9,
    "start_time": "2023-09-12T16:55:40.642Z"
   },
   {
    "duration": 16,
    "start_time": "2023-09-12T16:55:40.681Z"
   },
   {
    "duration": 12,
    "start_time": "2023-09-12T16:55:40.698Z"
   },
   {
    "duration": 14,
    "start_time": "2023-09-12T16:55:40.711Z"
   },
   {
    "duration": 55,
    "start_time": "2023-09-12T16:55:40.727Z"
   },
   {
    "duration": 48,
    "start_time": "2023-09-12T16:55:40.784Z"
   },
   {
    "duration": 1950,
    "start_time": "2023-09-12T16:55:40.834Z"
   },
   {
    "duration": 18,
    "start_time": "2023-09-12T16:55:42.786Z"
   },
   {
    "duration": 89,
    "start_time": "2023-09-12T16:55:42.806Z"
   },
   {
    "duration": 12,
    "start_time": "2023-09-12T16:55:42.897Z"
   },
   {
    "duration": 24,
    "start_time": "2023-09-12T16:55:42.910Z"
   },
   {
    "duration": 21,
    "start_time": "2023-09-12T16:55:42.936Z"
   },
   {
    "duration": 8,
    "start_time": "2023-09-12T16:55:42.958Z"
   },
   {
    "duration": 150,
    "start_time": "2023-09-12T16:55:42.967Z"
   },
   {
    "duration": 17,
    "start_time": "2023-09-12T16:55:43.119Z"
   },
   {
    "duration": 11,
    "start_time": "2023-09-12T16:55:43.138Z"
   },
   {
    "duration": 17,
    "start_time": "2023-09-12T16:55:43.150Z"
   },
   {
    "duration": 47,
    "start_time": "2023-09-12T16:55:43.169Z"
   },
   {
    "duration": 5,
    "start_time": "2023-09-12T16:55:43.218Z"
   },
   {
    "duration": 169,
    "start_time": "2023-09-12T16:55:43.224Z"
   },
   {
    "duration": 20,
    "start_time": "2023-09-12T16:55:43.395Z"
   },
   {
    "duration": 6,
    "start_time": "2023-09-12T16:55:43.417Z"
   },
   {
    "duration": 21,
    "start_time": "2023-09-12T16:55:43.425Z"
   },
   {
    "duration": 38,
    "start_time": "2023-09-12T16:55:43.448Z"
   },
   {
    "duration": 8,
    "start_time": "2023-09-12T16:55:43.488Z"
   },
   {
    "duration": 5,
    "start_time": "2023-09-12T16:55:43.497Z"
   },
   {
    "duration": 26,
    "start_time": "2023-09-12T16:55:43.504Z"
   },
   {
    "duration": 1213,
    "start_time": "2023-09-12T16:55:43.531Z"
   },
   {
    "duration": 4,
    "start_time": "2023-09-12T16:55:44.746Z"
   },
   {
    "duration": 8,
    "start_time": "2023-09-12T16:55:44.751Z"
   },
   {
    "duration": 27,
    "start_time": "2023-09-12T16:55:44.760Z"
   },
   {
    "duration": 11,
    "start_time": "2023-09-12T16:55:44.789Z"
   },
   {
    "duration": 22,
    "start_time": "2023-09-12T16:55:44.802Z"
   },
   {
    "duration": 0,
    "start_time": "2023-09-12T16:55:44.826Z"
   },
   {
    "duration": 0,
    "start_time": "2023-09-12T16:55:44.827Z"
   },
   {
    "duration": 0,
    "start_time": "2023-09-12T16:55:44.828Z"
   },
   {
    "duration": 0,
    "start_time": "2023-09-12T16:55:44.829Z"
   },
   {
    "duration": 0,
    "start_time": "2023-09-12T16:55:44.830Z"
   },
   {
    "duration": 0,
    "start_time": "2023-09-12T16:55:44.831Z"
   },
   {
    "duration": 0,
    "start_time": "2023-09-12T16:55:44.832Z"
   },
   {
    "duration": 0,
    "start_time": "2023-09-12T16:55:44.833Z"
   },
   {
    "duration": 0,
    "start_time": "2023-09-12T16:55:44.834Z"
   },
   {
    "duration": 0,
    "start_time": "2023-09-12T16:55:44.835Z"
   },
   {
    "duration": 0,
    "start_time": "2023-09-12T16:55:44.836Z"
   },
   {
    "duration": 0,
    "start_time": "2023-09-12T16:55:44.837Z"
   },
   {
    "duration": 0,
    "start_time": "2023-09-12T16:55:44.838Z"
   },
   {
    "duration": 0,
    "start_time": "2023-09-12T16:55:44.839Z"
   },
   {
    "duration": 0,
    "start_time": "2023-09-12T16:55:44.840Z"
   },
   {
    "duration": 30,
    "start_time": "2023-09-12T17:03:07.282Z"
   },
   {
    "duration": 156,
    "start_time": "2023-09-12T17:03:34.523Z"
   },
   {
    "duration": 1654,
    "start_time": "2023-09-12T17:09:56.193Z"
   },
   {
    "duration": 3,
    "start_time": "2023-09-12T17:09:57.849Z"
   },
   {
    "duration": 6,
    "start_time": "2023-09-12T17:09:57.854Z"
   },
   {
    "duration": 266,
    "start_time": "2023-09-12T17:09:57.863Z"
   },
   {
    "duration": 4,
    "start_time": "2023-09-12T17:09:58.131Z"
   },
   {
    "duration": 170,
    "start_time": "2023-09-12T17:09:58.136Z"
   },
   {
    "duration": 140,
    "start_time": "2023-09-12T17:09:58.308Z"
   },
   {
    "duration": 6,
    "start_time": "2023-09-12T17:09:58.450Z"
   },
   {
    "duration": 57,
    "start_time": "2023-09-12T17:09:58.458Z"
   },
   {
    "duration": 35,
    "start_time": "2023-09-12T17:09:58.519Z"
   },
   {
    "duration": 2089,
    "start_time": "2023-09-12T17:09:58.580Z"
   },
   {
    "duration": 2647,
    "start_time": "2023-09-12T17:10:00.671Z"
   },
   {
    "duration": 70,
    "start_time": "2023-09-12T17:10:03.320Z"
   },
   {
    "duration": 29,
    "start_time": "2023-09-12T17:10:03.392Z"
   },
   {
    "duration": 6,
    "start_time": "2023-09-12T17:10:03.423Z"
   },
   {
    "duration": 21,
    "start_time": "2023-09-12T17:10:03.431Z"
   },
   {
    "duration": 14,
    "start_time": "2023-09-12T17:10:03.454Z"
   },
   {
    "duration": 17,
    "start_time": "2023-09-12T17:10:03.470Z"
   },
   {
    "duration": 13,
    "start_time": "2023-09-12T17:10:03.489Z"
   },
   {
    "duration": 12,
    "start_time": "2023-09-12T17:10:03.504Z"
   },
   {
    "duration": 38,
    "start_time": "2023-09-12T17:10:03.517Z"
   },
   {
    "duration": 33,
    "start_time": "2023-09-12T17:10:03.556Z"
   },
   {
    "duration": 10,
    "start_time": "2023-09-12T17:10:03.591Z"
   },
   {
    "duration": 12,
    "start_time": "2023-09-12T17:10:03.602Z"
   },
   {
    "duration": 287,
    "start_time": "2023-09-12T17:10:03.616Z"
   },
   {
    "duration": 8,
    "start_time": "2023-09-12T17:10:03.904Z"
   },
   {
    "duration": 14,
    "start_time": "2023-09-12T17:10:03.913Z"
   },
   {
    "duration": 50,
    "start_time": "2023-09-12T17:10:03.931Z"
   },
   {
    "duration": 14,
    "start_time": "2023-09-12T17:10:03.983Z"
   },
   {
    "duration": 14,
    "start_time": "2023-09-12T17:10:03.999Z"
   },
   {
    "duration": 49,
    "start_time": "2023-09-12T17:10:04.015Z"
   },
   {
    "duration": 17,
    "start_time": "2023-09-12T17:10:04.066Z"
   },
   {
    "duration": 15,
    "start_time": "2023-09-12T17:10:04.085Z"
   },
   {
    "duration": 27,
    "start_time": "2023-09-12T17:10:04.102Z"
   },
   {
    "duration": 20,
    "start_time": "2023-09-12T17:10:04.130Z"
   },
   {
    "duration": 23,
    "start_time": "2023-09-12T17:10:04.152Z"
   },
   {
    "duration": 13,
    "start_time": "2023-09-12T17:10:04.182Z"
   },
   {
    "duration": 25,
    "start_time": "2023-09-12T17:10:04.197Z"
   },
   {
    "duration": 12,
    "start_time": "2023-09-12T17:10:04.224Z"
   },
   {
    "duration": 20,
    "start_time": "2023-09-12T17:10:04.238Z"
   },
   {
    "duration": 50,
    "start_time": "2023-09-12T17:10:04.260Z"
   },
   {
    "duration": 51,
    "start_time": "2023-09-12T17:10:04.312Z"
   },
   {
    "duration": 1995,
    "start_time": "2023-09-12T17:10:04.366Z"
   },
   {
    "duration": 23,
    "start_time": "2023-09-12T17:10:06.363Z"
   },
   {
    "duration": 106,
    "start_time": "2023-09-12T17:10:06.389Z"
   },
   {
    "duration": 32,
    "start_time": "2023-09-12T17:10:06.497Z"
   },
   {
    "duration": 36,
    "start_time": "2023-09-12T17:10:06.531Z"
   },
   {
    "duration": 9,
    "start_time": "2023-09-12T17:10:06.569Z"
   },
   {
    "duration": 24,
    "start_time": "2023-09-12T17:10:06.580Z"
   },
   {
    "duration": 171,
    "start_time": "2023-09-12T17:10:06.605Z"
   },
   {
    "duration": 18,
    "start_time": "2023-09-12T17:10:06.778Z"
   },
   {
    "duration": 12,
    "start_time": "2023-09-12T17:10:06.798Z"
   },
   {
    "duration": 15,
    "start_time": "2023-09-12T17:10:06.812Z"
   },
   {
    "duration": 72,
    "start_time": "2023-09-12T17:10:06.828Z"
   },
   {
    "duration": 9,
    "start_time": "2023-09-12T17:10:06.901Z"
   },
   {
    "duration": 222,
    "start_time": "2023-09-12T17:10:06.912Z"
   },
   {
    "duration": 24,
    "start_time": "2023-09-12T17:10:07.136Z"
   },
   {
    "duration": 24,
    "start_time": "2023-09-12T17:10:07.163Z"
   },
   {
    "duration": 27,
    "start_time": "2023-09-12T17:10:07.189Z"
   },
   {
    "duration": 31,
    "start_time": "2023-09-12T17:10:07.218Z"
   },
   {
    "duration": 60,
    "start_time": "2023-09-12T17:10:07.251Z"
   },
   {
    "duration": 87,
    "start_time": "2023-09-12T17:10:07.313Z"
   },
   {
    "duration": 47,
    "start_time": "2023-09-12T17:10:07.402Z"
   },
   {
    "duration": 1251,
    "start_time": "2023-09-12T17:10:07.450Z"
   },
   {
    "duration": 4,
    "start_time": "2023-09-12T17:10:08.703Z"
   },
   {
    "duration": 17,
    "start_time": "2023-09-12T17:10:08.708Z"
   },
   {
    "duration": 15,
    "start_time": "2023-09-12T17:10:08.727Z"
   },
   {
    "duration": 13,
    "start_time": "2023-09-12T17:10:08.744Z"
   },
   {
    "duration": 159,
    "start_time": "2023-09-12T17:10:08.759Z"
   },
   {
    "duration": 0,
    "start_time": "2023-09-12T17:10:08.920Z"
   },
   {
    "duration": 1,
    "start_time": "2023-09-12T17:10:08.921Z"
   },
   {
    "duration": 0,
    "start_time": "2023-09-12T17:10:08.923Z"
   },
   {
    "duration": 0,
    "start_time": "2023-09-12T17:10:08.925Z"
   },
   {
    "duration": 0,
    "start_time": "2023-09-12T17:10:08.926Z"
   },
   {
    "duration": 0,
    "start_time": "2023-09-12T17:10:08.928Z"
   },
   {
    "duration": 0,
    "start_time": "2023-09-12T17:10:08.929Z"
   },
   {
    "duration": 0,
    "start_time": "2023-09-12T17:10:08.931Z"
   },
   {
    "duration": 0,
    "start_time": "2023-09-12T17:10:08.933Z"
   },
   {
    "duration": 0,
    "start_time": "2023-09-12T17:10:08.934Z"
   },
   {
    "duration": 0,
    "start_time": "2023-09-12T17:10:08.936Z"
   },
   {
    "duration": 0,
    "start_time": "2023-09-12T17:10:08.938Z"
   },
   {
    "duration": 0,
    "start_time": "2023-09-12T17:10:08.939Z"
   },
   {
    "duration": 0,
    "start_time": "2023-09-12T17:10:08.941Z"
   },
   {
    "duration": 0,
    "start_time": "2023-09-12T17:10:08.980Z"
   },
   {
    "duration": 1564,
    "start_time": "2023-09-12T17:13:06.046Z"
   },
   {
    "duration": 3,
    "start_time": "2023-09-12T17:13:07.612Z"
   },
   {
    "duration": 18,
    "start_time": "2023-09-12T17:13:07.616Z"
   },
   {
    "duration": 254,
    "start_time": "2023-09-12T17:13:07.638Z"
   },
   {
    "duration": 4,
    "start_time": "2023-09-12T17:13:07.894Z"
   },
   {
    "duration": 169,
    "start_time": "2023-09-12T17:13:07.900Z"
   },
   {
    "duration": 125,
    "start_time": "2023-09-12T17:13:08.070Z"
   },
   {
    "duration": 6,
    "start_time": "2023-09-12T17:13:08.197Z"
   },
   {
    "duration": 41,
    "start_time": "2023-09-12T17:13:08.204Z"
   },
   {
    "duration": 55,
    "start_time": "2023-09-12T17:13:08.248Z"
   },
   {
    "duration": 1978,
    "start_time": "2023-09-12T17:13:08.304Z"
   },
   {
    "duration": 2495,
    "start_time": "2023-09-12T17:13:10.284Z"
   },
   {
    "duration": 61,
    "start_time": "2023-09-12T17:13:12.781Z"
   },
   {
    "duration": 54,
    "start_time": "2023-09-12T17:13:12.844Z"
   },
   {
    "duration": 4,
    "start_time": "2023-09-12T17:13:12.900Z"
   },
   {
    "duration": 14,
    "start_time": "2023-09-12T17:13:12.906Z"
   },
   {
    "duration": 5,
    "start_time": "2023-09-12T17:13:12.921Z"
   },
   {
    "duration": 11,
    "start_time": "2023-09-12T17:13:12.927Z"
   },
   {
    "duration": 13,
    "start_time": "2023-09-12T17:13:12.940Z"
   },
   {
    "duration": 31,
    "start_time": "2023-09-12T17:13:12.955Z"
   },
   {
    "duration": 20,
    "start_time": "2023-09-12T17:13:12.988Z"
   },
   {
    "duration": 28,
    "start_time": "2023-09-12T17:13:13.009Z"
   },
   {
    "duration": 9,
    "start_time": "2023-09-12T17:13:13.039Z"
   },
   {
    "duration": 5,
    "start_time": "2023-09-12T17:13:13.050Z"
   },
   {
    "duration": 289,
    "start_time": "2023-09-12T17:13:13.056Z"
   },
   {
    "duration": 6,
    "start_time": "2023-09-12T17:13:13.347Z"
   },
   {
    "duration": 27,
    "start_time": "2023-09-12T17:13:13.355Z"
   },
   {
    "duration": 29,
    "start_time": "2023-09-12T17:13:13.387Z"
   },
   {
    "duration": 13,
    "start_time": "2023-09-12T17:13:13.417Z"
   },
   {
    "duration": 18,
    "start_time": "2023-09-12T17:13:13.432Z"
   },
   {
    "duration": 9,
    "start_time": "2023-09-12T17:13:13.452Z"
   },
   {
    "duration": 30,
    "start_time": "2023-09-12T17:13:13.462Z"
   },
   {
    "duration": 10,
    "start_time": "2023-09-12T17:13:13.493Z"
   },
   {
    "duration": 24,
    "start_time": "2023-09-12T17:13:13.504Z"
   },
   {
    "duration": 19,
    "start_time": "2023-09-12T17:13:13.530Z"
   },
   {
    "duration": 5,
    "start_time": "2023-09-12T17:13:13.550Z"
   },
   {
    "duration": 26,
    "start_time": "2023-09-12T17:13:13.557Z"
   },
   {
    "duration": 23,
    "start_time": "2023-09-12T17:13:13.584Z"
   },
   {
    "duration": 17,
    "start_time": "2023-09-12T17:13:13.609Z"
   },
   {
    "duration": 20,
    "start_time": "2023-09-12T17:13:13.628Z"
   },
   {
    "duration": 46,
    "start_time": "2023-09-12T17:13:13.650Z"
   },
   {
    "duration": 47,
    "start_time": "2023-09-12T17:13:13.698Z"
   },
   {
    "duration": 1896,
    "start_time": "2023-09-12T17:13:13.747Z"
   },
   {
    "duration": 18,
    "start_time": "2023-09-12T17:13:15.644Z"
   },
   {
    "duration": 78,
    "start_time": "2023-09-12T17:13:15.663Z"
   },
   {
    "duration": 11,
    "start_time": "2023-09-12T17:13:15.743Z"
   },
   {
    "duration": 15,
    "start_time": "2023-09-12T17:13:15.755Z"
   },
   {
    "duration": 6,
    "start_time": "2023-09-12T17:13:15.780Z"
   },
   {
    "duration": 6,
    "start_time": "2023-09-12T17:13:15.788Z"
   },
   {
    "duration": 167,
    "start_time": "2023-09-12T17:13:15.795Z"
   },
   {
    "duration": 26,
    "start_time": "2023-09-12T17:13:15.964Z"
   },
   {
    "duration": 11,
    "start_time": "2023-09-12T17:13:15.992Z"
   },
   {
    "duration": 11,
    "start_time": "2023-09-12T17:13:16.005Z"
   },
   {
    "duration": 42,
    "start_time": "2023-09-12T17:13:16.017Z"
   },
   {
    "duration": 5,
    "start_time": "2023-09-12T17:13:16.060Z"
   },
   {
    "duration": 150,
    "start_time": "2023-09-12T17:13:16.081Z"
   },
   {
    "duration": 19,
    "start_time": "2023-09-12T17:13:16.233Z"
   },
   {
    "duration": 19,
    "start_time": "2023-09-12T17:13:16.254Z"
   },
   {
    "duration": 25,
    "start_time": "2023-09-12T17:13:16.280Z"
   },
   {
    "duration": 11,
    "start_time": "2023-09-12T17:13:16.306Z"
   },
   {
    "duration": 94,
    "start_time": "2023-09-12T17:13:16.319Z"
   },
   {
    "duration": 37,
    "start_time": "2023-09-12T17:13:16.414Z"
   },
   {
    "duration": 14,
    "start_time": "2023-09-12T17:13:16.453Z"
   },
   {
    "duration": 1310,
    "start_time": "2023-09-12T17:13:16.469Z"
   },
   {
    "duration": 3,
    "start_time": "2023-09-12T17:13:17.781Z"
   },
   {
    "duration": 8,
    "start_time": "2023-09-12T17:13:17.786Z"
   },
   {
    "duration": 19,
    "start_time": "2023-09-12T17:13:17.796Z"
   },
   {
    "duration": 12,
    "start_time": "2023-09-12T17:13:17.817Z"
   },
   {
    "duration": 145,
    "start_time": "2023-09-12T17:13:17.830Z"
   },
   {
    "duration": 0,
    "start_time": "2023-09-12T17:13:17.977Z"
   },
   {
    "duration": 0,
    "start_time": "2023-09-12T17:13:17.978Z"
   },
   {
    "duration": 0,
    "start_time": "2023-09-12T17:13:17.980Z"
   },
   {
    "duration": 0,
    "start_time": "2023-09-12T17:13:17.981Z"
   },
   {
    "duration": 0,
    "start_time": "2023-09-12T17:13:17.982Z"
   },
   {
    "duration": 0,
    "start_time": "2023-09-12T17:13:17.983Z"
   },
   {
    "duration": 0,
    "start_time": "2023-09-12T17:13:17.985Z"
   },
   {
    "duration": 0,
    "start_time": "2023-09-12T17:13:17.986Z"
   },
   {
    "duration": 0,
    "start_time": "2023-09-12T17:13:17.987Z"
   },
   {
    "duration": 0,
    "start_time": "2023-09-12T17:13:17.988Z"
   },
   {
    "duration": 0,
    "start_time": "2023-09-12T17:13:17.989Z"
   },
   {
    "duration": 0,
    "start_time": "2023-09-12T17:13:17.990Z"
   },
   {
    "duration": 0,
    "start_time": "2023-09-12T17:13:17.991Z"
   },
   {
    "duration": 0,
    "start_time": "2023-09-12T17:13:17.992Z"
   },
   {
    "duration": 0,
    "start_time": "2023-09-12T17:13:17.993Z"
   },
   {
    "duration": 1545,
    "start_time": "2023-09-12T17:13:21.185Z"
   },
   {
    "duration": 3,
    "start_time": "2023-09-12T17:13:22.732Z"
   },
   {
    "duration": 6,
    "start_time": "2023-09-12T17:13:22.736Z"
   },
   {
    "duration": 246,
    "start_time": "2023-09-12T17:13:22.743Z"
   },
   {
    "duration": 4,
    "start_time": "2023-09-12T17:13:22.992Z"
   },
   {
    "duration": 177,
    "start_time": "2023-09-12T17:13:22.997Z"
   },
   {
    "duration": 133,
    "start_time": "2023-09-12T17:13:23.176Z"
   },
   {
    "duration": 6,
    "start_time": "2023-09-12T17:13:23.311Z"
   },
   {
    "duration": 57,
    "start_time": "2023-09-12T17:13:23.318Z"
   },
   {
    "duration": 32,
    "start_time": "2023-09-12T17:13:23.376Z"
   },
   {
    "duration": 1997,
    "start_time": "2023-09-12T17:13:23.410Z"
   },
   {
    "duration": 2642,
    "start_time": "2023-09-12T17:13:25.408Z"
   },
   {
    "duration": 69,
    "start_time": "2023-09-12T17:13:28.051Z"
   },
   {
    "duration": 28,
    "start_time": "2023-09-12T17:13:28.123Z"
   },
   {
    "duration": 5,
    "start_time": "2023-09-12T17:13:28.153Z"
   },
   {
    "duration": 24,
    "start_time": "2023-09-12T17:13:28.159Z"
   },
   {
    "duration": 5,
    "start_time": "2023-09-12T17:13:28.185Z"
   },
   {
    "duration": 5,
    "start_time": "2023-09-12T17:13:28.191Z"
   },
   {
    "duration": 10,
    "start_time": "2023-09-12T17:13:28.198Z"
   },
   {
    "duration": 153,
    "start_time": "2023-09-12T17:13:28.210Z"
   },
   {
    "duration": 30,
    "start_time": "2023-09-12T17:13:28.365Z"
   },
   {
    "duration": 50,
    "start_time": "2023-09-12T17:13:28.397Z"
   },
   {
    "duration": 9,
    "start_time": "2023-09-12T17:13:28.449Z"
   },
   {
    "duration": 6,
    "start_time": "2023-09-12T17:13:28.460Z"
   },
   {
    "duration": 178,
    "start_time": "2023-09-12T17:13:28.467Z"
   },
   {
    "duration": 7,
    "start_time": "2023-09-12T17:13:28.646Z"
   },
   {
    "duration": 37,
    "start_time": "2023-09-12T17:13:28.655Z"
   },
   {
    "duration": 45,
    "start_time": "2023-09-12T17:13:28.694Z"
   },
   {
    "duration": 14,
    "start_time": "2023-09-12T17:13:28.741Z"
   },
   {
    "duration": 12,
    "start_time": "2023-09-12T17:13:28.757Z"
   },
   {
    "duration": 10,
    "start_time": "2023-09-12T17:13:28.771Z"
   },
   {
    "duration": 11,
    "start_time": "2023-09-12T17:13:28.782Z"
   },
   {
    "duration": 9,
    "start_time": "2023-09-12T17:13:28.795Z"
   },
   {
    "duration": 37,
    "start_time": "2023-09-12T17:13:28.805Z"
   },
   {
    "duration": 21,
    "start_time": "2023-09-12T17:13:28.844Z"
   },
   {
    "duration": 16,
    "start_time": "2023-09-12T17:13:28.867Z"
   },
   {
    "duration": 5,
    "start_time": "2023-09-12T17:13:28.885Z"
   },
   {
    "duration": 23,
    "start_time": "2023-09-12T17:13:28.892Z"
   },
   {
    "duration": 12,
    "start_time": "2023-09-12T17:13:28.917Z"
   },
   {
    "duration": 21,
    "start_time": "2023-09-12T17:13:28.931Z"
   },
   {
    "duration": 51,
    "start_time": "2023-09-12T17:13:28.956Z"
   },
   {
    "duration": 48,
    "start_time": "2023-09-12T17:13:29.009Z"
   },
   {
    "duration": 1991,
    "start_time": "2023-09-12T17:13:29.059Z"
   },
   {
    "duration": 16,
    "start_time": "2023-09-12T17:13:31.052Z"
   },
   {
    "duration": 133,
    "start_time": "2023-09-12T17:13:31.070Z"
   },
   {
    "duration": 12,
    "start_time": "2023-09-12T17:13:31.205Z"
   },
   {
    "duration": 36,
    "start_time": "2023-09-12T17:13:31.218Z"
   },
   {
    "duration": 40,
    "start_time": "2023-09-12T17:13:31.256Z"
   },
   {
    "duration": 38,
    "start_time": "2023-09-12T17:13:31.297Z"
   },
   {
    "duration": 194,
    "start_time": "2023-09-12T17:13:31.337Z"
   },
   {
    "duration": 20,
    "start_time": "2023-09-12T17:13:31.532Z"
   },
   {
    "duration": 54,
    "start_time": "2023-09-12T17:13:31.554Z"
   },
   {
    "duration": 45,
    "start_time": "2023-09-12T17:13:31.609Z"
   },
   {
    "duration": 55,
    "start_time": "2023-09-12T17:13:31.656Z"
   },
   {
    "duration": 37,
    "start_time": "2023-09-12T17:13:31.713Z"
   },
   {
    "duration": 180,
    "start_time": "2023-09-12T17:13:31.752Z"
   },
   {
    "duration": 22,
    "start_time": "2023-09-12T17:13:31.934Z"
   },
   {
    "duration": 57,
    "start_time": "2023-09-12T17:13:31.958Z"
   },
   {
    "duration": 50,
    "start_time": "2023-09-12T17:13:32.018Z"
   },
   {
    "duration": 43,
    "start_time": "2023-09-12T17:13:32.070Z"
   },
   {
    "duration": 15,
    "start_time": "2023-09-12T17:13:32.115Z"
   },
   {
    "duration": 12,
    "start_time": "2023-09-12T17:13:32.131Z"
   },
   {
    "duration": 21,
    "start_time": "2023-09-12T17:13:32.145Z"
   },
   {
    "duration": 1319,
    "start_time": "2023-09-12T17:13:32.168Z"
   },
   {
    "duration": 3,
    "start_time": "2023-09-12T17:13:33.489Z"
   },
   {
    "duration": 11,
    "start_time": "2023-09-12T17:13:33.494Z"
   },
   {
    "duration": 13,
    "start_time": "2023-09-12T17:13:33.506Z"
   },
   {
    "duration": 10,
    "start_time": "2023-09-12T17:13:33.520Z"
   },
   {
    "duration": 153,
    "start_time": "2023-09-12T17:13:33.532Z"
   },
   {
    "duration": 0,
    "start_time": "2023-09-12T17:13:33.686Z"
   },
   {
    "duration": 0,
    "start_time": "2023-09-12T17:13:33.688Z"
   },
   {
    "duration": 0,
    "start_time": "2023-09-12T17:13:33.689Z"
   },
   {
    "duration": 0,
    "start_time": "2023-09-12T17:13:33.690Z"
   },
   {
    "duration": 0,
    "start_time": "2023-09-12T17:13:33.691Z"
   },
   {
    "duration": 0,
    "start_time": "2023-09-12T17:13:33.693Z"
   },
   {
    "duration": 0,
    "start_time": "2023-09-12T17:13:33.694Z"
   },
   {
    "duration": 0,
    "start_time": "2023-09-12T17:13:33.695Z"
   },
   {
    "duration": 0,
    "start_time": "2023-09-12T17:13:33.696Z"
   },
   {
    "duration": 0,
    "start_time": "2023-09-12T17:13:33.697Z"
   },
   {
    "duration": 0,
    "start_time": "2023-09-12T17:13:33.698Z"
   },
   {
    "duration": 0,
    "start_time": "2023-09-12T17:13:33.699Z"
   },
   {
    "duration": 0,
    "start_time": "2023-09-12T17:13:33.701Z"
   },
   {
    "duration": 0,
    "start_time": "2023-09-12T17:13:33.702Z"
   },
   {
    "duration": 0,
    "start_time": "2023-09-12T17:13:33.703Z"
   },
   {
    "duration": 1417,
    "start_time": "2023-09-12T17:21:19.618Z"
   },
   {
    "duration": 3,
    "start_time": "2023-09-12T17:21:21.037Z"
   },
   {
    "duration": 11,
    "start_time": "2023-09-12T17:21:21.042Z"
   },
   {
    "duration": 254,
    "start_time": "2023-09-12T17:21:21.056Z"
   },
   {
    "duration": 4,
    "start_time": "2023-09-12T17:21:21.311Z"
   },
   {
    "duration": 161,
    "start_time": "2023-09-12T17:21:21.317Z"
   },
   {
    "duration": 119,
    "start_time": "2023-09-12T17:21:21.480Z"
   },
   {
    "duration": 5,
    "start_time": "2023-09-12T17:21:21.601Z"
   },
   {
    "duration": 59,
    "start_time": "2023-09-12T17:21:21.608Z"
   },
   {
    "duration": 31,
    "start_time": "2023-09-12T17:21:21.669Z"
   },
   {
    "duration": 1924,
    "start_time": "2023-09-12T17:21:21.702Z"
   },
   {
    "duration": 2384,
    "start_time": "2023-09-12T17:21:23.628Z"
   },
   {
    "duration": 67,
    "start_time": "2023-09-12T17:21:26.014Z"
   },
   {
    "duration": 27,
    "start_time": "2023-09-12T17:21:26.083Z"
   },
   {
    "duration": 4,
    "start_time": "2023-09-12T17:21:26.112Z"
   },
   {
    "duration": 38,
    "start_time": "2023-09-12T17:21:26.118Z"
   },
   {
    "duration": 28,
    "start_time": "2023-09-12T17:21:26.158Z"
   },
   {
    "duration": 28,
    "start_time": "2023-09-12T17:21:26.187Z"
   },
   {
    "duration": 34,
    "start_time": "2023-09-12T17:21:26.216Z"
   },
   {
    "duration": 28,
    "start_time": "2023-09-12T17:21:26.252Z"
   },
   {
    "duration": 39,
    "start_time": "2023-09-12T17:21:26.282Z"
   },
   {
    "duration": 51,
    "start_time": "2023-09-12T17:21:26.323Z"
   },
   {
    "duration": 10,
    "start_time": "2023-09-12T17:21:26.376Z"
   },
   {
    "duration": 17,
    "start_time": "2023-09-12T17:21:26.388Z"
   },
   {
    "duration": 339,
    "start_time": "2023-09-12T17:21:26.406Z"
   },
   {
    "duration": 8,
    "start_time": "2023-09-12T17:21:26.748Z"
   },
   {
    "duration": 26,
    "start_time": "2023-09-12T17:21:26.758Z"
   },
   {
    "duration": 32,
    "start_time": "2023-09-12T17:21:26.790Z"
   },
   {
    "duration": 14,
    "start_time": "2023-09-12T17:21:26.823Z"
   },
   {
    "duration": 12,
    "start_time": "2023-09-12T17:21:26.838Z"
   },
   {
    "duration": 30,
    "start_time": "2023-09-12T17:21:26.851Z"
   },
   {
    "duration": 4,
    "start_time": "2023-09-12T17:21:26.882Z"
   },
   {
    "duration": 16,
    "start_time": "2023-09-12T17:21:26.888Z"
   },
   {
    "duration": 23,
    "start_time": "2023-09-12T17:21:26.906Z"
   },
   {
    "duration": 20,
    "start_time": "2023-09-12T17:21:26.930Z"
   },
   {
    "duration": 5,
    "start_time": "2023-09-12T17:21:26.951Z"
   },
   {
    "duration": 27,
    "start_time": "2023-09-12T17:21:26.958Z"
   },
   {
    "duration": 23,
    "start_time": "2023-09-12T17:21:26.986Z"
   },
   {
    "duration": 10,
    "start_time": "2023-09-12T17:21:27.011Z"
   },
   {
    "duration": 9,
    "start_time": "2023-09-12T17:21:27.022Z"
   },
   {
    "duration": 51,
    "start_time": "2023-09-12T17:21:27.033Z"
   },
   {
    "duration": 53,
    "start_time": "2023-09-12T17:21:27.086Z"
   },
   {
    "duration": 1864,
    "start_time": "2023-09-12T17:21:27.141Z"
   },
   {
    "duration": 16,
    "start_time": "2023-09-12T17:21:29.006Z"
   },
   {
    "duration": 68,
    "start_time": "2023-09-12T17:21:29.024Z"
   },
   {
    "duration": 11,
    "start_time": "2023-09-12T17:21:29.094Z"
   },
   {
    "duration": 12,
    "start_time": "2023-09-12T17:21:29.106Z"
   },
   {
    "duration": 4,
    "start_time": "2023-09-12T17:21:29.120Z"
   },
   {
    "duration": 10,
    "start_time": "2023-09-12T17:21:29.126Z"
   },
   {
    "duration": 173,
    "start_time": "2023-09-12T17:21:29.137Z"
   },
   {
    "duration": 18,
    "start_time": "2023-09-12T17:21:29.312Z"
   },
   {
    "duration": 11,
    "start_time": "2023-09-12T17:21:29.332Z"
   },
   {
    "duration": 8,
    "start_time": "2023-09-12T17:21:29.345Z"
   },
   {
    "duration": 52,
    "start_time": "2023-09-12T17:21:29.355Z"
   },
   {
    "duration": 6,
    "start_time": "2023-09-12T17:21:29.408Z"
   },
   {
    "duration": 162,
    "start_time": "2023-09-12T17:21:29.415Z"
   },
   {
    "duration": 20,
    "start_time": "2023-09-12T17:21:29.579Z"
   },
   {
    "duration": 6,
    "start_time": "2023-09-12T17:21:29.601Z"
   },
   {
    "duration": 17,
    "start_time": "2023-09-12T17:21:29.609Z"
   },
   {
    "duration": 10,
    "start_time": "2023-09-12T17:21:29.628Z"
   },
   {
    "duration": 7,
    "start_time": "2023-09-12T17:21:29.639Z"
   },
   {
    "duration": 38,
    "start_time": "2023-09-12T17:21:29.647Z"
   },
   {
    "duration": 15,
    "start_time": "2023-09-12T17:21:29.687Z"
   },
   {
    "duration": 1201,
    "start_time": "2023-09-12T17:21:29.703Z"
   },
   {
    "duration": 5,
    "start_time": "2023-09-12T17:21:30.905Z"
   },
   {
    "duration": 56,
    "start_time": "2023-09-12T17:21:30.911Z"
   },
   {
    "duration": 73,
    "start_time": "2023-09-12T17:21:30.969Z"
   },
   {
    "duration": 50,
    "start_time": "2023-09-12T17:21:31.044Z"
   },
   {
    "duration": 185,
    "start_time": "2023-09-12T17:21:31.095Z"
   },
   {
    "duration": 0,
    "start_time": "2023-09-12T17:21:31.282Z"
   },
   {
    "duration": 0,
    "start_time": "2023-09-12T17:21:31.283Z"
   },
   {
    "duration": 0,
    "start_time": "2023-09-12T17:21:31.284Z"
   },
   {
    "duration": 0,
    "start_time": "2023-09-12T17:21:31.286Z"
   },
   {
    "duration": 0,
    "start_time": "2023-09-12T17:21:31.287Z"
   },
   {
    "duration": 0,
    "start_time": "2023-09-12T17:21:31.288Z"
   },
   {
    "duration": 0,
    "start_time": "2023-09-12T17:21:31.291Z"
   },
   {
    "duration": 0,
    "start_time": "2023-09-12T17:21:31.292Z"
   },
   {
    "duration": 0,
    "start_time": "2023-09-12T17:21:31.293Z"
   },
   {
    "duration": 0,
    "start_time": "2023-09-12T17:21:31.295Z"
   },
   {
    "duration": 0,
    "start_time": "2023-09-12T17:21:31.297Z"
   },
   {
    "duration": 0,
    "start_time": "2023-09-12T17:21:31.299Z"
   },
   {
    "duration": 0,
    "start_time": "2023-09-12T17:21:31.301Z"
   },
   {
    "duration": 0,
    "start_time": "2023-09-12T17:21:31.302Z"
   },
   {
    "duration": 0,
    "start_time": "2023-09-12T17:21:31.303Z"
   },
   {
    "duration": 150,
    "start_time": "2023-09-12T17:23:45.803Z"
   },
   {
    "duration": 22,
    "start_time": "2023-09-12T17:25:34.307Z"
   },
   {
    "duration": 1591,
    "start_time": "2023-09-13T12:19:25.780Z"
   },
   {
    "duration": 2,
    "start_time": "2023-09-13T12:19:27.373Z"
   },
   {
    "duration": 6,
    "start_time": "2023-09-13T12:19:27.377Z"
   },
   {
    "duration": 443,
    "start_time": "2023-09-13T12:19:27.384Z"
   },
   {
    "duration": 4,
    "start_time": "2023-09-13T12:19:27.829Z"
   },
   {
    "duration": 146,
    "start_time": "2023-09-13T12:19:27.834Z"
   },
   {
    "duration": 125,
    "start_time": "2023-09-13T12:19:27.981Z"
   },
   {
    "duration": 7,
    "start_time": "2023-09-13T12:19:28.108Z"
   },
   {
    "duration": 56,
    "start_time": "2023-09-13T12:19:28.117Z"
   },
   {
    "duration": 31,
    "start_time": "2023-09-13T12:19:28.175Z"
   },
   {
    "duration": 1919,
    "start_time": "2023-09-13T12:19:28.208Z"
   },
   {
    "duration": 2564,
    "start_time": "2023-09-13T12:19:30.129Z"
   },
   {
    "duration": 63,
    "start_time": "2023-09-13T12:19:32.695Z"
   },
   {
    "duration": 26,
    "start_time": "2023-09-13T12:19:32.761Z"
   },
   {
    "duration": 3,
    "start_time": "2023-09-13T12:19:32.789Z"
   },
   {
    "duration": 17,
    "start_time": "2023-09-13T12:19:32.794Z"
   },
   {
    "duration": 21,
    "start_time": "2023-09-13T12:19:32.813Z"
   },
   {
    "duration": 12,
    "start_time": "2023-09-13T12:19:32.835Z"
   },
   {
    "duration": 13,
    "start_time": "2023-09-13T12:19:32.848Z"
   },
   {
    "duration": 18,
    "start_time": "2023-09-13T12:19:32.863Z"
   },
   {
    "duration": 27,
    "start_time": "2023-09-13T12:19:32.883Z"
   },
   {
    "duration": 31,
    "start_time": "2023-09-13T12:19:32.911Z"
   },
   {
    "duration": 10,
    "start_time": "2023-09-13T12:19:32.944Z"
   },
   {
    "duration": 6,
    "start_time": "2023-09-13T12:19:32.956Z"
   },
   {
    "duration": 163,
    "start_time": "2023-09-13T12:19:32.964Z"
   },
   {
    "duration": 14,
    "start_time": "2023-09-13T12:19:33.129Z"
   },
   {
    "duration": 10,
    "start_time": "2023-09-13T12:19:33.145Z"
   },
   {
    "duration": 40,
    "start_time": "2023-09-13T12:19:33.157Z"
   },
   {
    "duration": 13,
    "start_time": "2023-09-13T12:19:33.199Z"
   },
   {
    "duration": 30,
    "start_time": "2023-09-13T12:19:33.214Z"
   },
   {
    "duration": 5,
    "start_time": "2023-09-13T12:19:33.246Z"
   },
   {
    "duration": 12,
    "start_time": "2023-09-13T12:19:33.252Z"
   },
   {
    "duration": 20,
    "start_time": "2023-09-13T12:19:33.266Z"
   },
   {
    "duration": 23,
    "start_time": "2023-09-13T12:19:33.287Z"
   },
   {
    "duration": 33,
    "start_time": "2023-09-13T12:19:33.312Z"
   },
   {
    "duration": 5,
    "start_time": "2023-09-13T12:19:33.346Z"
   },
   {
    "duration": 7,
    "start_time": "2023-09-13T12:19:33.353Z"
   },
   {
    "duration": 18,
    "start_time": "2023-09-13T12:19:33.362Z"
   },
   {
    "duration": 11,
    "start_time": "2023-09-13T12:19:33.381Z"
   },
   {
    "duration": 11,
    "start_time": "2023-09-13T12:19:33.394Z"
   },
   {
    "duration": 58,
    "start_time": "2023-09-13T12:19:33.409Z"
   },
   {
    "duration": 46,
    "start_time": "2023-09-13T12:19:33.468Z"
   },
   {
    "duration": 1874,
    "start_time": "2023-09-13T12:19:33.516Z"
   },
   {
    "duration": 17,
    "start_time": "2023-09-13T12:19:35.391Z"
   },
   {
    "duration": 88,
    "start_time": "2023-09-13T12:19:35.409Z"
   },
   {
    "duration": 11,
    "start_time": "2023-09-13T12:19:35.499Z"
   },
   {
    "duration": 30,
    "start_time": "2023-09-13T12:19:35.512Z"
   },
   {
    "duration": 28,
    "start_time": "2023-09-13T12:19:35.543Z"
   },
   {
    "duration": 28,
    "start_time": "2023-09-13T12:19:35.572Z"
   },
   {
    "duration": 161,
    "start_time": "2023-09-13T12:19:35.602Z"
   },
   {
    "duration": 17,
    "start_time": "2023-09-13T12:19:35.765Z"
   },
   {
    "duration": 13,
    "start_time": "2023-09-13T12:19:35.784Z"
   },
   {
    "duration": 18,
    "start_time": "2023-09-13T12:19:35.799Z"
   },
   {
    "duration": 39,
    "start_time": "2023-09-13T12:19:35.818Z"
   },
   {
    "duration": 5,
    "start_time": "2023-09-13T12:19:35.859Z"
   },
   {
    "duration": 168,
    "start_time": "2023-09-13T12:19:35.866Z"
   },
   {
    "duration": 19,
    "start_time": "2023-09-13T12:19:36.036Z"
   },
   {
    "duration": 23,
    "start_time": "2023-09-13T12:19:36.056Z"
   },
   {
    "duration": 67,
    "start_time": "2023-09-13T12:19:36.081Z"
   },
   {
    "duration": 10,
    "start_time": "2023-09-13T12:19:36.150Z"
   },
   {
    "duration": 28,
    "start_time": "2023-09-13T12:19:36.161Z"
   },
   {
    "duration": 11,
    "start_time": "2023-09-13T12:19:36.190Z"
   },
   {
    "duration": 5,
    "start_time": "2023-09-13T12:19:36.202Z"
   },
   {
    "duration": 1206,
    "start_time": "2023-09-13T12:19:36.209Z"
   },
   {
    "duration": 3,
    "start_time": "2023-09-13T12:19:37.417Z"
   },
   {
    "duration": 33,
    "start_time": "2023-09-13T12:19:37.421Z"
   },
   {
    "duration": 52,
    "start_time": "2023-09-13T12:19:37.456Z"
   },
   {
    "duration": 22,
    "start_time": "2023-09-13T12:19:37.510Z"
   },
   {
    "duration": 1998,
    "start_time": "2023-09-13T12:19:37.534Z"
   },
   {
    "duration": 53,
    "start_time": "2023-09-13T12:19:39.533Z"
   },
   {
    "duration": 201,
    "start_time": "2023-09-13T12:19:39.588Z"
   },
   {
    "duration": 395,
    "start_time": "2023-09-13T12:19:39.791Z"
   },
   {
    "duration": 1502,
    "start_time": "2023-09-13T12:21:10.409Z"
   },
   {
    "duration": 3,
    "start_time": "2023-09-13T12:21:11.913Z"
   },
   {
    "duration": 46,
    "start_time": "2023-09-13T12:21:11.917Z"
   },
   {
    "duration": 245,
    "start_time": "2023-09-13T12:21:11.965Z"
   },
   {
    "duration": 4,
    "start_time": "2023-09-13T12:21:12.213Z"
   },
   {
    "duration": 179,
    "start_time": "2023-09-13T12:21:12.219Z"
   },
   {
    "duration": 120,
    "start_time": "2023-09-13T12:21:12.400Z"
   },
   {
    "duration": 6,
    "start_time": "2023-09-13T12:21:12.521Z"
   },
   {
    "duration": 63,
    "start_time": "2023-09-13T12:21:12.528Z"
   },
   {
    "duration": 30,
    "start_time": "2023-09-13T12:21:12.593Z"
   },
   {
    "duration": 2054,
    "start_time": "2023-09-13T12:21:12.625Z"
   },
   {
    "duration": 2395,
    "start_time": "2023-09-13T12:21:14.682Z"
   },
   {
    "duration": 106,
    "start_time": "2023-09-13T12:21:17.080Z"
   },
   {
    "duration": 34,
    "start_time": "2023-09-13T12:21:17.190Z"
   },
   {
    "duration": 21,
    "start_time": "2023-09-13T12:21:17.226Z"
   },
   {
    "duration": 39,
    "start_time": "2023-09-13T12:21:17.249Z"
   },
   {
    "duration": 16,
    "start_time": "2023-09-13T12:21:17.290Z"
   },
   {
    "duration": 33,
    "start_time": "2023-09-13T12:21:17.308Z"
   },
   {
    "duration": 26,
    "start_time": "2023-09-13T12:21:17.343Z"
   },
   {
    "duration": 128,
    "start_time": "2023-09-13T12:21:17.371Z"
   },
   {
    "duration": 26,
    "start_time": "2023-09-13T12:21:17.500Z"
   },
   {
    "duration": 43,
    "start_time": "2023-09-13T12:21:17.528Z"
   },
   {
    "duration": 9,
    "start_time": "2023-09-13T12:21:17.572Z"
   },
   {
    "duration": 21,
    "start_time": "2023-09-13T12:21:17.583Z"
   },
   {
    "duration": 177,
    "start_time": "2023-09-13T12:21:17.605Z"
   },
   {
    "duration": 7,
    "start_time": "2023-09-13T12:21:17.783Z"
   },
   {
    "duration": 43,
    "start_time": "2023-09-13T12:21:17.792Z"
   },
   {
    "duration": 36,
    "start_time": "2023-09-13T12:21:17.837Z"
   },
   {
    "duration": 14,
    "start_time": "2023-09-13T12:21:17.874Z"
   },
   {
    "duration": 40,
    "start_time": "2023-09-13T12:21:17.889Z"
   },
   {
    "duration": 23,
    "start_time": "2023-09-13T12:21:17.930Z"
   },
   {
    "duration": 51,
    "start_time": "2023-09-13T12:21:17.955Z"
   },
   {
    "duration": 29,
    "start_time": "2023-09-13T12:21:18.008Z"
   },
   {
    "duration": 26,
    "start_time": "2023-09-13T12:21:18.039Z"
   },
   {
    "duration": 32,
    "start_time": "2023-09-13T12:21:18.066Z"
   },
   {
    "duration": 22,
    "start_time": "2023-09-13T12:21:18.100Z"
   },
   {
    "duration": 26,
    "start_time": "2023-09-13T12:21:18.123Z"
   },
   {
    "duration": 45,
    "start_time": "2023-09-13T12:21:18.151Z"
   },
   {
    "duration": 19,
    "start_time": "2023-09-13T12:21:18.198Z"
   },
   {
    "duration": 19,
    "start_time": "2023-09-13T12:21:18.219Z"
   },
   {
    "duration": 42,
    "start_time": "2023-09-13T12:21:18.243Z"
   },
   {
    "duration": 49,
    "start_time": "2023-09-13T12:21:18.287Z"
   },
   {
    "duration": 1947,
    "start_time": "2023-09-13T12:21:18.338Z"
   },
   {
    "duration": 17,
    "start_time": "2023-09-13T12:21:20.287Z"
   },
   {
    "duration": 115,
    "start_time": "2023-09-13T12:21:20.306Z"
   },
   {
    "duration": 13,
    "start_time": "2023-09-13T12:21:20.423Z"
   },
   {
    "duration": 24,
    "start_time": "2023-09-13T12:21:20.445Z"
   },
   {
    "duration": 18,
    "start_time": "2023-09-13T12:21:20.471Z"
   },
   {
    "duration": 19,
    "start_time": "2023-09-13T12:21:20.491Z"
   },
   {
    "duration": 166,
    "start_time": "2023-09-13T12:21:20.512Z"
   },
   {
    "duration": 19,
    "start_time": "2023-09-13T12:21:20.680Z"
   },
   {
    "duration": 32,
    "start_time": "2023-09-13T12:21:20.703Z"
   },
   {
    "duration": 54,
    "start_time": "2023-09-13T12:21:20.737Z"
   },
   {
    "duration": 70,
    "start_time": "2023-09-13T12:21:20.793Z"
   },
   {
    "duration": 10,
    "start_time": "2023-09-13T12:21:20.864Z"
   },
   {
    "duration": 203,
    "start_time": "2023-09-13T12:21:20.876Z"
   },
   {
    "duration": 34,
    "start_time": "2023-09-13T12:21:21.081Z"
   },
   {
    "duration": 8,
    "start_time": "2023-09-13T12:21:21.117Z"
   },
   {
    "duration": 39,
    "start_time": "2023-09-13T12:21:21.127Z"
   },
   {
    "duration": 32,
    "start_time": "2023-09-13T12:21:21.168Z"
   },
   {
    "duration": 18,
    "start_time": "2023-09-13T12:21:21.203Z"
   },
   {
    "duration": 6,
    "start_time": "2023-09-13T12:21:21.223Z"
   },
   {
    "duration": 13,
    "start_time": "2023-09-13T12:21:21.231Z"
   },
   {
    "duration": 1262,
    "start_time": "2023-09-13T12:21:21.246Z"
   },
   {
    "duration": 3,
    "start_time": "2023-09-13T12:21:22.510Z"
   },
   {
    "duration": 64,
    "start_time": "2023-09-13T12:21:22.515Z"
   },
   {
    "duration": 48,
    "start_time": "2023-09-13T12:21:22.580Z"
   },
   {
    "duration": 32,
    "start_time": "2023-09-13T12:21:22.630Z"
   },
   {
    "duration": 2528,
    "start_time": "2023-09-13T12:21:22.664Z"
   },
   {
    "duration": 58,
    "start_time": "2023-09-13T12:21:25.193Z"
   },
   {
    "duration": 213,
    "start_time": "2023-09-13T12:21:25.252Z"
   },
   {
    "duration": 423,
    "start_time": "2023-09-13T12:21:25.467Z"
   },
   {
    "duration": 351999,
    "start_time": "2023-09-13T12:21:25.892Z"
   },
   {
    "duration": 725823,
    "start_time": "2023-09-13T12:27:17.893Z"
   },
   {
    "duration": 238532,
    "start_time": "2023-09-13T12:39:23.718Z"
   },
   {
    "duration": 251,
    "start_time": "2023-09-13T12:43:22.253Z"
   },
   {
    "duration": 3,
    "start_time": "2023-09-13T12:43:22.506Z"
   },
   {
    "duration": 18,
    "start_time": "2023-09-13T12:43:22.510Z"
   },
   {
    "duration": 38,
    "start_time": "2023-09-13T12:43:22.529Z"
   },
   {
    "duration": 1308,
    "start_time": "2023-09-13T12:43:22.569Z"
   },
   {
    "duration": 4,
    "start_time": "2023-09-13T12:43:23.879Z"
   },
   {
    "duration": 14,
    "start_time": "2023-09-13T12:43:23.884Z"
   },
   {
    "duration": 114,
    "start_time": "2023-09-13T12:43:23.900Z"
   },
   {
    "duration": 33,
    "start_time": "2023-09-13T12:43:24.016Z"
   },
   {
    "duration": 1873,
    "start_time": "2023-09-14T07:05:35.680Z"
   },
   {
    "duration": 3,
    "start_time": "2023-09-14T07:05:37.556Z"
   },
   {
    "duration": 191,
    "start_time": "2023-09-14T07:05:37.561Z"
   },
   {
    "duration": 700,
    "start_time": "2023-09-14T07:05:37.754Z"
   },
   {
    "duration": 5,
    "start_time": "2023-09-14T07:05:38.456Z"
   },
   {
    "duration": 515,
    "start_time": "2023-09-14T07:05:38.463Z"
   },
   {
    "duration": 179,
    "start_time": "2023-09-14T07:05:38.980Z"
   },
   {
    "duration": 87,
    "start_time": "2023-09-14T07:05:39.161Z"
   },
   {
    "duration": 201,
    "start_time": "2023-09-14T07:05:39.250Z"
   },
   {
    "duration": 214,
    "start_time": "2023-09-14T07:05:39.453Z"
   },
   {
    "duration": 2545,
    "start_time": "2023-09-14T07:05:39.669Z"
   },
   {
    "duration": 2659,
    "start_time": "2023-09-14T07:05:42.216Z"
   },
   {
    "duration": 89,
    "start_time": "2023-09-14T07:05:44.877Z"
   },
   {
    "duration": 26,
    "start_time": "2023-09-14T07:05:44.969Z"
   },
   {
    "duration": 10,
    "start_time": "2023-09-14T07:05:44.997Z"
   },
   {
    "duration": 75,
    "start_time": "2023-09-14T07:05:45.009Z"
   },
   {
    "duration": 109,
    "start_time": "2023-09-14T07:05:45.086Z"
   },
   {
    "duration": 101,
    "start_time": "2023-09-14T07:05:45.197Z"
   },
   {
    "duration": 49,
    "start_time": "2023-09-14T07:05:45.299Z"
   },
   {
    "duration": 193,
    "start_time": "2023-09-14T07:05:45.350Z"
   },
   {
    "duration": 29,
    "start_time": "2023-09-14T07:05:45.546Z"
   },
   {
    "duration": 171,
    "start_time": "2023-09-14T07:05:45.577Z"
   },
   {
    "duration": 0,
    "start_time": "2023-09-14T07:05:45.751Z"
   },
   {
    "duration": 0,
    "start_time": "2023-09-14T07:05:45.753Z"
   },
   {
    "duration": 0,
    "start_time": "2023-09-14T07:05:45.754Z"
   },
   {
    "duration": 0,
    "start_time": "2023-09-14T07:05:45.755Z"
   },
   {
    "duration": 0,
    "start_time": "2023-09-14T07:05:45.756Z"
   },
   {
    "duration": 0,
    "start_time": "2023-09-14T07:05:45.757Z"
   },
   {
    "duration": 0,
    "start_time": "2023-09-14T07:05:45.758Z"
   },
   {
    "duration": 0,
    "start_time": "2023-09-14T07:05:45.759Z"
   },
   {
    "duration": 0,
    "start_time": "2023-09-14T07:05:45.760Z"
   },
   {
    "duration": 0,
    "start_time": "2023-09-14T07:05:45.762Z"
   },
   {
    "duration": 0,
    "start_time": "2023-09-14T07:05:45.763Z"
   },
   {
    "duration": 0,
    "start_time": "2023-09-14T07:05:45.764Z"
   },
   {
    "duration": 0,
    "start_time": "2023-09-14T07:05:45.765Z"
   },
   {
    "duration": 0,
    "start_time": "2023-09-14T07:05:45.766Z"
   },
   {
    "duration": 0,
    "start_time": "2023-09-14T07:05:45.767Z"
   },
   {
    "duration": 0,
    "start_time": "2023-09-14T07:05:45.768Z"
   },
   {
    "duration": 0,
    "start_time": "2023-09-14T07:05:45.769Z"
   },
   {
    "duration": 0,
    "start_time": "2023-09-14T07:05:45.771Z"
   },
   {
    "duration": 0,
    "start_time": "2023-09-14T07:05:45.772Z"
   },
   {
    "duration": 0,
    "start_time": "2023-09-14T07:05:45.773Z"
   },
   {
    "duration": 0,
    "start_time": "2023-09-14T07:05:45.774Z"
   },
   {
    "duration": 0,
    "start_time": "2023-09-14T07:05:45.775Z"
   },
   {
    "duration": 0,
    "start_time": "2023-09-14T07:05:45.776Z"
   },
   {
    "duration": 0,
    "start_time": "2023-09-14T07:05:45.777Z"
   },
   {
    "duration": 0,
    "start_time": "2023-09-14T07:05:45.830Z"
   },
   {
    "duration": 0,
    "start_time": "2023-09-14T07:05:45.835Z"
   },
   {
    "duration": 0,
    "start_time": "2023-09-14T07:05:45.837Z"
   },
   {
    "duration": 0,
    "start_time": "2023-09-14T07:05:45.839Z"
   },
   {
    "duration": 0,
    "start_time": "2023-09-14T07:05:45.841Z"
   },
   {
    "duration": 0,
    "start_time": "2023-09-14T07:05:45.843Z"
   },
   {
    "duration": 0,
    "start_time": "2023-09-14T07:05:45.846Z"
   },
   {
    "duration": 0,
    "start_time": "2023-09-14T07:05:45.847Z"
   },
   {
    "duration": 0,
    "start_time": "2023-09-14T07:05:45.849Z"
   },
   {
    "duration": 0,
    "start_time": "2023-09-14T07:05:45.850Z"
   },
   {
    "duration": 0,
    "start_time": "2023-09-14T07:05:45.851Z"
   },
   {
    "duration": 0,
    "start_time": "2023-09-14T07:05:45.852Z"
   },
   {
    "duration": 0,
    "start_time": "2023-09-14T07:05:45.853Z"
   },
   {
    "duration": 0,
    "start_time": "2023-09-14T07:05:45.854Z"
   },
   {
    "duration": 0,
    "start_time": "2023-09-14T07:05:45.856Z"
   },
   {
    "duration": 0,
    "start_time": "2023-09-14T07:05:45.857Z"
   },
   {
    "duration": 0,
    "start_time": "2023-09-14T07:05:45.859Z"
   },
   {
    "duration": 0,
    "start_time": "2023-09-14T07:05:45.860Z"
   },
   {
    "duration": 0,
    "start_time": "2023-09-14T07:05:45.862Z"
   },
   {
    "duration": 0,
    "start_time": "2023-09-14T07:05:45.864Z"
   },
   {
    "duration": 0,
    "start_time": "2023-09-14T07:05:45.865Z"
   },
   {
    "duration": 0,
    "start_time": "2023-09-14T07:05:45.925Z"
   },
   {
    "duration": 0,
    "start_time": "2023-09-14T07:05:45.927Z"
   },
   {
    "duration": 0,
    "start_time": "2023-09-14T07:05:45.929Z"
   },
   {
    "duration": 0,
    "start_time": "2023-09-14T07:05:45.931Z"
   },
   {
    "duration": 0,
    "start_time": "2023-09-14T07:05:45.933Z"
   },
   {
    "duration": 0,
    "start_time": "2023-09-14T07:05:45.935Z"
   },
   {
    "duration": 0,
    "start_time": "2023-09-14T07:05:45.937Z"
   },
   {
    "duration": 0,
    "start_time": "2023-09-14T07:05:45.938Z"
   },
   {
    "duration": 0,
    "start_time": "2023-09-14T07:05:45.939Z"
   },
   {
    "duration": 0,
    "start_time": "2023-09-14T07:05:45.941Z"
   },
   {
    "duration": 0,
    "start_time": "2023-09-14T07:05:45.942Z"
   },
   {
    "duration": 0,
    "start_time": "2023-09-14T07:05:45.943Z"
   },
   {
    "duration": 0,
    "start_time": "2023-09-14T07:05:45.944Z"
   },
   {
    "duration": 0,
    "start_time": "2023-09-14T07:05:45.946Z"
   },
   {
    "duration": 0,
    "start_time": "2023-09-14T07:05:45.947Z"
   },
   {
    "duration": 0,
    "start_time": "2023-09-14T07:05:45.948Z"
   },
   {
    "duration": 0,
    "start_time": "2023-09-14T07:05:45.950Z"
   },
   {
    "duration": 0,
    "start_time": "2023-09-14T07:05:45.951Z"
   },
   {
    "duration": 68,
    "start_time": "2023-09-14T07:06:20.350Z"
   },
   {
    "duration": 1636,
    "start_time": "2023-09-14T07:16:09.327Z"
   },
   {
    "duration": 2,
    "start_time": "2023-09-14T07:16:10.965Z"
   },
   {
    "duration": 35,
    "start_time": "2023-09-14T07:16:10.969Z"
   },
   {
    "duration": 307,
    "start_time": "2023-09-14T07:16:11.007Z"
   },
   {
    "duration": 9,
    "start_time": "2023-09-14T07:16:11.316Z"
   },
   {
    "duration": 257,
    "start_time": "2023-09-14T07:16:11.328Z"
   },
   {
    "duration": 130,
    "start_time": "2023-09-14T07:16:11.587Z"
   },
   {
    "duration": 10,
    "start_time": "2023-09-14T07:16:11.725Z"
   },
   {
    "duration": 74,
    "start_time": "2023-09-14T07:16:11.738Z"
   },
   {
    "duration": 43,
    "start_time": "2023-09-14T07:16:11.815Z"
   },
   {
    "duration": 2239,
    "start_time": "2023-09-14T07:16:11.859Z"
   },
   {
    "duration": 2564,
    "start_time": "2023-09-14T07:16:14.100Z"
   },
   {
    "duration": 76,
    "start_time": "2023-09-14T07:16:16.666Z"
   },
   {
    "duration": 34,
    "start_time": "2023-09-14T07:16:16.745Z"
   },
   {
    "duration": 19,
    "start_time": "2023-09-14T07:16:16.781Z"
   },
   {
    "duration": 26,
    "start_time": "2023-09-14T07:16:16.802Z"
   },
   {
    "duration": 31,
    "start_time": "2023-09-14T07:16:16.830Z"
   },
   {
    "duration": 28,
    "start_time": "2023-09-14T07:16:16.862Z"
   },
   {
    "duration": 34,
    "start_time": "2023-09-14T07:16:16.893Z"
   },
   {
    "duration": 22,
    "start_time": "2023-09-14T07:16:16.930Z"
   },
   {
    "duration": 93,
    "start_time": "2023-09-14T07:16:16.954Z"
   },
   {
    "duration": 0,
    "start_time": "2023-09-14T07:16:17.174Z"
   },
   {
    "duration": 1,
    "start_time": "2023-09-14T07:16:17.175Z"
   },
   {
    "duration": 0,
    "start_time": "2023-09-14T07:16:17.177Z"
   },
   {
    "duration": 0,
    "start_time": "2023-09-14T07:16:17.179Z"
   },
   {
    "duration": 0,
    "start_time": "2023-09-14T07:16:17.180Z"
   },
   {
    "duration": 0,
    "start_time": "2023-09-14T07:16:17.181Z"
   },
   {
    "duration": 0,
    "start_time": "2023-09-14T07:16:17.183Z"
   },
   {
    "duration": 0,
    "start_time": "2023-09-14T07:16:17.185Z"
   },
   {
    "duration": 0,
    "start_time": "2023-09-14T07:16:17.186Z"
   },
   {
    "duration": 0,
    "start_time": "2023-09-14T07:16:17.188Z"
   },
   {
    "duration": 0,
    "start_time": "2023-09-14T07:16:17.190Z"
   },
   {
    "duration": 0,
    "start_time": "2023-09-14T07:16:17.191Z"
   },
   {
    "duration": 0,
    "start_time": "2023-09-14T07:16:17.192Z"
   },
   {
    "duration": 0,
    "start_time": "2023-09-14T07:16:17.225Z"
   },
   {
    "duration": 0,
    "start_time": "2023-09-14T07:16:17.227Z"
   },
   {
    "duration": 0,
    "start_time": "2023-09-14T07:16:17.230Z"
   },
   {
    "duration": 0,
    "start_time": "2023-09-14T07:16:17.231Z"
   },
   {
    "duration": 0,
    "start_time": "2023-09-14T07:16:17.233Z"
   },
   {
    "duration": 0,
    "start_time": "2023-09-14T07:16:17.234Z"
   },
   {
    "duration": 0,
    "start_time": "2023-09-14T07:16:17.235Z"
   },
   {
    "duration": 0,
    "start_time": "2023-09-14T07:16:17.237Z"
   },
   {
    "duration": 0,
    "start_time": "2023-09-14T07:16:17.238Z"
   },
   {
    "duration": 0,
    "start_time": "2023-09-14T07:16:17.240Z"
   },
   {
    "duration": 0,
    "start_time": "2023-09-14T07:16:17.241Z"
   },
   {
    "duration": 0,
    "start_time": "2023-09-14T07:16:17.242Z"
   },
   {
    "duration": 0,
    "start_time": "2023-09-14T07:16:17.244Z"
   },
   {
    "duration": 0,
    "start_time": "2023-09-14T07:16:17.245Z"
   },
   {
    "duration": 0,
    "start_time": "2023-09-14T07:16:17.247Z"
   },
   {
    "duration": 0,
    "start_time": "2023-09-14T07:16:17.248Z"
   },
   {
    "duration": 0,
    "start_time": "2023-09-14T07:16:17.250Z"
   },
   {
    "duration": 0,
    "start_time": "2023-09-14T07:16:17.251Z"
   },
   {
    "duration": 0,
    "start_time": "2023-09-14T07:16:17.253Z"
   },
   {
    "duration": 0,
    "start_time": "2023-09-14T07:16:17.254Z"
   },
   {
    "duration": 0,
    "start_time": "2023-09-14T07:16:17.255Z"
   },
   {
    "duration": 1,
    "start_time": "2023-09-14T07:16:17.256Z"
   },
   {
    "duration": 0,
    "start_time": "2023-09-14T07:16:17.258Z"
   },
   {
    "duration": 0,
    "start_time": "2023-09-14T07:16:17.259Z"
   },
   {
    "duration": 0,
    "start_time": "2023-09-14T07:16:17.261Z"
   },
   {
    "duration": 0,
    "start_time": "2023-09-14T07:16:17.262Z"
   },
   {
    "duration": 0,
    "start_time": "2023-09-14T07:16:17.263Z"
   },
   {
    "duration": 0,
    "start_time": "2023-09-14T07:16:17.265Z"
   },
   {
    "duration": 0,
    "start_time": "2023-09-14T07:16:17.266Z"
   },
   {
    "duration": 0,
    "start_time": "2023-09-14T07:16:17.325Z"
   },
   {
    "duration": 0,
    "start_time": "2023-09-14T07:16:17.327Z"
   },
   {
    "duration": 0,
    "start_time": "2023-09-14T07:16:17.329Z"
   },
   {
    "duration": 0,
    "start_time": "2023-09-14T07:16:17.330Z"
   },
   {
    "duration": 0,
    "start_time": "2023-09-14T07:16:17.332Z"
   },
   {
    "duration": 0,
    "start_time": "2023-09-14T07:16:17.334Z"
   },
   {
    "duration": 0,
    "start_time": "2023-09-14T07:16:17.336Z"
   },
   {
    "duration": 0,
    "start_time": "2023-09-14T07:16:17.338Z"
   },
   {
    "duration": 0,
    "start_time": "2023-09-14T07:16:17.339Z"
   },
   {
    "duration": 0,
    "start_time": "2023-09-14T07:16:17.342Z"
   },
   {
    "duration": 0,
    "start_time": "2023-09-14T07:16:17.344Z"
   },
   {
    "duration": 0,
    "start_time": "2023-09-14T07:16:17.346Z"
   },
   {
    "duration": 0,
    "start_time": "2023-09-14T07:16:17.347Z"
   },
   {
    "duration": 0,
    "start_time": "2023-09-14T07:16:17.348Z"
   },
   {
    "duration": 0,
    "start_time": "2023-09-14T07:16:17.350Z"
   },
   {
    "duration": 0,
    "start_time": "2023-09-14T07:16:17.351Z"
   },
   {
    "duration": 0,
    "start_time": "2023-09-14T07:16:17.352Z"
   },
   {
    "duration": 0,
    "start_time": "2023-09-14T07:16:17.353Z"
   },
   {
    "duration": 0,
    "start_time": "2023-09-14T07:16:17.354Z"
   },
   {
    "duration": 0,
    "start_time": "2023-09-14T07:16:17.355Z"
   },
   {
    "duration": 0,
    "start_time": "2023-09-14T07:16:17.356Z"
   },
   {
    "duration": 0,
    "start_time": "2023-09-14T07:16:17.357Z"
   },
   {
    "duration": 0,
    "start_time": "2023-09-14T07:16:17.358Z"
   },
   {
    "duration": 95,
    "start_time": "2023-09-14T07:17:07.228Z"
   },
   {
    "duration": 115,
    "start_time": "2023-09-14T07:17:27.188Z"
   },
   {
    "duration": 10,
    "start_time": "2023-09-14T07:18:02.127Z"
   },
   {
    "duration": 1640,
    "start_time": "2023-09-14T07:18:44.568Z"
   },
   {
    "duration": 3,
    "start_time": "2023-09-14T07:18:46.210Z"
   },
   {
    "duration": 14,
    "start_time": "2023-09-14T07:18:46.214Z"
   },
   {
    "duration": 271,
    "start_time": "2023-09-14T07:18:46.233Z"
   },
   {
    "duration": 4,
    "start_time": "2023-09-14T07:18:46.506Z"
   },
   {
    "duration": 183,
    "start_time": "2023-09-14T07:18:46.511Z"
   },
   {
    "duration": 134,
    "start_time": "2023-09-14T07:18:46.697Z"
   },
   {
    "duration": 9,
    "start_time": "2023-09-14T07:18:46.833Z"
   },
   {
    "duration": 35,
    "start_time": "2023-09-14T07:18:46.845Z"
   },
   {
    "duration": 72,
    "start_time": "2023-09-14T07:18:46.884Z"
   },
   {
    "duration": 2156,
    "start_time": "2023-09-14T07:18:46.958Z"
   },
   {
    "duration": 2426,
    "start_time": "2023-09-14T07:18:49.116Z"
   },
   {
    "duration": 57,
    "start_time": "2023-09-14T07:18:51.545Z"
   },
   {
    "duration": 57,
    "start_time": "2023-09-14T07:18:51.603Z"
   },
   {
    "duration": 3,
    "start_time": "2023-09-14T07:18:51.662Z"
   },
   {
    "duration": 17,
    "start_time": "2023-09-14T07:18:51.667Z"
   },
   {
    "duration": 26,
    "start_time": "2023-09-14T07:18:51.686Z"
   },
   {
    "duration": 23,
    "start_time": "2023-09-14T07:18:51.713Z"
   },
   {
    "duration": 68,
    "start_time": "2023-09-14T07:18:51.738Z"
   },
   {
    "duration": 12,
    "start_time": "2023-09-14T07:18:51.808Z"
   },
   {
    "duration": 20,
    "start_time": "2023-09-14T07:18:51.822Z"
   },
   {
    "duration": 150,
    "start_time": "2023-09-14T07:18:51.844Z"
   },
   {
    "duration": 66,
    "start_time": "2023-09-14T07:18:51.996Z"
   },
   {
    "duration": 23,
    "start_time": "2023-09-14T07:18:52.064Z"
   },
   {
    "duration": 10,
    "start_time": "2023-09-14T07:18:52.089Z"
   },
   {
    "duration": 26,
    "start_time": "2023-09-14T07:18:52.100Z"
   },
   {
    "duration": 179,
    "start_time": "2023-09-14T07:18:52.128Z"
   },
   {
    "duration": 13,
    "start_time": "2023-09-14T07:18:52.311Z"
   },
   {
    "duration": 20,
    "start_time": "2023-09-14T07:18:52.325Z"
   },
   {
    "duration": 30,
    "start_time": "2023-09-14T07:18:52.347Z"
   },
   {
    "duration": 13,
    "start_time": "2023-09-14T07:18:52.379Z"
   },
   {
    "duration": 31,
    "start_time": "2023-09-14T07:18:52.394Z"
   },
   {
    "duration": 5,
    "start_time": "2023-09-14T07:18:52.427Z"
   },
   {
    "duration": 5,
    "start_time": "2023-09-14T07:18:52.434Z"
   },
   {
    "duration": 10,
    "start_time": "2023-09-14T07:18:52.441Z"
   },
   {
    "duration": 24,
    "start_time": "2023-09-14T07:18:52.453Z"
   },
   {
    "duration": 54,
    "start_time": "2023-09-14T07:18:52.479Z"
   },
   {
    "duration": 6,
    "start_time": "2023-09-14T07:18:52.535Z"
   },
   {
    "duration": 17,
    "start_time": "2023-09-14T07:18:52.543Z"
   },
   {
    "duration": 24,
    "start_time": "2023-09-14T07:18:52.562Z"
   },
   {
    "duration": 20,
    "start_time": "2023-09-14T07:18:52.588Z"
   },
   {
    "duration": 17,
    "start_time": "2023-09-14T07:18:52.610Z"
   },
   {
    "duration": 40,
    "start_time": "2023-09-14T07:18:52.630Z"
   },
   {
    "duration": 66,
    "start_time": "2023-09-14T07:18:52.672Z"
   },
   {
    "duration": 1905,
    "start_time": "2023-09-14T07:18:52.740Z"
   },
   {
    "duration": 17,
    "start_time": "2023-09-14T07:18:54.646Z"
   },
   {
    "duration": 93,
    "start_time": "2023-09-14T07:18:54.664Z"
   },
   {
    "duration": 11,
    "start_time": "2023-09-14T07:18:54.758Z"
   },
   {
    "duration": 23,
    "start_time": "2023-09-14T07:18:54.771Z"
   },
   {
    "duration": 18,
    "start_time": "2023-09-14T07:18:54.796Z"
   },
   {
    "duration": 12,
    "start_time": "2023-09-14T07:18:54.816Z"
   },
   {
    "duration": 168,
    "start_time": "2023-09-14T07:18:54.830Z"
   },
   {
    "duration": 28,
    "start_time": "2023-09-14T07:18:54.999Z"
   },
   {
    "duration": 12,
    "start_time": "2023-09-14T07:18:55.029Z"
   },
   {
    "duration": 16,
    "start_time": "2023-09-14T07:18:55.043Z"
   },
   {
    "duration": 60,
    "start_time": "2023-09-14T07:18:55.061Z"
   },
   {
    "duration": 14,
    "start_time": "2023-09-14T07:18:55.123Z"
   },
   {
    "duration": 162,
    "start_time": "2023-09-14T07:18:55.139Z"
   },
   {
    "duration": 31,
    "start_time": "2023-09-14T07:18:55.303Z"
   },
   {
    "duration": 10,
    "start_time": "2023-09-14T07:18:55.336Z"
   },
   {
    "duration": 36,
    "start_time": "2023-09-14T07:18:55.347Z"
   },
   {
    "duration": 12,
    "start_time": "2023-09-14T07:18:55.385Z"
   },
   {
    "duration": 5,
    "start_time": "2023-09-14T07:18:55.399Z"
   },
   {
    "duration": 22,
    "start_time": "2023-09-14T07:18:55.406Z"
   },
   {
    "duration": 10,
    "start_time": "2023-09-14T07:18:55.430Z"
   },
   {
    "duration": 1344,
    "start_time": "2023-09-14T07:18:55.442Z"
   },
   {
    "duration": 4,
    "start_time": "2023-09-14T07:18:56.787Z"
   },
   {
    "duration": 7,
    "start_time": "2023-09-14T07:18:56.793Z"
   },
   {
    "duration": 28,
    "start_time": "2023-09-14T07:18:56.802Z"
   },
   {
    "duration": 11,
    "start_time": "2023-09-14T07:18:56.832Z"
   },
   {
    "duration": 2306,
    "start_time": "2023-09-14T07:18:56.845Z"
   },
   {
    "duration": 51,
    "start_time": "2023-09-14T07:18:59.153Z"
   },
   {
    "duration": 226,
    "start_time": "2023-09-14T07:18:59.206Z"
   },
   {
    "duration": 426,
    "start_time": "2023-09-14T07:18:59.434Z"
   },
   {
    "duration": 133,
    "start_time": "2023-09-14T07:18:59.862Z"
   },
   {
    "duration": 0,
    "start_time": "2023-09-14T07:18:59.997Z"
   },
   {
    "duration": 0,
    "start_time": "2023-09-14T07:18:59.998Z"
   },
   {
    "duration": 0,
    "start_time": "2023-09-14T07:18:59.999Z"
   },
   {
    "duration": 0,
    "start_time": "2023-09-14T07:19:00.001Z"
   },
   {
    "duration": 0,
    "start_time": "2023-09-14T07:19:00.002Z"
   },
   {
    "duration": 0,
    "start_time": "2023-09-14T07:19:00.003Z"
   },
   {
    "duration": 0,
    "start_time": "2023-09-14T07:19:00.004Z"
   },
   {
    "duration": 0,
    "start_time": "2023-09-14T07:19:00.005Z"
   },
   {
    "duration": 0,
    "start_time": "2023-09-14T07:19:00.006Z"
   },
   {
    "duration": 0,
    "start_time": "2023-09-14T07:19:00.008Z"
   },
   {
    "duration": 0,
    "start_time": "2023-09-14T07:19:00.009Z"
   },
   {
    "duration": 1583,
    "start_time": "2023-09-14T07:23:52.317Z"
   },
   {
    "duration": 3,
    "start_time": "2023-09-14T07:23:53.902Z"
   },
   {
    "duration": 12,
    "start_time": "2023-09-14T07:23:53.906Z"
   },
   {
    "duration": 257,
    "start_time": "2023-09-14T07:23:53.921Z"
   },
   {
    "duration": 4,
    "start_time": "2023-09-14T07:23:54.179Z"
   },
   {
    "duration": 153,
    "start_time": "2023-09-14T07:23:54.185Z"
   },
   {
    "duration": 130,
    "start_time": "2023-09-14T07:23:54.340Z"
   },
   {
    "duration": 5,
    "start_time": "2023-09-14T07:23:54.472Z"
   },
   {
    "duration": 64,
    "start_time": "2023-09-14T07:23:54.479Z"
   },
   {
    "duration": 31,
    "start_time": "2023-09-14T07:23:54.547Z"
   },
   {
    "duration": 2103,
    "start_time": "2023-09-14T07:23:54.579Z"
   },
   {
    "duration": 2430,
    "start_time": "2023-09-14T07:23:56.684Z"
   },
   {
    "duration": 89,
    "start_time": "2023-09-14T07:23:59.115Z"
   },
   {
    "duration": 54,
    "start_time": "2023-09-14T07:23:59.207Z"
   },
   {
    "duration": 4,
    "start_time": "2023-09-14T07:23:59.263Z"
   },
   {
    "duration": 62,
    "start_time": "2023-09-14T07:23:59.269Z"
   },
   {
    "duration": 31,
    "start_time": "2023-09-14T07:23:59.334Z"
   },
   {
    "duration": 14,
    "start_time": "2023-09-14T07:23:59.366Z"
   },
   {
    "duration": 109,
    "start_time": "2023-09-14T07:23:59.381Z"
   },
   {
    "duration": 14,
    "start_time": "2023-09-14T07:23:59.492Z"
   },
   {
    "duration": 28,
    "start_time": "2023-09-14T07:23:59.508Z"
   },
   {
    "duration": 49,
    "start_time": "2023-09-14T07:23:59.538Z"
   },
   {
    "duration": 74,
    "start_time": "2023-09-14T07:23:59.589Z"
   },
   {
    "duration": 27,
    "start_time": "2023-09-14T07:23:59.665Z"
   },
   {
    "duration": 162,
    "start_time": "2023-09-14T07:23:59.694Z"
   },
   {
    "duration": 46,
    "start_time": "2023-09-14T07:23:59.858Z"
   },
   {
    "duration": 186,
    "start_time": "2023-09-14T07:23:59.905Z"
   },
   {
    "duration": 147,
    "start_time": "2023-09-14T07:24:00.096Z"
   },
   {
    "duration": 8,
    "start_time": "2023-09-14T07:24:00.246Z"
   },
   {
    "duration": 192,
    "start_time": "2023-09-14T07:24:00.256Z"
   },
   {
    "duration": 49,
    "start_time": "2023-09-14T07:24:00.451Z"
   },
   {
    "duration": 34,
    "start_time": "2023-09-14T07:24:00.502Z"
   },
   {
    "duration": 72,
    "start_time": "2023-09-14T07:24:00.539Z"
   },
   {
    "duration": 196,
    "start_time": "2023-09-14T07:24:00.612Z"
   },
   {
    "duration": 133,
    "start_time": "2023-09-14T07:24:00.810Z"
   },
   {
    "duration": 65,
    "start_time": "2023-09-14T07:24:00.946Z"
   },
   {
    "duration": 156,
    "start_time": "2023-09-14T07:24:01.013Z"
   },
   {
    "duration": 53,
    "start_time": "2023-09-14T07:24:01.171Z"
   },
   {
    "duration": 69,
    "start_time": "2023-09-14T07:24:01.226Z"
   },
   {
    "duration": 116,
    "start_time": "2023-09-14T07:24:01.297Z"
   },
   {
    "duration": 65,
    "start_time": "2023-09-14T07:24:01.415Z"
   },
   {
    "duration": 32,
    "start_time": "2023-09-14T07:24:01.482Z"
   },
   {
    "duration": 45,
    "start_time": "2023-09-14T07:24:01.515Z"
   },
   {
    "duration": 28,
    "start_time": "2023-09-14T07:24:01.562Z"
   },
   {
    "duration": 48,
    "start_time": "2023-09-14T07:24:01.591Z"
   },
   {
    "duration": 65,
    "start_time": "2023-09-14T07:24:01.641Z"
   },
   {
    "duration": 59,
    "start_time": "2023-09-14T07:24:01.708Z"
   },
   {
    "duration": 1998,
    "start_time": "2023-09-14T07:24:01.768Z"
   },
   {
    "duration": 17,
    "start_time": "2023-09-14T07:24:03.768Z"
   },
   {
    "duration": 433,
    "start_time": "2023-09-14T07:24:03.787Z"
   },
   {
    "duration": 36,
    "start_time": "2023-09-14T07:24:04.222Z"
   },
   {
    "duration": 35,
    "start_time": "2023-09-14T07:24:04.260Z"
   },
   {
    "duration": 21,
    "start_time": "2023-09-14T07:24:04.297Z"
   },
   {
    "duration": 44,
    "start_time": "2023-09-14T07:24:04.320Z"
   },
   {
    "duration": 204,
    "start_time": "2023-09-14T07:24:04.366Z"
   },
   {
    "duration": 19,
    "start_time": "2023-09-14T07:24:04.572Z"
   },
   {
    "duration": 208,
    "start_time": "2023-09-14T07:24:04.592Z"
   },
   {
    "duration": 282,
    "start_time": "2023-09-14T07:24:04.802Z"
   },
   {
    "duration": 100,
    "start_time": "2023-09-14T07:24:05.086Z"
   },
   {
    "duration": 235,
    "start_time": "2023-09-14T07:24:05.187Z"
   },
   {
    "duration": 397,
    "start_time": "2023-09-14T07:24:05.424Z"
   },
   {
    "duration": 28,
    "start_time": "2023-09-14T07:24:05.824Z"
   },
   {
    "duration": 46,
    "start_time": "2023-09-14T07:24:05.855Z"
   },
   {
    "duration": 26,
    "start_time": "2023-09-14T07:24:05.903Z"
   },
   {
    "duration": 16,
    "start_time": "2023-09-14T07:24:05.931Z"
   },
   {
    "duration": 39,
    "start_time": "2023-09-14T07:24:05.949Z"
   },
   {
    "duration": 175,
    "start_time": "2023-09-14T07:24:05.990Z"
   },
   {
    "duration": 75,
    "start_time": "2023-09-14T07:24:06.167Z"
   },
   {
    "duration": 1300,
    "start_time": "2023-09-14T07:24:06.244Z"
   },
   {
    "duration": 4,
    "start_time": "2023-09-14T07:24:07.546Z"
   },
   {
    "duration": 125,
    "start_time": "2023-09-14T07:24:07.552Z"
   },
   {
    "duration": 73,
    "start_time": "2023-09-14T07:24:07.679Z"
   },
   {
    "duration": 35,
    "start_time": "2023-09-14T07:24:07.754Z"
   },
   {
    "duration": 2362,
    "start_time": "2023-09-14T07:24:07.791Z"
   },
   {
    "duration": 54,
    "start_time": "2023-09-14T07:24:10.155Z"
   },
   {
    "duration": 665,
    "start_time": "2023-09-14T07:24:10.211Z"
   },
   {
    "duration": 625,
    "start_time": "2023-09-14T07:24:10.878Z"
   },
   {
    "duration": 126,
    "start_time": "2023-09-14T07:24:11.505Z"
   },
   {
    "duration": 0,
    "start_time": "2023-09-14T07:24:11.633Z"
   },
   {
    "duration": 1,
    "start_time": "2023-09-14T07:24:11.635Z"
   },
   {
    "duration": 0,
    "start_time": "2023-09-14T07:24:11.639Z"
   },
   {
    "duration": 0,
    "start_time": "2023-09-14T07:24:11.641Z"
   },
   {
    "duration": 0,
    "start_time": "2023-09-14T07:24:11.643Z"
   },
   {
    "duration": 0,
    "start_time": "2023-09-14T07:24:11.644Z"
   },
   {
    "duration": 0,
    "start_time": "2023-09-14T07:24:11.646Z"
   },
   {
    "duration": 0,
    "start_time": "2023-09-14T07:24:11.648Z"
   },
   {
    "duration": 0,
    "start_time": "2023-09-14T07:24:11.649Z"
   },
   {
    "duration": 0,
    "start_time": "2023-09-14T07:24:11.650Z"
   },
   {
    "duration": 0,
    "start_time": "2023-09-14T07:24:11.653Z"
   },
   {
    "duration": 1695,
    "start_time": "2023-09-14T07:29:51.408Z"
   },
   {
    "duration": 3,
    "start_time": "2023-09-14T07:29:53.105Z"
   },
   {
    "duration": 127,
    "start_time": "2023-09-14T07:29:53.109Z"
   },
   {
    "duration": 412,
    "start_time": "2023-09-14T07:29:53.243Z"
   },
   {
    "duration": 4,
    "start_time": "2023-09-14T07:29:53.657Z"
   },
   {
    "duration": 158,
    "start_time": "2023-09-14T07:29:53.662Z"
   },
   {
    "duration": 126,
    "start_time": "2023-09-14T07:29:53.824Z"
   },
   {
    "duration": 7,
    "start_time": "2023-09-14T07:29:53.952Z"
   },
   {
    "duration": 74,
    "start_time": "2023-09-14T07:29:53.961Z"
   },
   {
    "duration": 43,
    "start_time": "2023-09-14T07:29:54.040Z"
   },
   {
    "duration": 2409,
    "start_time": "2023-09-14T07:29:54.085Z"
   },
   {
    "duration": 2545,
    "start_time": "2023-09-14T07:29:56.496Z"
   },
   {
    "duration": 57,
    "start_time": "2023-09-14T07:29:59.043Z"
   },
   {
    "duration": 58,
    "start_time": "2023-09-14T07:29:59.102Z"
   },
   {
    "duration": 5,
    "start_time": "2023-09-14T07:29:59.163Z"
   },
   {
    "duration": 27,
    "start_time": "2023-09-14T07:29:59.170Z"
   },
   {
    "duration": 5,
    "start_time": "2023-09-14T07:29:59.199Z"
   },
   {
    "duration": 5,
    "start_time": "2023-09-14T07:29:59.206Z"
   },
   {
    "duration": 10,
    "start_time": "2023-09-14T07:29:59.225Z"
   },
   {
    "duration": 17,
    "start_time": "2023-09-14T07:29:59.238Z"
   },
   {
    "duration": 15,
    "start_time": "2023-09-14T07:29:59.257Z"
   },
   {
    "duration": 159,
    "start_time": "2023-09-14T07:29:59.273Z"
   },
   {
    "duration": 61,
    "start_time": "2023-09-14T07:29:59.434Z"
   },
   {
    "duration": 44,
    "start_time": "2023-09-14T07:29:59.496Z"
   },
   {
    "duration": 11,
    "start_time": "2023-09-14T07:29:59.542Z"
   },
   {
    "duration": 45,
    "start_time": "2023-09-14T07:29:59.554Z"
   },
   {
    "duration": 172,
    "start_time": "2023-09-14T07:29:59.601Z"
   },
   {
    "duration": 122,
    "start_time": "2023-09-14T07:29:59.778Z"
   },
   {
    "duration": 9,
    "start_time": "2023-09-14T07:29:59.903Z"
   },
   {
    "duration": 33,
    "start_time": "2023-09-14T07:29:59.924Z"
   },
   {
    "duration": 7,
    "start_time": "2023-09-14T07:29:59.959Z"
   },
   {
    "duration": 15,
    "start_time": "2023-09-14T07:29:59.967Z"
   },
   {
    "duration": 43,
    "start_time": "2023-09-14T07:29:59.984Z"
   },
   {
    "duration": 23,
    "start_time": "2023-09-14T07:30:00.031Z"
   },
   {
    "duration": 70,
    "start_time": "2023-09-14T07:30:00.056Z"
   },
   {
    "duration": 28,
    "start_time": "2023-09-14T07:30:00.129Z"
   },
   {
    "duration": 41,
    "start_time": "2023-09-14T07:30:00.159Z"
   },
   {
    "duration": 186,
    "start_time": "2023-09-14T07:30:00.203Z"
   },
   {
    "duration": 126,
    "start_time": "2023-09-14T07:30:00.391Z"
   },
   {
    "duration": 123,
    "start_time": "2023-09-14T07:30:00.519Z"
   },
   {
    "duration": 21,
    "start_time": "2023-09-14T07:30:00.645Z"
   },
   {
    "duration": 52,
    "start_time": "2023-09-14T07:30:00.668Z"
   },
   {
    "duration": 572,
    "start_time": "2023-09-14T07:30:00.722Z"
   },
   {
    "duration": 0,
    "start_time": "2023-09-14T07:30:01.296Z"
   },
   {
    "duration": 0,
    "start_time": "2023-09-14T07:30:01.297Z"
   },
   {
    "duration": 0,
    "start_time": "2023-09-14T07:30:01.299Z"
   },
   {
    "duration": 0,
    "start_time": "2023-09-14T07:30:01.300Z"
   },
   {
    "duration": 0,
    "start_time": "2023-09-14T07:30:01.301Z"
   },
   {
    "duration": 0,
    "start_time": "2023-09-14T07:30:01.302Z"
   },
   {
    "duration": 0,
    "start_time": "2023-09-14T07:30:01.303Z"
   },
   {
    "duration": 0,
    "start_time": "2023-09-14T07:30:01.305Z"
   },
   {
    "duration": 0,
    "start_time": "2023-09-14T07:30:01.305Z"
   },
   {
    "duration": 0,
    "start_time": "2023-09-14T07:30:01.306Z"
   },
   {
    "duration": 0,
    "start_time": "2023-09-14T07:30:01.307Z"
   },
   {
    "duration": 0,
    "start_time": "2023-09-14T07:30:01.308Z"
   },
   {
    "duration": 0,
    "start_time": "2023-09-14T07:30:01.309Z"
   },
   {
    "duration": 0,
    "start_time": "2023-09-14T07:30:01.310Z"
   },
   {
    "duration": 0,
    "start_time": "2023-09-14T07:30:01.311Z"
   },
   {
    "duration": 0,
    "start_time": "2023-09-14T07:30:01.312Z"
   },
   {
    "duration": 0,
    "start_time": "2023-09-14T07:30:01.313Z"
   },
   {
    "duration": 0,
    "start_time": "2023-09-14T07:30:01.315Z"
   },
   {
    "duration": 0,
    "start_time": "2023-09-14T07:30:01.316Z"
   },
   {
    "duration": 0,
    "start_time": "2023-09-14T07:30:01.317Z"
   },
   {
    "duration": 1,
    "start_time": "2023-09-14T07:30:01.318Z"
   },
   {
    "duration": 0,
    "start_time": "2023-09-14T07:30:01.320Z"
   },
   {
    "duration": 0,
    "start_time": "2023-09-14T07:30:01.321Z"
   },
   {
    "duration": 0,
    "start_time": "2023-09-14T07:30:01.322Z"
   },
   {
    "duration": 0,
    "start_time": "2023-09-14T07:30:01.324Z"
   },
   {
    "duration": 0,
    "start_time": "2023-09-14T07:30:01.325Z"
   },
   {
    "duration": 1,
    "start_time": "2023-09-14T07:30:01.325Z"
   },
   {
    "duration": 0,
    "start_time": "2023-09-14T07:30:01.326Z"
   },
   {
    "duration": 0,
    "start_time": "2023-09-14T07:30:01.327Z"
   },
   {
    "duration": 0,
    "start_time": "2023-09-14T07:30:01.328Z"
   },
   {
    "duration": 1,
    "start_time": "2023-09-14T07:30:01.331Z"
   },
   {
    "duration": 0,
    "start_time": "2023-09-14T07:30:01.334Z"
   },
   {
    "duration": 0,
    "start_time": "2023-09-14T07:30:01.335Z"
   },
   {
    "duration": 0,
    "start_time": "2023-09-14T07:30:01.338Z"
   },
   {
    "duration": 0,
    "start_time": "2023-09-14T07:30:01.341Z"
   },
   {
    "duration": 0,
    "start_time": "2023-09-14T07:30:01.344Z"
   },
   {
    "duration": 0,
    "start_time": "2023-09-14T07:30:01.346Z"
   },
   {
    "duration": 0,
    "start_time": "2023-09-14T07:30:01.347Z"
   },
   {
    "duration": 0,
    "start_time": "2023-09-14T07:30:01.349Z"
   },
   {
    "duration": 0,
    "start_time": "2023-09-14T07:30:01.351Z"
   },
   {
    "duration": 0,
    "start_time": "2023-09-14T07:30:01.352Z"
   },
   {
    "duration": 0,
    "start_time": "2023-09-14T07:30:01.353Z"
   },
   {
    "duration": 0,
    "start_time": "2023-09-14T07:30:01.354Z"
   },
   {
    "duration": 0,
    "start_time": "2023-09-14T07:30:01.355Z"
   },
   {
    "duration": 0,
    "start_time": "2023-09-14T07:30:01.356Z"
   },
   {
    "duration": 0,
    "start_time": "2023-09-14T07:30:01.357Z"
   },
   {
    "duration": 475,
    "start_time": "2023-09-14T07:31:14.961Z"
   },
   {
    "duration": 252,
    "start_time": "2023-09-14T07:31:42.313Z"
   },
   {
    "duration": 1785,
    "start_time": "2023-09-14T07:37:21.696Z"
   },
   {
    "duration": 3,
    "start_time": "2023-09-14T07:37:23.483Z"
   },
   {
    "duration": 12,
    "start_time": "2023-09-14T07:37:23.487Z"
   },
   {
    "duration": 275,
    "start_time": "2023-09-14T07:37:23.502Z"
   },
   {
    "duration": 4,
    "start_time": "2023-09-14T07:37:23.778Z"
   },
   {
    "duration": 170,
    "start_time": "2023-09-14T07:37:23.783Z"
   },
   {
    "duration": 135,
    "start_time": "2023-09-14T07:37:23.955Z"
   },
   {
    "duration": 63,
    "start_time": "2023-09-14T07:37:24.092Z"
   },
   {
    "duration": 256,
    "start_time": "2023-09-14T07:37:24.157Z"
   },
   {
    "duration": 45,
    "start_time": "2023-09-14T07:37:24.416Z"
   },
   {
    "duration": 2143,
    "start_time": "2023-09-14T07:37:24.463Z"
   },
   {
    "duration": 2483,
    "start_time": "2023-09-14T07:37:26.607Z"
   },
   {
    "duration": 79,
    "start_time": "2023-09-14T07:37:29.092Z"
   },
   {
    "duration": 26,
    "start_time": "2023-09-14T07:37:29.173Z"
   },
   {
    "duration": 4,
    "start_time": "2023-09-14T07:37:29.201Z"
   },
   {
    "duration": 9,
    "start_time": "2023-09-14T07:37:29.225Z"
   },
   {
    "duration": 22,
    "start_time": "2023-09-14T07:37:29.236Z"
   },
   {
    "duration": 7,
    "start_time": "2023-09-14T07:37:29.259Z"
   },
   {
    "duration": 8,
    "start_time": "2023-09-14T07:37:29.267Z"
   },
   {
    "duration": 11,
    "start_time": "2023-09-14T07:37:29.276Z"
   },
   {
    "duration": 9,
    "start_time": "2023-09-14T07:37:29.289Z"
   },
   {
    "duration": 153,
    "start_time": "2023-09-14T07:37:29.299Z"
   },
   {
    "duration": 62,
    "start_time": "2023-09-14T07:37:29.454Z"
   },
   {
    "duration": 36,
    "start_time": "2023-09-14T07:37:29.518Z"
   },
   {
    "duration": 21,
    "start_time": "2023-09-14T07:37:29.556Z"
   },
   {
    "duration": 23,
    "start_time": "2023-09-14T07:37:29.578Z"
   },
   {
    "duration": 185,
    "start_time": "2023-09-14T07:37:29.603Z"
   },
   {
    "duration": 130,
    "start_time": "2023-09-14T07:37:29.792Z"
   },
   {
    "duration": 0,
    "start_time": "2023-09-14T07:37:29.925Z"
   },
   {
    "duration": 0,
    "start_time": "2023-09-14T07:37:29.927Z"
   },
   {
    "duration": 0,
    "start_time": "2023-09-14T07:37:29.928Z"
   },
   {
    "duration": 0,
    "start_time": "2023-09-14T07:37:29.930Z"
   },
   {
    "duration": 0,
    "start_time": "2023-09-14T07:37:29.931Z"
   },
   {
    "duration": 0,
    "start_time": "2023-09-14T07:37:29.933Z"
   },
   {
    "duration": 0,
    "start_time": "2023-09-14T07:37:29.934Z"
   },
   {
    "duration": 0,
    "start_time": "2023-09-14T07:37:29.936Z"
   },
   {
    "duration": 0,
    "start_time": "2023-09-14T07:37:29.937Z"
   },
   {
    "duration": 0,
    "start_time": "2023-09-14T07:37:29.938Z"
   },
   {
    "duration": 0,
    "start_time": "2023-09-14T07:37:29.939Z"
   },
   {
    "duration": 0,
    "start_time": "2023-09-14T07:37:29.940Z"
   },
   {
    "duration": 0,
    "start_time": "2023-09-14T07:37:29.941Z"
   },
   {
    "duration": 0,
    "start_time": "2023-09-14T07:37:29.942Z"
   },
   {
    "duration": 0,
    "start_time": "2023-09-14T07:37:29.943Z"
   },
   {
    "duration": 0,
    "start_time": "2023-09-14T07:37:29.944Z"
   },
   {
    "duration": 0,
    "start_time": "2023-09-14T07:37:29.945Z"
   },
   {
    "duration": 0,
    "start_time": "2023-09-14T07:37:29.947Z"
   },
   {
    "duration": 0,
    "start_time": "2023-09-14T07:37:29.948Z"
   },
   {
    "duration": 0,
    "start_time": "2023-09-14T07:37:29.949Z"
   },
   {
    "duration": 0,
    "start_time": "2023-09-14T07:37:29.951Z"
   },
   {
    "duration": 0,
    "start_time": "2023-09-14T07:37:29.952Z"
   },
   {
    "duration": 0,
    "start_time": "2023-09-14T07:37:29.953Z"
   },
   {
    "duration": 0,
    "start_time": "2023-09-14T07:37:29.954Z"
   },
   {
    "duration": 0,
    "start_time": "2023-09-14T07:37:29.955Z"
   },
   {
    "duration": 0,
    "start_time": "2023-09-14T07:37:29.956Z"
   },
   {
    "duration": 0,
    "start_time": "2023-09-14T07:37:29.957Z"
   },
   {
    "duration": 0,
    "start_time": "2023-09-14T07:37:29.958Z"
   },
   {
    "duration": 0,
    "start_time": "2023-09-14T07:37:29.960Z"
   },
   {
    "duration": 0,
    "start_time": "2023-09-14T07:37:29.960Z"
   },
   {
    "duration": 0,
    "start_time": "2023-09-14T07:37:29.961Z"
   },
   {
    "duration": 0,
    "start_time": "2023-09-14T07:37:29.962Z"
   },
   {
    "duration": 0,
    "start_time": "2023-09-14T07:37:29.963Z"
   },
   {
    "duration": 0,
    "start_time": "2023-09-14T07:37:29.964Z"
   },
   {
    "duration": 0,
    "start_time": "2023-09-14T07:37:29.965Z"
   },
   {
    "duration": 0,
    "start_time": "2023-09-14T07:37:29.966Z"
   },
   {
    "duration": 0,
    "start_time": "2023-09-14T07:37:29.967Z"
   },
   {
    "duration": 0,
    "start_time": "2023-09-14T07:37:29.968Z"
   },
   {
    "duration": 0,
    "start_time": "2023-09-14T07:37:30.029Z"
   },
   {
    "duration": 0,
    "start_time": "2023-09-14T07:37:30.030Z"
   },
   {
    "duration": 0,
    "start_time": "2023-09-14T07:37:30.031Z"
   },
   {
    "duration": 0,
    "start_time": "2023-09-14T07:37:30.032Z"
   },
   {
    "duration": 0,
    "start_time": "2023-09-14T07:37:30.033Z"
   },
   {
    "duration": 0,
    "start_time": "2023-09-14T07:37:30.034Z"
   },
   {
    "duration": 0,
    "start_time": "2023-09-14T07:37:30.034Z"
   },
   {
    "duration": 0,
    "start_time": "2023-09-14T07:37:30.035Z"
   },
   {
    "duration": 0,
    "start_time": "2023-09-14T07:37:30.036Z"
   },
   {
    "duration": 0,
    "start_time": "2023-09-14T07:37:30.037Z"
   },
   {
    "duration": 0,
    "start_time": "2023-09-14T07:37:30.038Z"
   },
   {
    "duration": 0,
    "start_time": "2023-09-14T07:37:30.038Z"
   },
   {
    "duration": 0,
    "start_time": "2023-09-14T07:37:30.039Z"
   },
   {
    "duration": 0,
    "start_time": "2023-09-14T07:37:30.040Z"
   },
   {
    "duration": 0,
    "start_time": "2023-09-14T07:37:30.042Z"
   },
   {
    "duration": 0,
    "start_time": "2023-09-14T07:37:30.043Z"
   },
   {
    "duration": 0,
    "start_time": "2023-09-14T07:37:30.044Z"
   },
   {
    "duration": 0,
    "start_time": "2023-09-14T07:37:30.046Z"
   },
   {
    "duration": 0,
    "start_time": "2023-09-14T07:37:30.048Z"
   },
   {
    "duration": 0,
    "start_time": "2023-09-14T07:37:30.049Z"
   },
   {
    "duration": 0,
    "start_time": "2023-09-14T07:37:30.050Z"
   },
   {
    "duration": 0,
    "start_time": "2023-09-14T07:37:30.052Z"
   },
   {
    "duration": 178,
    "start_time": "2023-09-14T07:38:08.549Z"
   },
   {
    "duration": 1622,
    "start_time": "2023-09-14T07:38:39.179Z"
   },
   {
    "duration": 3,
    "start_time": "2023-09-14T07:38:40.803Z"
   },
   {
    "duration": 33,
    "start_time": "2023-09-14T07:38:40.808Z"
   },
   {
    "duration": 267,
    "start_time": "2023-09-14T07:38:40.846Z"
   },
   {
    "duration": 4,
    "start_time": "2023-09-14T07:38:41.115Z"
   },
   {
    "duration": 177,
    "start_time": "2023-09-14T07:38:41.120Z"
   },
   {
    "duration": 146,
    "start_time": "2023-09-14T07:38:41.299Z"
   },
   {
    "duration": 7,
    "start_time": "2023-09-14T07:38:41.447Z"
   },
   {
    "duration": 46,
    "start_time": "2023-09-14T07:38:41.456Z"
   },
   {
    "duration": 54,
    "start_time": "2023-09-14T07:38:41.505Z"
   },
   {
    "duration": 2093,
    "start_time": "2023-09-14T07:38:41.561Z"
   },
   {
    "duration": 2629,
    "start_time": "2023-09-14T07:38:43.656Z"
   },
   {
    "duration": 66,
    "start_time": "2023-09-14T07:38:46.287Z"
   },
   {
    "duration": 26,
    "start_time": "2023-09-14T07:38:46.355Z"
   },
   {
    "duration": 5,
    "start_time": "2023-09-14T07:38:46.383Z"
   },
   {
    "duration": 24,
    "start_time": "2023-09-14T07:38:46.390Z"
   },
   {
    "duration": 28,
    "start_time": "2023-09-14T07:38:46.415Z"
   },
   {
    "duration": 42,
    "start_time": "2023-09-14T07:38:46.445Z"
   },
   {
    "duration": 36,
    "start_time": "2023-09-14T07:38:46.489Z"
   },
   {
    "duration": 124,
    "start_time": "2023-09-14T07:38:46.528Z"
   },
   {
    "duration": 73,
    "start_time": "2023-09-14T07:38:46.655Z"
   },
   {
    "duration": 48,
    "start_time": "2023-09-14T07:38:46.730Z"
   },
   {
    "duration": 90,
    "start_time": "2023-09-14T07:38:46.779Z"
   },
   {
    "duration": 30,
    "start_time": "2023-09-14T07:38:46.871Z"
   },
   {
    "duration": 263,
    "start_time": "2023-09-14T07:38:46.903Z"
   },
   {
    "duration": 339,
    "start_time": "2023-09-14T07:38:47.168Z"
   },
   {
    "duration": 409,
    "start_time": "2023-09-14T07:38:47.508Z"
   },
   {
    "duration": 190,
    "start_time": "2023-09-14T07:38:47.920Z"
   },
   {
    "duration": 12,
    "start_time": "2023-09-14T07:38:48.112Z"
   },
   {
    "duration": 28,
    "start_time": "2023-09-14T07:38:48.126Z"
   },
   {
    "duration": 59,
    "start_time": "2023-09-14T07:38:48.155Z"
   },
   {
    "duration": 19,
    "start_time": "2023-09-14T07:38:48.215Z"
   },
   {
    "duration": 22,
    "start_time": "2023-09-14T07:38:48.237Z"
   },
   {
    "duration": 33,
    "start_time": "2023-09-14T07:38:48.261Z"
   },
   {
    "duration": 10,
    "start_time": "2023-09-14T07:38:48.296Z"
   },
   {
    "duration": 37,
    "start_time": "2023-09-14T07:38:48.307Z"
   },
   {
    "duration": 32,
    "start_time": "2023-09-14T07:38:48.348Z"
   },
   {
    "duration": 37,
    "start_time": "2023-09-14T07:38:48.382Z"
   },
   {
    "duration": 11,
    "start_time": "2023-09-14T07:38:48.421Z"
   },
   {
    "duration": 27,
    "start_time": "2023-09-14T07:38:48.434Z"
   },
   {
    "duration": 44,
    "start_time": "2023-09-14T07:38:48.463Z"
   },
   {
    "duration": 58,
    "start_time": "2023-09-14T07:38:48.509Z"
   },
   {
    "duration": 18,
    "start_time": "2023-09-14T07:38:48.569Z"
   },
   {
    "duration": 196,
    "start_time": "2023-09-14T07:38:48.590Z"
   },
   {
    "duration": 105,
    "start_time": "2023-09-14T07:38:48.788Z"
   },
   {
    "duration": 196,
    "start_time": "2023-09-14T07:38:48.895Z"
   },
   {
    "duration": 1926,
    "start_time": "2023-09-14T07:38:49.093Z"
   },
   {
    "duration": 29,
    "start_time": "2023-09-14T07:38:51.023Z"
   },
   {
    "duration": 137,
    "start_time": "2023-09-14T07:38:51.054Z"
   },
   {
    "duration": 11,
    "start_time": "2023-09-14T07:38:51.193Z"
   },
   {
    "duration": 32,
    "start_time": "2023-09-14T07:38:51.206Z"
   },
   {
    "duration": 14,
    "start_time": "2023-09-14T07:38:51.241Z"
   },
   {
    "duration": 41,
    "start_time": "2023-09-14T07:38:51.257Z"
   },
   {
    "duration": 185,
    "start_time": "2023-09-14T07:38:51.300Z"
   },
   {
    "duration": 18,
    "start_time": "2023-09-14T07:38:51.486Z"
   },
   {
    "duration": 57,
    "start_time": "2023-09-14T07:38:51.506Z"
   },
   {
    "duration": 47,
    "start_time": "2023-09-14T07:38:51.564Z"
   },
   {
    "duration": 55,
    "start_time": "2023-09-14T07:38:51.613Z"
   },
   {
    "duration": 18,
    "start_time": "2023-09-14T07:38:51.670Z"
   },
   {
    "duration": 189,
    "start_time": "2023-09-14T07:38:51.689Z"
   },
   {
    "duration": 20,
    "start_time": "2023-09-14T07:38:51.879Z"
   },
   {
    "duration": 14,
    "start_time": "2023-09-14T07:38:51.900Z"
   },
   {
    "duration": 39,
    "start_time": "2023-09-14T07:38:51.915Z"
   },
   {
    "duration": 22,
    "start_time": "2023-09-14T07:38:51.955Z"
   },
   {
    "duration": 20,
    "start_time": "2023-09-14T07:38:51.979Z"
   },
   {
    "duration": 18,
    "start_time": "2023-09-14T07:38:52.000Z"
   },
   {
    "duration": 40,
    "start_time": "2023-09-14T07:38:52.020Z"
   },
   {
    "duration": 1365,
    "start_time": "2023-09-14T07:38:52.063Z"
   },
   {
    "duration": 7,
    "start_time": "2023-09-14T07:38:53.431Z"
   },
   {
    "duration": 3,
    "start_time": "2023-09-14T07:38:53.440Z"
   },
   {
    "duration": 157,
    "start_time": "2023-09-14T07:38:53.445Z"
   },
   {
    "duration": 43,
    "start_time": "2023-09-14T07:38:53.604Z"
   },
   {
    "duration": 2071,
    "start_time": "2023-09-14T07:38:53.649Z"
   },
   {
    "duration": 63,
    "start_time": "2023-09-14T07:38:55.722Z"
   },
   {
    "duration": 313,
    "start_time": "2023-09-14T07:38:55.786Z"
   },
   {
    "duration": 481,
    "start_time": "2023-09-14T07:38:56.102Z"
   },
   {
    "duration": 121,
    "start_time": "2023-09-14T07:38:56.585Z"
   },
   {
    "duration": 0,
    "start_time": "2023-09-14T07:38:56.708Z"
   },
   {
    "duration": 0,
    "start_time": "2023-09-14T07:38:56.709Z"
   },
   {
    "duration": 0,
    "start_time": "2023-09-14T07:38:56.711Z"
   },
   {
    "duration": 0,
    "start_time": "2023-09-14T07:38:56.712Z"
   },
   {
    "duration": 0,
    "start_time": "2023-09-14T07:38:56.714Z"
   },
   {
    "duration": 0,
    "start_time": "2023-09-14T07:38:56.715Z"
   },
   {
    "duration": 0,
    "start_time": "2023-09-14T07:38:56.717Z"
   },
   {
    "duration": 0,
    "start_time": "2023-09-14T07:38:56.718Z"
   },
   {
    "duration": 0,
    "start_time": "2023-09-14T07:38:56.720Z"
   },
   {
    "duration": 0,
    "start_time": "2023-09-14T07:38:56.721Z"
   },
   {
    "duration": 0,
    "start_time": "2023-09-14T07:38:56.723Z"
   },
   {
    "duration": 1700,
    "start_time": "2023-09-14T07:46:05.849Z"
   },
   {
    "duration": 4,
    "start_time": "2023-09-14T07:46:07.551Z"
   },
   {
    "duration": 36,
    "start_time": "2023-09-14T07:46:07.556Z"
   },
   {
    "duration": 355,
    "start_time": "2023-09-14T07:46:07.595Z"
   },
   {
    "duration": 5,
    "start_time": "2023-09-14T07:46:07.954Z"
   },
   {
    "duration": 226,
    "start_time": "2023-09-14T07:46:07.961Z"
   },
   {
    "duration": 154,
    "start_time": "2023-09-14T07:46:08.188Z"
   },
   {
    "duration": 8,
    "start_time": "2023-09-14T07:46:08.346Z"
   },
   {
    "duration": 51,
    "start_time": "2023-09-14T07:46:08.356Z"
   },
   {
    "duration": 54,
    "start_time": "2023-09-14T07:46:08.411Z"
   },
   {
    "duration": 2243,
    "start_time": "2023-09-14T07:46:08.467Z"
   },
   {
    "duration": 2644,
    "start_time": "2023-09-14T07:46:10.711Z"
   },
   {
    "duration": 94,
    "start_time": "2023-09-14T07:46:13.358Z"
   },
   {
    "duration": 52,
    "start_time": "2023-09-14T07:46:13.454Z"
   },
   {
    "duration": 248,
    "start_time": "2023-09-14T07:46:13.508Z"
   },
   {
    "duration": 9,
    "start_time": "2023-09-14T07:46:13.759Z"
   },
   {
    "duration": 19,
    "start_time": "2023-09-14T07:46:13.769Z"
   },
   {
    "duration": 15,
    "start_time": "2023-09-14T07:46:13.789Z"
   },
   {
    "duration": 22,
    "start_time": "2023-09-14T07:46:13.805Z"
   },
   {
    "duration": 28,
    "start_time": "2023-09-14T07:46:13.829Z"
   },
   {
    "duration": 6,
    "start_time": "2023-09-14T07:46:13.859Z"
   },
   {
    "duration": 135,
    "start_time": "2023-09-14T07:46:13.867Z"
   },
   {
    "duration": 91,
    "start_time": "2023-09-14T07:46:14.004Z"
   },
   {
    "duration": 26,
    "start_time": "2023-09-14T07:46:14.097Z"
   },
   {
    "duration": 15,
    "start_time": "2023-09-14T07:46:14.139Z"
   },
   {
    "duration": 15,
    "start_time": "2023-09-14T07:46:14.155Z"
   },
   {
    "duration": 193,
    "start_time": "2023-09-14T07:46:14.171Z"
   },
   {
    "duration": 192,
    "start_time": "2023-09-14T07:46:14.368Z"
   },
   {
    "duration": 10,
    "start_time": "2023-09-14T07:46:14.562Z"
   },
   {
    "duration": 97,
    "start_time": "2023-09-14T07:46:14.574Z"
   },
   {
    "duration": 69,
    "start_time": "2023-09-14T07:46:14.673Z"
   },
   {
    "duration": 26,
    "start_time": "2023-09-14T07:46:14.744Z"
   },
   {
    "duration": 58,
    "start_time": "2023-09-14T07:46:14.771Z"
   },
   {
    "duration": 27,
    "start_time": "2023-09-14T07:46:14.830Z"
   },
   {
    "duration": 36,
    "start_time": "2023-09-14T07:46:14.859Z"
   },
   {
    "duration": 19,
    "start_time": "2023-09-14T07:46:14.897Z"
   },
   {
    "duration": 43,
    "start_time": "2023-09-14T07:46:14.918Z"
   },
   {
    "duration": 22,
    "start_time": "2023-09-14T07:46:14.963Z"
   },
   {
    "duration": 6,
    "start_time": "2023-09-14T07:46:14.987Z"
   },
   {
    "duration": 11,
    "start_time": "2023-09-14T07:46:14.995Z"
   },
   {
    "duration": 71,
    "start_time": "2023-09-14T07:46:15.008Z"
   },
   {
    "duration": 121,
    "start_time": "2023-09-14T07:46:15.080Z"
   },
   {
    "duration": 57,
    "start_time": "2023-09-14T07:46:15.203Z"
   },
   {
    "duration": 15,
    "start_time": "2023-09-14T07:46:15.262Z"
   },
   {
    "duration": 118,
    "start_time": "2023-09-14T07:46:15.279Z"
   },
   {
    "duration": 91,
    "start_time": "2023-09-14T07:46:15.399Z"
   },
   {
    "duration": 2122,
    "start_time": "2023-09-14T07:46:15.492Z"
   },
   {
    "duration": 37,
    "start_time": "2023-09-14T07:46:17.616Z"
   },
   {
    "duration": 65,
    "start_time": "2023-09-14T07:46:17.655Z"
   },
   {
    "duration": 29,
    "start_time": "2023-09-14T07:46:17.728Z"
   },
   {
    "duration": 130,
    "start_time": "2023-09-14T07:46:17.759Z"
   },
   {
    "duration": 0,
    "start_time": "2023-09-14T07:46:17.890Z"
   },
   {
    "duration": 0,
    "start_time": "2023-09-14T07:46:17.892Z"
   },
   {
    "duration": 0,
    "start_time": "2023-09-14T07:46:17.893Z"
   },
   {
    "duration": 0,
    "start_time": "2023-09-14T07:46:17.894Z"
   },
   {
    "duration": 0,
    "start_time": "2023-09-14T07:46:17.895Z"
   },
   {
    "duration": 0,
    "start_time": "2023-09-14T07:46:17.896Z"
   },
   {
    "duration": 0,
    "start_time": "2023-09-14T07:46:17.898Z"
   },
   {
    "duration": 0,
    "start_time": "2023-09-14T07:46:17.899Z"
   },
   {
    "duration": 0,
    "start_time": "2023-09-14T07:46:17.900Z"
   },
   {
    "duration": 0,
    "start_time": "2023-09-14T07:46:17.902Z"
   },
   {
    "duration": 0,
    "start_time": "2023-09-14T07:46:17.924Z"
   },
   {
    "duration": 0,
    "start_time": "2023-09-14T07:46:17.925Z"
   },
   {
    "duration": 0,
    "start_time": "2023-09-14T07:46:17.926Z"
   },
   {
    "duration": 0,
    "start_time": "2023-09-14T07:46:17.927Z"
   },
   {
    "duration": 0,
    "start_time": "2023-09-14T07:46:17.930Z"
   },
   {
    "duration": 0,
    "start_time": "2023-09-14T07:46:17.931Z"
   },
   {
    "duration": 0,
    "start_time": "2023-09-14T07:46:17.933Z"
   },
   {
    "duration": 0,
    "start_time": "2023-09-14T07:46:17.934Z"
   },
   {
    "duration": 0,
    "start_time": "2023-09-14T07:46:17.935Z"
   },
   {
    "duration": 0,
    "start_time": "2023-09-14T07:46:17.937Z"
   },
   {
    "duration": 0,
    "start_time": "2023-09-14T07:46:17.938Z"
   },
   {
    "duration": 0,
    "start_time": "2023-09-14T07:46:17.939Z"
   },
   {
    "duration": 0,
    "start_time": "2023-09-14T07:46:17.941Z"
   },
   {
    "duration": 0,
    "start_time": "2023-09-14T07:46:17.942Z"
   },
   {
    "duration": 0,
    "start_time": "2023-09-14T07:46:17.943Z"
   },
   {
    "duration": 0,
    "start_time": "2023-09-14T07:46:17.945Z"
   },
   {
    "duration": 0,
    "start_time": "2023-09-14T07:46:17.946Z"
   },
   {
    "duration": 0,
    "start_time": "2023-09-14T07:46:17.947Z"
   },
   {
    "duration": 0,
    "start_time": "2023-09-14T07:46:17.949Z"
   },
   {
    "duration": 0,
    "start_time": "2023-09-14T07:46:17.950Z"
   },
   {
    "duration": 0,
    "start_time": "2023-09-14T07:46:17.951Z"
   },
   {
    "duration": 0,
    "start_time": "2023-09-14T07:46:17.952Z"
   },
   {
    "duration": 0,
    "start_time": "2023-09-14T07:46:17.953Z"
   },
   {
    "duration": 0,
    "start_time": "2023-09-14T07:46:17.955Z"
   },
   {
    "duration": 0,
    "start_time": "2023-09-14T07:46:17.957Z"
   },
   {
    "duration": 0,
    "start_time": "2023-09-14T07:46:17.958Z"
   },
   {
    "duration": 0,
    "start_time": "2023-09-14T07:46:17.959Z"
   },
   {
    "duration": 1709,
    "start_time": "2023-09-14T07:47:10.055Z"
   },
   {
    "duration": 3,
    "start_time": "2023-09-14T07:47:11.767Z"
   },
   {
    "duration": 29,
    "start_time": "2023-09-14T07:47:11.771Z"
   },
   {
    "duration": 319,
    "start_time": "2023-09-14T07:47:11.802Z"
   },
   {
    "duration": 5,
    "start_time": "2023-09-14T07:47:12.123Z"
   },
   {
    "duration": 189,
    "start_time": "2023-09-14T07:47:12.130Z"
   },
   {
    "duration": 144,
    "start_time": "2023-09-14T07:47:12.323Z"
   },
   {
    "duration": 6,
    "start_time": "2023-09-14T07:47:12.469Z"
   },
   {
    "duration": 196,
    "start_time": "2023-09-14T07:47:12.477Z"
   },
   {
    "duration": 31,
    "start_time": "2023-09-14T07:47:12.675Z"
   },
   {
    "duration": 2254,
    "start_time": "2023-09-14T07:47:12.708Z"
   },
   {
    "duration": 2637,
    "start_time": "2023-09-14T07:47:14.964Z"
   },
   {
    "duration": 83,
    "start_time": "2023-09-14T07:47:17.603Z"
   },
   {
    "duration": 42,
    "start_time": "2023-09-14T07:47:17.689Z"
   },
   {
    "duration": 15,
    "start_time": "2023-09-14T07:47:17.733Z"
   },
   {
    "duration": 13,
    "start_time": "2023-09-14T07:47:17.750Z"
   },
   {
    "duration": 17,
    "start_time": "2023-09-14T07:47:17.766Z"
   },
   {
    "duration": 63,
    "start_time": "2023-09-14T07:47:17.785Z"
   },
   {
    "duration": 192,
    "start_time": "2023-09-14T07:47:17.850Z"
   },
   {
    "duration": 19,
    "start_time": "2023-09-14T07:47:18.048Z"
   },
   {
    "duration": 59,
    "start_time": "2023-09-14T07:47:18.069Z"
   },
   {
    "duration": 61,
    "start_time": "2023-09-14T07:47:18.130Z"
   },
   {
    "duration": 73,
    "start_time": "2023-09-14T07:47:18.193Z"
   },
   {
    "duration": 24,
    "start_time": "2023-09-14T07:47:18.268Z"
   },
   {
    "duration": 36,
    "start_time": "2023-09-14T07:47:18.294Z"
   },
   {
    "duration": 47,
    "start_time": "2023-09-14T07:47:18.333Z"
   },
   {
    "duration": 198,
    "start_time": "2023-09-14T07:47:18.382Z"
   },
   {
    "duration": 215,
    "start_time": "2023-09-14T07:47:18.582Z"
   },
   {
    "duration": 8,
    "start_time": "2023-09-14T07:47:18.798Z"
   },
   {
    "duration": 91,
    "start_time": "2023-09-14T07:47:18.807Z"
   },
   {
    "duration": 173,
    "start_time": "2023-09-14T07:47:18.900Z"
   },
   {
    "duration": 188,
    "start_time": "2023-09-14T07:47:19.074Z"
   },
   {
    "duration": 26,
    "start_time": "2023-09-14T07:47:19.263Z"
   },
   {
    "duration": 81,
    "start_time": "2023-09-14T07:47:19.291Z"
   },
   {
    "duration": 32,
    "start_time": "2023-09-14T07:47:19.374Z"
   },
   {
    "duration": 45,
    "start_time": "2023-09-14T07:47:19.407Z"
   },
   {
    "duration": 46,
    "start_time": "2023-09-14T07:47:19.454Z"
   },
   {
    "duration": 34,
    "start_time": "2023-09-14T07:47:19.502Z"
   },
   {
    "duration": 27,
    "start_time": "2023-09-14T07:47:19.538Z"
   },
   {
    "duration": 22,
    "start_time": "2023-09-14T07:47:19.567Z"
   },
   {
    "duration": 40,
    "start_time": "2023-09-14T07:47:19.594Z"
   },
   {
    "duration": 31,
    "start_time": "2023-09-14T07:47:19.640Z"
   },
   {
    "duration": 12,
    "start_time": "2023-09-14T07:47:19.673Z"
   },
   {
    "duration": 26,
    "start_time": "2023-09-14T07:47:19.687Z"
   },
   {
    "duration": 70,
    "start_time": "2023-09-14T07:47:19.715Z"
   },
   {
    "duration": 63,
    "start_time": "2023-09-14T07:47:19.787Z"
   },
   {
    "duration": 2086,
    "start_time": "2023-09-14T07:47:19.852Z"
   },
   {
    "duration": 27,
    "start_time": "2023-09-14T07:47:21.941Z"
   },
   {
    "duration": 90,
    "start_time": "2023-09-14T07:47:21.970Z"
   },
   {
    "duration": 12,
    "start_time": "2023-09-14T07:47:22.062Z"
   },
   {
    "duration": 23,
    "start_time": "2023-09-14T07:47:22.075Z"
   },
   {
    "duration": 52,
    "start_time": "2023-09-14T07:47:22.100Z"
   },
   {
    "duration": 231,
    "start_time": "2023-09-14T07:47:22.154Z"
   },
   {
    "duration": 16,
    "start_time": "2023-09-14T07:47:22.387Z"
   },
   {
    "duration": 37,
    "start_time": "2023-09-14T07:47:22.405Z"
   },
   {
    "duration": 159,
    "start_time": "2023-09-14T07:47:22.444Z"
   },
   {
    "duration": 84,
    "start_time": "2023-09-14T07:47:22.605Z"
   },
   {
    "duration": 6,
    "start_time": "2023-09-14T07:47:22.691Z"
   },
   {
    "duration": 217,
    "start_time": "2023-09-14T07:47:22.698Z"
   },
   {
    "duration": 41,
    "start_time": "2023-09-14T07:47:22.917Z"
   },
   {
    "duration": 33,
    "start_time": "2023-09-14T07:47:22.960Z"
   },
   {
    "duration": 77,
    "start_time": "2023-09-14T07:47:22.995Z"
   },
   {
    "duration": 107,
    "start_time": "2023-09-14T07:47:23.074Z"
   },
   {
    "duration": 69,
    "start_time": "2023-09-14T07:47:23.183Z"
   },
   {
    "duration": 67,
    "start_time": "2023-09-14T07:47:23.254Z"
   },
   {
    "duration": 149,
    "start_time": "2023-09-14T07:47:23.323Z"
   },
   {
    "duration": 1897,
    "start_time": "2023-09-14T07:47:23.473Z"
   },
   {
    "duration": 4,
    "start_time": "2023-09-14T07:47:25.372Z"
   },
   {
    "duration": 19,
    "start_time": "2023-09-14T07:47:25.378Z"
   },
   {
    "duration": 55,
    "start_time": "2023-09-14T07:47:25.399Z"
   },
   {
    "duration": 57,
    "start_time": "2023-09-14T07:47:25.457Z"
   },
   {
    "duration": 2593,
    "start_time": "2023-09-14T07:47:25.515Z"
   },
   {
    "duration": 71,
    "start_time": "2023-09-14T07:47:28.110Z"
   },
   {
    "duration": 229,
    "start_time": "2023-09-14T07:47:28.183Z"
   },
   {
    "duration": 450,
    "start_time": "2023-09-14T07:47:28.414Z"
   },
   {
    "duration": 354,
    "start_time": "2023-09-14T07:47:28.866Z"
   },
   {
    "duration": 0,
    "start_time": "2023-09-14T07:47:29.222Z"
   },
   {
    "duration": 0,
    "start_time": "2023-09-14T07:47:29.223Z"
   },
   {
    "duration": 0,
    "start_time": "2023-09-14T07:47:29.224Z"
   },
   {
    "duration": 0,
    "start_time": "2023-09-14T07:47:29.225Z"
   },
   {
    "duration": 0,
    "start_time": "2023-09-14T07:47:29.226Z"
   },
   {
    "duration": 0,
    "start_time": "2023-09-14T07:47:29.227Z"
   },
   {
    "duration": 0,
    "start_time": "2023-09-14T07:47:29.228Z"
   },
   {
    "duration": 0,
    "start_time": "2023-09-14T07:47:29.233Z"
   },
   {
    "duration": 0,
    "start_time": "2023-09-14T07:47:29.234Z"
   },
   {
    "duration": 0,
    "start_time": "2023-09-14T07:47:29.236Z"
   },
   {
    "duration": 0,
    "start_time": "2023-09-14T07:47:29.238Z"
   },
   {
    "duration": 1666,
    "start_time": "2023-09-14T07:53:47.445Z"
   },
   {
    "duration": 3,
    "start_time": "2023-09-14T07:53:49.113Z"
   },
   {
    "duration": 19,
    "start_time": "2023-09-14T07:53:49.124Z"
   },
   {
    "duration": 286,
    "start_time": "2023-09-14T07:53:49.145Z"
   },
   {
    "duration": 6,
    "start_time": "2023-09-14T07:53:49.434Z"
   },
   {
    "duration": 191,
    "start_time": "2023-09-14T07:53:49.444Z"
   },
   {
    "duration": 139,
    "start_time": "2023-09-14T07:53:49.636Z"
   },
   {
    "duration": 7,
    "start_time": "2023-09-14T07:53:49.777Z"
   },
   {
    "duration": 73,
    "start_time": "2023-09-14T07:53:49.785Z"
   },
   {
    "duration": 29,
    "start_time": "2023-09-14T07:53:49.860Z"
   },
   {
    "duration": 2207,
    "start_time": "2023-09-14T07:53:49.891Z"
   },
   {
    "duration": 2597,
    "start_time": "2023-09-14T07:53:52.099Z"
   },
   {
    "duration": 84,
    "start_time": "2023-09-14T07:53:54.698Z"
   },
   {
    "duration": 38,
    "start_time": "2023-09-14T07:53:54.786Z"
   },
   {
    "duration": 8,
    "start_time": "2023-09-14T07:53:54.832Z"
   },
   {
    "duration": 38,
    "start_time": "2023-09-14T07:53:54.844Z"
   },
   {
    "duration": 39,
    "start_time": "2023-09-14T07:53:54.883Z"
   },
   {
    "duration": 47,
    "start_time": "2023-09-14T07:53:54.926Z"
   },
   {
    "duration": 123,
    "start_time": "2023-09-14T07:53:54.975Z"
   },
   {
    "duration": 166,
    "start_time": "2023-09-14T07:53:55.100Z"
   },
   {
    "duration": 39,
    "start_time": "2023-09-14T07:53:55.268Z"
   },
   {
    "duration": 106,
    "start_time": "2023-09-14T07:53:55.309Z"
   },
   {
    "duration": 142,
    "start_time": "2023-09-14T07:53:55.417Z"
   },
   {
    "duration": 22,
    "start_time": "2023-09-14T07:53:55.562Z"
   },
   {
    "duration": 26,
    "start_time": "2023-09-14T07:53:55.586Z"
   },
   {
    "duration": 64,
    "start_time": "2023-09-14T07:53:55.614Z"
   },
   {
    "duration": 291,
    "start_time": "2023-09-14T07:53:55.680Z"
   },
   {
    "duration": 280,
    "start_time": "2023-09-14T07:53:55.974Z"
   },
   {
    "duration": 8,
    "start_time": "2023-09-14T07:53:56.256Z"
   },
   {
    "duration": 82,
    "start_time": "2023-09-14T07:53:56.265Z"
   },
   {
    "duration": 42,
    "start_time": "2023-09-14T07:53:56.349Z"
   },
   {
    "duration": 17,
    "start_time": "2023-09-14T07:53:56.393Z"
   },
   {
    "duration": 22,
    "start_time": "2023-09-14T07:53:56.411Z"
   },
   {
    "duration": 41,
    "start_time": "2023-09-14T07:53:56.435Z"
   },
   {
    "duration": 66,
    "start_time": "2023-09-14T07:53:56.478Z"
   },
   {
    "duration": 40,
    "start_time": "2023-09-14T07:53:56.547Z"
   },
   {
    "duration": 54,
    "start_time": "2023-09-14T07:53:56.589Z"
   },
   {
    "duration": 59,
    "start_time": "2023-09-14T07:53:56.652Z"
   },
   {
    "duration": 7,
    "start_time": "2023-09-14T07:53:56.713Z"
   },
   {
    "duration": 24,
    "start_time": "2023-09-14T07:53:56.723Z"
   },
   {
    "duration": 43,
    "start_time": "2023-09-14T07:53:56.756Z"
   },
   {
    "duration": 34,
    "start_time": "2023-09-14T07:53:56.802Z"
   },
   {
    "duration": 22,
    "start_time": "2023-09-14T07:53:56.838Z"
   },
   {
    "duration": 108,
    "start_time": "2023-09-14T07:53:56.862Z"
   },
   {
    "duration": 34,
    "start_time": "2023-09-14T07:53:56.972Z"
   },
   {
    "duration": 103,
    "start_time": "2023-09-14T07:53:57.008Z"
   },
   {
    "duration": 2040,
    "start_time": "2023-09-14T07:53:57.113Z"
   },
   {
    "duration": 18,
    "start_time": "2023-09-14T07:53:59.154Z"
   },
   {
    "duration": 108,
    "start_time": "2023-09-14T07:53:59.174Z"
   },
   {
    "duration": 11,
    "start_time": "2023-09-14T07:53:59.284Z"
   },
   {
    "duration": 22,
    "start_time": "2023-09-14T07:53:59.297Z"
   },
   {
    "duration": 36,
    "start_time": "2023-09-14T07:53:59.321Z"
   },
   {
    "duration": 172,
    "start_time": "2023-09-14T07:53:59.358Z"
   },
   {
    "duration": 23,
    "start_time": "2023-09-14T07:53:59.532Z"
   },
   {
    "duration": 12,
    "start_time": "2023-09-14T07:53:59.559Z"
   },
   {
    "duration": 22,
    "start_time": "2023-09-14T07:53:59.573Z"
   },
   {
    "duration": 69,
    "start_time": "2023-09-14T07:53:59.597Z"
   },
   {
    "duration": 5,
    "start_time": "2023-09-14T07:53:59.668Z"
   },
   {
    "duration": 177,
    "start_time": "2023-09-14T07:53:59.674Z"
   },
   {
    "duration": 19,
    "start_time": "2023-09-14T07:53:59.853Z"
   },
   {
    "duration": 30,
    "start_time": "2023-09-14T07:53:59.873Z"
   },
   {
    "duration": 47,
    "start_time": "2023-09-14T07:53:59.905Z"
   },
   {
    "duration": 154,
    "start_time": "2023-09-14T07:53:59.956Z"
   },
   {
    "duration": 30,
    "start_time": "2023-09-14T07:54:00.112Z"
   },
   {
    "duration": 102,
    "start_time": "2023-09-14T07:54:00.152Z"
   },
   {
    "duration": 156,
    "start_time": "2023-09-14T07:54:00.256Z"
   },
   {
    "duration": 79,
    "start_time": "2023-09-14T07:54:00.414Z"
   },
   {
    "duration": 1445,
    "start_time": "2023-09-14T07:54:00.495Z"
   },
   {
    "duration": 6,
    "start_time": "2023-09-14T07:54:01.942Z"
   },
   {
    "duration": 33,
    "start_time": "2023-09-14T07:54:01.950Z"
   },
   {
    "duration": 95,
    "start_time": "2023-09-14T07:54:01.985Z"
   },
   {
    "duration": 97,
    "start_time": "2023-09-14T07:54:02.082Z"
   },
   {
    "duration": 2751,
    "start_time": "2023-09-14T07:54:02.181Z"
   },
   {
    "duration": 66,
    "start_time": "2023-09-14T07:54:04.934Z"
   },
   {
    "duration": 211,
    "start_time": "2023-09-14T07:54:05.002Z"
   },
   {
    "duration": 449,
    "start_time": "2023-09-14T07:54:05.215Z"
   },
   {
    "duration": 109,
    "start_time": "2023-09-14T07:54:05.665Z"
   },
   {
    "duration": 0,
    "start_time": "2023-09-14T07:54:05.776Z"
   },
   {
    "duration": 0,
    "start_time": "2023-09-14T07:54:05.777Z"
   },
   {
    "duration": 0,
    "start_time": "2023-09-14T07:54:05.778Z"
   },
   {
    "duration": 0,
    "start_time": "2023-09-14T07:54:05.779Z"
   },
   {
    "duration": 0,
    "start_time": "2023-09-14T07:54:05.780Z"
   },
   {
    "duration": 0,
    "start_time": "2023-09-14T07:54:05.781Z"
   },
   {
    "duration": 0,
    "start_time": "2023-09-14T07:54:05.783Z"
   },
   {
    "duration": 0,
    "start_time": "2023-09-14T07:54:05.783Z"
   },
   {
    "duration": 0,
    "start_time": "2023-09-14T07:54:05.785Z"
   },
   {
    "duration": 0,
    "start_time": "2023-09-14T07:54:05.785Z"
   },
   {
    "duration": 0,
    "start_time": "2023-09-14T07:54:05.787Z"
   },
   {
    "duration": 136,
    "start_time": "2023-09-14T07:56:14.686Z"
   },
   {
    "duration": 266,
    "start_time": "2023-09-14T07:56:35.794Z"
   },
   {
    "duration": 1661,
    "start_time": "2023-09-14T08:05:36.195Z"
   },
   {
    "duration": 3,
    "start_time": "2023-09-14T08:05:37.859Z"
   },
   {
    "duration": 125,
    "start_time": "2023-09-14T08:05:37.864Z"
   },
   {
    "duration": 496,
    "start_time": "2023-09-14T08:05:37.991Z"
   },
   {
    "duration": 4,
    "start_time": "2023-09-14T08:05:38.489Z"
   },
   {
    "duration": 221,
    "start_time": "2023-09-14T08:05:38.495Z"
   },
   {
    "duration": 144,
    "start_time": "2023-09-14T08:05:38.718Z"
   },
   {
    "duration": 40,
    "start_time": "2023-09-14T08:05:38.864Z"
   },
   {
    "duration": 314,
    "start_time": "2023-09-14T08:05:38.906Z"
   },
   {
    "duration": 53,
    "start_time": "2023-09-14T08:05:39.221Z"
   },
   {
    "duration": 2426,
    "start_time": "2023-09-14T08:05:39.276Z"
   },
   {
    "duration": 2707,
    "start_time": "2023-09-14T08:05:41.704Z"
   },
   {
    "duration": 84,
    "start_time": "2023-09-14T08:05:44.412Z"
   },
   {
    "duration": 116,
    "start_time": "2023-09-14T08:05:44.500Z"
   },
   {
    "duration": 38,
    "start_time": "2023-09-14T08:05:44.618Z"
   },
   {
    "duration": 123,
    "start_time": "2023-09-14T08:05:44.658Z"
   },
   {
    "duration": 160,
    "start_time": "2023-09-14T08:05:44.783Z"
   },
   {
    "duration": 14,
    "start_time": "2023-09-14T08:05:44.950Z"
   },
   {
    "duration": 25,
    "start_time": "2023-09-14T08:05:44.970Z"
   },
   {
    "duration": 178,
    "start_time": "2023-09-14T08:05:44.997Z"
   },
   {
    "duration": 177,
    "start_time": "2023-09-14T08:05:45.177Z"
   },
   {
    "duration": 179,
    "start_time": "2023-09-14T08:05:45.359Z"
   },
   {
    "duration": 113,
    "start_time": "2023-09-14T08:05:45.541Z"
   },
   {
    "duration": 59,
    "start_time": "2023-09-14T08:05:45.655Z"
   },
   {
    "duration": 48,
    "start_time": "2023-09-14T08:05:45.715Z"
   },
   {
    "duration": 83,
    "start_time": "2023-09-14T08:05:45.767Z"
   },
   {
    "duration": 204,
    "start_time": "2023-09-14T08:05:45.852Z"
   },
   {
    "duration": 221,
    "start_time": "2023-09-14T08:05:46.062Z"
   },
   {
    "duration": 8,
    "start_time": "2023-09-14T08:05:46.286Z"
   },
   {
    "duration": 40,
    "start_time": "2023-09-14T08:05:46.296Z"
   },
   {
    "duration": 86,
    "start_time": "2023-09-14T08:05:46.343Z"
   },
   {
    "duration": 217,
    "start_time": "2023-09-14T08:05:46.431Z"
   },
   {
    "duration": 114,
    "start_time": "2023-09-14T08:05:46.650Z"
   },
   {
    "duration": 96,
    "start_time": "2023-09-14T08:05:46.766Z"
   },
   {
    "duration": 32,
    "start_time": "2023-09-14T08:05:46.863Z"
   },
   {
    "duration": 38,
    "start_time": "2023-09-14T08:05:46.897Z"
   },
   {
    "duration": 81,
    "start_time": "2023-09-14T08:05:46.937Z"
   },
   {
    "duration": 44,
    "start_time": "2023-09-14T08:05:47.019Z"
   },
   {
    "duration": 66,
    "start_time": "2023-09-14T08:05:47.065Z"
   },
   {
    "duration": 146,
    "start_time": "2023-09-14T08:05:47.132Z"
   },
   {
    "duration": 350,
    "start_time": "2023-09-14T08:05:47.284Z"
   },
   {
    "duration": 268,
    "start_time": "2023-09-14T08:05:47.642Z"
   },
   {
    "duration": 106,
    "start_time": "2023-09-14T08:05:47.912Z"
   },
   {
    "duration": 59,
    "start_time": "2023-09-14T08:05:48.020Z"
   },
   {
    "duration": 64,
    "start_time": "2023-09-14T08:05:48.080Z"
   },
   {
    "duration": 57,
    "start_time": "2023-09-14T08:05:48.146Z"
   },
   {
    "duration": 2104,
    "start_time": "2023-09-14T08:05:48.205Z"
   },
   {
    "duration": 27,
    "start_time": "2023-09-14T08:05:50.311Z"
   },
   {
    "duration": 115,
    "start_time": "2023-09-14T08:05:50.340Z"
   },
   {
    "duration": 12,
    "start_time": "2023-09-14T08:05:50.457Z"
   },
   {
    "duration": 22,
    "start_time": "2023-09-14T08:05:50.471Z"
   },
   {
    "duration": 21,
    "start_time": "2023-09-14T08:05:50.495Z"
   },
   {
    "duration": 218,
    "start_time": "2023-09-14T08:05:50.518Z"
   },
   {
    "duration": 24,
    "start_time": "2023-09-14T08:05:50.738Z"
   },
   {
    "duration": 213,
    "start_time": "2023-09-14T08:05:50.764Z"
   },
   {
    "duration": 194,
    "start_time": "2023-09-14T08:05:50.979Z"
   },
   {
    "duration": 40,
    "start_time": "2023-09-14T08:05:51.175Z"
   },
   {
    "duration": 15,
    "start_time": "2023-09-14T08:05:51.217Z"
   },
   {
    "duration": 172,
    "start_time": "2023-09-14T08:05:51.250Z"
   },
   {
    "duration": 28,
    "start_time": "2023-09-14T08:05:51.429Z"
   },
   {
    "duration": 9,
    "start_time": "2023-09-14T08:05:51.460Z"
   },
   {
    "duration": 85,
    "start_time": "2023-09-14T08:05:51.471Z"
   },
   {
    "duration": 181,
    "start_time": "2023-09-14T08:05:51.558Z"
   },
   {
    "duration": 19,
    "start_time": "2023-09-14T08:05:51.741Z"
   },
   {
    "duration": 12,
    "start_time": "2023-09-14T08:05:51.762Z"
   },
   {
    "duration": 245,
    "start_time": "2023-09-14T08:05:51.776Z"
   },
   {
    "duration": 18,
    "start_time": "2023-09-14T08:05:52.024Z"
   },
   {
    "duration": 123,
    "start_time": "2023-09-14T08:05:52.044Z"
   },
   {
    "duration": 1432,
    "start_time": "2023-09-14T08:05:52.169Z"
   },
   {
    "duration": 4,
    "start_time": "2023-09-14T08:05:53.602Z"
   },
   {
    "duration": 45,
    "start_time": "2023-09-14T08:05:53.608Z"
   },
   {
    "duration": 31,
    "start_time": "2023-09-14T08:05:53.655Z"
   },
   {
    "duration": 23,
    "start_time": "2023-09-14T08:05:53.687Z"
   },
   {
    "duration": 2881,
    "start_time": "2023-09-14T08:05:53.712Z"
   },
   {
    "duration": 76,
    "start_time": "2023-09-14T08:05:56.595Z"
   },
   {
    "duration": 242,
    "start_time": "2023-09-14T08:05:56.673Z"
   },
   {
    "duration": 487,
    "start_time": "2023-09-14T08:05:56.917Z"
   },
   {
    "duration": 108,
    "start_time": "2023-09-14T08:05:57.406Z"
   },
   {
    "duration": 0,
    "start_time": "2023-09-14T08:05:57.516Z"
   },
   {
    "duration": 0,
    "start_time": "2023-09-14T08:05:57.518Z"
   },
   {
    "duration": 0,
    "start_time": "2023-09-14T08:05:57.519Z"
   },
   {
    "duration": 0,
    "start_time": "2023-09-14T08:05:57.521Z"
   },
   {
    "duration": 0,
    "start_time": "2023-09-14T08:05:57.523Z"
   },
   {
    "duration": 0,
    "start_time": "2023-09-14T08:05:57.531Z"
   },
   {
    "duration": 0,
    "start_time": "2023-09-14T08:05:57.535Z"
   },
   {
    "duration": 0,
    "start_time": "2023-09-14T08:05:57.536Z"
   },
   {
    "duration": 0,
    "start_time": "2023-09-14T08:05:57.538Z"
   },
   {
    "duration": 0,
    "start_time": "2023-09-14T08:05:57.539Z"
   },
   {
    "duration": 0,
    "start_time": "2023-09-14T08:05:57.543Z"
   },
   {
    "duration": 1841,
    "start_time": "2023-09-14T08:07:24.637Z"
   },
   {
    "duration": 4,
    "start_time": "2023-09-14T08:07:26.479Z"
   },
   {
    "duration": 42,
    "start_time": "2023-09-14T08:07:26.484Z"
   },
   {
    "duration": 321,
    "start_time": "2023-09-14T08:07:26.530Z"
   },
   {
    "duration": 6,
    "start_time": "2023-09-14T08:07:26.853Z"
   },
   {
    "duration": 205,
    "start_time": "2023-09-14T08:07:26.862Z"
   },
   {
    "duration": 175,
    "start_time": "2023-09-14T08:07:27.069Z"
   },
   {
    "duration": 8,
    "start_time": "2023-09-14T08:07:27.249Z"
   },
   {
    "duration": 140,
    "start_time": "2023-09-14T08:07:27.259Z"
   },
   {
    "duration": 37,
    "start_time": "2023-09-14T08:07:27.401Z"
   },
   {
    "duration": 2320,
    "start_time": "2023-09-14T08:07:27.442Z"
   },
   {
    "duration": 2590,
    "start_time": "2023-09-14T08:07:29.764Z"
   },
   {
    "duration": 67,
    "start_time": "2023-09-14T08:07:32.356Z"
   },
   {
    "duration": 40,
    "start_time": "2023-09-14T08:07:32.425Z"
   },
   {
    "duration": 9,
    "start_time": "2023-09-14T08:07:32.467Z"
   },
   {
    "duration": 28,
    "start_time": "2023-09-14T08:07:32.478Z"
   },
   {
    "duration": 11,
    "start_time": "2023-09-14T08:07:32.508Z"
   },
   {
    "duration": 31,
    "start_time": "2023-09-14T08:07:32.525Z"
   },
   {
    "duration": 9,
    "start_time": "2023-09-14T08:07:32.560Z"
   },
   {
    "duration": 60,
    "start_time": "2023-09-14T08:07:32.571Z"
   },
   {
    "duration": 16,
    "start_time": "2023-09-14T08:07:32.635Z"
   },
   {
    "duration": 174,
    "start_time": "2023-09-14T08:07:32.654Z"
   },
   {
    "duration": 78,
    "start_time": "2023-09-14T08:07:32.830Z"
   },
   {
    "duration": 47,
    "start_time": "2023-09-14T08:07:32.910Z"
   },
   {
    "duration": 11,
    "start_time": "2023-09-14T08:07:32.959Z"
   },
   {
    "duration": 10,
    "start_time": "2023-09-14T08:07:32.972Z"
   },
   {
    "duration": 184,
    "start_time": "2023-09-14T08:07:32.983Z"
   },
   {
    "duration": 200,
    "start_time": "2023-09-14T08:07:33.172Z"
   },
   {
    "duration": 7,
    "start_time": "2023-09-14T08:07:33.373Z"
   },
   {
    "duration": 24,
    "start_time": "2023-09-14T08:07:33.381Z"
   },
   {
    "duration": 57,
    "start_time": "2023-09-14T08:07:33.407Z"
   },
   {
    "duration": 13,
    "start_time": "2023-09-14T08:07:33.466Z"
   },
   {
    "duration": 18,
    "start_time": "2023-09-14T08:07:33.481Z"
   },
   {
    "duration": 10,
    "start_time": "2023-09-14T08:07:33.501Z"
   },
   {
    "duration": 25,
    "start_time": "2023-09-14T08:07:33.513Z"
   },
   {
    "duration": 13,
    "start_time": "2023-09-14T08:07:33.540Z"
   },
   {
    "duration": 27,
    "start_time": "2023-09-14T08:07:33.557Z"
   },
   {
    "duration": 22,
    "start_time": "2023-09-14T08:07:33.586Z"
   },
   {
    "duration": 17,
    "start_time": "2023-09-14T08:07:33.610Z"
   },
   {
    "duration": 18,
    "start_time": "2023-09-14T08:07:33.629Z"
   },
   {
    "duration": 22,
    "start_time": "2023-09-14T08:07:33.653Z"
   },
   {
    "duration": 37,
    "start_time": "2023-09-14T08:07:33.677Z"
   },
   {
    "duration": 39,
    "start_time": "2023-09-14T08:07:33.716Z"
   },
   {
    "duration": 39,
    "start_time": "2023-09-14T08:07:33.757Z"
   },
   {
    "duration": 67,
    "start_time": "2023-09-14T08:07:33.798Z"
   },
   {
    "duration": 82,
    "start_time": "2023-09-14T08:07:33.866Z"
   },
   {
    "duration": 2157,
    "start_time": "2023-09-14T08:07:33.950Z"
   },
   {
    "duration": 35,
    "start_time": "2023-09-14T08:07:36.110Z"
   },
   {
    "duration": 116,
    "start_time": "2023-09-14T08:07:36.152Z"
   },
   {
    "duration": 13,
    "start_time": "2023-09-14T08:07:36.269Z"
   },
   {
    "duration": 28,
    "start_time": "2023-09-14T08:07:36.283Z"
   },
   {
    "duration": 40,
    "start_time": "2023-09-14T08:07:36.313Z"
   },
   {
    "duration": 320,
    "start_time": "2023-09-14T08:07:36.355Z"
   },
   {
    "duration": 23,
    "start_time": "2023-09-14T08:07:36.678Z"
   },
   {
    "duration": 31,
    "start_time": "2023-09-14T08:07:36.703Z"
   },
   {
    "duration": 62,
    "start_time": "2023-09-14T08:07:36.736Z"
   },
   {
    "duration": 54,
    "start_time": "2023-09-14T08:07:36.799Z"
   },
   {
    "duration": 7,
    "start_time": "2023-09-14T08:07:36.857Z"
   },
   {
    "duration": 199,
    "start_time": "2023-09-14T08:07:36.866Z"
   },
   {
    "duration": 21,
    "start_time": "2023-09-14T08:07:37.067Z"
   },
   {
    "duration": 39,
    "start_time": "2023-09-14T08:07:37.089Z"
   },
   {
    "duration": 127,
    "start_time": "2023-09-14T08:07:37.130Z"
   },
   {
    "duration": 211,
    "start_time": "2023-09-14T08:07:37.259Z"
   },
   {
    "duration": 17,
    "start_time": "2023-09-14T08:07:37.472Z"
   },
   {
    "duration": 89,
    "start_time": "2023-09-14T08:07:37.490Z"
   },
   {
    "duration": 308,
    "start_time": "2023-09-14T08:07:37.581Z"
   },
   {
    "duration": 7,
    "start_time": "2023-09-14T08:07:37.892Z"
   },
   {
    "duration": 63,
    "start_time": "2023-09-14T08:07:37.902Z"
   },
   {
    "duration": 1541,
    "start_time": "2023-09-14T08:07:37.967Z"
   },
   {
    "duration": 4,
    "start_time": "2023-09-14T08:07:39.511Z"
   },
   {
    "duration": 42,
    "start_time": "2023-09-14T08:07:39.516Z"
   },
   {
    "duration": 46,
    "start_time": "2023-09-14T08:07:39.559Z"
   },
   {
    "duration": 66,
    "start_time": "2023-09-14T08:07:39.607Z"
   },
   {
    "duration": 2921,
    "start_time": "2023-09-14T08:07:39.675Z"
   },
   {
    "duration": 97,
    "start_time": "2023-09-14T08:07:42.598Z"
   },
   {
    "duration": 260,
    "start_time": "2023-09-14T08:07:42.697Z"
   },
   {
    "duration": 484,
    "start_time": "2023-09-14T08:07:42.962Z"
   },
   {
    "duration": 410145,
    "start_time": "2023-09-14T08:07:43.455Z"
   },
   {
    "duration": 805600,
    "start_time": "2023-09-14T08:14:33.602Z"
   },
   {
    "duration": 252833,
    "start_time": "2023-09-14T08:27:59.204Z"
   },
   {
    "duration": 267,
    "start_time": "2023-09-14T08:32:12.040Z"
   },
   {
    "duration": 4,
    "start_time": "2023-09-14T08:32:12.312Z"
   },
   {
    "duration": 78,
    "start_time": "2023-09-14T08:32:12.317Z"
   },
   {
    "duration": 67,
    "start_time": "2023-09-14T08:32:12.396Z"
   },
   {
    "duration": 1392,
    "start_time": "2023-09-14T08:32:12.464Z"
   },
   {
    "duration": 5,
    "start_time": "2023-09-14T08:32:13.857Z"
   },
   {
    "duration": 33,
    "start_time": "2023-09-14T08:32:13.864Z"
   },
   {
    "duration": 105,
    "start_time": "2023-09-14T08:32:13.899Z"
   },
   {
    "duration": 32,
    "start_time": "2023-09-14T08:32:14.006Z"
   },
   {
    "duration": 121,
    "start_time": "2023-09-14T08:34:03.707Z"
   },
   {
    "duration": 17,
    "start_time": "2023-09-14T08:34:20.115Z"
   }
  ],
  "kernelspec": {
   "display_name": "Python 3 (ipykernel)",
   "language": "python",
   "name": "python3"
  },
  "language_info": {
   "codemirror_mode": {
    "name": "ipython",
    "version": 3
   },
   "file_extension": ".py",
   "mimetype": "text/x-python",
   "name": "python",
   "nbconvert_exporter": "python",
   "pygments_lexer": "ipython3",
   "version": "3.9.5"
  },
  "toc": {
   "base_numbering": 1,
   "nav_menu": {},
   "number_sections": true,
   "sideBar": true,
   "skip_h1_title": true,
   "title_cell": "Table of Contents",
   "title_sidebar": "Contents",
   "toc_cell": false,
   "toc_position": {},
   "toc_section_display": true,
   "toc_window_display": false
  }
 },
 "nbformat": 4,
 "nbformat_minor": 5
}
