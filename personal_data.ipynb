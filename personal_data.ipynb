{
 "cells": [
  {
   "cell_type": "markdown",
   "metadata": {},
   "source": [
    " <div class=\"alert alert-success\" style=\"border-color: green; border-radius: 5px\">\n",
    "    <font color='green'> <b><u>КОММЕНТАРИЙ РЕВЬЮЕРА</u></b><br>\n",
    "Антон, доброго дня! рад приветствовать тебя) <br />\n",
    "<br />\n",
    "Меня зовут Николай Шавлюго. <br />И на этом этапе твоего движения к новой профессии от меня будут комментарии по написанному коду. <br />Чтобы меньше \"мусорить эфир\" и чтобы максимально наглядно отделяться от основного кода, есть предложение условиться в некоторых обозначениях:<br /> <br />\n",
    "<div class=\"alert alert-success\" style=\"border-color: green; border-radius: 5px\">\n",
    "    <p><u><b>✅ КОММЕНТАРИЙ РЕВЬЮЕРА</b></u></p>\n",
    "    <p>Всё хорошо.</p>\n",
    "</div>\n",
    "\n",
    "<div class=\"alert alert-warning\" style=\"border-color: darkorange; border-radius: 5px\">\n",
    "    <p><u><b>⚠️ КОММЕНТАРИЙ РЕВЬЮЕРА</b></u></p>\n",
    "    <p>Обрати внимание, есть потенциал</p>\n",
    "</div>\n",
    "\n",
    "<div class=\"alert alert-danger\" style=\"border-color: darkred; border-radius: 5px\">\n",
    "    <p><u><b>❌ КОММЕНТАРИЙ РЕВЬЮЕРА</b></u></p>\n",
    "    <p>Нужно ещё раз глянуть</p>\n",
    "</div>\n",
    "</font><br /><br />\n",
    "<font color='green'>Моей целью является не \"уличить\" в не знании, а просто высказать сверху твоих знаний - свой опыт, что бы тебе использовать его для своего дальнейшего успеха) И очень здорово будет, если удастся задавать вопросы, да и вообще - всячески доставать меня, если я по каким-то причинам не приму проект:) При этом, из своего опыта скажу, хорошо и важно, когда переписка ревьюера и студента - сохраняется на следующие проекты и даже на будущую практическую деятельность.<br>\n",
    "<br> Я сразу же начал общаться на ты:) но если это не очень удобно, то дай знать)) <BR> В ПУТЬ!<br></div>"
   ]
  },
  {
   "cell_type": "markdown",
   "metadata": {
    "toc": true
   },
   "source": [
    "<h1>Содержание<span class=\"tocSkip\"></span></h1>\n",
    "<div class=\"toc\"><ul class=\"toc-item\"><li><span><a href=\"#Загрузка-данных\" data-toc-modified-id=\"Загрузка-данных-1\"><span class=\"toc-item-num\">1&nbsp;&nbsp;</span>Загрузка данных</a></span></li><li><span><a href=\"#Умножение-матриц\" data-toc-modified-id=\"Умножение-матриц-2\"><span class=\"toc-item-num\">2&nbsp;&nbsp;</span>Умножение матриц</a></span></li><li><span><a href=\"#Алгоритм-преобразования\" data-toc-modified-id=\"Алгоритм-преобразования-3\"><span class=\"toc-item-num\">3&nbsp;&nbsp;</span>Алгоритм преобразования</a></span></li><li><span><a href=\"#Проверка-алгоритма\" data-toc-modified-id=\"Проверка-алгоритма-4\"><span class=\"toc-item-num\">4&nbsp;&nbsp;</span>Проверка алгоритма</a></span></li><li><span><a href=\"#Чек-лист-проверки\" data-toc-modified-id=\"Чек-лист-проверки-5\"><span class=\"toc-item-num\">5&nbsp;&nbsp;</span>Чек-лист проверки</a></span></li></ul></div>"
   ]
  },
  {
   "cell_type": "markdown",
   "metadata": {},
   "source": [
    "# Защита персональных данных клиентов"
   ]
  },
  {
   "cell_type": "markdown",
   "metadata": {},
   "source": [
    "Вам нужно защитить данные клиентов страховой компании «Хоть потоп». Разработайте такой метод преобразования данных, чтобы по ним было сложно восстановить персональную информацию. Обоснуйте корректность его работы.\n",
    "\n",
    "Нужно защитить данные, чтобы при преобразовании качество моделей машинного обучения не ухудшилось. Подбирать наилучшую модель не требуется."
   ]
  },
  {
   "cell_type": "markdown",
   "metadata": {},
   "source": [
    "## Загрузка данных"
   ]
  },
  {
   "cell_type": "markdown",
   "metadata": {},
   "source": [
    "Загрузим библиотеки"
   ]
  },
  {
   "cell_type": "code",
   "execution_count": 1,
   "metadata": {},
   "outputs": [],
   "source": [
    "import pandas as pd\n",
    "import numpy as np\n",
    "import seaborn as sns\n",
    "import plotly.express as px\n",
    "from sklearn.metrics import r2_score\n",
    "from sklearn.metrics import mean_squared_error\n",
    "from sklearn.model_selection import train_test_split\n",
    "\n",
    "\n",
    "\n",
    "\n",
    "from sklearn.datasets import make_spd_matrix\n",
    "from sklearn.linear_model import LinearRegression\n"
   ]
  },
  {
   "cell_type": "markdown",
   "metadata": {},
   "source": [
    "Посмотрим файл"
   ]
  },
  {
   "cell_type": "code",
   "execution_count": 2,
   "metadata": {},
   "outputs": [],
   "source": [
    "df = pd.read_csv('/datasets/insurance.csv')"
   ]
  },
  {
   "cell_type": "markdown",
   "metadata": {},
   "source": [
    "<div class=\"alert alert-success\" style=\"border-color: green; border-radius: 5px\">\n",
    "    <p><u><b>✅ КОММЕНТАРИЙ РЕВЬЮЕРА</b></u></p>\n",
    "    <p>ОК, данные на базе.</p>\n",
    "</div>"
   ]
  },
  {
   "cell_type": "code",
   "execution_count": 3,
   "metadata": {},
   "outputs": [
    {
     "name": "stdout",
     "output_type": "stream",
     "text": [
      "<class 'pandas.core.frame.DataFrame'>\n",
      "RangeIndex: 5000 entries, 0 to 4999\n",
      "Data columns (total 5 columns):\n",
      " #   Column             Non-Null Count  Dtype  \n",
      "---  ------             --------------  -----  \n",
      " 0   Пол                5000 non-null   int64  \n",
      " 1   Возраст            5000 non-null   float64\n",
      " 2   Зарплата           5000 non-null   float64\n",
      " 3   Члены семьи        5000 non-null   int64  \n",
      " 4   Страховые выплаты  5000 non-null   int64  \n",
      "dtypes: float64(2), int64(3)\n",
      "memory usage: 195.4 KB\n"
     ]
    },
    {
     "data": {
      "text/plain": [
       "None"
      ]
     },
     "metadata": {},
     "output_type": "display_data"
    },
    {
     "data": {
      "text/html": [
       "<div>\n",
       "<style scoped>\n",
       "    .dataframe tbody tr th:only-of-type {\n",
       "        vertical-align: middle;\n",
       "    }\n",
       "\n",
       "    .dataframe tbody tr th {\n",
       "        vertical-align: top;\n",
       "    }\n",
       "\n",
       "    .dataframe thead th {\n",
       "        text-align: right;\n",
       "    }\n",
       "</style>\n",
       "<table border=\"1\" class=\"dataframe\">\n",
       "  <thead>\n",
       "    <tr style=\"text-align: right;\">\n",
       "      <th></th>\n",
       "      <th>Пол</th>\n",
       "      <th>Возраст</th>\n",
       "      <th>Зарплата</th>\n",
       "      <th>Члены семьи</th>\n",
       "      <th>Страховые выплаты</th>\n",
       "    </tr>\n",
       "  </thead>\n",
       "  <tbody>\n",
       "    <tr>\n",
       "      <th>0</th>\n",
       "      <td>1</td>\n",
       "      <td>41.0</td>\n",
       "      <td>49600.0</td>\n",
       "      <td>1</td>\n",
       "      <td>0</td>\n",
       "    </tr>\n",
       "    <tr>\n",
       "      <th>1</th>\n",
       "      <td>0</td>\n",
       "      <td>46.0</td>\n",
       "      <td>38000.0</td>\n",
       "      <td>1</td>\n",
       "      <td>1</td>\n",
       "    </tr>\n",
       "    <tr>\n",
       "      <th>2</th>\n",
       "      <td>0</td>\n",
       "      <td>29.0</td>\n",
       "      <td>21000.0</td>\n",
       "      <td>0</td>\n",
       "      <td>0</td>\n",
       "    </tr>\n",
       "    <tr>\n",
       "      <th>3</th>\n",
       "      <td>0</td>\n",
       "      <td>21.0</td>\n",
       "      <td>41700.0</td>\n",
       "      <td>2</td>\n",
       "      <td>0</td>\n",
       "    </tr>\n",
       "    <tr>\n",
       "      <th>4</th>\n",
       "      <td>1</td>\n",
       "      <td>28.0</td>\n",
       "      <td>26100.0</td>\n",
       "      <td>0</td>\n",
       "      <td>0</td>\n",
       "    </tr>\n",
       "  </tbody>\n",
       "</table>\n",
       "</div>"
      ],
      "text/plain": [
       "   Пол  Возраст  Зарплата  Члены семьи  Страховые выплаты\n",
       "0    1     41.0   49600.0            1                  0\n",
       "1    0     46.0   38000.0            1                  1\n",
       "2    0     29.0   21000.0            0                  0\n",
       "3    0     21.0   41700.0            2                  0\n",
       "4    1     28.0   26100.0            0                  0"
      ]
     },
     "metadata": {},
     "output_type": "display_data"
    },
    {
     "data": {
      "text/plain": [
       "'Количество явных дубликтов:'"
      ]
     },
     "metadata": {},
     "output_type": "display_data"
    },
    {
     "data": {
      "text/plain": [
       "153"
      ]
     },
     "metadata": {},
     "output_type": "display_data"
    }
   ],
   "source": [
    "display(df.info())\n",
    "display(df.head(5))\n",
    "display('Количество явных дубликтов:', df.duplicated().sum())"
   ]
  },
  {
   "cell_type": "markdown",
   "metadata": {},
   "source": [
    "Удалим дубликаты"
   ]
  },
  {
   "cell_type": "code",
   "execution_count": 4,
   "metadata": {},
   "outputs": [],
   "source": [
    "#df.drop_duplicates()"
   ]
  },
  {
   "cell_type": "markdown",
   "metadata": {},
   "source": [
    "<div class=\"alert alert-warning\" style=\"border-color: darkorange; border-radius: 5px\">\n",
    "    <p><u><b>⚠️ КОММЕНТАРИЙ РЕВЬЮЕРА</b></u></p>\n",
    "    <p>На обсуждение: у нас тут нет Id клинета. И тогда получается, что чисто теоретичнески - одинаковые строки вполне могут быть разным клиентами. Т.е. математические дубликаты в данной задаче не есть дубликаты по смыслу жизни. Как ты думаешь?</p>\n",
    "</div>"
   ]
  },
  {
   "cell_type": "markdown",
   "metadata": {},
   "source": [
    "Изменим тип данных в \"Возраст\""
   ]
  },
  {
   "cell_type": "code",
   "execution_count": 5,
   "metadata": {},
   "outputs": [],
   "source": [
    "df['Возраст'] = df['Возраст'].astype('int')"
   ]
  },
  {
   "cell_type": "markdown",
   "metadata": {},
   "source": [
    "- Изучили данные и привели их в надлежащий вид"
   ]
  },
  {
   "cell_type": "markdown",
   "metadata": {},
   "source": [
    "<div class=\"alert alert-success\" style=\"border-color: green; border-radius: 5px\">\n",
    "    <p><u><b>✅ КОММЕНТАРИЙ РЕВЬЮЕРА</b></u></p>\n",
    "    <p>Отлично, в любом проекте необходимо делать такое аналитическое начало</p>\n",
    "</div>\n",
    "<div class=\"alert alert-warning\" style=\"border-color: darkorange; border-radius: 5px\">\n",
    "    <p><u><b>⚠️ КОММЕНТАРИЙ РЕВЬЮЕРА</b></u></p>\n",
    "    <p>Но вот  не хватает описательного анализа (дискрайб хотя бы). И по графикам есть такой момент: нужен графический анализ в любой модельной работе). Причём: Если наши данные колличественные, то гистограммы/ящик с усами подходят. А вот если данные категориальные (или бинарные, как пол), то применяется другой тип графика - столбчатый или круговая диаграммы.<br>\n",
    "Тут можно подисскутировать про \"страховые выплаты\" и \"члены семьи\" - они колличественные. Но больше могут походить на категории. Поэтому интереснее и к ним применить столбчатый или круговые диаграммы.<br>\n",
    "<br>"
   ]
  },
  {
   "cell_type": "code",
   "execution_count": 6,
   "metadata": {
    "scrolled": true
   },
   "outputs": [
    {
     "data": {
      "image/png": "[encoded data removed]",
      "text/plain": [
       "<Figure size 360x360 with 1 Axes>"
      ]
     },
     "metadata": {
      "needs_background": "light"
     },
     "output_type": "display_data"
    },
    {
     "data": {
      "image/png": "[encoded data removed]",
      "text/plain": [
       "<Figure size 360x360 with 1 Axes>"
      ]
     },
     "metadata": {
      "needs_background": "light"
     },
     "output_type": "display_data"
    },
    {
     "data": {
      "image/png": "[encoded data removed]",
      "text/plain": [
       "<Figure size 360x360 with 1 Axes>"
      ]
     },
     "metadata": {
      "needs_background": "light"
     },
     "output_type": "display_data"
    },
    {
     "data": {
      "image/png": "[encoded data removed]",
      "text/plain": [
       "<Figure size 360x360 with 1 Axes>"
      ]
     },
     "metadata": {
      "needs_background": "light"
     },
     "output_type": "display_data"
    },
    {
     "data": {
      "image/png": "[encoded data removed]",
      "text/plain": [
       "<Figure size 360x360 with 1 Axes>"
      ]
     },
     "metadata": {
      "needs_background": "light"
     },
     "output_type": "display_data"
    }
   ],
   "source": [
    "for column in ['Пол','Возраст', 'Зарплата', 'Члены семьи','Страховые выплаты']:\n",
    "    sns.displot(df[column],kind='hist',rug=True,kde=True);   "
   ]
  },
  {
   "cell_type": "code",
   "execution_count": null,
   "metadata": {},
   "outputs": [],
   "source": []
  },
  {
   "cell_type": "markdown",
   "metadata": {},
   "source": [
    "<div class=\"alert alert-success\" style=\"border-color: green; border-radius: 5px\">\n",
    "    <p><u><b>✅ КОММЕНТАРИЙ РЕВЬЮЕРА 2</b></u></p>\n",
    "Почти и не рааставались сегодня:)<br>\n",
    "ОК, Антон, убедительно)) СОбственно всё.<br>   \n",
    "Ещё, правда, несколько идей в целом по теме: если рассматривать передачу данных третьим лицам, то к преимуществам данного подхода можно отнести, в первую очередь, ощутимую экономию ресурсов по сравнению с некоторыми известными алгоритмами шифрования, в особенности это касается ассиметричных алгоритмов с достаточно длинными ключами (AES, RSA), которые требуют много процессорного времени.<br><br>\n",
    "    \n",
    "К главному недостатку подхода можно отнести увеличение сложности проверки на вырожденность преобразования с ростом количества признаков в выборке. В рассмотренном случае необходимо подобрать подходящую матрицу размера  4×4 . Однако, если признаки будут исчисляться тысячами, что в теории всегда надо положить, то расчет соответствующих определителей может быть крайне ресурсозатратным. Но и эту проблему можно будет решить)<br><br>\n",
    "    \n",
    "Если есть время и желание, то можно воту этот маткриал просмотреть:<br>\n",
    "Обзоры по применению криптографии в машинном обучении: https://arxiv.org/pdf/1902.04109.pdf, https://www.researchgate.net/publication/342746786_Some_Applications_of_Machine_Learning_in_Cryptography\n",
    "Подробнее про аналогичный алгоритм: https://www.cs.cmu.edu/~rjhall/JOS_revised_May_31a.pdf<br>\n",
    "Шифрование исходного ключа по методу \"Цезаря\" (https://ru.wikipedia.org/wiki/%D0%A8%D0%B8%D1%84%D1%80_%D0%A6%D0%B5%D0%B7%D0%B0%D1%80%D1%8F)<br>\n",
    "<font color='green'><font color='green'>\n",
    "Спасибо за проект) <br>\n",
    "Успешного дальнейшего обучения"
   ]
  },
  {
   "cell_type": "code",
   "execution_count": null,
   "metadata": {},
   "outputs": [],
   "source": []
  },
  {
   "cell_type": "markdown",
   "metadata": {},
   "source": [
    "## Умножение матриц"
   ]
  },
  {
   "cell_type": "markdown",
   "metadata": {},
   "source": [
    "В этом задании вы можете записывать формулы в *Jupyter Notebook.*\n",
    "\n",
    "Чтобы записать формулу внутри текста, окружите её символами доллара \\\\$; если снаружи —  двойными символами \\\\$\\\\$. Эти формулы записываются на языке вёрстки *LaTeX.* \n",
    "\n",
    "Для примера мы записали формулы линейной регрессии. Можете их скопировать и отредактировать, чтобы решить задачу.\n",
    "\n",
    "Работать в *LaTeX* необязательно."
   ]
  },
  {
   "cell_type": "markdown",
   "metadata": {},
   "source": [
    "Обозначения:\n",
    "\n",
    "- $X$ — матрица признаков (нулевой столбец состоит из единиц)\n",
    "\n",
    "- $y$ — вектор целевого признака\n",
    "\n",
    "- $P$ — матрица, на которую умножаются признаки\n",
    "\n",
    "- $w$ — вектор весов линейной регрессии (нулевой элемент равен сдвигу)"
   ]
  },
  {
   "cell_type": "markdown",
   "metadata": {},
   "source": [
    "Предсказания:\n",
    "\n",
    "$$\n",
    "a = Xw\n",
    "$$\n",
    "\n",
    "Задача обучения:\n",
    "\n",
    "$$\n",
    "w = \\arg\\min_w MSE(Xw, y)\n",
    "$$\n",
    "\n",
    "Формула обучения:\n",
    "\n",
    "$$\n",
    "w = (X^T X)^{-1} X^T y\n",
    "$$"
   ]
  },
  {
   "cell_type": "markdown",
   "metadata": {},
   "source": [
    "**Вопрос:** Признаки умножают на обратимую матрицу. Изменится ли качество линейной регрессии? (Её можно обучить заново.)\n",
    "\n",
    "**Обоснование:** "
   ]
  },
  {
   "cell_type": "markdown",
   "metadata": {},
   "source": [
    "Убедимся в том, что линейня регрессия из scikit-learn вычисляет значения по формуле."
   ]
  },
  {
   "cell_type": "code",
   "execution_count": 7,
   "metadata": {},
   "outputs": [],
   "source": [
    "features = df.drop('Страховые выплаты',axis=1)\n",
    "target = df['Страховые выплаты']"
   ]
  },
  {
   "cell_type": "code",
   "execution_count": 8,
   "metadata": {},
   "outputs": [
    {
     "name": "stdout",
     "output_type": "stream",
     "text": [
      "[ 7.92580543e-03  3.57083050e-02 -1.70080492e-07 -1.35676623e-02]\n"
     ]
    },
    {
     "data": {
      "text/plain": [
       "array([ 7.92580543e-03,  3.57083050e-02, -1.70080492e-07, -1.35676623e-02])"
      ]
     },
     "execution_count": 8,
     "metadata": {},
     "output_type": "execute_result"
    }
   ],
   "source": [
    "X = np.concatenate((np.ones((features.shape[0], 1)), features), axis=1)\n",
    "y = target\n",
    "w = np.linalg.inv(X.T @ X) @ X.T @ y\n",
    "print(w[1:])\n",
    "model = LinearRegression()\n",
    "model.fit(features, target)\n",
    "model.coef_"
   ]
  },
  {
   "cell_type": "markdown",
   "metadata": {},
   "source": [
    "Коэфициенты регрессии совпадают на 100%. Теперь перейдем к теоретической части."
   ]
  },
  {
   "cell_type": "markdown",
   "metadata": {},
   "source": [
    "Умнажаем матрицу признаков на матрицу шифрования и подставим результат в формулу обучения:"
   ]
  },
  {
   "cell_type": "markdown",
   "metadata": {},
   "source": [
    "$$\n",
    "w_{new} = ((XP^T (XP))^{-1} (XP)^T y\n",
    "$$"
   ]
  },
  {
   "cell_type": "markdown",
   "metadata": {},
   "source": [
    "Преобразуем выражение"
   ]
  },
  {
   "cell_type": "markdown",
   "metadata": {},
   "source": [
    "$$\n",
    "w_{new} = (P^T X^T XP)^{-1} P^T X^T y\n",
    "$$"
   ]
  },
  {
   "cell_type": "markdown",
   "metadata": {},
   "source": [
    "$$\n",
    "w_{new} = (P^T (X^T X)P)^{-1} P^T X^T y\n",
    "$$"
   ]
  },
  {
   "cell_type": "markdown",
   "metadata": {},
   "source": [
    "$$\n",
    "w_{new} = P^{-1} (X^T X)^{-1} (P^T)^{-1} P^T X^T y\n",
    "$$"
   ]
  },
  {
   "cell_type": "markdown",
   "metadata": {},
   "source": [
    "Видим схожесть: $(P^T)^{-1} P^T = E$, и формула станет иметь вид:"
   ]
  },
  {
   "cell_type": "markdown",
   "metadata": {},
   "source": [
    "$$\n",
    "w_{new} = P^{-1} X^{-1} (X^{T})^{-1} X^T y\n",
    "$$"
   ]
  },
  {
   "cell_type": "markdown",
   "metadata": {},
   "source": [
    "Использовав свойства матриц, получим:"
   ]
  },
  {
   "cell_type": "markdown",
   "metadata": {},
   "source": [
    "$$\n",
    "w_{new} = P^{-1}(X^{T}X)^{-1} X^T y\n",
    "$$"
   ]
  },
  {
   "cell_type": "markdown",
   "metadata": {},
   "source": [
    "$$\n",
    "w_{new} = P^{-1}w\n",
    "$$"
   ]
  },
  {
   "cell_type": "markdown",
   "metadata": {},
   "source": [
    "Следовательно, так как веса линейной регрессии связаны, то качество модели, определяемое коэффициентом детерминации \n",
    ", не изменится. Модель будет давать одинаковые предсказания."
   ]
  },
  {
   "cell_type": "markdown",
   "metadata": {},
   "source": [
    "Подставим в формулу предсказаний $ a = X_{new}$ матрицу $ X_{new} = XP$ и признаки $w_{new}$"
   ]
  },
  {
   "cell_type": "markdown",
   "metadata": {},
   "source": [
    "$$a_{new}  = XPw_{new} a_{new} = XPP^{-1}wa_{new} = Xw = a$$"
   ]
  },
  {
   "cell_type": "markdown",
   "metadata": {},
   "source": [
    "**Ответ:** Не изменится."
   ]
  },
  {
   "cell_type": "markdown",
   "metadata": {},
   "source": [
    "<div class=\"alert alert-success\" style=\"border-color: green; border-radius: 5px\">\n",
    "    <p><u><b>✅ КОММЕНТАРИЙ РЕВЬЮЕРА</b></u></p>\n",
    "    <p>понял!</p>\n",
    "</div>"
   ]
  },
  {
   "cell_type": "markdown",
   "metadata": {},
   "source": [
    "## Алгоритм преобразования"
   ]
  },
  {
   "cell_type": "markdown",
   "metadata": {},
   "source": [
    "1. Создадим случайную матрицу $P$ размерности $(nxn)$ для матрицы с данными $X$ размерности $(mxn)$."
   ]
  },
  {
   "cell_type": "markdown",
   "metadata": {},
   "source": [
    "2. Сразу проверяем полученную матрицу на обратимость. Если матрица обратима, идём дальше. Если матрица необратима, генерируем новые матрицы, до тех пор пока не получим обратимую матрицу или пока не достигнем лимита итераций.\n",
    "\n"
   ]
  },
  {
   "cell_type": "markdown",
   "metadata": {},
   "source": [
    "3. Сохранаяем пару матриц $P, P^{-1}$\n",
    " как ключи для шифровки/ дешифровки."
   ]
  },
  {
   "cell_type": "markdown",
   "metadata": {},
   "source": [
    "4. Преобразовываем данные с помощью умножения матрицы $X$ на матрицу $P$."
   ]
  },
  {
   "cell_type": "markdown",
   "metadata": {},
   "source": [
    "5. Проверяем способность восстановить данные с помощью умножения на матрицу $P^{-1}$."
   ]
  },
  {
   "cell_type": "markdown",
   "metadata": {},
   "source": [
    "6. Сравниваем метрики для линейной регрессии на оригинальных и преобразованных данных."
   ]
  },
  {
   "cell_type": "markdown",
   "metadata": {},
   "source": [
    "7. Делаем вывод."
   ]
  },
  {
   "cell_type": "markdown",
   "metadata": {},
   "source": [
    "<div class=\"alert alert-success\" style=\"border-color: green; border-radius: 5px\">\n",
    "    <p><u><b>✅ КОММЕНТАРИЙ РЕВЬЮЕРА</b></u></p>\n",
    "да, тут как раз и нужен план действий для пункта 4) Делай раз, делай два, делай три..."
   ]
  },
  {
   "cell_type": "markdown",
   "metadata": {},
   "source": [
    "## Проверка алгоритма"
   ]
  },
  {
   "cell_type": "markdown",
   "metadata": {},
   "source": [
    "\n",
    "Проверим, что качество линейной регрессии из sklearn не отличается до и после преобразования. "
   ]
  },
  {
   "cell_type": "code",
   "execution_count": 9,
   "metadata": {},
   "outputs": [],
   "source": [
    "features = df.drop(columns='Страховые выплаты', axis=1)\n",
    "target = df['Страховые выплаты']\n",
    "features_train, features_test, target_train, target_test = train_test_split(\n",
    "    features,    target,     random_state=12345,shuffle=True,   test_size=0.25)"
   ]
  },
  {
   "cell_type": "code",
   "execution_count": 10,
   "metadata": {},
   "outputs": [
    {
     "name": "stdout",
     "output_type": "stream",
     "text": [
      "Значение метрики R2 для линейной регрессии 0.4352275712702667\n"
     ]
    }
   ],
   "source": [
    "class LinearRegression:\n",
    "    def fit(self, train_features, train_target):\n",
    "        X = np.concatenate((np.ones((train_features.shape[0], 1)), train_features), axis=1)\n",
    "        y = train_target\n",
    "        w =  np.linalg.inv(X.T.dot(X)).dot(X.T).dot(y)\n",
    "        self.w = w[1:]\n",
    "        self.w0 = w[0]\n",
    "\n",
    "    def predict(self, test_features):\n",
    "        return test_features.dot(self.w) + self.w0\n",
    "    \n",
    "model = LinearRegression()\n",
    "model.fit(features_train, target_train)\n",
    "predictions = model.predict(features_test)\n",
    "print('Значение метрики R2 для линейной регрессии',r2_score(target_test, predictions))"
   ]
  },
  {
   "cell_type": "code",
   "execution_count": 11,
   "metadata": {},
   "outputs": [
    {
     "data": {
      "text/plain": [
       "array([[0, 1, 1, 0],\n",
       "       [3, 1, 1, 4],\n",
       "       [3, 2, 0, 1],\n",
       "       [0, 1, 0, 1]])"
      ]
     },
     "execution_count": 11,
     "metadata": {},
     "output_type": "execute_result"
    }
   ],
   "source": [
    "# выведем саму матрицу\n",
    "rand_matrix = np.random.randint(5, size=(4, 4))\n",
    "rand_matrix"
   ]
  },
  {
   "cell_type": "code",
   "execution_count": 12,
   "metadata": {},
   "outputs": [
    {
     "data": {
      "text/plain": [
       "array([[-0.06666667,  0.06666667,  0.26666667, -0.53333333],\n",
       "       [ 0.2       , -0.2       ,  0.2       ,  0.6       ],\n",
       "       [ 0.8       ,  0.2       , -0.2       , -0.6       ],\n",
       "       [-0.2       ,  0.2       , -0.2       ,  0.4       ]])"
      ]
     },
     "execution_count": 12,
     "metadata": {},
     "output_type": "execute_result"
    }
   ],
   "source": [
    "# проверка обратимости матрицы\n",
    "np.linalg.inv(rand_matrix)"
   ]
  },
  {
   "cell_type": "markdown",
   "metadata": {},
   "source": [
    "<div class=\"alert alert-success\" style=\"border-color: green; border-radius: 5px\">\n",
    "    <p><u><b>✅ КОММЕНТАРИЙ РЕВЬЮЕРА</b></u></p>Верно, это обязательно."
   ]
  },
  {
   "cell_type": "code",
   "execution_count": 13,
   "metadata": {},
   "outputs": [
    {
     "data": {
      "text/html": [
       "<div>\n",
       "<style scoped>\n",
       "    .dataframe tbody tr th:only-of-type {\n",
       "        vertical-align: middle;\n",
       "    }\n",
       "\n",
       "    .dataframe tbody tr th {\n",
       "        vertical-align: top;\n",
       "    }\n",
       "\n",
       "    .dataframe thead th {\n",
       "        text-align: right;\n",
       "    }\n",
       "</style>\n",
       "<table border=\"1\" class=\"dataframe\">\n",
       "  <thead>\n",
       "    <tr style=\"text-align: right;\">\n",
       "      <th></th>\n",
       "      <th>Пол</th>\n",
       "      <th>Возраст</th>\n",
       "      <th>Зарплата</th>\n",
       "      <th>Члены семьи</th>\n",
       "    </tr>\n",
       "  </thead>\n",
       "  <tbody>\n",
       "    <tr>\n",
       "      <th>0</th>\n",
       "      <td>148846.0</td>\n",
       "      <td>198567.0</td>\n",
       "      <td>198567.0</td>\n",
       "      <td>99286.0</td>\n",
       "    </tr>\n",
       "    <tr>\n",
       "      <th>1</th>\n",
       "      <td>114050.0</td>\n",
       "      <td>152186.0</td>\n",
       "      <td>152185.0</td>\n",
       "      <td>76094.0</td>\n",
       "    </tr>\n",
       "    <tr>\n",
       "      <th>2</th>\n",
       "      <td>63029.0</td>\n",
       "      <td>84116.0</td>\n",
       "      <td>84116.0</td>\n",
       "      <td>42058.0</td>\n",
       "    </tr>\n",
       "    <tr>\n",
       "      <th>3</th>\n",
       "      <td>125129.0</td>\n",
       "      <td>166888.0</td>\n",
       "      <td>166886.0</td>\n",
       "      <td>83446.0</td>\n",
       "    </tr>\n",
       "    <tr>\n",
       "      <th>4</th>\n",
       "      <td>78329.0</td>\n",
       "      <td>104513.0</td>\n",
       "      <td>104514.0</td>\n",
       "      <td>52258.0</td>\n",
       "    </tr>\n",
       "    <tr>\n",
       "      <th>...</th>\n",
       "      <td>...</td>\n",
       "      <td>...</td>\n",
       "      <td>...</td>\n",
       "      <td>...</td>\n",
       "    </tr>\n",
       "    <tr>\n",
       "      <th>4995</th>\n",
       "      <td>107136.0</td>\n",
       "      <td>142916.0</td>\n",
       "      <td>142914.0</td>\n",
       "      <td>71460.0</td>\n",
       "    </tr>\n",
       "    <tr>\n",
       "      <th>4996</th>\n",
       "      <td>157238.0</td>\n",
       "      <td>209738.0</td>\n",
       "      <td>209737.0</td>\n",
       "      <td>104870.0</td>\n",
       "    </tr>\n",
       "    <tr>\n",
       "      <th>4997</th>\n",
       "      <td>101728.0</td>\n",
       "      <td>135684.0</td>\n",
       "      <td>135682.0</td>\n",
       "      <td>67844.0</td>\n",
       "    </tr>\n",
       "    <tr>\n",
       "      <th>4998</th>\n",
       "      <td>98135.0</td>\n",
       "      <td>130895.0</td>\n",
       "      <td>130893.0</td>\n",
       "      <td>65452.0</td>\n",
       "    </tr>\n",
       "    <tr>\n",
       "      <th>4999</th>\n",
       "      <td>121833.0</td>\n",
       "      <td>162515.0</td>\n",
       "      <td>162515.0</td>\n",
       "      <td>81260.0</td>\n",
       "    </tr>\n",
       "  </tbody>\n",
       "</table>\n",
       "<p>5000 rows × 4 columns</p>\n",
       "</div>"
      ],
      "text/plain": [
       "           Пол   Возраст  Зарплата  Члены семьи\n",
       "0     148846.0  198567.0  198567.0      99286.0\n",
       "1     114050.0  152186.0  152185.0      76094.0\n",
       "2      63029.0   84116.0   84116.0      42058.0\n",
       "3     125129.0  166888.0  166886.0      83446.0\n",
       "4      78329.0  104513.0  104514.0      52258.0\n",
       "...        ...       ...       ...          ...\n",
       "4995  107136.0  142916.0  142914.0      71460.0\n",
       "4996  157238.0  209738.0  209737.0     104870.0\n",
       "4997  101728.0  135684.0  135682.0      67844.0\n",
       "4998   98135.0  130895.0  130893.0      65452.0\n",
       "4999  121833.0  162515.0  162515.0      81260.0\n",
       "\n",
       "[5000 rows x 4 columns]"
      ]
     },
     "metadata": {},
     "output_type": "display_data"
    }
   ],
   "source": [
    "# продемонстрируем перемноженную матрицу\n",
    "multiple_feature = pd.DataFrame(features@np.random.randint(5, size=(4, 4)))\n",
    "multiple_feature.columns = features.columns\n",
    "display(multiple_feature)"
   ]
  },
  {
   "cell_type": "code",
   "execution_count": 14,
   "metadata": {},
   "outputs": [
    {
     "name": "stdout",
     "output_type": "stream",
     "text": [
      "Значение метрики R2 для линейной регрессии после преобразования 0.43522757182313454\n"
     ]
    }
   ],
   "source": [
    "features_train = features_train.dot(rand_matrix)\n",
    "features_test = features_test.dot(rand_matrix)\n",
    "    \n",
    "model = LinearRegression()\n",
    "model.fit(features_train, target_train)\n",
    "predictions = model.predict(features_test)\n",
    "print('Значение метрики R2 для линейной регрессии после преобразования',r2_score(target_test, predictions))"
   ]
  },
  {
   "cell_type": "markdown",
   "metadata": {},
   "source": [
    "Вывод:\n",
    "Как мы увидили на практике домножение признаков на обратимую квадратную матрицу не повлияло на качество модели. Данные успешно зашифрованы. В то же время это позволяет нам успешно предсказывать для каждого клиента количество страховых выплат."
   ]
  },
  {
   "cell_type": "markdown",
   "metadata": {},
   "source": [
    "<div class=\"alert alert-success\" style=\"border-color: green; border-radius: 5px\">\n",
    "    <p><u><b>✅ КОММЕНТАРИЙ РЕВЬЮЕРА</b></u></p>\n",
    "ОК, Антон, и с линейной алгеброй ты справился)<br>\n",
    "Всё, в общем-то, по делу, со смыслом. Доказательство в п.2 - понятно)<br>\n",
    "Да и весь проект - на уровне.<br>\n",
    "Не забыл про проверку на обратимость! ОК<br>\n",
    "    \n",
    "В общем-то, вопросов у меня и нет особых. Оставил только комментарий по графическому анализу - посомтри, пожалуйста.<br>"
   ]
  },
  {
   "cell_type": "markdown",
   "metadata": {},
   "source": [
    "## Чек-лист проверки"
   ]
  },
  {
   "cell_type": "markdown",
   "metadata": {},
   "source": [
    "Поставьте 'x' в выполненных пунктах. Далее нажмите Shift+Enter."
   ]
  },
  {
   "cell_type": "markdown",
   "metadata": {},
   "source": [
    "- [x]  Jupyter Notebook открыт\n",
    "- [x]  Весь код выполняется без ошибок\n",
    "- [x]  Ячейки с кодом расположены в порядке исполнения\n",
    "- [x]  Выполнен шаг 1: данные загружены\n",
    "- [x]  Выполнен шаг 2: получен ответ на вопрос об умножении матриц\n",
    "    - [x]  Указан правильный вариант ответа\n",
    "    - [x]  Вариант обоснован\n",
    "- [x]  Выполнен шаг 3: предложен алгоритм преобразования\n",
    "    - [x]  Алгоритм описан\n",
    "    - [x]  Алгоритм обоснован\n",
    "- [x]  Выполнен шаг 4: алгоритм проверен\n",
    "    - [x]  Алгоритм реализован\n",
    "    - [x]  Проведено сравнение качества моделей до и после преобразования"
   ]
  },
  {
   "cell_type": "code",
   "execution_count": null,
   "metadata": {},
   "outputs": [],
   "source": []
  },
  {
   "cell_type": "code",
   "execution_count": null,
   "metadata": {},
   "outputs": [],
   "source": []
  }
 ],
 "metadata": {
  "ExecuteTimeLog": [
   {
    "duration": 1173,
    "start_time": "2023-04-12T05:41:01.012Z"
   },
   {
    "duration": 90,
    "start_time": "2023-04-12T05:41:02.224Z"
   },
   {
    "duration": 28,
    "start_time": "2023-04-12T05:41:02.966Z"
   },
   {
    "duration": 17,
    "start_time": "2023-04-12T05:41:50.854Z"
   },
   {
    "duration": 4,
    "start_time": "2023-04-12T05:42:54.171Z"
   },
   {
    "duration": 169,
    "start_time": "2023-04-12T07:23:29.359Z"
   },
   {
    "duration": 74,
    "start_time": "2023-04-12T09:08:13.388Z"
   },
   {
    "duration": 161,
    "start_time": "2023-04-12T09:37:50.001Z"
   },
   {
    "duration": 813,
    "start_time": "2023-04-12T15:04:56.132Z"
   },
   {
    "duration": 1498,
    "start_time": "2023-04-13T08:39:32.371Z"
   },
   {
    "duration": 124,
    "start_time": "2023-04-13T08:39:33.875Z"
   },
   {
    "duration": 30,
    "start_time": "2023-04-13T08:39:34.001Z"
   },
   {
    "duration": 28,
    "start_time": "2023-04-13T08:39:34.033Z"
   },
   {
    "duration": 16,
    "start_time": "2023-04-13T08:39:34.069Z"
   },
   {
    "duration": 118,
    "start_time": "2023-04-13T08:39:34.087Z"
   },
   {
    "duration": 0,
    "start_time": "2023-04-13T08:39:34.207Z"
   },
   {
    "duration": 1372,
    "start_time": "2023-04-13T08:40:20.484Z"
   },
   {
    "duration": 39,
    "start_time": "2023-04-13T08:40:21.865Z"
   },
   {
    "duration": 31,
    "start_time": "2023-04-13T08:40:21.906Z"
   },
   {
    "duration": 27,
    "start_time": "2023-04-13T08:40:21.939Z"
   },
   {
    "duration": 36,
    "start_time": "2023-04-13T08:40:21.968Z"
   },
   {
    "duration": 12,
    "start_time": "2023-04-13T08:40:22.006Z"
   },
   {
    "duration": 37,
    "start_time": "2023-04-13T08:40:22.020Z"
   },
   {
    "duration": 76,
    "start_time": "2023-04-17T14:11:31.504Z"
   },
   {
    "duration": 74,
    "start_time": "2023-04-17T14:13:04.773Z"
   },
   {
    "duration": 81,
    "start_time": "2023-04-17T14:14:07.284Z"
   },
   {
    "duration": 190,
    "start_time": "2023-04-17T14:14:30.115Z"
   },
   {
    "duration": 106,
    "start_time": "2023-04-17T14:14:51.281Z"
   },
   {
    "duration": 245,
    "start_time": "2023-04-17T14:25:38.930Z"
   },
   {
    "duration": 1064,
    "start_time": "2023-04-17T14:30:26.249Z"
   },
   {
    "duration": 96,
    "start_time": "2023-04-17T14:30:27.314Z"
   },
   {
    "duration": 26,
    "start_time": "2023-04-17T14:30:27.411Z"
   },
   {
    "duration": 12,
    "start_time": "2023-04-17T14:30:27.439Z"
   },
   {
    "duration": 6,
    "start_time": "2023-04-17T14:30:27.452Z"
   },
   {
    "duration": 17,
    "start_time": "2023-04-17T14:30:27.460Z"
   },
   {
    "duration": 41,
    "start_time": "2023-04-17T14:30:27.479Z"
   },
   {
    "duration": 198,
    "start_time": "2023-04-17T14:30:27.522Z"
   },
   {
    "duration": 0,
    "start_time": "2023-04-17T14:30:27.721Z"
   },
   {
    "duration": 0,
    "start_time": "2023-04-17T14:30:27.723Z"
   },
   {
    "duration": 0,
    "start_time": "2023-04-17T14:30:27.724Z"
   },
   {
    "duration": 0,
    "start_time": "2023-04-17T14:30:27.724Z"
   },
   {
    "duration": 0,
    "start_time": "2023-04-17T14:30:27.725Z"
   },
   {
    "duration": 7,
    "start_time": "2023-04-17T14:31:10.631Z"
   },
   {
    "duration": 9,
    "start_time": "2023-04-17T14:31:11.532Z"
   },
   {
    "duration": 3,
    "start_time": "2023-04-17T14:31:14.465Z"
   },
   {
    "duration": 5,
    "start_time": "2023-04-17T14:31:15.199Z"
   },
   {
    "duration": 15,
    "start_time": "2023-04-17T14:31:15.845Z"
   },
   {
    "duration": 7,
    "start_time": "2023-04-17T14:31:19.413Z"
   },
   {
    "duration": 1067,
    "start_time": "2023-04-17T14:31:35.341Z"
   },
   {
    "duration": 28,
    "start_time": "2023-04-17T14:31:36.410Z"
   },
   {
    "duration": 25,
    "start_time": "2023-04-17T14:31:36.440Z"
   },
   {
    "duration": 12,
    "start_time": "2023-04-17T14:31:36.467Z"
   },
   {
    "duration": 3,
    "start_time": "2023-04-17T14:31:36.480Z"
   },
   {
    "duration": 5,
    "start_time": "2023-04-17T14:31:36.484Z"
   },
   {
    "duration": 28,
    "start_time": "2023-04-17T14:31:36.490Z"
   },
   {
    "duration": 7,
    "start_time": "2023-04-17T14:31:36.520Z"
   },
   {
    "duration": 94,
    "start_time": "2023-04-17T14:31:36.529Z"
   },
   {
    "duration": 93,
    "start_time": "2023-04-17T14:31:36.626Z"
   },
   {
    "duration": 99,
    "start_time": "2023-04-17T14:31:36.721Z"
   },
   {
    "duration": 105,
    "start_time": "2023-04-17T14:31:36.822Z"
   },
   {
    "duration": 18,
    "start_time": "2023-04-17T14:31:36.929Z"
   },
   {
    "duration": 3352,
    "start_time": "2023-04-18T07:15:13.229Z"
   },
   {
    "duration": 30,
    "start_time": "2023-04-18T07:15:16.583Z"
   },
   {
    "duration": 33,
    "start_time": "2023-04-18T07:15:25.030Z"
   },
   {
    "duration": 12,
    "start_time": "2023-04-18T07:15:26.467Z"
   },
   {
    "duration": 4,
    "start_time": "2023-04-18T07:15:28.214Z"
   },
   {
    "duration": 5,
    "start_time": "2023-04-18T07:16:32.054Z"
   },
   {
    "duration": 21,
    "start_time": "2023-04-18T07:16:32.566Z"
   },
   {
    "duration": 7,
    "start_time": "2023-04-18T07:17:20.323Z"
   },
   {
    "duration": 11,
    "start_time": "2023-04-18T07:17:20.857Z"
   },
   {
    "duration": 4,
    "start_time": "2023-04-18T07:17:21.613Z"
   },
   {
    "duration": 5,
    "start_time": "2023-04-18T07:17:22.612Z"
   },
   {
    "duration": 17,
    "start_time": "2023-04-18T07:17:45.445Z"
   },
   {
    "duration": 9,
    "start_time": "2023-04-18T07:17:45.863Z"
   },
   {
    "duration": 43,
    "start_time": "2023-04-18T07:31:26.753Z"
   },
   {
    "duration": 1071,
    "start_time": "2023-04-18T07:31:32.662Z"
   },
   {
    "duration": 84,
    "start_time": "2023-04-18T07:31:33.735Z"
   },
   {
    "duration": 25,
    "start_time": "2023-04-18T07:31:33.821Z"
   },
   {
    "duration": 12,
    "start_time": "2023-04-18T07:31:33.848Z"
   },
   {
    "duration": 3,
    "start_time": "2023-04-18T07:31:33.861Z"
   },
   {
    "duration": 92,
    "start_time": "2023-04-18T07:31:33.866Z"
   },
   {
    "duration": 0,
    "start_time": "2023-04-18T07:31:33.959Z"
   },
   {
    "duration": 0,
    "start_time": "2023-04-18T07:31:33.961Z"
   },
   {
    "duration": 0,
    "start_time": "2023-04-18T07:31:33.962Z"
   },
   {
    "duration": 0,
    "start_time": "2023-04-18T07:31:33.962Z"
   },
   {
    "duration": 0,
    "start_time": "2023-04-18T07:31:33.964Z"
   },
   {
    "duration": 0,
    "start_time": "2023-04-18T07:31:33.965Z"
   },
   {
    "duration": 0,
    "start_time": "2023-04-18T07:31:33.966Z"
   },
   {
    "duration": 0,
    "start_time": "2023-04-18T07:31:33.966Z"
   },
   {
    "duration": 10,
    "start_time": "2023-04-18T07:31:56.806Z"
   },
   {
    "duration": 1083,
    "start_time": "2023-04-18T07:32:04.214Z"
   },
   {
    "duration": 33,
    "start_time": "2023-04-18T07:32:05.301Z"
   },
   {
    "duration": 27,
    "start_time": "2023-04-18T07:32:05.336Z"
   },
   {
    "duration": 13,
    "start_time": "2023-04-18T07:32:05.364Z"
   },
   {
    "duration": 14,
    "start_time": "2023-04-18T07:32:05.379Z"
   },
   {
    "duration": 113,
    "start_time": "2023-04-18T07:32:05.395Z"
   },
   {
    "duration": 0,
    "start_time": "2023-04-18T07:32:05.510Z"
   },
   {
    "duration": 0,
    "start_time": "2023-04-18T07:32:05.511Z"
   },
   {
    "duration": 0,
    "start_time": "2023-04-18T07:32:05.512Z"
   },
   {
    "duration": 0,
    "start_time": "2023-04-18T07:32:05.513Z"
   },
   {
    "duration": 1,
    "start_time": "2023-04-18T07:32:05.514Z"
   },
   {
    "duration": 0,
    "start_time": "2023-04-18T07:32:05.515Z"
   },
   {
    "duration": 0,
    "start_time": "2023-04-18T07:32:05.517Z"
   },
   {
    "duration": 0,
    "start_time": "2023-04-18T07:32:05.517Z"
   },
   {
    "duration": 1508,
    "start_time": "2023-04-18T07:32:45.104Z"
   },
   {
    "duration": 28,
    "start_time": "2023-04-18T07:32:46.614Z"
   },
   {
    "duration": 25,
    "start_time": "2023-04-18T07:32:46.643Z"
   },
   {
    "duration": 12,
    "start_time": "2023-04-18T07:32:46.670Z"
   },
   {
    "duration": 10,
    "start_time": "2023-04-18T07:32:46.685Z"
   },
   {
    "duration": 2494,
    "start_time": "2023-04-18T07:32:46.697Z"
   },
   {
    "duration": 8,
    "start_time": "2023-04-18T07:32:49.195Z"
   },
   {
    "duration": 14,
    "start_time": "2023-04-18T07:32:49.205Z"
   },
   {
    "duration": 14,
    "start_time": "2023-04-18T07:32:49.295Z"
   },
   {
    "duration": 102,
    "start_time": "2023-04-18T07:32:49.312Z"
   },
   {
    "duration": 5,
    "start_time": "2023-04-18T07:32:49.417Z"
   },
   {
    "duration": 9,
    "start_time": "2023-04-18T07:32:49.496Z"
   },
   {
    "duration": 89,
    "start_time": "2023-04-18T07:32:49.507Z"
   },
   {
    "duration": 9,
    "start_time": "2023-04-18T07:32:49.599Z"
   },
   {
    "duration": 97,
    "start_time": "2023-04-18T07:33:51.111Z"
   },
   {
    "duration": 1398,
    "start_time": "2023-04-18T07:34:22.958Z"
   },
   {
    "duration": 28,
    "start_time": "2023-04-18T07:34:24.358Z"
   },
   {
    "duration": 24,
    "start_time": "2023-04-18T07:34:24.388Z"
   },
   {
    "duration": 13,
    "start_time": "2023-04-18T07:34:24.414Z"
   },
   {
    "duration": 3,
    "start_time": "2023-04-18T07:34:24.429Z"
   },
   {
    "duration": 2434,
    "start_time": "2023-04-18T07:34:24.434Z"
   },
   {
    "duration": 452,
    "start_time": "2023-04-18T07:34:26.870Z"
   },
   {
    "duration": 3,
    "start_time": "2023-04-18T07:34:27.324Z"
   },
   {
    "duration": 68,
    "start_time": "2023-04-18T07:34:27.328Z"
   },
   {
    "duration": 95,
    "start_time": "2023-04-18T07:34:27.399Z"
   },
   {
    "duration": 8,
    "start_time": "2023-04-18T07:34:27.497Z"
   },
   {
    "duration": 5,
    "start_time": "2023-04-18T07:34:27.506Z"
   },
   {
    "duration": 5,
    "start_time": "2023-04-18T07:34:27.594Z"
   },
   {
    "duration": 104,
    "start_time": "2023-04-18T07:34:27.601Z"
   },
   {
    "duration": 7,
    "start_time": "2023-04-18T07:34:27.707Z"
   },
   {
    "duration": 1497,
    "start_time": "2023-04-18T07:36:06.763Z"
   },
   {
    "duration": 28,
    "start_time": "2023-04-18T07:36:08.262Z"
   },
   {
    "duration": 24,
    "start_time": "2023-04-18T07:36:08.292Z"
   },
   {
    "duration": 2,
    "start_time": "2023-04-18T07:36:08.317Z"
   },
   {
    "duration": 33,
    "start_time": "2023-04-18T07:36:08.321Z"
   },
   {
    "duration": 2680,
    "start_time": "2023-04-18T07:36:08.356Z"
   },
   {
    "duration": 4,
    "start_time": "2023-04-18T07:36:11.038Z"
   },
   {
    "duration": 53,
    "start_time": "2023-04-18T07:36:11.043Z"
   },
   {
    "duration": 7,
    "start_time": "2023-04-18T07:36:11.098Z"
   },
   {
    "duration": 96,
    "start_time": "2023-04-18T07:36:11.106Z"
   },
   {
    "duration": 5,
    "start_time": "2023-04-18T07:36:11.204Z"
   },
   {
    "duration": 87,
    "start_time": "2023-04-18T07:36:11.211Z"
   },
   {
    "duration": 106,
    "start_time": "2023-04-18T07:36:11.300Z"
   },
   {
    "duration": 6,
    "start_time": "2023-04-18T07:36:11.409Z"
   }
  ],
  "kernelspec": {
   "display_name": "Python 3 (ipykernel)",
   "language": "python",
   "name": "python3"
  },
  "language_info": {
   "codemirror_mode": {
    "name": "ipython",
    "version": 3
   },
   "file_extension": ".py",
   "mimetype": "text/x-python",
   "name": "python",
   "nbconvert_exporter": "python",
   "pygments_lexer": "ipython3",
   "version": "3.9.5"
  },
  "toc": {
   "base_numbering": 1,
   "nav_menu": {},
   "number_sections": true,
   "sideBar": true,
   "skip_h1_title": true,
   "title_cell": "Содержание",
   "title_sidebar": "Contents",
   "toc_cell": true,
   "toc_position": {
    "height": "calc(100% - 180px)",
    "left": "10px",
    "top": "150px",
    "width": "165px"
   },
   "toc_section_display": true,
   "toc_window_display": false
  }
 },
 "nbformat": 4,
 "nbformat_minor": 2
}
