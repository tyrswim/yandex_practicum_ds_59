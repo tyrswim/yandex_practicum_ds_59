{
 "cells": [
  {
   "cell_type": "markdown",
   "metadata": {},
   "source": [
    "Привет! меня зовут Люман Аблаев. Сегодня я проверю твой проект.\n",
    "<br> Дальнейшее общение будет происходить на \"ты\" если это не вызывает никаких проблем.\n",
    "<br> Желательно реагировать на красные комментарии ('исправил', 'не понятно как исправить ошибку', ...)\n",
    "<br> Пожалуйста, не удаляй комментарии ревьюера, так как они повышают качество повторного ревью.\n",
    "\n",
    "Комментарии будут в <font color='green'>зеленой</font>, <font color='blue'>синей</font> или <font color='red'>красной</font> рамках:\n",
    "\n",
    "\n",
    "<div class=\"alert alert-block alert-success\">\n",
    "<b>Успех:</b> Если все сделано отлично\n",
    "</div>\n",
    "\n",
    "<div class=\"alert alert-block alert-info\">\n",
    "<b>Совет: </b> Если можно немного улучшить\n",
    "</div>\n",
    "\n",
    "<div class=\"alert alert-block alert-danger\">\n",
    "<b>Ошибка:</b> Если требуются исправления. Работа не может быть принята с красными комментариями.\n",
    "</div>\n",
    "\n",
    "-------------------\n",
    "\n",
    "Будет очень хорошо, если ты будешь помечать свои действия следующим образом:\n",
    "<div class=\"alert alert-block alert-warning\">\n",
    "<b>Комментарий студента:</b> ..\n",
    "</div>\n",
    "<div class=\"alert alert-block alert-warning\">\n",
    "<b>Изменения:</b> Были внесены следующие изменения ...\n",
    "</div>\n",
    "\n",
    "<font color='orange' style='font-size:24px; font-weight:bold'>Полезные ссылки</font>\n",
    "* Очень интересная и полезная статья: https://dyakonov.org/2021/05/27/imbalance/\n",
    "\n",
    "<font color='orange' style='font-size:24px; font-weight:bold'>Общее впечатление</font>\n",
    "* Спасибо за  качественную работу, видно, что приложено много усилий.\n",
    "- Я оставил некоторые советы, надеюсь они будут полезными или интересными.\n",
    "- Тебе удалось справиться с задачей дисбаланса классов, поздравляю!\n",
    "- Отправляю проект назад, чтобы у тебя была возможность задать вопросы, если они у тебя есть. Если их нет, то можешь просто отправить проект еще раз и я его зачту\n"
   ]
  },
  {
   "cell_type": "markdown",
   "metadata": {
    "toc": true
   },
   "source": [
    "<h1>Содержание<span class=\"tocSkip\"></span></h1>\n",
    "<div class=\"toc\"><ul class=\"toc-item\"><li><span><a href=\"#Подготовка-данных\" data-toc-modified-id=\"Подготовка-данных-1\"><span class=\"toc-item-num\">1&nbsp;&nbsp;</span>Подготовка данных</a></span></li><li><span><a href=\"#Исследование-задачи\" data-toc-modified-id=\"Исследование-задачи-2\"><span class=\"toc-item-num\">2&nbsp;&nbsp;</span>Исследование задачи</a></span></li><li><span><a href=\"#Борьба-с-дисбалансом\" data-toc-modified-id=\"Борьба-с-дисбалансом-3\"><span class=\"toc-item-num\">3&nbsp;&nbsp;</span>Борьба с дисбалансом</a></span></li><li><span><a href=\"#Тестирование-модели\" data-toc-modified-id=\"Тестирование-модели-4\"><span class=\"toc-item-num\">4&nbsp;&nbsp;</span>Тестирование модели</a></span></li><li><span><a href=\"#Чек-лист-готовности-проекта\" data-toc-modified-id=\"Чек-лист-готовности-проекта-5\"><span class=\"toc-item-num\">5&nbsp;&nbsp;</span>Чек-лист готовности проекта</a></span></li></ul></div>"
   ]
  },
  {
   "cell_type": "markdown",
   "metadata": {},
   "source": [
    "# Отток клиентов"
   ]
  },
  {
   "cell_type": "markdown",
   "metadata": {},
   "source": [
    "Из «Бета-Банка» стали уходить клиенты. Каждый месяц. Немного, но заметно. Банковские маркетологи посчитали: сохранять текущих клиентов дешевле, чем привлекать новых.\n",
    "\n",
    "Нужно спрогнозировать, уйдёт клиент из банка в ближайшее время или нет. Вам предоставлены исторические данные о поведении клиентов и расторжении договоров с банком. \n",
    "\n",
    "Постройте модель с предельно большим значением *F1*-меры. Чтобы сдать проект успешно, нужно довести метрику до 0.59. Проверьте *F1*-меру на тестовой выборке самостоятельно.\n",
    "\n",
    "Дополнительно измеряйте *AUC-ROC*, сравнивайте её значение с *F1*-мерой.\n",
    "\n",
    "Источник данных: [https://www.kaggle.com/barelydedicated/bank-customer-churn-modeling](https://www.kaggle.com/barelydedicated/bank-customer-churn-modeling)"
   ]
  },
  {
   "cell_type": "markdown",
   "metadata": {},
   "source": [
    "## Подготовка данных"
   ]
  },
  {
   "cell_type": "markdown",
   "metadata": {},
   "source": [
    "Импортируем необходимые библиотеки"
   ]
  },
  {
   "cell_type": "code",
   "execution_count": 1,
   "metadata": {},
   "outputs": [],
   "source": [
    "import pandas as pd\n",
    "import numpy as np\n",
    "import seaborn as sns\n",
    "import matplotlib.pyplot as plt\n",
    "from sklearn.model_selection import train_test_split, GridSearchCV, RandomizedSearchCV\n",
    "from sklearn.linear_model import LogisticRegression\n",
    "from sklearn.preprocessing import StandardScaler\n",
    "from sklearn.tree import DecisionTreeClassifier\n",
    "from sklearn.ensemble import RandomForestClassifier  \n",
    "from sklearn.metrics import accuracy_score, confusion_matrix, recall_score, precision_score,precision_recall_curve ,f1_score, roc_auc_score,roc_curve\n",
    "from sklearn.utils import shuffle\n",
    "from sklearn.dummy import DummyClassifier"
   ]
  },
  {
   "cell_type": "markdown",
   "metadata": {},
   "source": [
    "\n",
    "<div class=\"alert alert-block alert-success\">\n",
    "<b>Успех:</b> Импорты на месте\n",
    "</div>"
   ]
  },
  {
   "cell_type": "markdown",
   "metadata": {},
   "source": [
    "Открываем файл с данными и изучаем общую информацию"
   ]
  },
  {
   "cell_type": "code",
   "execution_count": 2,
   "metadata": {},
   "outputs": [],
   "source": [
    "try:\n",
    "    df = pd.read_csv('/datasets/Churn.csv')\n",
    "except:\n",
    "    df = pd.read_csv('Churn.csv')"
   ]
  },
  {
   "cell_type": "code",
   "execution_count": 3,
   "metadata": {},
   "outputs": [
    {
     "name": "stdout",
     "output_type": "stream",
     "text": [
      "<class 'pandas.core.frame.DataFrame'>\n",
      "RangeIndex: 10000 entries, 0 to 9999\n",
      "Data columns (total 14 columns):\n",
      " #   Column           Non-Null Count  Dtype  \n",
      "---  ------           --------------  -----  \n",
      " 0   RowNumber        10000 non-null  int64  \n",
      " 1   CustomerId       10000 non-null  int64  \n",
      " 2   Surname          10000 non-null  object \n",
      " 3   CreditScore      10000 non-null  int64  \n",
      " 4   Geography        10000 non-null  object \n",
      " 5   Gender           10000 non-null  object \n",
      " 6   Age              10000 non-null  int64  \n",
      " 7   Tenure           9091 non-null   float64\n",
      " 8   Balance          10000 non-null  float64\n",
      " 9   NumOfProducts    10000 non-null  int64  \n",
      " 10  HasCrCard        10000 non-null  int64  \n",
      " 11  IsActiveMember   10000 non-null  int64  \n",
      " 12  EstimatedSalary  10000 non-null  float64\n",
      " 13  Exited           10000 non-null  int64  \n",
      "dtypes: float64(3), int64(8), object(3)\n",
      "memory usage: 1.1+ MB\n"
     ]
    }
   ],
   "source": [
    "df.info()"
   ]
  },
  {
   "cell_type": "markdown",
   "metadata": {},
   "source": [
    "Как мы видим присутствуют пустые значения по полю \"Tenure\""
   ]
  },
  {
   "cell_type": "code",
   "execution_count": 4,
   "metadata": {},
   "outputs": [
    {
     "data": {
      "text/plain": [
       "0"
      ]
     },
     "execution_count": 4,
     "metadata": {},
     "output_type": "execute_result"
    }
   ],
   "source": [
    "df.duplicated().sum()"
   ]
  },
  {
   "cell_type": "code",
   "execution_count": 5,
   "metadata": {},
   "outputs": [
    {
     "data": {
      "text/html": [
       "<div>\n",
       "<style scoped>\n",
       "    .dataframe tbody tr th:only-of-type {\n",
       "        vertical-align: middle;\n",
       "    }\n",
       "\n",
       "    .dataframe tbody tr th {\n",
       "        vertical-align: top;\n",
       "    }\n",
       "\n",
       "    .dataframe thead th {\n",
       "        text-align: right;\n",
       "    }\n",
       "</style>\n",
       "<table border=\"1\" class=\"dataframe\">\n",
       "  <thead>\n",
       "    <tr style=\"text-align: right;\">\n",
       "      <th></th>\n",
       "      <th>CustomerId</th>\n",
       "      <th>CreditScore</th>\n",
       "      <th>Age</th>\n",
       "      <th>Tenure</th>\n",
       "      <th>Balance</th>\n",
       "      <th>EstimatedSalary</th>\n",
       "    </tr>\n",
       "  </thead>\n",
       "  <tbody>\n",
       "    <tr>\n",
       "      <th>CustomerId</th>\n",
       "      <td>1.000000</td>\n",
       "      <td>0.005308</td>\n",
       "      <td>0.009497</td>\n",
       "      <td>-0.021418</td>\n",
       "      <td>-0.012419</td>\n",
       "      <td>0.015271</td>\n",
       "    </tr>\n",
       "    <tr>\n",
       "      <th>CreditScore</th>\n",
       "      <td>0.005308</td>\n",
       "      <td>1.000000</td>\n",
       "      <td>-0.003965</td>\n",
       "      <td>-0.000062</td>\n",
       "      <td>0.006268</td>\n",
       "      <td>-0.001384</td>\n",
       "    </tr>\n",
       "    <tr>\n",
       "      <th>Age</th>\n",
       "      <td>0.009497</td>\n",
       "      <td>-0.003965</td>\n",
       "      <td>1.000000</td>\n",
       "      <td>-0.013134</td>\n",
       "      <td>0.028308</td>\n",
       "      <td>-0.007201</td>\n",
       "    </tr>\n",
       "    <tr>\n",
       "      <th>Tenure</th>\n",
       "      <td>-0.021418</td>\n",
       "      <td>-0.000062</td>\n",
       "      <td>-0.013134</td>\n",
       "      <td>1.000000</td>\n",
       "      <td>-0.007911</td>\n",
       "      <td>0.010520</td>\n",
       "    </tr>\n",
       "    <tr>\n",
       "      <th>Balance</th>\n",
       "      <td>-0.012419</td>\n",
       "      <td>0.006268</td>\n",
       "      <td>0.028308</td>\n",
       "      <td>-0.007911</td>\n",
       "      <td>1.000000</td>\n",
       "      <td>0.012797</td>\n",
       "    </tr>\n",
       "    <tr>\n",
       "      <th>EstimatedSalary</th>\n",
       "      <td>0.015271</td>\n",
       "      <td>-0.001384</td>\n",
       "      <td>-0.007201</td>\n",
       "      <td>0.010520</td>\n",
       "      <td>0.012797</td>\n",
       "      <td>1.000000</td>\n",
       "    </tr>\n",
       "  </tbody>\n",
       "</table>\n",
       "</div>"
      ],
      "text/plain": [
       "                 CustomerId  CreditScore       Age    Tenure   Balance  \\\n",
       "CustomerId         1.000000     0.005308  0.009497 -0.021418 -0.012419   \n",
       "CreditScore        0.005308     1.000000 -0.003965 -0.000062  0.006268   \n",
       "Age                0.009497    -0.003965  1.000000 -0.013134  0.028308   \n",
       "Tenure            -0.021418    -0.000062 -0.013134  1.000000 -0.007911   \n",
       "Balance           -0.012419     0.006268  0.028308 -0.007911  1.000000   \n",
       "EstimatedSalary    0.015271    -0.001384 -0.007201  0.010520  0.012797   \n",
       "\n",
       "                 EstimatedSalary  \n",
       "CustomerId              0.015271  \n",
       "CreditScore            -0.001384  \n",
       "Age                    -0.007201  \n",
       "Tenure                  0.010520  \n",
       "Balance                 0.012797  \n",
       "EstimatedSalary         1.000000  "
      ]
     },
     "execution_count": 5,
     "metadata": {},
     "output_type": "execute_result"
    }
   ],
   "source": [
    "df[['CustomerId', 'CreditScore', 'Age', 'Tenure', 'Balance', 'EstimatedSalary']].corr()"
   ]
  },
  {
   "cell_type": "markdown",
   "metadata": {},
   "source": [
    "Удаленим ненужные столбцы"
   ]
  },
  {
   "cell_type": "code",
   "execution_count": 6,
   "metadata": {},
   "outputs": [],
   "source": [
    "df = df.drop(columns=['RowNumber', 'CustomerId', 'Surname'])"
   ]
  },
  {
   "cell_type": "markdown",
   "metadata": {},
   "source": [
    "\n",
    "<div class=\"alert alert-block alert-success\">\n",
    "<b>Успех:</b> Удалить неинформативные признаки - хорошее решение.\n",
    "</div>\n"
   ]
  },
  {
   "cell_type": "markdown",
   "metadata": {},
   "source": [
    "Т.к. ранее мы увидели, что есть пустые значения, то заполним их медианным значением."
   ]
  },
  {
   "cell_type": "code",
   "execution_count": 7,
   "metadata": {},
   "outputs": [],
   "source": [
    "df['Tenure'] = df['Tenure'].fillna(df['Tenure'].median()).astype('int64')"
   ]
  },
  {
   "cell_type": "markdown",
   "metadata": {},
   "source": [
    "<div class=\"alert alert-block alert-success\">\n",
    "<b>Успех:</b> Пропуски обработаны хорошим образом\n",
    "</div>\n"
   ]
  },
  {
   "cell_type": "markdown",
   "metadata": {},
   "source": [
    "Закодируем категориальные признаки, чтобы не попасть в дамми-ловушку, применим аргумент drop_first функции pd.get_dummies()"
   ]
  },
  {
   "cell_type": "code",
   "execution_count": 8,
   "metadata": {},
   "outputs": [],
   "source": [
    "df_ohe = pd.get_dummies(df, drop_first=True)"
   ]
  },
  {
   "cell_type": "markdown",
   "metadata": {},
   "source": [
    "<div class=\"alert alert-block alert-success\">\n",
    "<b>Успех:</b>  OHE - хороший выбор. Но советую в будущем обратить внимание на инструмент OneHotEncoder от sklearn\n",
    "</div>\n"
   ]
  },
  {
   "cell_type": "markdown",
   "metadata": {},
   "source": [
    "<div class=\"alert alert-block alert-info\">\n",
    "<b>Совет:</b>  Советую обратить внимание на библиотеки sweetviz и pandas_profiling помогут в проведении более тщательного EDA анализа. Исследовательский анализ можно делать и с помощью ручного вызова функций дефолтных библиотек. Данные библиотеки хороши для максимизации комфорта презентации результатов анализа бизнес-пользователям. \n",
    "    \n",
    "Очень просты в использоовании, на вход кладется датафрейм: pandas_profiling.ProfileReport(df) \n",
    "</div>"
   ]
  },
  {
   "cell_type": "markdown",
   "metadata": {},
   "source": [
    "В нашем случае, нет отдельного файла с тестовой,тренировочной и валидной выборкой, поэтому мы их будем создавать сами. Поделим cначала на обучающую и промежуточную, а потом промежуточную поделим на валидную и тестовую."
   ]
  },
  {
   "cell_type": "code",
   "execution_count": 9,
   "metadata": {},
   "outputs": [],
   "source": [
    "target = df_ohe['Exited']\n",
    "features = df_ohe.drop('Exited', axis=1)"
   ]
  },
  {
   "cell_type": "code",
   "execution_count": 10,
   "metadata": {},
   "outputs": [],
   "source": [
    "features_train, features_inter, target_train, target_inter = train_test_split(\n",
    "    features.copy(), \n",
    "    target.copy(), \n",
    "    test_size=0.4, \n",
    "    random_state=12345)"
   ]
  },
  {
   "cell_type": "markdown",
   "metadata": {},
   "source": [
    "Теперь промежуточную поделим пополам"
   ]
  },
  {
   "cell_type": "code",
   "execution_count": 11,
   "metadata": {},
   "outputs": [],
   "source": [
    "features_valid, features_test, target_valid, target_test = train_test_split(\n",
    "    features_inter.copy(),\n",
    "    target_inter.copy(),\n",
    "    test_size=0.5,\n",
    "    random_state=12345)"
   ]
  },
  {
   "cell_type": "markdown",
   "metadata": {},
   "source": [
    "Проверим размерности"
   ]
  },
  {
   "cell_type": "code",
   "execution_count": 12,
   "metadata": {},
   "outputs": [
    {
     "data": {
      "text/plain": [
       "(6000, 11)"
      ]
     },
     "execution_count": 12,
     "metadata": {},
     "output_type": "execute_result"
    }
   ],
   "source": [
    "features_train.shape"
   ]
  },
  {
   "cell_type": "code",
   "execution_count": 13,
   "metadata": {},
   "outputs": [
    {
     "data": {
      "text/plain": [
       "(2000, 11)"
      ]
     },
     "execution_count": 13,
     "metadata": {},
     "output_type": "execute_result"
    }
   ],
   "source": [
    "features_valid.shape"
   ]
  },
  {
   "cell_type": "markdown",
   "metadata": {},
   "source": [
    "Стандартизируем численные признаки при помощи StandardScaler"
   ]
  },
  {
   "cell_type": "code",
   "execution_count": 14,
   "metadata": {},
   "outputs": [],
   "source": [
    "numeric = ['CreditScore', 'Age', 'Tenure', 'Balance', 'EstimatedSalary']\n",
    "\n",
    "scaler = StandardScaler()\n",
    "scaler.fit(features_train[numeric])\n",
    "features_train[numeric] = scaler.transform(features_train[numeric])\n",
    "features_valid[numeric]  = scaler.transform(features_valid[numeric])\n",
    "features_test[numeric]  = scaler.transform(features_test[numeric])\n",
    "\n",
    "pd.options.mode.chained_assignment = None"
   ]
  },
  {
   "cell_type": "markdown",
   "metadata": {},
   "source": [
    "<div class=\"alert alert-block alert-success\">\n",
    "<b>Успех:</b> Отлично, что scaler обучен только на трейне\n",
    "</div>\n"
   ]
  },
  {
   "cell_type": "markdown",
   "metadata": {},
   "source": [
    "Вывод: данные подготовлены для исследования и разбиты на выборки."
   ]
  },
  {
   "cell_type": "markdown",
   "metadata": {},
   "source": [
    "## Исследование задачи"
   ]
  },
  {
   "cell_type": "markdown",
   "metadata": {},
   "source": [
    "Проверим, как часто в целевом признаке нашего исходного датасета встречается класс «1» или «0»:"
   ]
  },
  {
   "cell_type": "code",
   "execution_count": 15,
   "metadata": {},
   "outputs": [
    {
     "data": {
      "text/plain": [
       "0    7963\n",
       "1    2037\n",
       "Name: Exited, dtype: int64"
      ]
     },
     "execution_count": 15,
     "metadata": {},
     "output_type": "execute_result"
    }
   ],
   "source": [
    "df_ohe['Exited'].value_counts()"
   ]
  },
  {
   "cell_type": "code",
   "execution_count": 16,
   "metadata": {},
   "outputs": [
    {
     "data": {
      "image/png": "[encoded data removed]",
      "text/plain": [
       "<Figure size 432x288 with 1 Axes>"
      ]
     },
     "metadata": {
      "needs_background": "light"
     },
     "output_type": "display_data"
    }
   ],
   "source": [
    "df_ohe['Exited'].value_counts().plot(kind='bar')\n",
    "plt.show()"
   ]
  },
  {
   "cell_type": "markdown",
   "metadata": {},
   "source": [
    "Как мы видим порядка 80 процентов данных по пользователям оставшимся, и только 20 ушедших. "
   ]
  },
  {
   "cell_type": "markdown",
   "metadata": {},
   "source": [
    "<div class=\"alert alert-block alert-success\">\n",
    "<b>Успех:</b> дисбаланс обнаружен\n",
    "</div>"
   ]
  },
  {
   "cell_type": "markdown",
   "metadata": {},
   "source": [
    "Перед нами стоит задача на классификацию.\n",
    "Протестируем на разных моделях."
   ]
  },
  {
   "cell_type": "markdown",
   "metadata": {},
   "source": [
    "Дерево решений"
   ]
  },
  {
   "cell_type": "code",
   "execution_count": 17,
   "metadata": {},
   "outputs": [
    {
     "data": {
      "text/plain": [
       "0.7935"
      ]
     },
     "execution_count": 17,
     "metadata": {},
     "output_type": "execute_result"
    }
   ],
   "source": [
    "model_dt = DecisionTreeClassifier(random_state=12345) \n",
    "model_dt.fit(features_train,target_train) \n",
    "predictions_valid_dt = model_dt.predict(features_valid) \n",
    "accuracy_score(target_valid, predictions_valid_dt)"
   ]
  },
  {
   "cell_type": "markdown",
   "metadata": {},
   "source": [
    "Случайный лес в регрессии"
   ]
  },
  {
   "cell_type": "code",
   "execution_count": 18,
   "metadata": {},
   "outputs": [
    {
     "data": {
      "text/plain": [
       "0.8585"
      ]
     },
     "execution_count": 18,
     "metadata": {},
     "output_type": "execute_result"
    }
   ],
   "source": [
    "model_rf = RandomForestClassifier(random_state=12345)\n",
    "model_rf.fit(features_train, target_train) \n",
    "predictions_valid_rf = model_rf.predict(features_valid)\n",
    "accuracy_score(target_valid, predictions_valid_rf) "
   ]
  },
  {
   "cell_type": "markdown",
   "metadata": {},
   "source": [
    "Логистическая регрессия"
   ]
  },
  {
   "cell_type": "code",
   "execution_count": 19,
   "metadata": {},
   "outputs": [
    {
     "data": {
      "text/plain": [
       "0.802"
      ]
     },
     "execution_count": 19,
     "metadata": {},
     "output_type": "execute_result"
    }
   ],
   "source": [
    "model_lr = LogisticRegression(random_state=12345) \n",
    "model_lr.fit(features_train, target_train) \n",
    "model_lr.score(features_valid, target_valid)"
   ]
  },
  {
   "cell_type": "markdown",
   "metadata": {},
   "source": [
    "\n",
    "Матрица ошибок, плотность, точность, F1 score, roc_auc"
   ]
  },
  {
   "cell_type": "markdown",
   "metadata": {},
   "source": [
    "Лучшее значение accuracy мы получили на модели случайного леса в регрессии, рассчитаем необходимые величины для неё.\n",
    "\n",
    "Рассчитаем матрицу решений"
   ]
  },
  {
   "cell_type": "code",
   "execution_count": 20,
   "metadata": {},
   "outputs": [
    {
     "data": {
      "text/plain": [
       "array([[1524,   58],\n",
       "       [ 225,  193]])"
      ]
     },
     "execution_count": 20,
     "metadata": {},
     "output_type": "execute_result"
    }
   ],
   "source": [
    "confusion_matrix(target_valid, predictions_valid_rf)"
   ]
  },
  {
   "cell_type": "markdown",
   "metadata": {},
   "source": [
    "Рассчитаем плотность и точность"
   ]
  },
  {
   "cell_type": "code",
   "execution_count": 21,
   "metadata": {},
   "outputs": [
    {
     "data": {
      "text/plain": [
       "0.46172248803827753"
      ]
     },
     "metadata": {},
     "output_type": "display_data"
    },
    {
     "data": {
      "text/plain": [
       "0.7689243027888446"
      ]
     },
     "metadata": {},
     "output_type": "display_data"
    }
   ],
   "source": [
    "display(recall_score(target_valid, predictions_valid_rf))\n",
    "display(precision_score(target_valid, predictions_valid_rf))"
   ]
  },
  {
   "cell_type": "markdown",
   "metadata": {},
   "source": [
    "Посмотрим на точность и полноту"
   ]
  },
  {
   "cell_type": "code",
   "execution_count": 22,
   "metadata": {},
   "outputs": [
    {
     "data": {
      "image/png": "[encoded data removed]",
      "text/plain": [
       "<Figure size 432x432 with 1 Axes>"
      ]
     },
     "metadata": {
      "needs_background": "light"
     },
     "output_type": "display_data"
    }
   ],
   "source": [
    "model_rf = RandomForestClassifier(random_state=12345)\n",
    "model_rf.fit(features_train, target_train) \n",
    "probabilities_valid_rf = model_rf.predict_proba(features_valid)\n",
    "precision, recall, thresholds = precision_recall_curve(target_valid, probabilities_valid_rf[:, 1])\n",
    "\n",
    "plt.figure(figsize=(6, 6))\n",
    "plt.step(recall, precision, where='post')\n",
    "plt.xlabel('Recall')\n",
    "plt.ylabel('Precision')\n",
    "plt.ylim([0.0, 1.05])\n",
    "plt.xlim([0.0, 1.0])\n",
    "plt.title('Кривая Precision-Recall')\n",
    "plt.show() "
   ]
  },
  {
   "cell_type": "markdown",
   "metadata": {},
   "source": [
    "Вычислим F1-меру"
   ]
  },
  {
   "cell_type": "code",
   "execution_count": 23,
   "metadata": {},
   "outputs": [
    {
     "data": {
      "text/plain": [
       "0.5769805680119582"
      ]
     },
     "execution_count": 23,
     "metadata": {},
     "output_type": "execute_result"
    }
   ],
   "source": [
    "f1_score(target_valid, predictions_valid_rf)"
   ]
  },
  {
   "cell_type": "markdown",
   "metadata": {},
   "source": [
    "Посмотрим на долю ложноположительных ответов (FPR)и долю истинно положительных ответов (TPR)  на графике (кривой-ошибок)."
   ]
  },
  {
   "cell_type": "code",
   "execution_count": 24,
   "metadata": {},
   "outputs": [
    {
     "data": {
      "text/plain": [
       "0.8406361337777266"
      ]
     },
     "execution_count": 24,
     "metadata": {},
     "output_type": "execute_result"
    }
   ],
   "source": [
    "probabilities_valid = model_rf.predict_proba(features_valid)\n",
    "probabilities_one_valid = probabilities_valid[:, 1]\n",
    "auc_roc = roc_auc_score(target_valid,probabilities_one_valid)\n",
    "auc_roc"
   ]
  },
  {
   "cell_type": "code",
   "execution_count": 25,
   "metadata": {},
   "outputs": [
    {
     "data": {
      "image/png": "[encoded data removed]",
      "text/plain": [
       "<Figure size 432x288 with 1 Axes>"
      ]
     },
     "metadata": {
      "needs_background": "light"
     },
     "output_type": "display_data"
    }
   ],
   "source": [
    "fpr, tpr, thresholds = roc_curve(target_valid, probabilities_one_valid) \n",
    "plt.figure()\n",
    "plt.plot(fpr, tpr)\n",
    "plt.xlim([0.0, 1.0])\n",
    "plt.ylim([0.0, 1.0])\n",
    "plt.color='indigo',\n",
    "plt.xlabel('False Positive Rate')\n",
    "plt.ylabel('True Positive Rate')\n",
    "plt.title('ROC-кривая')\n",
    "plt.show() "
   ]
  },
  {
   "cell_type": "markdown",
   "metadata": {},
   "source": [
    "Рассмотрев распределение по признаку мы увидели дисбаланс в данных"
   ]
  },
  {
   "cell_type": "markdown",
   "metadata": {},
   "source": [
    "Вывод:\n",
    "Ранее мы выявили что лучший результат показывает модель случайного леса, для неё мы решили рассчитать матрицу ошибок, плотность, точность и в завершение построить кривую ошибок.\n",
    "Построив матрицу ошибок мы получили общее предсавление по неточностям нашей модели.\n",
    "Перейдя к полноте и точности мы можем утверждать, что полнота в нашей модели достаточно слабая - а это означает,что модель плохо ищет положительные объекты, причём точность находится на достаточно хорошем уровне."
   ]
  },
  {
   "cell_type": "markdown",
   "metadata": {},
   "source": [
    "<div class=\"alert alert-block alert-success\">\n",
    "<b>Успех:</b> Шаг проделан хорошо, радует что уделено внимание метрикам полноты и точности - они ценны для бизнеса, идем дальше.\n",
    "</div>\n",
    "\n"
   ]
  },
  {
   "cell_type": "markdown",
   "metadata": {},
   "source": [
    "## Борьба с дисбалансом"
   ]
  },
  {
   "cell_type": "markdown",
   "metadata": {},
   "source": [
    "Для борьбы с дисбалансом мы будем использовать три способа - взвешевание классов, уменьшение(в части положительных) и увеличение(в части отрицательных) выборки."
   ]
  },
  {
   "cell_type": "markdown",
   "metadata": {},
   "source": [
    "Взвешивание классов:"
   ]
  },
  {
   "cell_type": "markdown",
   "metadata": {},
   "source": [
    "Дерево решений в регрессии"
   ]
  },
  {
   "cell_type": "code",
   "execution_count": 26,
   "metadata": {},
   "outputs": [
    {
     "name": "stdout",
     "output_type": "stream",
     "text": [
      "F1: 0.5006045949214026\n",
      "ROC_AUC 0.6837644190927842\n"
     ]
    }
   ],
   "source": [
    "model_dt = DecisionTreeClassifier(random_state=12345) \n",
    "model_dt.fit(features_train,target_train) \n",
    "predictions_valid_dt = model_dt.predict(features_valid) \n",
    "\n",
    "print('F1:',f1_score(target_valid, predictions_valid_dt))\n",
    "probabilities_valid_dt = model_dt.predict_proba(features_valid)[:, 1]\n",
    "print(\"ROC_AUC\", roc_auc_score(target_valid, probabilities_valid_dt))"
   ]
  },
  {
   "cell_type": "code",
   "execution_count": 27,
   "metadata": {},
   "outputs": [
    {
     "name": "stdout",
     "output_type": "stream",
     "text": [
      "F1: 0.47469879518072294\n",
      "ROC_AUC 0.6676939734694742\n"
     ]
    }
   ],
   "source": [
    "model_dt = DecisionTreeClassifier(random_state=12345,  class_weight='balanced') \n",
    "model_dt.fit(features_train,target_train) \n",
    "predictions_valid_dt = model_dt.predict(features_valid) \n",
    "\n",
    "print('F1:',f1_score(target_valid, predictions_valid_dt))\n",
    "probabilities_valid_dt = model_dt.predict_proba(features_valid)[:, 1]\n",
    "print(\"ROC_AUC\", roc_auc_score(target_valid, probabilities_valid_dt))"
   ]
  },
  {
   "cell_type": "markdown",
   "metadata": {},
   "source": [
    "Случайный лес в регрессии"
   ]
  },
  {
   "cell_type": "code",
   "execution_count": 28,
   "metadata": {},
   "outputs": [
    {
     "name": "stdout",
     "output_type": "stream",
     "text": [
      "F1: 0.5769805680119582\n",
      "ROC_AUC 0.8406361337777266\n"
     ]
    }
   ],
   "source": [
    "model_rf = RandomForestClassifier(random_state=12345)\n",
    "model_rf.fit(features_train, target_train)\n",
    "predictions_valid_rf = model_rf.predict(features_valid)\n",
    "\n",
    "print('F1:',f1_score(target_valid, predictions_valid_rf))\n",
    "probabilities_valid_rf = model_rf.predict_proba(features_valid)[:, 1]\n",
    "print(\"ROC_AUC\", roc_auc_score(target_valid, probabilities_valid_rf))"
   ]
  },
  {
   "cell_type": "code",
   "execution_count": 29,
   "metadata": {},
   "outputs": [
    {
     "name": "stdout",
     "output_type": "stream",
     "text": [
      "F1: 0.5648148148148148\n",
      "ROC_AUC 0.8393847652115003\n"
     ]
    }
   ],
   "source": [
    "model_rf = RandomForestClassifier(random_state=12345,  class_weight='balanced')\n",
    "model_rf.fit(features_train, target_train)\n",
    "predictions_valid_rf = model_rf.predict(features_valid)\n",
    "\n",
    "print('F1:',f1_score(target_valid, predictions_valid_rf))\n",
    "probabilities_valid_rf = model_rf.predict_proba(features_valid)[:, 1]\n",
    "print(\"ROC_AUC\", roc_auc_score(target_valid, probabilities_valid_rf))"
   ]
  },
  {
   "cell_type": "markdown",
   "metadata": {},
   "source": [
    "Логистическая регрессия"
   ]
  },
  {
   "cell_type": "code",
   "execution_count": 30,
   "metadata": {},
   "outputs": [
    {
     "name": "stdout",
     "output_type": "stream",
     "text": [
      "F1: 0.33108108108108103\n",
      "ROC_AUC 0.7588057029137607\n"
     ]
    }
   ],
   "source": [
    "model_lr = LogisticRegression(random_state=12345) \n",
    "model_lr.fit(features_train, target_train) \n",
    "predictions_valid_lr = model_lr.predict(features_valid)\n",
    "\n",
    "print('F1:',f1_score(target_valid, predictions_valid_lr))\n",
    "probabilities_valid_lr = model_lr.predict_proba(features_valid)[:, 1]\n",
    "print(\"ROC_AUC\", roc_auc_score(target_valid, probabilities_valid_lr))"
   ]
  },
  {
   "cell_type": "code",
   "execution_count": 31,
   "metadata": {},
   "outputs": [
    {
     "name": "stdout",
     "output_type": "stream",
     "text": [
      "F1: 0.4888507718696398\n",
      "ROC_AUC 0.7636750766699532\n"
     ]
    }
   ],
   "source": [
    "model_lr = LogisticRegression(random_state=12345,  class_weight='balanced') \n",
    "model_lr.fit(features_train, target_train) \n",
    "predictions_valid_lr = model_lr.predict(features_valid)\n",
    "\n",
    "print('F1:',f1_score(target_valid, predictions_valid_lr))\n",
    "probabilities_valid_lr = model_lr.predict_proba(features_valid)[:, 1]\n",
    "print(\"ROC_AUC\", roc_auc_score(target_valid, probabilities_valid_lr))"
   ]
  },
  {
   "cell_type": "markdown",
   "metadata": {},
   "source": [
    "Увеличение выборки"
   ]
  },
  {
   "cell_type": "code",
   "execution_count": 32,
   "metadata": {},
   "outputs": [
    {
     "data": {
      "text/plain": [
       "(9588, 11)"
      ]
     },
     "execution_count": 32,
     "metadata": {},
     "output_type": "execute_result"
    }
   ],
   "source": [
    "def upsample(features, target, repeat):\n",
    "    features_zeros = features[target == 0]\n",
    "    features_ones = features[target == 1]\n",
    "    target_zeros = target[target == 0]\n",
    "    target_ones = target[target == 1]\n",
    "    \n",
    "    features_upsampled = pd.concat([features_zeros] + [features_ones] * repeat)\n",
    "    target_upsampled = pd.concat([target_zeros] + [target_ones] * repeat)\n",
    "    \n",
    "    return shuffle(features_upsampled,target_upsampled, random_state=12345)\n",
    "    \n",
    "features_upsampled, target_upsampled = upsample(features_train, target_train, 4)\n",
    "features_upsampled.shape"
   ]
  },
  {
   "cell_type": "markdown",
   "metadata": {},
   "source": [
    "\n",
    "\n",
    "<div class=\"alert alert-block alert-success\">\n",
    "    \n",
    "<b>Успех:</b> Выбран правильный `repeat`\n",
    "</div>"
   ]
  },
  {
   "cell_type": "code",
   "execution_count": 33,
   "metadata": {},
   "outputs": [
    {
     "data": {
      "text/plain": [
       "0    4804\n",
       "1    4784\n",
       "Name: Exited, dtype: int64"
      ]
     },
     "execution_count": 33,
     "metadata": {},
     "output_type": "execute_result"
    }
   ],
   "source": [
    "target_upsampled.value_counts()"
   ]
  },
  {
   "cell_type": "code",
   "execution_count": 34,
   "metadata": {},
   "outputs": [
    {
     "data": {
      "image/png": "[encoded data removed]",
      "text/plain": [
       "<Figure size 432x288 with 1 Axes>"
      ]
     },
     "metadata": {
      "needs_background": "light"
     },
     "output_type": "display_data"
    }
   ],
   "source": [
    "target_upsampled.value_counts().plot(kind='bar')\n",
    "plt.show()"
   ]
  },
  {
   "cell_type": "markdown",
   "metadata": {},
   "source": [
    "Соотношение улучшилось.\n",
    "\n",
    "Проверим на моделях."
   ]
  },
  {
   "cell_type": "markdown",
   "metadata": {},
   "source": [
    "Дерево решений в регрессии"
   ]
  },
  {
   "cell_type": "code",
   "execution_count": 35,
   "metadata": {},
   "outputs": [
    {
     "name": "stdout",
     "output_type": "stream",
     "text": [
      "F1: 0.47381546134663344\n",
      "ROC_AUC 0.6659579358694403\n"
     ]
    }
   ],
   "source": [
    "model_dt = DecisionTreeClassifier(random_state=12345,  class_weight='balanced') \n",
    "model_dt.fit(features_upsampled,target_upsampled) \n",
    "predictions_valid_dt = model_dt.predict(features_valid) \n",
    "\n",
    "print('F1:',f1_score(target_valid, predictions_valid_dt))\n",
    "probabilities_valid_dt = model_dt.predict_proba(features_valid)[:, 1]\n",
    "print(\"ROC_AUC\", roc_auc_score(target_valid, probabilities_valid_dt))"
   ]
  },
  {
   "cell_type": "markdown",
   "metadata": {},
   "source": [
    "Случайный лес в регрессии"
   ]
  },
  {
   "cell_type": "code",
   "execution_count": 36,
   "metadata": {},
   "outputs": [
    {
     "name": "stdout",
     "output_type": "stream",
     "text": [
      "F1: 0.6050198150594451\n",
      "ROC_AUC 0.8422436320084201\n"
     ]
    }
   ],
   "source": [
    "model_rf = RandomForestClassifier(random_state=12345,  class_weight='balanced')\n",
    "model_rf.fit(features_upsampled, target_upsampled)\n",
    "predictions_valid_rf = model_rf.predict(features_valid)\n",
    "\n",
    "print('F1:',f1_score(target_valid, predictions_valid_rf))\n",
    "probabilities_valid_rf = model_rf.predict_proba(features_valid)[:, 1]\n",
    "print(\"ROC_AUC\", roc_auc_score(target_valid, probabilities_valid_rf))"
   ]
  },
  {
   "cell_type": "markdown",
   "metadata": {},
   "source": [
    "Логистическая регрессия"
   ]
  },
  {
   "cell_type": "code",
   "execution_count": 37,
   "metadata": {},
   "outputs": [
    {
     "name": "stdout",
     "output_type": "stream",
     "text": [
      "F1: 0.4888507718696398\n",
      "ROC_AUC 0.7636312220615901\n"
     ]
    }
   ],
   "source": [
    "model_lr = LogisticRegression(random_state=12345,  class_weight='balanced') \n",
    "model_lr.fit(features_upsampled, target_upsampled) \n",
    "predictions_valid_lr = model_lr.predict(features_valid)\n",
    "\n",
    "print('F1:',f1_score(target_valid, predictions_valid_lr))\n",
    "probabilities_valid_lr = model_lr.predict_proba(features_valid)[:, 1]\n",
    "print(\"ROC_AUC\", roc_auc_score(target_valid, probabilities_valid_lr))"
   ]
  },
  {
   "cell_type": "markdown",
   "metadata": {},
   "source": [
    "Уменьшение выборки"
   ]
  },
  {
   "cell_type": "code",
   "execution_count": 38,
   "metadata": {},
   "outputs": [],
   "source": [
    "def downsample(features, target, fraction):\n",
    "    features_zeros = features[target == 0]\n",
    "    features_ones = features[target == 1]\n",
    "    target_zeros = target[target == 0]\n",
    "    target_ones = target[target == 1]\n",
    "\n",
    "    features_downsampled = pd.concat(\n",
    "        [features_zeros.sample(frac=fraction, random_state=12345)] + [features_ones])\n",
    "    target_downsampled = pd.concat(\n",
    "        [target_zeros.sample(frac=fraction, random_state=12345)] + [target_ones])\n",
    "  \n",
    "    features_downsampled, target_downsampled = shuffle(\n",
    "        features_downsampled, target_downsampled, random_state=12345)\n",
    "    \n",
    "    return features_downsampled, target_downsampled\n",
    "\n",
    "features_downsampled, target_downsampled = downsample(features_train, target_train, 0.4)"
   ]
  },
  {
   "cell_type": "markdown",
   "metadata": {},
   "source": [
    "<div class=\"alert alert-block alert-info\">\n",
    "    \n",
    "<b>Совет:</b> Не лучший `fraction`. 0.25 было бы поточнее\n",
    "</div>\n"
   ]
  },
  {
   "cell_type": "code",
   "execution_count": 39,
   "metadata": {},
   "outputs": [
    {
     "data": {
      "text/plain": [
       "0    1922\n",
       "1    1196\n",
       "Name: Exited, dtype: int64"
      ]
     },
     "execution_count": 39,
     "metadata": {},
     "output_type": "execute_result"
    }
   ],
   "source": [
    "target_downsampled.value_counts()"
   ]
  },
  {
   "cell_type": "code",
   "execution_count": 40,
   "metadata": {},
   "outputs": [
    {
     "data": {
      "text/plain": [
       "(3118, 11)"
      ]
     },
     "execution_count": 40,
     "metadata": {},
     "output_type": "execute_result"
    }
   ],
   "source": [
    "features_downsampled.shape"
   ]
  },
  {
   "cell_type": "code",
   "execution_count": 41,
   "metadata": {
    "scrolled": true
   },
   "outputs": [
    {
     "data": {
      "image/png": "[encoded data removed]",
      "text/plain": [
       "<Figure size 432x288 with 1 Axes>"
      ]
     },
     "metadata": {
      "needs_background": "light"
     },
     "output_type": "display_data"
    }
   ],
   "source": [
    "target_downsampled.value_counts().plot(kind='bar')\n",
    "plt.show()"
   ]
  },
  {
   "cell_type": "markdown",
   "metadata": {},
   "source": [
    "Соотношение уже лучше чем в изначальной выборке"
   ]
  },
  {
   "cell_type": "markdown",
   "metadata": {},
   "source": [
    "Дерево решений в регрессии"
   ]
  },
  {
   "cell_type": "code",
   "execution_count": 42,
   "metadata": {},
   "outputs": [
    {
     "name": "stdout",
     "output_type": "stream",
     "text": [
      "F1: 0.48349514563106805\n",
      "ROC_AUC 0.6831186977903325\n"
     ]
    }
   ],
   "source": [
    "model_dt = DecisionTreeClassifier(random_state=12345,  class_weight='balanced') \n",
    "model_dt.fit(features_downsampled,target_downsampled) \n",
    "predictions_valid_dt = model_dt.predict(features_valid) \n",
    "\n",
    "print('F1:',f1_score(target_valid, predictions_valid_dt))\n",
    "probabilities_valid_dt = model_dt.predict_proba(features_valid)[:, 1]\n",
    "print(\"ROC_AUC\", roc_auc_score(target_valid, probabilities_valid_dt))"
   ]
  },
  {
   "cell_type": "markdown",
   "metadata": {},
   "source": [
    "Случайный лес в регрессии"
   ]
  },
  {
   "cell_type": "code",
   "execution_count": 43,
   "metadata": {},
   "outputs": [
    {
     "name": "stdout",
     "output_type": "stream",
     "text": [
      "F1: 0.6143344709897611\n",
      "ROC_AUC 0.8413937599428982\n"
     ]
    }
   ],
   "source": [
    "model_rf = RandomForestClassifier(random_state=12345,  class_weight='balanced')\n",
    "model_rf.fit(features_downsampled, target_downsampled)\n",
    "predictions_valid_rf = model_rf.predict(features_valid)\n",
    "\n",
    "print('F1:',f1_score(target_valid, predictions_valid_rf))\n",
    "probabilities_valid_rf = model_rf.predict_proba(features_valid)[:, 1]\n",
    "print(\"ROC_AUC\", roc_auc_score(target_valid, probabilities_valid_rf))"
   ]
  },
  {
   "cell_type": "markdown",
   "metadata": {},
   "source": [
    "Логистическая регрессия"
   ]
  },
  {
   "cell_type": "code",
   "execution_count": 44,
   "metadata": {},
   "outputs": [
    {
     "name": "stdout",
     "output_type": "stream",
     "text": [
      "F1: 0.4918314703353396\n",
      "ROC_AUC 0.7640818659682189\n"
     ]
    }
   ],
   "source": [
    "model_lr = LogisticRegression(random_state=12345,  class_weight='balanced') \n",
    "model_lr.fit(features_downsampled, target_downsampled) \n",
    "predictions_valid_lr = model_lr.predict(features_valid)\n",
    "\n",
    "print('F1:',f1_score(target_valid, predictions_valid_lr))\n",
    "probabilities_valid_lr = model_lr.predict_proba(features_valid)[:, 1]\n",
    "print(\"ROC_AUC\", roc_auc_score(target_valid, probabilities_valid_lr))"
   ]
  },
  {
   "cell_type": "markdown",
   "metadata": {},
   "source": [
    "Вывод: В результате мы получили, что у случайого леса показатели самые лучшие по сравнению с другими f1 0.61 пртив 0.48 и 0.49 и roc_auc 0.83 против 0.68 и 0.76 и в целом по всем моделям лучшие показатели получились при уменьшении выборки."
   ]
  },
  {
   "cell_type": "markdown",
   "metadata": {},
   "source": [
    "<div class=\"alert alert-block alert-success\">\n",
    "<b>Успех:</b> Хорошая работа с моделями машинного обучения.  Радует  достатчоное количество расмотренных методов для борьбы с дисбалансом.\n",
    "</div>\n"
   ]
  },
  {
   "cell_type": "markdown",
   "metadata": {},
   "source": [
    "## Тестирование модели"
   ]
  },
  {
   "cell_type": "markdown",
   "metadata": {},
   "source": [
    "Модель с лучшими показателями была случайный лес"
   ]
  },
  {
   "cell_type": "code",
   "execution_count": 45,
   "metadata": {},
   "outputs": [
    {
     "name": "stdout",
     "output_type": "stream",
     "text": [
      "F1: 0.5952649379932355\n",
      "ROC_AUC 0.8468468873628144\n"
     ]
    }
   ],
   "source": [
    "model_rf = RandomForestClassifier(random_state=12345,  class_weight='balanced')\n",
    "model_rf.fit(features_downsampled, target_downsampled)\n",
    "predictions_valid_rf = model_rf.predict(features_test)\n",
    "\n",
    "print('F1:',f1_score(target_test, predictions_valid_rf))\n",
    "probabilities_valid_rf = model_rf.predict_proba(features_test)[:, 1]\n",
    "print(\"ROC_AUC\", roc_auc_score(target_test, probabilities_valid_rf))"
   ]
  },
  {
   "cell_type": "markdown",
   "metadata": {},
   "source": [
    "Вывод: построена модель с предельно большим значением F1-меры (среднегармоническое полноты и точности)."
   ]
  },
  {
   "cell_type": "markdown",
   "metadata": {},
   "source": [
    "<div class=\"alert alert-block alert-success\">\n",
    "<b>Успех:</b>  С тестированием все в порядке! Тебе удалось достичь хороших показателей метрик на тесте. \n",
    "</div> \n",
    "\n",
    "\n",
    "\n",
    "\n",
    "\n",
    "<div class=\"alert alert-block alert-info\">\n",
    "<b>Совет:</b> Для понимания, а какие в итоге факторы важны при моделировании, можно выводить их важность, использую feature_importances_, ну и график заодно. Это будет смотреться очнь здорово: результативная метрика и график важности факторов)))<br> Очень ВАЖНАЯ для аналитики штука. Ведь нам не просто модель с метрикой нужна, а ещё и причины понять высокой/низкой метрики. Т.е. понять с какой силой сами факторы влияют на целевую.\n",
    "</div>\n"
   ]
  },
  {
   "cell_type": "markdown",
   "metadata": {},
   "source": [
    "## Чек-лист готовности проекта"
   ]
  },
  {
   "cell_type": "markdown",
   "metadata": {},
   "source": [
    "Поставьте 'x' в выполненных пунктах. Далее нажмите Shift+Enter."
   ]
  },
  {
   "cell_type": "markdown",
   "metadata": {},
   "source": [
    "- [X]  Jupyter Notebook открыт\n",
    "- [X]  Весь код выполняется без ошибок\n",
    "- [X]  Ячейки с кодом расположены в порядке исполнения\n",
    "- [X]  Выполнен шаг 1: данные подготовлены\n",
    "- [X]  Выполнен шаг 2: задача исследована\n",
    "    - [X]  Исследован баланс классов\n",
    "    - [X]  Изучены модели без учёта дисбаланса\n",
    "    - [X]  Написаны выводы по результатам исследования\n",
    "- [X]  Выполнен шаг 3: учтён дисбаланс\n",
    "    - [X]  Применено несколько способов борьбы с дисбалансом\n",
    "    - [X]  Написаны выводы по результатам исследования\n",
    "- [X]  Выполнен шаг 4: проведено тестирование\n",
    "- [X]  Удалось достичь *F1*-меры не менее 0.59\n",
    "- [X]  Исследована метрика *AUC-ROC*"
   ]
  },
  {
   "cell_type": "code",
   "execution_count": null,
   "metadata": {},
   "outputs": [],
   "source": []
  },
  {
   "cell_type": "markdown",
   "metadata": {},
   "source": [
    "\n"
   ]
  }
 ],
 "metadata": {
  "ExecuteTimeLog": [
   {
    "duration": 2037,
    "start_time": "2023-03-01T12:26:25.274Z"
   },
   {
    "duration": 88,
    "start_time": "2023-03-01T12:26:27.315Z"
   },
   {
    "duration": 18,
    "start_time": "2023-03-01T12:26:27.405Z"
   },
   {
    "duration": 47,
    "start_time": "2023-03-06T05:50:45.368Z"
   },
   {
    "duration": 6,
    "start_time": "2023-03-06T05:50:46.053Z"
   },
   {
    "duration": 9,
    "start_time": "2023-03-06T05:50:46.936Z"
   },
   {
    "duration": 6,
    "start_time": "2023-03-06T05:50:47.721Z"
   },
   {
    "duration": 1542,
    "start_time": "2023-03-06T05:50:52.591Z"
   },
   {
    "duration": 92,
    "start_time": "2023-03-06T05:50:54.135Z"
   },
   {
    "duration": 15,
    "start_time": "2023-03-06T05:50:54.229Z"
   },
   {
    "duration": 12,
    "start_time": "2023-03-06T05:50:54.246Z"
   },
   {
    "duration": 15,
    "start_time": "2023-03-06T05:50:54.260Z"
   },
   {
    "duration": 1324,
    "start_time": "2023-03-06T05:51:06.307Z"
   },
   {
    "duration": 43,
    "start_time": "2023-03-06T05:51:07.633Z"
   },
   {
    "duration": 13,
    "start_time": "2023-03-06T05:51:07.680Z"
   },
   {
    "duration": 18,
    "start_time": "2023-03-06T05:51:07.695Z"
   },
   {
    "duration": 16,
    "start_time": "2023-03-06T05:51:07.715Z"
   },
   {
    "duration": 5638,
    "start_time": "2023-03-06T05:51:07.733Z"
   },
   {
    "duration": 4,
    "start_time": "2023-03-06T05:51:13.373Z"
   },
   {
    "duration": 9,
    "start_time": "2023-03-06T05:51:13.379Z"
   },
   {
    "duration": 116,
    "start_time": "2023-03-06T06:33:17.808Z"
   },
   {
    "duration": 1377,
    "start_time": "2023-03-06T06:33:28.070Z"
   },
   {
    "duration": 41,
    "start_time": "2023-03-06T06:33:29.449Z"
   },
   {
    "duration": 13,
    "start_time": "2023-03-06T06:33:29.492Z"
   },
   {
    "duration": 13,
    "start_time": "2023-03-06T06:33:29.507Z"
   },
   {
    "duration": 17,
    "start_time": "2023-03-06T06:33:29.522Z"
   },
   {
    "duration": 5878,
    "start_time": "2023-03-06T06:33:29.541Z"
   },
   {
    "duration": 5,
    "start_time": "2023-03-06T06:33:35.422Z"
   },
   {
    "duration": 11,
    "start_time": "2023-03-06T06:33:35.429Z"
   },
   {
    "duration": 15,
    "start_time": "2023-03-06T06:33:35.441Z"
   },
   {
    "duration": 6,
    "start_time": "2023-03-06T06:33:35.459Z"
   },
   {
    "duration": 7,
    "start_time": "2023-03-06T06:33:35.467Z"
   },
   {
    "duration": 7,
    "start_time": "2023-03-06T06:33:35.476Z"
   },
   {
    "duration": 5,
    "start_time": "2023-03-06T06:33:35.484Z"
   },
   {
    "duration": 4,
    "start_time": "2023-03-06T06:33:49.793Z"
   },
   {
    "duration": 3,
    "start_time": "2023-03-06T06:33:50.382Z"
   },
   {
    "duration": 116,
    "start_time": "2023-03-06T06:34:59.474Z"
   },
   {
    "duration": 11,
    "start_time": "2023-03-06T06:35:07.118Z"
   },
   {
    "duration": 1371,
    "start_time": "2023-03-06T06:35:17.886Z"
   },
   {
    "duration": 41,
    "start_time": "2023-03-06T06:35:19.259Z"
   },
   {
    "duration": 12,
    "start_time": "2023-03-06T06:35:19.302Z"
   },
   {
    "duration": 19,
    "start_time": "2023-03-06T06:35:19.317Z"
   },
   {
    "duration": 16,
    "start_time": "2023-03-06T06:35:19.337Z"
   },
   {
    "duration": 5771,
    "start_time": "2023-03-06T06:35:19.356Z"
   },
   {
    "duration": 5,
    "start_time": "2023-03-06T06:35:25.129Z"
   },
   {
    "duration": 9,
    "start_time": "2023-03-06T06:35:25.135Z"
   },
   {
    "duration": 14,
    "start_time": "2023-03-06T06:35:25.148Z"
   },
   {
    "duration": 6,
    "start_time": "2023-03-06T06:35:25.166Z"
   },
   {
    "duration": 12,
    "start_time": "2023-03-06T06:35:25.175Z"
   },
   {
    "duration": 13,
    "start_time": "2023-03-06T06:35:25.189Z"
   },
   {
    "duration": 8,
    "start_time": "2023-03-06T06:35:25.204Z"
   },
   {
    "duration": 37,
    "start_time": "2023-03-06T06:35:25.214Z"
   },
   {
    "duration": 170,
    "start_time": "2023-03-06T06:35:25.253Z"
   },
   {
    "duration": 24,
    "start_time": "2023-03-06T06:38:18.950Z"
   },
   {
    "duration": 9,
    "start_time": "2023-03-06T08:22:19.169Z"
   },
   {
    "duration": 1389,
    "start_time": "2023-03-06T08:28:26.039Z"
   },
   {
    "duration": 42,
    "start_time": "2023-03-06T08:28:27.430Z"
   },
   {
    "duration": 13,
    "start_time": "2023-03-06T08:28:27.474Z"
   },
   {
    "duration": 12,
    "start_time": "2023-03-06T08:28:27.488Z"
   },
   {
    "duration": 16,
    "start_time": "2023-03-06T08:28:27.501Z"
   },
   {
    "duration": 4,
    "start_time": "2023-03-06T08:28:27.518Z"
   },
   {
    "duration": 25,
    "start_time": "2023-03-06T08:28:27.523Z"
   },
   {
    "duration": 14,
    "start_time": "2023-03-06T08:28:27.550Z"
   },
   {
    "duration": 4,
    "start_time": "2023-03-06T08:28:27.566Z"
   },
   {
    "duration": 8,
    "start_time": "2023-03-06T08:28:27.573Z"
   },
   {
    "duration": 9,
    "start_time": "2023-03-06T08:28:27.583Z"
   },
   {
    "duration": 10,
    "start_time": "2023-03-06T08:28:27.593Z"
   },
   {
    "duration": 12,
    "start_time": "2023-03-06T08:28:27.605Z"
   },
   {
    "duration": 37,
    "start_time": "2023-03-06T08:28:27.618Z"
   },
   {
    "duration": 113,
    "start_time": "2023-03-06T08:28:27.657Z"
   },
   {
    "duration": 0,
    "start_time": "2023-03-06T08:28:27.771Z"
   },
   {
    "duration": 0,
    "start_time": "2023-03-06T08:28:27.773Z"
   },
   {
    "duration": 0,
    "start_time": "2023-03-06T08:28:27.774Z"
   },
   {
    "duration": 0,
    "start_time": "2023-03-06T08:28:27.776Z"
   },
   {
    "duration": 0,
    "start_time": "2023-03-06T08:28:27.777Z"
   },
   {
    "duration": 0,
    "start_time": "2023-03-06T08:28:27.778Z"
   },
   {
    "duration": 1387,
    "start_time": "2023-03-06T08:28:48.551Z"
   },
   {
    "duration": 41,
    "start_time": "2023-03-06T08:28:49.940Z"
   },
   {
    "duration": 13,
    "start_time": "2023-03-06T08:28:49.983Z"
   },
   {
    "duration": 12,
    "start_time": "2023-03-06T08:28:49.998Z"
   },
   {
    "duration": 16,
    "start_time": "2023-03-06T08:28:50.012Z"
   },
   {
    "duration": 3,
    "start_time": "2023-03-06T08:28:50.030Z"
   },
   {
    "duration": 13,
    "start_time": "2023-03-06T08:28:50.035Z"
   },
   {
    "duration": 19,
    "start_time": "2023-03-06T08:28:50.049Z"
   },
   {
    "duration": 5,
    "start_time": "2023-03-06T08:28:50.069Z"
   },
   {
    "duration": 10,
    "start_time": "2023-03-06T08:28:50.076Z"
   },
   {
    "duration": 6,
    "start_time": "2023-03-06T08:28:50.088Z"
   },
   {
    "duration": 8,
    "start_time": "2023-03-06T08:28:50.096Z"
   },
   {
    "duration": 7,
    "start_time": "2023-03-06T08:28:50.105Z"
   },
   {
    "duration": 41,
    "start_time": "2023-03-06T08:28:50.114Z"
   },
   {
    "duration": 115,
    "start_time": "2023-03-06T08:28:50.157Z"
   },
   {
    "duration": 0,
    "start_time": "2023-03-06T08:28:50.273Z"
   },
   {
    "duration": 0,
    "start_time": "2023-03-06T08:28:50.274Z"
   },
   {
    "duration": 0,
    "start_time": "2023-03-06T08:28:50.275Z"
   },
   {
    "duration": 0,
    "start_time": "2023-03-06T08:28:50.276Z"
   },
   {
    "duration": 0,
    "start_time": "2023-03-06T08:28:50.278Z"
   },
   {
    "duration": 0,
    "start_time": "2023-03-06T08:28:50.279Z"
   },
   {
    "duration": 9,
    "start_time": "2023-03-06T08:29:42.968Z"
   },
   {
    "duration": 125,
    "start_time": "2023-03-06T08:30:12.970Z"
   },
   {
    "duration": 3714,
    "start_time": "2023-03-06T08:31:15.018Z"
   },
   {
    "duration": 41,
    "start_time": "2023-03-06T08:31:18.734Z"
   },
   {
    "duration": 12,
    "start_time": "2023-03-06T08:31:18.777Z"
   },
   {
    "duration": 21,
    "start_time": "2023-03-06T08:31:18.792Z"
   },
   {
    "duration": 21,
    "start_time": "2023-03-06T08:31:18.815Z"
   },
   {
    "duration": 8,
    "start_time": "2023-03-06T08:31:18.838Z"
   },
   {
    "duration": 31,
    "start_time": "2023-03-06T08:31:18.848Z"
   },
   {
    "duration": 21,
    "start_time": "2023-03-06T08:31:18.881Z"
   },
   {
    "duration": 8,
    "start_time": "2023-03-06T08:31:18.904Z"
   },
   {
    "duration": 16,
    "start_time": "2023-03-06T08:31:18.915Z"
   },
   {
    "duration": 15,
    "start_time": "2023-03-06T08:31:18.932Z"
   },
   {
    "duration": 19,
    "start_time": "2023-03-06T08:31:18.948Z"
   },
   {
    "duration": 19,
    "start_time": "2023-03-06T08:31:18.969Z"
   },
   {
    "duration": 48,
    "start_time": "2023-03-06T08:31:18.989Z"
   },
   {
    "duration": 123,
    "start_time": "2023-03-06T08:31:19.039Z"
   },
   {
    "duration": 36,
    "start_time": "2023-03-06T08:31:19.164Z"
   },
   {
    "duration": 750,
    "start_time": "2023-03-06T08:31:19.202Z"
   },
   {
    "duration": 53,
    "start_time": "2023-03-06T08:31:19.954Z"
   },
   {
    "duration": 0,
    "start_time": "2023-03-06T08:31:20.009Z"
   },
   {
    "duration": 0,
    "start_time": "2023-03-06T08:31:20.010Z"
   },
   {
    "duration": 0,
    "start_time": "2023-03-06T08:31:20.011Z"
   },
   {
    "duration": 704,
    "start_time": "2023-03-06T08:31:29.086Z"
   },
   {
    "duration": 165,
    "start_time": "2023-03-06T08:31:30.687Z"
   },
   {
    "duration": 49,
    "start_time": "2023-03-06T08:31:31.176Z"
   },
   {
    "duration": 5,
    "start_time": "2023-03-06T08:31:31.798Z"
   },
   {
    "duration": 6,
    "start_time": "2023-03-06T08:31:37.602Z"
   },
   {
    "duration": 59,
    "start_time": "2023-03-07T06:04:59.878Z"
   },
   {
    "duration": 1625,
    "start_time": "2023-03-07T06:05:05.162Z"
   },
   {
    "duration": 81,
    "start_time": "2023-03-07T06:05:06.789Z"
   },
   {
    "duration": 14,
    "start_time": "2023-03-07T06:05:06.872Z"
   },
   {
    "duration": 13,
    "start_time": "2023-03-07T06:05:06.888Z"
   },
   {
    "duration": 17,
    "start_time": "2023-03-07T06:05:06.902Z"
   },
   {
    "duration": 4,
    "start_time": "2023-03-07T06:05:06.921Z"
   },
   {
    "duration": 6,
    "start_time": "2023-03-07T06:05:06.949Z"
   },
   {
    "duration": 12,
    "start_time": "2023-03-07T06:05:06.957Z"
   },
   {
    "duration": 20,
    "start_time": "2023-03-07T06:05:06.971Z"
   },
   {
    "duration": 11,
    "start_time": "2023-03-07T06:05:06.994Z"
   },
   {
    "duration": 14,
    "start_time": "2023-03-07T06:05:07.007Z"
   },
   {
    "duration": 9,
    "start_time": "2023-03-07T06:05:07.022Z"
   },
   {
    "duration": 7,
    "start_time": "2023-03-07T06:05:07.033Z"
   },
   {
    "duration": 27,
    "start_time": "2023-03-07T06:05:07.050Z"
   },
   {
    "duration": 280,
    "start_time": "2023-03-07T06:05:07.079Z"
   },
   {
    "duration": 0,
    "start_time": "2023-03-07T06:05:07.360Z"
   },
   {
    "duration": 0,
    "start_time": "2023-03-07T06:05:07.361Z"
   },
   {
    "duration": 0,
    "start_time": "2023-03-07T06:05:07.363Z"
   },
   {
    "duration": 176,
    "start_time": "2023-03-07T06:05:30.362Z"
   },
   {
    "duration": 160,
    "start_time": "2023-03-07T06:06:37.057Z"
   },
   {
    "duration": 360,
    "start_time": "2023-03-07T06:06:51.941Z"
   },
   {
    "duration": 265,
    "start_time": "2023-03-07T06:07:30.413Z"
   },
   {
    "duration": 155,
    "start_time": "2023-03-07T06:08:09.036Z"
   },
   {
    "duration": 117,
    "start_time": "2023-03-07T06:08:41.494Z"
   },
   {
    "duration": 38,
    "start_time": "2023-03-07T06:27:09.470Z"
   },
   {
    "duration": 737,
    "start_time": "2023-03-07T06:27:10.810Z"
   },
   {
    "duration": 315,
    "start_time": "2023-03-07T06:27:12.452Z"
   },
   {
    "duration": 8,
    "start_time": "2023-03-07T06:29:39.602Z"
   },
   {
    "duration": 160,
    "start_time": "2023-03-07T06:30:11.278Z"
   },
   {
    "duration": 1459,
    "start_time": "2023-03-07T06:32:18.240Z"
   },
   {
    "duration": 39,
    "start_time": "2023-03-07T06:32:19.701Z"
   },
   {
    "duration": 16,
    "start_time": "2023-03-07T06:32:19.742Z"
   },
   {
    "duration": 30,
    "start_time": "2023-03-07T06:32:19.760Z"
   },
   {
    "duration": 17,
    "start_time": "2023-03-07T06:32:19.792Z"
   },
   {
    "duration": 4,
    "start_time": "2023-03-07T06:32:19.810Z"
   },
   {
    "duration": 12,
    "start_time": "2023-03-07T06:32:19.816Z"
   },
   {
    "duration": 11,
    "start_time": "2023-03-07T06:32:19.829Z"
   },
   {
    "duration": 25,
    "start_time": "2023-03-07T06:32:19.841Z"
   },
   {
    "duration": 7,
    "start_time": "2023-03-07T06:32:19.868Z"
   },
   {
    "duration": 7,
    "start_time": "2023-03-07T06:32:19.877Z"
   },
   {
    "duration": 14,
    "start_time": "2023-03-07T06:32:19.885Z"
   },
   {
    "duration": 6,
    "start_time": "2023-03-07T06:32:19.901Z"
   },
   {
    "duration": 32,
    "start_time": "2023-03-07T06:32:19.908Z"
   },
   {
    "duration": 281,
    "start_time": "2023-03-07T06:32:19.941Z"
   },
   {
    "duration": 0,
    "start_time": "2023-03-07T06:32:20.223Z"
   },
   {
    "duration": 0,
    "start_time": "2023-03-07T06:32:20.225Z"
   },
   {
    "duration": 0,
    "start_time": "2023-03-07T06:32:20.226Z"
   },
   {
    "duration": 0,
    "start_time": "2023-03-07T06:32:20.228Z"
   },
   {
    "duration": 0,
    "start_time": "2023-03-07T06:32:20.229Z"
   },
   {
    "duration": 0,
    "start_time": "2023-03-07T06:32:20.230Z"
   },
   {
    "duration": 0,
    "start_time": "2023-03-07T06:32:20.232Z"
   },
   {
    "duration": 0,
    "start_time": "2023-03-07T06:32:20.250Z"
   },
   {
    "duration": 0,
    "start_time": "2023-03-07T06:32:20.251Z"
   },
   {
    "duration": 119,
    "start_time": "2023-03-07T06:32:57.436Z"
   },
   {
    "duration": 116,
    "start_time": "2023-03-07T06:35:29.591Z"
   },
   {
    "duration": 141,
    "start_time": "2023-03-07T06:35:57.871Z"
   },
   {
    "duration": 200,
    "start_time": "2023-03-07T06:36:13.076Z"
   },
   {
    "duration": 1647,
    "start_time": "2023-03-07T06:36:19.771Z"
   },
   {
    "duration": 48,
    "start_time": "2023-03-07T06:36:21.420Z"
   },
   {
    "duration": 16,
    "start_time": "2023-03-07T06:36:21.470Z"
   },
   {
    "duration": 37,
    "start_time": "2023-03-07T06:36:21.488Z"
   },
   {
    "duration": 27,
    "start_time": "2023-03-07T06:36:21.527Z"
   },
   {
    "duration": 37,
    "start_time": "2023-03-07T06:36:21.557Z"
   },
   {
    "duration": 33,
    "start_time": "2023-03-07T06:36:21.596Z"
   },
   {
    "duration": 23,
    "start_time": "2023-03-07T06:36:21.631Z"
   },
   {
    "duration": 54,
    "start_time": "2023-03-07T06:36:21.658Z"
   },
   {
    "duration": 31,
    "start_time": "2023-03-07T06:36:21.715Z"
   },
   {
    "duration": 51,
    "start_time": "2023-03-07T06:36:21.747Z"
   },
   {
    "duration": 27,
    "start_time": "2023-03-07T06:36:21.800Z"
   },
   {
    "duration": 32,
    "start_time": "2023-03-07T06:36:21.829Z"
   },
   {
    "duration": 73,
    "start_time": "2023-03-07T06:36:21.865Z"
   },
   {
    "duration": 155,
    "start_time": "2023-03-07T06:36:21.940Z"
   },
   {
    "duration": 37,
    "start_time": "2023-03-07T06:36:22.097Z"
   },
   {
    "duration": 748,
    "start_time": "2023-03-07T06:36:22.155Z"
   },
   {
    "duration": 556,
    "start_time": "2023-03-07T06:36:22.905Z"
   },
   {
    "duration": 86,
    "start_time": "2023-03-07T06:36:23.469Z"
   },
   {
    "duration": 110,
    "start_time": "2023-03-07T06:36:23.567Z"
   },
   {
    "duration": 860,
    "start_time": "2023-03-07T06:36:23.679Z"
   },
   {
    "duration": 29,
    "start_time": "2023-03-07T06:36:24.540Z"
   },
   {
    "duration": 75,
    "start_time": "2023-03-07T06:36:24.570Z"
   },
   {
    "duration": 133,
    "start_time": "2023-03-07T06:36:24.647Z"
   },
   {
    "duration": 133,
    "start_time": "2023-03-07T06:41:19.370Z"
   },
   {
    "duration": 846,
    "start_time": "2023-03-07T06:41:20.299Z"
   },
   {
    "duration": 41,
    "start_time": "2023-03-07T06:50:43.969Z"
   },
   {
    "duration": 43,
    "start_time": "2023-03-07T06:51:10.159Z"
   },
   {
    "duration": 1376,
    "start_time": "2023-03-07T06:54:01.549Z"
   },
   {
    "duration": 42,
    "start_time": "2023-03-07T06:54:02.927Z"
   },
   {
    "duration": 13,
    "start_time": "2023-03-07T06:54:02.970Z"
   },
   {
    "duration": 25,
    "start_time": "2023-03-07T06:54:02.985Z"
   },
   {
    "duration": 32,
    "start_time": "2023-03-07T06:54:03.012Z"
   },
   {
    "duration": 44,
    "start_time": "2023-03-07T06:54:03.046Z"
   },
   {
    "duration": 32,
    "start_time": "2023-03-07T06:54:03.092Z"
   },
   {
    "duration": 51,
    "start_time": "2023-03-07T06:54:03.125Z"
   },
   {
    "duration": 21,
    "start_time": "2023-03-07T06:54:03.178Z"
   },
   {
    "duration": 55,
    "start_time": "2023-03-07T06:54:03.202Z"
   },
   {
    "duration": 22,
    "start_time": "2023-03-07T06:54:03.259Z"
   },
   {
    "duration": 42,
    "start_time": "2023-03-07T06:54:03.283Z"
   },
   {
    "duration": 38,
    "start_time": "2023-03-07T06:54:03.326Z"
   },
   {
    "duration": 86,
    "start_time": "2023-03-07T06:54:03.366Z"
   },
   {
    "duration": 160,
    "start_time": "2023-03-07T06:54:03.454Z"
   },
   {
    "duration": 39,
    "start_time": "2023-03-07T06:54:03.616Z"
   },
   {
    "duration": 750,
    "start_time": "2023-03-07T06:54:03.657Z"
   },
   {
    "duration": 242,
    "start_time": "2023-03-07T06:54:04.409Z"
   },
   {
    "duration": 95,
    "start_time": "2023-03-07T06:54:04.656Z"
   },
   {
    "duration": 9,
    "start_time": "2023-03-07T06:54:04.752Z"
   },
   {
    "duration": 56,
    "start_time": "2023-03-07T06:54:04.763Z"
   },
   {
    "duration": 0,
    "start_time": "2023-03-07T06:54:04.821Z"
   },
   {
    "duration": 0,
    "start_time": "2023-03-07T06:54:04.822Z"
   },
   {
    "duration": 0,
    "start_time": "2023-03-07T06:54:04.823Z"
   },
   {
    "duration": 0,
    "start_time": "2023-03-07T06:54:04.824Z"
   },
   {
    "duration": 0,
    "start_time": "2023-03-07T06:54:04.825Z"
   },
   {
    "duration": 0,
    "start_time": "2023-03-07T06:54:04.826Z"
   },
   {
    "duration": 0,
    "start_time": "2023-03-07T06:54:04.826Z"
   },
   {
    "duration": 0,
    "start_time": "2023-03-07T06:54:04.827Z"
   },
   {
    "duration": 0,
    "start_time": "2023-03-07T06:54:04.829Z"
   },
   {
    "duration": 0,
    "start_time": "2023-03-07T06:54:04.830Z"
   },
   {
    "duration": 1299,
    "start_time": "2023-03-07T06:54:32.203Z"
   },
   {
    "duration": 40,
    "start_time": "2023-03-07T06:54:33.504Z"
   },
   {
    "duration": 12,
    "start_time": "2023-03-07T06:54:33.546Z"
   },
   {
    "duration": 24,
    "start_time": "2023-03-07T06:54:33.560Z"
   },
   {
    "duration": 23,
    "start_time": "2023-03-07T06:54:33.586Z"
   },
   {
    "duration": 4,
    "start_time": "2023-03-07T06:54:33.611Z"
   },
   {
    "duration": 17,
    "start_time": "2023-03-07T06:54:33.616Z"
   },
   {
    "duration": 14,
    "start_time": "2023-03-07T06:54:33.634Z"
   },
   {
    "duration": 5,
    "start_time": "2023-03-07T06:54:33.649Z"
   },
   {
    "duration": 13,
    "start_time": "2023-03-07T06:54:33.657Z"
   },
   {
    "duration": 7,
    "start_time": "2023-03-07T06:54:33.671Z"
   },
   {
    "duration": 14,
    "start_time": "2023-03-07T06:54:33.679Z"
   },
   {
    "duration": 7,
    "start_time": "2023-03-07T06:54:33.695Z"
   },
   {
    "duration": 34,
    "start_time": "2023-03-07T06:54:33.704Z"
   },
   {
    "duration": 137,
    "start_time": "2023-03-07T06:54:33.740Z"
   },
   {
    "duration": 35,
    "start_time": "2023-03-07T06:54:33.878Z"
   },
   {
    "duration": 722,
    "start_time": "2023-03-07T06:54:33.914Z"
   },
   {
    "duration": 212,
    "start_time": "2023-03-07T06:54:34.638Z"
   },
   {
    "duration": 8,
    "start_time": "2023-03-07T06:54:34.851Z"
   },
   {
    "duration": 103,
    "start_time": "2023-03-07T06:54:34.861Z"
   },
   {
    "duration": 833,
    "start_time": "2023-03-07T06:54:34.966Z"
   },
   {
    "duration": 7,
    "start_time": "2023-03-07T06:54:35.801Z"
   },
   {
    "duration": 70,
    "start_time": "2023-03-07T06:54:35.809Z"
   },
   {
    "duration": 143,
    "start_time": "2023-03-07T06:54:35.881Z"
   },
   {
    "duration": 57,
    "start_time": "2023-03-07T06:54:36.026Z"
   },
   {
    "duration": 43,
    "start_time": "2023-03-07T06:54:36.085Z"
   },
   {
    "duration": 736,
    "start_time": "2023-03-07T06:54:36.130Z"
   },
   {
    "duration": 724,
    "start_time": "2023-03-07T06:54:36.869Z"
   },
   {
    "duration": 164,
    "start_time": "2023-03-07T06:54:37.594Z"
   },
   {
    "duration": 301,
    "start_time": "2023-03-07T06:54:37.849Z"
   },
   {
    "duration": 13,
    "start_time": "2023-03-07T06:56:45.742Z"
   },
   {
    "duration": 6,
    "start_time": "2023-03-07T06:58:49.050Z"
   },
   {
    "duration": 98,
    "start_time": "2023-03-07T06:58:49.795Z"
   },
   {
    "duration": 167,
    "start_time": "2023-03-07T06:59:14.033Z"
   },
   {
    "duration": 114,
    "start_time": "2023-03-07T06:59:48.615Z"
   },
   {
    "duration": 1346,
    "start_time": "2023-03-07T07:02:38.196Z"
   },
   {
    "duration": 40,
    "start_time": "2023-03-07T07:02:39.544Z"
   },
   {
    "duration": 14,
    "start_time": "2023-03-07T07:02:39.585Z"
   },
   {
    "duration": 14,
    "start_time": "2023-03-07T07:02:39.600Z"
   },
   {
    "duration": 22,
    "start_time": "2023-03-07T07:02:39.617Z"
   },
   {
    "duration": 4,
    "start_time": "2023-03-07T07:02:39.641Z"
   },
   {
    "duration": 10,
    "start_time": "2023-03-07T07:02:39.653Z"
   },
   {
    "duration": 13,
    "start_time": "2023-03-07T07:02:39.664Z"
   },
   {
    "duration": 8,
    "start_time": "2023-03-07T07:02:39.679Z"
   },
   {
    "duration": 22,
    "start_time": "2023-03-07T07:02:39.689Z"
   },
   {
    "duration": 6,
    "start_time": "2023-03-07T07:02:39.713Z"
   },
   {
    "duration": 7,
    "start_time": "2023-03-07T07:02:39.721Z"
   },
   {
    "duration": 6,
    "start_time": "2023-03-07T07:02:39.730Z"
   },
   {
    "duration": 35,
    "start_time": "2023-03-07T07:02:39.738Z"
   },
   {
    "duration": 143,
    "start_time": "2023-03-07T07:02:39.775Z"
   },
   {
    "duration": 49,
    "start_time": "2023-03-07T07:02:39.920Z"
   },
   {
    "duration": 733,
    "start_time": "2023-03-07T07:02:39.971Z"
   },
   {
    "duration": 254,
    "start_time": "2023-03-07T07:02:40.706Z"
   },
   {
    "duration": 90,
    "start_time": "2023-03-07T07:02:40.961Z"
   },
   {
    "duration": 100,
    "start_time": "2023-03-07T07:02:41.054Z"
   },
   {
    "duration": 822,
    "start_time": "2023-03-07T07:02:41.156Z"
   },
   {
    "duration": 7,
    "start_time": "2023-03-07T07:02:41.980Z"
   },
   {
    "duration": 76,
    "start_time": "2023-03-07T07:02:41.988Z"
   },
   {
    "duration": 135,
    "start_time": "2023-03-07T07:02:42.066Z"
   },
   {
    "duration": 53,
    "start_time": "2023-03-07T07:02:42.203Z"
   },
   {
    "duration": 40,
    "start_time": "2023-03-07T07:02:42.258Z"
   },
   {
    "duration": 805,
    "start_time": "2023-03-07T07:02:42.300Z"
   },
   {
    "duration": 784,
    "start_time": "2023-03-07T07:02:43.107Z"
   },
   {
    "duration": 158,
    "start_time": "2023-03-07T07:02:43.892Z"
   },
   {
    "duration": 301,
    "start_time": "2023-03-07T07:02:44.053Z"
   },
   {
    "duration": 101,
    "start_time": "2023-03-07T07:02:44.356Z"
   },
   {
    "duration": 20,
    "start_time": "2023-03-07T07:02:44.459Z"
   },
   {
    "duration": 164,
    "start_time": "2023-03-07T07:02:44.481Z"
   },
   {
    "duration": 54,
    "start_time": "2023-03-07T07:02:44.650Z"
   },
   {
    "duration": 1142,
    "start_time": "2023-03-07T07:02:44.706Z"
   },
   {
    "duration": 201,
    "start_time": "2023-03-07T07:02:45.850Z"
   },
   {
    "duration": 197,
    "start_time": "2023-03-07T07:02:46.053Z"
   },
   {
    "duration": 7,
    "start_time": "2023-03-07T07:02:46.252Z"
   },
   {
    "duration": 4,
    "start_time": "2023-03-07T07:03:03.833Z"
   },
   {
    "duration": 6,
    "start_time": "2023-03-07T07:03:24.889Z"
   },
   {
    "duration": 5,
    "start_time": "2023-03-07T07:03:26.782Z"
   },
   {
    "duration": 138,
    "start_time": "2023-03-07T07:04:59.983Z"
   },
   {
    "duration": 132,
    "start_time": "2023-03-07T07:05:15.401Z"
   },
   {
    "duration": 127,
    "start_time": "2023-03-07T07:05:23.497Z"
   },
   {
    "duration": 123,
    "start_time": "2023-03-07T07:21:21.547Z"
   },
   {
    "duration": 167,
    "start_time": "2023-03-07T07:21:38.825Z"
   },
   {
    "duration": 1730,
    "start_time": "2023-03-07T07:29:04.865Z"
   },
   {
    "duration": 41,
    "start_time": "2023-03-07T07:29:06.598Z"
   },
   {
    "duration": 16,
    "start_time": "2023-03-07T07:29:06.641Z"
   },
   {
    "duration": 43,
    "start_time": "2023-03-07T07:29:06.658Z"
   },
   {
    "duration": 20,
    "start_time": "2023-03-07T07:29:06.704Z"
   },
   {
    "duration": 5,
    "start_time": "2023-03-07T07:29:06.726Z"
   },
   {
    "duration": 8,
    "start_time": "2023-03-07T07:29:06.733Z"
   },
   {
    "duration": 47,
    "start_time": "2023-03-07T07:29:06.743Z"
   },
   {
    "duration": 6,
    "start_time": "2023-03-07T07:29:06.792Z"
   },
   {
    "duration": 8,
    "start_time": "2023-03-07T07:29:06.800Z"
   },
   {
    "duration": 7,
    "start_time": "2023-03-07T07:29:06.809Z"
   },
   {
    "duration": 5,
    "start_time": "2023-03-07T07:29:06.818Z"
   },
   {
    "duration": 10,
    "start_time": "2023-03-07T07:29:06.825Z"
   },
   {
    "duration": 35,
    "start_time": "2023-03-07T07:29:06.838Z"
   },
   {
    "duration": 143,
    "start_time": "2023-03-07T07:29:06.880Z"
   },
   {
    "duration": 57,
    "start_time": "2023-03-07T07:29:07.025Z"
   },
   {
    "duration": 760,
    "start_time": "2023-03-07T07:29:07.084Z"
   },
   {
    "duration": 538,
    "start_time": "2023-03-07T07:29:07.846Z"
   },
   {
    "duration": 30,
    "start_time": "2023-03-07T07:29:08.460Z"
   },
   {
    "duration": 14,
    "start_time": "2023-03-07T07:29:08.555Z"
   },
   {
    "duration": 854,
    "start_time": "2023-03-07T07:29:08.576Z"
   },
   {
    "duration": 6,
    "start_time": "2023-03-07T07:29:09.431Z"
   },
   {
    "duration": 62,
    "start_time": "2023-03-07T07:29:09.439Z"
   },
   {
    "duration": 125,
    "start_time": "2023-03-07T07:29:09.502Z"
   },
   {
    "duration": 53,
    "start_time": "2023-03-07T07:29:09.628Z"
   },
   {
    "duration": 47,
    "start_time": "2023-03-07T07:29:09.683Z"
   },
   {
    "duration": 828,
    "start_time": "2023-03-07T07:29:09.732Z"
   },
   {
    "duration": 760,
    "start_time": "2023-03-07T07:29:10.572Z"
   },
   {
    "duration": 1119,
    "start_time": "2023-03-07T07:29:11.334Z"
   },
   {
    "duration": 715,
    "start_time": "2023-03-07T07:29:12.468Z"
   },
   {
    "duration": 106,
    "start_time": "2023-03-07T07:29:13.255Z"
   },
   {
    "duration": 32,
    "start_time": "2023-03-07T07:29:13.365Z"
   },
   {
    "duration": 123,
    "start_time": "2023-03-07T07:29:13.398Z"
   },
   {
    "duration": 63,
    "start_time": "2023-03-07T07:29:13.524Z"
   },
   {
    "duration": 1109,
    "start_time": "2023-03-07T07:29:13.589Z"
   },
   {
    "duration": 589,
    "start_time": "2023-03-07T07:29:14.700Z"
   },
   {
    "duration": 173,
    "start_time": "2023-03-07T07:29:15.356Z"
   },
   {
    "duration": 5,
    "start_time": "2023-03-07T07:29:15.531Z"
   },
   {
    "duration": 31,
    "start_time": "2023-03-07T07:29:15.538Z"
   },
   {
    "duration": 136,
    "start_time": "2023-03-07T07:29:15.571Z"
   },
   {
    "duration": 28,
    "start_time": "2023-03-07T07:29:15.711Z"
   },
   {
    "duration": 597,
    "start_time": "2023-03-07T07:29:15.740Z"
   },
   {
    "duration": 637,
    "start_time": "2023-03-07T07:29:16.339Z"
   },
   {
    "duration": 653,
    "start_time": "2023-03-07T07:29:16.984Z"
   },
   {
    "duration": 7,
    "start_time": "2023-03-07T07:39:10.291Z"
   },
   {
    "duration": 110,
    "start_time": "2023-03-07T07:39:11.208Z"
   },
   {
    "duration": 1480,
    "start_time": "2023-03-07T07:41:20.429Z"
   },
   {
    "duration": 52,
    "start_time": "2023-03-07T07:41:21.911Z"
   },
   {
    "duration": 14,
    "start_time": "2023-03-07T07:41:21.976Z"
   },
   {
    "duration": 13,
    "start_time": "2023-03-07T07:41:21.992Z"
   },
   {
    "duration": 17,
    "start_time": "2023-03-07T07:41:22.006Z"
   },
   {
    "duration": 4,
    "start_time": "2023-03-07T07:41:22.025Z"
   },
   {
    "duration": 26,
    "start_time": "2023-03-07T07:41:22.030Z"
   },
   {
    "duration": 37,
    "start_time": "2023-03-07T07:41:22.057Z"
   },
   {
    "duration": 18,
    "start_time": "2023-03-07T07:41:22.096Z"
   },
   {
    "duration": 30,
    "start_time": "2023-03-07T07:41:22.117Z"
   },
   {
    "duration": 37,
    "start_time": "2023-03-07T07:41:22.149Z"
   },
   {
    "duration": 24,
    "start_time": "2023-03-07T07:41:22.189Z"
   },
   {
    "duration": 24,
    "start_time": "2023-03-07T07:41:22.215Z"
   },
   {
    "duration": 61,
    "start_time": "2023-03-07T07:41:22.240Z"
   },
   {
    "duration": 6,
    "start_time": "2023-03-07T07:41:22.303Z"
   },
   {
    "duration": 122,
    "start_time": "2023-03-07T07:41:22.311Z"
   },
   {
    "duration": 49,
    "start_time": "2023-03-07T07:41:22.436Z"
   },
   {
    "duration": 783,
    "start_time": "2023-03-07T07:41:22.486Z"
   },
   {
    "duration": 119,
    "start_time": "2023-03-07T07:41:23.271Z"
   },
   {
    "duration": 197,
    "start_time": "2023-03-07T07:41:23.392Z"
   },
   {
    "duration": 10,
    "start_time": "2023-03-07T07:41:23.591Z"
   },
   {
    "duration": 873,
    "start_time": "2023-03-07T07:41:23.603Z"
   },
   {
    "duration": 7,
    "start_time": "2023-03-07T07:41:24.483Z"
   },
   {
    "duration": 55,
    "start_time": "2023-03-07T07:41:24.491Z"
   },
   {
    "duration": 134,
    "start_time": "2023-03-07T07:41:24.549Z"
   },
   {
    "duration": 38,
    "start_time": "2023-03-07T07:41:24.685Z"
   },
   {
    "duration": 55,
    "start_time": "2023-03-07T07:41:24.725Z"
   },
   {
    "duration": 780,
    "start_time": "2023-03-07T07:41:24.785Z"
   },
   {
    "duration": 833,
    "start_time": "2023-03-07T07:41:25.569Z"
   },
   {
    "duration": 271,
    "start_time": "2023-03-07T07:41:26.404Z"
   },
   {
    "duration": 488,
    "start_time": "2023-03-07T07:41:26.681Z"
   },
   {
    "duration": 109,
    "start_time": "2023-03-07T07:41:27.178Z"
   },
   {
    "duration": 9,
    "start_time": "2023-03-07T07:41:27.291Z"
   },
   {
    "duration": 155,
    "start_time": "2023-03-07T07:41:27.301Z"
   },
   {
    "duration": 52,
    "start_time": "2023-03-07T07:41:27.460Z"
   },
   {
    "duration": 1069,
    "start_time": "2023-03-07T07:41:27.514Z"
   },
   {
    "duration": 468,
    "start_time": "2023-03-07T07:41:28.585Z"
   },
   {
    "duration": 173,
    "start_time": "2023-03-07T07:41:29.058Z"
   },
   {
    "duration": 5,
    "start_time": "2023-03-07T07:41:29.233Z"
   },
   {
    "duration": 43,
    "start_time": "2023-03-07T07:41:29.240Z"
   },
   {
    "duration": 109,
    "start_time": "2023-03-07T07:41:29.285Z"
   },
   {
    "duration": 28,
    "start_time": "2023-03-07T07:41:29.397Z"
   },
   {
    "duration": 544,
    "start_time": "2023-03-07T07:41:29.427Z"
   },
   {
    "duration": 689,
    "start_time": "2023-03-07T07:41:29.972Z"
   },
   {
    "duration": 654,
    "start_time": "2023-03-07T07:41:30.663Z"
   },
   {
    "duration": 61,
    "start_time": "2023-03-07T07:51:52.805Z"
   },
   {
    "duration": 1675,
    "start_time": "2023-03-07T07:52:04.788Z"
   },
   {
    "duration": 44,
    "start_time": "2023-03-07T07:52:06.466Z"
   },
   {
    "duration": 14,
    "start_time": "2023-03-07T07:52:06.511Z"
   },
   {
    "duration": 13,
    "start_time": "2023-03-07T07:52:06.527Z"
   },
   {
    "duration": 20,
    "start_time": "2023-03-07T07:52:06.543Z"
   },
   {
    "duration": 3,
    "start_time": "2023-03-07T07:52:06.565Z"
   },
   {
    "duration": 9,
    "start_time": "2023-03-07T07:52:06.570Z"
   },
   {
    "duration": 24,
    "start_time": "2023-03-07T07:52:06.580Z"
   },
   {
    "duration": 6,
    "start_time": "2023-03-07T07:52:06.605Z"
   },
   {
    "duration": 12,
    "start_time": "2023-03-07T07:52:06.612Z"
   },
   {
    "duration": 5,
    "start_time": "2023-03-07T07:52:06.626Z"
   },
   {
    "duration": 4,
    "start_time": "2023-03-07T07:52:06.632Z"
   },
   {
    "duration": 26,
    "start_time": "2023-03-07T07:52:06.638Z"
   },
   {
    "duration": 27,
    "start_time": "2023-03-07T07:52:06.667Z"
   },
   {
    "duration": 6,
    "start_time": "2023-03-07T07:52:06.696Z"
   },
   {
    "duration": 159,
    "start_time": "2023-03-07T07:52:06.704Z"
   },
   {
    "duration": 40,
    "start_time": "2023-03-07T07:52:06.865Z"
   },
   {
    "duration": 788,
    "start_time": "2023-03-07T07:52:06.907Z"
   },
   {
    "duration": 465,
    "start_time": "2023-03-07T07:52:07.697Z"
   },
   {
    "duration": 9,
    "start_time": "2023-03-07T07:52:08.163Z"
   },
   {
    "duration": 121,
    "start_time": "2023-03-07T07:52:08.254Z"
   },
   {
    "duration": 851,
    "start_time": "2023-03-07T07:52:08.377Z"
   },
   {
    "duration": 6,
    "start_time": "2023-03-07T07:52:09.230Z"
   },
   {
    "duration": 134,
    "start_time": "2023-03-07T07:52:09.238Z"
   },
   {
    "duration": 0,
    "start_time": "2023-03-07T07:52:09.375Z"
   },
   {
    "duration": 0,
    "start_time": "2023-03-07T07:52:09.377Z"
   },
   {
    "duration": 0,
    "start_time": "2023-03-07T07:52:09.378Z"
   },
   {
    "duration": 0,
    "start_time": "2023-03-07T07:52:09.379Z"
   },
   {
    "duration": 0,
    "start_time": "2023-03-07T07:52:09.381Z"
   },
   {
    "duration": 0,
    "start_time": "2023-03-07T07:52:09.382Z"
   },
   {
    "duration": 0,
    "start_time": "2023-03-07T07:52:09.383Z"
   },
   {
    "duration": 0,
    "start_time": "2023-03-07T07:52:09.384Z"
   },
   {
    "duration": 0,
    "start_time": "2023-03-07T07:52:09.385Z"
   },
   {
    "duration": 0,
    "start_time": "2023-03-07T07:52:09.386Z"
   },
   {
    "duration": 0,
    "start_time": "2023-03-07T07:52:09.387Z"
   },
   {
    "duration": 0,
    "start_time": "2023-03-07T07:52:09.388Z"
   },
   {
    "duration": 0,
    "start_time": "2023-03-07T07:52:09.389Z"
   },
   {
    "duration": 0,
    "start_time": "2023-03-07T07:52:09.390Z"
   },
   {
    "duration": 0,
    "start_time": "2023-03-07T07:52:09.392Z"
   },
   {
    "duration": 0,
    "start_time": "2023-03-07T07:52:09.393Z"
   },
   {
    "duration": 0,
    "start_time": "2023-03-07T07:52:09.394Z"
   },
   {
    "duration": 0,
    "start_time": "2023-03-07T07:52:09.395Z"
   },
   {
    "duration": 0,
    "start_time": "2023-03-07T07:52:09.396Z"
   },
   {
    "duration": 0,
    "start_time": "2023-03-07T07:52:09.397Z"
   },
   {
    "duration": 0,
    "start_time": "2023-03-07T07:52:09.398Z"
   },
   {
    "duration": 1441,
    "start_time": "2023-03-07T07:53:05.568Z"
   },
   {
    "duration": 47,
    "start_time": "2023-03-07T07:53:07.011Z"
   },
   {
    "duration": 16,
    "start_time": "2023-03-07T07:53:07.061Z"
   },
   {
    "duration": 12,
    "start_time": "2023-03-07T07:53:07.079Z"
   },
   {
    "duration": 16,
    "start_time": "2023-03-07T07:53:07.093Z"
   },
   {
    "duration": 4,
    "start_time": "2023-03-07T07:53:07.110Z"
   },
   {
    "duration": 11,
    "start_time": "2023-03-07T07:53:07.115Z"
   },
   {
    "duration": 29,
    "start_time": "2023-03-07T07:53:07.128Z"
   },
   {
    "duration": 7,
    "start_time": "2023-03-07T07:53:07.164Z"
   },
   {
    "duration": 16,
    "start_time": "2023-03-07T07:53:07.174Z"
   },
   {
    "duration": 10,
    "start_time": "2023-03-07T07:53:07.192Z"
   },
   {
    "duration": 15,
    "start_time": "2023-03-07T07:53:07.204Z"
   },
   {
    "duration": 14,
    "start_time": "2023-03-07T07:53:07.221Z"
   },
   {
    "duration": 29,
    "start_time": "2023-03-07T07:53:07.237Z"
   },
   {
    "duration": 9,
    "start_time": "2023-03-07T07:53:07.268Z"
   },
   {
    "duration": 136,
    "start_time": "2023-03-07T07:53:07.279Z"
   },
   {
    "duration": 45,
    "start_time": "2023-03-07T07:53:07.416Z"
   },
   {
    "duration": 701,
    "start_time": "2023-03-07T07:53:07.463Z"
   },
   {
    "duration": 195,
    "start_time": "2023-03-07T07:53:08.166Z"
   },
   {
    "duration": 92,
    "start_time": "2023-03-07T07:53:08.363Z"
   },
   {
    "duration": 115,
    "start_time": "2023-03-07T07:53:08.457Z"
   },
   {
    "duration": 837,
    "start_time": "2023-03-07T07:53:08.573Z"
   },
   {
    "duration": 5,
    "start_time": "2023-03-07T07:53:09.411Z"
   },
   {
    "duration": 62,
    "start_time": "2023-03-07T07:53:09.418Z"
   },
   {
    "duration": 117,
    "start_time": "2023-03-07T07:53:09.482Z"
   },
   {
    "duration": 58,
    "start_time": "2023-03-07T07:53:09.601Z"
   },
   {
    "duration": 38,
    "start_time": "2023-03-07T07:53:09.660Z"
   },
   {
    "duration": 795,
    "start_time": "2023-03-07T07:53:09.701Z"
   },
   {
    "duration": 741,
    "start_time": "2023-03-07T07:53:10.498Z"
   },
   {
    "duration": 326,
    "start_time": "2023-03-07T07:53:11.241Z"
   },
   {
    "duration": 384,
    "start_time": "2023-03-07T07:53:11.571Z"
   },
   {
    "duration": 110,
    "start_time": "2023-03-07T07:53:11.957Z"
   },
   {
    "duration": 116,
    "start_time": "2023-03-07T07:53:12.070Z"
   },
   {
    "duration": 119,
    "start_time": "2023-03-07T07:53:12.188Z"
   },
   {
    "duration": 55,
    "start_time": "2023-03-07T07:53:12.309Z"
   },
   {
    "duration": 1009,
    "start_time": "2023-03-07T07:53:12.365Z"
   },
   {
    "duration": 586,
    "start_time": "2023-03-07T07:53:13.376Z"
   },
   {
    "duration": 260,
    "start_time": "2023-03-07T07:53:13.964Z"
   },
   {
    "duration": 5,
    "start_time": "2023-03-07T07:53:14.227Z"
   },
   {
    "duration": 35,
    "start_time": "2023-03-07T07:53:14.233Z"
   },
   {
    "duration": 108,
    "start_time": "2023-03-07T07:53:14.269Z"
   },
   {
    "duration": 27,
    "start_time": "2023-03-07T07:53:14.378Z"
   },
   {
    "duration": 506,
    "start_time": "2023-03-07T07:53:14.407Z"
   },
   {
    "duration": 252,
    "start_time": "2023-03-07T07:53:14.915Z"
   },
   {
    "duration": 665,
    "start_time": "2023-03-07T07:53:15.173Z"
   },
   {
    "duration": 48,
    "start_time": "2023-03-07T13:11:57.988Z"
   },
   {
    "duration": 1574,
    "start_time": "2023-03-07T13:12:07.673Z"
   },
   {
    "duration": 81,
    "start_time": "2023-03-07T13:12:09.249Z"
   },
   {
    "duration": 14,
    "start_time": "2023-03-07T13:12:09.332Z"
   },
   {
    "duration": 19,
    "start_time": "2023-03-07T13:12:09.347Z"
   },
   {
    "duration": 18,
    "start_time": "2023-03-07T13:12:09.368Z"
   },
   {
    "duration": 4,
    "start_time": "2023-03-07T13:12:09.388Z"
   },
   {
    "duration": 9,
    "start_time": "2023-03-07T13:12:09.394Z"
   },
   {
    "duration": 15,
    "start_time": "2023-03-07T13:12:09.404Z"
   },
   {
    "duration": 5,
    "start_time": "2023-03-07T13:12:09.420Z"
   },
   {
    "duration": 33,
    "start_time": "2023-03-07T13:12:09.427Z"
   },
   {
    "duration": 5,
    "start_time": "2023-03-07T13:12:09.462Z"
   },
   {
    "duration": 7,
    "start_time": "2023-03-07T13:12:09.469Z"
   },
   {
    "duration": 5,
    "start_time": "2023-03-07T13:12:09.477Z"
   },
   {
    "duration": 24,
    "start_time": "2023-03-07T13:12:09.485Z"
   },
   {
    "duration": 5,
    "start_time": "2023-03-07T13:12:09.511Z"
   },
   {
    "duration": 148,
    "start_time": "2023-03-07T13:12:09.517Z"
   },
   {
    "duration": 38,
    "start_time": "2023-03-07T13:12:09.666Z"
   },
   {
    "duration": 722,
    "start_time": "2023-03-07T13:12:09.705Z"
   },
   {
    "duration": 332,
    "start_time": "2023-03-07T13:12:10.430Z"
   },
   {
    "duration": 95,
    "start_time": "2023-03-07T13:12:10.764Z"
   },
   {
    "duration": 11,
    "start_time": "2023-03-07T13:12:10.861Z"
   },
   {
    "duration": 841,
    "start_time": "2023-03-07T13:12:10.874Z"
   },
   {
    "duration": 7,
    "start_time": "2023-03-07T13:12:11.717Z"
   },
   {
    "duration": 66,
    "start_time": "2023-03-07T13:12:11.725Z"
   },
   {
    "duration": 119,
    "start_time": "2023-03-07T13:12:11.793Z"
   },
   {
    "duration": 51,
    "start_time": "2023-03-07T13:12:11.914Z"
   },
   {
    "duration": 39,
    "start_time": "2023-03-07T13:12:11.966Z"
   },
   {
    "duration": 775,
    "start_time": "2023-03-07T13:12:12.006Z"
   },
   {
    "duration": 755,
    "start_time": "2023-03-07T13:12:12.783Z"
   },
   {
    "duration": 628,
    "start_time": "2023-03-07T13:12:13.539Z"
   },
   {
    "duration": 798,
    "start_time": "2023-03-07T13:12:14.169Z"
   },
   {
    "duration": 195,
    "start_time": "2023-03-07T13:12:14.969Z"
   },
   {
    "duration": 5,
    "start_time": "2023-03-07T13:12:15.166Z"
   },
   {
    "duration": 110,
    "start_time": "2023-03-07T13:12:15.172Z"
   },
   {
    "duration": 56,
    "start_time": "2023-03-07T13:12:15.284Z"
   },
   {
    "duration": 1095,
    "start_time": "2023-03-07T13:12:15.342Z"
   },
   {
    "duration": 323,
    "start_time": "2023-03-07T13:12:16.439Z"
   },
   {
    "duration": 208,
    "start_time": "2023-03-07T13:12:16.765Z"
   },
   {
    "duration": 7,
    "start_time": "2023-03-07T13:12:16.975Z"
   },
   {
    "duration": 4,
    "start_time": "2023-03-07T13:12:16.983Z"
   },
   {
    "duration": 130,
    "start_time": "2023-03-07T13:12:16.991Z"
   },
   {
    "duration": 36,
    "start_time": "2023-03-07T13:12:17.124Z"
   },
   {
    "duration": 503,
    "start_time": "2023-03-07T13:12:17.162Z"
   },
   {
    "duration": 296,
    "start_time": "2023-03-07T13:12:17.667Z"
   },
   {
    "duration": 676,
    "start_time": "2023-03-07T13:12:17.965Z"
   },
   {
    "duration": 116,
    "start_time": "2023-03-07T13:12:18.643Z"
   },
   {
    "duration": 57,
    "start_time": "2023-03-07T13:16:01.816Z"
   },
   {
    "duration": 84,
    "start_time": "2023-03-07T13:16:20.329Z"
   },
   {
    "duration": 1460,
    "start_time": "2023-03-07T13:17:10.793Z"
   },
   {
    "duration": 42,
    "start_time": "2023-03-07T13:17:12.255Z"
   },
   {
    "duration": 14,
    "start_time": "2023-03-07T13:17:12.299Z"
   },
   {
    "duration": 15,
    "start_time": "2023-03-07T13:17:12.315Z"
   },
   {
    "duration": 25,
    "start_time": "2023-03-07T13:17:12.332Z"
   },
   {
    "duration": 6,
    "start_time": "2023-03-07T13:17:12.360Z"
   },
   {
    "duration": 10,
    "start_time": "2023-03-07T13:17:12.369Z"
   },
   {
    "duration": 20,
    "start_time": "2023-03-07T13:17:12.381Z"
   },
   {
    "duration": 5,
    "start_time": "2023-03-07T13:17:12.403Z"
   },
   {
    "duration": 7,
    "start_time": "2023-03-07T13:17:12.410Z"
   },
   {
    "duration": 12,
    "start_time": "2023-03-07T13:17:12.419Z"
   },
   {
    "duration": 25,
    "start_time": "2023-03-07T13:17:12.432Z"
   },
   {
    "duration": 5,
    "start_time": "2023-03-07T13:17:12.460Z"
   },
   {
    "duration": 27,
    "start_time": "2023-03-07T13:17:12.468Z"
   },
   {
    "duration": 6,
    "start_time": "2023-03-07T13:17:12.497Z"
   },
   {
    "duration": 161,
    "start_time": "2023-03-07T13:17:12.505Z"
   },
   {
    "duration": 40,
    "start_time": "2023-03-07T13:17:12.668Z"
   },
   {
    "duration": 748,
    "start_time": "2023-03-07T13:17:12.710Z"
   },
   {
    "duration": 202,
    "start_time": "2023-03-07T13:17:13.460Z"
   },
   {
    "duration": 106,
    "start_time": "2023-03-07T13:17:13.664Z"
   },
   {
    "duration": 93,
    "start_time": "2023-03-07T13:17:13.772Z"
   },
   {
    "duration": 863,
    "start_time": "2023-03-07T13:17:13.867Z"
   },
   {
    "duration": 6,
    "start_time": "2023-03-07T13:17:14.731Z"
   },
   {
    "duration": 126,
    "start_time": "2023-03-07T13:17:14.739Z"
   },
   {
    "duration": 123,
    "start_time": "2023-03-07T13:17:14.866Z"
   },
   {
    "duration": 40,
    "start_time": "2023-03-07T13:17:14.991Z"
   },
   {
    "duration": 53,
    "start_time": "2023-03-07T13:17:15.033Z"
   },
   {
    "duration": 849,
    "start_time": "2023-03-07T13:17:15.088Z"
   },
   {
    "duration": 764,
    "start_time": "2023-03-07T13:17:15.939Z"
   },
   {
    "duration": 256,
    "start_time": "2023-03-07T13:17:16.707Z"
   },
   {
    "duration": 499,
    "start_time": "2023-03-07T13:17:16.965Z"
   },
   {
    "duration": 196,
    "start_time": "2023-03-07T13:17:17.466Z"
   },
   {
    "duration": 7,
    "start_time": "2023-03-07T13:17:17.664Z"
   },
   {
    "duration": 130,
    "start_time": "2023-03-07T13:17:17.672Z"
   },
   {
    "duration": 56,
    "start_time": "2023-03-07T13:17:17.804Z"
   },
   {
    "duration": 1086,
    "start_time": "2023-03-07T13:17:17.863Z"
   },
   {
    "duration": 317,
    "start_time": "2023-03-07T13:17:18.951Z"
   },
   {
    "duration": 258,
    "start_time": "2023-03-07T13:17:19.271Z"
   },
   {
    "duration": 5,
    "start_time": "2023-03-07T13:17:19.531Z"
   },
   {
    "duration": 41,
    "start_time": "2023-03-07T13:17:19.538Z"
   },
   {
    "duration": 109,
    "start_time": "2023-03-07T13:17:19.582Z"
   },
   {
    "duration": 30,
    "start_time": "2023-03-07T13:17:19.693Z"
   },
   {
    "duration": 506,
    "start_time": "2023-03-07T13:17:19.724Z"
   },
   {
    "duration": 133,
    "start_time": "2023-03-07T13:17:20.231Z"
   },
   {
    "duration": 655,
    "start_time": "2023-03-07T13:17:20.367Z"
   }
  ],
  "kernelspec": {
   "display_name": "Python 3 (ipykernel)",
   "language": "python",
   "name": "python3"
  },
  "language_info": {
   "codemirror_mode": {
    "name": "ipython",
    "version": 3
   },
   "file_extension": ".py",
   "mimetype": "text/x-python",
   "name": "python",
   "nbconvert_exporter": "python",
   "pygments_lexer": "ipython3",
   "version": "3.9.13"
  },
  "toc": {
   "base_numbering": 1,
   "nav_menu": {},
   "number_sections": true,
   "sideBar": true,
   "skip_h1_title": true,
   "title_cell": "Содержание",
   "title_sidebar": "Contents",
   "toc_cell": true,
   "toc_position": {
    "height": "calc(100% - 180px)",
    "left": "10px",
    "top": "150px",
    "width": "165px"
   },
   "toc_section_display": true,
   "toc_window_display": true
  }
 },
 "nbformat": 4,
 "nbformat_minor": 2
}
