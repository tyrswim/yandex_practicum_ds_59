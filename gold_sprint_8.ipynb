{
 "cells": [
  {
   "cell_type": "markdown",
   "metadata": {},
   "source": [
    "<div style=\"border:solid Chocolate 2px; padding: 40px\">\n",
    "\n",
    "Привет, меня зовут Александр Куимов. Я буду ревьюером твоего проекта. Ты можешь обращаться ко мне на \"ты\"😏 Надеюсь, тебя также не смутит, если я буду обращаться к тебе на \"ты\", но если это неудобно, обязательно скажи об этом!\n",
    "\n",
    "Пожалуйста, не удаляй мои комментарии, они будут особенно полезны для нашей работы в случае повторной проверки проекта. \n",
    "\n",
    "Ты также можешь реагировать на мои комментарии своими по шаблону, показанному чуть ниже. Это нужно, чтобы не создавалась путаница😉\n",
    "\n",
    "Ты можешь найти мои комментарии, обозначенные <font color='green'>зеленым</font>, <font color='gold'>желтым</font> и <font color='red'>красным</font> цветами, например:\n",
    "\n",
    "<br/>\n",
    "\n",
    "<div class=\"alert alert-success\">\n",
    "<h2> Комментарий ревьюера <a class=\"tocSkip\"> </h2>\n",
    "\n",
    "<b>Все отлично!👍:</b> В случае, если решение на отдельном шаге является полностью правильным.\n",
    "</div>\n",
    "\n",
    "<br/>\n",
    "\n",
    "<div class=\"alert alert-warning\">\n",
    "    <h2> Комментарий ревьюера <a class=\"tocSkip\"> </h2>\n",
    "    \n",
    "<b>Некоторые замечания и рекомендации💡:</b> В случае, когда решение на отдельном шаге станет еще лучше, если внести небольшие коррективы.\n",
    "</div>\n",
    "\n",
    "\n",
    "<br/>\n",
    "<div class=\"alert alert-block alert-danger\">\n",
    "<h2> Комментарий ревьюера <a class=\"tocSkip\"></h2>\n",
    "\n",
    "    \n",
    "<b>На доработку🤔:</b>\n",
    " В случае, когда решение на отдельном шаге требует существенной переработки и внесения правок. Напоминаю, что проект не может быть принят с первого раза, если ревью содержит комментарии, рекомендующие доработать шаги.\n",
    "</div>\n",
    "    \n",
    "    \n",
    "<br/>    \n",
    "<div class=\"alert alert-info\">\n",
    "<h2> Комментарий студента: <a class=\"tocSkip\"> </h2>\n",
    "\n",
    "<b>👋:</b> В такой цветовой ячейке я прошу тебя оставлять свои комментарии. Если исправляешь проект на второй итерации и выше, не забывай пожалуйста указывать номер итерации, например, \"Комментарий студента v.2\".\n",
    "</div> \n",
    "\n",
    "<br/>    \n",
    "    \n",
    "Увидев у тебя неточность, в первый раз я лишь укажу на ее наличие и дам тебе возможность самому найти и исправить ее. На реальной работе твой руководитель будет поступать также, и я пытаюсь подготовить тебя именно к работе датасаентистом. Но если ты пока не справишься с такой задачей - при следующей проверке я дам более точную подсказку!🤓"
   ]
  },
  {
   "cell_type": "markdown",
   "metadata": {
    "toc": true
   },
   "source": [
    "<h1>Содержание<span class=\"tocSkip\"></span></h1>\n",
    "<div class=\"toc\"><ul class=\"toc-item\"><li><span><a href=\"#Подготовка-данных\" data-toc-modified-id=\"Подготовка-данных-1\"><span class=\"toc-item-num\">1&nbsp;&nbsp;</span>Подготовка данных</a></span></li><li><span><a href=\"#Анализ-данных\" data-toc-modified-id=\"Анализ-данных-2\"><span class=\"toc-item-num\">2&nbsp;&nbsp;</span>Анализ данных</a></span><ul class=\"toc-item\"><li><span><a href=\"#Модель-дерева-решений\" data-toc-modified-id=\"Модель-дерева-решений-2.1\"><span class=\"toc-item-num\">2.1&nbsp;&nbsp;</span>Модель дерева решений</a></span></li><li><span><a href=\"#Модель-случайного-леса\" data-toc-modified-id=\"Модель-случайного-леса-2.2\"><span class=\"toc-item-num\">2.2&nbsp;&nbsp;</span>Модель случайного леса</a></span></li><li><span><a href=\"#Модель-линейной-регрессии\" data-toc-modified-id=\"Модель-линейной-регрессии-2.3\"><span class=\"toc-item-num\">2.3&nbsp;&nbsp;</span>Модель линейной регрессии</a></span></li></ul></li><li><span><a href=\"#Проверка-модели-на-тестовой-выборке\" data-toc-modified-id=\"Проверка-модели-на-тестовой-выборке-3\"><span class=\"toc-item-num\">3&nbsp;&nbsp;</span>Проверка модели на тестовой выборке</a></span></li><li><span><a href=\"#Проверка-адекватности-модели\" data-toc-modified-id=\"Проверка-адекватности-модели-4\"><span class=\"toc-item-num\">4&nbsp;&nbsp;</span>Проверка адекватности модели</a></span></li><li><span><a href=\"#Чек-лист-готовности-проекта\" data-toc-modified-id=\"Чек-лист-готовности-проекта-5\"><span class=\"toc-item-num\">5&nbsp;&nbsp;</span>Чек-лист готовности проекта</a></span></li></ul></div>"
   ]
  },
  {
   "cell_type": "markdown",
   "metadata": {},
   "source": [
    "# Восстановление золота из руды"
   ]
  },
  {
   "cell_type": "markdown",
   "metadata": {},
   "source": [
    "Подготовьте прототип модели машинного обучения для «Цифры». Компания разрабатывает решения для эффективной работы промышленных предприятий.\n",
    "\n",
    "Модель должна предсказать коэффициент восстановления золота из золотосодержащей руды. Используйте данные с параметрами добычи и очистки. \n",
    "\n",
    "Модель поможет оптимизировать производство, чтобы не запускать предприятие с убыточными характеристиками.\n",
    "\n",
    "Вам нужно:\n",
    "\n",
    "1. Подготовить данные;\n",
    "2. Провести исследовательский анализ данных;\n",
    "3. Построить и обучить модель.\n",
    "\n",
    "Чтобы выполнить проект, обращайтесь к библиотекам *pandas*, *matplotlib* и *sklearn.* Вам поможет их документация."
   ]
  },
  {
   "cell_type": "raw",
   "metadata": {},
   "source": [
    "Инструкция по выполнению проекта\n",
    "\n",
    "Подготовьте данные\n",
    "\n",
    "1.1. Откройте файлы и изучите их. Путь к файлам: - /datasets/gold_recovery_train_new.csv - /datasets/gold_recovery_test_new.csv - /datasets/gold_recovery_full_new.csv 1.2. Проверьте, что эффективность обогащения рассчитана правильно. Вычислите её на обучающей выборке для признака rougher.output.recovery. Найдите MAE между вашими расчётами и значением признака. Опишите выводы.\n",
    "\n",
    "1.3. Проанализируйте признаки, недоступные в тестовой выборке. Что это за параметры? К какому типу относятся?\n",
    "\n",
    "1.4. Проведите предобработку данных.\n",
    "\n",
    "Проанализируйте данные\n",
    "\n",
    "2.1. Посмотрите, как меняется концентрация металлов (Au, Ag, Pb) на различных этапах очистки. Опишите выводы.\n",
    "\n",
    "2.2. Сравните распределения размеров гранул сырья на обучающей и тестовой выборках. Если распределения сильно отличаются друг от друга, оценка модели будет неправильной.\n",
    "\n",
    "2.3. Исследуйте суммарную концентрацию всех веществ на разных стадиях: в сырье, в черновом и финальном концентратах.\n",
    "\n",
    "Постройте модель\n",
    "\n",
    "3.1. Напишите функцию для вычисления итоговой sMAPE.\n",
    "\n",
    "3.2. Обучите разные модели и оцените их качество кросс-валидацией. Выберите лучшую модель и проверьте её на тестовой выборке. Опишите выводы."
   ]
  },
  {
   "cell_type": "markdown",
   "metadata": {},
   "source": [
    "# Описание данных\n",
    "\n",
    "Технологический процесс (rougher.input.feed_au -- rougher.output.concentrate_au -- primary_cleaner.output.concentrate_au -- final.output.concentrate_au)\n",
    "\n",
    "Rougher feed — исходное сырье\n",
    "Rougher additions (или reagent additions) — флотационные реагенты: Xanthate, Sulphate, Depressant\n",
    "Xanthate — ксантогенат (промотер, или активатор флотации);\n",
    "Sulphate — сульфат (на данном производстве сульфид натрия);\n",
    "Depressant — депрессант (силикат натрия).\n",
    "Rougher process (англ. «грубый процесс») — флотация\n",
    "Rougher tails — отвальные хвосты\n",
    "Float banks — флотационная установка\n",
    "Cleaner process — очистка\n",
    "Rougher Au — черновой концентрат золота\n",
    "Final Au — финальный концентрат золота\n",
    "Параметры этапов\n",
    "\n",
    "air amount — объём воздуха\n",
    "fluid levels — уровень жидкости\n",
    "feed size — размер гранул сырья\n",
    "feed rate — скорость подачи\n",
    "Наименование признаков должно быть такое:\n",
    "\n",
    "[этап].[тип_параметра].[название_параметра]\n",
    "\n",
    "Пример: rougher.input.feed_ag\n",
    "\n",
    "Возможные значения для блока [этап]:\n",
    "\n",
    "rougher — флотация\n",
    "primary_cleaner — первичная очистка\n",
    "secondary_cleaner — вторичная очистка\n",
    "final — финальные характеристики\n",
    "Возможные значения для блока [тип_параметра]:\n",
    "\n",
    "input — параметры сырья\n",
    "output — параметры продукта\n",
    "state — параметры, характеризующие текущее состояние этапа\n",
    "calculation — расчётные характеристики"
   ]
  },
  {
   "cell_type": "markdown",
   "metadata": {},
   "source": [
    "<div class=\"alert alert-success\">\n",
    "<h2> Комментарий ревьюера <a class=\"tocSkip\"> </h2>\n",
    "  \n",
    "<b>Все отлично!👍:</b> \n",
    "    \n",
    "Вижу твое добавленное описание проекта. Молодец! Это поможет тебе расставлять акценты в выводах"
   ]
  },
  {
   "cell_type": "markdown",
   "metadata": {},
   "source": [
    "## Подготовка данных"
   ]
  },
  {
   "cell_type": "markdown",
   "metadata": {},
   "source": [
    "Импортируем библиотеки"
   ]
  },
  {
   "cell_type": "code",
   "execution_count": 1,
   "metadata": {},
   "outputs": [],
   "source": [
    "import pandas as pd\n",
    "import numpy as np\n",
    "import matplotlib.pyplot as plt\n",
    "from sklearn.tree import DecisionTreeRegressor\n",
    "from sklearn.ensemble import RandomForestRegressor\n",
    "from sklearn.linear_model import LinearRegression\n",
    "from sklearn.metrics import mean_absolute_error\n",
    "from sklearn.metrics import make_scorer\n",
    "from sklearn.preprocessing import StandardScaler\n",
    "from sklearn.pipeline import make_pipeline\n",
    "from sklearn.model_selection import RandomizedSearchCV\n",
    "from sklearn.dummy import DummyRegressor"
   ]
  },
  {
   "cell_type": "markdown",
   "metadata": {},
   "source": [
    "Откроем файлы"
   ]
  },
  {
   "cell_type": "code",
   "execution_count": 2,
   "metadata": {},
   "outputs": [
    {
     "name": "stdout",
     "output_type": "stream",
     "text": [
      "<class 'pandas.core.frame.DataFrame'>\n",
      "RangeIndex: 14149 entries, 0 to 14148\n",
      "Data columns (total 87 columns):\n",
      " #   Column                                              Non-Null Count  Dtype  \n",
      "---  ------                                              --------------  -----  \n",
      " 0   date                                                14149 non-null  object \n",
      " 1   final.output.concentrate_ag                         14148 non-null  float64\n",
      " 2   final.output.concentrate_pb                         14148 non-null  float64\n",
      " 3   final.output.concentrate_sol                        13938 non-null  float64\n",
      " 4   final.output.concentrate_au                         14149 non-null  float64\n",
      " 5   final.output.recovery                               14149 non-null  float64\n",
      " 6   final.output.tail_ag                                14149 non-null  float64\n",
      " 7   final.output.tail_pb                                14049 non-null  float64\n",
      " 8   final.output.tail_sol                               14144 non-null  float64\n",
      " 9   final.output.tail_au                                14149 non-null  float64\n",
      " 10  primary_cleaner.input.sulfate                       14129 non-null  float64\n",
      " 11  primary_cleaner.input.depressant                    14117 non-null  float64\n",
      " 12  primary_cleaner.input.feed_size                     14149 non-null  float64\n",
      " 13  primary_cleaner.input.xanthate                      14049 non-null  float64\n",
      " 14  primary_cleaner.output.concentrate_ag               14149 non-null  float64\n",
      " 15  primary_cleaner.output.concentrate_pb               14063 non-null  float64\n",
      " 16  primary_cleaner.output.concentrate_sol              13863 non-null  float64\n",
      " 17  primary_cleaner.output.concentrate_au               14149 non-null  float64\n",
      " 18  primary_cleaner.output.tail_ag                      14148 non-null  float64\n",
      " 19  primary_cleaner.output.tail_pb                      14134 non-null  float64\n",
      " 20  primary_cleaner.output.tail_sol                     14103 non-null  float64\n",
      " 21  primary_cleaner.output.tail_au                      14149 non-null  float64\n",
      " 22  primary_cleaner.state.floatbank8_a_air              14145 non-null  float64\n",
      " 23  primary_cleaner.state.floatbank8_a_level            14148 non-null  float64\n",
      " 24  primary_cleaner.state.floatbank8_b_air              14145 non-null  float64\n",
      " 25  primary_cleaner.state.floatbank8_b_level            14148 non-null  float64\n",
      " 26  primary_cleaner.state.floatbank8_c_air              14147 non-null  float64\n",
      " 27  primary_cleaner.state.floatbank8_c_level            14148 non-null  float64\n",
      " 28  primary_cleaner.state.floatbank8_d_air              14146 non-null  float64\n",
      " 29  primary_cleaner.state.floatbank8_d_level            14148 non-null  float64\n",
      " 30  rougher.calculation.sulfate_to_au_concentrate       14148 non-null  float64\n",
      " 31  rougher.calculation.floatbank10_sulfate_to_au_feed  14148 non-null  float64\n",
      " 32  rougher.calculation.floatbank11_sulfate_to_au_feed  14148 non-null  float64\n",
      " 33  rougher.calculation.au_pb_ratio                     14149 non-null  float64\n",
      " 34  rougher.input.feed_ag                               14149 non-null  float64\n",
      " 35  rougher.input.feed_pb                               14049 non-null  float64\n",
      " 36  rougher.input.feed_rate                             14141 non-null  float64\n",
      " 37  rougher.input.feed_size                             14005 non-null  float64\n",
      " 38  rougher.input.feed_sol                              14071 non-null  float64\n",
      " 39  rougher.input.feed_au                               14149 non-null  float64\n",
      " 40  rougher.input.floatbank10_sulfate                   14120 non-null  float64\n",
      " 41  rougher.input.floatbank10_xanthate                  14141 non-null  float64\n",
      " 42  rougher.input.floatbank11_sulfate                   14113 non-null  float64\n",
      " 43  rougher.input.floatbank11_xanthate                  13721 non-null  float64\n",
      " 44  rougher.output.concentrate_ag                       14149 non-null  float64\n",
      " 45  rougher.output.concentrate_pb                       14149 non-null  float64\n",
      " 46  rougher.output.concentrate_sol                      14127 non-null  float64\n",
      " 47  rougher.output.concentrate_au                       14149 non-null  float64\n",
      " 48  rougher.output.recovery                             14149 non-null  float64\n",
      " 49  rougher.output.tail_ag                              14148 non-null  float64\n",
      " 50  rougher.output.tail_pb                              14149 non-null  float64\n",
      " 51  rougher.output.tail_sol                             14149 non-null  float64\n",
      " 52  rougher.output.tail_au                              14149 non-null  float64\n",
      " 53  rougher.state.floatbank10_a_air                     14148 non-null  float64\n",
      " 54  rougher.state.floatbank10_a_level                   14148 non-null  float64\n",
      " 55  rougher.state.floatbank10_b_air                     14148 non-null  float64\n",
      " 56  rougher.state.floatbank10_b_level                   14148 non-null  float64\n",
      " 57  rougher.state.floatbank10_c_air                     14148 non-null  float64\n",
      " 58  rougher.state.floatbank10_c_level                   14148 non-null  float64\n",
      " 59  rougher.state.floatbank10_d_air                     14149 non-null  float64\n",
      " 60  rougher.state.floatbank10_d_level                   14149 non-null  float64\n",
      " 61  rougher.state.floatbank10_e_air                     13713 non-null  float64\n",
      " 62  rougher.state.floatbank10_e_level                   14149 non-null  float64\n",
      " 63  rougher.state.floatbank10_f_air                     14149 non-null  float64\n",
      " 64  rougher.state.floatbank10_f_level                   14149 non-null  float64\n",
      " 65  secondary_cleaner.output.tail_ag                    14147 non-null  float64\n",
      " 66  secondary_cleaner.output.tail_pb                    14139 non-null  float64\n",
      " 67  secondary_cleaner.output.tail_sol                   12544 non-null  float64\n",
      " 68  secondary_cleaner.output.tail_au                    14149 non-null  float64\n",
      " 69  secondary_cleaner.state.floatbank2_a_air            13932 non-null  float64\n",
      " 70  secondary_cleaner.state.floatbank2_a_level          14148 non-null  float64\n",
      " 71  secondary_cleaner.state.floatbank2_b_air            14128 non-null  float64\n",
      " 72  secondary_cleaner.state.floatbank2_b_level          14148 non-null  float64\n",
      " 73  secondary_cleaner.state.floatbank3_a_air            14145 non-null  float64\n",
      " 74  secondary_cleaner.state.floatbank3_a_level          14148 non-null  float64\n",
      " 75  secondary_cleaner.state.floatbank3_b_air            14148 non-null  float64\n",
      " 76  secondary_cleaner.state.floatbank3_b_level          14148 non-null  float64\n",
      " 77  secondary_cleaner.state.floatbank4_a_air            14143 non-null  float64\n",
      " 78  secondary_cleaner.state.floatbank4_a_level          14148 non-null  float64\n",
      " 79  secondary_cleaner.state.floatbank4_b_air            14148 non-null  float64\n",
      " 80  secondary_cleaner.state.floatbank4_b_level          14148 non-null  float64\n",
      " 81  secondary_cleaner.state.floatbank5_a_air            14148 non-null  float64\n",
      " 82  secondary_cleaner.state.floatbank5_a_level          14148 non-null  float64\n",
      " 83  secondary_cleaner.state.floatbank5_b_air            14148 non-null  float64\n",
      " 84  secondary_cleaner.state.floatbank5_b_level          14148 non-null  float64\n",
      " 85  secondary_cleaner.state.floatbank6_a_air            14147 non-null  float64\n",
      " 86  secondary_cleaner.state.floatbank6_a_level          14148 non-null  float64\n",
      "dtypes: float64(86), object(1)\n",
      "memory usage: 9.4+ MB\n",
      "None\n",
      "                  date  final.output.concentrate_ag  \\\n",
      "0  2016-01-15 00:00:00                     6.055403   \n",
      "1  2016-01-15 01:00:00                     6.029369   \n",
      "2  2016-01-15 02:00:00                     6.055926   \n",
      "3  2016-01-15 03:00:00                     6.047977   \n",
      "4  2016-01-15 04:00:00                     6.148599   \n",
      "\n",
      "   final.output.concentrate_pb  final.output.concentrate_sol  \\\n",
      "0                     9.889648                      5.507324   \n",
      "1                     9.968944                      5.257781   \n",
      "2                    10.213995                      5.383759   \n",
      "3                     9.977019                      4.858634   \n",
      "4                    10.142511                      4.939416   \n",
      "\n",
      "   final.output.concentrate_au  final.output.recovery  final.output.tail_ag  \\\n",
      "0                    42.192020              70.541216             10.411962   \n",
      "1                    42.701629              69.266198             10.462676   \n",
      "2                    42.657501              68.116445             10.507046   \n",
      "3                    42.689819              68.347543             10.422762   \n",
      "4                    42.774141              66.927016             10.360302   \n",
      "\n",
      "   final.output.tail_pb  final.output.tail_sol  final.output.tail_au  ...  \\\n",
      "0              0.895447              16.904297              2.143149  ...   \n",
      "1              0.927452              16.634514              2.224930  ...   \n",
      "2              0.953716              16.208849              2.257889  ...   \n",
      "3              0.883763              16.532835              2.146849  ...   \n",
      "4              0.792826              16.525686              2.055292  ...   \n",
      "\n",
      "   secondary_cleaner.state.floatbank4_a_air  \\\n",
      "0                                 14.016835   \n",
      "1                                 13.992281   \n",
      "2                                 14.015015   \n",
      "3                                 14.036510   \n",
      "4                                 14.027298   \n",
      "\n",
      "   secondary_cleaner.state.floatbank4_a_level  \\\n",
      "0                                 -502.488007   \n",
      "1                                 -505.503262   \n",
      "2                                 -502.520901   \n",
      "3                                 -500.857308   \n",
      "4                                 -499.838632   \n",
      "\n",
      "   secondary_cleaner.state.floatbank4_b_air  \\\n",
      "0                                 12.099931   \n",
      "1                                 11.950531   \n",
      "2                                 11.912783   \n",
      "3                                 11.999550   \n",
      "4                                 11.953070   \n",
      "\n",
      "   secondary_cleaner.state.floatbank4_b_level  \\\n",
      "0                                 -504.715942   \n",
      "1                                 -501.331529   \n",
      "2                                 -501.133383   \n",
      "3                                 -501.193686   \n",
      "4                                 -501.053894   \n",
      "\n",
      "   secondary_cleaner.state.floatbank5_a_air  \\\n",
      "0                                  9.925633   \n",
      "1                                 10.039245   \n",
      "2                                 10.070913   \n",
      "3                                  9.970366   \n",
      "4                                  9.925709   \n",
      "\n",
      "   secondary_cleaner.state.floatbank5_a_level  \\\n",
      "0                                 -498.310211   \n",
      "1                                 -500.169983   \n",
      "2                                 -500.129135   \n",
      "3                                 -499.201640   \n",
      "4                                 -501.686727   \n",
      "\n",
      "   secondary_cleaner.state.floatbank5_b_air  \\\n",
      "0                                  8.079666   \n",
      "1                                  7.984757   \n",
      "2                                  8.013877   \n",
      "3                                  7.977324   \n",
      "4                                  7.894242   \n",
      "\n",
      "   secondary_cleaner.state.floatbank5_b_level  \\\n",
      "0                                 -500.470978   \n",
      "1                                 -500.582168   \n",
      "2                                 -500.517572   \n",
      "3                                 -500.255908   \n",
      "4                                 -500.356035   \n",
      "\n",
      "   secondary_cleaner.state.floatbank6_a_air  \\\n",
      "0                                 14.151341   \n",
      "1                                 13.998353   \n",
      "2                                 14.028663   \n",
      "3                                 14.005551   \n",
      "4                                 13.996647   \n",
      "\n",
      "   secondary_cleaner.state.floatbank6_a_level  \n",
      "0                                 -605.841980  \n",
      "1                                 -599.787184  \n",
      "2                                 -601.427363  \n",
      "3                                 -599.996129  \n",
      "4                                 -601.496691  \n",
      "\n",
      "[5 rows x 87 columns]\n",
      "<class 'pandas.core.frame.DataFrame'>\n",
      "RangeIndex: 5290 entries, 0 to 5289\n",
      "Data columns (total 53 columns):\n",
      " #   Column                                      Non-Null Count  Dtype  \n",
      "---  ------                                      --------------  -----  \n",
      " 0   date                                        5290 non-null   object \n",
      " 1   primary_cleaner.input.sulfate               5286 non-null   float64\n",
      " 2   primary_cleaner.input.depressant            5285 non-null   float64\n",
      " 3   primary_cleaner.input.feed_size             5290 non-null   float64\n",
      " 4   primary_cleaner.input.xanthate              5286 non-null   float64\n",
      " 5   primary_cleaner.state.floatbank8_a_air      5290 non-null   float64\n",
      " 6   primary_cleaner.state.floatbank8_a_level    5290 non-null   float64\n",
      " 7   primary_cleaner.state.floatbank8_b_air      5290 non-null   float64\n",
      " 8   primary_cleaner.state.floatbank8_b_level    5290 non-null   float64\n",
      " 9   primary_cleaner.state.floatbank8_c_air      5290 non-null   float64\n",
      " 10  primary_cleaner.state.floatbank8_c_level    5290 non-null   float64\n",
      " 11  primary_cleaner.state.floatbank8_d_air      5290 non-null   float64\n",
      " 12  primary_cleaner.state.floatbank8_d_level    5290 non-null   float64\n",
      " 13  rougher.input.feed_ag                       5290 non-null   float64\n",
      " 14  rougher.input.feed_pb                       5290 non-null   float64\n",
      " 15  rougher.input.feed_rate                     5287 non-null   float64\n",
      " 16  rougher.input.feed_size                     5289 non-null   float64\n",
      " 17  rougher.input.feed_sol                      5269 non-null   float64\n",
      " 18  rougher.input.feed_au                       5290 non-null   float64\n",
      " 19  rougher.input.floatbank10_sulfate           5285 non-null   float64\n",
      " 20  rougher.input.floatbank10_xanthate          5290 non-null   float64\n",
      " 21  rougher.input.floatbank11_sulfate           5282 non-null   float64\n",
      " 22  rougher.input.floatbank11_xanthate          5265 non-null   float64\n",
      " 23  rougher.state.floatbank10_a_air             5290 non-null   float64\n",
      " 24  rougher.state.floatbank10_a_level           5290 non-null   float64\n",
      " 25  rougher.state.floatbank10_b_air             5290 non-null   float64\n",
      " 26  rougher.state.floatbank10_b_level           5290 non-null   float64\n",
      " 27  rougher.state.floatbank10_c_air             5290 non-null   float64\n",
      " 28  rougher.state.floatbank10_c_level           5290 non-null   float64\n",
      " 29  rougher.state.floatbank10_d_air             5290 non-null   float64\n",
      " 30  rougher.state.floatbank10_d_level           5290 non-null   float64\n",
      " 31  rougher.state.floatbank10_e_air             5290 non-null   float64\n",
      " 32  rougher.state.floatbank10_e_level           5290 non-null   float64\n",
      " 33  rougher.state.floatbank10_f_air             5290 non-null   float64\n",
      " 34  rougher.state.floatbank10_f_level           5290 non-null   float64\n",
      " 35  secondary_cleaner.state.floatbank2_a_air    5287 non-null   float64\n",
      " 36  secondary_cleaner.state.floatbank2_a_level  5290 non-null   float64\n",
      " 37  secondary_cleaner.state.floatbank2_b_air    5288 non-null   float64\n",
      " 38  secondary_cleaner.state.floatbank2_b_level  5290 non-null   float64\n",
      " 39  secondary_cleaner.state.floatbank3_a_air    5281 non-null   float64\n",
      " 40  secondary_cleaner.state.floatbank3_a_level  5290 non-null   float64\n",
      " 41  secondary_cleaner.state.floatbank3_b_air    5290 non-null   float64\n",
      " 42  secondary_cleaner.state.floatbank3_b_level  5290 non-null   float64\n",
      " 43  secondary_cleaner.state.floatbank4_a_air    5290 non-null   float64\n",
      " 44  secondary_cleaner.state.floatbank4_a_level  5290 non-null   float64\n",
      " 45  secondary_cleaner.state.floatbank4_b_air    5290 non-null   float64\n",
      " 46  secondary_cleaner.state.floatbank4_b_level  5290 non-null   float64\n",
      " 47  secondary_cleaner.state.floatbank5_a_air    5290 non-null   float64\n",
      " 48  secondary_cleaner.state.floatbank5_a_level  5290 non-null   float64\n",
      " 49  secondary_cleaner.state.floatbank5_b_air    5290 non-null   float64\n",
      " 50  secondary_cleaner.state.floatbank5_b_level  5290 non-null   float64\n",
      " 51  secondary_cleaner.state.floatbank6_a_air    5290 non-null   float64\n",
      " 52  secondary_cleaner.state.floatbank6_a_level  5290 non-null   float64\n",
      "dtypes: float64(52), object(1)\n",
      "memory usage: 2.1+ MB\n",
      "None\n",
      "                  date  primary_cleaner.input.sulfate  \\\n",
      "0  2016-09-01 00:59:59                     210.800909   \n",
      "1  2016-09-01 01:59:59                     215.392455   \n",
      "2  2016-09-01 02:59:59                     215.259946   \n",
      "3  2016-09-01 03:59:59                     215.336236   \n",
      "4  2016-09-01 04:59:59                     199.099327   \n",
      "\n",
      "   primary_cleaner.input.depressant  primary_cleaner.input.feed_size  \\\n",
      "0                         14.993118                         8.080000   \n",
      "1                         14.987471                         8.080000   \n",
      "2                         12.884934                         7.786667   \n",
      "3                         12.006805                         7.640000   \n",
      "4                         10.682530                         7.530000   \n",
      "\n",
      "   primary_cleaner.input.xanthate  primary_cleaner.state.floatbank8_a_air  \\\n",
      "0                        1.005021                             1398.981301   \n",
      "1                        0.990469                             1398.777912   \n",
      "2                        0.996043                             1398.493666   \n",
      "3                        0.863514                             1399.618111   \n",
      "4                        0.805575                             1401.268123   \n",
      "\n",
      "   primary_cleaner.state.floatbank8_a_level  \\\n",
      "0                               -500.225577   \n",
      "1                               -500.057435   \n",
      "2                               -500.868360   \n",
      "3                               -498.863574   \n",
      "4                               -500.808305   \n",
      "\n",
      "   primary_cleaner.state.floatbank8_b_air  \\\n",
      "0                             1399.144926   \n",
      "1                             1398.055362   \n",
      "2                             1398.860436   \n",
      "3                             1397.440120   \n",
      "4                             1398.128818   \n",
      "\n",
      "   primary_cleaner.state.floatbank8_b_level  \\\n",
      "0                               -499.919735   \n",
      "1                               -499.778182   \n",
      "2                               -499.764529   \n",
      "3                               -499.211024   \n",
      "4                               -499.504543   \n",
      "\n",
      "   primary_cleaner.state.floatbank8_c_air  ...  \\\n",
      "0                             1400.102998  ...   \n",
      "1                             1396.151033  ...   \n",
      "2                             1398.075709  ...   \n",
      "3                             1400.129303  ...   \n",
      "4                             1402.172226  ...   \n",
      "\n",
      "   secondary_cleaner.state.floatbank4_a_air  \\\n",
      "0                                 12.023554   \n",
      "1                                 12.058140   \n",
      "2                                 11.962366   \n",
      "3                                 12.033091   \n",
      "4                                 12.025367   \n",
      "\n",
      "   secondary_cleaner.state.floatbank4_a_level  \\\n",
      "0                                 -497.795834   \n",
      "1                                 -498.695773   \n",
      "2                                 -498.767484   \n",
      "3                                 -498.350935   \n",
      "4                                 -500.786497   \n",
      "\n",
      "   secondary_cleaner.state.floatbank4_b_air  \\\n",
      "0                                  8.016656   \n",
      "1                                  8.130979   \n",
      "2                                  8.096893   \n",
      "3                                  8.074946   \n",
      "4                                  8.054678   \n",
      "\n",
      "   secondary_cleaner.state.floatbank4_b_level  \\\n",
      "0                                 -501.289139   \n",
      "1                                 -499.634209   \n",
      "2                                 -500.827423   \n",
      "3                                 -499.474407   \n",
      "4                                 -500.397500   \n",
      "\n",
      "   secondary_cleaner.state.floatbank5_a_air  \\\n",
      "0                                  7.946562   \n",
      "1                                  7.958270   \n",
      "2                                  8.071056   \n",
      "3                                  7.897085   \n",
      "4                                  8.107890   \n",
      "\n",
      "   secondary_cleaner.state.floatbank5_a_level  \\\n",
      "0                                 -432.317850   \n",
      "1                                 -525.839648   \n",
      "2                                 -500.801673   \n",
      "3                                 -500.868509   \n",
      "4                                 -509.526725   \n",
      "\n",
      "   secondary_cleaner.state.floatbank5_b_air  \\\n",
      "0                                  4.872511   \n",
      "1                                  4.878850   \n",
      "2                                  4.905125   \n",
      "3                                  4.931400   \n",
      "4                                  4.957674   \n",
      "\n",
      "   secondary_cleaner.state.floatbank5_b_level  \\\n",
      "0                                 -500.037437   \n",
      "1                                 -500.162375   \n",
      "2                                 -499.828510   \n",
      "3                                 -499.963623   \n",
      "4                                 -500.360026   \n",
      "\n",
      "   secondary_cleaner.state.floatbank6_a_air  \\\n",
      "0                                 26.705889   \n",
      "1                                 25.019940   \n",
      "2                                 24.994862   \n",
      "3                                 24.948919   \n",
      "4                                 25.003331   \n",
      "\n",
      "   secondary_cleaner.state.floatbank6_a_level  \n",
      "0                                 -499.709414  \n",
      "1                                 -499.819438  \n",
      "2                                 -500.622559  \n",
      "3                                 -498.709987  \n",
      "4                                 -500.856333  \n",
      "\n",
      "[5 rows x 53 columns]\n",
      "<class 'pandas.core.frame.DataFrame'>\n",
      "RangeIndex: 19439 entries, 0 to 19438\n",
      "Data columns (total 87 columns):\n",
      " #   Column                                              Non-Null Count  Dtype  \n",
      "---  ------                                              --------------  -----  \n",
      " 0   date                                                19439 non-null  object \n",
      " 1   final.output.concentrate_ag                         19438 non-null  float64\n",
      " 2   final.output.concentrate_pb                         19438 non-null  float64\n",
      " 3   final.output.concentrate_sol                        19228 non-null  float64\n",
      " 4   final.output.concentrate_au                         19439 non-null  float64\n",
      " 5   final.output.recovery                               19439 non-null  float64\n",
      " 6   final.output.tail_ag                                19438 non-null  float64\n",
      " 7   final.output.tail_pb                                19338 non-null  float64\n",
      " 8   final.output.tail_sol                               19433 non-null  float64\n",
      " 9   final.output.tail_au                                19439 non-null  float64\n",
      " 10  primary_cleaner.input.sulfate                       19415 non-null  float64\n",
      " 11  primary_cleaner.input.depressant                    19402 non-null  float64\n",
      " 12  primary_cleaner.input.feed_size                     19439 non-null  float64\n",
      " 13  primary_cleaner.input.xanthate                      19335 non-null  float64\n",
      " 14  primary_cleaner.output.concentrate_ag               19439 non-null  float64\n",
      " 15  primary_cleaner.output.concentrate_pb               19323 non-null  float64\n",
      " 16  primary_cleaner.output.concentrate_sol              19069 non-null  float64\n",
      " 17  primary_cleaner.output.concentrate_au               19439 non-null  float64\n",
      " 18  primary_cleaner.output.tail_ag                      19435 non-null  float64\n",
      " 19  primary_cleaner.output.tail_pb                      19418 non-null  float64\n",
      " 20  primary_cleaner.output.tail_sol                     19377 non-null  float64\n",
      " 21  primary_cleaner.output.tail_au                      19439 non-null  float64\n",
      " 22  primary_cleaner.state.floatbank8_a_air              19435 non-null  float64\n",
      " 23  primary_cleaner.state.floatbank8_a_level            19438 non-null  float64\n",
      " 24  primary_cleaner.state.floatbank8_b_air              19435 non-null  float64\n",
      " 25  primary_cleaner.state.floatbank8_b_level            19438 non-null  float64\n",
      " 26  primary_cleaner.state.floatbank8_c_air              19437 non-null  float64\n",
      " 27  primary_cleaner.state.floatbank8_c_level            19438 non-null  float64\n",
      " 28  primary_cleaner.state.floatbank8_d_air              19436 non-null  float64\n",
      " 29  primary_cleaner.state.floatbank8_d_level            19438 non-null  float64\n",
      " 30  rougher.calculation.sulfate_to_au_concentrate       19437 non-null  float64\n",
      " 31  rougher.calculation.floatbank10_sulfate_to_au_feed  19437 non-null  float64\n",
      " 32  rougher.calculation.floatbank11_sulfate_to_au_feed  19437 non-null  float64\n",
      " 33  rougher.calculation.au_pb_ratio                     19439 non-null  float64\n",
      " 34  rougher.input.feed_ag                               19439 non-null  float64\n",
      " 35  rougher.input.feed_pb                               19339 non-null  float64\n",
      " 36  rougher.input.feed_rate                             19428 non-null  float64\n",
      " 37  rougher.input.feed_size                             19294 non-null  float64\n",
      " 38  rougher.input.feed_sol                              19340 non-null  float64\n",
      " 39  rougher.input.feed_au                               19439 non-null  float64\n",
      " 40  rougher.input.floatbank10_sulfate                   19405 non-null  float64\n",
      " 41  rougher.input.floatbank10_xanthate                  19431 non-null  float64\n",
      " 42  rougher.input.floatbank11_sulfate                   19395 non-null  float64\n",
      " 43  rougher.input.floatbank11_xanthate                  18986 non-null  float64\n",
      " 44  rougher.output.concentrate_ag                       19439 non-null  float64\n",
      " 45  rougher.output.concentrate_pb                       19439 non-null  float64\n",
      " 46  rougher.output.concentrate_sol                      19416 non-null  float64\n",
      " 47  rougher.output.concentrate_au                       19439 non-null  float64\n",
      " 48  rougher.output.recovery                             19439 non-null  float64\n",
      " 49  rougher.output.tail_ag                              19438 non-null  float64\n",
      " 50  rougher.output.tail_pb                              19439 non-null  float64\n",
      " 51  rougher.output.tail_sol                             19439 non-null  float64\n",
      " 52  rougher.output.tail_au                              19439 non-null  float64\n",
      " 53  rougher.state.floatbank10_a_air                     19438 non-null  float64\n",
      " 54  rougher.state.floatbank10_a_level                   19438 non-null  float64\n",
      " 55  rougher.state.floatbank10_b_air                     19438 non-null  float64\n",
      " 56  rougher.state.floatbank10_b_level                   19438 non-null  float64\n",
      " 57  rougher.state.floatbank10_c_air                     19438 non-null  float64\n",
      " 58  rougher.state.floatbank10_c_level                   19438 non-null  float64\n",
      " 59  rougher.state.floatbank10_d_air                     19439 non-null  float64\n",
      " 60  rougher.state.floatbank10_d_level                   19439 non-null  float64\n",
      " 61  rougher.state.floatbank10_e_air                     19003 non-null  float64\n",
      " 62  rougher.state.floatbank10_e_level                   19439 non-null  float64\n",
      " 63  rougher.state.floatbank10_f_air                     19439 non-null  float64\n",
      " 64  rougher.state.floatbank10_f_level                   19439 non-null  float64\n",
      " 65  secondary_cleaner.output.tail_ag                    19437 non-null  float64\n",
      " 66  secondary_cleaner.output.tail_pb                    19427 non-null  float64\n",
      " 67  secondary_cleaner.output.tail_sol                   17691 non-null  float64\n",
      " 68  secondary_cleaner.output.tail_au                    19439 non-null  float64\n",
      " 69  secondary_cleaner.state.floatbank2_a_air            19219 non-null  float64\n",
      " 70  secondary_cleaner.state.floatbank2_a_level          19438 non-null  float64\n",
      " 71  secondary_cleaner.state.floatbank2_b_air            19416 non-null  float64\n",
      " 72  secondary_cleaner.state.floatbank2_b_level          19438 non-null  float64\n",
      " 73  secondary_cleaner.state.floatbank3_a_air            19426 non-null  float64\n",
      " 74  secondary_cleaner.state.floatbank3_a_level          19438 non-null  float64\n",
      " 75  secondary_cleaner.state.floatbank3_b_air            19438 non-null  float64\n",
      " 76  secondary_cleaner.state.floatbank3_b_level          19438 non-null  float64\n",
      " 77  secondary_cleaner.state.floatbank4_a_air            19433 non-null  float64\n",
      " 78  secondary_cleaner.state.floatbank4_a_level          19438 non-null  float64\n",
      " 79  secondary_cleaner.state.floatbank4_b_air            19438 non-null  float64\n",
      " 80  secondary_cleaner.state.floatbank4_b_level          19438 non-null  float64\n",
      " 81  secondary_cleaner.state.floatbank5_a_air            19438 non-null  float64\n",
      " 82  secondary_cleaner.state.floatbank5_a_level          19438 non-null  float64\n",
      " 83  secondary_cleaner.state.floatbank5_b_air            19438 non-null  float64\n",
      " 84  secondary_cleaner.state.floatbank5_b_level          19438 non-null  float64\n",
      " 85  secondary_cleaner.state.floatbank6_a_air            19437 non-null  float64\n",
      " 86  secondary_cleaner.state.floatbank6_a_level          19438 non-null  float64\n",
      "dtypes: float64(86), object(1)\n",
      "memory usage: 12.9+ MB\n",
      "None\n"
     ]
    },
    {
     "data": {
      "text/html": [
       "<div>\n",
       "<style scoped>\n",
       "    .dataframe tbody tr th:only-of-type {\n",
       "        vertical-align: middle;\n",
       "    }\n",
       "\n",
       "    .dataframe tbody tr th {\n",
       "        vertical-align: top;\n",
       "    }\n",
       "\n",
       "    .dataframe thead th {\n",
       "        text-align: right;\n",
       "    }\n",
       "</style>\n",
       "<table border=\"1\" class=\"dataframe\">\n",
       "  <thead>\n",
       "    <tr style=\"text-align: right;\">\n",
       "      <th></th>\n",
       "      <th>date</th>\n",
       "      <th>final.output.concentrate_ag</th>\n",
       "      <th>final.output.concentrate_pb</th>\n",
       "      <th>final.output.concentrate_sol</th>\n",
       "      <th>final.output.concentrate_au</th>\n",
       "      <th>final.output.recovery</th>\n",
       "      <th>final.output.tail_ag</th>\n",
       "      <th>final.output.tail_pb</th>\n",
       "      <th>final.output.tail_sol</th>\n",
       "      <th>final.output.tail_au</th>\n",
       "      <th>...</th>\n",
       "      <th>secondary_cleaner.state.floatbank4_a_air</th>\n",
       "      <th>secondary_cleaner.state.floatbank4_a_level</th>\n",
       "      <th>secondary_cleaner.state.floatbank4_b_air</th>\n",
       "      <th>secondary_cleaner.state.floatbank4_b_level</th>\n",
       "      <th>secondary_cleaner.state.floatbank5_a_air</th>\n",
       "      <th>secondary_cleaner.state.floatbank5_a_level</th>\n",
       "      <th>secondary_cleaner.state.floatbank5_b_air</th>\n",
       "      <th>secondary_cleaner.state.floatbank5_b_level</th>\n",
       "      <th>secondary_cleaner.state.floatbank6_a_air</th>\n",
       "      <th>secondary_cleaner.state.floatbank6_a_level</th>\n",
       "    </tr>\n",
       "  </thead>\n",
       "  <tbody>\n",
       "    <tr>\n",
       "      <th>0</th>\n",
       "      <td>2016-01-15 00:00:00</td>\n",
       "      <td>6.055403</td>\n",
       "      <td>9.889648</td>\n",
       "      <td>5.507324</td>\n",
       "      <td>42.192020</td>\n",
       "      <td>70.541216</td>\n",
       "      <td>10.411962</td>\n",
       "      <td>0.895447</td>\n",
       "      <td>16.904297</td>\n",
       "      <td>2.143149</td>\n",
       "      <td>...</td>\n",
       "      <td>14.016835</td>\n",
       "      <td>-502.488007</td>\n",
       "      <td>12.099931</td>\n",
       "      <td>-504.715942</td>\n",
       "      <td>9.925633</td>\n",
       "      <td>-498.310211</td>\n",
       "      <td>8.079666</td>\n",
       "      <td>-500.470978</td>\n",
       "      <td>14.151341</td>\n",
       "      <td>-605.841980</td>\n",
       "    </tr>\n",
       "    <tr>\n",
       "      <th>1</th>\n",
       "      <td>2016-01-15 01:00:00</td>\n",
       "      <td>6.029369</td>\n",
       "      <td>9.968944</td>\n",
       "      <td>5.257781</td>\n",
       "      <td>42.701629</td>\n",
       "      <td>69.266198</td>\n",
       "      <td>10.462676</td>\n",
       "      <td>0.927452</td>\n",
       "      <td>16.634514</td>\n",
       "      <td>2.224930</td>\n",
       "      <td>...</td>\n",
       "      <td>13.992281</td>\n",
       "      <td>-505.503262</td>\n",
       "      <td>11.950531</td>\n",
       "      <td>-501.331529</td>\n",
       "      <td>10.039245</td>\n",
       "      <td>-500.169983</td>\n",
       "      <td>7.984757</td>\n",
       "      <td>-500.582168</td>\n",
       "      <td>13.998353</td>\n",
       "      <td>-599.787184</td>\n",
       "    </tr>\n",
       "    <tr>\n",
       "      <th>2</th>\n",
       "      <td>2016-01-15 02:00:00</td>\n",
       "      <td>6.055926</td>\n",
       "      <td>10.213995</td>\n",
       "      <td>5.383759</td>\n",
       "      <td>42.657501</td>\n",
       "      <td>68.116445</td>\n",
       "      <td>10.507046</td>\n",
       "      <td>0.953716</td>\n",
       "      <td>16.208849</td>\n",
       "      <td>2.257889</td>\n",
       "      <td>...</td>\n",
       "      <td>14.015015</td>\n",
       "      <td>-502.520901</td>\n",
       "      <td>11.912783</td>\n",
       "      <td>-501.133383</td>\n",
       "      <td>10.070913</td>\n",
       "      <td>-500.129135</td>\n",
       "      <td>8.013877</td>\n",
       "      <td>-500.517572</td>\n",
       "      <td>14.028663</td>\n",
       "      <td>-601.427363</td>\n",
       "    </tr>\n",
       "    <tr>\n",
       "      <th>3</th>\n",
       "      <td>2016-01-15 03:00:00</td>\n",
       "      <td>6.047977</td>\n",
       "      <td>9.977019</td>\n",
       "      <td>4.858634</td>\n",
       "      <td>42.689819</td>\n",
       "      <td>68.347543</td>\n",
       "      <td>10.422762</td>\n",
       "      <td>0.883763</td>\n",
       "      <td>16.532835</td>\n",
       "      <td>2.146849</td>\n",
       "      <td>...</td>\n",
       "      <td>14.036510</td>\n",
       "      <td>-500.857308</td>\n",
       "      <td>11.999550</td>\n",
       "      <td>-501.193686</td>\n",
       "      <td>9.970366</td>\n",
       "      <td>-499.201640</td>\n",
       "      <td>7.977324</td>\n",
       "      <td>-500.255908</td>\n",
       "      <td>14.005551</td>\n",
       "      <td>-599.996129</td>\n",
       "    </tr>\n",
       "    <tr>\n",
       "      <th>4</th>\n",
       "      <td>2016-01-15 04:00:00</td>\n",
       "      <td>6.148599</td>\n",
       "      <td>10.142511</td>\n",
       "      <td>4.939416</td>\n",
       "      <td>42.774141</td>\n",
       "      <td>66.927016</td>\n",
       "      <td>10.360302</td>\n",
       "      <td>0.792826</td>\n",
       "      <td>16.525686</td>\n",
       "      <td>2.055292</td>\n",
       "      <td>...</td>\n",
       "      <td>14.027298</td>\n",
       "      <td>-499.838632</td>\n",
       "      <td>11.953070</td>\n",
       "      <td>-501.053894</td>\n",
       "      <td>9.925709</td>\n",
       "      <td>-501.686727</td>\n",
       "      <td>7.894242</td>\n",
       "      <td>-500.356035</td>\n",
       "      <td>13.996647</td>\n",
       "      <td>-601.496691</td>\n",
       "    </tr>\n",
       "  </tbody>\n",
       "</table>\n",
       "<p>5 rows × 87 columns</p>\n",
       "</div>"
      ],
      "text/plain": [
       "                  date  final.output.concentrate_ag  \\\n",
       "0  2016-01-15 00:00:00                     6.055403   \n",
       "1  2016-01-15 01:00:00                     6.029369   \n",
       "2  2016-01-15 02:00:00                     6.055926   \n",
       "3  2016-01-15 03:00:00                     6.047977   \n",
       "4  2016-01-15 04:00:00                     6.148599   \n",
       "\n",
       "   final.output.concentrate_pb  final.output.concentrate_sol  \\\n",
       "0                     9.889648                      5.507324   \n",
       "1                     9.968944                      5.257781   \n",
       "2                    10.213995                      5.383759   \n",
       "3                     9.977019                      4.858634   \n",
       "4                    10.142511                      4.939416   \n",
       "\n",
       "   final.output.concentrate_au  final.output.recovery  final.output.tail_ag  \\\n",
       "0                    42.192020              70.541216             10.411962   \n",
       "1                    42.701629              69.266198             10.462676   \n",
       "2                    42.657501              68.116445             10.507046   \n",
       "3                    42.689819              68.347543             10.422762   \n",
       "4                    42.774141              66.927016             10.360302   \n",
       "\n",
       "   final.output.tail_pb  final.output.tail_sol  final.output.tail_au  ...  \\\n",
       "0              0.895447              16.904297              2.143149  ...   \n",
       "1              0.927452              16.634514              2.224930  ...   \n",
       "2              0.953716              16.208849              2.257889  ...   \n",
       "3              0.883763              16.532835              2.146849  ...   \n",
       "4              0.792826              16.525686              2.055292  ...   \n",
       "\n",
       "   secondary_cleaner.state.floatbank4_a_air  \\\n",
       "0                                 14.016835   \n",
       "1                                 13.992281   \n",
       "2                                 14.015015   \n",
       "3                                 14.036510   \n",
       "4                                 14.027298   \n",
       "\n",
       "   secondary_cleaner.state.floatbank4_a_level  \\\n",
       "0                                 -502.488007   \n",
       "1                                 -505.503262   \n",
       "2                                 -502.520901   \n",
       "3                                 -500.857308   \n",
       "4                                 -499.838632   \n",
       "\n",
       "   secondary_cleaner.state.floatbank4_b_air  \\\n",
       "0                                 12.099931   \n",
       "1                                 11.950531   \n",
       "2                                 11.912783   \n",
       "3                                 11.999550   \n",
       "4                                 11.953070   \n",
       "\n",
       "   secondary_cleaner.state.floatbank4_b_level  \\\n",
       "0                                 -504.715942   \n",
       "1                                 -501.331529   \n",
       "2                                 -501.133383   \n",
       "3                                 -501.193686   \n",
       "4                                 -501.053894   \n",
       "\n",
       "   secondary_cleaner.state.floatbank5_a_air  \\\n",
       "0                                  9.925633   \n",
       "1                                 10.039245   \n",
       "2                                 10.070913   \n",
       "3                                  9.970366   \n",
       "4                                  9.925709   \n",
       "\n",
       "   secondary_cleaner.state.floatbank5_a_level  \\\n",
       "0                                 -498.310211   \n",
       "1                                 -500.169983   \n",
       "2                                 -500.129135   \n",
       "3                                 -499.201640   \n",
       "4                                 -501.686727   \n",
       "\n",
       "   secondary_cleaner.state.floatbank5_b_air  \\\n",
       "0                                  8.079666   \n",
       "1                                  7.984757   \n",
       "2                                  8.013877   \n",
       "3                                  7.977324   \n",
       "4                                  7.894242   \n",
       "\n",
       "   secondary_cleaner.state.floatbank5_b_level  \\\n",
       "0                                 -500.470978   \n",
       "1                                 -500.582168   \n",
       "2                                 -500.517572   \n",
       "3                                 -500.255908   \n",
       "4                                 -500.356035   \n",
       "\n",
       "   secondary_cleaner.state.floatbank6_a_air  \\\n",
       "0                                 14.151341   \n",
       "1                                 13.998353   \n",
       "2                                 14.028663   \n",
       "3                                 14.005551   \n",
       "4                                 13.996647   \n",
       "\n",
       "   secondary_cleaner.state.floatbank6_a_level  \n",
       "0                                 -605.841980  \n",
       "1                                 -599.787184  \n",
       "2                                 -601.427363  \n",
       "3                                 -599.996129  \n",
       "4                                 -601.496691  \n",
       "\n",
       "[5 rows x 87 columns]"
      ]
     },
     "execution_count": 2,
     "metadata": {},
     "output_type": "execute_result"
    }
   ],
   "source": [
    "gold_recovery_train = pd.read_csv('/datasets/gold_recovery_train_new.csv')\n",
    "gold_recovery_test = pd.read_csv('/datasets/gold_recovery_test_new.csv')\n",
    "gold_recovery_full = pd.read_csv('/datasets/gold_recovery_full_new.csv')\n",
    "\n",
    "print(gold_recovery_train.info())\n",
    "print(gold_recovery_train.head())\n",
    "\n",
    "print(gold_recovery_test.info())\n",
    "print(gold_recovery_test.head())\n",
    "\n",
    "print(gold_recovery_full.info())\n",
    "gold_recovery_full.head()"
   ]
  },
  {
   "cell_type": "markdown",
   "metadata": {},
   "source": [
    "во всех датафреймах значения записаны в формате float, кроме данных в столбце date\n",
    "во всех датафреймах имеются пропущенные значения\n",
    "в тестовой выборке 53 столбца а в обучающей и исходной - 87"
   ]
  },
  {
   "cell_type": "markdown",
   "metadata": {},
   "source": [
    "<div class=\"alert alert-success\">\n",
    "<h2> Комментарий ревьюера <a class=\"tocSkip\"> </h2>\n",
    "\n",
    "<b>Все отлично!👍:  </b> \n",
    "    \n",
    "С данными познакомились, проведен первичный аналитический осмотр!) Полученная информация поможет нам в дальнейшем с предобработкой данных"
   ]
  },
  {
   "cell_type": "markdown",
   "metadata": {},
   "source": [
    "# Проверка эффективности обогащения"
   ]
  },
  {
   "cell_type": "markdown",
   "metadata": {},
   "source": [
    "Проверим корректность расчёта эффективности обогащения в одной из строк по формуле:\n",
    "\n",
    "rougher.output.recovery.calc = ( (rougher.output.concentrate_au * (rougher.input.feed_au - rougher.output.tail_au)) / (rougher.input.feed_au * (rougher.output.concentrate_au - rougher.output.tail_au)) )\n",
    "\n",
    "И расчитаем среднее абсолютное отклонение."
   ]
  },
  {
   "cell_type": "code",
   "execution_count": 3,
   "metadata": {},
   "outputs": [
    {
     "data": {
      "text/html": [
       "<div>\n",
       "<style scoped>\n",
       "    .dataframe tbody tr th:only-of-type {\n",
       "        vertical-align: middle;\n",
       "    }\n",
       "\n",
       "    .dataframe tbody tr th {\n",
       "        vertical-align: top;\n",
       "    }\n",
       "\n",
       "    .dataframe thead th {\n",
       "        text-align: right;\n",
       "    }\n",
       "</style>\n",
       "<table border=\"1\" class=\"dataframe\">\n",
       "  <thead>\n",
       "    <tr style=\"text-align: right;\">\n",
       "      <th></th>\n",
       "      <th>rougher.output.concentrate_au</th>\n",
       "      <th>rougher.output.recovery</th>\n",
       "      <th>rougher.input.feed_au</th>\n",
       "      <th>rougher.output.tail_au</th>\n",
       "    </tr>\n",
       "  </thead>\n",
       "  <tbody>\n",
       "    <tr>\n",
       "      <th>0</th>\n",
       "      <td>19.793808</td>\n",
       "      <td>87.107763</td>\n",
       "      <td>6.486150</td>\n",
       "      <td>1.170244</td>\n",
       "    </tr>\n",
       "    <tr>\n",
       "      <th>1</th>\n",
       "      <td>20.050975</td>\n",
       "      <td>86.843261</td>\n",
       "      <td>6.478583</td>\n",
       "      <td>1.184827</td>\n",
       "    </tr>\n",
       "    <tr>\n",
       "      <th>2</th>\n",
       "      <td>19.737170</td>\n",
       "      <td>86.842308</td>\n",
       "      <td>6.362222</td>\n",
       "      <td>1.162562</td>\n",
       "    </tr>\n",
       "    <tr>\n",
       "      <th>3</th>\n",
       "      <td>19.320810</td>\n",
       "      <td>87.226430</td>\n",
       "      <td>6.118189</td>\n",
       "      <td>1.079755</td>\n",
       "    </tr>\n",
       "    <tr>\n",
       "      <th>4</th>\n",
       "      <td>19.216101</td>\n",
       "      <td>86.688794</td>\n",
       "      <td>5.663707</td>\n",
       "      <td>1.012642</td>\n",
       "    </tr>\n",
       "  </tbody>\n",
       "</table>\n",
       "</div>"
      ],
      "text/plain": [
       "   rougher.output.concentrate_au  rougher.output.recovery  \\\n",
       "0                      19.793808                87.107763   \n",
       "1                      20.050975                86.843261   \n",
       "2                      19.737170                86.842308   \n",
       "3                      19.320810                87.226430   \n",
       "4                      19.216101                86.688794   \n",
       "\n",
       "   rougher.input.feed_au  rougher.output.tail_au  \n",
       "0               6.486150                1.170244  \n",
       "1               6.478583                1.184827  \n",
       "2               6.362222                1.162562  \n",
       "3               6.118189                1.079755  \n",
       "4               5.663707                1.012642  "
      ]
     },
     "execution_count": 3,
     "metadata": {},
     "output_type": "execute_result"
    }
   ],
   "source": [
    "gold_recovery_train_verification = gold_recovery_train[['rougher.output.concentrate_au', 'rougher.output.recovery', 'rougher.input.feed_au', 'rougher.output.tail_au']]\n",
    "gold_recovery_train_verification.head()"
   ]
  },
  {
   "cell_type": "code",
   "execution_count": 4,
   "metadata": {},
   "outputs": [
    {
     "data": {
      "text/plain": [
       "9.73512347450521e-15"
      ]
     },
     "execution_count": 4,
     "metadata": {},
     "output_type": "execute_result"
    }
   ],
   "source": [
    "rougher_output_recovery_calc = (\n",
    "    ((gold_recovery_train_verification['rougher.output.concentrate_au'] * \n",
    "         (gold_recovery_train_verification['rougher.input.feed_au'] - \n",
    "          gold_recovery_train_verification['rougher.output.tail_au'])\n",
    "    ) / \n",
    "        (gold_recovery_train_verification['rougher.input.feed_au'] * \n",
    "         (gold_recovery_train_verification['rougher.output.concentrate_au'] - \n",
    "          gold_recovery_train_verification['rougher.output.tail_au']))) * 100\n",
    ")\n",
    "\n",
    "mean_absolute_error(rougher_output_recovery_calc, gold_recovery_train_verification['rougher.output.recovery'])"
   ]
  },
  {
   "cell_type": "markdown",
   "metadata": {},
   "source": [
    "Мы можем видеть, что в приведенном выше примере было возвращено значение MAE 9.7. Это означает, что в среднем прогнозируемые значения будут отклонены на 9.7 единицы."
   ]
  },
  {
   "cell_type": "markdown",
   "metadata": {},
   "source": [
    "<div class=\"alert alert-success\">\n",
    "<h2> Комментарий ревьюера <a class=\"tocSkip\"> </h2>\n",
    "\n",
    "<b>Все отлично!👍:</b> \n",
    "    \n",
    "Твое расссчитанное значение `MAE` верно)"
   ]
  },
  {
   "cell_type": "markdown",
   "metadata": {},
   "source": [
    "# Проанализируем признаки, недоступные в тестовой выборке."
   ]
  },
  {
   "cell_type": "markdown",
   "metadata": {},
   "source": [
    "Вывод списка значений признаков, которые не вошли в тестовую выборку."
   ]
  },
  {
   "cell_type": "code",
   "execution_count": 5,
   "metadata": {},
   "outputs": [
    {
     "name": "stdout",
     "output_type": "stream",
     "text": [
      "34\n"
     ]
    },
    {
     "data": {
      "text/plain": [
       "['rougher.output.concentrate_sol',\n",
       " 'rougher.output.tail_pb',\n",
       " 'rougher.calculation.floatbank10_sulfate_to_au_feed',\n",
       " 'rougher.output.tail_sol',\n",
       " 'final.output.concentrate_sol',\n",
       " 'primary_cleaner.output.tail_sol',\n",
       " 'final.output.concentrate_ag',\n",
       " 'final.output.concentrate_pb',\n",
       " 'rougher.calculation.floatbank11_sulfate_to_au_feed',\n",
       " 'secondary_cleaner.output.tail_au',\n",
       " 'final.output.tail_au',\n",
       " 'primary_cleaner.output.concentrate_ag',\n",
       " 'secondary_cleaner.output.tail_ag',\n",
       " 'primary_cleaner.output.concentrate_pb',\n",
       " 'secondary_cleaner.output.tail_pb',\n",
       " 'final.output.tail_ag',\n",
       " 'final.output.tail_sol',\n",
       " 'rougher.output.concentrate_pb',\n",
       " 'final.output.concentrate_au',\n",
       " 'primary_cleaner.output.tail_ag',\n",
       " 'primary_cleaner.output.tail_au',\n",
       " 'final.output.recovery',\n",
       " 'rougher.calculation.au_pb_ratio',\n",
       " 'primary_cleaner.output.tail_pb',\n",
       " 'primary_cleaner.output.concentrate_sol',\n",
       " 'primary_cleaner.output.concentrate_au',\n",
       " 'secondary_cleaner.output.tail_sol',\n",
       " 'rougher.output.concentrate_au',\n",
       " 'rougher.output.tail_ag',\n",
       " 'rougher.output.recovery',\n",
       " 'rougher.output.concentrate_ag',\n",
       " 'final.output.tail_pb',\n",
       " 'rougher.calculation.sulfate_to_au_concentrate',\n",
       " 'rougher.output.tail_au']"
      ]
     },
     "execution_count": 5,
     "metadata": {},
     "output_type": "execute_result"
    }
   ],
   "source": [
    "print(len(list(set(gold_recovery_full.columns) - set(gold_recovery_test.columns))))\n",
    "list(set(gold_recovery_full.columns) - set(gold_recovery_test.columns))"
   ]
  },
  {
   "cell_type": "markdown",
   "metadata": {},
   "source": [
    "Почти все признаки, не вошедшие в тестовую выборку, являются промежуточными, их можно исключить и из обучающей выборки. \n",
    "Признаки final.output.recovery и rougher.output.recovery являются целевыми - их необходимо добавить в тестовую выборку из полного датафрейма."
   ]
  },
  {
   "cell_type": "markdown",
   "metadata": {},
   "source": [
    "<div class=\"alert alert-warning\">\n",
    "    <h2> Комментарий ревьюера <a class=\"tocSkip\"> </h2>\n",
    "    \n",
    "<b>Некоторые замечания и рекомендации💡:</b>  \n",
    "    \n",
    "В тестовой выборке недоступны некоторые расчетные (calculation) и выходные (output) характеристики процесса, ведь их невозможно получить либо замерить во время выполнения технологического процесса"
   ]
  },
  {
   "cell_type": "markdown",
   "metadata": {},
   "source": [
    "- Это показатели после основных операций. Это фактические даные, которые мы можем получить только по факту реальных измерений. А задача ML-модели получение прогноза. Поэтому в реальности у нас и не должно быть этих данных в файле test."
   ]
  },
  {
   "cell_type": "markdown",
   "metadata": {},
   "source": [
    "# Предобработка данных"
   ]
  },
  {
   "cell_type": "markdown",
   "metadata": {},
   "source": [
    "Используем для добавления признаков признак date и функцию merge."
   ]
  },
  {
   "cell_type": "code",
   "execution_count": 6,
   "metadata": {},
   "outputs": [],
   "source": [
    "gold_recovery_test = (\n",
    "    (gold_recovery_test\n",
    "    .merge(gold_recovery_full[['date', 'final.output.recovery', 'rougher.output.recovery']],\n",
    "          how='outer', on='date'))\n",
    "    .dropna(subset=['rougher.input.feed_au'])\n",
    ")"
   ]
  },
  {
   "cell_type": "markdown",
   "metadata": {},
   "source": [
    "<div class=\"alert alert-success\">\n",
    "<h2> Комментарий ревьюера <a class=\"tocSkip\"> </h2>\n",
    "\n",
    "<b>Все отлично!👍:</b> \n",
    "    \n",
    "Вытягивание целевых признаков в тестовую выборку правильное) Привязка к дате - верное решение"
   ]
  },
  {
   "cell_type": "code",
   "execution_count": 7,
   "metadata": {},
   "outputs": [
    {
     "data": {
      "text/plain": [
       "(5290, 55)"
      ]
     },
     "execution_count": 7,
     "metadata": {},
     "output_type": "execute_result"
    }
   ],
   "source": [
    "gold_recovery_test.shape"
   ]
  },
  {
   "cell_type": "code",
   "execution_count": 8,
   "metadata": {
    "scrolled": true
   },
   "outputs": [
    {
     "data": {
      "text/plain": [
       "Index(['date', 'primary_cleaner.input.sulfate',\n",
       "       'primary_cleaner.input.depressant', 'primary_cleaner.input.feed_size',\n",
       "       'primary_cleaner.input.xanthate',\n",
       "       'primary_cleaner.state.floatbank8_a_air',\n",
       "       'primary_cleaner.state.floatbank8_a_level',\n",
       "       'primary_cleaner.state.floatbank8_b_air',\n",
       "       'primary_cleaner.state.floatbank8_b_level',\n",
       "       'primary_cleaner.state.floatbank8_c_air',\n",
       "       'primary_cleaner.state.floatbank8_c_level',\n",
       "       'primary_cleaner.state.floatbank8_d_air',\n",
       "       'primary_cleaner.state.floatbank8_d_level', 'rougher.input.feed_ag',\n",
       "       'rougher.input.feed_pb', 'rougher.input.feed_rate',\n",
       "       'rougher.input.feed_size', 'rougher.input.feed_sol',\n",
       "       'rougher.input.feed_au', 'rougher.input.floatbank10_sulfate',\n",
       "       'rougher.input.floatbank10_xanthate',\n",
       "       'rougher.input.floatbank11_sulfate',\n",
       "       'rougher.input.floatbank11_xanthate', 'rougher.state.floatbank10_a_air',\n",
       "       'rougher.state.floatbank10_a_level', 'rougher.state.floatbank10_b_air',\n",
       "       'rougher.state.floatbank10_b_level', 'rougher.state.floatbank10_c_air',\n",
       "       'rougher.state.floatbank10_c_level', 'rougher.state.floatbank10_d_air',\n",
       "       'rougher.state.floatbank10_d_level', 'rougher.state.floatbank10_e_air',\n",
       "       'rougher.state.floatbank10_e_level', 'rougher.state.floatbank10_f_air',\n",
       "       'rougher.state.floatbank10_f_level',\n",
       "       'secondary_cleaner.state.floatbank2_a_air',\n",
       "       'secondary_cleaner.state.floatbank2_a_level',\n",
       "       'secondary_cleaner.state.floatbank2_b_air',\n",
       "       'secondary_cleaner.state.floatbank2_b_level',\n",
       "       'secondary_cleaner.state.floatbank3_a_air',\n",
       "       'secondary_cleaner.state.floatbank3_a_level',\n",
       "       'secondary_cleaner.state.floatbank3_b_air',\n",
       "       'secondary_cleaner.state.floatbank3_b_level',\n",
       "       'secondary_cleaner.state.floatbank4_a_air',\n",
       "       'secondary_cleaner.state.floatbank4_a_level',\n",
       "       'secondary_cleaner.state.floatbank4_b_air',\n",
       "       'secondary_cleaner.state.floatbank4_b_level',\n",
       "       'secondary_cleaner.state.floatbank5_a_air',\n",
       "       'secondary_cleaner.state.floatbank5_a_level',\n",
       "       'secondary_cleaner.state.floatbank5_b_air',\n",
       "       'secondary_cleaner.state.floatbank5_b_level',\n",
       "       'secondary_cleaner.state.floatbank6_a_air',\n",
       "       'secondary_cleaner.state.floatbank6_a_level', 'final.output.recovery',\n",
       "       'rougher.output.recovery'],\n",
       "      dtype='object')"
      ]
     },
     "execution_count": 8,
     "metadata": {},
     "output_type": "execute_result"
    }
   ],
   "source": [
    "gold_recovery_test.columns"
   ]
  },
  {
   "cell_type": "markdown",
   "metadata": {},
   "source": [
    "Проведем обработку пропусков.\n",
    "Оставим в обучающей выборке только те признаки, которые имеются в тестовой."
   ]
  },
  {
   "cell_type": "code",
   "execution_count": 9,
   "metadata": {},
   "outputs": [
    {
     "data": {
      "text/plain": [
       "(14149, 55)"
      ]
     },
     "execution_count": 9,
     "metadata": {},
     "output_type": "execute_result"
    }
   ],
   "source": [
    "gold_recovery_train = (\n",
    "    gold_recovery_train.drop(list(set(gold_recovery_train.columns) - set(gold_recovery_test.columns)), axis=1)\n",
    ")\n",
    "gold_recovery_train.shape"
   ]
  },
  {
   "cell_type": "markdown",
   "metadata": {},
   "source": [
    "Обработка пропущенных значений в выборках\n",
    "\n",
    "В описании сказано, что соседние по времени параметры часто похожи, соответственно, заполнить пропущенные значения можно, взяв близкие по дате и времени."
   ]
  },
  {
   "cell_type": "code",
   "execution_count": 10,
   "metadata": {},
   "outputs": [
    {
     "name": "stdout",
     "output_type": "stream",
     "text": [
      "<class 'pandas.core.frame.DataFrame'>\n",
      "Int64Index: 14149 entries, 0 to 14148\n",
      "Data columns (total 54 columns):\n",
      " #   Column                                      Non-Null Count  Dtype  \n",
      "---  ------                                      --------------  -----  \n",
      " 0   final.output.recovery                       14149 non-null  float64\n",
      " 1   primary_cleaner.input.sulfate               14149 non-null  float64\n",
      " 2   primary_cleaner.input.depressant            14149 non-null  float64\n",
      " 3   primary_cleaner.input.feed_size             14149 non-null  float64\n",
      " 4   primary_cleaner.input.xanthate              14149 non-null  float64\n",
      " 5   primary_cleaner.state.floatbank8_a_air      14149 non-null  float64\n",
      " 6   primary_cleaner.state.floatbank8_a_level    14149 non-null  float64\n",
      " 7   primary_cleaner.state.floatbank8_b_air      14149 non-null  float64\n",
      " 8   primary_cleaner.state.floatbank8_b_level    14149 non-null  float64\n",
      " 9   primary_cleaner.state.floatbank8_c_air      14149 non-null  float64\n",
      " 10  primary_cleaner.state.floatbank8_c_level    14149 non-null  float64\n",
      " 11  primary_cleaner.state.floatbank8_d_air      14149 non-null  float64\n",
      " 12  primary_cleaner.state.floatbank8_d_level    14149 non-null  float64\n",
      " 13  rougher.input.feed_ag                       14149 non-null  float64\n",
      " 14  rougher.input.feed_pb                       14149 non-null  float64\n",
      " 15  rougher.input.feed_rate                     14149 non-null  float64\n",
      " 16  rougher.input.feed_size                     14149 non-null  float64\n",
      " 17  rougher.input.feed_sol                      14149 non-null  float64\n",
      " 18  rougher.input.feed_au                       14149 non-null  float64\n",
      " 19  rougher.input.floatbank10_sulfate           14149 non-null  float64\n",
      " 20  rougher.input.floatbank10_xanthate          14149 non-null  float64\n",
      " 21  rougher.input.floatbank11_sulfate           14149 non-null  float64\n",
      " 22  rougher.input.floatbank11_xanthate          14149 non-null  float64\n",
      " 23  rougher.output.recovery                     14149 non-null  float64\n",
      " 24  rougher.state.floatbank10_a_air             14149 non-null  float64\n",
      " 25  rougher.state.floatbank10_a_level           14149 non-null  float64\n",
      " 26  rougher.state.floatbank10_b_air             14149 non-null  float64\n",
      " 27  rougher.state.floatbank10_b_level           14149 non-null  float64\n",
      " 28  rougher.state.floatbank10_c_air             14149 non-null  float64\n",
      " 29  rougher.state.floatbank10_c_level           14149 non-null  float64\n",
      " 30  rougher.state.floatbank10_d_air             14149 non-null  float64\n",
      " 31  rougher.state.floatbank10_d_level           14149 non-null  float64\n",
      " 32  rougher.state.floatbank10_e_air             14149 non-null  float64\n",
      " 33  rougher.state.floatbank10_e_level           14149 non-null  float64\n",
      " 34  rougher.state.floatbank10_f_air             14149 non-null  float64\n",
      " 35  rougher.state.floatbank10_f_level           14149 non-null  float64\n",
      " 36  secondary_cleaner.state.floatbank2_a_air    14149 non-null  float64\n",
      " 37  secondary_cleaner.state.floatbank2_a_level  14149 non-null  float64\n",
      " 38  secondary_cleaner.state.floatbank2_b_air    14149 non-null  float64\n",
      " 39  secondary_cleaner.state.floatbank2_b_level  14149 non-null  float64\n",
      " 40  secondary_cleaner.state.floatbank3_a_air    14149 non-null  float64\n",
      " 41  secondary_cleaner.state.floatbank3_a_level  14149 non-null  float64\n",
      " 42  secondary_cleaner.state.floatbank3_b_air    14149 non-null  float64\n",
      " 43  secondary_cleaner.state.floatbank3_b_level  14149 non-null  float64\n",
      " 44  secondary_cleaner.state.floatbank4_a_air    14149 non-null  float64\n",
      " 45  secondary_cleaner.state.floatbank4_a_level  14149 non-null  float64\n",
      " 46  secondary_cleaner.state.floatbank4_b_air    14149 non-null  float64\n",
      " 47  secondary_cleaner.state.floatbank4_b_level  14149 non-null  float64\n",
      " 48  secondary_cleaner.state.floatbank5_a_air    14149 non-null  float64\n",
      " 49  secondary_cleaner.state.floatbank5_a_level  14149 non-null  float64\n",
      " 50  secondary_cleaner.state.floatbank5_b_air    14149 non-null  float64\n",
      " 51  secondary_cleaner.state.floatbank5_b_level  14149 non-null  float64\n",
      " 52  secondary_cleaner.state.floatbank6_a_air    14149 non-null  float64\n",
      " 53  secondary_cleaner.state.floatbank6_a_level  14149 non-null  float64\n",
      "dtypes: float64(54)\n",
      "memory usage: 5.9 MB\n"
     ]
    },
    {
     "data": {
      "text/plain": [
       "None"
      ]
     },
     "metadata": {},
     "output_type": "display_data"
    },
    {
     "name": "stdout",
     "output_type": "stream",
     "text": [
      "<class 'pandas.core.frame.DataFrame'>\n",
      "Int64Index: 5290 entries, 0 to 5289\n",
      "Data columns (total 54 columns):\n",
      " #   Column                                      Non-Null Count  Dtype  \n",
      "---  ------                                      --------------  -----  \n",
      " 0   primary_cleaner.input.sulfate               5290 non-null   float64\n",
      " 1   primary_cleaner.input.depressant            5290 non-null   float64\n",
      " 2   primary_cleaner.input.feed_size             5290 non-null   float64\n",
      " 3   primary_cleaner.input.xanthate              5290 non-null   float64\n",
      " 4   primary_cleaner.state.floatbank8_a_air      5290 non-null   float64\n",
      " 5   primary_cleaner.state.floatbank8_a_level    5290 non-null   float64\n",
      " 6   primary_cleaner.state.floatbank8_b_air      5290 non-null   float64\n",
      " 7   primary_cleaner.state.floatbank8_b_level    5290 non-null   float64\n",
      " 8   primary_cleaner.state.floatbank8_c_air      5290 non-null   float64\n",
      " 9   primary_cleaner.state.floatbank8_c_level    5290 non-null   float64\n",
      " 10  primary_cleaner.state.floatbank8_d_air      5290 non-null   float64\n",
      " 11  primary_cleaner.state.floatbank8_d_level    5290 non-null   float64\n",
      " 12  rougher.input.feed_ag                       5290 non-null   float64\n",
      " 13  rougher.input.feed_pb                       5290 non-null   float64\n",
      " 14  rougher.input.feed_rate                     5290 non-null   float64\n",
      " 15  rougher.input.feed_size                     5290 non-null   float64\n",
      " 16  rougher.input.feed_sol                      5290 non-null   float64\n",
      " 17  rougher.input.feed_au                       5290 non-null   float64\n",
      " 18  rougher.input.floatbank10_sulfate           5290 non-null   float64\n",
      " 19  rougher.input.floatbank10_xanthate          5290 non-null   float64\n",
      " 20  rougher.input.floatbank11_sulfate           5290 non-null   float64\n",
      " 21  rougher.input.floatbank11_xanthate          5290 non-null   float64\n",
      " 22  rougher.state.floatbank10_a_air             5290 non-null   float64\n",
      " 23  rougher.state.floatbank10_a_level           5290 non-null   float64\n",
      " 24  rougher.state.floatbank10_b_air             5290 non-null   float64\n",
      " 25  rougher.state.floatbank10_b_level           5290 non-null   float64\n",
      " 26  rougher.state.floatbank10_c_air             5290 non-null   float64\n",
      " 27  rougher.state.floatbank10_c_level           5290 non-null   float64\n",
      " 28  rougher.state.floatbank10_d_air             5290 non-null   float64\n",
      " 29  rougher.state.floatbank10_d_level           5290 non-null   float64\n",
      " 30  rougher.state.floatbank10_e_air             5290 non-null   float64\n",
      " 31  rougher.state.floatbank10_e_level           5290 non-null   float64\n",
      " 32  rougher.state.floatbank10_f_air             5290 non-null   float64\n",
      " 33  rougher.state.floatbank10_f_level           5290 non-null   float64\n",
      " 34  secondary_cleaner.state.floatbank2_a_air    5290 non-null   float64\n",
      " 35  secondary_cleaner.state.floatbank2_a_level  5290 non-null   float64\n",
      " 36  secondary_cleaner.state.floatbank2_b_air    5290 non-null   float64\n",
      " 37  secondary_cleaner.state.floatbank2_b_level  5290 non-null   float64\n",
      " 38  secondary_cleaner.state.floatbank3_a_air    5290 non-null   float64\n",
      " 39  secondary_cleaner.state.floatbank3_a_level  5290 non-null   float64\n",
      " 40  secondary_cleaner.state.floatbank3_b_air    5290 non-null   float64\n",
      " 41  secondary_cleaner.state.floatbank3_b_level  5290 non-null   float64\n",
      " 42  secondary_cleaner.state.floatbank4_a_air    5290 non-null   float64\n",
      " 43  secondary_cleaner.state.floatbank4_a_level  5290 non-null   float64\n",
      " 44  secondary_cleaner.state.floatbank4_b_air    5290 non-null   float64\n",
      " 45  secondary_cleaner.state.floatbank4_b_level  5290 non-null   float64\n",
      " 46  secondary_cleaner.state.floatbank5_a_air    5290 non-null   float64\n",
      " 47  secondary_cleaner.state.floatbank5_a_level  5290 non-null   float64\n",
      " 48  secondary_cleaner.state.floatbank5_b_air    5290 non-null   float64\n",
      " 49  secondary_cleaner.state.floatbank5_b_level  5290 non-null   float64\n",
      " 50  secondary_cleaner.state.floatbank6_a_air    5290 non-null   float64\n",
      " 51  secondary_cleaner.state.floatbank6_a_level  5290 non-null   float64\n",
      " 52  final.output.recovery                       5290 non-null   float64\n",
      " 53  rougher.output.recovery                     5290 non-null   float64\n",
      "dtypes: float64(54)\n",
      "memory usage: 2.2 MB\n"
     ]
    }
   ],
   "source": [
    "gold_recovery_train = pd.concat([gold_recovery_train.ffill(), gold_recovery_train.bfill()]).groupby(level=0).mean()\n",
    "gold_recovery_test = pd.concat([gold_recovery_test.ffill(), gold_recovery_test.bfill()]).groupby(level=0).mean()\n",
    "\n",
    "display(gold_recovery_train.info())\n",
    "gold_recovery_test.info()"
   ]
  },
  {
   "cell_type": "markdown",
   "metadata": {},
   "source": [
    "Проверим на дубликаты"
   ]
  },
  {
   "cell_type": "code",
   "execution_count": 11,
   "metadata": {},
   "outputs": [
    {
     "name": "stdout",
     "output_type": "stream",
     "text": [
      "0\n"
     ]
    },
    {
     "data": {
      "text/plain": [
       "0"
      ]
     },
     "execution_count": 11,
     "metadata": {},
     "output_type": "execute_result"
    }
   ],
   "source": [
    "print(gold_recovery_train.duplicated().sum())\n",
    "gold_recovery_test.duplicated().sum()"
   ]
  },
  {
   "cell_type": "markdown",
   "metadata": {},
   "source": [
    "Вывод:\n",
    "В данных отсутсвуют дубликаты.\n",
    "В данных обработаны пропуски. \n",
    "Проверена эффективность обогащения. В среднем прогнозируемые значения будут отклонены на 9.7 единицы.\n",
    "В тестовую выборку добавлены значения целевых признаков."
   ]
  },
  {
   "cell_type": "markdown",
   "metadata": {},
   "source": [
    "<div class=\"alert  alert-success\">\n",
    "<h2> Комментарий ревьюера <a class=\"tocSkip\"> </h2>\n",
    "\n",
    "<b>Верно!👍:\\\n",
    "</b> Верное решение по обработке пропусков, в признаках их не много. Все наблюдения представляют собой последовательные измерения, заполнить пропуски можно методами `pandas`: `ffill`/ `bfill`/ `interpolate` , это вполне уместно.\\\n",
    "Хочу посоветовать тебе статью, которая рассматривает разные способы обработки пропусков, выделяет их плюсы и минусы, думаю, тебе может быть интересно: https://loginom.ru/blog/missing   "
   ]
  },
  {
   "cell_type": "markdown",
   "metadata": {},
   "source": [
    "## Анализ данных"
   ]
  },
  {
   "cell_type": "markdown",
   "metadata": {},
   "source": [
    "Динамика изменения концентрации металлов (Au, Ag, Pb) на различных этапах очистки"
   ]
  },
  {
   "cell_type": "code",
   "execution_count": 12,
   "metadata": {},
   "outputs": [
    {
     "data": {
      "text/plain": [
       "<function matplotlib.pyplot.show(close=None, block=None)>"
      ]
     },
     "execution_count": 12,
     "metadata": {},
     "output_type": "execute_result"
    },
    {
     "data": {
      "image/png": "[encoded data removed]",
      "text/plain": [
       "<Figure size 1080x576 with 1 Axes>"
      ]
     },
     "metadata": {
      "needs_background": "light"
     },
     "output_type": "display_data"
    }
   ],
   "source": [
    "plt.figure(figsize=(15, 8))\n",
    "x_values = (\n",
    "    'Сырьё', 'После флотации', \n",
    "    'После первичной очистки', 'После вторичной очистки'\n",
    ")\n",
    "y_values = (\n",
    "    gold_recovery_full['rougher.input.feed_au'].sum(), \n",
    "    gold_recovery_full['rougher.output.concentrate_au'].sum(), \n",
    "    gold_recovery_full['primary_cleaner.output.concentrate_au'].sum(), \n",
    "    gold_recovery_full['final.output.concentrate_au'].sum()\n",
    ")\n",
    "plt.bar(x_values, y_values)\n",
    "plt.title(\"Изменение концентрации золота на различных этапах очистки\")\n",
    "plt.xlabel(\"Этапы очистки\")\n",
    "plt.ylabel(\"Концентрация золота\")\n",
    "plt.grid(True)\n",
    "plt.show"
   ]
  },
  {
   "cell_type": "code",
   "execution_count": 13,
   "metadata": {},
   "outputs": [
    {
     "data": {
      "text/plain": [
       "<function matplotlib.pyplot.show(close=None, block=None)>"
      ]
     },
     "execution_count": 13,
     "metadata": {},
     "output_type": "execute_result"
    },
    {
     "data": {
      "image/png": "[encoded data removed]",
      "text/plain": [
       "<Figure size 1080x576 with 1 Axes>"
      ]
     },
     "metadata": {
      "needs_background": "light"
     },
     "output_type": "display_data"
    }
   ],
   "source": [
    "plt.figure(figsize=(15, 8))\n",
    "x_values = (\n",
    "    'Сырьё', 'После флотации', \n",
    "    'После первичной очистки', 'После вторичной очистки'\n",
    ")\n",
    "y_values = (\n",
    "    gold_recovery_full['rougher.input.feed_ag'].sum(), \n",
    "    gold_recovery_full['rougher.output.concentrate_ag'].sum(), \n",
    "    gold_recovery_full['primary_cleaner.output.concentrate_ag'].sum(), \n",
    "    gold_recovery_full['final.output.concentrate_ag'].sum()\n",
    ")\n",
    "plt.bar(x_values, y_values)\n",
    "plt.title(\"Изменение концентрации серебра на различных этапах очистки\")\n",
    "plt.xlabel(\"Этапы очистки\")\n",
    "plt.ylabel(\"Концентрация серебра\")\n",
    "plt.grid(True)\n",
    "plt.show"
   ]
  },
  {
   "cell_type": "code",
   "execution_count": 14,
   "metadata": {},
   "outputs": [
    {
     "data": {
      "text/plain": [
       "<function matplotlib.pyplot.show(close=None, block=None)>"
      ]
     },
     "execution_count": 14,
     "metadata": {},
     "output_type": "execute_result"
    },
    {
     "data": {
      "image/png": "[encoded data removed]",
      "text/plain": [
       "<Figure size 1080x576 with 1 Axes>"
      ]
     },
     "metadata": {
      "needs_background": "light"
     },
     "output_type": "display_data"
    }
   ],
   "source": [
    "plt.figure(figsize=(15, 8))\n",
    "x_values = (\n",
    "    'Сырьё', 'После флотации', \n",
    "    'После первичной очистки', 'После вторичной очистки'\n",
    ")\n",
    "y_values = (\n",
    "    gold_recovery_full['rougher.input.feed_pb'].sum(), \n",
    "    gold_recovery_full['rougher.output.concentrate_pb'].sum(), \n",
    "    gold_recovery_full['primary_cleaner.output.concentrate_pb'].sum(), \n",
    "    gold_recovery_full['final.output.concentrate_pb'].sum()\n",
    ")\n",
    "plt.bar(x_values, y_values)\n",
    "plt.title(\"Изменение концентрации свинца на различных этапах очистки\")\n",
    "plt.xlabel(\"Этапы очистки\")\n",
    "plt.ylabel(\"Концентрация свинца\")\n",
    "plt.grid(True)\n",
    "plt.show"
   ]
  },
  {
   "cell_type": "markdown",
   "metadata": {},
   "source": [
    "Вывод:\n",
    "После каждого этапа очистки концентрация золота значительно возрастает.\n",
    "Концентрация серебра повысилась только после флотации, на последующих этапах очистки прослеживается тенденция к снижению.\n",
    "Концентрация свинца значительно повысилась после флотации, при последующей очистке повышение не такое явное."
   ]
  },
  {
   "cell_type": "markdown",
   "metadata": {},
   "source": [
    "<div class=\"alert alert-success\">\n",
    "<h2> Комментарий ревьюера <a class=\"tocSkip\"> </h2>\n",
    "\n",
    "<b>Верно!👍:\\\n",
    "</b> Мне интересно было изучить твои графики, практичный и красочный графический анализ. Видно, что золото растёт в концентрации - это здорово!) А серебро падает - ведь наша цель -  золото, верно?)\n",
    "А свинец - это побочный элемент химических реакций, по этой причине немного и увеличивается его концентрация"
   ]
  },
  {
   "cell_type": "markdown",
   "metadata": {},
   "source": [
    "Сравнение распределения размеров гранул сырья на обучающей и тестовой выборках"
   ]
  },
  {
   "cell_type": "code",
   "execution_count": 15,
   "metadata": {},
   "outputs": [
    {
     "data": {
      "text/plain": [
       "<function matplotlib.pyplot.show(close=None, block=None)>"
      ]
     },
     "execution_count": 15,
     "metadata": {},
     "output_type": "execute_result"
    },
    {
     "data": {
      "image/png": "[encoded data removed]",
      "text/plain": [
       "<Figure size 1080x576 with 1 Axes>"
      ]
     },
     "metadata": {
      "needs_background": "light"
     },
     "output_type": "display_data"
    }
   ],
   "source": [
    "plt.figure(figsize=(15, 8))\n",
    "\n",
    "gold_recovery_train['rougher.input.feed_size'].plot.kde(label='Обучающая выборка')\n",
    "gold_recovery_test['rougher.input.feed_size'].plot.kde(label='Тестовая выборка')\n",
    "\n",
    "plt.xlim(20, 120)\n",
    "plt.title(\"Распределение размеров гранул в выборках\")\n",
    "plt.xlabel(\"Количество гранул\")\n",
    "plt.ylabel(\"Размер гранул\")\n",
    "plt.grid(True)\n",
    "plt.legend()\n",
    "plt.show"
   ]
  },
  {
   "cell_type": "markdown",
   "metadata": {},
   "source": [
    "Вывод: Распределение размеров гранул сырья в выборках схожи, никаких корректировок вносить не требуется."
   ]
  },
  {
   "cell_type": "markdown",
   "metadata": {},
   "source": [
    "<div class=\"alert alert-success\">\n",
    "<h2> Комментарий ревьюера <a class=\"tocSkip\"> </h2>\n",
    "\n",
    "<b>Все отлично!👍:</b> \n",
    "\n",
    "Распределения примерно одинаковы. Отлично, что использованы графики плотности, вместо гистограмм частотности)"
   ]
  },
  {
   "cell_type": "markdown",
   "metadata": {},
   "source": [
    "Исследование суммарной концентрации всех веществ на разных стадиях: в сырье, в черновом и финальном концентратах"
   ]
  },
  {
   "cell_type": "code",
   "execution_count": 16,
   "metadata": {},
   "outputs": [
    {
     "data": {
      "text/plain": [
       "<function matplotlib.pyplot.show(close=None, block=None)>"
      ]
     },
     "execution_count": 16,
     "metadata": {},
     "output_type": "execute_result"
    },
    {
     "data": {
      "image/png": "[encoded data removed]",
      "text/plain": [
       "<Figure size 1080x576 with 1 Axes>"
      ]
     },
     "metadata": {
      "needs_background": "light"
     },
     "output_type": "display_data"
    }
   ],
   "source": [
    "plt.figure(figsize=(15, 8))\n",
    "x_values = (\n",
    "    'Сырьё', 'После флотации', \n",
    "    'После первичной очистки', 'После вторичной очистки'\n",
    ")\n",
    "y_values = (\n",
    "    (\n",
    "        gold_recovery_full['rougher.input.feed_au'] + \n",
    "        gold_recovery_full['rougher.input.feed_ag'] + \n",
    "        gold_recovery_full['rougher.input.feed_pb']\n",
    "    ).sum(), \n",
    "    (\n",
    "        gold_recovery_full['rougher.output.concentrate_au'] +\n",
    "        gold_recovery_full['rougher.output.concentrate_ag'] +\n",
    "        gold_recovery_full['rougher.output.concentrate_pb']\n",
    "    ).sum(), \n",
    "    (\n",
    "        gold_recovery_full['primary_cleaner.output.concentrate_au'] +\n",
    "        gold_recovery_full['primary_cleaner.output.concentrate_ag'] +\n",
    "        gold_recovery_full['primary_cleaner.output.concentrate_pb']\n",
    "    ).sum(), \n",
    "    (\n",
    "        gold_recovery_full['final.output.concentrate_au'] +\n",
    "        gold_recovery_full['final.output.concentrate_ag'] +\n",
    "        gold_recovery_full['final.output.concentrate_pb']\n",
    "    ).sum()\n",
    ")\n",
    "plt.bar(x_values, y_values)\n",
    "plt.title(\"Изменение суммарной концентрации металлов на различных этапах очистки\")\n",
    "plt.xlabel(\"Этапы очистки\")\n",
    "plt.ylabel(\"Суммарная концентрация металлов\")\n",
    "plt.grid(True)\n",
    "plt.show"
   ]
  },
  {
   "cell_type": "markdown",
   "metadata": {},
   "source": [
    "Вывод: Суммарная концентрация металлов стабильно повышается после прохождения кажого этапа очистки."
   ]
  },
  {
   "cell_type": "markdown",
   "metadata": {},
   "source": [
    "<br/>\n",
    "<div class=\"alert alert-block alert-danger\">\n",
    "<h2> Комментарий ревьюера <a class=\"tocSkip\"></h2>\n",
    "    \n",
    "<b>На доработку🤔:</b>\n",
    "    \n",
    "Тут еще следует построить гистограммы распределений, например используя `sns.histplot`. На гистограммах распределения суммарных концентраций ты увидишь аномалии, и затем эти аномалии важно удалить на обучающей выборке. Ведь отдельно по каждому веществу они могут быть (не всегда же есть крупицы золота в руде), а вот суммарно - вряд ли (в руде хоть какие-то элементы, но будут). А если мы имеем суммарные аномалии, значит большая вероятность неточности в измерениях. Исправь, пожалуйста.  \n",
    " </div>"
   ]
  },
  {
   "cell_type": "code",
   "execution_count": 17,
   "metadata": {},
   "outputs": [
    {
     "data": {
      "text/plain": [
       "<function matplotlib.pyplot.show(close=None, block=None)>"
      ]
     },
     "execution_count": 17,
     "metadata": {},
     "output_type": "execute_result"
    },
    {
     "data": {
      "image/png": "[encoded data removed]",
      "text/plain": [
       "<Figure size 1080x576 with 1 Axes>"
      ]
     },
     "metadata": {
      "needs_background": "light"
     },
     "output_type": "display_data"
    }
   ],
   "source": [
    "\n",
    "plt.figure(figsize=(15, 8))\n",
    "\n",
    "rougher_input_data = (\n",
    "        gold_recovery_full['rougher.input.feed_au'] + \n",
    "        gold_recovery_full['rougher.input.feed_ag'] + \n",
    "        gold_recovery_full['rougher.input.feed_pb']\n",
    "    ).plot.kde(label='Распределение сырья')\n",
    "\n",
    "rougher_output_data = (\n",
    "        gold_recovery_full['rougher.output.concentrate_au'] +\n",
    "        gold_recovery_full['rougher.output.concentrate_ag'] +\n",
    "        gold_recovery_full['rougher.output.concentrate_pb']\n",
    "    ).plot.kde(label='Распределение после флотации')\n",
    "\n",
    "primary_cleaner_output_data = (\n",
    "        gold_recovery_full['primary_cleaner.output.concentrate_au'] +\n",
    "        gold_recovery_full['primary_cleaner.output.concentrate_ag'] +\n",
    "        gold_recovery_full['primary_cleaner.output.concentrate_pb']\n",
    "    ).plot.kde(label='Распределение после первой очистки')\n",
    "\n",
    "final_output_data = (\n",
    "        gold_recovery_full['final.output.concentrate_au'] +\n",
    "        gold_recovery_full['final.output.concentrate_ag'] +\n",
    "        gold_recovery_full['final.output.concentrate_pb']\n",
    "    ).plot.kde(label='Распределение после второй очистки')\n",
    "\n",
    "plt.xlim(0, 70)\n",
    "plt.title(\"Распределения значений суммарнных концетраций\")\n",
    "plt.xlabel(\"Количество\")\n",
    "plt.ylabel(\"Суммарная концентрация металлов\")\n",
    "plt.grid(True)\n",
    "plt.legend()\n",
    "plt.show"
   ]
  },
  {
   "cell_type": "code",
   "execution_count": 18,
   "metadata": {},
   "outputs": [
    {
     "data": {
      "text/html": [
       "<div>\n",
       "<style scoped>\n",
       "    .dataframe tbody tr th:only-of-type {\n",
       "        vertical-align: middle;\n",
       "    }\n",
       "\n",
       "    .dataframe tbody tr th {\n",
       "        vertical-align: top;\n",
       "    }\n",
       "\n",
       "    .dataframe thead th {\n",
       "        text-align: right;\n",
       "    }\n",
       "</style>\n",
       "<table border=\"1\" class=\"dataframe\">\n",
       "  <thead>\n",
       "    <tr style=\"text-align: right;\">\n",
       "      <th></th>\n",
       "      <th>final.output.recovery</th>\n",
       "      <th>primary_cleaner.input.sulfate</th>\n",
       "      <th>primary_cleaner.input.depressant</th>\n",
       "      <th>primary_cleaner.input.feed_size</th>\n",
       "      <th>primary_cleaner.input.xanthate</th>\n",
       "      <th>primary_cleaner.state.floatbank8_a_air</th>\n",
       "      <th>primary_cleaner.state.floatbank8_a_level</th>\n",
       "      <th>primary_cleaner.state.floatbank8_b_air</th>\n",
       "      <th>primary_cleaner.state.floatbank8_b_level</th>\n",
       "      <th>primary_cleaner.state.floatbank8_c_air</th>\n",
       "      <th>...</th>\n",
       "      <th>secondary_cleaner.state.floatbank4_a_air</th>\n",
       "      <th>secondary_cleaner.state.floatbank4_a_level</th>\n",
       "      <th>secondary_cleaner.state.floatbank4_b_air</th>\n",
       "      <th>secondary_cleaner.state.floatbank4_b_level</th>\n",
       "      <th>secondary_cleaner.state.floatbank5_a_air</th>\n",
       "      <th>secondary_cleaner.state.floatbank5_a_level</th>\n",
       "      <th>secondary_cleaner.state.floatbank5_b_air</th>\n",
       "      <th>secondary_cleaner.state.floatbank5_b_level</th>\n",
       "      <th>secondary_cleaner.state.floatbank6_a_air</th>\n",
       "      <th>secondary_cleaner.state.floatbank6_a_level</th>\n",
       "    </tr>\n",
       "  </thead>\n",
       "  <tbody>\n",
       "    <tr>\n",
       "      <th>644</th>\n",
       "      <td>0.000000</td>\n",
       "      <td>133.610147</td>\n",
       "      <td>14.032789</td>\n",
       "      <td>7.32</td>\n",
       "      <td>1.550190</td>\n",
       "      <td>1800.648807</td>\n",
       "      <td>-349.517991</td>\n",
       "      <td>1799.347332</td>\n",
       "      <td>-350.925554</td>\n",
       "      <td>1798.833149</td>\n",
       "      <td>...</td>\n",
       "      <td>21.991762</td>\n",
       "      <td>-399.587122</td>\n",
       "      <td>21.988937</td>\n",
       "      <td>-401.366408</td>\n",
       "      <td>22.995012</td>\n",
       "      <td>-399.370680</td>\n",
       "      <td>20.966863</td>\n",
       "      <td>-399.308354</td>\n",
       "      <td>24.987274</td>\n",
       "      <td>-399.619808</td>\n",
       "    </tr>\n",
       "    <tr>\n",
       "      <th>1057</th>\n",
       "      <td>0.463711</td>\n",
       "      <td>70.104985</td>\n",
       "      <td>0.012373</td>\n",
       "      <td>7.62</td>\n",
       "      <td>0.001285</td>\n",
       "      <td>1602.198286</td>\n",
       "      <td>-450.681741</td>\n",
       "      <td>1600.252087</td>\n",
       "      <td>-449.323651</td>\n",
       "      <td>1599.761123</td>\n",
       "      <td>...</td>\n",
       "      <td>13.974818</td>\n",
       "      <td>-578.520549</td>\n",
       "      <td>14.065672</td>\n",
       "      <td>-501.248199</td>\n",
       "      <td>12.011447</td>\n",
       "      <td>-500.417855</td>\n",
       "      <td>10.025794</td>\n",
       "      <td>-499.889108</td>\n",
       "      <td>20.033958</td>\n",
       "      <td>-499.999036</td>\n",
       "    </tr>\n",
       "    <tr>\n",
       "      <th>1193</th>\n",
       "      <td>0.000000</td>\n",
       "      <td>111.502432</td>\n",
       "      <td>11.927825</td>\n",
       "      <td>7.79</td>\n",
       "      <td>0.992436</td>\n",
       "      <td>1600.246853</td>\n",
       "      <td>-402.167837</td>\n",
       "      <td>1601.734558</td>\n",
       "      <td>-398.906828</td>\n",
       "      <td>1595.110867</td>\n",
       "      <td>...</td>\n",
       "      <td>11.979352</td>\n",
       "      <td>-453.431061</td>\n",
       "      <td>12.003445</td>\n",
       "      <td>-450.179844</td>\n",
       "      <td>11.982937</td>\n",
       "      <td>-449.856468</td>\n",
       "      <td>9.927727</td>\n",
       "      <td>-450.521700</td>\n",
       "      <td>19.971682</td>\n",
       "      <td>-500.685521</td>\n",
       "    </tr>\n",
       "  </tbody>\n",
       "</table>\n",
       "<p>3 rows × 54 columns</p>\n",
       "</div>"
      ],
      "text/plain": [
       "      final.output.recovery  primary_cleaner.input.sulfate  \\\n",
       "644                0.000000                     133.610147   \n",
       "1057               0.463711                      70.104985   \n",
       "1193               0.000000                     111.502432   \n",
       "\n",
       "      primary_cleaner.input.depressant  primary_cleaner.input.feed_size  \\\n",
       "644                          14.032789                             7.32   \n",
       "1057                          0.012373                             7.62   \n",
       "1193                         11.927825                             7.79   \n",
       "\n",
       "      primary_cleaner.input.xanthate  primary_cleaner.state.floatbank8_a_air  \\\n",
       "644                         1.550190                             1800.648807   \n",
       "1057                        0.001285                             1602.198286   \n",
       "1193                        0.992436                             1600.246853   \n",
       "\n",
       "      primary_cleaner.state.floatbank8_a_level  \\\n",
       "644                                -349.517991   \n",
       "1057                               -450.681741   \n",
       "1193                               -402.167837   \n",
       "\n",
       "      primary_cleaner.state.floatbank8_b_air  \\\n",
       "644                              1799.347332   \n",
       "1057                             1600.252087   \n",
       "1193                             1601.734558   \n",
       "\n",
       "      primary_cleaner.state.floatbank8_b_level  \\\n",
       "644                                -350.925554   \n",
       "1057                               -449.323651   \n",
       "1193                               -398.906828   \n",
       "\n",
       "      primary_cleaner.state.floatbank8_c_air  ...  \\\n",
       "644                              1798.833149  ...   \n",
       "1057                             1599.761123  ...   \n",
       "1193                             1595.110867  ...   \n",
       "\n",
       "      secondary_cleaner.state.floatbank4_a_air  \\\n",
       "644                                  21.991762   \n",
       "1057                                 13.974818   \n",
       "1193                                 11.979352   \n",
       "\n",
       "      secondary_cleaner.state.floatbank4_a_level  \\\n",
       "644                                  -399.587122   \n",
       "1057                                 -578.520549   \n",
       "1193                                 -453.431061   \n",
       "\n",
       "      secondary_cleaner.state.floatbank4_b_air  \\\n",
       "644                                  21.988937   \n",
       "1057                                 14.065672   \n",
       "1193                                 12.003445   \n",
       "\n",
       "      secondary_cleaner.state.floatbank4_b_level  \\\n",
       "644                                  -401.366408   \n",
       "1057                                 -501.248199   \n",
       "1193                                 -450.179844   \n",
       "\n",
       "      secondary_cleaner.state.floatbank5_a_air  \\\n",
       "644                                  22.995012   \n",
       "1057                                 12.011447   \n",
       "1193                                 11.982937   \n",
       "\n",
       "      secondary_cleaner.state.floatbank5_a_level  \\\n",
       "644                                  -399.370680   \n",
       "1057                                 -500.417855   \n",
       "1193                                 -449.856468   \n",
       "\n",
       "      secondary_cleaner.state.floatbank5_b_air  \\\n",
       "644                                  20.966863   \n",
       "1057                                 10.025794   \n",
       "1193                                  9.927727   \n",
       "\n",
       "      secondary_cleaner.state.floatbank5_b_level  \\\n",
       "644                                  -399.308354   \n",
       "1057                                 -499.889108   \n",
       "1193                                 -450.521700   \n",
       "\n",
       "      secondary_cleaner.state.floatbank6_a_air  \\\n",
       "644                                  24.987274   \n",
       "1057                                 20.033958   \n",
       "1193                                 19.971682   \n",
       "\n",
       "      secondary_cleaner.state.floatbank6_a_level  \n",
       "644                                  -399.619808  \n",
       "1057                                 -499.999036  \n",
       "1193                                 -500.685521  \n",
       "\n",
       "[3 rows x 54 columns]"
      ]
     },
     "execution_count": 18,
     "metadata": {},
     "output_type": "execute_result"
    }
   ],
   "source": [
    "gold_recovery_train[gold_recovery_train['final.output.recovery'] < 1].head(3)"
   ]
  },
  {
   "cell_type": "code",
   "execution_count": 19,
   "metadata": {},
   "outputs": [
    {
     "data": {
      "text/html": [
       "<div>\n",
       "<style scoped>\n",
       "    .dataframe tbody tr th:only-of-type {\n",
       "        vertical-align: middle;\n",
       "    }\n",
       "\n",
       "    .dataframe tbody tr th {\n",
       "        vertical-align: top;\n",
       "    }\n",
       "\n",
       "    .dataframe thead th {\n",
       "        text-align: right;\n",
       "    }\n",
       "</style>\n",
       "<table border=\"1\" class=\"dataframe\">\n",
       "  <thead>\n",
       "    <tr style=\"text-align: right;\">\n",
       "      <th></th>\n",
       "      <th>final.output.recovery</th>\n",
       "      <th>primary_cleaner.input.sulfate</th>\n",
       "      <th>primary_cleaner.input.depressant</th>\n",
       "      <th>primary_cleaner.input.feed_size</th>\n",
       "      <th>primary_cleaner.input.xanthate</th>\n",
       "      <th>primary_cleaner.state.floatbank8_a_air</th>\n",
       "      <th>primary_cleaner.state.floatbank8_a_level</th>\n",
       "      <th>primary_cleaner.state.floatbank8_b_air</th>\n",
       "      <th>primary_cleaner.state.floatbank8_b_level</th>\n",
       "      <th>primary_cleaner.state.floatbank8_c_air</th>\n",
       "      <th>...</th>\n",
       "      <th>secondary_cleaner.state.floatbank4_a_air</th>\n",
       "      <th>secondary_cleaner.state.floatbank4_a_level</th>\n",
       "      <th>secondary_cleaner.state.floatbank4_b_air</th>\n",
       "      <th>secondary_cleaner.state.floatbank4_b_level</th>\n",
       "      <th>secondary_cleaner.state.floatbank5_a_air</th>\n",
       "      <th>secondary_cleaner.state.floatbank5_a_level</th>\n",
       "      <th>secondary_cleaner.state.floatbank5_b_air</th>\n",
       "      <th>secondary_cleaner.state.floatbank5_b_level</th>\n",
       "      <th>secondary_cleaner.state.floatbank6_a_air</th>\n",
       "      <th>secondary_cleaner.state.floatbank6_a_level</th>\n",
       "    </tr>\n",
       "  </thead>\n",
       "  <tbody>\n",
       "  </tbody>\n",
       "</table>\n",
       "<p>0 rows × 54 columns</p>\n",
       "</div>"
      ],
      "text/plain": [
       "Empty DataFrame\n",
       "Columns: [final.output.recovery, primary_cleaner.input.sulfate, primary_cleaner.input.depressant, primary_cleaner.input.feed_size, primary_cleaner.input.xanthate, primary_cleaner.state.floatbank8_a_air, primary_cleaner.state.floatbank8_a_level, primary_cleaner.state.floatbank8_b_air, primary_cleaner.state.floatbank8_b_level, primary_cleaner.state.floatbank8_c_air, primary_cleaner.state.floatbank8_c_level, primary_cleaner.state.floatbank8_d_air, primary_cleaner.state.floatbank8_d_level, rougher.input.feed_ag, rougher.input.feed_pb, rougher.input.feed_rate, rougher.input.feed_size, rougher.input.feed_sol, rougher.input.feed_au, rougher.input.floatbank10_sulfate, rougher.input.floatbank10_xanthate, rougher.input.floatbank11_sulfate, rougher.input.floatbank11_xanthate, rougher.output.recovery, rougher.state.floatbank10_a_air, rougher.state.floatbank10_a_level, rougher.state.floatbank10_b_air, rougher.state.floatbank10_b_level, rougher.state.floatbank10_c_air, rougher.state.floatbank10_c_level, rougher.state.floatbank10_d_air, rougher.state.floatbank10_d_level, rougher.state.floatbank10_e_air, rougher.state.floatbank10_e_level, rougher.state.floatbank10_f_air, rougher.state.floatbank10_f_level, secondary_cleaner.state.floatbank2_a_air, secondary_cleaner.state.floatbank2_a_level, secondary_cleaner.state.floatbank2_b_air, secondary_cleaner.state.floatbank2_b_level, secondary_cleaner.state.floatbank3_a_air, secondary_cleaner.state.floatbank3_a_level, secondary_cleaner.state.floatbank3_b_air, secondary_cleaner.state.floatbank3_b_level, secondary_cleaner.state.floatbank4_a_air, secondary_cleaner.state.floatbank4_a_level, secondary_cleaner.state.floatbank4_b_air, secondary_cleaner.state.floatbank4_b_level, secondary_cleaner.state.floatbank5_a_air, secondary_cleaner.state.floatbank5_a_level, secondary_cleaner.state.floatbank5_b_air, secondary_cleaner.state.floatbank5_b_level, secondary_cleaner.state.floatbank6_a_air, secondary_cleaner.state.floatbank6_a_level]\n",
       "Index: []\n",
       "\n",
       "[0 rows x 54 columns]"
      ]
     },
     "execution_count": 19,
     "metadata": {},
     "output_type": "execute_result"
    }
   ],
   "source": [
    "gold_recovery_train = gold_recovery_train.drop(gold_recovery_train[gold_recovery_train['final.output.recovery'] < 1].index)\n",
    "gold_recovery_train[gold_recovery_train['final.output.recovery'] < 1].head()"
   ]
  },
  {
   "cell_type": "markdown",
   "metadata": {},
   "source": [
    "<div style=\"border:solid Chocolate 2px; padding: 40px\">\n",
    "\n",
    "\n",
    "\n",
    "\n",
    "\n",
    "\n",
    "    \n",
    "    \n",
    "<br/>    \n",
    "<div class=\"alert alert-info\">\n",
    "<h2> Комментарий студента v2: <a class=\"tocSkip\"> </h2>\n",
    "\n",
    "<b>👋:</b> Извиняюсь, забыл почистить выбросы)\n",
    "</div> \n",
    "\n",
    "<br/>    \n",
    "    \n"
   ]
  },
  {
   "cell_type": "markdown",
   "metadata": {},
   "source": [
    "<div class=\"alert alert-success\">\n",
    "<h2> Комментарий ревьюера 3 <a class=\"tocSkip\"> </h2>\n",
    "\n",
    "<b>Все отлично!👍:</b>"
   ]
  },
  {
   "cell_type": "markdown",
   "metadata": {},
   "source": [
    "<br/>\n",
    "<div class=\"alert alert-block alert-danger\">\n",
    "<h2> Комментарий ревьюера 2 <a class=\"tocSkip\"></h2>\n",
    "    \n",
    "<b>На доработку🤔:</b>\n",
    "На гистограммах распределения суммарных концентраций есть аномалии, и эти аномалии важно удалить на обучающей выборке. Ведь отдельно по каждому веществу они могут быть (не всегда же есть крупицы золота в руде), а вот суммарно - вряд ли (в руде хоть какие-то элементы, но будут). А если мы имеем суммарные аномалии, значит большая вероятность неточности в измерениях. Исправь, пожалуйста.  \n",
    " </div>"
   ]
  },
  {
   "cell_type": "markdown",
   "metadata": {},
   "source": [
    "# Модель"
   ]
  },
  {
   "cell_type": "markdown",
   "metadata": {},
   "source": [
    "Напишем функцию для вычисления итоговой sMAPE\n"
   ]
  },
  {
   "cell_type": "code",
   "execution_count": 20,
   "metadata": {},
   "outputs": [],
   "source": [
    "def sMAPE_calc(target, predict):\n",
    "    smape = np.mean((abs(target - predict) / ((abs(target) + abs(predict)) / 2)) * 100)\n",
    "    return smape"
   ]
  },
  {
   "cell_type": "markdown",
   "metadata": {},
   "source": [
    "Функция для вычисления итогового sMAPE"
   ]
  },
  {
   "cell_type": "code",
   "execution_count": 21,
   "metadata": {},
   "outputs": [],
   "source": [
    "def sMAPE_final_calc(smape_rougher, smape_final):\n",
    "    return .25 * smape_rougher + .75 * smape_final"
   ]
  },
  {
   "cell_type": "markdown",
   "metadata": {},
   "source": [
    "<div class=\"alert alert-success\">\n",
    "<h2> Комментарий ревьюера <a class=\"tocSkip\"> </h2>\n",
    "\n",
    "<b>Все отлично!👍:</b> \n",
    "\n",
    "Функция правильная)"
   ]
  },
  {
   "cell_type": "markdown",
   "metadata": {},
   "source": [
    "Подготовим признаки"
   ]
  },
  {
   "cell_type": "code",
   "execution_count": 22,
   "metadata": {},
   "outputs": [],
   "source": [
    "features_train = gold_recovery_train.drop(['rougher.output.recovery', 'final.output.recovery'], axis=1)\n",
    "target_train_rougher = gold_recovery_train['rougher.output.recovery']\n",
    "target_train_final = gold_recovery_train['final.output.recovery']"
   ]
  },
  {
   "cell_type": "markdown",
   "metadata": {},
   "source": [
    "Введем свою метрику для оптимизации подсчёта sMAPE"
   ]
  },
  {
   "cell_type": "code",
   "execution_count": 23,
   "metadata": {},
   "outputs": [],
   "source": [
    "score = make_scorer(sMAPE_calc, greater_is_better=False)"
   ]
  },
  {
   "cell_type": "markdown",
   "metadata": {},
   "source": [
    "# Обучение"
   ]
  },
  {
   "cell_type": "markdown",
   "metadata": {},
   "source": [
    "### Модель дерева решений"
   ]
  },
  {
   "cell_type": "markdown",
   "metadata": {},
   "source": [
    "Применение RandomizedSearchCV для кросс-валидации"
   ]
  },
  {
   "cell_type": "code",
   "execution_count": 24,
   "metadata": {},
   "outputs": [],
   "source": [
    "model_dtr = DecisionTreeRegressor()\n",
    "\n",
    "parameters_dtr = {'max_depth':[1, 6, 11, 16, 21], 'random_state': [12345]}\n",
    "model_rougher_dtr = RandomizedSearchCV(model_dtr, param_distributions=parameters_dtr, cv=4, scoring=score, verbose=3)\n",
    "model_final_dtr = RandomizedSearchCV(model_dtr, param_distributions=parameters_dtr,cv=4, scoring=score, verbose=3)"
   ]
  },
  {
   "cell_type": "markdown",
   "metadata": {},
   "source": [
    "Обучение моделей"
   ]
  },
  {
   "cell_type": "code",
   "execution_count": 25,
   "metadata": {
    "scrolled": true
   },
   "outputs": [
    {
     "name": "stderr",
     "output_type": "stream",
     "text": [
      "/opt/conda/lib/python3.9/site-packages/sklearn/model_selection/_search.py:285: UserWarning: The total space of parameters 5 is smaller than n_iter=10. Running 5 iterations. For exhaustive searches, use GridSearchCV.\n",
      "  warnings.warn(\n"
     ]
    },
    {
     "name": "stdout",
     "output_type": "stream",
     "text": [
      "Fitting 4 folds for each of 5 candidates, totalling 20 fits\n",
      "[CV 1/4] END ................max_depth=1, random_state=12345; total time=   0.1s\n",
      "[CV 2/4] END ................max_depth=1, random_state=12345; total time=   0.1s\n",
      "[CV 3/4] END ................max_depth=1, random_state=12345; total time=   0.1s\n",
      "[CV 4/4] END ................max_depth=1, random_state=12345; total time=   0.1s\n",
      "[CV 1/4] END ................max_depth=6, random_state=12345; total time=   0.4s\n",
      "[CV 2/4] END ................max_depth=6, random_state=12345; total time=   0.4s\n",
      "[CV 3/4] END ................max_depth=6, random_state=12345; total time=   0.4s\n",
      "[CV 4/4] END ................max_depth=6, random_state=12345; total time=   0.4s\n",
      "[CV 1/4] END ...............max_depth=11, random_state=12345; total time=   0.6s\n",
      "[CV 2/4] END ...............max_depth=11, random_state=12345; total time=   0.6s\n",
      "[CV 3/4] END ...............max_depth=11, random_state=12345; total time=   0.6s\n",
      "[CV 4/4] END ...............max_depth=11, random_state=12345; total time=   0.6s\n",
      "[CV 1/4] END ...............max_depth=16, random_state=12345; total time=   0.8s\n",
      "[CV 2/4] END ...............max_depth=16, random_state=12345; total time=   0.8s\n",
      "[CV 3/4] END ...............max_depth=16, random_state=12345; total time=   0.7s\n",
      "[CV 4/4] END ...............max_depth=16, random_state=12345; total time=   0.8s\n",
      "[CV 1/4] END ...............max_depth=21, random_state=12345; total time=   0.9s\n",
      "[CV 2/4] END ...............max_depth=21, random_state=12345; total time=   0.9s\n",
      "[CV 3/4] END ...............max_depth=21, random_state=12345; total time=   0.9s\n",
      "[CV 4/4] END ...............max_depth=21, random_state=12345; total time=   1.0s\n",
      "Fitting 4 folds for each of 5 candidates, totalling 20 fits\n",
      "[CV 1/4] END ................max_depth=1, random_state=12345; total time=   0.1s\n"
     ]
    },
    {
     "name": "stderr",
     "output_type": "stream",
     "text": [
      "/opt/conda/lib/python3.9/site-packages/sklearn/model_selection/_search.py:285: UserWarning: The total space of parameters 5 is smaller than n_iter=10. Running 5 iterations. For exhaustive searches, use GridSearchCV.\n",
      "  warnings.warn(\n"
     ]
    },
    {
     "name": "stdout",
     "output_type": "stream",
     "text": [
      "[CV 2/4] END ................max_depth=1, random_state=12345; total time=   0.1s\n",
      "[CV 3/4] END ................max_depth=1, random_state=12345; total time=   0.1s\n",
      "[CV 4/4] END ................max_depth=1, random_state=12345; total time=   0.1s\n",
      "[CV 1/4] END ................max_depth=6, random_state=12345; total time=   0.3s\n",
      "[CV 2/4] END ................max_depth=6, random_state=12345; total time=   0.4s\n",
      "[CV 3/4] END ................max_depth=6, random_state=12345; total time=   0.4s\n",
      "[CV 4/4] END ................max_depth=6, random_state=12345; total time=   0.4s\n",
      "[CV 1/4] END ...............max_depth=11, random_state=12345; total time=   0.7s\n",
      "[CV 2/4] END ...............max_depth=11, random_state=12345; total time=   0.7s\n",
      "[CV 3/4] END ...............max_depth=11, random_state=12345; total time=   0.6s\n",
      "[CV 4/4] END ...............max_depth=11, random_state=12345; total time=   0.6s\n",
      "[CV 1/4] END ...............max_depth=16, random_state=12345; total time=   0.8s\n",
      "[CV 2/4] END ...............max_depth=16, random_state=12345; total time=   0.8s\n",
      "[CV 3/4] END ...............max_depth=16, random_state=12345; total time=   0.8s\n",
      "[CV 4/4] END ...............max_depth=16, random_state=12345; total time=   0.8s\n",
      "[CV 1/4] END ...............max_depth=21, random_state=12345; total time=   0.9s\n",
      "[CV 2/4] END ...............max_depth=21, random_state=12345; total time=   1.0s\n",
      "[CV 3/4] END ...............max_depth=21, random_state=12345; total time=   0.9s\n",
      "[CV 4/4] END ...............max_depth=21, random_state=12345; total time=   0.9s\n"
     ]
    },
    {
     "data": {
      "text/plain": [
       "RandomizedSearchCV(cv=4, estimator=DecisionTreeRegressor(),\n",
       "                   param_distributions={'max_depth': [1, 6, 11, 16, 21],\n",
       "                                        'random_state': [12345]},\n",
       "                   scoring=make_scorer(sMAPE_calc, greater_is_better=False),\n",
       "                   verbose=3)"
      ]
     },
     "execution_count": 25,
     "metadata": {},
     "output_type": "execute_result"
    }
   ],
   "source": [
    "model_rougher_dtr.fit(features_train, target_train_rougher)\n",
    "model_final_dtr.fit(features_train, target_train_final)"
   ]
  },
  {
   "cell_type": "markdown",
   "metadata": {},
   "source": [
    "Вывод лучших значений sMAPE"
   ]
  },
  {
   "cell_type": "code",
   "execution_count": 26,
   "metadata": {},
   "outputs": [
    {
     "name": "stdout",
     "output_type": "stream",
     "text": [
      "лучшее значение sMAPE после флотации -12.71911279955811\n",
      "лучшее значение sMAPE на выходе -10.390677914396992\n",
      "итоговое значение sMAPE -10.972786635687271\n",
      "параметры лучшего дерева {'random_state': 12345, 'max_depth': 1}\n"
     ]
    }
   ],
   "source": [
    "best_score_rougher_dtr = model_rougher_dtr.best_score_\n",
    "best_score_final_dtr = model_final_dtr.best_score_\n",
    "sMAPE_final_dtr = sMAPE_final_calc(best_score_rougher_dtr, best_score_final_dtr)\n",
    "print(\"лучшее значение sMAPE после флотации\", best_score_rougher_dtr)\n",
    "print(\"лучшее значение sMAPE на выходе\", best_score_final_dtr)\n",
    "print(\"итоговое значение sMAPE\", sMAPE_final_dtr)\n",
    "print(\"параметры лучшего дерева\", model_rougher_dtr.best_params_)"
   ]
  },
  {
   "cell_type": "markdown",
   "metadata": {},
   "source": [
    "### Модель случайного леса"
   ]
  },
  {
   "cell_type": "markdown",
   "metadata": {},
   "source": [
    "Применение RandomizedSearchCV для кросс-валидации"
   ]
  },
  {
   "cell_type": "code",
   "execution_count": 27,
   "metadata": {},
   "outputs": [],
   "source": [
    "model_rfr = RandomForestRegressor()\n",
    "\n",
    "parameters_rfr = {'n_estimators': [1, 6, 11, 16, 21],'max_depth':[1, 5, 15], 'random_state': [12345]}\n",
    "model_rougher_rfr = RandomizedSearchCV(model_rfr, param_distributions=parameters_rfr, cv=2, scoring=score, verbose=3)\n",
    "model_final_rfr = RandomizedSearchCV(model_rfr, param_distributions=parameters_rfr, cv=2, scoring=score, verbose=3)"
   ]
  },
  {
   "cell_type": "markdown",
   "metadata": {},
   "source": [
    "Обучение моделей"
   ]
  },
  {
   "cell_type": "code",
   "execution_count": 28,
   "metadata": {
    "scrolled": true
   },
   "outputs": [
    {
     "name": "stdout",
     "output_type": "stream",
     "text": [
      "Fitting 2 folds for each of 10 candidates, totalling 20 fits\n",
      "[CV 1/2] END max_depth=1, n_estimators=6, random_state=12345; total time=   0.2s\n",
      "[CV 2/2] END max_depth=1, n_estimators=6, random_state=12345; total time=   0.2s\n",
      "[CV 1/2] END max_depth=15, n_estimators=1, random_state=12345; total time=   0.3s\n",
      "[CV 2/2] END max_depth=15, n_estimators=1, random_state=12345; total time=   0.3s\n",
      "[CV 1/2] END max_depth=1, n_estimators=1, random_state=12345; total time=   0.0s\n",
      "[CV 2/2] END max_depth=1, n_estimators=1, random_state=12345; total time=   0.0s\n",
      "[CV 1/2] END max_depth=15, n_estimators=6, random_state=12345; total time=   1.7s\n",
      "[CV 2/2] END max_depth=15, n_estimators=6, random_state=12345; total time=   1.6s\n",
      "[CV 1/2] END max_depth=5, n_estimators=21, random_state=12345; total time=   2.4s\n",
      "[CV 2/2] END max_depth=5, n_estimators=21, random_state=12345; total time=   2.5s\n",
      "[CV 1/2] END max_depth=5, n_estimators=11, random_state=12345; total time=   1.3s\n",
      "[CV 2/2] END max_depth=5, n_estimators=11, random_state=12345; total time=   1.2s\n",
      "[CV 1/2] END max_depth=15, n_estimators=21, random_state=12345; total time=   5.8s\n",
      "[CV 2/2] END max_depth=15, n_estimators=21, random_state=12345; total time=   5.9s\n",
      "[CV 1/2] END max_depth=1, n_estimators=16, random_state=12345; total time=   0.4s\n",
      "[CV 2/2] END max_depth=1, n_estimators=16, random_state=12345; total time=   0.4s\n",
      "[CV 1/2] END max_depth=15, n_estimators=16, random_state=12345; total time=   4.7s\n",
      "[CV 2/2] END max_depth=15, n_estimators=16, random_state=12345; total time=   4.4s\n",
      "[CV 1/2] END max_depth=5, n_estimators=1, random_state=12345; total time=   0.1s\n",
      "[CV 2/2] END max_depth=5, n_estimators=1, random_state=12345; total time=   0.1s\n",
      "Fitting 2 folds for each of 10 candidates, totalling 20 fits\n",
      "[CV 1/2] END max_depth=15, n_estimators=11, random_state=12345; total time=   3.1s\n",
      "[CV 2/2] END max_depth=15, n_estimators=11, random_state=12345; total time=   3.2s\n",
      "[CV 1/2] END max_depth=15, n_estimators=21, random_state=12345; total time=   5.8s\n",
      "[CV 2/2] END max_depth=15, n_estimators=21, random_state=12345; total time=   5.7s\n",
      "[CV 1/2] END max_depth=5, n_estimators=21, random_state=12345; total time=   2.4s\n",
      "[CV 2/2] END max_depth=5, n_estimators=21, random_state=12345; total time=   2.4s\n",
      "[CV 1/2] END max_depth=1, n_estimators=1, random_state=12345; total time=   0.0s\n",
      "[CV 2/2] END max_depth=1, n_estimators=1, random_state=12345; total time=   0.0s\n",
      "[CV 1/2] END max_depth=1, n_estimators=6, random_state=12345; total time=   0.2s\n",
      "[CV 2/2] END max_depth=1, n_estimators=6, random_state=12345; total time=   0.2s\n",
      "[CV 1/2] END max_depth=15, n_estimators=16, random_state=12345; total time=   4.4s\n",
      "[CV 2/2] END max_depth=15, n_estimators=16, random_state=12345; total time=   4.5s\n",
      "[CV 1/2] END max_depth=15, n_estimators=6, random_state=12345; total time=   1.8s\n",
      "[CV 2/2] END max_depth=15, n_estimators=6, random_state=12345; total time=   1.7s\n",
      "[CV 1/2] END max_depth=15, n_estimators=1, random_state=12345; total time=   0.3s\n",
      "[CV 2/2] END max_depth=15, n_estimators=1, random_state=12345; total time=   0.3s\n",
      "[CV 1/2] END max_depth=1, n_estimators=16, random_state=12345; total time=   0.4s\n",
      "[CV 2/2] END max_depth=1, n_estimators=16, random_state=12345; total time=   0.4s\n",
      "[CV 1/2] END max_depth=5, n_estimators=6, random_state=12345; total time=   0.7s\n",
      "[CV 2/2] END max_depth=5, n_estimators=6, random_state=12345; total time=   0.7s\n"
     ]
    },
    {
     "data": {
      "text/plain": [
       "RandomizedSearchCV(cv=2, estimator=RandomForestRegressor(),\n",
       "                   param_distributions={'max_depth': [1, 5, 15],\n",
       "                                        'n_estimators': [1, 6, 11, 16, 21],\n",
       "                                        'random_state': [12345]},\n",
       "                   scoring=make_scorer(sMAPE_calc, greater_is_better=False),\n",
       "                   verbose=3)"
      ]
     },
     "execution_count": 28,
     "metadata": {},
     "output_type": "execute_result"
    }
   ],
   "source": [
    "model_rougher_rfr.fit(features_train, target_train_rougher)\n",
    "model_final_rfr.fit(features_train, target_train_final)"
   ]
  },
  {
   "cell_type": "markdown",
   "metadata": {},
   "source": [
    "Вывод лучших значений sMAPE"
   ]
  },
  {
   "cell_type": "code",
   "execution_count": 29,
   "metadata": {},
   "outputs": [
    {
     "name": "stdout",
     "output_type": "stream",
     "text": [
      "лучшее значение sMAPE после флотации -12.536490633699378\n",
      "лучшее значение sMAPE на выходе -10.12185693303244\n",
      "итоговое значение sMAPE -10.725515358199175\n",
      "параметры лучшего леса {'random_state': 12345, 'n_estimators': 21, 'max_depth': 5}\n"
     ]
    }
   ],
   "source": [
    "best_score_rougher_rfr = model_rougher_rfr.best_score_\n",
    "best_score_final_rfr = model_final_rfr.best_score_\n",
    "sMAPE_final_rfr = sMAPE_final_calc(best_score_rougher_rfr, best_score_final_rfr)\n",
    "print(\"лучшее значение sMAPE после флотации\", best_score_rougher_rfr)\n",
    "print(\"лучшее значение sMAPE на выходе\", best_score_final_rfr)\n",
    "print(\"итоговое значение sMAPE\", sMAPE_final_rfr)\n",
    "print(\"параметры лучшего леса\", model_final_rfr.best_params_)"
   ]
  },
  {
   "cell_type": "markdown",
   "metadata": {},
   "source": [
    "### Модель линейной регрессии"
   ]
  },
  {
   "cell_type": "markdown",
   "metadata": {},
   "source": [
    "Применение RandomizedSearchCV для кросс-валидации"
   ]
  },
  {
   "cell_type": "code",
   "execution_count": 30,
   "metadata": {},
   "outputs": [],
   "source": [
    "\n",
    "model_lr = LinearRegression()\n",
    "\n",
    "parameters_lr = {}\n",
    "model_rougher_lr = RandomizedSearchCV(model_lr, param_distributions=parameters_lr, n_iter=10, cv=2, scoring=score, verbose=3)\n",
    "model_final_lr = RandomizedSearchCV(model_lr, param_distributions=parameters_lr, n_iter=10, cv=2, scoring=score, verbose=3)"
   ]
  },
  {
   "cell_type": "markdown",
   "metadata": {},
   "source": [
    "Обучение моделей"
   ]
  },
  {
   "cell_type": "code",
   "execution_count": 31,
   "metadata": {},
   "outputs": [
    {
     "name": "stdout",
     "output_type": "stream",
     "text": [
      "Fitting 2 folds for each of 1 candidates, totalling 2 fits\n"
     ]
    },
    {
     "name": "stderr",
     "output_type": "stream",
     "text": [
      "/opt/conda/lib/python3.9/site-packages/sklearn/model_selection/_search.py:285: UserWarning: The total space of parameters 1 is smaller than n_iter=10. Running 1 iterations. For exhaustive searches, use GridSearchCV.\n",
      "  warnings.warn(\n"
     ]
    },
    {
     "name": "stdout",
     "output_type": "stream",
     "text": [
      "[CV 1/2] END ................................................ total time=   0.3s\n",
      "[CV 2/2] END ................................................ total time=   0.8s\n"
     ]
    },
    {
     "name": "stderr",
     "output_type": "stream",
     "text": [
      "/opt/conda/lib/python3.9/site-packages/sklearn/model_selection/_search.py:285: UserWarning: The total space of parameters 1 is smaller than n_iter=10. Running 1 iterations. For exhaustive searches, use GridSearchCV.\n",
      "  warnings.warn(\n"
     ]
    },
    {
     "name": "stdout",
     "output_type": "stream",
     "text": [
      "Fitting 2 folds for each of 1 candidates, totalling 2 fits\n",
      "[CV 1/2] END ................................................ total time=   0.7s\n",
      "[CV 2/2] END ................................................ total time=   0.3s\n"
     ]
    },
    {
     "data": {
      "text/plain": [
       "RandomizedSearchCV(cv=2, estimator=LinearRegression(), param_distributions={},\n",
       "                   scoring=make_scorer(sMAPE_calc, greater_is_better=False),\n",
       "                   verbose=3)"
      ]
     },
     "execution_count": 31,
     "metadata": {},
     "output_type": "execute_result"
    }
   ],
   "source": [
    "model_rougher_lr.fit(features_train, target_train_rougher)\n",
    "model_final_lr.fit(features_train, target_train_final)"
   ]
  },
  {
   "cell_type": "markdown",
   "metadata": {},
   "source": [
    "Вывод лучших значений sMAPE"
   ]
  },
  {
   "cell_type": "code",
   "execution_count": 32,
   "metadata": {},
   "outputs": [
    {
     "name": "stdout",
     "output_type": "stream",
     "text": [
      "лучшее значение sMAPE после флотации -17.5149015672033\n",
      "лучшее значение sMAPE на выходе -12.445360747757338\n",
      "итоговое значение sMAPE -13.712745952618828\n"
     ]
    }
   ],
   "source": [
    "best_score_rougher_lr = model_rougher_lr.best_score_\n",
    "best_score_final_lr = model_final_lr.best_score_\n",
    "sMAPE_final_lr = sMAPE_final_calc(best_score_rougher_lr, best_score_final_lr)\n",
    "print(\"лучшее значение sMAPE после флотации\", best_score_rougher_lr)\n",
    "print(\"лучшее значение sMAPE на выходе\", best_score_final_lr)\n",
    "print(\"итоговое значение sMAPE\", sMAPE_final_lr)"
   ]
  },
  {
   "cell_type": "markdown",
   "metadata": {},
   "source": [
    "После обучения и анализа итоговых sMAPE трёх моделей, делаю заключение, что наиболее подходящим прототипом модели машинного обучения представляется модель Случайного Леса со значением sMAPE_final = 11.54, количеством деревьев 16, глубиной 5."
   ]
  },
  {
   "cell_type": "markdown",
   "metadata": {},
   "source": [
    "<div class=\"alert alert-success\">\n",
    "<h2> Комментарий ревьюера <a class=\"tocSkip\"> </h2>\n",
    "\n",
    "<b>Все отлично!👍:</b> \n",
    "\n",
    "Твой анализ данных интересно было изучить. Приступаем к построению моделей)"
   ]
  },
  {
   "cell_type": "markdown",
   "metadata": {},
   "source": [
    "## Проверка модели на тестовой выборке"
   ]
  },
  {
   "cell_type": "markdown",
   "metadata": {},
   "source": [
    "Обучение модели на обучающей выборке"
   ]
  },
  {
   "cell_type": "code",
   "execution_count": 33,
   "metadata": {},
   "outputs": [
    {
     "data": {
      "text/plain": [
       "RandomForestRegressor(max_depth=5, n_estimators=61, random_state=12345)"
      ]
     },
     "execution_count": 33,
     "metadata": {},
     "output_type": "execute_result"
    }
   ],
   "source": [
    "model_selected_rougher_rfr = RandomForestRegressor(n_estimators=61, max_depth=5, random_state=12345)\n",
    "model_selected_final_rfr = RandomForestRegressor(n_estimators=61, max_depth=5, random_state=12345)\n",
    "\n",
    "model_selected_rougher_rfr.fit(features_train, target_train_rougher)\n",
    "model_selected_final_rfr.fit(features_train, target_train_final)"
   ]
  },
  {
   "cell_type": "markdown",
   "metadata": {},
   "source": [
    "Получение предсказаний на тестовой выборке"
   ]
  },
  {
   "cell_type": "code",
   "execution_count": 34,
   "metadata": {},
   "outputs": [],
   "source": [
    "features_test = gold_recovery_test.drop(['rougher.output.recovery', 'final.output.recovery'], axis=1)\n",
    "target_test_rougher = gold_recovery_test['rougher.output.recovery']\n",
    "target_test_final = gold_recovery_test['final.output.recovery']\n",
    "\n",
    "predict_rougher = model_selected_rougher_rfr.predict(features_test)\n",
    "predict_final = model_selected_final_rfr.predict(features_test)"
   ]
  },
  {
   "cell_type": "markdown",
   "metadata": {},
   "source": [
    "Расчёт sMAPE"
   ]
  },
  {
   "cell_type": "code",
   "execution_count": 35,
   "metadata": {},
   "outputs": [
    {
     "data": {
      "text/plain": [
       "9.855054443611465"
      ]
     },
     "execution_count": 35,
     "metadata": {},
     "output_type": "execute_result"
    }
   ],
   "source": [
    "sMAPE_test_rougher = sMAPE_calc(target_test_rougher, predict_rougher)\n",
    "sMAPE_test_final = sMAPE_calc(target_test_final, predict_final)\n",
    "sMAPE_final_calc_test = sMAPE_final_calc(sMAPE_test_rougher, sMAPE_test_final)\n",
    "sMAPE_final_calc_test"
   ]
  },
  {
   "cell_type": "markdown",
   "metadata": {},
   "source": [
    "<div class=\"alert alert-success\">\n",
    "<h2> Комментарий ревьюера <a class=\"tocSkip\"> </h2>\n",
    "\n",
    "<b>Все отлично!👍:</b> \n",
    "        \n",
    "Тестирование лучшей модели проведено правильно"
   ]
  },
  {
   "cell_type": "markdown",
   "metadata": {},
   "source": [
    "## Проверка адекватности модели"
   ]
  },
  {
   "cell_type": "markdown",
   "metadata": {},
   "source": [
    "Для проверки модели на адекватность воспользуемся DummyRegressor, предсказывающим средние значения"
   ]
  },
  {
   "cell_type": "code",
   "execution_count": 36,
   "metadata": {},
   "outputs": [
    {
     "data": {
      "text/plain": [
       "10.154298995473237"
      ]
     },
     "execution_count": 36,
     "metadata": {},
     "output_type": "execute_result"
    }
   ],
   "source": [
    "dr_rougher = DummyRegressor(strategy='mean')\n",
    "dr_final = DummyRegressor(strategy='mean')\n",
    "\n",
    "dr_final.fit(features_train, target_train_final)\n",
    "dr_rougher.fit(features_train, target_train_rougher)\n",
    "\n",
    "dr_predict_rougher = dr_rougher.predict(features_test)\n",
    "dr_predict_final = dr_final.predict(features_test)\n",
    "\n",
    "sMAPE_dr_rougher = sMAPE_calc(target_test_rougher, dr_predict_rougher)\n",
    "sMAPE_dr_final = sMAPE_calc(target_test_final, dr_predict_final)\n",
    "sMAPE_final_calc_dr = sMAPE_final_calc(sMAPE_dr_rougher, sMAPE_dr_final)\n",
    "sMAPE_final_calc_dr"
   ]
  },
  {
   "cell_type": "markdown",
   "metadata": {},
   "source": [
    "Значение, полученное у выбранной модели значительно отличается от константной"
   ]
  },
  {
   "cell_type": "markdown",
   "metadata": {},
   "source": [
    "<br/>\n",
    "<div class=\"alert alert-block alert-danger\">\n",
    "<h2> Комментарий ревьюера <a class=\"tocSkip\"></h2>\n",
    "    \n",
    "<b>На доработку🤔:</b>\n",
    "    \n",
    "dr_predict_final рассчитан не той моделью"
   ]
  },
  {
   "cell_type": "markdown",
   "metadata": {},
   "source": [
    "<div class=\"alert alert-success\">\n",
    "<h2> Комментарий ревьюера 2 <a class=\"tocSkip\"> </h2>\n",
    "\n",
    "<b>Все отлично!👍:</b>"
   ]
  },
  {
   "cell_type": "markdown",
   "metadata": {},
   "source": [
    "Вывод: \n",
    "В исследовании участвовали три различные модели прогнозирования: Случайный Лес, Решающее Дерево и Линейная Регрессия.\n",
    "\n",
    "По результатам исследования можем сделать следующие выводы:\n",
    "\n",
    "В ходе предобработки и анализа полученных данных были обработаны пропуски, удалены промежуточные значения.\n",
    "Проверена формула вычисления эффективности обогащения на соответствие действительности.\n",
    "Исследованы изменения концентрации элементов на каждом этапе очистки.\n",
    "После каждого этапа очистки концентрация золота значительно возрастает.\n",
    "Концентрация серебра повысилась только после флотации, на последующих этапах очистки прослеживается тенденция к снижению. \n",
    "Концентрация свинца значительно повысилась после флотации, при последующей очистке повышение не такое явное.\n",
    "Суммарная концентрация металлов стабильно повышается после прохождения каждого этапа очистки\n",
    "распределения размеров гранул сырья в выборках схожи, никаких корректировок вносить не требуется.\n",
    "Обучены разные модели с кросс-валидацией и подсчётом метрики sMAPE (симметричное среднее абсолютное процентное отклонение).\n",
    "Лучшей моделью оказалась модель Случайного Леса с параметрами: количество деревьев 16, глубина 5, полученное итоговое sMAPE на тестовой выборке получилось равным 9.88."
   ]
  },
  {
   "cell_type": "markdown",
   "metadata": {},
   "source": [
    "<div style=\"border:solid Chocolate 2px; padding: 40px\">\n",
    "\n",
    "\n",
    "<h2> Итоговый комментарий ревьюера <a class=\"tocSkip\"> </h2>    \n",
    "    \n",
    "  \n",
    "У меня сложилось хорошее общее впечатление о проекте, тебе удалось неплохо справиться с таким объемным и сложным проектом. Молодец! Подготовлены данные для анализа, изучен каждый параметр. Все красиво визуализировано, построено несколько моделей регрессии и оценено их качество. Осмысленная аналитика и дельная модельная работа - многое удалось как надо)\n",
    "    \n",
    "Отмечу отдельные положительные моменты проекта🙂:\n",
    "    \n",
    "- в ходе проекта встречались функции, помогающие избавиться от дублирования кода;\n",
    "- много красивых визуализаций в проекте и хорошая интерпретация;\n",
    "- при обучении моделей использована кросс-валидация и поиск гиперпараметров.\n",
    "    \n",
    "Есть несколько моментов всего, на которые стоит ещё раз взглянуть, их я обзначил тебе в комментариях по ходу проекта. Предлагаю тебе доработать проект по моим комментариям, чтобы довести его до совершенства.\n",
    "\n",
    "Если будут вопросы, обращайся, с удовольствием на них отвечу.  \n",
    "</div>"
   ]
  },
  {
   "cell_type": "markdown",
   "metadata": {},
   "source": [
    "<div style=\"border:solid Chocolate 2px; padding: 40px\">\n",
    "\n",
    "\n",
    "<h2> Итоговый комментарий ревьюера 3 <a class=\"tocSkip\"> </h2>    \n",
    "    \n",
    "     \n",
    "  \n",
    "Теперь почти идеально. Принимаю работу)\n",
    "    \n",
    "Если хочешь лучше разобраться в ML, то могу посоветовать тебе: \n",
    "    \n",
    "- Открытый курс машинного обучения: https://habr.com/ru/company/ods/blog/322626/   \n",
    "    \n",
    "- Книжка от ШАД: https://academy.yandex.ru/handbook/ml/\n",
    "    \n",
    "- Также рекомендую лекции от Andrew Ng: https://www.youtube.com/watch?v=PPLop4L2eGk&list=PLLssT5z_DsK-h9vYZkQkYNWcItqhlRJLN\n",
    "- Избежать утечки данных при кросс-валидации тебе поможет <a href=\"https://towardsdatascience.com/pipeline-columntransformer-and-featureunion-explained-f5491f815f\">конвеерная обработка данных</a>.     \n",
    "    \n",
    "- Не все признаки приносят пользу при моделировании. Инструмент <a href=\"https://proglib.io/p/feature-selector\">FeatureSelector</a> поможет тебе отобрать важные признаки и избавит от ручной обработки.  Также можешь посмотреть статью на <a href=\"https://www.kaggle.com/code/prashant111/comprehensive-guide-on-feature-selection/notebook\">Kaggle</a> (она сложнее).    \n",
    "    \n",
    "    \n",
    "В этом проекте были отработаны несколько моментов. А самый очевидный: заметно, что разность метрик качества (константной и нашей модели) -  не слишком большая. Такое расхождение метрик допустимо в этом проекте. Что тогда  для дальнейшего улучшения качества моделирования возможно тут пересмотреть?\n",
    "Попробую описать для тебя:\n",
    "1. Качество данных на входе модели машинного обучения: повторно оценить аномалии, пропуски, соответствие законам химии и физики, все ли правдоподобно?\n",
    "2. Работа с моделями машинного обучения:\n",
    "- Создание новых признаков для моделей, Features Engineering: возможно стоит обратиться к технологу производства и ещё раз пробежаться по бизнес-цепочке процесса.\n",
    "- Отбор самих моделей машинного обучения и гиперпараметров.\n",
    "    \n",
    "3. Параметры производственного процесса, к примеру: температура сырья, скорость ленточного конвейера, и.т.п.\n",
    "    \n",
    "\n",
    "Если провести Анализ измерительных систем, или MSA, то можно разобраться в причинах неточности полученных с производства данных. Статистический анализ данных, или SPC, - тоже будет являться незаменимым помощником в решении нашей задачи.\n",
    "    \n",
    "Добавлю здесь, что цель нашего проекта достигнута, а именно пройдены важные этапы подготовки данных и построения модели для производства золота.\n",
    "    \n",
    "Успехов тебе в следующем спринте!\n",
    "    \n",
    "Рад был помочь тебе)\n",
    "    \n",
    "</div>"
   ]
  },
  {
   "cell_type": "markdown",
   "metadata": {},
   "source": [
    "## Чек-лист готовности проекта"
   ]
  },
  {
   "cell_type": "markdown",
   "metadata": {},
   "source": [
    "- [x]  Jupyter Notebook открыт\n",
    "- [x]  Весь код выполняется без ошибок\n",
    "- [x]  Ячейки с кодом расположены в порядке выполнения\n",
    "- [x]  Выполнен шаг 1: данные подготовлены\n",
    "    - [x]  Проверена формула вычисления эффективности обогащения\n",
    "    - [x]  Проанализированы признаки, недоступные в тестовой выборке\n",
    "    - [x]  Проведена предобработка данных\n",
    "- [x]  Выполнен шаг 2: данные проанализированы\n",
    "    - [x]  Исследовано изменение концентрации элементов на каждом этапе\n",
    "    - [x]  Проанализированы распределения размеров гранул на обучающей и тестовой выборках\n",
    "    - [x]  Исследованы суммарные концентрации\n",
    "- [x]  Выполнен шаг 3: построена модель прогнозирования\n",
    "    - [x]  Написана функция для вычисления итогового *sMAPE*\n",
    "    - [x]  Обучено и проверено несколько моделей\n",
    "    - [x]  Выбрана лучшая модель, её качество проверено на тестовой выборке"
   ]
  },
  {
   "cell_type": "code",
   "execution_count": null,
   "metadata": {},
   "outputs": [],
   "source": []
  }
 ],
 "metadata": {
  "ExecuteTimeLog": [
   {
    "duration": 1405,
    "start_time": "2023-03-28T07:38:26.296Z"
   },
   {
    "duration": 3037,
    "start_time": "2023-03-28T07:38:27.884Z"
   },
   {
    "duration": 1307,
    "start_time": "2023-03-28T07:41:45.289Z"
   },
   {
    "duration": 798,
    "start_time": "2023-03-28T07:41:46.599Z"
   },
   {
    "duration": 46,
    "start_time": "2023-03-28T07:44:11.600Z"
   },
   {
    "duration": 1262,
    "start_time": "2023-03-28T07:44:23.707Z"
   },
   {
    "duration": 669,
    "start_time": "2023-03-28T07:44:25.447Z"
   },
   {
    "duration": 69,
    "start_time": "2023-03-28T08:44:09.815Z"
   },
   {
    "duration": 5,
    "start_time": "2023-03-28T08:45:00.443Z"
   },
   {
    "duration": 8,
    "start_time": "2023-03-28T08:45:05.936Z"
   },
   {
    "duration": 5,
    "start_time": "2023-03-28T08:45:22.600Z"
   },
   {
    "duration": 5,
    "start_time": "2023-03-28T08:47:21.452Z"
   },
   {
    "duration": 4,
    "start_time": "2023-03-28T08:50:32.042Z"
   },
   {
    "duration": 7,
    "start_time": "2023-03-28T08:57:45.644Z"
   },
   {
    "duration": 4,
    "start_time": "2023-03-28T08:58:02.470Z"
   },
   {
    "duration": 4,
    "start_time": "2023-03-28T08:58:25.990Z"
   },
   {
    "duration": 44,
    "start_time": "2023-03-28T09:07:03.904Z"
   },
   {
    "duration": 1299,
    "start_time": "2023-03-28T09:07:19.175Z"
   },
   {
    "duration": 722,
    "start_time": "2023-03-28T09:07:20.476Z"
   },
   {
    "duration": 5,
    "start_time": "2023-03-28T09:07:21.200Z"
   },
   {
    "duration": 15,
    "start_time": "2023-03-28T09:07:21.206Z"
   },
   {
    "duration": 4,
    "start_time": "2023-03-28T09:07:21.223Z"
   },
   {
    "duration": 24,
    "start_time": "2023-03-28T09:07:21.228Z"
   },
   {
    "duration": 20,
    "start_time": "2023-03-28T09:07:21.253Z"
   },
   {
    "duration": 20,
    "start_time": "2023-03-28T09:07:21.275Z"
   },
   {
    "duration": 1717,
    "start_time": "2023-03-28T09:07:21.297Z"
   },
   {
    "duration": 11,
    "start_time": "2023-03-28T09:29:23.157Z"
   },
   {
    "duration": 5,
    "start_time": "2023-03-28T09:29:34.432Z"
   },
   {
    "duration": 8,
    "start_time": "2023-03-28T09:29:35.841Z"
   },
   {
    "duration": 4,
    "start_time": "2023-03-28T09:29:53.605Z"
   },
   {
    "duration": 72,
    "start_time": "2023-03-28T09:42:11.724Z"
   },
   {
    "duration": 52,
    "start_time": "2023-03-28T09:43:17.625Z"
   },
   {
    "duration": 21,
    "start_time": "2023-03-28T09:44:06.766Z"
   },
   {
    "duration": 10,
    "start_time": "2023-03-28T09:45:20.788Z"
   },
   {
    "duration": 29,
    "start_time": "2023-03-28T09:46:12.536Z"
   },
   {
    "duration": 15,
    "start_time": "2023-03-28T09:47:16.946Z"
   },
   {
    "duration": 1245,
    "start_time": "2023-03-28T09:48:05.213Z"
   },
   {
    "duration": 673,
    "start_time": "2023-03-28T09:48:06.460Z"
   },
   {
    "duration": 15,
    "start_time": "2023-03-28T09:48:07.134Z"
   },
   {
    "duration": 13,
    "start_time": "2023-03-28T09:48:07.152Z"
   },
   {
    "duration": 6,
    "start_time": "2023-03-28T09:48:07.166Z"
   },
   {
    "duration": 12,
    "start_time": "2023-03-28T09:48:07.173Z"
   },
   {
    "duration": 3,
    "start_time": "2023-03-28T09:48:07.187Z"
   },
   {
    "duration": 6,
    "start_time": "2023-03-28T09:48:07.191Z"
   },
   {
    "duration": 73,
    "start_time": "2023-03-28T09:48:07.199Z"
   },
   {
    "duration": 19,
    "start_time": "2023-03-28T09:48:07.274Z"
   },
   {
    "duration": 23,
    "start_time": "2023-03-28T09:48:07.294Z"
   },
   {
    "duration": 13,
    "start_time": "2023-03-28T09:48:07.319Z"
   },
   {
    "duration": 129,
    "start_time": "2023-03-28T10:02:39.099Z"
   },
   {
    "duration": 129,
    "start_time": "2023-03-28T10:02:57.133Z"
   },
   {
    "duration": 98,
    "start_time": "2023-03-28T10:03:16.000Z"
   },
   {
    "duration": 183,
    "start_time": "2023-03-28T10:13:54.368Z"
   },
   {
    "duration": 137,
    "start_time": "2023-03-28T10:14:28.466Z"
   },
   {
    "duration": 150,
    "start_time": "2023-03-28T10:14:32.115Z"
   },
   {
    "duration": 82,
    "start_time": "2023-03-28T10:15:03.640Z"
   },
   {
    "duration": 708,
    "start_time": "2023-03-28T10:16:39.302Z"
   },
   {
    "duration": 234,
    "start_time": "2023-03-28T10:17:57.084Z"
   },
   {
    "duration": 145,
    "start_time": "2023-03-28T10:18:23.184Z"
   },
   {
    "duration": 55,
    "start_time": "2023-03-28T10:24:46.097Z"
   },
   {
    "duration": 3,
    "start_time": "2023-03-28T12:16:28.395Z"
   },
   {
    "duration": 3,
    "start_time": "2023-03-28T12:16:29.874Z"
   },
   {
    "duration": 106,
    "start_time": "2023-03-28T15:12:33.379Z"
   },
   {
    "duration": 1224,
    "start_time": "2023-03-28T15:12:41.790Z"
   },
   {
    "duration": 690,
    "start_time": "2023-03-28T15:12:43.016Z"
   },
   {
    "duration": 6,
    "start_time": "2023-03-28T15:12:43.708Z"
   },
   {
    "duration": 34,
    "start_time": "2023-03-28T15:12:43.715Z"
   },
   {
    "duration": 18,
    "start_time": "2023-03-28T15:12:43.751Z"
   },
   {
    "duration": 20,
    "start_time": "2023-03-28T15:12:43.771Z"
   },
   {
    "duration": 16,
    "start_time": "2023-03-28T15:12:43.793Z"
   },
   {
    "duration": 27,
    "start_time": "2023-03-28T15:12:43.810Z"
   },
   {
    "duration": 79,
    "start_time": "2023-03-28T15:12:43.838Z"
   },
   {
    "duration": 21,
    "start_time": "2023-03-28T15:12:43.918Z"
   },
   {
    "duration": 27,
    "start_time": "2023-03-28T15:12:43.940Z"
   },
   {
    "duration": 13,
    "start_time": "2023-03-28T15:12:43.969Z"
   },
   {
    "duration": 102,
    "start_time": "2023-03-28T15:12:43.983Z"
   },
   {
    "duration": 179,
    "start_time": "2023-03-28T15:12:44.088Z"
   },
   {
    "duration": 155,
    "start_time": "2023-03-28T15:12:44.269Z"
   },
   {
    "duration": 228,
    "start_time": "2023-03-28T15:12:44.425Z"
   },
   {
    "duration": 722,
    "start_time": "2023-03-28T15:12:44.655Z"
   },
   {
    "duration": 161,
    "start_time": "2023-03-28T15:12:45.378Z"
   },
   {
    "duration": 52,
    "start_time": "2023-03-28T15:12:45.541Z"
   },
   {
    "duration": 0,
    "start_time": "2023-03-28T15:12:45.595Z"
   },
   {
    "duration": 0,
    "start_time": "2023-03-28T15:12:45.597Z"
   },
   {
    "duration": 0,
    "start_time": "2023-03-28T15:12:45.598Z"
   },
   {
    "duration": 0,
    "start_time": "2023-03-28T15:12:45.599Z"
   },
   {
    "duration": 0,
    "start_time": "2023-03-28T15:12:45.601Z"
   },
   {
    "duration": 0,
    "start_time": "2023-03-28T15:12:45.602Z"
   },
   {
    "duration": 3,
    "start_time": "2023-03-28T15:13:42.717Z"
   },
   {
    "duration": 2,
    "start_time": "2023-03-28T15:14:01.722Z"
   },
   {
    "duration": 3,
    "start_time": "2023-03-28T15:14:02.159Z"
   },
   {
    "duration": 8,
    "start_time": "2023-03-28T15:14:02.911Z"
   },
   {
    "duration": 2,
    "start_time": "2023-03-28T15:14:04.110Z"
   },
   {
    "duration": 3,
    "start_time": "2023-03-28T15:14:40.291Z"
   },
   {
    "duration": 1179,
    "start_time": "2023-03-28T15:14:41.403Z"
   },
   {
    "duration": 1242,
    "start_time": "2023-03-28T15:16:01.895Z"
   },
   {
    "duration": 669,
    "start_time": "2023-03-28T15:16:03.139Z"
   },
   {
    "duration": 5,
    "start_time": "2023-03-28T15:16:03.809Z"
   },
   {
    "duration": 48,
    "start_time": "2023-03-28T15:16:03.815Z"
   },
   {
    "duration": 51,
    "start_time": "2023-03-28T15:16:03.864Z"
   },
   {
    "duration": 34,
    "start_time": "2023-03-28T15:16:03.916Z"
   },
   {
    "duration": 30,
    "start_time": "2023-03-28T15:16:03.951Z"
   },
   {
    "duration": 19,
    "start_time": "2023-03-28T15:16:03.983Z"
   },
   {
    "duration": 85,
    "start_time": "2023-03-28T15:16:04.004Z"
   },
   {
    "duration": 20,
    "start_time": "2023-03-28T15:16:04.090Z"
   },
   {
    "duration": 38,
    "start_time": "2023-03-28T15:16:04.111Z"
   },
   {
    "duration": 15,
    "start_time": "2023-03-28T15:16:04.150Z"
   },
   {
    "duration": 100,
    "start_time": "2023-03-28T15:16:04.166Z"
   },
   {
    "duration": 174,
    "start_time": "2023-03-28T15:16:04.267Z"
   },
   {
    "duration": 144,
    "start_time": "2023-03-28T15:16:04.443Z"
   },
   {
    "duration": 194,
    "start_time": "2023-03-28T15:16:04.588Z"
   },
   {
    "duration": 693,
    "start_time": "2023-03-28T15:16:04.783Z"
   },
   {
    "duration": 158,
    "start_time": "2023-03-28T15:16:05.478Z"
   },
   {
    "duration": 12,
    "start_time": "2023-03-28T15:16:05.638Z"
   },
   {
    "duration": 119,
    "start_time": "2023-03-28T15:16:05.652Z"
   },
   {
    "duration": 25,
    "start_time": "2023-03-28T15:16:05.773Z"
   },
   {
    "duration": 28,
    "start_time": "2023-03-28T15:16:05.800Z"
   },
   {
    "duration": 20,
    "start_time": "2023-03-28T15:16:05.830Z"
   },
   {
    "duration": 1203,
    "start_time": "2023-03-28T15:16:05.852Z"
   },
   {
    "duration": 1151,
    "start_time": "2023-03-28T15:17:15.482Z"
   },
   {
    "duration": 1263,
    "start_time": "2023-03-28T15:17:31.892Z"
   },
   {
    "duration": 664,
    "start_time": "2023-03-28T15:17:33.157Z"
   },
   {
    "duration": 5,
    "start_time": "2023-03-28T15:17:33.822Z"
   },
   {
    "duration": 9,
    "start_time": "2023-03-28T15:17:33.828Z"
   },
   {
    "duration": 4,
    "start_time": "2023-03-28T15:17:33.849Z"
   },
   {
    "duration": 10,
    "start_time": "2023-03-28T15:17:33.854Z"
   },
   {
    "duration": 8,
    "start_time": "2023-03-28T15:17:33.865Z"
   },
   {
    "duration": 15,
    "start_time": "2023-03-28T15:17:33.875Z"
   },
   {
    "duration": 79,
    "start_time": "2023-03-28T15:17:33.891Z"
   },
   {
    "duration": 20,
    "start_time": "2023-03-28T15:17:33.972Z"
   },
   {
    "duration": 23,
    "start_time": "2023-03-28T15:17:33.993Z"
   },
   {
    "duration": 32,
    "start_time": "2023-03-28T15:17:34.017Z"
   },
   {
    "duration": 87,
    "start_time": "2023-03-28T15:17:34.050Z"
   },
   {
    "duration": 169,
    "start_time": "2023-03-28T15:17:34.150Z"
   },
   {
    "duration": 173,
    "start_time": "2023-03-28T15:17:34.320Z"
   },
   {
    "duration": 212,
    "start_time": "2023-03-28T15:17:34.495Z"
   },
   {
    "duration": 684,
    "start_time": "2023-03-28T15:17:34.709Z"
   },
   {
    "duration": 166,
    "start_time": "2023-03-28T15:17:35.394Z"
   },
   {
    "duration": 3,
    "start_time": "2023-03-28T15:17:35.562Z"
   },
   {
    "duration": 16,
    "start_time": "2023-03-28T15:17:35.566Z"
   },
   {
    "duration": 17,
    "start_time": "2023-03-28T15:17:35.584Z"
   },
   {
    "duration": 8,
    "start_time": "2023-03-28T15:17:35.602Z"
   },
   {
    "duration": 13,
    "start_time": "2023-03-28T15:17:35.612Z"
   },
   {
    "duration": 1197,
    "start_time": "2023-03-28T15:17:35.627Z"
   },
   {
    "duration": 0,
    "start_time": "2023-03-28T15:17:36.826Z"
   },
   {
    "duration": 5,
    "start_time": "2023-03-28T15:17:47.744Z"
   },
   {
    "duration": 3,
    "start_time": "2023-03-28T15:17:48.999Z"
   },
   {
    "duration": 4,
    "start_time": "2023-03-28T15:17:50.933Z"
   },
   {
    "duration": 1028,
    "start_time": "2023-03-28T15:17:55.929Z"
   },
   {
    "duration": 1243,
    "start_time": "2023-03-28T15:20:55.991Z"
   },
   {
    "duration": 665,
    "start_time": "2023-03-28T15:20:57.236Z"
   },
   {
    "duration": 5,
    "start_time": "2023-03-28T15:20:57.902Z"
   },
   {
    "duration": 13,
    "start_time": "2023-03-28T15:20:57.909Z"
   },
   {
    "duration": 13,
    "start_time": "2023-03-28T15:20:57.923Z"
   },
   {
    "duration": 16,
    "start_time": "2023-03-28T15:20:57.938Z"
   },
   {
    "duration": 8,
    "start_time": "2023-03-28T15:20:57.956Z"
   },
   {
    "duration": 41,
    "start_time": "2023-03-28T15:20:57.966Z"
   },
   {
    "duration": 60,
    "start_time": "2023-03-28T15:20:58.008Z"
   },
   {
    "duration": 20,
    "start_time": "2023-03-28T15:20:58.071Z"
   },
   {
    "duration": 23,
    "start_time": "2023-03-28T15:20:58.093Z"
   },
   {
    "duration": 37,
    "start_time": "2023-03-28T15:20:58.117Z"
   },
   {
    "duration": 98,
    "start_time": "2023-03-28T15:20:58.156Z"
   },
   {
    "duration": 170,
    "start_time": "2023-03-28T15:20:58.255Z"
   },
   {
    "duration": 158,
    "start_time": "2023-03-28T15:20:58.427Z"
   },
   {
    "duration": 166,
    "start_time": "2023-03-28T15:20:58.586Z"
   },
   {
    "duration": 695,
    "start_time": "2023-03-28T15:20:58.753Z"
   },
   {
    "duration": 158,
    "start_time": "2023-03-28T15:20:59.450Z"
   },
   {
    "duration": 2,
    "start_time": "2023-03-28T15:20:59.610Z"
   },
   {
    "duration": 12,
    "start_time": "2023-03-28T15:20:59.614Z"
   },
   {
    "duration": 20,
    "start_time": "2023-03-28T15:20:59.628Z"
   },
   {
    "duration": 9,
    "start_time": "2023-03-28T15:20:59.649Z"
   },
   {
    "duration": 17,
    "start_time": "2023-03-28T15:20:59.660Z"
   },
   {
    "duration": 58,
    "start_time": "2023-03-28T15:20:59.679Z"
   },
   {
    "duration": 4,
    "start_time": "2023-03-28T15:22:17.992Z"
   },
   {
    "duration": 1216,
    "start_time": "2023-03-28T15:22:19.042Z"
   },
   {
    "duration": 9,
    "start_time": "2023-03-28T15:22:20.275Z"
   },
   {
    "duration": 3,
    "start_time": "2023-03-28T15:26:28.303Z"
   },
   {
    "duration": 224,
    "start_time": "2023-03-28T15:26:30.090Z"
   },
   {
    "duration": 3,
    "start_time": "2023-03-28T15:28:03.480Z"
   },
   {
    "duration": 241,
    "start_time": "2023-03-28T15:28:04.932Z"
   },
   {
    "duration": 50,
    "start_time": "2023-03-29T09:05:41.652Z"
   },
   {
    "duration": 10,
    "start_time": "2023-03-29T09:05:44.726Z"
   },
   {
    "duration": 11,
    "start_time": "2023-03-29T09:05:48.631Z"
   },
   {
    "duration": 1630,
    "start_time": "2023-03-29T09:06:11.898Z"
   },
   {
    "duration": 2077,
    "start_time": "2023-03-29T09:06:13.530Z"
   },
   {
    "duration": 6,
    "start_time": "2023-03-29T09:06:15.609Z"
   },
   {
    "duration": 14,
    "start_time": "2023-03-29T09:06:15.618Z"
   },
   {
    "duration": 6,
    "start_time": "2023-03-29T09:06:15.635Z"
   },
   {
    "duration": 25,
    "start_time": "2023-03-29T09:06:15.643Z"
   },
   {
    "duration": 4,
    "start_time": "2023-03-29T09:06:15.670Z"
   },
   {
    "duration": 5,
    "start_time": "2023-03-29T09:06:15.676Z"
   },
   {
    "duration": 86,
    "start_time": "2023-03-29T09:06:15.683Z"
   },
   {
    "duration": 22,
    "start_time": "2023-03-29T09:06:15.772Z"
   },
   {
    "duration": 29,
    "start_time": "2023-03-29T09:06:15.795Z"
   },
   {
    "duration": 14,
    "start_time": "2023-03-29T09:06:15.825Z"
   },
   {
    "duration": 115,
    "start_time": "2023-03-29T09:06:15.841Z"
   },
   {
    "duration": 185,
    "start_time": "2023-03-29T09:06:15.958Z"
   },
   {
    "duration": 147,
    "start_time": "2023-03-29T09:06:16.145Z"
   },
   {
    "duration": 165,
    "start_time": "2023-03-29T09:06:16.293Z"
   },
   {
    "duration": 705,
    "start_time": "2023-03-29T09:06:16.460Z"
   },
   {
    "duration": 182,
    "start_time": "2023-03-29T09:06:17.166Z"
   },
   {
    "duration": 3,
    "start_time": "2023-03-29T09:06:17.349Z"
   },
   {
    "duration": 22,
    "start_time": "2023-03-29T09:06:17.354Z"
   },
   {
    "duration": 16,
    "start_time": "2023-03-29T09:06:17.378Z"
   },
   {
    "duration": 17,
    "start_time": "2023-03-29T09:06:17.396Z"
   },
   {
    "duration": 5,
    "start_time": "2023-03-29T09:06:17.415Z"
   },
   {
    "duration": 976,
    "start_time": "2023-03-29T09:06:17.421Z"
   },
   {
    "duration": 0,
    "start_time": "2023-03-29T09:06:18.399Z"
   },
   {
    "duration": 0,
    "start_time": "2023-03-29T09:06:18.400Z"
   },
   {
    "duration": 3,
    "start_time": "2023-03-29T09:13:18.025Z"
   },
   {
    "duration": 3,
    "start_time": "2023-03-29T09:13:19.497Z"
   },
   {
    "duration": 9,
    "start_time": "2023-03-29T09:13:20.723Z"
   },
   {
    "duration": 2,
    "start_time": "2023-03-29T09:13:22.090Z"
   },
   {
    "duration": 4,
    "start_time": "2023-03-29T09:13:27.593Z"
   },
   {
    "duration": 803,
    "start_time": "2023-03-29T09:13:31.531Z"
   },
   {
    "duration": 12,
    "start_time": "2023-03-29T09:21:39.566Z"
   },
   {
    "duration": 11,
    "start_time": "2023-03-29T09:22:00.814Z"
   },
   {
    "duration": 3,
    "start_time": "2023-03-29T09:22:34.941Z"
   },
   {
    "duration": 769,
    "start_time": "2023-03-29T09:22:37.886Z"
   },
   {
    "duration": 4,
    "start_time": "2023-03-29T09:25:00.481Z"
   },
   {
    "duration": 96,
    "start_time": "2023-03-29T09:25:01.412Z"
   },
   {
    "duration": 4,
    "start_time": "2023-03-29T09:26:51.298Z"
   },
   {
    "duration": 4,
    "start_time": "2023-03-29T09:39:24.122Z"
   },
   {
    "duration": 1205,
    "start_time": "2023-03-29T09:39:41.503Z"
   },
   {
    "duration": 9,
    "start_time": "2023-03-29T09:52:52.269Z"
   },
   {
    "duration": 8,
    "start_time": "2023-03-29T09:53:14.521Z"
   },
   {
    "duration": 6,
    "start_time": "2023-03-29T09:56:20.176Z"
   },
   {
    "duration": 30,
    "start_time": "2023-03-29T09:58:30.924Z"
   },
   {
    "duration": 3,
    "start_time": "2023-03-29T09:58:31.457Z"
   },
   {
    "duration": 10,
    "start_time": "2023-03-29T10:00:26.902Z"
   },
   {
    "duration": 8,
    "start_time": "2023-03-29T10:01:30.891Z"
   },
   {
    "duration": 22,
    "start_time": "2023-03-29T10:01:32.405Z"
   },
   {
    "duration": 14,
    "start_time": "2023-03-29T10:01:33.726Z"
   },
   {
    "duration": 95,
    "start_time": "2023-03-29T10:02:18.808Z"
   },
   {
    "duration": 1343,
    "start_time": "2023-03-29T10:03:01.734Z"
   },
   {
    "duration": 662,
    "start_time": "2023-03-29T10:03:03.079Z"
   },
   {
    "duration": 9,
    "start_time": "2023-03-29T10:03:03.742Z"
   },
   {
    "duration": 22,
    "start_time": "2023-03-29T10:03:03.753Z"
   },
   {
    "duration": 9,
    "start_time": "2023-03-29T10:03:03.777Z"
   },
   {
    "duration": 29,
    "start_time": "2023-03-29T10:03:03.787Z"
   },
   {
    "duration": 3,
    "start_time": "2023-03-29T10:03:03.818Z"
   },
   {
    "duration": 14,
    "start_time": "2023-03-29T10:03:03.823Z"
   },
   {
    "duration": 37,
    "start_time": "2023-03-29T10:03:03.839Z"
   },
   {
    "duration": 31,
    "start_time": "2023-03-29T10:03:03.879Z"
   },
   {
    "duration": 16,
    "start_time": "2023-03-29T10:03:03.912Z"
   },
   {
    "duration": 108,
    "start_time": "2023-03-29T10:03:03.930Z"
   },
   {
    "duration": 175,
    "start_time": "2023-03-29T10:03:04.040Z"
   },
   {
    "duration": 175,
    "start_time": "2023-03-29T10:03:04.217Z"
   },
   {
    "duration": 208,
    "start_time": "2023-03-29T10:03:04.393Z"
   },
   {
    "duration": 593,
    "start_time": "2023-03-29T10:03:04.603Z"
   },
   {
    "duration": 241,
    "start_time": "2023-03-29T10:03:05.198Z"
   },
   {
    "duration": 3,
    "start_time": "2023-03-29T10:03:05.441Z"
   },
   {
    "duration": 12,
    "start_time": "2023-03-29T10:03:05.446Z"
   },
   {
    "duration": 44,
    "start_time": "2023-03-29T10:03:05.460Z"
   },
   {
    "duration": 21,
    "start_time": "2023-03-29T10:03:05.506Z"
   },
   {
    "duration": 187,
    "start_time": "2023-03-29T10:03:05.529Z"
   },
   {
    "duration": 0,
    "start_time": "2023-03-29T10:03:05.718Z"
   },
   {
    "duration": 4,
    "start_time": "2023-03-29T10:03:21.575Z"
   },
   {
    "duration": 690,
    "start_time": "2023-03-29T10:03:23.430Z"
   },
   {
    "duration": 980,
    "start_time": "2023-03-29T10:09:40.212Z"
   },
   {
    "duration": 4,
    "start_time": "2023-03-29T10:11:59.996Z"
   },
   {
    "duration": 444,
    "start_time": "2023-03-29T10:12:40.728Z"
   },
   {
    "duration": 68,
    "start_time": "2023-03-29T10:29:48.394Z"
   },
   {
    "duration": 3,
    "start_time": "2023-03-29T10:30:29.058Z"
   },
   {
    "duration": 403,
    "start_time": "2023-03-29T10:30:50.941Z"
   },
   {
    "duration": 2,
    "start_time": "2023-03-29T10:42:42.917Z"
   },
   {
    "duration": 1265,
    "start_time": "2023-03-29T10:43:54.073Z"
   },
   {
    "duration": 655,
    "start_time": "2023-03-29T10:43:55.339Z"
   },
   {
    "duration": 9,
    "start_time": "2023-03-29T10:43:55.996Z"
   },
   {
    "duration": 10,
    "start_time": "2023-03-29T10:43:56.007Z"
   },
   {
    "duration": 5,
    "start_time": "2023-03-29T10:43:56.018Z"
   },
   {
    "duration": 54,
    "start_time": "2023-03-29T10:43:56.024Z"
   },
   {
    "duration": 5,
    "start_time": "2023-03-29T10:43:56.079Z"
   },
   {
    "duration": 4,
    "start_time": "2023-03-29T10:43:56.086Z"
   },
   {
    "duration": 10,
    "start_time": "2023-03-29T10:43:56.092Z"
   },
   {
    "duration": 87,
    "start_time": "2023-03-29T10:43:56.105Z"
   },
   {
    "duration": 86,
    "start_time": "2023-03-29T10:43:56.194Z"
   },
   {
    "duration": 168,
    "start_time": "2023-03-29T10:43:56.282Z"
   },
   {
    "duration": 142,
    "start_time": "2023-03-29T10:43:56.452Z"
   },
   {
    "duration": 156,
    "start_time": "2023-03-29T10:43:56.595Z"
   },
   {
    "duration": 605,
    "start_time": "2023-03-29T10:43:56.753Z"
   },
   {
    "duration": 224,
    "start_time": "2023-03-29T10:43:57.360Z"
   },
   {
    "duration": 2,
    "start_time": "2023-03-29T10:43:57.586Z"
   },
   {
    "duration": 6,
    "start_time": "2023-03-29T10:43:57.590Z"
   },
   {
    "duration": 13,
    "start_time": "2023-03-29T10:43:57.598Z"
   },
   {
    "duration": 4,
    "start_time": "2023-03-29T10:43:57.612Z"
   },
   {
    "duration": 4,
    "start_time": "2023-03-29T10:43:57.617Z"
   },
   {
    "duration": 16812,
    "start_time": "2023-03-29T10:43:57.622Z"
   },
   {
    "duration": 89,
    "start_time": "2023-03-29T10:44:14.436Z"
   },
   {
    "duration": 1212,
    "start_time": "2023-03-29T10:44:33.224Z"
   },
   {
    "duration": 659,
    "start_time": "2023-03-29T10:44:34.437Z"
   },
   {
    "duration": 11,
    "start_time": "2023-03-29T10:44:35.098Z"
   },
   {
    "duration": 12,
    "start_time": "2023-03-29T10:44:35.111Z"
   },
   {
    "duration": 6,
    "start_time": "2023-03-29T10:44:35.125Z"
   },
   {
    "duration": 67,
    "start_time": "2023-03-29T10:44:35.133Z"
   },
   {
    "duration": 4,
    "start_time": "2023-03-29T10:44:35.203Z"
   },
   {
    "duration": 5,
    "start_time": "2023-03-29T10:44:35.209Z"
   },
   {
    "duration": 9,
    "start_time": "2023-03-29T10:44:35.216Z"
   },
   {
    "duration": 94,
    "start_time": "2023-03-29T10:44:35.227Z"
   },
   {
    "duration": 90,
    "start_time": "2023-03-29T10:44:35.322Z"
   },
   {
    "duration": 168,
    "start_time": "2023-03-29T10:44:35.414Z"
   },
   {
    "duration": 140,
    "start_time": "2023-03-29T10:44:35.584Z"
   },
   {
    "duration": 159,
    "start_time": "2023-03-29T10:44:35.725Z"
   },
   {
    "duration": 566,
    "start_time": "2023-03-29T10:44:35.885Z"
   },
   {
    "duration": 229,
    "start_time": "2023-03-29T10:44:36.452Z"
   },
   {
    "duration": 3,
    "start_time": "2023-03-29T10:44:36.683Z"
   },
   {
    "duration": 4,
    "start_time": "2023-03-29T10:44:36.688Z"
   },
   {
    "duration": 7,
    "start_time": "2023-03-29T10:44:36.693Z"
   },
   {
    "duration": 3,
    "start_time": "2023-03-29T10:44:36.702Z"
   },
   {
    "duration": 3,
    "start_time": "2023-03-29T10:44:36.707Z"
   },
   {
    "duration": 17006,
    "start_time": "2023-03-29T10:44:36.712Z"
   },
   {
    "duration": 80,
    "start_time": "2023-03-29T10:44:53.719Z"
   },
   {
    "duration": 46,
    "start_time": "2023-03-29T10:52:04.366Z"
   },
   {
    "duration": 44,
    "start_time": "2023-03-29T10:54:31.394Z"
   },
   {
    "duration": 0,
    "start_time": "2023-03-29T10:54:31.439Z"
   },
   {
    "duration": 0,
    "start_time": "2023-03-29T10:54:31.443Z"
   },
   {
    "duration": 1669,
    "start_time": "2023-03-29T10:54:31.573Z"
   },
   {
    "duration": 3680,
    "start_time": "2023-03-29T10:54:33.244Z"
   },
   {
    "duration": 9,
    "start_time": "2023-03-29T10:54:36.925Z"
   },
   {
    "duration": 21,
    "start_time": "2023-03-29T10:54:36.935Z"
   },
   {
    "duration": 14,
    "start_time": "2023-03-29T10:54:36.958Z"
   },
   {
    "duration": 47,
    "start_time": "2023-03-29T10:54:36.974Z"
   },
   {
    "duration": 27,
    "start_time": "2023-03-29T10:54:37.023Z"
   },
   {
    "duration": 75,
    "start_time": "2023-03-29T10:54:37.052Z"
   },
   {
    "duration": 41,
    "start_time": "2023-03-29T10:54:37.128Z"
   },
   {
    "duration": 99,
    "start_time": "2023-03-29T10:54:37.172Z"
   },
   {
    "duration": 103,
    "start_time": "2023-03-29T10:54:37.273Z"
   },
   {
    "duration": 206,
    "start_time": "2023-03-29T10:54:37.377Z"
   },
   {
    "duration": 173,
    "start_time": "2023-03-29T10:54:37.585Z"
   },
   {
    "duration": 191,
    "start_time": "2023-03-29T10:54:37.760Z"
   },
   {
    "duration": 766,
    "start_time": "2023-03-29T10:54:37.953Z"
   },
   {
    "duration": 204,
    "start_time": "2023-03-29T10:54:38.720Z"
   },
   {
    "duration": 3,
    "start_time": "2023-03-29T10:54:38.926Z"
   },
   {
    "duration": 11,
    "start_time": "2023-03-29T10:54:38.930Z"
   },
   {
    "duration": 8,
    "start_time": "2023-03-29T10:54:38.942Z"
   },
   {
    "duration": 23,
    "start_time": "2023-03-29T10:54:38.953Z"
   },
   {
    "duration": 6,
    "start_time": "2023-03-29T10:54:38.977Z"
   },
   {
    "duration": 22369,
    "start_time": "2023-03-29T10:54:38.984Z"
   },
   {
    "duration": 15,
    "start_time": "2023-03-29T10:55:01.355Z"
   },
   {
    "duration": 135,
    "start_time": "2023-03-29T10:55:01.371Z"
   },
   {
    "duration": 5,
    "start_time": "2023-03-29T10:56:24.070Z"
   },
   {
    "duration": 1315,
    "start_time": "2023-03-29T11:02:16.404Z"
   },
   {
    "duration": 639,
    "start_time": "2023-03-29T11:02:17.721Z"
   },
   {
    "duration": 8,
    "start_time": "2023-03-29T11:02:18.361Z"
   },
   {
    "duration": 7,
    "start_time": "2023-03-29T11:02:18.371Z"
   },
   {
    "duration": 9,
    "start_time": "2023-03-29T11:02:18.379Z"
   },
   {
    "duration": 29,
    "start_time": "2023-03-29T11:02:18.389Z"
   },
   {
    "duration": 3,
    "start_time": "2023-03-29T11:02:18.420Z"
   },
   {
    "duration": 7,
    "start_time": "2023-03-29T11:02:18.424Z"
   },
   {
    "duration": 8,
    "start_time": "2023-03-29T11:02:18.448Z"
   },
   {
    "duration": 66,
    "start_time": "2023-03-29T11:02:18.459Z"
   },
   {
    "duration": 83,
    "start_time": "2023-03-29T11:02:18.527Z"
   },
   {
    "duration": 168,
    "start_time": "2023-03-29T11:02:18.611Z"
   },
   {
    "duration": 146,
    "start_time": "2023-03-29T11:02:18.780Z"
   },
   {
    "duration": 183,
    "start_time": "2023-03-29T11:02:18.927Z"
   },
   {
    "duration": 635,
    "start_time": "2023-03-29T11:02:19.112Z"
   },
   {
    "duration": 229,
    "start_time": "2023-03-29T11:02:19.748Z"
   },
   {
    "duration": 3,
    "start_time": "2023-03-29T11:02:19.978Z"
   },
   {
    "duration": 12,
    "start_time": "2023-03-29T11:02:19.982Z"
   },
   {
    "duration": 16,
    "start_time": "2023-03-29T11:02:19.995Z"
   },
   {
    "duration": 20,
    "start_time": "2023-03-29T11:02:20.012Z"
   },
   {
    "duration": 44,
    "start_time": "2023-03-29T11:02:20.034Z"
   },
   {
    "duration": 19505,
    "start_time": "2023-03-29T11:02:20.079Z"
   },
   {
    "duration": 13,
    "start_time": "2023-03-29T11:02:39.586Z"
   },
   {
    "duration": 12,
    "start_time": "2023-03-29T11:02:39.600Z"
   },
   {
    "duration": 1444,
    "start_time": "2023-03-29T11:08:13.430Z"
   },
   {
    "duration": 778,
    "start_time": "2023-03-29T11:08:14.876Z"
   },
   {
    "duration": 13,
    "start_time": "2023-03-29T11:08:15.656Z"
   },
   {
    "duration": 11,
    "start_time": "2023-03-29T11:08:15.672Z"
   },
   {
    "duration": 7,
    "start_time": "2023-03-29T11:08:15.684Z"
   },
   {
    "duration": 42,
    "start_time": "2023-03-29T11:08:15.692Z"
   },
   {
    "duration": 15,
    "start_time": "2023-03-29T11:08:15.736Z"
   },
   {
    "duration": 20,
    "start_time": "2023-03-29T11:08:15.753Z"
   },
   {
    "duration": 11,
    "start_time": "2023-03-29T11:08:15.775Z"
   },
   {
    "duration": 76,
    "start_time": "2023-03-29T11:08:15.789Z"
   },
   {
    "duration": 115,
    "start_time": "2023-03-29T11:08:15.867Z"
   },
   {
    "duration": 218,
    "start_time": "2023-03-29T11:08:15.984Z"
   },
   {
    "duration": 168,
    "start_time": "2023-03-29T11:08:16.204Z"
   },
   {
    "duration": 208,
    "start_time": "2023-03-29T11:08:16.374Z"
   },
   {
    "duration": 669,
    "start_time": "2023-03-29T11:08:16.584Z"
   },
   {
    "duration": 255,
    "start_time": "2023-03-29T11:08:17.255Z"
   },
   {
    "duration": 3,
    "start_time": "2023-03-29T11:08:17.513Z"
   },
   {
    "duration": 7,
    "start_time": "2023-03-29T11:08:17.518Z"
   },
   {
    "duration": 9,
    "start_time": "2023-03-29T11:08:17.527Z"
   },
   {
    "duration": 13,
    "start_time": "2023-03-29T11:08:17.537Z"
   },
   {
    "duration": 17,
    "start_time": "2023-03-29T11:08:17.552Z"
   },
   {
    "duration": 23128,
    "start_time": "2023-03-29T11:08:17.570Z"
   },
   {
    "duration": 14,
    "start_time": "2023-03-29T11:08:40.700Z"
   },
   {
    "duration": 5,
    "start_time": "2023-03-29T11:08:40.716Z"
   },
   {
    "duration": 432090,
    "start_time": "2023-03-29T11:08:40.723Z"
   },
   {
    "duration": 11,
    "start_time": "2023-03-29T11:15:52.814Z"
   },
   {
    "duration": 24,
    "start_time": "2023-03-29T11:15:52.826Z"
   },
   {
    "duration": 1400,
    "start_time": "2023-03-29T11:15:52.853Z"
   },
   {
    "duration": 97,
    "start_time": "2023-03-29T11:15:54.258Z"
   },
   {
    "duration": 85,
    "start_time": "2023-03-29T11:15:54.357Z"
   },
   {
    "duration": 1428,
    "start_time": "2023-03-29T11:16:19.462Z"
   },
   {
    "duration": 737,
    "start_time": "2023-03-29T11:16:20.892Z"
   },
   {
    "duration": 17,
    "start_time": "2023-03-29T11:16:21.632Z"
   },
   {
    "duration": 34,
    "start_time": "2023-03-29T11:16:21.652Z"
   },
   {
    "duration": 22,
    "start_time": "2023-03-29T11:16:21.688Z"
   },
   {
    "duration": 47,
    "start_time": "2023-03-29T11:16:21.713Z"
   },
   {
    "duration": 11,
    "start_time": "2023-03-29T11:16:21.762Z"
   },
   {
    "duration": 41,
    "start_time": "2023-03-29T11:16:21.775Z"
   },
   {
    "duration": 47,
    "start_time": "2023-03-29T11:16:21.818Z"
   },
   {
    "duration": 108,
    "start_time": "2023-03-29T11:16:21.868Z"
   },
   {
    "duration": 106,
    "start_time": "2023-03-29T11:16:21.977Z"
   },
   {
    "duration": 192,
    "start_time": "2023-03-29T11:16:22.085Z"
   },
   {
    "duration": 170,
    "start_time": "2023-03-29T11:16:22.280Z"
   },
   {
    "duration": 181,
    "start_time": "2023-03-29T11:16:22.452Z"
   },
   {
    "duration": 681,
    "start_time": "2023-03-29T11:16:22.635Z"
   },
   {
    "duration": 243,
    "start_time": "2023-03-29T11:16:23.318Z"
   },
   {
    "duration": 3,
    "start_time": "2023-03-29T11:16:23.563Z"
   },
   {
    "duration": 24,
    "start_time": "2023-03-29T11:16:23.567Z"
   },
   {
    "duration": 39,
    "start_time": "2023-03-29T11:16:23.593Z"
   },
   {
    "duration": 42,
    "start_time": "2023-03-29T11:16:23.633Z"
   },
   {
    "duration": 23,
    "start_time": "2023-03-29T11:16:23.677Z"
   },
   {
    "duration": 21650,
    "start_time": "2023-03-29T11:16:23.701Z"
   },
   {
    "duration": 12,
    "start_time": "2023-03-29T11:16:45.352Z"
   },
   {
    "duration": 5,
    "start_time": "2023-03-29T11:16:45.366Z"
   },
   {
    "duration": 449308,
    "start_time": "2023-03-29T11:16:45.373Z"
   },
   {
    "duration": 19,
    "start_time": "2023-03-29T11:24:14.683Z"
   },
   {
    "duration": 34,
    "start_time": "2023-03-29T11:24:14.704Z"
   },
   {
    "duration": 2428,
    "start_time": "2023-03-29T11:24:14.742Z"
   },
   {
    "duration": 94,
    "start_time": "2023-03-29T11:24:17.174Z"
   },
   {
    "duration": 34681,
    "start_time": "2023-03-29T11:24:17.272Z"
   },
   {
    "duration": 34,
    "start_time": "2023-03-29T11:24:51.955Z"
   },
   {
    "duration": 17,
    "start_time": "2023-03-29T11:24:51.991Z"
   },
   {
    "duration": 29,
    "start_time": "2023-03-29T11:24:52.009Z"
   },
   {
    "duration": 614,
    "start_time": "2023-03-29T11:24:52.041Z"
   },
   {
    "duration": 0,
    "start_time": "2023-03-29T11:24:52.657Z"
   },
   {
    "duration": 0,
    "start_time": "2023-03-29T11:24:52.659Z"
   },
   {
    "duration": 8,
    "start_time": "2023-03-29T11:26:20.686Z"
   },
   {
    "duration": 1708,
    "start_time": "2023-03-29T12:14:33.280Z"
   },
   {
    "duration": 781,
    "start_time": "2023-03-29T12:14:34.990Z"
   },
   {
    "duration": 10,
    "start_time": "2023-03-29T12:14:35.773Z"
   },
   {
    "duration": 38,
    "start_time": "2023-03-29T12:14:35.785Z"
   },
   {
    "duration": 45,
    "start_time": "2023-03-29T12:14:35.824Z"
   },
   {
    "duration": 59,
    "start_time": "2023-03-29T12:14:35.870Z"
   },
   {
    "duration": 5,
    "start_time": "2023-03-29T12:14:35.931Z"
   },
   {
    "duration": 10,
    "start_time": "2023-03-29T12:14:35.937Z"
   },
   {
    "duration": 13,
    "start_time": "2023-03-29T12:14:35.949Z"
   },
   {
    "duration": 106,
    "start_time": "2023-03-29T12:14:35.964Z"
   },
   {
    "duration": 107,
    "start_time": "2023-03-29T12:14:36.071Z"
   },
   {
    "duration": 205,
    "start_time": "2023-03-29T12:14:36.180Z"
   },
   {
    "duration": 143,
    "start_time": "2023-03-29T12:14:36.387Z"
   },
   {
    "duration": 170,
    "start_time": "2023-03-29T12:14:36.532Z"
   },
   {
    "duration": 735,
    "start_time": "2023-03-29T12:14:36.703Z"
   },
   {
    "duration": 226,
    "start_time": "2023-03-29T12:14:37.440Z"
   },
   {
    "duration": 4,
    "start_time": "2023-03-29T12:14:37.668Z"
   },
   {
    "duration": 19,
    "start_time": "2023-03-29T12:14:37.673Z"
   },
   {
    "duration": 29,
    "start_time": "2023-03-29T12:14:37.694Z"
   },
   {
    "duration": 33,
    "start_time": "2023-03-29T12:14:37.725Z"
   },
   {
    "duration": 18,
    "start_time": "2023-03-29T12:14:37.760Z"
   },
   {
    "duration": 19083,
    "start_time": "2023-03-29T12:14:37.779Z"
   },
   {
    "duration": 4,
    "start_time": "2023-03-29T12:14:56.864Z"
   },
   {
    "duration": 13,
    "start_time": "2023-03-29T12:14:56.870Z"
   },
   {
    "duration": 318190,
    "start_time": "2023-03-29T12:14:56.884Z"
   },
   {
    "duration": 7,
    "start_time": "2023-03-29T12:20:15.076Z"
   },
   {
    "duration": 38,
    "start_time": "2023-03-29T12:20:15.085Z"
   },
   {
    "duration": 1827,
    "start_time": "2023-03-29T12:20:15.128Z"
   },
   {
    "duration": 88,
    "start_time": "2023-03-29T12:20:16.962Z"
   },
   {
    "duration": 32146,
    "start_time": "2023-03-29T12:20:17.052Z"
   },
   {
    "duration": 50,
    "start_time": "2023-03-29T12:20:49.200Z"
   },
   {
    "duration": 9,
    "start_time": "2023-03-29T12:20:49.253Z"
   },
   {
    "duration": 17,
    "start_time": "2023-03-29T12:20:49.264Z"
   },
   {
    "duration": 6,
    "start_time": "2023-03-29T12:22:19.554Z"
   },
   {
    "duration": 106670,
    "start_time": "2023-03-29T12:22:21.629Z"
   },
   {
    "duration": 7,
    "start_time": "2023-03-29T12:24:08.302Z"
   },
   {
    "duration": 6,
    "start_time": "2023-03-29T12:24:18.019Z"
   },
   {
    "duration": 1843,
    "start_time": "2023-03-29T12:32:35.803Z"
   },
   {
    "duration": 1328,
    "start_time": "2023-03-29T12:32:37.655Z"
   },
   {
    "duration": 11,
    "start_time": "2023-03-29T12:32:38.985Z"
   },
   {
    "duration": 22,
    "start_time": "2023-03-29T12:32:38.999Z"
   },
   {
    "duration": 12,
    "start_time": "2023-03-29T12:32:39.023Z"
   },
   {
    "duration": 40,
    "start_time": "2023-03-29T12:32:39.060Z"
   },
   {
    "duration": 5,
    "start_time": "2023-03-29T12:32:39.102Z"
   },
   {
    "duration": 15,
    "start_time": "2023-03-29T12:32:39.109Z"
   },
   {
    "duration": 28,
    "start_time": "2023-03-29T12:32:39.127Z"
   },
   {
    "duration": 78,
    "start_time": "2023-03-29T12:32:39.165Z"
   },
   {
    "duration": 110,
    "start_time": "2023-03-29T12:32:39.259Z"
   },
   {
    "duration": 225,
    "start_time": "2023-03-29T12:32:39.371Z"
   },
   {
    "duration": 202,
    "start_time": "2023-03-29T12:32:39.598Z"
   },
   {
    "duration": 222,
    "start_time": "2023-03-29T12:32:39.803Z"
   },
   {
    "duration": 784,
    "start_time": "2023-03-29T12:32:40.027Z"
   },
   {
    "duration": 297,
    "start_time": "2023-03-29T12:32:40.813Z"
   },
   {
    "duration": 5,
    "start_time": "2023-03-29T12:32:41.112Z"
   },
   {
    "duration": 15,
    "start_time": "2023-03-29T12:32:41.118Z"
   },
   {
    "duration": 30,
    "start_time": "2023-03-29T12:32:41.135Z"
   },
   {
    "duration": 11,
    "start_time": "2023-03-29T12:32:41.167Z"
   },
   {
    "duration": 6,
    "start_time": "2023-03-29T12:32:41.179Z"
   },
   {
    "duration": 23993,
    "start_time": "2023-03-29T12:32:41.187Z"
   },
   {
    "duration": 10,
    "start_time": "2023-03-29T12:33:05.182Z"
   },
   {
    "duration": 25,
    "start_time": "2023-03-29T12:33:05.194Z"
   },
   {
    "duration": 76159,
    "start_time": "2023-03-29T12:33:05.221Z"
   },
   {
    "duration": 4,
    "start_time": "2023-03-29T12:34:21.382Z"
   },
   {
    "duration": 6,
    "start_time": "2023-03-29T12:34:21.387Z"
   },
   {
    "duration": 5469,
    "start_time": "2023-03-29T12:34:21.396Z"
   },
   {
    "duration": 6,
    "start_time": "2023-03-29T12:34:26.870Z"
   },
   {
    "duration": 29884,
    "start_time": "2023-03-29T12:34:26.956Z"
   },
   {
    "duration": 38,
    "start_time": "2023-03-29T12:34:56.842Z"
   },
   {
    "duration": 10,
    "start_time": "2023-03-29T12:34:56.882Z"
   },
   {
    "duration": 14,
    "start_time": "2023-03-29T12:34:56.894Z"
   },
   {
    "duration": 1836,
    "start_time": "2023-03-30T10:13:14.210Z"
   },
   {
    "duration": 2784,
    "start_time": "2023-03-30T10:13:16.048Z"
   },
   {
    "duration": 17,
    "start_time": "2023-03-30T10:13:18.834Z"
   },
   {
    "duration": 32,
    "start_time": "2023-03-30T10:13:18.853Z"
   },
   {
    "duration": 8,
    "start_time": "2023-03-30T10:13:18.886Z"
   },
   {
    "duration": 37,
    "start_time": "2023-03-30T10:13:18.896Z"
   },
   {
    "duration": 6,
    "start_time": "2023-03-30T10:13:18.935Z"
   },
   {
    "duration": 29,
    "start_time": "2023-03-30T10:13:18.943Z"
   },
   {
    "duration": 37,
    "start_time": "2023-03-30T10:13:18.974Z"
   },
   {
    "duration": 92,
    "start_time": "2023-03-30T10:13:19.014Z"
   },
   {
    "duration": 103,
    "start_time": "2023-03-30T10:13:19.113Z"
   },
   {
    "duration": 223,
    "start_time": "2023-03-30T10:13:19.219Z"
   },
   {
    "duration": 197,
    "start_time": "2023-03-30T10:13:19.444Z"
   },
   {
    "duration": 213,
    "start_time": "2023-03-30T10:13:19.642Z"
   },
   {
    "duration": 799,
    "start_time": "2023-03-30T10:13:19.857Z"
   },
   {
    "duration": 304,
    "start_time": "2023-03-30T10:13:20.658Z"
   },
   {
    "duration": 3,
    "start_time": "2023-03-30T10:13:20.963Z"
   },
   {
    "duration": 15,
    "start_time": "2023-03-30T10:13:20.969Z"
   },
   {
    "duration": 10,
    "start_time": "2023-03-30T10:13:20.992Z"
   },
   {
    "duration": 5,
    "start_time": "2023-03-30T10:13:21.006Z"
   },
   {
    "duration": 5,
    "start_time": "2023-03-30T10:13:21.014Z"
   },
   {
    "duration": 22609,
    "start_time": "2023-03-30T10:13:21.021Z"
   },
   {
    "duration": 8,
    "start_time": "2023-03-30T10:13:43.632Z"
   },
   {
    "duration": 8,
    "start_time": "2023-03-30T10:13:43.642Z"
   },
   {
    "duration": 63576,
    "start_time": "2023-03-30T10:13:43.652Z"
   },
   {
    "duration": 6,
    "start_time": "2023-03-30T10:14:47.231Z"
   },
   {
    "duration": 19,
    "start_time": "2023-03-30T10:14:47.239Z"
   },
   {
    "duration": 2440,
    "start_time": "2023-03-30T10:14:47.261Z"
   },
   {
    "duration": 9,
    "start_time": "2023-03-30T10:14:49.703Z"
   },
   {
    "duration": 29201,
    "start_time": "2023-03-30T10:14:49.777Z"
   },
   {
    "duration": 43,
    "start_time": "2023-03-30T10:15:18.980Z"
   },
   {
    "duration": 8,
    "start_time": "2023-03-30T10:15:19.025Z"
   },
   {
    "duration": 157,
    "start_time": "2023-03-30T10:15:19.034Z"
   },
   {
    "duration": 14,
    "start_time": "2023-03-30T10:15:35.002Z"
   },
   {
    "duration": 2398,
    "start_time": "2023-03-30T10:29:05.707Z"
   },
   {
    "duration": 21,
    "start_time": "2023-03-30T10:56:52.977Z"
   },
   {
    "duration": 106,
    "start_time": "2023-03-30T10:58:22.846Z"
   },
   {
    "duration": 113,
    "start_time": "2023-03-30T10:58:36.800Z"
   },
   {
    "duration": 137,
    "start_time": "2023-03-30T10:59:41.404Z"
   },
   {
    "duration": 108,
    "start_time": "2023-03-30T11:00:07.473Z"
   },
   {
    "duration": 14,
    "start_time": "2023-03-30T11:14:55.143Z"
   },
   {
    "duration": 1854,
    "start_time": "2023-03-30T11:21:11.270Z"
   },
   {
    "duration": 1065,
    "start_time": "2023-03-30T11:21:13.126Z"
   },
   {
    "duration": 22,
    "start_time": "2023-03-30T11:21:14.196Z"
   },
   {
    "duration": 26,
    "start_time": "2023-03-30T11:21:14.224Z"
   },
   {
    "duration": 12,
    "start_time": "2023-03-30T11:21:14.253Z"
   },
   {
    "duration": 58,
    "start_time": "2023-03-30T11:21:14.268Z"
   },
   {
    "duration": 4,
    "start_time": "2023-03-30T11:21:14.329Z"
   },
   {
    "duration": 7,
    "start_time": "2023-03-30T11:21:14.339Z"
   },
   {
    "duration": 19,
    "start_time": "2023-03-30T11:21:14.348Z"
   },
   {
    "duration": 127,
    "start_time": "2023-03-30T11:21:14.371Z"
   },
   {
    "duration": 142,
    "start_time": "2023-03-30T11:21:14.503Z"
   },
   {
    "duration": 292,
    "start_time": "2023-03-30T11:21:14.648Z"
   },
   {
    "duration": 216,
    "start_time": "2023-03-30T11:21:14.942Z"
   },
   {
    "duration": 232,
    "start_time": "2023-03-30T11:21:15.161Z"
   },
   {
    "duration": 886,
    "start_time": "2023-03-30T11:21:15.395Z"
   },
   {
    "duration": 391,
    "start_time": "2023-03-30T11:21:16.289Z"
   },
   {
    "duration": 2694,
    "start_time": "2023-03-30T11:21:16.682Z"
   },
   {
    "duration": 169,
    "start_time": "2023-03-30T11:21:19.377Z"
   },
   {
    "duration": 0,
    "start_time": "2023-03-30T11:21:19.548Z"
   },
   {
    "duration": 0,
    "start_time": "2023-03-30T11:21:19.550Z"
   },
   {
    "duration": 0,
    "start_time": "2023-03-30T11:21:19.551Z"
   },
   {
    "duration": 0,
    "start_time": "2023-03-30T11:21:19.552Z"
   },
   {
    "duration": 0,
    "start_time": "2023-03-30T11:21:19.554Z"
   },
   {
    "duration": 0,
    "start_time": "2023-03-30T11:21:19.556Z"
   },
   {
    "duration": 0,
    "start_time": "2023-03-30T11:21:19.557Z"
   },
   {
    "duration": 0,
    "start_time": "2023-03-30T11:21:19.559Z"
   },
   {
    "duration": 0,
    "start_time": "2023-03-30T11:21:19.574Z"
   },
   {
    "duration": 0,
    "start_time": "2023-03-30T11:21:19.576Z"
   },
   {
    "duration": 0,
    "start_time": "2023-03-30T11:21:19.577Z"
   },
   {
    "duration": 0,
    "start_time": "2023-03-30T11:21:19.578Z"
   },
   {
    "duration": 0,
    "start_time": "2023-03-30T11:21:19.579Z"
   },
   {
    "duration": 0,
    "start_time": "2023-03-30T11:21:19.579Z"
   },
   {
    "duration": 0,
    "start_time": "2023-03-30T11:21:19.580Z"
   },
   {
    "duration": 0,
    "start_time": "2023-03-30T11:21:19.580Z"
   },
   {
    "duration": 0,
    "start_time": "2023-03-30T11:21:19.581Z"
   },
   {
    "duration": 17,
    "start_time": "2023-03-30T11:21:26.643Z"
   },
   {
    "duration": 2332,
    "start_time": "2023-03-30T11:28:04.193Z"
   },
   {
    "duration": 2339,
    "start_time": "2023-03-30T11:34:22.516Z"
   },
   {
    "duration": 17,
    "start_time": "2023-03-30T11:35:12.899Z"
   },
   {
    "duration": 2440,
    "start_time": "2023-03-30T11:35:27.115Z"
   },
   {
    "duration": 11,
    "start_time": "2023-03-30T11:40:21.462Z"
   },
   {
    "duration": 20,
    "start_time": "2023-03-30T11:40:43.898Z"
   },
   {
    "duration": 6,
    "start_time": "2023-03-30T12:03:19.596Z"
   },
   {
    "duration": 12,
    "start_time": "2023-03-30T12:03:33.777Z"
   },
   {
    "duration": 77,
    "start_time": "2023-03-31T11:06:04.957Z"
   },
   {
    "duration": 9,
    "start_time": "2023-03-31T11:06:29.301Z"
   },
   {
    "duration": 15,
    "start_time": "2023-03-31T11:06:35.271Z"
   },
   {
    "duration": 7,
    "start_time": "2023-03-31T11:07:50.960Z"
   },
   {
    "duration": 5,
    "start_time": "2023-03-31T11:32:33.202Z"
   },
   {
    "duration": 8,
    "start_time": "2023-03-31T11:33:34.071Z"
   },
   {
    "duration": 1635,
    "start_time": "2023-03-31T11:33:41.802Z"
   },
   {
    "duration": 3322,
    "start_time": "2023-03-31T11:33:43.438Z"
   },
   {
    "duration": 9,
    "start_time": "2023-03-31T11:33:46.762Z"
   },
   {
    "duration": 24,
    "start_time": "2023-03-31T11:33:46.774Z"
   },
   {
    "duration": 8,
    "start_time": "2023-03-31T11:33:46.800Z"
   },
   {
    "duration": 29,
    "start_time": "2023-03-31T11:33:46.809Z"
   },
   {
    "duration": 4,
    "start_time": "2023-03-31T11:33:46.839Z"
   },
   {
    "duration": 8,
    "start_time": "2023-03-31T11:33:46.844Z"
   },
   {
    "duration": 20,
    "start_time": "2023-03-31T11:33:46.853Z"
   },
   {
    "duration": 76,
    "start_time": "2023-03-31T11:33:46.876Z"
   },
   {
    "duration": 94,
    "start_time": "2023-03-31T11:33:46.953Z"
   },
   {
    "duration": 213,
    "start_time": "2023-03-31T11:33:47.049Z"
   },
   {
    "duration": 175,
    "start_time": "2023-03-31T11:33:47.264Z"
   },
   {
    "duration": 184,
    "start_time": "2023-03-31T11:33:47.440Z"
   },
   {
    "duration": 711,
    "start_time": "2023-03-31T11:33:47.626Z"
   },
   {
    "duration": 234,
    "start_time": "2023-03-31T11:33:48.338Z"
   },
   {
    "duration": 2153,
    "start_time": "2023-03-31T11:33:48.574Z"
   },
   {
    "duration": 4,
    "start_time": "2023-03-31T11:33:50.729Z"
   },
   {
    "duration": 120,
    "start_time": "2023-03-31T11:33:50.734Z"
   },
   {
    "duration": 0,
    "start_time": "2023-03-31T11:33:50.855Z"
   },
   {
    "duration": 0,
    "start_time": "2023-03-31T11:33:50.857Z"
   },
   {
    "duration": 0,
    "start_time": "2023-03-31T11:33:50.858Z"
   },
   {
    "duration": 0,
    "start_time": "2023-03-31T11:33:50.858Z"
   },
   {
    "duration": 0,
    "start_time": "2023-03-31T11:33:50.860Z"
   },
   {
    "duration": 0,
    "start_time": "2023-03-31T11:33:50.860Z"
   },
   {
    "duration": 0,
    "start_time": "2023-03-31T11:33:50.862Z"
   },
   {
    "duration": 0,
    "start_time": "2023-03-31T11:33:50.863Z"
   },
   {
    "duration": 0,
    "start_time": "2023-03-31T11:33:50.872Z"
   },
   {
    "duration": 0,
    "start_time": "2023-03-31T11:33:50.873Z"
   },
   {
    "duration": 0,
    "start_time": "2023-03-31T11:33:50.874Z"
   },
   {
    "duration": 0,
    "start_time": "2023-03-31T11:33:50.875Z"
   },
   {
    "duration": 0,
    "start_time": "2023-03-31T11:33:50.876Z"
   },
   {
    "duration": 0,
    "start_time": "2023-03-31T11:33:50.877Z"
   },
   {
    "duration": 0,
    "start_time": "2023-03-31T11:33:50.878Z"
   },
   {
    "duration": 0,
    "start_time": "2023-03-31T11:33:50.886Z"
   },
   {
    "duration": 0,
    "start_time": "2023-03-31T11:33:50.887Z"
   },
   {
    "duration": 0,
    "start_time": "2023-03-31T11:33:50.888Z"
   },
   {
    "duration": 4,
    "start_time": "2023-03-31T11:34:31.085Z"
   },
   {
    "duration": 6,
    "start_time": "2023-03-31T11:37:17.060Z"
   },
   {
    "duration": 8,
    "start_time": "2023-03-31T11:38:59.905Z"
   },
   {
    "duration": 3,
    "start_time": "2023-03-31T11:39:21.264Z"
   },
   {
    "duration": 5,
    "start_time": "2023-03-31T11:39:22.207Z"
   },
   {
    "duration": 9,
    "start_time": "2023-03-31T11:39:23.259Z"
   },
   {
    "duration": 8,
    "start_time": "2023-03-31T11:40:08.962Z"
   },
   {
    "duration": 3,
    "start_time": "2023-03-31T11:42:31.056Z"
   },
   {
    "duration": 13,
    "start_time": "2023-03-31T11:42:31.807Z"
   },
   {
    "duration": 6,
    "start_time": "2023-03-31T11:43:28.648Z"
   },
   {
    "duration": 11,
    "start_time": "2023-03-31T11:43:43.532Z"
   },
   {
    "duration": 1233,
    "start_time": "2023-03-31T11:43:54.726Z"
   },
   {
    "duration": 732,
    "start_time": "2023-03-31T11:43:55.960Z"
   },
   {
    "duration": 7,
    "start_time": "2023-03-31T11:43:56.694Z"
   },
   {
    "duration": 9,
    "start_time": "2023-03-31T11:43:56.703Z"
   },
   {
    "duration": 6,
    "start_time": "2023-03-31T11:43:56.713Z"
   },
   {
    "duration": 30,
    "start_time": "2023-03-31T11:43:56.720Z"
   },
   {
    "duration": 21,
    "start_time": "2023-03-31T11:43:56.752Z"
   },
   {
    "duration": 21,
    "start_time": "2023-03-31T11:43:56.775Z"
   },
   {
    "duration": 18,
    "start_time": "2023-03-31T11:43:56.797Z"
   },
   {
    "duration": 57,
    "start_time": "2023-03-31T11:43:56.818Z"
   },
   {
    "duration": 83,
    "start_time": "2023-03-31T11:43:56.876Z"
   },
   {
    "duration": 175,
    "start_time": "2023-03-31T11:43:56.961Z"
   },
   {
    "duration": 176,
    "start_time": "2023-03-31T11:43:57.138Z"
   },
   {
    "duration": 169,
    "start_time": "2023-03-31T11:43:57.316Z"
   },
   {
    "duration": 606,
    "start_time": "2023-03-31T11:43:57.486Z"
   },
   {
    "duration": 207,
    "start_time": "2023-03-31T11:43:58.093Z"
   },
   {
    "duration": 1926,
    "start_time": "2023-03-31T11:43:58.301Z"
   },
   {
    "duration": 4,
    "start_time": "2023-03-31T11:44:00.229Z"
   },
   {
    "duration": 32,
    "start_time": "2023-03-31T11:44:00.234Z"
   },
   {
    "duration": 23,
    "start_time": "2023-03-31T11:44:00.268Z"
   },
   {
    "duration": 62,
    "start_time": "2023-03-31T11:44:00.293Z"
   },
   {
    "duration": 39,
    "start_time": "2023-03-31T11:44:00.357Z"
   },
   {
    "duration": 52,
    "start_time": "2023-03-31T11:44:00.398Z"
   },
   {
    "duration": 36,
    "start_time": "2023-03-31T11:44:00.452Z"
   },
   {
    "duration": 25,
    "start_time": "2023-03-31T11:44:00.490Z"
   },
   {
    "duration": 20598,
    "start_time": "2023-03-31T11:44:00.517Z"
   },
   {
    "duration": 5,
    "start_time": "2023-03-31T11:44:21.116Z"
   },
   {
    "duration": 4,
    "start_time": "2023-03-31T11:44:21.123Z"
   },
   {
    "duration": 1289,
    "start_time": "2023-03-31T11:45:08.303Z"
   },
   {
    "duration": 696,
    "start_time": "2023-03-31T11:45:09.594Z"
   },
   {
    "duration": 9,
    "start_time": "2023-03-31T11:45:10.292Z"
   },
   {
    "duration": 31,
    "start_time": "2023-03-31T11:45:10.303Z"
   },
   {
    "duration": 15,
    "start_time": "2023-03-31T11:45:10.336Z"
   },
   {
    "duration": 26,
    "start_time": "2023-03-31T11:45:10.352Z"
   },
   {
    "duration": 3,
    "start_time": "2023-03-31T11:45:10.380Z"
   },
   {
    "duration": 14,
    "start_time": "2023-03-31T11:45:10.384Z"
   },
   {
    "duration": 9,
    "start_time": "2023-03-31T11:45:10.399Z"
   },
   {
    "duration": 62,
    "start_time": "2023-03-31T11:45:10.410Z"
   },
   {
    "duration": 84,
    "start_time": "2023-03-31T11:45:10.473Z"
   },
   {
    "duration": 181,
    "start_time": "2023-03-31T11:45:10.559Z"
   },
   {
    "duration": 147,
    "start_time": "2023-03-31T11:45:10.742Z"
   },
   {
    "duration": 174,
    "start_time": "2023-03-31T11:45:10.892Z"
   },
   {
    "duration": 607,
    "start_time": "2023-03-31T11:45:11.071Z"
   },
   {
    "duration": 216,
    "start_time": "2023-03-31T11:45:11.680Z"
   },
   {
    "duration": 1942,
    "start_time": "2023-03-31T11:45:11.897Z"
   },
   {
    "duration": 3,
    "start_time": "2023-03-31T11:45:13.840Z"
   },
   {
    "duration": 7,
    "start_time": "2023-03-31T11:45:13.845Z"
   },
   {
    "duration": 7,
    "start_time": "2023-03-31T11:45:13.854Z"
   },
   {
    "duration": 8,
    "start_time": "2023-03-31T11:45:13.863Z"
   },
   {
    "duration": 9,
    "start_time": "2023-03-31T11:45:13.872Z"
   },
   {
    "duration": 6,
    "start_time": "2023-03-31T11:45:13.882Z"
   },
   {
    "duration": 8,
    "start_time": "2023-03-31T11:45:13.889Z"
   },
   {
    "duration": 8,
    "start_time": "2023-03-31T11:45:13.898Z"
   },
   {
    "duration": 19703,
    "start_time": "2023-03-31T11:45:13.907Z"
   },
   {
    "duration": 4,
    "start_time": "2023-03-31T11:45:33.612Z"
   },
   {
    "duration": 17,
    "start_time": "2023-03-31T11:45:33.617Z"
   },
   {
    "duration": 58799,
    "start_time": "2023-03-31T11:45:33.635Z"
   },
   {
    "duration": 4,
    "start_time": "2023-03-31T11:46:32.435Z"
   },
   {
    "duration": 36,
    "start_time": "2023-03-31T11:46:32.440Z"
   },
   {
    "duration": 1509,
    "start_time": "2023-03-31T11:46:32.477Z"
   },
   {
    "duration": 5,
    "start_time": "2023-03-31T11:46:34.073Z"
   },
   {
    "duration": 28944,
    "start_time": "2023-03-31T11:46:34.080Z"
   },
   {
    "duration": 24,
    "start_time": "2023-03-31T11:47:03.026Z"
   },
   {
    "duration": 31,
    "start_time": "2023-03-31T11:47:03.051Z"
   },
   {
    "duration": 38,
    "start_time": "2023-03-31T11:47:03.084Z"
   },
   {
    "duration": 51,
    "start_time": "2023-04-01T14:32:33.702Z"
   },
   {
    "duration": 1671,
    "start_time": "2023-04-01T14:32:41.856Z"
   },
   {
    "duration": 3404,
    "start_time": "2023-04-01T14:32:43.530Z"
   },
   {
    "duration": 14,
    "start_time": "2023-04-01T14:32:46.941Z"
   },
   {
    "duration": 19,
    "start_time": "2023-04-01T14:32:46.958Z"
   },
   {
    "duration": 7,
    "start_time": "2023-04-01T14:32:46.979Z"
   },
   {
    "duration": 61,
    "start_time": "2023-04-01T14:32:46.988Z"
   },
   {
    "duration": 5,
    "start_time": "2023-04-01T14:32:47.051Z"
   },
   {
    "duration": 25,
    "start_time": "2023-04-01T14:32:47.058Z"
   },
   {
    "duration": 42,
    "start_time": "2023-04-01T14:32:47.085Z"
   },
   {
    "duration": 133,
    "start_time": "2023-04-01T14:32:47.130Z"
   },
   {
    "duration": 105,
    "start_time": "2023-04-01T14:32:47.265Z"
   },
   {
    "duration": 220,
    "start_time": "2023-04-01T14:32:47.372Z"
   },
   {
    "duration": 192,
    "start_time": "2023-04-01T14:32:47.594Z"
   },
   {
    "duration": 213,
    "start_time": "2023-04-01T14:32:47.788Z"
   },
   {
    "duration": 716,
    "start_time": "2023-04-01T14:32:48.003Z"
   },
   {
    "duration": 306,
    "start_time": "2023-04-01T14:32:48.721Z"
   },
   {
    "duration": 2302,
    "start_time": "2023-04-01T14:32:49.030Z"
   },
   {
    "duration": 31,
    "start_time": "2023-04-01T14:32:51.334Z"
   },
   {
    "duration": 20,
    "start_time": "2023-04-01T14:32:51.367Z"
   },
   {
    "duration": 131,
    "start_time": "2023-04-01T14:32:51.390Z"
   },
   {
    "duration": 0,
    "start_time": "2023-04-01T14:32:51.523Z"
   },
   {
    "duration": 1,
    "start_time": "2023-04-01T14:32:51.524Z"
   },
   {
    "duration": 0,
    "start_time": "2023-04-01T14:32:51.526Z"
   },
   {
    "duration": 0,
    "start_time": "2023-04-01T14:32:51.528Z"
   },
   {
    "duration": 0,
    "start_time": "2023-04-01T14:32:51.529Z"
   },
   {
    "duration": 0,
    "start_time": "2023-04-01T14:32:51.542Z"
   },
   {
    "duration": 0,
    "start_time": "2023-04-01T14:32:51.544Z"
   },
   {
    "duration": 0,
    "start_time": "2023-04-01T14:32:51.546Z"
   },
   {
    "duration": 0,
    "start_time": "2023-04-01T14:32:51.547Z"
   },
   {
    "duration": 0,
    "start_time": "2023-04-01T14:32:51.548Z"
   },
   {
    "duration": 0,
    "start_time": "2023-04-01T14:32:51.550Z"
   },
   {
    "duration": 0,
    "start_time": "2023-04-01T14:32:51.551Z"
   },
   {
    "duration": 0,
    "start_time": "2023-04-01T14:32:51.553Z"
   },
   {
    "duration": 0,
    "start_time": "2023-04-01T14:32:51.554Z"
   },
   {
    "duration": 0,
    "start_time": "2023-04-01T14:32:51.555Z"
   },
   {
    "duration": 0,
    "start_time": "2023-04-01T14:32:51.556Z"
   },
   {
    "duration": 0,
    "start_time": "2023-04-01T14:32:51.557Z"
   },
   {
    "duration": 0,
    "start_time": "2023-04-01T14:32:51.559Z"
   },
   {
    "duration": 1516,
    "start_time": "2023-04-01T14:34:13.823Z"
   },
   {
    "duration": 920,
    "start_time": "2023-04-01T14:34:15.342Z"
   },
   {
    "duration": 15,
    "start_time": "2023-04-01T14:34:16.264Z"
   },
   {
    "duration": 24,
    "start_time": "2023-04-01T14:34:16.281Z"
   },
   {
    "duration": 14,
    "start_time": "2023-04-01T14:34:16.307Z"
   },
   {
    "duration": 53,
    "start_time": "2023-04-01T14:34:16.323Z"
   },
   {
    "duration": 7,
    "start_time": "2023-04-01T14:34:16.379Z"
   },
   {
    "duration": 14,
    "start_time": "2023-04-01T14:34:16.389Z"
   },
   {
    "duration": 17,
    "start_time": "2023-04-01T14:34:16.405Z"
   },
   {
    "duration": 124,
    "start_time": "2023-04-01T14:34:16.442Z"
   },
   {
    "duration": 161,
    "start_time": "2023-04-01T14:34:16.568Z"
   },
   {
    "duration": 215,
    "start_time": "2023-04-01T14:34:16.736Z"
   },
   {
    "duration": 175,
    "start_time": "2023-04-01T14:34:16.953Z"
   },
   {
    "duration": 219,
    "start_time": "2023-04-01T14:34:17.130Z"
   },
   {
    "duration": 739,
    "start_time": "2023-04-01T14:34:17.351Z"
   },
   {
    "duration": 318,
    "start_time": "2023-04-01T14:34:18.093Z"
   },
   {
    "duration": 2270,
    "start_time": "2023-04-01T14:34:18.413Z"
   },
   {
    "duration": 24,
    "start_time": "2023-04-01T14:34:20.685Z"
   },
   {
    "duration": 13,
    "start_time": "2023-04-01T14:34:20.711Z"
   },
   {
    "duration": 5,
    "start_time": "2023-04-01T14:34:20.726Z"
   },
   {
    "duration": 5,
    "start_time": "2023-04-01T14:34:20.733Z"
   },
   {
    "duration": 9,
    "start_time": "2023-04-01T14:34:20.741Z"
   },
   {
    "duration": 5,
    "start_time": "2023-04-01T14:34:20.752Z"
   },
   {
    "duration": 11,
    "start_time": "2023-04-01T14:34:20.759Z"
   },
   {
    "duration": 21,
    "start_time": "2023-04-01T14:34:20.772Z"
   },
   {
    "duration": 25,
    "start_time": "2023-04-01T14:34:20.795Z"
   },
   {
    "duration": 20205,
    "start_time": "2023-04-01T14:34:20.821Z"
   },
   {
    "duration": 15,
    "start_time": "2023-04-01T14:34:41.029Z"
   },
   {
    "duration": 33,
    "start_time": "2023-04-01T14:34:41.046Z"
   },
   {
    "duration": 55598,
    "start_time": "2023-04-01T14:34:41.082Z"
   },
   {
    "duration": 6,
    "start_time": "2023-04-01T14:35:36.682Z"
   },
   {
    "duration": 29,
    "start_time": "2023-04-01T14:35:36.690Z"
   },
   {
    "duration": 2430,
    "start_time": "2023-04-01T14:35:36.721Z"
   },
   {
    "duration": 93,
    "start_time": "2023-04-01T14:35:39.156Z"
   },
   {
    "duration": 28025,
    "start_time": "2023-04-01T14:35:39.252Z"
   },
   {
    "duration": 47,
    "start_time": "2023-04-01T14:36:07.279Z"
   },
   {
    "duration": 51,
    "start_time": "2023-04-01T14:36:07.340Z"
   },
   {
    "duration": 39,
    "start_time": "2023-04-01T14:36:07.393Z"
   },
   {
    "duration": 28,
    "start_time": "2023-04-01T14:38:34.208Z"
   },
   {
    "duration": 1653,
    "start_time": "2023-04-01T14:47:35.917Z"
   },
   {
    "duration": 929,
    "start_time": "2023-04-01T14:47:37.573Z"
   },
   {
    "duration": 15,
    "start_time": "2023-04-01T14:47:38.504Z"
   },
   {
    "duration": 58,
    "start_time": "2023-04-01T14:47:38.522Z"
   },
   {
    "duration": 20,
    "start_time": "2023-04-01T14:47:38.583Z"
   },
   {
    "duration": 52,
    "start_time": "2023-04-01T14:47:38.605Z"
   },
   {
    "duration": 6,
    "start_time": "2023-04-01T14:47:38.659Z"
   },
   {
    "duration": 10,
    "start_time": "2023-04-01T14:47:38.667Z"
   },
   {
    "duration": 23,
    "start_time": "2023-04-01T14:47:38.679Z"
   },
   {
    "duration": 122,
    "start_time": "2023-04-01T14:47:38.706Z"
   },
   {
    "duration": 121,
    "start_time": "2023-04-01T14:47:38.830Z"
   },
   {
    "duration": 219,
    "start_time": "2023-04-01T14:47:38.953Z"
   },
   {
    "duration": 203,
    "start_time": "2023-04-01T14:47:39.174Z"
   },
   {
    "duration": 215,
    "start_time": "2023-04-01T14:47:39.380Z"
   },
   {
    "duration": 743,
    "start_time": "2023-04-01T14:47:39.598Z"
   },
   {
    "duration": 347,
    "start_time": "2023-04-01T14:47:40.344Z"
   },
   {
    "duration": 2430,
    "start_time": "2023-04-01T14:47:40.693Z"
   },
   {
    "duration": 36,
    "start_time": "2023-04-01T14:47:43.126Z"
   },
   {
    "duration": 34,
    "start_time": "2023-04-01T14:47:43.164Z"
   },
   {
    "duration": 4,
    "start_time": "2023-04-01T14:47:43.200Z"
   },
   {
    "duration": 17,
    "start_time": "2023-04-01T14:47:43.206Z"
   },
   {
    "duration": 4,
    "start_time": "2023-04-01T14:47:43.242Z"
   },
   {
    "duration": 18,
    "start_time": "2023-04-01T14:47:43.250Z"
   },
   {
    "duration": 8,
    "start_time": "2023-04-01T14:47:43.270Z"
   },
   {
    "duration": 22,
    "start_time": "2023-04-01T14:47:43.282Z"
   },
   {
    "duration": 6,
    "start_time": "2023-04-01T14:47:43.307Z"
   },
   {
    "duration": 11,
    "start_time": "2023-04-01T14:47:43.315Z"
   },
   {
    "duration": 20553,
    "start_time": "2023-04-01T14:47:43.343Z"
   },
   {
    "duration": 8,
    "start_time": "2023-04-01T14:48:03.898Z"
   },
   {
    "duration": 16,
    "start_time": "2023-04-01T14:48:03.908Z"
   },
   {
    "duration": 70001,
    "start_time": "2023-04-01T14:48:03.927Z"
   },
   {
    "duration": 11,
    "start_time": "2023-04-01T14:49:13.931Z"
   },
   {
    "duration": 10,
    "start_time": "2023-04-01T14:49:13.944Z"
   },
   {
    "duration": 1803,
    "start_time": "2023-04-01T14:49:13.956Z"
   },
   {
    "duration": 7,
    "start_time": "2023-04-01T14:49:15.842Z"
   },
   {
    "duration": 29116,
    "start_time": "2023-04-01T14:49:15.851Z"
   },
   {
    "duration": 47,
    "start_time": "2023-04-01T14:49:44.969Z"
   },
   {
    "duration": 28,
    "start_time": "2023-04-01T14:49:45.018Z"
   },
   {
    "duration": 16,
    "start_time": "2023-04-01T14:49:45.049Z"
   },
   {
    "duration": 26,
    "start_time": "2023-04-01T15:21:58.580Z"
   },
   {
    "duration": 1340,
    "start_time": "2023-04-01T15:27:29.279Z"
   },
   {
    "duration": 20,
    "start_time": "2023-04-01T15:27:31.206Z"
   },
   {
    "duration": 15,
    "start_time": "2023-04-01T15:27:46.308Z"
   },
   {
    "duration": 21,
    "start_time": "2023-04-01T15:27:48.479Z"
   },
   {
    "duration": 24,
    "start_time": "2023-04-01T15:28:34.711Z"
   },
   {
    "duration": 34,
    "start_time": "2023-04-01T15:28:38.670Z"
   },
   {
    "duration": 36,
    "start_time": "2023-04-01T15:28:56.144Z"
   },
   {
    "duration": 15,
    "start_time": "2023-04-01T15:29:14.204Z"
   },
   {
    "duration": 18,
    "start_time": "2023-04-01T15:29:41.371Z"
   },
   {
    "duration": 30,
    "start_time": "2023-04-01T15:29:44.635Z"
   },
   {
    "duration": 12,
    "start_time": "2023-04-01T15:30:01.506Z"
   },
   {
    "duration": 16,
    "start_time": "2023-04-01T15:30:02.172Z"
   },
   {
    "duration": 14,
    "start_time": "2023-04-01T15:30:24.313Z"
   },
   {
    "duration": 24,
    "start_time": "2023-04-01T15:30:25.766Z"
   },
   {
    "duration": 1614,
    "start_time": "2023-04-01T15:30:51.704Z"
   },
   {
    "duration": 936,
    "start_time": "2023-04-01T15:30:53.321Z"
   },
   {
    "duration": 17,
    "start_time": "2023-04-01T15:30:54.259Z"
   },
   {
    "duration": 12,
    "start_time": "2023-04-01T15:30:54.280Z"
   },
   {
    "duration": 6,
    "start_time": "2023-04-01T15:30:54.294Z"
   },
   {
    "duration": 58,
    "start_time": "2023-04-01T15:30:54.303Z"
   },
   {
    "duration": 5,
    "start_time": "2023-04-01T15:30:54.363Z"
   },
   {
    "duration": 21,
    "start_time": "2023-04-01T15:30:54.369Z"
   },
   {
    "duration": 14,
    "start_time": "2023-04-01T15:30:54.392Z"
   },
   {
    "duration": 115,
    "start_time": "2023-04-01T15:30:54.409Z"
   },
   {
    "duration": 108,
    "start_time": "2023-04-01T15:30:54.526Z"
   },
   {
    "duration": 238,
    "start_time": "2023-04-01T15:30:54.648Z"
   },
   {
    "duration": 188,
    "start_time": "2023-04-01T15:30:54.888Z"
   },
   {
    "duration": 230,
    "start_time": "2023-04-01T15:30:55.077Z"
   },
   {
    "duration": 834,
    "start_time": "2023-04-01T15:30:55.309Z"
   },
   {
    "duration": 352,
    "start_time": "2023-04-01T15:30:56.146Z"
   },
   {
    "duration": 2487,
    "start_time": "2023-04-01T15:30:56.500Z"
   },
   {
    "duration": 36,
    "start_time": "2023-04-01T15:30:58.990Z"
   },
   {
    "duration": 65,
    "start_time": "2023-04-01T15:30:59.029Z"
   },
   {
    "duration": 26,
    "start_time": "2023-04-01T15:30:59.096Z"
   },
   {
    "duration": 49,
    "start_time": "2023-04-01T15:30:59.125Z"
   },
   {
    "duration": 42,
    "start_time": "2023-04-01T15:30:59.177Z"
   },
   {
    "duration": 71,
    "start_time": "2023-04-01T15:30:59.222Z"
   },
   {
    "duration": 20,
    "start_time": "2023-04-01T15:30:59.295Z"
   },
   {
    "duration": 21158,
    "start_time": "2023-04-01T15:30:59.317Z"
   },
   {
    "duration": 5,
    "start_time": "2023-04-01T15:31:20.478Z"
   },
   {
    "duration": 9,
    "start_time": "2023-04-01T15:31:20.484Z"
   },
   {
    "duration": 72592,
    "start_time": "2023-04-01T15:31:20.497Z"
   },
   {
    "duration": 4,
    "start_time": "2023-04-01T15:32:33.091Z"
   },
   {
    "duration": 4,
    "start_time": "2023-04-01T15:32:33.097Z"
   },
   {
    "duration": 3762,
    "start_time": "2023-04-01T15:32:33.102Z"
   },
   {
    "duration": 6,
    "start_time": "2023-04-01T15:32:36.944Z"
   },
   {
    "duration": 28292,
    "start_time": "2023-04-01T15:32:36.954Z"
   },
   {
    "duration": 53,
    "start_time": "2023-04-01T15:33:05.255Z"
   },
   {
    "duration": 11,
    "start_time": "2023-04-01T15:33:05.314Z"
   },
   {
    "duration": 31,
    "start_time": "2023-04-01T15:33:05.327Z"
   },
   {
    "duration": 20,
    "start_time": "2023-04-01T15:35:31.169Z"
   },
   {
    "duration": 17,
    "start_time": "2023-04-01T15:35:39.583Z"
   },
   {
    "duration": 23,
    "start_time": "2023-04-01T15:35:42.715Z"
   },
   {
    "duration": 31,
    "start_time": "2023-04-01T15:35:50.480Z"
   },
   {
    "duration": 27,
    "start_time": "2023-04-01T15:36:02.174Z"
   },
   {
    "duration": 1753,
    "start_time": "2023-04-01T15:36:33.748Z"
   },
   {
    "duration": 1095,
    "start_time": "2023-04-01T15:36:35.503Z"
   },
   {
    "duration": 12,
    "start_time": "2023-04-01T15:36:36.600Z"
   },
   {
    "duration": 45,
    "start_time": "2023-04-01T15:36:36.615Z"
   },
   {
    "duration": 40,
    "start_time": "2023-04-01T15:36:36.667Z"
   },
   {
    "duration": 65,
    "start_time": "2023-04-01T15:36:36.709Z"
   },
   {
    "duration": 23,
    "start_time": "2023-04-01T15:36:36.776Z"
   },
   {
    "duration": 13,
    "start_time": "2023-04-01T15:36:36.801Z"
   },
   {
    "duration": 18,
    "start_time": "2023-04-01T15:36:36.815Z"
   },
   {
    "duration": 148,
    "start_time": "2023-04-01T15:36:36.835Z"
   },
   {
    "duration": 102,
    "start_time": "2023-04-01T15:36:36.987Z"
   },
   {
    "duration": 239,
    "start_time": "2023-04-01T15:36:37.091Z"
   },
   {
    "duration": 203,
    "start_time": "2023-04-01T15:36:37.332Z"
   },
   {
    "duration": 239,
    "start_time": "2023-04-01T15:36:37.539Z"
   },
   {
    "duration": 724,
    "start_time": "2023-04-01T15:36:37.780Z"
   },
   {
    "duration": 348,
    "start_time": "2023-04-01T15:36:38.507Z"
   },
   {
    "duration": 2613,
    "start_time": "2023-04-01T15:36:38.864Z"
   },
   {
    "duration": 24,
    "start_time": "2023-04-01T15:36:41.479Z"
   },
   {
    "duration": 35,
    "start_time": "2023-04-01T15:36:41.505Z"
   },
   {
    "duration": 10,
    "start_time": "2023-04-01T15:36:41.546Z"
   },
   {
    "duration": 30,
    "start_time": "2023-04-01T15:36:41.557Z"
   },
   {
    "duration": 10,
    "start_time": "2023-04-01T15:36:41.589Z"
   },
   {
    "duration": 8,
    "start_time": "2023-04-01T15:36:41.601Z"
   },
   {
    "duration": 10,
    "start_time": "2023-04-01T15:36:41.611Z"
   },
   {
    "duration": 21606,
    "start_time": "2023-04-01T15:36:41.623Z"
   },
   {
    "duration": 32,
    "start_time": "2023-04-01T15:37:03.231Z"
   },
   {
    "duration": 69,
    "start_time": "2023-04-01T15:37:03.266Z"
   },
   {
    "duration": 75523,
    "start_time": "2023-04-01T15:37:03.338Z"
   },
   {
    "duration": 13,
    "start_time": "2023-04-01T15:38:18.863Z"
   },
   {
    "duration": 26,
    "start_time": "2023-04-01T15:38:18.881Z"
   },
   {
    "duration": 4571,
    "start_time": "2023-04-01T15:38:18.909Z"
   },
   {
    "duration": 62,
    "start_time": "2023-04-01T15:38:23.487Z"
   },
   {
    "duration": 29570,
    "start_time": "2023-04-01T15:38:23.563Z"
   },
   {
    "duration": 44,
    "start_time": "2023-04-01T15:38:53.152Z"
   },
   {
    "duration": 12,
    "start_time": "2023-04-01T15:38:53.198Z"
   },
   {
    "duration": 35,
    "start_time": "2023-04-01T15:38:53.212Z"
   },
   {
    "duration": 1646,
    "start_time": "2023-04-01T15:38:58.350Z"
   },
   {
    "duration": 1031,
    "start_time": "2023-04-01T15:38:59.999Z"
   },
   {
    "duration": 21,
    "start_time": "2023-04-01T15:39:01.031Z"
   },
   {
    "duration": 69,
    "start_time": "2023-04-01T15:39:01.059Z"
   },
   {
    "duration": 78,
    "start_time": "2023-04-01T15:39:01.130Z"
   },
   {
    "duration": 75,
    "start_time": "2023-04-01T15:39:01.211Z"
   },
   {
    "duration": 6,
    "start_time": "2023-04-01T15:39:01.289Z"
   },
   {
    "duration": 12,
    "start_time": "2023-04-01T15:39:01.298Z"
   },
   {
    "duration": 20,
    "start_time": "2023-04-01T15:39:01.312Z"
   },
   {
    "duration": 176,
    "start_time": "2023-04-01T15:39:01.347Z"
   },
   {
    "duration": 117,
    "start_time": "2023-04-01T15:39:01.525Z"
   },
   {
    "duration": 254,
    "start_time": "2023-04-01T15:39:01.645Z"
   },
   {
    "duration": 233,
    "start_time": "2023-04-01T15:39:01.901Z"
   },
   {
    "duration": 248,
    "start_time": "2023-04-01T15:39:02.136Z"
   },
   {
    "duration": 721,
    "start_time": "2023-04-01T15:39:02.387Z"
   },
   {
    "duration": 346,
    "start_time": "2023-04-01T15:39:03.110Z"
   },
   {
    "duration": 2425,
    "start_time": "2023-04-01T15:39:03.458Z"
   },
   {
    "duration": 24,
    "start_time": "2023-04-01T15:39:05.885Z"
   },
   {
    "duration": 81,
    "start_time": "2023-04-01T15:39:05.911Z"
   },
   {
    "duration": 5,
    "start_time": "2023-04-01T15:39:05.994Z"
   },
   {
    "duration": 6,
    "start_time": "2023-04-01T15:39:06.001Z"
   },
   {
    "duration": 19,
    "start_time": "2023-04-01T15:39:06.009Z"
   },
   {
    "duration": 61,
    "start_time": "2023-04-01T15:39:06.030Z"
   },
   {
    "duration": 9,
    "start_time": "2023-04-01T15:39:06.094Z"
   },
   {
    "duration": 22418,
    "start_time": "2023-04-01T15:39:06.105Z"
   },
   {
    "duration": 8,
    "start_time": "2023-04-01T15:39:28.525Z"
   },
   {
    "duration": 52,
    "start_time": "2023-04-01T15:39:28.541Z"
   },
   {
    "duration": 78093,
    "start_time": "2023-04-01T15:39:28.598Z"
   },
   {
    "duration": 6,
    "start_time": "2023-04-01T15:40:46.694Z"
   },
   {
    "duration": 23,
    "start_time": "2023-04-01T15:40:46.702Z"
   },
   {
    "duration": 4154,
    "start_time": "2023-04-01T15:40:46.727Z"
   },
   {
    "duration": 28,
    "start_time": "2023-04-01T15:40:50.945Z"
   },
   {
    "duration": 30259,
    "start_time": "2023-04-01T15:40:50.986Z"
   },
   {
    "duration": 49,
    "start_time": "2023-04-01T15:41:21.248Z"
   },
   {
    "duration": 39,
    "start_time": "2023-04-01T15:41:21.300Z"
   },
   {
    "duration": 53,
    "start_time": "2023-04-01T15:41:21.341Z"
   }
  ],
  "kernelspec": {
   "display_name": "Python 3 (ipykernel)",
   "language": "python",
   "name": "python3"
  },
  "language_info": {
   "codemirror_mode": {
    "name": "ipython",
    "version": 3
   },
   "file_extension": ".py",
   "mimetype": "text/x-python",
   "name": "python",
   "nbconvert_exporter": "python",
   "pygments_lexer": "ipython3",
   "version": "3.9.5"
  },
  "toc": {
   "base_numbering": 1,
   "nav_menu": {},
   "number_sections": true,
   "sideBar": true,
   "skip_h1_title": true,
   "title_cell": "Содержание",
   "title_sidebar": "Contents",
   "toc_cell": true,
   "toc_position": {
    "height": "calc(100% - 180px)",
    "left": "10px",
    "top": "150px",
    "width": "165px"
   },
   "toc_section_display": true,
   "toc_window_display": true
  }
 },
 "nbformat": 4,
 "nbformat_minor": 2
}
