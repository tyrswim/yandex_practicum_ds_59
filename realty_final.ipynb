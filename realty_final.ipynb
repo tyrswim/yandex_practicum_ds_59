{
 "cells": [
  {
   "cell_type": "markdown",
   "metadata": {},
   "source": [
    "<div class=\"alert alert-success\">\n",
    "<b>Комментарий ревьюера v 3.0 ✔️:</b> Отлично, Антон! Ты здорово поработал над комментариями и теперь твой проект принят.\n",
    "    \n",
    "Спасибо за работу и успехов в следующих проектах!)"
   ]
  },
  {
   "cell_type": "markdown",
   "metadata": {},
   "source": [
    "<div class=\"alert alert-danger\">\n",
    "<b>Комментарий ревьюера v 2.0 ❌:</b> Антон, ты хорошо поработал над комментариями, но все же у меня еще остались замечания, они отмечены v 2.0 и красным цветом. Пожалуйста, исправь их и я буду рад принять твой проект)"
   ]
  },
  {
   "cell_type": "markdown",
   "metadata": {},
   "source": [
    "<div style=\"border:solid green 2px; padding: 20px\">\n",
    "<b>Привет!</b>\n",
    "\n",
    "Меня зовут Михаленко Дмитрий, и я буду проверять твой проект. Предлагаю общаться на «ты» :) Но если это не удобно - дай знать, и мы перейдем на \"вы\". \n",
    "\n",
    "Моя основная цель — не указать на совершенные тобою ошибки, а поделиться своим опытом и помочь тебе стать аналитиком данных. Ты уже проделал большую работу над проектом, но давай сделаем его еще лучше. Ниже ты найдешь мои комментарии - **пожалуйста, не перемещай, не изменяй и не удаляй их**. Увидев у тебя ошибку, в первый раз я лишь укажу на ее наличие и дам тебе возможность самому найти и исправить ее. На реальной работе твой начальник будет поступать так же, а я пытаюсь подготовить тебя именно к работе аналитиком. Но если ты пока не справишься с такой задачей - при следующей проверке я дам более точную подсказку. Я буду использовать цветовую разметку:\n",
    "\n",
    "<div class=\"alert alert-danger\">\n",
    "<b>Комментарий ревьюера ❌:</b> Так выделены самые важные замечания. Без их отработки проект не будет принят. </div>\n",
    "\n",
    "<div class=\"alert alert-warning\">\n",
    "<b>Комментарий ревьюера ⚠️:</b> Так выделены небольшие замечания. Я надеюсь, что их ты тоже учтешь - твой проект от этого станет только лучше. Но настаивать на их отработке не буду.\n",
    "\n",
    "</div>\n",
    "\n",
    "<div class=\"alert alert-success\">\n",
    "<b>Комментарий ревьюера ✔️:</b> Так я выделяю все остальные комментарии.</div>\n",
    "\n",
    "Давай работать над проектом в диалоге: **если ты что-то меняешь в проекте или отвечаешь на мои комментарии — пиши об этом.** Мне будет легче отследить изменения, если ты выделишь свои комментарии:\n",
    "<div class=\"alert alert-info\"> <b>Комментарий студента:</b> Например, вот так.</div>\n",
    "\n",
    "Всё это поможет выполнить повторную проверку твоего проекта оперативнее. "
   ]
  },
  {
   "cell_type": "markdown",
   "metadata": {},
   "source": [
    "# Исследование объявлений о продаже квартир\n",
    "\n",
    "В вашем распоряжении данные сервиса Яндекс.Недвижимость — архив объявлений о продаже квартир в Санкт-Петербурге и соседних населённых пунктов за несколько лет. Нужно научиться определять рыночную стоимость объектов недвижимости. Ваша задача — установить параметры. Это позволит построить автоматизированную систему: она отследит аномалии и мошенническую деятельность. \n",
    "\n",
    "По каждой квартире на продажу доступны два вида данных. Первые вписаны пользователем, вторые — получены автоматически на основе картографических данных. Например, расстояние до центра, аэропорта, ближайшего парка и водоёма. "
   ]
  },
  {
   "cell_type": "markdown",
   "metadata": {},
   "source": [
    "<div class=\"alert alert-success\">\n",
    "<b>Комментарий ревьюера ✔️:</b> Объёмная и творческая аналитическая задача, тем интереснее будет с ней справиться! </div>"
   ]
  },
  {
   "cell_type": "markdown",
   "metadata": {},
   "source": [
    "### Откройте файл с данными и изучите общую информацию. "
   ]
  },
  {
   "cell_type": "code",
   "execution_count": 1,
   "metadata": {},
   "outputs": [
    {
     "data": {
      "text/html": [
       "<div>\n",
       "<style scoped>\n",
       "    .dataframe tbody tr th:only-of-type {\n",
       "        vertical-align: middle;\n",
       "    }\n",
       "\n",
       "    .dataframe tbody tr th {\n",
       "        vertical-align: top;\n",
       "    }\n",
       "\n",
       "    .dataframe thead th {\n",
       "        text-align: right;\n",
       "    }\n",
       "</style>\n",
       "<table border=\"1\" class=\"dataframe\">\n",
       "  <thead>\n",
       "    <tr style=\"text-align: right;\">\n",
       "      <th></th>\n",
       "      <th>total_images</th>\n",
       "      <th>last_price</th>\n",
       "      <th>total_area</th>\n",
       "      <th>first_day_exposition</th>\n",
       "      <th>rooms</th>\n",
       "      <th>ceiling_height</th>\n",
       "      <th>floors_total</th>\n",
       "      <th>living_area</th>\n",
       "      <th>floor</th>\n",
       "      <th>is_apartment</th>\n",
       "      <th>...</th>\n",
       "      <th>kitchen_area</th>\n",
       "      <th>balcony</th>\n",
       "      <th>locality_name</th>\n",
       "      <th>airports_nearest</th>\n",
       "      <th>cityCenters_nearest</th>\n",
       "      <th>parks_around3000</th>\n",
       "      <th>parks_nearest</th>\n",
       "      <th>ponds_around3000</th>\n",
       "      <th>ponds_nearest</th>\n",
       "      <th>days_exposition</th>\n",
       "    </tr>\n",
       "  </thead>\n",
       "  <tbody>\n",
       "    <tr>\n",
       "      <th>0</th>\n",
       "      <td>20</td>\n",
       "      <td>13000000.0</td>\n",
       "      <td>108.00</td>\n",
       "      <td>2019-03-07T00:00:00</td>\n",
       "      <td>3</td>\n",
       "      <td>2.70</td>\n",
       "      <td>16.0</td>\n",
       "      <td>51.00</td>\n",
       "      <td>8</td>\n",
       "      <td>NaN</td>\n",
       "      <td>...</td>\n",
       "      <td>25.00</td>\n",
       "      <td>NaN</td>\n",
       "      <td>Санкт-Петербург</td>\n",
       "      <td>18863.0</td>\n",
       "      <td>16028.0</td>\n",
       "      <td>1.0</td>\n",
       "      <td>482.0</td>\n",
       "      <td>2.0</td>\n",
       "      <td>755.0</td>\n",
       "      <td>NaN</td>\n",
       "    </tr>\n",
       "    <tr>\n",
       "      <th>1</th>\n",
       "      <td>7</td>\n",
       "      <td>3350000.0</td>\n",
       "      <td>40.40</td>\n",
       "      <td>2018-12-04T00:00:00</td>\n",
       "      <td>1</td>\n",
       "      <td>NaN</td>\n",
       "      <td>11.0</td>\n",
       "      <td>18.60</td>\n",
       "      <td>1</td>\n",
       "      <td>NaN</td>\n",
       "      <td>...</td>\n",
       "      <td>11.00</td>\n",
       "      <td>2.0</td>\n",
       "      <td>посёлок Шушары</td>\n",
       "      <td>12817.0</td>\n",
       "      <td>18603.0</td>\n",
       "      <td>0.0</td>\n",
       "      <td>NaN</td>\n",
       "      <td>0.0</td>\n",
       "      <td>NaN</td>\n",
       "      <td>81.0</td>\n",
       "    </tr>\n",
       "    <tr>\n",
       "      <th>2</th>\n",
       "      <td>10</td>\n",
       "      <td>5196000.0</td>\n",
       "      <td>56.00</td>\n",
       "      <td>2015-08-20T00:00:00</td>\n",
       "      <td>2</td>\n",
       "      <td>NaN</td>\n",
       "      <td>5.0</td>\n",
       "      <td>34.30</td>\n",
       "      <td>4</td>\n",
       "      <td>NaN</td>\n",
       "      <td>...</td>\n",
       "      <td>8.30</td>\n",
       "      <td>0.0</td>\n",
       "      <td>Санкт-Петербург</td>\n",
       "      <td>21741.0</td>\n",
       "      <td>13933.0</td>\n",
       "      <td>1.0</td>\n",
       "      <td>90.0</td>\n",
       "      <td>2.0</td>\n",
       "      <td>574.0</td>\n",
       "      <td>558.0</td>\n",
       "    </tr>\n",
       "    <tr>\n",
       "      <th>3</th>\n",
       "      <td>0</td>\n",
       "      <td>64900000.0</td>\n",
       "      <td>159.00</td>\n",
       "      <td>2015-07-24T00:00:00</td>\n",
       "      <td>3</td>\n",
       "      <td>NaN</td>\n",
       "      <td>14.0</td>\n",
       "      <td>NaN</td>\n",
       "      <td>9</td>\n",
       "      <td>NaN</td>\n",
       "      <td>...</td>\n",
       "      <td>NaN</td>\n",
       "      <td>0.0</td>\n",
       "      <td>Санкт-Петербург</td>\n",
       "      <td>28098.0</td>\n",
       "      <td>6800.0</td>\n",
       "      <td>2.0</td>\n",
       "      <td>84.0</td>\n",
       "      <td>3.0</td>\n",
       "      <td>234.0</td>\n",
       "      <td>424.0</td>\n",
       "    </tr>\n",
       "    <tr>\n",
       "      <th>4</th>\n",
       "      <td>2</td>\n",
       "      <td>10000000.0</td>\n",
       "      <td>100.00</td>\n",
       "      <td>2018-06-19T00:00:00</td>\n",
       "      <td>2</td>\n",
       "      <td>3.03</td>\n",
       "      <td>14.0</td>\n",
       "      <td>32.00</td>\n",
       "      <td>13</td>\n",
       "      <td>NaN</td>\n",
       "      <td>...</td>\n",
       "      <td>41.00</td>\n",
       "      <td>NaN</td>\n",
       "      <td>Санкт-Петербург</td>\n",
       "      <td>31856.0</td>\n",
       "      <td>8098.0</td>\n",
       "      <td>2.0</td>\n",
       "      <td>112.0</td>\n",
       "      <td>1.0</td>\n",
       "      <td>48.0</td>\n",
       "      <td>121.0</td>\n",
       "    </tr>\n",
       "    <tr>\n",
       "      <th>5</th>\n",
       "      <td>10</td>\n",
       "      <td>2890000.0</td>\n",
       "      <td>30.40</td>\n",
       "      <td>2018-09-10T00:00:00</td>\n",
       "      <td>1</td>\n",
       "      <td>NaN</td>\n",
       "      <td>12.0</td>\n",
       "      <td>14.40</td>\n",
       "      <td>5</td>\n",
       "      <td>NaN</td>\n",
       "      <td>...</td>\n",
       "      <td>9.10</td>\n",
       "      <td>NaN</td>\n",
       "      <td>городской посёлок Янино-1</td>\n",
       "      <td>NaN</td>\n",
       "      <td>NaN</td>\n",
       "      <td>NaN</td>\n",
       "      <td>NaN</td>\n",
       "      <td>NaN</td>\n",
       "      <td>NaN</td>\n",
       "      <td>55.0</td>\n",
       "    </tr>\n",
       "    <tr>\n",
       "      <th>6</th>\n",
       "      <td>6</td>\n",
       "      <td>3700000.0</td>\n",
       "      <td>37.30</td>\n",
       "      <td>2017-11-02T00:00:00</td>\n",
       "      <td>1</td>\n",
       "      <td>NaN</td>\n",
       "      <td>26.0</td>\n",
       "      <td>10.60</td>\n",
       "      <td>6</td>\n",
       "      <td>NaN</td>\n",
       "      <td>...</td>\n",
       "      <td>14.40</td>\n",
       "      <td>1.0</td>\n",
       "      <td>посёлок Парголово</td>\n",
       "      <td>52996.0</td>\n",
       "      <td>19143.0</td>\n",
       "      <td>0.0</td>\n",
       "      <td>NaN</td>\n",
       "      <td>0.0</td>\n",
       "      <td>NaN</td>\n",
       "      <td>155.0</td>\n",
       "    </tr>\n",
       "    <tr>\n",
       "      <th>7</th>\n",
       "      <td>5</td>\n",
       "      <td>7915000.0</td>\n",
       "      <td>71.60</td>\n",
       "      <td>2019-04-18T00:00:00</td>\n",
       "      <td>2</td>\n",
       "      <td>NaN</td>\n",
       "      <td>24.0</td>\n",
       "      <td>NaN</td>\n",
       "      <td>22</td>\n",
       "      <td>NaN</td>\n",
       "      <td>...</td>\n",
       "      <td>18.90</td>\n",
       "      <td>2.0</td>\n",
       "      <td>Санкт-Петербург</td>\n",
       "      <td>23982.0</td>\n",
       "      <td>11634.0</td>\n",
       "      <td>0.0</td>\n",
       "      <td>NaN</td>\n",
       "      <td>0.0</td>\n",
       "      <td>NaN</td>\n",
       "      <td>NaN</td>\n",
       "    </tr>\n",
       "    <tr>\n",
       "      <th>8</th>\n",
       "      <td>20</td>\n",
       "      <td>2900000.0</td>\n",
       "      <td>33.16</td>\n",
       "      <td>2018-05-23T00:00:00</td>\n",
       "      <td>1</td>\n",
       "      <td>NaN</td>\n",
       "      <td>27.0</td>\n",
       "      <td>15.43</td>\n",
       "      <td>26</td>\n",
       "      <td>NaN</td>\n",
       "      <td>...</td>\n",
       "      <td>8.81</td>\n",
       "      <td>NaN</td>\n",
       "      <td>посёлок Мурино</td>\n",
       "      <td>NaN</td>\n",
       "      <td>NaN</td>\n",
       "      <td>NaN</td>\n",
       "      <td>NaN</td>\n",
       "      <td>NaN</td>\n",
       "      <td>NaN</td>\n",
       "      <td>189.0</td>\n",
       "    </tr>\n",
       "    <tr>\n",
       "      <th>9</th>\n",
       "      <td>18</td>\n",
       "      <td>5400000.0</td>\n",
       "      <td>61.00</td>\n",
       "      <td>2017-02-26T00:00:00</td>\n",
       "      <td>3</td>\n",
       "      <td>2.50</td>\n",
       "      <td>9.0</td>\n",
       "      <td>43.60</td>\n",
       "      <td>7</td>\n",
       "      <td>NaN</td>\n",
       "      <td>...</td>\n",
       "      <td>6.50</td>\n",
       "      <td>2.0</td>\n",
       "      <td>Санкт-Петербург</td>\n",
       "      <td>50898.0</td>\n",
       "      <td>15008.0</td>\n",
       "      <td>0.0</td>\n",
       "      <td>NaN</td>\n",
       "      <td>0.0</td>\n",
       "      <td>NaN</td>\n",
       "      <td>289.0</td>\n",
       "    </tr>\n",
       "  </tbody>\n",
       "</table>\n",
       "<p>10 rows × 22 columns</p>\n",
       "</div>"
      ],
      "text/plain": [
       "   total_images  last_price  total_area first_day_exposition  rooms  \\\n",
       "0            20  13000000.0      108.00  2019-03-07T00:00:00      3   \n",
       "1             7   3350000.0       40.40  2018-12-04T00:00:00      1   \n",
       "2            10   5196000.0       56.00  2015-08-20T00:00:00      2   \n",
       "3             0  64900000.0      159.00  2015-07-24T00:00:00      3   \n",
       "4             2  10000000.0      100.00  2018-06-19T00:00:00      2   \n",
       "5            10   2890000.0       30.40  2018-09-10T00:00:00      1   \n",
       "6             6   3700000.0       37.30  2017-11-02T00:00:00      1   \n",
       "7             5   7915000.0       71.60  2019-04-18T00:00:00      2   \n",
       "8            20   2900000.0       33.16  2018-05-23T00:00:00      1   \n",
       "9            18   5400000.0       61.00  2017-02-26T00:00:00      3   \n",
       "\n",
       "   ceiling_height  floors_total  living_area  floor is_apartment  ...  \\\n",
       "0            2.70          16.0        51.00      8          NaN  ...   \n",
       "1             NaN          11.0        18.60      1          NaN  ...   \n",
       "2             NaN           5.0        34.30      4          NaN  ...   \n",
       "3             NaN          14.0          NaN      9          NaN  ...   \n",
       "4            3.03          14.0        32.00     13          NaN  ...   \n",
       "5             NaN          12.0        14.40      5          NaN  ...   \n",
       "6             NaN          26.0        10.60      6          NaN  ...   \n",
       "7             NaN          24.0          NaN     22          NaN  ...   \n",
       "8             NaN          27.0        15.43     26          NaN  ...   \n",
       "9            2.50           9.0        43.60      7          NaN  ...   \n",
       "\n",
       "   kitchen_area  balcony              locality_name  airports_nearest  \\\n",
       "0         25.00      NaN            Санкт-Петербург           18863.0   \n",
       "1         11.00      2.0             посёлок Шушары           12817.0   \n",
       "2          8.30      0.0            Санкт-Петербург           21741.0   \n",
       "3           NaN      0.0            Санкт-Петербург           28098.0   \n",
       "4         41.00      NaN            Санкт-Петербург           31856.0   \n",
       "5          9.10      NaN  городской посёлок Янино-1               NaN   \n",
       "6         14.40      1.0          посёлок Парголово           52996.0   \n",
       "7         18.90      2.0            Санкт-Петербург           23982.0   \n",
       "8          8.81      NaN             посёлок Мурино               NaN   \n",
       "9          6.50      2.0            Санкт-Петербург           50898.0   \n",
       "\n",
       "  cityCenters_nearest  parks_around3000  parks_nearest  ponds_around3000  \\\n",
       "0             16028.0               1.0          482.0               2.0   \n",
       "1             18603.0               0.0            NaN               0.0   \n",
       "2             13933.0               1.0           90.0               2.0   \n",
       "3              6800.0               2.0           84.0               3.0   \n",
       "4              8098.0               2.0          112.0               1.0   \n",
       "5                 NaN               NaN            NaN               NaN   \n",
       "6             19143.0               0.0            NaN               0.0   \n",
       "7             11634.0               0.0            NaN               0.0   \n",
       "8                 NaN               NaN            NaN               NaN   \n",
       "9             15008.0               0.0            NaN               0.0   \n",
       "\n",
       "   ponds_nearest  days_exposition  \n",
       "0          755.0              NaN  \n",
       "1            NaN             81.0  \n",
       "2          574.0            558.0  \n",
       "3          234.0            424.0  \n",
       "4           48.0            121.0  \n",
       "5            NaN             55.0  \n",
       "6            NaN            155.0  \n",
       "7            NaN              NaN  \n",
       "8            NaN            189.0  \n",
       "9            NaN            289.0  \n",
       "\n",
       "[10 rows x 22 columns]"
      ]
     },
     "execution_count": 1,
     "metadata": {},
     "output_type": "execute_result"
    }
   ],
   "source": [
    "import pandas as pd\n",
    "import numpy as np\n",
    "import matplotlib.pyplot as plt\n",
    "data = pd.read_csv('/datasets/real_estate_data.csv', sep='\\t')\n",
    "data.head(10)"
   ]
  },
  {
   "cell_type": "markdown",
   "metadata": {},
   "source": [
    "Описание данных:\n",
    "airports_nearest — расстояние до ближайшего аэропорта в метрах (м)\n",
    "balcony — число балконов\n",
    "ceiling_height — высота потолков (м)\n",
    "cityCenters_nearest — расстояние до центра города (м)\n",
    "days_exposition — сколько дней было размещено объявление (от публикации до снятия)\n",
    "first_day_exposition — дата публикации\n",
    "floor — этаж\n",
    "floors_total — всего этажей в доме\n",
    "is_apartment — апартаменты (булев тип)\n",
    "kitchen_area — площадь кухни в квадратных метрах (м²)\n",
    "last_price — цена на момент снятия с публикации\n",
    "living_area — жилая площадь в квадратных метрах (м²)\n",
    "locality_name — название населённого пункта\n",
    "open_plan — свободная планировка (булев тип)\n",
    "parks_around3000 — число парков в радиусе 3 км\n",
    "parks_nearest — расстояние до ближайшего парка (м)\n",
    "ponds_around3000 — число водоёмов в радиусе 3 км\n",
    "ponds_nearest — расстояние до ближайшего водоёма (м)\n",
    "rooms — число комнат\n",
    "studio — квартира-студия (булев тип)\n",
    "total_area — общая площадь квартиры в квадратных метрах (м²)\n",
    "total_images — число фотографий квартиры в объявлении"
   ]
  },
  {
   "cell_type": "code",
   "execution_count": 2,
   "metadata": {},
   "outputs": [
    {
     "data": {
      "text/html": [
       "<div>\n",
       "<style scoped>\n",
       "    .dataframe tbody tr th:only-of-type {\n",
       "        vertical-align: middle;\n",
       "    }\n",
       "\n",
       "    .dataframe tbody tr th {\n",
       "        vertical-align: top;\n",
       "    }\n",
       "\n",
       "    .dataframe thead th {\n",
       "        text-align: right;\n",
       "    }\n",
       "</style>\n",
       "<table border=\"1\" class=\"dataframe\">\n",
       "  <thead>\n",
       "    <tr style=\"text-align: right;\">\n",
       "      <th></th>\n",
       "      <th>total_images</th>\n",
       "      <th>last_price</th>\n",
       "      <th>total_area</th>\n",
       "      <th>first_day_exposition</th>\n",
       "      <th>rooms</th>\n",
       "      <th>ceiling_height</th>\n",
       "      <th>floors_total</th>\n",
       "      <th>living_area</th>\n",
       "      <th>floor</th>\n",
       "      <th>is_apartment</th>\n",
       "      <th>...</th>\n",
       "      <th>kitchen_area</th>\n",
       "      <th>balcony</th>\n",
       "      <th>locality_name</th>\n",
       "      <th>airports_nearest</th>\n",
       "      <th>cityCenters_nearest</th>\n",
       "      <th>parks_around3000</th>\n",
       "      <th>parks_nearest</th>\n",
       "      <th>ponds_around3000</th>\n",
       "      <th>ponds_nearest</th>\n",
       "      <th>days_exposition</th>\n",
       "    </tr>\n",
       "  </thead>\n",
       "  <tbody>\n",
       "    <tr>\n",
       "      <th>23694</th>\n",
       "      <td>9</td>\n",
       "      <td>9700000.0</td>\n",
       "      <td>133.81</td>\n",
       "      <td>2017-03-21T00:00:00</td>\n",
       "      <td>3</td>\n",
       "      <td>3.7</td>\n",
       "      <td>5.0</td>\n",
       "      <td>73.3</td>\n",
       "      <td>3</td>\n",
       "      <td>NaN</td>\n",
       "      <td>...</td>\n",
       "      <td>13.83</td>\n",
       "      <td>NaN</td>\n",
       "      <td>Санкт-Петербург</td>\n",
       "      <td>24665.0</td>\n",
       "      <td>4232.0</td>\n",
       "      <td>1.0</td>\n",
       "      <td>796.0</td>\n",
       "      <td>3.0</td>\n",
       "      <td>381.0</td>\n",
       "      <td>NaN</td>\n",
       "    </tr>\n",
       "    <tr>\n",
       "      <th>23695</th>\n",
       "      <td>14</td>\n",
       "      <td>3100000.0</td>\n",
       "      <td>59.00</td>\n",
       "      <td>2018-01-15T00:00:00</td>\n",
       "      <td>3</td>\n",
       "      <td>NaN</td>\n",
       "      <td>5.0</td>\n",
       "      <td>38.0</td>\n",
       "      <td>4</td>\n",
       "      <td>NaN</td>\n",
       "      <td>...</td>\n",
       "      <td>8.50</td>\n",
       "      <td>NaN</td>\n",
       "      <td>Тосно</td>\n",
       "      <td>NaN</td>\n",
       "      <td>NaN</td>\n",
       "      <td>NaN</td>\n",
       "      <td>NaN</td>\n",
       "      <td>NaN</td>\n",
       "      <td>NaN</td>\n",
       "      <td>45.0</td>\n",
       "    </tr>\n",
       "    <tr>\n",
       "      <th>23696</th>\n",
       "      <td>18</td>\n",
       "      <td>2500000.0</td>\n",
       "      <td>56.70</td>\n",
       "      <td>2018-02-11T00:00:00</td>\n",
       "      <td>2</td>\n",
       "      <td>NaN</td>\n",
       "      <td>3.0</td>\n",
       "      <td>29.7</td>\n",
       "      <td>1</td>\n",
       "      <td>NaN</td>\n",
       "      <td>...</td>\n",
       "      <td>NaN</td>\n",
       "      <td>NaN</td>\n",
       "      <td>село Рождествено</td>\n",
       "      <td>NaN</td>\n",
       "      <td>NaN</td>\n",
       "      <td>NaN</td>\n",
       "      <td>NaN</td>\n",
       "      <td>NaN</td>\n",
       "      <td>NaN</td>\n",
       "      <td>NaN</td>\n",
       "    </tr>\n",
       "    <tr>\n",
       "      <th>23697</th>\n",
       "      <td>13</td>\n",
       "      <td>11475000.0</td>\n",
       "      <td>76.75</td>\n",
       "      <td>2017-03-28T00:00:00</td>\n",
       "      <td>2</td>\n",
       "      <td>3.0</td>\n",
       "      <td>17.0</td>\n",
       "      <td>NaN</td>\n",
       "      <td>12</td>\n",
       "      <td>NaN</td>\n",
       "      <td>...</td>\n",
       "      <td>23.30</td>\n",
       "      <td>2.0</td>\n",
       "      <td>Санкт-Петербург</td>\n",
       "      <td>39140.0</td>\n",
       "      <td>10364.0</td>\n",
       "      <td>2.0</td>\n",
       "      <td>173.0</td>\n",
       "      <td>3.0</td>\n",
       "      <td>196.0</td>\n",
       "      <td>602.0</td>\n",
       "    </tr>\n",
       "    <tr>\n",
       "      <th>23698</th>\n",
       "      <td>4</td>\n",
       "      <td>1350000.0</td>\n",
       "      <td>32.30</td>\n",
       "      <td>2017-07-21T00:00:00</td>\n",
       "      <td>1</td>\n",
       "      <td>2.5</td>\n",
       "      <td>5.0</td>\n",
       "      <td>12.3</td>\n",
       "      <td>1</td>\n",
       "      <td>NaN</td>\n",
       "      <td>...</td>\n",
       "      <td>9.00</td>\n",
       "      <td>NaN</td>\n",
       "      <td>поселок Новый Учхоз</td>\n",
       "      <td>NaN</td>\n",
       "      <td>NaN</td>\n",
       "      <td>NaN</td>\n",
       "      <td>NaN</td>\n",
       "      <td>NaN</td>\n",
       "      <td>NaN</td>\n",
       "      <td>NaN</td>\n",
       "    </tr>\n",
       "  </tbody>\n",
       "</table>\n",
       "<p>5 rows × 22 columns</p>\n",
       "</div>"
      ],
      "text/plain": [
       "       total_images  last_price  total_area first_day_exposition  rooms  \\\n",
       "23694             9   9700000.0      133.81  2017-03-21T00:00:00      3   \n",
       "23695            14   3100000.0       59.00  2018-01-15T00:00:00      3   \n",
       "23696            18   2500000.0       56.70  2018-02-11T00:00:00      2   \n",
       "23697            13  11475000.0       76.75  2017-03-28T00:00:00      2   \n",
       "23698             4   1350000.0       32.30  2017-07-21T00:00:00      1   \n",
       "\n",
       "       ceiling_height  floors_total  living_area  floor is_apartment  ...  \\\n",
       "23694             3.7           5.0         73.3      3          NaN  ...   \n",
       "23695             NaN           5.0         38.0      4          NaN  ...   \n",
       "23696             NaN           3.0         29.7      1          NaN  ...   \n",
       "23697             3.0          17.0          NaN     12          NaN  ...   \n",
       "23698             2.5           5.0         12.3      1          NaN  ...   \n",
       "\n",
       "       kitchen_area  balcony        locality_name  airports_nearest  \\\n",
       "23694         13.83      NaN      Санкт-Петербург           24665.0   \n",
       "23695          8.50      NaN                Тосно               NaN   \n",
       "23696           NaN      NaN     село Рождествено               NaN   \n",
       "23697         23.30      2.0      Санкт-Петербург           39140.0   \n",
       "23698          9.00      NaN  поселок Новый Учхоз               NaN   \n",
       "\n",
       "      cityCenters_nearest  parks_around3000  parks_nearest  ponds_around3000  \\\n",
       "23694              4232.0               1.0          796.0               3.0   \n",
       "23695                 NaN               NaN            NaN               NaN   \n",
       "23696                 NaN               NaN            NaN               NaN   \n",
       "23697             10364.0               2.0          173.0               3.0   \n",
       "23698                 NaN               NaN            NaN               NaN   \n",
       "\n",
       "       ponds_nearest  days_exposition  \n",
       "23694          381.0              NaN  \n",
       "23695            NaN             45.0  \n",
       "23696            NaN              NaN  \n",
       "23697          196.0            602.0  \n",
       "23698            NaN              NaN  \n",
       "\n",
       "[5 rows x 22 columns]"
      ]
     },
     "execution_count": 2,
     "metadata": {},
     "output_type": "execute_result"
    }
   ],
   "source": [
    "data.tail()"
   ]
  },
  {
   "cell_type": "code",
   "execution_count": 3,
   "metadata": {},
   "outputs": [
    {
     "name": "stdout",
     "output_type": "stream",
     "text": [
      "<class 'pandas.core.frame.DataFrame'>\n",
      "RangeIndex: 23699 entries, 0 to 23698\n",
      "Data columns (total 22 columns):\n",
      " #   Column                Non-Null Count  Dtype  \n",
      "---  ------                --------------  -----  \n",
      " 0   total_images          23699 non-null  int64  \n",
      " 1   last_price            23699 non-null  float64\n",
      " 2   total_area            23699 non-null  float64\n",
      " 3   first_day_exposition  23699 non-null  object \n",
      " 4   rooms                 23699 non-null  int64  \n",
      " 5   ceiling_height        14504 non-null  float64\n",
      " 6   floors_total          23613 non-null  float64\n",
      " 7   living_area           21796 non-null  float64\n",
      " 8   floor                 23699 non-null  int64  \n",
      " 9   is_apartment          2775 non-null   object \n",
      " 10  studio                23699 non-null  bool   \n",
      " 11  open_plan             23699 non-null  bool   \n",
      " 12  kitchen_area          21421 non-null  float64\n",
      " 13  balcony               12180 non-null  float64\n",
      " 14  locality_name         23650 non-null  object \n",
      " 15  airports_nearest      18157 non-null  float64\n",
      " 16  cityCenters_nearest   18180 non-null  float64\n",
      " 17  parks_around3000      18181 non-null  float64\n",
      " 18  parks_nearest         8079 non-null   float64\n",
      " 19  ponds_around3000      18181 non-null  float64\n",
      " 20  ponds_nearest         9110 non-null   float64\n",
      " 21  days_exposition       20518 non-null  float64\n",
      "dtypes: bool(2), float64(14), int64(3), object(3)\n",
      "memory usage: 3.7+ MB\n"
     ]
    }
   ],
   "source": [
    "data.info()\n"
   ]
  },
  {
   "cell_type": "code",
   "execution_count": 4,
   "metadata": {},
   "outputs": [
    {
     "data": {
      "text/plain": [
       "0"
      ]
     },
     "execution_count": 4,
     "metadata": {},
     "output_type": "execute_result"
    }
   ],
   "source": [
    "\n",
    "data.duplicated().sum()"
   ]
  },
  {
   "cell_type": "code",
   "execution_count": 5,
   "metadata": {},
   "outputs": [
    {
     "data": {
      "text/plain": [
       "total_images                0\n",
       "last_price                  0\n",
       "total_area                  0\n",
       "first_day_exposition        0\n",
       "rooms                       0\n",
       "ceiling_height           9195\n",
       "floors_total               86\n",
       "living_area              1903\n",
       "floor                       0\n",
       "is_apartment            20924\n",
       "studio                      0\n",
       "open_plan                   0\n",
       "kitchen_area             2278\n",
       "balcony                 11519\n",
       "locality_name              49\n",
       "airports_nearest         5542\n",
       "cityCenters_nearest      5519\n",
       "parks_around3000         5518\n",
       "parks_nearest           15620\n",
       "ponds_around3000         5518\n",
       "ponds_nearest           14589\n",
       "days_exposition          3181\n",
       "dtype: int64"
      ]
     },
     "execution_count": 5,
     "metadata": {},
     "output_type": "execute_result"
    }
   ],
   "source": [
    "data.isnull().sum()"
   ]
  },
  {
   "cell_type": "code",
   "execution_count": 6,
   "metadata": {
    "scrolled": true
   },
   "outputs": [
    {
     "data": {
      "text/plain": [
       "array([[<AxesSubplot:title={'center':'total_images'}>,\n",
       "        <AxesSubplot:title={'center':'last_price'}>,\n",
       "        <AxesSubplot:title={'center':'total_area'}>,\n",
       "        <AxesSubplot:title={'center':'rooms'}>],\n",
       "       [<AxesSubplot:title={'center':'ceiling_height'}>,\n",
       "        <AxesSubplot:title={'center':'floors_total'}>,\n",
       "        <AxesSubplot:title={'center':'living_area'}>,\n",
       "        <AxesSubplot:title={'center':'floor'}>],\n",
       "       [<AxesSubplot:title={'center':'kitchen_area'}>,\n",
       "        <AxesSubplot:title={'center':'balcony'}>,\n",
       "        <AxesSubplot:title={'center':'airports_nearest'}>,\n",
       "        <AxesSubplot:title={'center':'cityCenters_nearest'}>],\n",
       "       [<AxesSubplot:title={'center':'parks_around3000'}>,\n",
       "        <AxesSubplot:title={'center':'parks_nearest'}>,\n",
       "        <AxesSubplot:title={'center':'ponds_around3000'}>,\n",
       "        <AxesSubplot:title={'center':'ponds_nearest'}>],\n",
       "       [<AxesSubplot:title={'center':'days_exposition'}>, <AxesSubplot:>,\n",
       "        <AxesSubplot:>, <AxesSubplot:>]], dtype=object)"
      ]
     },
     "execution_count": 6,
     "metadata": {},
     "output_type": "execute_result"
    },
    {
     "data": {
      "image/png": "[encoded data removed]",
      "text/plain": [
       "<Figure size 1080x1440 with 20 Axes>"
      ]
     },
     "metadata": {
      "needs_background": "light"
     },
     "output_type": "display_data"
    }
   ],
   "source": [
    "data.hist(figsize=(15, 20))"
   ]
  },
  {
   "cell_type": "markdown",
   "metadata": {},
   "source": [
    "В ходе изучения предоставленной информации, установлено следующее:\n",
    "\n",
    "отсутствую значения\n",
    "\n",
    "некорректные типы данных\n",
    "\n",
    "не_змеиное_название столбцов\n",
    "\n",
    "присутствуют неявные дубликаты\n",
    "\n",
    "присутствуют выбивающиеся значения"
   ]
  },
  {
   "cell_type": "markdown",
   "metadata": {},
   "source": [
    "<div class=\"alert alert-success\">\n",
    "<b>Комментарий ревьюера ✔️:</b> Хорошее начало и первый промежуточный вывод, так держать. </div>"
   ]
  },
  {
   "cell_type": "markdown",
   "metadata": {},
   "source": [
    "### Предобработка данных"
   ]
  },
  {
   "cell_type": "code",
   "execution_count": 7,
   "metadata": {},
   "outputs": [
    {
     "data": {
      "text/plain": [
       "total_images             0.000000\n",
       "open_plan                0.000000\n",
       "floor                    0.000000\n",
       "rooms                    0.000000\n",
       "studio                   0.000000\n",
       "total_area               0.000000\n",
       "last_price               0.000000\n",
       "first_day_exposition     0.000000\n",
       "locality_name            0.206760\n",
       "floors_total             0.362885\n",
       "living_area              8.029875\n",
       "kitchen_area             9.612220\n",
       "days_exposition         13.422507\n",
       "ponds_around3000        23.283683\n",
       "parks_around3000        23.283683\n",
       "cityCenters_nearest     23.287902\n",
       "airports_nearest        23.384953\n",
       "ceiling_height          38.799105\n",
       "balcony                 48.605426\n",
       "ponds_nearest           61.559559\n",
       "parks_nearest           65.909954\n",
       "is_apartment            88.290645\n",
       "dtype: float64"
      ]
     },
     "execution_count": 7,
     "metadata": {},
     "output_type": "execute_result"
    }
   ],
   "source": [
    "#Посмотрим на пропуски в процентном соотношении\n",
    "data.isnull().sum().sort_values()/data.shape[0]*100"
   ]
  },
  {
   "cell_type": "markdown",
   "metadata": {},
   "source": [
    "изменим тип данных"
   ]
  },
  {
   "cell_type": "code",
   "execution_count": 8,
   "metadata": {},
   "outputs": [],
   "source": [
    "data['last_price'] = data['last_price'].astype(int)"
   ]
  },
  {
   "cell_type": "code",
   "execution_count": 9,
   "metadata": {},
   "outputs": [],
   "source": [
    "#data['floors_total'].dropna(inplace=True)\n",
    "data = data.dropna(subset=['floors_total'])"
   ]
  },
  {
   "cell_type": "markdown",
   "metadata": {},
   "source": [
    "<div class=\"alert alert-success\">\n",
    "<b>Комментарий ревьюера ✔️:</b> Можно отбросить </div>"
   ]
  },
  {
   "cell_type": "code",
   "execution_count": 10,
   "metadata": {},
   "outputs": [
    {
     "data": {
      "text/plain": [
       "0"
      ]
     },
     "execution_count": 10,
     "metadata": {},
     "output_type": "execute_result"
    }
   ],
   "source": [
    "\n",
    "data['floors_total'].isnull().sum()\n"
   ]
  },
  {
   "cell_type": "code",
   "execution_count": 11,
   "metadata": {},
   "outputs": [],
   "source": [
    "data['floors_total'] = data['floors_total'].astype(int)"
   ]
  },
  {
   "cell_type": "markdown",
   "metadata": {},
   "source": [
    "в квартирах студиях нет кухонь- их площадь входит в общую"
   ]
  },
  {
   "cell_type": "code",
   "execution_count": 12,
   "metadata": {},
   "outputs": [],
   "source": [
    "data.loc[data['studio'] == True, 'kitchen_area'] = 0 "
   ]
  },
  {
   "cell_type": "markdown",
   "metadata": {},
   "source": [
    "<div class=\"alert alert-success\">\n",
    "<b>Комментарий ревьюера ✔️:</b> Логично </div>"
   ]
  },
  {
   "cell_type": "markdown",
   "metadata": {},
   "source": [
    "является ли объект апартаментамми- очень важная информация, которой бы продавцы не пренебрегали т.к. апартаменты- это жилье в котором нельзя зарегестрироваться по месту жительства"
   ]
  },
  {
   "cell_type": "code",
   "execution_count": 13,
   "metadata": {},
   "outputs": [],
   "source": [
    "data['is_apartment'] = data['is_apartment'].fillna(value=False)"
   ]
  },
  {
   "cell_type": "markdown",
   "metadata": {},
   "source": [
    "если продавец не указал наличее балкона- скорее всего его нет"
   ]
  },
  {
   "cell_type": "code",
   "execution_count": 14,
   "metadata": {},
   "outputs": [],
   "source": [
    "data['balcony'] = data['balcony'].fillna(value=0).astype(int)"
   ]
  },
  {
   "cell_type": "markdown",
   "metadata": {},
   "source": [
    "<div class=\"alert alert-success\">\n",
    "<b>Комментарий ревьюера ✔️:</b> Заполним нулями </div>"
   ]
  },
  {
   "cell_type": "markdown",
   "metadata": {},
   "source": [
    "переведем столбец с датой в формат даты без времени, т.к. время не указано"
   ]
  },
  {
   "cell_type": "code",
   "execution_count": 15,
   "metadata": {},
   "outputs": [],
   "source": [
    "data['first_day_exposition'] = pd.to_datetime(data['first_day_exposition'], format = '%Y-%m-%d')"
   ]
  },
  {
   "cell_type": "markdown",
   "metadata": {},
   "source": [
    "<div class=\"alert alert-success\">\n",
    "<b>Комментарий ревьюера ✔️:</b> Тип даты подойдет тут лучше </div>"
   ]
  },
  {
   "cell_type": "markdown",
   "metadata": {},
   "source": [
    "приведем cityCenters_nearest к надлежащему виду"
   ]
  },
  {
   "cell_type": "code",
   "execution_count": 16,
   "metadata": {},
   "outputs": [],
   "source": [
    "data.rename(columns={'cityCenters_nearest' : 'city_centers_nearest'}, inplace=True)"
   ]
  },
  {
   "cell_type": "markdown",
   "metadata": {},
   "source": [
    "не зная населенного пункта мы не сможем использовать данные по квартире далее "
   ]
  },
  {
   "cell_type": "code",
   "execution_count": 17,
   "metadata": {},
   "outputs": [],
   "source": [
    "data.dropna(subset=['locality_name'], inplace=True)"
   ]
  },
  {
   "cell_type": "markdown",
   "metadata": {},
   "source": [
    "<div class=\"alert alert-success\">\n",
    "<b>Комментарий ревьюера ✔️:</b> Также можно отбросить </div>"
   ]
  },
  {
   "cell_type": "markdown",
   "metadata": {},
   "source": [
    "переименуем названия поселков"
   ]
  },
  {
   "cell_type": "code",
   "execution_count": 18,
   "metadata": {},
   "outputs": [],
   "source": [
    "data = data.rename(columns={'поселок Рябово': 'поселок городского типа Рябово', 'поселок Тельмана': 'посёлок Тельмана'}) "
   ]
  },
  {
   "cell_type": "markdown",
   "metadata": {},
   "source": [
    "<div class=\"alert alert-danger\">\n",
    "<b>Комментарий ревьюера ❌:</b> На самом деле в датасете разное написание е-ё встречаются существенно чаще и тут логичнее будет привести написание буквы одному виду при помощи replace по всему столбцу"
   ]
  },
  {
   "cell_type": "code",
   "execution_count": 19,
   "metadata": {},
   "outputs": [],
   "source": [
    "data['locality_name'] = data['locality_name'].str.replace('ё', 'е', regex=True)"
   ]
  },
  {
   "cell_type": "markdown",
   "metadata": {},
   "source": [
    "<div class=\"alert alert-info\"> <b>Комментарий студента:</b> Ок.</div>"
   ]
  },
  {
   "cell_type": "markdown",
   "metadata": {},
   "source": [
    "<div class=\"alert alert-success\">\n",
    "<b>Комментарий ревьюера v 2.0 ✔️:</b> Отлично!)"
   ]
  },
  {
   "cell_type": "markdown",
   "metadata": {},
   "source": [
    "испавим не корректные высоты потолков: поделим на 10 высоты от 25 до 32"
   ]
  },
  {
   "cell_type": "code",
   "execution_count": 20,
   "metadata": {},
   "outputs": [],
   "source": [
    "data.loc[(data['ceiling_height'] >= 25) & (data['ceiling_height'] <= 32), 'ceiling_height'] = data['ceiling_height'] / 10"
   ]
  },
  {
   "cell_type": "markdown",
   "metadata": {},
   "source": [
    "<div class=\"alert alert-success\">\n",
    "<b>Комментарий ревьюера ✔️:</b> Разделим аномально высокие потолки на 10"
   ]
  },
  {
   "cell_type": "markdown",
   "metadata": {},
   "source": [
    "<div class=\"alert alert-danger\">\n",
    "<b>Комментарий ревьюера ❌:</b> Но ведь аномалии могут быть также и в нижней границе значений. Еще, аномалии могут встречаться не только в столбце с потолками, чтобы проанализировать аномалии более подробно посоветую вывести describe по всему датасету и посмотреть на min и max значения"
   ]
  },
  {
   "cell_type": "code",
   "execution_count": 21,
   "metadata": {},
   "outputs": [
    {
     "data": {
      "text/html": [
       "<div>\n",
       "<style scoped>\n",
       "    .dataframe tbody tr th:only-of-type {\n",
       "        vertical-align: middle;\n",
       "    }\n",
       "\n",
       "    .dataframe tbody tr th {\n",
       "        vertical-align: top;\n",
       "    }\n",
       "\n",
       "    .dataframe thead th {\n",
       "        text-align: right;\n",
       "    }\n",
       "</style>\n",
       "<table border=\"1\" class=\"dataframe\">\n",
       "  <thead>\n",
       "    <tr style=\"text-align: right;\">\n",
       "      <th></th>\n",
       "      <th>total_images</th>\n",
       "      <th>last_price</th>\n",
       "      <th>total_area</th>\n",
       "      <th>rooms</th>\n",
       "      <th>ceiling_height</th>\n",
       "      <th>floors_total</th>\n",
       "      <th>living_area</th>\n",
       "      <th>floor</th>\n",
       "      <th>kitchen_area</th>\n",
       "      <th>balcony</th>\n",
       "      <th>airports_nearest</th>\n",
       "      <th>city_centers_nearest</th>\n",
       "      <th>parks_around3000</th>\n",
       "      <th>parks_nearest</th>\n",
       "      <th>ponds_around3000</th>\n",
       "      <th>ponds_nearest</th>\n",
       "      <th>days_exposition</th>\n",
       "    </tr>\n",
       "  </thead>\n",
       "  <tbody>\n",
       "    <tr>\n",
       "      <th>count</th>\n",
       "      <td>23565.000000</td>\n",
       "      <td>2.356500e+04</td>\n",
       "      <td>23565.000000</td>\n",
       "      <td>23565.000000</td>\n",
       "      <td>14481.00000</td>\n",
       "      <td>23565.000000</td>\n",
       "      <td>21700.000000</td>\n",
       "      <td>23565.000000</td>\n",
       "      <td>21489.000000</td>\n",
       "      <td>23565.000000</td>\n",
       "      <td>18041.000000</td>\n",
       "      <td>18064.000000</td>\n",
       "      <td>18065.000000</td>\n",
       "      <td>8030.000000</td>\n",
       "      <td>18065.000000</td>\n",
       "      <td>9036.000000</td>\n",
       "      <td>20394.000000</td>\n",
       "    </tr>\n",
       "    <tr>\n",
       "      <th>mean</th>\n",
       "      <td>9.878421</td>\n",
       "      <td>6.540058e+06</td>\n",
       "      <td>60.322824</td>\n",
       "      <td>2.070656</td>\n",
       "      <td>2.73968</td>\n",
       "      <td>10.675875</td>\n",
       "      <td>34.454822</td>\n",
       "      <td>5.878124</td>\n",
       "      <td>10.489241</td>\n",
       "      <td>0.593677</td>\n",
       "      <td>28797.082701</td>\n",
       "      <td>14192.656056</td>\n",
       "      <td>0.611569</td>\n",
       "      <td>490.580448</td>\n",
       "      <td>0.769499</td>\n",
       "      <td>518.289509</td>\n",
       "      <td>180.741395</td>\n",
       "    </tr>\n",
       "    <tr>\n",
       "      <th>std</th>\n",
       "      <td>5.681156</td>\n",
       "      <td>1.091093e+07</td>\n",
       "      <td>35.657060</td>\n",
       "      <td>1.078591</td>\n",
       "      <td>0.91158</td>\n",
       "      <td>6.594823</td>\n",
       "      <td>22.045359</td>\n",
       "      <td>4.871485</td>\n",
       "      <td>5.944202</td>\n",
       "      <td>0.960660</td>\n",
       "      <td>12632.499735</td>\n",
       "      <td>8613.348153</td>\n",
       "      <td>0.802088</td>\n",
       "      <td>341.572956</td>\n",
       "      <td>0.938669</td>\n",
       "      <td>278.009558</td>\n",
       "      <td>219.732782</td>\n",
       "    </tr>\n",
       "    <tr>\n",
       "      <th>min</th>\n",
       "      <td>0.000000</td>\n",
       "      <td>1.219000e+04</td>\n",
       "      <td>12.000000</td>\n",
       "      <td>0.000000</td>\n",
       "      <td>1.00000</td>\n",
       "      <td>1.000000</td>\n",
       "      <td>2.000000</td>\n",
       "      <td>1.000000</td>\n",
       "      <td>0.000000</td>\n",
       "      <td>0.000000</td>\n",
       "      <td>0.000000</td>\n",
       "      <td>181.000000</td>\n",
       "      <td>0.000000</td>\n",
       "      <td>1.000000</td>\n",
       "      <td>0.000000</td>\n",
       "      <td>13.000000</td>\n",
       "      <td>1.000000</td>\n",
       "    </tr>\n",
       "    <tr>\n",
       "      <th>25%</th>\n",
       "      <td>6.000000</td>\n",
       "      <td>3.400000e+06</td>\n",
       "      <td>40.000000</td>\n",
       "      <td>1.000000</td>\n",
       "      <td>2.51000</td>\n",
       "      <td>5.000000</td>\n",
       "      <td>18.600000</td>\n",
       "      <td>2.000000</td>\n",
       "      <td>7.000000</td>\n",
       "      <td>0.000000</td>\n",
       "      <td>18565.000000</td>\n",
       "      <td>9238.000000</td>\n",
       "      <td>0.000000</td>\n",
       "      <td>288.000000</td>\n",
       "      <td>0.000000</td>\n",
       "      <td>293.000000</td>\n",
       "      <td>45.000000</td>\n",
       "    </tr>\n",
       "    <tr>\n",
       "      <th>50%</th>\n",
       "      <td>9.000000</td>\n",
       "      <td>4.646000e+06</td>\n",
       "      <td>52.000000</td>\n",
       "      <td>2.000000</td>\n",
       "      <td>2.65000</td>\n",
       "      <td>9.000000</td>\n",
       "      <td>30.000000</td>\n",
       "      <td>4.000000</td>\n",
       "      <td>9.000000</td>\n",
       "      <td>0.000000</td>\n",
       "      <td>26757.000000</td>\n",
       "      <td>13096.500000</td>\n",
       "      <td>0.000000</td>\n",
       "      <td>455.000000</td>\n",
       "      <td>1.000000</td>\n",
       "      <td>503.000000</td>\n",
       "      <td>95.000000</td>\n",
       "    </tr>\n",
       "    <tr>\n",
       "      <th>75%</th>\n",
       "      <td>14.000000</td>\n",
       "      <td>6.790000e+06</td>\n",
       "      <td>69.700000</td>\n",
       "      <td>3.000000</td>\n",
       "      <td>2.80000</td>\n",
       "      <td>16.000000</td>\n",
       "      <td>42.300000</td>\n",
       "      <td>8.000000</td>\n",
       "      <td>12.000000</td>\n",
       "      <td>1.000000</td>\n",
       "      <td>37273.000000</td>\n",
       "      <td>16285.000000</td>\n",
       "      <td>1.000000</td>\n",
       "      <td>612.000000</td>\n",
       "      <td>1.000000</td>\n",
       "      <td>730.000000</td>\n",
       "      <td>231.000000</td>\n",
       "    </tr>\n",
       "    <tr>\n",
       "      <th>max</th>\n",
       "      <td>50.000000</td>\n",
       "      <td>7.630000e+08</td>\n",
       "      <td>900.000000</td>\n",
       "      <td>19.000000</td>\n",
       "      <td>100.00000</td>\n",
       "      <td>60.000000</td>\n",
       "      <td>409.700000</td>\n",
       "      <td>33.000000</td>\n",
       "      <td>112.000000</td>\n",
       "      <td>5.000000</td>\n",
       "      <td>84869.000000</td>\n",
       "      <td>65968.000000</td>\n",
       "      <td>3.000000</td>\n",
       "      <td>3190.000000</td>\n",
       "      <td>3.000000</td>\n",
       "      <td>1344.000000</td>\n",
       "      <td>1580.000000</td>\n",
       "    </tr>\n",
       "  </tbody>\n",
       "</table>\n",
       "</div>"
      ],
      "text/plain": [
       "       total_images    last_price    total_area         rooms  ceiling_height  \\\n",
       "count  23565.000000  2.356500e+04  23565.000000  23565.000000     14481.00000   \n",
       "mean       9.878421  6.540058e+06     60.322824      2.070656         2.73968   \n",
       "std        5.681156  1.091093e+07     35.657060      1.078591         0.91158   \n",
       "min        0.000000  1.219000e+04     12.000000      0.000000         1.00000   \n",
       "25%        6.000000  3.400000e+06     40.000000      1.000000         2.51000   \n",
       "50%        9.000000  4.646000e+06     52.000000      2.000000         2.65000   \n",
       "75%       14.000000  6.790000e+06     69.700000      3.000000         2.80000   \n",
       "max       50.000000  7.630000e+08    900.000000     19.000000       100.00000   \n",
       "\n",
       "       floors_total   living_area         floor  kitchen_area       balcony  \\\n",
       "count  23565.000000  21700.000000  23565.000000  21489.000000  23565.000000   \n",
       "mean      10.675875     34.454822      5.878124     10.489241      0.593677   \n",
       "std        6.594823     22.045359      4.871485      5.944202      0.960660   \n",
       "min        1.000000      2.000000      1.000000      0.000000      0.000000   \n",
       "25%        5.000000     18.600000      2.000000      7.000000      0.000000   \n",
       "50%        9.000000     30.000000      4.000000      9.000000      0.000000   \n",
       "75%       16.000000     42.300000      8.000000     12.000000      1.000000   \n",
       "max       60.000000    409.700000     33.000000    112.000000      5.000000   \n",
       "\n",
       "       airports_nearest  city_centers_nearest  parks_around3000  \\\n",
       "count      18041.000000          18064.000000      18065.000000   \n",
       "mean       28797.082701          14192.656056          0.611569   \n",
       "std        12632.499735           8613.348153          0.802088   \n",
       "min            0.000000            181.000000          0.000000   \n",
       "25%        18565.000000           9238.000000          0.000000   \n",
       "50%        26757.000000          13096.500000          0.000000   \n",
       "75%        37273.000000          16285.000000          1.000000   \n",
       "max        84869.000000          65968.000000          3.000000   \n",
       "\n",
       "       parks_nearest  ponds_around3000  ponds_nearest  days_exposition  \n",
       "count    8030.000000      18065.000000    9036.000000     20394.000000  \n",
       "mean      490.580448          0.769499     518.289509       180.741395  \n",
       "std       341.572956          0.938669     278.009558       219.732782  \n",
       "min         1.000000          0.000000      13.000000         1.000000  \n",
       "25%       288.000000          0.000000     293.000000        45.000000  \n",
       "50%       455.000000          1.000000     503.000000        95.000000  \n",
       "75%       612.000000          1.000000     730.000000       231.000000  \n",
       "max      3190.000000          3.000000    1344.000000      1580.000000  "
      ]
     },
     "execution_count": 21,
     "metadata": {},
     "output_type": "execute_result"
    }
   ],
   "source": [
    "data.describe()"
   ]
  },
  {
   "cell_type": "code",
   "execution_count": 22,
   "metadata": {},
   "outputs": [],
   "source": [
    "# отбросим три нуля в стоимости \n",
    "data['last_price'] = data['last_price'] / 1000 "
   ]
  },
  {
   "cell_type": "code",
   "execution_count": 23,
   "metadata": {},
   "outputs": [],
   "source": [
    "# в квартирах-студиях комнат нет - назначаем ноль\n",
    "data.loc[data['studio'] == True, 'rooms'] = 0 "
   ]
  },
  {
   "cell_type": "code",
   "execution_count": 24,
   "metadata": {},
   "outputs": [],
   "source": [
    "# заполним медианой пропуски в высоте потолков\n",
    "data['ceiling_height'] = data['ceiling_height'].fillna(data['ceiling_height'].median()) "
   ]
  },
  {
   "cell_type": "code",
   "execution_count": 25,
   "metadata": {},
   "outputs": [],
   "source": [
    "# заполним пропуски в общем количестве этажей согласно принятой концепции\n",
    "for i in [5, 9, 10, 14, 16, 24, 26, 29, 30, 34, 35, 37]:\n",
    " data.loc[(data['floors_total'].isna()) & (data['floor'] <= i), 'floors_total'] = i"
   ]
  },
  {
   "cell_type": "code",
   "execution_count": 26,
   "metadata": {},
   "outputs": [
    {
     "data": {
      "text/html": [
       "<div>\n",
       "<style scoped>\n",
       "    .dataframe tbody tr th:only-of-type {\n",
       "        vertical-align: middle;\n",
       "    }\n",
       "\n",
       "    .dataframe tbody tr th {\n",
       "        vertical-align: top;\n",
       "    }\n",
       "\n",
       "    .dataframe thead th {\n",
       "        text-align: right;\n",
       "    }\n",
       "</style>\n",
       "<table border=\"1\" class=\"dataframe\">\n",
       "  <thead>\n",
       "    <tr style=\"text-align: right;\">\n",
       "      <th></th>\n",
       "      <th>total_images</th>\n",
       "      <th>last_price</th>\n",
       "      <th>total_area</th>\n",
       "      <th>rooms</th>\n",
       "      <th>ceiling_height</th>\n",
       "      <th>floors_total</th>\n",
       "      <th>living_area</th>\n",
       "      <th>floor</th>\n",
       "      <th>kitchen_area</th>\n",
       "      <th>balcony</th>\n",
       "      <th>airports_nearest</th>\n",
       "      <th>city_centers_nearest</th>\n",
       "      <th>parks_around3000</th>\n",
       "      <th>parks_nearest</th>\n",
       "      <th>ponds_around3000</th>\n",
       "      <th>ponds_nearest</th>\n",
       "      <th>days_exposition</th>\n",
       "    </tr>\n",
       "  </thead>\n",
       "  <tbody>\n",
       "    <tr>\n",
       "      <th>count</th>\n",
       "      <td>23565.000000</td>\n",
       "      <td>23565.000000</td>\n",
       "      <td>23565.000000</td>\n",
       "      <td>23565.000000</td>\n",
       "      <td>23565.000000</td>\n",
       "      <td>23565.000000</td>\n",
       "      <td>21700.000000</td>\n",
       "      <td>23565.000000</td>\n",
       "      <td>21489.000000</td>\n",
       "      <td>23565.000000</td>\n",
       "      <td>18041.000000</td>\n",
       "      <td>18064.000000</td>\n",
       "      <td>18065.000000</td>\n",
       "      <td>8030.000000</td>\n",
       "      <td>18065.000000</td>\n",
       "      <td>9036.000000</td>\n",
       "      <td>20394.000000</td>\n",
       "    </tr>\n",
       "    <tr>\n",
       "      <th>mean</th>\n",
       "      <td>9.878421</td>\n",
       "      <td>6540.058260</td>\n",
       "      <td>60.322824</td>\n",
       "      <td>2.070189</td>\n",
       "      <td>2.705109</td>\n",
       "      <td>10.675875</td>\n",
       "      <td>34.454822</td>\n",
       "      <td>5.878124</td>\n",
       "      <td>10.489241</td>\n",
       "      <td>0.593677</td>\n",
       "      <td>28797.082701</td>\n",
       "      <td>14192.656056</td>\n",
       "      <td>0.611569</td>\n",
       "      <td>490.580448</td>\n",
       "      <td>0.769499</td>\n",
       "      <td>518.289509</td>\n",
       "      <td>180.741395</td>\n",
       "    </tr>\n",
       "    <tr>\n",
       "      <th>std</th>\n",
       "      <td>5.681156</td>\n",
       "      <td>10910.934722</td>\n",
       "      <td>35.657060</td>\n",
       "      <td>1.079270</td>\n",
       "      <td>0.715918</td>\n",
       "      <td>6.594823</td>\n",
       "      <td>22.045359</td>\n",
       "      <td>4.871485</td>\n",
       "      <td>5.944202</td>\n",
       "      <td>0.960660</td>\n",
       "      <td>12632.499735</td>\n",
       "      <td>8613.348153</td>\n",
       "      <td>0.802088</td>\n",
       "      <td>341.572956</td>\n",
       "      <td>0.938669</td>\n",
       "      <td>278.009558</td>\n",
       "      <td>219.732782</td>\n",
       "    </tr>\n",
       "    <tr>\n",
       "      <th>min</th>\n",
       "      <td>0.000000</td>\n",
       "      <td>12.190000</td>\n",
       "      <td>12.000000</td>\n",
       "      <td>0.000000</td>\n",
       "      <td>1.000000</td>\n",
       "      <td>1.000000</td>\n",
       "      <td>2.000000</td>\n",
       "      <td>1.000000</td>\n",
       "      <td>0.000000</td>\n",
       "      <td>0.000000</td>\n",
       "      <td>0.000000</td>\n",
       "      <td>181.000000</td>\n",
       "      <td>0.000000</td>\n",
       "      <td>1.000000</td>\n",
       "      <td>0.000000</td>\n",
       "      <td>13.000000</td>\n",
       "      <td>1.000000</td>\n",
       "    </tr>\n",
       "    <tr>\n",
       "      <th>25%</th>\n",
       "      <td>6.000000</td>\n",
       "      <td>3400.000000</td>\n",
       "      <td>40.000000</td>\n",
       "      <td>1.000000</td>\n",
       "      <td>2.600000</td>\n",
       "      <td>5.000000</td>\n",
       "      <td>18.600000</td>\n",
       "      <td>2.000000</td>\n",
       "      <td>7.000000</td>\n",
       "      <td>0.000000</td>\n",
       "      <td>18565.000000</td>\n",
       "      <td>9238.000000</td>\n",
       "      <td>0.000000</td>\n",
       "      <td>288.000000</td>\n",
       "      <td>0.000000</td>\n",
       "      <td>293.000000</td>\n",
       "      <td>45.000000</td>\n",
       "    </tr>\n",
       "    <tr>\n",
       "      <th>50%</th>\n",
       "      <td>9.000000</td>\n",
       "      <td>4646.000000</td>\n",
       "      <td>52.000000</td>\n",
       "      <td>2.000000</td>\n",
       "      <td>2.650000</td>\n",
       "      <td>9.000000</td>\n",
       "      <td>30.000000</td>\n",
       "      <td>4.000000</td>\n",
       "      <td>9.000000</td>\n",
       "      <td>0.000000</td>\n",
       "      <td>26757.000000</td>\n",
       "      <td>13096.500000</td>\n",
       "      <td>0.000000</td>\n",
       "      <td>455.000000</td>\n",
       "      <td>1.000000</td>\n",
       "      <td>503.000000</td>\n",
       "      <td>95.000000</td>\n",
       "    </tr>\n",
       "    <tr>\n",
       "      <th>75%</th>\n",
       "      <td>14.000000</td>\n",
       "      <td>6790.000000</td>\n",
       "      <td>69.700000</td>\n",
       "      <td>3.000000</td>\n",
       "      <td>2.700000</td>\n",
       "      <td>16.000000</td>\n",
       "      <td>42.300000</td>\n",
       "      <td>8.000000</td>\n",
       "      <td>12.000000</td>\n",
       "      <td>1.000000</td>\n",
       "      <td>37273.000000</td>\n",
       "      <td>16285.000000</td>\n",
       "      <td>1.000000</td>\n",
       "      <td>612.000000</td>\n",
       "      <td>1.000000</td>\n",
       "      <td>730.000000</td>\n",
       "      <td>231.000000</td>\n",
       "    </tr>\n",
       "    <tr>\n",
       "      <th>max</th>\n",
       "      <td>50.000000</td>\n",
       "      <td>763000.000000</td>\n",
       "      <td>900.000000</td>\n",
       "      <td>19.000000</td>\n",
       "      <td>100.000000</td>\n",
       "      <td>60.000000</td>\n",
       "      <td>409.700000</td>\n",
       "      <td>33.000000</td>\n",
       "      <td>112.000000</td>\n",
       "      <td>5.000000</td>\n",
       "      <td>84869.000000</td>\n",
       "      <td>65968.000000</td>\n",
       "      <td>3.000000</td>\n",
       "      <td>3190.000000</td>\n",
       "      <td>3.000000</td>\n",
       "      <td>1344.000000</td>\n",
       "      <td>1580.000000</td>\n",
       "    </tr>\n",
       "  </tbody>\n",
       "</table>\n",
       "</div>"
      ],
      "text/plain": [
       "       total_images     last_price    total_area         rooms  \\\n",
       "count  23565.000000   23565.000000  23565.000000  23565.000000   \n",
       "mean       9.878421    6540.058260     60.322824      2.070189   \n",
       "std        5.681156   10910.934722     35.657060      1.079270   \n",
       "min        0.000000      12.190000     12.000000      0.000000   \n",
       "25%        6.000000    3400.000000     40.000000      1.000000   \n",
       "50%        9.000000    4646.000000     52.000000      2.000000   \n",
       "75%       14.000000    6790.000000     69.700000      3.000000   \n",
       "max       50.000000  763000.000000    900.000000     19.000000   \n",
       "\n",
       "       ceiling_height  floors_total   living_area         floor  kitchen_area  \\\n",
       "count    23565.000000  23565.000000  21700.000000  23565.000000  21489.000000   \n",
       "mean         2.705109     10.675875     34.454822      5.878124     10.489241   \n",
       "std          0.715918      6.594823     22.045359      4.871485      5.944202   \n",
       "min          1.000000      1.000000      2.000000      1.000000      0.000000   \n",
       "25%          2.600000      5.000000     18.600000      2.000000      7.000000   \n",
       "50%          2.650000      9.000000     30.000000      4.000000      9.000000   \n",
       "75%          2.700000     16.000000     42.300000      8.000000     12.000000   \n",
       "max        100.000000     60.000000    409.700000     33.000000    112.000000   \n",
       "\n",
       "            balcony  airports_nearest  city_centers_nearest  parks_around3000  \\\n",
       "count  23565.000000      18041.000000          18064.000000      18065.000000   \n",
       "mean       0.593677      28797.082701          14192.656056          0.611569   \n",
       "std        0.960660      12632.499735           8613.348153          0.802088   \n",
       "min        0.000000          0.000000            181.000000          0.000000   \n",
       "25%        0.000000      18565.000000           9238.000000          0.000000   \n",
       "50%        0.000000      26757.000000          13096.500000          0.000000   \n",
       "75%        1.000000      37273.000000          16285.000000          1.000000   \n",
       "max        5.000000      84869.000000          65968.000000          3.000000   \n",
       "\n",
       "       parks_nearest  ponds_around3000  ponds_nearest  days_exposition  \n",
       "count    8030.000000      18065.000000    9036.000000     20394.000000  \n",
       "mean      490.580448          0.769499     518.289509       180.741395  \n",
       "std       341.572956          0.938669     278.009558       219.732782  \n",
       "min         1.000000          0.000000      13.000000         1.000000  \n",
       "25%       288.000000          0.000000     293.000000        45.000000  \n",
       "50%       455.000000          1.000000     503.000000        95.000000  \n",
       "75%       612.000000          1.000000     730.000000       231.000000  \n",
       "max      3190.000000          3.000000    1344.000000      1580.000000  "
      ]
     },
     "execution_count": 26,
     "metadata": {},
     "output_type": "execute_result"
    }
   ],
   "source": [
    "data.describe()"
   ]
  },
  {
   "cell_type": "markdown",
   "metadata": {},
   "source": [
    "<div class=\"alert alert-danger\">\n",
    "<b>Комментарий ревьюера ❌:</b> В разделе \"Предобработка данных\" было проведено довольно много анализа и работы, все же стоит написать по нему хотя бы короткий вывод"
   ]
  },
  {
   "cell_type": "markdown",
   "metadata": {},
   "source": [
    "  Выполнена первая предобработка данных:\n",
    "        теперь цены квартир отображаются в тысячах рублей, \n",
    "        лишние нули не мешаютсяв поле \"дата размещения\" осталась только дата, \n",
    "        высоты потолков приведены к реалистичным, \n",
    "        пропущенные этажности зданий заполнены, \n",
    "        квартирам-студям назначено единое число комнат 0, \n",
    "        пропущенные значения в полях \"апартаменты\" и \"балкон\" заполнены, \n",
    "        столбец cityCenters_nearest переименован, \n",
    "        данные приведены к целочисленным, где это возможно."
   ]
  },
  {
   "cell_type": "markdown",
   "metadata": {},
   "source": [
    "<div class=\"alert alert-danger\">\n",
    "<b>Комментарий ревьюера v 2.0 ❌:</b> Хорошо, только нижние границы по столбцам немного недоразобрал. Обрати внимание например на нижние границы в потолках и ценах, могут-ли быть такие значения"
   ]
  },
  {
   "cell_type": "code",
   "execution_count": 64,
   "metadata": {},
   "outputs": [
    {
     "data": {
      "text/html": [
       "<div>\n",
       "<style scoped>\n",
       "    .dataframe tbody tr th:only-of-type {\n",
       "        vertical-align: middle;\n",
       "    }\n",
       "\n",
       "    .dataframe tbody tr th {\n",
       "        vertical-align: top;\n",
       "    }\n",
       "\n",
       "    .dataframe thead th {\n",
       "        text-align: right;\n",
       "    }\n",
       "</style>\n",
       "<table border=\"1\" class=\"dataframe\">\n",
       "  <thead>\n",
       "    <tr style=\"text-align: right;\">\n",
       "      <th></th>\n",
       "      <th>total_images</th>\n",
       "      <th>last_price</th>\n",
       "      <th>total_area</th>\n",
       "      <th>rooms</th>\n",
       "      <th>ceiling_height</th>\n",
       "      <th>floors_total</th>\n",
       "      <th>living_area</th>\n",
       "      <th>floor</th>\n",
       "      <th>is_apartment</th>\n",
       "      <th>studio</th>\n",
       "      <th>...</th>\n",
       "      <th>parks_around3000</th>\n",
       "      <th>parks_nearest</th>\n",
       "      <th>ponds_around3000</th>\n",
       "      <th>ponds_nearest</th>\n",
       "      <th>days_exposition</th>\n",
       "      <th>metre_price</th>\n",
       "      <th>dayofweek</th>\n",
       "      <th>month</th>\n",
       "      <th>year</th>\n",
       "      <th>city_centers_nearest_km</th>\n",
       "    </tr>\n",
       "  </thead>\n",
       "  <tbody>\n",
       "    <tr>\n",
       "      <th>count</th>\n",
       "      <td>23565.000000</td>\n",
       "      <td>23565.000000</td>\n",
       "      <td>23565.000000</td>\n",
       "      <td>23565.000000</td>\n",
       "      <td>23562.000000</td>\n",
       "      <td>23565.000000</td>\n",
       "      <td>21700.000000</td>\n",
       "      <td>23565.000000</td>\n",
       "      <td>23565.000000</td>\n",
       "      <td>23565.000000</td>\n",
       "      <td>...</td>\n",
       "      <td>18065.000000</td>\n",
       "      <td>8030.000000</td>\n",
       "      <td>18065.000000</td>\n",
       "      <td>9036.000000</td>\n",
       "      <td>20394.000000</td>\n",
       "      <td>23565.000000</td>\n",
       "      <td>23565.000000</td>\n",
       "      <td>23565.000000</td>\n",
       "      <td>23565.000000</td>\n",
       "      <td>18064.000000</td>\n",
       "    </tr>\n",
       "    <tr>\n",
       "      <th>mean</th>\n",
       "      <td>9.878421</td>\n",
       "      <td>6540.058260</td>\n",
       "      <td>60.322824</td>\n",
       "      <td>2.070189</td>\n",
       "      <td>2.705286</td>\n",
       "      <td>10.675875</td>\n",
       "      <td>34.454822</td>\n",
       "      <td>5.878124</td>\n",
       "      <td>0.002122</td>\n",
       "      <td>0.006196</td>\n",
       "      <td>...</td>\n",
       "      <td>0.611569</td>\n",
       "      <td>490.580448</td>\n",
       "      <td>0.769499</td>\n",
       "      <td>518.289509</td>\n",
       "      <td>180.741395</td>\n",
       "      <td>99.405837</td>\n",
       "      <td>2.567367</td>\n",
       "      <td>6.401570</td>\n",
       "      <td>2017.371016</td>\n",
       "      <td>14.186504</td>\n",
       "    </tr>\n",
       "    <tr>\n",
       "      <th>std</th>\n",
       "      <td>5.681156</td>\n",
       "      <td>10910.934722</td>\n",
       "      <td>35.657060</td>\n",
       "      <td>1.079270</td>\n",
       "      <td>0.715783</td>\n",
       "      <td>6.594823</td>\n",
       "      <td>22.045359</td>\n",
       "      <td>4.871485</td>\n",
       "      <td>0.046015</td>\n",
       "      <td>0.078470</td>\n",
       "      <td>...</td>\n",
       "      <td>0.802088</td>\n",
       "      <td>341.572956</td>\n",
       "      <td>0.938669</td>\n",
       "      <td>278.009558</td>\n",
       "      <td>219.732782</td>\n",
       "      <td>50.389433</td>\n",
       "      <td>1.788279</td>\n",
       "      <td>3.492948</td>\n",
       "      <td>1.037393</td>\n",
       "      <td>8.621131</td>\n",
       "    </tr>\n",
       "    <tr>\n",
       "      <th>min</th>\n",
       "      <td>0.000000</td>\n",
       "      <td>12.190000</td>\n",
       "      <td>12.000000</td>\n",
       "      <td>0.000000</td>\n",
       "      <td>2.000000</td>\n",
       "      <td>1.000000</td>\n",
       "      <td>2.000000</td>\n",
       "      <td>1.000000</td>\n",
       "      <td>0.000000</td>\n",
       "      <td>0.000000</td>\n",
       "      <td>...</td>\n",
       "      <td>0.000000</td>\n",
       "      <td>1.000000</td>\n",
       "      <td>0.000000</td>\n",
       "      <td>13.000000</td>\n",
       "      <td>1.000000</td>\n",
       "      <td>0.111835</td>\n",
       "      <td>0.000000</td>\n",
       "      <td>1.000000</td>\n",
       "      <td>2014.000000</td>\n",
       "      <td>0.000000</td>\n",
       "    </tr>\n",
       "    <tr>\n",
       "      <th>25%</th>\n",
       "      <td>6.000000</td>\n",
       "      <td>3400.000000</td>\n",
       "      <td>40.000000</td>\n",
       "      <td>1.000000</td>\n",
       "      <td>2.600000</td>\n",
       "      <td>5.000000</td>\n",
       "      <td>18.600000</td>\n",
       "      <td>2.000000</td>\n",
       "      <td>0.000000</td>\n",
       "      <td>0.000000</td>\n",
       "      <td>...</td>\n",
       "      <td>0.000000</td>\n",
       "      <td>288.000000</td>\n",
       "      <td>0.000000</td>\n",
       "      <td>293.000000</td>\n",
       "      <td>45.000000</td>\n",
       "      <td>76.566125</td>\n",
       "      <td>1.000000</td>\n",
       "      <td>3.000000</td>\n",
       "      <td>2017.000000</td>\n",
       "      <td>9.000000</td>\n",
       "    </tr>\n",
       "    <tr>\n",
       "      <th>50%</th>\n",
       "      <td>9.000000</td>\n",
       "      <td>4646.000000</td>\n",
       "      <td>52.000000</td>\n",
       "      <td>2.000000</td>\n",
       "      <td>2.650000</td>\n",
       "      <td>9.000000</td>\n",
       "      <td>30.000000</td>\n",
       "      <td>4.000000</td>\n",
       "      <td>0.000000</td>\n",
       "      <td>0.000000</td>\n",
       "      <td>...</td>\n",
       "      <td>0.000000</td>\n",
       "      <td>455.000000</td>\n",
       "      <td>1.000000</td>\n",
       "      <td>503.000000</td>\n",
       "      <td>95.000000</td>\n",
       "      <td>95.000000</td>\n",
       "      <td>3.000000</td>\n",
       "      <td>6.000000</td>\n",
       "      <td>2017.000000</td>\n",
       "      <td>13.000000</td>\n",
       "    </tr>\n",
       "    <tr>\n",
       "      <th>75%</th>\n",
       "      <td>14.000000</td>\n",
       "      <td>6790.000000</td>\n",
       "      <td>69.700000</td>\n",
       "      <td>3.000000</td>\n",
       "      <td>2.700000</td>\n",
       "      <td>16.000000</td>\n",
       "      <td>42.300000</td>\n",
       "      <td>8.000000</td>\n",
       "      <td>0.000000</td>\n",
       "      <td>0.000000</td>\n",
       "      <td>...</td>\n",
       "      <td>1.000000</td>\n",
       "      <td>612.000000</td>\n",
       "      <td>1.000000</td>\n",
       "      <td>730.000000</td>\n",
       "      <td>231.000000</td>\n",
       "      <td>114.213198</td>\n",
       "      <td>4.000000</td>\n",
       "      <td>10.000000</td>\n",
       "      <td>2018.000000</td>\n",
       "      <td>16.000000</td>\n",
       "    </tr>\n",
       "    <tr>\n",
       "      <th>max</th>\n",
       "      <td>50.000000</td>\n",
       "      <td>763000.000000</td>\n",
       "      <td>900.000000</td>\n",
       "      <td>19.000000</td>\n",
       "      <td>100.000000</td>\n",
       "      <td>60.000000</td>\n",
       "      <td>409.700000</td>\n",
       "      <td>33.000000</td>\n",
       "      <td>1.000000</td>\n",
       "      <td>1.000000</td>\n",
       "      <td>...</td>\n",
       "      <td>3.000000</td>\n",
       "      <td>3190.000000</td>\n",
       "      <td>3.000000</td>\n",
       "      <td>1344.000000</td>\n",
       "      <td>1580.000000</td>\n",
       "      <td>1907.500000</td>\n",
       "      <td>6.000000</td>\n",
       "      <td>12.000000</td>\n",
       "      <td>2019.000000</td>\n",
       "      <td>66.000000</td>\n",
       "    </tr>\n",
       "  </tbody>\n",
       "</table>\n",
       "<p>8 rows × 25 columns</p>\n",
       "</div>"
      ],
      "text/plain": [
       "       total_images     last_price    total_area         rooms  \\\n",
       "count  23565.000000   23565.000000  23565.000000  23565.000000   \n",
       "mean       9.878421    6540.058260     60.322824      2.070189   \n",
       "std        5.681156   10910.934722     35.657060      1.079270   \n",
       "min        0.000000      12.190000     12.000000      0.000000   \n",
       "25%        6.000000    3400.000000     40.000000      1.000000   \n",
       "50%        9.000000    4646.000000     52.000000      2.000000   \n",
       "75%       14.000000    6790.000000     69.700000      3.000000   \n",
       "max       50.000000  763000.000000    900.000000     19.000000   \n",
       "\n",
       "       ceiling_height  floors_total   living_area         floor  is_apartment  \\\n",
       "count    23562.000000  23565.000000  21700.000000  23565.000000  23565.000000   \n",
       "mean         2.705286     10.675875     34.454822      5.878124      0.002122   \n",
       "std          0.715783      6.594823     22.045359      4.871485      0.046015   \n",
       "min          2.000000      1.000000      2.000000      1.000000      0.000000   \n",
       "25%          2.600000      5.000000     18.600000      2.000000      0.000000   \n",
       "50%          2.650000      9.000000     30.000000      4.000000      0.000000   \n",
       "75%          2.700000     16.000000     42.300000      8.000000      0.000000   \n",
       "max        100.000000     60.000000    409.700000     33.000000      1.000000   \n",
       "\n",
       "             studio  ...  parks_around3000  parks_nearest  ponds_around3000  \\\n",
       "count  23565.000000  ...      18065.000000    8030.000000      18065.000000   \n",
       "mean       0.006196  ...          0.611569     490.580448          0.769499   \n",
       "std        0.078470  ...          0.802088     341.572956          0.938669   \n",
       "min        0.000000  ...          0.000000       1.000000          0.000000   \n",
       "25%        0.000000  ...          0.000000     288.000000          0.000000   \n",
       "50%        0.000000  ...          0.000000     455.000000          1.000000   \n",
       "75%        0.000000  ...          1.000000     612.000000          1.000000   \n",
       "max        1.000000  ...          3.000000    3190.000000          3.000000   \n",
       "\n",
       "       ponds_nearest  days_exposition   metre_price     dayofweek  \\\n",
       "count    9036.000000     20394.000000  23565.000000  23565.000000   \n",
       "mean      518.289509       180.741395     99.405837      2.567367   \n",
       "std       278.009558       219.732782     50.389433      1.788279   \n",
       "min        13.000000         1.000000      0.111835      0.000000   \n",
       "25%       293.000000        45.000000     76.566125      1.000000   \n",
       "50%       503.000000        95.000000     95.000000      3.000000   \n",
       "75%       730.000000       231.000000    114.213198      4.000000   \n",
       "max      1344.000000      1580.000000   1907.500000      6.000000   \n",
       "\n",
       "              month          year  city_centers_nearest_km  \n",
       "count  23565.000000  23565.000000             18064.000000  \n",
       "mean       6.401570   2017.371016                14.186504  \n",
       "std        3.492948      1.037393                 8.621131  \n",
       "min        1.000000   2014.000000                 0.000000  \n",
       "25%        3.000000   2017.000000                 9.000000  \n",
       "50%        6.000000   2017.000000                13.000000  \n",
       "75%       10.000000   2018.000000                16.000000  \n",
       "max       12.000000   2019.000000                66.000000  \n",
       "\n",
       "[8 rows x 25 columns]"
      ]
     },
     "execution_count": 64,
     "metadata": {},
     "output_type": "execute_result"
    }
   ],
   "source": [
    "data.loc[data['ceiling_height'] < 2,'ceiling_height'] = None\n",
    "data.describe()"
   ]
  },
  {
   "cell_type": "markdown",
   "metadata": {},
   "source": [
    "<div class=\"alert alert-info\"> <b>Комментарий студента:</b> Стоимость квартиры за 12 млн., я считаю это довольно-таки неплохой минмум)</div>"
   ]
  },
  {
   "cell_type": "markdown",
   "metadata": {},
   "source": [
    "<div class=\"alert alert-warning\">\n",
    "<b>Комментарий ревьюера v 3.0 ⚠️:</b> Но в last_price данные у нас не в миллионах, мы разделил столбец на 1000 и в нижней границе сейчас 12 целых 190 тысячных, 12190 рублей"
   ]
  },
  {
   "cell_type": "markdown",
   "metadata": {},
   "source": [
    "<div class=\"alert alert-info\"> <b>Комментарий студента:</b> Готово.</div>"
   ]
  },
  {
   "cell_type": "markdown",
   "metadata": {},
   "source": [
    "<div class=\"alert alert-success\">\n",
    "<b>Комментарий ревьюера v 2.0 ✔️:</b> Вывод добавлен"
   ]
  },
  {
   "cell_type": "markdown",
   "metadata": {},
   "source": [
    "### Посчитайте и добавьте в таблицу новые столбцы"
   ]
  },
  {
   "cell_type": "markdown",
   "metadata": {},
   "source": [
    "    цена одного квадратного метра"
   ]
  },
  {
   "cell_type": "code",
   "execution_count": 28,
   "metadata": {},
   "outputs": [],
   "source": [
    "data['metre_price'] = data['last_price'] / data['total_area']"
   ]
  },
  {
   "cell_type": "markdown",
   "metadata": {},
   "source": [
    "    день недели публикации объявления (0 — понедельник, 1 — вторник и так далее)"
   ]
  },
  {
   "cell_type": "code",
   "execution_count": 29,
   "metadata": {},
   "outputs": [],
   "source": [
    "data['dayofweek'] = data['first_day_exposition'].dt.dayofweek"
   ]
  },
  {
   "cell_type": "markdown",
   "metadata": {},
   "source": [
    "    месяц публикации объявления"
   ]
  },
  {
   "cell_type": "code",
   "execution_count": 30,
   "metadata": {},
   "outputs": [],
   "source": [
    "data['month'] = data['first_day_exposition'].dt.month"
   ]
  },
  {
   "cell_type": "markdown",
   "metadata": {},
   "source": [
    "    год публикации объявления"
   ]
  },
  {
   "cell_type": "code",
   "execution_count": 31,
   "metadata": {},
   "outputs": [],
   "source": [
    "data['year'] = data['first_day_exposition'].dt.year"
   ]
  },
  {
   "cell_type": "markdown",
   "metadata": {},
   "source": [
    "    тип этажа квартиры (значения — «‎первый», «последний», «другой»)"
   ]
  },
  {
   "cell_type": "code",
   "execution_count": 32,
   "metadata": {},
   "outputs": [],
   "source": [
    "\n",
    "data['floor_group'] = 'другой'\n",
    "data['floor_group'] = data['floor_group'].where(data['floor'] > 1, 'первый')\n",
    "data['floor_group'] = data['floor_group'].where(data['floor'] < data['floors_total'], 'последний')"
   ]
  },
  {
   "cell_type": "markdown",
   "metadata": {},
   "source": [
    "    расстояние до центра города в километрах (переведем из м в км и округлим до целых значений)"
   ]
  },
  {
   "cell_type": "code",
   "execution_count": 33,
   "metadata": {},
   "outputs": [],
   "source": [
    "data['city_centers_nearest_km'] = round(data['city_centers_nearest'] / 1000)"
   ]
  },
  {
   "cell_type": "markdown",
   "metadata": {},
   "source": [
    "<div class=\"alert alert-success\">\n",
    "<b>Комментарий ревьюера ✔️:</b> Великолепно, все пункты задания выполнены в полном объёме"
   ]
  },
  {
   "cell_type": "markdown",
   "metadata": {},
   "source": [
    "### Проведите исследовательский анализ данных"
   ]
  },
  {
   "cell_type": "code",
   "execution_count": null,
   "metadata": {},
   "outputs": [],
   "source": []
  },
  {
   "cell_type": "code",
   "execution_count": 34,
   "metadata": {},
   "outputs": [
    {
     "data": {
      "text/html": [
       "<div>\n",
       "<style scoped>\n",
       "    .dataframe tbody tr th:only-of-type {\n",
       "        vertical-align: middle;\n",
       "    }\n",
       "\n",
       "    .dataframe tbody tr th {\n",
       "        vertical-align: top;\n",
       "    }\n",
       "\n",
       "    .dataframe thead th {\n",
       "        text-align: right;\n",
       "    }\n",
       "</style>\n",
       "<table border=\"1\" class=\"dataframe\">\n",
       "  <thead>\n",
       "    <tr style=\"text-align: right;\">\n",
       "      <th></th>\n",
       "      <th>total_images</th>\n",
       "      <th>last_price</th>\n",
       "      <th>total_area</th>\n",
       "      <th>first_day_exposition</th>\n",
       "      <th>rooms</th>\n",
       "      <th>ceiling_height</th>\n",
       "      <th>floors_total</th>\n",
       "      <th>living_area</th>\n",
       "      <th>floor</th>\n",
       "      <th>is_apartment</th>\n",
       "      <th>...</th>\n",
       "      <th>parks_nearest</th>\n",
       "      <th>ponds_around3000</th>\n",
       "      <th>ponds_nearest</th>\n",
       "      <th>days_exposition</th>\n",
       "      <th>metre_price</th>\n",
       "      <th>dayofweek</th>\n",
       "      <th>month</th>\n",
       "      <th>year</th>\n",
       "      <th>floor_group</th>\n",
       "      <th>city_centers_nearest_km</th>\n",
       "    </tr>\n",
       "  </thead>\n",
       "  <tbody>\n",
       "    <tr>\n",
       "      <th>0</th>\n",
       "      <td>20</td>\n",
       "      <td>13000.0</td>\n",
       "      <td>108.0</td>\n",
       "      <td>2019-03-07</td>\n",
       "      <td>3</td>\n",
       "      <td>2.70</td>\n",
       "      <td>16</td>\n",
       "      <td>51.0</td>\n",
       "      <td>8</td>\n",
       "      <td>False</td>\n",
       "      <td>...</td>\n",
       "      <td>482.0</td>\n",
       "      <td>2.0</td>\n",
       "      <td>755.0</td>\n",
       "      <td>NaN</td>\n",
       "      <td>120.370370</td>\n",
       "      <td>3</td>\n",
       "      <td>3</td>\n",
       "      <td>2019</td>\n",
       "      <td>другой</td>\n",
       "      <td>16.0</td>\n",
       "    </tr>\n",
       "    <tr>\n",
       "      <th>1</th>\n",
       "      <td>7</td>\n",
       "      <td>3350.0</td>\n",
       "      <td>40.4</td>\n",
       "      <td>2018-12-04</td>\n",
       "      <td>1</td>\n",
       "      <td>2.65</td>\n",
       "      <td>11</td>\n",
       "      <td>18.6</td>\n",
       "      <td>1</td>\n",
       "      <td>False</td>\n",
       "      <td>...</td>\n",
       "      <td>NaN</td>\n",
       "      <td>0.0</td>\n",
       "      <td>NaN</td>\n",
       "      <td>81.0</td>\n",
       "      <td>82.920792</td>\n",
       "      <td>1</td>\n",
       "      <td>12</td>\n",
       "      <td>2018</td>\n",
       "      <td>первый</td>\n",
       "      <td>19.0</td>\n",
       "    </tr>\n",
       "    <tr>\n",
       "      <th>2</th>\n",
       "      <td>10</td>\n",
       "      <td>5196.0</td>\n",
       "      <td>56.0</td>\n",
       "      <td>2015-08-20</td>\n",
       "      <td>2</td>\n",
       "      <td>2.65</td>\n",
       "      <td>5</td>\n",
       "      <td>34.3</td>\n",
       "      <td>4</td>\n",
       "      <td>False</td>\n",
       "      <td>...</td>\n",
       "      <td>90.0</td>\n",
       "      <td>2.0</td>\n",
       "      <td>574.0</td>\n",
       "      <td>558.0</td>\n",
       "      <td>92.785714</td>\n",
       "      <td>3</td>\n",
       "      <td>8</td>\n",
       "      <td>2015</td>\n",
       "      <td>другой</td>\n",
       "      <td>14.0</td>\n",
       "    </tr>\n",
       "    <tr>\n",
       "      <th>3</th>\n",
       "      <td>0</td>\n",
       "      <td>64900.0</td>\n",
       "      <td>159.0</td>\n",
       "      <td>2015-07-24</td>\n",
       "      <td>3</td>\n",
       "      <td>2.65</td>\n",
       "      <td>14</td>\n",
       "      <td>NaN</td>\n",
       "      <td>9</td>\n",
       "      <td>False</td>\n",
       "      <td>...</td>\n",
       "      <td>84.0</td>\n",
       "      <td>3.0</td>\n",
       "      <td>234.0</td>\n",
       "      <td>424.0</td>\n",
       "      <td>408.176101</td>\n",
       "      <td>4</td>\n",
       "      <td>7</td>\n",
       "      <td>2015</td>\n",
       "      <td>другой</td>\n",
       "      <td>7.0</td>\n",
       "    </tr>\n",
       "    <tr>\n",
       "      <th>4</th>\n",
       "      <td>2</td>\n",
       "      <td>10000.0</td>\n",
       "      <td>100.0</td>\n",
       "      <td>2018-06-19</td>\n",
       "      <td>2</td>\n",
       "      <td>3.03</td>\n",
       "      <td>14</td>\n",
       "      <td>32.0</td>\n",
       "      <td>13</td>\n",
       "      <td>False</td>\n",
       "      <td>...</td>\n",
       "      <td>112.0</td>\n",
       "      <td>1.0</td>\n",
       "      <td>48.0</td>\n",
       "      <td>121.0</td>\n",
       "      <td>100.000000</td>\n",
       "      <td>1</td>\n",
       "      <td>6</td>\n",
       "      <td>2018</td>\n",
       "      <td>другой</td>\n",
       "      <td>8.0</td>\n",
       "    </tr>\n",
       "  </tbody>\n",
       "</table>\n",
       "<p>5 rows × 28 columns</p>\n",
       "</div>"
      ],
      "text/plain": [
       "   total_images  last_price  total_area first_day_exposition  rooms  \\\n",
       "0            20     13000.0       108.0           2019-03-07      3   \n",
       "1             7      3350.0        40.4           2018-12-04      1   \n",
       "2            10      5196.0        56.0           2015-08-20      2   \n",
       "3             0     64900.0       159.0           2015-07-24      3   \n",
       "4             2     10000.0       100.0           2018-06-19      2   \n",
       "\n",
       "   ceiling_height  floors_total  living_area  floor  is_apartment  ...  \\\n",
       "0            2.70            16         51.0      8         False  ...   \n",
       "1            2.65            11         18.6      1         False  ...   \n",
       "2            2.65             5         34.3      4         False  ...   \n",
       "3            2.65            14          NaN      9         False  ...   \n",
       "4            3.03            14         32.0     13         False  ...   \n",
       "\n",
       "   parks_nearest  ponds_around3000  ponds_nearest  days_exposition  \\\n",
       "0          482.0               2.0          755.0              NaN   \n",
       "1            NaN               0.0            NaN             81.0   \n",
       "2           90.0               2.0          574.0            558.0   \n",
       "3           84.0               3.0          234.0            424.0   \n",
       "4          112.0               1.0           48.0            121.0   \n",
       "\n",
       "  metre_price  dayofweek  month  year  floor_group  city_centers_nearest_km  \n",
       "0  120.370370          3      3  2019       другой                     16.0  \n",
       "1   82.920792          1     12  2018       первый                     19.0  \n",
       "2   92.785714          3      8  2015       другой                     14.0  \n",
       "3  408.176101          4      7  2015       другой                      7.0  \n",
       "4  100.000000          1      6  2018       другой                      8.0  \n",
       "\n",
       "[5 rows x 28 columns]"
      ]
     },
     "execution_count": 34,
     "metadata": {},
     "output_type": "execute_result"
    }
   ],
   "source": [
    "data.head()"
   ]
  },
  {
   "cell_type": "markdown",
   "metadata": {},
   "source": [
    "общая площадь"
   ]
  },
  {
   "cell_type": "code",
   "execution_count": 35,
   "metadata": {},
   "outputs": [
    {
     "name": "stdout",
     "output_type": "stream",
     "text": [
      "count    23565.000000\n",
      "mean        60.322824\n",
      "std         35.657060\n",
      "min         12.000000\n",
      "25%         40.000000\n",
      "50%         52.000000\n",
      "75%         69.700000\n",
      "max        900.000000\n",
      "Name: total_area, dtype: float64\n"
     ]
    },
    {
     "data": {
      "image/png": "[encoded data removed]",
      "text/plain": [
       "<Figure size 432x288 with 1 Axes>"
      ]
     },
     "metadata": {
      "needs_background": "light"
     },
     "output_type": "display_data"
    }
   ],
   "source": [
    "data.hist('total_area', bins=100);\n",
    "print(data['total_area'].describe())"
   ]
  },
  {
   "cell_type": "markdown",
   "metadata": {},
   "source": [
    "Из гистограммы видно, что большим спросом пользуются квартиры до 70 м2, среднее значение площади составляет - 60 м2. "
   ]
  },
  {
   "cell_type": "markdown",
   "metadata": {},
   "source": [
    "<div class=\"alert alert-success\">\n",
    "<b>Комментарий ревьюера v 2.0 ✔️:</b> Соглашусь)"
   ]
  },
  {
   "cell_type": "markdown",
   "metadata": {},
   "source": [
    "<div class=\"alert alert-success\">\n",
    "<b>Комментарий ревьюера ✔️:</b> Последовательно строишь графики по всем необходимым столбцам"
   ]
  },
  {
   "cell_type": "markdown",
   "metadata": {},
   "source": [
    "<div class=\"alert alert-warning\">\n",
    "<b>Комментарий ревьюера ⚠️:</b> Могу посоветовать посмотреть данные материалы, чтобы научиться оформлять графики еще лучше:\n",
    "\n",
    "[Здесь](https://pyprog.pro/mpl/mpl_title.html)\n",
    "  \n",
    "[И здесь](https://pyprog.pro/mpl/mpl_axis_signatures.html)\n",
    "    \n",
    "[И вот тут](https://www.python-graph-gallery.com)\n",
    "    \n",
    "   "
   ]
  },
  {
   "cell_type": "markdown",
   "metadata": {},
   "source": [
    "жилая площадь"
   ]
  },
  {
   "cell_type": "code",
   "execution_count": 36,
   "metadata": {},
   "outputs": [
    {
     "name": "stdout",
     "output_type": "stream",
     "text": [
      "count    21700.000000\n",
      "mean        34.454822\n",
      "std         22.045359\n",
      "min          2.000000\n",
      "25%         18.600000\n",
      "50%         30.000000\n",
      "75%         42.300000\n",
      "max        409.700000\n",
      "Name: living_area, dtype: float64\n"
     ]
    },
    {
     "data": {
      "image/png": "[encoded data removed]",
      "text/plain": [
       "<Figure size 432x288 with 1 Axes>"
      ]
     },
     "metadata": {
      "needs_background": "light"
     },
     "output_type": "display_data"
    }
   ],
   "source": [
    "data.hist('living_area', bins=100);\n",
    "print(data['living_area'].describe())"
   ]
  },
  {
   "cell_type": "markdown",
   "metadata": {},
   "source": [
    "Из гистограммы видно, что большим спросом пользуются квартиры , жилая площадь которых имеет среднее значение - 35 м2."
   ]
  },
  {
   "cell_type": "markdown",
   "metadata": {},
   "source": [
    "<div class=\"alert alert-success\">\n",
    "<b>Комментарий ревьюера v 2.0 ✔️:</b> Вполне похоже на правду"
   ]
  },
  {
   "cell_type": "markdown",
   "metadata": {},
   "source": [
    "площадь кухни"
   ]
  },
  {
   "cell_type": "code",
   "execution_count": 65,
   "metadata": {},
   "outputs": [
    {
     "name": "stdout",
     "output_type": "stream",
     "text": [
      "count    21489.000000\n",
      "mean        10.489241\n",
      "std          5.944202\n",
      "min          0.000000\n",
      "25%          7.000000\n",
      "50%          9.000000\n",
      "75%         12.000000\n",
      "max        112.000000\n",
      "Name: kitchen_area, dtype: float64\n"
     ]
    },
    {
     "data": {
      "image/png": "[encoded data removed]",
      "text/plain": [
       "<Figure size 432x288 with 1 Axes>"
      ]
     },
     "metadata": {
      "needs_background": "light"
     },
     "output_type": "display_data"
    }
   ],
   "source": [
    "data.hist('kitchen_area', bins=100,range = (0,50));\n",
    "print(data['kitchen_area'].describe())"
   ]
  },
  {
   "cell_type": "markdown",
   "metadata": {},
   "source": [
    "средняя площадь кухонь в предложенных квартирах составляет 6 м"
   ]
  },
  {
   "cell_type": "markdown",
   "metadata": {},
   "source": [
    "<div class=\"alert alert-success\">\n",
    "<b>Комментарий ревьюера v 3.0 ✔️:</b> Да, в основном около 6 метров"
   ]
  },
  {
   "cell_type": "markdown",
   "metadata": {},
   "source": [
    "<div class=\"alert alert-danger\">\n",
    "<b>Комментарий ревьюера v 2.0 ❌:</b> Добавь здесь пожалуйста комментарий"
   ]
  },
  {
   "cell_type": "markdown",
   "metadata": {},
   "source": [
    "цена объекта"
   ]
  },
  {
   "cell_type": "markdown",
   "metadata": {},
   "source": [
    "<div class=\"alert alert-warning\">\n",
    "<b>Комментарий ревьюера ⚠️:</b> Тут хорошо бы отредактировать bins и range"
   ]
  },
  {
   "cell_type": "markdown",
   "metadata": {},
   "source": [
    "<div class=\"alert alert-info\"> <b>Комментарий студента:</b> Так даже лучше)</div>"
   ]
  },
  {
   "cell_type": "markdown",
   "metadata": {},
   "source": [
    "<div class=\"alert alert-warning\">\n",
    "<b>Комментарий ревьюера v 2.0 ⚠️:</b> Только комментарий был по ценам)"
   ]
  },
  {
   "cell_type": "markdown",
   "metadata": {},
   "source": [
    "<div class=\"alert alert-danger\">\n",
    "<b>Комментарий ревьюера v 2.0 ❌:</b> Здесь также добавь пожалуйста комментарий и после редактирования графика это будет сделать легче"
   ]
  },
  {
   "cell_type": "code",
   "execution_count": 67,
   "metadata": {},
   "outputs": [
    {
     "name": "stdout",
     "output_type": "stream",
     "text": [
      "count     23565.000000\n",
      "mean       6540.058260\n",
      "std       10910.934722\n",
      "min          12.190000\n",
      "25%        3400.000000\n",
      "50%        4646.000000\n",
      "75%        6790.000000\n",
      "max      763000.000000\n",
      "Name: last_price, dtype: float64\n"
     ]
    },
    {
     "data": {
      "image/png": "[encoded data removed]",
      "text/plain": [
       "<Figure size 432x288 with 1 Axes>"
      ]
     },
     "metadata": {
      "needs_background": "light"
     },
     "output_type": "display_data"
    }
   ],
   "source": [
    "data.hist('last_price', bins=100,range = (0,1000));\n",
    "print(data['last_price'].describe())"
   ]
  },
  {
   "cell_type": "code",
   "execution_count": null,
   "metadata": {},
   "outputs": [],
   "source": [
    "стоимость квартир начинается с 12 миллионов и уходит в космос)"
   ]
  },
  {
   "cell_type": "markdown",
   "metadata": {},
   "source": [
    "<div class=\"alert alert-warning\">\n",
    "<b>Комментарий ревьюера v 3.0 ⚠️:</b> Не с 12 миллионов) И основная часть около 4-5 млн"
   ]
  },
  {
   "cell_type": "markdown",
   "metadata": {},
   "source": [
    "количество комнат"
   ]
  },
  {
   "cell_type": "code",
   "execution_count": 39,
   "metadata": {},
   "outputs": [
    {
     "name": "stdout",
     "output_type": "stream",
     "text": [
      "count    23565.000000\n",
      "mean         2.070189\n",
      "std          1.079270\n",
      "min          0.000000\n",
      "25%          1.000000\n",
      "50%          2.000000\n",
      "75%          3.000000\n",
      "max         19.000000\n",
      "Name: rooms, dtype: float64\n"
     ]
    },
    {
     "data": {
      "image/png": "[encoded data removed]",
      "text/plain": [
       "<Figure size 432x288 with 1 Axes>"
      ]
     },
     "metadata": {
      "needs_background": "light"
     },
     "output_type": "display_data"
    }
   ],
   "source": [
    "data.hist('rooms', bins=data['rooms'].max());\n",
    "print(data['rooms'].describe())"
   ]
  },
  {
   "cell_type": "markdown",
   "metadata": {},
   "source": [
    "<div class=\"alert alert-success\">\n",
    "<b>Комментарий ревьюера v 2.0 ✔️:</b> Верно"
   ]
  },
  {
   "cell_type": "markdown",
   "metadata": {},
   "source": [
    "более продаваемы двух комнатные квартиры"
   ]
  },
  {
   "cell_type": "code",
   "execution_count": 69,
   "metadata": {},
   "outputs": [
    {
     "name": "stdout",
     "output_type": "stream",
     "text": [
      "count    23562.000000\n",
      "mean         2.705286\n",
      "std          0.715783\n",
      "min          2.000000\n",
      "25%          2.600000\n",
      "50%          2.650000\n",
      "75%          2.700000\n",
      "max        100.000000\n",
      "Name: ceiling_height, dtype: float64\n"
     ]
    },
    {
     "data": {
      "image/png": "[encoded data removed]",
      "text/plain": [
       "<Figure size 432x288 with 1 Axes>"
      ]
     },
     "metadata": {
      "needs_background": "light"
     },
     "output_type": "display_data"
    }
   ],
   "source": [
    "data.hist('ceiling_height', bins=10);\n",
    "print(data['ceiling_height'].describe())"
   ]
  },
  {
   "cell_type": "markdown",
   "metadata": {},
   "source": [
    "средняя высота потолков - стандартная: от 2 до 3 метров"
   ]
  },
  {
   "cell_type": "markdown",
   "metadata": {},
   "source": [
    "<div class=\"alert alert-danger\">\n",
    "<b>Комментарий ревьюера v 2.0 ❌:</b> Для потолков также поправь пожалуйста график и добавь комментарий"
   ]
  },
  {
   "cell_type": "code",
   "execution_count": null,
   "metadata": {},
   "outputs": [],
   "source": []
  },
  {
   "cell_type": "markdown",
   "metadata": {},
   "source": [
    "этаж квартиры"
   ]
  },
  {
   "cell_type": "markdown",
   "metadata": {},
   "source": [
    "<div class=\"alert alert-danger\">\n",
    "<b>Комментарий ревьюера v 2.0 ❌:</b> И по всем графикам этажей"
   ]
  },
  {
   "cell_type": "code",
   "execution_count": 74,
   "metadata": {},
   "outputs": [
    {
     "name": "stdout",
     "output_type": "stream",
     "text": [
      "count    23565.000000\n",
      "mean         5.878124\n",
      "std          4.871485\n",
      "min          1.000000\n",
      "25%          2.000000\n",
      "50%          4.000000\n",
      "75%          8.000000\n",
      "max         33.000000\n",
      "Name: floor, dtype: float64\n"
     ]
    },
    {
     "data": {
      "image/png": "[encoded data removed]",
      "text/plain": [
       "<Figure size 432x288 with 1 Axes>"
      ]
     },
     "metadata": {
      "needs_background": "light"
     },
     "output_type": "display_data"
    }
   ],
   "source": [
    "data.hist('floor', bins= 10);\n",
    "print(data['floor'].describe())"
   ]
  },
  {
   "cell_type": "markdown",
   "metadata": {},
   "source": [
    "<div class=\"alert alert-success\">\n",
    "<b>Комментарий ревьюера v 3.0 ✔️:</b> И сама застройка похоже низкоэтажная"
   ]
  },
  {
   "cell_type": "markdown",
   "metadata": {},
   "source": [
    "чаще всего продаются квартиры до 4 этажа"
   ]
  },
  {
   "cell_type": "code",
   "execution_count": 76,
   "metadata": {},
   "outputs": [
    {
     "name": "stdout",
     "output_type": "stream",
     "text": [
      "count    23565.000000\n",
      "mean        10.675875\n",
      "std          6.594823\n",
      "min          1.000000\n",
      "25%          5.000000\n",
      "50%          9.000000\n",
      "75%         16.000000\n",
      "max         60.000000\n",
      "Name: floors_total, dtype: float64\n"
     ]
    },
    {
     "data": {
      "image/png": "[encoded data removed]",
      "text/plain": [
       "<Figure size 432x288 with 1 Axes>"
      ]
     },
     "metadata": {
      "needs_background": "light"
     },
     "output_type": "display_data"
    }
   ],
   "source": [
    "data.hist('floors_total', bins=40);\n",
    "print(data['floors_total'].describe())"
   ]
  },
  {
   "cell_type": "markdown",
   "metadata": {},
   "source": [
    "<div class=\"alert alert-success\">\n",
    "<b>Комментарий ревьюера v 3.0 ✔️:</b> Типовые дома выделяются"
   ]
  },
  {
   "cell_type": "markdown",
   "metadata": {},
   "source": [
    "больше квартиры продаются в пяти и девятиэтажных домах"
   ]
  },
  {
   "cell_type": "markdown",
   "metadata": {},
   "source": [
    "<div class=\"alert alert-danger\">\n",
    "<b>Комментарий ревьюера v 2.0 ❌:</b> Также и по параметрам удаленности"
   ]
  },
  {
   "cell_type": "code",
   "execution_count": 77,
   "metadata": {},
   "outputs": [
    {
     "name": "stdout",
     "output_type": "stream",
     "text": [
      "count    18064.000000\n",
      "mean     14192.656056\n",
      "std       8613.348153\n",
      "min        181.000000\n",
      "25%       9238.000000\n",
      "50%      13096.500000\n",
      "75%      16285.000000\n",
      "max      65968.000000\n",
      "Name: city_centers_nearest, dtype: float64\n"
     ]
    },
    {
     "data": {
      "image/png": "[encoded data removed]",
      "text/plain": [
       "<Figure size 432x288 with 1 Axes>"
      ]
     },
     "metadata": {
      "needs_background": "light"
     },
     "output_type": "display_data"
    }
   ],
   "source": [
    "data.hist('city_centers_nearest', bins=100);\n",
    "print(data['city_centers_nearest'].describe())"
   ]
  },
  {
   "cell_type": "markdown",
   "metadata": {},
   "source": [
    "<div class=\"alert alert-success\">\n",
    "<b>Комментарий ревьюера v 3.0 ✔️:</b> Да, чаще всего в спальных районах"
   ]
  },
  {
   "cell_type": "markdown",
   "metadata": {},
   "source": [
    "больше всего квартир продается на достаточном удалении от центра"
   ]
  },
  {
   "cell_type": "markdown",
   "metadata": {},
   "source": [
    "расстояние до ближайшего аэропорта"
   ]
  },
  {
   "cell_type": "code",
   "execution_count": 79,
   "metadata": {},
   "outputs": [
    {
     "name": "stdout",
     "output_type": "stream",
     "text": [
      "count    18041.000000\n",
      "mean     28797.082701\n",
      "std      12632.499735\n",
      "min          0.000000\n",
      "25%      18565.000000\n",
      "50%      26757.000000\n",
      "75%      37273.000000\n",
      "max      84869.000000\n",
      "Name: airports_nearest, dtype: float64\n"
     ]
    },
    {
     "data": {
      "image/png": "[encoded data removed]",
      "text/plain": [
       "<Figure size 432x288 with 1 Axes>"
      ]
     },
     "metadata": {
      "needs_background": "light"
     },
     "output_type": "display_data"
    }
   ],
   "source": [
    "data.hist('airports_nearest', bins=100);\n",
    "print(data['airports_nearest'].describe())"
   ]
  },
  {
   "cell_type": "markdown",
   "metadata": {},
   "source": [
    "среднее удаление от аэропорта - 25 км. что не удивительно т.к. аэропрты не строят слишком близко к городу"
   ]
  },
  {
   "cell_type": "markdown",
   "metadata": {},
   "source": [
    "<div class=\"alert alert-success\">\n",
    "<b>Комментарий ревьюера v 3.0 ✔️:</b> Хорошо"
   ]
  },
  {
   "cell_type": "markdown",
   "metadata": {},
   "source": [
    "расстояние до ближайшего парка "
   ]
  },
  {
   "cell_type": "code",
   "execution_count": 80,
   "metadata": {},
   "outputs": [
    {
     "name": "stdout",
     "output_type": "stream",
     "text": [
      "count    8030.000000\n",
      "mean      490.580448\n",
      "std       341.572956\n",
      "min         1.000000\n",
      "25%       288.000000\n",
      "50%       455.000000\n",
      "75%       612.000000\n",
      "max      3190.000000\n",
      "Name: parks_nearest, dtype: float64\n"
     ]
    },
    {
     "data": {
      "image/png": "[encoded data removed]",
      "text/plain": [
       "<Figure size 432x288 with 1 Axes>"
      ]
     },
     "metadata": {
      "needs_background": "light"
     },
     "output_type": "display_data"
    }
   ],
   "source": [
    "data.hist('parks_nearest', bins=100);\n",
    "print(data['parks_nearest'].describe())"
   ]
  },
  {
   "cell_type": "markdown",
   "metadata": {},
   "source": [
    "<div class=\"alert alert-success\">\n",
    "<b>Комментарий ревьюера v 3.0 ✔️:</b> Согласен"
   ]
  },
  {
   "cell_type": "markdown",
   "metadata": {},
   "source": [
    "в городе очень много парков"
   ]
  },
  {
   "cell_type": "markdown",
   "metadata": {},
   "source": [
    "день"
   ]
  },
  {
   "cell_type": "code",
   "execution_count": 46,
   "metadata": {},
   "outputs": [
    {
     "data": {
      "image/png": "[encoded data removed]",
      "text/plain": [
       "<Figure size 432x288 with 1 Axes>"
      ]
     },
     "metadata": {
      "needs_background": "light"
     },
     "output_type": "display_data"
    }
   ],
   "source": [
    "data.hist('dayofweek', bins=7);"
   ]
  },
  {
   "cell_type": "markdown",
   "metadata": {},
   "source": [
    "в будние дни предложений с недвижимостью совершается почти в два раза больше чем в выходные"
   ]
  },
  {
   "cell_type": "markdown",
   "metadata": {},
   "source": [
    "<div class=\"alert alert-success\">\n",
    "<b>Комментарий ревьюера v 2.0 ✔️:</b> В выходные объявлений меньше"
   ]
  },
  {
   "cell_type": "markdown",
   "metadata": {},
   "source": [
    "месяц"
   ]
  },
  {
   "cell_type": "code",
   "execution_count": 47,
   "metadata": {},
   "outputs": [
    {
     "data": {
      "image/png": "[encoded data removed]",
      "text/plain": [
       "<Figure size 432x288 with 1 Axes>"
      ]
     },
     "metadata": {
      "needs_background": "light"
     },
     "output_type": "display_data"
    }
   ],
   "source": [
    "data.hist('month', bins=12);"
   ]
  },
  {
   "cell_type": "markdown",
   "metadata": {},
   "source": [
    "самый удачный месяц для продажи кватриры - февраль. самый не удачный - май, вероятно обусловлено это подготовкой людей к летним отпускам и началом дачного сезона"
   ]
  },
  {
   "cell_type": "markdown",
   "metadata": {},
   "source": [
    "<div class=\"alert alert-success\">\n",
    "<b>Комментарий ревьюера v 2.0 ✔️:</b> Верно"
   ]
  },
  {
   "cell_type": "markdown",
   "metadata": {},
   "source": [
    "<div class=\"alert alert-danger\">\n",
    "<b>Комментарий ревьюера ❌:</b> Хорошо построил графики по параметрам, но по заданию также просили указать для них комментарии"
   ]
  },
  {
   "cell_type": "code",
   "execution_count": 48,
   "metadata": {},
   "outputs": [
    {
     "name": "stdout",
     "output_type": "stream",
     "text": [
      "Среднее время продажи квартиры в днях: 180\n",
      "Медианное время продажи квартиры в днях: 95\n",
      "Количество объявлений, которые сняты через:\n",
      "45 дней: 0\n",
      "60 дней: 538\n",
      "90 дней: 0\n"
     ]
    },
    {
     "data": {
      "image/png": "[encoded data removed]",
      "text/plain": [
       "<Figure size 432x288 with 1 Axes>"
      ]
     },
     "metadata": {
      "needs_background": "light"
     },
     "output_type": "display_data"
    }
   ],
   "source": [
    "data.hist('days_exposition', bins=100);\n",
    "#data.hist('days_exposition', bins=100, range = (0,100));\n",
    "print(f'Среднее время продажи квартиры в днях:',int(data['days_exposition'].mean()))\n",
    "print('Медианное время продажи квартиры в днях:',int(data['days_exposition'].median()))\n",
    "\n",
    "print('Количество объявлений, которые сняты через:')\n",
    "print('45 дней:',data[data['days_exposition']==45]['days_exposition'].count())\n",
    "print('60 дней:',data[data['days_exposition']==60]['days_exposition'].count())\n",
    "print('90 дней:',data[data['days_exposition']==90]['days_exposition'].count())"
   ]
  },
  {
   "cell_type": "markdown",
   "metadata": {},
   "source": [
    "Можно сказать, что среднее время продажи квартиры составляет 180 деней. Но если взять медиану - то это уже 95 дней, в два раза меньше. Почему так? Потому что у нас есть \"длинный хвост\" квартир, которые продавались очень долго, буквально годами.\n",
    "Я бы предложил считать быстрыми продажи до 95 дней, а необычно долгими - свыше 180 дней. "
   ]
  },
  {
   "cell_type": "markdown",
   "metadata": {},
   "source": [
    "<div class=\"alert alert-success\">\n",
    "<b>Комментарий ревьюера ✔️:</b> Отлично установил границы days_exposition"
   ]
  },
  {
   "cell_type": "markdown",
   "metadata": {},
   "source": [
    "Факторы оторые больше всего влияют на общую (полную) стоимость объекта"
   ]
  },
  {
   "cell_type": "code",
   "execution_count": 49,
   "metadata": {},
   "outputs": [
    {
     "data": {
      "image/png": "[encoded data removed]",
      "text/plain": [
       "<Figure size 432x288 with 1 Axes>"
      ]
     },
     "metadata": {
      "needs_background": "light"
     },
     "output_type": "display_data"
    },
    {
     "data": {
      "image/png": "[encoded data removed]",
      "text/plain": [
       "<Figure size 432x288 with 1 Axes>"
      ]
     },
     "metadata": {
      "needs_background": "light"
     },
     "output_type": "display_data"
    },
    {
     "data": {
      "image/png": "[encoded data removed]",
      "text/plain": [
       "<Figure size 432x288 with 1 Axes>"
      ]
     },
     "metadata": {
      "needs_background": "light"
     },
     "output_type": "display_data"
    },
    {
     "data": {
      "image/png": "[encoded data removed]",
      "text/plain": [
       "<Figure size 432x288 with 1 Axes>"
      ]
     },
     "metadata": {
      "needs_background": "light"
     },
     "output_type": "display_data"
    }
   ],
   "source": [
    "data.plot(x='last_price', y='total_area', kind='scatter', alpha=0.3);\n",
    "data.plot(x='last_price', y='living_area', kind='scatter', alpha=0.3);\n",
    "data.plot(x='last_price', y='kitchen_area', kind='scatter', alpha=0.3);\n",
    "data.plot(x='last_price', y='rooms', kind='scatter', alpha=0.3);"
   ]
  },
  {
   "cell_type": "markdown",
   "metadata": {},
   "source": [
    "<div class=\"alert alert-success\">\n",
    "<b>Комментарий ревьюера ✔️:</b> Диаграмма рассеяния наиболее подходящий график для анализа зависимости от площади"
   ]
  },
  {
   "cell_type": "markdown",
   "metadata": {},
   "source": [
    "<div class=\"alert alert-danger\">\n",
    "<b>Комментарий ревьюера ❌:</b> В разделе изучения зависимости от комнат и площадей стоит добавить анализ корреляции Пирсона, чтобы точнее понять наличие/отсутствие линейной зависимости"
   ]
  },
  {
   "cell_type": "markdown",
   "metadata": {},
   "source": [
    "<div class=\"alert alert-info\"> <b>Комментарий студента:</b> Так же к диаграмме добавил анализ</div>"
   ]
  },
  {
   "cell_type": "markdown",
   "metadata": {},
   "source": [
    "<div class=\"alert alert-danger\">\n",
    "<b>Комментарий ревьюера v 2.0 ❌:</b> Хм, но корреляции Пирсона сейчас нигде нет"
   ]
  },
  {
   "cell_type": "markdown",
   "metadata": {},
   "source": [
    "<div class=\"alert alert-success\">\n",
    "<b>Комментарий ревьюера v 3.0 ✔️:</b> Корреляция добавлена"
   ]
  },
  {
   "cell_type": "code",
   "execution_count": 83,
   "metadata": {},
   "outputs": [
    {
     "name": "stdout",
     "output_type": "stream",
     "text": [
      "0.36311052455959736\n",
      "0.6536213939252803\n"
     ]
    }
   ],
   "source": [
    "print(data['rooms'].corr(data['last_price']))\n",
    "print(data['last_price'].corr(data['total_area']))"
   ]
  },
  {
   "cell_type": "markdown",
   "metadata": {},
   "source": [
    "Корреляция в 0.36 и 0.65 говорит о наличии связи, однако не слишком сильной. Хотя корреляция иллюстрирует зависимость между величинами, она не доказывает наличие причинно-следственной связи. Нельзя сказать, что есть прямая зависимость от количества комнат и пощадей на стоимость квартир. Вероятнее всего это указывает на разнообразие рынка и финансовые амбиции проавцов квартир. "
   ]
  },
  {
   "cell_type": "code",
   "execution_count": 50,
   "metadata": {},
   "outputs": [
    {
     "data": {
      "image/png": "[encoded data removed]",
      "text/plain": [
       "<Figure size 432x288 with 1 Axes>"
      ]
     },
     "metadata": {
      "needs_background": "light"
     },
     "output_type": "display_data"
    }
   ],
   "source": [
    "data.pivot_table(index='rooms',values='last_price').plot(y='last_price', kind='bar');"
   ]
  },
  {
   "cell_type": "markdown",
   "metadata": {},
   "source": [
    "<div class=\"alert alert-success\">\n",
    "<b>Комментарий ревьюера ✔️:</b> А тут и далее гораздо лучше выглядят графики по средним значениям"
   ]
  },
  {
   "cell_type": "code",
   "execution_count": 51,
   "metadata": {},
   "outputs": [
    {
     "data": {
      "image/png": "[encoded data removed]",
      "text/plain": [
       "<Figure size 432x288 with 1 Axes>"
      ]
     },
     "metadata": {
      "needs_background": "light"
     },
     "output_type": "display_data"
    },
    {
     "data": {
      "image/png": "[encoded data removed]",
      "text/plain": [
       "<Figure size 432x288 with 1 Axes>"
      ]
     },
     "metadata": {
      "needs_background": "light"
     },
     "output_type": "display_data"
    }
   ],
   "source": [
    "data.pivot_table(index='floor_group',values='last_price').plot(y='last_price', kind='barh');\n",
    "\n",
    "data.plot(x='last_price', y='floor_group', kind='scatter', alpha=0.2);"
   ]
  },
  {
   "cell_type": "markdown",
   "metadata": {},
   "source": [
    "<div class=\"alert alert-success\">\n",
    "<b>Комментарий ревьюера ✔️:</b> Логично"
   ]
  },
  {
   "cell_type": "markdown",
   "metadata": {},
   "source": [
    "    Чем больше площадь, тем выше стоимость. Корреляция этих параметров крайне высокая. Число комнат влияет на цену (больше комнат - больше цена), однако зависимость ниже, чем у площади. Можно сделать два вывода: бывают квартиры с большими по площади комнатами; квартиры в центре состоят из малого числа комнат, но стоят достаточно высоко.\n",
    "    Самые дорогие варианты квартир находятся в центре города, однако в центре.\n",
    "    Первый этаж непосредственно влияет на стоимость квартиры - в среднем квартиры на 1-м этаже значительно дешевле. Чуть дороже последний этаж. Наибольшая стоимость у квартир, расположенных не на 1-м и не на последнем этаже.\n",
    "    Цена за квадрат выше у однокомнатных квартир и квартир с 4 и 5 комнатами. Последнее, вероятно, объясняется элитностью недвижимости."
   ]
  },
  {
   "cell_type": "markdown",
   "metadata": {},
   "source": [
    "<div class=\"alert alert-success\">\n",
    "<b>Комментарий ревьюера ✔️:</b> И комментарии по зависимостям также указаны"
   ]
  },
  {
   "cell_type": "code",
   "execution_count": 52,
   "metadata": {},
   "outputs": [
    {
     "data": {
      "image/png": "[encoded data removed]",
      "text/plain": [
       "<Figure size 360x360 with 1 Axes>"
      ]
     },
     "metadata": {
      "needs_background": "light"
     },
     "output_type": "display_data"
    },
    {
     "data": {
      "image/png": "[encoded data removed]",
      "text/plain": [
       "<Figure size 720x360 with 1 Axes>"
      ]
     },
     "metadata": {
      "needs_background": "light"
     },
     "output_type": "display_data"
    },
    {
     "data": {
      "image/png": "[encoded data removed]",
      "text/plain": [
       "<Figure size 360x360 with 1 Axes>"
      ]
     },
     "metadata": {
      "needs_background": "light"
     },
     "output_type": "display_data"
    }
   ],
   "source": [
    "# Зависимость от дня размещения\n",
    "(\n",
    "    data.pivot_table(index='dayofweek', values='last_price')\n",
    "    .plot(grid=True, style='o-', figsize=(5, 5))\n",
    ")\n",
    "plt.show()\n",
    "# Зависимость от месяца размещения\n",
    "(\n",
    "    data.pivot_table(index='month', values='last_price')\n",
    "    .plot(grid=True, style='o-', xlim=(1,12), figsize=(10, 5))\n",
    ")\n",
    "plt.show()\n",
    "# Зависимость от года размещения\n",
    "(\n",
    "    data.pivot_table(index='year', values='last_price')\n",
    "    .plot(grid=True, style='o-', figsize=(5, 5))\n",
    ")\n",
    "plt.show()"
   ]
  },
  {
   "cell_type": "markdown",
   "metadata": {},
   "source": [
    "    Зависимость от дня, месяца и года\n",
    "    День недели: дороже всего квартиры, опубликованные в субботу, дешевле всего в воскресенье.\n",
    "    Месяц: дороже всего квартиры, продающиеся в декабре, дешевле всего в ноябре.\n",
    "    Год: квартиры стремительно дешевели с 2014 по 2018 год, в 2019 замечено небольшое подорожание."
   ]
  },
  {
   "cell_type": "markdown",
   "metadata": {},
   "source": [
    "<div class=\"alert alert-success\">\n",
    "<b>Комментарий ревьюера ✔️:</b> Замечательно проанализировал зависимости от временных показателей"
   ]
  },
  {
   "cell_type": "code",
   "execution_count": 53,
   "metadata": {},
   "outputs": [
    {
     "data": {
      "text/html": [
       "<div>\n",
       "<style scoped>\n",
       "    .dataframe tbody tr th:only-of-type {\n",
       "        vertical-align: middle;\n",
       "    }\n",
       "\n",
       "    .dataframe tbody tr th {\n",
       "        vertical-align: top;\n",
       "    }\n",
       "\n",
       "    .dataframe thead th {\n",
       "        text-align: right;\n",
       "    }\n",
       "</style>\n",
       "<table border=\"1\" class=\"dataframe\">\n",
       "  <thead>\n",
       "    <tr style=\"text-align: right;\">\n",
       "      <th></th>\n",
       "      <th>metre_price</th>\n",
       "    </tr>\n",
       "    <tr>\n",
       "      <th>locality_name</th>\n",
       "      <th></th>\n",
       "    </tr>\n",
       "  </thead>\n",
       "  <tbody>\n",
       "    <tr>\n",
       "      <th>Санкт-Петербург</th>\n",
       "      <td>114</td>\n",
       "    </tr>\n",
       "    <tr>\n",
       "      <th>Пушкин</th>\n",
       "      <td>103</td>\n",
       "    </tr>\n",
       "    <tr>\n",
       "      <th>деревня Кудрово</th>\n",
       "      <td>92</td>\n",
       "    </tr>\n",
       "    <tr>\n",
       "      <th>поселок Парголово</th>\n",
       "      <td>90</td>\n",
       "    </tr>\n",
       "    <tr>\n",
       "      <th>поселок Мурино</th>\n",
       "      <td>85</td>\n",
       "    </tr>\n",
       "    <tr>\n",
       "      <th>поселок Шушары</th>\n",
       "      <td>78</td>\n",
       "    </tr>\n",
       "    <tr>\n",
       "      <th>Колпино</th>\n",
       "      <td>75</td>\n",
       "    </tr>\n",
       "    <tr>\n",
       "      <th>Всеволожск</th>\n",
       "      <td>68</td>\n",
       "    </tr>\n",
       "    <tr>\n",
       "      <th>Гатчина</th>\n",
       "      <td>68</td>\n",
       "    </tr>\n",
       "    <tr>\n",
       "      <th>Выборг</th>\n",
       "      <td>58</td>\n",
       "    </tr>\n",
       "  </tbody>\n",
       "</table>\n",
       "</div>"
      ],
      "text/plain": [
       "                   metre_price\n",
       "locality_name                 \n",
       "Санкт-Петербург            114\n",
       "Пушкин                     103\n",
       "деревня Кудрово             92\n",
       "поселок Парголово           90\n",
       "поселок Мурино              85\n",
       "поселок Шушары              78\n",
       "Колпино                     75\n",
       "Всеволожск                  68\n",
       "Гатчина                     68\n",
       "Выборг                      58"
      ]
     },
     "execution_count": 53,
     "metadata": {},
     "output_type": "execute_result"
    }
   ],
   "source": [
    "# Сравниваем среднюю стоимость квадратного метра в топ-10 городов по числу объявлений\n",
    "city_ten = data['locality_name'].value_counts().head(10)\n",
    "city_sm_price = data.query('locality_name in (@city_ten.index)').pivot_table(values='metre_price', index='locality_name')\n",
    "city_sm_price = city_sm_price.astype(int)\n",
    "city_sm_price.sort_values('metre_price', ascending=False)"
   ]
  },
  {
   "cell_type": "markdown",
   "metadata": {},
   "source": [
    "    Наибольшая средняя стоимость квадратного метра в Санкт-Петербурге. Затем идёт Пушкин, что, вероятно, вызвано появлением новых районов с развитой инфраструктурой. Затем идут районы, фактически являющиеся Санкт-Петербургом и непосредственно к нему примыкают. Десятку замыкают города с наименьшей стоимостью - Гатчина и Всеволожск, из которых далеко ехать до Санкт-Петербурга, а также неболшой по численности населения Выборг, расположенный на большом расстоянии от Санкт-Петербурга."
   ]
  },
  {
   "cell_type": "markdown",
   "metadata": {},
   "source": [
    "<div class=\"alert alert-success\">\n",
    "<b>Комментарий ревьюера ✔️:</b> Ты правильно ответил на вопрос задания!"
   ]
  },
  {
   "cell_type": "code",
   "execution_count": 54,
   "metadata": {},
   "outputs": [
    {
     "data": {
      "image/png": "[encoded data removed]",
      "text/plain": [
       "<Figure size 720x360 with 1 Axes>"
      ]
     },
     "metadata": {
      "needs_background": "light"
     },
     "output_type": "display_data"
    }
   ],
   "source": [
    "(\n",
    "    data.query('locality_name == \"Санкт-Петербург\"')\n",
    "    .pivot_table(index='city_centers_nearest_km', values='last_price')\n",
    "    .plot(grid=True, style='o-', xlim=(0,15), figsize=(10, 5))\n",
    ")\n",
    "plt.show()"
   ]
  },
  {
   "cell_type": "markdown",
   "metadata": {},
   "source": [
    "    Центральная зона - это 3 км и меньше. На расстоянии с 3 до 7 км цены колеблются. На удалении свыше 7 км средняя цена на квартиры резко снижается."
   ]
  },
  {
   "cell_type": "markdown",
   "metadata": {},
   "source": [
    "<div class=\"alert alert-success\">\n",
    "<b>Комментарий ревьюера ✔️:</b> Средние цены по километрам посчитаны как надо"
   ]
  },
  {
   "cell_type": "markdown",
   "metadata": {},
   "source": [
    "### Общий вывод"
   ]
  },
  {
   "cell_type": "markdown",
   "metadata": {},
   "source": [
    "Зависимость цены квартиры от числа комнат в центре такая же, как и в целом по городу\n",
    "В центре верхний этаж стоит практически столько же, сколько и другие этажи, кроме первого\n",
    "В центре есть очень дорогие однокомнатные квартиры\n",
    "В центральной зоне почти нет зависимости от удалённости от центра города. Стоимость даже немного повышается при удалении от центра - вероятно, это связано с расположением точки, которая является формальным центром города.\n",
    "В центре значительно выше стоимость квартир, опубликованных в субботу и в декабре (вероятно, перед Новым годом люди хотят сделать подарок)\n",
    "Стоимость квартир стремительно дешевела с 2014 по 2018 год, в 2019 замечено небольшое подорожание.\n",
    "\n",
    "Срок продажи квартиры:\n",
    "\n",
    "Чаще всего квартиру продают за 95 дней. Если меньше 45 дней, то это быстро, если дольше 180 дней - это долго.\n",
    "Есть большое число квартир, проданных всего за несколько дней после публикации.\n",
    "Также есть варианты, которые продавались несколько лет.\n",
    "\n",
    "Факторы, влияющие на стоимость:\n",
    "\n",
    "На стоимость больше влияет площадь квартиры, нежели число комнат. т.е. могут быть дорогие квартиры с малым числом комнат, но где комнаты просторные.\n",
    "Первый этаж значительно дешевле остальных вариантов. Также стоимость квартиры на последнем этаже ниже, чем на остальных, кроме первого.\n",
    "\n",
    "Стоимость квадратного метра в топ-10 населённых пунктов:\n",
    "\n",
    "Дороже всего квадратный метр в Санкт-Петербурге - 114848\n",
    "Дешевле всего квадратный метр в Выборге - 58141\n",
    "\n",
    "Факторы, влияющие на стоимость в центре Санкт-Петербурга:\n",
    "\n",
    "В Санкт-Петербурге, в пределах 7 км. отмечается высокая стоимость. Стоимость квартир на удалении свыше 7 км. от центра  начинает резко снижаеться. "
   ]
  },
  {
   "cell_type": "markdown",
   "metadata": {},
   "source": [
    "<div class=\"alert alert-success\">\n",
    "<b>Комментарий ревьюера ✔️:</b> Супер, подробные и хорошие выводы по проекту"
   ]
  },
  {
   "cell_type": "markdown",
   "metadata": {},
   "source": [
    "<div class=\"alert alert-success\">\n",
    "<b>Комментарий ревьюера ✔️:</b> Антон, проект отличный! У тебя очень сильные аналитические навыки и владение инструментами для проведения исследования. Но всё же в проекте есть несколько замечаний и я попрошу тебя исправить их, чтобы он стал еще лучше! </div>"
   ]
  },
  {
   "cell_type": "markdown",
   "metadata": {},
   "source": [
    "**Чек-лист готовности проекта**\n",
    "\n",
    "Поставьте 'x' в выполненных пунктах. Далее нажмите Shift+Enter."
   ]
  },
  {
   "cell_type": "markdown",
   "metadata": {},
   "source": [
    "- [x]  открыт файл\n",
    "- [ ]  файлы изучены (выведены первые строки, метод `info()`, гистограммы и т.д.)\n",
    "- [ ]  определены пропущенные значения\n",
    "- [ ]  заполнены пропущенные значения там, где это возможно\n",
    "- [ ]  есть пояснение, какие пропущенные значения обнаружены\n",
    "- [ ]  изменены типы данных\n",
    "- [ ]  есть пояснение, в каких столбцах изменены типы и почему\n",
    "- [ ]  устранены неявные дубликаты в названиях населённых пунктов\n",
    "- [ ]  устранены редкие и выбивающиеся значения (аномалии) во всех столбцах\n",
    "- [ ]  посчитано и добавлено в таблицу: цена одного квадратного метра\n",
    "- [ ]  посчитано и добавлено в таблицу: день публикации объявления (0 - понедельник, 1 - вторник и т.д.)\n",
    "- [ ]  посчитано и добавлено в таблицу: месяц публикации объявления\n",
    "- [ ]  посчитано и добавлено в таблицу: год публикации объявления\n",
    "- [ ]  посчитано и добавлено в таблицу: тип этажа квартиры (значения — «первый», «последний», «другой»)\n",
    "- [ ]  посчитано и добавлено в таблицу: расстояние в км до центра города\n",
    "- [ ]  изучены и описаны следующие параметры:\n",
    "        - общая площадь;\n",
    "        - жилая площадь;\n",
    "        - площадь кухни;\n",
    "        - цена объекта;\n",
    "        - количество комнат;\n",
    "        - высота потолков;\n",
    "        - этаж квартиры;\n",
    "        - тип этажа квартиры («первый», «последний», «другой»);\n",
    "        - общее количество этажей в доме;\n",
    "        - расстояние до центра города в метрах;\n",
    "        - расстояние до ближайшего аэропорта;\n",
    "        - расстояние до ближайшего парка;\n",
    "        - день и месяц публикации объявления\n",
    "- [ ]  построены гистограммы для каждого параметра\n",
    "- [ ]  выполнено задание: \"Изучите, как быстро продавались квартиры (столбец days_exposition). Этот параметр показывает, сколько дней «висело» каждое объявление.\n",
    "    - Постройте гистограмму.\n",
    "    - Посчитайте среднее и медиану.\n",
    "    - В ячейке типа markdown опишите, сколько обычно занимает продажа. Какие продажи можно считать быстрыми, а какие — необычно долгими?\"\n",
    "- [ ]  выполнено задание: \"Какие факторы больше всего влияют на общую (полную) стоимость объекта? Постройте графики, которые покажут зависимость цены от указанных ниже параметров. Для подготовки данных перед визуализацией вы можете использовать сводные таблицы.\"\n",
    "        - общей площади;\n",
    "        - жилой площади;\n",
    "        - площади кухни;\n",
    "        - количество комнат;\n",
    "        - типа этажа, на котором расположена квартира (первый, последний, другой);\n",
    "        - даты размещения (день недели, месяц, год);\n",
    "- [ ]  выполнено задание: \"Посчитайте среднюю цену одного квадратного метра в 10 населённых пунктах с наибольшим числом объявлений. Выделите населённые пункты с самой высокой и низкой стоимостью квадратного метра. Эти данные можно найти по имени в столбце `locality_name`.\"\n",
    "- [ ]  выполнено задание: \"Ранее вы посчитали расстояние до центра в километрах. Теперь выделите квартиры в Санкт-Петербурге с помощью столбца `locality_name` и вычислите среднюю цену каждого километра. Опишите, как стоимость объектов зависит от расстояния до центра города.\"\n",
    "- [ ]  в каждом этапе есть промежуточные выводы\n",
    "- [ ]  есть общий вывод"
   ]
  }
 ],
 "metadata": {
  "ExecuteTimeLog": [
   {
    "duration": 1044,
    "start_time": "2023-01-04T08:18:09.827Z"
   },
   {
    "duration": 106,
    "start_time": "2023-01-04T08:19:02.882Z"
   },
   {
    "duration": 91,
    "start_time": "2023-01-04T08:19:25.283Z"
   },
   {
    "duration": 103,
    "start_time": "2023-01-04T08:19:46.894Z"
   },
   {
    "duration": 103,
    "start_time": "2023-01-04T08:19:59.366Z"
   },
   {
    "duration": 94,
    "start_time": "2023-01-04T08:20:10.148Z"
   },
   {
    "duration": 99,
    "start_time": "2023-01-04T08:21:15.825Z"
   },
   {
    "duration": 114,
    "start_time": "2023-01-04T08:22:53.226Z"
   },
   {
    "duration": 85,
    "start_time": "2023-01-04T08:35:44.390Z"
   },
   {
    "duration": 490,
    "start_time": "2023-01-04T08:39:50.786Z"
   },
   {
    "duration": 53,
    "start_time": "2023-01-04T08:39:51.278Z"
   },
   {
    "duration": 2831,
    "start_time": "2023-01-04T09:08:23.863Z"
   },
   {
    "duration": 1946,
    "start_time": "2023-01-04T09:09:36.854Z"
   },
   {
    "duration": 1895,
    "start_time": "2023-01-04T09:09:53.584Z"
   },
   {
    "duration": 1823,
    "start_time": "2023-01-04T09:10:19.765Z"
   },
   {
    "duration": 1957,
    "start_time": "2023-01-04T09:10:27.202Z"
   },
   {
    "duration": 2001,
    "start_time": "2023-01-04T09:12:53.815Z"
   },
   {
    "duration": 102,
    "start_time": "2023-01-04T11:43:27.941Z"
   },
   {
    "duration": 14,
    "start_time": "2023-01-04T11:43:38.158Z"
   },
   {
    "duration": 1886,
    "start_time": "2023-01-04T11:43:58.502Z"
   },
   {
    "duration": 244,
    "start_time": "2023-01-04T11:45:14.001Z"
   },
   {
    "duration": 1728,
    "start_time": "2023-01-04T11:48:17.554Z"
   },
   {
    "duration": 2019,
    "start_time": "2023-01-04T11:48:59.050Z"
   },
   {
    "duration": 482,
    "start_time": "2023-01-04T11:50:49.141Z"
   },
   {
    "duration": 13,
    "start_time": "2023-01-04T11:50:49.625Z"
   },
   {
    "duration": 75,
    "start_time": "2023-01-04T11:50:49.640Z"
   },
   {
    "duration": 2117,
    "start_time": "2023-01-04T11:50:49.716Z"
   },
   {
    "duration": 44,
    "start_time": "2023-01-04T11:50:51.835Z"
   },
   {
    "duration": 43,
    "start_time": "2023-01-04T11:54:26.414Z"
   },
   {
    "duration": 510,
    "start_time": "2023-01-04T11:54:46.479Z"
   },
   {
    "duration": 14,
    "start_time": "2023-01-04T11:54:50.371Z"
   },
   {
    "duration": 73,
    "start_time": "2023-01-04T11:54:54.918Z"
   },
   {
    "duration": 2020,
    "start_time": "2023-01-04T11:54:57.906Z"
   },
   {
    "duration": 9,
    "start_time": "2023-01-04T11:55:47.842Z"
   },
   {
    "duration": 3,
    "start_time": "2023-01-04T11:58:14.112Z"
   },
   {
    "duration": 9,
    "start_time": "2023-01-04T11:58:27.773Z"
   },
   {
    "duration": 8,
    "start_time": "2023-01-04T12:02:29.838Z"
   },
   {
    "duration": 4,
    "start_time": "2023-01-04T12:08:27.616Z"
   },
   {
    "duration": 6,
    "start_time": "2023-01-04T12:08:33.153Z"
   },
   {
    "duration": 25,
    "start_time": "2023-01-04T12:09:48.250Z"
   },
   {
    "duration": 9,
    "start_time": "2023-01-04T12:12:03.588Z"
   },
   {
    "duration": 4,
    "start_time": "2023-01-04T12:12:30.906Z"
   },
   {
    "duration": 12,
    "start_time": "2023-01-04T12:24:59.618Z"
   },
   {
    "duration": 53,
    "start_time": "2023-01-04T13:09:55.462Z"
   },
   {
    "duration": 47,
    "start_time": "2023-01-04T13:10:04.894Z"
   },
   {
    "duration": 729,
    "start_time": "2023-01-05T07:36:13.313Z"
   },
   {
    "duration": 14,
    "start_time": "2023-01-05T07:36:14.045Z"
   },
   {
    "duration": 72,
    "start_time": "2023-01-05T07:36:14.060Z"
   },
   {
    "duration": 2450,
    "start_time": "2023-01-05T07:36:14.134Z"
   },
   {
    "duration": 4,
    "start_time": "2023-01-05T07:36:16.586Z"
   },
   {
    "duration": 16,
    "start_time": "2023-01-05T07:36:16.592Z"
   },
   {
    "duration": 43,
    "start_time": "2023-01-05T07:36:16.610Z"
   },
   {
    "duration": 40,
    "start_time": "2023-01-05T07:37:03.499Z"
   },
   {
    "duration": 17,
    "start_time": "2023-01-05T07:37:17.710Z"
   },
   {
    "duration": 512,
    "start_time": "2023-01-05T07:37:49.124Z"
   },
   {
    "duration": 16,
    "start_time": "2023-01-05T07:37:49.638Z"
   },
   {
    "duration": 41,
    "start_time": "2023-01-05T07:37:49.655Z"
   },
   {
    "duration": 11,
    "start_time": "2023-01-05T07:37:49.699Z"
   },
   {
    "duration": 97,
    "start_time": "2023-01-05T07:37:49.712Z"
   },
   {
    "duration": 2269,
    "start_time": "2023-01-05T07:37:49.811Z"
   },
   {
    "duration": 4,
    "start_time": "2023-01-05T07:37:52.083Z"
   },
   {
    "duration": 17,
    "start_time": "2023-01-05T07:37:52.089Z"
   },
   {
    "duration": 62,
    "start_time": "2023-01-05T07:37:52.109Z"
   },
   {
    "duration": 27,
    "start_time": "2023-01-05T08:26:17.257Z"
   },
   {
    "duration": 10,
    "start_time": "2023-01-05T09:45:16.986Z"
   },
   {
    "duration": 2033,
    "start_time": "2023-01-05T09:45:18.301Z"
   },
   {
    "duration": 75,
    "start_time": "2023-01-05T09:46:37.803Z"
   },
   {
    "duration": 15,
    "start_time": "2023-01-05T09:47:01.989Z"
   },
   {
    "duration": 13,
    "start_time": "2023-01-05T09:47:11.195Z"
   },
   {
    "duration": 6,
    "start_time": "2023-01-05T10:06:59.991Z"
   },
   {
    "duration": 9,
    "start_time": "2023-01-05T10:07:03.121Z"
   },
   {
    "duration": 553,
    "start_time": "2023-01-05T10:07:29.752Z"
   },
   {
    "duration": 25,
    "start_time": "2023-01-05T10:07:30.308Z"
   },
   {
    "duration": 29,
    "start_time": "2023-01-05T10:07:30.335Z"
   },
   {
    "duration": 33,
    "start_time": "2023-01-05T10:07:30.366Z"
   },
   {
    "duration": 31,
    "start_time": "2023-01-05T10:07:30.401Z"
   },
   {
    "duration": 2354,
    "start_time": "2023-01-05T10:07:30.434Z"
   },
   {
    "duration": 12,
    "start_time": "2023-01-05T10:07:32.791Z"
   },
   {
    "duration": 23,
    "start_time": "2023-01-05T10:07:32.805Z"
   },
   {
    "duration": 11,
    "start_time": "2023-01-05T10:07:32.831Z"
   },
   {
    "duration": 10,
    "start_time": "2023-01-05T10:07:32.846Z"
   },
   {
    "duration": 18,
    "start_time": "2023-01-05T10:07:32.859Z"
   },
   {
    "duration": 21,
    "start_time": "2023-01-05T10:07:32.880Z"
   },
   {
    "duration": 49,
    "start_time": "2023-01-05T10:07:32.903Z"
   },
   {
    "duration": 14,
    "start_time": "2023-01-05T10:16:50.918Z"
   },
   {
    "duration": 522,
    "start_time": "2023-01-05T10:16:58.582Z"
   },
   {
    "duration": 26,
    "start_time": "2023-01-05T10:16:59.106Z"
   },
   {
    "duration": 23,
    "start_time": "2023-01-05T10:16:59.134Z"
   },
   {
    "duration": 42,
    "start_time": "2023-01-05T10:16:59.159Z"
   },
   {
    "duration": 12,
    "start_time": "2023-01-05T10:16:59.204Z"
   },
   {
    "duration": 2243,
    "start_time": "2023-01-05T10:16:59.218Z"
   },
   {
    "duration": 12,
    "start_time": "2023-01-05T10:17:01.463Z"
   },
   {
    "duration": 55,
    "start_time": "2023-01-05T10:17:01.477Z"
   },
   {
    "duration": 75,
    "start_time": "2023-01-05T10:17:01.534Z"
   },
   {
    "duration": 42,
    "start_time": "2023-01-05T10:17:01.611Z"
   },
   {
    "duration": 30,
    "start_time": "2023-01-05T10:17:01.656Z"
   },
   {
    "duration": 9,
    "start_time": "2023-01-05T10:17:01.689Z"
   },
   {
    "duration": 140,
    "start_time": "2023-01-05T10:17:01.700Z"
   },
   {
    "duration": 0,
    "start_time": "2023-01-05T10:17:01.842Z"
   },
   {
    "duration": 0,
    "start_time": "2023-01-05T10:17:01.844Z"
   },
   {
    "duration": 493,
    "start_time": "2023-01-05T10:24:08.406Z"
   },
   {
    "duration": 28,
    "start_time": "2023-01-05T10:24:08.901Z"
   },
   {
    "duration": 32,
    "start_time": "2023-01-05T10:24:08.930Z"
   },
   {
    "duration": 30,
    "start_time": "2023-01-05T10:24:08.964Z"
   },
   {
    "duration": 10,
    "start_time": "2023-01-05T10:24:08.996Z"
   },
   {
    "duration": 2340,
    "start_time": "2023-01-05T10:24:09.008Z"
   },
   {
    "duration": 13,
    "start_time": "2023-01-05T10:24:11.350Z"
   },
   {
    "duration": 10,
    "start_time": "2023-01-05T10:24:11.364Z"
   },
   {
    "duration": 23,
    "start_time": "2023-01-05T10:24:11.376Z"
   },
   {
    "duration": 31,
    "start_time": "2023-01-05T10:24:11.400Z"
   },
   {
    "duration": 19,
    "start_time": "2023-01-05T10:24:11.433Z"
   },
   {
    "duration": 29,
    "start_time": "2023-01-05T10:24:11.454Z"
   },
   {
    "duration": 24,
    "start_time": "2023-01-05T10:24:11.485Z"
   },
   {
    "duration": 44,
    "start_time": "2023-01-05T10:24:11.512Z"
   },
   {
    "duration": 131,
    "start_time": "2023-01-05T10:26:17.914Z"
   },
   {
    "duration": 117,
    "start_time": "2023-01-05T10:27:00.803Z"
   },
   {
    "duration": 83,
    "start_time": "2023-01-05T10:27:47.116Z"
   },
   {
    "duration": 7,
    "start_time": "2023-01-05T10:32:00.333Z"
   },
   {
    "duration": 5,
    "start_time": "2023-01-05T10:40:39.024Z"
   },
   {
    "duration": 630,
    "start_time": "2023-01-09T07:06:36.058Z"
   },
   {
    "duration": 39,
    "start_time": "2023-01-09T07:06:36.693Z"
   },
   {
    "duration": 29,
    "start_time": "2023-01-09T07:06:36.733Z"
   },
   {
    "duration": 41,
    "start_time": "2023-01-09T07:06:36.764Z"
   },
   {
    "duration": 18,
    "start_time": "2023-01-09T07:06:36.810Z"
   },
   {
    "duration": 2676,
    "start_time": "2023-01-09T07:06:36.830Z"
   },
   {
    "duration": 18,
    "start_time": "2023-01-09T07:06:39.508Z"
   },
   {
    "duration": 23,
    "start_time": "2023-01-09T07:06:39.528Z"
   },
   {
    "duration": 28,
    "start_time": "2023-01-09T07:06:39.553Z"
   },
   {
    "duration": 51,
    "start_time": "2023-01-09T07:06:39.584Z"
   },
   {
    "duration": 28,
    "start_time": "2023-01-09T07:06:39.637Z"
   },
   {
    "duration": 60,
    "start_time": "2023-01-09T07:06:39.666Z"
   },
   {
    "duration": 32,
    "start_time": "2023-01-09T07:06:39.728Z"
   },
   {
    "duration": 14,
    "start_time": "2023-01-09T07:06:39.761Z"
   },
   {
    "duration": 149,
    "start_time": "2023-01-09T07:06:39.777Z"
   },
   {
    "duration": 0,
    "start_time": "2023-01-09T07:06:39.928Z"
   },
   {
    "duration": 541,
    "start_time": "2023-01-09T07:07:55.023Z"
   },
   {
    "duration": 38,
    "start_time": "2023-01-09T07:07:55.566Z"
   },
   {
    "duration": 44,
    "start_time": "2023-01-09T07:07:55.605Z"
   },
   {
    "duration": 29,
    "start_time": "2023-01-09T07:07:55.652Z"
   },
   {
    "duration": 17,
    "start_time": "2023-01-09T07:07:55.684Z"
   },
   {
    "duration": 2581,
    "start_time": "2023-01-09T07:07:55.703Z"
   },
   {
    "duration": 19,
    "start_time": "2023-01-09T07:07:58.286Z"
   },
   {
    "duration": 17,
    "start_time": "2023-01-09T07:07:58.315Z"
   },
   {
    "duration": 10,
    "start_time": "2023-01-09T07:07:58.334Z"
   },
   {
    "duration": 12,
    "start_time": "2023-01-09T07:07:58.346Z"
   },
   {
    "duration": 14,
    "start_time": "2023-01-09T07:07:58.359Z"
   },
   {
    "duration": 49,
    "start_time": "2023-01-09T07:07:58.374Z"
   },
   {
    "duration": 18,
    "start_time": "2023-01-09T07:07:58.424Z"
   },
   {
    "duration": 4,
    "start_time": "2023-01-09T07:07:58.444Z"
   },
   {
    "duration": 11,
    "start_time": "2023-01-09T07:07:58.449Z"
   },
   {
    "duration": 108,
    "start_time": "2023-01-09T07:07:58.462Z"
   },
   {
    "duration": 90,
    "start_time": "2023-01-09T07:21:52.566Z"
   },
   {
    "duration": 147,
    "start_time": "2023-01-09T07:23:36.399Z"
   },
   {
    "duration": 613,
    "start_time": "2023-01-09T07:31:30.616Z"
   },
   {
    "duration": 35,
    "start_time": "2023-01-09T07:31:31.231Z"
   },
   {
    "duration": 65,
    "start_time": "2023-01-09T07:31:31.268Z"
   },
   {
    "duration": 23,
    "start_time": "2023-01-09T07:31:31.335Z"
   },
   {
    "duration": 9,
    "start_time": "2023-01-09T07:31:31.361Z"
   },
   {
    "duration": 2428,
    "start_time": "2023-01-09T07:31:31.371Z"
   },
   {
    "duration": 15,
    "start_time": "2023-01-09T07:31:33.800Z"
   },
   {
    "duration": 16,
    "start_time": "2023-01-09T07:31:33.818Z"
   },
   {
    "duration": 33,
    "start_time": "2023-01-09T07:31:33.836Z"
   },
   {
    "duration": 11,
    "start_time": "2023-01-09T07:31:33.872Z"
   },
   {
    "duration": 81,
    "start_time": "2023-01-09T07:31:33.891Z"
   },
   {
    "duration": 54,
    "start_time": "2023-01-09T07:31:33.973Z"
   },
   {
    "duration": 29,
    "start_time": "2023-01-09T07:31:34.029Z"
   },
   {
    "duration": 13,
    "start_time": "2023-01-09T07:31:34.061Z"
   },
   {
    "duration": 61,
    "start_time": "2023-01-09T07:31:34.076Z"
   },
   {
    "duration": 12,
    "start_time": "2023-01-09T07:31:34.139Z"
   },
   {
    "duration": 9,
    "start_time": "2023-01-09T07:31:34.153Z"
   },
   {
    "duration": 15,
    "start_time": "2023-01-09T07:31:34.165Z"
   },
   {
    "duration": 29,
    "start_time": "2023-01-09T07:31:34.184Z"
   },
   {
    "duration": 88,
    "start_time": "2023-01-09T07:31:34.215Z"
   },
   {
    "duration": 0,
    "start_time": "2023-01-09T07:31:34.308Z"
   },
   {
    "duration": 435,
    "start_time": "2023-01-09T08:02:05.021Z"
   },
   {
    "duration": 398,
    "start_time": "2023-01-09T08:10:39.419Z"
   },
   {
    "duration": 82,
    "start_time": "2023-01-09T08:10:40.428Z"
   },
   {
    "duration": 549,
    "start_time": "2023-01-09T08:11:11.776Z"
   },
   {
    "duration": 19,
    "start_time": "2023-01-09T08:11:12.377Z"
   },
   {
    "duration": 10,
    "start_time": "2023-01-09T08:11:40.759Z"
   },
   {
    "duration": 11,
    "start_time": "2023-01-09T08:13:49.130Z"
   },
   {
    "duration": 9,
    "start_time": "2023-01-09T08:14:12.555Z"
   },
   {
    "duration": 10,
    "start_time": "2023-01-09T08:14:14.029Z"
   },
   {
    "duration": 8,
    "start_time": "2023-01-09T08:15:41.925Z"
   },
   {
    "duration": 10,
    "start_time": "2023-01-09T08:16:13.932Z"
   },
   {
    "duration": 173,
    "start_time": "2023-01-09T08:24:10.770Z"
   },
   {
    "duration": 6,
    "start_time": "2023-01-09T08:25:45.833Z"
   },
   {
    "duration": 8,
    "start_time": "2023-01-09T08:37:23.116Z"
   },
   {
    "duration": 538,
    "start_time": "2023-01-09T08:37:42.616Z"
   },
   {
    "duration": 35,
    "start_time": "2023-01-09T08:37:43.156Z"
   },
   {
    "duration": 28,
    "start_time": "2023-01-09T08:37:43.198Z"
   },
   {
    "duration": 23,
    "start_time": "2023-01-09T08:37:43.228Z"
   },
   {
    "duration": 10,
    "start_time": "2023-01-09T08:37:43.252Z"
   },
   {
    "duration": 2884,
    "start_time": "2023-01-09T08:37:43.264Z"
   },
   {
    "duration": 12,
    "start_time": "2023-01-09T08:37:46.150Z"
   },
   {
    "duration": 7,
    "start_time": "2023-01-09T08:37:46.164Z"
   },
   {
    "duration": 36,
    "start_time": "2023-01-09T08:37:46.172Z"
   },
   {
    "duration": 14,
    "start_time": "2023-01-09T08:37:46.212Z"
   },
   {
    "duration": 12,
    "start_time": "2023-01-09T08:37:46.228Z"
   },
   {
    "duration": 10,
    "start_time": "2023-01-09T08:37:46.242Z"
   },
   {
    "duration": 9,
    "start_time": "2023-01-09T08:37:46.253Z"
   },
   {
    "duration": 18,
    "start_time": "2023-01-09T08:37:46.264Z"
   },
   {
    "duration": 27,
    "start_time": "2023-01-09T08:37:46.284Z"
   },
   {
    "duration": 9,
    "start_time": "2023-01-09T08:37:46.312Z"
   },
   {
    "duration": 7,
    "start_time": "2023-01-09T08:37:46.323Z"
   },
   {
    "duration": 10,
    "start_time": "2023-01-09T08:37:46.332Z"
   },
   {
    "duration": 8,
    "start_time": "2023-01-09T08:37:46.344Z"
   },
   {
    "duration": 7,
    "start_time": "2023-01-09T08:37:46.354Z"
   },
   {
    "duration": 8,
    "start_time": "2023-01-09T08:37:46.364Z"
   },
   {
    "duration": 43,
    "start_time": "2023-01-09T08:37:46.374Z"
   },
   {
    "duration": 96,
    "start_time": "2023-01-09T08:37:46.418Z"
   },
   {
    "duration": 47,
    "start_time": "2023-01-09T11:29:07.184Z"
   },
   {
    "duration": 6,
    "start_time": "2023-01-09T11:31:06.634Z"
   },
   {
    "duration": 498,
    "start_time": "2023-01-09T11:31:55.095Z"
   },
   {
    "duration": 24,
    "start_time": "2023-01-09T11:31:55.595Z"
   },
   {
    "duration": 20,
    "start_time": "2023-01-09T11:31:55.621Z"
   },
   {
    "duration": 37,
    "start_time": "2023-01-09T11:31:55.642Z"
   },
   {
    "duration": 10,
    "start_time": "2023-01-09T11:31:55.681Z"
   },
   {
    "duration": 2063,
    "start_time": "2023-01-09T11:31:55.693Z"
   },
   {
    "duration": 13,
    "start_time": "2023-01-09T11:31:57.758Z"
   },
   {
    "duration": 9,
    "start_time": "2023-01-09T11:31:57.772Z"
   },
   {
    "duration": 4,
    "start_time": "2023-01-09T11:31:57.783Z"
   },
   {
    "duration": 8,
    "start_time": "2023-01-09T11:31:57.790Z"
   },
   {
    "duration": 9,
    "start_time": "2023-01-09T11:31:57.800Z"
   },
   {
    "duration": 11,
    "start_time": "2023-01-09T11:31:57.811Z"
   },
   {
    "duration": 6,
    "start_time": "2023-01-09T11:31:57.824Z"
   },
   {
    "duration": 16,
    "start_time": "2023-01-09T11:31:57.831Z"
   },
   {
    "duration": 29,
    "start_time": "2023-01-09T11:31:57.849Z"
   },
   {
    "duration": 7,
    "start_time": "2023-01-09T11:31:57.880Z"
   },
   {
    "duration": 6,
    "start_time": "2023-01-09T11:31:57.888Z"
   },
   {
    "duration": 9,
    "start_time": "2023-01-09T11:31:57.896Z"
   },
   {
    "duration": 20,
    "start_time": "2023-01-09T11:31:57.907Z"
   },
   {
    "duration": 9,
    "start_time": "2023-01-09T11:31:57.929Z"
   },
   {
    "duration": 19,
    "start_time": "2023-01-09T11:31:57.939Z"
   },
   {
    "duration": 11,
    "start_time": "2023-01-09T11:31:57.961Z"
   },
   {
    "duration": 106,
    "start_time": "2023-01-09T11:31:57.977Z"
   },
   {
    "duration": 65,
    "start_time": "2023-01-09T11:31:58.085Z"
   },
   {
    "duration": 25,
    "start_time": "2023-01-09T11:36:31.095Z"
   },
   {
    "duration": 216,
    "start_time": "2023-01-09T11:37:42.164Z"
   },
   {
    "duration": 230,
    "start_time": "2023-01-09T11:38:05.553Z"
   },
   {
    "duration": 208,
    "start_time": "2023-01-09T11:39:12.092Z"
   },
   {
    "duration": 527,
    "start_time": "2023-01-09T11:39:46.353Z"
   },
   {
    "duration": 206,
    "start_time": "2023-01-09T11:40:34.604Z"
   },
   {
    "duration": 210,
    "start_time": "2023-01-09T11:40:48.655Z"
   },
   {
    "duration": 580,
    "start_time": "2023-01-09T11:43:03.671Z"
   },
   {
    "duration": 34,
    "start_time": "2023-01-09T11:43:04.254Z"
   },
   {
    "duration": 15,
    "start_time": "2023-01-09T11:43:04.290Z"
   },
   {
    "duration": 23,
    "start_time": "2023-01-09T11:43:04.307Z"
   },
   {
    "duration": 9,
    "start_time": "2023-01-09T11:43:04.331Z"
   },
   {
    "duration": 2226,
    "start_time": "2023-01-09T11:43:04.342Z"
   },
   {
    "duration": 11,
    "start_time": "2023-01-09T11:43:06.570Z"
   },
   {
    "duration": 7,
    "start_time": "2023-01-09T11:43:06.582Z"
   },
   {
    "duration": 8,
    "start_time": "2023-01-09T11:43:06.590Z"
   },
   {
    "duration": 9,
    "start_time": "2023-01-09T11:43:06.600Z"
   },
   {
    "duration": 12,
    "start_time": "2023-01-09T11:43:06.611Z"
   },
   {
    "duration": 9,
    "start_time": "2023-01-09T11:43:06.624Z"
   },
   {
    "duration": 8,
    "start_time": "2023-01-09T11:43:06.634Z"
   },
   {
    "duration": 15,
    "start_time": "2023-01-09T11:43:06.643Z"
   },
   {
    "duration": 3,
    "start_time": "2023-01-09T11:43:06.660Z"
   },
   {
    "duration": 15,
    "start_time": "2023-01-09T11:43:06.665Z"
   },
   {
    "duration": 8,
    "start_time": "2023-01-09T11:43:06.682Z"
   },
   {
    "duration": 9,
    "start_time": "2023-01-09T11:43:06.691Z"
   },
   {
    "duration": 8,
    "start_time": "2023-01-09T11:43:06.701Z"
   },
   {
    "duration": 10,
    "start_time": "2023-01-09T11:43:06.710Z"
   },
   {
    "duration": 8,
    "start_time": "2023-01-09T11:43:06.722Z"
   },
   {
    "duration": 9,
    "start_time": "2023-01-09T11:43:06.731Z"
   },
   {
    "duration": 43,
    "start_time": "2023-01-09T11:43:06.742Z"
   },
   {
    "duration": 241,
    "start_time": "2023-01-09T11:43:06.787Z"
   },
   {
    "duration": 407,
    "start_time": "2023-01-09T11:43:07.030Z"
   },
   {
    "duration": 471,
    "start_time": "2023-01-09T11:43:07.438Z"
   },
   {
    "duration": 468,
    "start_time": "2023-01-09T11:43:07.911Z"
   },
   {
    "duration": 164,
    "start_time": "2023-01-09T11:43:08.381Z"
   },
   {
    "duration": 165,
    "start_time": "2023-01-09T11:43:08.547Z"
   },
   {
    "duration": 169,
    "start_time": "2023-01-09T11:43:08.714Z"
   },
   {
    "duration": 253,
    "start_time": "2023-01-09T11:43:08.884Z"
   },
   {
    "duration": 0,
    "start_time": "2023-01-09T11:43:09.138Z"
   },
   {
    "duration": 0,
    "start_time": "2023-01-09T11:43:09.140Z"
   },
   {
    "duration": 0,
    "start_time": "2023-01-09T11:43:09.140Z"
   },
   {
    "duration": 0,
    "start_time": "2023-01-09T11:43:09.141Z"
   },
   {
    "duration": 0,
    "start_time": "2023-01-09T11:43:09.142Z"
   },
   {
    "duration": 0,
    "start_time": "2023-01-09T11:43:09.143Z"
   },
   {
    "duration": 489,
    "start_time": "2023-01-09T11:44:30.223Z"
   },
   {
    "duration": 24,
    "start_time": "2023-01-09T11:44:30.715Z"
   },
   {
    "duration": 27,
    "start_time": "2023-01-09T11:44:30.741Z"
   },
   {
    "duration": 39,
    "start_time": "2023-01-09T11:44:30.770Z"
   },
   {
    "duration": 21,
    "start_time": "2023-01-09T11:44:30.810Z"
   },
   {
    "duration": 2092,
    "start_time": "2023-01-09T11:44:30.832Z"
   },
   {
    "duration": 11,
    "start_time": "2023-01-09T11:44:32.926Z"
   },
   {
    "duration": 8,
    "start_time": "2023-01-09T11:44:32.938Z"
   },
   {
    "duration": 10,
    "start_time": "2023-01-09T11:44:32.948Z"
   },
   {
    "duration": 15,
    "start_time": "2023-01-09T11:44:32.960Z"
   },
   {
    "duration": 9,
    "start_time": "2023-01-09T11:44:32.977Z"
   },
   {
    "duration": 8,
    "start_time": "2023-01-09T11:44:32.988Z"
   },
   {
    "duration": 13,
    "start_time": "2023-01-09T11:44:32.997Z"
   },
   {
    "duration": 20,
    "start_time": "2023-01-09T11:44:33.012Z"
   },
   {
    "duration": 8,
    "start_time": "2023-01-09T11:44:33.034Z"
   },
   {
    "duration": 9,
    "start_time": "2023-01-09T11:44:33.043Z"
   },
   {
    "duration": 8,
    "start_time": "2023-01-09T11:44:33.053Z"
   },
   {
    "duration": 10,
    "start_time": "2023-01-09T11:44:33.063Z"
   },
   {
    "duration": 7,
    "start_time": "2023-01-09T11:44:33.074Z"
   },
   {
    "duration": 7,
    "start_time": "2023-01-09T11:44:33.083Z"
   },
   {
    "duration": 24,
    "start_time": "2023-01-09T11:44:33.091Z"
   },
   {
    "duration": 18,
    "start_time": "2023-01-09T11:44:33.117Z"
   },
   {
    "duration": 28,
    "start_time": "2023-01-09T11:44:33.137Z"
   },
   {
    "duration": 230,
    "start_time": "2023-01-09T11:44:33.167Z"
   },
   {
    "duration": 241,
    "start_time": "2023-01-09T11:44:33.399Z"
   },
   {
    "duration": 437,
    "start_time": "2023-01-09T11:44:33.641Z"
   },
   {
    "duration": 609,
    "start_time": "2023-01-09T11:44:34.080Z"
   },
   {
    "duration": 191,
    "start_time": "2023-01-09T11:44:34.693Z"
   },
   {
    "duration": 174,
    "start_time": "2023-01-09T11:44:34.885Z"
   },
   {
    "duration": 191,
    "start_time": "2023-01-09T11:44:35.061Z"
   },
   {
    "duration": 252,
    "start_time": "2023-01-09T11:44:35.253Z"
   },
   {
    "duration": 0,
    "start_time": "2023-01-09T11:44:35.507Z"
   },
   {
    "duration": 0,
    "start_time": "2023-01-09T11:44:35.508Z"
   },
   {
    "duration": 0,
    "start_time": "2023-01-09T11:44:35.509Z"
   },
   {
    "duration": 0,
    "start_time": "2023-01-09T11:44:35.510Z"
   },
   {
    "duration": 0,
    "start_time": "2023-01-09T11:44:35.511Z"
   },
   {
    "duration": 0,
    "start_time": "2023-01-09T11:44:35.513Z"
   },
   {
    "duration": 506,
    "start_time": "2023-01-09T11:45:31.989Z"
   },
   {
    "duration": 25,
    "start_time": "2023-01-09T11:45:32.496Z"
   },
   {
    "duration": 18,
    "start_time": "2023-01-09T11:45:32.522Z"
   },
   {
    "duration": 23,
    "start_time": "2023-01-09T11:45:32.541Z"
   },
   {
    "duration": 9,
    "start_time": "2023-01-09T11:45:32.577Z"
   },
   {
    "duration": 2228,
    "start_time": "2023-01-09T11:45:32.588Z"
   },
   {
    "duration": 12,
    "start_time": "2023-01-09T11:45:34.818Z"
   },
   {
    "duration": 6,
    "start_time": "2023-01-09T11:45:34.832Z"
   },
   {
    "duration": 5,
    "start_time": "2023-01-09T11:45:34.839Z"
   },
   {
    "duration": 12,
    "start_time": "2023-01-09T11:45:34.845Z"
   },
   {
    "duration": 8,
    "start_time": "2023-01-09T11:45:34.859Z"
   },
   {
    "duration": 11,
    "start_time": "2023-01-09T11:45:34.869Z"
   },
   {
    "duration": 12,
    "start_time": "2023-01-09T11:45:34.881Z"
   },
   {
    "duration": 13,
    "start_time": "2023-01-09T11:45:34.896Z"
   },
   {
    "duration": 4,
    "start_time": "2023-01-09T11:45:34.910Z"
   },
   {
    "duration": 8,
    "start_time": "2023-01-09T11:45:34.915Z"
   },
   {
    "duration": 5,
    "start_time": "2023-01-09T11:45:34.925Z"
   },
   {
    "duration": 10,
    "start_time": "2023-01-09T11:45:34.932Z"
   },
   {
    "duration": 8,
    "start_time": "2023-01-09T11:45:34.943Z"
   },
   {
    "duration": 23,
    "start_time": "2023-01-09T11:45:34.956Z"
   },
   {
    "duration": 8,
    "start_time": "2023-01-09T11:45:34.981Z"
   },
   {
    "duration": 6,
    "start_time": "2023-01-09T11:45:34.991Z"
   },
   {
    "duration": 38,
    "start_time": "2023-01-09T11:45:34.999Z"
   },
   {
    "duration": 225,
    "start_time": "2023-01-09T11:45:35.039Z"
   },
   {
    "duration": 240,
    "start_time": "2023-01-09T11:45:35.265Z"
   },
   {
    "duration": 243,
    "start_time": "2023-01-09T11:45:35.507Z"
   },
   {
    "duration": 360,
    "start_time": "2023-01-09T11:45:35.752Z"
   },
   {
    "duration": 161,
    "start_time": "2023-01-09T11:45:36.113Z"
   },
   {
    "duration": 158,
    "start_time": "2023-01-09T11:45:36.278Z"
   },
   {
    "duration": 174,
    "start_time": "2023-01-09T11:45:36.437Z"
   },
   {
    "duration": 244,
    "start_time": "2023-01-09T11:45:36.613Z"
   },
   {
    "duration": 0,
    "start_time": "2023-01-09T11:45:36.859Z"
   },
   {
    "duration": 0,
    "start_time": "2023-01-09T11:45:36.860Z"
   },
   {
    "duration": 0,
    "start_time": "2023-01-09T11:45:36.862Z"
   },
   {
    "duration": 0,
    "start_time": "2023-01-09T11:45:36.863Z"
   },
   {
    "duration": 0,
    "start_time": "2023-01-09T11:45:36.865Z"
   },
   {
    "duration": 0,
    "start_time": "2023-01-09T11:45:36.866Z"
   },
   {
    "duration": 540,
    "start_time": "2023-01-09T11:45:54.352Z"
   },
   {
    "duration": 30,
    "start_time": "2023-01-09T11:45:54.894Z"
   },
   {
    "duration": 32,
    "start_time": "2023-01-09T11:45:54.926Z"
   },
   {
    "duration": 34,
    "start_time": "2023-01-09T11:45:54.962Z"
   },
   {
    "duration": 10,
    "start_time": "2023-01-09T11:45:54.998Z"
   },
   {
    "duration": 2194,
    "start_time": "2023-01-09T11:45:55.010Z"
   },
   {
    "duration": 12,
    "start_time": "2023-01-09T11:45:57.206Z"
   },
   {
    "duration": 6,
    "start_time": "2023-01-09T11:45:57.219Z"
   },
   {
    "duration": 7,
    "start_time": "2023-01-09T11:45:57.227Z"
   },
   {
    "duration": 11,
    "start_time": "2023-01-09T11:45:57.236Z"
   },
   {
    "duration": 9,
    "start_time": "2023-01-09T11:45:57.248Z"
   },
   {
    "duration": 11,
    "start_time": "2023-01-09T11:45:57.258Z"
   },
   {
    "duration": 14,
    "start_time": "2023-01-09T11:45:57.271Z"
   },
   {
    "duration": 21,
    "start_time": "2023-01-09T11:45:57.288Z"
   },
   {
    "duration": 22,
    "start_time": "2023-01-09T11:45:57.311Z"
   },
   {
    "duration": 13,
    "start_time": "2023-01-09T11:45:57.335Z"
   },
   {
    "duration": 4,
    "start_time": "2023-01-09T11:45:57.350Z"
   },
   {
    "duration": 8,
    "start_time": "2023-01-09T11:45:57.357Z"
   },
   {
    "duration": 6,
    "start_time": "2023-01-09T11:45:57.366Z"
   },
   {
    "duration": 8,
    "start_time": "2023-01-09T11:45:57.374Z"
   },
   {
    "duration": 13,
    "start_time": "2023-01-09T11:45:57.383Z"
   },
   {
    "duration": 5,
    "start_time": "2023-01-09T11:45:57.398Z"
   },
   {
    "duration": 24,
    "start_time": "2023-01-09T11:45:57.405Z"
   },
   {
    "duration": 268,
    "start_time": "2023-01-09T11:45:57.431Z"
   },
   {
    "duration": 269,
    "start_time": "2023-01-09T11:45:57.701Z"
   },
   {
    "duration": 239,
    "start_time": "2023-01-09T11:45:57.978Z"
   },
   {
    "duration": 333,
    "start_time": "2023-01-09T11:45:58.219Z"
   },
   {
    "duration": 161,
    "start_time": "2023-01-09T11:45:58.553Z"
   },
   {
    "duration": 164,
    "start_time": "2023-01-09T11:45:58.716Z"
   },
   {
    "duration": 176,
    "start_time": "2023-01-09T11:45:58.882Z"
   },
   {
    "duration": 3,
    "start_time": "2023-01-09T11:45:59.060Z"
   },
   {
    "duration": 277,
    "start_time": "2023-01-09T11:45:59.065Z"
   },
   {
    "duration": 257,
    "start_time": "2023-01-09T11:45:59.344Z"
   },
   {
    "duration": 255,
    "start_time": "2023-01-09T11:45:59.603Z"
   },
   {
    "duration": 239,
    "start_time": "2023-01-09T11:45:59.860Z"
   },
   {
    "duration": 154,
    "start_time": "2023-01-09T11:46:00.100Z"
   },
   {
    "duration": 94,
    "start_time": "2023-01-09T11:46:00.255Z"
   },
   {
    "duration": 278,
    "start_time": "2023-01-09T11:48:14.018Z"
   },
   {
    "duration": 182,
    "start_time": "2023-01-09T11:48:25.998Z"
   },
   {
    "duration": 522,
    "start_time": "2023-01-09T11:58:14.959Z"
   },
   {
    "duration": 25,
    "start_time": "2023-01-09T11:58:15.482Z"
   },
   {
    "duration": 15,
    "start_time": "2023-01-09T11:58:15.508Z"
   },
   {
    "duration": 22,
    "start_time": "2023-01-09T11:58:15.525Z"
   },
   {
    "duration": 35,
    "start_time": "2023-01-09T11:58:15.548Z"
   },
   {
    "duration": 2256,
    "start_time": "2023-01-09T11:58:15.585Z"
   },
   {
    "duration": 13,
    "start_time": "2023-01-09T11:58:17.844Z"
   },
   {
    "duration": 6,
    "start_time": "2023-01-09T11:58:17.859Z"
   },
   {
    "duration": 26,
    "start_time": "2023-01-09T11:58:17.867Z"
   },
   {
    "duration": 32,
    "start_time": "2023-01-09T11:58:17.897Z"
   },
   {
    "duration": 33,
    "start_time": "2023-01-09T11:58:17.932Z"
   },
   {
    "duration": 25,
    "start_time": "2023-01-09T11:58:17.967Z"
   },
   {
    "duration": 24,
    "start_time": "2023-01-09T11:58:17.994Z"
   },
   {
    "duration": 50,
    "start_time": "2023-01-09T11:58:18.020Z"
   },
   {
    "duration": 41,
    "start_time": "2023-01-09T11:58:18.071Z"
   },
   {
    "duration": 37,
    "start_time": "2023-01-09T11:58:18.113Z"
   },
   {
    "duration": 24,
    "start_time": "2023-01-09T11:58:18.152Z"
   },
   {
    "duration": 34,
    "start_time": "2023-01-09T11:58:18.178Z"
   },
   {
    "duration": 51,
    "start_time": "2023-01-09T11:58:18.213Z"
   },
   {
    "duration": 28,
    "start_time": "2023-01-09T11:58:18.265Z"
   },
   {
    "duration": 53,
    "start_time": "2023-01-09T11:58:18.295Z"
   },
   {
    "duration": 42,
    "start_time": "2023-01-09T11:58:18.351Z"
   },
   {
    "duration": 54,
    "start_time": "2023-01-09T11:58:18.395Z"
   },
   {
    "duration": 303,
    "start_time": "2023-01-09T11:58:18.451Z"
   },
   {
    "duration": 321,
    "start_time": "2023-01-09T11:58:18.757Z"
   },
   {
    "duration": 313,
    "start_time": "2023-01-09T11:58:19.081Z"
   },
   {
    "duration": 400,
    "start_time": "2023-01-09T11:58:19.396Z"
   },
   {
    "duration": 191,
    "start_time": "2023-01-09T11:58:19.799Z"
   },
   {
    "duration": 196,
    "start_time": "2023-01-09T11:58:19.992Z"
   },
   {
    "duration": 213,
    "start_time": "2023-01-09T11:58:20.190Z"
   },
   {
    "duration": 3,
    "start_time": "2023-01-09T11:58:20.405Z"
   },
   {
    "duration": 327,
    "start_time": "2023-01-09T11:58:20.410Z"
   },
   {
    "duration": 281,
    "start_time": "2023-01-09T11:58:20.739Z"
   },
   {
    "duration": 280,
    "start_time": "2023-01-09T11:58:21.022Z"
   },
   {
    "duration": 258,
    "start_time": "2023-01-09T11:58:21.304Z"
   },
   {
    "duration": 158,
    "start_time": "2023-01-09T11:58:21.564Z"
   },
   {
    "duration": 479,
    "start_time": "2023-01-09T11:58:21.724Z"
   },
   {
    "duration": 80,
    "start_time": "2023-01-09T11:58:22.205Z"
   },
   {
    "duration": 79,
    "start_time": "2023-01-09T12:15:16.561Z"
   },
   {
    "duration": 17,
    "start_time": "2023-01-09T12:24:12.565Z"
   },
   {
    "duration": 488,
    "start_time": "2023-01-09T12:24:24.630Z"
   },
   {
    "duration": 24,
    "start_time": "2023-01-09T12:24:25.121Z"
   },
   {
    "duration": 50,
    "start_time": "2023-01-09T12:24:25.147Z"
   },
   {
    "duration": 28,
    "start_time": "2023-01-09T12:24:25.199Z"
   },
   {
    "duration": 27,
    "start_time": "2023-01-09T12:24:25.230Z"
   },
   {
    "duration": 2134,
    "start_time": "2023-01-09T12:24:25.258Z"
   },
   {
    "duration": 10,
    "start_time": "2023-01-09T12:24:27.394Z"
   },
   {
    "duration": 81,
    "start_time": "2023-01-09T12:24:27.406Z"
   },
   {
    "duration": 0,
    "start_time": "2023-01-09T12:24:27.491Z"
   },
   {
    "duration": 0,
    "start_time": "2023-01-09T12:24:27.492Z"
   },
   {
    "duration": 0,
    "start_time": "2023-01-09T12:24:27.494Z"
   },
   {
    "duration": 0,
    "start_time": "2023-01-09T12:24:27.495Z"
   },
   {
    "duration": 0,
    "start_time": "2023-01-09T12:24:27.496Z"
   },
   {
    "duration": 0,
    "start_time": "2023-01-09T12:24:27.498Z"
   },
   {
    "duration": 0,
    "start_time": "2023-01-09T12:24:27.499Z"
   },
   {
    "duration": 1,
    "start_time": "2023-01-09T12:24:27.500Z"
   },
   {
    "duration": 0,
    "start_time": "2023-01-09T12:24:27.502Z"
   },
   {
    "duration": 0,
    "start_time": "2023-01-09T12:24:27.503Z"
   },
   {
    "duration": 0,
    "start_time": "2023-01-09T12:24:27.504Z"
   },
   {
    "duration": 0,
    "start_time": "2023-01-09T12:24:27.505Z"
   },
   {
    "duration": 0,
    "start_time": "2023-01-09T12:24:27.506Z"
   },
   {
    "duration": 0,
    "start_time": "2023-01-09T12:24:27.507Z"
   },
   {
    "duration": 0,
    "start_time": "2023-01-09T12:24:27.508Z"
   },
   {
    "duration": 0,
    "start_time": "2023-01-09T12:24:27.509Z"
   },
   {
    "duration": 0,
    "start_time": "2023-01-09T12:24:27.510Z"
   },
   {
    "duration": 0,
    "start_time": "2023-01-09T12:24:27.510Z"
   },
   {
    "duration": 0,
    "start_time": "2023-01-09T12:24:27.511Z"
   },
   {
    "duration": 0,
    "start_time": "2023-01-09T12:24:27.512Z"
   },
   {
    "duration": 0,
    "start_time": "2023-01-09T12:24:27.513Z"
   },
   {
    "duration": 0,
    "start_time": "2023-01-09T12:24:27.514Z"
   },
   {
    "duration": 0,
    "start_time": "2023-01-09T12:24:27.515Z"
   },
   {
    "duration": 0,
    "start_time": "2023-01-09T12:24:27.516Z"
   },
   {
    "duration": 0,
    "start_time": "2023-01-09T12:24:27.517Z"
   },
   {
    "duration": 0,
    "start_time": "2023-01-09T12:24:27.518Z"
   },
   {
    "duration": 0,
    "start_time": "2023-01-09T12:24:27.519Z"
   },
   {
    "duration": 0,
    "start_time": "2023-01-09T12:24:27.520Z"
   },
   {
    "duration": 0,
    "start_time": "2023-01-09T12:24:27.521Z"
   },
   {
    "duration": 0,
    "start_time": "2023-01-09T12:24:27.522Z"
   },
   {
    "duration": 4,
    "start_time": "2023-01-09T12:25:58.067Z"
   },
   {
    "duration": 4,
    "start_time": "2023-01-09T12:25:59.829Z"
   },
   {
    "duration": 12,
    "start_time": "2023-01-09T12:26:01.244Z"
   },
   {
    "duration": 552,
    "start_time": "2023-01-09T12:29:59.064Z"
   },
   {
    "duration": 27,
    "start_time": "2023-01-09T12:29:59.618Z"
   },
   {
    "duration": 22,
    "start_time": "2023-01-09T12:29:59.647Z"
   },
   {
    "duration": 24,
    "start_time": "2023-01-09T12:29:59.679Z"
   },
   {
    "duration": 12,
    "start_time": "2023-01-09T12:29:59.706Z"
   },
   {
    "duration": 2368,
    "start_time": "2023-01-09T12:29:59.720Z"
   },
   {
    "duration": 14,
    "start_time": "2023-01-09T12:30:02.090Z"
   },
   {
    "duration": 10,
    "start_time": "2023-01-09T12:30:02.106Z"
   },
   {
    "duration": 20,
    "start_time": "2023-01-09T12:30:02.118Z"
   },
   {
    "duration": 103,
    "start_time": "2023-01-09T12:30:02.140Z"
   },
   {
    "duration": 0,
    "start_time": "2023-01-09T12:30:02.246Z"
   },
   {
    "duration": 0,
    "start_time": "2023-01-09T12:30:02.247Z"
   },
   {
    "duration": 0,
    "start_time": "2023-01-09T12:30:02.249Z"
   },
   {
    "duration": 0,
    "start_time": "2023-01-09T12:30:02.250Z"
   },
   {
    "duration": 0,
    "start_time": "2023-01-09T12:30:02.251Z"
   },
   {
    "duration": 0,
    "start_time": "2023-01-09T12:30:02.252Z"
   },
   {
    "duration": 0,
    "start_time": "2023-01-09T12:30:02.254Z"
   },
   {
    "duration": 0,
    "start_time": "2023-01-09T12:30:02.255Z"
   },
   {
    "duration": 0,
    "start_time": "2023-01-09T12:30:02.256Z"
   },
   {
    "duration": 0,
    "start_time": "2023-01-09T12:30:02.258Z"
   },
   {
    "duration": 0,
    "start_time": "2023-01-09T12:30:02.259Z"
   },
   {
    "duration": 0,
    "start_time": "2023-01-09T12:30:02.278Z"
   },
   {
    "duration": 0,
    "start_time": "2023-01-09T12:30:02.280Z"
   },
   {
    "duration": 0,
    "start_time": "2023-01-09T12:30:02.281Z"
   },
   {
    "duration": 0,
    "start_time": "2023-01-09T12:30:02.283Z"
   },
   {
    "duration": 0,
    "start_time": "2023-01-09T12:30:02.284Z"
   },
   {
    "duration": 0,
    "start_time": "2023-01-09T12:30:02.286Z"
   },
   {
    "duration": 0,
    "start_time": "2023-01-09T12:30:02.287Z"
   },
   {
    "duration": 0,
    "start_time": "2023-01-09T12:30:02.288Z"
   },
   {
    "duration": 0,
    "start_time": "2023-01-09T12:30:02.290Z"
   },
   {
    "duration": 0,
    "start_time": "2023-01-09T12:30:02.291Z"
   },
   {
    "duration": 0,
    "start_time": "2023-01-09T12:30:02.292Z"
   },
   {
    "duration": 0,
    "start_time": "2023-01-09T12:30:02.294Z"
   },
   {
    "duration": 0,
    "start_time": "2023-01-09T12:30:02.295Z"
   },
   {
    "duration": 0,
    "start_time": "2023-01-09T12:30:02.297Z"
   },
   {
    "duration": 0,
    "start_time": "2023-01-09T12:30:02.299Z"
   },
   {
    "duration": 0,
    "start_time": "2023-01-09T12:30:02.301Z"
   },
   {
    "duration": 0,
    "start_time": "2023-01-09T12:30:02.303Z"
   },
   {
    "duration": 0,
    "start_time": "2023-01-09T12:30:02.304Z"
   },
   {
    "duration": 0,
    "start_time": "2023-01-09T12:30:02.305Z"
   },
   {
    "duration": 83,
    "start_time": "2023-01-09T12:30:44.483Z"
   },
   {
    "duration": 42,
    "start_time": "2023-01-09T12:33:43.839Z"
   },
   {
    "duration": 536,
    "start_time": "2023-01-09T12:35:06.516Z"
   },
   {
    "duration": 33,
    "start_time": "2023-01-09T12:35:07.054Z"
   },
   {
    "duration": 19,
    "start_time": "2023-01-09T12:35:07.089Z"
   },
   {
    "duration": 23,
    "start_time": "2023-01-09T12:35:07.110Z"
   },
   {
    "duration": 8,
    "start_time": "2023-01-09T12:35:07.135Z"
   },
   {
    "duration": 2215,
    "start_time": "2023-01-09T12:35:07.145Z"
   },
   {
    "duration": 13,
    "start_time": "2023-01-09T12:35:09.363Z"
   },
   {
    "duration": 6,
    "start_time": "2023-01-09T12:35:09.378Z"
   },
   {
    "duration": 7,
    "start_time": "2023-01-09T12:35:09.386Z"
   },
   {
    "duration": 43,
    "start_time": "2023-01-09T12:35:09.397Z"
   },
   {
    "duration": 0,
    "start_time": "2023-01-09T12:35:09.444Z"
   },
   {
    "duration": 0,
    "start_time": "2023-01-09T12:35:09.445Z"
   },
   {
    "duration": 0,
    "start_time": "2023-01-09T12:35:09.446Z"
   },
   {
    "duration": 0,
    "start_time": "2023-01-09T12:35:09.448Z"
   },
   {
    "duration": 0,
    "start_time": "2023-01-09T12:35:09.449Z"
   },
   {
    "duration": 0,
    "start_time": "2023-01-09T12:35:09.450Z"
   },
   {
    "duration": 0,
    "start_time": "2023-01-09T12:35:09.452Z"
   },
   {
    "duration": 0,
    "start_time": "2023-01-09T12:35:09.478Z"
   },
   {
    "duration": 0,
    "start_time": "2023-01-09T12:35:09.479Z"
   },
   {
    "duration": 0,
    "start_time": "2023-01-09T12:35:09.480Z"
   },
   {
    "duration": 0,
    "start_time": "2023-01-09T12:35:09.481Z"
   },
   {
    "duration": 0,
    "start_time": "2023-01-09T12:35:09.482Z"
   },
   {
    "duration": 0,
    "start_time": "2023-01-09T12:35:09.483Z"
   },
   {
    "duration": 0,
    "start_time": "2023-01-09T12:35:09.485Z"
   },
   {
    "duration": 0,
    "start_time": "2023-01-09T12:35:09.487Z"
   },
   {
    "duration": 0,
    "start_time": "2023-01-09T12:35:09.489Z"
   },
   {
    "duration": 1,
    "start_time": "2023-01-09T12:35:09.490Z"
   },
   {
    "duration": 0,
    "start_time": "2023-01-09T12:35:09.492Z"
   },
   {
    "duration": 0,
    "start_time": "2023-01-09T12:35:09.494Z"
   },
   {
    "duration": 0,
    "start_time": "2023-01-09T12:35:09.496Z"
   },
   {
    "duration": 0,
    "start_time": "2023-01-09T12:35:09.498Z"
   },
   {
    "duration": 0,
    "start_time": "2023-01-09T12:35:09.500Z"
   },
   {
    "duration": 0,
    "start_time": "2023-01-09T12:35:09.502Z"
   },
   {
    "duration": 0,
    "start_time": "2023-01-09T12:35:09.503Z"
   },
   {
    "duration": 0,
    "start_time": "2023-01-09T12:35:09.505Z"
   },
   {
    "duration": 0,
    "start_time": "2023-01-09T12:35:09.507Z"
   },
   {
    "duration": 0,
    "start_time": "2023-01-09T12:35:09.508Z"
   },
   {
    "duration": 0,
    "start_time": "2023-01-09T12:35:09.509Z"
   },
   {
    "duration": 0,
    "start_time": "2023-01-09T12:35:09.510Z"
   },
   {
    "duration": 0,
    "start_time": "2023-01-09T12:35:09.511Z"
   },
   {
    "duration": 151,
    "start_time": "2023-01-09T12:35:47.629Z"
   },
   {
    "duration": 34,
    "start_time": "2023-01-09T12:35:47.782Z"
   },
   {
    "duration": 32,
    "start_time": "2023-01-09T12:35:47.819Z"
   },
   {
    "duration": 55,
    "start_time": "2023-01-09T12:35:47.854Z"
   },
   {
    "duration": 10,
    "start_time": "2023-01-09T12:35:47.910Z"
   },
   {
    "duration": 2017,
    "start_time": "2023-01-09T12:35:47.922Z"
   },
   {
    "duration": 19,
    "start_time": "2023-01-09T12:35:49.941Z"
   },
   {
    "duration": 19,
    "start_time": "2023-01-09T12:35:49.963Z"
   },
   {
    "duration": 7,
    "start_time": "2023-01-09T12:35:49.984Z"
   },
   {
    "duration": 12,
    "start_time": "2023-01-09T12:35:49.994Z"
   },
   {
    "duration": 21,
    "start_time": "2023-01-09T12:35:50.008Z"
   },
   {
    "duration": 12,
    "start_time": "2023-01-09T12:35:50.031Z"
   },
   {
    "duration": 15,
    "start_time": "2023-01-09T12:35:50.045Z"
   },
   {
    "duration": 27,
    "start_time": "2023-01-09T12:35:50.062Z"
   },
   {
    "duration": 17,
    "start_time": "2023-01-09T12:35:50.091Z"
   },
   {
    "duration": 17,
    "start_time": "2023-01-09T12:35:50.112Z"
   },
   {
    "duration": 5,
    "start_time": "2023-01-09T12:35:50.132Z"
   },
   {
    "duration": 14,
    "start_time": "2023-01-09T12:35:50.139Z"
   },
   {
    "duration": 10,
    "start_time": "2023-01-09T12:35:50.155Z"
   },
   {
    "duration": 12,
    "start_time": "2023-01-09T12:35:50.167Z"
   },
   {
    "duration": 12,
    "start_time": "2023-01-09T12:35:50.181Z"
   },
   {
    "duration": 17,
    "start_time": "2023-01-09T12:35:50.195Z"
   },
   {
    "duration": 11,
    "start_time": "2023-01-09T12:35:50.214Z"
   },
   {
    "duration": 9,
    "start_time": "2023-01-09T12:35:50.227Z"
   },
   {
    "duration": 61,
    "start_time": "2023-01-09T12:35:50.239Z"
   },
   {
    "duration": 263,
    "start_time": "2023-01-09T12:35:50.302Z"
   },
   {
    "duration": 289,
    "start_time": "2023-01-09T12:35:50.567Z"
   },
   {
    "duration": 274,
    "start_time": "2023-01-09T12:35:50.860Z"
   },
   {
    "duration": 431,
    "start_time": "2023-01-09T12:35:51.135Z"
   },
   {
    "duration": 204,
    "start_time": "2023-01-09T12:35:51.567Z"
   },
   {
    "duration": 171,
    "start_time": "2023-01-09T12:35:51.772Z"
   },
   {
    "duration": 185,
    "start_time": "2023-01-09T12:35:51.944Z"
   },
   {
    "duration": 3,
    "start_time": "2023-01-09T12:35:52.131Z"
   },
   {
    "duration": 257,
    "start_time": "2023-01-09T12:35:52.136Z"
   },
   {
    "duration": 254,
    "start_time": "2023-01-09T12:35:52.395Z"
   },
   {
    "duration": 241,
    "start_time": "2023-01-09T12:35:52.651Z"
   },
   {
    "duration": 147,
    "start_time": "2023-01-09T12:35:52.894Z"
   },
   {
    "duration": 267,
    "start_time": "2023-01-09T12:35:53.043Z"
   },
   {
    "duration": 489,
    "start_time": "2023-01-09T12:35:53.312Z"
   },
   {
    "duration": 70,
    "start_time": "2023-01-09T12:35:53.803Z"
   },
   {
    "duration": 5,
    "start_time": "2023-01-09T12:59:06.692Z"
   },
   {
    "duration": 199,
    "start_time": "2023-01-09T12:59:27.992Z"
   },
   {
    "duration": 517,
    "start_time": "2023-01-09T13:04:42.587Z"
   },
   {
    "duration": 24,
    "start_time": "2023-01-09T13:04:43.106Z"
   },
   {
    "duration": 20,
    "start_time": "2023-01-09T13:04:43.132Z"
   },
   {
    "duration": 29,
    "start_time": "2023-01-09T13:04:43.154Z"
   },
   {
    "duration": 8,
    "start_time": "2023-01-09T13:04:43.185Z"
   },
   {
    "duration": 2329,
    "start_time": "2023-01-09T13:04:43.195Z"
   },
   {
    "duration": 14,
    "start_time": "2023-01-09T13:04:45.526Z"
   },
   {
    "duration": 14,
    "start_time": "2023-01-09T13:04:45.542Z"
   },
   {
    "duration": 12,
    "start_time": "2023-01-09T13:04:45.558Z"
   },
   {
    "duration": 7,
    "start_time": "2023-01-09T13:04:45.573Z"
   },
   {
    "duration": 8,
    "start_time": "2023-01-09T13:04:45.582Z"
   },
   {
    "duration": 12,
    "start_time": "2023-01-09T13:04:45.592Z"
   },
   {
    "duration": 14,
    "start_time": "2023-01-09T13:04:45.606Z"
   },
   {
    "duration": 22,
    "start_time": "2023-01-09T13:04:45.622Z"
   },
   {
    "duration": 17,
    "start_time": "2023-01-09T13:04:45.647Z"
   },
   {
    "duration": 34,
    "start_time": "2023-01-09T13:04:45.666Z"
   },
   {
    "duration": 7,
    "start_time": "2023-01-09T13:04:45.702Z"
   },
   {
    "duration": 16,
    "start_time": "2023-01-09T13:04:45.712Z"
   },
   {
    "duration": 10,
    "start_time": "2023-01-09T13:04:45.730Z"
   },
   {
    "duration": 24,
    "start_time": "2023-01-09T13:04:45.742Z"
   },
   {
    "duration": 15,
    "start_time": "2023-01-09T13:04:45.768Z"
   },
   {
    "duration": 13,
    "start_time": "2023-01-09T13:04:45.784Z"
   },
   {
    "duration": 16,
    "start_time": "2023-01-09T13:04:45.799Z"
   },
   {
    "duration": 23,
    "start_time": "2023-01-09T13:04:45.817Z"
   },
   {
    "duration": 31,
    "start_time": "2023-01-09T13:04:45.843Z"
   },
   {
    "duration": 263,
    "start_time": "2023-01-09T13:04:45.876Z"
   },
   {
    "duration": 285,
    "start_time": "2023-01-09T13:04:46.141Z"
   },
   {
    "duration": 294,
    "start_time": "2023-01-09T13:04:46.430Z"
   },
   {
    "duration": 411,
    "start_time": "2023-01-09T13:04:46.726Z"
   },
   {
    "duration": 197,
    "start_time": "2023-01-09T13:04:47.139Z"
   },
   {
    "duration": 187,
    "start_time": "2023-01-09T13:04:47.337Z"
   },
   {
    "duration": 203,
    "start_time": "2023-01-09T13:04:47.526Z"
   },
   {
    "duration": 3,
    "start_time": "2023-01-09T13:04:47.732Z"
   },
   {
    "duration": 288,
    "start_time": "2023-01-09T13:04:47.736Z"
   },
   {
    "duration": 231,
    "start_time": "2023-01-09T13:04:48.026Z"
   },
   {
    "duration": 241,
    "start_time": "2023-01-09T13:04:48.259Z"
   },
   {
    "duration": 240,
    "start_time": "2023-01-09T13:04:48.501Z"
   },
   {
    "duration": 157,
    "start_time": "2023-01-09T13:04:48.744Z"
   },
   {
    "duration": 622,
    "start_time": "2023-01-09T13:04:48.903Z"
   },
   {
    "duration": 81,
    "start_time": "2023-01-09T13:04:49.527Z"
   },
   {
    "duration": 257,
    "start_time": "2023-01-09T13:05:18.492Z"
   },
   {
    "duration": 5,
    "start_time": "2023-01-09T13:05:45.679Z"
   },
   {
    "duration": 14,
    "start_time": "2023-01-09T13:06:50.562Z"
   },
   {
    "duration": 15,
    "start_time": "2023-01-09T13:09:42.645Z"
   },
   {
    "duration": 9,
    "start_time": "2023-01-09T13:11:32.563Z"
   },
   {
    "duration": 3,
    "start_time": "2023-01-09T13:12:01.431Z"
   },
   {
    "duration": 697,
    "start_time": "2023-01-09T13:23:47.950Z"
   },
   {
    "duration": 23,
    "start_time": "2023-01-09T13:23:48.649Z"
   },
   {
    "duration": 25,
    "start_time": "2023-01-09T13:23:48.674Z"
   },
   {
    "duration": 27,
    "start_time": "2023-01-09T13:23:48.701Z"
   },
   {
    "duration": 12,
    "start_time": "2023-01-09T13:23:48.730Z"
   },
   {
    "duration": 2293,
    "start_time": "2023-01-09T13:23:48.744Z"
   },
   {
    "duration": 15,
    "start_time": "2023-01-09T13:23:51.039Z"
   },
   {
    "duration": 7,
    "start_time": "2023-01-09T13:23:51.055Z"
   },
   {
    "duration": 19,
    "start_time": "2023-01-09T13:23:51.063Z"
   },
   {
    "duration": 4,
    "start_time": "2023-01-09T13:23:51.085Z"
   },
   {
    "duration": 8,
    "start_time": "2023-01-09T13:23:51.090Z"
   },
   {
    "duration": 11,
    "start_time": "2023-01-09T13:23:51.099Z"
   },
   {
    "duration": 9,
    "start_time": "2023-01-09T13:23:51.111Z"
   },
   {
    "duration": 12,
    "start_time": "2023-01-09T13:23:51.126Z"
   },
   {
    "duration": 11,
    "start_time": "2023-01-09T13:23:51.139Z"
   },
   {
    "duration": 7,
    "start_time": "2023-01-09T13:23:51.151Z"
   },
   {
    "duration": 19,
    "start_time": "2023-01-09T13:23:51.159Z"
   },
   {
    "duration": 13,
    "start_time": "2023-01-09T13:23:51.181Z"
   },
   {
    "duration": 20,
    "start_time": "2023-01-09T13:23:51.197Z"
   },
   {
    "duration": 9,
    "start_time": "2023-01-09T13:23:51.220Z"
   },
   {
    "duration": 16,
    "start_time": "2023-01-09T13:23:51.232Z"
   },
   {
    "duration": 10,
    "start_time": "2023-01-09T13:23:51.250Z"
   },
   {
    "duration": 8,
    "start_time": "2023-01-09T13:23:51.263Z"
   },
   {
    "duration": 10,
    "start_time": "2023-01-09T13:23:51.274Z"
   },
   {
    "duration": 7,
    "start_time": "2023-01-09T13:23:51.285Z"
   },
   {
    "duration": 40,
    "start_time": "2023-01-09T13:23:51.293Z"
   },
   {
    "duration": 228,
    "start_time": "2023-01-09T13:23:51.335Z"
   },
   {
    "duration": 260,
    "start_time": "2023-01-09T13:23:51.567Z"
   },
   {
    "duration": 327,
    "start_time": "2023-01-09T13:23:51.828Z"
   },
   {
    "duration": 239,
    "start_time": "2023-01-09T13:23:52.157Z"
   },
   {
    "duration": 160,
    "start_time": "2023-01-09T13:23:52.398Z"
   },
   {
    "duration": 161,
    "start_time": "2023-01-09T13:23:52.559Z"
   },
   {
    "duration": 172,
    "start_time": "2023-01-09T13:23:52.726Z"
   },
   {
    "duration": 2,
    "start_time": "2023-01-09T13:23:52.899Z"
   },
   {
    "duration": 233,
    "start_time": "2023-01-09T13:23:52.903Z"
   },
   {
    "duration": 210,
    "start_time": "2023-01-09T13:23:53.138Z"
   },
   {
    "duration": 319,
    "start_time": "2023-01-09T13:23:53.350Z"
   },
   {
    "duration": 121,
    "start_time": "2023-01-09T13:23:53.671Z"
   },
   {
    "duration": 147,
    "start_time": "2023-01-09T13:23:53.794Z"
   },
   {
    "duration": 439,
    "start_time": "2023-01-09T13:23:53.943Z"
   },
   {
    "duration": 71,
    "start_time": "2023-01-09T13:23:54.384Z"
   },
   {
    "duration": 4,
    "start_time": "2023-01-09T13:26:08.575Z"
   },
   {
    "duration": 4,
    "start_time": "2023-01-09T13:26:28.743Z"
   },
   {
    "duration": 3,
    "start_time": "2023-01-09T13:26:36.896Z"
   },
   {
    "duration": 70,
    "start_time": "2023-01-09T13:26:46.368Z"
   },
   {
    "duration": 5,
    "start_time": "2023-01-09T13:27:52.562Z"
   },
   {
    "duration": 10,
    "start_time": "2023-01-09T13:28:45.105Z"
   },
   {
    "duration": 5,
    "start_time": "2023-01-09T13:28:46.645Z"
   },
   {
    "duration": 5,
    "start_time": "2023-01-09T13:28:59.657Z"
   },
   {
    "duration": 181,
    "start_time": "2023-01-09T13:31:21.616Z"
   },
   {
    "duration": 255,
    "start_time": "2023-01-09T13:37:33.723Z"
   },
   {
    "duration": 357,
    "start_time": "2023-01-09T13:39:06.117Z"
   },
   {
    "duration": 226,
    "start_time": "2023-01-09T13:54:17.572Z"
   },
   {
    "duration": 10,
    "start_time": "2023-01-09T16:02:24.981Z"
   },
   {
    "duration": 8,
    "start_time": "2023-01-09T16:02:32.389Z"
   },
   {
    "duration": 5,
    "start_time": "2023-01-09T16:02:34.165Z"
   },
   {
    "duration": 3,
    "start_time": "2023-01-09T16:02:35.926Z"
   },
   {
    "duration": 48,
    "start_time": "2023-01-10T07:13:07.749Z"
   },
   {
    "duration": 6,
    "start_time": "2023-01-10T07:17:09.915Z"
   },
   {
    "duration": 6,
    "start_time": "2023-01-10T07:19:43.397Z"
   },
   {
    "duration": 7,
    "start_time": "2023-01-10T07:20:11.953Z"
   },
   {
    "duration": 6,
    "start_time": "2023-01-10T07:22:17.795Z"
   },
   {
    "duration": 6,
    "start_time": "2023-01-10T07:23:13.236Z"
   },
   {
    "duration": 473,
    "start_time": "2023-01-10T07:23:19.236Z"
   },
   {
    "duration": 21,
    "start_time": "2023-01-10T07:23:19.711Z"
   },
   {
    "duration": 12,
    "start_time": "2023-01-10T07:23:19.734Z"
   },
   {
    "duration": 20,
    "start_time": "2023-01-10T07:23:19.748Z"
   },
   {
    "duration": 33,
    "start_time": "2023-01-10T07:23:19.769Z"
   },
   {
    "duration": 2115,
    "start_time": "2023-01-10T07:23:19.803Z"
   },
   {
    "duration": 15,
    "start_time": "2023-01-10T07:23:21.920Z"
   },
   {
    "duration": 10,
    "start_time": "2023-01-10T07:23:21.938Z"
   },
   {
    "duration": 24,
    "start_time": "2023-01-10T07:23:21.949Z"
   },
   {
    "duration": 10,
    "start_time": "2023-01-10T07:23:21.976Z"
   },
   {
    "duration": 8,
    "start_time": "2023-01-10T07:23:21.988Z"
   },
   {
    "duration": 11,
    "start_time": "2023-01-10T07:23:21.998Z"
   },
   {
    "duration": 7,
    "start_time": "2023-01-10T07:23:22.010Z"
   },
   {
    "duration": 11,
    "start_time": "2023-01-10T07:23:22.018Z"
   },
   {
    "duration": 15,
    "start_time": "2023-01-10T07:23:22.030Z"
   },
   {
    "duration": 14,
    "start_time": "2023-01-10T07:23:22.047Z"
   },
   {
    "duration": 11,
    "start_time": "2023-01-10T07:23:22.062Z"
   },
   {
    "duration": 4,
    "start_time": "2023-01-10T07:23:22.075Z"
   },
   {
    "duration": 10,
    "start_time": "2023-01-10T07:23:22.081Z"
   },
   {
    "duration": 4,
    "start_time": "2023-01-10T07:23:22.093Z"
   },
   {
    "duration": 10,
    "start_time": "2023-01-10T07:23:22.099Z"
   },
   {
    "duration": 11,
    "start_time": "2023-01-10T07:23:22.110Z"
   },
   {
    "duration": 9,
    "start_time": "2023-01-10T07:23:22.123Z"
   },
   {
    "duration": 13,
    "start_time": "2023-01-10T07:23:22.133Z"
   },
   {
    "duration": 9,
    "start_time": "2023-01-10T07:23:22.147Z"
   },
   {
    "duration": 29,
    "start_time": "2023-01-10T07:23:22.158Z"
   },
   {
    "duration": 227,
    "start_time": "2023-01-10T07:23:22.189Z"
   },
   {
    "duration": 258,
    "start_time": "2023-01-10T07:23:22.419Z"
   },
   {
    "duration": 238,
    "start_time": "2023-01-10T07:23:22.679Z"
   },
   {
    "duration": 316,
    "start_time": "2023-01-10T07:23:22.918Z"
   },
   {
    "duration": 193,
    "start_time": "2023-01-10T07:23:23.235Z"
   },
   {
    "duration": 152,
    "start_time": "2023-01-10T07:23:23.430Z"
   },
   {
    "duration": 169,
    "start_time": "2023-01-10T07:23:23.590Z"
   },
   {
    "duration": 187,
    "start_time": "2023-01-10T07:23:23.760Z"
   },
   {
    "duration": 224,
    "start_time": "2023-01-10T07:23:23.948Z"
   },
   {
    "duration": 226,
    "start_time": "2023-01-10T07:23:24.173Z"
   },
   {
    "duration": 355,
    "start_time": "2023-01-10T07:23:24.401Z"
   },
   {
    "duration": 151,
    "start_time": "2023-01-10T07:23:24.757Z"
   },
   {
    "duration": 125,
    "start_time": "2023-01-10T07:23:24.909Z"
   },
   {
    "duration": 243,
    "start_time": "2023-01-10T07:23:25.036Z"
   },
   {
    "duration": 937,
    "start_time": "2023-01-10T07:23:25.280Z"
   },
   {
    "duration": 0,
    "start_time": "2023-01-10T07:23:26.219Z"
   },
   {
    "duration": 23,
    "start_time": "2023-01-10T07:23:31.244Z"
   },
   {
    "duration": 20,
    "start_time": "2023-01-10T07:23:47.196Z"
   },
   {
    "duration": 320,
    "start_time": "2023-01-10T07:25:47.594Z"
   },
   {
    "duration": 11,
    "start_time": "2023-01-10T07:28:37.431Z"
   },
   {
    "duration": 11,
    "start_time": "2023-01-10T07:30:55.295Z"
   },
   {
    "duration": 162,
    "start_time": "2023-01-10T07:37:06.060Z"
   },
   {
    "duration": 132,
    "start_time": "2023-01-10T07:38:40.766Z"
   },
   {
    "duration": 472,
    "start_time": "2023-01-10T07:38:52.845Z"
   },
   {
    "duration": 703,
    "start_time": "2023-01-10T07:39:32.223Z"
   },
   {
    "duration": 23,
    "start_time": "2023-01-10T07:39:32.928Z"
   },
   {
    "duration": 13,
    "start_time": "2023-01-10T07:39:32.952Z"
   },
   {
    "duration": 39,
    "start_time": "2023-01-10T07:39:32.966Z"
   },
   {
    "duration": 15,
    "start_time": "2023-01-10T07:39:33.007Z"
   },
   {
    "duration": 1950,
    "start_time": "2023-01-10T07:39:33.024Z"
   },
   {
    "duration": 13,
    "start_time": "2023-01-10T07:39:34.976Z"
   },
   {
    "duration": 5,
    "start_time": "2023-01-10T07:39:34.990Z"
   },
   {
    "duration": 11,
    "start_time": "2023-01-10T07:39:34.997Z"
   },
   {
    "duration": 5,
    "start_time": "2023-01-10T07:39:35.011Z"
   },
   {
    "duration": 6,
    "start_time": "2023-01-10T07:39:35.018Z"
   },
   {
    "duration": 8,
    "start_time": "2023-01-10T07:39:35.026Z"
   },
   {
    "duration": 8,
    "start_time": "2023-01-10T07:39:35.035Z"
   },
   {
    "duration": 13,
    "start_time": "2023-01-10T07:39:35.045Z"
   },
   {
    "duration": 17,
    "start_time": "2023-01-10T07:39:35.059Z"
   },
   {
    "duration": 19,
    "start_time": "2023-01-10T07:39:35.078Z"
   },
   {
    "duration": 11,
    "start_time": "2023-01-10T07:39:35.099Z"
   },
   {
    "duration": 6,
    "start_time": "2023-01-10T07:39:35.112Z"
   },
   {
    "duration": 7,
    "start_time": "2023-01-10T07:39:35.120Z"
   },
   {
    "duration": 8,
    "start_time": "2023-01-10T07:39:35.128Z"
   },
   {
    "duration": 7,
    "start_time": "2023-01-10T07:39:35.138Z"
   },
   {
    "duration": 7,
    "start_time": "2023-01-10T07:39:35.147Z"
   },
   {
    "duration": 18,
    "start_time": "2023-01-10T07:39:35.156Z"
   },
   {
    "duration": 22,
    "start_time": "2023-01-10T07:39:35.176Z"
   },
   {
    "duration": 7,
    "start_time": "2023-01-10T07:39:35.199Z"
   },
   {
    "duration": 33,
    "start_time": "2023-01-10T07:39:35.208Z"
   },
   {
    "duration": 249,
    "start_time": "2023-01-10T07:39:35.243Z"
   },
   {
    "duration": 273,
    "start_time": "2023-01-10T07:39:35.495Z"
   },
   {
    "duration": 238,
    "start_time": "2023-01-10T07:39:35.769Z"
   },
   {
    "duration": 352,
    "start_time": "2023-01-10T07:39:36.010Z"
   },
   {
    "duration": 180,
    "start_time": "2023-01-10T07:39:36.364Z"
   },
   {
    "duration": 154,
    "start_time": "2023-01-10T07:39:36.545Z"
   },
   {
    "duration": 168,
    "start_time": "2023-01-10T07:39:36.701Z"
   },
   {
    "duration": 191,
    "start_time": "2023-01-10T07:39:36.871Z"
   },
   {
    "duration": 237,
    "start_time": "2023-01-10T07:39:37.064Z"
   },
   {
    "duration": 219,
    "start_time": "2023-01-10T07:39:37.303Z"
   },
   {
    "duration": 302,
    "start_time": "2023-01-10T07:39:37.524Z"
   },
   {
    "duration": 154,
    "start_time": "2023-01-10T07:39:37.828Z"
   },
   {
    "duration": 151,
    "start_time": "2023-01-10T07:39:37.983Z"
   },
   {
    "duration": 256,
    "start_time": "2023-01-10T07:39:38.136Z"
   },
   {
    "duration": 51,
    "start_time": "2023-01-10T07:39:38.398Z"
   },
   {
    "duration": 0,
    "start_time": "2023-01-10T07:39:38.451Z"
   },
   {
    "duration": 700,
    "start_time": "2023-01-10T07:39:57.648Z"
   },
   {
    "duration": 23,
    "start_time": "2023-01-10T07:39:58.349Z"
   },
   {
    "duration": 40,
    "start_time": "2023-01-10T07:39:58.374Z"
   },
   {
    "duration": 25,
    "start_time": "2023-01-10T07:39:58.417Z"
   },
   {
    "duration": 9,
    "start_time": "2023-01-10T07:39:58.444Z"
   },
   {
    "duration": 1899,
    "start_time": "2023-01-10T07:39:58.455Z"
   },
   {
    "duration": 11,
    "start_time": "2023-01-10T07:40:00.356Z"
   },
   {
    "duration": 70,
    "start_time": "2023-01-10T07:40:00.369Z"
   },
   {
    "duration": 81,
    "start_time": "2023-01-10T07:40:00.441Z"
   },
   {
    "duration": 112,
    "start_time": "2023-01-10T07:40:00.526Z"
   },
   {
    "duration": 49,
    "start_time": "2023-01-10T07:40:00.640Z"
   },
   {
    "duration": 49,
    "start_time": "2023-01-10T07:40:00.691Z"
   },
   {
    "duration": 65,
    "start_time": "2023-01-10T07:40:00.742Z"
   },
   {
    "duration": 31,
    "start_time": "2023-01-10T07:40:00.809Z"
   },
   {
    "duration": 58,
    "start_time": "2023-01-10T07:40:00.842Z"
   },
   {
    "duration": 54,
    "start_time": "2023-01-10T07:40:00.902Z"
   },
   {
    "duration": 43,
    "start_time": "2023-01-10T07:40:00.957Z"
   },
   {
    "duration": 31,
    "start_time": "2023-01-10T07:40:01.002Z"
   },
   {
    "duration": 43,
    "start_time": "2023-01-10T07:40:01.034Z"
   },
   {
    "duration": 29,
    "start_time": "2023-01-10T07:40:01.079Z"
   },
   {
    "duration": 49,
    "start_time": "2023-01-10T07:40:01.110Z"
   },
   {
    "duration": 29,
    "start_time": "2023-01-10T07:40:01.161Z"
   },
   {
    "duration": 17,
    "start_time": "2023-01-10T07:40:01.192Z"
   },
   {
    "duration": 44,
    "start_time": "2023-01-10T07:40:01.211Z"
   },
   {
    "duration": 20,
    "start_time": "2023-01-10T07:40:01.257Z"
   },
   {
    "duration": 61,
    "start_time": "2023-01-10T07:40:01.279Z"
   },
   {
    "duration": 309,
    "start_time": "2023-01-10T07:40:01.342Z"
   },
   {
    "duration": 262,
    "start_time": "2023-01-10T07:40:01.655Z"
   },
   {
    "duration": 257,
    "start_time": "2023-01-10T07:40:01.919Z"
   },
   {
    "duration": 381,
    "start_time": "2023-01-10T07:40:02.178Z"
   },
   {
    "duration": 210,
    "start_time": "2023-01-10T07:40:02.561Z"
   },
   {
    "duration": 200,
    "start_time": "2023-01-10T07:40:02.774Z"
   },
   {
    "duration": 203,
    "start_time": "2023-01-10T07:40:02.976Z"
   },
   {
    "duration": 260,
    "start_time": "2023-01-10T07:40:03.181Z"
   },
   {
    "duration": 354,
    "start_time": "2023-01-10T07:40:03.443Z"
   },
   {
    "duration": 286,
    "start_time": "2023-01-10T07:40:03.799Z"
   },
   {
    "duration": 400,
    "start_time": "2023-01-10T07:40:04.087Z"
   },
   {
    "duration": 188,
    "start_time": "2023-01-10T07:40:04.489Z"
   },
   {
    "duration": 190,
    "start_time": "2023-01-10T07:40:04.679Z"
   },
   {
    "duration": 332,
    "start_time": "2023-01-10T07:40:04.871Z"
   },
   {
    "duration": 70,
    "start_time": "2023-01-10T07:40:05.206Z"
   },
   {
    "duration": 0,
    "start_time": "2023-01-10T07:40:05.278Z"
   },
   {
    "duration": 728,
    "start_time": "2023-01-10T07:40:40.241Z"
   },
   {
    "duration": 30,
    "start_time": "2023-01-10T07:40:40.971Z"
   },
   {
    "duration": 15,
    "start_time": "2023-01-10T07:40:41.003Z"
   },
   {
    "duration": 26,
    "start_time": "2023-01-10T07:40:41.020Z"
   },
   {
    "duration": 9,
    "start_time": "2023-01-10T07:40:41.048Z"
   },
   {
    "duration": 1936,
    "start_time": "2023-01-10T07:40:41.058Z"
   },
   {
    "duration": 14,
    "start_time": "2023-01-10T07:40:42.996Z"
   },
   {
    "duration": 5,
    "start_time": "2023-01-10T07:40:43.012Z"
   },
   {
    "duration": 12,
    "start_time": "2023-01-10T07:40:43.019Z"
   },
   {
    "duration": 4,
    "start_time": "2023-01-10T07:40:43.033Z"
   },
   {
    "duration": 7,
    "start_time": "2023-01-10T07:40:43.038Z"
   },
   {
    "duration": 11,
    "start_time": "2023-01-10T07:40:43.046Z"
   },
   {
    "duration": 7,
    "start_time": "2023-01-10T07:40:43.058Z"
   },
   {
    "duration": 33,
    "start_time": "2023-01-10T07:40:43.068Z"
   },
   {
    "duration": 28,
    "start_time": "2023-01-10T07:40:43.102Z"
   },
   {
    "duration": 10,
    "start_time": "2023-01-10T07:40:43.131Z"
   },
   {
    "duration": 12,
    "start_time": "2023-01-10T07:40:43.143Z"
   },
   {
    "duration": 3,
    "start_time": "2023-01-10T07:40:43.157Z"
   },
   {
    "duration": 12,
    "start_time": "2023-01-10T07:40:43.161Z"
   },
   {
    "duration": 8,
    "start_time": "2023-01-10T07:40:43.175Z"
   },
   {
    "duration": 11,
    "start_time": "2023-01-10T07:40:43.184Z"
   },
   {
    "duration": 29,
    "start_time": "2023-01-10T07:40:43.196Z"
   },
   {
    "duration": 6,
    "start_time": "2023-01-10T07:40:43.228Z"
   },
   {
    "duration": 10,
    "start_time": "2023-01-10T07:40:43.235Z"
   },
   {
    "duration": 6,
    "start_time": "2023-01-10T07:40:43.246Z"
   },
   {
    "duration": 25,
    "start_time": "2023-01-10T07:40:43.253Z"
   },
   {
    "duration": 234,
    "start_time": "2023-01-10T07:40:43.279Z"
   },
   {
    "duration": 244,
    "start_time": "2023-01-10T07:40:43.514Z"
   },
   {
    "duration": 246,
    "start_time": "2023-01-10T07:40:43.760Z"
   },
   {
    "duration": 371,
    "start_time": "2023-01-10T07:40:44.008Z"
   },
   {
    "duration": 194,
    "start_time": "2023-01-10T07:40:44.380Z"
   },
   {
    "duration": 216,
    "start_time": "2023-01-10T07:40:44.576Z"
   },
   {
    "duration": 222,
    "start_time": "2023-01-10T07:40:44.798Z"
   },
   {
    "duration": 221,
    "start_time": "2023-01-10T07:40:45.022Z"
   },
   {
    "duration": 269,
    "start_time": "2023-01-10T07:40:45.245Z"
   },
   {
    "duration": 265,
    "start_time": "2023-01-10T07:40:45.516Z"
   },
   {
    "duration": 336,
    "start_time": "2023-01-10T07:40:45.783Z"
   },
   {
    "duration": 143,
    "start_time": "2023-01-10T07:40:46.121Z"
   },
   {
    "duration": 121,
    "start_time": "2023-01-10T07:40:46.265Z"
   },
   {
    "duration": 263,
    "start_time": "2023-01-10T07:40:46.387Z"
   },
   {
    "duration": 2,
    "start_time": "2023-01-10T07:40:46.654Z"
   },
   {
    "duration": 390,
    "start_time": "2023-01-10T07:40:46.657Z"
   },
   {
    "duration": 576,
    "start_time": "2023-01-10T07:42:06.679Z"
   },
   {
    "duration": 819,
    "start_time": "2023-01-10T07:42:16.168Z"
   },
   {
    "duration": 42,
    "start_time": "2023-01-10T07:42:16.989Z"
   },
   {
    "duration": 15,
    "start_time": "2023-01-10T07:42:17.033Z"
   },
   {
    "duration": 24,
    "start_time": "2023-01-10T07:42:17.050Z"
   },
   {
    "duration": 16,
    "start_time": "2023-01-10T07:42:17.097Z"
   },
   {
    "duration": 2012,
    "start_time": "2023-01-10T07:42:17.115Z"
   },
   {
    "duration": 12,
    "start_time": "2023-01-10T07:42:19.130Z"
   },
   {
    "duration": 15,
    "start_time": "2023-01-10T07:42:19.144Z"
   },
   {
    "duration": 16,
    "start_time": "2023-01-10T07:42:19.161Z"
   },
   {
    "duration": 5,
    "start_time": "2023-01-10T07:42:19.179Z"
   },
   {
    "duration": 9,
    "start_time": "2023-01-10T07:42:19.185Z"
   },
   {
    "duration": 13,
    "start_time": "2023-01-10T07:42:19.195Z"
   },
   {
    "duration": 17,
    "start_time": "2023-01-10T07:42:19.210Z"
   },
   {
    "duration": 5,
    "start_time": "2023-01-10T07:42:19.230Z"
   },
   {
    "duration": 9,
    "start_time": "2023-01-10T07:42:19.237Z"
   },
   {
    "duration": 8,
    "start_time": "2023-01-10T07:42:19.248Z"
   },
   {
    "duration": 11,
    "start_time": "2023-01-10T07:42:19.258Z"
   },
   {
    "duration": 9,
    "start_time": "2023-01-10T07:42:19.271Z"
   },
   {
    "duration": 16,
    "start_time": "2023-01-10T07:42:19.281Z"
   },
   {
    "duration": 7,
    "start_time": "2023-01-10T07:42:19.299Z"
   },
   {
    "duration": 14,
    "start_time": "2023-01-10T07:42:19.308Z"
   },
   {
    "duration": 8,
    "start_time": "2023-01-10T07:42:19.325Z"
   },
   {
    "duration": 6,
    "start_time": "2023-01-10T07:42:19.335Z"
   },
   {
    "duration": 8,
    "start_time": "2023-01-10T07:42:19.342Z"
   },
   {
    "duration": 6,
    "start_time": "2023-01-10T07:42:19.351Z"
   },
   {
    "duration": 74,
    "start_time": "2023-01-10T07:42:19.359Z"
   },
   {
    "duration": 244,
    "start_time": "2023-01-10T07:42:19.435Z"
   },
   {
    "duration": 268,
    "start_time": "2023-01-10T07:42:19.681Z"
   },
   {
    "duration": 298,
    "start_time": "2023-01-10T07:42:19.951Z"
   },
   {
    "duration": 378,
    "start_time": "2023-01-10T07:42:20.250Z"
   },
   {
    "duration": 168,
    "start_time": "2023-01-10T07:42:20.630Z"
   },
   {
    "duration": 164,
    "start_time": "2023-01-10T07:42:20.800Z"
   },
   {
    "duration": 197,
    "start_time": "2023-01-10T07:42:20.966Z"
   },
   {
    "duration": 225,
    "start_time": "2023-01-10T07:42:21.164Z"
   },
   {
    "duration": 297,
    "start_time": "2023-01-10T07:42:21.397Z"
   },
   {
    "duration": 282,
    "start_time": "2023-01-10T07:42:21.697Z"
   },
   {
    "duration": 404,
    "start_time": "2023-01-10T07:42:21.981Z"
   },
   {
    "duration": 164,
    "start_time": "2023-01-10T07:42:22.387Z"
   },
   {
    "duration": 148,
    "start_time": "2023-01-10T07:42:22.553Z"
   },
   {
    "duration": 275,
    "start_time": "2023-01-10T07:42:22.704Z"
   },
   {
    "duration": 2,
    "start_time": "2023-01-10T07:42:22.981Z"
   },
   {
    "duration": 599,
    "start_time": "2023-01-10T07:42:22.985Z"
   },
   {
    "duration": 770,
    "start_time": "2023-01-10T07:43:04.303Z"
   },
   {
    "duration": 616,
    "start_time": "2023-01-10T07:44:14.207Z"
   },
   {
    "duration": 633,
    "start_time": "2023-01-10T07:44:59.711Z"
   },
   {
    "duration": 487,
    "start_time": "2023-01-10T07:47:32.152Z"
   },
   {
    "duration": 771,
    "start_time": "2023-01-10T07:47:47.206Z"
   },
   {
    "duration": 575,
    "start_time": "2023-01-10T07:57:25.672Z"
   },
   {
    "duration": 610,
    "start_time": "2023-01-10T07:57:59.706Z"
   },
   {
    "duration": 11,
    "start_time": "2023-01-10T07:58:37.857Z"
   },
   {
    "duration": 10,
    "start_time": "2023-01-10T07:59:16.764Z"
   },
   {
    "duration": 264,
    "start_time": "2023-01-10T08:00:57.010Z"
   },
   {
    "duration": 704,
    "start_time": "2023-01-10T08:08:34.054Z"
   },
   {
    "duration": 43,
    "start_time": "2023-01-10T08:08:34.761Z"
   },
   {
    "duration": 27,
    "start_time": "2023-01-10T08:08:34.806Z"
   },
   {
    "duration": 28,
    "start_time": "2023-01-10T08:08:34.835Z"
   },
   {
    "duration": 10,
    "start_time": "2023-01-10T08:08:34.865Z"
   },
   {
    "duration": 1797,
    "start_time": "2023-01-10T08:08:34.877Z"
   },
   {
    "duration": 11,
    "start_time": "2023-01-10T08:08:36.675Z"
   },
   {
    "duration": 4,
    "start_time": "2023-01-10T08:08:36.687Z"
   },
   {
    "duration": 10,
    "start_time": "2023-01-10T08:08:36.692Z"
   },
   {
    "duration": 4,
    "start_time": "2023-01-10T08:08:36.705Z"
   },
   {
    "duration": 5,
    "start_time": "2023-01-10T08:08:36.711Z"
   },
   {
    "duration": 5,
    "start_time": "2023-01-10T08:08:36.717Z"
   },
   {
    "duration": 11,
    "start_time": "2023-01-10T08:08:36.723Z"
   },
   {
    "duration": 6,
    "start_time": "2023-01-10T08:08:36.735Z"
   },
   {
    "duration": 10,
    "start_time": "2023-01-10T08:08:36.742Z"
   },
   {
    "duration": 5,
    "start_time": "2023-01-10T08:08:36.754Z"
   },
   {
    "duration": 11,
    "start_time": "2023-01-10T08:08:36.760Z"
   },
   {
    "duration": 7,
    "start_time": "2023-01-10T08:08:36.772Z"
   },
   {
    "duration": 20,
    "start_time": "2023-01-10T08:08:36.780Z"
   },
   {
    "duration": 5,
    "start_time": "2023-01-10T08:08:36.801Z"
   },
   {
    "duration": 17,
    "start_time": "2023-01-10T08:08:36.807Z"
   },
   {
    "duration": 8,
    "start_time": "2023-01-10T08:08:36.825Z"
   },
   {
    "duration": 6,
    "start_time": "2023-01-10T08:08:36.834Z"
   },
   {
    "duration": 9,
    "start_time": "2023-01-10T08:08:36.841Z"
   },
   {
    "duration": 7,
    "start_time": "2023-01-10T08:08:36.851Z"
   },
   {
    "duration": 21,
    "start_time": "2023-01-10T08:08:36.859Z"
   },
   {
    "duration": 211,
    "start_time": "2023-01-10T08:08:36.882Z"
   },
   {
    "duration": 221,
    "start_time": "2023-01-10T08:08:37.099Z"
   },
   {
    "duration": 229,
    "start_time": "2023-01-10T08:08:37.322Z"
   },
   {
    "duration": 302,
    "start_time": "2023-01-10T08:08:37.553Z"
   },
   {
    "duration": 155,
    "start_time": "2023-01-10T08:08:37.857Z"
   },
   {
    "duration": 150,
    "start_time": "2023-01-10T08:08:38.014Z"
   },
   {
    "duration": 154,
    "start_time": "2023-01-10T08:08:38.165Z"
   },
   {
    "duration": 189,
    "start_time": "2023-01-10T08:08:38.320Z"
   },
   {
    "duration": 230,
    "start_time": "2023-01-10T08:08:38.511Z"
   },
   {
    "duration": 215,
    "start_time": "2023-01-10T08:08:38.743Z"
   },
   {
    "duration": 305,
    "start_time": "2023-01-10T08:08:38.960Z"
   },
   {
    "duration": 132,
    "start_time": "2023-01-10T08:08:39.267Z"
   },
   {
    "duration": 127,
    "start_time": "2023-01-10T08:08:39.400Z"
   },
   {
    "duration": 227,
    "start_time": "2023-01-10T08:08:39.528Z"
   },
   {
    "duration": 2,
    "start_time": "2023-01-10T08:08:39.757Z"
   },
   {
    "duration": 606,
    "start_time": "2023-01-10T08:08:39.760Z"
   },
   {
    "duration": 366,
    "start_time": "2023-01-10T08:08:40.367Z"
   },
   {
    "duration": 709,
    "start_time": "2023-01-10T08:10:08.763Z"
   },
   {
    "duration": 31,
    "start_time": "2023-01-10T08:10:09.474Z"
   },
   {
    "duration": 13,
    "start_time": "2023-01-10T08:10:09.507Z"
   },
   {
    "duration": 21,
    "start_time": "2023-01-10T08:10:09.522Z"
   },
   {
    "duration": 8,
    "start_time": "2023-01-10T08:10:09.544Z"
   },
   {
    "duration": 1909,
    "start_time": "2023-01-10T08:10:09.553Z"
   },
   {
    "duration": 11,
    "start_time": "2023-01-10T08:10:11.464Z"
   },
   {
    "duration": 5,
    "start_time": "2023-01-10T08:10:11.476Z"
   },
   {
    "duration": 11,
    "start_time": "2023-01-10T08:10:11.482Z"
   },
   {
    "duration": 4,
    "start_time": "2023-01-10T08:10:11.496Z"
   },
   {
    "duration": 7,
    "start_time": "2023-01-10T08:10:11.501Z"
   },
   {
    "duration": 9,
    "start_time": "2023-01-10T08:10:11.509Z"
   },
   {
    "duration": 15,
    "start_time": "2023-01-10T08:10:11.519Z"
   },
   {
    "duration": 12,
    "start_time": "2023-01-10T08:10:11.535Z"
   },
   {
    "duration": 11,
    "start_time": "2023-01-10T08:10:11.548Z"
   },
   {
    "duration": 9,
    "start_time": "2023-01-10T08:10:11.561Z"
   },
   {
    "duration": 12,
    "start_time": "2023-01-10T08:10:11.571Z"
   },
   {
    "duration": 6,
    "start_time": "2023-01-10T08:10:11.585Z"
   },
   {
    "duration": 10,
    "start_time": "2023-01-10T08:10:11.592Z"
   },
   {
    "duration": 5,
    "start_time": "2023-01-10T08:10:11.603Z"
   },
   {
    "duration": 9,
    "start_time": "2023-01-10T08:10:11.609Z"
   },
   {
    "duration": 8,
    "start_time": "2023-01-10T08:10:11.619Z"
   },
   {
    "duration": 8,
    "start_time": "2023-01-10T08:10:11.628Z"
   },
   {
    "duration": 7,
    "start_time": "2023-01-10T08:10:11.638Z"
   },
   {
    "duration": 8,
    "start_time": "2023-01-10T08:10:11.646Z"
   },
   {
    "duration": 24,
    "start_time": "2023-01-10T08:10:11.656Z"
   },
   {
    "duration": 222,
    "start_time": "2023-01-10T08:10:11.682Z"
   },
   {
    "duration": 232,
    "start_time": "2023-01-10T08:10:11.908Z"
   },
   {
    "duration": 235,
    "start_time": "2023-01-10T08:10:12.142Z"
   },
   {
    "duration": 315,
    "start_time": "2023-01-10T08:10:12.378Z"
   },
   {
    "duration": 156,
    "start_time": "2023-01-10T08:10:12.697Z"
   },
   {
    "duration": 160,
    "start_time": "2023-01-10T08:10:12.855Z"
   },
   {
    "duration": 159,
    "start_time": "2023-01-10T08:10:13.017Z"
   },
   {
    "duration": 179,
    "start_time": "2023-01-10T08:10:13.178Z"
   },
   {
    "duration": 218,
    "start_time": "2023-01-10T08:10:13.358Z"
   },
   {
    "duration": 249,
    "start_time": "2023-01-10T08:10:13.578Z"
   },
   {
    "duration": 362,
    "start_time": "2023-01-10T08:10:13.829Z"
   },
   {
    "duration": 168,
    "start_time": "2023-01-10T08:10:14.192Z"
   },
   {
    "duration": 131,
    "start_time": "2023-01-10T08:10:14.362Z"
   },
   {
    "duration": 303,
    "start_time": "2023-01-10T08:10:14.495Z"
   },
   {
    "duration": 3,
    "start_time": "2023-01-10T08:10:14.799Z"
   },
   {
    "duration": 703,
    "start_time": "2023-01-10T08:10:14.803Z"
   },
   {
    "duration": 432,
    "start_time": "2023-01-10T08:10:15.508Z"
   },
   {
    "duration": 95,
    "start_time": "2023-01-10T08:10:15.942Z"
   },
   {
    "duration": 434,
    "start_time": "2023-01-10T08:11:06.033Z"
   },
   {
    "duration": 16,
    "start_time": "2023-01-10T08:20:35.020Z"
   },
   {
    "duration": 24,
    "start_time": "2023-01-10T08:21:14.211Z"
   },
   {
    "duration": 21,
    "start_time": "2023-01-10T08:24:16.665Z"
   },
   {
    "duration": 757,
    "start_time": "2023-01-10T08:26:46.304Z"
   },
   {
    "duration": 23,
    "start_time": "2023-01-10T08:26:47.063Z"
   },
   {
    "duration": 14,
    "start_time": "2023-01-10T08:26:47.097Z"
   },
   {
    "duration": 23,
    "start_time": "2023-01-10T08:26:47.113Z"
   },
   {
    "duration": 8,
    "start_time": "2023-01-10T08:26:47.138Z"
   },
   {
    "duration": 1998,
    "start_time": "2023-01-10T08:26:47.148Z"
   },
   {
    "duration": 13,
    "start_time": "2023-01-10T08:26:49.148Z"
   },
   {
    "duration": 22,
    "start_time": "2023-01-10T08:26:49.163Z"
   },
   {
    "duration": 22,
    "start_time": "2023-01-10T08:26:49.187Z"
   },
   {
    "duration": 11,
    "start_time": "2023-01-10T08:26:49.211Z"
   },
   {
    "duration": 11,
    "start_time": "2023-01-10T08:26:49.224Z"
   },
   {
    "duration": 21,
    "start_time": "2023-01-10T08:26:49.237Z"
   },
   {
    "duration": 16,
    "start_time": "2023-01-10T08:26:49.260Z"
   },
   {
    "duration": 6,
    "start_time": "2023-01-10T08:26:49.279Z"
   },
   {
    "duration": 9,
    "start_time": "2023-01-10T08:26:49.286Z"
   },
   {
    "duration": 18,
    "start_time": "2023-01-10T08:26:49.296Z"
   },
   {
    "duration": 18,
    "start_time": "2023-01-10T08:26:49.316Z"
   },
   {
    "duration": 16,
    "start_time": "2023-01-10T08:26:49.336Z"
   },
   {
    "duration": 9,
    "start_time": "2023-01-10T08:26:49.354Z"
   },
   {
    "duration": 5,
    "start_time": "2023-01-10T08:26:49.364Z"
   },
   {
    "duration": 16,
    "start_time": "2023-01-10T08:26:49.370Z"
   },
   {
    "duration": 6,
    "start_time": "2023-01-10T08:26:49.388Z"
   },
   {
    "duration": 7,
    "start_time": "2023-01-10T08:26:49.395Z"
   },
   {
    "duration": 27,
    "start_time": "2023-01-10T08:26:49.404Z"
   },
   {
    "duration": 9,
    "start_time": "2023-01-10T08:26:49.433Z"
   },
   {
    "duration": 34,
    "start_time": "2023-01-10T08:26:49.444Z"
   },
   {
    "duration": 233,
    "start_time": "2023-01-10T08:26:49.490Z"
   },
   {
    "duration": 254,
    "start_time": "2023-01-10T08:26:49.724Z"
   },
   {
    "duration": 263,
    "start_time": "2023-01-10T08:26:49.980Z"
   },
   {
    "duration": 346,
    "start_time": "2023-01-10T08:26:50.245Z"
   },
   {
    "duration": 173,
    "start_time": "2023-01-10T08:26:50.597Z"
   },
   {
    "duration": 151,
    "start_time": "2023-01-10T08:26:50.771Z"
   },
   {
    "duration": 165,
    "start_time": "2023-01-10T08:26:50.924Z"
   },
   {
    "duration": 190,
    "start_time": "2023-01-10T08:26:51.091Z"
   },
   {
    "duration": 233,
    "start_time": "2023-01-10T08:26:51.282Z"
   },
   {
    "duration": 245,
    "start_time": "2023-01-10T08:26:51.516Z"
   },
   {
    "duration": 384,
    "start_time": "2023-01-10T08:26:51.763Z"
   },
   {
    "duration": 177,
    "start_time": "2023-01-10T08:26:52.150Z"
   },
   {
    "duration": 146,
    "start_time": "2023-01-10T08:26:52.329Z"
   },
   {
    "duration": 260,
    "start_time": "2023-01-10T08:26:52.477Z"
   },
   {
    "duration": 3,
    "start_time": "2023-01-10T08:26:52.740Z"
   },
   {
    "duration": 626,
    "start_time": "2023-01-10T08:26:52.744Z"
   },
   {
    "duration": 425,
    "start_time": "2023-01-10T08:26:53.372Z"
   },
   {
    "duration": 434,
    "start_time": "2023-01-10T08:26:53.799Z"
   },
   {
    "duration": 19,
    "start_time": "2023-01-10T08:26:54.235Z"
   },
   {
    "duration": 807,
    "start_time": "2023-01-10T08:34:21.675Z"
   },
   {
    "duration": 825,
    "start_time": "2023-01-10T08:34:42.343Z"
   },
   {
    "duration": 144,
    "start_time": "2023-01-10T08:37:10.674Z"
   },
   {
    "duration": 498,
    "start_time": "2023-01-10T11:24:23.778Z"
   },
   {
    "duration": 198,
    "start_time": "2023-01-10T11:24:49.573Z"
   },
   {
    "duration": 910,
    "start_time": "2023-01-10T11:25:05.362Z"
   },
   {
    "duration": 14,
    "start_time": "2023-01-10T11:26:06.672Z"
   },
   {
    "duration": 394,
    "start_time": "2023-01-10T11:26:49.634Z"
   },
   {
    "duration": 302,
    "start_time": "2023-01-10T11:26:55.529Z"
   },
   {
    "duration": 834,
    "start_time": "2023-01-10T11:31:17.826Z"
   },
   {
    "duration": 23,
    "start_time": "2023-01-10T11:31:18.662Z"
   },
   {
    "duration": 28,
    "start_time": "2023-01-10T11:31:18.687Z"
   },
   {
    "duration": 39,
    "start_time": "2023-01-10T11:31:18.717Z"
   },
   {
    "duration": 14,
    "start_time": "2023-01-10T11:31:18.758Z"
   },
   {
    "duration": 2292,
    "start_time": "2023-01-10T11:31:18.774Z"
   },
   {
    "duration": 14,
    "start_time": "2023-01-10T11:31:21.068Z"
   },
   {
    "duration": 6,
    "start_time": "2023-01-10T11:31:21.084Z"
   },
   {
    "duration": 43,
    "start_time": "2023-01-10T11:31:21.091Z"
   },
   {
    "duration": 10,
    "start_time": "2023-01-10T11:31:21.137Z"
   },
   {
    "duration": 6,
    "start_time": "2023-01-10T11:31:21.148Z"
   },
   {
    "duration": 7,
    "start_time": "2023-01-10T11:31:21.156Z"
   },
   {
    "duration": 10,
    "start_time": "2023-01-10T11:31:21.165Z"
   },
   {
    "duration": 6,
    "start_time": "2023-01-10T11:31:21.178Z"
   },
   {
    "duration": 10,
    "start_time": "2023-01-10T11:31:21.185Z"
   },
   {
    "duration": 58,
    "start_time": "2023-01-10T11:31:21.196Z"
   },
   {
    "duration": 12,
    "start_time": "2023-01-10T11:31:21.256Z"
   },
   {
    "duration": 4,
    "start_time": "2023-01-10T11:31:21.269Z"
   },
   {
    "duration": 8,
    "start_time": "2023-01-10T11:31:21.274Z"
   },
   {
    "duration": 4,
    "start_time": "2023-01-10T11:31:21.284Z"
   },
   {
    "duration": 44,
    "start_time": "2023-01-10T11:31:21.289Z"
   },
   {
    "duration": 7,
    "start_time": "2023-01-10T11:31:21.335Z"
   },
   {
    "duration": 9,
    "start_time": "2023-01-10T11:31:21.344Z"
   },
   {
    "duration": 8,
    "start_time": "2023-01-10T11:31:21.355Z"
   },
   {
    "duration": 7,
    "start_time": "2023-01-10T11:31:21.364Z"
   },
   {
    "duration": 25,
    "start_time": "2023-01-10T11:31:21.372Z"
   },
   {
    "duration": 320,
    "start_time": "2023-01-10T11:31:21.401Z"
   },
   {
    "duration": 284,
    "start_time": "2023-01-10T11:31:21.722Z"
   },
   {
    "duration": 278,
    "start_time": "2023-01-10T11:31:22.008Z"
   },
   {
    "duration": 437,
    "start_time": "2023-01-10T11:31:22.288Z"
   },
   {
    "duration": 245,
    "start_time": "2023-01-10T11:31:22.727Z"
   },
   {
    "duration": 196,
    "start_time": "2023-01-10T11:31:22.973Z"
   },
   {
    "duration": 192,
    "start_time": "2023-01-10T11:31:23.171Z"
   },
   {
    "duration": 222,
    "start_time": "2023-01-10T11:31:23.365Z"
   },
   {
    "duration": 299,
    "start_time": "2023-01-10T11:31:23.589Z"
   },
   {
    "duration": 304,
    "start_time": "2023-01-10T11:31:23.890Z"
   },
   {
    "duration": 393,
    "start_time": "2023-01-10T11:31:24.196Z"
   },
   {
    "duration": 225,
    "start_time": "2023-01-10T11:31:24.591Z"
   },
   {
    "duration": 212,
    "start_time": "2023-01-10T11:31:24.818Z"
   },
   {
    "duration": 314,
    "start_time": "2023-01-10T11:31:25.034Z"
   },
   {
    "duration": 623,
    "start_time": "2023-01-10T11:31:25.351Z"
   },
   {
    "duration": 221,
    "start_time": "2023-01-10T11:31:25.976Z"
   },
   {
    "duration": 341,
    "start_time": "2023-01-10T11:31:26.199Z"
   },
   {
    "duration": 648,
    "start_time": "2023-01-10T11:31:26.542Z"
   },
   {
    "duration": 47,
    "start_time": "2023-01-10T11:31:27.192Z"
   },
   {
    "duration": 173,
    "start_time": "2023-01-10T11:31:27.241Z"
   },
   {
    "duration": 42,
    "start_time": "2023-01-10T11:37:45.290Z"
   },
   {
    "duration": 31,
    "start_time": "2023-01-10T11:37:56.132Z"
   },
   {
    "duration": 512,
    "start_time": "2023-01-10T12:09:37.553Z"
   },
   {
    "duration": 5,
    "start_time": "2023-01-10T12:16:49.964Z"
   },
   {
    "duration": 675,
    "start_time": "2023-01-10T12:24:03.456Z"
   },
   {
    "duration": 22,
    "start_time": "2023-01-10T12:24:04.133Z"
   },
   {
    "duration": 27,
    "start_time": "2023-01-10T12:24:04.156Z"
   },
   {
    "duration": 25,
    "start_time": "2023-01-10T12:24:04.185Z"
   },
   {
    "duration": 9,
    "start_time": "2023-01-10T12:24:04.211Z"
   },
   {
    "duration": 1868,
    "start_time": "2023-01-10T12:24:04.222Z"
   },
   {
    "duration": 10,
    "start_time": "2023-01-10T12:24:06.092Z"
   },
   {
    "duration": 4,
    "start_time": "2023-01-10T12:24:06.104Z"
   },
   {
    "duration": 9,
    "start_time": "2023-01-10T12:24:06.109Z"
   },
   {
    "duration": 4,
    "start_time": "2023-01-10T12:24:06.120Z"
   },
   {
    "duration": 5,
    "start_time": "2023-01-10T12:24:06.125Z"
   },
   {
    "duration": 9,
    "start_time": "2023-01-10T12:24:06.132Z"
   },
   {
    "duration": 7,
    "start_time": "2023-01-10T12:24:06.143Z"
   },
   {
    "duration": 6,
    "start_time": "2023-01-10T12:24:06.151Z"
   },
   {
    "duration": 9,
    "start_time": "2023-01-10T12:24:06.158Z"
   },
   {
    "duration": 18,
    "start_time": "2023-01-10T12:24:06.168Z"
   },
   {
    "duration": 13,
    "start_time": "2023-01-10T12:24:06.187Z"
   },
   {
    "duration": 3,
    "start_time": "2023-01-10T12:24:06.202Z"
   },
   {
    "duration": 11,
    "start_time": "2023-01-10T12:24:06.207Z"
   },
   {
    "duration": 4,
    "start_time": "2023-01-10T12:24:06.219Z"
   },
   {
    "duration": 11,
    "start_time": "2023-01-10T12:24:06.224Z"
   },
   {
    "duration": 5,
    "start_time": "2023-01-10T12:24:06.236Z"
   },
   {
    "duration": 5,
    "start_time": "2023-01-10T12:24:06.243Z"
   },
   {
    "duration": 8,
    "start_time": "2023-01-10T12:24:06.249Z"
   },
   {
    "duration": 7,
    "start_time": "2023-01-10T12:24:06.258Z"
   },
   {
    "duration": 44,
    "start_time": "2023-01-10T12:24:06.266Z"
   },
   {
    "duration": 210,
    "start_time": "2023-01-10T12:24:06.312Z"
   },
   {
    "duration": 213,
    "start_time": "2023-01-10T12:24:06.525Z"
   },
   {
    "duration": 216,
    "start_time": "2023-01-10T12:24:06.739Z"
   },
   {
    "duration": 300,
    "start_time": "2023-01-10T12:24:06.956Z"
   },
   {
    "duration": 155,
    "start_time": "2023-01-10T12:24:07.257Z"
   },
   {
    "duration": 151,
    "start_time": "2023-01-10T12:24:07.413Z"
   },
   {
    "duration": 147,
    "start_time": "2023-01-10T12:24:07.566Z"
   },
   {
    "duration": 170,
    "start_time": "2023-01-10T12:24:07.714Z"
   },
   {
    "duration": 233,
    "start_time": "2023-01-10T12:24:07.886Z"
   },
   {
    "duration": 208,
    "start_time": "2023-01-10T12:24:08.120Z"
   },
   {
    "duration": 304,
    "start_time": "2023-01-10T12:24:08.329Z"
   },
   {
    "duration": 127,
    "start_time": "2023-01-10T12:24:08.634Z"
   },
   {
    "duration": 121,
    "start_time": "2023-01-10T12:24:08.763Z"
   },
   {
    "duration": 232,
    "start_time": "2023-01-10T12:24:08.886Z"
   },
   {
    "duration": 492,
    "start_time": "2023-01-10T12:24:09.120Z"
   },
   {
    "duration": 179,
    "start_time": "2023-01-10T12:24:09.613Z"
   },
   {
    "duration": 284,
    "start_time": "2023-01-10T12:24:09.796Z"
   },
   {
    "duration": 490,
    "start_time": "2023-01-10T12:24:10.082Z"
   },
   {
    "duration": 30,
    "start_time": "2023-01-10T12:24:10.574Z"
   },
   {
    "duration": 159,
    "start_time": "2023-01-10T12:24:10.605Z"
   },
   {
    "duration": 109,
    "start_time": "2023-01-11T07:13:31.236Z"
   },
   {
    "duration": 49,
    "start_time": "2023-01-11T07:13:51.011Z"
   },
   {
    "duration": 5,
    "start_time": "2023-01-11T07:17:05.180Z"
   },
   {
    "duration": 1478,
    "start_time": "2023-01-11T07:17:45.960Z"
   },
   {
    "duration": 25,
    "start_time": "2023-01-11T07:17:47.440Z"
   },
   {
    "duration": 15,
    "start_time": "2023-01-11T07:17:47.466Z"
   },
   {
    "duration": 32,
    "start_time": "2023-01-11T07:17:47.483Z"
   },
   {
    "duration": 11,
    "start_time": "2023-01-11T07:17:47.516Z"
   },
   {
    "duration": 1861,
    "start_time": "2023-01-11T07:17:47.529Z"
   },
   {
    "duration": 12,
    "start_time": "2023-01-11T07:17:49.392Z"
   },
   {
    "duration": 7,
    "start_time": "2023-01-11T07:17:49.406Z"
   },
   {
    "duration": 13,
    "start_time": "2023-01-11T07:17:49.415Z"
   },
   {
    "duration": 4,
    "start_time": "2023-01-11T07:17:49.431Z"
   },
   {
    "duration": 5,
    "start_time": "2023-01-11T07:17:49.437Z"
   },
   {
    "duration": 5,
    "start_time": "2023-01-11T07:17:49.444Z"
   },
   {
    "duration": 7,
    "start_time": "2023-01-11T07:17:49.450Z"
   },
   {
    "duration": 7,
    "start_time": "2023-01-11T07:17:49.458Z"
   },
   {
    "duration": 32,
    "start_time": "2023-01-11T07:17:49.466Z"
   },
   {
    "duration": 8,
    "start_time": "2023-01-11T07:17:49.500Z"
   },
   {
    "duration": 14,
    "start_time": "2023-01-11T07:17:49.510Z"
   },
   {
    "duration": 14,
    "start_time": "2023-01-11T07:17:49.525Z"
   },
   {
    "duration": 7,
    "start_time": "2023-01-11T07:17:49.541Z"
   },
   {
    "duration": 5,
    "start_time": "2023-01-11T07:17:49.550Z"
   },
   {
    "duration": 8,
    "start_time": "2023-01-11T07:17:49.556Z"
   },
   {
    "duration": 7,
    "start_time": "2023-01-11T07:17:49.566Z"
   },
   {
    "duration": 11,
    "start_time": "2023-01-11T07:17:49.574Z"
   },
   {
    "duration": 14,
    "start_time": "2023-01-11T07:17:49.587Z"
   },
   {
    "duration": 11,
    "start_time": "2023-01-11T07:17:49.602Z"
   },
   {
    "duration": 35,
    "start_time": "2023-01-11T07:17:49.614Z"
   },
   {
    "duration": 244,
    "start_time": "2023-01-11T07:17:49.651Z"
   },
   {
    "duration": 269,
    "start_time": "2023-01-11T07:17:49.900Z"
   },
   {
    "duration": 229,
    "start_time": "2023-01-11T07:17:50.171Z"
   },
   {
    "duration": 322,
    "start_time": "2023-01-11T07:17:50.401Z"
   },
   {
    "duration": 156,
    "start_time": "2023-01-11T07:17:50.725Z"
   },
   {
    "duration": 152,
    "start_time": "2023-01-11T07:17:50.882Z"
   },
   {
    "duration": 157,
    "start_time": "2023-01-11T07:17:51.035Z"
   },
   {
    "duration": 220,
    "start_time": "2023-01-11T07:17:51.197Z"
   },
   {
    "duration": 264,
    "start_time": "2023-01-11T07:17:51.419Z"
   },
   {
    "duration": 269,
    "start_time": "2023-01-11T07:17:51.685Z"
   },
   {
    "duration": 375,
    "start_time": "2023-01-11T07:17:51.955Z"
   },
   {
    "duration": 156,
    "start_time": "2023-01-11T07:17:52.332Z"
   },
   {
    "duration": 149,
    "start_time": "2023-01-11T07:17:52.490Z"
   },
   {
    "duration": 299,
    "start_time": "2023-01-11T07:17:52.641Z"
   },
   {
    "duration": 558,
    "start_time": "2023-01-11T07:17:52.941Z"
   },
   {
    "duration": 228,
    "start_time": "2023-01-11T07:17:53.502Z"
   },
   {
    "duration": 330,
    "start_time": "2023-01-11T07:17:53.732Z"
   },
   {
    "duration": 524,
    "start_time": "2023-01-11T07:17:54.064Z"
   },
   {
    "duration": 26,
    "start_time": "2023-01-11T07:17:54.590Z"
   },
   {
    "duration": 6,
    "start_time": "2023-01-11T07:17:54.617Z"
   },
   {
    "duration": 221,
    "start_time": "2023-01-11T07:17:54.626Z"
   },
   {
    "duration": 7,
    "start_time": "2023-01-11T07:17:56.711Z"
   },
   {
    "duration": 4,
    "start_time": "2023-01-11T07:18:21.485Z"
   },
   {
    "duration": 156,
    "start_time": "2023-01-11T07:20:29.451Z"
   },
   {
    "duration": 752,
    "start_time": "2023-01-11T07:21:09.955Z"
   },
   {
    "duration": 28,
    "start_time": "2023-01-11T07:21:10.710Z"
   },
   {
    "duration": 13,
    "start_time": "2023-01-11T07:21:10.740Z"
   },
   {
    "duration": 46,
    "start_time": "2023-01-11T07:21:10.755Z"
   },
   {
    "duration": 10,
    "start_time": "2023-01-11T07:21:10.802Z"
   },
   {
    "duration": 1831,
    "start_time": "2023-01-11T07:21:10.815Z"
   },
   {
    "duration": 10,
    "start_time": "2023-01-11T07:21:12.648Z"
   },
   {
    "duration": 58,
    "start_time": "2023-01-11T07:21:12.660Z"
   },
   {
    "duration": 30,
    "start_time": "2023-01-11T07:21:12.720Z"
   },
   {
    "duration": 8,
    "start_time": "2023-01-11T07:21:12.753Z"
   },
   {
    "duration": 40,
    "start_time": "2023-01-11T07:21:12.762Z"
   },
   {
    "duration": 17,
    "start_time": "2023-01-11T07:21:12.804Z"
   },
   {
    "duration": 15,
    "start_time": "2023-01-11T07:21:12.822Z"
   },
   {
    "duration": 19,
    "start_time": "2023-01-11T07:21:12.839Z"
   },
   {
    "duration": 22,
    "start_time": "2023-01-11T07:21:12.859Z"
   },
   {
    "duration": 43,
    "start_time": "2023-01-11T07:21:12.882Z"
   },
   {
    "duration": 19,
    "start_time": "2023-01-11T07:21:12.928Z"
   },
   {
    "duration": 25,
    "start_time": "2023-01-11T07:21:12.948Z"
   },
   {
    "duration": 41,
    "start_time": "2023-01-11T07:21:12.974Z"
   },
   {
    "duration": 40,
    "start_time": "2023-01-11T07:21:13.016Z"
   },
   {
    "duration": 21,
    "start_time": "2023-01-11T07:21:13.057Z"
   },
   {
    "duration": 49,
    "start_time": "2023-01-11T07:21:13.079Z"
   },
   {
    "duration": 28,
    "start_time": "2023-01-11T07:21:13.129Z"
   },
   {
    "duration": 25,
    "start_time": "2023-01-11T07:21:13.159Z"
   },
   {
    "duration": 20,
    "start_time": "2023-01-11T07:21:13.186Z"
   },
   {
    "duration": 47,
    "start_time": "2023-01-11T07:21:13.208Z"
   },
   {
    "duration": 248,
    "start_time": "2023-01-11T07:21:13.257Z"
   },
   {
    "duration": 264,
    "start_time": "2023-01-11T07:21:13.510Z"
   },
   {
    "duration": 256,
    "start_time": "2023-01-11T07:21:13.775Z"
   },
   {
    "duration": 310,
    "start_time": "2023-01-11T07:21:14.033Z"
   },
   {
    "duration": 164,
    "start_time": "2023-01-11T07:21:14.345Z"
   },
   {
    "duration": 177,
    "start_time": "2023-01-11T07:21:14.512Z"
   },
   {
    "duration": 206,
    "start_time": "2023-01-11T07:21:14.697Z"
   },
   {
    "duration": 258,
    "start_time": "2023-01-11T07:21:14.905Z"
   },
   {
    "duration": 228,
    "start_time": "2023-01-11T07:21:15.164Z"
   },
   {
    "duration": 243,
    "start_time": "2023-01-11T07:21:15.397Z"
   },
   {
    "duration": 354,
    "start_time": "2023-01-11T07:21:15.643Z"
   },
   {
    "duration": 141,
    "start_time": "2023-01-11T07:21:15.999Z"
   },
   {
    "duration": 121,
    "start_time": "2023-01-11T07:21:16.142Z"
   },
   {
    "duration": 227,
    "start_time": "2023-01-11T07:21:16.265Z"
   },
   {
    "duration": 484,
    "start_time": "2023-01-11T07:21:16.498Z"
   },
   {
    "duration": 198,
    "start_time": "2023-01-11T07:21:16.984Z"
   },
   {
    "duration": 275,
    "start_time": "2023-01-11T07:21:17.183Z"
   },
   {
    "duration": 529,
    "start_time": "2023-01-11T07:21:17.459Z"
   },
   {
    "duration": 24,
    "start_time": "2023-01-11T07:21:17.998Z"
   },
   {
    "duration": 159,
    "start_time": "2023-01-11T07:21:18.024Z"
   },
   {
    "duration": 789,
    "start_time": "2023-01-11T07:23:40.866Z"
   },
   {
    "duration": 22,
    "start_time": "2023-01-11T07:23:41.656Z"
   },
   {
    "duration": 23,
    "start_time": "2023-01-11T07:23:41.680Z"
   },
   {
    "duration": 22,
    "start_time": "2023-01-11T07:23:41.706Z"
   },
   {
    "duration": 9,
    "start_time": "2023-01-11T07:23:41.730Z"
   },
   {
    "duration": 1813,
    "start_time": "2023-01-11T07:23:41.741Z"
   },
   {
    "duration": 10,
    "start_time": "2023-01-11T07:23:43.556Z"
   },
   {
    "duration": 56,
    "start_time": "2023-01-11T07:23:43.568Z"
   },
   {
    "duration": 29,
    "start_time": "2023-01-11T07:23:43.625Z"
   },
   {
    "duration": 19,
    "start_time": "2023-01-11T07:23:43.657Z"
   },
   {
    "duration": 31,
    "start_time": "2023-01-11T07:23:43.678Z"
   },
   {
    "duration": 19,
    "start_time": "2023-01-11T07:23:43.711Z"
   },
   {
    "duration": 16,
    "start_time": "2023-01-11T07:23:43.732Z"
   },
   {
    "duration": 16,
    "start_time": "2023-01-11T07:23:43.750Z"
   },
   {
    "duration": 23,
    "start_time": "2023-01-11T07:23:43.768Z"
   },
   {
    "duration": 22,
    "start_time": "2023-01-11T07:23:43.793Z"
   },
   {
    "duration": 16,
    "start_time": "2023-01-11T07:23:43.818Z"
   },
   {
    "duration": 11,
    "start_time": "2023-01-11T07:23:43.835Z"
   },
   {
    "duration": 10,
    "start_time": "2023-01-11T07:23:43.847Z"
   },
   {
    "duration": 12,
    "start_time": "2023-01-11T07:23:43.858Z"
   },
   {
    "duration": 18,
    "start_time": "2023-01-11T07:23:43.871Z"
   },
   {
    "duration": 14,
    "start_time": "2023-01-11T07:23:43.891Z"
   },
   {
    "duration": 10,
    "start_time": "2023-01-11T07:23:43.907Z"
   },
   {
    "duration": 29,
    "start_time": "2023-01-11T07:23:43.919Z"
   },
   {
    "duration": 15,
    "start_time": "2023-01-11T07:23:43.949Z"
   },
   {
    "duration": 30,
    "start_time": "2023-01-11T07:23:43.966Z"
   },
   {
    "duration": 208,
    "start_time": "2023-01-11T07:23:43.998Z"
   },
   {
    "duration": 230,
    "start_time": "2023-01-11T07:23:44.210Z"
   },
   {
    "duration": 281,
    "start_time": "2023-01-11T07:23:44.442Z"
   },
   {
    "duration": 354,
    "start_time": "2023-01-11T07:23:44.726Z"
   },
   {
    "duration": 154,
    "start_time": "2023-01-11T07:23:45.081Z"
   },
   {
    "duration": 157,
    "start_time": "2023-01-11T07:23:45.236Z"
   },
   {
    "duration": 160,
    "start_time": "2023-01-11T07:23:45.398Z"
   },
   {
    "duration": 213,
    "start_time": "2023-01-11T07:23:45.560Z"
   },
   {
    "duration": 252,
    "start_time": "2023-01-11T07:23:45.775Z"
   },
   {
    "duration": 216,
    "start_time": "2023-01-11T07:23:46.028Z"
   },
   {
    "duration": 303,
    "start_time": "2023-01-11T07:23:46.245Z"
   },
   {
    "duration": 129,
    "start_time": "2023-01-11T07:23:46.549Z"
   },
   {
    "duration": 126,
    "start_time": "2023-01-11T07:23:46.680Z"
   },
   {
    "duration": 242,
    "start_time": "2023-01-11T07:23:46.808Z"
   },
   {
    "duration": 498,
    "start_time": "2023-01-11T07:23:47.052Z"
   },
   {
    "duration": 184,
    "start_time": "2023-01-11T07:23:47.552Z"
   },
   {
    "duration": 278,
    "start_time": "2023-01-11T07:23:47.738Z"
   },
   {
    "duration": 500,
    "start_time": "2023-01-11T07:23:48.018Z"
   },
   {
    "duration": 21,
    "start_time": "2023-01-11T07:23:48.520Z"
   },
   {
    "duration": 183,
    "start_time": "2023-01-11T07:23:48.542Z"
   },
   {
    "duration": 5,
    "start_time": "2023-01-11T08:50:59.604Z"
   },
   {
    "duration": 5,
    "start_time": "2023-01-11T08:51:46.685Z"
   },
   {
    "duration": 6,
    "start_time": "2023-01-11T08:52:11.143Z"
   },
   {
    "duration": 691,
    "start_time": "2023-01-11T08:52:21.839Z"
   },
   {
    "duration": 23,
    "start_time": "2023-01-11T08:52:22.531Z"
   },
   {
    "duration": 25,
    "start_time": "2023-01-11T08:52:22.555Z"
   },
   {
    "duration": 26,
    "start_time": "2023-01-11T08:52:22.581Z"
   },
   {
    "duration": 8,
    "start_time": "2023-01-11T08:52:22.608Z"
   },
   {
    "duration": 1801,
    "start_time": "2023-01-11T08:52:22.617Z"
   },
   {
    "duration": 11,
    "start_time": "2023-01-11T08:52:24.419Z"
   },
   {
    "duration": 7,
    "start_time": "2023-01-11T08:52:24.432Z"
   },
   {
    "duration": 14,
    "start_time": "2023-01-11T08:52:24.440Z"
   },
   {
    "duration": 10,
    "start_time": "2023-01-11T08:52:24.456Z"
   },
   {
    "duration": 8,
    "start_time": "2023-01-11T08:52:24.467Z"
   },
   {
    "duration": 14,
    "start_time": "2023-01-11T08:52:24.476Z"
   },
   {
    "duration": 15,
    "start_time": "2023-01-11T08:52:24.491Z"
   },
   {
    "duration": 14,
    "start_time": "2023-01-11T08:52:24.507Z"
   },
   {
    "duration": 19,
    "start_time": "2023-01-11T08:52:24.523Z"
   },
   {
    "duration": 11,
    "start_time": "2023-01-11T08:52:24.543Z"
   },
   {
    "duration": 13,
    "start_time": "2023-01-11T08:52:24.556Z"
   },
   {
    "duration": 5,
    "start_time": "2023-01-11T08:52:24.570Z"
   },
   {
    "duration": 9,
    "start_time": "2023-01-11T08:52:24.576Z"
   },
   {
    "duration": 69,
    "start_time": "2023-01-11T08:52:24.587Z"
   },
   {
    "duration": 4,
    "start_time": "2023-01-11T08:52:24.658Z"
   },
   {
    "duration": 40,
    "start_time": "2023-01-11T08:52:24.663Z"
   },
   {
    "duration": 9,
    "start_time": "2023-01-11T08:52:24.706Z"
   },
   {
    "duration": 17,
    "start_time": "2023-01-11T08:52:24.717Z"
   },
   {
    "duration": 40,
    "start_time": "2023-01-11T08:52:24.736Z"
   },
   {
    "duration": 20,
    "start_time": "2023-01-11T08:52:24.778Z"
   },
   {
    "duration": 50,
    "start_time": "2023-01-11T08:52:24.800Z"
   },
   {
    "duration": 283,
    "start_time": "2023-01-11T08:52:24.855Z"
   },
   {
    "duration": 243,
    "start_time": "2023-01-11T08:52:25.139Z"
   },
   {
    "duration": 260,
    "start_time": "2023-01-11T08:52:25.383Z"
   },
   {
    "duration": 349,
    "start_time": "2023-01-11T08:52:25.645Z"
   },
   {
    "duration": 149,
    "start_time": "2023-01-11T08:52:25.996Z"
   },
   {
    "duration": 150,
    "start_time": "2023-01-11T08:52:26.147Z"
   },
   {
    "duration": 150,
    "start_time": "2023-01-11T08:52:26.299Z"
   },
   {
    "duration": 173,
    "start_time": "2023-01-11T08:52:26.451Z"
   },
   {
    "duration": 214,
    "start_time": "2023-01-11T08:52:26.625Z"
   },
   {
    "duration": 214,
    "start_time": "2023-01-11T08:52:26.841Z"
   },
   {
    "duration": 288,
    "start_time": "2023-01-11T08:52:27.058Z"
   },
   {
    "duration": 130,
    "start_time": "2023-01-11T08:52:27.348Z"
   },
   {
    "duration": 122,
    "start_time": "2023-01-11T08:52:27.480Z"
   },
   {
    "duration": 230,
    "start_time": "2023-01-11T08:52:27.604Z"
   },
   {
    "duration": 473,
    "start_time": "2023-01-11T08:52:27.835Z"
   },
   {
    "duration": 177,
    "start_time": "2023-01-11T08:52:28.310Z"
   },
   {
    "duration": 266,
    "start_time": "2023-01-11T08:52:28.489Z"
   },
   {
    "duration": 511,
    "start_time": "2023-01-11T08:52:28.757Z"
   },
   {
    "duration": 30,
    "start_time": "2023-01-11T08:52:29.270Z"
   },
   {
    "duration": 154,
    "start_time": "2023-01-11T08:52:29.301Z"
   },
   {
    "duration": 838,
    "start_time": "2023-01-11T08:59:13.647Z"
   },
   {
    "duration": 17,
    "start_time": "2023-01-11T09:00:44.578Z"
   },
   {
    "duration": 18,
    "start_time": "2023-01-11T09:00:48.964Z"
   },
   {
    "duration": 17,
    "start_time": "2023-01-11T09:02:38.728Z"
   },
   {
    "duration": 4,
    "start_time": "2023-01-11T09:19:30.341Z"
   },
   {
    "duration": 4,
    "start_time": "2023-01-11T09:21:03.902Z"
   },
   {
    "duration": 5,
    "start_time": "2023-01-11T09:25:03.272Z"
   },
   {
    "duration": 10,
    "start_time": "2023-01-11T09:26:38.456Z"
   },
   {
    "duration": 15,
    "start_time": "2023-01-11T09:29:43.998Z"
   },
   {
    "duration": 7,
    "start_time": "2023-01-11T09:37:25.146Z"
   },
   {
    "duration": 9,
    "start_time": "2023-01-11T09:37:52.445Z"
   },
   {
    "duration": 8,
    "start_time": "2023-01-11T09:38:45.858Z"
   },
   {
    "duration": 14,
    "start_time": "2023-01-11T09:39:24.876Z"
   },
   {
    "duration": 4,
    "start_time": "2023-01-11T09:40:16.391Z"
   },
   {
    "duration": 11,
    "start_time": "2023-01-11T09:41:08.172Z"
   },
   {
    "duration": 80,
    "start_time": "2023-01-11T09:42:18.776Z"
   },
   {
    "duration": 165,
    "start_time": "2023-01-11T10:16:42.104Z"
   },
   {
    "duration": 157,
    "start_time": "2023-01-11T10:17:02.757Z"
   },
   {
    "duration": 222,
    "start_time": "2023-01-11T10:17:11.505Z"
   },
   {
    "duration": 231,
    "start_time": "2023-01-11T10:20:49.169Z"
   },
   {
    "duration": 266,
    "start_time": "2023-01-11T10:21:06.675Z"
   },
   {
    "duration": 314,
    "start_time": "2023-01-11T10:23:36.398Z"
   },
   {
    "duration": 257,
    "start_time": "2023-01-11T10:23:49.663Z"
   },
   {
    "duration": 233,
    "start_time": "2023-01-11T10:24:06.953Z"
   },
   {
    "duration": 246,
    "start_time": "2023-01-11T10:24:23.454Z"
   },
   {
    "duration": 224,
    "start_time": "2023-01-11T10:24:32.841Z"
   },
   {
    "duration": 741,
    "start_time": "2023-01-11T10:24:52.407Z"
   },
   {
    "duration": 30,
    "start_time": "2023-01-11T10:24:53.150Z"
   },
   {
    "duration": 36,
    "start_time": "2023-01-11T10:24:53.181Z"
   },
   {
    "duration": 34,
    "start_time": "2023-01-11T10:24:53.220Z"
   },
   {
    "duration": 13,
    "start_time": "2023-01-11T10:24:53.255Z"
   },
   {
    "duration": 2013,
    "start_time": "2023-01-11T10:24:53.269Z"
   },
   {
    "duration": 11,
    "start_time": "2023-01-11T10:24:55.284Z"
   },
   {
    "duration": 19,
    "start_time": "2023-01-11T10:24:55.296Z"
   },
   {
    "duration": 10,
    "start_time": "2023-01-11T10:24:55.318Z"
   },
   {
    "duration": 4,
    "start_time": "2023-01-11T10:24:55.331Z"
   },
   {
    "duration": 10,
    "start_time": "2023-01-11T10:24:55.337Z"
   },
   {
    "duration": 10,
    "start_time": "2023-01-11T10:24:55.348Z"
   },
   {
    "duration": 9,
    "start_time": "2023-01-11T10:24:55.359Z"
   },
   {
    "duration": 8,
    "start_time": "2023-01-11T10:24:55.370Z"
   },
   {
    "duration": 11,
    "start_time": "2023-01-11T10:24:55.380Z"
   },
   {
    "duration": 10,
    "start_time": "2023-01-11T10:24:55.393Z"
   },
   {
    "duration": 33,
    "start_time": "2023-01-11T10:24:55.406Z"
   },
   {
    "duration": 9,
    "start_time": "2023-01-11T10:24:55.441Z"
   },
   {
    "duration": 11,
    "start_time": "2023-01-11T10:24:55.451Z"
   },
   {
    "duration": 7,
    "start_time": "2023-01-11T10:24:55.463Z"
   },
   {
    "duration": 71,
    "start_time": "2023-01-11T10:24:55.471Z"
   },
   {
    "duration": 4,
    "start_time": "2023-01-11T10:24:55.544Z"
   },
   {
    "duration": 11,
    "start_time": "2023-01-11T10:24:55.549Z"
   },
   {
    "duration": 9,
    "start_time": "2023-01-11T10:24:55.561Z"
   },
   {
    "duration": 12,
    "start_time": "2023-01-11T10:24:55.571Z"
   },
   {
    "duration": 81,
    "start_time": "2023-01-11T10:24:55.584Z"
   },
   {
    "duration": 4,
    "start_time": "2023-01-11T10:24:55.667Z"
   },
   {
    "duration": 25,
    "start_time": "2023-01-11T10:24:55.676Z"
   },
   {
    "duration": 7,
    "start_time": "2023-01-11T10:24:55.703Z"
   },
   {
    "duration": 18,
    "start_time": "2023-01-11T10:24:55.711Z"
   },
   {
    "duration": 8,
    "start_time": "2023-01-11T10:24:55.731Z"
   },
   {
    "duration": 15,
    "start_time": "2023-01-11T10:24:55.740Z"
   },
   {
    "duration": 25,
    "start_time": "2023-01-11T10:24:55.756Z"
   },
   {
    "duration": 229,
    "start_time": "2023-01-11T10:24:55.782Z"
   },
   {
    "duration": 246,
    "start_time": "2023-01-11T10:24:56.012Z"
   },
   {
    "duration": 257,
    "start_time": "2023-01-11T10:24:56.260Z"
   },
   {
    "duration": 48,
    "start_time": "2023-01-11T10:24:56.519Z"
   },
   {
    "duration": 0,
    "start_time": "2023-01-11T10:24:56.569Z"
   },
   {
    "duration": 0,
    "start_time": "2023-01-11T10:24:56.570Z"
   },
   {
    "duration": 0,
    "start_time": "2023-01-11T10:24:56.572Z"
   },
   {
    "duration": 0,
    "start_time": "2023-01-11T10:24:56.573Z"
   },
   {
    "duration": 0,
    "start_time": "2023-01-11T10:24:56.574Z"
   },
   {
    "duration": 0,
    "start_time": "2023-01-11T10:24:56.575Z"
   },
   {
    "duration": 0,
    "start_time": "2023-01-11T10:24:56.576Z"
   },
   {
    "duration": 0,
    "start_time": "2023-01-11T10:24:56.577Z"
   },
   {
    "duration": 0,
    "start_time": "2023-01-11T10:24:56.579Z"
   },
   {
    "duration": 0,
    "start_time": "2023-01-11T10:24:56.580Z"
   },
   {
    "duration": 0,
    "start_time": "2023-01-11T10:24:56.581Z"
   },
   {
    "duration": 0,
    "start_time": "2023-01-11T10:24:56.583Z"
   },
   {
    "duration": 0,
    "start_time": "2023-01-11T10:24:56.583Z"
   },
   {
    "duration": 0,
    "start_time": "2023-01-11T10:24:56.584Z"
   },
   {
    "duration": 0,
    "start_time": "2023-01-11T10:24:56.585Z"
   },
   {
    "duration": 0,
    "start_time": "2023-01-11T10:24:56.586Z"
   },
   {
    "duration": 0,
    "start_time": "2023-01-11T10:24:56.587Z"
   },
   {
    "duration": 61,
    "start_time": "2023-01-11T10:26:24.254Z"
   },
   {
    "duration": 773,
    "start_time": "2023-01-11T10:26:50.039Z"
   },
   {
    "duration": 27,
    "start_time": "2023-01-11T10:26:50.814Z"
   },
   {
    "duration": 14,
    "start_time": "2023-01-11T10:26:50.843Z"
   },
   {
    "duration": 40,
    "start_time": "2023-01-11T10:26:50.858Z"
   },
   {
    "duration": 13,
    "start_time": "2023-01-11T10:26:50.901Z"
   },
   {
    "duration": 1982,
    "start_time": "2023-01-11T10:26:50.916Z"
   },
   {
    "duration": 17,
    "start_time": "2023-01-11T10:26:52.900Z"
   },
   {
    "duration": 5,
    "start_time": "2023-01-11T10:26:52.919Z"
   },
   {
    "duration": 11,
    "start_time": "2023-01-11T10:26:52.926Z"
   },
   {
    "duration": 5,
    "start_time": "2023-01-11T10:26:52.938Z"
   },
   {
    "duration": 6,
    "start_time": "2023-01-11T10:26:52.944Z"
   },
   {
    "duration": 5,
    "start_time": "2023-01-11T10:26:52.952Z"
   },
   {
    "duration": 6,
    "start_time": "2023-01-11T10:26:52.959Z"
   },
   {
    "duration": 6,
    "start_time": "2023-01-11T10:26:52.997Z"
   },
   {
    "duration": 15,
    "start_time": "2023-01-11T10:26:53.005Z"
   },
   {
    "duration": 8,
    "start_time": "2023-01-11T10:26:53.022Z"
   },
   {
    "duration": 13,
    "start_time": "2023-01-11T10:26:53.031Z"
   },
   {
    "duration": 4,
    "start_time": "2023-01-11T10:26:53.047Z"
   },
   {
    "duration": 14,
    "start_time": "2023-01-11T10:26:53.052Z"
   },
   {
    "duration": 5,
    "start_time": "2023-01-11T10:26:53.068Z"
   },
   {
    "duration": 92,
    "start_time": "2023-01-11T10:26:53.074Z"
   },
   {
    "duration": 3,
    "start_time": "2023-01-11T10:26:53.168Z"
   },
   {
    "duration": 7,
    "start_time": "2023-01-11T10:26:53.173Z"
   },
   {
    "duration": 20,
    "start_time": "2023-01-11T10:26:53.181Z"
   },
   {
    "duration": 23,
    "start_time": "2023-01-11T10:26:53.202Z"
   },
   {
    "duration": 63,
    "start_time": "2023-01-11T10:26:53.227Z"
   },
   {
    "duration": 4,
    "start_time": "2023-01-11T10:26:53.291Z"
   },
   {
    "duration": 26,
    "start_time": "2023-01-11T10:26:53.298Z"
   },
   {
    "duration": 8,
    "start_time": "2023-01-11T10:26:53.325Z"
   },
   {
    "duration": 13,
    "start_time": "2023-01-11T10:26:53.334Z"
   },
   {
    "duration": 7,
    "start_time": "2023-01-11T10:26:53.349Z"
   },
   {
    "duration": 5,
    "start_time": "2023-01-11T10:26:53.358Z"
   },
   {
    "duration": 23,
    "start_time": "2023-01-11T10:26:53.364Z"
   },
   {
    "duration": 232,
    "start_time": "2023-01-11T10:26:53.388Z"
   },
   {
    "duration": 253,
    "start_time": "2023-01-11T10:26:53.622Z"
   },
   {
    "duration": 273,
    "start_time": "2023-01-11T10:26:53.876Z"
   },
   {
    "duration": 333,
    "start_time": "2023-01-11T10:26:54.151Z"
   },
   {
    "duration": 170,
    "start_time": "2023-01-11T10:26:54.486Z"
   },
   {
    "duration": 219,
    "start_time": "2023-01-11T10:26:54.658Z"
   },
   {
    "duration": 193,
    "start_time": "2023-01-11T10:26:54.879Z"
   },
   {
    "duration": 204,
    "start_time": "2023-01-11T10:26:55.076Z"
   },
   {
    "duration": 246,
    "start_time": "2023-01-11T10:26:55.282Z"
   },
   {
    "duration": 255,
    "start_time": "2023-01-11T10:26:55.530Z"
   },
   {
    "duration": 336,
    "start_time": "2023-01-11T10:26:55.787Z"
   },
   {
    "duration": 134,
    "start_time": "2023-01-11T10:26:56.125Z"
   },
   {
    "duration": 123,
    "start_time": "2023-01-11T10:26:56.260Z"
   },
   {
    "duration": 258,
    "start_time": "2023-01-11T10:26:56.384Z"
   },
   {
    "duration": 562,
    "start_time": "2023-01-11T10:26:56.643Z"
   },
   {
    "duration": 190,
    "start_time": "2023-01-11T10:26:57.207Z"
   },
   {
    "duration": 298,
    "start_time": "2023-01-11T10:26:57.399Z"
   },
   {
    "duration": 532,
    "start_time": "2023-01-11T10:26:57.700Z"
   },
   {
    "duration": 22,
    "start_time": "2023-01-11T10:26:58.233Z"
   },
   {
    "duration": 178,
    "start_time": "2023-01-11T10:26:58.257Z"
   },
   {
    "duration": 234,
    "start_time": "2023-01-11T10:35:11.676Z"
   },
   {
    "duration": 708,
    "start_time": "2023-01-11T10:48:12.473Z"
   },
   {
    "duration": 256,
    "start_time": "2023-01-11T10:53:01.884Z"
   },
   {
    "duration": 729,
    "start_time": "2023-01-11T10:58:07.014Z"
   },
   {
    "duration": 23,
    "start_time": "2023-01-11T10:58:07.745Z"
   },
   {
    "duration": 14,
    "start_time": "2023-01-11T10:58:07.769Z"
   },
   {
    "duration": 38,
    "start_time": "2023-01-11T10:58:07.785Z"
   },
   {
    "duration": 10,
    "start_time": "2023-01-11T10:58:07.824Z"
   },
   {
    "duration": 1918,
    "start_time": "2023-01-11T10:58:07.836Z"
   },
   {
    "duration": 11,
    "start_time": "2023-01-11T10:58:09.755Z"
   },
   {
    "duration": 9,
    "start_time": "2023-01-11T10:58:09.767Z"
   },
   {
    "duration": 21,
    "start_time": "2023-01-11T10:58:09.778Z"
   },
   {
    "duration": 15,
    "start_time": "2023-01-11T10:58:09.806Z"
   },
   {
    "duration": 17,
    "start_time": "2023-01-11T10:58:09.822Z"
   },
   {
    "duration": 12,
    "start_time": "2023-01-11T10:58:09.841Z"
   },
   {
    "duration": 19,
    "start_time": "2023-01-11T10:58:09.854Z"
   },
   {
    "duration": 20,
    "start_time": "2023-01-11T10:58:09.874Z"
   },
   {
    "duration": 18,
    "start_time": "2023-01-11T10:58:09.895Z"
   },
   {
    "duration": 8,
    "start_time": "2023-01-11T10:58:09.915Z"
   },
   {
    "duration": 22,
    "start_time": "2023-01-11T10:58:09.924Z"
   },
   {
    "duration": 4,
    "start_time": "2023-01-11T10:58:09.948Z"
   },
   {
    "duration": 14,
    "start_time": "2023-01-11T10:58:09.953Z"
   },
   {
    "duration": 8,
    "start_time": "2023-01-11T10:58:09.969Z"
   },
   {
    "duration": 81,
    "start_time": "2023-01-11T10:58:09.978Z"
   },
   {
    "duration": 4,
    "start_time": "2023-01-11T10:58:10.060Z"
   },
   {
    "duration": 18,
    "start_time": "2023-01-11T10:58:10.065Z"
   },
   {
    "duration": 35,
    "start_time": "2023-01-11T10:58:10.085Z"
   },
   {
    "duration": 19,
    "start_time": "2023-01-11T10:58:10.122Z"
   },
   {
    "duration": 71,
    "start_time": "2023-01-11T10:58:10.142Z"
   },
   {
    "duration": 4,
    "start_time": "2023-01-11T10:58:10.214Z"
   },
   {
    "duration": 17,
    "start_time": "2023-01-11T10:58:10.221Z"
   },
   {
    "duration": 11,
    "start_time": "2023-01-11T10:58:10.239Z"
   },
   {
    "duration": 19,
    "start_time": "2023-01-11T10:58:10.251Z"
   },
   {
    "duration": 16,
    "start_time": "2023-01-11T10:58:10.272Z"
   },
   {
    "duration": 23,
    "start_time": "2023-01-11T10:58:10.289Z"
   },
   {
    "duration": 29,
    "start_time": "2023-01-11T10:58:10.313Z"
   },
   {
    "duration": 229,
    "start_time": "2023-01-11T10:58:10.344Z"
   },
   {
    "duration": 269,
    "start_time": "2023-01-11T10:58:10.574Z"
   },
   {
    "duration": 263,
    "start_time": "2023-01-11T10:58:10.845Z"
   },
   {
    "duration": 329,
    "start_time": "2023-01-11T10:58:11.111Z"
   },
   {
    "duration": 151,
    "start_time": "2023-01-11T10:58:11.442Z"
   },
   {
    "duration": 139,
    "start_time": "2023-01-11T10:58:11.598Z"
   },
   {
    "duration": 159,
    "start_time": "2023-01-11T10:58:11.739Z"
   },
   {
    "duration": 203,
    "start_time": "2023-01-11T10:58:11.900Z"
   },
   {
    "duration": 230,
    "start_time": "2023-01-11T10:58:12.106Z"
   },
   {
    "duration": 230,
    "start_time": "2023-01-11T10:58:12.337Z"
   },
   {
    "duration": 305,
    "start_time": "2023-01-11T10:58:12.569Z"
   },
   {
    "duration": 136,
    "start_time": "2023-01-11T10:58:12.876Z"
   },
   {
    "duration": 122,
    "start_time": "2023-01-11T10:58:13.014Z"
   },
   {
    "duration": 246,
    "start_time": "2023-01-11T10:58:13.137Z"
   },
   {
    "duration": 688,
    "start_time": "2023-01-11T10:58:13.385Z"
   },
   {
    "duration": 193,
    "start_time": "2023-01-11T10:58:14.075Z"
   },
   {
    "duration": 287,
    "start_time": "2023-01-11T10:58:14.269Z"
   },
   {
    "duration": 578,
    "start_time": "2023-01-11T10:58:14.558Z"
   },
   {
    "duration": 22,
    "start_time": "2023-01-11T10:58:15.138Z"
   },
   {
    "duration": 163,
    "start_time": "2023-01-11T10:58:15.161Z"
   },
   {
    "duration": 185,
    "start_time": "2023-01-11T10:59:35.577Z"
   },
   {
    "duration": 166,
    "start_time": "2023-01-11T10:59:47.591Z"
   },
   {
    "duration": 756,
    "start_time": "2023-01-11T11:11:34.109Z"
   },
   {
    "duration": 41,
    "start_time": "2023-01-11T11:11:34.867Z"
   },
   {
    "duration": 36,
    "start_time": "2023-01-11T11:11:34.909Z"
   },
   {
    "duration": 27,
    "start_time": "2023-01-11T11:11:34.946Z"
   },
   {
    "duration": 12,
    "start_time": "2023-01-11T11:11:34.975Z"
   },
   {
    "duration": 1914,
    "start_time": "2023-01-11T11:11:34.988Z"
   },
   {
    "duration": 17,
    "start_time": "2023-01-11T11:11:36.905Z"
   },
   {
    "duration": 9,
    "start_time": "2023-01-11T11:11:36.924Z"
   },
   {
    "duration": 9,
    "start_time": "2023-01-11T11:11:36.934Z"
   },
   {
    "duration": 4,
    "start_time": "2023-01-11T11:11:36.945Z"
   },
   {
    "duration": 6,
    "start_time": "2023-01-11T11:11:36.950Z"
   },
   {
    "duration": 7,
    "start_time": "2023-01-11T11:11:36.957Z"
   },
   {
    "duration": 6,
    "start_time": "2023-01-11T11:11:36.965Z"
   },
   {
    "duration": 26,
    "start_time": "2023-01-11T11:11:36.973Z"
   },
   {
    "duration": 17,
    "start_time": "2023-01-11T11:11:37.000Z"
   },
   {
    "duration": 5,
    "start_time": "2023-01-11T11:11:37.018Z"
   },
   {
    "duration": 11,
    "start_time": "2023-01-11T11:11:37.024Z"
   },
   {
    "duration": 4,
    "start_time": "2023-01-11T11:11:37.036Z"
   },
   {
    "duration": 16,
    "start_time": "2023-01-11T11:11:37.041Z"
   },
   {
    "duration": 5,
    "start_time": "2023-01-11T11:11:37.058Z"
   },
   {
    "duration": 77,
    "start_time": "2023-01-11T11:11:37.065Z"
   },
   {
    "duration": 3,
    "start_time": "2023-01-11T11:11:37.144Z"
   },
   {
    "duration": 6,
    "start_time": "2023-01-11T11:11:37.148Z"
   },
   {
    "duration": 7,
    "start_time": "2023-01-11T11:11:37.155Z"
   },
   {
    "duration": 13,
    "start_time": "2023-01-11T11:11:37.163Z"
   },
   {
    "duration": 84,
    "start_time": "2023-01-11T11:11:37.177Z"
   },
   {
    "duration": 4,
    "start_time": "2023-01-11T11:11:37.262Z"
   },
   {
    "duration": 8,
    "start_time": "2023-01-11T11:11:37.267Z"
   },
   {
    "duration": 5,
    "start_time": "2023-01-11T11:11:37.277Z"
   },
   {
    "duration": 22,
    "start_time": "2023-01-11T11:11:37.283Z"
   },
   {
    "duration": 14,
    "start_time": "2023-01-11T11:11:37.307Z"
   },
   {
    "duration": 5,
    "start_time": "2023-01-11T11:11:37.323Z"
   },
   {
    "duration": 25,
    "start_time": "2023-01-11T11:11:37.329Z"
   },
   {
    "duration": 239,
    "start_time": "2023-01-11T11:11:37.355Z"
   },
   {
    "duration": 246,
    "start_time": "2023-01-11T11:11:37.597Z"
   },
   {
    "duration": 267,
    "start_time": "2023-01-11T11:11:37.844Z"
   },
   {
    "duration": 318,
    "start_time": "2023-01-11T11:11:38.113Z"
   },
   {
    "duration": 156,
    "start_time": "2023-01-11T11:11:38.433Z"
   },
   {
    "duration": 146,
    "start_time": "2023-01-11T11:11:38.591Z"
   },
   {
    "duration": 164,
    "start_time": "2023-01-11T11:11:38.739Z"
   },
   {
    "duration": 204,
    "start_time": "2023-01-11T11:11:38.910Z"
   },
   {
    "duration": 249,
    "start_time": "2023-01-11T11:11:39.116Z"
   },
   {
    "duration": 222,
    "start_time": "2023-01-11T11:11:39.367Z"
   },
   {
    "duration": 311,
    "start_time": "2023-01-11T11:11:39.590Z"
   },
   {
    "duration": 158,
    "start_time": "2023-01-11T11:11:39.903Z"
   },
   {
    "duration": 132,
    "start_time": "2023-01-11T11:11:40.062Z"
   },
   {
    "duration": 47,
    "start_time": "2023-01-11T11:11:40.198Z"
   },
   {
    "duration": 0,
    "start_time": "2023-01-11T11:11:40.247Z"
   },
   {
    "duration": 0,
    "start_time": "2023-01-11T11:11:40.248Z"
   },
   {
    "duration": 0,
    "start_time": "2023-01-11T11:11:40.249Z"
   },
   {
    "duration": 0,
    "start_time": "2023-01-11T11:11:40.250Z"
   },
   {
    "duration": 0,
    "start_time": "2023-01-11T11:11:40.251Z"
   },
   {
    "duration": 0,
    "start_time": "2023-01-11T11:11:40.253Z"
   },
   {
    "duration": 0,
    "start_time": "2023-01-11T11:11:40.253Z"
   },
   {
    "duration": 755,
    "start_time": "2023-01-11T11:12:00.610Z"
   },
   {
    "duration": 30,
    "start_time": "2023-01-11T11:12:01.367Z"
   },
   {
    "duration": 23,
    "start_time": "2023-01-11T11:12:01.400Z"
   },
   {
    "duration": 37,
    "start_time": "2023-01-11T11:12:01.424Z"
   },
   {
    "duration": 16,
    "start_time": "2023-01-11T11:12:01.463Z"
   },
   {
    "duration": 1953,
    "start_time": "2023-01-11T11:12:01.481Z"
   },
   {
    "duration": 11,
    "start_time": "2023-01-11T11:12:03.435Z"
   },
   {
    "duration": 9,
    "start_time": "2023-01-11T11:12:03.447Z"
   },
   {
    "duration": 10,
    "start_time": "2023-01-11T11:12:03.457Z"
   },
   {
    "duration": 3,
    "start_time": "2023-01-11T11:12:03.469Z"
   },
   {
    "duration": 5,
    "start_time": "2023-01-11T11:12:03.474Z"
   },
   {
    "duration": 7,
    "start_time": "2023-01-11T11:12:03.480Z"
   },
   {
    "duration": 11,
    "start_time": "2023-01-11T11:12:03.488Z"
   },
   {
    "duration": 20,
    "start_time": "2023-01-11T11:12:03.501Z"
   },
   {
    "duration": 9,
    "start_time": "2023-01-11T11:12:03.523Z"
   },
   {
    "duration": 13,
    "start_time": "2023-01-11T11:12:03.534Z"
   },
   {
    "duration": 15,
    "start_time": "2023-01-11T11:12:03.548Z"
   },
   {
    "duration": 9,
    "start_time": "2023-01-11T11:12:03.564Z"
   },
   {
    "duration": 39,
    "start_time": "2023-01-11T11:12:03.574Z"
   },
   {
    "duration": 12,
    "start_time": "2023-01-11T11:12:03.614Z"
   },
   {
    "duration": 75,
    "start_time": "2023-01-11T11:12:03.628Z"
   },
   {
    "duration": 4,
    "start_time": "2023-01-11T11:12:03.706Z"
   },
   {
    "duration": 8,
    "start_time": "2023-01-11T11:12:03.713Z"
   },
   {
    "duration": 10,
    "start_time": "2023-01-11T11:12:03.722Z"
   },
   {
    "duration": 19,
    "start_time": "2023-01-11T11:12:03.733Z"
   },
   {
    "duration": 78,
    "start_time": "2023-01-11T11:12:03.754Z"
   },
   {
    "duration": 4,
    "start_time": "2023-01-11T11:12:03.833Z"
   },
   {
    "duration": 23,
    "start_time": "2023-01-11T11:12:03.841Z"
   },
   {
    "duration": 7,
    "start_time": "2023-01-11T11:12:03.865Z"
   },
   {
    "duration": 6,
    "start_time": "2023-01-11T11:12:03.873Z"
   },
   {
    "duration": 8,
    "start_time": "2023-01-11T11:12:03.880Z"
   },
   {
    "duration": 10,
    "start_time": "2023-01-11T11:12:03.889Z"
   },
   {
    "duration": 36,
    "start_time": "2023-01-11T11:12:03.901Z"
   },
   {
    "duration": 242,
    "start_time": "2023-01-11T11:12:03.939Z"
   },
   {
    "duration": 261,
    "start_time": "2023-01-11T11:12:04.183Z"
   },
   {
    "duration": 288,
    "start_time": "2023-01-11T11:12:04.446Z"
   },
   {
    "duration": 384,
    "start_time": "2023-01-11T11:12:04.736Z"
   },
   {
    "duration": 165,
    "start_time": "2023-01-11T11:12:05.122Z"
   },
   {
    "duration": 166,
    "start_time": "2023-01-11T11:12:05.288Z"
   },
   {
    "duration": 192,
    "start_time": "2023-01-11T11:12:05.455Z"
   },
   {
    "duration": 219,
    "start_time": "2023-01-11T11:12:05.649Z"
   },
   {
    "duration": 262,
    "start_time": "2023-01-11T11:12:05.869Z"
   },
   {
    "duration": 242,
    "start_time": "2023-01-11T11:12:06.133Z"
   },
   {
    "duration": 342,
    "start_time": "2023-01-11T11:12:06.377Z"
   },
   {
    "duration": 142,
    "start_time": "2023-01-11T11:12:06.721Z"
   },
   {
    "duration": 130,
    "start_time": "2023-01-11T11:12:06.864Z"
   },
   {
    "duration": 252,
    "start_time": "2023-01-11T11:12:06.996Z"
   },
   {
    "duration": 689,
    "start_time": "2023-01-11T11:12:07.249Z"
   },
   {
    "duration": 209,
    "start_time": "2023-01-11T11:12:07.939Z"
   },
   {
    "duration": 309,
    "start_time": "2023-01-11T11:12:08.150Z"
   },
   {
    "duration": 554,
    "start_time": "2023-01-11T11:12:08.461Z"
   },
   {
    "duration": 22,
    "start_time": "2023-01-11T11:12:09.016Z"
   },
   {
    "duration": 162,
    "start_time": "2023-01-11T11:12:09.039Z"
   },
   {
    "duration": 44,
    "start_time": "2023-01-12T05:12:13.235Z"
   },
   {
    "duration": 5,
    "start_time": "2023-01-12T05:12:56.418Z"
   },
   {
    "duration": 1151,
    "start_time": "2023-01-12T05:13:20.142Z"
   },
   {
    "duration": 22,
    "start_time": "2023-01-12T05:13:21.295Z"
   },
   {
    "duration": 19,
    "start_time": "2023-01-12T05:13:21.318Z"
   },
   {
    "duration": 43,
    "start_time": "2023-01-12T05:13:21.339Z"
   },
   {
    "duration": 8,
    "start_time": "2023-01-12T05:13:21.384Z"
   },
   {
    "duration": 1886,
    "start_time": "2023-01-12T05:13:21.394Z"
   },
   {
    "duration": 11,
    "start_time": "2023-01-12T05:13:23.282Z"
   },
   {
    "duration": 39,
    "start_time": "2023-01-12T05:13:23.294Z"
   },
   {
    "duration": 38,
    "start_time": "2023-01-12T05:13:23.335Z"
   },
   {
    "duration": 24,
    "start_time": "2023-01-12T05:13:23.374Z"
   },
   {
    "duration": 42,
    "start_time": "2023-01-12T05:13:23.400Z"
   },
   {
    "duration": 27,
    "start_time": "2023-01-12T05:13:23.444Z"
   },
   {
    "duration": 34,
    "start_time": "2023-01-12T05:13:23.472Z"
   },
   {
    "duration": 20,
    "start_time": "2023-01-12T05:13:23.509Z"
   },
   {
    "duration": 36,
    "start_time": "2023-01-12T05:13:23.531Z"
   },
   {
    "duration": 23,
    "start_time": "2023-01-12T05:13:23.569Z"
   },
   {
    "duration": 26,
    "start_time": "2023-01-12T05:13:23.594Z"
   },
   {
    "duration": 23,
    "start_time": "2023-01-12T05:13:23.622Z"
   },
   {
    "duration": 30,
    "start_time": "2023-01-12T05:13:23.647Z"
   },
   {
    "duration": 28,
    "start_time": "2023-01-12T05:13:23.678Z"
   },
   {
    "duration": 88,
    "start_time": "2023-01-12T05:13:23.707Z"
   },
   {
    "duration": 3,
    "start_time": "2023-01-12T05:13:23.797Z"
   },
   {
    "duration": 23,
    "start_time": "2023-01-12T05:13:23.801Z"
   },
   {
    "duration": 40,
    "start_time": "2023-01-12T05:13:23.826Z"
   },
   {
    "duration": 50,
    "start_time": "2023-01-12T05:13:23.868Z"
   },
   {
    "duration": 94,
    "start_time": "2023-01-12T05:13:23.919Z"
   },
   {
    "duration": 75,
    "start_time": "2023-01-12T05:13:24.014Z"
   },
   {
    "duration": 4,
    "start_time": "2023-01-12T05:13:24.091Z"
   },
   {
    "duration": 52,
    "start_time": "2023-01-12T05:13:24.096Z"
   },
   {
    "duration": 27,
    "start_time": "2023-01-12T05:13:24.151Z"
   },
   {
    "duration": 25,
    "start_time": "2023-01-12T05:13:24.180Z"
   },
   {
    "duration": 22,
    "start_time": "2023-01-12T05:13:24.208Z"
   },
   {
    "duration": 34,
    "start_time": "2023-01-12T05:13:24.232Z"
   },
   {
    "duration": 54,
    "start_time": "2023-01-12T05:13:24.268Z"
   },
   {
    "duration": 260,
    "start_time": "2023-01-12T05:13:24.324Z"
   },
   {
    "duration": 288,
    "start_time": "2023-01-12T05:13:24.586Z"
   },
   {
    "duration": 270,
    "start_time": "2023-01-12T05:13:24.876Z"
   },
   {
    "duration": 434,
    "start_time": "2023-01-12T05:13:25.148Z"
   },
   {
    "duration": 178,
    "start_time": "2023-01-12T05:13:25.584Z"
   },
   {
    "duration": 143,
    "start_time": "2023-01-12T05:13:25.764Z"
   },
   {
    "duration": 161,
    "start_time": "2023-01-12T05:13:25.911Z"
   },
   {
    "duration": 203,
    "start_time": "2023-01-12T05:13:26.074Z"
   },
   {
    "duration": 234,
    "start_time": "2023-01-12T05:13:26.279Z"
   },
   {
    "duration": 234,
    "start_time": "2023-01-12T05:13:26.515Z"
   },
   {
    "duration": 316,
    "start_time": "2023-01-12T05:13:26.751Z"
   },
   {
    "duration": 158,
    "start_time": "2023-01-12T05:13:27.068Z"
   },
   {
    "duration": 137,
    "start_time": "2023-01-12T05:13:27.228Z"
   },
   {
    "duration": 248,
    "start_time": "2023-01-12T05:13:27.367Z"
   },
   {
    "duration": 709,
    "start_time": "2023-01-12T05:13:27.621Z"
   },
   {
    "duration": 192,
    "start_time": "2023-01-12T05:13:28.333Z"
   },
   {
    "duration": 298,
    "start_time": "2023-01-12T05:13:28.526Z"
   },
   {
    "duration": 525,
    "start_time": "2023-01-12T05:13:28.825Z"
   },
   {
    "duration": 22,
    "start_time": "2023-01-12T05:13:29.352Z"
   },
   {
    "duration": 169,
    "start_time": "2023-01-12T05:13:29.376Z"
   },
   {
    "duration": 41,
    "start_time": "2023-01-12T05:20:06.182Z"
   },
   {
    "duration": 50,
    "start_time": "2023-01-12T05:20:23.761Z"
   },
   {
    "duration": 46,
    "start_time": "2023-01-12T05:20:39.858Z"
   },
   {
    "duration": 63,
    "start_time": "2023-01-12T05:20:51.971Z"
   },
   {
    "duration": 63,
    "start_time": "2023-01-12T05:21:05.962Z"
   },
   {
    "duration": 62,
    "start_time": "2023-01-12T05:24:35.296Z"
   },
   {
    "duration": 107,
    "start_time": "2023-01-12T05:29:43.546Z"
   },
   {
    "duration": 123,
    "start_time": "2023-01-12T05:30:02.945Z"
   },
   {
    "duration": 125,
    "start_time": "2023-01-12T05:30:24.836Z"
   },
   {
    "duration": 137,
    "start_time": "2023-01-12T05:31:01.452Z"
   },
   {
    "duration": 276,
    "start_time": "2023-01-12T05:33:00.640Z"
   },
   {
    "duration": 220,
    "start_time": "2023-01-12T05:34:50.565Z"
   },
   {
    "duration": 227,
    "start_time": "2023-01-12T05:35:23.821Z"
   },
   {
    "duration": 234,
    "start_time": "2023-01-12T05:39:00.078Z"
   },
   {
    "duration": 204,
    "start_time": "2023-01-12T05:39:09.433Z"
   },
   {
    "duration": 221,
    "start_time": "2023-01-12T05:41:03.846Z"
   },
   {
    "duration": 206,
    "start_time": "2023-01-12T05:41:15.202Z"
   },
   {
    "duration": 149,
    "start_time": "2023-01-12T05:41:37.093Z"
   },
   {
    "duration": 128,
    "start_time": "2023-01-12T05:42:01.698Z"
   },
   {
    "duration": 132,
    "start_time": "2023-01-12T05:42:08.218Z"
   },
   {
    "duration": 160,
    "start_time": "2023-01-12T05:43:26.088Z"
   },
   {
    "duration": 165,
    "start_time": "2023-01-12T05:43:39.001Z"
   },
   {
    "duration": 225,
    "start_time": "2023-01-12T05:45:34.706Z"
   },
   {
    "duration": 306,
    "start_time": "2023-01-12T05:48:18.476Z"
   },
   {
    "duration": 221,
    "start_time": "2023-01-12T05:49:01.096Z"
   },
   {
    "duration": 215,
    "start_time": "2023-01-12T05:51:46.725Z"
   },
   {
    "duration": 5,
    "start_time": "2023-01-12T06:00:44.528Z"
   },
   {
    "duration": 5,
    "start_time": "2023-01-12T06:01:32.170Z"
   },
   {
    "duration": 6,
    "start_time": "2023-01-12T06:04:23.736Z"
   }
  ],
  "kernelspec": {
   "display_name": "Python 3 (ipykernel)",
   "language": "python",
   "name": "python3"
  },
  "language_info": {
   "codemirror_mode": {
    "name": "ipython",
    "version": 3
   },
   "file_extension": ".py",
   "mimetype": "text/x-python",
   "name": "python",
   "nbconvert_exporter": "python",
   "pygments_lexer": "ipython3",
   "version": "3.9.5"
  },
  "toc": {
   "base_numbering": 1,
   "nav_menu": {},
   "number_sections": true,
   "sideBar": true,
   "skip_h1_title": true,
   "title_cell": "Table of Contents",
   "title_sidebar": "Contents",
   "toc_cell": false,
   "toc_position": {},
   "toc_section_display": true,
   "toc_window_display": false
  }
 },
 "nbformat": 4,
 "nbformat_minor": 2
}
