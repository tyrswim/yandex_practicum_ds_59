{
 "cells": [
  {
   "cell_type": "markdown",
   "metadata": {},
   "source": [
    "Привет, меня зовут Артем Хуршудов. Сегодня я проверю твой проект.\n",
    "<br> Дальнейшее общение будет происходить на \"ты\" если это не вызывает никаких проблем.\n",
    "<br> Желательно реагировать на каждый мой комментарий ('исправил', 'не понятно как исправить ошибку', ...)\n",
    "<br> Пожалуйста, не удаляй комментарии ревьюера, так как они повышают качество повторного ревью.\n",
    "\n",
    "Комментарии будут в <font color='green'>зеленой</font>, <font color='blue'>синей</font> или <font color='red'>красной</font> рамках:\n",
    "\n",
    "<div class=\"alert alert-block alert-success\">\n",
    "<b>Успех:</b> Если все сделано отлично\n",
    "</div>\n",
    "\n",
    "<div class=\"alert alert-block alert-info\">\n",
    "<b>Совет: </b> Если можно немного улучшить\n",
    "</div>\n",
    "\n",
    "<div class=\"alert alert-block alert-danger\">\n",
    "<b>Ошибка:</b> Если требуются исправления. Работа не может быть принята с красными комментариями.\n",
    "</div>\n",
    "\n",
    "-------------------\n",
    "\n",
    "Будет очень хорошо, если ты будешь помечать свои действия следующим образом:\n",
    "<div class=\"alert alert-block alert-warning\">\n",
    "<b>Комментарий студента:</b> ...\n",
    "</div>\n",
    "\n",
    "<div class=\"alert alert-block alert-warning\">\n",
    "<b>Изменения:</b> Были внесены следующие изменения ...\n",
    "</div>\n",
    "\n",
    "### <font color='orange'>Общее впечатление</font>\n",
    "* Большое спасибо за проделанную работу. Видно, что приложено много усилий.\n",
    "* Выводы и рассуждения получились содержательными, их было интересно читать.\n",
    "* Радует, что тебе удалось разобраться с техникой бутстрапа.\n",
    "* Отлично, что доверительный интервал и риск убытков посчитаны верно.\n",
    "* Редко, кто сдает эту работу с первого раза, молодец!\n",
    "* Проект может быть зачтен, но я его отправлю назад, чтобы у тебя была возможность задать вопросы и внести правки, при желании. Однако, ты можешь просто вернуть проект в таком же виде и я его зачту."
   ]
  },
  {
   "cell_type": "markdown",
   "metadata": {},
   "source": [
    "### <font color='orange'>Общее впечатление (ревью 2)</font>\n",
    "* Проект зачтен!\n",
    "* Удачи в дальнейшем обучении и следующих работах!"
   ]
  },
  {
   "cell_type": "markdown",
   "metadata": {},
   "source": [
    "# Выбор локации для скважины"
   ]
  },
  {
   "cell_type": "markdown",
   "metadata": {},
   "source": [
    "Допустим, вы работаете в добывающей компании «ГлавРосГосНефть». Нужно решить, где бурить новую скважину.\n",
    "\n",
    "Вам предоставлены пробы нефти в трёх регионах: в каждом 10 000 месторождений, где измерили качество нефти и объём её запасов. Постройте модель машинного обучения, которая поможет определить регион, где добыча принесёт наибольшую прибыль. Проанализируйте возможную прибыль и риски техникой *Bootstrap.*\n",
    "\n",
    "Шаги для выбора локации:\n",
    "\n",
    "- В избранном регионе ищут месторождения, для каждого определяют значения признаков;\n",
    "- Строят модель и оценивают объём запасов;\n",
    "- Выбирают месторождения с самым высокими оценками значений. Количество месторождений зависит от бюджета компании и стоимости разработки одной скважины;\n",
    "- Прибыль равна суммарной прибыли отобранных месторождений."
   ]
  },
  {
   "cell_type": "markdown",
   "metadata": {},
   "source": [
    "## Загрузка и подготовка данных"
   ]
  },
  {
   "cell_type": "markdown",
   "metadata": {},
   "source": [
    "Импорт библиотек"
   ]
  },
  {
   "cell_type": "code",
   "execution_count": 1,
   "metadata": {},
   "outputs": [],
   "source": [
    "import pandas as pd\n",
    "import numpy as np\n",
    "import matplotlib.pyplot as plt\n",
    "from scipy import stats as st\n",
    "import seaborn as sns\n",
    "from sklearn.model_selection import train_test_split\n",
    "from sklearn.linear_model import LinearRegression\n",
    "from sklearn.metrics import mean_squared_error\n",
    "from numpy.random import RandomState"
   ]
  },
  {
   "cell_type": "markdown",
   "metadata": {},
   "source": [
    "<div class=\"alert alert-block alert-success\">\n",
    "<b>Успех:</b> Отлично, что все импорты собраны в первой ячейке ноутбука! Если у того, кто будет запускать твой ноутбук будут отсутствовать некоторые библиотеки, то он это увидит сразу, а не в процессе!\n",
    "</div>"
   ]
  },
  {
   "cell_type": "markdown",
   "metadata": {},
   "source": [
    "Откроем фрэймы"
   ]
  },
  {
   "cell_type": "code",
   "execution_count": 2,
   "metadata": {},
   "outputs": [],
   "source": [
    "try:\n",
    "    df1 = pd.read_csv('/datasets/geo_data_0.csv')\n",
    "except:\n",
    "    df1 = pd.read_csv('geo_data_0.csv')"
   ]
  },
  {
   "cell_type": "code",
   "execution_count": 3,
   "metadata": {},
   "outputs": [],
   "source": [
    "try:\n",
    "    df2 = pd.read_csv('/datasets/geo_data_1.csv')\n",
    "except:\n",
    "    df2 = pd.read_csv('geo_data_1.csv')"
   ]
  },
  {
   "cell_type": "code",
   "execution_count": 4,
   "metadata": {},
   "outputs": [],
   "source": [
    "try:\n",
    "    df3 = pd.read_csv('/datasets/geo_data_2.csv')\n",
    "except:\n",
    "    df3 = pd.read_csv('geo_data_2.csv')"
   ]
  },
  {
   "cell_type": "markdown",
   "metadata": {},
   "source": [
    "Посмотрим содержимое"
   ]
  },
  {
   "cell_type": "code",
   "execution_count": 5,
   "metadata": {},
   "outputs": [],
   "source": [
    "def get_df_name(df):\n",
    "    name =[x for x in globals() if globals()[x] is df][0]\n",
    "    return name"
   ]
  },
  {
   "cell_type": "code",
   "execution_count": 6,
   "metadata": {},
   "outputs": [
    {
     "name": "stdout",
     "output_type": "stream",
     "text": [
      "Название датафрейма:  df1\n",
      "<class 'pandas.core.frame.DataFrame'>\n",
      "RangeIndex: 100000 entries, 0 to 99999\n",
      "Data columns (total 5 columns):\n",
      " #   Column   Non-Null Count   Dtype  \n",
      "---  ------   --------------   -----  \n",
      " 0   id       100000 non-null  object \n",
      " 1   f0       100000 non-null  float64\n",
      " 2   f1       100000 non-null  float64\n",
      " 3   f2       100000 non-null  float64\n",
      " 4   product  100000 non-null  float64\n",
      "dtypes: float64(4), object(1)\n",
      "memory usage: 3.8+ MB\n"
     ]
    },
    {
     "data": {
      "text/plain": [
       "None"
      ]
     },
     "metadata": {},
     "output_type": "display_data"
    },
    {
     "data": {
      "text/plain": [
       "'Корреляция'"
      ]
     },
     "metadata": {},
     "output_type": "display_data"
    },
    {
     "data": {
      "text/html": [
       "<div>\n",
       "<style scoped>\n",
       "    .dataframe tbody tr th:only-of-type {\n",
       "        vertical-align: middle;\n",
       "    }\n",
       "\n",
       "    .dataframe tbody tr th {\n",
       "        vertical-align: top;\n",
       "    }\n",
       "\n",
       "    .dataframe thead th {\n",
       "        text-align: right;\n",
       "    }\n",
       "</style>\n",
       "<table border=\"1\" class=\"dataframe\">\n",
       "  <thead>\n",
       "    <tr style=\"text-align: right;\">\n",
       "      <th></th>\n",
       "      <th>f0</th>\n",
       "      <th>f1</th>\n",
       "      <th>f2</th>\n",
       "    </tr>\n",
       "  </thead>\n",
       "  <tbody>\n",
       "    <tr>\n",
       "      <th>f0</th>\n",
       "      <td>1.000000</td>\n",
       "      <td>-0.440723</td>\n",
       "      <td>-0.003153</td>\n",
       "    </tr>\n",
       "    <tr>\n",
       "      <th>f1</th>\n",
       "      <td>-0.440723</td>\n",
       "      <td>1.000000</td>\n",
       "      <td>0.001724</td>\n",
       "    </tr>\n",
       "    <tr>\n",
       "      <th>f2</th>\n",
       "      <td>-0.003153</td>\n",
       "      <td>0.001724</td>\n",
       "      <td>1.000000</td>\n",
       "    </tr>\n",
       "  </tbody>\n",
       "</table>\n",
       "</div>"
      ],
      "text/plain": [
       "          f0        f1        f2\n",
       "f0  1.000000 -0.440723 -0.003153\n",
       "f1 -0.440723  1.000000  0.001724\n",
       "f2 -0.003153  0.001724  1.000000"
      ]
     },
     "metadata": {},
     "output_type": "display_data"
    },
    {
     "data": {
      "text/plain": [
       "'Количество явных дубликтов:'"
      ]
     },
     "metadata": {},
     "output_type": "display_data"
    },
    {
     "data": {
      "text/plain": [
       "0"
      ]
     },
     "metadata": {},
     "output_type": "display_data"
    },
    {
     "name": "stdout",
     "output_type": "stream",
     "text": [
      "--------------------------------------------------\n",
      "Название датафрейма:  df2\n",
      "<class 'pandas.core.frame.DataFrame'>\n",
      "RangeIndex: 100000 entries, 0 to 99999\n",
      "Data columns (total 5 columns):\n",
      " #   Column   Non-Null Count   Dtype  \n",
      "---  ------   --------------   -----  \n",
      " 0   id       100000 non-null  object \n",
      " 1   f0       100000 non-null  float64\n",
      " 2   f1       100000 non-null  float64\n",
      " 3   f2       100000 non-null  float64\n",
      " 4   product  100000 non-null  float64\n",
      "dtypes: float64(4), object(1)\n",
      "memory usage: 3.8+ MB\n"
     ]
    },
    {
     "data": {
      "text/plain": [
       "None"
      ]
     },
     "metadata": {},
     "output_type": "display_data"
    },
    {
     "data": {
      "text/plain": [
       "'Корреляция'"
      ]
     },
     "metadata": {},
     "output_type": "display_data"
    },
    {
     "data": {
      "text/html": [
       "<div>\n",
       "<style scoped>\n",
       "    .dataframe tbody tr th:only-of-type {\n",
       "        vertical-align: middle;\n",
       "    }\n",
       "\n",
       "    .dataframe tbody tr th {\n",
       "        vertical-align: top;\n",
       "    }\n",
       "\n",
       "    .dataframe thead th {\n",
       "        text-align: right;\n",
       "    }\n",
       "</style>\n",
       "<table border=\"1\" class=\"dataframe\">\n",
       "  <thead>\n",
       "    <tr style=\"text-align: right;\">\n",
       "      <th></th>\n",
       "      <th>f0</th>\n",
       "      <th>f1</th>\n",
       "      <th>f2</th>\n",
       "    </tr>\n",
       "  </thead>\n",
       "  <tbody>\n",
       "    <tr>\n",
       "      <th>f0</th>\n",
       "      <td>1.000000</td>\n",
       "      <td>0.182287</td>\n",
       "      <td>-0.001777</td>\n",
       "    </tr>\n",
       "    <tr>\n",
       "      <th>f1</th>\n",
       "      <td>0.182287</td>\n",
       "      <td>1.000000</td>\n",
       "      <td>-0.002595</td>\n",
       "    </tr>\n",
       "    <tr>\n",
       "      <th>f2</th>\n",
       "      <td>-0.001777</td>\n",
       "      <td>-0.002595</td>\n",
       "      <td>1.000000</td>\n",
       "    </tr>\n",
       "  </tbody>\n",
       "</table>\n",
       "</div>"
      ],
      "text/plain": [
       "          f0        f1        f2\n",
       "f0  1.000000  0.182287 -0.001777\n",
       "f1  0.182287  1.000000 -0.002595\n",
       "f2 -0.001777 -0.002595  1.000000"
      ]
     },
     "metadata": {},
     "output_type": "display_data"
    },
    {
     "data": {
      "text/plain": [
       "'Количество явных дубликтов:'"
      ]
     },
     "metadata": {},
     "output_type": "display_data"
    },
    {
     "data": {
      "text/plain": [
       "0"
      ]
     },
     "metadata": {},
     "output_type": "display_data"
    },
    {
     "name": "stdout",
     "output_type": "stream",
     "text": [
      "--------------------------------------------------\n",
      "Название датафрейма:  df3\n",
      "<class 'pandas.core.frame.DataFrame'>\n",
      "RangeIndex: 100000 entries, 0 to 99999\n",
      "Data columns (total 5 columns):\n",
      " #   Column   Non-Null Count   Dtype  \n",
      "---  ------   --------------   -----  \n",
      " 0   id       100000 non-null  object \n",
      " 1   f0       100000 non-null  float64\n",
      " 2   f1       100000 non-null  float64\n",
      " 3   f2       100000 non-null  float64\n",
      " 4   product  100000 non-null  float64\n",
      "dtypes: float64(4), object(1)\n",
      "memory usage: 3.8+ MB\n"
     ]
    },
    {
     "data": {
      "text/plain": [
       "None"
      ]
     },
     "metadata": {},
     "output_type": "display_data"
    },
    {
     "data": {
      "text/plain": [
       "'Корреляция'"
      ]
     },
     "metadata": {},
     "output_type": "display_data"
    },
    {
     "data": {
      "text/html": [
       "<div>\n",
       "<style scoped>\n",
       "    .dataframe tbody tr th:only-of-type {\n",
       "        vertical-align: middle;\n",
       "    }\n",
       "\n",
       "    .dataframe tbody tr th {\n",
       "        vertical-align: top;\n",
       "    }\n",
       "\n",
       "    .dataframe thead th {\n",
       "        text-align: right;\n",
       "    }\n",
       "</style>\n",
       "<table border=\"1\" class=\"dataframe\">\n",
       "  <thead>\n",
       "    <tr style=\"text-align: right;\">\n",
       "      <th></th>\n",
       "      <th>f0</th>\n",
       "      <th>f1</th>\n",
       "      <th>f2</th>\n",
       "    </tr>\n",
       "  </thead>\n",
       "  <tbody>\n",
       "    <tr>\n",
       "      <th>f0</th>\n",
       "      <td>1.000000</td>\n",
       "      <td>0.000528</td>\n",
       "      <td>-0.000448</td>\n",
       "    </tr>\n",
       "    <tr>\n",
       "      <th>f1</th>\n",
       "      <td>0.000528</td>\n",
       "      <td>1.000000</td>\n",
       "      <td>0.000779</td>\n",
       "    </tr>\n",
       "    <tr>\n",
       "      <th>f2</th>\n",
       "      <td>-0.000448</td>\n",
       "      <td>0.000779</td>\n",
       "      <td>1.000000</td>\n",
       "    </tr>\n",
       "  </tbody>\n",
       "</table>\n",
       "</div>"
      ],
      "text/plain": [
       "          f0        f1        f2\n",
       "f0  1.000000  0.000528 -0.000448\n",
       "f1  0.000528  1.000000  0.000779\n",
       "f2 -0.000448  0.000779  1.000000"
      ]
     },
     "metadata": {},
     "output_type": "display_data"
    },
    {
     "data": {
      "text/plain": [
       "'Количество явных дубликтов:'"
      ]
     },
     "metadata": {},
     "output_type": "display_data"
    },
    {
     "data": {
      "text/plain": [
       "0"
      ]
     },
     "metadata": {},
     "output_type": "display_data"
    },
    {
     "name": "stdout",
     "output_type": "stream",
     "text": [
      "--------------------------------------------------\n"
     ]
    }
   ],
   "source": [
    "dfs = [df1, df2, df3]\n",
    "for df in dfs:\n",
    "    print('Название датафрейма: ',get_df_name(df))\n",
    "    display(df.info())\n",
    "    display('Корреляция',df[['id', 'f0', 'f1', 'f2']].corr())\n",
    "    display('Количество явных дубликтов:', df.duplicated().sum())\n",
    "    print('-' * 50)"
   ]
  },
  {
   "cell_type": "markdown",
   "metadata": {},
   "source": [
    "Все таблицы имеют нормальную структуру, не имеют нулевых значений.\n",
    "\n",
    "id — уникальный идентификатор скважины;\n",
    "f0, f1, f2 — три признака(неважно, что они означают, но сами признаки значимы);\n",
    "product — объём запасов в скважине (тыс. баррелей).\n",
    "В первом датафрейме наблюдается значительная отрицательная корреляция между 0 и 1 признаком. В остальных датафреймах корреляции несущественны.\n",
    "Явных дубликатов в таблицах не обнаружено."
   ]
  },
  {
   "cell_type": "code",
   "execution_count": 7,
   "metadata": {},
   "outputs": [
    {
     "data": {
      "text/plain": [
       "<AxesSubplot:>"
      ]
     },
     "execution_count": 7,
     "metadata": {},
     "output_type": "execute_result"
    },
    {
     "data": {
      "image/png": "[encoded data removed]",
      "text/plain": [
       "<Figure size 432x288 with 2 Axes>"
      ]
     },
     "metadata": {
      "needs_background": "light"
     },
     "output_type": "display_data"
    }
   ],
   "source": [
    "sns.heatmap (df1.corr(), cmap='Blues', annot=True)"
   ]
  },
  {
   "cell_type": "code",
   "execution_count": 8,
   "metadata": {},
   "outputs": [
    {
     "data": {
      "text/plain": [
       "<AxesSubplot:>"
      ]
     },
     "execution_count": 8,
     "metadata": {},
     "output_type": "execute_result"
    },
    {
     "data": {
      "image/png": "[encoded data removed]",
      "text/plain": [
       "<Figure size 432x288 with 2 Axes>"
      ]
     },
     "metadata": {
      "needs_background": "light"
     },
     "output_type": "display_data"
    }
   ],
   "source": [
    "sns.heatmap (df2.corr(), cmap='Blues', annot=True)"
   ]
  },
  {
   "cell_type": "code",
   "execution_count": 9,
   "metadata": {},
   "outputs": [
    {
     "data": {
      "text/plain": [
       "<AxesSubplot:>"
      ]
     },
     "execution_count": 9,
     "metadata": {},
     "output_type": "execute_result"
    },
    {
     "data": {
      "image/png": "[encoded data removed]",
      "text/plain": [
       "<Figure size 432x288 with 2 Axes>"
      ]
     },
     "metadata": {
      "needs_background": "light"
     },
     "output_type": "display_data"
    }
   ],
   "source": [
    "sns.heatmap (df3.corr(), cmap='Blues', annot=True)"
   ]
  },
  {
   "cell_type": "markdown",
   "metadata": {},
   "source": [
    "Удалим колонку с индентификатором т.к. она не на что не влияет и только усложнит работу."
   ]
  },
  {
   "cell_type": "code",
   "execution_count": 10,
   "metadata": {},
   "outputs": [],
   "source": [
    "df1 = df1.drop(columns=['id'])\n",
    "df2 = df2.drop(columns=['id'])\n",
    "df3 = df3.drop(columns=['id'])"
   ]
  },
  {
   "cell_type": "markdown",
   "metadata": {},
   "source": [
    "Изучим гистограммы по столбцу product:"
   ]
  },
  {
   "cell_type": "code",
   "execution_count": 11,
   "metadata": {},
   "outputs": [],
   "source": [
    "def oil_hist(seria, bins, xlim_max, ylim_max):\n",
    "    plt.figure(figsize=[12,9])\n",
    "    plt.hist(seria, bins=bins)\n",
    "    plt.xlim([0,xlim_max])\n",
    "    plt.ylim([0,ylim_max])\n",
    "    plt.xlabel(\"Объем нефти на скважину, тыс. барелей\")\n",
    "    plt.ylabel(\"Количество скважин\")\n",
    "    plt.title(\"Гистограмма распределения по объему скважин\")\n",
    "    plt.show()"
   ]
  },
  {
   "cell_type": "code",
   "execution_count": 12,
   "metadata": {},
   "outputs": [
    {
     "data": {
      "image/png": "[encoded data removed]",
      "text/plain": [
       "<Figure size 864x648 with 1 Axes>"
      ]
     },
     "metadata": {
      "needs_background": "light"
     },
     "output_type": "display_data"
    }
   ],
   "source": [
    "oil_hist(df1['product'], 200, 190, 1000)"
   ]
  },
  {
   "cell_type": "code",
   "execution_count": 13,
   "metadata": {},
   "outputs": [
    {
     "data": {
      "image/png": "[encoded data removed]",
      "text/plain": [
       "<Figure size 864x648 with 1 Axes>"
      ]
     },
     "metadata": {
      "needs_background": "light"
     },
     "output_type": "display_data"
    }
   ],
   "source": [
    "oil_hist(df2['product'], 50, 150, 10000)"
   ]
  },
  {
   "cell_type": "code",
   "execution_count": 14,
   "metadata": {},
   "outputs": [
    {
     "data": {
      "image/png": "[encoded data removed]",
      "text/plain": [
       "<Figure size 864x648 with 1 Axes>"
      ]
     },
     "metadata": {
      "needs_background": "light"
     },
     "output_type": "display_data"
    }
   ],
   "source": [
    "oil_hist(df3['product'], 200, 190, 1000)"
   ]
  },
  {
   "cell_type": "markdown",
   "metadata": {},
   "source": [
    "Ознакомившись с данными мы увидели многое в частности:\n",
    "\n",
    "Все таблицы имеют одинаковую, нормальную структуру, и не имеют пустых значений.\n",
    "В каждой отдельно взятой таблице отсутсуют явные дубликаты.\n",
    "Анализ на корреляцию внутри данных выявил, что во втором и третьем датафрейме объектов с сильной корреляцией (положительной или отрицательной) нет. А вот в первом датафрейме наблюдается взаимосвзять между первым и вторым признаком. То есть чем ниже один признак тем ниже второй. \n",
    "В каждой таблице присутствует столбец с идентификатором скважины для построения нашей модели этот признак не нужен, поэтому мы его убрали. На графиках отчётливо видно аномально большие показатели во 2 датафрэйме."
   ]
  },
  {
   "cell_type": "markdown",
   "metadata": {},
   "source": [
    "<div class=\"alert alert-block alert-success\">\n",
    "<b>Успех:</b> Данные загружены и осмотрены корректно. Согласен, что колонка id нам не нужна. Радует, что распределения и корреляции были визуализированы!\n",
    "</div>"
   ]
  },
  {
   "cell_type": "markdown",
   "metadata": {},
   "source": [
    "## Обучение и проверка модели"
   ]
  },
  {
   "cell_type": "markdown",
   "metadata": {},
   "source": [
    "Разобъём данные на обучающую и валидационную выборки в соотношении 75:25.\n",
    "Обучим модель и сделаем предсказания на валидационной выборке;\n",
    "Сохраним предсказания и правильные ответы на валидационной выборке;\n",
    "Напечатаем на экране средний запас предсказанного сырья и RMSE модели."
   ]
  },
  {
   "cell_type": "markdown",
   "metadata": {},
   "source": [
    "Для обучения модели подходит только линейная регрессия (остальные — недостаточно предсказуемые)."
   ]
  },
  {
   "cell_type": "code",
   "execution_count": 15,
   "metadata": {},
   "outputs": [],
   "source": [
    "def tar_feat(df):\n",
    "    target = df['product']\n",
    "    features = df.drop('product', axis=1)\n",
    "    return features, target"
   ]
  },
  {
   "cell_type": "code",
   "execution_count": 16,
   "metadata": {},
   "outputs": [],
   "source": [
    "def train_valid(df):\n",
    "    features,target = tar_feat(df)\n",
    "    \n",
    "    train_features, valid_features, train_target, valid_target = train_test_split(\n",
    "    features, target, test_size=.75, random_state=12345)\n",
    "    \n",
    "    return train_features, valid_features, train_target, valid_target"
   ]
  },
  {
   "cell_type": "code",
   "execution_count": 17,
   "metadata": {},
   "outputs": [],
   "source": [
    "def model_tr_val(df):\n",
    "    model = LinearRegression()\n",
    "    features, target = tar_feat(df)\n",
    "    train_features, valid_features, train_target, valid_target = train_valid(df)\n",
    "    \n",
    "    model.fit(train_features, train_target)\n",
    "    predict = model.predict(valid_features)\n",
    "    rmse = mean_squared_error(valid_target, predict) ** 0.5\n",
    "    predict_mean = 'Средний запас сырья по датафрейму в предсказаниях:', predict.mean()\n",
    "    rmse_total = 'RMSE региона:' + str(rmse) \n",
    "    return predict_mean, rmse_total"
   ]
  },
  {
   "cell_type": "code",
   "execution_count": 18,
   "metadata": {},
   "outputs": [
    {
     "data": {
      "text/plain": [
       "(('Средний запас сырья по датафрейму в предсказаниях:', 92.56773277214636),\n",
       " 'RMSE региона:37.70188872577138')"
      ]
     },
     "execution_count": 18,
     "metadata": {},
     "output_type": "execute_result"
    }
   ],
   "source": [
    "model_tr_val(df1)"
   ]
  },
  {
   "cell_type": "code",
   "execution_count": 19,
   "metadata": {},
   "outputs": [
    {
     "data": {
      "text/plain": [
       "(('Средний запас сырья по датафрейму в предсказаниях:', 68.81242584773999),\n",
       " 'RMSE региона:0.8914237412897416')"
      ]
     },
     "execution_count": 19,
     "metadata": {},
     "output_type": "execute_result"
    }
   ],
   "source": [
    "model_tr_val(df2)"
   ]
  },
  {
   "cell_type": "code",
   "execution_count": 20,
   "metadata": {},
   "outputs": [
    {
     "data": {
      "text/plain": [
       "(('Средний запас сырья по датафрейму в предсказаниях:', 94.94516837037592),\n",
       " 'RMSE региона:40.03777476932527')"
      ]
     },
     "execution_count": 20,
     "metadata": {},
     "output_type": "execute_result"
    }
   ],
   "source": [
    "model_tr_val(df3)"
   ]
  },
  {
   "cell_type": "markdown",
   "metadata": {},
   "source": [
    "На втором шаге мы сделали:\n",
    "\n",
    "Разделили для каждого датафрейма выборки на обучающую и валидную в соотношении 1 к 4.\n",
    "Обучили модель линейной регрессии для каждого датафрейма на обучающей выборке и предсказали на валидной.\n",
    "Посчитали среднеквадратичную ошибку для каждого. Для второго региона получили очень низкую ошибку. Можно сделать вывод, данные в этои дф самые репрезентативные и \"полезные\" для обечения и предсказания модели."
   ]
  },
  {
   "cell_type": "markdown",
   "metadata": {},
   "source": [
    "<div class=\"alert alert-block alert-info\">\n",
    "<b>Совет: </b> Перед обучением линейных моделей желательно нормализовать признаки, при этом scaler должен быть обучен только на треине.\n",
    "</div>\n",
    "\n",
    "<div class=\"alert alert-block alert-success\">\n",
    "<b>Успех:</b> Модели обучены корректно. Радует, что ты активно используешь функции. Это помогает избежать дублирования кода, а значит уменьшает вероятность совершить ошибку/опечатку!\n",
    "</div>"
   ]
  },
  {
   "cell_type": "markdown",
   "metadata": {},
   "source": [
    "## Подготовка к расчёту прибыли"
   ]
  },
  {
   "cell_type": "markdown",
   "metadata": {},
   "source": [
    "Условия: При разведке региона исследуют 500 точек, из которых с помощью машинного обучения выбирают 200 лучших для разработки.\n",
    "Бюджет на разработку скважин в регионе — 10 млрд рублей.\n",
    "При нынешних ценах один баррель сырья приносит 450 рублей дохода. Доход с каждой единицы продукта составляет 450 тыс. рублей, поскольку объём указан в тысячах баррелей.\n",
    "Все ключевые значения для расчётов сохраним в отдельных переменных.\n",
    "Рассчитаем достаточный объём сырья для безубыточной разработки новой скважины. Сравним полученный объём сырья со средним запасом в каждом регионе."
   ]
  },
  {
   "cell_type": "code",
   "execution_count": 21,
   "metadata": {
    "scrolled": true
   },
   "outputs": [
    {
     "name": "stdout",
     "output_type": "stream",
     "text": [
      "Cредний запас сырья в 1 регионе: 92.50 млн.баррелей\n",
      "Cредний запас сырья в 2 регионе: 68.83 млн.баррелей\n",
      "Cредний запас сырья в 3 регионе: 95.00 млн.баррелей\n"
     ]
    }
   ],
   "source": [
    "BUDGET = 10000 #Бюджет на разработку скважин в регионе, тыс.руб\n",
    "INCOME_ONE_PROD = 0.45 #Доход с каждой единицы продукта, тыс.руб\n",
    "target_probability_losses = 2.5/100 # вероятность убытков\n",
    "product_mean_0 = df1['product'].mean()\n",
    "product_mean_1 = df2['product'].mean()\n",
    "product_mean_2 = df3['product'].mean()\n",
    "print('Cредний запас сырья в 1 регионе: %.2f млн.баррелей'%product_mean_0)\n",
    "print('Cредний запас сырья в 2 регионе: %.2f млн.баррелей'%product_mean_1)\n",
    "print('Cредний запас сырья в 3 регионе: %.2f млн.баррелей'%product_mean_2)"
   ]
  },
  {
   "cell_type": "code",
   "execution_count": 22,
   "metadata": {},
   "outputs": [
    {
     "name": "stdout",
     "output_type": "stream",
     "text": [
      "Бюджет на разработку одной лучшей скважины: 50.0 тыс.руб\n"
     ]
    }
   ],
   "source": [
    "budg_per_1_point=(BUDGET/200)# тыс.руб\n",
    "print('Бюджет на разработку одной лучшей скважины:', budg_per_1_point,'тыс.руб')"
   ]
  },
  {
   "cell_type": "code",
   "execution_count": 29,
   "metadata": {},
   "outputs": [
    {
     "name": "stdout",
     "output_type": "stream",
     "text": [
      "Объём каждой скважины для безубыточной разработки должен составлять не менее: 111.11 тыс.баррелей\n"
     ]
    }
   ],
   "source": [
    "WELL_BUDGET = BUDGET/0.45\n",
    "# достаточный объём сырья для безубыточной разработки новой скважины\n",
    "BREAK_EVEN = WELL_BUDGET / 200\n",
    "print('Объём каждой скважины для безубыточной разработки должен составлять не менее: %.2f'%BREAK_EVEN,'тыс.баррелей')"
   ]
  },
  {
   "cell_type": "markdown",
   "metadata": {},
   "source": [
    "То есть для самоокупаемости средний запас на скажину должен быть чуть более 111 тыс. баррелей  у всех 3-х регионов предсказанный запас ниже безубыточного.\n",
    "\n",
    "Напишем функцию для расчёта прибыли по выбранным скважинам и предсказаниям модели"
   ]
  },
  {
   "cell_type": "markdown",
   "metadata": {},
   "source": [
    "\n",
    "\n",
    "<div class=\"alert alert-block alert-success\">\n",
    "<b>Успех:</b> Точка безубыточности найдена верно, сравнение проведено!\n",
    "</div>"
   ]
  },
  {
   "cell_type": "code",
   "execution_count": 24,
   "metadata": {},
   "outputs": [],
   "source": [
    "def profit(target, predictions):\n",
    "    # Выбираем топовые предсказания\n",
    "    preds_sorted  = predictions.sort_values(ascending=False)\n",
    "    # Суммируем соответствующие топ-200 реальные значения, считаем выручку и вычитаем бюджетные расходы\n",
    "    selected = target[preds_sorted.index][:200].sum()\n",
    "    return selected * 0.45 - BUDGET"
   ]
  },
  {
   "cell_type": "markdown",
   "metadata": {},
   "source": [
    "Вывод: Мы рассчитали достаточный объем сырья для безубыточной разработки новой скважины, для этого у нас выбраны 200 точек для разработки, и на эти точки 10 млрд рублей. В результате расчётов мы получили цифру безубыточности 111 тыс.баррелей. По итогу, по всем предсказанным моделям никто из них эту черту не пересечёт.\n",
    "Также мы написали функцию для расчёта прибыли по выбранным скважинам и предсаказаниям модели"
   ]
  },
  {
   "cell_type": "markdown",
   "metadata": {},
   "source": [
    "## Расчёт прибыли и рисков "
   ]
  },
  {
   "cell_type": "markdown",
   "metadata": {},
   "source": [
    "Применим технику Bootstrap с 1000 выборок, чтобы найти распределение прибыли.\n",
    "Найдём среднюю прибыль, 95%-й доверительный интервал и риск убытков. Убыток — это отрицательная прибыль."
   ]
  },
  {
   "cell_type": "code",
   "execution_count": 25,
   "metadata": {},
   "outputs": [],
   "source": [
    "def bootstrap(df):\n",
    "    model = LinearRegression()\n",
    "    features, target = tar_feat(df)\n",
    "    train_features, valid_features, train_target, valid_target = train_valid(df)\n",
    "    \n",
    "    model.fit(train_features, train_target)\n",
    "    state = RandomState(12345)\n",
    "    predict = model.predict(valid_features)\n",
    "    predict = pd.Series(predict)\n",
    "    valid_target.reset_index(drop=True, inplace=True)\n",
    "    values = []\n",
    "    for i in range(1000):\n",
    "        target_subsample = valid_target.sample(\n",
    "            n = 500, \n",
    "            replace = True, \n",
    "            random_state=state)\n",
    "        predict_sample = predict[target_subsample.index]\n",
    "\n",
    "        values.append(profit(target_subsample,predict_sample))\n",
    "\n",
    "    values = pd.Series(values)\n",
    "    lower = values.quantile(0.025)\n",
    "    upper = values.quantile(0.975) \n",
    "    risk = (values < 0).mean()\n",
    "    mean = values.mean() \n",
    "        \n",
    "    return  f'Средняя выручка: {mean}',  f'-2,5%-квантиль: {lower}' , f'+2,5%-квантиль: {upper}' ,f'Риск: {risk:.2%}',f'Размах интервала:{(upper-lower)}'"
   ]
  },
  {
   "cell_type": "markdown",
   "metadata": {},
   "source": [
    "<div class=\"alert alert-block alert-success\">\n",
    "<b>Успех:</b> Отлично, что для подсчета доверительного интервала использовался именно метод квантилей!\n",
    "</div>\n",
    "\n",
    "<div class=\"alert alert-block alert-success\">\n",
    "<b>Успех:</b> Риск найден очень элегантно.\n",
    "</div>"
   ]
  },
  {
   "cell_type": "code",
   "execution_count": 26,
   "metadata": {},
   "outputs": [
    {
     "data": {
      "text/plain": [
       "('Средняя выручка: 444.48140534475226',\n",
       " '-2,5%-квантиль: -80.99876718613217',\n",
       " '+2,5%-квантиль: 935.3768100621168',\n",
       " 'Риск: 4.80%',\n",
       " 'Размах интервала:1016.3755772482489')"
      ]
     },
     "execution_count": 26,
     "metadata": {},
     "output_type": "execute_result"
    }
   ],
   "source": [
    "bootstrap(df1)"
   ]
  },
  {
   "cell_type": "code",
   "execution_count": 27,
   "metadata": {},
   "outputs": [
    {
     "data": {
      "text/plain": [
       "('Средняя выручка: 477.01901392440857',\n",
       " '-2,5%-квантиль: 43.94819723158603',\n",
       " '+2,5%-квантиль: 928.8123535942925',\n",
       " 'Риск: 1.20%',\n",
       " 'Размах интервала:884.8641563627065')"
      ]
     },
     "execution_count": 27,
     "metadata": {},
     "output_type": "execute_result"
    }
   ],
   "source": [
    "bootstrap(df2)"
   ]
  },
  {
   "cell_type": "code",
   "execution_count": 28,
   "metadata": {},
   "outputs": [
    {
     "data": {
      "text/plain": [
       "('Средняя выручка: 385.9155321056723',\n",
       " '-2,5%-квантиль: -122.44020484745636',\n",
       " '+2,5%-квантиль: 874.8417830900089',\n",
       " 'Риск: 7.00%',\n",
       " 'Размах интервала:997.2819879374653')"
      ]
     },
     "execution_count": 28,
     "metadata": {},
     "output_type": "execute_result"
    }
   ],
   "source": [
    "bootstrap(df3)"
   ]
  },
  {
   "cell_type": "markdown",
   "metadata": {},
   "source": [
    "Применив технику Bootstrap с 1000 выборок мы нашли среднюю прибыль, 95%-й доверительный интервал и риск убытков\n",
    "По результатам лучше всех себя показал второй регион. У него (по сравнению с другмими) наименьший доверительный интервал, но также и самый маленьких риск. К слову когда мы обучали модель линейной регрессии лучший результат также был у второго региона. Причём запасов сырья у них (по предскзанию) меньше всего. Подозреваю, что это связано, но как именно пока не могу осознать."
   ]
  },
  {
   "cell_type": "markdown",
   "metadata": {},
   "source": [
    "<div class=\"alert alert-block alert-success\">\n",
    "<b>Успех:</b> Приятно видеть вывод в конце проекта! С выбором региона согласен. В этом регионе мы предсказываем точнее, но в нем меньше запасов нефти в среднем. Несмотря на это, он получился наиболее прибыльным.\n",
    "</div>"
   ]
  },
  {
   "cell_type": "markdown",
   "metadata": {},
   "source": [
    "## Чек-лист готовности проекта"
   ]
  },
  {
   "cell_type": "markdown",
   "metadata": {},
   "source": [
    "Поставьте 'x' в выполненных пунктах. Далее нажмите Shift+Enter."
   ]
  },
  {
   "cell_type": "markdown",
   "metadata": {},
   "source": [
    "- [x]  Jupyter Notebook открыт\n",
    "- [x]  Весь код выполняется без ошибок\n",
    "- [x]  Ячейки с кодом расположены в порядке исполнения\n",
    "- [x]  Выполнен шаг 1: данные подготовлены\n",
    "- [x]  Выполнен шаг 2: модели обучены и проверены\n",
    "    - [x]  Данные корректно разбиты на обучающую и валидационную выборки\n",
    "    - [x]  Модели обучены, предсказания сделаны\n",
    "    - [x]  Предсказания и правильные ответы на валидационной выборке сохранены\n",
    "    - [x]  На экране напечатаны результаты\n",
    "    - [x]  Сделаны выводы\n",
    "- [x]  Выполнен шаг 3: проведена подготовка к расчёту прибыли\n",
    "    - [x]  Для всех ключевых значений созданы константы Python\n",
    "    - [x]  Посчитано минимальное среднее количество продукта в месторождениях региона, достаточное для разработки\n",
    "    - [x]  По предыдущему пункту сделаны выводы\n",
    "    - [x]  Написана функция расчёта прибыли\n",
    "- [x]  Выполнен шаг 4: посчитаны риски и прибыль\n",
    "    - [x]  Проведена процедура *Bootstrap*\n",
    "    - [x]  Все параметры бутстрепа соответствуют условию\n",
    "    - [x]  Найдены все нужные величины\n",
    "    - [x]  Предложен регион для разработки месторождения\n",
    "    - [x]  Выбор региона обоснован"
   ]
  },
  {
   "cell_type": "code",
   "execution_count": null,
   "metadata": {},
   "outputs": [],
   "source": []
  }
 ],
 "metadata": {
  "ExecuteTimeLog": [
   {
    "duration": 1579,
    "start_time": "2023-03-16T07:00:49.906Z"
   },
   {
    "duration": 221,
    "start_time": "2023-03-16T07:00:51.487Z"
   },
   {
    "duration": 203,
    "start_time": "2023-03-16T07:00:51.709Z"
   },
   {
    "duration": 208,
    "start_time": "2023-03-16T07:00:51.914Z"
   },
   {
    "duration": 3,
    "start_time": "2023-03-16T07:01:28.347Z"
   },
   {
    "duration": 3,
    "start_time": "2023-03-16T07:02:05.893Z"
   },
   {
    "duration": 281,
    "start_time": "2023-03-16T07:02:06.430Z"
   },
   {
    "duration": 233,
    "start_time": "2023-03-16T07:02:27.706Z"
   },
   {
    "duration": 3,
    "start_time": "2023-03-16T07:02:43.335Z"
   },
   {
    "duration": 256,
    "start_time": "2023-03-16T07:02:44.618Z"
   },
   {
    "duration": 3,
    "start_time": "2023-03-16T07:03:11.906Z"
   },
   {
    "duration": 237,
    "start_time": "2023-03-16T07:03:12.403Z"
   },
   {
    "duration": 218,
    "start_time": "2023-03-16T07:05:38.801Z"
   },
   {
    "duration": 221,
    "start_time": "2023-03-16T07:09:21.296Z"
   },
   {
    "duration": 287,
    "start_time": "2023-03-16T07:09:35.323Z"
   },
   {
    "duration": 1291,
    "start_time": "2023-03-16T07:42:11.536Z"
   },
   {
    "duration": 141,
    "start_time": "2023-03-16T07:42:12.829Z"
   },
   {
    "duration": 120,
    "start_time": "2023-03-16T07:42:12.973Z"
   },
   {
    "duration": 123,
    "start_time": "2023-03-16T07:42:13.095Z"
   },
   {
    "duration": 4,
    "start_time": "2023-03-16T07:42:13.220Z"
   },
   {
    "duration": 266,
    "start_time": "2023-03-16T07:42:13.226Z"
   },
   {
    "duration": 3,
    "start_time": "2023-03-16T07:42:13.494Z"
   },
   {
    "duration": 717,
    "start_time": "2023-03-16T07:42:13.499Z"
   },
   {
    "duration": 332,
    "start_time": "2023-03-16T07:42:14.218Z"
   },
   {
    "duration": 338,
    "start_time": "2023-03-16T07:42:14.552Z"
   },
   {
    "duration": 300,
    "start_time": "2023-03-16T07:42:14.891Z"
   },
   {
    "duration": 10,
    "start_time": "2023-03-16T07:42:15.193Z"
   },
   {
    "duration": 504,
    "start_time": "2023-03-16T07:45:11.107Z"
   },
   {
    "duration": 295,
    "start_time": "2023-03-16T07:45:24.724Z"
   },
   {
    "duration": 818,
    "start_time": "2023-03-16T09:57:32.899Z"
   },
   {
    "duration": 852,
    "start_time": "2023-03-16T09:58:04.180Z"
   },
   {
    "duration": 352,
    "start_time": "2023-03-16T10:00:00.684Z"
   },
   {
    "duration": 30,
    "start_time": "2023-03-16T10:00:03.285Z"
   },
   {
    "duration": 1613,
    "start_time": "2023-03-16T10:00:21.633Z"
   },
   {
    "duration": 171,
    "start_time": "2023-03-16T10:00:23.248Z"
   },
   {
    "duration": 132,
    "start_time": "2023-03-16T10:00:23.421Z"
   },
   {
    "duration": 133,
    "start_time": "2023-03-16T10:00:23.555Z"
   },
   {
    "duration": 12,
    "start_time": "2023-03-16T10:00:23.694Z"
   },
   {
    "duration": 325,
    "start_time": "2023-03-16T10:00:23.710Z"
   },
   {
    "duration": 421,
    "start_time": "2023-03-16T10:00:24.037Z"
   },
   {
    "duration": 381,
    "start_time": "2023-03-16T10:00:24.461Z"
   },
   {
    "duration": 392,
    "start_time": "2023-03-16T10:00:24.844Z"
   },
   {
    "duration": 11,
    "start_time": "2023-03-16T10:00:25.239Z"
   },
   {
    "duration": 1630,
    "start_time": "2023-03-16T10:25:15.886Z"
   },
   {
    "duration": 199,
    "start_time": "2023-03-16T10:25:17.518Z"
   },
   {
    "duration": 159,
    "start_time": "2023-03-16T10:25:17.719Z"
   },
   {
    "duration": 156,
    "start_time": "2023-03-16T10:25:17.880Z"
   },
   {
    "duration": 4,
    "start_time": "2023-03-16T10:25:18.038Z"
   },
   {
    "duration": 312,
    "start_time": "2023-03-16T10:25:18.044Z"
   },
   {
    "duration": 396,
    "start_time": "2023-03-16T10:25:18.358Z"
   },
   {
    "duration": 364,
    "start_time": "2023-03-16T10:25:18.755Z"
   },
   {
    "duration": 335,
    "start_time": "2023-03-16T10:25:19.121Z"
   },
   {
    "duration": 12,
    "start_time": "2023-03-16T10:25:19.458Z"
   },
   {
    "duration": 24,
    "start_time": "2023-03-16T10:25:19.472Z"
   },
   {
    "duration": 131,
    "start_time": "2023-03-16T10:25:19.506Z"
   },
   {
    "duration": 13,
    "start_time": "2023-03-16T10:25:29.446Z"
   },
   {
    "duration": 4,
    "start_time": "2023-03-16T10:26:20.139Z"
   },
   {
    "duration": 14,
    "start_time": "2023-03-16T10:26:20.771Z"
   },
   {
    "duration": 1590,
    "start_time": "2023-03-16T10:27:02.180Z"
   },
   {
    "duration": 164,
    "start_time": "2023-03-16T10:27:03.771Z"
   },
   {
    "duration": 137,
    "start_time": "2023-03-16T10:27:03.937Z"
   },
   {
    "duration": 150,
    "start_time": "2023-03-16T10:27:04.075Z"
   },
   {
    "duration": 4,
    "start_time": "2023-03-16T10:27:04.227Z"
   },
   {
    "duration": 323,
    "start_time": "2023-03-16T10:27:04.233Z"
   },
   {
    "duration": 381,
    "start_time": "2023-03-16T10:27:04.558Z"
   },
   {
    "duration": 393,
    "start_time": "2023-03-16T10:27:04.942Z"
   },
   {
    "duration": 362,
    "start_time": "2023-03-16T10:27:05.337Z"
   },
   {
    "duration": 17,
    "start_time": "2023-03-16T10:27:05.702Z"
   },
   {
    "duration": 9,
    "start_time": "2023-03-16T10:27:05.720Z"
   },
   {
    "duration": 525,
    "start_time": "2023-03-16T10:27:05.730Z"
   },
   {
    "duration": 478,
    "start_time": "2023-03-16T10:27:50.249Z"
   },
   {
    "duration": 436,
    "start_time": "2023-03-16T10:28:00.844Z"
   },
   {
    "duration": 231,
    "start_time": "2023-03-16T10:28:47.698Z"
   },
   {
    "duration": 277,
    "start_time": "2023-03-16T10:28:57.180Z"
   },
   {
    "duration": 288,
    "start_time": "2023-03-16T10:29:06.747Z"
   },
   {
    "duration": 425,
    "start_time": "2023-03-16T10:29:26.043Z"
   },
   {
    "duration": 228,
    "start_time": "2023-03-16T10:42:51.664Z"
   },
   {
    "duration": 240,
    "start_time": "2023-03-16T10:43:03.780Z"
   },
   {
    "duration": 226,
    "start_time": "2023-03-16T10:43:16.656Z"
   },
   {
    "duration": 4,
    "start_time": "2023-03-16T11:00:44.575Z"
   },
   {
    "duration": 3,
    "start_time": "2023-03-16T11:00:45.208Z"
   },
   {
    "duration": 4,
    "start_time": "2023-03-16T11:00:45.833Z"
   },
   {
    "duration": 39,
    "start_time": "2023-03-16T11:00:46.577Z"
   },
   {
    "duration": 68,
    "start_time": "2023-03-16T11:00:47.223Z"
   },
   {
    "duration": 26,
    "start_time": "2023-03-16T11:00:47.888Z"
   },
   {
    "duration": 4,
    "start_time": "2023-03-16T11:28:23.431Z"
   },
   {
    "duration": 6,
    "start_time": "2023-03-16T11:28:24.133Z"
   },
   {
    "duration": 114,
    "start_time": "2023-03-16T11:28:24.900Z"
   },
   {
    "duration": 6,
    "start_time": "2023-03-16T11:28:36.434Z"
   },
   {
    "duration": 23,
    "start_time": "2023-03-16T11:28:36.990Z"
   },
   {
    "duration": 26,
    "start_time": "2023-03-16T11:28:39.287Z"
   },
   {
    "duration": 26,
    "start_time": "2023-03-16T11:28:40.035Z"
   },
   {
    "duration": 4,
    "start_time": "2023-03-16T11:33:02.891Z"
   },
   {
    "duration": 14,
    "start_time": "2023-03-16T11:33:03.487Z"
   },
   {
    "duration": 4,
    "start_time": "2023-03-16T11:33:09.311Z"
   },
   {
    "duration": 31,
    "start_time": "2023-03-16T11:33:10.994Z"
   },
   {
    "duration": 78,
    "start_time": "2023-03-16T11:50:01.479Z"
   },
   {
    "duration": 4,
    "start_time": "2023-03-16T11:50:12.210Z"
   },
   {
    "duration": 27,
    "start_time": "2023-03-16T11:50:12.895Z"
   },
   {
    "duration": 5,
    "start_time": "2023-03-16T12:05:30.612Z"
   },
   {
    "duration": 3,
    "start_time": "2023-03-16T12:09:10.398Z"
   },
   {
    "duration": 3,
    "start_time": "2023-03-16T12:09:14.932Z"
   },
   {
    "duration": 11,
    "start_time": "2023-03-16T12:12:08.987Z"
   },
   {
    "duration": 10,
    "start_time": "2023-03-16T12:12:26.188Z"
   },
   {
    "duration": 6,
    "start_time": "2023-03-16T12:13:15.806Z"
   },
   {
    "duration": 4,
    "start_time": "2023-03-16T12:18:44.330Z"
   },
   {
    "duration": 4,
    "start_time": "2023-03-16T12:21:55.291Z"
   },
   {
    "duration": 3,
    "start_time": "2023-03-16T12:31:22.348Z"
   },
   {
    "duration": 47,
    "start_time": "2023-03-16T12:32:08.140Z"
   },
   {
    "duration": 4,
    "start_time": "2023-03-16T12:32:16.687Z"
   },
   {
    "duration": 5,
    "start_time": "2023-03-16T12:32:42.984Z"
   },
   {
    "duration": 4,
    "start_time": "2023-03-16T12:33:18.065Z"
   },
   {
    "duration": 3,
    "start_time": "2023-03-16T12:34:59.812Z"
   },
   {
    "duration": 4,
    "start_time": "2023-03-16T12:40:50.243Z"
   },
   {
    "duration": 4,
    "start_time": "2023-03-16T12:41:18.428Z"
   },
   {
    "duration": 1728,
    "start_time": "2023-03-20T13:43:33.378Z"
   },
   {
    "duration": 244,
    "start_time": "2023-03-20T13:43:35.108Z"
   },
   {
    "duration": 198,
    "start_time": "2023-03-20T13:43:35.354Z"
   },
   {
    "duration": 217,
    "start_time": "2023-03-20T13:43:35.554Z"
   },
   {
    "duration": 5,
    "start_time": "2023-03-20T13:43:35.773Z"
   },
   {
    "duration": 286,
    "start_time": "2023-03-20T13:43:35.781Z"
   },
   {
    "duration": 389,
    "start_time": "2023-03-20T13:43:36.070Z"
   },
   {
    "duration": 327,
    "start_time": "2023-03-20T13:43:36.470Z"
   },
   {
    "duration": 304,
    "start_time": "2023-03-20T13:43:36.798Z"
   },
   {
    "duration": 9,
    "start_time": "2023-03-20T13:43:37.105Z"
   },
   {
    "duration": 8,
    "start_time": "2023-03-20T13:43:37.116Z"
   },
   {
    "duration": 485,
    "start_time": "2023-03-20T13:43:37.126Z"
   },
   {
    "duration": 239,
    "start_time": "2023-03-20T13:43:37.613Z"
   },
   {
    "duration": 495,
    "start_time": "2023-03-20T13:43:37.854Z"
   },
   {
    "duration": 2,
    "start_time": "2023-03-20T13:43:38.351Z"
   },
   {
    "duration": 15,
    "start_time": "2023-03-20T13:43:38.355Z"
   },
   {
    "duration": 20,
    "start_time": "2023-03-20T13:43:38.372Z"
   },
   {
    "duration": 71,
    "start_time": "2023-03-20T13:43:38.393Z"
   },
   {
    "duration": 121,
    "start_time": "2023-03-20T13:43:38.469Z"
   },
   {
    "duration": 192,
    "start_time": "2023-03-20T13:43:38.593Z"
   },
   {
    "duration": 186,
    "start_time": "2023-03-20T13:43:38.788Z"
   },
   {
    "duration": 26,
    "start_time": "2023-03-20T13:43:38.976Z"
   },
   {
    "duration": 18,
    "start_time": "2023-03-20T13:43:39.005Z"
   },
   {
    "duration": 12,
    "start_time": "2023-03-20T14:14:46.962Z"
   },
   {
    "duration": 6,
    "start_time": "2023-03-20T14:15:49.654Z"
   },
   {
    "duration": 6,
    "start_time": "2023-03-20T14:15:53.515Z"
   },
   {
    "duration": 1553,
    "start_time": "2023-03-20T14:16:09.932Z"
   },
   {
    "duration": 1538,
    "start_time": "2023-03-20T14:16:33.290Z"
   },
   {
    "duration": 1538,
    "start_time": "2023-03-20T14:16:35.029Z"
   },
   {
    "duration": 1438,
    "start_time": "2023-03-20T14:20:04.099Z"
   },
   {
    "duration": 157,
    "start_time": "2023-03-20T14:20:05.540Z"
   },
   {
    "duration": 142,
    "start_time": "2023-03-20T14:20:05.699Z"
   },
   {
    "duration": 137,
    "start_time": "2023-03-20T14:20:05.843Z"
   },
   {
    "duration": 3,
    "start_time": "2023-03-20T14:20:05.982Z"
   },
   {
    "duration": 293,
    "start_time": "2023-03-20T14:20:05.987Z"
   },
   {
    "duration": 333,
    "start_time": "2023-03-20T14:20:06.282Z"
   },
   {
    "duration": 337,
    "start_time": "2023-03-20T14:20:06.617Z"
   },
   {
    "duration": 325,
    "start_time": "2023-03-20T14:20:06.955Z"
   },
   {
    "duration": 11,
    "start_time": "2023-03-20T14:20:07.283Z"
   },
   {
    "duration": 16,
    "start_time": "2023-03-20T14:20:07.296Z"
   },
   {
    "duration": 478,
    "start_time": "2023-03-20T14:20:07.314Z"
   },
   {
    "duration": 234,
    "start_time": "2023-03-20T14:20:07.794Z"
   },
   {
    "duration": 429,
    "start_time": "2023-03-20T14:20:08.030Z"
   },
   {
    "duration": 3,
    "start_time": "2023-03-20T14:20:08.464Z"
   },
   {
    "duration": 5,
    "start_time": "2023-03-20T14:20:08.469Z"
   },
   {
    "duration": 5,
    "start_time": "2023-03-20T14:20:08.476Z"
   },
   {
    "duration": 81,
    "start_time": "2023-03-20T14:20:08.483Z"
   },
   {
    "duration": 113,
    "start_time": "2023-03-20T14:20:08.570Z"
   },
   {
    "duration": 113,
    "start_time": "2023-03-20T14:20:08.765Z"
   },
   {
    "duration": 91,
    "start_time": "2023-03-20T14:20:08.881Z"
   },
   {
    "duration": 99,
    "start_time": "2023-03-20T14:20:08.974Z"
   },
   {
    "duration": 11,
    "start_time": "2023-03-20T14:20:09.074Z"
   },
   {
    "duration": 8,
    "start_time": "2023-03-20T14:20:09.087Z"
   },
   {
    "duration": 11,
    "start_time": "2023-03-20T14:20:09.097Z"
   },
   {
    "duration": 1478,
    "start_time": "2023-03-20T14:20:09.110Z"
   },
   {
    "duration": 1426,
    "start_time": "2023-03-20T14:20:10.589Z"
   },
   {
    "duration": 1452,
    "start_time": "2023-03-20T14:20:12.018Z"
   },
   {
    "duration": 1511,
    "start_time": "2023-03-20T16:03:55.966Z"
   },
   {
    "duration": 147,
    "start_time": "2023-03-20T16:03:57.479Z"
   },
   {
    "duration": 127,
    "start_time": "2023-03-20T16:03:57.628Z"
   },
   {
    "duration": 130,
    "start_time": "2023-03-20T16:03:57.757Z"
   },
   {
    "duration": 3,
    "start_time": "2023-03-20T16:03:57.889Z"
   },
   {
    "duration": 277,
    "start_time": "2023-03-20T16:03:57.894Z"
   },
   {
    "duration": 347,
    "start_time": "2023-03-20T16:03:58.192Z"
   },
   {
    "duration": 361,
    "start_time": "2023-03-20T16:03:58.541Z"
   },
   {
    "duration": 315,
    "start_time": "2023-03-20T16:03:58.904Z"
   },
   {
    "duration": 12,
    "start_time": "2023-03-20T16:03:59.223Z"
   },
   {
    "duration": 7,
    "start_time": "2023-03-20T16:03:59.238Z"
   },
   {
    "duration": 569,
    "start_time": "2023-03-20T16:03:59.247Z"
   },
   {
    "duration": 242,
    "start_time": "2023-03-20T16:03:59.818Z"
   },
   {
    "duration": 440,
    "start_time": "2023-03-20T16:04:00.062Z"
   },
   {
    "duration": 3,
    "start_time": "2023-03-20T16:04:00.504Z"
   },
   {
    "duration": 36,
    "start_time": "2023-03-20T16:04:00.509Z"
   },
   {
    "duration": 25,
    "start_time": "2023-03-20T16:04:00.548Z"
   },
   {
    "duration": 60,
    "start_time": "2023-03-20T16:04:00.575Z"
   },
   {
    "duration": 256,
    "start_time": "2023-03-20T16:04:00.637Z"
   },
   {
    "duration": 116,
    "start_time": "2023-03-20T16:04:00.895Z"
   },
   {
    "duration": 184,
    "start_time": "2023-03-20T16:04:01.016Z"
   },
   {
    "duration": 31,
    "start_time": "2023-03-20T16:04:01.202Z"
   },
   {
    "duration": 38,
    "start_time": "2023-03-20T16:04:01.235Z"
   },
   {
    "duration": 43,
    "start_time": "2023-03-20T16:04:01.275Z"
   },
   {
    "duration": 47,
    "start_time": "2023-03-20T16:04:01.320Z"
   },
   {
    "duration": 1531,
    "start_time": "2023-03-20T16:04:01.369Z"
   },
   {
    "duration": 1471,
    "start_time": "2023-03-20T16:04:02.902Z"
   },
   {
    "duration": 1538,
    "start_time": "2023-03-20T16:04:04.376Z"
   },
   {
    "duration": 4,
    "start_time": "2023-03-20T16:06:19.201Z"
   }
  ],
  "kernelspec": {
   "display_name": "Python 3 (ipykernel)",
   "language": "python",
   "name": "python3"
  },
  "language_info": {
   "codemirror_mode": {
    "name": "ipython",
    "version": 3
   },
   "file_extension": ".py",
   "mimetype": "text/x-python",
   "name": "python",
   "nbconvert_exporter": "python",
   "pygments_lexer": "ipython3",
   "version": "3.9.13"
  },
  "toc": {
   "base_numbering": 1,
   "nav_menu": {},
   "number_sections": true,
   "sideBar": true,
   "skip_h1_title": true,
   "title_cell": "Table of Contents",
   "title_sidebar": "Contents",
   "toc_cell": false,
   "toc_position": {},
   "toc_section_display": true,
   "toc_window_display": false
  }
 },
 "nbformat": 4,
 "nbformat_minor": 2
}
